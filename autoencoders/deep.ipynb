{
 "cells": [
  {
   "cell_type": "code",
   "execution_count": 1,
   "metadata": {},
   "outputs": [
    {
     "name": "stderr",
     "output_type": "stream",
     "text": [
      "Using TensorFlow backend.\n",
      "ERROR:root:Line magic function `%matploblib` not found.\n"
     ]
    }
   ],
   "source": [
    "from keras.layers import Input, Dense\n",
    "from keras.models import Model\n",
    "from keras.datasets import mnist\n",
    "import numpy as np\n",
    "import matplotlib.pyplot as plt\n",
    "\n",
    "%matploblib notebook"
   ]
  },
  {
   "cell_type": "code",
   "execution_count": 7,
   "metadata": {},
   "outputs": [],
   "source": [
    "encoding_dim = 32\n",
    "\n",
    "input_img = Input(shape=(784,))\n",
    "encoded = Dense(128, activation='relu')(input_img)\n",
    "encoded = Dense(64, activation='relu')(encoded)\n",
    "encoded = Dense(32, activation='relu')(encoded)\n",
    "\n",
    "decoded = Dense(64, activation='relu')(encoded)\n",
    "decoded = Dense(128, activation='relu')(decoded)\n",
    "decoded = Dense(784, activation='sigmoid')(decoded)\n",
    "\n",
    "autoencoder = Model(input_img, decoded)\n",
    "autoencoder.compile(optimizer='adadelta', loss='binary_crossentropy')"
   ]
  },
  {
   "cell_type": "code",
   "execution_count": 2,
   "metadata": {},
   "outputs": [
    {
     "name": "stdout",
     "output_type": "stream",
     "text": [
      "(60000, 784) (10000, 784)\n"
     ]
    }
   ],
   "source": [
    "# Preprocess the data\n",
    "\n",
    "(images_train, _), (images_test, _) = mnist.load_data()\n",
    "images_train = images_train.astype('float32') / 255\n",
    "x_train = images_train.reshape((len(images_train), np.prod(images_train.shape[1:])))\n",
    "\n",
    "images_test = images_test.astype('float32') / 255\n",
    "x_test = images_test.reshape((len(images_test), np.prod(images_test.shape[1:])))\n",
    "\n",
    "print(x_train.shape, x_test.shape)"
   ]
  },
  {
   "cell_type": "code",
   "execution_count": 8,
   "metadata": {},
   "outputs": [
    {
     "name": "stdout",
     "output_type": "stream",
     "text": [
      "Train on 60000 samples, validate on 10000 samples\n",
      "Epoch 1/50\n",
      "60000/60000 [==============================] - 8s - loss: 0.3494 - val_loss: 0.2629\n",
      "Epoch 2/50\n",
      "60000/60000 [==============================] - 8s - loss: 0.2571 - val_loss: 0.2500\n",
      "Epoch 3/50\n",
      "60000/60000 [==============================] - 7s - loss: 0.2419 - val_loss: 0.2348\n",
      "Epoch 4/50\n",
      "60000/60000 [==============================] - 8s - loss: 0.2256 - val_loss: 0.2138\n",
      "Epoch 5/50\n",
      "60000/60000 [==============================] - 8s - loss: 0.2079 - val_loss: 0.2020\n",
      "Epoch 6/50\n",
      "60000/60000 [==============================] - 8s - loss: 0.1996 - val_loss: 0.1954\n",
      "Epoch 7/50\n",
      "60000/60000 [==============================] - 7s - loss: 0.1928 - val_loss: 0.1867\n",
      "Epoch 8/50\n",
      "60000/60000 [==============================] - 7s - loss: 0.1853 - val_loss: 0.1820\n",
      "Epoch 9/50\n",
      "60000/60000 [==============================] - 7s - loss: 0.1799 - val_loss: 0.1758\n",
      "Epoch 10/50\n",
      "60000/60000 [==============================] - 8s - loss: 0.1734 - val_loss: 0.1675\n",
      "Epoch 11/50\n",
      "60000/60000 [==============================] - 8s - loss: 0.1671 - val_loss: 0.1619\n",
      "Epoch 12/50\n",
      "60000/60000 [==============================] - 7s - loss: 0.1622 - val_loss: 0.1584\n",
      "Epoch 13/50\n",
      "60000/60000 [==============================] - 6s - loss: 0.1582 - val_loss: 0.1550\n",
      "Epoch 14/50\n",
      "60000/60000 [==============================] - 5s - loss: 0.1546 - val_loss: 0.1519\n",
      "Epoch 15/50\n",
      "60000/60000 [==============================] - 5s - loss: 0.1514 - val_loss: 0.1478\n",
      "Epoch 16/50\n",
      "60000/60000 [==============================] - 5s - loss: 0.1488 - val_loss: 0.1458\n",
      "Epoch 17/50\n",
      "60000/60000 [==============================] - 5s - loss: 0.1464 - val_loss: 0.1445\n",
      "Epoch 18/50\n",
      "60000/60000 [==============================] - 5s - loss: 0.1443 - val_loss: 0.1413\n",
      "Epoch 19/50\n",
      "60000/60000 [==============================] - 5s - loss: 0.1421 - val_loss: 0.1394\n",
      "Epoch 20/50\n",
      "60000/60000 [==============================] - 5s - loss: 0.1400 - val_loss: 0.1373s\n",
      "Epoch 21/50\n",
      "60000/60000 [==============================] - 5s - loss: 0.1380 - val_loss: 0.1359\n",
      "Epoch 22/50\n",
      "60000/60000 [==============================] - 5s - loss: 0.1364 - val_loss: 0.1349\n",
      "Epoch 23/50\n",
      "60000/60000 [==============================] - 5s - loss: 0.1348 - val_loss: 0.1334\n",
      "Epoch 24/50\n",
      "60000/60000 [==============================] - 5s - loss: 0.1332 - val_loss: 0.1315\n",
      "Epoch 25/50\n",
      "60000/60000 [==============================] - 5s - loss: 0.1320 - val_loss: 0.1306\n",
      "Epoch 26/50\n",
      "60000/60000 [==============================] - 5s - loss: 0.1308 - val_loss: 0.1289\n",
      "Epoch 27/50\n",
      "60000/60000 [==============================] - 5s - loss: 0.1299 - val_loss: 0.1274\n",
      "Epoch 28/50\n",
      "60000/60000 [==============================] - 5s - loss: 0.1289 - val_loss: 0.1268\n",
      "Epoch 29/50\n",
      "60000/60000 [==============================] - 5s - loss: 0.1278 - val_loss: 0.1263\n",
      "Epoch 30/50\n",
      "60000/60000 [==============================] - 5s - loss: 0.1270 - val_loss: 0.1257\n",
      "Epoch 31/50\n",
      "60000/60000 [==============================] - 5s - loss: 0.1262 - val_loss: 0.1238\n",
      "Epoch 32/50\n",
      "60000/60000 [==============================] - 5s - loss: 0.1252 - val_loss: 0.1241\n",
      "Epoch 33/50\n",
      "60000/60000 [==============================] - 5s - loss: 0.1244 - val_loss: 0.1228\n",
      "Epoch 34/50\n",
      "60000/60000 [==============================] - 6s - loss: 0.1237 - val_loss: 0.1214\n",
      "Epoch 35/50\n",
      "60000/60000 [==============================] - 6s - loss: 0.1229 - val_loss: 0.1211\n",
      "Epoch 36/50\n",
      "60000/60000 [==============================] - 6s - loss: 0.1223 - val_loss: 0.1194\n",
      "Epoch 37/50\n",
      "60000/60000 [==============================] - 6s - loss: 0.1215 - val_loss: 0.1193\n",
      "Epoch 38/50\n",
      "60000/60000 [==============================] - 6s - loss: 0.1208 - val_loss: 0.1195\n",
      "Epoch 39/50\n",
      "60000/60000 [==============================] - 7s - loss: 0.1200 - val_loss: 0.1182\n",
      "Epoch 40/50\n",
      "60000/60000 [==============================] - 7s - loss: 0.1193 - val_loss: 0.1191\n",
      "Epoch 41/50\n",
      "60000/60000 [==============================] - 6s - loss: 0.1187 - val_loss: 0.1176\n",
      "Epoch 42/50\n",
      "60000/60000 [==============================] - 7s - loss: 0.1180 - val_loss: 0.1171\n",
      "Epoch 43/50\n",
      "60000/60000 [==============================] - 7s - loss: 0.1176 - val_loss: 0.1156\n",
      "Epoch 44/50\n",
      "60000/60000 [==============================] - 7s - loss: 0.1169 - val_loss: 0.1148\n",
      "Epoch 45/50\n",
      "60000/60000 [==============================] - 7s - loss: 0.1163 - val_loss: 0.1140\n",
      "Epoch 46/50\n",
      "60000/60000 [==============================] - 6s - loss: 0.1160 - val_loss: 0.1149\n",
      "Epoch 47/50\n",
      "60000/60000 [==============================] - 6s - loss: 0.1156 - val_loss: 0.1139\n",
      "Epoch 48/50\n",
      "60000/60000 [==============================] - 6s - loss: 0.1151 - val_loss: 0.1147\n",
      "Epoch 49/50\n",
      "60000/60000 [==============================] - 7s - loss: 0.1147 - val_loss: 0.1130\n",
      "Epoch 50/50\n",
      "60000/60000 [==============================] - 7s - loss: 0.1143 - val_loss: 0.1117\n"
     ]
    }
   ],
   "source": [
    "# Train the model\n",
    "autoencoder.fit(\n",
    "    x_train, x_train, \n",
    "    epochs=50, \n",
    "    batch_size=256, \n",
    "    shuffle=True, \n",
    "    validation_data=(x_test, x_test)\n",
    ")\n",
    "\n",
    "decoded_imgs = autoencoder.predict(x_test)"
   ]
  },
  {
   "cell_type": "code",
   "execution_count": 9,
   "metadata": {},
   "outputs": [
    {
     "data": {
      "image/png": "[encoded data removed]",
      "text/plain": [
       "<matplotlib.figure.Figure at 0x129ca1080>"
      ]
     },
     "metadata": {},
     "output_type": "display_data"
    }
   ],
   "source": [
    "# Visualize the model\n",
    "\n",
    "n = 10\n",
    "plt.figure(figsize=(20, 4))\n",
    "for i in range(n):\n",
    "    # display original\n",
    "    ax = plt.subplot(2, n, i+1)\n",
    "    plt.imshow(x_test[i].reshape(28, 28))\n",
    "    plt.gray()\n",
    "    ax.get_xaxis().set_visible(False)\n",
    "    ax.get_yaxis().set_visible(False)\n",
    "    \n",
    "    # display reconstruction\n",
    "    ax = plt.subplot(2, n, i+1+n)\n",
    "    plt.imshow(decoded_imgs[i].reshape(28, 28))\n",
    "    plt.gray()\n",
    "    ax.get_xaxis().set_visible(False)\n",
    "    ax.get_yaxis().set_visible(False)\n",
    "    \n",
    "plt.show()"
   ]
  },
  {
   "cell_type": "code",
   "execution_count": null,
   "metadata": {
    "collapsed": true,
    "jupyter": {
     "outputs_hidden": true
    }
   },
   "outputs": [],
   "source": []
  }
 ],
 "metadata": {
  "kernelspec": {
   "display_name": "Python 3",
   "language": "python",
   "name": "python3"
  },
  "language_info": {
   "codemirror_mode": {
    "name": "ipython",
    "version": 3
   },
   "file_extension": ".py",
   "mimetype": "text/x-python",
   "name": "python",
   "nbconvert_exporter": "python",
   "pygments_lexer": "ipython3",
   "version": "3.8.8"
  }
 },
 "nbformat": 4,
 "nbformat_minor": 4
}
