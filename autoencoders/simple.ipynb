{
 "cells": [
  {
   "cell_type": "code",
   "execution_count": 1,
   "metadata": {},
   "outputs": [
    {
     "name": "stderr",
     "output_type": "stream",
     "text": [
      "Using TensorFlow backend.\n",
      "ERROR:root:Line magic function `%matploblib` not found.\n"
     ]
    }
   ],
   "source": [
    "from keras.layers import Input, Dense\n",
    "from keras.models import Model\n",
    "from keras.datasets import mnist\n",
    "import numpy as np\n",
    "import matplotlib.pyplot as plt\n",
    "\n",
    "%matploblib notebook"
   ]
  },
  {
   "cell_type": "markdown",
   "metadata": {},
   "source": [
    "# Simplest possible autoencoder\n",
    "\n",
    "$$\n",
    "\\mathbf h = f(\\mathbf x) = relu(W_1 \\mathbf x + b)\n",
    "$$\n",
    "\n",
    "$$\n",
    "\\mathbf r = g(\\mathbf x) = \\sigma(W_2 \\mathbf h + b)\n",
    "$$\n",
    "\n",
    "$$\n",
    "J = L(\\mathbf x, \\mathbf r)\n",
    "$$"
   ]
  },
  {
   "cell_type": "code",
   "execution_count": 2,
   "metadata": {
    "collapsed": true
   },
   "outputs": [],
   "source": [
    "# Define the model\n",
    "\n",
    "encoding_dim = 32\n",
    "\n",
    "input_img = Input(shape=(784,))\n",
    "encoded = Dense(encoding_dim, activation='relu')(input_img)\n",
    "decoded = Dense(784, activation='sigmoid')(encoded)\n",
    "autoencoder = Model(input_img, decoded)\n",
    "\n",
    "encoder = Model(input_img, encoded)\n",
    "\n",
    "encoded_input = Input(shape=(encoding_dim,))\n",
    "decoder_layer = autoencoder.layers[-1]\n",
    "decoder = Model(encoded_input, decoder_layer(encoded_input))\n",
    "\n",
    "autoencoder.compile(optimizer='adadelta', loss='binary_crossentropy')"
   ]
  },
  {
   "cell_type": "code",
   "execution_count": 3,
   "metadata": {},
   "outputs": [
    {
     "name": "stdout",
     "output_type": "stream",
     "text": [
      "(60000, 784) (10000, 784)\n"
     ]
    }
   ],
   "source": [
    "# Preprocess the data\n",
    "\n",
    "(images_train, _), (images_test, _) = mnist.load_data()\n",
    "images_train = images_train.astype('float32') / 255\n",
    "x_train = images_train.reshape((len(images_train), np.prod(images_train.shape[1:])))\n",
    "\n",
    "images_test = images_test.astype('float32') / 255\n",
    "x_test = images_test.reshape((len(images_test), np.prod(images_test.shape[1:])))\n",
    "\n",
    "print(x_train.shape, x_test.shape)"
   ]
  },
  {
   "cell_type": "code",
   "execution_count": 4,
   "metadata": {},
   "outputs": [
    {
     "name": "stdout",
     "output_type": "stream",
     "text": [
      "Train on 60000 samples, validate on 10000 samples\n",
      "Epoch 1/50\n",
      "60000/60000 [==============================] - 2s - loss: 0.3731 - val_loss: 0.2728\n",
      "Epoch 2/50\n",
      "60000/60000 [==============================] - 1s - loss: 0.2662 - val_loss: 0.2567\n",
      "Epoch 3/50\n",
      "60000/60000 [==============================] - 1s - loss: 0.2474 - val_loss: 0.2361\n",
      "Epoch 4/50\n",
      "60000/60000 [==============================] - 1s - loss: 0.2276 - val_loss: 0.2170\n",
      "Epoch 5/50\n",
      "60000/60000 [==============================] - 1s - loss: 0.2106 - val_loss: 0.2022\n",
      "Epoch 6/50\n",
      "60000/60000 [==============================] - 1s - loss: 0.1980 - val_loss: 0.1914\n",
      "Epoch 7/50\n",
      "60000/60000 [==============================] - 1s - loss: 0.1884 - val_loss: 0.1829\n",
      "Epoch 8/50\n",
      "60000/60000 [==============================] - 1s - loss: 0.1807 - val_loss: 0.1759\n",
      "Epoch 9/50\n",
      "60000/60000 [==============================] - 1s - loss: 0.1743 - val_loss: 0.1700\n",
      "Epoch 10/50\n",
      "60000/60000 [==============================] - 1s - loss: 0.1689 - val_loss: 0.1650\n",
      "Epoch 11/50\n",
      "60000/60000 [==============================] - 1s - loss: 0.1641 - val_loss: 0.1606\n",
      "Epoch 12/50\n",
      "60000/60000 [==============================] - 1s - loss: 0.1599 - val_loss: 0.1565\n",
      "Epoch 13/50\n",
      "60000/60000 [==============================] - 1s - loss: 0.1559 - val_loss: 0.1527\n",
      "Epoch 14/50\n",
      "60000/60000 [==============================] - 1s - loss: 0.1523 - val_loss: 0.1493\n",
      "Epoch 15/50\n",
      "60000/60000 [==============================] - 1s - loss: 0.1490 - val_loss: 0.1460\n",
      "Epoch 16/50\n",
      "60000/60000 [==============================] - 1s - loss: 0.1460 - val_loss: 0.1432\n",
      "Epoch 17/50\n",
      "60000/60000 [==============================] - 1s - loss: 0.1432 - val_loss: 0.1404\n",
      "Epoch 18/50\n",
      "60000/60000 [==============================] - 1s - loss: 0.1406 - val_loss: 0.1379\n",
      "Epoch 19/50\n",
      "60000/60000 [==============================] - 1s - loss: 0.1382 - val_loss: 0.1356\n",
      "Epoch 20/50\n",
      "60000/60000 [==============================] - 1s - loss: 0.1359 - val_loss: 0.1334\n",
      "Epoch 21/50\n",
      "60000/60000 [==============================] - 1s - loss: 0.1338 - val_loss: 0.1314\n",
      "Epoch 22/50\n",
      "60000/60000 [==============================] - 1s - loss: 0.1318 - val_loss: 0.1293\n",
      "Epoch 23/50\n",
      "60000/60000 [==============================] - 1s - loss: 0.1298 - val_loss: 0.1274\n",
      "Epoch 24/50\n",
      "60000/60000 [==============================] - 1s - loss: 0.1280 - val_loss: 0.1256\n",
      "Epoch 25/50\n",
      "60000/60000 [==============================] - 1s - loss: 0.1262 - val_loss: 0.1238\n",
      "Epoch 26/50\n",
      "60000/60000 [==============================] - 1s - loss: 0.1245 - val_loss: 0.1221\n",
      "Epoch 27/50\n",
      "60000/60000 [==============================] - 1s - loss: 0.1228 - val_loss: 0.1205\n",
      "Epoch 28/50\n",
      "60000/60000 [==============================] - 1s - loss: 0.1213 - val_loss: 0.1191\n",
      "Epoch 29/50\n",
      "60000/60000 [==============================] - 1s - loss: 0.1198 - val_loss: 0.1175\n",
      "Epoch 30/50\n",
      "60000/60000 [==============================] - 1s - loss: 0.1184 - val_loss: 0.1162\n",
      "Epoch 31/50\n",
      "60000/60000 [==============================] - 1s - loss: 0.1171 - val_loss: 0.1149\n",
      "Epoch 32/50\n",
      "60000/60000 [==============================] - 1s - loss: 0.1158 - val_loss: 0.1136\n",
      "Epoch 33/50\n",
      "60000/60000 [==============================] - 1s - loss: 0.1146 - val_loss: 0.1125\n",
      "Epoch 34/50\n",
      "60000/60000 [==============================] - 1s - loss: 0.1135 - val_loss: 0.1114\n",
      "Epoch 35/50\n",
      "60000/60000 [==============================] - 1s - loss: 0.1125 - val_loss: 0.1104\n",
      "Epoch 36/50\n",
      "60000/60000 [==============================] - 1s - loss: 0.1115 - val_loss: 0.1094\n",
      "Epoch 37/50\n",
      "60000/60000 [==============================] - 1s - loss: 0.1106 - val_loss: 0.1085\n",
      "Epoch 38/50\n",
      "60000/60000 [==============================] - 1s - loss: 0.1097 - val_loss: 0.1077\n",
      "Epoch 39/50\n",
      "60000/60000 [==============================] - 1s - loss: 0.1089 - val_loss: 0.1069\n",
      "Epoch 40/50\n",
      "60000/60000 [==============================] - 1s - loss: 0.1081 - val_loss: 0.1062\n",
      "Epoch 41/50\n",
      "60000/60000 [==============================] - 1s - loss: 0.1074 - val_loss: 0.1055\n",
      "Epoch 42/50\n",
      "60000/60000 [==============================] - 1s - loss: 0.1068 - val_loss: 0.1048\n",
      "Epoch 43/50\n",
      "60000/60000 [==============================] - 1s - loss: 0.1061 - val_loss: 0.1042\n",
      "Epoch 44/50\n",
      "60000/60000 [==============================] - 1s - loss: 0.1056 - val_loss: 0.1036\n",
      "Epoch 45/50\n",
      "60000/60000 [==============================] - 1s - loss: 0.1050 - val_loss: 0.1031\n",
      "Epoch 46/50\n",
      "60000/60000 [==============================] - 1s - loss: 0.1045 - val_loss: 0.1026\n",
      "Epoch 47/50\n",
      "60000/60000 [==============================] - 1s - loss: 0.1040 - val_loss: 0.1021\n",
      "Epoch 48/50\n",
      "60000/60000 [==============================] - 1s - loss: 0.1035 - val_loss: 0.1017\n",
      "Epoch 49/50\n",
      "60000/60000 [==============================] - 1s - loss: 0.1031 - val_loss: 0.1013\n",
      "Epoch 50/50\n",
      "60000/60000 [==============================] - 1s - loss: 0.1027 - val_loss: 0.1009\n"
     ]
    }
   ],
   "source": [
    "# Train the model\n",
    "autoencoder.fit(\n",
    "    x_train, x_train, \n",
    "    epochs=50, \n",
    "    batch_size=256, \n",
    "    shuffle=True, \n",
    "    validation_data=(x_test, x_test)\n",
    ")\n",
    "\n",
    "encoded_imgs = encoder.predict(x_test)\n",
    "decoded_imgs = decoder.predict(encoded_imgs)"
   ]
  },
  {
   "cell_type": "code",
   "execution_count": 5,
   "metadata": {},
   "outputs": [
    {
     "data": {
      "image/png": "[encoded data removed]",
      "text/plain": [
       "<matplotlib.figure.Figure at 0x11f91d0b8>"
      ]
     },
     "metadata": {},
     "output_type": "display_data"
    }
   ],
   "source": [
    "# Visualize the model\n",
    "\n",
    "n = 10\n",
    "plt.figure(figsize=(20, 4))\n",
    "for i in range(n):\n",
    "    # display original\n",
    "    ax = plt.subplot(2, n, i+1)\n",
    "    plt.imshow(x_test[i].reshape(28, 28))\n",
    "    plt.gray()\n",
    "    ax.get_xaxis().set_visible(False)\n",
    "    ax.get_yaxis().set_visible(False)\n",
    "    \n",
    "    # display reconstruction\n",
    "    ax = plt.subplot(2, n, i+1+n)\n",
    "    plt.imshow(decoded_imgs[i].reshape(28, 28))\n",
    "    plt.gray()\n",
    "    ax.get_xaxis().set_visible(False)\n",
    "    ax.get_yaxis().set_visible(False)\n",
    "    \n",
    "plt.show()"
   ]
  },
  {
   "cell_type": "code",
   "execution_count": null,
   "metadata": {
    "collapsed": true
   },
   "outputs": [],
   "source": []
  }
 ],
 "metadata": {
  "kernelspec": {
   "display_name": "Python 3",
   "language": "python",
   "name": "python3"
  },
  "language_info": {
   "codemirror_mode": {
    "name": "ipython",
    "version": 3
   },
   "file_extension": ".py",
   "mimetype": "text/x-python",
   "name": "python",
   "nbconvert_exporter": "python",
   "pygments_lexer": "ipython3",
   "version": "3.6.1"
  }
 },
 "nbformat": 4,
 "nbformat_minor": 2
}
