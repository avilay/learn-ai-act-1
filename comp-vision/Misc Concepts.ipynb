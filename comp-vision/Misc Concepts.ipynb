{
 "cells": [
  {
   "cell_type": "code",
   "execution_count": 3,
   "metadata": {
    "collapsed": true
   },
   "outputs": [],
   "source": [
    "import numpy as np\n",
    "import matplotlib.pyplot as plt\n",
    "import pickle\n",
    "\n",
    "%matplotlib inline"
   ]
  },
  {
   "cell_type": "markdown",
   "metadata": {},
   "source": [
    "## General Batching Logic"
   ]
  },
  {
   "cell_type": "code",
   "execution_count": 4,
   "metadata": {},
   "outputs": [
    {
     "name": "stdout",
     "output_type": "stream",
     "text": [
      "[ 1  2  3  4  5  6  7  8  9 10 11 12 13 14 15 16 17 18 19 20 21 22 23 24 25\n",
      " 26 27 28 29 30 31 32 33 34 35 36 37 38 39 40 41 42 43 44 45 46 47 48 49 50\n",
      " 51 52 53 54 55 56 57 58 59 60 61 62 63 64 65 66 67 68 69 70 71 72 73 74 75\n",
      " 76 77 78 79 80 81 82 83 84 85]\n"
     ]
    }
   ],
   "source": [
    "data = np.arange(1,86)\n",
    "print(data)"
   ]
  },
  {
   "cell_type": "code",
   "execution_count": 7,
   "metadata": {},
   "outputs": [
    {
     "name": "stdout",
     "output_type": "stream",
     "text": [
      "batch_size=10 num_batches=8 num_usable_samples=80\n",
      "[array([ 1,  2,  3,  4,  5,  6,  7,  8,  9, 10]), array([11, 12, 13, 14, 15, 16, 17, 18, 19, 20]), array([21, 22, 23, 24, 25, 26, 27, 28, 29, 30]), array([31, 32, 33, 34, 35, 36, 37, 38, 39, 40]), array([41, 42, 43, 44, 45, 46, 47, 48, 49, 50]), array([51, 52, 53, 54, 55, 56, 57, 58, 59, 60]), array([61, 62, 63, 64, 65, 66, 67, 68, 69, 70]), array([71, 72, 73, 74, 75, 76, 77, 78, 79, 80])]\n"
     ]
    }
   ],
   "source": [
    "batch_size = 10\n",
    "num_batches = len(data) // batch_size\n",
    "num_usable_samples = num_batches * batch_size\n",
    "data = data[:num_usable_samples]\n",
    "print('batch_size={} num_batches={} num_usable_samples={}'.format(\n",
    "    batch_size, num_batches, num_usable_samples))\n",
    "batches = []\n",
    "for i in range(0, len(data), batch_size):\n",
    "    batches.append(data[i:i+batch_size])\n",
    "print(batches)"
   ]
  },
  {
   "cell_type": "markdown",
   "metadata": {
    "collapsed": true
   },
   "source": [
    "## Windowing"
   ]
  },
  {
   "cell_type": "markdown",
   "metadata": {},
   "source": [
    "### Number of windows\n",
    "\n",
    "Consider a simple example - I have a total of $c$ cells and my windows size is $w$ cells. But I always step $1$ cell at a time, i.e., my stride length is $1$. Then the total number of windows is given by -\n",
    "$$\n",
    "    c - w + 1\n",
    "$$\n",
    "\n",
    "Concretely, lets say I have 9 cells -\n",
    "1    2    3    4    5    6    7    8    9\n",
    "\n",
    "And my window size is 3.\n",
    "\n",
    "Then when I am stepping through -\n",
    "\n",
    "    [1] x    x    x    4    5    6    7    8    9\n",
    "    [2] 1    x    x    x    5    6    7    8    9\n",
    "    [3] 1    2    x    x    x    6    7    8    9\n",
    "    [4] 1    2    3    x    x    x    7    8    9\n",
    "    [5] 1    2    3    4    x    x    x    8    9\n",
    "    [6] 1    2    3    4    5    x    x    x    9\n",
    "    [7] 1    2    3    4    5    6    x    x    x\n",
    "\n",
    "I end up with 7 windows. This is also given by $9 - 3 + 1$\n",
    "\n",
    "Now lets consider a slightly more general case where my stride length is not $1$ but $s$ cells. Lets further assume that my window size and total number of cells are both multiples of my stride length. In this case, I can consider my unit of movement to be stride length in size. So if I convert the total number cells and window size in units of strides, I go back to the original simple case. Now my total number of cells are $\\frac cs$ and window size is $\\frac ws$ and the number of windows is given by -\n",
    "\n",
    "$$\n",
    "    \\frac cs - \\frac ws + 1\n",
    "$$\n",
    "\n",
    "\n",
    "In the most general case where the total number of cells and window size are not multiples of stride length, the total number of windows is given by -\n",
    "$$\n",
    "    \\frac {c - w} s + 1\n",
    "$$"
   ]
  },
  {
   "cell_type": "markdown",
   "metadata": {},
   "source": [
    "### Index conversion\n",
    "\n",
    "Given a window index $w$ and stride length of $s$ cells, what are the indexes of cells I am on?\n",
    "\n",
    "$$\n",
    "    inc\\_start = ws\n",
    "$$\n",
    "\n",
    "$$\n",
    "    exc\\_end = ws + w\n",
    "$$"
   ]
  },
  {
   "cell_type": "code",
   "execution_count": null,
   "metadata": {
    "collapsed": true
   },
   "outputs": [],
   "source": []
  }
 ],
 "metadata": {
  "kernelspec": {
   "display_name": "Python 3",
   "language": "python",
   "name": "python3"
  },
  "language_info": {
   "codemirror_mode": {
    "name": "ipython",
    "version": 3
   },
   "file_extension": ".py",
   "mimetype": "text/x-python",
   "name": "python",
   "nbconvert_exporter": "python",
   "pygments_lexer": "ipython3",
   "version": "3.7.0"
  }
 },
 "nbformat": 4,
 "nbformat_minor": 2
}
