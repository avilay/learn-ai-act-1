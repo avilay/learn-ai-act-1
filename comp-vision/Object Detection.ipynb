{
 "cells": [
  {
   "cell_type": "code",
   "execution_count": 17,
   "metadata": {},
   "outputs": [],
   "source": [
    "import tensorflow as tf\n",
    "from keras.models import Sequential\n",
    "from keras.layers import Dense, Flatten, Conv2D, Conv2DTranspose, Dropout, MaxPooling2D\n",
    "import numpy as np\n",
    "import matplotlib.pyplot as plt\n",
    "%matplotlib inline"
   ]
  },
  {
   "cell_type": "code",
   "execution_count": 12,
   "metadata": {
    "collapsed": true
   },
   "outputs": [],
   "source": [
    "x = tf.constant(np.random.randn(1, 4, 4, 3), dtype=tf.float32)"
   ]
  },
  {
   "cell_type": "code",
   "execution_count": 18,
   "metadata": {},
   "outputs": [
    {
     "data": {
      "text/plain": [
       "3"
      ]
     },
     "execution_count": 18,
     "metadata": {},
     "output_type": "execute_result"
    }
   ],
   "source": [
    "x.get_shape()[-1].value"
   ]
  },
  {
   "cell_type": "code",
   "execution_count": 19,
   "metadata": {},
   "outputs": [
    {
     "name": "stdout",
     "output_type": "stream",
     "text": [
      "[[[[  1.14981806e+00  -2.19824328e-02   3.97108774e-01]\n",
      "   [  1.27421815e+00   6.34475191e-01  -8.02279874e-01]\n",
      "   [ -1.31089397e-01   2.48484930e+00  -6.78339869e-01]\n",
      "   [  6.62854319e-01   8.56493861e-02  -1.26529107e+00]]\n",
      "\n",
      "  [[  2.11161852e+00   3.53423518e-01  -7.67460832e-02]\n",
      "   [ -1.15149879e+00  -2.40633694e-01  -9.90615589e-02]\n",
      "   [  5.51770036e-01  -2.97090646e+00  -2.21209628e+00]\n",
      "   [  9.97650869e-01  -7.95516710e-01   1.82499145e-01]]\n",
      "\n",
      "  [[  7.09332684e-01   2.88830274e-03  -1.76811228e+00]\n",
      "   [  1.81592118e+00  -7.79387021e-01   9.96518161e-02]\n",
      "   [ -1.87905749e-01  -3.32748180e-01   4.58628818e-01]\n",
      "   [  4.56961271e-01   4.78668154e-01  -6.60124051e-01]]\n",
      "\n",
      "  [[  1.72127700e+00  -3.56558830e-02  -4.52425305e-01]\n",
      "   [  2.17284906e-01   1.42970483e+00   1.65604466e+00]\n",
      "   [ -1.43014371e+00   2.25946547e-01  -7.24288022e-01]\n",
      "   [  2.89172230e-01  -9.22578043e-01   3.85409664e-02]]]]\n",
      "(1, 4, 4, 3)\n"
     ]
    }
   ],
   "source": [
    "x = np.random.standard_normal((1, 4, 4, 3))\n",
    "print(x)\n",
    "print(x.shape)"
   ]
  },
  {
   "cell_type": "code",
   "execution_count": 25,
   "metadata": {},
   "outputs": [
    {
     "name": "stdout",
     "output_type": "stream",
     "text": [
      "_________________________________________________________________\n",
      "Layer (type)                 Output Shape              Param #   \n",
      "=================================================================\n",
      "conv2d_transpose_5 (Conv2DTr (None, 8, 8, 3)           12        \n",
      "=================================================================\n",
      "Total params: 12\n",
      "Trainable params: 12\n",
      "Non-trainable params: 0\n",
      "_________________________________________________________________\n"
     ]
    }
   ],
   "source": [
    "model = Sequential()\n",
    "model.add(Conv2DTranspose(filters=3, kernel_size=1, strides=2, input_shape=(4, 4, 3)))\n",
    "model.summary()"
   ]
  },
  {
   "cell_type": "code",
   "execution_count": null,
   "metadata": {
    "collapsed": true
   },
   "outputs": [],
   "source": []
  },
  {
   "cell_type": "code",
   "execution_count": null,
   "metadata": {
    "collapsed": true
   },
   "outputs": [],
   "source": []
  },
  {
   "cell_type": "code",
   "execution_count": null,
   "metadata": {
    "collapsed": true
   },
   "outputs": [],
   "source": []
  }
 ],
 "metadata": {
  "kernelspec": {
   "display_name": "Python 3",
   "language": "python",
   "name": "python3"
  },
  "language_info": {
   "codemirror_mode": {
    "name": "ipython",
    "version": 3
   },
   "file_extension": ".py",
   "mimetype": "text/x-python",
   "name": "python",
   "nbconvert_exporter": "python",
   "pygments_lexer": "ipython3",
   "version": "3.6.1"
  }
 },
 "nbformat": 4,
 "nbformat_minor": 2
}
