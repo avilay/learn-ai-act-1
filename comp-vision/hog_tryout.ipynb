{
 "cells": [
  {
   "cell_type": "code",
   "execution_count": 1,
   "metadata": {
    "collapsed": true
   },
   "outputs": [],
   "source": [
    "from skimage.feature import hog\n",
    "from scipy.misc import imread\n",
    "import numpy as np\n",
    "import cv2\n",
    "import matplotlib.pyplot as plt\n",
    "%matplotlib inline"
   ]
  },
  {
   "cell_type": "code",
   "execution_count": 2,
   "metadata": {
    "collapsed": true
   },
   "outputs": [],
   "source": [
    "# from collections import namedtuple\n",
    "# Point = namedtuple('Point', ['x', 'y'])\n",
    "# Box = namedtuple('Box', ['top_left', 'bottom_right'])"
   ]
  },
  {
   "cell_type": "code",
   "execution_count": 3,
   "metadata": {
    "collapsed": true
   },
   "outputs": [],
   "source": [
    "# def win2blk(i):\n",
    "#     return list(range(i, i+cells_per_win-1))\n",
    "\n",
    "# def win2box(i, j):\n",
    "#     top_left_x = j * pxls_per_cell\n",
    "#     top_left_y = i * pxls_per_cell\n",
    "#     bottom_right_x = top_left_x + (cells_per_win*pxls_per_cell)\n",
    "#     bottom_right_y = top_left_y + (cells_per_win*pxls_per_cell)\n",
    "#     return Box(top_left=Point(x=top_left_x, y=top_left_y),\n",
    "#               bottom_right=Point(x=bottom_right_x, y=bottom_right_y))"
   ]
  },
  {
   "cell_type": "code",
   "execution_count": 4,
   "metadata": {},
   "outputs": [],
   "source": [
    "# img = np.random.normal(loc=128, scale=24, size=(96, 96))\n",
    "# plt.imshow(img, cmap='gray')\n",
    "img = imread('/data/vehicle-tracking/test_images/test6.jpg')\n",
    "img = img.astype(np.float32) / 255\n",
    "img = img[:, :, 0]"
   ]
  },
  {
   "cell_type": "code",
   "execution_count": 5,
   "metadata": {
    "collapsed": true
   },
   "outputs": [],
   "source": [
    "ymax, xmax = img.shape\n",
    "pxls_per_cell = 8\n",
    "cells_per_blk = 2\n",
    "win = 64  # pixels\n",
    "stride = 16  # pixels"
   ]
  },
  {
   "cell_type": "code",
   "execution_count": 6,
   "metadata": {},
   "outputs": [
    {
     "name": "stdout",
     "output_type": "stream",
     "text": [
      "159 89\n"
     ]
    }
   ],
   "source": [
    "tot_cells_x = xmax // pxls_per_cell\n",
    "nx_blks = tot_cells_x - cells_per_blk + 1\n",
    "\n",
    "tot_cells_y = ymax // pxls_per_cell\n",
    "ny_blks = tot_cells_y - cells_per_blk + 1\n",
    "\n",
    "print(nx_blks, ny_blks)"
   ]
  },
  {
   "cell_type": "code",
   "execution_count": 7,
   "metadata": {},
   "outputs": [
    {
     "name": "stdout",
     "output_type": "stream",
     "text": [
      "7\n"
     ]
    }
   ],
   "source": [
    "cells_per_win = win // pxls_per_cell\n",
    "blks_per_win = cells_per_win - cells_per_blk + 1\n",
    "print(blks_per_win)"
   ]
  },
  {
   "cell_type": "code",
   "execution_count": 8,
   "metadata": {},
   "outputs": [
    {
     "name": "stdout",
     "output_type": "stream",
     "text": [
      "77\n"
     ]
    }
   ],
   "source": [
    "nx_wins = ((xmax - win) // stride) + 1\n",
    "print(nx_wins)"
   ]
  },
  {
   "cell_type": "code",
   "execution_count": 9,
   "metadata": {
    "collapsed": true
   },
   "outputs": [],
   "source": [
    "def win2blk(i):\n",
    "    start = i * (stride // pxls_per_cell)\n",
    "    end = start + blks_per_win\n",
    "    return start, end\n",
    "\n",
    "\n",
    "def win2pxl(i):\n",
    "    start = i * stride\n",
    "    end = start + win\n",
    "    return start, end"
   ]
  },
  {
   "cell_type": "code",
   "execution_count": 10,
   "metadata": {},
   "outputs": [
    {
     "name": "stderr",
     "output_type": "stream",
     "text": [
      "/home/avilay/anaconda3/envs/dl/lib/python3.6/site-packages/skimage/feature/_hog.py:119: skimage_deprecation: Default value of `block_norm`==`L1` is deprecated and will be changed to `L2-Hys` in v0.15\n",
      "  'be changed to `L2-Hys` in v0.15', skimage_deprecation)\n"
     ]
    },
    {
     "name": "stdout",
     "output_type": "stream",
     "text": [
      "(89, 159, 2, 2, 9)\n"
     ]
    }
   ],
   "source": [
    "blocks = hog(\n",
    "    img,\n",
    "    orientations=9,\n",
    "    pixels_per_cell=(pxls_per_cell, pxls_per_cell),\n",
    "    cells_per_block=(cells_per_blk, cells_per_blk),\n",
    "    transform_sqrt=False,\n",
    "    feature_vector=False\n",
    ")\n",
    "print(blocks.shape)"
   ]
  },
  {
   "cell_type": "code",
   "execution_count": 11,
   "metadata": {},
   "outputs": [
    {
     "name": "stdout",
     "output_type": "stream",
     "text": [
      "(10, 17) (10, 17)\n",
      "(80, 144) (80, 144)\n"
     ]
    }
   ],
   "source": [
    "# Consider window(5, 5)\n",
    "x_ndx, y_ndx = 5, 5\n",
    "\n",
    "x_blk = win2blk(x_ndx)\n",
    "y_blk = win2blk(y_ndx)\n",
    "print(x_blk, y_blk)\n",
    "\n",
    "x = win2pxl(x_ndx)\n",
    "y = win2pxl(y_ndx)\n",
    "print(x, y)"
   ]
  },
  {
   "cell_type": "code",
   "execution_count": 12,
   "metadata": {
    "collapsed": true
   },
   "outputs": [],
   "source": [
    "f1 = blocks[10:17, 10:17].ravel()"
   ]
  },
  {
   "cell_type": "code",
   "execution_count": 13,
   "metadata": {},
   "outputs": [
    {
     "name": "stdout",
     "output_type": "stream",
     "text": [
      "(64, 64)\n"
     ]
    },
    {
     "name": "stderr",
     "output_type": "stream",
     "text": [
      "/home/avilay/anaconda3/envs/dl/lib/python3.6/site-packages/skimage/feature/_hog.py:119: skimage_deprecation: Default value of `block_norm`==`L1` is deprecated and will be changed to `L2-Hys` in v0.15\n",
      "  'be changed to `L2-Hys` in v0.15', skimage_deprecation)\n"
     ]
    }
   ],
   "source": [
    "win_img = img[80:144, 80:144]\n",
    "print(win_img.shape)\n",
    "f2 = hog(\n",
    "    win_img,\n",
    "    orientations=9,\n",
    "    pixels_per_cell=(pxls_per_cell, pxls_per_cell),\n",
    "    cells_per_block=(cells_per_blk, cells_per_blk),\n",
    "    transform_sqrt=False,\n",
    "    feature_vector=True\n",
    ")"
   ]
  },
  {
   "cell_type": "code",
   "execution_count": 14,
   "metadata": {},
   "outputs": [
    {
     "name": "stdout",
     "output_type": "stream",
     "text": [
      "(1764,) (1764,)\n"
     ]
    }
   ],
   "source": [
    "print(f1.shape, f2.shape)"
   ]
  },
  {
   "cell_type": "code",
   "execution_count": 15,
   "metadata": {},
   "outputs": [
    {
     "data": {
      "text/plain": [
       "836"
      ]
     },
     "execution_count": 15,
     "metadata": {},
     "output_type": "execute_result"
    }
   ],
   "source": [
    "np.sum(np.logical_not(np.isclose(f1, f2, 1e-3)))"
   ]
  },
  {
   "cell_type": "code",
   "execution_count": 16,
   "metadata": {},
   "outputs": [
    {
     "data": {
      "text/plain": [
       "array([ 0.00877308,  0.00177146,  0.        ,  0.        ,  0.0079222 ,\n",
       "        0.00118097,  0.00485493,  0.00118097,  0.        ,  0.06844871])"
      ]
     },
     "execution_count": 16,
     "metadata": {},
     "output_type": "execute_result"
    }
   ],
   "source": [
    "f1[:10]"
   ]
  },
  {
   "cell_type": "code",
   "execution_count": 17,
   "metadata": {},
   "outputs": [
    {
     "data": {
      "text/plain": [
       "array([ 0.00823423,  0.00176916,  0.        ,  0.        ,  0.00923057,\n",
       "        0.        ,  0.00335674,  0.        ,  0.        ,  0.06835788])"
      ]
     },
     "execution_count": 17,
     "metadata": {},
     "output_type": "execute_result"
    }
   ],
   "source": [
    "f2[:10]"
   ]
  },
  {
   "cell_type": "code",
   "execution_count": null,
   "metadata": {
    "collapsed": true
   },
   "outputs": [],
   "source": []
  }
 ],
 "metadata": {
  "kernelspec": {
   "display_name": "Python 3",
   "language": "python",
   "name": "python3"
  },
  "language_info": {
   "codemirror_mode": {
    "name": "ipython",
    "version": 3
   },
   "file_extension": ".py",
   "mimetype": "text/x-python",
   "name": "python",
   "nbconvert_exporter": "python",
   "pygments_lexer": "ipython3",
   "version": "3.6.1"
  }
 },
 "nbformat": 4,
 "nbformat_minor": 2
}
