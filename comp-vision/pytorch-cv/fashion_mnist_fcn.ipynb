{
 "cells": [
  {
   "cell_type": "code",
   "execution_count": 39,
   "metadata": {},
   "outputs": [],
   "source": [
    "import torch\n",
    "from torch import nn, optim\n",
    "import torch.nn.functional as F\n",
    "import time\n",
    "from torchvision import datasets, transforms\n",
    "import numpy as np\n",
    "import plotter as pltr\n",
    "from copy import copy\n",
    "import random\n",
    "from collections import OrderedDict\n",
    "pltr.set_backend(pltr.MatplotlibBackend)"
   ]
  },
  {
   "cell_type": "code",
   "execution_count": 4,
   "metadata": {},
   "outputs": [],
   "source": [
    "xform = transforms.Compose([\n",
    "    transforms.ToTensor(),\n",
    "    transforms.Normalize((0.5,), (0.5,))\n",
    "])"
   ]
  },
  {
   "cell_type": "code",
   "execution_count": 10,
   "metadata": {},
   "outputs": [],
   "source": [
    "trainset = datasets.FashionMNIST('/data/pytorch/fashion_mnist/', download=True, train=True, transform=xform)\n",
    "trainloader = torch.utils.data.DataLoader(trainset, batch_size=64, shuffle=True)\n",
    "\n",
    "testset = datasets.FashionMNIST('/data/pytorch/fashion_mnist/', download=True, train=False, transform=xform)\n",
    "testloader = torch.utils.data.DataLoader(testset, batch_size=64, shuffle=True)"
   ]
  },
  {
   "cell_type": "code",
   "execution_count": 14,
   "metadata": {},
   "outputs": [],
   "source": [
    "# Utility function to plot images\n",
    "white = pltr.Color(red=255, green=255, blue=255)\n",
    "big_white_font = pltr.Font(color=white, size=14)\n",
    "    \n",
    "def rehydrate(img):\n",
    "    img = copy(img.numpy())\n",
    "    img = img.squeeze()  # Get rid of the single channel dim\n",
    "    img = (img * 0.5) + 0.5  # Denormalize\n",
    "    img = 255 * img  # Re-scale to 0-255\n",
    "    return img\n",
    "    \n",
    "def show_imgs(imgs, titles):\n",
    "    frame = pltr.Frame()\n",
    "    frame.layout(1, len(imgs))  # Show all the images in a single row\n",
    "    for img, title in zip(imgs, titles):\n",
    "        chart = frame.create_chart()\n",
    "        chart.title = title\n",
    "        chart.title_font = big_white_font\n",
    "        chart.show_axes = False\n",
    "        imgplot = pltr.GrayscaleImage(img)\n",
    "        chart.add(imgplot)\n",
    "    frame.show()\n",
    "    \n",
    "def show_classification(img, label, probs):\n",
    "    frame = pltr.Frame()\n",
    "    frame.layout(1, 2)\n",
    "    \n",
    "    # Image chart\n",
    "    chart = frame.create_chart()\n",
    "    chart.title = label\n",
    "    chart.title_font = big_white_font\n",
    "    chart.show_axes = False\n",
    "    imgplot = pltr.GrayscaleImage(img)\n",
    "    chart.add(imgplot)\n",
    "    \n",
    "    # Probs plot\n",
    "    chart = frame.create_chart()\n",
    "    chart.title = 'Class Probabilities'\n",
    "    chart.title_font = big_white_font\n",
    "    chart.x_axis.limits = (0, 1)\n",
    "    chart.x_axis.font = pltr.Font(color=white)\n",
    "    chart.y_axis.font = pltr.Font(color=white)\n",
    "    cats = [str(v) for v in range(len(probs))]\n",
    "    probsplot = pltr.HorizontalBar(categories=cats, values=probs)\n",
    "    chart.add(probsplot)\n",
    "    \n",
    "    frame.show()"
   ]
  },
  {
   "cell_type": "code",
   "execution_count": 18,
   "metadata": {},
   "outputs": [
    {
     "data": {
      "image/png": "[encoded data removed]",
      "text/plain": [
       "<Figure size 360x360 with 1 Axes>"
      ]
     },
     "metadata": {},
     "output_type": "display_data"
    }
   ],
   "source": [
    "images, labels = next(iter(trainloader))\n",
    "img = rehydrate(images[0])\n",
    "lbl = labels[0].item()\n",
    "show_imgs([img], [lbl])"
   ]
  },
  {
   "cell_type": "code",
   "execution_count": 51,
   "metadata": {},
   "outputs": [
    {
     "data": {
      "text/plain": [
       "tensor([0., 0., 0., 0., 0., 0., 0., 0., 0., 0., 0., 0., 0., 0., 0., 0., 0., 0.,\n",
       "        0., 0., 0., 0., 0., 0., 0., 0., 0., 0., 0., 0., 0., 0.])"
      ]
     },
     "execution_count": 51,
     "metadata": {},
     "output_type": "execute_result"
    }
   ],
   "source": [
    "model = nn.Sequential(OrderedDict([\n",
    "    ('fc1', nn.Linear(784, 128)),\n",
    "    ('relu1', nn.ReLU()),\n",
    "    ('fc2', nn.Linear(128, 64)),\n",
    "    ('relu2', nn.ReLU()),\n",
    "    ('fc3', nn.Linear(64, 32)),\n",
    "    ('relu3', nn.ReLU()),\n",
    "    ('logits', nn.Linear(32, 10))\n",
    "]))\n",
    "model.fc1.bias.data.fill_(0.)\n",
    "model.fc2.bias.data.fill_(0.)\n",
    "model.fc3.bias.data.fill_(0.)"
   ]
  },
  {
   "cell_type": "code",
   "execution_count": 52,
   "metadata": {},
   "outputs": [],
   "source": [
    "loss_fn = nn.CrossEntropyLoss()\n",
    "optimizer = optim.SGD(model.parameters(), lr=0.01)"
   ]
  },
  {
   "cell_type": "code",
   "execution_count": 55,
   "metadata": {},
   "outputs": [
    {
     "name": "stdout",
     "output_type": "stream",
     "text": [
      "Loss after epoch 0: 0.20429\n",
      "Loss after epoch 1: 0.20193\n",
      "Loss after epoch 2: 0.19975\n",
      "Loss after epoch 3: 0.19857\n",
      "Loss after epoch 4: 0.19549\n",
      "Loss after epoch 5: 0.19439\n",
      "Loss after epoch 6: 0.19285\n",
      "Loss after epoch 7: 0.18985\n",
      "Loss after epoch 8: 0.18821\n",
      "Loss after epoch 9: 0.18745\n",
      "Loss after epoch 10: 0.18440\n",
      "Loss after epoch 11: 0.18330\n",
      "Loss after epoch 12: 0.18199\n",
      "Loss after epoch 13: 0.18000\n",
      "Loss after epoch 14: 0.17805\n",
      "Loss after epoch 15: 0.17803\n",
      "Loss after epoch 16: 0.17451\n",
      "Loss after epoch 17: 0.17342\n",
      "Loss after epoch 18: 0.17182\n",
      "Loss after epoch 19: 0.17071\n",
      "Loss after epoch 20: 0.16788\n",
      "Loss after epoch 21: 0.16860\n",
      "Loss after epoch 22: 0.16597\n",
      "Loss after epoch 23: 0.16496\n",
      "Loss after epoch 24: 0.16211\n",
      "Loss after epoch 25: 0.16209\n",
      "Loss after epoch 26: 0.16179\n",
      "Loss after epoch 27: 0.15942\n",
      "Loss after epoch 28: 0.15837\n",
      "Loss after epoch 29: 0.15658\n",
      "Loss after epoch 30: 0.15519\n",
      "Loss after epoch 31: 0.15477\n",
      "Loss after epoch 32: 0.15199\n",
      "Loss after epoch 33: 0.15269\n",
      "Loss after epoch 34: 0.15013\n",
      "Loss after epoch 35: 0.14844\n",
      "Loss after epoch 36: 0.14690\n",
      "Loss after epoch 37: 0.14779\n",
      "Loss after epoch 38: 0.14550\n",
      "Loss after epoch 39: 0.14195\n",
      "Loss after epoch 40: 0.14320\n",
      "Loss after epoch 41: 0.13988\n",
      "Loss after epoch 42: 0.14037\n",
      "Loss after epoch 43: 0.13699\n",
      "Loss after epoch 44: 0.13603\n",
      "Loss after epoch 45: 0.13715\n",
      "Loss after epoch 46: 0.13292\n",
      "Loss after epoch 47: 0.13317\n",
      "Loss after epoch 48: 0.13328\n",
      "Loss after epoch 49: 0.13167\n"
     ]
    }
   ],
   "source": [
    "epochs = 50\n",
    "for epoch in range(epochs):\n",
    "    tot_batches = 0\n",
    "    tot_loss = 0\n",
    "    for images, labels in trainloader:\n",
    "        tot_batches += 1\n",
    "        batch_size = images.size()[0]\n",
    "        images.resize_(batch_size, 784)\n",
    "        optimizer.zero_grad()\n",
    "        output = model.forward(images)\n",
    "        loss = loss_fn(output, labels)\n",
    "        tot_loss += loss.item()\n",
    "        loss.backward()\n",
    "        optimizer.step()\n",
    "    avg_loss = tot_loss / tot_batches\n",
    "    print(f'Loss after epoch {epoch}: {avg_loss:.5f}')"
   ]
  },
  {
   "cell_type": "code",
   "execution_count": 56,
   "metadata": {},
   "outputs": [
    {
     "name": "stdout",
     "output_type": "stream",
     "text": [
      "Accuracy: 0.885\tMisclassifications: 1150\n"
     ]
    }
   ],
   "source": [
    "wrong_preds = []\n",
    "tot_test_size = 0\n",
    "with torch.no_grad():\n",
    "    for images, labels in testloader:\n",
    "        batch_size = images.size()[0]\n",
    "        tot_test_size += batch_size\n",
    "        images.resize_(batch_size, 784)\n",
    "        logits = model.forward(images)\n",
    "        probs = F.softmax(logits, dim=1)\n",
    "        preds = torch.argmax(probs, dim=1)\n",
    "        for image, label, pred in zip(images, labels, preds):\n",
    "            if label != pred:\n",
    "                wrong_preds.append((image, label, pred))\n",
    "acc = (tot_test_size - len(wrong_preds)) / tot_test_size\n",
    "print(f'Accuracy: {acc:.3f}\\tMisclassifications: {len(wrong_preds)}')"
   ]
  },
  {
   "cell_type": "code",
   "execution_count": 57,
   "metadata": {},
   "outputs": [
    {
     "data": {
      "image/png": "[encoded data removed]",
      "text/plain": [
       "<Figure size 360x360 with 1 Axes>"
      ]
     },
     "metadata": {},
     "output_type": "display_data"
    },
    {
     "data": {
      "image/png": "[encoded data removed]",
      "text/plain": [
       "<Figure size 360x360 with 1 Axes>"
      ]
     },
     "metadata": {},
     "output_type": "display_data"
    },
    {
     "data": {
      "image/png": "[encoded data removed]",
      "text/plain": [
       "<Figure size 360x360 with 1 Axes>"
      ]
     },
     "metadata": {},
     "output_type": "display_data"
    },
    {
     "data": {
      "image/png": "[encoded data removed]",
      "text/plain": [
       "<Figure size 360x360 with 1 Axes>"
      ]
     },
     "metadata": {},
     "output_type": "display_data"
    },
    {
     "data": {
      "image/png": "[encoded data removed]",
      "text/plain": [
       "<Figure size 360x360 with 1 Axes>"
      ]
     },
     "metadata": {},
     "output_type": "display_data"
    }
   ],
   "source": [
    "descs = ['T-shirt/Top', 'Trouser', 'Pullover', 'Dress', 'Coat', 'Sandal', 'Shirt', 'Sneaker', 'Bag', 'Ankle boot']\n",
    "wrong_preds_sample = random.sample(wrong_preds, k=5)\n",
    "for image, label, pred in wrong_preds_sample:\n",
    "    img = rehydrate(image.view(28, 28))\n",
    "    actual = descs[label]\n",
    "    predicted = descs[pred]\n",
    "    title = f'Actual: {actual}, Predicted {predicted}'\n",
    "    show_imgs([img], [title])"
   ]
  },
  {
   "cell_type": "code",
   "execution_count": 58,
   "metadata": {},
   "outputs": [],
   "source": [
    "images, labels = next(iter(testloader))\n",
    "batch_size = images.size()[0]\n",
    "tot_test_size += batch_size\n",
    "images.resize_(batch_size, 784)\n",
    "logits = model.forward(images)\n",
    "probs = F.softmax(logits, dim=1)\n",
    "preds = torch.argmax(probs, dim=1)"
   ]
  },
  {
   "cell_type": "code",
   "execution_count": 59,
   "metadata": {},
   "outputs": [
    {
     "name": "stdout",
     "output_type": "stream",
     "text": [
      "torch.Size([64, 10])\n",
      "torch.Size([64, 10])\n",
      "torch.Size([64])\n"
     ]
    }
   ],
   "source": [
    "print(logits.size())\n",
    "print(probs.size())\n",
    "print(preds.size())"
   ]
  },
  {
   "cell_type": "code",
   "execution_count": 63,
   "metadata": {},
   "outputs": [
    {
     "name": "stdout",
     "output_type": "stream",
     "text": [
      "2\n"
     ]
    }
   ],
   "source": [
    "tp = probs.max(dim=1)\n",
    "print(len(tp))"
   ]
  },
  {
   "cell_type": "code",
   "execution_count": null,
   "metadata": {},
   "outputs": [],
   "source": []
  },
  {
   "cell_type": "code",
   "execution_count": null,
   "metadata": {},
   "outputs": [],
   "source": []
  },
  {
   "cell_type": "code",
   "execution_count": null,
   "metadata": {},
   "outputs": [],
   "source": [
    "\n"
   ]
  },
  {
   "cell_type": "code",
   "execution_count": null,
   "metadata": {},
   "outputs": [],
   "source": []
  },
  {
   "cell_type": "code",
   "execution_count": null,
   "metadata": {},
   "outputs": [],
   "source": []
  }
 ],
 "metadata": {
  "kernelspec": {
   "display_name": "Python 3",
   "language": "python",
   "name": "python3"
  },
  "language_info": {
   "codemirror_mode": {
    "name": "ipython",
    "version": 3
   },
   "file_extension": ".py",
   "mimetype": "text/x-python",
   "name": "python",
   "nbconvert_exporter": "python",
   "pygments_lexer": "ipython3",
   "version": "3.7.7"
  }
 },
 "nbformat": 4,
 "nbformat_minor": 4
}
