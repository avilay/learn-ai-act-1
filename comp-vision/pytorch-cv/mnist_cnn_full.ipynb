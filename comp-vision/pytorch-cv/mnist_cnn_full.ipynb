{
 "cells": [
  {
   "cell_type": "code",
   "execution_count": 1,
   "metadata": {},
   "outputs": [],
   "source": [
    "from copy import copy\n",
    "from datetime import datetime\n",
    "from collections import namedtuple\n",
    "import numpy as np\n",
    "import plotter as pltr\n",
    "pltr.set_backend(pltr.MatplotlibBackend)"
   ]
  },
  {
   "cell_type": "code",
   "execution_count": 2,
   "metadata": {},
   "outputs": [],
   "source": [
    "import torch\n",
    "from torchvision import datasets, transforms\n",
    "import torch.nn as nn\n",
    "import torch.utils.data as dutils\n",
    "import torch.optim as optim\n",
    "import torch.nn.functional as F"
   ]
  },
  {
   "cell_type": "markdown",
   "metadata": {},
   "source": [
    "## Utility Functions"
   ]
  },
  {
   "cell_type": "code",
   "execution_count": 3,
   "metadata": {},
   "outputs": [],
   "source": [
    "means = [0.5]\n",
    "stds = [0.5]\n",
    "DEVICE = torch.device('cuda:0' if torch.cuda.is_available() else 'cpu')\n",
    "\n",
    "white = pltr.Color(red=255, green=255, blue=255)\n",
    "big_white_font = pltr.Font(color=white, size=14)\n",
    "\n",
    "Metric = namedtuple('Metric', ['name', 'train', 'val'])\n",
    "\n",
    "def tensor2img(tensor):\n",
    "    \"\"\"\n",
    "    Tensor of size 1xHxW: Supposed to be an image with a single channel\n",
    "    Returns an ndarray of shape HxW of type int with values between 0 and 255.\n",
    "    \"\"\"\n",
    "    img = copy(tensor.cpu().detach().numpy())\n",
    "    img = img.squeeze()  # Get rid fo the single channel dim\n",
    "    img = img * stds + means  # De-normalize\n",
    "    img = np.clip(img, 0, 1)\n",
    "    img = 255 * img  # Re-scale to 0-255\n",
    "    img = img.astype(np.int)\n",
    "    return img\n",
    "\n",
    "def show_imgs(imgs, titles):\n",
    "    \"\"\"\n",
    "    imgs: list of ndarrays of shape HxW\n",
    "    titles: list of strings\n",
    "    \"\"\"\n",
    "    frame = pltr.Frame()\n",
    "    frame.layout(1, len(imgs))  # Show all the images in a single row\n",
    "    for img, title in zip(imgs, titles):\n",
    "        chart = frame.create_chart()\n",
    "        chart.title = title\n",
    "        chart.title_font = big_white_font\n",
    "        chart.show_axes = False\n",
    "        imgplot = pltr.GrayscaleImage(img)\n",
    "        chart.add(imgplot)\n",
    "    frame.show()\n",
    "    \n",
    "def show_classification(img: np.ndarray, label: str, probs: np.ndarray):\n",
    "    \"\"\"\n",
    "    img: ndarray of shape HxW. Supposed to be a grayscale image\n",
    "    probs: ndarray of shape K. Supposed to be the probability of each class\n",
    "    \"\"\"\n",
    "    frame = pltr.Frame()\n",
    "    frame.layout(1, 2)\n",
    "    \n",
    "    # Image chart\n",
    "    chart = frame.create_chart()\n",
    "    chart.title = label\n",
    "    chart.title_font = big_white_font\n",
    "    chart.show_axes = False\n",
    "    imgplot = pltr.GrayscaleImage(img)\n",
    "    chart.add(imgplot)\n",
    "    \n",
    "    # Probs plot\n",
    "    chart = frame.create_chart()\n",
    "    chart.title = 'Class Probabilities'\n",
    "    chart.title_font = big_white_font\n",
    "    chart.x_axis.limits = (0, 1)\n",
    "    chart.x_axis.font = pltr.Font(color=white)\n",
    "    chart.y_axis.font = pltr.Font(color=white)\n",
    "    cats = [str(v) for v in range(len(probs))]\n",
    "    probsplot = pltr.HorizontalBar(categories=cats, values=probs)\n",
    "    chart.add(probsplot)\n",
    "    \n",
    "    frame.show()\n",
    "    \n",
    "def plot_learning_curves(*metrics):\n",
    "    frame = pltr.Frame(height_px=1100, width_px=2000)\n",
    "    frame.layout(len(metrics), 1)\n",
    "    train_color = pltr.Color(red=7, green=87, blue=124)\n",
    "    val_color = pltr.Color(red=124, green=7, blue=87)\n",
    "    for metric in metrics:\n",
    "        chart = frame.create_chart()\n",
    "        chart.title = metric.name.upper()\n",
    "        chart.title_font = big_white_font\n",
    "        chart.x_axis = pltr.Axis(label='Epochs', font=pltr.Font(color=white))\n",
    "        chart.y_axis.font = pltr.Font(color=white)\n",
    "        chart.legend_location = pltr.LegendLocation.BEST\n",
    "        \n",
    "        epochs = [str(i) for i in range(len(metric.train))]\n",
    "        \n",
    "        train_line = pltr.Line(categories=epochs, values=metric.train, legend='Train', color=train_color)\n",
    "        chart.add(train_line)\n",
    "        \n",
    "        val_line = pltr.Line(categories=epochs, values=metric.val, legend='Val', color=val_color)\n",
    "        chart.add(val_line)\n",
    "    frame.show()"
   ]
  },
  {
   "cell_type": "markdown",
   "metadata": {},
   "source": [
    "## Load Images"
   ]
  },
  {
   "cell_type": "markdown",
   "metadata": {},
   "source": [
    "### View without any transforms"
   ]
  },
  {
   "cell_type": "code",
   "execution_count": 4,
   "metadata": {},
   "outputs": [
    {
     "data": {
      "text/plain": [
       "(<PIL.Image.Image image mode=L size=28x28 at 0x10C0A6550>, tensor(5))"
      ]
     },
     "execution_count": 4,
     "metadata": {},
     "output_type": "execute_result"
    }
   ],
   "source": [
    "traindata = datasets.MNIST('/data/pytorch/mnist/', download=True, train=True)\n",
    "traindata[0]"
   ]
  },
  {
   "cell_type": "code",
   "execution_count": 5,
   "metadata": {},
   "outputs": [
    {
     "data": {
      "image/png": "[encoded data removed]",
      "text/plain": [
       "<Figure size 360x360 with 5 Axes>"
      ]
     },
     "metadata": {},
     "output_type": "display_data"
    }
   ],
   "source": [
    "titles = []\n",
    "imgs = []\n",
    "for i in range(5):\n",
    "    pil_img, label = traindata[i]\n",
    "    imgs.append(np.array(pil_img))\n",
    "    titles.append(str(label.item()))\n",
    "show_imgs(imgs, titles)"
   ]
  },
  {
   "cell_type": "markdown",
   "metadata": {},
   "source": [
    "### With transforms"
   ]
  },
  {
   "cell_type": "code",
   "execution_count": 6,
   "metadata": {},
   "outputs": [
    {
     "name": "stdout",
     "output_type": "stream",
     "text": [
      "<class 'torch.utils.data.dataset.Subset'>\n",
      "<class 'tuple'>\n",
      "torch.Size([1, 28, 28])\n",
      "tensor(6)\n",
      "torch.Size([1, 28, 28])\n",
      "tensor(9)\n"
     ]
    }
   ],
   "source": [
    "xforms = transforms.Compose([\n",
    "    transforms.ToTensor(),\n",
    "    transforms.Normalize(means, stds)\n",
    "])\n",
    "traindata = datasets.MNIST('/data/pytorch/mnist', download=True, train=True, transform=xforms)\n",
    "train_size = int(0.8*(len(traindata)))\n",
    "val_size = len(traindata) - train_size\n",
    "trainset, valset = dutils.random_split(traindata, (train_size, val_size))\n",
    "print(type(trainset))\n",
    "print(type(trainset[0]))\n",
    "\n",
    "train_image, train_label = trainset[0]\n",
    "print(train_image.size())\n",
    "print(train_label)\n",
    "val_image, val_label = valset[0]\n",
    "print(val_image.size())\n",
    "print(val_label)"
   ]
  },
  {
   "cell_type": "code",
   "execution_count": 7,
   "metadata": {},
   "outputs": [
    {
     "data": {
      "image/png": "[encoded data removed]",
      "text/plain": [
       "<Figure size 360x360 with 2 Axes>"
      ]
     },
     "metadata": {},
     "output_type": "display_data"
    }
   ],
   "source": [
    "imgs = [tensor2img(train_image), tensor2img(val_image)]\n",
    "titles = [str(train_label.item()), str(val_label.item())]\n",
    "show_imgs(imgs, titles)"
   ]
  },
  {
   "cell_type": "code",
   "execution_count": 8,
   "metadata": {},
   "outputs": [],
   "source": [
    "trainloader = dutils.DataLoader(trainset, batch_size=64, shuffle=True)\n",
    "valloader = dutils.DataLoader(valset, batch_size=64, shuffle=True)"
   ]
  },
  {
   "cell_type": "markdown",
   "metadata": {},
   "source": [
    "## CNN\n",
    "\n",
    "#### Layer 1\n",
    "28x28x1 → CONV(5, ch=10) → 24x24x10 → MAXPOOL(2) → 12x12x10 → RELU → 12x12x10\n",
    "####   \n",
    "#### Layer 2\n",
    "12x12x10 → CONV(5, ch=20) → 8x8x20 → DROPOUT → 8x8x20 → MAXPOOL(2) → 4x4x20 → RELU → 4x4x20\n",
    "####  \n",
    "#### Layer 3\n",
    "4x4x20 → FLATTEN → 320 → LINEAR(320, 50) → 50 → RELU → 50 → DROPOUT → 50\n",
    "####  \n",
    "#### Layer 4\n",
    "50 → LINEAR(50, 10) → 10 → LOG-SOFTMAX → 10"
   ]
  },
  {
   "cell_type": "code",
   "execution_count": 9,
   "metadata": {},
   "outputs": [],
   "source": [
    "class Net(nn.Module):\n",
    "    def __init__(self):\n",
    "        super().__init__()\n",
    "        self.conv1 = nn.Conv2d(1, 10, kernel_size=5)\n",
    "        self.conv2 = nn.Conv2d(10, 20, kernel_size=5)\n",
    "        self.fc1 = nn.Linear(320, 50)\n",
    "        self.fc2 = nn.Linear(50, 10)\n",
    "        \n",
    "    def forward(self, x):\n",
    "        x = F.relu(F.max_pool2d(self.conv1(x), 2))\n",
    "        x = F.relu(F.max_pool2d(F.dropout(self.conv2(x), training=self.training), 2))\n",
    "        x = F.dropout(F.relu(self.fc1(x.view(-1, 320))), training=self.training)\n",
    "        x = F.log_softmax(self.fc2(x), dim=1)\n",
    "        return x"
   ]
  },
  {
   "cell_type": "code",
   "execution_count": 10,
   "metadata": {},
   "outputs": [
    {
     "name": "stdout",
     "output_type": "stream",
     "text": [
      "Time taken for single batch: 0:00:00.046743\n",
      "Loss: 147.879\tAccuracy: 0.078\n"
     ]
    }
   ],
   "source": [
    "# Train single batch\n",
    "model = Net()\n",
    "model = model.to(DEVICE)\n",
    "loss_fn = nn.NLLLoss()\n",
    "optimizer = optim.SGD(model.parameters(), lr=0.001, momentum=0.9)\n",
    "\n",
    "start = datetime.now()\n",
    "images, labels = next(iter(trainloader))\n",
    "images = images.to(DEVICE)\n",
    "labels = labels.to(DEVICE)\n",
    "with torch.enable_grad():\n",
    "    optimizer.zero_grad()\n",
    "    log_probs = model.forward(images)\n",
    "    loss = loss_fn(log_probs, labels)\n",
    "    loss.backward()\n",
    "    optimizer.step()\n",
    "    \n",
    "    batch_loss = loss.item() * images.size(0)\n",
    "    preds = torch.argmax(log_probs, dim=1)\n",
    "    batch_acc = torch.sum(preds == labels.data)\n",
    "end = datetime.now()\n",
    "elapsed = end - start\n",
    "print(f'Time taken for single batch: {elapsed}')\n",
    "print(f'Loss: {batch_loss:.3f}\\tAccuracy: {batch_acc.double()/images.size(0):.3f}')"
   ]
  },
  {
   "cell_type": "code",
   "execution_count": 11,
   "metadata": {},
   "outputs": [
    {
     "name": "stdout",
     "output_type": "stream",
     "text": [
      "torch.Size([1, 10])\n"
     ]
    },
    {
     "data": {
      "image/png": "[encoded data removed]",
      "text/plain": [
       "<Figure size 360x360 with 2 Axes>"
      ]
     },
     "metadata": {},
     "output_type": "display_data"
    }
   ],
   "source": [
    "# Lets see how the model performs on the val image\n",
    "# First create a batch of 1\n",
    "image = val_image.view(1, 1, 28, 28).to(DEVICE)\n",
    "log_probs = model.forward(image)\n",
    "print(log_probs.size())  # Should be 1x10\n",
    "probs = torch.exp(log_probs)\n",
    "\n",
    "img = tensor2img(val_image)\n",
    "title = str(val_label.item())\n",
    "probs = probs.cpu().detach().numpy().flatten()\n",
    "show_classification(img, title, probs)"
   ]
  },
  {
   "cell_type": "code",
   "execution_count": 14,
   "metadata": {},
   "outputs": [
    {
     "name": "stdout",
     "output_type": "stream",
     "text": [
      "\n",
      "Epoch 1/3\n",
      "Train - Loss: 1.296\tAccuracy: 0.565\n",
      "Val - Loss: 0.620\tAccuracy: 0.799\n",
      "Time: 0:00:21.031580\n",
      "\n",
      "Epoch 2/3\n",
      "Train - Loss: 0.482\tAccuracy: 0.848\n",
      "Val - Loss: 0.405\tAccuracy: 0.871\n",
      "Time: 0:00:21.683469\n",
      "\n",
      "Epoch 3/3\n",
      "Train - Loss: 0.341\tAccuracy: 0.894\n",
      "Val - Loss: 0.301\tAccuracy: 0.907\n",
      "Time: 0:00:22.042168\n",
      "Training Complete\n"
     ]
    }
   ],
   "source": [
    "# Train\n",
    "model = Net()\n",
    "model = model.to(DEVICE)\n",
    "loss_fn = nn.NLLLoss()\n",
    "optimizer = optim.SGD(model.parameters(), lr=0.001, momentum=0.9)\n",
    "\n",
    "num_epochs = 3\n",
    "losses = Metric(name='loss', train=[], val=[])\n",
    "accuracies = Metric(name='Accuracy', train=[], val=[])\n",
    "model.train()\n",
    "for epoch in range(num_epochs):\n",
    "    print(f'\\nEpoch {epoch+1}/{num_epochs}')\n",
    "    start = datetime.now()\n",
    "    train_epoch_loss = 0.0\n",
    "    train_epoch_acc = 0\n",
    "    for batch, (images, labels) in enumerate(trainloader):\n",
    "        images = images.to(DEVICE)\n",
    "        labels = labels.to(DEVICE)\n",
    "        with torch.enable_grad():\n",
    "            optimizer.zero_grad()\n",
    "            log_probs = model.forward(images)\n",
    "            loss = loss_fn(log_probs, labels)\n",
    "            loss.backward()\n",
    "            optimizer.step()\n",
    "#             print(f'Batch {batch} Grads after step: {model.fc2.weight.grad[0, :5]}')\n",
    "            batch_loss = loss * images.size(0)\n",
    "            preds = torch.argmax(log_probs, dim=1)\n",
    "            batch_acc = torch.sum(preds == labels)\n",
    "            train_epoch_loss += batch_loss\n",
    "            train_epoch_acc += batch_acc\n",
    "    train_epoch_loss = train_epoch_loss / len(trainset)\n",
    "    train_epoch_acc = train_epoch_acc.double() / len(trainset)\n",
    "    print(f'Train - Loss: {train_epoch_loss:.3f}\\tAccuracy: {train_epoch_acc:.3f}')\n",
    "    losses.train.append(train_epoch_loss)\n",
    "    accuracies.train.append(train_epoch_acc)\n",
    "    \n",
    "    # Calculate the validation metrics\n",
    "    val_epoch_loss = 0.0\n",
    "    val_epoch_acc = 0\n",
    "    for images, labels in valloader:\n",
    "        images = images.to(DEVICE)\n",
    "        labels = labels.to(DEVICE)\n",
    "        with torch.no_grad():\n",
    "            log_probs = model.forward(images)\n",
    "            loss = loss_fn(log_probs, labels)\n",
    "            \n",
    "            batch_loss = loss * images.size(0)\n",
    "            preds = torch.argmax(log_probs, dim=1)\n",
    "            batch_acc = torch.sum(preds == labels)\n",
    "            val_epoch_loss += batch_loss\n",
    "            val_epoch_acc += batch_acc\n",
    "    val_epoch_loss = val_epoch_loss / len(valset)\n",
    "    val_epoch_acc = val_epoch_acc.double() / len(valset)\n",
    "    losses.val.append(val_epoch_loss)\n",
    "    accuracies.val.append(val_epoch_acc)\n",
    "    print(f'Val - Loss: {val_epoch_loss:.3f}\\tAccuracy: {val_epoch_acc:.3f}')\n",
    "    \n",
    "    end = datetime.now()\n",
    "    print(f'Time: {end - start}')\n",
    "    \n",
    "print('Training Complete')"
   ]
  },
  {
   "cell_type": "code",
   "execution_count": null,
   "metadata": {},
   "outputs": [],
   "source": [
    "plot_learning_curves(losses, accuracies)"
   ]
  },
  {
   "cell_type": "code",
   "execution_count": null,
   "metadata": {},
   "outputs": [],
   "source": [
    "# Lets see how the model performs on the val image\n",
    "# First create a batch of 1\n",
    "model.eval()\n",
    "image = val_image.view(1, 1, 28, 28).to(DEVICE)\n",
    "log_probs = model.forward(image)\n",
    "print(log_probs.size())  # Should be 1x10\n",
    "probs = torch.exp(log_probs)\n",
    "\n",
    "img = tensor2img(val_image)\n",
    "title = str(val_label.item())\n",
    "probs = probs.cpu().detach().numpy().flatten()\n",
    "show_classification(img, title, probs)"
   ]
  },
  {
   "cell_type": "code",
   "execution_count": null,
   "metadata": {},
   "outputs": [],
   "source": [
    "# Calculate test metrics\n",
    "testset = datasets.MNIST('/data/pytorch/mnist', download=True, train=False, transform=xforms)\n",
    "test_image, test_label = testset[0]\n",
    "print(test_image.size())\n",
    "print(test_label)\n",
    "\n",
    "testloader = dutils.DataLoader(testset, batch_size=64, shuffle=True)"
   ]
  },
  {
   "cell_type": "code",
   "execution_count": null,
   "metadata": {},
   "outputs": [],
   "source": [
    "model.eval()\n",
    "test_loss = 0.0\n",
    "test_acc = 0\n",
    "for images, labels in testloader:\n",
    "    images = images.to(DEVICE)\n",
    "    labels = labels.to(DEVICE)\n",
    "    with torch.no_grad():\n",
    "        log_probs = model.forward(images)\n",
    "        loss = loss_fn(log_probs, labels)\n",
    "\n",
    "        batch_loss = loss * images.size(0)\n",
    "        preds = torch.argmax(log_probs, dim=1)\n",
    "        batch_acc = torch.sum(preds == labels)\n",
    "        test_loss += batch_loss\n",
    "        test_acc += batch_acc\n",
    "test_loss = test_loss / len(valset)\n",
    "test_acc = test_acc.double() / len(valset)\n",
    "print(f'Test - Loss: {test_loss:.3f}\\tAccuracy: {test_acc:.3f}')"
   ]
  },
  {
   "cell_type": "code",
   "execution_count": null,
   "metadata": {},
   "outputs": [],
   "source": []
  }
 ],
 "metadata": {
  "kernelspec": {
   "display_name": "Python 3 (ipykernel)",
   "language": "python",
   "name": "python3"
  },
  "language_info": {
   "codemirror_mode": {
    "name": "ipython",
    "version": 3
   },
   "file_extension": ".py",
   "mimetype": "text/x-python",
   "name": "python",
   "nbconvert_exporter": "python",
   "pygments_lexer": "ipython3",
   "version": "3.9.6"
  }
 },
 "nbformat": 4,
 "nbformat_minor": 4
}
