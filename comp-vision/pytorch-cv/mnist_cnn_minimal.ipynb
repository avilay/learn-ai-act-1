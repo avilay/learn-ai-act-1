{
 "cells": [
  {
   "cell_type": "code",
   "execution_count": 1,
   "metadata": {},
   "outputs": [],
   "source": [
    "import torch\n",
    "import torch.nn as nn\n",
    "import torch.nn.functional as F\n",
    "import torch.optim as optim\n",
    "from torchvision import datasets, models, transforms\n",
    "import torch.utils.data as dutils"
   ]
  },
  {
   "cell_type": "markdown",
   "metadata": {},
   "source": [
    "## CNN\n",
    "\n",
    "#### Layer 1\n",
    "28x28x1 → CONV(5, ch=10) → 24x24x10 → MAXPOOL(2) → 12x12x10 → RELU → 12x12x10\n",
    "####   \n",
    "#### Layer 2\n",
    "12x12x10 → CONV(5, ch=20) → 8x8x20 → DROPOUT → 8x8x20 → MAXPOOL(2) → 4x4x20 → RELU → 4x4x20\n",
    "####  \n",
    "#### Layer 3\n",
    "4x4x20 → FLATTEN → 320 → LINEAR(320, 50) → 50 → RELU → 50 → DROPOUT → 50\n",
    "####  \n",
    "#### Layer 4\n",
    "50 → LINEAR(50, 10) → 10 → LOG-SOFTMAX → 10"
   ]
  },
  {
   "cell_type": "code",
   "execution_count": 2,
   "metadata": {},
   "outputs": [],
   "source": [
    "class Net(nn.Module):\n",
    "    def __init__(self):\n",
    "        super().__init__()\n",
    "        self.conv1 = nn.Conv2d(1, 10, kernel_size=5)\n",
    "        self.conv2 = nn.Conv2d(10, 20, kernel_size=5)\n",
    "        self.fc1 = nn.Linear(320, 50)\n",
    "        self.fc2 = nn.Linear(50, 10)\n",
    "        \n",
    "    def forward(self, x):\n",
    "        x = F.relu(F.max_pool2d(self.conv1(x), 2))\n",
    "        x = F.relu(F.max_pool2d(F.dropout(self.conv2(x), training=self.training), 2))\n",
    "        x = F.dropout(F.relu(self.fc1(x.view(-1, 320))), training=self.training)\n",
    "        x = F.log_softmax(self.fc2(x), dim=1)\n",
    "        return x"
   ]
  },
  {
   "cell_type": "code",
   "execution_count": 3,
   "metadata": {},
   "outputs": [],
   "source": [
    "DEVICE = torch.device('cuda:0' if torch.cuda.is_available() else 'cpu')"
   ]
  },
  {
   "cell_type": "code",
   "execution_count": 4,
   "metadata": {},
   "outputs": [
    {
     "name": "stdout",
     "output_type": "stream",
     "text": [
      "torch.Size([1, 28, 28])\n",
      "tensor(5)\n"
     ]
    }
   ],
   "source": [
    "xforms = transforms.Compose([\n",
    "    transforms.ToTensor(),\n",
    "    transforms.Normalize((0.5,), (0.5,)),\n",
    "])\n",
    "trainset = datasets.MNIST('/data/pytorch/mnist/', download=True, train=True, transform=xforms)\n",
    "trainloader = dutils.DataLoader(trainset, batch_size=64, shuffle=True)\n",
    "train_image, train_label = trainset[0]\n",
    "print(train_image.size())\n",
    "print(train_label)\n",
    "\n",
    "testset = datasets.MNIST('/data/pytorch/mnist/', download=True, train=False, transform=xforms)\n",
    "testloader = torch.utils.data.DataLoader(testset, batch_size=64, shuffle=True)"
   ]
  },
  {
   "cell_type": "code",
   "execution_count": null,
   "metadata": {},
   "outputs": [],
   "source": [
    "model = Net()\n",
    "model = model.to(DEVICE)\n",
    "loss_fn = nn.NLLLoss()\n",
    "optimizer = optim.SGD(model.parameters(), lr=0.001, momentum=0.9)\n",
    "\n",
    "# Train\n",
    "num_epochs = 10\n",
    "for epoch in range(num_epochs):\n",
    "    print(f'Epoch {epoch+1}/{num_epochs}')\n",
    "    for images, labels in trainloader:\n",
    "        images = images.to(DEVICE)\n",
    "        labels = labels.to(DEVICE)\n",
    "        optimizer.zero_grad()\n",
    "        with torch.enable_grad():\n",
    "            log_probs = model(images)\n",
    "            loss = loss_fn(log_probs, labels)\n",
    "            loss.backward()\n",
    "            optimizer.step()"
   ]
  },
  {
   "cell_type": "code",
   "execution_count": null,
   "metadata": {},
   "outputs": [],
   "source": [
    "# Test\n",
    "test_acc = 0\n",
    "for images, labels in testloader:\n",
    "    images = images.to(DEVICE)\n",
    "    labels = labels.to(DEVICE)\n",
    "    with torch.no_grad():\n",
    "        log_probs = model(images)\n",
    "        preds = torch.argmax(log_probs, dim=1)\n",
    "        batch_acc = torch.sum(preds == labels.data)\n",
    "        test_acc += batch_acc\n",
    "avg_test_acc = test_acc.double() / len(testset)\n",
    "print(f'Test Accuracy: {avg_test_acc:.3f}')"
   ]
  },
  {
   "cell_type": "code",
   "execution_count": null,
   "metadata": {},
   "outputs": [],
   "source": []
  }
 ],
 "metadata": {
  "kernelspec": {
   "display_name": "Python 3 (ipykernel)",
   "language": "python",
   "name": "python3"
  },
  "language_info": {
   "codemirror_mode": {
    "name": "ipython",
    "version": 3
   },
   "file_extension": ".py",
   "mimetype": "text/x-python",
   "name": "python",
   "nbconvert_exporter": "python",
   "pygments_lexer": "ipython3",
   "version": "3.9.6"
  }
 },
 "nbformat": 4,
 "nbformat_minor": 4
}
