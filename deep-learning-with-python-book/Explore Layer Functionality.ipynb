{
 "cells": [
  {
   "cell_type": "markdown",
   "metadata": {},
   "source": [
    "# Explore\n",
    "Sometimes I just want to understand better what a layer does. In this notebook I have the structure for exploring various layers."
   ]
  },
  {
   "cell_type": "markdown",
   "metadata": {},
   "source": [
    "## Input shape\n",
    "\n",
    "All layers derive from the base `Layer` class whose constructor accepts the `input_shape` argument, so all layers will accept this argument even if not explicitly mentioned in the docs. Input shape is the shape of a single sample in the input. The actual input will be an array of such samples. Unlike TF, I don't have to say (None, rows, cols). The None is implied. But when I send input to this layer, it will accept tensors of shape (None, rows, cols)."
   ]
  },
  {
   "cell_type": "markdown",
   "metadata": {},
   "source": [
    "## Flatten\n",
    "Takes each element of the input tensor row-by-row and lays it side by side."
   ]
  },
  {
   "cell_type": "code",
   "execution_count": 9,
   "metadata": {},
   "outputs": [
    {
     "name": "stdout",
     "output_type": "stream",
     "text": [
      "_________________________________________________________________\n",
      "Layer (type)                 Output Shape              Param #   \n",
      "=================================================================\n",
      "input_8 (InputLayer)         (None, 2, 2, 3)           0         \n",
      "_________________________________________________________________\n",
      "flatten_8 (Flatten)          (None, 12)                0         \n",
      "=================================================================\n",
      "Total params: 0\n",
      "Trainable params: 0\n",
      "Non-trainable params: 0\n",
      "_________________________________________________________________\n",
      "None\n",
      "[[ 1  2  3  4  5  6  7  8  9 10 11 12]\n",
      " [13 14 15 16 17 18 19 20 21 22 23 24]]\n"
     ]
    }
   ],
   "source": [
    "import numpy as np\n",
    "from keras.models import Model\n",
    "from keras.layers import Input, Flatten\n",
    "\n",
    "l0 = Input(shape=(2, 2, 3), dtype='int32')\n",
    "l1 = Flatten()(l0)\n",
    "model = Model(l0, l1)\n",
    "# No need to compile the model as we are not going to train it\n",
    "model.summary()\n",
    "x1 = np.array([[[1, 2, 3], [4, 5, 6]],\n",
    "               [[7, 8, 9], [10, 11, 12]]])\n",
    "x2 = np.array([[[13, 14, 15], [16, 17, 18]],\n",
    "               [[19, 20, 21], [22, 23, 24]]])\n",
    "X = np.array([x1, x2])\n",
    "model.predict(X)"
   ]
  },
  {
   "cell_type": "markdown",
   "metadata": {},
   "source": [
    "## Concatenate\n",
    "It takes as input the output tensors of two layers, and lays them side by side. The preceeding layers are usually `Flatten`, so it makes sense to explore what `concatenate` does for simple row vectors. If layer 1 outputs [1, 1, 1] and layer 2 outputs [10, 10, 10, 10], the concatenation layer will output [1, 1, 1, 10, 10, 10, 10]. The two input tensors do not have to be of the same size."
   ]
  },
  {
   "cell_type": "code",
   "execution_count": 10,
   "metadata": {},
   "outputs": [
    {
     "name": "stdout",
     "output_type": "stream",
     "text": [
      "____________________________________________________________________________________________________\n",
      "Layer (type)                     Output Shape          Param #     Connected to                     \n",
      "====================================================================================================\n",
      "a (InputLayer)                   (None, 3)             0                                            \n",
      "____________________________________________________________________________________________________\n",
      "b (InputLayer)                   (None, 5)             0                                            \n",
      "____________________________________________________________________________________________________\n",
      "concatenate_1 (Concatenate)      (None, 8)             0           a[0][0]                          \n",
      "                                                                   b[0][0]                          \n",
      "====================================================================================================\n",
      "Total params: 0\n",
      "Trainable params: 0\n",
      "Non-trainable params: 0\n",
      "____________________________________________________________________________________________________\n"
     ]
    },
    {
     "data": {
      "text/plain": [
       "array([[ 1,  1,  1, 10, 10, 10, 10, 10],\n",
       "       [ 2,  2,  2, 20, 20, 20, 20, 20]], dtype=int32)"
      ]
     },
     "execution_count": 10,
     "metadata": {},
     "output_type": "execute_result"
    }
   ],
   "source": [
    "import numpy as np\n",
    "from keras import layers\n",
    "from keras import Input\n",
    "from keras.models import Model\n",
    "\n",
    "a = Input(shape=(3,), dtype='int32', name='a')\n",
    "b = Input(shape=(5,), dtype='int32', name='b')\n",
    "c = layers.concatenate([a, b], axis=-1)\n",
    "model = Model([a, b], c)\n",
    "model.summary()\n",
    "xa = np.array([[1, 1, 1],\n",
    "               [2, 2, 2]])\n",
    "xb = np.array([[10, 10, 10, 10, 10],\n",
    "               [20, 20, 20, 20, 20]])\n",
    "model.predict([xa, xb])"
   ]
  },
  {
   "cell_type": "markdown",
   "metadata": {},
   "source": [
    "## Add\n",
    "It takes in as input the output of a number of layers and does an element-wise addition (essentially tensor addition). Usually the preceeding layers are `Flatten` so it makes sense to explore this for simple row vectors. Unlike `concatenate`, the `add` operation needs tensors of the same size."
   ]
  },
  {
   "cell_type": "code",
   "execution_count": 11,
   "metadata": {},
   "outputs": [
    {
     "name": "stdout",
     "output_type": "stream",
     "text": [
      "____________________________________________________________________________________________________\n",
      "Layer (type)                     Output Shape          Param #     Connected to                     \n",
      "====================================================================================================\n",
      "a (InputLayer)                   (None, 3)             0                                            \n",
      "____________________________________________________________________________________________________\n",
      "b (InputLayer)                   (None, 3)             0                                            \n",
      "____________________________________________________________________________________________________\n",
      "c (InputLayer)                   (None, 3)             0                                            \n",
      "____________________________________________________________________________________________________\n",
      "add_1 (Add)                      (None, 3)             0           a[0][0]                          \n",
      "                                                                   b[0][0]                          \n",
      "                                                                   c[0][0]                          \n",
      "====================================================================================================\n",
      "Total params: 0\n",
      "Trainable params: 0\n",
      "Non-trainable params: 0\n",
      "____________________________________________________________________________________________________\n"
     ]
    },
    {
     "data": {
      "text/plain": [
       "array([[111, 111, 111],\n",
       "       [222, 222, 222]], dtype=int32)"
      ]
     },
     "execution_count": 11,
     "metadata": {},
     "output_type": "execute_result"
    }
   ],
   "source": [
    "import numpy as np\n",
    "from keras import layers, Input\n",
    "from keras.models import Model\n",
    "\n",
    "a_in = Input(shape=(3,), dtype='int32', name='a')\n",
    "b_in = Input(shape=(3,), dtype='int32', name='b')\n",
    "c_in = Input(shape=(3,), dtype='int32', name='c')\n",
    "d_out = layers.add([a_in, b_in, c_in])\n",
    "model = Model([a_in, b_in, c_in], d_out)\n",
    "model.summary()\n",
    "a = np.array([[1, 1, 1],\n",
    "               [2, 2, 2]])\n",
    "b = np.array([[10, 10, 10],\n",
    "               [20, 20, 20]])\n",
    "c = np.array([[100, 100, 100],\n",
    "              [200, 200, 200]])\n",
    "model.predict([a, b, c])"
   ]
  },
  {
   "cell_type": "markdown",
   "metadata": {
    "collapsed": true
   },
   "source": [
    "## RepeatVector\n",
    "Takes in a tensor and copies it the specified number of times."
   ]
  },
  {
   "cell_type": "code",
   "execution_count": 14,
   "metadata": {},
   "outputs": [
    {
     "name": "stdout",
     "output_type": "stream",
     "text": [
      "_________________________________________________________________\n",
      "Layer (type)                 Output Shape              Param #   \n",
      "=================================================================\n",
      "input_11 (InputLayer)        (None, 3)                 0         \n",
      "_________________________________________________________________\n",
      "repeat_vector_2 (RepeatVecto (None, 2, 3)              0         \n",
      "=================================================================\n",
      "Total params: 0\n",
      "Trainable params: 0\n",
      "Non-trainable params: 0\n",
      "_________________________________________________________________\n",
      "(3, 2, 3)\n",
      "[[[1 1 1]\n",
      "  [1 1 1]]\n",
      "\n",
      " [[2 2 2]\n",
      "  [2 2 2]]\n",
      "\n",
      " [[3 3 3]\n",
      "  [3 3 3]]]\n"
     ]
    }
   ],
   "source": [
    "from keras.models import Model\n",
    "from keras.layers import RepeatVector, Input\n",
    "\n",
    "l0 = Input(shape=(3,), dtype='int32')\n",
    "l1 = RepeatVector(2)(l0)\n",
    "model = Model(l0, l1)\n",
    "model.summary()\n",
    "X = np.array([[1, 1, 1], \n",
    "              [2, 2, 2], \n",
    "              [3, 3, 3]])\n",
    "y = model.predict(X)\n",
    "print(y.shape)\n",
    "print(y)"
   ]
  },
  {
   "cell_type": "markdown",
   "metadata": {
    "collapsed": true
   },
   "source": [
    "## Convolution"
   ]
  },
  {
   "cell_type": "code",
   "execution_count": 15,
   "metadata": {},
   "outputs": [],
   "source": [
    "from keras.models import Model\n",
    "from keras.layers import Input, Conv2D, Conv2DTranspose\n",
    "from keras import backend as K\n",
    "import numpy as np"
   ]
  },
  {
   "cell_type": "code",
   "execution_count": 25,
   "metadata": {},
   "outputs": [
    {
     "name": "stdout",
     "output_type": "stream",
     "text": [
      "_________________________________________________________________\n",
      "Layer (type)                 Output Shape              Param #   \n",
      "=================================================================\n",
      "input_20 (InputLayer)        (None, 4, 4, 1)           0         \n",
      "_________________________________________________________________\n",
      "conv2d_17 (Conv2D)           (None, 2, 2, 1)           10        \n",
      "=================================================================\n",
      "Total params: 10\n",
      "Trainable params: 10\n",
      "Non-trainable params: 0\n",
      "_________________________________________________________________\n",
      "[[[[348.]\n",
      "   [393.]]\n",
      "\n",
      "  [[528.]\n",
      "   [573.]]]]\n"
     ]
    }
   ],
   "source": [
    "def my_init(shape):\n",
    "    w = np.arange(1, 10, dtype=np.float).reshape(shape)\n",
    "    return K.variable(w)\n",
    "\n",
    "x = Input(shape=(4, 4, 1), dtype='float')\n",
    "y = Conv2D(1, 3, kernel_initializer=my_init)(x)\n",
    "model = Model(x, y)\n",
    "model.summary()\n",
    "\n",
    "x_val = np.arange(1, 17, dtype=np.float).reshape(1, 4, 4, 1)\n",
    "y_val = model.predict(x_val)\n",
    "print(y_val)"
   ]
  },
  {
   "cell_type": "code",
   "execution_count": 27,
   "metadata": {},
   "outputs": [
    {
     "name": "stdout",
     "output_type": "stream",
     "text": [
      "_________________________________________________________________\n",
      "Layer (type)                 Output Shape              Param #   \n",
      "=================================================================\n",
      "input_22 (InputLayer)        (None, 2, 2, 1)           0         \n",
      "_________________________________________________________________\n",
      "conv2d_transpose_3 (Conv2DTr (None, 4, 4, 1)           10        \n",
      "=================================================================\n",
      "Total params: 10\n",
      "Trainable params: 10\n",
      "Non-trainable params: 0\n",
      "_________________________________________________________________\n",
      "[[[[  348.]\n",
      "   [ 1089.]\n",
      "   [ 1830.]\n",
      "   [ 1179.]]\n",
      "\n",
      "  [[ 1920.]\n",
      "   [ 4941.]\n",
      "   [ 6783.]\n",
      "   [ 4077.]]\n",
      "\n",
      "  [[ 4548.]\n",
      "   [10467.]\n",
      "   [12309.]\n",
      "   [ 6975.]]\n",
      "\n",
      "  [[ 3696.]\n",
      "   [ 8235.]\n",
      "   [ 9336.]\n",
      "   [ 5157.]]]]\n"
     ]
    }
   ],
   "source": [
    "yt = Input(shape=(2, 2, 1), dtype='float')\n",
    "xt = Conv2DTranspose(1, 3, kernel_initializer=my_init)(yt)\n",
    "modelt = Model(yt, xt)\n",
    "modelt.summary()\n",
    "\n",
    "x_val = modelt.predict(y_val)\n",
    "print(x_val)"
   ]
  },
  {
   "cell_type": "markdown",
   "metadata": {},
   "source": [
    "## Layers"
   ]
  },
  {
   "cell_type": "code",
   "execution_count": 53,
   "metadata": {},
   "outputs": [],
   "source": [
    "from keras.models import Model\n",
    "from keras.layers import Input, Dense\n",
    "from keras import backend as K\n",
    "import keras\n",
    "import numpy as np\n",
    "import tensorflow as tf"
   ]
  },
  {
   "cell_type": "code",
   "execution_count": 43,
   "metadata": {},
   "outputs": [
    {
     "name": "stdout",
     "output_type": "stream",
     "text": [
      "_________________________________________________________________\n",
      "Layer (type)                 Output Shape              Param #   \n",
      "=================================================================\n",
      "input_32 (InputLayer)        (None, 3)                 0         \n",
      "_________________________________________________________________\n",
      "dense_8 (Dense)              (None, 3)                 9         \n",
      "=================================================================\n",
      "Total params: 9\n",
      "Trainable params: 9\n",
      "Non-trainable params: 0\n",
      "_________________________________________________________________\n",
      "[[1. 2. 3.]]\n"
     ]
    }
   ],
   "source": [
    "def my_init(shape):\n",
    "    w = np.eye(shape[0])\n",
    "    return K.variable(w)\n",
    "\n",
    "x = Input(shape=(3,), dtype='float')\n",
    "y = Dense(3, use_bias=False, kernel_initializer=my_init)(x)\n",
    "model = Model(x, y)\n",
    "model.summary()\n",
    "\n",
    "x_val = np.array([1, 2, 3], dtype=np.float).reshape(1, 3)\n",
    "y_val = model.predict(x_val)\n"
   ]
  },
  {
   "cell_type": "code",
   "execution_count": 63,
   "metadata": {},
   "outputs": [],
   "source": [
    "y_true = np.array([1., 0., 1.])\n",
    "y_pred = np.array([0.9, 0.7, 0.8])"
   ]
  },
  {
   "cell_type": "code",
   "execution_count": 64,
   "metadata": {},
   "outputs": [
    {
     "name": "stdout",
     "output_type": "stream",
     "text": [
      "0.51082563\n"
     ]
    }
   ],
   "source": [
    "y_true_t = K.variable(y_true)\n",
    "y_pred_t = K.variable(y_pred)\n",
    "tp = keras.losses.binary_crossentropy(y_true_t, y_pred_t)\n",
    "init = tf.global_variables_initializer()\n",
    "with tf.Session() as sess:\n",
    "    sess.run(init)\n",
    "    loss = tp.eval()\n",
    "print(loss)"
   ]
  },
  {
   "cell_type": "code",
   "execution_count": 77,
   "metadata": {},
   "outputs": [
    {
     "data": {
      "text/plain": [
       "0.5108256237659906"
      ]
     },
     "execution_count": 77,
     "metadata": {},
     "output_type": "execute_result"
    }
   ],
   "source": [
    "- np.mean((y_true*np.log(y_pred) + (1-y_true)*np.log(1-y_pred)))"
   ]
  },
  {
   "cell_type": "code",
   "execution_count": null,
   "metadata": {},
   "outputs": [],
   "source": []
  }
 ],
 "metadata": {
  "kernelspec": {
   "display_name": "Python 3",
   "language": "python",
   "name": "python3"
  },
  "language_info": {
   "codemirror_mode": {
    "name": "ipython",
    "version": 3
   },
   "file_extension": ".py",
   "mimetype": "text/x-python",
   "name": "python",
   "nbconvert_exporter": "python",
   "pygments_lexer": "ipython3",
   "version": "3.6.6"
  }
 },
 "nbformat": 4,
 "nbformat_minor": 2
}
