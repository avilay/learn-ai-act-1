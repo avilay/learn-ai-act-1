{
 "cells": [
  {
   "cell_type": "code",
   "execution_count": 1,
   "metadata": {},
   "outputs": [
    {
     "name": "stderr",
     "output_type": "stream",
     "text": [
      "Using TensorFlow backend.\n"
     ]
    }
   ],
   "source": [
    "import os\n",
    "import os.path as path\n",
    "import numpy as np\n",
    "import matplotlib.pyplot as plt\n",
    "from keras.preprocessing.sequence import pad_sequences\n",
    "from keras.preprocessing.text import Tokenizer\n",
    "from keras.models import Sequential\n",
    "from keras.layers import Flatten, Dense, Embedding"
   ]
  },
  {
   "cell_type": "code",
   "execution_count": 2,
   "metadata": {
    "collapsed": true
   },
   "outputs": [],
   "source": [
    "hyperparams = {\n",
    "    'v': 10000,  # Vocabulary length of the top v words\n",
    "    'n': 100,    # All reviews will be 100 words long, chop of longer ones and pad the shorter ones\n",
    "    'd': 100,    # Dimensionality of the embeddings\n",
    "    'm': 200     # The number of training samples to consider\n",
    "}"
   ]
  },
  {
   "cell_type": "code",
   "execution_count": 3,
   "metadata": {},
   "outputs": [],
   "source": [
    "def load_imdb():\n",
    "    \"\"\"\n",
    "    Download the full IMDB review corpus from ai.stanford.edu/~amaas/data/sentiment/ and extract it to /data/learn-keras/aclImdb. It has a total\n",
    "    of 50,000 reviews, divided equally between test and train directories. There are an equal number of positive and negative reviews, again in\n",
    "    directories named pos and neg respectively. We will be using only train data.\n",
    "    \"\"\"\n",
    "    dataroot = '/data/learn-keras/aclImdb/train'\n",
    "    labels = []\n",
    "    reviews = []\n",
    "    classifications = {'neg': 0, 'pos': 1}\n",
    "    for label, target in classifications.items():\n",
    "        datadir = path.join(dataroot, label)\n",
    "        for fname in os.listdir(datadir):\n",
    "            if fname[-4:] == '.txt':\n",
    "                fpath = path.join(datadir, fname)\n",
    "                with open(fpath, 'rt') as f:\n",
    "                    reviews.append(f.read())\n",
    "                labels.append(target)\n",
    "    labels = np.array(labels)\n",
    "    return reviews, labels"
   ]
  },
  {
   "cell_type": "code",
   "execution_count": 4,
   "metadata": {},
   "outputs": [
    {
     "name": "stdout",
     "output_type": "stream",
     "text": [
      "Story of a man who has unnatural feelings for a pig. Starts out with a opening scene that is a terrific example of absurd comedy. A formal orchestra audience is turned into an insane, violent mob by the crazy chantings of it's singers. Unfortunately it stays absurd the WHOLE time with no general narrative eventually making it just too off putting. Even those from the era should be turned off. The cryptic dialogue would make Shakespeare seem easy to a third grader. On a technical level it's better than you might think with some good cinematography by future great Vilmos Zsigmond. Future stars Sally Kirkland and Frederic Forrest can be seen briefly. 0\n",
      "Working-class romantic drama from director Martin Ritt is as unbelievable as they come, yet there are moments of pleasure due mostly to the charisma of stars Jane Fonda and Robert De Niro (both terrific). She's a widow who can't move on, he's illiterate and a closet-inventor--you can probably guess the rest. Adaptation of Pat Barker's novel \"Union Street\" (a better title!) is so laid-back it verges on bland, and the film's editing is a mess, but it's still pleasant; a rosy-hued blue-collar fantasy. There are no overtures to serious issues (even the illiteracy angle is just a plot-tool for the ensuing love story) and no real fireworks, though the characters are intentionally a bit colorless and the leads are toned down to an interesting degree. The finale is pure fluff--and cynics will find it difficult to swallow--though these two characters deserve a happy ending and the picture wouldn't really be satisfying any other way. *** from **** 1\n"
     ]
    }
   ],
   "source": [
    "tmp_reviews, tmp_labels = load_imdb()\n",
    "print(tmp_reviews[0], tmp_labels[0])\n",
    "print(tmp_reviews[-1], tmp_labels[-1])"
   ]
  },
  {
   "cell_type": "markdown",
   "metadata": {},
   "source": [
    "Tokenize will first convert words into tokens taking care to convert everything to lowercase, ignoring punctuation, etc. It will then replace each document with its corresponding word vector. When building the word vector it will discard any word that is not part of the vocabulary. So the resulting word vector may have less number of elements than the number of tokens in the original document.\n",
    "\n",
    "Then we pad/truncate each word vector such that all vectors are of the same length *n*. For vectors that are smaller than *n*, zeros are padded in the front. For vectors that are longer than *n*, elements are chopped off from the head.\n",
    "\n",
    "Notice how the first review has 112 words. The corresponding raw vector also has 112 elements with a bunch of elements being more than 10,000, which means that these are tokens that are not amongst the top 10,000 tokens and should be discarded. Correspondingly the vector returned by the Tokenizer has 104 elements and all the elements > 10,000 have been dropped. The padded vector is even smaller at 100, with the first 4 elements dropped."
   ]
  },
  {
   "cell_type": "code",
   "execution_count": 5,
   "metadata": {},
   "outputs": [],
   "source": [
    "def tokenize(reviews):\n",
    "    tokenizer = Tokenizer(num_words=hyperparams['v'])\n",
    "    tokenizer.fit_on_texts(reviews)\n",
    "    vectors = tokenizer.texts_to_sequences(reviews)\n",
    "    indexes = tokenizer.word_index\n",
    "    tokens = {index: token for token, index in indexes.items()}\n",
    "    return indexes, tokens, vectors\n",
    "\n",
    "def pad(vectors):\n",
    "    return pad_sequences(vectors, maxlen=hyperparams['n'])"
   ]
  },
  {
   "cell_type": "code",
   "execution_count": 6,
   "metadata": {},
   "outputs": [
    {
     "name": "stdout",
     "output_type": "stream",
     "text": [
      "\n",
      "\n",
      "112 Story of a man who has unnatural feelings for a pig. Starts out with a opening scene that is a terrific example of absurd comedy. A formal orchestra audience is turned into an insane, violent mob by the crazy chantings of it's singers. Unfortunately it stays absurd the WHOLE time with no general narrative eventually making it just too off putting. Even those from the era should be turned off. The cryptic dialogue would make Shakespeare seem easy to a third grader. On a technical level it's better than you might think with some good cinematography by future great Vilmos Zsigmond. Future stars Sally Kirkland and Frederic Forrest can be seen briefly.\n",
      "112 [   62     4     3   129    34    44  7576  1414    15     3  4252   514\n",
      "    43    16     3   633   133    12     6     3  1301   459     4  1751\n",
      "   209     3 10785  7693   308     6   676    80    32    -1  1110  3008\n",
      "    31     1   929 52007     4    42  5120   469     9  2665  1751     1\n",
      "   223    55    16    54   828  1318   847   228     9    40    96   122\n",
      "  1484    57   145    36     1   996   141    27   676   122     1 13886\n",
      "   411    59    94  2278   303   772     5     3   837 11037    20     3\n",
      "  1755   646    42   125    71    22   235   101    16    46    49   624\n",
      "    31   702    84 30568 30569   702   378  3493 12997     2 16816  8422\n",
      "    67    27   107  3348]\n",
      "104 [  62    4    3  129   34   44 7576 1414   15    3 4252  514   43   16    3\n",
      "  633  133   12    6    3 1301  459    4 1751  209    3 7693  308    6  676\n",
      "   80   32 2137 1110 3008   31    1  929    4   42 5120  469    9 2665 1751\n",
      "    1  223   55   16   54  828 1318  847  228    9   40   96  122 1484   57\n",
      "  145   36    1  996  141   27  676  122    1  411   59   94 2278  303  772\n",
      "    5    3  837   20    3 1755  646   42  125   71   22  235  101   16   46\n",
      "   49  624   31  702   84  702  378 3493    2 8422   67   27  107 3348]\n",
      "100 [  34   44 7576 1414   15    3 4252  514   43   16    3  633  133   12    6\n",
      "    3 1301  459    4 1751  209    3 7693  308    6  676   80   32 2137 1110\n",
      " 3008   31    1  929    4   42 5120  469    9 2665 1751    1  223   55   16\n",
      "   54  828 1318  847  228    9   40   96  122 1484   57  145   36    1  996\n",
      "  141   27  676  122    1  411   59   94 2278  303  772    5    3  837   20\n",
      "    3 1755  646   42  125   71   22  235  101   16   46   49  624   31  702\n",
      "   84  702  378 3493    2 8422   67   27  107 3348]\n"
     ]
    }
   ],
   "source": [
    "# tmp_reviews, tmp_labels = load_imdb()\n",
    "tmp_indexes, tmp_tokens, tmp_vectors = tokenize(tmp_reviews)\n",
    "tmp_padded_vectors = pad(tmp_vectors)\n",
    "\n",
    "tmp_review = tmp_reviews[0]\n",
    "tmp_vector = tmp_vectors[0]\n",
    "tmp_padded_vector = tmp_padded_vectors[0]\n",
    "tmp_raw_vector = []\n",
    "for word in tmp_review.split():\n",
    "    word = word.lower()\n",
    "    if word.endswith('.'):\n",
    "        word = word[:-1]\n",
    "    index = tmp_indexes.get(word, -1)\n",
    "    tmp_raw_vector.append(index)\n",
    "tmp_raw_vector = np.array(tmp_raw_vector)\n",
    "print('\\n')\n",
    "print(len(tmp_review.split()), tmp_review)\n",
    "print(len(tmp_raw_vector), tmp_raw_vector)\n",
    "print(len(tmp_vector), np.array(tmp_vector))\n",
    "print(len(tmp_padded_vector), tmp_padded_vector)"
   ]
  },
  {
   "cell_type": "code",
   "execution_count": 7,
   "metadata": {},
   "outputs": [],
   "source": [
    "def shuffle(vectors, targets):\n",
    "    indices = np.arange(vectors.shape[0])\n",
    "    np.random.shuffle(indices)\n",
    "    return vectors[indices], targets[indices]\n",
    "\n",
    "def get_train_val(vectors, targets):\n",
    "    val_size = 10000\n",
    "    m = hyperparams['m']\n",
    "    return (vectors[:m], targets[:m]), (vectors[m:val_size], targets[m:val_size])"
   ]
  },
  {
   "cell_type": "code",
   "execution_count": 8,
   "metadata": {},
   "outputs": [
    {
     "name": "stdout",
     "output_type": "stream",
     "text": [
      "(200, 100) (9800, 100)\n"
     ]
    }
   ],
   "source": [
    "# tmp_reviews, tmp_labels = load_imdb()\n",
    "# tmp_indexes, tmp_tokens, tmp_vectors = tokenize(tmp_reviews)\n",
    "# tmp_padded_vectors = pad(tmp_vectors)\n",
    "tmp_shuffled_padded_vectors, tmp_shuffled_labels = shuffle(tmp_padded_vectors, tmp_labels)\n",
    "(tmp_x_train, tmp_y_train), (tmp_x_test, tmp_y_test) = get_train_val(tmp_shuffled_padded_vectors, tmp_shuffled_labels)\n",
    "print(tmp_x_train.shape, tmp_x_test.shape)"
   ]
  },
  {
   "cell_type": "markdown",
   "metadata": {},
   "source": [
    "Load the Glove embeddings. This is exactly the same code in Embeddings notebook. Look for explanation there."
   ]
  },
  {
   "cell_type": "code",
   "execution_count": 9,
   "metadata": {},
   "outputs": [],
   "source": [
    "def load_embeddings_matrix(indexes):\n",
    "    v = hyperparams['v']\n",
    "    d = hyperparams['d']\n",
    "    \n",
    "    embeddings_indexes = {}\n",
    "    with open(f'/data/learn-keras/glove.6B.{d}d.txt', 'rt') as f:\n",
    "        for line in f:\n",
    "            flds = line.split()\n",
    "            word = flds[0]\n",
    "            embeddings_vec = np.array(flds[1:], dtype=np.float32)\n",
    "            embeddings_indexes[word] = embeddings_vec\n",
    "            \n",
    "    embeddings_matrix = np.zeros((v, d))\n",
    "    words_no_embeddings = []\n",
    "    for word, index in indexes.items():\n",
    "        if index < v:\n",
    "            if word in embeddings_indexes:\n",
    "                embeddings_vec = embeddings_indexes[word]\n",
    "                embeddings_matrix[index] = embeddings_vec\n",
    "            else:\n",
    "                words_no_embeddings.append(word)\n",
    "    print(f'Unable to find embeddings for {len(words_no_embeddings)} words')\n",
    "    print(words_no_embeddings[:10])\n",
    "    return embeddings_matrix"
   ]
  },
  {
   "cell_type": "code",
   "execution_count": 10,
   "metadata": {},
   "outputs": [
    {
     "name": "stdout",
     "output_type": "stream",
     "text": [
      "Unable to find embeddings for 199 words\n",
      "[\"it's\", \"don't\", \"i'm\", \"doesn't\", \"didn't\", \"can't\", \"that's\", \"i've\", \"isn't\", \"there's\"]\n"
     ]
    },
    {
     "data": {
      "text/plain": [
       "array([-0.038194  , -0.24487001,  0.72812003, -0.39961001,  0.083172  ,\n",
       "        0.043953  , -0.39140999,  0.3344    , -0.57545   ,  0.087459  ,\n",
       "        0.28786999, -0.06731   ,  0.30906001, -0.26383999, -0.13231   ,\n",
       "       -0.20757   ,  0.33395001, -0.33848   , -0.31742999, -0.48335999,\n",
       "        0.1464    , -0.37303999,  0.34577   ,  0.052041  ,  0.44946   ,\n",
       "       -0.46970999,  0.02628   , -0.54154998, -0.15518001, -0.14106999,\n",
       "       -0.039722  ,  0.28277001,  0.14393   ,  0.23464   , -0.31020999,\n",
       "        0.086173  ,  0.20397   ,  0.52623999,  0.17163999, -0.082378  ,\n",
       "       -0.71787   , -0.41531   ,  0.20334999, -0.12763   ,  0.41367   ,\n",
       "        0.55186999,  0.57907999, -0.33476999, -0.36559001, -0.54856998,\n",
       "       -0.062892  ,  0.26583999,  0.30204999,  0.99774998, -0.80480999,\n",
       "       -3.0243001 ,  0.01254   , -0.36941999,  2.21670008,  0.72201002,\n",
       "       -0.24978   ,  0.92136002,  0.034514  ,  0.46744999,  1.10790002,\n",
       "       -0.19358   , -0.074575  ,  0.23353   , -0.052062  , -0.22044   ,\n",
       "        0.057162  , -0.15806   , -0.30798   , -0.41624999,  0.37972   ,\n",
       "        0.15006   , -0.53211999, -0.20550001, -1.25259995,  0.071624  ,\n",
       "        0.70564997,  0.49744001, -0.42063001,  0.26148   , -1.53799999,\n",
       "       -0.30223   , -0.073438  , -0.28312001,  0.37103999, -0.25217   ,\n",
       "        0.016215  , -0.017099  , -0.38984001,  0.87423998, -0.72569001,\n",
       "       -0.51058   , -0.52028   , -0.1459    ,  0.82779998,  0.27061999])"
      ]
     },
     "execution_count": 10,
     "metadata": {},
     "output_type": "execute_result"
    }
   ],
   "source": [
    "# tmp_reviews, tmp_labels = load_imdb()\n",
    "# tmp_indexes, tmp_tokens, tmp_vectors = tokenize(tmp_reviews)\n",
    "tmp_mat = load_embeddings_matrix(tmp_indexes)\n",
    "tmp_mat[tmp_indexes['the']]"
   ]
  },
  {
   "cell_type": "markdown",
   "metadata": {},
   "source": [
    "Design the model. Again exact same model as that described in Embeddings notebook."
   ]
  },
  {
   "cell_type": "code",
   "execution_count": 11,
   "metadata": {},
   "outputs": [],
   "source": [
    "def design_model(embeddings_matrix):\n",
    "    v = hyperparams['v']\n",
    "    d = hyperparams['d']\n",
    "    n = hyperparams['n']\n",
    "    model = Sequential()\n",
    "    model.add(Embedding(v, d, input_shape=(n,)))\n",
    "    model.add(Flatten())\n",
    "    model.add(Dense(1, activation='sigmoid'))\n",
    "    model.layers[0].set_weights([embeddings_matrix])\n",
    "    model.layers[0].trainable = False\n",
    "    model.compile(optimizer='rmsprop', loss='binary_crossentropy', metrics=['acc'])\n",
    "    return model"
   ]
  },
  {
   "cell_type": "code",
   "execution_count": 12,
   "metadata": {},
   "outputs": [
    {
     "name": "stdout",
     "output_type": "stream",
     "text": [
      "_________________________________________________________________\n",
      "Layer (type)                 Output Shape              Param #   \n",
      "=================================================================\n",
      "embedding_1 (Embedding)      (None, 100, 100)          1000000   \n",
      "_________________________________________________________________\n",
      "flatten_1 (Flatten)          (None, 10000)             0         \n",
      "_________________________________________________________________\n",
      "dense_1 (Dense)              (None, 1)                 10001     \n",
      "=================================================================\n",
      "Total params: 1,010,001\n",
      "Trainable params: 10,001\n",
      "Non-trainable params: 1,000,000\n",
      "_________________________________________________________________\n"
     ]
    }
   ],
   "source": [
    "# tmp_reviews, tmp_labels = load_imdb()\n",
    "# tmp_indexes, tmp_tokens, tmp_vectors = tokenize(tmp_reviews)\n",
    "# tmp_mat = load_embeddings_matrix(tmp_indexes)\n",
    "tmp_model = design_model(tmp_mat)\n",
    "tmp_model.summary()"
   ]
  },
  {
   "cell_type": "markdown",
   "metadata": {},
   "source": [
    "Run the entire process"
   ]
  },
  {
   "cell_type": "code",
   "execution_count": 15,
   "metadata": {},
   "outputs": [
    {
     "name": "stdout",
     "output_type": "stream",
     "text": [
      "Unable to find embeddings for 199 words\n",
      "[\"it's\", \"don't\", \"i'm\", \"doesn't\", \"didn't\", \"can't\", \"that's\", \"i've\", \"isn't\", \"there's\"]\n",
      "Train on 200 samples, validate on 9800 samples\n",
      "Epoch 1/10\n",
      "200/200 [==============================] - 0s - loss: 1.1920 - acc: 0.4500 - val_loss: 0.7111 - val_acc: 0.5383\n",
      "Epoch 2/10\n",
      "200/200 [==============================] - 0s - loss: 0.5359 - acc: 0.7700 - val_loss: 0.7090 - val_acc: 0.5467\n",
      "Epoch 3/10\n",
      "200/200 [==============================] - 0s - loss: 0.3722 - acc: 0.8650 - val_loss: 0.8336 - val_acc: 0.5150\n",
      "Epoch 4/10\n",
      "200/200 [==============================] - 0s - loss: 0.3898 - acc: 0.8400 - val_loss: 0.7228 - val_acc: 0.5515\n",
      "Epoch 5/10\n",
      "200/200 [==============================] - 0s - loss: 0.2281 - acc: 0.9650 - val_loss: 0.7110 - val_acc: 0.5616\n",
      "Epoch 6/10\n",
      "200/200 [==============================] - 0s - loss: 0.1797 - acc: 1.0000 - val_loss: 0.8085 - val_acc: 0.5364\n",
      "Epoch 7/10\n",
      "200/200 [==============================] - 0s - loss: 0.1725 - acc: 0.9850 - val_loss: 0.7319 - val_acc: 0.5635\n",
      "Epoch 8/10\n",
      "200/200 [==============================] - 0s - loss: 0.1300 - acc: 0.9950 - val_loss: 0.9956 - val_acc: 0.5168\n",
      "Epoch 9/10\n",
      "200/200 [==============================] - 0s - loss: 0.1210 - acc: 0.9850 - val_loss: 0.8314 - val_acc: 0.5413\n",
      "Epoch 10/10\n",
      "200/200 [==============================] - 0s - loss: 0.0728 - acc: 1.0000 - val_loss: 0.8608 - val_acc: 0.5330\n"
     ]
    }
   ],
   "source": [
    "reviews, labels = load_imdb()\n",
    "indexes, tokens, vectors = tokenize(reviews)\n",
    "vectors = pad(vectors)\n",
    "vectors, labels = shuffle(vectors, labels)\n",
    "(x_train, y_train), (x_val, y_val) = get_train_val(vectors, labels)\n",
    "embeddings_matrix = load_embeddings_matrix(indexes)\n",
    "model = design_model(embeddings_matrix)\n",
    "history = model.fit(x_train, y_train,\n",
    "                    epochs=10,\n",
    "                    batch_size=32,\n",
    "                    validation_data=(x_val, y_val))"
   ]
  },
  {
   "cell_type": "code",
   "execution_count": 16,
   "metadata": {
    "collapsed": true
   },
   "outputs": [],
   "source": [
    "model.save_weights('pre_trained_glove_model.h5')"
   ]
  },
  {
   "cell_type": "code",
   "execution_count": 19,
   "metadata": {},
   "outputs": [],
   "source": [
    "import utils\n",
    "\n",
    "utils.plot(history)"
   ]
  },
  {
   "cell_type": "code",
   "execution_count": 20,
   "metadata": {},
   "outputs": [
    {
     "data": {
      "image/png": "[encoded data removed]",
      "text/plain": [
       "<matplotlib.figure.Figure at 0x127db05f8>"
      ]
     },
     "metadata": {},
     "output_type": "display_data"
    }
   ],
   "source": [
    "plt.show()"
   ]
  },
  {
   "cell_type": "code",
   "execution_count": null,
   "metadata": {
    "collapsed": true
   },
   "outputs": [],
   "source": []
  }
 ],
 "metadata": {
  "kernelspec": {
   "display_name": "Python 3",
   "language": "python",
   "name": "python3"
  },
  "language_info": {
   "codemirror_mode": {
    "name": "ipython",
    "version": 3
   },
   "file_extension": ".py",
   "mimetype": "text/x-python",
   "name": "python",
   "nbconvert_exporter": "python",
   "pygments_lexer": "ipython3",
   "version": "3.6.1"
  }
 },
 "nbformat": 4,
 "nbformat_minor": 2
}
