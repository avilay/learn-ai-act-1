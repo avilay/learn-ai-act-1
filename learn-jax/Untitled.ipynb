{
 "cells": [
  {
   "cell_type": "code",
   "execution_count": 1,
   "id": "f8fa57d3-c4ec-4d20-a52c-eb1ec1b93594",
   "metadata": {},
   "outputs": [],
   "source": [
    "import torch as t\n",
    "import torch.nn.functional as F\n",
    "import jax.numpy as jnp\n",
    "import numpy as np\n",
    "from jax import grad, jit, vmap, random\n",
    "from jax.scipy.special import logsumexp"
   ]
  },
  {
   "cell_type": "code",
   "execution_count": 2,
   "id": "be2dbf74-f66b-4920-93ef-46b298f6ec1f",
   "metadata": {},
   "outputs": [
    {
     "name": "stderr",
     "output_type": "stream",
     "text": [
      "WARNING:absl:No GPU/TPU found, falling back to CPU. (Set TF_CPP_MIN_LOG_LEVEL=0 and rerun for more info.)\n"
     ]
    }
   ],
   "source": [
    "key = random.PRNGKey(0)\n",
    "rng = np.random.default_rng()"
   ]
  },
  {
   "cell_type": "markdown",
   "id": "4edd1dcd-1c98-4f7a-9c87-cf45d003b5a5",
   "metadata": {},
   "source": [
    "# A different way of calculating softmax\n",
    "\n",
    "Standard way of calculating softmax is \n",
    "\n",
    "$$\n",
    "p_k = \\frac{e^{h_k}}{\\sum e^{h_k}} \\\\\n",
    "l_k = log(p_k) \\\\\n",
    "$$\n",
    "\n",
    "Where $\\mathbf h$ is the vector of logits."
   ]
  },
  {
   "cell_type": "code",
   "execution_count": 3,
   "id": "0c9f5af8-03db-46be-a477-965b0eca7de5",
   "metadata": {},
   "outputs": [],
   "source": [
    "logits = np.array([1, 2, 3], dtype=np.float32)"
   ]
  },
  {
   "cell_type": "code",
   "execution_count": 4,
   "id": "41fc7220-ee30-4607-abe9-eabd519cbbf0",
   "metadata": {},
   "outputs": [
    {
     "name": "stdout",
     "output_type": "stream",
     "text": [
      "probs = [0.09003058 0.24472846 0.66524094]\n",
      "logprobs = [-2.407606   -1.407606   -0.40760598]\n"
     ]
    }
   ],
   "source": [
    "p = np.exp(logits) / np.sum(np.exp(logits))\n",
    "l = np.log(p)\n",
    "print(f\"probs = {p}\")\n",
    "print(f\"logprobs = {l}\")"
   ]
  },
  {
   "cell_type": "markdown",
   "id": "d57f8ab8-6657-412f-9be7-6c740a0f7f8e",
   "metadata": {},
   "source": [
    "Lets verify this with using PyTorch's softmax to ensure that I have not made any errors in my manual calculation."
   ]
  },
  {
   "cell_type": "code",
   "execution_count": 5,
   "id": "993e56fd-3dee-4fe1-b299-f237baf37f84",
   "metadata": {},
   "outputs": [
    {
     "data": {
      "text/plain": [
       "tensor([-2.4076, -1.4076, -0.4076])"
      ]
     },
     "execution_count": 5,
     "metadata": {},
     "output_type": "execute_result"
    }
   ],
   "source": [
    "t.log(F.softmax(t.from_numpy(logits), dim=0))"
   ]
  },
  {
   "cell_type": "markdown",
   "id": "d083bc47-a9db-4dd2-baa6-a737cf4f869b",
   "metadata": {},
   "source": [
    "The other way of calculating softmax is - \n",
    "\n",
    "$$\n",
    "\\begin{align}\n",
    "l_k &= log(p_k) \\\\\n",
    "&= log\\left(\\frac{e^{h_k}}{\\sum e^{h_k}}\\right) \\\\\n",
    "&= log\\left(e^{h_k}\\right) - log\\left(\\sum e^{h_k}\\right) \\\\\n",
    "&= h_k - log \\left( \\sum e^{h_k} \\right) \\\\\n",
    "\\end{align}\n",
    "$$"
   ]
  },
  {
   "cell_type": "code",
   "execution_count": 6,
   "id": "9a095cd9-589d-40cd-b48d-d46752bf90ca",
   "metadata": {},
   "outputs": [
    {
     "data": {
      "text/plain": [
       "array([-2.407606 , -1.4076059, -0.4076059], dtype=float32)"
      ]
     },
     "execution_count": 6,
     "metadata": {},
     "output_type": "execute_result"
    }
   ],
   "source": [
    "logits - np.log(np.sum(np.exp(logits)))"
   ]
  },
  {
   "cell_type": "markdown",
   "id": "953b12e5-abe9-41d3-ac2f-4306e6a320fa",
   "metadata": {},
   "source": [
    "## Define the net weights"
   ]
  },
  {
   "cell_type": "code",
   "execution_count": 7,
   "id": "032b5d2a-1ec6-4e53-a54e-f7af1e3bd8f0",
   "metadata": {},
   "outputs": [],
   "source": [
    "w_key, b_key = random.split(key)\n",
    "scale = 0.1\n",
    "n_targets = 10"
   ]
  },
  {
   "cell_type": "code",
   "execution_count": 8,
   "id": "8800d947-a737-4ff6-be5f-56b99be2522e",
   "metadata": {},
   "outputs": [],
   "source": [
    "# W \\in in_features \\times out_features\n",
    "\n",
    "w1 = scale * random.normal(w_key, (784, 512))\n",
    "b1 = scale * random.normal(b_key, (512,))\n",
    "\n",
    "w2 = scale * random.normal(w_key, (512, 256))\n",
    "b2 = scale * random.normal(b_key, (256,))\n",
    "\n",
    "w3 = scale * random.normal(w_key, (256, 10))\n",
    "b3 = scale * random.normal(b_key, (10,))"
   ]
  },
  {
   "cell_type": "markdown",
   "id": "00c77b1c-70b6-47a1-8ce0-adec290c27b1",
   "metadata": {},
   "source": [
    "## Define the forward function"
   ]
  },
  {
   "cell_type": "code",
   "execution_count": 9,
   "id": "9a49bdbe-cef0-4bd6-860a-e78664563938",
   "metadata": {},
   "outputs": [],
   "source": [
    "def relu(x):\n",
    "    return jnp.maximum(0, x)"
   ]
  },
  {
   "cell_type": "code",
   "execution_count": 10,
   "id": "8875eb3e-ae6b-43d0-9a47-910f05d46a3b",
   "metadata": {},
   "outputs": [],
   "source": [
    "x = random.normal(key, (28*28,))"
   ]
  },
  {
   "cell_type": "code",
   "execution_count": 11,
   "id": "365c24c3-3e44-4bb6-aee5-2d5799e32b4a",
   "metadata": {},
   "outputs": [
    {
     "data": {
      "text/plain": [
       "(512,)"
      ]
     },
     "execution_count": 11,
     "metadata": {},
     "output_type": "execute_result"
    }
   ],
   "source": [
    "z1 = jnp.dot(w1.T, x) + b1\n",
    "a1 = relu(z1)\n",
    "a1.shape"
   ]
  },
  {
   "cell_type": "code",
   "execution_count": 12,
   "id": "a2225cfc-666f-4f05-bcfb-c7c73cb59ce1",
   "metadata": {},
   "outputs": [
    {
     "data": {
      "text/plain": [
       "(256,)"
      ]
     },
     "execution_count": 12,
     "metadata": {},
     "output_type": "execute_result"
    }
   ],
   "source": [
    "z2 = jnp.dot(w2.T, a1) + b2\n",
    "a2 = relu(z2)\n",
    "a2.shape"
   ]
  },
  {
   "cell_type": "code",
   "execution_count": 13,
   "id": "ccee13c7-795d-49ba-9895-4a79b1f95285",
   "metadata": {},
   "outputs": [
    {
     "data": {
      "text/plain": [
       "(10,)"
      ]
     },
     "execution_count": 13,
     "metadata": {},
     "output_type": "execute_result"
    }
   ],
   "source": [
    "logits = jnp.dot(w3.T, a2) + b3\n",
    "logits.shape"
   ]
  },
  {
   "cell_type": "code",
   "execution_count": 14,
   "id": "5f7ab651-a3f9-4c98-8bd7-a25f4264bc86",
   "metadata": {},
   "outputs": [
    {
     "data": {
      "text/plain": [
       "DeviceArray([-5.9046612e+00, -8.3773727e+00, -1.5425657e+01,\n",
       "             -8.2383070e+00, -1.9056673e+01, -1.2999908e+01,\n",
       "             -5.3692966e+00, -9.7851343e+00, -8.2426071e-03,\n",
       "             -8.2100334e+00], dtype=float32)"
      ]
     },
     "execution_count": 14,
     "metadata": {},
     "output_type": "execute_result"
    }
   ],
   "source": [
    "logprobs = logits - logsumexp(logits)\n",
    "logprobs"
   ]
  },
  {
   "cell_type": "code",
   "execution_count": 15,
   "id": "2d289322-bb6f-49d9-b62e-9537b0631805",
   "metadata": {},
   "outputs": [],
   "source": [
    "def forward(x):\n",
    "    z1 = jnp.dot(w1.T, x) + b1\n",
    "    a1 = relu(z1)\n",
    "    \n",
    "    z2 = jnp.dot(w2.T, a1) + b2\n",
    "    a2 = relu(z2)\n",
    "    \n",
    "    logits = jnp.dot(w3.T, a2) + b3\n",
    "    logprobs = logits - logsumexp(logits)\n",
    "    return logprobs"
   ]
  },
  {
   "cell_type": "code",
   "execution_count": 16,
   "id": "3a1145e6-a149-414b-9348-efcdb8d7341c",
   "metadata": {},
   "outputs": [
    {
     "data": {
      "text/plain": [
       "DeviceArray([-5.9046612e+00, -8.3773727e+00, -1.5425657e+01,\n",
       "             -8.2383070e+00, -1.9056673e+01, -1.2999908e+01,\n",
       "             -5.3692966e+00, -9.7851343e+00, -8.2426071e-03,\n",
       "             -8.2100334e+00], dtype=float32)"
      ]
     },
     "execution_count": 16,
     "metadata": {},
     "output_type": "execute_result"
    }
   ],
   "source": [
    "img = random.normal(key, (28*28,))\n",
    "y_hat = forward(img)\n",
    "y_hat"
   ]
  },
  {
   "cell_type": "code",
   "execution_count": 17,
   "id": "7a638e86-7070-49e8-9aa4-5a4a79944827",
   "metadata": {},
   "outputs": [
    {
     "data": {
      "text/plain": [
       "(3, 784)"
      ]
     },
     "execution_count": 17,
     "metadata": {},
     "output_type": "execute_result"
    }
   ],
   "source": [
    "imgs = random.normal(key, (3, 28*28))\n",
    "imgs.shape"
   ]
  },
  {
   "cell_type": "code",
   "execution_count": 19,
   "id": "0825bc38-b3f8-4f24-b3ac-2e1e6d022c6f",
   "metadata": {},
   "outputs": [
    {
     "name": "stdout",
     "output_type": "stream",
     "text": [
      "Incompatible shapes for dot: got (512, 784) and (3, 784).\n"
     ]
    }
   ],
   "source": [
    "try:\n",
    "    forward(imgs)\n",
    "except TypeError as te:\n",
    "    print(te)"
   ]
  },
  {
   "cell_type": "code",
   "execution_count": 20,
   "id": "c8bc90fc-bb97-4605-b675-62a2c1d8db67",
   "metadata": {},
   "outputs": [],
   "source": [
    "forward_batch = vmap(forward, in_axes=(0,))"
   ]
  },
  {
   "cell_type": "code",
   "execution_count": 21,
   "id": "355187cb-1dd9-496f-b32f-aa96155d4e5d",
   "metadata": {},
   "outputs": [
    {
     "data": {
      "text/plain": [
       "(3, 10)"
      ]
     },
     "execution_count": 21,
     "metadata": {},
     "output_type": "execute_result"
    }
   ],
   "source": [
    "y_hat = forward_batch(imgs)\n",
    "y_hat.shape"
   ]
  },
  {
   "cell_type": "markdown",
   "id": "edf17533-9c80-4d6c-afa2-491f3a7bfb14",
   "metadata": {},
   "source": [
    "## Define loss function"
   ]
  },
  {
   "cell_type": "code",
   "execution_count": 25,
   "id": "317a7354-e366-4b15-8904-9e2a1a9bab2a",
   "metadata": {},
   "outputs": [
    {
     "data": {
      "text/plain": [
       "DeviceArray([0, 2, 6], dtype=int32)"
      ]
     },
     "execution_count": 25,
     "metadata": {},
     "output_type": "execute_result"
    }
   ],
   "source": [
    "y = jnp.array(rng.integers(low=0, high=10, size=3))\n",
    "y"
   ]
  },
  {
   "cell_type": "code",
   "execution_count": 27,
   "id": "f73e9d9b-b42d-49e6-bc3c-8e2851fc3166",
   "metadata": {},
   "outputs": [
    {
     "data": {
      "text/plain": [
       "DeviceArray([0, 1, 2, 3, 4, 5, 6, 7, 8, 9], dtype=int32)"
      ]
     },
     "execution_count": 27,
     "metadata": {},
     "output_type": "execute_result"
    }
   ],
   "source": [
    "jnp.arange(10)"
   ]
  },
  {
   "cell_type": "code",
   "execution_count": 28,
   "id": "f7288a36-aed1-4212-bc55-08741be3abfc",
   "metadata": {},
   "outputs": [
    {
     "data": {
      "text/plain": [
       "DeviceArray([[ True, False, False, False, False, False, False, False,\n",
       "              False, False],\n",
       "             [False, False,  True, False, False, False, False, False,\n",
       "              False, False],\n",
       "             [False, False, False, False, False, False,  True, False,\n",
       "              False, False]], dtype=bool)"
      ]
     },
     "execution_count": 28,
     "metadata": {},
     "output_type": "execute_result"
    }
   ],
   "source": [
    "y[:, None] == jnp.arange(10)"
   ]
  },
  {
   "cell_type": "code",
   "execution_count": 32,
   "id": "cf795536-23ea-4107-92e7-82163464f682",
   "metadata": {},
   "outputs": [
    {
     "data": {
      "text/plain": [
       "array([[9],\n",
       "       [4],\n",
       "       [4]])"
      ]
     },
     "execution_count": 32,
     "metadata": {},
     "output_type": "execute_result"
    }
   ],
   "source": [
    "y = rng.integers(low=0, high=10, size=3).reshape(-1, 1)\n",
    "y"
   ]
  },
  {
   "cell_type": "code",
   "execution_count": 33,
   "id": "428b151b-ca0e-4803-924a-7d6f8871ce36",
   "metadata": {},
   "outputs": [
    {
     "data": {
      "text/plain": [
       "array([[False, False, False, False, False, False, False, False, False,\n",
       "         True],\n",
       "       [False, False, False, False,  True, False, False, False, False,\n",
       "        False],\n",
       "       [False, False, False, False,  True, False, False, False, False,\n",
       "        False]])"
      ]
     },
     "execution_count": 33,
     "metadata": {},
     "output_type": "execute_result"
    }
   ],
   "source": [
    "y == np.arange(10)"
   ]
  },
  {
   "cell_type": "code",
   "execution_count": 34,
   "id": "dff8845b-d1a2-4523-951e-48627f175d8f",
   "metadata": {},
   "outputs": [],
   "source": [
    "tp = np.array([\n",
    "    np.arange(10),\n",
    "    np.arange(10),\n",
    "    np.arange(10)\n",
    "])"
   ]
  },
  {
   "cell_type": "code",
   "execution_count": 35,
   "id": "df6af81d-4975-4c8a-aecf-2f805c39c130",
   "metadata": {},
   "outputs": [
    {
     "data": {
      "text/plain": [
       "array([[0, 1, 2, 3, 4, 5, 6, 7, 8, 9],\n",
       "       [0, 1, 2, 3, 4, 5, 6, 7, 8, 9],\n",
       "       [0, 1, 2, 3, 4, 5, 6, 7, 8, 9]])"
      ]
     },
     "execution_count": 35,
     "metadata": {},
     "output_type": "execute_result"
    }
   ],
   "source": [
    "tp"
   ]
  },
  {
   "cell_type": "code",
   "execution_count": 36,
   "id": "93171fab-72cd-44d1-bccb-8b8696e9a80b",
   "metadata": {},
   "outputs": [
    {
     "data": {
      "text/plain": [
       "array([[False, False, False, False, False, False, False, False, False,\n",
       "         True],\n",
       "       [False, False, False, False,  True, False, False, False, False,\n",
       "        False],\n",
       "       [False, False, False, False,  True, False, False, False, False,\n",
       "        False]])"
      ]
     },
     "execution_count": 36,
     "metadata": {},
     "output_type": "execute_result"
    }
   ],
   "source": [
    "y == tp"
   ]
  },
  {
   "cell_type": "code",
   "execution_count": 37,
   "id": "11450724-9bb9-4f09-a2c4-1794a78c47bc",
   "metadata": {},
   "outputs": [
    {
     "data": {
      "text/plain": [
       "array([[False, False, False, False, False, False, False, False, False,\n",
       "         True],\n",
       "       [False, False, False, False,  True, False, False, False, False,\n",
       "        False],\n",
       "       [False, False, False, False,  True, False, False, False, False,\n",
       "        False]])"
      ]
     },
     "execution_count": 37,
     "metadata": {},
     "output_type": "execute_result"
    }
   ],
   "source": [
    "tp == y"
   ]
  },
  {
   "cell_type": "code",
   "execution_count": null,
   "id": "6760442f-7246-400f-af44-719ba6c9371a",
   "metadata": {},
   "outputs": [],
   "source": []
  }
 ],
 "metadata": {
  "kernelspec": {
   "display_name": "Python 3",
   "language": "python",
   "name": "python3"
  },
  "language_info": {
   "codemirror_mode": {
    "name": "ipython",
    "version": 3
   },
   "file_extension": ".py",
   "mimetype": "text/x-python",
   "name": "python",
   "nbconvert_exporter": "python",
   "pygments_lexer": "ipython3",
   "version": "3.9.6 (default, Sep 26 2022, 11:37:49) \n[Clang 14.0.0 (clang-1400.0.29.202)]"
  },
  "vscode": {
   "interpreter": {
    "hash": "31f2aee4e71d21fbe5cf8b01ff0e069b9275f58929596ceb00d14d90e3e16cd6"
   }
  }
 },
 "nbformat": 4,
 "nbformat_minor": 5
}
