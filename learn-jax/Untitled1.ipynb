{
 "cells": [
  {
   "cell_type": "code",
   "execution_count": 1,
   "id": "e4c6dce4-b3d9-472d-a021-2fad7a6f7215",
   "metadata": {},
   "outputs": [],
   "source": [
    "import jax.numpy as jnp\n",
    "from jax import grad, jit, vmap\n",
    "from jax import random\n",
    "from jax.scipy.special import logsumexp"
   ]
  },
  {
   "cell_type": "code",
   "execution_count": 2,
   "id": "af6750d1-78ab-466f-b5dc-e9b284466f7d",
   "metadata": {},
   "outputs": [
    {
     "name": "stderr",
     "output_type": "stream",
     "text": [
      "WARNING:absl:No GPU/TPU found, falling back to CPU. (Set TF_CPP_MIN_LOG_LEVEL=0 and rerun for more info.)\n"
     ]
    }
   ],
   "source": [
    "key = random.PRNGKey(0)"
   ]
  },
  {
   "cell_type": "code",
   "execution_count": 3,
   "id": "c5791752-2fdb-42c6-8880-8c2e34fc74e9",
   "metadata": {},
   "outputs": [],
   "source": [
    "def init_network_params():\n",
    "    scale = 0.1\n",
    "    \n",
    "    w_key, b_key = random.split(key)\n",
    "    w1 = scale * random.normal(w_key, (784, 512))\n",
    "    b1 = scale * random.normal(b_key, (512,))\n",
    "\n",
    "    w_key, b_key = random.split(key)\n",
    "    w2 = scale * random.normal(w_key, (512, 256))\n",
    "    b2 = scale * random.normal(b_key, (256,))\n",
    "\n",
    "    w_key, b_key = random.split(key)\n",
    "    w3 = scale * random.normal(w_key, (256, 10))\n",
    "    b3 = scale * random.normal(b_key, (10,))\n",
    "    \n",
    "    return [\n",
    "        (w1, b1),\n",
    "        (w2, b2),\n",
    "        (w3, b3)\n",
    "    ]\n"
   ]
  },
  {
   "cell_type": "code",
   "execution_count": 4,
   "id": "7b91d95f-0333-475a-9ef0-908b671c7cac",
   "metadata": {},
   "outputs": [],
   "source": [
    "params = init_network_params()"
   ]
  },
  {
   "cell_type": "code",
   "execution_count": 5,
   "id": "c84f1014-acf2-4807-b499-d0bb01b4586f",
   "metadata": {},
   "outputs": [
    {
     "name": "stdout",
     "output_type": "stream",
     "text": [
      "0 (784, 512) (512,)\n",
      "1 (512, 256) (256,)\n",
      "2 (256, 10) (10,)\n"
     ]
    }
   ],
   "source": [
    "for i, param in enumerate(params):\n",
    "    print(i, param[0].shape, param[1].shape)"
   ]
  },
  {
   "cell_type": "code",
   "execution_count": 6,
   "id": "e75d85a2-acd9-4263-9cb2-c08af70422fb",
   "metadata": {},
   "outputs": [],
   "source": [
    "def relu(x):\n",
    "    return jnp.maximum(0, x)\n",
    "\n",
    "\n",
    "scale = 0.1\n",
    "    \n",
    "w_key, b_key = random.split(key)\n",
    "w1 = scale * random.normal(w_key, (784, 512))\n",
    "b1 = scale * random.normal(b_key, (512,))\n",
    "\n",
    "w_key, b_key = random.split(key)\n",
    "w2 = scale * random.normal(w_key, (512, 256))\n",
    "b2 = scale * random.normal(b_key, (256,))\n",
    "\n",
    "w_key, b_key = random.split(key)\n",
    "w3 = scale * random.normal(w_key, (256, 10))\n",
    "b3 = scale * random.normal(b_key, (10,))\n",
    "\n",
    "\n",
    "def forward(image):\n",
    "    x = image\n",
    "    \n",
    "    z1 = jnp.dot(w1.T, x) + b1\n",
    "    a1 = relu(z1)\n",
    "    \n",
    "    z2 = jnp.dot(w2.T, a1) + b2\n",
    "    a2 = relu(z2)\n",
    "    \n",
    "    logits = jnp.dot(w3.T, a2) + b3\n",
    "    logprobs = logits - logsumexp(logits)\n",
    "    return logprobs\n",
    "    "
   ]
  },
  {
   "cell_type": "code",
   "execution_count": 7,
   "id": "5d5f1843-f62a-45f5-914e-5878fa025158",
   "metadata": {},
   "outputs": [],
   "source": [
    "random_flattened_image = random.normal(random.PRNGKey(1), (28 * 28,))\n",
    "random_flattened_images = random.normal(random.PRNGKey(1), (3, 28 * 28))"
   ]
  },
  {
   "cell_type": "code",
   "execution_count": 8,
   "id": "de8d935b-813c-418f-875c-ad07b504902a",
   "metadata": {},
   "outputs": [
    {
     "data": {
      "text/plain": [
       "(10,)"
      ]
     },
     "execution_count": 8,
     "metadata": {},
     "output_type": "execute_result"
    }
   ],
   "source": [
    "preds = forward(random_flattened_image)\n",
    "preds.shape"
   ]
  },
  {
   "cell_type": "code",
   "execution_count": 9,
   "id": "f70266cf-bd91-436b-94f3-59ff6662f7b9",
   "metadata": {},
   "outputs": [],
   "source": [
    "forward_batch = vmap(forward, in_axes=(0,))"
   ]
  },
  {
   "cell_type": "code",
   "execution_count": 10,
   "id": "07135cbb-aecb-4c3a-9e5c-9aa64ec9ace1",
   "metadata": {},
   "outputs": [
    {
     "data": {
      "text/plain": [
       "(3, 10)"
      ]
     },
     "execution_count": 10,
     "metadata": {},
     "output_type": "execute_result"
    }
   ],
   "source": [
    "batched_preds = forward_batch(random_flattened_images)\n",
    "batched_preds.shape"
   ]
  },
  {
   "cell_type": "code",
   "execution_count": null,
   "id": "39820d65-0573-4f4b-9c28-1fe569810d2b",
   "metadata": {},
   "outputs": [],
   "source": []
  }
 ],
 "metadata": {
  "kernelspec": {
   "display_name": "Python 3",
   "language": "python",
   "name": "python3"
  },
  "language_info": {
   "codemirror_mode": {
    "name": "ipython",
    "version": 3
   },
   "file_extension": ".py",
   "mimetype": "text/x-python",
   "name": "python",
   "nbconvert_exporter": "python",
   "pygments_lexer": "ipython3",
   "version": "3.9.6 (default, Sep 26 2022, 11:37:49) \n[Clang 14.0.0 (clang-1400.0.29.202)]"
  },
  "vscode": {
   "interpreter": {
    "hash": "31f2aee4e71d21fbe5cf8b01ff0e069b9275f58929596ceb00d14d90e3e16cd6"
   }
  }
 },
 "nbformat": 4,
 "nbformat_minor": 5
}
