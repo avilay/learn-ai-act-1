{
 "cells": [
  {
   "attachments": {},
   "cell_type": "markdown",
   "metadata": {},
   "source": [
    "# Basic Usage"
   ]
  },
  {
   "attachments": {},
   "cell_type": "markdown",
   "metadata": {},
   "source": [
    "A typical use case in DL is to differentiate the loss function, which in turn calls the model."
   ]
  },
  {
   "cell_type": "code",
   "execution_count": 1,
   "metadata": {},
   "outputs": [],
   "source": [
    "import jax\n",
    "import jax.numpy as jnp"
   ]
  },
  {
   "cell_type": "code",
   "execution_count": 2,
   "metadata": {},
   "outputs": [],
   "source": [
    "key = jax.random.PRNGKey(0)"
   ]
  },
  {
   "cell_type": "code",
   "execution_count": 12,
   "metadata": {},
   "outputs": [],
   "source": [
    "def model(params, X):\n",
    "    W, b = params[\"W\"], params[\"b\"]\n",
    "    logits = X @ W + b\n",
    "    return logits\n",
    "\n",
    "\n",
    "def loss(params, batch):\n",
    "    X, y = batch\n",
    "    logits = model(params, X)\n",
    "    log_p = jax.nn.log_sigmoid(logits)\n",
    "    # log(1 - sigmoid(x)) = log_sigmoid(-x), the latter more numerically stable\n",
    "    log_not_p = jax.nn.log_sigmoid(-logits)\n",
    "    bce = -y * log_p - (1. - y) * log_not_p\n",
    "    mean_bce = jnp.mean(bce)\n",
    "    return mean_bce\n",
    "\n",
    "\n",
    "def step(params, batch):\n",
    "    train_loss, grads = jax.value_and_grad(loss)(params, batch)\n",
    "    params = jax.tree_util.tree_map(lambda p, g: p - 0.01 * g, params, grads)\n",
    "    return params, train_loss"
   ]
  },
  {
   "attachments": {},
   "cell_type": "markdown",
   "metadata": {},
   "source": [
    "## Wirecheck"
   ]
  },
  {
   "cell_type": "code",
   "execution_count": 13,
   "metadata": {},
   "outputs": [
    {
     "name": "stdout",
     "output_type": "stream",
     "text": [
      "(Array([[ 1.1901639 , -1.0996888 ,  0.44367844,  0.5984697 ],\n",
      "       [-0.39189556,  0.69261974,  0.46018356, -2.068578  ],\n",
      "       [-0.21438177, -0.9898306 , -0.6789304 ,  0.27362573]],      dtype=float32), Array([0, 1, 1], dtype=int32))\n"
     ]
    }
   ],
   "source": [
    "X = jax.random.normal(key, (3, 4))\n",
    "y = jax.random.choice(key, jnp.array([0, 1]), (3,))\n",
    "batch = (X, y)\n",
    "print(batch)"
   ]
  },
  {
   "cell_type": "code",
   "execution_count": 14,
   "metadata": {},
   "outputs": [
    {
     "data": {
      "text/plain": [
       "{'W': Array([ 1.1436434 , -0.51325184,  0.23285529, -0.36541915], dtype=float32),\n",
       " 'b': Array([1.], dtype=float32)}"
      ]
     },
     "execution_count": 14,
     "metadata": {},
     "output_type": "execute_result"
    }
   ],
   "source": [
    "params = {\n",
    "    \"W\": jax.nn.initializers.glorot_normal()(key, (4,1)).squeeze(),\n",
    "    \"b\": jnp.array([1.])\n",
    "}\n",
    "params"
   ]
  },
  {
   "cell_type": "code",
   "execution_count": 15,
   "metadata": {},
   "outputs": [
    {
     "data": {
      "text/plain": [
       "Array([2.8101609, 1.0593771, 1.0047755], dtype=float32)"
      ]
     },
     "execution_count": 15,
     "metadata": {},
     "output_type": "execute_result"
    }
   ],
   "source": [
    "model(params, batch[0])"
   ]
  },
  {
   "cell_type": "code",
   "execution_count": 16,
   "metadata": {},
   "outputs": [
    {
     "data": {
      "text/plain": [
       "{'W': Array([ 0.42697653, -0.3167577 ,  0.16065963,  0.3412228 ], dtype=float32),\n",
       " 'b': Array([0.13926351], dtype=float32)}"
      ]
     },
     "execution_count": 16,
     "metadata": {},
     "output_type": "execute_result"
    }
   ],
   "source": [
    "grads = jax.grad(loss)(params, batch)\n",
    "grads"
   ]
  },
  {
   "cell_type": "code",
   "execution_count": 17,
   "metadata": {},
   "outputs": [
    {
     "data": {
      "text/plain": [
       "{'W': Array([ 1.1393737 , -0.5100843 ,  0.23124869, -0.36883137], dtype=float32),\n",
       " 'b': Array([0.99860734], dtype=float32)}"
      ]
     },
     "execution_count": 17,
     "metadata": {},
     "output_type": "execute_result"
    }
   ],
   "source": [
    "jax.tree_util.tree_map(lambda p, g: p - 0.01 * g, params, grads)"
   ]
  },
  {
   "cell_type": "code",
   "execution_count": 18,
   "metadata": {},
   "outputs": [
    {
     "data": {
      "text/plain": [
       "({'W': Array([ 1.1393737 , -0.5100843 ,  0.23124869, -0.36883137], dtype=float32),\n",
       "  'b': Array([0.99860734], dtype=float32)},\n",
       " Array(1.15941, dtype=float32))"
      ]
     },
     "execution_count": 18,
     "metadata": {},
     "output_type": "execute_result"
    }
   ],
   "source": [
    "step(params, batch)"
   ]
  },
  {
   "attachments": {},
   "cell_type": "markdown",
   "metadata": {},
   "source": [
    "## Typical Train Loop"
   ]
  },
  {
   "cell_type": "code",
   "execution_count": 19,
   "metadata": {},
   "outputs": [],
   "source": [
    "for epoch in range(2):\n",
    "    X = jax.random.normal(key, (3, 4))\n",
    "    y = jax.random.choice(key, jnp.array([0, 1]), (3,))\n",
    "\n",
    "    params, train_loss = step(params, batch)\n",
    "    "
   ]
  },
  {
   "cell_type": "code",
   "execution_count": null,
   "metadata": {},
   "outputs": [],
   "source": []
  }
 ],
 "metadata": {
  "kernelspec": {
   "display_name": "ai",
   "language": "python",
   "name": "python3"
  },
  "language_info": {
   "codemirror_mode": {
    "name": "ipython",
    "version": 3
   },
   "file_extension": ".py",
   "mimetype": "text/x-python",
   "name": "python",
   "nbconvert_exporter": "python",
   "pygments_lexer": "ipython3",
   "version": "3.10.6 | packaged by conda-forge | (main, Aug 22 2022, 20:41:22) [Clang 13.0.1 ]"
  },
  "orig_nbformat": 4,
  "vscode": {
   "interpreter": {
    "hash": "c957e4ca480fc31da01b2648e097b4e55db834b6351128636991f182c884d81e"
   }
  }
 },
 "nbformat": 4,
 "nbformat_minor": 2
}
