{
 "cells": [
  {
   "cell_type": "code",
   "execution_count": 1,
   "metadata": {},
   "outputs": [],
   "source": [
    "import inspect"
   ]
  },
  {
   "cell_type": "code",
   "execution_count": 2,
   "metadata": {},
   "outputs": [],
   "source": [
    "import jax\n",
    "import numpy as np\n",
    "import jax.numpy as jnp\n",
    "from jax import random, jit, lax, vmap, pmap, grad, value_and_grad"
   ]
  },
  {
   "cell_type": "code",
   "execution_count": 3,
   "metadata": {},
   "outputs": [
    {
     "data": {
      "text/plain": [
       "'0.4.1'"
      ]
     },
     "execution_count": 3,
     "metadata": {},
     "output_type": "execute_result"
    }
   ],
   "source": [
    "jax.__version__"
   ]
  },
  {
   "cell_type": "code",
   "execution_count": 4,
   "metadata": {},
   "outputs": [],
   "source": [
    "rng = np.random.default_rng()\n",
    "key = jax.random.PRNGKey(0)"
   ]
  },
  {
   "cell_type": "code",
   "execution_count": 5,
   "metadata": {},
   "outputs": [
    {
     "data": {
      "text/plain": [
       "Array([1, 2, 3, 4], dtype=int32)"
      ]
     },
     "execution_count": 5,
     "metadata": {},
     "output_type": "execute_result"
    }
   ],
   "source": [
    "ary = jnp.array([1, 2, 3, 4])\n",
    "ary"
   ]
  },
  {
   "cell_type": "code",
   "execution_count": 6,
   "metadata": {},
   "outputs": [
    {
     "data": {
      "text/plain": [
       "(jaxlib.xla_extension.Array, object)"
      ]
     },
     "execution_count": 6,
     "metadata": {},
     "output_type": "execute_result"
    }
   ],
   "source": [
    "inspect.getmro(type(ary))"
   ]
  },
  {
   "attachments": {},
   "cell_type": "markdown",
   "metadata": {},
   "source": [
    "## Differences between Jax and Numpy"
   ]
  },
  {
   "attachments": {},
   "cell_type": "markdown",
   "metadata": {},
   "source": [
    "Numpy can sum over regular Python lists, Jax cannot."
   ]
  },
  {
   "cell_type": "code",
   "execution_count": 7,
   "metadata": {},
   "outputs": [
    {
     "data": {
      "text/plain": [
       "10"
      ]
     },
     "execution_count": 7,
     "metadata": {},
     "output_type": "execute_result"
    }
   ],
   "source": [
    "np.sum([1, 2, 3, 4])"
   ]
  },
  {
   "cell_type": "code",
   "execution_count": 8,
   "metadata": {},
   "outputs": [
    {
     "name": "stdout",
     "output_type": "stream",
     "text": [
      "sum requires ndarray or scalar arguments, got <class 'list'> at position 0.\n"
     ]
    }
   ],
   "source": [
    "try:\n",
    "    jnp.sum([1, 2, 3, 4])\n",
    "except TypeError as err:\n",
    "    print(err)"
   ]
  },
  {
   "attachments": {},
   "cell_type": "markdown",
   "metadata": {},
   "source": [
    "Numpy arrays are mutable, Jax are immutable. To change Jax arrays create a new one using the `at` and `set` methods as shown below."
   ]
  },
  {
   "cell_type": "code",
   "execution_count": 9,
   "metadata": {},
   "outputs": [
    {
     "data": {
      "text/plain": [
       "array([0, 1, 2, 3, 4])"
      ]
     },
     "execution_count": 9,
     "metadata": {},
     "output_type": "execute_result"
    }
   ],
   "source": [
    "nary = np.arange(5)\n",
    "nary"
   ]
  },
  {
   "cell_type": "code",
   "execution_count": 10,
   "metadata": {},
   "outputs": [
    {
     "data": {
      "text/plain": [
       "Array([0, 1, 2, 3, 4], dtype=int32)"
      ]
     },
     "execution_count": 10,
     "metadata": {},
     "output_type": "execute_result"
    }
   ],
   "source": [
    "jary = jnp.arange(5)\n",
    "jary"
   ]
  },
  {
   "cell_type": "code",
   "execution_count": 11,
   "metadata": {},
   "outputs": [
    {
     "data": {
      "text/plain": [
       "array([  0, 100,   2,   3,   4])"
      ]
     },
     "execution_count": 11,
     "metadata": {},
     "output_type": "execute_result"
    }
   ],
   "source": [
    "nary[1] = 100\n",
    "nary"
   ]
  },
  {
   "cell_type": "code",
   "execution_count": 12,
   "metadata": {},
   "outputs": [
    {
     "name": "stdout",
     "output_type": "stream",
     "text": [
      "'<class 'jaxlib.xla_extension.Array'>' object does not support item assignment. JAX arrays are immutable. Instead of ``x[idx] = y``, use ``x = x.at[idx].set(y)`` or another .at[] method: https://jax.readthedocs.io/en/latest/_autosummary/jax.numpy.ndarray.at.html\n"
     ]
    }
   ],
   "source": [
    "try:\n",
    "    jary[1] = 100\n",
    "except TypeError as err:\n",
    "    print(err)"
   ]
  },
  {
   "cell_type": "code",
   "execution_count": 13,
   "metadata": {},
   "outputs": [
    {
     "data": {
      "text/plain": [
       "Array([  0, 100,   2,   3,   4], dtype=int32)"
      ]
     },
     "execution_count": 13,
     "metadata": {},
     "output_type": "execute_result"
    }
   ],
   "source": [
    "jary2 = jary.at[1].set(100)\n",
    "jary2"
   ]
  },
  {
   "cell_type": "code",
   "execution_count": 14,
   "metadata": {},
   "outputs": [
    {
     "data": {
      "text/plain": [
       "Array([0, 1, 2, 3, 4], dtype=int32)"
      ]
     },
     "execution_count": 14,
     "metadata": {},
     "output_type": "execute_result"
    }
   ],
   "source": [
    "jary"
   ]
  },
  {
   "attachments": {},
   "cell_type": "markdown",
   "metadata": {},
   "source": [
    "Can also element ops at specific indices to get a new array."
   ]
  },
  {
   "cell_type": "code",
   "execution_count": 15,
   "metadata": {},
   "outputs": [
    {
     "data": {
      "text/plain": [
       "Array([ 0,  1,  2, 13,  4], dtype=int32)"
      ]
     },
     "execution_count": 15,
     "metadata": {},
     "output_type": "execute_result"
    }
   ],
   "source": [
    "jary3 = jary.at[3].add(10)\n",
    "jary3"
   ]
  },
  {
   "attachments": {},
   "cell_type": "markdown",
   "metadata": {},
   "source": [
    "## Op Execution\n",
    "Numpy arrays work on a single thread (is this really true?). Jax ops will choose an accelerator if it is available and then run the op asynchronously. In order to time the op, we need to either convert the jnp array into a numpy array, which will force the op to run (like `list(it)` in `functools`), or use the `.block_until_ready()` API.\n",
    "\n",
    "Without these, if we wait for the Jax array to asynchronously complete the op then return the results, the perf is comparable to numpy on both CPU-only and GPU machines.\n",
    "\n",
    "Forcing the jax array to numpy speeds up the op a lot more, more so on GPU machines. However, there is still the overhead of moving the data from GPU to CPU and converting, so it is a bit slower than the next method.\n",
    "\n",
    "With the `.block_until_ready()` API, there is no extra work to be done, I am guessing the tensor lives on the GPU. This is the fastest.\n",
    "\n",
    "Of course all of these speedups are more stark on a GPU machine than on my MacBook.\n",
    "\n",
    "#### Results\n",
    "| Array Op | CPU-only Time | GPU Time |\n",
    "|----------|---------------|----------|\n",
    "| Numpy matmul | 5.66s | 18.5s |\n",
    "| Async Jax matmul | 5.03s | 11.9s |\n",
    "| Convert Jax matmul | 5.25s | 809ms |\n",
    "| Blocking API Jax matmul | 4.87s | 569s |\n"
   ]
  },
  {
   "cell_type": "code",
   "execution_count": 16,
   "metadata": {},
   "outputs": [
    {
     "name": "stdout",
     "output_type": "stream",
     "text": [
      "(10000, 10000) float32\n"
     ]
    }
   ],
   "source": [
    "nary = rng.normal(size=(10_000, 10_000)).astype(np.float32)\n",
    "print(nary.shape, nary.dtype)"
   ]
  },
  {
   "cell_type": "code",
   "execution_count": 17,
   "metadata": {},
   "outputs": [
    {
     "name": "stdout",
     "output_type": "stream",
     "text": [
      "(10000, 10000) float32\n"
     ]
    }
   ],
   "source": [
    "jary = jax.random.normal(key, shape=(10_000, 10_000), dtype=jnp.float32)\n",
    "print(jary.shape, jary.dtype)"
   ]
  },
  {
   "cell_type": "code",
   "execution_count": 18,
   "metadata": {},
   "outputs": [
    {
     "name": "stdout",
     "output_type": "stream",
     "text": [
      "CPU times: user 37.9 s, sys: 812 ms, total: 38.7 s\n",
      "Wall time: 6.22 s\n",
      "Done.\n"
     ]
    }
   ],
   "source": [
    "%time np.matmul(nary, nary)\n",
    "print(\"Done.\")"
   ]
  },
  {
   "cell_type": "code",
   "execution_count": 19,
   "metadata": {},
   "outputs": [
    {
     "name": "stdout",
     "output_type": "stream",
     "text": [
      "CPU times: user 33.3 s, sys: 712 ms, total: 34 s\n",
      "Wall time: 5.55 s\n"
     ]
    },
    {
     "data": {
      "text/plain": [
       "Array([[ -90.649445 ,   13.972144 ,  -95.644165 , ...,   23.926046 ,\n",
       "         133.53964  ,   53.143925 ],\n",
       "       [  44.89999  ,  -33.37181  ,   94.96751  , ..., -100.38489  ,\n",
       "         -56.939598 , -217.22066  ],\n",
       "       [ -45.11518  , -185.57526  , -189.5532   , ..., -213.17264  ,\n",
       "          11.18911  ,   18.810167 ],\n",
       "       ...,\n",
       "       [  57.29258  ,   89.31357  ,   96.97245  , ...,  -26.702862 ,\n",
       "          32.321487 ,  159.42407  ],\n",
       "       [  92.361145 ,   29.874641 ,  -63.73034  , ...,   41.16841  ,\n",
       "         154.73874  ,   85.76169  ],\n",
       "       [   7.0634165,   81.06201  ,  145.52756  , ...,   73.708145 ,\n",
       "         -43.597656 ,  -10.067655 ]], dtype=float32)"
      ]
     },
     "execution_count": 19,
     "metadata": {},
     "output_type": "execute_result"
    }
   ],
   "source": [
    "%time jnp.matmul(jary, jary)"
   ]
  },
  {
   "cell_type": "code",
   "execution_count": 20,
   "metadata": {},
   "outputs": [
    {
     "name": "stdout",
     "output_type": "stream",
     "text": [
      "CPU times: user 34.1 s, sys: 810 ms, total: 34.9 s\n",
      "Wall time: 6.1 s\n"
     ]
    },
    {
     "data": {
      "text/plain": [
       "array([[ -90.649445 ,   13.972144 ,  -95.644165 , ...,   23.926046 ,\n",
       "         133.53964  ,   53.143925 ],\n",
       "       [  44.89999  ,  -33.37181  ,   94.96751  , ..., -100.38489  ,\n",
       "         -56.939598 , -217.22066  ],\n",
       "       [ -45.11518  , -185.57526  , -189.5532   , ..., -213.17264  ,\n",
       "          11.18911  ,   18.810167 ],\n",
       "       ...,\n",
       "       [  57.29258  ,   89.31357  ,   96.97245  , ...,  -26.702862 ,\n",
       "          32.321487 ,  159.42407  ],\n",
       "       [  92.361145 ,   29.874641 ,  -63.73034  , ...,   41.16841  ,\n",
       "         154.73874  ,   85.76169  ],\n",
       "       [   7.0634165,   81.06201  ,  145.52756  , ...,   73.708145 ,\n",
       "         -43.597656 ,  -10.067655 ]], dtype=float32)"
      ]
     },
     "execution_count": 20,
     "metadata": {},
     "output_type": "execute_result"
    }
   ],
   "source": [
    "%time np.asarray(jnp.matmul(jary, jary))"
   ]
  },
  {
   "cell_type": "code",
   "execution_count": 21,
   "metadata": {},
   "outputs": [
    {
     "name": "stdout",
     "output_type": "stream",
     "text": [
      "CPU times: user 35.4 s, sys: 723 ms, total: 36.1 s\n",
      "Wall time: 5.72 s\n"
     ]
    },
    {
     "data": {
      "text/plain": [
       "Array([[ -90.649445 ,   13.972144 ,  -95.644165 , ...,   23.926046 ,\n",
       "         133.53964  ,   53.143925 ],\n",
       "       [  44.89999  ,  -33.37181  ,   94.96751  , ..., -100.38489  ,\n",
       "         -56.939598 , -217.22066  ],\n",
       "       [ -45.11518  , -185.57526  , -189.5532   , ..., -213.17264  ,\n",
       "          11.18911  ,   18.810167 ],\n",
       "       ...,\n",
       "       [  57.29258  ,   89.31357  ,   96.97245  , ...,  -26.702862 ,\n",
       "          32.321487 ,  159.42407  ],\n",
       "       [  92.361145 ,   29.874641 ,  -63.73034  , ...,   41.16841  ,\n",
       "         154.73874  ,   85.76169  ],\n",
       "       [   7.0634165,   81.06201  ,  145.52756  , ...,   73.708145 ,\n",
       "         -43.597656 ,  -10.067655 ]], dtype=float32)"
      ]
     },
     "execution_count": 21,
     "metadata": {},
     "output_type": "execute_result"
    }
   ],
   "source": [
    "%time jnp.matmul(jary, jary).block_until_ready()"
   ]
  },
  {
   "cell_type": "code",
   "execution_count": null,
   "metadata": {},
   "outputs": [],
   "source": []
  }
 ],
 "metadata": {
  "kernelspec": {
   "display_name": "ai",
   "language": "python",
   "name": "python3"
  },
  "language_info": {
   "codemirror_mode": {
    "name": "ipython",
    "version": 3
   },
   "file_extension": ".py",
   "mimetype": "text/x-python",
   "name": "python",
   "nbconvert_exporter": "python",
   "pygments_lexer": "ipython3",
   "version": "3.10.6 | packaged by conda-forge | (main, Aug 22 2022, 20:41:22) [Clang 13.0.1 ]"
  },
  "orig_nbformat": 4,
  "vscode": {
   "interpreter": {
    "hash": "c957e4ca480fc31da01b2648e097b4e55db834b6351128636991f182c884d81e"
   }
  }
 },
 "nbformat": 4,
 "nbformat_minor": 2
}
