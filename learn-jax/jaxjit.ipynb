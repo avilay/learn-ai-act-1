{
 "cells": [
  {
   "cell_type": "code",
   "execution_count": 1,
   "metadata": {},
   "outputs": [],
   "source": [
    "import jax\n",
    "import numpy as np\n",
    "import jax.numpy as jnp\n",
    "from jax import random, jit, lax, vmap, pmap, grad, value_and_grad"
   ]
  },
  {
   "cell_type": "code",
   "execution_count": 4,
   "metadata": {},
   "outputs": [],
   "source": [
    "rng = np.random.default_rng()\n",
    "key = jax.random.PRNGKey(0)"
   ]
  },
  {
   "attachments": {},
   "cell_type": "markdown",
   "metadata": {},
   "source": [
    "## JIT\n",
    "When I jit compile a function, upon first invocation Jax will trace that function along with computing the final results. The tracing is done using a `ShapedArray` that records the ops and intermediate dims and dtype of the input. Each dim and dtype combination requires its own special trace, which means that for each unique dtype/dim combination of the input params, Jax will need to trace and compile the function anew.\n",
    "\n",
    "A gotcha is that there is not much point in jit compiling a lambda function, because each invocation of a lambda is seen as a new function and Jax is not able to cache the compiled version."
   ]
  },
  {
   "attachments": {},
   "cell_type": "markdown",
   "metadata": {},
   "source": [
    "## Tracer in Action\n",
    "\n",
    "The first time around the jitted function will be executed with `ShapedArray` objects, it will still return the right answer though. The second time around, the function has been compiled. As long as the dims and dtypes are the same, the compiled version will be used. For a new dim/dtype, the function will be compiled anew, but that does not mean that this overwrites the older compilation. Now two implementations exist."
   ]
  },
  {
   "cell_type": "code",
   "execution_count": 2,
   "metadata": {},
   "outputs": [],
   "source": [
    "@jit\n",
    "def dotproduct(x, y):\n",
    "    print(\"Inside dotproduct\")\n",
    "    print(f\"x={x}\")\n",
    "    print(f\"y={y}\")\n",
    "    z = jnp.dot(x, y)\n",
    "    print(f\"z={z}\")\n",
    "    return z"
   ]
  },
  {
   "attachments": {},
   "cell_type": "markdown",
   "metadata": {},
   "source": [
    "### First Invocation\n",
    "Here we see that the print statements are executed and we can see that the internal object being used is a `ShapedArray` even though the final output is the usual `Array`."
   ]
  },
  {
   "cell_type": "code",
   "execution_count": 5,
   "metadata": {},
   "outputs": [],
   "source": [
    "npx = rng.random(100)\n",
    "jnpx = jnp.asarray(npx)"
   ]
  },
  {
   "cell_type": "code",
   "execution_count": 6,
   "metadata": {},
   "outputs": [
    {
     "data": {
      "text/plain": [
       "27.961656218432985"
      ]
     },
     "execution_count": 6,
     "metadata": {},
     "output_type": "execute_result"
    }
   ],
   "source": [
    "np.dot(npx, npx.T)"
   ]
  },
  {
   "cell_type": "code",
   "execution_count": 7,
   "metadata": {},
   "outputs": [
    {
     "name": "stdout",
     "output_type": "stream",
     "text": [
      "Inside dotproduct\n",
      "x=Traced<ShapedArray(float32[100])>with<DynamicJaxprTrace(level=0/1)>\n",
      "y=Traced<ShapedArray(float32[100])>with<DynamicJaxprTrace(level=0/1)>\n",
      "z=Traced<ShapedArray(float32[])>with<DynamicJaxprTrace(level=0/1)>\n"
     ]
    },
    {
     "data": {
      "text/plain": [
       "Array(27.961657, dtype=float32)"
      ]
     },
     "execution_count": 7,
     "metadata": {},
     "output_type": "execute_result"
    }
   ],
   "source": [
    "dotproduct(jnpx, jnpx.T)"
   ]
  },
  {
   "attachments": {},
   "cell_type": "markdown",
   "metadata": {},
   "source": [
    "### Second Invocation\n",
    "The function has now been compiled, which means all side-effects have been erased. Now I won't see any print statements."
   ]
  },
  {
   "cell_type": "code",
   "execution_count": 8,
   "metadata": {},
   "outputs": [],
   "source": [
    "npx = rng.random(100)\n",
    "jnpx = jnp.asarray(npx)"
   ]
  },
  {
   "cell_type": "code",
   "execution_count": 9,
   "metadata": {},
   "outputs": [
    {
     "data": {
      "text/plain": [
       "33.88908808848025"
      ]
     },
     "execution_count": 9,
     "metadata": {},
     "output_type": "execute_result"
    }
   ],
   "source": [
    "np.dot(npx, npx.T)"
   ]
  },
  {
   "cell_type": "code",
   "execution_count": 10,
   "metadata": {},
   "outputs": [
    {
     "data": {
      "text/plain": [
       "Array(33.88908, dtype=float32)"
      ]
     },
     "execution_count": 10,
     "metadata": {},
     "output_type": "execute_result"
    }
   ],
   "source": [
    "dotproduct(jnpx, jnpx.T)"
   ]
  },
  {
   "attachments": {},
   "cell_type": "markdown",
   "metadata": {},
   "source": [
    "### With different dims\n",
    "This will trigger another compiled copy to be created and cached."
   ]
  },
  {
   "cell_type": "code",
   "execution_count": 11,
   "metadata": {},
   "outputs": [],
   "source": [
    "npx = rng.random(50)\n",
    "jnpx = jnp.asarray(npx)"
   ]
  },
  {
   "cell_type": "code",
   "execution_count": 12,
   "metadata": {},
   "outputs": [
    {
     "data": {
      "text/plain": [
       "13.679525864218837"
      ]
     },
     "execution_count": 12,
     "metadata": {},
     "output_type": "execute_result"
    }
   ],
   "source": [
    "np.dot(npx, npx.T)"
   ]
  },
  {
   "cell_type": "code",
   "execution_count": 13,
   "metadata": {},
   "outputs": [
    {
     "name": "stdout",
     "output_type": "stream",
     "text": [
      "Inside dotproduct\n",
      "x=Traced<ShapedArray(float32[50])>with<DynamicJaxprTrace(level=0/1)>\n",
      "y=Traced<ShapedArray(float32[50])>with<DynamicJaxprTrace(level=0/1)>\n",
      "z=Traced<ShapedArray(float32[])>with<DynamicJaxprTrace(level=0/1)>\n"
     ]
    },
    {
     "data": {
      "text/plain": [
       "Array(13.679525, dtype=float32)"
      ]
     },
     "execution_count": 13,
     "metadata": {},
     "output_type": "execute_result"
    }
   ],
   "source": [
    "dotproduct(jnpx, jnpx.T)"
   ]
  },
  {
   "attachments": {},
   "cell_type": "markdown",
   "metadata": {},
   "source": [
    "### Does not overwrite old compiled function\n",
    "If I call the function with the old dims, it will still use the old compiled function."
   ]
  },
  {
   "cell_type": "code",
   "execution_count": 14,
   "metadata": {},
   "outputs": [],
   "source": [
    "npx = rng.random(100)\n",
    "jnpx = jnp.asarray(npx)"
   ]
  },
  {
   "cell_type": "code",
   "execution_count": 15,
   "metadata": {},
   "outputs": [
    {
     "data": {
      "text/plain": [
       "32.2235387654915"
      ]
     },
     "execution_count": 15,
     "metadata": {},
     "output_type": "execute_result"
    }
   ],
   "source": [
    "np.dot(npx, npx.T)"
   ]
  },
  {
   "cell_type": "code",
   "execution_count": 16,
   "metadata": {},
   "outputs": [
    {
     "data": {
      "text/plain": [
       "Array(32.223534, dtype=float32)"
      ]
     },
     "execution_count": 16,
     "metadata": {},
     "output_type": "execute_result"
    }
   ],
   "source": [
    "dotproduct(jnpx, jnpx.T)"
   ]
  },
  {
   "attachments": {},
   "cell_type": "markdown",
   "metadata": {},
   "source": [
    "## JIT and Pure Functions\n",
    "Here are three ways impurites can get into function. \n",
    "  * Use of IO\n",
    "  * Use of global states\n",
    "  * Use of iterators\n",
    "\n",
    "We saw the use of IO above. Any IO is erased out of the Jitted function after the first invocation."
   ]
  },
  {
   "attachments": {},
   "cell_type": "markdown",
   "metadata": {},
   "source": [
    "### Global States\n",
    "For global states, JIT will create a closure around the value it has during the first invocation. If I change the value of the global state after the function has been compiled, it will not be reflected in the function. Recompilation will update the closed global state."
   ]
  },
  {
   "cell_type": "code",
   "execution_count": 20,
   "metadata": {},
   "outputs": [],
   "source": [
    "power = 5\n",
    "\n",
    "def powerof(x):\n",
    "    return x ** power"
   ]
  },
  {
   "cell_type": "code",
   "execution_count": 21,
   "metadata": {},
   "outputs": [
    {
     "data": {
      "text/plain": [
       "32"
      ]
     },
     "execution_count": 21,
     "metadata": {},
     "output_type": "execute_result"
    }
   ],
   "source": [
    "powerof(2)"
   ]
  },
  {
   "cell_type": "code",
   "execution_count": 22,
   "metadata": {},
   "outputs": [
    {
     "data": {
      "text/plain": [
       "1024"
      ]
     },
     "execution_count": 22,
     "metadata": {},
     "output_type": "execute_result"
    }
   ],
   "source": [
    "power = 10\n",
    "powerof(2)"
   ]
  },
  {
   "cell_type": "code",
   "execution_count": 23,
   "metadata": {},
   "outputs": [
    {
     "data": {
      "text/plain": [
       "Array(32, dtype=int32, weak_type=True)"
      ]
     },
     "execution_count": 23,
     "metadata": {},
     "output_type": "execute_result"
    }
   ],
   "source": [
    "power = 5\n",
    "jit(powerof)(2)"
   ]
  },
  {
   "attachments": {},
   "cell_type": "markdown",
   "metadata": {},
   "source": [
    "The power global state has been closed in the jitted function so changing it does not give me different results."
   ]
  },
  {
   "cell_type": "code",
   "execution_count": 24,
   "metadata": {},
   "outputs": [
    {
     "data": {
      "text/plain": [
       "Array(32, dtype=int32, weak_type=True)"
      ]
     },
     "execution_count": 24,
     "metadata": {},
     "output_type": "execute_result"
    }
   ],
   "source": [
    "power = 10\n",
    "jit(powerof)(2)"
   ]
  },
  {
   "attachments": {},
   "cell_type": "markdown",
   "metadata": {},
   "source": [
    "Of course I can force a recompile and the current value of the power will be used for compiling that version."
   ]
  },
  {
   "cell_type": "code",
   "execution_count": 25,
   "metadata": {},
   "outputs": [
    {
     "data": {
      "text/plain": [
       "Array([1024., 1024.], dtype=float32)"
      ]
     },
     "execution_count": 25,
     "metadata": {},
     "output_type": "execute_result"
    }
   ],
   "source": [
    "power = 10\n",
    "jit(powerof)(jnp.array([2., 2.]))"
   ]
  },
  {
   "attachments": {},
   "cell_type": "markdown",
   "metadata": {},
   "source": [
    "### Iterators\n",
    "Iterators cannot be passed as arguments to a JITted function. Below are are two experiments. It can be seen that the iterator is caught the first time the function is invoked with this type. This check is probably being done at the JIT compilation time. In the second experiment I am trying this with an already JITted function, the `lax.fori_loop` to see if a) this check is still performed, b) the kind of error it throws."
   ]
  },
  {
   "cell_type": "code",
   "execution_count": 26,
   "metadata": {},
   "outputs": [],
   "source": [
    "@jit\n",
    "def sum_of_sqs(xs):\n",
    "    return jnp.sum(jnp.array([x**2 for x in xs]))"
   ]
  },
  {
   "cell_type": "code",
   "execution_count": 27,
   "metadata": {},
   "outputs": [
    {
     "data": {
      "text/plain": [
       "Array(5., dtype=float32)"
      ]
     },
     "execution_count": 27,
     "metadata": {},
     "output_type": "execute_result"
    }
   ],
   "source": [
    "sum_of_sqs([0., 1., 2.])"
   ]
  },
  {
   "cell_type": "code",
   "execution_count": 28,
   "metadata": {},
   "outputs": [
    {
     "name": "stdout",
     "output_type": "stream",
     "text": [
      "<class 'TypeError'>\n",
      "Argument '<list_iterator object at 0x1065ca9e0>' of type <class 'list_iterator'> is not a valid JAX type.\n"
     ]
    }
   ],
   "source": [
    "try:\n",
    "    sum_of_sqs(iter([0., 1., 2.]))\n",
    "except Exception as err:\n",
    "    print(f\"{type(err)}\\n{err}\")"
   ]
  },
  {
   "attachments": {},
   "cell_type": "markdown",
   "metadata": {},
   "source": [
    "Below is how I'd call the `lax.fori_loop` with a JAX array."
   ]
  },
  {
   "cell_type": "code",
   "execution_count": 29,
   "metadata": {},
   "outputs": [
    {
     "data": {
      "text/plain": [
       "Array(5., dtype=float32)"
      ]
     },
     "execution_count": 29,
     "metadata": {},
     "output_type": "execute_result"
    }
   ],
   "source": [
    "ary = jnp.array([0., 1., 2.])\n",
    "lax.fori_loop(0, 3, lambda idx, acc: acc + ary[idx]**2, 0)"
   ]
  },
  {
   "attachments": {},
   "cell_type": "markdown",
   "metadata": {},
   "source": [
    "Now, I am going to call this with an iterator. The error thrown here is different than the one thrown earlier."
   ]
  },
  {
   "cell_type": "code",
   "execution_count": 30,
   "metadata": {},
   "outputs": [
    {
     "name": "stdout",
     "output_type": "stream",
     "text": [
      "<class 'jax._src.errors.UnexpectedTracerError'>\n",
      "Encountered an unexpected tracer. A function transformed by JAX had a side effect, allowing for a reference to an intermediate value with type float32[] wrapped in a DynamicJaxprTracer to escape the scope of the transformation.\n",
      "JAX transformations require that functions explicitly return their outputs, and disallow saving intermediate values to global state.\n",
      "The function being traced when the value leaked was scanned_fun at /opt/miniconda3/envs/ai/lib/python3.10/site-packages/jax/_src/lax/control_flow/loops.py:1607 traced for scan.\n",
      "------------------------------\n",
      "The leaked intermediate value was created on line /var/folders/g0/8d67dwg94sj_ysrm2zmtkjrc0000gn/T/ipykernel_96597/2182326376.py:4 (<lambda>). \n",
      "------------------------------\n",
      "When the value was created, the final 5 stack frames (most recent last) excluding JAX-internal frames were:\n",
      "------------------------------\n",
      "/var/folders/g0/8d67dwg94sj_ysrm2zmtkjrc0000gn/T/ipykernel_96597/2182326376.py:4 (<module>)\n",
      "/var/folders/g0/8d67dwg94sj_ysrm2zmtkjrc0000gn/T/ipykernel_96597/2182326376.py:4 (<lambda>)\n",
      "------------------------------\n",
      "\n",
      "To catch the leak earlier, try setting the environment variable JAX_CHECK_TRACER_LEAKS or using the `jax.checking_leaks` context manager.\n",
      "See https://jax.readthedocs.io/en/latest/errors.html#jax.errors.UnexpectedTracerError\n"
     ]
    }
   ],
   "source": [
    "ary = jnp.array([0., 1., 2.])\n",
    "it = iter(ary)\n",
    "try:\n",
    "    lax.fori_loop(0, 3, lambda idx, acc: acc + next(it)**2, 0)\n",
    "except Exception as err:\n",
    "    print(f\"{type(err)}\\n{err}\")"
   ]
  },
  {
   "attachments": {},
   "cell_type": "markdown",
   "metadata": {},
   "source": [
    "#### !!Important!!\n",
    "Contrary to what I'd think, it is perfectly ok to use iterators within the function to mutate internal state!"
   ]
  },
  {
   "cell_type": "code",
   "execution_count": 31,
   "metadata": {},
   "outputs": [],
   "source": [
    "@jit\n",
    "def sum_of_sqs_2(xs):\n",
    "    # return jnp.sum(jnp.array([x**2 for x in xs]))\n",
    "    answer = 0\n",
    "    for x in xs:\n",
    "        answer += x**2\n",
    "    return answer"
   ]
  },
  {
   "cell_type": "code",
   "execution_count": 32,
   "metadata": {},
   "outputs": [
    {
     "data": {
      "text/plain": [
       "Array(5., dtype=float32, weak_type=True)"
      ]
     },
     "execution_count": 32,
     "metadata": {},
     "output_type": "execute_result"
    }
   ],
   "source": [
    "sum_of_sqs_2([0., 1., 2.])"
   ]
  },
  {
   "cell_type": "code",
   "execution_count": 33,
   "metadata": {},
   "outputs": [
    {
     "data": {
      "text/plain": [
       "Array(30., dtype=float32, weak_type=True)"
      ]
     },
     "execution_count": 33,
     "metadata": {},
     "output_type": "execute_result"
    }
   ],
   "source": [
    "sum_of_sqs_2([0., 1., 2., 3., 4.])"
   ]
  },
  {
   "attachments": {},
   "cell_type": "markdown",
   "metadata": {},
   "source": [
    "## JAXPR"
   ]
  },
  {
   "cell_type": "code",
   "execution_count": 34,
   "metadata": {},
   "outputs": [],
   "source": [
    "def myrelu(x):\n",
    "    return jnp.maximum(0., x)"
   ]
  },
  {
   "cell_type": "code",
   "execution_count": 35,
   "metadata": {},
   "outputs": [
    {
     "data": {
      "text/plain": [
       "{ \u001b[34m\u001b[22m\u001b[1mlambda \u001b[39m\u001b[22m\u001b[22m; a\u001b[35m:f32[]\u001b[39m. \u001b[34m\u001b[22m\u001b[1mlet\u001b[39m\u001b[22m\u001b[22m b\u001b[35m:f32[]\u001b[39m = max 0.0 a \u001b[34m\u001b[22m\u001b[1min \u001b[39m\u001b[22m\u001b[22m(b,) }"
      ]
     },
     "execution_count": 35,
     "metadata": {},
     "output_type": "execute_result"
    }
   ],
   "source": [
    "jax.make_jaxpr(myrelu)(5.)"
   ]
  },
  {
   "attachments": {},
   "cell_type": "markdown",
   "metadata": {},
   "source": [
    "```\n",
    "{\n",
    "  lambda ; a:f32[].\n",
    "    let b:f32[] = max 0.0 a\n",
    "  in (b,)\n",
    "}\n",
    "```"
   ]
  },
  {
   "attachments": {},
   "cell_type": "markdown",
   "metadata": {},
   "source": [
    "## Control Flow\n",
    "Jax cannot jit compile a function that control flows in it, because the `ShapedArray` can only deal with the dtype and dims of the input, not the actual value, which is what the control flow depends on. There are two ways to workaround this -\n",
    "\n",
    "  * Jit the branches and keep the overall function as a pure Python function.\n",
    "  * Use static args."
   ]
  },
  {
   "cell_type": "code",
   "execution_count": 36,
   "metadata": {},
   "outputs": [],
   "source": [
    "def f(x, n):\n",
    "    if n > 0:\n",
    "        return 3 * x**3 + 2 * x**2 + n\n",
    "    else:\n",
    "        return 2 * x - n"
   ]
  },
  {
   "cell_type": "code",
   "execution_count": 37,
   "metadata": {},
   "outputs": [
    {
     "name": "stdout",
     "output_type": "stream",
     "text": [
      "<class 'jax._src.errors.ConcretizationTypeError'>\n",
      "Abstract tracer value encountered where concrete value is expected: Traced<ShapedArray(bool[], weak_type=True)>with<DynamicJaxprTrace(level=0/1)>\n",
      "The problem arose with the `bool` function. \n",
      "The error occurred while tracing the function f at /var/folders/g0/8d67dwg94sj_ysrm2zmtkjrc0000gn/T/ipykernel_96597/999900859.py:1 for jit. This concrete value was not available in Python because it depends on the value of the argument 'n'.\n",
      "\n",
      "See https://jax.readthedocs.io/en/latest/errors.html#jax.errors.ConcretizationTypeError\n"
     ]
    }
   ],
   "source": [
    "try:\n",
    "    jf = jit(f)(2., 5.)\n",
    "except Exception as err:\n",
    "    print(f\"{type(err)}\\n{err}\")"
   ]
  },
  {
   "attachments": {},
   "cell_type": "markdown",
   "metadata": {},
   "source": [
    "A workaround is to jit the branches, but keep the overall function as a pure Python function."
   ]
  },
  {
   "cell_type": "code",
   "execution_count": 38,
   "metadata": {},
   "outputs": [],
   "source": [
    "@jit\n",
    "def g(x):\n",
    "    return 3 * x**3 + 2 * x**2\n",
    "\n",
    "# This is a pure Python function\n",
    "def f(x, n):\n",
    "    if n > 0:\n",
    "        return g(x) + n\n",
    "    else:\n",
    "        return 2 * x - n"
   ]
  },
  {
   "cell_type": "code",
   "execution_count": 39,
   "metadata": {},
   "outputs": [
    {
     "data": {
      "text/plain": [
       "Array(37., dtype=float32, weak_type=True)"
      ]
     },
     "execution_count": 39,
     "metadata": {},
     "output_type": "execute_result"
    }
   ],
   "source": [
    "f(2., 5.)"
   ]
  },
  {
   "attachments": {},
   "cell_type": "markdown",
   "metadata": {},
   "source": [
    "The second workaround is to declare `n` as a static argument. This means that in addition to the dtype and dims of `x`, the function will be compiled for **every distinct** value of `n`."
   ]
  },
  {
   "cell_type": "code",
   "execution_count": 40,
   "metadata": {},
   "outputs": [],
   "source": [
    "def f2(x, n):\n",
    "    print(f\"x={x} n={n}\")\n",
    "    if n > 0:\n",
    "        return 3 * x**3 + 2 * x**2 + n\n",
    "    else:\n",
    "        return 2 * x - n"
   ]
  },
  {
   "cell_type": "code",
   "execution_count": 41,
   "metadata": {},
   "outputs": [],
   "source": [
    "jitf = jit(f2, static_argnames=[\"n\"])"
   ]
  },
  {
   "attachments": {},
   "cell_type": "markdown",
   "metadata": {},
   "source": [
    "Compiled for the first time for x as a float scalar and n = 5."
   ]
  },
  {
   "cell_type": "code",
   "execution_count": 42,
   "metadata": {},
   "outputs": [
    {
     "name": "stdout",
     "output_type": "stream",
     "text": [
      "x=Traced<ShapedArray(float32[], weak_type=True)>with<DynamicJaxprTrace(level=0/1)> n=5.0\n"
     ]
    },
    {
     "data": {
      "text/plain": [
       "Array(37., dtype=float32, weak_type=True)"
      ]
     },
     "execution_count": 42,
     "metadata": {},
     "output_type": "execute_result"
    }
   ],
   "source": [
    "jitf(2., 5.)"
   ]
  },
  {
   "cell_type": "code",
   "execution_count": 43,
   "metadata": {},
   "outputs": [
    {
     "data": {
      "text/plain": [
       "Array(104., dtype=float32, weak_type=True)"
      ]
     },
     "execution_count": 43,
     "metadata": {},
     "output_type": "execute_result"
    }
   ],
   "source": [
    "jitf(3., 5.)"
   ]
  },
  {
   "attachments": {},
   "cell_type": "markdown",
   "metadata": {},
   "source": [
    "Compiled for a second time even though x is still a float scalar, because value of n is different."
   ]
  },
  {
   "cell_type": "code",
   "execution_count": 44,
   "metadata": {},
   "outputs": [
    {
     "name": "stdout",
     "output_type": "stream",
     "text": [
      "x=Traced<ShapedArray(float32[], weak_type=True)>with<DynamicJaxprTrace(level=0/1)> n=3.0\n"
     ]
    },
    {
     "data": {
      "text/plain": [
       "Array(35., dtype=float32, weak_type=True)"
      ]
     },
     "execution_count": 44,
     "metadata": {},
     "output_type": "execute_result"
    }
   ],
   "source": [
    "jitf(2., 3.)"
   ]
  },
  {
   "attachments": {},
   "cell_type": "markdown",
   "metadata": {},
   "source": [
    "Here is a more declarative way of declaring n as static."
   ]
  },
  {
   "cell_type": "code",
   "execution_count": 45,
   "metadata": {},
   "outputs": [],
   "source": [
    "from functools import partial\n",
    "\n",
    "@partial(jit, static_argnames=[\"n\"])\n",
    "def f3(x, n):\n",
    "    print(f\"x={x} n={n}\")\n",
    "    if n > 0:\n",
    "        return 3 * x**3 + 2 * x**2 + n\n",
    "    else:\n",
    "        return 2 * x - n"
   ]
  },
  {
   "cell_type": "code",
   "execution_count": 46,
   "metadata": {},
   "outputs": [
    {
     "name": "stdout",
     "output_type": "stream",
     "text": [
      "x=Traced<ShapedArray(float32[], weak_type=True)>with<DynamicJaxprTrace(level=0/1)> n=5.0\n"
     ]
    },
    {
     "data": {
      "text/plain": [
       "Array(37., dtype=float32, weak_type=True)"
      ]
     },
     "execution_count": 46,
     "metadata": {},
     "output_type": "execute_result"
    }
   ],
   "source": [
    "f3(2., 5.)"
   ]
  },
  {
   "cell_type": "code",
   "execution_count": 47,
   "metadata": {},
   "outputs": [
    {
     "data": {
      "text/plain": [
       "Array(104., dtype=float32, weak_type=True)"
      ]
     },
     "execution_count": 47,
     "metadata": {},
     "output_type": "execute_result"
    }
   ],
   "source": [
    "f3(3., 5.)"
   ]
  },
  {
   "cell_type": "code",
   "execution_count": 48,
   "metadata": {},
   "outputs": [
    {
     "name": "stdout",
     "output_type": "stream",
     "text": [
      "x=Traced<ShapedArray(float32[], weak_type=True)>with<DynamicJaxprTrace(level=0/1)> n=4.0\n"
     ]
    },
    {
     "data": {
      "text/plain": [
       "Array(36., dtype=float32, weak_type=True)"
      ]
     },
     "execution_count": 48,
     "metadata": {},
     "output_type": "execute_result"
    }
   ],
   "source": [
    "f3(2., 4.)"
   ]
  },
  {
   "cell_type": "code",
   "execution_count": null,
   "metadata": {},
   "outputs": [],
   "source": []
  }
 ],
 "metadata": {
  "kernelspec": {
   "display_name": "ai",
   "language": "python",
   "name": "python3"
  },
  "language_info": {
   "codemirror_mode": {
    "name": "ipython",
    "version": 3
   },
   "file_extension": ".py",
   "mimetype": "text/x-python",
   "name": "python",
   "nbconvert_exporter": "python",
   "pygments_lexer": "ipython3",
   "version": "3.10.6 | packaged by conda-forge | (main, Aug 22 2022, 20:41:22) [Clang 13.0.1 ]"
  },
  "orig_nbformat": 4,
  "vscode": {
   "interpreter": {
    "hash": "c957e4ca480fc31da01b2648e097b4e55db834b6351128636991f182c884d81e"
   }
  }
 },
 "nbformat": 4,
 "nbformat_minor": 2
}
