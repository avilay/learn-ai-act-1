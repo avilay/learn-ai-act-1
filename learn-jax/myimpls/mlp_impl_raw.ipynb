{
 "cells": [
  {
   "cell_type": "code",
   "execution_count": 1,
   "metadata": {},
   "outputs": [],
   "source": [
    "import jax\n",
    "import numpy as np\n",
    "import jax.numpy as jnp\n",
    "from jax import random, jit, lax, vmap, pmap, grad, value_and_grad"
   ]
  },
  {
   "cell_type": "code",
   "execution_count": 2,
   "metadata": {},
   "outputs": [
    {
     "data": {
      "text/plain": [
       "'0.4.1'"
      ]
     },
     "execution_count": 2,
     "metadata": {},
     "output_type": "execute_result"
    }
   ],
   "source": [
    "jax.__version__"
   ]
  },
  {
   "cell_type": "code",
   "execution_count": 3,
   "metadata": {},
   "outputs": [],
   "source": [
    "rng = np.random.default_rng()\n",
    "key = jax.random.PRNGKey(0)"
   ]
  },
  {
   "cell_type": "code",
   "execution_count": 26,
   "metadata": {},
   "outputs": [],
   "source": [
    "n_features = 7\n",
    "batch_size = 5\n",
    "learing_rate = 0.01\n",
    "n_epochs = 3"
   ]
  },
  {
   "cell_type": "code",
   "execution_count": 5,
   "metadata": {},
   "outputs": [],
   "source": [
    "def init_classifier_mlp(n_features, hidden_layer):\n",
    "    weights_init = jax.nn.initializers.glorot_normal()\n",
    "    \n",
    "    W1 = weights_init(key, (hidden_layer, n_features))\n",
    "    var = jnp.sqrt(n_features)\n",
    "    b1 = jax.random.uniform(key, (hidden_layer,), minval=-var, maxval=var)\n",
    "\n",
    "    w2 = weights_init(key, (1, hidden_layer)).squeeze()\n",
    "    var = jnp.sqrt(hidden_layer)\n",
    "    b2 = jax.random.uniform(key, minval=-var, maxval=var)\n",
    "\n",
    "    return W1, b1, w2, b2\n"
   ]
  },
  {
   "cell_type": "code",
   "execution_count": 15,
   "metadata": {},
   "outputs": [],
   "source": [
    "def predict(W1, b1, w2, b2, x):\n",
    "    z1 = jax.nn.relu(W1 @ x + b1)\n",
    "    p = jax.nn.sigmoid(w2 @ z1 + b2)\n",
    "    return p\n",
    "predict = vmap(predict, in_axes=(None, None, None, None, 0))"
   ]
  },
  {
   "cell_type": "code",
   "execution_count": 16,
   "metadata": {},
   "outputs": [],
   "source": [
    "def loss(W1, b1, w2, b2, X, y):\n",
    "    p = predict(W1, b1, w2, b2, X)\n",
    "    return -jnp.mean(y * jnp.log(p) + (1-y) * jnp.log(1 - p))"
   ]
  },
  {
   "cell_type": "code",
   "execution_count": 25,
   "metadata": {},
   "outputs": [],
   "source": [
    "@jit\n",
    "def update(W1, b1, w2, b2, X, y):\n",
    "    dW1, db1, dw2, db2 = grad(loss, argnums=(0, 1, 2, 3))(W1, b1, w2, b2, X, y)\n",
    "    return W1 - learing_rate * dW1, b1 - learing_rate * db1, w2 - learing_rate * dw2, b2 - learing_rate * db2"
   ]
  },
  {
   "cell_type": "code",
   "execution_count": 45,
   "metadata": {},
   "outputs": [],
   "source": [
    "def accuracy(W1, b1, w2, b2, cutoff, X, y):\n",
    "    p = predict(W1, b1, w2, b2, X)\n",
    "    y_hat = jnp.where(p > cutoff, 1., 0.)\n",
    "    return jnp.mean(y_hat == y)"
   ]
  },
  {
   "cell_type": "code",
   "execution_count": 36,
   "metadata": {},
   "outputs": [
    {
     "name": "stdout",
     "output_type": "stream",
     "text": [
      "(5, 7) (5,)\n"
     ]
    }
   ],
   "source": [
    "X = jax.random.uniform(key, shape=(batch_size, n_features))\n",
    "y = jax.random.choice(key, a=jnp.array([0, 1]), shape=(batch_size,), p=jnp.array([0.7, 0.3]))\n",
    "print(X.shape,  y.shape)"
   ]
  },
  {
   "cell_type": "code",
   "execution_count": 37,
   "metadata": {},
   "outputs": [
    {
     "data": {
      "text/plain": [
       "Array([[0.42231905, 0.600477  , 0.716727  , 0.6702663 , 0.19844568,\n",
       "        0.62467563, 0.7409996 ],\n",
       "       [0.5134349 , 0.1870414 , 0.3951999 , 0.05926502, 0.26171422,\n",
       "        0.32934666, 0.8185371 ],\n",
       "       [0.4934113 , 0.77583563, 0.86196864, 0.61747384, 0.93201673,\n",
       "        0.5313933 , 0.11078537],\n",
       "       [0.8293711 , 0.5833154 , 0.9171771 , 0.36765325, 0.9984219 ,\n",
       "        0.15992486, 0.30305398],\n",
       "       [0.6148175 , 0.44295645, 0.9467739 , 0.9498491 , 0.5454718 ,\n",
       "        0.60043406, 0.09577227]], dtype=float32)"
      ]
     },
     "execution_count": 37,
     "metadata": {},
     "output_type": "execute_result"
    }
   ],
   "source": [
    "X"
   ]
  },
  {
   "cell_type": "code",
   "execution_count": 38,
   "metadata": {},
   "outputs": [],
   "source": [
    "a1 = jnp.array([\n",
    "    [1, 1],\n",
    "    [2, 2],\n",
    "    [3, 3]\n",
    "])\n",
    "\n",
    "a2 = jnp.array([\n",
    "    [4, 4],\n",
    "    [5, 5]\n",
    "])"
   ]
  },
  {
   "cell_type": "code",
   "execution_count": 43,
   "metadata": {},
   "outputs": [
    {
     "data": {
      "text/plain": [
       "Array([[1, 1],\n",
       "       [2, 2],\n",
       "       [3, 3],\n",
       "       [4, 4],\n",
       "       [5, 5]], dtype=int32)"
      ]
     },
     "execution_count": 43,
     "metadata": {},
     "output_type": "execute_result"
    }
   ],
   "source": [
    "jnp.concatenate((a1, a2), axis=0)"
   ]
  },
  {
   "cell_type": "code",
   "execution_count": 44,
   "metadata": {},
   "outputs": [
    {
     "data": {
      "text/plain": [
       "Array([1, 1, 1, 2, 2, 2], dtype=int32)"
      ]
     },
     "execution_count": 44,
     "metadata": {},
     "output_type": "execute_result"
    }
   ],
   "source": [
    "c1 = jnp.array([1, 1, 1])\n",
    "c2 = jnp.array([2, 2, 2])\n",
    "jnp.concatenate((c1, c2))"
   ]
  },
  {
   "cell_type": "code",
   "execution_count": 19,
   "metadata": {},
   "outputs": [
    {
     "name": "stdout",
     "output_type": "stream",
     "text": [
      "(8, 7) (8,)\n",
      "(8,) ()\n"
     ]
    }
   ],
   "source": [
    "W1, b1, w2, b2 = init_classifier_mlp(n_features, 8)\n",
    "print(W1.shape, b1.shape)\n",
    "print(w2.shape, b2.shape)"
   ]
  },
  {
   "cell_type": "code",
   "execution_count": 30,
   "metadata": {},
   "outputs": [
    {
     "data": {
      "text/plain": [
       "Array([0.98897505, 0.99490064, 0.99331564, 0.99691415, 0.99141484],      dtype=float32)"
      ]
     },
     "execution_count": 30,
     "metadata": {},
     "output_type": "execute_result"
    }
   ],
   "source": [
    "p = predict(W1, b1, w2, b2, X)\n",
    "p"
   ]
  },
  {
   "cell_type": "code",
   "execution_count": 31,
   "metadata": {},
   "outputs": [
    {
     "data": {
      "text/plain": [
       "Array([1., 1., 1., 1., 1.], dtype=float32, weak_type=True)"
      ]
     },
     "execution_count": 31,
     "metadata": {},
     "output_type": "execute_result"
    }
   ],
   "source": [
    "jnp.where(p > 0.5, 1., 0.)"
   ]
  },
  {
   "cell_type": "code",
   "execution_count": 32,
   "metadata": {},
   "outputs": [],
   "source": [
    "y_hat = jnp.array([1., 0., 1.])\n",
    "y = jnp.array([0., 1., 1.])"
   ]
  },
  {
   "cell_type": "code",
   "execution_count": 33,
   "metadata": {},
   "outputs": [
    {
     "data": {
      "text/plain": [
       "Array(0.33333334, dtype=float32)"
      ]
     },
     "execution_count": 33,
     "metadata": {},
     "output_type": "execute_result"
    }
   ],
   "source": [
    "jnp.mean(y_hat == y)"
   ]
  },
  {
   "cell_type": "code",
   "execution_count": 34,
   "metadata": {},
   "outputs": [
    {
     "data": {
      "text/plain": [
       "Array([False, False,  True], dtype=bool)"
      ]
     },
     "execution_count": 34,
     "metadata": {},
     "output_type": "execute_result"
    }
   ],
   "source": [
    "y_hat == y"
   ]
  },
  {
   "cell_type": "code",
   "execution_count": 46,
   "metadata": {},
   "outputs": [
    {
     "name": "stdout",
     "output_type": "stream",
     "text": [
      "Accuracy: 0.20000\n",
      "Accuracy: 0.20000\n",
      "Accuracy: 0.20000\n"
     ]
    }
   ],
   "source": [
    "W1, b1, w2, b2 = init_classifier_mlp(n_features, 8)\n",
    "X_all = None\n",
    "y_all = None\n",
    "for _ in range(n_epochs):\n",
    "    X = jax.random.uniform(key, shape=(batch_size, n_features))\n",
    "    y = jax.random.choice(key, a=jnp.array([0, 1]), shape=(batch_size,), p=jnp.array([0.7, 0.3]))\n",
    "    W1, b1, w2, b2 = update(W1, b1, w2, b2, X, y)\n",
    "    \n",
    "    if X_all is None:\n",
    "        X_all = X\n",
    "        y_all = y\n",
    "    else:\n",
    "        X_all = jnp.concatenate((X_all, X), axis=0)\n",
    "        y_all = jnp.concatenate((y_all, y))\n",
    "    acc = accuracy(W1, b1, w2, b2, 0.5, X_all, y_all)\n",
    "    print(f\"Accuracy: {acc:.5f}\")"
   ]
  },
  {
   "cell_type": "code",
   "execution_count": null,
   "metadata": {},
   "outputs": [],
   "source": []
  }
 ],
 "metadata": {
  "kernelspec": {
   "display_name": "ai",
   "language": "python",
   "name": "python3"
  },
  "language_info": {
   "codemirror_mode": {
    "name": "ipython",
    "version": 3
   },
   "file_extension": ".py",
   "mimetype": "text/x-python",
   "name": "python",
   "nbconvert_exporter": "python",
   "pygments_lexer": "ipython3",
   "version": "3.10.6 | packaged by conda-forge | (main, Aug 22 2022, 20:41:22) [Clang 13.0.1 ]"
  },
  "orig_nbformat": 4,
  "vscode": {
   "interpreter": {
    "hash": "c957e4ca480fc31da01b2648e097b4e55db834b6351128636991f182c884d81e"
   }
  }
 },
 "nbformat": 4,
 "nbformat_minor": 2
}
