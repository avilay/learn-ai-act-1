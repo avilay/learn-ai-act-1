{
 "cells": [
  {
   "cell_type": "markdown",
   "metadata": {},
   "source": [
    "# PyTrees"
   ]
  },
  {
   "attachments": {},
   "cell_type": "markdown",
   "metadata": {},
   "source": [
    "PyTrees are a tree/container datastructure, where intermediate nodes are containers, and their contents are children. If the element is not a container, it becomes a leaf node, otherwise it is yet another node.\n",
    "\n",
    "I think they created pytrees to make gradient calculations easier. Without pytrees we have to do this - \n",
    "```python\n",
    "dW1, db1, dW2, db2 = grad(loss, argnums=(0, 1, 2, 3))(W1, b1, W2, b2, X, y)\n",
    "```\n",
    "\n",
    "With pytrees we can do this -\n",
    "```python\n",
    "param_grads = grad(loss)(params, X, y)\n",
    "```\n",
    "where `params` can be -\n",
    "```\n",
    "params = [\n",
    "    {\n",
    "        \"W1\": W1,\n",
    "        \"b1\": b1\n",
    "    },\n",
    "    {\n",
    "        \"W2\": W2,\n",
    "        \"b2\": b2\n",
    "    }\n",
    "]\n",
    "```\n",
    "\n",
    "This works, because by default `grad` will take the gradient w.r.t the first argument. In this case the first argument is `params`, which is a pytree, so the output will be another pytree with the corresponding gradients.\n",
    "\n",
    "![pytrees_1](./imgs/pytree_2.png)\n",
    "\n",
    "I can even use pytrees to represent the training batch if I make it as any of the registered containers - e.g., \n",
    "```\n",
    "batch = (X, y)\n",
    "```"
   ]
  },
  {
   "attachments": {},
   "cell_type": "markdown",
   "metadata": {},
   "source": [
    "#### Which data structures are PyTree containers and which are PyTree leaves?\n",
    "\n",
    "  * Native Python containers like `list`, `dict`, `tuple` are already registered with Jax as containers. Even empty containers are treated as a node with no children, but not as leaves!\n",
    "  * `jax.Array` and `numpy.ndarray` are treated as leaves.\n",
    "  * `None` is treated as an empty node.\n",
    "  * Any object that is not registered as a container will be treated as a leaf. I can of course register my own custom class as a container."
   ]
  },
  {
   "attachments": {},
   "cell_type": "markdown",
   "metadata": {},
   "source": [
    "What follows is a demonstration of the following utility functions:\n",
    "  * `tree_leaves()`\n",
    "  * `tree_structure()`\n",
    "  * `tree_flatten()`\n",
    "  * `tree_unflatten()`\n",
    "  * `tree_map()`"
   ]
  },
  {
   "cell_type": "markdown",
   "metadata": {},
   "source": []
  },
  {
   "cell_type": "code",
   "execution_count": 2,
   "metadata": {},
   "outputs": [],
   "source": [
    "import jax\n",
    "import jax.numpy as jnp\n",
    "import jax.tree_util as tu\n",
    "import numpy as np\n",
    "from random import random as pyrandom"
   ]
  },
  {
   "cell_type": "code",
   "execution_count": 3,
   "metadata": {},
   "outputs": [],
   "source": [
    "rng = np.random.default_rng()\n",
    "key = jax.random.PRNGKey(0)"
   ]
  },
  {
   "attachments": {},
   "cell_type": "markdown",
   "metadata": {},
   "source": [
    "The following experiment demonstrates that both numpy and jax arrays are **not** containers, the entire array object is considered as a leaf. Python lists OTOH are containers where each element is a leaf."
   ]
  },
  {
   "cell_type": "code",
   "execution_count": 23,
   "metadata": {},
   "outputs": [
    {
     "data": {
      "text/plain": [
       "[Array([0.9653214 , 0.31468165, 0.63302994], dtype=float32),\n",
       " array([0.88037383, 0.04700075, 0.79224713]),\n",
       " 0.21992445929098692,\n",
       " 0.3532498327415212,\n",
       " 0.4444931535522526]"
      ]
     },
     "execution_count": 23,
     "metadata": {},
     "output_type": "execute_result"
    }
   ],
   "source": [
    "params = {\n",
    "    \"W1\": jax.random.uniform(key, shape=(3,)),\n",
    "    \"W2\": rng.random(size=(3,)),\n",
    "    \"W3\": [pyrandom(), pyrandom(), pyrandom()]\n",
    "}\n",
    "tu.tree_leaves(params)"
   ]
  },
  {
   "cell_type": "code",
   "execution_count": 24,
   "metadata": {},
   "outputs": [
    {
     "data": {
      "text/plain": [
       "['a', 'b', 'Anika', 'Baboodi']"
      ]
     },
     "execution_count": 24,
     "metadata": {},
     "output_type": "execute_result"
    }
   ],
   "source": [
    "container = [\"a\", \"b\", (\"Anika\", \"Baboodi\")]\n",
    "tu.tree_leaves(container)"
   ]
  },
  {
   "cell_type": "code",
   "execution_count": 25,
   "metadata": {},
   "outputs": [
    {
     "data": {
      "text/plain": [
       "PyTreeDef([*, *, (*, *)])"
      ]
     },
     "execution_count": 25,
     "metadata": {},
     "output_type": "execute_result"
    }
   ],
   "source": [
    "tu.tree_structure(container)"
   ]
  },
  {
   "cell_type": "code",
   "execution_count": 26,
   "metadata": {},
   "outputs": [
    {
     "data": {
      "text/plain": [
       "PyTreeDef({'W1': *, 'W2': *, 'W3': [*, *, *]})"
      ]
     },
     "execution_count": 26,
     "metadata": {},
     "output_type": "execute_result"
    }
   ],
   "source": [
    "tu.tree_structure(params)"
   ]
  },
  {
   "attachments": {},
   "cell_type": "markdown",
   "metadata": {},
   "source": [
    "`tree_structure` gets both the leaves and the structure in one call."
   ]
  },
  {
   "cell_type": "code",
   "execution_count": 27,
   "metadata": {},
   "outputs": [
    {
     "name": "stdout",
     "output_type": "stream",
     "text": [
      "Leaves:  [1, 2.0, 3.0, 4.0, 5.0, 6.0]\n",
      "Structure:  PyTreeDef({'x': *, 'y': (*, *), 'z': [*, *, *]})\n"
     ]
    }
   ],
   "source": [
    "ptree = {\n",
    "    \"x\": 1,\n",
    "    \"y\": (2., 3.),\n",
    "    \"z\": [4., 5., 6.]\n",
    "}\n",
    "leaves, struct = tu.tree_flatten(ptree)\n",
    "print(\"Leaves: \", leaves)\n",
    "print(\"Structure: \", struct)"
   ]
  },
  {
   "cell_type": "code",
   "execution_count": 29,
   "metadata": {},
   "outputs": [
    {
     "name": "stdout",
     "output_type": "stream",
     "text": [
      "{'x': 1, 'y': (4.0, 9.0), 'z': [16.0, 25.0, 36.0]}\n",
      "Leaves:  [1, 4.0, 9.0, 16.0, 25.0, 36.0]\n",
      "Structure:  PyTreeDef({'x': *, 'y': (*, *), 'z': [*, *, *]})\n"
     ]
    }
   ],
   "source": [
    "newtree = tu.tree_map(lambda leaf: leaf ** 2, ptree)\n",
    "print(newtree)\n",
    "leaves, struct = tu.tree_flatten(newtree)\n",
    "print(\"Leaves: \", leaves)\n",
    "print(\"Structure: \", struct)"
   ]
  },
  {
   "cell_type": "code",
   "execution_count": 30,
   "metadata": {},
   "outputs": [
    {
     "data": {
      "text/plain": [
       "{'x': 2, 'y': (6.0, 12.0), 'z': [20.0, 30.0, 42.0]}"
      ]
     },
     "execution_count": 30,
     "metadata": {},
     "output_type": "execute_result"
    }
   ],
   "source": [
    "newertree = tu.tree_map(lambda leaf1, leaf2: leaf1 + leaf2, ptree, newtree)\n",
    "newertree"
   ]
  },
  {
   "cell_type": "code",
   "execution_count": 5,
   "metadata": {},
   "outputs": [
    {
     "name": "stdout",
     "output_type": "stream",
     "text": [
      "Leaves: [1, 2]\n",
      "Structure: PyTreeDef([*, *, (), None])\n"
     ]
    }
   ],
   "source": [
    "leaves, struct = tu.tree_flatten([1, 2, (), None])\n",
    "print(f\"Leaves: {leaves}\")\n",
    "print(f\"Structure: {struct}\")"
   ]
  },
  {
   "attachments": {},
   "cell_type": "markdown",
   "metadata": {},
   "source": [
    "#### Custom Class as PyTree"
   ]
  },
  {
   "cell_type": "code",
   "execution_count": 6,
   "metadata": {},
   "outputs": [],
   "source": [
    "from dataclasses import dataclass\n",
    "\n",
    "@dataclass\n",
    "class Triplet:\n",
    "    name: str\n",
    "    x: float\n",
    "    y: float\n",
    "    z: float\n",
    "\n",
    "    def __repr__(self):\n",
    "        return f\"<Triplet(name={self.name} x={self.x} y={self.y} z={self.z})>\""
   ]
  },
  {
   "cell_type": "code",
   "execution_count": 9,
   "metadata": {},
   "outputs": [
    {
     "data": {
      "text/plain": [
       "<Triplet(name=Cookies x=10 y=20 z=30)>"
      ]
     },
     "execution_count": 9,
     "metadata": {},
     "output_type": "execute_result"
    }
   ],
   "source": [
    "obj = Triplet(\"Cookies\", 10, 20, 30)\n",
    "obj"
   ]
  },
  {
   "cell_type": "code",
   "execution_count": 10,
   "metadata": {},
   "outputs": [
    {
     "name": "stdout",
     "output_type": "stream",
     "text": [
      "Leaves:  [1, Array([0, 1, 2], dtype=int32), 'hello', array([0, 1, 2]), <Triplet(name=Cookies x=10 y=20 z=30)>]\n",
      "Struct:  PyTreeDef([*, *, [*, *], *])\n"
     ]
    }
   ],
   "source": [
    "leaves, struct = tu.tree_flatten([1, jnp.arange(3), [\"hello\", np.arange(3)], obj])\n",
    "print(\"Leaves: \", leaves)\n",
    "print(\"Struct: \", struct)"
   ]
  },
  {
   "attachments": {},
   "cell_type": "markdown",
   "metadata": {},
   "source": [
    "Define two functions that tells Jax how to flatten and unflatten the object."
   ]
  },
  {
   "cell_type": "code",
   "execution_count": 11,
   "metadata": {},
   "outputs": [],
   "source": [
    "def triplet_flatten(triplet):\n",
    "    leaves = (triplet.x, triplet.y, triplet.z)\n",
    "    auxdata = triplet.name\n",
    "    return (leaves, auxdata)\n",
    "\n",
    "def triplet_unflatten(auxdata, leaves):\n",
    "    x, y, z = leaves\n",
    "    return Triplet(name=auxdata, x=x, y=y, z=z)\n",
    "\n",
    "tu.register_pytree_node(Triplet, triplet_flatten, triplet_unflatten)"
   ]
  },
  {
   "cell_type": "code",
   "execution_count": 12,
   "metadata": {},
   "outputs": [
    {
     "name": "stdout",
     "output_type": "stream",
     "text": [
      "Leaves:  [1, Array([0, 1, 2], dtype=int32), 'hello', array([0, 1, 2]), 10, 20, 30]\n",
      "Struct:  PyTreeDef([*, *, [*, *], CustomNode(Triplet[Cookies], [*, *, *])])\n"
     ]
    }
   ],
   "source": [
    "leaves, struct = tu.tree_flatten([1, jnp.arange(3), [\"hello\", np.arange(3)], obj])\n",
    "print(\"Leaves: \", leaves)\n",
    "print(\"Struct: \", struct)"
   ]
  },
  {
   "cell_type": "code",
   "execution_count": null,
   "metadata": {},
   "outputs": [],
   "source": []
  }
 ],
 "metadata": {
  "kernelspec": {
   "display_name": "ai",
   "language": "python",
   "name": "python3"
  },
  "language_info": {
   "codemirror_mode": {
    "name": "ipython",
    "version": 3
   },
   "file_extension": ".py",
   "mimetype": "text/x-python",
   "name": "python",
   "nbconvert_exporter": "python",
   "pygments_lexer": "ipython3",
   "version": "3.10.6"
  },
  "orig_nbformat": 4,
  "vscode": {
   "interpreter": {
    "hash": "c957e4ca480fc31da01b2648e097b4e55db834b6351128636991f182c884d81e"
   }
  }
 },
 "nbformat": 4,
 "nbformat_minor": 2
}
