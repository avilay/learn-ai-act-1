{
 "cells": [
  {
   "cell_type": "markdown",
   "id": "d718aaba-fa51-426d-8e6b-fda34f6b45a3",
   "metadata": {
    "jp-MarkdownHeadingCollapsed": true,
    "tags": []
   },
   "source": [
    "## Simple Syntax"
   ]
  },
  {
   "cell_type": "code",
   "execution_count": 1,
   "id": "424f1ec2-079b-46a3-b506-f353418aa2a0",
   "metadata": {},
   "outputs": [
    {
     "name": "stdout",
     "output_type": "stream",
     "text": [
      "Hello world\n"
     ]
    }
   ],
   "source": [
    "println(\"Hello world\")"
   ]
  },
  {
   "cell_type": "code",
   "execution_count": 2,
   "id": "8293ebb6-1848-46b9-9232-4c8af62c129e",
   "metadata": {},
   "outputs": [
    {
     "data": {
      "text/plain": [
       "Int64"
      ]
     },
     "execution_count": 2,
     "metadata": {},
     "output_type": "execute_result"
    }
   ],
   "source": [
    "my_ans = 42\n",
    "typeof(my_ans)"
   ]
  },
  {
   "cell_type": "code",
   "execution_count": 3,
   "id": "3874ac12-6aa3-4971-9e5c-55744553f805",
   "metadata": {},
   "outputs": [
    {
     "data": {
      "text/plain": [
       "Float64"
      ]
     },
     "execution_count": 3,
     "metadata": {},
     "output_type": "execute_result"
    }
   ],
   "source": [
    "my_pi = 3.14159\n",
    "typeof(my_pi)"
   ]
  },
  {
   "cell_type": "code",
   "execution_count": 4,
   "id": "95929e5f-5ac2-4ec3-b7d1-8c13216fb067",
   "metadata": {},
   "outputs": [],
   "source": [
    "# This is a single line comment"
   ]
  },
  {
   "cell_type": "code",
   "execution_count": 5,
   "id": "7edaa094-f484-4420-a270-5fe6300adf3f",
   "metadata": {},
   "outputs": [],
   "source": [
    "#=\n",
    "\n",
    "This is a \n",
    "multi-line comment.\n",
    "\n",
    "=#"
   ]
  },
  {
   "cell_type": "code",
   "execution_count": 6,
   "id": "28c0b710-44b9-4382-9556-8027d2528f80",
   "metadata": {},
   "outputs": [
    {
     "name": "stdout",
     "output_type": "stream",
     "text": [
      "7 7 100 10.0 100 1\n",
      "Int64 Int64 Int64 Float64 Int64 Int64\n"
     ]
    }
   ],
   "source": [
    "s = 3 + 4\n",
    "d = 10 - 3\n",
    "p = 20 * 5\n",
    "q = 100 / 10\n",
    "po = 10 ^ 2\n",
    "m = 101 % 2\n",
    "println(s, \" \", d, \" \", p, \" \", q, \" \", po, \" \", m)\n",
    "println(typeof(s), \" \", typeof(d), \" \", typeof(p), \" \", typeof(q), \" \", typeof(po), \" \", typeof(m))"
   ]
  },
  {
   "cell_type": "code",
   "execution_count": 7,
   "id": "daa39f48-e6c0-44df-96e3-783c90b19871",
   "metadata": {},
   "outputs": [
    {
     "data": {
      "text/plain": [
       "365.0"
      ]
     },
     "execution_count": 7,
     "metadata": {},
     "output_type": "execute_result"
    }
   ],
   "source": [
    "days = 365\n",
    "days_f = convert(Float64, days)"
   ]
  },
  {
   "cell_type": "code",
   "execution_count": 8,
   "id": "2d4328cc-3cc0-4540-90d1-f6b22b3b066a",
   "metadata": {},
   "outputs": [
    {
     "ename": "LoadError",
     "evalue": "syntax: invalid identifier name \"?\"",
     "output_type": "error",
     "traceback": [
      "syntax: invalid identifier name \"?\"",
      "",
      "Stacktrace:",
      " [1] top-level scope",
      "   @ In[8]:2"
     ]
    }
   ],
   "source": [
    "# This does not work in VSCode notebook, but will work in browser based notebook\n",
    "?convert"
   ]
  },
  {
   "cell_type": "code",
   "execution_count": 9,
   "id": "b12ec0ed-da0d-428c-9b02-4d5b6faf4b4c",
   "metadata": {},
   "outputs": [
    {
     "ename": "LoadError",
     "evalue": "MethodError: \u001b[0mCannot `convert` an object of type \u001b[92mString\u001b[39m\u001b[0m to an object of type \u001b[91mInt64\u001b[39m\n\u001b[0mClosest candidates are:\n\u001b[0m  convert(::Type{T}, \u001b[91m::T\u001b[39m) where T<:Number at number.jl:6\n\u001b[0m  convert(::Type{T}, \u001b[91m::Number\u001b[39m) where T<:Number at number.jl:7\n\u001b[0m  convert(::Type{T}, \u001b[91m::Base.TwicePrecision\u001b[39m) where T<:Number at twiceprecision.jl:273\n\u001b[0m  ...",
     "output_type": "error",
     "traceback": [
      "MethodError: \u001b[0mCannot `convert` an object of type \u001b[92mString\u001b[39m\u001b[0m to an object of type \u001b[91mInt64\u001b[39m\n\u001b[0mClosest candidates are:\n\u001b[0m  convert(::Type{T}, \u001b[91m::T\u001b[39m) where T<:Number at number.jl:6\n\u001b[0m  convert(::Type{T}, \u001b[91m::Number\u001b[39m) where T<:Number at number.jl:7\n\u001b[0m  convert(::Type{T}, \u001b[91m::Base.TwicePrecision\u001b[39m) where T<:Number at twiceprecision.jl:273\n\u001b[0m  ...",
      "",
      "Stacktrace:",
      " [1] top-level scope",
      "   @ In[9]:1"
     ]
    }
   ],
   "source": [
    "convert(Int64, \"1\")"
   ]
  },
  {
   "cell_type": "code",
   "execution_count": 10,
   "id": "8b8cd1b5-6a18-43c8-aedb-df7a8525ded1",
   "metadata": {},
   "outputs": [],
   "source": [
    "@assert days == 365\n",
    "@assert days_f == 365.0"
   ]
  },
  {
   "cell_type": "code",
   "execution_count": 11,
   "id": "1646656a-0256-4206-939c-ad0d92fa3d1d",
   "metadata": {},
   "outputs": [
    {
     "ename": "LoadError",
     "evalue": "MethodError: \u001b[0mCannot `convert` an object of type \u001b[92mString\u001b[39m\u001b[0m to an object of type \u001b[91mInt64\u001b[39m\n\u001b[0mClosest candidates are:\n\u001b[0m  convert(::Type{T}, \u001b[91m::T\u001b[39m) where T<:Number at number.jl:6\n\u001b[0m  convert(::Type{T}, \u001b[91m::Number\u001b[39m) where T<:Number at number.jl:7\n\u001b[0m  convert(::Type{T}, \u001b[91m::Base.TwicePrecision\u001b[39m) where T<:Number at twiceprecision.jl:273\n\u001b[0m  ...",
     "output_type": "error",
     "traceback": [
      "MethodError: \u001b[0mCannot `convert` an object of type \u001b[92mString\u001b[39m\u001b[0m to an object of type \u001b[91mInt64\u001b[39m\n\u001b[0mClosest candidates are:\n\u001b[0m  convert(::Type{T}, \u001b[91m::T\u001b[39m) where T<:Number at number.jl:6\n\u001b[0m  convert(::Type{T}, \u001b[91m::Number\u001b[39m) where T<:Number at number.jl:7\n\u001b[0m  convert(::Type{T}, \u001b[91m::Base.TwicePrecision\u001b[39m) where T<:Number at twiceprecision.jl:273\n\u001b[0m  ...",
      "",
      "Stacktrace:",
      " [1] top-level scope",
      "   @ In[11]:1"
     ]
    }
   ],
   "source": [
    "convert(Int64, \"1\")"
   ]
  },
  {
   "cell_type": "code",
   "execution_count": 12,
   "id": "b1d272dd-0a42-488d-9b64-e2e556b46b65",
   "metadata": {},
   "outputs": [
    {
     "name": "stdout",
     "output_type": "stream",
     "text": [
      "search: \u001b[0m\u001b[1mp\u001b[22m\u001b[0m\u001b[1ma\u001b[22m\u001b[0m\u001b[1mr\u001b[22m\u001b[0m\u001b[1ms\u001b[22m\u001b[0m\u001b[1me\u001b[22m try\u001b[0m\u001b[1mp\u001b[22m\u001b[0m\u001b[1ma\u001b[22m\u001b[0m\u001b[1mr\u001b[22m\u001b[0m\u001b[1ms\u001b[22m\u001b[0m\u001b[1me\u001b[22m \u001b[0m\u001b[1mp\u001b[22m\u001b[0m\u001b[1ma\u001b[22m\u001b[0m\u001b[1mr\u001b[22mtial\u001b[0m\u001b[1ms\u001b[22mortp\u001b[0m\u001b[1me\u001b[22mrm \u001b[0m\u001b[1mp\u001b[22m\u001b[0m\u001b[1ma\u001b[22m\u001b[0m\u001b[1mr\u001b[22mtial\u001b[0m\u001b[1ms\u001b[22mortp\u001b[0m\u001b[1me\u001b[22mrm! \u001b[0m\u001b[1mp\u001b[22m\u001b[0m\u001b[1ma\u001b[22mi\u001b[0m\u001b[1mr\u001b[22m\u001b[0m\u001b[1ms\u001b[22m ski\u001b[0m\u001b[1mp\u001b[22mch\u001b[0m\u001b[1ma\u001b[22m\u001b[0m\u001b[1mr\u001b[22m\u001b[0m\u001b[1ms\u001b[22m\n",
      "\n"
     ]
    },
    {
     "data": {
      "text/latex": [
       "\\begin{verbatim}\n",
       "parse(type, str; base)\n",
       "\\end{verbatim}\n",
       "Parse a string as a number. For \\texttt{Integer} types, a base can be specified (the default is 10). For floating-point types, the string is parsed as a decimal floating-point number.  \\texttt{Complex} types are parsed from decimal strings of the form \\texttt{\"R±Iim\"} as a \\texttt{Complex(R,I)} of the requested type; \\texttt{\"i\"} or \\texttt{\"j\"} can also be used instead of \\texttt{\"im\"}, and \\texttt{\"R\"} or \\texttt{\"Iim\"} are also permitted. If the string does not contain a valid number, an error is raised.\n",
       "\n",
       "\\begin{quote}\n",
       "\\textbf{compat}\n",
       "\n",
       "Julia 1.1\n",
       "\n",
       "\\texttt{parse(Bool, str)} requires at least Julia 1.1.\n",
       "\n",
       "\\end{quote}\n",
       "\\section{Examples}\n",
       "\\begin{verbatim}\n",
       "julia> parse(Int, \"1234\")\n",
       "1234\n",
       "\n",
       "julia> parse(Int, \"1234\", base = 5)\n",
       "194\n",
       "\n",
       "julia> parse(Int, \"afc\", base = 16)\n",
       "2812\n",
       "\n",
       "julia> parse(Float64, \"1.2e-3\")\n",
       "0.0012\n",
       "\n",
       "julia> parse(Complex{Float64}, \"3.2e-1 + 4.5im\")\n",
       "0.32 + 4.5im\n",
       "\\end{verbatim}\n",
       "\\rule{\\textwidth}{1pt}\n",
       "\\begin{verbatim}\n",
       "parse(::Type{Platform}, triplet::AbstractString)\n",
       "\\end{verbatim}\n",
       "Parses a string platform triplet back into a \\texttt{Platform} object.\n",
       "\n"
      ],
      "text/markdown": [
       "```\n",
       "parse(type, str; base)\n",
       "```\n",
       "\n",
       "Parse a string as a number. For `Integer` types, a base can be specified (the default is 10). For floating-point types, the string is parsed as a decimal floating-point number.  `Complex` types are parsed from decimal strings of the form `\"R±Iim\"` as a `Complex(R,I)` of the requested type; `\"i\"` or `\"j\"` can also be used instead of `\"im\"`, and `\"R\"` or `\"Iim\"` are also permitted. If the string does not contain a valid number, an error is raised.\n",
       "\n",
       "!!! compat \"Julia 1.1\"\n",
       "    `parse(Bool, str)` requires at least Julia 1.1.\n",
       "\n",
       "\n",
       "# Examples\n",
       "\n",
       "```jldoctest\n",
       "julia> parse(Int, \"1234\")\n",
       "1234\n",
       "\n",
       "julia> parse(Int, \"1234\", base = 5)\n",
       "194\n",
       "\n",
       "julia> parse(Int, \"afc\", base = 16)\n",
       "2812\n",
       "\n",
       "julia> parse(Float64, \"1.2e-3\")\n",
       "0.0012\n",
       "\n",
       "julia> parse(Complex{Float64}, \"3.2e-1 + 4.5im\")\n",
       "0.32 + 4.5im\n",
       "```\n",
       "\n",
       "---\n",
       "\n",
       "```\n",
       "parse(::Type{Platform}, triplet::AbstractString)\n",
       "```\n",
       "\n",
       "Parses a string platform triplet back into a `Platform` object.\n"
      ],
      "text/plain": [
       "\u001b[36m  parse(type, str; base)\u001b[39m\n",
       "\n",
       "  Parse a string as a number. For \u001b[36mInteger\u001b[39m types, a base can be specified (the\n",
       "  default is 10). For floating-point types, the string is parsed as a decimal\n",
       "  floating-point number. \u001b[36mComplex\u001b[39m types are parsed from decimal strings of the\n",
       "  form \u001b[36m\"R±Iim\"\u001b[39m as a \u001b[36mComplex(R,I)\u001b[39m of the requested type; \u001b[36m\"i\"\u001b[39m or \u001b[36m\"j\"\u001b[39m can also be\n",
       "  used instead of \u001b[36m\"im\"\u001b[39m, and \u001b[36m\"R\"\u001b[39m or \u001b[36m\"Iim\"\u001b[39m are also permitted. If the string\n",
       "  does not contain a valid number, an error is raised.\n",
       "\n",
       "\u001b[39m\u001b[1m  │ \u001b[22m\u001b[39m\u001b[1mJulia 1.1\u001b[22m\n",
       "\u001b[39m\u001b[1m  │\u001b[22m\n",
       "\u001b[39m\u001b[1m  │\u001b[22m  \u001b[36mparse(Bool, str)\u001b[39m requires at least Julia 1.1.\n",
       "\n",
       "\u001b[1m  Examples\u001b[22m\n",
       "\u001b[1m  ≡≡≡≡≡≡≡≡≡≡\u001b[22m\n",
       "\n",
       "\u001b[36m  julia> parse(Int, \"1234\")\u001b[39m\n",
       "\u001b[36m  1234\u001b[39m\n",
       "\u001b[36m  \u001b[39m\n",
       "\u001b[36m  julia> parse(Int, \"1234\", base = 5)\u001b[39m\n",
       "\u001b[36m  194\u001b[39m\n",
       "\u001b[36m  \u001b[39m\n",
       "\u001b[36m  julia> parse(Int, \"afc\", base = 16)\u001b[39m\n",
       "\u001b[36m  2812\u001b[39m\n",
       "\u001b[36m  \u001b[39m\n",
       "\u001b[36m  julia> parse(Float64, \"1.2e-3\")\u001b[39m\n",
       "\u001b[36m  0.0012\u001b[39m\n",
       "\u001b[36m  \u001b[39m\n",
       "\u001b[36m  julia> parse(Complex{Float64}, \"3.2e-1 + 4.5im\")\u001b[39m\n",
       "\u001b[36m  0.32 + 4.5im\u001b[39m\n",
       "\n",
       "  ────────────────────────────────────────────────────────────────────────────\n",
       "\n",
       "\u001b[36m  parse(::Type{Platform}, triplet::AbstractString)\u001b[39m\n",
       "\n",
       "  Parses a string platform triplet back into a \u001b[36mPlatform\u001b[39m object."
      ]
     },
     "execution_count": 12,
     "metadata": {},
     "output_type": "execute_result"
    }
   ],
   "source": [
    "?parse"
   ]
  },
  {
   "cell_type": "code",
   "execution_count": 13,
   "id": "ac53ee7b-b717-480d-beca-4ae45ba9cd02",
   "metadata": {},
   "outputs": [
    {
     "data": {
      "text/plain": [
       "1"
      ]
     },
     "execution_count": 13,
     "metadata": {},
     "output_type": "execute_result"
    }
   ],
   "source": [
    "parse(Int64, \"1\")"
   ]
  },
  {
   "cell_type": "code",
   "execution_count": 14,
   "id": "2109d92f-aaa0-4b86-80ba-4ef15171bc59",
   "metadata": {},
   "outputs": [
    {
     "data": {
      "text/plain": [
       "3.2 + 4.5im"
      ]
     },
     "execution_count": 14,
     "metadata": {},
     "output_type": "execute_result"
    }
   ],
   "source": [
    "parse(Complex{Float64}, \"3.2 + 4.5i\")"
   ]
  },
  {
   "cell_type": "code",
   "execution_count": 15,
   "id": "9ee0a764-18bc-43f1-bcf6-dbfd6f29db6f",
   "metadata": {},
   "outputs": [
    {
     "data": {
      "text/plain": [
       "255"
      ]
     },
     "execution_count": 15,
     "metadata": {},
     "output_type": "execute_result"
    }
   ],
   "source": [
    "parse(Int64, \"FF\", base=16)"
   ]
  },
  {
   "cell_type": "code",
   "execution_count": 16,
   "id": "3628994c-4062-4dd4-b206-c9122061e641",
   "metadata": {},
   "outputs": [
    {
     "data": {
      "text/plain": [
       "\"This is also a string\\nthat can span multiple lines.\\n\""
      ]
     },
     "execution_count": 16,
     "metadata": {},
     "output_type": "execute_result"
    }
   ],
   "source": [
    "s1 = \"This is a string\"\n",
    "\n",
    "s2 = \"\"\"\n",
    "This is also a string\n",
    "that can span multiple lines.\n",
    "\"\"\""
   ]
  },
  {
   "cell_type": "code",
   "execution_count": 17,
   "id": "e7855f9c-7e04-40c0-94dc-85fb9fedda32",
   "metadata": {},
   "outputs": [
    {
     "name": "stdout",
     "output_type": "stream",
     "text": [
      "This is also a string\n",
      "that can span multiple lines.\n",
      "\n"
     ]
    }
   ],
   "source": [
    "println(s2)"
   ]
  },
  {
   "cell_type": "code",
   "execution_count": 18,
   "id": "daad8d0c-0980-403d-bac6-953487874d88",
   "metadata": {},
   "outputs": [
    {
     "data": {
      "text/plain": [
       "'A': ASCII/Unicode U+0041 (category Lu: Letter, uppercase)"
      ]
     },
     "execution_count": 18,
     "metadata": {},
     "output_type": "execute_result"
    }
   ],
   "source": [
    "c = 'A'  # single quotes are char"
   ]
  },
  {
   "cell_type": "code",
   "execution_count": 19,
   "id": "aa91ac93-73ee-4948-bf74-2e9d18e734df",
   "metadata": {},
   "outputs": [
    {
     "data": {
      "text/plain": [
       "Char"
      ]
     },
     "execution_count": 19,
     "metadata": {},
     "output_type": "execute_result"
    }
   ],
   "source": [
    "typeof(c)"
   ]
  },
  {
   "cell_type": "code",
   "execution_count": 20,
   "id": "c5568431-80c8-4bad-9fce-df00ce01e053",
   "metadata": {},
   "outputs": [
    {
     "name": "stdout",
     "output_type": "stream",
     "text": [
      "Hello I am APTG and I ate 3 treats today!\n"
     ]
    }
   ],
   "source": [
    "name = \"APTG\"\n",
    "n_cookies = 2\n",
    "n_cakes = 1\n",
    "println(\"Hello I am $name and I ate $(n_cookies + n_cakes) treats today!\")"
   ]
  },
  {
   "cell_type": "code",
   "execution_count": 21,
   "id": "22d6cd8c-b336-4314-acbb-a1a6db966f82",
   "metadata": {},
   "outputs": [
    {
     "data": {
      "text/plain": [
       "\"hello my name is APTG notice the spaces that I have to add.\""
      ]
     },
     "execution_count": 21,
     "metadata": {},
     "output_type": "execute_result"
    }
   ],
   "source": [
    "string(\"hello my name is \", name, \" notice the spaces that I have to add.\")"
   ]
  },
  {
   "cell_type": "code",
   "execution_count": 22,
   "id": "8351ed5f-b082-4c88-b8da-771deeda4167",
   "metadata": {},
   "outputs": [
    {
     "data": {
      "text/plain": [
       "\"hello my name is APTG\""
      ]
     },
     "execution_count": 22,
     "metadata": {},
     "output_type": "execute_result"
    }
   ],
   "source": [
    "greeting = \"hello my name is \"\n",
    "greeting * name"
   ]
  },
  {
   "cell_type": "code",
   "execution_count": 23,
   "id": "d6465529-856a-463c-a416-beb9c71586fd",
   "metadata": {},
   "outputs": [
    {
     "ename": "LoadError",
     "evalue": "MethodError: no method matching +(::String, ::String)\n\u001b[0mClosest candidates are:\n\u001b[0m  +(::Any, ::Any, \u001b[91m::Any\u001b[39m, \u001b[91m::Any...\u001b[39m) at operators.jl:591",
     "output_type": "error",
     "traceback": [
      "MethodError: no method matching +(::String, ::String)\n\u001b[0mClosest candidates are:\n\u001b[0m  +(::Any, ::Any, \u001b[91m::Any\u001b[39m, \u001b[91m::Any...\u001b[39m) at operators.jl:591",
      "",
      "Stacktrace:",
      " [1] top-level scope",
      "   @ In[23]:1"
     ]
    }
   ],
   "source": [
    "greeting + name"
   ]
  },
  {
   "cell_type": "code",
   "execution_count": 24,
   "id": "acd0cec2-86e8-41ef-badb-b58173b585c1",
   "metadata": {},
   "outputs": [
    {
     "data": {
      "text/plain": [
       "\"APTGAPTGAPTG\""
      ]
     },
     "execution_count": 24,
     "metadata": {},
     "output_type": "execute_result"
    }
   ],
   "source": [
    "repeat(name, 3)"
   ]
  },
  {
   "cell_type": "code",
   "execution_count": 25,
   "id": "4dde2d2f-da5d-49c9-b03d-bf7ec9cd71fc",
   "metadata": {},
   "outputs": [
    {
     "data": {
      "text/plain": [
       "\"APTGAPTGAPTG\""
      ]
     },
     "execution_count": 25,
     "metadata": {},
     "output_type": "execute_result"
    }
   ],
   "source": [
    "name ^ 3"
   ]
  },
  {
   "cell_type": "code",
   "execution_count": 26,
   "id": "8a650793-488f-414c-9a83-ae0a0b5dddff",
   "metadata": {},
   "outputs": [
    {
     "name": "stdout",
     "output_type": "stream",
     "text": [
      "c=3 + 4 d=7\n"
     ]
    }
   ],
   "source": [
    "a = 3\n",
    "b = 4\n",
    "c = \"$a + $b\"\n",
    "d = \"$(a + b)\"\n",
    "println(\"c=$c d=$d\")"
   ]
  },
  {
   "cell_type": "code",
   "execution_count": 27,
   "id": "68b998d6-d455-4a28-b862-94a3ba9b88f1",
   "metadata": {},
   "outputs": [],
   "source": [
    "@assert c == \"3 + 4\"\n",
    "@assert d == \"7\""
   ]
  },
  {
   "cell_type": "markdown",
   "id": "b2885178-f20a-421e-b6fe-96a58b329f1f",
   "metadata": {
    "jp-MarkdownHeadingCollapsed": true,
    "tags": []
   },
   "source": [
    "## Builtin Data Structures"
   ]
  },
  {
   "cell_type": "markdown",
   "id": "b17e1221-114e-4822-8a19-82e15a9692c4",
   "metadata": {},
   "source": [
    "There is some weirdness around using commas, semicolons, and spaces to create vectors and matrices. More details in this [discussion](https://discourse.julialang.org/t/whats-the-meaning-of-the-array-syntax/938)."
   ]
  },
  {
   "cell_type": "markdown",
   "id": "a1db2d47-cb75-43dc-8ff6-cbf41e1e71bd",
   "metadata": {},
   "source": [
    "### Tuple"
   ]
  },
  {
   "cell_type": "markdown",
   "id": "ef54fd6e-7bce-4075-81d0-5792468344af",
   "metadata": {},
   "source": [
    "#### Indexable but immutable"
   ]
  },
  {
   "cell_type": "code",
   "execution_count": 28,
   "id": "49b3f51f-7963-46ca-8f6c-707f6d520b21",
   "metadata": {},
   "outputs": [
    {
     "data": {
      "text/plain": [
       "Tuple{String, String, String}"
      ]
     },
     "execution_count": 28,
     "metadata": {},
     "output_type": "execute_result"
    }
   ],
   "source": [
    "fruits = (\"apple\", \"mango\", \"banana\")\n",
    "typeof(fruits)"
   ]
  },
  {
   "cell_type": "code",
   "execution_count": 29,
   "id": "3571ba14-8342-4669-81b2-17090d3030a2",
   "metadata": {},
   "outputs": [
    {
     "data": {
      "text/plain": [
       "\"apple\""
      ]
     },
     "execution_count": 29,
     "metadata": {},
     "output_type": "execute_result"
    }
   ],
   "source": [
    "fruits[1]"
   ]
  },
  {
   "cell_type": "code",
   "execution_count": 30,
   "id": "1746bb1d-5871-4fd3-9e2b-177b6a0bacd8",
   "metadata": {},
   "outputs": [
    {
     "ename": "LoadError",
     "evalue": "MethodError: no method matching setindex!(::Tuple{String, String, String}, ::String, ::Int64)",
     "output_type": "error",
     "traceback": [
      "MethodError: no method matching setindex!(::Tuple{String, String, String}, ::String, ::Int64)",
      "",
      "Stacktrace:",
      " [1] top-level scope",
      "   @ In[30]:1"
     ]
    }
   ],
   "source": [
    "fruits[1] = \"pear\""
   ]
  },
  {
   "cell_type": "markdown",
   "id": "266380d5-895f-4544-84c5-af5837e122fb",
   "metadata": {},
   "source": [
    "#### Mixed element types"
   ]
  },
  {
   "cell_type": "code",
   "execution_count": 31,
   "id": "319e143e-c504-48e9-9b06-208bb2fa507e",
   "metadata": {},
   "outputs": [
    {
     "data": {
      "text/plain": [
       "Tuple{String, Int64}"
      ]
     },
     "execution_count": 31,
     "metadata": {},
     "output_type": "execute_result"
    }
   ],
   "source": [
    "mix = (\"hello\", 42)\n",
    "typeof(mix)"
   ]
  },
  {
   "cell_type": "markdown",
   "id": "eac710c6-3fc7-4421-976f-f639f131830e",
   "metadata": {},
   "source": [
    "### NamedTuple\n",
    "Just like tuple but with property names in **addition** to being indexable."
   ]
  },
  {
   "cell_type": "code",
   "execution_count": 32,
   "id": "798f1e52-80a8-46df-ae43-ba315adce26b",
   "metadata": {},
   "outputs": [
    {
     "data": {
      "text/plain": [
       "NamedTuple{(:FB, :MSFT, :U), Tuple{Float64, Float64, Float64}}"
      ]
     },
     "execution_count": 32,
     "metadata": {},
     "output_type": "execute_result"
    }
   ],
   "source": [
    "stocks = (FB = 335.24, MSFT = 334.69, U = 145.57)\n",
    "typeof(stocks)"
   ]
  },
  {
   "cell_type": "code",
   "execution_count": 33,
   "id": "1504b6da-4b21-4562-80fc-44fd8eac579e",
   "metadata": {},
   "outputs": [
    {
     "data": {
      "text/plain": [
       "335.24"
      ]
     },
     "execution_count": 33,
     "metadata": {},
     "output_type": "execute_result"
    }
   ],
   "source": [
    "stocks[1]"
   ]
  },
  {
   "cell_type": "code",
   "execution_count": 34,
   "id": "743afca6-49c8-4417-8e87-808fe7e85b57",
   "metadata": {},
   "outputs": [
    {
     "data": {
      "text/plain": [
       "335.24"
      ]
     },
     "execution_count": 34,
     "metadata": {},
     "output_type": "execute_result"
    }
   ],
   "source": [
    "stocks.FB"
   ]
  },
  {
   "cell_type": "code",
   "execution_count": 35,
   "id": "347c8c72-1f0d-4251-aa50-141565c7487b",
   "metadata": {},
   "outputs": [
    {
     "ename": "LoadError",
     "evalue": "setfield!: immutable struct of type NamedTuple cannot be changed",
     "output_type": "error",
     "traceback": [
      "setfield!: immutable struct of type NamedTuple cannot be changed",
      "",
      "Stacktrace:",
      " [1] setproperty!(x::NamedTuple{(:FB, :MSFT, :U), Tuple{Float64, Float64, Float64}}, f::Symbol, v::Int64)",
      "   @ Base ./Base.jl:39",
      " [2] top-level scope",
      "   @ In[35]:1"
     ]
    }
   ],
   "source": [
    "stocks.FB = 440"
   ]
  },
  {
   "cell_type": "markdown",
   "id": "ed1983e6-04d5-47be-a591-1e976b49da48",
   "metadata": {},
   "source": [
    "### Dictionaries"
   ]
  },
  {
   "cell_type": "markdown",
   "id": "1e02c020-af0b-499a-982a-7da0eb1429be",
   "metadata": {},
   "source": [
    "Unlike Python, insertion order is not preserved."
   ]
  },
  {
   "cell_type": "code",
   "execution_count": 36,
   "id": "24ba94df-9d8f-4265-9842-bcb264e5de70",
   "metadata": {},
   "outputs": [
    {
     "data": {
      "text/plain": [
       "Dict{String, Int64} with 2 entries:\n",
       "  \"Chocolate Chip\" => 200\n",
       "  \"Snicker Doodle\" => 220"
      ]
     },
     "execution_count": 36,
     "metadata": {},
     "output_type": "execute_result"
    }
   ],
   "source": [
    "flavors = Dict(\n",
    "    \"Chocolate Chip\" => 200,\n",
    "    \"Snicker Doodle\" => 220\n",
    ")"
   ]
  },
  {
   "cell_type": "code",
   "execution_count": 37,
   "id": "e3618971-c061-4274-ad51-05c73a4d90b4",
   "metadata": {},
   "outputs": [
    {
     "data": {
      "text/plain": [
       "Dict{Int64, String} with 2 entries:\n",
       "  200 => \"Chocloate Chip\"\n",
       "  220 => \"Snicker Doodle\""
      ]
     },
     "execution_count": 37,
     "metadata": {},
     "output_type": "execute_result"
    }
   ],
   "source": [
    "calories = Dict(\n",
    "    200 => \"Chocloate Chip\", \n",
    "    220 => \"Snicker Doodle\"\n",
    ")"
   ]
  },
  {
   "cell_type": "markdown",
   "id": "1d461d84-0a56-435f-b64e-340e6f6367a8",
   "metadata": {},
   "source": [
    "#### Indexable"
   ]
  },
  {
   "cell_type": "code",
   "execution_count": 38,
   "id": "ee8d381d-ac36-43e7-9ffc-f74b2e8580e9",
   "metadata": {},
   "outputs": [
    {
     "data": {
      "text/plain": [
       "200"
      ]
     },
     "execution_count": 38,
     "metadata": {},
     "output_type": "execute_result"
    }
   ],
   "source": [
    "flavors[\"Chocolate Chip\"]"
   ]
  },
  {
   "cell_type": "code",
   "execution_count": 39,
   "id": "11b7f8a9-c108-473b-b160-df6fe5f903fc",
   "metadata": {},
   "outputs": [
    {
     "data": {
      "text/plain": [
       "\"Chocloate Chip\""
      ]
     },
     "execution_count": 39,
     "metadata": {},
     "output_type": "execute_result"
    }
   ],
   "source": [
    "calories[200]"
   ]
  },
  {
   "cell_type": "markdown",
   "id": "8b3fd31d-5ccb-47d6-a605-cad21612f5af",
   "metadata": {},
   "source": [
    "#### Iterators for keys and values"
   ]
  },
  {
   "cell_type": "code",
   "execution_count": 40,
   "id": "e9094ad1-ac78-4a2c-848b-7a4847bc936c",
   "metadata": {},
   "outputs": [
    {
     "data": {
      "text/plain": [
       "KeySet for a Dict{Int64, String} with 2 entries. Keys:\n",
       "  200\n",
       "  220"
      ]
     },
     "execution_count": 40,
     "metadata": {},
     "output_type": "execute_result"
    }
   ],
   "source": [
    "keys(calories)"
   ]
  },
  {
   "cell_type": "code",
   "execution_count": 41,
   "id": "ae8bde03-17a4-402c-93e3-895f112dfebc",
   "metadata": {},
   "outputs": [
    {
     "data": {
      "text/plain": [
       "ValueIterator for a Dict{Int64, String} with 2 entries. Values:\n",
       "  \"Chocloate Chip\"\n",
       "  \"Snicker Doodle\""
      ]
     },
     "execution_count": 41,
     "metadata": {},
     "output_type": "execute_result"
    }
   ],
   "source": [
    "values(calories)"
   ]
  },
  {
   "cell_type": "markdown",
   "id": "76b6bce3-bcd3-49cf-a66a-91e623fc7639",
   "metadata": {},
   "source": [
    "#### Mutable\n",
    "Two ways - add a new entry, modify an existing entry."
   ]
  },
  {
   "cell_type": "code",
   "execution_count": 42,
   "id": "a070e787-8412-4a98-b74c-8cc9c442bf8f",
   "metadata": {},
   "outputs": [
    {
     "data": {
      "text/plain": [
       "240"
      ]
     },
     "execution_count": 42,
     "metadata": {},
     "output_type": "execute_result"
    }
   ],
   "source": [
    "flavors[\"Snicker Doodle\"] = 240"
   ]
  },
  {
   "cell_type": "code",
   "execution_count": 43,
   "id": "e282b0c5-ae41-45c9-b60a-e53b63cd9624",
   "metadata": {},
   "outputs": [
    {
     "data": {
      "text/plain": [
       "Dict{String, Int64} with 2 entries:\n",
       "  \"Chocolate Chip\" => 200\n",
       "  \"Snicker Doodle\" => 240"
      ]
     },
     "execution_count": 43,
     "metadata": {},
     "output_type": "execute_result"
    }
   ],
   "source": [
    "flavors"
   ]
  },
  {
   "cell_type": "code",
   "execution_count": 44,
   "id": "2f357ff2-36fe-410a-8ed9-ebba212d0301",
   "metadata": {},
   "outputs": [
    {
     "data": {
      "text/plain": [
       "180"
      ]
     },
     "execution_count": 44,
     "metadata": {},
     "output_type": "execute_result"
    }
   ],
   "source": [
    "flavors[\"Oatmeal Raisin\"] = 180"
   ]
  },
  {
   "cell_type": "code",
   "execution_count": 45,
   "id": "c69d6e97-0bb3-4c46-8e67-28f338b689f5",
   "metadata": {},
   "outputs": [
    {
     "data": {
      "text/plain": [
       "Dict{String, Int64} with 3 entries:\n",
       "  \"Chocolate Chip\" => 200\n",
       "  \"Snicker Doodle\" => 240\n",
       "  \"Oatmeal Raisin\" => 180"
      ]
     },
     "execution_count": 45,
     "metadata": {},
     "output_type": "execute_result"
    }
   ],
   "source": [
    "flavors"
   ]
  },
  {
   "cell_type": "markdown",
   "id": "3b6acf4b-7a64-4690-82df-8510409c43b7",
   "metadata": {},
   "source": [
    "#### push! and pop! support\n",
    "Support for `push!` and `pop!` as with all other mutable containers."
   ]
  },
  {
   "cell_type": "code",
   "execution_count": 46,
   "id": "72ffe340-2257-462e-9f08-f958f798ba9c",
   "metadata": {},
   "outputs": [
    {
     "data": {
      "text/plain": [
       "180"
      ]
     },
     "execution_count": 46,
     "metadata": {},
     "output_type": "execute_result"
    }
   ],
   "source": [
    "pop!(flavors, \"Oatmeal Raisin\")"
   ]
  },
  {
   "cell_type": "code",
   "execution_count": 47,
   "id": "88bdf38b-dd34-478e-ab50-ae4235f0844b",
   "metadata": {},
   "outputs": [
    {
     "data": {
      "text/plain": [
       "Dict{String, Int64} with 2 entries:\n",
       "  \"Chocolate Chip\" => 200\n",
       "  \"Snicker Doodle\" => 240"
      ]
     },
     "execution_count": 47,
     "metadata": {},
     "output_type": "execute_result"
    }
   ],
   "source": [
    "flavors"
   ]
  },
  {
   "cell_type": "markdown",
   "id": "d8cd8d12-da56-4d76-bc58-b9bacb063e2f",
   "metadata": {},
   "source": [
    "#### Mixed types\n",
    "Keys and values can be of different types."
   ]
  },
  {
   "cell_type": "code",
   "execution_count": 48,
   "id": "6c21d39a-919f-4ecb-8a82-ddf9c7680b9b",
   "metadata": {},
   "outputs": [
    {
     "data": {
      "text/plain": [
       "Dict{Any, Any} with 2 entries:\n",
       "  \"one\" => 1\n",
       "  1.0   => \"uno\""
      ]
     },
     "execution_count": 48,
     "metadata": {},
     "output_type": "execute_result"
    }
   ],
   "source": [
    "mixhsh = Dict(\"one\" => 1, 1 => \"ek\", 1.0 => \"uno\")"
   ]
  },
  {
   "cell_type": "markdown",
   "id": "b516a1ef-bc64-4e80-97e4-c584e7a13fef",
   "metadata": {},
   "source": [
    "#### Check membership\n",
    "Multiple ways to check if a key is in the dictionary."
   ]
  },
  {
   "cell_type": "code",
   "execution_count": 49,
   "id": "066fd2d5-035f-4f32-851d-0560d4074952",
   "metadata": {},
   "outputs": [
    {
     "data": {
      "text/plain": [
       "true"
      ]
     },
     "execution_count": 49,
     "metadata": {},
     "output_type": "execute_result"
    }
   ],
   "source": [
    "haskey(flavors, \"Chocolate Chip\")"
   ]
  },
  {
   "cell_type": "code",
   "execution_count": 50,
   "id": "7423fd76-2fc8-49d6-ae80-ee1f14c97336",
   "metadata": {},
   "outputs": [
    {
     "data": {
      "text/plain": [
       "true"
      ]
     },
     "execution_count": 50,
     "metadata": {},
     "output_type": "execute_result"
    }
   ],
   "source": [
    "\"Chocolate Chip\" in keys(flavors)"
   ]
  },
  {
   "cell_type": "code",
   "execution_count": 51,
   "id": "12756081-5472-4c86-8f46-ac048377a500",
   "metadata": {},
   "outputs": [
    {
     "data": {
      "text/plain": [
       "true"
      ]
     },
     "execution_count": 51,
     "metadata": {},
     "output_type": "execute_result"
    }
   ],
   "source": [
    "# the ∈ is typed by pressing \\in followed by a tab.\n",
    "\"Chocolate Chip\" ∈ keys(flavors)"
   ]
  },
  {
   "cell_type": "markdown",
   "id": "7f1ffef1-de64-46dc-afce-42378eead596",
   "metadata": {},
   "source": [
    "### Arrays"
   ]
  },
  {
   "cell_type": "markdown",
   "id": "d30513cd-fe11-4376-b501-493c1027346b",
   "metadata": {},
   "source": [
    "Key differences from Python -\n",
    "  * 1 based indexing\n",
    "  * Negative indexes don't work\n",
    "  * Slices are inclusive on both sides"
   ]
  },
  {
   "cell_type": "code",
   "execution_count": 52,
   "id": "a8ca848d-7dc8-49de-8ea3-13cf716ef552",
   "metadata": {},
   "outputs": [
    {
     "data": {
      "text/plain": [
       "6-element Vector{Int64}:\n",
       " 1\n",
       " 2\n",
       " 3\n",
       " 4\n",
       " 5\n",
       " 6"
      ]
     },
     "execution_count": 52,
     "metadata": {},
     "output_type": "execute_result"
    }
   ],
   "source": [
    "nums = [1, 2, 3, 4, 5, 6]"
   ]
  },
  {
   "cell_type": "code",
   "execution_count": 53,
   "id": "83c53020-5dad-4656-90ff-1fb4650ab33b",
   "metadata": {},
   "outputs": [
    {
     "data": {
      "text/plain": [
       "1"
      ]
     },
     "execution_count": 53,
     "metadata": {},
     "output_type": "execute_result"
    }
   ],
   "source": [
    "nums[1]"
   ]
  },
  {
   "cell_type": "code",
   "execution_count": 54,
   "id": "a0516320-ac71-41b9-b269-561010049d43",
   "metadata": {},
   "outputs": [
    {
     "ename": "LoadError",
     "evalue": "BoundsError: attempt to access 6-element Vector{Int64} at index [-1]",
     "output_type": "error",
     "traceback": [
      "BoundsError: attempt to access 6-element Vector{Int64} at index [-1]",
      "",
      "Stacktrace:",
      " [1] getindex(A::Vector{Int64}, i1::Int64)",
      "   @ Base ./array.jl:924",
      " [2] top-level scope",
      "   @ In[54]:1"
     ]
    }
   ],
   "source": [
    "nums[-1]"
   ]
  },
  {
   "cell_type": "code",
   "execution_count": 55,
   "id": "1d68767a-51a9-4a3f-8ba0-0bbad8986425",
   "metadata": {},
   "outputs": [
    {
     "data": {
      "text/plain": [
       "3-element Vector{Int64}:\n",
       " 2\n",
       " 3\n",
       " 4"
      ]
     },
     "execution_count": 55,
     "metadata": {},
     "output_type": "execute_result"
    }
   ],
   "source": [
    "nums[2:4]"
   ]
  },
  {
   "cell_type": "markdown",
   "id": "638167a8-5501-494a-9b57-0b18852e2c69",
   "metadata": {},
   "source": [
    "#### Mutable\n",
    "Are mutable in the sense that value at existing index can be changed. But a new index cannot be added with the index operator, have to use the `push!` function which pushes a new element at the end of the array. Also, like all other mutable containers, supports the `pop!` function which pops the last element."
   ]
  },
  {
   "cell_type": "code",
   "execution_count": 56,
   "id": "57fe96e2-50ad-43e1-8b19-f22c6f6e412a",
   "metadata": {},
   "outputs": [
    {
     "data": {
      "text/plain": [
       "100"
      ]
     },
     "execution_count": 56,
     "metadata": {},
     "output_type": "execute_result"
    }
   ],
   "source": [
    "nums[1] = 100"
   ]
  },
  {
   "cell_type": "code",
   "execution_count": 57,
   "id": "6b95c8c7-8429-482b-be15-f6b4b4d3e13b",
   "metadata": {},
   "outputs": [
    {
     "data": {
      "text/plain": [
       "6-element Vector{Int64}:\n",
       " 100\n",
       "   2\n",
       "   3\n",
       "   4\n",
       "   5\n",
       "   6"
      ]
     },
     "execution_count": 57,
     "metadata": {},
     "output_type": "execute_result"
    }
   ],
   "source": [
    "nums"
   ]
  },
  {
   "cell_type": "code",
   "execution_count": 58,
   "id": "b922dfa1-203b-46da-afb3-27e09a75c711",
   "metadata": {},
   "outputs": [
    {
     "ename": "LoadError",
     "evalue": "BoundsError: attempt to access 6-element Vector{Int64} at index [7]",
     "output_type": "error",
     "traceback": [
      "BoundsError: attempt to access 6-element Vector{Int64} at index [7]",
      "",
      "Stacktrace:",
      " [1] setindex!(A::Vector{Int64}, x::Int64, i1::Int64)",
      "   @ Base ./array.jl:966",
      " [2] top-level scope",
      "   @ In[58]:1"
     ]
    }
   ],
   "source": [
    "nums[7] = 7"
   ]
  },
  {
   "cell_type": "code",
   "execution_count": 59,
   "id": "952ce670-6780-4ff8-b403-df94b351463a",
   "metadata": {},
   "outputs": [
    {
     "data": {
      "text/plain": [
       "7-element Vector{Int64}:\n",
       " 100\n",
       "   2\n",
       "   3\n",
       "   4\n",
       "   5\n",
       "   6\n",
       "   7"
      ]
     },
     "execution_count": 59,
     "metadata": {},
     "output_type": "execute_result"
    }
   ],
   "source": [
    "push!(nums, 7)"
   ]
  },
  {
   "cell_type": "code",
   "execution_count": 60,
   "id": "a16a4a2f-e0fe-430b-96ca-1989e1e3614c",
   "metadata": {},
   "outputs": [
    {
     "data": {
      "text/plain": [
       "7"
      ]
     },
     "execution_count": 60,
     "metadata": {},
     "output_type": "execute_result"
    }
   ],
   "source": [
    "pop!(nums)"
   ]
  },
  {
   "cell_type": "code",
   "execution_count": 61,
   "id": "0404177a-e9eb-4ea7-9e1e-7dd514932c35",
   "metadata": {},
   "outputs": [
    {
     "data": {
      "text/plain": [
       "6-element Vector{Int64}:\n",
       " 100\n",
       "   2\n",
       "   3\n",
       "   4\n",
       "   5\n",
       "   6"
      ]
     },
     "execution_count": 61,
     "metadata": {},
     "output_type": "execute_result"
    }
   ],
   "source": [
    "nums"
   ]
  },
  {
   "cell_type": "markdown",
   "id": "d70da0fa-4f38-4003-b615-6197199a35e0",
   "metadata": {},
   "source": [
    "#### Copying\n",
    "Using the `=` operator to copy an array is not going to work. It will just create a new reference to the existing underlying array. Use the `copy` function instead which will do a `memcpy`."
   ]
  },
  {
   "cell_type": "code",
   "execution_count": 62,
   "id": "5df77dc9-3d86-4515-af02-5a44d66de05f",
   "metadata": {},
   "outputs": [
    {
     "name": "stdout",
     "output_type": "stream",
     "text": [
      "[\"magenta\", \"gree\", \"blue\"]\n",
      "[\"magenta\", \"gree\", \"blue\"]\n"
     ]
    }
   ],
   "source": [
    "colors = [\"red\", \"gree\", \"blue\"]\n",
    "also_colors = colors\n",
    "colors[1] = \"magenta\"\n",
    "println(colors)\n",
    "println(also_colors)"
   ]
  },
  {
   "cell_type": "code",
   "execution_count": 63,
   "id": "806b5441-8225-4013-801e-71026aa18c4c",
   "metadata": {},
   "outputs": [
    {
     "name": "stdout",
     "output_type": "stream",
     "text": [
      "[\"magenta\", \"gree\", \"blue\"]\n",
      "[\"red\", \"gree\", \"blue\"]\n"
     ]
    }
   ],
   "source": [
    "colors = [\"red\", \"gree\", \"blue\"]\n",
    "also_colors = copy(colors)\n",
    "colors[1] = \"magenta\"\n",
    "println(colors)\n",
    "println(also_colors)"
   ]
  },
  {
   "cell_type": "markdown",
   "id": "5bf4097c-ea22-4d54-92bb-a9b5f98b3fbc",
   "metadata": {},
   "source": [
    "#### Mixed types\n",
    "Array (or Vector) elements can be different types."
   ]
  },
  {
   "cell_type": "code",
   "execution_count": 64,
   "id": "78a1c545-7913-4e6e-8f0a-6b719486e986",
   "metadata": {},
   "outputs": [
    {
     "data": {
      "text/plain": [
       "4-element Vector{Any}:\n",
       " 1\n",
       " 2\n",
       "  \"red\"\n",
       " 3.14"
      ]
     },
     "execution_count": 64,
     "metadata": {},
     "output_type": "execute_result"
    }
   ],
   "source": [
    "mixary = [1, 2, \"red\", 3.14]"
   ]
  },
  {
   "cell_type": "markdown",
   "id": "349213c6-5218-4f36-8679-9c0ce3aea398",
   "metadata": {
    "jp-MarkdownHeadingCollapsed": true,
    "tags": []
   },
   "source": [
    "## Loops"
   ]
  },
  {
   "cell_type": "code",
   "execution_count": 65,
   "id": "1f723d32-0051-4856-99a9-be7b781bfa3b",
   "metadata": {},
   "outputs": [
    {
     "name": "stdout",
     "output_type": "stream",
     "text": [
      "1\n",
      "2\n",
      "3\n",
      "4\n",
      "5\n",
      "6\n",
      "7\n",
      "8\n",
      "9\n",
      "10\n"
     ]
    },
    {
     "data": {
      "text/plain": [
       "10"
      ]
     },
     "execution_count": 65,
     "metadata": {},
     "output_type": "execute_result"
    }
   ],
   "source": [
    "n = 0\n",
    "while n < 10\n",
    "    n += 1\n",
    "    println(n)\n",
    "end\n",
    "n"
   ]
  },
  {
   "cell_type": "code",
   "execution_count": 66,
   "id": "b6a35099-b3f3-4686-bf51-cbc1cf835cc3",
   "metadata": {},
   "outputs": [
    {
     "name": "stdout",
     "output_type": "stream",
     "text": [
      "1\n",
      "2\n",
      "3\n",
      "4\n",
      "5\n",
      "6\n",
      "7\n",
      "8\n",
      "9\n",
      "10\n"
     ]
    }
   ],
   "source": [
    "for n in 1:10\n",
    "    println(n)\n",
    "end"
   ]
  },
  {
   "cell_type": "code",
   "execution_count": 67,
   "id": "bffccdae-74a7-4f18-9651-c35a93e0033d",
   "metadata": {},
   "outputs": [
    {
     "data": {
      "text/plain": [
       "5×5 Matrix{Int64}:\n",
       " 0  0  0  0  0\n",
       " 0  0  0  0  0\n",
       " 0  0  0  0  0\n",
       " 0  0  0  0  0\n",
       " 0  0  0  0  0"
      ]
     },
     "execution_count": 67,
     "metadata": {},
     "output_type": "execute_result"
    }
   ],
   "source": [
    "m, n = 5, 5\n",
    "A = fill(0, (m, n))"
   ]
  },
  {
   "cell_type": "code",
   "execution_count": 68,
   "id": "6195c326-f254-4c75-adea-a6b7657a81ed",
   "metadata": {},
   "outputs": [
    {
     "data": {
      "text/plain": [
       "5×5 Matrix{Int64}:\n",
       " 2  3  4  5   6\n",
       " 3  4  5  6   7\n",
       " 4  5  6  7   8\n",
       " 5  6  7  8   9\n",
       " 6  7  8  9  10"
      ]
     },
     "execution_count": 68,
     "metadata": {},
     "output_type": "execute_result"
    }
   ],
   "source": [
    "for j in 1:n\n",
    "    for i in 1:m\n",
    "        A[i, j] = i + j\n",
    "    end\n",
    "end\n",
    "A"
   ]
  },
  {
   "cell_type": "code",
   "execution_count": 69,
   "id": "50204bab-2d71-498e-b0f0-2edd6fc05574",
   "metadata": {},
   "outputs": [
    {
     "data": {
      "text/plain": [
       "5×5 Matrix{Int64}:\n",
       " 2  3  4  5   6\n",
       " 3  4  5  6   7\n",
       " 4  5  6  7   8\n",
       " 5  6  7  8   9\n",
       " 6  7  8  9  10"
      ]
     },
     "execution_count": 69,
     "metadata": {},
     "output_type": "execute_result"
    }
   ],
   "source": [
    "B = fill(0, (m, n))\n",
    "for j in 1:n, i in 1:m\n",
    "    B[i, j] = i + j\n",
    "end\n",
    "B"
   ]
  },
  {
   "cell_type": "code",
   "execution_count": 70,
   "id": "8c2af2b8-151f-4907-bae8-23e80f45fbc7",
   "metadata": {},
   "outputs": [
    {
     "data": {
      "text/plain": [
       "5×5 Matrix{Int64}:\n",
       " 2  3  4  5   6\n",
       " 3  4  5  6   7\n",
       " 4  5  6  7   8\n",
       " 5  6  7  8   9\n",
       " 6  7  8  9  10"
      ]
     },
     "execution_count": 70,
     "metadata": {},
     "output_type": "execute_result"
    }
   ],
   "source": [
    "C = [i + j for i in 1:m, j in 1:n]"
   ]
  },
  {
   "cell_type": "markdown",
   "id": "fac22541-b598-49ab-b80d-8b811f482a35",
   "metadata": {
    "jp-MarkdownHeadingCollapsed": true,
    "tags": []
   },
   "source": [
    "## Conditionals"
   ]
  },
  {
   "cell_type": "code",
   "execution_count": 71,
   "id": "cbcb2850-13a6-423c-b180-b0e0eab4dbcd",
   "metadata": {},
   "outputs": [
    {
     "data": {
      "text/plain": [
       "11"
      ]
     },
     "execution_count": 71,
     "metadata": {},
     "output_type": "execute_result"
    }
   ],
   "source": [
    "n = 11"
   ]
  },
  {
   "cell_type": "code",
   "execution_count": 72,
   "id": "d8340c9f-9093-4bf9-8de0-b604d9103aa4",
   "metadata": {},
   "outputs": [
    {
     "name": "stdout",
     "output_type": "stream",
     "text": [
      "11\n"
     ]
    }
   ],
   "source": [
    "if (n % 3 == 0) && (n % 5 == 0)\n",
    "    println(\"FizzBuzz\")\n",
    "elseif n % 3 == 0\n",
    "    println(\"Fizz\")\n",
    "elseif n % 5 == 0\n",
    "    println(\"Buzz\")\n",
    "else\n",
    "    println(n)\n",
    "end"
   ]
  },
  {
   "cell_type": "code",
   "execution_count": 73,
   "id": "a18ef9a0-d372-4ad5-b2b1-97b62f07daf1",
   "metadata": {},
   "outputs": [
    {
     "name": "stdout",
     "output_type": "stream",
     "text": [
      "y is greater\n"
     ]
    }
   ],
   "source": [
    "x = 10\n",
    "y = 30\n",
    "(x > y) ? println(\"x is greater\") : println(\"y is greater\")"
   ]
  },
  {
   "cell_type": "markdown",
   "id": "eaf9ce04-a328-42f9-ac62-02538963697a",
   "metadata": {
    "jp-MarkdownHeadingCollapsed": true,
    "tags": []
   },
   "source": [
    "## Functions\n",
    "Defined using the `function` and `end` keywords."
   ]
  },
  {
   "cell_type": "code",
   "execution_count": 74,
   "id": "546bbf00-5094-4d67-85ba-620e9be3c388",
   "metadata": {},
   "outputs": [
    {
     "data": {
      "text/plain": [
       "sayhi (generic function with 1 method)"
      ]
     },
     "execution_count": 74,
     "metadata": {},
     "output_type": "execute_result"
    }
   ],
   "source": [
    "function sayhi(name)\n",
    "    println(\"Hi $name\")\n",
    "end"
   ]
  },
  {
   "cell_type": "code",
   "execution_count": 75,
   "id": "983f6f9d-7613-4944-a3db-20214510693a",
   "metadata": {},
   "outputs": [
    {
     "name": "stdout",
     "output_type": "stream",
     "text": [
      "Hi APTG\n"
     ]
    }
   ],
   "source": [
    "sayhi(\"APTG\")"
   ]
  },
  {
   "cell_type": "code",
   "execution_count": 76,
   "id": "918e7fc4-9fe0-45bb-9c10-c7800b85926b",
   "metadata": {},
   "outputs": [
    {
     "data": {
      "text/plain": [
       "f (generic function with 1 method)"
      ]
     },
     "execution_count": 76,
     "metadata": {},
     "output_type": "execute_result"
    }
   ],
   "source": [
    "function f(x)\n",
    "    x ^ 2\n",
    "end"
   ]
  },
  {
   "cell_type": "code",
   "execution_count": 77,
   "id": "8425386e-8bf2-4cea-b0b3-984935a67a3f",
   "metadata": {},
   "outputs": [
    {
     "name": "stdout",
     "output_type": "stream",
     "text": [
      "Even though there is no explicit return stmt the function returned 9\n"
     ]
    }
   ],
   "source": [
    "y = f(3)\n",
    "println(\"Even though there is no explicit return stmt the function returned $y\")"
   ]
  },
  {
   "cell_type": "code",
   "execution_count": 78,
   "id": "08b97ee1-c0e9-4122-a367-515f5a44d9ef",
   "metadata": {},
   "outputs": [
    {
     "data": {
      "text/plain": [
       "typeof(f) (singleton type of function f, subtype of Function)"
      ]
     },
     "execution_count": 78,
     "metadata": {},
     "output_type": "execute_result"
    }
   ],
   "source": [
    "typeof(f)"
   ]
  },
  {
   "cell_type": "markdown",
   "id": "c604b1b1-46da-4651-a694-20eeb0dfe6eb",
   "metadata": {},
   "source": [
    "#### In a single line"
   ]
  },
  {
   "cell_type": "code",
   "execution_count": 79,
   "id": "a685d432-4d85-4317-9362-babb96e45513",
   "metadata": {},
   "outputs": [
    {
     "data": {
      "text/plain": [
       "100"
      ]
     },
     "execution_count": 79,
     "metadata": {},
     "output_type": "execute_result"
    }
   ],
   "source": [
    "altf(x) = x ^ 2\n",
    "altf(10)"
   ]
  },
  {
   "cell_type": "markdown",
   "id": "7c99e9e4-baab-42fc-837b-d48be352f81d",
   "metadata": {},
   "source": [
    "#### Lambdas"
   ]
  },
  {
   "cell_type": "code",
   "execution_count": 80,
   "id": "3fb1a40c-4c0d-4755-bb3e-5fe398fa30ff",
   "metadata": {},
   "outputs": [
    {
     "data": {
      "text/plain": [
       "#5 (generic function with 1 method)"
      ]
     },
     "execution_count": 80,
     "metadata": {},
     "output_type": "execute_result"
    }
   ],
   "source": [
    "anon1 = n -> println(\"Hi $name\")\n",
    "anon2 = x -> x ^ 2"
   ]
  },
  {
   "cell_type": "code",
   "execution_count": 81,
   "id": "9bf9b0ea-da73-4735-be45-678c49f3502a",
   "metadata": {},
   "outputs": [
    {
     "name": "stdout",
     "output_type": "stream",
     "text": [
      "Hi APTG\n"
     ]
    }
   ],
   "source": [
    "tp = anon1(\"APTG\")"
   ]
  },
  {
   "cell_type": "code",
   "execution_count": 82,
   "id": "1939a25a-1cca-40ee-bba7-85af5024de71",
   "metadata": {},
   "outputs": [
    {
     "data": {
      "text/plain": [
       "100"
      ]
     },
     "execution_count": 82,
     "metadata": {},
     "output_type": "execute_result"
    }
   ],
   "source": [
    "anon2(10)"
   ]
  },
  {
   "cell_type": "markdown",
   "id": "fb745b39-0900-4719-aba8-281dce5ddbac",
   "metadata": {},
   "source": [
    "#### Support for duck typing\n",
    "But only works where there is no ambiguity on what needs to be done. E.g., the power operator is defined for the matrix type, so passing a matrix to `f` will work. This operator is also defined for strings, so passing in a string will work as well. But it is undefined for vectors, so passing in a vector will raise an error."
   ]
  },
  {
   "cell_type": "code",
   "execution_count": 83,
   "id": "d8e95131-53cc-468c-948c-498368a8b4f7",
   "metadata": {},
   "outputs": [
    {
     "name": "stdout",
     "output_type": "stream",
     "text": [
      "Hi 23\n"
     ]
    }
   ],
   "source": [
    "sayhi(23)"
   ]
  },
  {
   "cell_type": "code",
   "execution_count": 84,
   "id": "40bec234-afeb-4703-a528-24ef2988dbdc",
   "metadata": {},
   "outputs": [
    {
     "data": {
      "text/plain": [
       "\"hello hello \""
      ]
     },
     "execution_count": 84,
     "metadata": {},
     "output_type": "execute_result"
    }
   ],
   "source": [
    "f(\"hello \")"
   ]
  },
  {
   "cell_type": "code",
   "execution_count": 85,
   "id": "fa598125-8e74-42bb-a8a5-e90b10c1826e",
   "metadata": {},
   "outputs": [
    {
     "data": {
      "text/plain": [
       "3×3 Matrix{Float64}:\n",
       " 0.50063   1.56922  1.17907\n",
       " 0.442558  1.32505  0.879063\n",
       " 0.153289  0.54223  0.493324"
      ]
     },
     "execution_count": 85,
     "metadata": {},
     "output_type": "execute_result"
    }
   ],
   "source": [
    "f(rand(3, 3))"
   ]
  },
  {
   "cell_type": "code",
   "execution_count": 86,
   "id": "ec0dacec-4d79-4498-adf7-38cc3c2f45f9",
   "metadata": {},
   "outputs": [
    {
     "ename": "LoadError",
     "evalue": "MethodError: no method matching ^(::Vector{Float64}, ::Int64)\n\u001b[0mClosest candidates are:\n\u001b[0m  ^(\u001b[91m::Union{AbstractChar, AbstractString}\u001b[39m, ::Integer) at strings/basic.jl:730\n\u001b[0m  ^(\u001b[91m::LinearAlgebra.Symmetric{var\"#s886\", S} where {var\"#s886\"<:Real, S<:(AbstractMatrix{<:var\"#s886\"})}\u001b[39m, ::Integer) at /Applications/Julia-1.8.app/Contents/Resources/julia/share/julia/stdlib/v1.8/LinearAlgebra/src/symmetric.jl:674\n\u001b[0m  ^(\u001b[91m::LinearAlgebra.Symmetric{var\"#s886\", S} where {var\"#s886\"<:Complex, S<:(AbstractMatrix{<:var\"#s886\"})}\u001b[39m, ::Integer) at /Applications/Julia-1.8.app/Contents/Resources/julia/share/julia/stdlib/v1.8/LinearAlgebra/src/symmetric.jl:675\n\u001b[0m  ...",
     "output_type": "error",
     "traceback": [
      "MethodError: no method matching ^(::Vector{Float64}, ::Int64)\n\u001b[0mClosest candidates are:\n\u001b[0m  ^(\u001b[91m::Union{AbstractChar, AbstractString}\u001b[39m, ::Integer) at strings/basic.jl:730\n\u001b[0m  ^(\u001b[91m::LinearAlgebra.Symmetric{var\"#s886\", S} where {var\"#s886\"<:Real, S<:(AbstractMatrix{<:var\"#s886\"})}\u001b[39m, ::Integer) at /Applications/Julia-1.8.app/Contents/Resources/julia/share/julia/stdlib/v1.8/LinearAlgebra/src/symmetric.jl:674\n\u001b[0m  ^(\u001b[91m::LinearAlgebra.Symmetric{var\"#s886\", S} where {var\"#s886\"<:Complex, S<:(AbstractMatrix{<:var\"#s886\"})}\u001b[39m, ::Integer) at /Applications/Julia-1.8.app/Contents/Resources/julia/share/julia/stdlib/v1.8/LinearAlgebra/src/symmetric.jl:675\n\u001b[0m  ...",
      "",
      "Stacktrace:",
      " [1] literal_pow",
      "   @ ./intfuncs.jl:340 [inlined]",
      " [2] f(x::Vector{Float64})",
      "   @ Main ./In[76]:2",
      " [3] top-level scope",
      "   @ In[86]:1"
     ]
    }
   ],
   "source": [
    "f(rand(3))"
   ]
  },
  {
   "cell_type": "markdown",
   "id": "95643be6-1f98-4346-a231-e9daee6e44a3",
   "metadata": {},
   "source": [
    "#### Functors\n",
    "I can convert `f` into a Functor simply by using the `.` operator! So now passing in a vector simply does an element-wise squaring. Similarly passing in a matrix will do element-wise squaring instead of doing a full matrix times matrix op. This is called the `broadcast` operator and there is also an eponymous function that does the same thing."
   ]
  },
  {
   "cell_type": "code",
   "execution_count": 87,
   "id": "3ad5f533-b31c-475b-b026-7b6bc9dfbcff",
   "metadata": {},
   "outputs": [
    {
     "data": {
      "text/plain": [
       "3-element Vector{Int64}:\n",
       " 1\n",
       " 4\n",
       " 9"
      ]
     },
     "execution_count": 87,
     "metadata": {},
     "output_type": "execute_result"
    }
   ],
   "source": [
    "f.([1, 2, 3])"
   ]
  },
  {
   "cell_type": "code",
   "execution_count": 88,
   "id": "abe40952-f5fc-451e-9b5c-37ed24792259",
   "metadata": {},
   "outputs": [
    {
     "data": {
      "text/plain": [
       "5×5 Matrix{Int64}:\n",
       " 2  3  4  5   6\n",
       " 3  4  5  6   7\n",
       " 4  5  6  7   8\n",
       " 5  6  7  8   9\n",
       " 6  7  8  9  10"
      ]
     },
     "execution_count": 88,
     "metadata": {},
     "output_type": "execute_result"
    }
   ],
   "source": [
    "A"
   ]
  },
  {
   "cell_type": "code",
   "execution_count": 89,
   "id": "099f8b30-a359-4a41-91aa-c72bc6e42c0f",
   "metadata": {},
   "outputs": [
    {
     "data": {
      "text/plain": [
       "5×5 Matrix{Int64}:\n",
       "  4   9  16  25   36\n",
       "  9  16  25  36   49\n",
       " 16  25  36  49   64\n",
       " 25  36  49  64   81\n",
       " 36  49  64  81  100"
      ]
     },
     "execution_count": 89,
     "metadata": {},
     "output_type": "execute_result"
    }
   ],
   "source": [
    "f.(A)"
   ]
  },
  {
   "cell_type": "markdown",
   "id": "ca23b0aa-e285-42de-8e1b-06c1423c7a0f",
   "metadata": {},
   "source": [
    "#### Naming\n",
    "Just like in Ruby, mutating functions are suffixed with `!`. See for example `sort()` and `sort!()`."
   ]
  },
  {
   "cell_type": "code",
   "execution_count": 90,
   "id": "bf700a3e-0ceb-4f53-8ccd-97941bb60180",
   "metadata": {},
   "outputs": [
    {
     "data": {
      "text/plain": [
       "3-element Vector{Int64}:\n",
       " 3\n",
       " 5\n",
       " 2"
      ]
     },
     "execution_count": 90,
     "metadata": {},
     "output_type": "execute_result"
    }
   ],
   "source": [
    "v = [3, 5, 2]"
   ]
  },
  {
   "cell_type": "code",
   "execution_count": 91,
   "id": "fcaff0c2-0721-4c0d-bead-375aca794baf",
   "metadata": {},
   "outputs": [
    {
     "name": "stdout",
     "output_type": "stream",
     "text": [
      "[2, 3, 5]\n",
      "[3, 5, 2]\n"
     ]
    }
   ],
   "source": [
    "u = sort(v)\n",
    "println(u)\n",
    "println(v)"
   ]
  },
  {
   "cell_type": "code",
   "execution_count": 92,
   "id": "5082cff2-ec71-4a22-845c-9c3c4aed6daf",
   "metadata": {},
   "outputs": [
    {
     "name": "stdout",
     "output_type": "stream",
     "text": [
      "[2, 3, 5]\n",
      "[2, 3, 5]\n"
     ]
    }
   ],
   "source": [
    "u = sort!(v)\n",
    "println(u)\n",
    "println(v)"
   ]
  },
  {
   "cell_type": "code",
   "execution_count": 93,
   "id": "5045449d-9c9f-48a2-ac5a-0716787b8a75",
   "metadata": {},
   "outputs": [
    {
     "data": {
      "text/plain": [
       "Dict{Int64, String} with 2 entries:\n",
       "  200 => \"Chocloate Chip\"\n",
       "  220 => \"Snicker Doodle\""
      ]
     },
     "execution_count": 93,
     "metadata": {},
     "output_type": "execute_result"
    }
   ],
   "source": [
    "calories"
   ]
  },
  {
   "cell_type": "code",
   "execution_count": 94,
   "id": "55561597-c69f-43e0-a8ab-d5bc15986c02",
   "metadata": {},
   "outputs": [
    {
     "ename": "LoadError",
     "evalue": "map is not defined on dictionaries",
     "output_type": "error",
     "traceback": [
      "map is not defined on dictionaries",
      "",
      "Stacktrace:",
      " [1] error(s::String)",
      "   @ Base ./error.jl:35",
      " [2] map(f::Function, #unused#::Dict{Int64, String})",
      "   @ Base ./abstractarray.jl:2963",
      " [3] top-level scope",
      "   @ In[94]:1"
     ]
    }
   ],
   "source": [
    "map(x -> x + 10, calories)"
   ]
  },
  {
   "cell_type": "code",
   "execution_count": 95,
   "id": "b63129a4-5936-4a23-a176-93257b765c00",
   "metadata": {},
   "outputs": [
    {
     "ename": "LoadError",
     "evalue": "map is not defined on sets",
     "output_type": "error",
     "traceback": [
      "map is not defined on sets",
      "",
      "Stacktrace:",
      " [1] error(s::String)",
      "   @ Base ./error.jl:35",
      " [2] map(f::Function, #unused#::Base.KeySet{Int64, Dict{Int64, String}})",
      "   @ Base ./abstractarray.jl:2964",
      " [3] top-level scope",
      "   @ In[95]:1"
     ]
    }
   ],
   "source": [
    "map(x -> x + 10, keys(calories))"
   ]
  },
  {
   "cell_type": "code",
   "execution_count": 96,
   "id": "e36694ba-fd35-439e-9a1f-5e1e7ff064fd",
   "metadata": {},
   "outputs": [
    {
     "data": {
      "text/plain": [
       "(\"apple\", \"mango\", \"banana\")"
      ]
     },
     "execution_count": 96,
     "metadata": {},
     "output_type": "execute_result"
    }
   ],
   "source": [
    "fruits"
   ]
  },
  {
   "cell_type": "code",
   "execution_count": 97,
   "id": "e35ee589-2049-4047-a3ec-f7c44de80351",
   "metadata": {},
   "outputs": [
    {
     "data": {
      "text/plain": [
       "(5, 5, 6)"
      ]
     },
     "execution_count": 97,
     "metadata": {},
     "output_type": "execute_result"
    }
   ],
   "source": [
    "map(n -> length(n), fruits)"
   ]
  },
  {
   "cell_type": "code",
   "execution_count": 98,
   "id": "18c33eaa-e000-4a11-932f-cd214c9b66c0",
   "metadata": {},
   "outputs": [
    {
     "data": {
      "text/plain": [
       "3-element Vector{Int64}:\n",
       "  4\n",
       "  9\n",
       " 25"
      ]
     },
     "execution_count": 98,
     "metadata": {},
     "output_type": "execute_result"
    }
   ],
   "source": [
    "map(f, v)"
   ]
  },
  {
   "cell_type": "markdown",
   "id": "21eeebf4-bcba-45ed-8005-7c3bd19e33a5",
   "metadata": {},
   "source": [
    "### Multiple Dispatch\n",
    "This applies to function overloading. If I have multiple functions with the same name, the compiler or the runtime needs to figure out which function to call. If it uses the type of a single argument to determine this, it is called **single dispatch**. In OOP languages, this argument is usually the implict `this` argument, i.e., the object type on which the method is being called determines which method to invoke. Python also has a `@functools.singledispatch` decorator which uses the type of the first argument to figure out which function to invoke.\n",
    "\n",
    "In contrast, Julia has multiple dispatch, where the types of *all** the arguments are used to determine which function to call. The way Julia implements this by having a `function` object (maybe a struct?) with multiple methods defined on it."
   ]
  },
  {
   "cell_type": "code",
   "execution_count": 99,
   "id": "0235af4f-f4c4-470b-a080-24e634a140a1",
   "metadata": {},
   "outputs": [
    {
     "data": {
      "text/plain": [
       "foo (generic function with 1 method)"
      ]
     },
     "execution_count": 99,
     "metadata": {},
     "output_type": "execute_result"
    }
   ],
   "source": [
    "foo(x::String, y::String) = println(\"I was called with String and String\")"
   ]
  },
  {
   "cell_type": "code",
   "execution_count": 100,
   "id": "db3e3663-f389-4ec4-bb73-81fe8f9b66ee",
   "metadata": {},
   "outputs": [
    {
     "name": "stdout",
     "output_type": "stream",
     "text": [
      "I was called with String and String\n"
     ]
    }
   ],
   "source": [
    "foo(\"hello\", \"world\")"
   ]
  },
  {
   "cell_type": "code",
   "execution_count": 101,
   "id": "7f499847-7e8a-4ff3-ad15-e57f4d0b4cf6",
   "metadata": {},
   "outputs": [
    {
     "ename": "LoadError",
     "evalue": "MethodError: no method matching foo(::Int64, ::Int64)",
     "output_type": "error",
     "traceback": [
      "MethodError: no method matching foo(::Int64, ::Int64)",
      "",
      "Stacktrace:",
      " [1] top-level scope",
      "   @ In[101]:1"
     ]
    }
   ],
   "source": [
    "foo(1, 2)"
   ]
  },
  {
   "cell_type": "code",
   "execution_count": 102,
   "id": "342ec725-8abd-479f-b2e1-e52a33b3a509",
   "metadata": {},
   "outputs": [
    {
     "data": {
      "text/plain": [
       "foo (generic function with 2 methods)"
      ]
     },
     "execution_count": 102,
     "metadata": {},
     "output_type": "execute_result"
    }
   ],
   "source": [
    "foo(x::Int, y::Int) = \"I was called with Int and Int\""
   ]
  },
  {
   "cell_type": "code",
   "execution_count": 103,
   "id": "03e9f85c-fbaf-4e4f-84d7-f8593c29ebae",
   "metadata": {},
   "outputs": [
    {
     "data": {
      "text/plain": [
       "\"I was called with Int and Int\""
      ]
     },
     "execution_count": 103,
     "metadata": {},
     "output_type": "execute_result"
    }
   ],
   "source": [
    "foo(1, 2)"
   ]
  },
  {
   "cell_type": "code",
   "execution_count": 104,
   "id": "586bead8-492d-48b3-8059-4cdefa96780a",
   "metadata": {},
   "outputs": [
    {
     "name": "stdout",
     "output_type": "stream",
     "text": [
      "I was called with String and String\n"
     ]
    }
   ],
   "source": [
    "foo(\"still\", \"works\")"
   ]
  },
  {
   "cell_type": "code",
   "execution_count": 105,
   "id": "3534aea1-633b-4313-8330-7f2b25e7a65b",
   "metadata": {},
   "outputs": [
    {
     "ename": "LoadError",
     "evalue": "MethodError: no method matching foo(::Float64, ::Float64)",
     "output_type": "error",
     "traceback": [
      "MethodError: no method matching foo(::Float64, ::Float64)",
      "",
      "Stacktrace:",
      " [1] top-level scope",
      "   @ In[105]:1"
     ]
    }
   ],
   "source": [
    "foo(1.2, 2.3)"
   ]
  },
  {
   "cell_type": "code",
   "execution_count": 106,
   "id": "9e0d545e-5e3f-4240-ac66-192763c53f33",
   "metadata": {},
   "outputs": [
    {
     "data": {
      "text/plain": [
       "foo (generic function with 3 methods)"
      ]
     },
     "execution_count": 106,
     "metadata": {},
     "output_type": "execute_result"
    }
   ],
   "source": [
    "foo(x::Number, y::Number) = println(\"I was called with Number and Number\")"
   ]
  },
  {
   "cell_type": "code",
   "execution_count": 107,
   "id": "c48c7431-7c10-4cfd-accc-23a6c81c4665",
   "metadata": {},
   "outputs": [
    {
     "name": "stdout",
     "output_type": "stream",
     "text": [
      "I was called with Number and Number\n"
     ]
    }
   ],
   "source": [
    "foo(1.2, 2.3)"
   ]
  },
  {
   "cell_type": "code",
   "execution_count": 108,
   "id": "e2a93ac0-5674-40ef-a6fc-70e031e1dc6f",
   "metadata": {},
   "outputs": [
    {
     "data": {
      "text/plain": [
       "\"I was called with Int and Int\""
      ]
     },
     "execution_count": 108,
     "metadata": {},
     "output_type": "execute_result"
    }
   ],
   "source": [
    "foo(1, 2)"
   ]
  },
  {
   "cell_type": "code",
   "execution_count": 109,
   "id": "85661aff-5f21-4007-82ae-6568e43fc5e3",
   "metadata": {},
   "outputs": [
    {
     "name": "stdout",
     "output_type": "stream",
     "text": [
      "I was called with Number and Number\n"
     ]
    }
   ],
   "source": [
    "foo(1.2, 2)"
   ]
  },
  {
   "cell_type": "code",
   "execution_count": 110,
   "id": "c08e38bc-40cc-40bf-80a6-d6cd576e11e3",
   "metadata": {},
   "outputs": [
    {
     "data": {
      "text/plain": [
       "foo (generic function with 4 methods)"
      ]
     },
     "execution_count": 110,
     "metadata": {},
     "output_type": "execute_result"
    }
   ],
   "source": [
    "foo(x, y) = println(\"I was called with Any and Any\")"
   ]
  },
  {
   "cell_type": "code",
   "execution_count": 111,
   "id": "caa6cf95-a459-438b-b3b2-61ab11e66a02",
   "metadata": {},
   "outputs": [
    {
     "name": "stdout",
     "output_type": "stream",
     "text": [
      "I was called with Any and Any\n"
     ]
    }
   ],
   "source": [
    "foo(1, \"Hello\")"
   ]
  },
  {
   "cell_type": "markdown",
   "id": "d729e811-0968-4bf3-955c-1c86de104305",
   "metadata": {
    "jp-MarkdownHeadingCollapsed": true,
    "tags": []
   },
   "source": [
    "## Packages\n",
    "\n",
    "Go to https://julialang.org/packages/ to see all the packages. Two ways to add packages - one is in the REPL press `]` to enter the package mode and then `add` the package name. To get out of the package mode hit the [delete] key.\n",
    "\n",
    "I can also add packages programmatically -"
   ]
  },
  {
   "cell_type": "code",
   "execution_count": 112,
   "id": "6b68dbf0-7db9-4beb-8570-0ba6696773b0",
   "metadata": {},
   "outputs": [
    {
     "name": "stderr",
     "output_type": "stream",
     "text": [
      "\u001b[32m\u001b[1m    Updating\u001b[22m\u001b[39m registry at `~/.julia/registries/General.toml`\n",
      "\u001b[32m\u001b[1m   Resolving\u001b[22m\u001b[39m package versions...\n",
      "\u001b[32m\u001b[1m  No Changes\u001b[22m\u001b[39m to `~/.julia/environments/v1.8/Project.toml`\n",
      "\u001b[32m\u001b[1m  No Changes\u001b[22m\u001b[39m to `~/.julia/environments/v1.8/Manifest.toml`\n"
     ]
    }
   ],
   "source": [
    "using Pkg\n",
    "Pkg.add(\"Example\")"
   ]
  },
  {
   "cell_type": "code",
   "execution_count": 113,
   "id": "10474e1b-eaa7-42f0-88af-d2ed457ed09a",
   "metadata": {},
   "outputs": [
    {
     "ename": "LoadError",
     "evalue": "UndefVarError: Example not defined",
     "output_type": "error",
     "traceback": [
      "UndefVarError: Example not defined",
      "",
      "Stacktrace:",
      " [1] top-level scope",
      "   @ In[113]:1"
     ]
    }
   ],
   "source": [
    "names(Example)"
   ]
  },
  {
   "cell_type": "code",
   "execution_count": 114,
   "id": "562221f1-1782-46ad-9d8f-153360596367",
   "metadata": {},
   "outputs": [],
   "source": [
    "using Example"
   ]
  },
  {
   "cell_type": "code",
   "execution_count": 115,
   "id": "dee0bbe1-503c-4428-9773-eee3c00517a6",
   "metadata": {},
   "outputs": [
    {
     "data": {
      "text/plain": [
       "\"Hello, APTG\""
      ]
     },
     "execution_count": 115,
     "metadata": {},
     "output_type": "execute_result"
    }
   ],
   "source": [
    "hello(\"APTG\")"
   ]
  },
  {
   "cell_type": "markdown",
   "id": "6d64db34-dfd5-47ee-93a6-8f21d232fa37",
   "metadata": {
    "tags": []
   },
   "source": [
    "## User Defined Types\n",
    "Structs are the way to define new types in Julia. They come with a default constructor which takes in all the fields in the order they were specified in the struct definition."
   ]
  },
  {
   "cell_type": "markdown",
   "id": "a02c66cf-8ecc-4ca3-b743-5ff2b55d0e20",
   "metadata": {},
   "source": [
    "### Immutable"
   ]
  },
  {
   "cell_type": "code",
   "execution_count": 116,
   "id": "67053751-b510-4994-8004-416e90774f52",
   "metadata": {},
   "outputs": [],
   "source": [
    "struct Cookie\n",
    "    flavor::String\n",
    "    calories::Int\n",
    "end"
   ]
  },
  {
   "cell_type": "code",
   "execution_count": 117,
   "id": "212cfb7c-7cb1-4323-b980-92dc8e97921d",
   "metadata": {},
   "outputs": [
    {
     "data": {
      "text/plain": [
       "Cookie(\"Chocolate Chip\", 200)"
      ]
     },
     "execution_count": 117,
     "metadata": {},
     "output_type": "execute_result"
    }
   ],
   "source": [
    "cc = Cookie(\"Chocolate Chip\", 200)"
   ]
  },
  {
   "cell_type": "code",
   "execution_count": 118,
   "id": "84d15e26-d4d9-4c8f-9f2f-8fe76b5b8dee",
   "metadata": {},
   "outputs": [
    {
     "ename": "LoadError",
     "evalue": "MethodError: no method matching Cookie(; flavor=\"Snicker Doodle\", calories=220)\n\u001b[0mClosest candidates are:\n\u001b[0m  Cookie(\u001b[91m::String\u001b[39m, \u001b[91m::Int64\u001b[39m) at In[116]:2\u001b[91m got unsupported keyword arguments \"flavor\", \"calories\"\u001b[39m\n\u001b[0m  Cookie(\u001b[91m::Any\u001b[39m, \u001b[91m::Any\u001b[39m) at In[116]:2\u001b[91m got unsupported keyword arguments \"flavor\", \"calories\"\u001b[39m",
     "output_type": "error",
     "traceback": [
      "MethodError: no method matching Cookie(; flavor=\"Snicker Doodle\", calories=220)\n\u001b[0mClosest candidates are:\n\u001b[0m  Cookie(\u001b[91m::String\u001b[39m, \u001b[91m::Int64\u001b[39m) at In[116]:2\u001b[91m got unsupported keyword arguments \"flavor\", \"calories\"\u001b[39m\n\u001b[0m  Cookie(\u001b[91m::Any\u001b[39m, \u001b[91m::Any\u001b[39m) at In[116]:2\u001b[91m got unsupported keyword arguments \"flavor\", \"calories\"\u001b[39m",
      "",
      "Stacktrace:",
      " [1] top-level scope",
      "   @ In[118]:1"
     ]
    }
   ],
   "source": [
    "sd = Cookie(flavor=\"Snicker Doodle\", calories=220)"
   ]
  },
  {
   "cell_type": "code",
   "execution_count": 119,
   "id": "202b29d8-850d-442c-9c27-ef671480849a",
   "metadata": {},
   "outputs": [
    {
     "data": {
      "text/plain": [
       "200"
      ]
     },
     "execution_count": 119,
     "metadata": {},
     "output_type": "execute_result"
    }
   ],
   "source": [
    "cc.calories"
   ]
  },
  {
   "cell_type": "code",
   "execution_count": 120,
   "id": "9197c6ab-d464-4b58-824d-fc26b977a66b",
   "metadata": {},
   "outputs": [
    {
     "ename": "LoadError",
     "evalue": "setfield!: immutable struct of type Cookie cannot be changed",
     "output_type": "error",
     "traceback": [
      "setfield!: immutable struct of type Cookie cannot be changed",
      "",
      "Stacktrace:",
      " [1] setproperty!(x::Cookie, f::Symbol, v::Int64)",
      "   @ Base ./Base.jl:39",
      " [2] top-level scope",
      "   @ In[120]:1"
     ]
    }
   ],
   "source": [
    "cc.calories = 220"
   ]
  },
  {
   "cell_type": "markdown",
   "id": "f858dc84-9768-4af4-8d5e-e20e7e5257c7",
   "metadata": {},
   "source": [
    "### Use the `mutable` keyword"
   ]
  },
  {
   "cell_type": "code",
   "execution_count": 121,
   "id": "a7284e5a-cec2-4a35-80f3-fae23b9c437b",
   "metadata": {},
   "outputs": [],
   "source": [
    "mutable struct Cookie2\n",
    "    flavor::String\n",
    "    calories::Int\n",
    "end"
   ]
  },
  {
   "cell_type": "code",
   "execution_count": 122,
   "id": "225f1668-866a-4ec2-8b15-cf9aa8be22c9",
   "metadata": {},
   "outputs": [
    {
     "data": {
      "text/plain": [
       "Cookie2(\"Snicker Doodle\", 220)"
      ]
     },
     "execution_count": 122,
     "metadata": {},
     "output_type": "execute_result"
    }
   ],
   "source": [
    "sd = Cookie2(\"Snicker Doodle\", 220)"
   ]
  },
  {
   "cell_type": "code",
   "execution_count": 123,
   "id": "dea965ec-aa0c-45b0-83c2-d68fbd821539",
   "metadata": {},
   "outputs": [
    {
     "data": {
      "text/plain": [
       "240"
      ]
     },
     "execution_count": 123,
     "metadata": {},
     "output_type": "execute_result"
    }
   ],
   "source": [
    "sd.calories = 240"
   ]
  },
  {
   "cell_type": "code",
   "execution_count": 124,
   "id": "02f7b00a-2b8d-4856-9194-6a5d014d2a9a",
   "metadata": {},
   "outputs": [
    {
     "data": {
      "text/plain": [
       "Cookie2(\"Snicker Doodle\", 240)"
      ]
     },
     "execution_count": 124,
     "metadata": {},
     "output_type": "execute_result"
    }
   ],
   "source": [
    "sd"
   ]
  },
  {
   "cell_type": "markdown",
   "id": "99508940-d8f5-4b19-93b5-31538437428d",
   "metadata": {},
   "source": [
    "### Custom CTOR\n",
    "The `new` keyword actually goes and creates the object. It is like calling the default ctor, so it needs all the fields."
   ]
  },
  {
   "cell_type": "code",
   "execution_count": 125,
   "id": "5998ddd8-d029-485c-81af-025704598603",
   "metadata": {},
   "outputs": [],
   "source": [
    "struct Cookie3\n",
    "    flavor::String\n",
    "    calories::Int\n",
    "    count::Int\n",
    "    \n",
    "    function Cookie3(flavor, calories)\n",
    "       new(flavor, calories, 100)\n",
    "    end\n",
    "end"
   ]
  },
  {
   "cell_type": "code",
   "execution_count": 126,
   "id": "e0a6d4d6-08eb-4024-a301-9211f3703340",
   "metadata": {},
   "outputs": [
    {
     "data": {
      "text/plain": [
       "Cookie3(\"Oatmeal Raisin\", 200, 100)"
      ]
     },
     "execution_count": 126,
     "metadata": {},
     "output_type": "execute_result"
    }
   ],
   "source": [
    "oatr = Cookie3(\"Oatmeal Raisin\", 200)"
   ]
  },
  {
   "cell_type": "markdown",
   "id": "593969b7-82ed-4330-8bb0-a400b70ae450",
   "metadata": {},
   "source": [
    "This is just one way of defining constructors. Read [constructors](https://docs.julialang.org/en/v1/manual/constructors/) for a fuller treatment of this subject."
   ]
  },
  {
   "cell_type": "code",
   "execution_count": null,
   "id": "fa393900-ded6-42e8-a51a-1b8258010968",
   "metadata": {},
   "outputs": [],
   "source": []
  }
 ],
 "metadata": {
  "kernelspec": {
   "display_name": "Julia 1.8.4",
   "language": "julia",
   "name": "julia-1.8"
  },
  "language_info": {
   "file_extension": ".jl",
   "mimetype": "application/julia",
   "name": "julia",
   "version": "1.8.4"
  }
 },
 "nbformat": 4,
 "nbformat_minor": 5
}
