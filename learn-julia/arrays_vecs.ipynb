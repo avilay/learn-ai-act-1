{
 "cells": [
  {
   "cell_type": "markdown",
   "id": "20ebef56-d3fc-4595-a9bc-33c93676a7f3",
   "metadata": {},
   "source": [
    "# Arrays, Vectors, and Matrixes"
   ]
  },
  {
   "cell_type": "markdown",
   "id": "81c02a08-10c1-42a1-a107-4ffb3cea6f1b",
   "metadata": {
    "tags": []
   },
   "source": [
    "## Declaration"
   ]
  },
  {
   "attachments": {},
   "cell_type": "markdown",
   "id": "8b04ad1b",
   "metadata": {},
   "source": [
    "### Syntax and Types\n",
    "\n",
    "General syntax seems to be -\n",
    "  * Commas are used for enumerating elements\n",
    "  * Spaces are used for stacking elements horizontally\n",
    "  * Semicolons are used for stacking elements vertically\n",
    "\n",
    "$\\mathcal{Vector}$ are used for 1D *column* vectors. Either commas or semicolons can be used to declare these. If I want to create a *row* vector, I'll have to use spaces. Furthermore I'll end up with a type of $1 \\times 2$ $\\mathcal{Matrix}$.\n",
    "\n",
    "$\\mathcal{Matrix}$ are used for 2D list of numbers. Here spaces are used for defining a row, and rows are separated (or stacked on top of each other) by semicolons. If I try to seperate a row by commas instead, I'll end up with the outer type being a vector.\n",
    "\n",
    "$\\mathcal{Array}$ are used for multi-dimensional tensors.\n",
    "\n",
    "It is not possible to define jagged tensors."
   ]
  },
  {
   "attachments": {},
   "cell_type": "markdown",
   "id": "9ac3c5c5",
   "metadata": {},
   "source": [
    "### Initialization"
   ]
  },
  {
   "attachments": {},
   "cell_type": "markdown",
   "id": "d4073dd4",
   "metadata": {},
   "source": [
    "##### 1D Column Vector"
   ]
  },
  {
   "cell_type": "code",
   "execution_count": 122,
   "id": "4a0c6f38",
   "metadata": {},
   "outputs": [
    {
     "data": {
      "text/plain": [
       "3-element Vector{Int64}:\n",
       " 1\n",
       " 2\n",
       " 3"
      ]
     },
     "execution_count": 122,
     "metadata": {},
     "output_type": "execute_result"
    }
   ],
   "source": [
    "v = [1, 2, 3]"
   ]
  },
  {
   "cell_type": "code",
   "execution_count": 123,
   "id": "b9057cfd",
   "metadata": {},
   "outputs": [
    {
     "data": {
      "text/plain": [
       "3-element Vector{Int64}:\n",
       " 1\n",
       " 2\n",
       " 3"
      ]
     },
     "execution_count": 123,
     "metadata": {},
     "output_type": "execute_result"
    }
   ],
   "source": [
    "u = [1, 2, 3]"
   ]
  },
  {
   "attachments": {},
   "cell_type": "markdown",
   "id": "764b4f19",
   "metadata": {},
   "source": [
    "##### 1D row vector of type Matrix"
   ]
  },
  {
   "cell_type": "code",
   "execution_count": 124,
   "id": "e91250b4",
   "metadata": {},
   "outputs": [
    {
     "data": {
      "text/plain": [
       "1×2 Matrix{Int64}:\n",
       " 1  2"
      ]
     },
     "execution_count": 124,
     "metadata": {},
     "output_type": "execute_result"
    }
   ],
   "source": [
    "r = [1 2]"
   ]
  },
  {
   "attachments": {},
   "cell_type": "markdown",
   "id": "473b26a0",
   "metadata": {},
   "source": [
    "##### 2D Matrix"
   ]
  },
  {
   "cell_type": "code",
   "execution_count": 125,
   "id": "9c6ba6fa",
   "metadata": {},
   "outputs": [
    {
     "data": {
      "text/plain": [
       "2×3 Matrix{Int64}:\n",
       " 1  2  3\n",
       " 4  5  6"
      ]
     },
     "execution_count": 125,
     "metadata": {},
     "output_type": "execute_result"
    }
   ],
   "source": [
    "A = [\n",
    "    [1 2 3];\n",
    "    [4 5 6]\n",
    "]"
   ]
  },
  {
   "attachments": {},
   "cell_type": "markdown",
   "id": "c1e16cdb",
   "metadata": {},
   "source": [
    "##### N-D Tensor of type Array\n",
    "I could not find any way of doing this using literals. Either I need to use a funciton like `zeros`, `fill`, etc. or use the `Array{T}(undef, dims)` syntax. See [Multi-dimensional Arrays](https://docs.julialang.org/en/v1/manual/arrays/) for a full list of such functions."
   ]
  },
  {
   "attachments": {},
   "cell_type": "markdown",
   "id": "e75df79a",
   "metadata": {},
   "source": [
    "`Array{Float32}(undef, (4, 3, 2))` will allocate memory for a $4 \\times 3 \\times 2$ tensor of 4-byte floats. The `undef` tells Julia to not bother with cleaning up the memory. So the allocated memory might have garbage left by its previous occupants. While these are useful for creating tensors with more than 2 dimensions, I can ofcourse use it for 1- or 2-D lists as well."
   ]
  },
  {
   "cell_type": "code",
   "execution_count": 132,
   "id": "406677f6",
   "metadata": {},
   "outputs": [
    {
     "data": {
      "text/plain": [
       "4×3×2 Array{Float32, 3}:\n",
       "[:, :, 1] =\n",
       " 6.0f-45  4.0f-45  1.07919f-30\n",
       " 0.0      0.0      1.0f-45\n",
       " 1.1f-44  4.5f-44  1.4f-43\n",
       " 0.0      0.0      0.0\n",
       "\n",
       "[:, :, 2] =\n",
       " 1.401f-42  2.8f-44      4.0f-45\n",
       " 0.0        0.0          0.0\n",
       " 3.5f-43    1.50266f-23  4.5f-44\n",
       " 0.0        1.0f-45      0.0"
      ]
     },
     "execution_count": 132,
     "metadata": {},
     "output_type": "execute_result"
    }
   ],
   "source": [
    "X = Array{Float32}(undef, (4, 3, 2))"
   ]
  },
  {
   "cell_type": "code",
   "execution_count": 137,
   "id": "fc784056",
   "metadata": {},
   "outputs": [
    {
     "data": {
      "text/plain": [
       "3×2 Matrix{Float32}:\n",
       " 0.0      0.0\n",
       " 0.0      0.0\n",
       " 4.6f-44  0.0"
      ]
     },
     "execution_count": 137,
     "metadata": {},
     "output_type": "execute_result"
    }
   ],
   "source": [
    "# Even though I said Array, I still get a matrix because this is 2D. I can also use the `Matrix` type here to get the same result\n",
    "X = Array{Float32}(undef, (3, 2))"
   ]
  },
  {
   "cell_type": "code",
   "execution_count": 138,
   "id": "670398f4",
   "metadata": {},
   "outputs": [
    {
     "data": {
      "text/plain": [
       "3×2 Matrix{Float32}:\n",
       " 0.0      0.0\n",
       " 0.0      0.0\n",
       " 4.6f-44  0.0"
      ]
     },
     "execution_count": 138,
     "metadata": {},
     "output_type": "execute_result"
    }
   ],
   "source": [
    "X = Matrix{Float32}(undef, (3, 2))"
   ]
  },
  {
   "cell_type": "code",
   "execution_count": 139,
   "id": "10014333",
   "metadata": {},
   "outputs": [
    {
     "data": {
      "text/plain": [
       "2-element Vector{Float32}:\n",
       " 1.6046382f20\n",
       " 1.0f-45"
      ]
     },
     "execution_count": 139,
     "metadata": {},
     "output_type": "execute_result"
    }
   ],
   "source": [
    "# Same with Vector\n",
    "X = Array{Float32}(undef, 2)"
   ]
  },
  {
   "attachments": {},
   "cell_type": "markdown",
   "id": "1a3af18f",
   "metadata": {},
   "source": [
    "##### Proof that `u` and `v` are of type `Vector`"
   ]
  },
  {
   "cell_type": "code",
   "execution_count": 75,
   "id": "ffd123d2",
   "metadata": {},
   "outputs": [
    {
     "data": {
      "text/plain": [
       "3-element Vector{Int64}:\n",
       " 1\n",
       " 2\n",
       " 3"
      ]
     },
     "execution_count": 75,
     "metadata": {},
     "output_type": "execute_result"
    }
   ],
   "source": [
    "v = [1, 2, 3]"
   ]
  },
  {
   "cell_type": "code",
   "execution_count": 76,
   "id": "8c28f30c",
   "metadata": {},
   "outputs": [
    {
     "data": {
      "text/plain": [
       "3-element Vector{Int64}:\n",
       " 1\n",
       " 2\n",
       " 3"
      ]
     },
     "execution_count": 76,
     "metadata": {},
     "output_type": "execute_result"
    }
   ],
   "source": [
    "u = [1; 2; 3]"
   ]
  },
  {
   "cell_type": "code",
   "execution_count": 77,
   "id": "d029ec32",
   "metadata": {},
   "outputs": [],
   "source": [
    "@assert v == u"
   ]
  },
  {
   "attachments": {},
   "cell_type": "markdown",
   "id": "ee34c97c",
   "metadata": {},
   "source": [
    "##### Proof that `u` and `v` are *column* vectors"
   ]
  },
  {
   "cell_type": "code",
   "execution_count": 68,
   "id": "e14240da",
   "metadata": {},
   "outputs": [
    {
     "data": {
      "text/plain": [
       "2×3 Matrix{Int64}:\n",
       " 1  2  3\n",
       " 4  5  6"
      ]
     },
     "execution_count": 68,
     "metadata": {},
     "output_type": "execute_result"
    }
   ],
   "source": [
    "M = [\n",
    "    [1 2 3];\n",
    "    [4 5 6]\n",
    "]"
   ]
  },
  {
   "cell_type": "code",
   "execution_count": 69,
   "id": "5863d045",
   "metadata": {},
   "outputs": [
    {
     "data": {
      "text/plain": [
       "2-element Vector{Int64}:\n",
       " 14\n",
       " 32"
      ]
     },
     "execution_count": 69,
     "metadata": {},
     "output_type": "execute_result"
    }
   ],
   "source": [
    "M * v"
   ]
  },
  {
   "cell_type": "code",
   "execution_count": 70,
   "id": "3528bb1b",
   "metadata": {},
   "outputs": [
    {
     "data": {
      "text/plain": [
       "2-element Vector{Int64}:\n",
       " 14\n",
       " 32"
      ]
     },
     "execution_count": 70,
     "metadata": {},
     "output_type": "execute_result"
    }
   ],
   "source": [
    "M * u"
   ]
  },
  {
   "attachments": {},
   "cell_type": "markdown",
   "id": "d36ab705",
   "metadata": {},
   "source": [
    "##### Proof that `r` is a row vector with type `Matrix`"
   ]
  },
  {
   "cell_type": "code",
   "execution_count": 78,
   "id": "c66aadd2",
   "metadata": {},
   "outputs": [
    {
     "data": {
      "text/plain": [
       "1×2 Matrix{Int64}:\n",
       " 1  2"
      ]
     },
     "execution_count": 78,
     "metadata": {},
     "output_type": "execute_result"
    }
   ],
   "source": [
    "r = [1 2]"
   ]
  },
  {
   "cell_type": "code",
   "execution_count": 79,
   "id": "5d17ebad",
   "metadata": {},
   "outputs": [
    {
     "data": {
      "text/plain": [
       "1×3 Matrix{Int64}:\n",
       " 9  12  15"
      ]
     },
     "execution_count": 79,
     "metadata": {},
     "output_type": "execute_result"
    }
   ],
   "source": [
    "r * M"
   ]
  },
  {
   "cell_type": "code",
   "execution_count": 80,
   "id": "98422968",
   "metadata": {},
   "outputs": [
    {
     "data": {
      "text/plain": [
       "2-element Vector{Int64}:\n",
       " 1\n",
       " 2"
      ]
     },
     "execution_count": 80,
     "metadata": {},
     "output_type": "execute_result"
    }
   ],
   "source": [
    "r_ = [1, 2]"
   ]
  },
  {
   "cell_type": "code",
   "execution_count": 81,
   "id": "76ca0a4f",
   "metadata": {},
   "outputs": [
    {
     "ename": "LoadError",
     "evalue": "DimensionMismatch: matrix A has dimensions (2,1), matrix B has dimensions (2,3)",
     "output_type": "error",
     "traceback": [
      "DimensionMismatch: matrix A has dimensions (2,1), matrix B has dimensions (2,3)",
      "",
      "Stacktrace:",
      " [1] _generic_matmatmul!(C::Matrix{Int64}, tA::Char, tB::Char, A::Matrix{Int64}, B::Matrix{Int64}, _add::LinearAlgebra.MulAddMul{true, true, Bool, Bool})",
      "   @ LinearAlgebra /Applications/Julia-1.8.app/Contents/Resources/julia/share/julia/stdlib/v1.8/LinearAlgebra/src/matmul.jl:856",
      " [2] generic_matmatmul!(C::Matrix{Int64}, tA::Char, tB::Char, A::Matrix{Int64}, B::Matrix{Int64}, _add::LinearAlgebra.MulAddMul{true, true, Bool, Bool})",
      "   @ LinearAlgebra /Applications/Julia-1.8.app/Contents/Resources/julia/share/julia/stdlib/v1.8/LinearAlgebra/src/matmul.jl:844",
      " [3] mul!",
      "   @ /Applications/Julia-1.8.app/Contents/Resources/julia/share/julia/stdlib/v1.8/LinearAlgebra/src/matmul.jl:303 [inlined]",
      " [4] mul!",
      "   @ /Applications/Julia-1.8.app/Contents/Resources/julia/share/julia/stdlib/v1.8/LinearAlgebra/src/matmul.jl:276 [inlined]",
      " [5] *",
      "   @ /Applications/Julia-1.8.app/Contents/Resources/julia/share/julia/stdlib/v1.8/LinearAlgebra/src/matmul.jl:141 [inlined]",
      " [6] *(a::Vector{Int64}, B::Matrix{Int64})",
      "   @ LinearAlgebra /Applications/Julia-1.8.app/Contents/Resources/julia/share/julia/stdlib/v1.8/LinearAlgebra/src/matmul.jl:62",
      " [7] top-level scope",
      "   @ In[81]:1"
     ]
    }
   ],
   "source": [
    "r_ * M"
   ]
  },
  {
   "attachments": {},
   "cell_type": "markdown",
   "id": "c3c18e29",
   "metadata": {},
   "source": [
    "## Indexing"
   ]
  },
  {
   "attachments": {},
   "cell_type": "markdown",
   "id": "183f75e6",
   "metadata": {},
   "source": [
    "In general I'll need to specify the indexes at all dimensions when indexing into a multidimensional list. Lets look at 2D matrices first. The indexing of multidimenstional tensors can be better understood after reading through the visualization.\n",
    "\n",
    "$$\n",
    "M = \\begin{bmatrix}\n",
    "1 & 2 & 3 \\\\\n",
    "4 & 5 & 6 \\\\\n",
    "\\end{bmatrix}\n",
    "$$\n",
    "\n",
    "In numpy `M[1]` is shorthand for `M[1, :]`. In numpy I can think of this as an 2-element array of 3-element arrays, i.e., there is a recursive relationship. But in Julia this is not true, `M[1]` will actually just give me the first element of the unraveled list, i.e., `M[1] = 1`. In order to get the first row, I have to specify all the dimensions - `M[1, :]`."
   ]
  },
  {
   "cell_type": "code",
   "execution_count": 117,
   "id": "e2415100",
   "metadata": {},
   "outputs": [
    {
     "data": {
      "text/plain": [
       "2×3 Matrix{Int64}:\n",
       " 1  2  3\n",
       " 4  5  6"
      ]
     },
     "execution_count": 117,
     "metadata": {},
     "output_type": "execute_result"
    }
   ],
   "source": [
    "\n",
    "M = [\n",
    "    [1 2 3];\n",
    "    [4 5 6]\n",
    "]"
   ]
  },
  {
   "cell_type": "code",
   "execution_count": 118,
   "id": "f359b7cb",
   "metadata": {},
   "outputs": [
    {
     "data": {
      "text/plain": [
       "1"
      ]
     },
     "execution_count": 118,
     "metadata": {},
     "output_type": "execute_result"
    }
   ],
   "source": [
    "M[1]"
   ]
  },
  {
   "cell_type": "code",
   "execution_count": 119,
   "id": "7d66d9a4",
   "metadata": {},
   "outputs": [
    {
     "data": {
      "text/plain": [
       "3-element Vector{Int64}:\n",
       " 1\n",
       " 2\n",
       " 3"
      ]
     },
     "execution_count": 119,
     "metadata": {},
     "output_type": "execute_result"
    }
   ],
   "source": [
    "M[1, :]"
   ]
  },
  {
   "cell_type": "markdown",
   "id": "484764a9",
   "metadata": {},
   "source": [
    "## Visualization"
   ]
  },
  {
   "attachments": {},
   "cell_type": "markdown",
   "id": "9214b5b4",
   "metadata": {},
   "source": [
    "### 1D and 2D lists\n",
    "\n",
    "Lets get the easy ones out of the way first.\n",
    "\n",
    "Vectors (aka column vectors), are defined as `u = [1, 2]` or `v = [1; 2]` and they can be visualized as follows -\n",
    "$$\n",
    "\\begin{bmatrix}\n",
    "1 \\\\\n",
    "2\n",
    "\\end{bmatrix}\n",
    "$$\n",
    "\n",
    "Row vectors (aka $1 \\times n$ Matrix) are defined as `r = [1 2]` and can be visualized as -\n",
    "$$\n",
    "\\left[ 1 \\; 2 \\right]\n",
    "$$\n",
    "\n",
    "Matrix (aka 2D lists) defined as -\n",
    "```\n",
    "M = [\n",
    "    [3 5 7];\n",
    "    [4 6 8]\n",
    "]\n",
    "```\n",
    "and can be visualized as -\n",
    "$$\n",
    "\\begin{bmatrix}\n",
    "3 & 5 & 7 \\\\\n",
    "4 & 6 & 8 \\\\\n",
    "\\end{bmatrix}\n",
    "$$\n",
    "\n"
   ]
  },
  {
   "attachments": {},
   "cell_type": "markdown",
   "id": "c9bcf1cf",
   "metadata": {},
   "source": [
    "### Multidimensional Arrays aka Tensors\n",
    "The way to interpret tensors in Julia is very different than numpy. \n",
    "\n",
    "##### Numpy\n",
    "In numpy a $4 \\times 3 \\times 2$ tensor is really a $3 \\times 2$ matrix arranged in an 4-element array. Note, in numpy an ndarray can behave like row vector when it needs to and a column vector when it needs to.\n",
    "\n",
    "```python\n",
    "X = np.arange(1, 25).reshape((4, 3, 2))\n",
    "```\n",
    "We can visualize it pretty much the way it is printed -\n",
    "$$\n",
    "\\left[  \n",
    "\\begin{bmatrix}\n",
    "1 & 2 \\\\\n",
    "3 & 4 \\\\\n",
    "4 & 6 \\\\\n",
    "\\end{bmatrix}\n",
    "\\;\n",
    "\\begin{bmatrix}\n",
    "7 & 8 \\\\\n",
    "9 & 10 \\\\\n",
    "11 & 12 \\\\\n",
    "\\end{bmatrix}\n",
    "\\;\n",
    "\\begin{bmatrix}\n",
    "13 & 14 \\\\\n",
    "15 & 16 \\\\\n",
    "17 & 18 \\\\\n",
    "\\end{bmatrix}\n",
    "\\;\n",
    "\\begin{bmatrix}\n",
    "19 & 20 \\\\\n",
    "21 & 22 \\\\\n",
    "23 & 24 \\\\\n",
    "\\end{bmatrix}\n",
    "\\right]\n",
    "$$\n",
    "\n",
    "And the more dimensions we add - it just becomes an array of arrays and so on. So a $5 \\times 4 \\times 3 \\times 2$ is an array of 5 elements where each element is an array of 4 elements, where each element is a $3 \\times 2$ matrix.\n",
    "\n",
    "$$\n",
    "\\left[\n",
    "\\left[  \n",
    "\\begin{bmatrix}\n",
    "1 & 2 \\\\\n",
    "3 & 4 \\\\\n",
    "4 & 6 \\\\\n",
    "\\end{bmatrix}\n",
    "\\;\n",
    "\\begin{bmatrix}\n",
    "7 & 8 \\\\\n",
    "9 & 10 \\\\\n",
    "11 & 12 \\\\\n",
    "\\end{bmatrix}\n",
    "\\;\n",
    "\\begin{bmatrix}\n",
    "13 & 14 \\\\\n",
    "15 & 16 \\\\\n",
    "17 & 18 \\\\\n",
    "\\end{bmatrix}\n",
    "\\;\n",
    "\\begin{bmatrix}\n",
    "19 & 20 \\\\\n",
    "21 & 22 \\\\\n",
    "23 & 24 \\\\\n",
    "\\end{bmatrix}\n",
    "\\right]\n",
    "\n",
    "\\quad\n",
    "\n",
    "\\left[  \n",
    "\\begin{bmatrix}\n",
    "25 & 26 \\\\\n",
    "27 & 28 \\\\\n",
    "29 & 30 \\\\\n",
    "\\end{bmatrix}\n",
    "\\;\n",
    "\\begin{bmatrix}\n",
    "31 & 32 \\\\\n",
    "33 & 34 \\\\\n",
    "35 & 36 \\\\\n",
    "\\end{bmatrix}\n",
    "\\;\n",
    "\\begin{bmatrix}\n",
    "37 & 38 \\\\\n",
    "39 & 40 \\\\\n",
    "41 & 42 \\\\\n",
    "\\end{bmatrix}\n",
    "\\;\n",
    "\\begin{bmatrix}\n",
    "43 & 44 \\\\\n",
    "45 & 46 \\\\\n",
    "47 & 48 \\\\\n",
    "\\end{bmatrix}\n",
    "\\right]\n",
    "\\cdots\n",
    "\\right]\n",
    "$$\n",
    "\n",
    "I like to think of this as **inside-out**, where the \"main\" matrix is defined with the innermost shape, and as we go outside we get arrays.\n",
    "\n",
    "Accessing the elements works in an intuitive way, where `X[0]` will give me the first element of the outermost 5-element array, and this will be a 4-element array - \n",
    "$$\n",
    "X_0 = \\left[  \n",
    "\\begin{bmatrix}\n",
    "1 & 2 \\\\\n",
    "3 & 4 \\\\\n",
    "4 & 6 \\\\\n",
    "\\end{bmatrix}\n",
    "\\;\n",
    "\\begin{bmatrix}\n",
    "7 & 8 \\\\\n",
    "9 & 10 \\\\\n",
    "11 & 12 \\\\\n",
    "\\end{bmatrix}\n",
    "\\;\n",
    "\\begin{bmatrix}\n",
    "13 & 14 \\\\\n",
    "15 & 16 \\\\\n",
    "17 & 18 \\\\\n",
    "\\end{bmatrix}\n",
    "\\;\n",
    "\\begin{bmatrix}\n",
    "19 & 20 \\\\\n",
    "21 & 22 \\\\\n",
    "23 & 24 \\\\\n",
    "\\end{bmatrix}\n",
    "\\right] \\\\\n",
    "$$\n",
    "\n",
    "$$\n",
    "X_{0,0} = \\begin{bmatrix}\n",
    "1 & 2 \\\\\n",
    "3 & 4 \\\\\n",
    "4 & 6 \\\\\n",
    "\\end{bmatrix}\n",
    "$$\n",
    "\n",
    "$$\n",
    "X_{0,0,0} = \\left[ 1 \\quad 2 \\right]\n",
    "$$\n",
    "##### Julia\n",
    "In Julia a $4 \\times 3 \\times 2$ tensor is a $4 \\times 3$ matrix arranged in a list (I don't know whether to interpret is as a row vector or a column vector) of 2-elements. So very much like numpy.\n",
    "\n",
    "Notice that unlike numpy, the numbers in the range are raveled column-wise. \n",
    "\n",
    "```\n",
    "X = reshape(range(1, 24), (4, 3, 2))\n",
    "```\n",
    "Again, this can also be visualized as it is printed (and similar to numpy visualization except for the values) -\n",
    "$$\n",
    "\\left[\n",
    "\\begin{bmatrix}\n",
    "1 & 5 & 9 \\\\\n",
    "2 & 6 & 10 \\\\\n",
    "3 & 7 & 11 \\\\\n",
    "4 & 8 & 12 \\\\\n",
    "\\end{bmatrix}\n",
    "\n",
    "\\;\n",
    "\\begin{bmatrix}\n",
    "13 & 17 & 21 \\\\\n",
    "14 & 18 & 22 \\\\\n",
    "15 & 19 & 23 \\\\\n",
    "16 & 20 & 24 \\\\\n",
    "\\end{bmatrix}\n",
    "\\right]\n",
    "$$\n",
    "\n",
    "However when the number of dimensions are even e.g., $5 \\times 4 \\times 3 \\times 2$ is actually a bunch of $5 \\times 4$ matrices, arranged in a $3 \\times 2$ grid.\n",
    "```\n",
    "X = reshape(range(1, 120), (5, 4, 3, 2))\n",
    "```\n",
    "$$\n",
    "X = \\begin{bmatrix}\n",
    "\n",
    "\\begin{bmatrix}\n",
    "1 & 6 & 11 & 16 \\\\\n",
    "2 & 7 & 12 & 17 \\\\\n",
    "3 & 8 & 13 & 18 \\\\\n",
    "4 & 9 & 14 & 19 \\\\\n",
    "5 & 10 & 15 & 20 \\\\\n",
    "\\end{bmatrix} \n",
    "\n",
    "& \\begin{bmatrix}\n",
    "61 & 66 & 71 & 76 \\\\\n",
    "62 & 67 & 72 & 77 \\\\\n",
    "63 & 68 & 73 & 78 \\\\\n",
    "64 & 69 & 74 & 79 \\\\\n",
    "65 & 70 & 75 & 80 \\\\\n",
    "\\end{bmatrix}\n",
    "\n",
    "\\\\\n",
    "\n",
    "\\begin{bmatrix}\n",
    "21 & 26 & 31 & 36 \\\\\n",
    "22 & 27 & 32 & 37 \\\\\n",
    "23 & 28 & 33 & 38 \\\\\n",
    "24 & 29 & 34 & 39 \\\\\n",
    "25 & 30 & 35 & 40 \\\\\n",
    "\\end{bmatrix}\n",
    "\n",
    "& \\begin{bmatrix}\n",
    "81 & 86 & 91 & 96 \\\\\n",
    "82 & 87 & 92 & 97 \\\\\n",
    "83 & 88 & 93 & 98 \\\\\n",
    "84 & 89 & 94 & 99 \\\\\n",
    "85 & 90 & 95 & 100 \\\\\n",
    "\\end{bmatrix}\n",
    "\n",
    "\\\\\n",
    "\n",
    "\\begin{bmatrix}\n",
    "41 & 46 & 51 & 56 \\\\\n",
    "42 & 47 & 52 & 57 \\\\\n",
    "43 & 48 & 53 & 58 \\\\\n",
    "44 & 49 & 54 & 59 \\\\\n",
    "45 & 50 & 55 & 60 \\\\\n",
    "\\end{bmatrix}\n",
    "\n",
    "& \\begin{bmatrix}\n",
    "101 & 106 & 111 & 116 \\\\\n",
    "102 & 107 & 112 & 117 \\\\\n",
    "103 & 108 & 113 & 118 \\\\\n",
    "104 & 109 & 114 & 119 \\\\\n",
    "105 & 110 & 115 & 120 \\\\\n",
    "\\end{bmatrix}\n",
    "\n",
    "\\\\\n",
    "\\end{bmatrix}\n",
    "$$\n",
    "\n",
    "Looking at this layout I'd think that `X[1]` will give me the first row of this $3 \\times 2$ matrix, but that is not the case. In order to get the first row of two matrices, I'll have to givre `X[:, :, 1, :]` because even the indexing works outside-in, where the outermost dimensions specify the innermost matrix, so `:, :` tells Julia I want the entire innermost matrix, and then `1, :` tells it to get first row and all columns. \n",
    "\n",
    "In order to get the first matrix (starting with 1) I'd think that `X[1, 1]` will do the trick, but that'll throw an error. I'll need to say `X[:, :, 1, 1]`.\n",
    "\n",
    "I have this wrong intuition because I am thinking that Julia treats these structures as recursive, i.e., the outermost structure is a $3 \\times 2$ matrix with each element being a $5 \\times 4$ matrix. But in Julia, this entire thing is a $5 \\times 4 \\times 3 \\times 2$ tensor.In general I'll need to specify the index of each dimension to retrieve anything. The only exception is the first dimension where `X[1] = 1` and `X[2] = 2` and so on. \n",
    "\n"
   ]
  },
  {
   "cell_type": "code",
   "execution_count": 120,
   "id": "3458cc8f",
   "metadata": {},
   "outputs": [
    {
     "data": {
      "text/plain": [
       "5×4×3×2 reshape(::UnitRange{Int64}, 5, 4, 3, 2) with eltype Int64:\n",
       "[:, :, 1, 1] =\n",
       " 1   6  11  16\n",
       " 2   7  12  17\n",
       " 3   8  13  18\n",
       " 4   9  14  19\n",
       " 5  10  15  20\n",
       "\n",
       "[:, :, 2, 1] =\n",
       " 21  26  31  36\n",
       " 22  27  32  37\n",
       " 23  28  33  38\n",
       " 24  29  34  39\n",
       " 25  30  35  40\n",
       "\n",
       "[:, :, 3, 1] =\n",
       " 41  46  51  56\n",
       " 42  47  52  57\n",
       " 43  48  53  58\n",
       " 44  49  54  59\n",
       " 45  50  55  60\n",
       "\n",
       "[:, :, 1, 2] =\n",
       " 61  66  71  76\n",
       " 62  67  72  77\n",
       " 63  68  73  78\n",
       " 64  69  74  79\n",
       " 65  70  75  80\n",
       "\n",
       "[:, :, 2, 2] =\n",
       " 81  86  91   96\n",
       " 82  87  92   97\n",
       " 83  88  93   98\n",
       " 84  89  94   99\n",
       " 85  90  95  100\n",
       "\n",
       "[:, :, 3, 2] =\n",
       " 101  106  111  116\n",
       " 102  107  112  117\n",
       " 103  108  113  118\n",
       " 104  109  114  119\n",
       " 105  110  115  120"
      ]
     },
     "execution_count": 120,
     "metadata": {},
     "output_type": "execute_result"
    }
   ],
   "source": [
    "dims = (5, 4, 3, 2)\n",
    "X = reshape(range(1, prod(dims)), dims)"
   ]
  },
  {
   "cell_type": "code",
   "execution_count": 121,
   "id": "d4c98dcc",
   "metadata": {},
   "outputs": [
    {
     "data": {
      "text/plain": [
       "5×4×2 Array{Int64, 3}:\n",
       "[:, :, 1] =\n",
       " 1   6  11  16\n",
       " 2   7  12  17\n",
       " 3   8  13  18\n",
       " 4   9  14  19\n",
       " 5  10  15  20\n",
       "\n",
       "[:, :, 2] =\n",
       " 61  66  71  76\n",
       " 62  67  72  77\n",
       " 63  68  73  78\n",
       " 64  69  74  79\n",
       " 65  70  75  80"
      ]
     },
     "execution_count": 121,
     "metadata": {},
     "output_type": "execute_result"
    }
   ],
   "source": [
    "X[:, :, 1, :]"
   ]
  },
  {
   "cell_type": "code",
   "execution_count": 97,
   "id": "8151d120",
   "metadata": {},
   "outputs": [
    {
     "data": {
      "text/plain": [
       "2-element Vector{Int64}:\n",
       "  1\n",
       " 13"
      ]
     },
     "execution_count": 97,
     "metadata": {},
     "output_type": "execute_result"
    }
   ],
   "source": [
    "X[1, 1, :]"
   ]
  },
  {
   "cell_type": "markdown",
   "id": "37602f65-a0dd-49f8-bb8c-b6a5c60494fe",
   "metadata": {},
   "source": [
    "Another common way of initializing that I have seen is `Array{Int}(undef, (2, 2))`. This is simply telling the Julia runtime to allocate an array of size `2x2` but don't bother initializing the memory. So the memory location might have some other garbage value left over from its earlier occupants. Of course I can pass any tuple to this constructor, so instead of `(2, 2)` I can create a `(2, 2, 3)` tensor and so forth."
   ]
  },
  {
   "cell_type": "code",
   "execution_count": 57,
   "id": "96778ecd-8c50-44fb-938a-85acaa996926",
   "metadata": {},
   "outputs": [
    {
     "data": {
      "text/plain": [
       "3×2 Matrix{Int64}:\n",
       " 4386390024  4704667536\n",
       " 4386390024  4386390024\n",
       " 4386390024  4386390024"
      ]
     },
     "execution_count": 57,
     "metadata": {},
     "output_type": "execute_result"
    }
   ],
   "source": [
    "A = Array{Int}(undef, (3, 2))"
   ]
  },
  {
   "cell_type": "code",
   "execution_count": 58,
   "id": "6aeb2810-4985-4801-b839-b14bb20c1b4d",
   "metadata": {},
   "outputs": [
    {
     "data": {
      "text/plain": [
       "2-element Vector{Int64}:\n",
       " 4386390640\n",
       " 4717861552"
      ]
     },
     "execution_count": 58,
     "metadata": {},
     "output_type": "execute_result"
    }
   ],
   "source": [
    "v = Vector{Int}(undef, 2)"
   ]
  },
  {
   "cell_type": "code",
   "execution_count": 59,
   "id": "816dab7c-9060-4ae8-b2fb-673a8ef2260f",
   "metadata": {},
   "outputs": [
    {
     "data": {
      "text/plain": [
       "1×2 Matrix{Int64}:\n",
       " 2  2"
      ]
     },
     "execution_count": 59,
     "metadata": {},
     "output_type": "execute_result"
    }
   ],
   "source": [
    "[2 2]"
   ]
  },
  {
   "cell_type": "code",
   "execution_count": 60,
   "id": "37ab04d2-5070-458a-8b4b-d2f8904b3bff",
   "metadata": {},
   "outputs": [
    {
     "data": {
      "text/plain": [
       "2-element Vector{Int64}:\n",
       " 2\n",
       " 2"
      ]
     },
     "execution_count": 60,
     "metadata": {},
     "output_type": "execute_result"
    }
   ],
   "source": [
    "[2, 2]"
   ]
  },
  {
   "cell_type": "code",
   "execution_count": 61,
   "id": "f242ddad-b221-40bf-8025-574810a15a27",
   "metadata": {},
   "outputs": [
    {
     "data": {
      "text/plain": [
       "2-element Vector{Int64}:\n",
       " 2\n",
       " 2"
      ]
     },
     "execution_count": 61,
     "metadata": {},
     "output_type": "execute_result"
    }
   ],
   "source": [
    "[2; 2]"
   ]
  },
  {
   "cell_type": "code",
   "execution_count": 62,
   "id": "4cbd5af2-3e3f-4bdf-a74c-ca220ab0c820",
   "metadata": {},
   "outputs": [
    {
     "data": {
      "text/plain": [
       "true"
      ]
     },
     "execution_count": 62,
     "metadata": {},
     "output_type": "execute_result"
    }
   ],
   "source": [
    "[2, 2] == [2; 2]"
   ]
  },
  {
   "cell_type": "code",
   "execution_count": 63,
   "id": "710cdbc2-0d61-4c94-bc23-8319886d15a3",
   "metadata": {},
   "outputs": [
    {
     "data": {
      "text/plain": [
       "false"
      ]
     },
     "execution_count": 63,
     "metadata": {},
     "output_type": "execute_result"
    }
   ],
   "source": [
    "[2, 2] == [2 2]"
   ]
  },
  {
   "cell_type": "code",
   "execution_count": 64,
   "id": "7b39bc88-9346-445c-89d8-a0e0bc16c517",
   "metadata": {},
   "outputs": [
    {
     "data": {
      "text/plain": [
       "false"
      ]
     },
     "execution_count": 64,
     "metadata": {},
     "output_type": "execute_result"
    }
   ],
   "source": [
    "[2; 2] == [2 2]"
   ]
  },
  {
   "cell_type": "code",
   "execution_count": 65,
   "id": "a38a769f-539a-4eed-a013-872e2887fb6c",
   "metadata": {},
   "outputs": [
    {
     "data": {
      "text/plain": [
       "3×2 Matrix{Float32}:\n",
       " 1.0f-45  0.0\n",
       " 0.0      0.00388838\n",
       " 1.0f-45  1.0f-45"
      ]
     },
     "execution_count": 65,
     "metadata": {},
     "output_type": "execute_result"
    }
   ],
   "source": [
    "M = Matrix{Float32}(undef, (3, 2))"
   ]
  },
  {
   "cell_type": "markdown",
   "id": "532b879c-426f-4695-ae0d-420771eb07f2",
   "metadata": {},
   "source": [
    "If I do want an initialized array then I should use the `fill` function."
   ]
  },
  {
   "cell_type": "code",
   "execution_count": null,
   "id": "920d5cb4-8ca0-4ffe-b066-1d7f6d5b7379",
   "metadata": {},
   "outputs": [],
   "source": []
  },
  {
   "cell_type": "code",
   "execution_count": null,
   "id": "a831b639-029e-4282-ad0f-cfe0a42df876",
   "metadata": {},
   "outputs": [],
   "source": []
  },
  {
   "cell_type": "markdown",
   "id": "30d4f7b1-bdf5-4a0a-a94c-bb6e6f56fcb2",
   "metadata": {},
   "source": [
    "## Operations"
   ]
  },
  {
   "attachments": {},
   "cell_type": "markdown",
   "id": "40aef81a-4b31-4316-a914-f37bd57dd41d",
   "metadata": {},
   "source": [
    "In general there are two versions of each arithmetic operator `<op>` for the full vectorized form and `.<op>` for element-wise form. But which will give what result is something I still need to develop intution for."
   ]
  },
  {
   "cell_type": "code",
   "execution_count": 143,
   "id": "27ed9a31-9d73-4f6a-ae65-697f25cd599f",
   "metadata": {},
   "outputs": [
    {
     "data": {
      "text/plain": [
       "2×3 Matrix{Int64}:\n",
       "  8   9  10\n",
       " 12  13  14"
      ]
     },
     "execution_count": 143,
     "metadata": {},
     "output_type": "execute_result"
    }
   ],
   "source": [
    "# A column vector and matrix will work with .+ but not with +\n",
    "A = [\n",
    "    [1 2 3];\n",
    "    [4 5 6]\n",
    "]\n",
    "v = [7, 8]\n",
    "A .+ v"
   ]
  },
  {
   "cell_type": "code",
   "execution_count": 144,
   "id": "e07b02cd",
   "metadata": {},
   "outputs": [
    {
     "ename": "LoadError",
     "evalue": "DimensionMismatch: dimensions must match: a has dims (Base.OneTo(2), Base.OneTo(3)), must have singleton at dim 2",
     "output_type": "error",
     "traceback": [
      "DimensionMismatch: dimensions must match: a has dims (Base.OneTo(2), Base.OneTo(3)), must have singleton at dim 2",
      "",
      "Stacktrace:",
      " [1] promote_shape",
      "   @ ./indices.jl:183 [inlined]",
      " [2] promote_shape(a::Matrix{Int64}, b::Vector{Int64})",
      "   @ Base ./indices.jl:169",
      " [3] +(A::Matrix{Int64}, Bs::Vector{Int64})",
      "   @ Base ./arraymath.jl:14",
      " [4] top-level scope",
      "   @ In[144]:1"
     ]
    }
   ],
   "source": [
    "A + v"
   ]
  },
  {
   "cell_type": "code",
   "execution_count": 145,
   "id": "84a80fb5-22b8-4c65-b3f1-62d83321ff3f",
   "metadata": {},
   "outputs": [
    {
     "data": {
      "text/plain": [
       "2×3 Matrix{Int64}:\n",
       "  8  10  12\n",
       " 11  13  15"
      ]
     },
     "execution_count": 145,
     "metadata": {},
     "output_type": "execute_result"
    }
   ],
   "source": [
    "# A row vector and matrix will also work. Julia is able to figure out the rigth thing to do based on dimensions.\n",
    "u = [7 8 9]\n",
    "A .+ u"
   ]
  },
  {
   "cell_type": "code",
   "execution_count": 146,
   "id": "4a69bc90",
   "metadata": {},
   "outputs": [
    {
     "ename": "LoadError",
     "evalue": "DimensionMismatch: dimensions must match: a has dims (Base.OneTo(2), Base.OneTo(3)), b has dims (Base.OneTo(1), Base.OneTo(3)), mismatch at 1",
     "output_type": "error",
     "traceback": [
      "DimensionMismatch: dimensions must match: a has dims (Base.OneTo(2), Base.OneTo(3)), b has dims (Base.OneTo(1), Base.OneTo(3)), mismatch at 1",
      "",
      "Stacktrace:",
      " [1] promote_shape",
      "   @ ./indices.jl:178 [inlined]",
      " [2] promote_shape(a::Matrix{Int64}, b::Matrix{Int64})",
      "   @ Base ./indices.jl:169",
      " [3] +(A::Matrix{Int64}, Bs::Matrix{Int64})",
      "   @ Base ./arraymath.jl:14",
      " [4] top-level scope",
      "   @ In[146]:1"
     ]
    }
   ],
   "source": [
    "A + u"
   ]
  },
  {
   "cell_type": "code",
   "execution_count": 148,
   "id": "be4aa715-a6cb-489d-b9a9-171a83aefbbe",
   "metadata": {},
   "outputs": [
    {
     "data": {
      "text/plain": [
       "2×3 Matrix{Int64}:\n",
       "  8  10  12\n",
       " 14  16  18"
      ]
     },
     "execution_count": 148,
     "metadata": {},
     "output_type": "execute_result"
    }
   ],
   "source": [
    "# If B is a matrix with the same shape as A, then both + and .+ will work and they will give the same result\n",
    "B = [\n",
    "    [7 8 9];\n",
    "    [10 11 12]\n",
    "]\n",
    "A + B"
   ]
  },
  {
   "cell_type": "code",
   "execution_count": 149,
   "id": "c4437bd1-77cf-412a-b988-3a43d59b9668",
   "metadata": {},
   "outputs": [
    {
     "data": {
      "text/plain": [
       "2×3 Matrix{Int64}:\n",
       "  8  10  12\n",
       " 14  16  18"
      ]
     },
     "execution_count": 149,
     "metadata": {},
     "output_type": "execute_result"
    }
   ],
   "source": [
    "A .+ B"
   ]
  },
  {
   "cell_type": "code",
   "execution_count": 153,
   "id": "6de225f6",
   "metadata": {},
   "outputs": [
    {
     "data": {
      "text/plain": [
       "2×2 Matrix{Int64}:\n",
       "  58   64\n",
       " 139  154"
      ]
     },
     "execution_count": 153,
     "metadata": {},
     "output_type": "execute_result"
    }
   ],
   "source": [
    "# Matrix-Matrix multiplication will work when the dims are (m, n) and (n, p) using the * operator. But .* will not work in this case.\n",
    "# .* will work with (m, n) and (m, n) matrix.\n",
    "C = [\n",
    "    [7 8];\n",
    "    [9 10];\n",
    "    [11 12]\n",
    "]\n",
    "A * C"
   ]
  },
  {
   "cell_type": "code",
   "execution_count": 154,
   "id": "ecf04577",
   "metadata": {},
   "outputs": [
    {
     "ename": "LoadError",
     "evalue": "DimensionMismatch: arrays could not be broadcast to a common size; got a dimension with lengths 2 and 3",
     "output_type": "error",
     "traceback": [
      "DimensionMismatch: arrays could not be broadcast to a common size; got a dimension with lengths 2 and 3",
      "",
      "Stacktrace:",
      " [1] _bcs1",
      "   @ ./broadcast.jl:516 [inlined]",
      " [2] _bcs",
      "   @ ./broadcast.jl:510 [inlined]",
      " [3] broadcast_shape",
      "   @ ./broadcast.jl:504 [inlined]",
      " [4] combine_axes",
      "   @ ./broadcast.jl:499 [inlined]",
      " [5] instantiate",
      "   @ ./broadcast.jl:281 [inlined]",
      " [6] materialize(bc::Base.Broadcast.Broadcasted{Base.Broadcast.DefaultArrayStyle{2}, Nothing, typeof(*), Tuple{Matrix{Int64}, Matrix{Int64}}})",
      "   @ Base.Broadcast ./broadcast.jl:860",
      " [7] top-level scope",
      "   @ In[154]:1"
     ]
    }
   ],
   "source": [
    "A .* C"
   ]
  },
  {
   "cell_type": "code",
   "execution_count": 155,
   "id": "e17845fd",
   "metadata": {},
   "outputs": [
    {
     "data": {
      "text/plain": [
       "2×3 Matrix{Int64}:\n",
       "  7  16  27\n",
       " 40  55  72"
      ]
     },
     "execution_count": 155,
     "metadata": {},
     "output_type": "execute_result"
    }
   ],
   "source": [
    "A .* B"
   ]
  },
  {
   "attachments": {},
   "cell_type": "markdown",
   "id": "d468630f-09c6-4e7b-9f8c-77b63d58e712",
   "metadata": {},
   "source": [
    "Julia has a bunch of other [linalg operators](https://docs.julialang.org/en/v1/stdlib/LinearAlgebra/).\n",
    "\n",
    "  * `'` will give the transpose of a real valued matrix and the Hermitian (conjugate transpose) of a complex matrix.\n",
    "  * `adjoint` and `'` are equivalent."
   ]
  },
  {
   "cell_type": "code",
   "execution_count": 156,
   "id": "c8950cfc",
   "metadata": {},
   "outputs": [
    {
     "data": {
      "text/plain": [
       "3×2 adjoint(::Matrix{Int64}) with eltype Int64:\n",
       " 1  4\n",
       " 2  5\n",
       " 3  6"
      ]
     },
     "execution_count": 156,
     "metadata": {},
     "output_type": "execute_result"
    }
   ],
   "source": [
    "A = [\n",
    "    [1 2 3];\n",
    "    [4 5 6]\n",
    "]\n",
    "A'"
   ]
  },
  {
   "cell_type": "code",
   "execution_count": 157,
   "id": "dfdf8098",
   "metadata": {},
   "outputs": [
    {
     "data": {
      "text/plain": [
       "3×2 adjoint(::Matrix{ComplexF64}) with eltype ComplexF64:\n",
       " 1.0-0.1im  4.0-0.4im\n",
       " 2.0-0.2im  5.0-0.5im\n",
       " 3.0-0.3im  6.0-0.6im"
      ]
     },
     "execution_count": 157,
     "metadata": {},
     "output_type": "execute_result"
    }
   ],
   "source": [
    "C = [\n",
    "    [1+0.1im 2+0.2im 3+0.3im];\n",
    "    [4+0.4im 5+0.5im 6+0.6im]\n",
    "]\n",
    "C'"
   ]
  },
  {
   "cell_type": "code",
   "execution_count": 158,
   "id": "ff89e397",
   "metadata": {},
   "outputs": [
    {
     "data": {
      "text/plain": [
       "3×2 adjoint(::Matrix{ComplexF64}) with eltype ComplexF64:\n",
       " 1.0-0.1im  4.0-0.4im\n",
       " 2.0-0.2im  5.0-0.5im\n",
       " 3.0-0.3im  6.0-0.6im"
      ]
     },
     "execution_count": 158,
     "metadata": {},
     "output_type": "execute_result"
    }
   ],
   "source": [
    "adjoint(C)"
   ]
  },
  {
   "cell_type": "code",
   "execution_count": 159,
   "id": "9913947a",
   "metadata": {},
   "outputs": [
    {
     "data": {
      "text/plain": [
       "3×2 adjoint(::Matrix{Int64}) with eltype Int64:\n",
       " 1  4\n",
       " 2  5\n",
       " 3  6"
      ]
     },
     "execution_count": 159,
     "metadata": {},
     "output_type": "execute_result"
    }
   ],
   "source": [
    "adjoint(A)"
   ]
  },
  {
   "cell_type": "code",
   "execution_count": null,
   "id": "e7899ac4",
   "metadata": {},
   "outputs": [],
   "source": []
  }
 ],
 "metadata": {
  "kernelspec": {
   "display_name": "Julia 1.8.4",
   "language": "julia",
   "name": "julia-1.8"
  },
  "language_info": {
   "file_extension": ".jl",
   "mimetype": "application/julia",
   "name": "julia",
   "version": "1.8.4"
  }
 },
 "nbformat": 4,
 "nbformat_minor": 5
}
