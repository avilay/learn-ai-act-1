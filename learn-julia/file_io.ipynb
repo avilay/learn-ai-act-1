{
 "cells": [
  {
   "attachments": {},
   "cell_type": "markdown",
   "metadata": {},
   "source": [
    "### Constants\n",
    "```\n",
    "stdin\n",
    "stdout\n",
    "stderr\n",
    "```\n",
    "\n",
    "### Functions\n",
    "```\n",
    "open\n",
    "take!\n",
    "fdio\n",
    "flush\n",
    "close\n",
    "closewrite\n",
    "write\n",
    "    write(io::IO, x)\n",
    "    write(filename::AbstractString, x)\n",
    "    write(io, x, y, ...) equivalent to write(io, x) + write(io, y) + ...\n",
    "read\n",
    "    read(io::IO, T)\n",
    "    read(io::IO, String)\n",
    "    read(filename::AbstrctString, args...)\n",
    "    read(filename::AbstractString, String)\n",
    "    read(s::IO, nb=typemax(Int))\n",
    "    read(s::IO, nb::Integer; all=true)\n",
    "    read(cmd::Cmd)\n",
    "    read(cmd::Cmd, String)\n",
    "read!\n",
    "    read!(stream::IO, array::AbstractArray)\n",
    "    read!(filenam::AbstractString, array::AbstractArray)\n",
    "    readbytes!(stream::IO, b::AbstractVector{UInt8}, nb=length(b))\n",
    "    readbytes!(stream::IO, b::AbstractVector{UInt8}, nb=length(b); all::Bool=true)\n",
    "unsafe_read\n",
    "unsafe_write\n",
    "readeach\n",
    "peek\n",
    "position\n",
    "seek\n",
    "seekstart\n",
    "seekend\n",
    "skip\n",
    "mark\n",
    "unmark\n",
    "reset\n",
    "ismarked\n",
    "eof\n",
    "isreadonly\n",
    "iswritable\n",
    "isreadable\n",
    "isopen\n",
    "fd\n",
    "redirect_stdio\n",
    "redirect_stdout\n",
    "redirect_stderr\n",
    "redirect_stdin\n",
    "readchomp\n",
    "truncate\n",
    "skipchars\n",
    "countlines\n",
    "PipeBuffer\n",
    "readavailable\n",
    "```\n",
    "\n",
    "##### Text Functions\n",
    "```\n",
    "show([io::IO = stdout], x)\n",
    "summary\n",
    "print\n",
    "println\n",
    "printstyled\n",
    "sprint(f::Function, args...; context=nothing, sizehint=0)\n",
    "showerror\n",
    "dump(x; maxdepth=8)\n",
    "@dump expr\n",
    "readline\n",
    "    readline(io::IO=stdin; keep::Bool=false)\n",
    "    readline(filename::AbstractString; keep::Bool=false)\n",
    "readuntil\n",
    "    readuntil(stream::IO, delim; keep::Bool=false)\n",
    "    readuntil(filename::AbstractString, delim; keep::Bool=false)\n",
    "readlines\n",
    "    readlines(io::IO=stdin; keep::Bool=false)\n",
    "    readlines(filename::AbstractString; keep::Bool=false)\n",
    "eachline\n",
    "    eachline(io::IO=stdin; keep::Bool=false)\n",
    "    eachline(filename::AbstractString; keep::Bool=false)\n",
    "displaysize\n",
    "```\n",
    "\n",
    "#### Multimedia Functions\n",
    "```\n",
    "display\n",
    "    display(x)\n",
    "    display(d::AbstractDisplay, x)\n",
    "    display(mime, x)\n",
    "    display(d::AbstractDisplay, mime, x)\n",
    "redisplay\n",
    "displayable\n",
    "show(io::IO, mime, x)\n",
    "showable\n",
    "repr\n",
    "pushdisplay\n",
    "popdisplay\n",
    "istextmime\n",
    "```\n",
    "\n",
    "### Types\n",
    "```\n",
    "IOStream\n",
    "IOBuffer\n",
    "IOContext\n",
    "```\n",
    "\n",
    "#### Multimedia Types\n",
    "```\n",
    "AbstractDisplay\n",
    "MIME\n",
    "TextDisplay\n",
    "```\n",
    "\n",
    "\n",
    "File open modes -\n",
    "| Mode | Description |\n",
    "|------|-------------|\n",
    "| `r` | read |\n",
    "| `w` | write, create, truncate |\n",
    "| `a` | write, create, append |\n",
    "| `r+` | read, write |\n",
    "| `w+` | read, write, create, truncate |\n",
    "| `a+` | read, write, create, append |"
   ]
  },
  {
   "attachments": {},
   "cell_type": "markdown",
   "metadata": {},
   "source": [
    "### Basic read and write\n",
    "`write` will write to contiguous memory in the IO buffer. Every invocation will append to the buffer. `read(io, T)` will take the entire buffer and interpret it as the provided type."
   ]
  },
  {
   "cell_type": "code",
   "execution_count": 113,
   "metadata": {},
   "outputs": [
    {
     "name": "stdout",
     "output_type": "stream",
     "text": [
      "Wrote 1 bytes to io\n",
      "Wrote 1 bytes to io\n"
     ]
    },
    {
     "data": {
      "text/plain": [
       "0x41"
      ]
     },
     "metadata": {},
     "output_type": "display_data"
    },
    {
     "data": {
      "text/plain": [
       "0x02"
      ]
     },
     "metadata": {},
     "output_type": "display_data"
    }
   ],
   "source": [
    "# Lets see the raw buffer contents\n",
    "# First byte is 0x41 = 65, the ASCII value of A\n",
    "# Second byte is 0x02, the number 2\n",
    "io = IOBuffer()\n",
    "nbytes_a = write(io, \"A\")\n",
    "println(\"Wrote $nbytes_a bytes to io\")\n",
    "nbytes_2 = write(io, Int8(2))\n",
    "println(\"Wrote $nbytes_2 bytes to io\")\n",
    "bytes = take!(io)\n",
    "display(bytes[1])\n",
    "display(bytes[2])"
   ]
  },
  {
   "attachments": {},
   "cell_type": "markdown",
   "metadata": {},
   "source": [
    "The first byte is 0x41 (65 in decimal, the ASCII value of A) and the second byte is 0x02, given the endianness of MacOS here is what it looks like in memory -\n",
    "```\n",
    "0000 0010 0100 0001\n",
    "```\n",
    "\n",
    "This is 0x241 in hex and 577 in decimal. Why doesn't this flip this and read as 0x412?"
   ]
  },
  {
   "cell_type": "code",
   "execution_count": 83,
   "metadata": {},
   "outputs": [
    {
     "data": {
      "text/plain": [
       "577"
      ]
     },
     "execution_count": 83,
     "metadata": {},
     "output_type": "execute_result"
    }
   ],
   "source": [
    "io = IOBuffer()\n",
    "write(io, \"A\")\n",
    "write(io, Int8(2))\n",
    "seekstart(io)\n",
    "read(io, Int16)"
   ]
  },
  {
   "cell_type": "code",
   "execution_count": null,
   "metadata": {},
   "outputs": [
    {
     "data": {
      "text/plain": [
       "'A': ASCII/Unicode U+0041 (category Lu: Letter, uppercase)"
      ]
     },
     "metadata": {},
     "output_type": "display_data"
    }
   ],
   "source": [
    "io = IOBuffer(\"AB\")\n",
    "read(io, Char)"
   ]
  },
  {
   "cell_type": "code",
   "execution_count": null,
   "metadata": {},
   "outputs": [
    {
     "data": {
      "text/plain": [
       "\"AB\""
      ]
     },
     "metadata": {},
     "output_type": "display_data"
    }
   ],
   "source": [
    "io = IOBuffer(\"AB\")\n",
    "read(io, String)"
   ]
  },
  {
   "attachments": {},
   "cell_type": "markdown",
   "metadata": {},
   "source": [
    "### Write to a file"
   ]
  },
  {
   "cell_type": "code",
   "execution_count": 114,
   "metadata": {},
   "outputs": [
    {
     "data": {
      "text/plain": [
       "31"
      ]
     },
     "execution_count": 114,
     "metadata": {},
     "output_type": "execute_result"
    }
   ],
   "source": [
    "# One line at a time\n",
    "open(\"fileio.txt\", \"w+\") do io\n",
    "    write(io, \"Programmatically adding a line.\\n\")\n",
    "    write(io, \"And another programmatic line.\\n\")\n",
    "end"
   ]
  },
  {
   "cell_type": "code",
   "execution_count": 4,
   "metadata": {},
   "outputs": [
    {
     "data": {
      "text/plain": [
       "\"It was the best of times,\\nit was the worst of times.\\nIt was the age of wisdom,\\nit was the age of foolishness.\\nIt was the epoch of belief,\\nit was the epoch of incredulity.\\nIt was the season of Light,\\nit was the season of Darkness.\\nIt was the spring of hope,\\nit was the winter of despair.\\n\""
      ]
     },
     "execution_count": 4,
     "metadata": {},
     "output_type": "execute_result"
    }
   ],
   "source": [
    "lines = \"\"\"\n",
    "It was the best of times,\n",
    "it was the worst of times.\n",
    "It was the age of wisdom,\n",
    "it was the age of foolishness.\n",
    "It was the epoch of belief,\n",
    "it was the epoch of incredulity.\n",
    "It was the season of Light,\n",
    "it was the season of Darkness.\n",
    "It was the spring of hope,\n",
    "it was the winter of despair.\n",
    "\"\"\""
   ]
  },
  {
   "cell_type": "code",
   "execution_count": 115,
   "metadata": {},
   "outputs": [
    {
     "data": {
      "text/plain": [
       "287"
      ]
     },
     "execution_count": 115,
     "metadata": {},
     "output_type": "execute_result"
    }
   ],
   "source": [
    "# Write everything at once\n",
    "write(\"totc.txt\", lines)"
   ]
  },
  {
   "cell_type": "code",
   "execution_count": 116,
   "metadata": {},
   "outputs": [
    {
     "data": {
      "text/plain": [
       "10"
      ]
     },
     "execution_count": 116,
     "metadata": {},
     "output_type": "execute_result"
    }
   ],
   "source": [
    "# Another way to write everything at once\n",
    "write(\"tp.txt\", \"hello\", \"world\")"
   ]
  },
  {
   "attachments": {},
   "cell_type": "markdown",
   "metadata": {},
   "source": [
    "### Reading files"
   ]
  },
  {
   "cell_type": "code",
   "execution_count": null,
   "metadata": {},
   "outputs": [
    {
     "name": "stdout",
     "output_type": "stream",
     "text": [
      "Line: It was the best of times,\n",
      "Line: it was the worst of times.\n",
      "Line: It was the age of wisdom,\n",
      "Line: it was the age of foolishness.\n",
      "Line: It was the epoch of belief,\n",
      "Line: it was the epoch of incredulity.\n",
      "Line: It was the season of Light,\n",
      "Line: it was the season of Darkness.\n",
      "Line: It was the spring of hope,\n",
      "Line: it was the winter of despair.\n"
     ]
    }
   ],
   "source": [
    "for line in eachline(\"totc.txt\")\n",
    "    println(\"Line: $line\")\n",
    "end"
   ]
  },
  {
   "cell_type": "code",
   "execution_count": 48,
   "metadata": {},
   "outputs": [
    {
     "name": "stdout",
     "output_type": "stream",
     "text": [
      "Line: It was the best of times,\n",
      "it was the worst of times.\n",
      "It was the age of wisdom,\n",
      "it was the age of foolishness.\n",
      "It was the epoch of belief,\n",
      "it was the epoch of incredulity.\n",
      "It was the season of Light,\n",
      "it was the season of Darkness.\n",
      "It was the spring of hope,\n",
      "it was the winter of despair.\n",
      "\n"
     ]
    }
   ],
   "source": [
    "open(\"totc.txt\") do io\n",
    "    for line in readeach(io, String)\n",
    "        println(\"Line: $line\")\n",
    "    end\n",
    "end"
   ]
  },
  {
   "cell_type": "code",
   "execution_count": 117,
   "metadata": {},
   "outputs": [
    {
     "data": {
      "text/plain": [
       "10-element Vector{String}:\n",
       " \"It was the best of times,\"\n",
       " \"it was the worst of times.\"\n",
       " \"It was the age of wisdom,\"\n",
       " \"it was the age of foolishness.\"\n",
       " \"It was the epoch of belief,\"\n",
       " \"it was the epoch of incredulity.\"\n",
       " \"It was the season of Light,\"\n",
       " \"it was the season of Darkness.\"\n",
       " \"It was the spring of hope,\"\n",
       " \"it was the winter of despair.\""
      ]
     },
     "execution_count": 117,
     "metadata": {},
     "output_type": "execute_result"
    }
   ],
   "source": [
    "lines = readlines(\"totc.txt\")"
   ]
  },
  {
   "cell_type": "code",
   "execution_count": 95,
   "metadata": {},
   "outputs": [
    {
     "name": "stdout",
     "output_type": "stream",
     "text": [
      "It was the best of times,\n",
      "it was the worst of times.\n",
      "It was the age of wisdom,\n",
      "it was the age of foolishness.\n",
      "It was the epoch of belief,\n",
      "it was the epoch of incredulity.\n",
      "It was the season of Light,\n",
      "it was the season of Darkness.\n",
      "It was the spring of hope,\n",
      "it was the winter of despair.\n"
     ]
    }
   ],
   "source": [
    "open(\"totc.txt\") do io\n",
    "    while !eof(io)\n",
    "        println(readline(io))\n",
    "    end\n",
    "end"
   ]
  },
  {
   "attachments": {},
   "cell_type": "markdown",
   "metadata": {},
   "source": [
    "### Misc"
   ]
  },
  {
   "cell_type": "code",
   "execution_count": 103,
   "metadata": {},
   "outputs": [
    {
     "data": {
      "image/png": "[encoded data removed]"
     },
     "metadata": {},
     "output_type": "display_data"
    }
   ],
   "source": [
    "display(\"image/png\", read(\"julia_logo.png\"))"
   ]
  },
  {
   "cell_type": "code",
   "execution_count": null,
   "metadata": {},
   "outputs": [
    {
     "data": {
      "text/plain": [
       "\"1 Getting Started.ipynb\\nUntitled.ipynb\\nUntitled1.ipynb\\narrays_vecs.ipynb\\ncollections.md\\ncomparison\\nfile_io.ipynb\\nfileio.txt\\nscratch.jl\\nscratch_jl.ipynb\\nscratch_py.ipynb\\ntotc.txt\\ntp.txt\\n\""
      ]
     },
     "metadata": {},
     "output_type": "display_data"
    }
   ],
   "source": [
    "read(Cmd(`ls`), String)"
   ]
  },
  {
   "cell_type": "code",
   "execution_count": null,
   "metadata": {},
   "outputs": [
    {
     "data": {
      "text/plain": [
       "\"hello\\n\""
      ]
     },
     "metadata": {},
     "output_type": "display_data"
    }
   ],
   "source": [
    "io = IOBuffer(\"hello\\n\\n\")\n",
    "readchomp(io)"
   ]
  },
  {
   "cell_type": "code",
   "execution_count": null,
   "metadata": {},
   "outputs": [
    {
     "name": "stdout",
     "output_type": "stream",
     "text": [
      "\u001b[31mHello\u001b[39m"
     ]
    }
   ],
   "source": [
    "printstyled(\"Hello\", color=:red)"
   ]
  }
 ],
 "metadata": {
  "kernelspec": {
   "display_name": "Julia 1.8.4",
   "language": "julia",
   "name": "julia-1.8"
  },
  "language_info": {
   "file_extension": ".jl",
   "mimetype": "application/julia",
   "name": "julia",
   "version": "1.8.4"
  },
  "orig_nbformat": 4
 },
 "nbformat": 4,
 "nbformat_minor": 2
}
