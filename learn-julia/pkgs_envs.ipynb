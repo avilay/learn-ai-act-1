{
 "cells": [
  {
   "attachments": {},
   "cell_type": "markdown",
   "metadata": {},
   "source": [
    "# Environments\n",
    "\n",
    "More information in the [Pkg.jl](https://pkgdocs.julialang.org/v1/) documentation.\n",
    "\n",
    "**Environment** is the Julia equivalent of Python's virtual envs. Julia environment is a cross between Python's venv concept and Node's package.json concept. An environment is simply a directory which has a `Project.toml` file. This file is like a `requirements.txt` or a `package.json` file, i.e., it will list all the packages that are needed in this environment. Everytime I add a package, Julia's package manager `Pkg` will add an entry to this file. There is another file called `Manifest.toml` will have not only the user specified dependencies, but also all the indirect dependencies.\n",
    "\n",
    "## Creating\n",
    "Just create a directory and \"activate\" it (see below). Now when I add packages, Julia will automatically create or append the `Project.toml` and `Manifest.toml` files. \n",
    "\n",
    "## Activating\n",
    "The canonical way of activating an environment is to call the `Pkg.activate(\"/path/to/package/dir\")`. In the Julia REPL get in the package mode and then type `activate /path/to/package/dir`. Examples on the web show that folks usually get into the environment directory and then call the `activate .` command. This is similar to Node.js way of handling packages where each project typically has its own package dependency. But if I look at it from Python's working style, where multiple projects share a lot of the same packages, it makes sense to create a venv which has a superseet of all the packages needed by projects using that venv.\n",
    "\n",
    "To check the state of the environment run the `status` or `st` command in the currently activated environment.\n",
    "\n",
    "In VSCode apparently there is a button in the bottom left to set the env, but it does not seem to work."
   ]
  },
  {
   "cell_type": "code",
   "execution_count": 1,
   "metadata": {},
   "outputs": [],
   "source": [
    "using Pkg"
   ]
  },
  {
   "cell_type": "code",
   "execution_count": 2,
   "metadata": {},
   "outputs": [
    {
     "name": "stderr",
     "output_type": "stream",
     "text": [
      "\u001b[32m\u001b[1m  Activating\u001b[22m\u001b[39m project at `~/.julia/environments/ai`\n"
     ]
    }
   ],
   "source": [
    "Pkg.activate(\"/Users/avilay/.julia/environments/ai\")"
   ]
  },
  {
   "cell_type": "code",
   "execution_count": 3,
   "metadata": {},
   "outputs": [
    {
     "name": "stdout",
     "output_type": "stream",
     "text": [
      "\u001b[32m\u001b[1mStatus\u001b[22m\u001b[39m `~/.julia/environments/ai/Project.toml`\n",
      " \u001b[90m [7876af07] \u001b[39mExample v0.5.3\n"
     ]
    }
   ],
   "source": [
    "Pkg.status()"
   ]
  },
  {
   "cell_type": "code",
   "execution_count": 4,
   "metadata": {},
   "outputs": [],
   "source": [
    "using Example"
   ]
  },
  {
   "cell_type": "code",
   "execution_count": 5,
   "metadata": {},
   "outputs": [
    {
     "data": {
      "text/plain": [
       "\"Hello, APTG\""
      ]
     },
     "execution_count": 5,
     "metadata": {},
     "output_type": "execute_result"
    }
   ],
   "source": [
    "hello(\"APTG\")"
   ]
  },
  {
   "cell_type": "code",
   "execution_count": null,
   "metadata": {},
   "outputs": [],
   "source": []
  }
 ],
 "metadata": {
  "kernelspec": {
   "display_name": "Julia 1.8.4",
   "language": "julia",
   "name": "julia-1.8"
  },
  "language_info": {
   "file_extension": ".jl",
   "mimetype": "application/julia",
   "name": "julia",
   "version": "1.8.4"
  },
  "orig_nbformat": 4
 },
 "nbformat": 4,
 "nbformat_minor": 2
}
