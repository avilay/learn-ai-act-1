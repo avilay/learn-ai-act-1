{
 "cells": [
  {
   "cell_type": "code",
   "execution_count": 6,
   "id": "3c331cf9",
   "metadata": {},
   "outputs": [],
   "source": [
    "using Example"
   ]
  },
  {
   "cell_type": "code",
   "execution_count": null,
   "id": "8c1a78b1",
   "metadata": {},
   "outputs": [],
   "source": [
    "julia_logo = load(\"julia_logo.png\")"
   ]
  },
  {
   "cell_type": "code",
   "execution_count": null,
   "id": "aa74b368",
   "metadata": {},
   "outputs": [],
   "source": [
    "typeof(julia_logo)"
   ]
  },
  {
   "cell_type": "code",
   "execution_count": 1,
   "id": "f2e20aa5",
   "metadata": {},
   "outputs": [],
   "source": [
    "using Pkg"
   ]
  },
  {
   "cell_type": "code",
   "execution_count": 5,
   "id": "6c0f4022",
   "metadata": {},
   "outputs": [
    {
     "name": "stdout",
     "output_type": "stream",
     "text": [
      "\u001b[32m\u001b[1mStatus\u001b[22m\u001b[39m `~/jenvs/ai/Project.toml`\n",
      " \u001b[90m [7876af07] \u001b[39mExample v0.5.3\n"
     ]
    }
   ],
   "source": [
    "Pkg.status()"
   ]
  },
  {
   "cell_type": "code",
   "execution_count": 4,
   "id": "7d156f20",
   "metadata": {},
   "outputs": [
    {
     "name": "stderr",
     "output_type": "stream",
     "text": [
      "\u001b[32m\u001b[1m  Activating\u001b[22m\u001b[39m project at `~/jenvs/ai`\n"
     ]
    }
   ],
   "source": [
    "Pkg.activate(\"/Users/avilay/jenvs/ai\")"
   ]
  },
  {
   "cell_type": "code",
   "execution_count": 7,
   "id": "ec247ac1",
   "metadata": {},
   "outputs": [
    {
     "data": {
      "text/plain": [
       "foo (generic function with 1 method)"
      ]
     },
     "execution_count": 7,
     "metadata": {},
     "output_type": "execute_result"
    }
   ],
   "source": [
    "function foo(x)::Float32\n",
    "    return 1 + x\n",
    "end"
   ]
  },
  {
   "cell_type": "code",
   "execution_count": 8,
   "id": "00ce943e",
   "metadata": {},
   "outputs": [
    {
     "data": {
      "text/plain": [
       "2.0f0"
      ]
     },
     "execution_count": 8,
     "metadata": {},
     "output_type": "execute_result"
    }
   ],
   "source": [
    "y = foo(1)"
   ]
  },
  {
   "cell_type": "code",
   "execution_count": 9,
   "id": "5206ce1c",
   "metadata": {},
   "outputs": [
    {
     "data": {
      "text/plain": [
       "Float32"
      ]
     },
     "execution_count": 9,
     "metadata": {},
     "output_type": "execute_result"
    }
   ],
   "source": [
    "typeof(y)"
   ]
  },
  {
   "cell_type": "code",
   "execution_count": 10,
   "id": "c0416473",
   "metadata": {},
   "outputs": [
    {
     "data": {
      "text/plain": [
       "true"
      ]
     },
     "execution_count": 10,
     "metadata": {},
     "output_type": "execute_result"
    }
   ],
   "source": [
    "Float64 <: Real"
   ]
  },
  {
   "cell_type": "code",
   "execution_count": 11,
   "id": "3cc6c81b",
   "metadata": {},
   "outputs": [
    {
     "data": {
      "text/plain": [
       "false"
      ]
     },
     "execution_count": 11,
     "metadata": {},
     "output_type": "execute_result"
    }
   ],
   "source": [
    "Float32 <: Float64"
   ]
  },
  {
   "cell_type": "code",
   "execution_count": 12,
   "id": "5cc64e61",
   "metadata": {},
   "outputs": [],
   "source": [
    "struct Point{T<:Real}\n",
    "    x::T\n",
    "    y::T\n",
    "end"
   ]
  },
  {
   "cell_type": "code",
   "execution_count": 13,
   "id": "6ed7c241",
   "metadata": {},
   "outputs": [
    {
     "data": {
      "text/plain": [
       "Point{Float32}(2.3f0, 3.4f0)"
      ]
     },
     "execution_count": 13,
     "metadata": {},
     "output_type": "execute_result"
    }
   ],
   "source": [
    "Point{Float32}(2.3, 3.4)"
   ]
  },
  {
   "cell_type": "code",
   "execution_count": 14,
   "id": "202793b0",
   "metadata": {},
   "outputs": [
    {
     "data": {
      "text/plain": [
       "Point{Int64}(2, 3)"
      ]
     },
     "execution_count": 14,
     "metadata": {},
     "output_type": "execute_result"
    }
   ],
   "source": [
    "Point{Int}(2, 3)"
   ]
  },
  {
   "cell_type": "code",
   "execution_count": 15,
   "id": "f804648a",
   "metadata": {},
   "outputs": [
    {
     "ename": "LoadError",
     "evalue": "TypeError: in Point, in T, expected T<:Real, got Type{String}",
     "output_type": "error",
     "traceback": [
      "TypeError: in Point, in T, expected T<:Real, got Type{String}",
      "",
      "Stacktrace:",
      " [1] top-level scope",
      "   @ In[15]:1"
     ]
    }
   ],
   "source": [
    "Point{String}(\"hello\", \"world\")"
   ]
  },
  {
   "cell_type": "code",
   "execution_count": null,
   "id": "0d313a05",
   "metadata": {},
   "outputs": [],
   "source": []
  }
 ],
 "metadata": {
  "kernelspec": {
   "display_name": "Julia 1.8.4",
   "language": "julia",
   "name": "julia-1.8"
  },
  "language_info": {
   "file_extension": ".jl",
   "mimetype": "application/julia",
   "name": "julia",
   "version": "1.8.4"
  }
 },
 "nbformat": 4,
 "nbformat_minor": 5
}
