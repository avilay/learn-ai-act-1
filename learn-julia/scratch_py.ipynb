{
 "cells": [
  {
   "cell_type": "code",
   "execution_count": 7,
   "id": "7dc38aee-e652-4b1b-99f6-5e27f6b4ba31",
   "metadata": {},
   "outputs": [],
   "source": [
    "import numpy as np\n",
    "import functools as fun"
   ]
  },
  {
   "cell_type": "code",
   "execution_count": 4,
   "id": "aa70222a-41e7-455e-9bec-675655f96c3b",
   "metadata": {},
   "outputs": [],
   "source": [
    "rng = np.random.default_rng(1)"
   ]
  },
  {
   "cell_type": "code",
   "execution_count": 3,
   "id": "97fcb0f3-f044-443b-acea-1b5a009a79bb",
   "metadata": {},
   "outputs": [
    {
     "data": {
      "text/plain": [
       "[0.5118216247002567,\n",
       " 0.9504636963259353,\n",
       " 0.14415961271963373,\n",
       " 0.9486494471372439,\n",
       " 0.31183145201048545]"
      ]
     },
     "execution_count": 3,
     "metadata": {},
     "output_type": "execute_result"
    }
   ],
   "source": [
    "[rng.random() for _ in range(5)]"
   ]
  },
  {
   "cell_type": "code",
   "execution_count": 5,
   "id": "b11e289f-ed85-4164-86db-240fff6ca1a1",
   "metadata": {},
   "outputs": [
    {
     "data": {
      "text/plain": [
       "array([[0.12141442, 0.41661007],\n",
       "       [0.75153436, 0.78339593]])"
      ]
     },
     "execution_count": 5,
     "metadata": {},
     "output_type": "execute_result"
    }
   ],
   "source": [
    "A = np.array([\n",
    "    [0.392019, 0.517252, 0.070731],\n",
    "    [0.544392, 0.602742, 0.863450]\n",
    "])\n",
    "\n",
    "B = np.array([\n",
    "    [0.012466, 0.904164],\n",
    "    [0.118664, 0.081877],\n",
    "    [0.779691, 0.280069],\n",
    "])\n",
    "C = A @ B\n",
    "C"
   ]
  },
  {
   "cell_type": "code",
   "execution_count": 9,
   "id": "a3f23bfd-b433-47ab-a9d2-b2e73657f0cb",
   "metadata": {},
   "outputs": [
    {
     "data": {
      "text/plain": [
       "array([[0.75351311, 0.53814331, 0.32973172],\n",
       "       [0.7884287 , 0.30319483, 0.45349789]])"
      ]
     },
     "execution_count": 9,
     "metadata": {},
     "output_type": "execute_result"
    }
   ],
   "source": [
    "rng.random((2, 3))"
   ]
  },
  {
   "cell_type": "code",
   "execution_count": 8,
   "id": "aefb8d92-8e95-441a-a698-107f318759ae",
   "metadata": {},
   "outputs": [
    {
     "data": {
      "text/plain": [
       "24"
      ]
     },
     "execution_count": 8,
     "metadata": {},
     "output_type": "execute_result"
    }
   ],
   "source": [
    "fun.reduce(lambda acc, x: acc*x, (2, 3, 4), 1)"
   ]
  },
  {
   "cell_type": "code",
   "execution_count": 25,
   "id": "80df8543",
   "metadata": {},
   "outputs": [
    {
     "data": {
      "text/plain": [
       "array([[[[  1,   2],\n",
       "         [  3,   4],\n",
       "         [  5,   6]],\n",
       "\n",
       "        [[  7,   8],\n",
       "         [  9,  10],\n",
       "         [ 11,  12]],\n",
       "\n",
       "        [[ 13,  14],\n",
       "         [ 15,  16],\n",
       "         [ 17,  18]],\n",
       "\n",
       "        [[ 19,  20],\n",
       "         [ 21,  22],\n",
       "         [ 23,  24]]],\n",
       "\n",
       "\n",
       "       [[[ 25,  26],\n",
       "         [ 27,  28],\n",
       "         [ 29,  30]],\n",
       "\n",
       "        [[ 31,  32],\n",
       "         [ 33,  34],\n",
       "         [ 35,  36]],\n",
       "\n",
       "        [[ 37,  38],\n",
       "         [ 39,  40],\n",
       "         [ 41,  42]],\n",
       "\n",
       "        [[ 43,  44],\n",
       "         [ 45,  46],\n",
       "         [ 47,  48]]],\n",
       "\n",
       "\n",
       "       [[[ 49,  50],\n",
       "         [ 51,  52],\n",
       "         [ 53,  54]],\n",
       "\n",
       "        [[ 55,  56],\n",
       "         [ 57,  58],\n",
       "         [ 59,  60]],\n",
       "\n",
       "        [[ 61,  62],\n",
       "         [ 63,  64],\n",
       "         [ 65,  66]],\n",
       "\n",
       "        [[ 67,  68],\n",
       "         [ 69,  70],\n",
       "         [ 71,  72]]],\n",
       "\n",
       "\n",
       "       [[[ 73,  74],\n",
       "         [ 75,  76],\n",
       "         [ 77,  78]],\n",
       "\n",
       "        [[ 79,  80],\n",
       "         [ 81,  82],\n",
       "         [ 83,  84]],\n",
       "\n",
       "        [[ 85,  86],\n",
       "         [ 87,  88],\n",
       "         [ 89,  90]],\n",
       "\n",
       "        [[ 91,  92],\n",
       "         [ 93,  94],\n",
       "         [ 95,  96]]],\n",
       "\n",
       "\n",
       "       [[[ 97,  98],\n",
       "         [ 99, 100],\n",
       "         [101, 102]],\n",
       "\n",
       "        [[103, 104],\n",
       "         [105, 106],\n",
       "         [107, 108]],\n",
       "\n",
       "        [[109, 110],\n",
       "         [111, 112],\n",
       "         [113, 114]],\n",
       "\n",
       "        [[115, 116],\n",
       "         [117, 118],\n",
       "         [119, 120]]]])"
      ]
     },
     "execution_count": 25,
     "metadata": {},
     "output_type": "execute_result"
    }
   ],
   "source": [
    "dims = (5, 4, 3, 2)\n",
    "X = np.arange(1, np.prod(dims)+1).reshape(dims)\n",
    "X"
   ]
  },
  {
   "cell_type": "code",
   "execution_count": 30,
   "id": "0a090546",
   "metadata": {},
   "outputs": [
    {
     "data": {
      "text/plain": [
       "array([[[ 1,  2],\n",
       "        [ 3,  4],\n",
       "        [ 5,  6]],\n",
       "\n",
       "       [[ 7,  8],\n",
       "        [ 9, 10],\n",
       "        [11, 12]],\n",
       "\n",
       "       [[13, 14],\n",
       "        [15, 16],\n",
       "        [17, 18]],\n",
       "\n",
       "       [[19, 20],\n",
       "        [21, 22],\n",
       "        [23, 24]]])"
      ]
     },
     "execution_count": 30,
     "metadata": {},
     "output_type": "execute_result"
    }
   ],
   "source": [
    "X[0]"
   ]
  },
  {
   "cell_type": "code",
   "execution_count": 31,
   "id": "3e53f21a",
   "metadata": {},
   "outputs": [
    {
     "data": {
      "text/plain": [
       "array([[1, 2],\n",
       "       [3, 4],\n",
       "       [5, 6]])"
      ]
     },
     "execution_count": 31,
     "metadata": {},
     "output_type": "execute_result"
    }
   ],
   "source": [
    "X[0, 0]"
   ]
  },
  {
   "cell_type": "code",
   "execution_count": 32,
   "id": "1d74316e",
   "metadata": {},
   "outputs": [
    {
     "data": {
      "text/plain": [
       "array([1, 2])"
      ]
     },
     "execution_count": 32,
     "metadata": {},
     "output_type": "execute_result"
    }
   ],
   "source": [
    "X[0, 0, 0]"
   ]
  },
  {
   "cell_type": "code",
   "execution_count": 33,
   "id": "28bec1c5",
   "metadata": {},
   "outputs": [],
   "source": [
    "A = np.array([\n",
    "    [3, 5, 7],\n",
    "    [4, 6, 8]\n",
    "])"
   ]
  },
  {
   "cell_type": "code",
   "execution_count": 34,
   "id": "7b213ae4",
   "metadata": {},
   "outputs": [
    {
     "data": {
      "text/plain": [
       "array([3, 5, 7])"
      ]
     },
     "execution_count": 34,
     "metadata": {},
     "output_type": "execute_result"
    }
   ],
   "source": [
    "A[0]"
   ]
  },
  {
   "cell_type": "code",
   "execution_count": 35,
   "id": "fc3c1fd6",
   "metadata": {},
   "outputs": [
    {
     "data": {
      "text/plain": [
       "array([3, 5, 7])"
      ]
     },
     "execution_count": 35,
     "metadata": {},
     "output_type": "execute_result"
    }
   ],
   "source": [
    "A[0, :]"
   ]
  },
  {
   "cell_type": "code",
   "execution_count": 23,
   "id": "03b57727",
   "metadata": {},
   "outputs": [
    {
     "name": "stdout",
     "output_type": "stream",
     "text": [
      "<class 'numpy.ndarray'> (2,)\n"
     ]
    },
    {
     "data": {
      "text/plain": [
       "array([11, 17, 23])"
      ]
     },
     "execution_count": 23,
     "metadata": {},
     "output_type": "execute_result"
    }
   ],
   "source": [
    "# r is interpreted as a row vector\n",
    "r = np.array([1, 2])\n",
    "print(type(r), r.shape)\n",
    "r @ A"
   ]
  },
  {
   "cell_type": "code",
   "execution_count": 24,
   "id": "e38f5d7f",
   "metadata": {},
   "outputs": [
    {
     "name": "stdout",
     "output_type": "stream",
     "text": [
      "<class 'numpy.ndarray'> (3,)\n"
     ]
    },
    {
     "data": {
      "text/plain": [
       "array([34, 40])"
      ]
     },
     "execution_count": 24,
     "metadata": {},
     "output_type": "execute_result"
    }
   ],
   "source": [
    "# v is interpreted as a column vector\n",
    "v = np.array([1, 2, 3])\n",
    "print(type(v), v.shape)\n",
    "A @ v"
   ]
  },
  {
   "cell_type": "code",
   "execution_count": 37,
   "id": "1d509d6a",
   "metadata": {},
   "outputs": [
    {
     "ename": "ValueError",
     "evalue": "invalid literal for int() with base 10: 'A'",
     "output_type": "error",
     "traceback": [
      "\u001b[0;31m---------------------------------------------------------------------------\u001b[0m",
      "\u001b[0;31mValueError\u001b[0m                                Traceback (most recent call last)",
      "Cell \u001b[0;32mIn [37], line 1\u001b[0m\n\u001b[0;32m----> 1\u001b[0m \u001b[39mint\u001b[39;49m(\u001b[39m\"\u001b[39;49m\u001b[39mA\u001b[39;49m\u001b[39m\"\u001b[39;49m)\n",
      "\u001b[0;31mValueError\u001b[0m: invalid literal for int() with base 10: 'A'"
     ]
    }
   ],
   "source": [
    "int(\"A\")"
   ]
  },
  {
   "cell_type": "code",
   "execution_count": 38,
   "id": "ca483e52",
   "metadata": {},
   "outputs": [
    {
     "data": {
      "text/plain": [
       "65"
      ]
     },
     "execution_count": 38,
     "metadata": {},
     "output_type": "execute_result"
    }
   ],
   "source": [
    "ord(\"A\")"
   ]
  },
  {
   "cell_type": "code",
   "execution_count": 39,
   "id": "a92a788e",
   "metadata": {},
   "outputs": [
    {
     "data": {
      "text/plain": [
       "97"
      ]
     },
     "execution_count": 39,
     "metadata": {},
     "output_type": "execute_result"
    }
   ],
   "source": [
    "ord(\"a\")"
   ]
  },
  {
   "cell_type": "code",
   "execution_count": 44,
   "id": "ba177ab2",
   "metadata": {},
   "outputs": [
    {
     "data": {
      "text/plain": [
       "'0x41'"
      ]
     },
     "execution_count": 44,
     "metadata": {},
     "output_type": "execute_result"
    }
   ],
   "source": [
    "hex(65)"
   ]
  },
  {
   "cell_type": "code",
   "execution_count": 42,
   "id": "600fe89c",
   "metadata": {},
   "outputs": [
    {
     "data": {
      "text/plain": [
       "'0b1000001'"
      ]
     },
     "execution_count": 42,
     "metadata": {},
     "output_type": "execute_result"
    }
   ],
   "source": [
    "bin(0x41)"
   ]
  },
  {
   "cell_type": "code",
   "execution_count": 43,
   "id": "2a4aef63",
   "metadata": {},
   "outputs": [
    {
     "data": {
      "text/plain": [
       "65"
      ]
     },
     "execution_count": 43,
     "metadata": {},
     "output_type": "execute_result"
    }
   ],
   "source": [
    "int(0x41)"
   ]
  },
  {
   "cell_type": "code",
   "execution_count": null,
   "id": "75bbd238",
   "metadata": {},
   "outputs": [],
   "source": []
  }
 ],
 "metadata": {
  "kernelspec": {
   "display_name": "ai",
   "language": "python",
   "name": "python3"
  },
  "language_info": {
   "codemirror_mode": {
    "name": "ipython",
    "version": 3
   },
   "file_extension": ".py",
   "mimetype": "text/x-python",
   "name": "python",
   "nbconvert_exporter": "python",
   "pygments_lexer": "ipython3",
   "version": "3.10.6"
  },
  "vscode": {
   "interpreter": {
    "hash": "c957e4ca480fc31da01b2648e097b4e55db834b6351128636991f182c884d81e"
   }
  }
 },
 "nbformat": 4,
 "nbformat_minor": 5
}
