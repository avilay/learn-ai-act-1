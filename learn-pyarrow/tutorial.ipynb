{
 "cells": [
  {
   "cell_type": "code",
   "execution_count": 27,
   "metadata": {},
   "outputs": [],
   "source": [
    "import pyarrow as pa\n",
    "import pyarrow.parquet as pq\n",
    "import pyarrow.compute as pc\n",
    "from pyarrow import csv\n",
    "import pyarrow.dataset as ds\n",
    "from pathlib import Path"
   ]
  },
  {
   "cell_type": "code",
   "execution_count": 3,
   "metadata": {},
   "outputs": [],
   "source": [
    "days = pa.array([1, 12, 17, 23, 28], type=pa.int8())\n",
    "months = pa.array([1, 3, 4, 7, 1], type=pa.int8())\n",
    "years = pa.array([1990, 2000, 1995, 2000, 1995], type=pa.int16())"
   ]
  },
  {
   "cell_type": "code",
   "execution_count": 4,
   "metadata": {},
   "outputs": [
    {
     "data": {
      "text/plain": [
       "pyarrow.Table\n",
       "day: int8\n",
       "month: int8\n",
       "year: int16\n",
       "----\n",
       "day: [[1,12,17,23,28]]\n",
       "month: [[1,3,4,7,1]]\n",
       "year: [[1990,2000,1995,2000,1995]]"
      ]
     },
     "execution_count": 4,
     "metadata": {},
     "output_type": "execute_result"
    }
   ],
   "source": [
    "bdays = pa.table([days, months, years], names=[\"day\", \"month\", \"year\"])\n",
    "bdays"
   ]
  },
  {
   "cell_type": "code",
   "execution_count": 5,
   "metadata": {},
   "outputs": [
    {
     "data": {
      "text/plain": [
       "<pyarrow.lib.ChunkedArray object at 0x128e619e0>\n",
       "[\n",
       "  [\n",
       "    1,\n",
       "    12,\n",
       "    17,\n",
       "    23,\n",
       "    28\n",
       "  ]\n",
       "]"
      ]
     },
     "execution_count": 5,
     "metadata": {},
     "output_type": "execute_result"
    }
   ],
   "source": [
    "bdays[0]"
   ]
  },
  {
   "cell_type": "code",
   "execution_count": 6,
   "metadata": {},
   "outputs": [
    {
     "data": {
      "text/plain": [
       "<pyarrow.lib.ChunkedArray object at 0x128e63a10>\n",
       "[\n",
       "  [\n",
       "    1,\n",
       "    3,\n",
       "    4,\n",
       "    7,\n",
       "    1\n",
       "  ]\n",
       "]"
      ]
     },
     "execution_count": 6,
     "metadata": {},
     "output_type": "execute_result"
    }
   ],
   "source": [
    "bdays[1]"
   ]
  },
  {
   "cell_type": "code",
   "execution_count": 7,
   "metadata": {},
   "outputs": [
    {
     "data": {
      "text/plain": [
       "<pyarrow.lib.ChunkedArray object at 0x128e63790>\n",
       "[\n",
       "  [\n",
       "    1990,\n",
       "    2000,\n",
       "    1995,\n",
       "    2000,\n",
       "    1995\n",
       "  ]\n",
       "]"
      ]
     },
     "execution_count": 7,
     "metadata": {},
     "output_type": "execute_result"
    }
   ],
   "source": [
    "bdays[2]"
   ]
  },
  {
   "cell_type": "markdown",
   "metadata": {},
   "source": [
    "Even though the array is chunked, `bdays[0][0]` will get me the first element after all the chunked elements have been flattened."
   ]
  },
  {
   "cell_type": "code",
   "execution_count": 14,
   "metadata": {},
   "outputs": [
    {
     "data": {
      "text/plain": [
       "<pyarrow.Int8Scalar: 1>"
      ]
     },
     "execution_count": 14,
     "metadata": {},
     "output_type": "execute_result"
    }
   ],
   "source": [
    "bdays[0][0]"
   ]
  },
  {
   "cell_type": "code",
   "execution_count": 13,
   "metadata": {},
   "outputs": [
    {
     "data": {
      "text/plain": [
       "['__class__',\n",
       " '__delattr__',\n",
       " '__dir__',\n",
       " '__doc__',\n",
       " '__eq__',\n",
       " '__format__',\n",
       " '__ge__',\n",
       " '__getattribute__',\n",
       " '__gt__',\n",
       " '__hash__',\n",
       " '__init__',\n",
       " '__init_subclass__',\n",
       " '__le__',\n",
       " '__lt__',\n",
       " '__ne__',\n",
       " '__new__',\n",
       " '__pyx_vtable__',\n",
       " '__reduce__',\n",
       " '__reduce_ex__',\n",
       " '__repr__',\n",
       " '__setattr__',\n",
       " '__sizeof__',\n",
       " '__str__',\n",
       " '__subclasshook__',\n",
       " 'as_py',\n",
       " 'cast',\n",
       " 'equals',\n",
       " 'is_valid',\n",
       " 'type']"
      ]
     },
     "execution_count": 13,
     "metadata": {},
     "output_type": "execute_result"
    }
   ],
   "source": [
    "dir(bdays[0][0])"
   ]
  },
  {
   "cell_type": "code",
   "execution_count": 26,
   "metadata": {},
   "outputs": [],
   "source": [
    "def row(table, i):\n",
    "    return tuple(table[j][i].as_py() for j in range(table.num_columns))"
   ]
  },
  {
   "cell_type": "code",
   "execution_count": 27,
   "metadata": {},
   "outputs": [
    {
     "name": "stdout",
     "output_type": "stream",
     "text": [
      "(1, 1, 1990)\n",
      "(12, 3, 2000)\n",
      "(17, 4, 1995)\n",
      "(23, 7, 2000)\n",
      "(28, 1, 1995)\n"
     ]
    }
   ],
   "source": [
    "for i in range(bdays.num_rows):\n",
    "    print(row(bdays, i))"
   ]
  },
  {
   "cell_type": "code",
   "execution_count": 30,
   "metadata": {},
   "outputs": [],
   "source": [
    "pq.write_table(bdays, \"bdays.parquet\")"
   ]
  },
  {
   "cell_type": "code",
   "execution_count": 31,
   "metadata": {},
   "outputs": [],
   "source": [
    "bdays2 = pq.read_table(\"bdays.parquet\")"
   ]
  },
  {
   "cell_type": "code",
   "execution_count": 32,
   "metadata": {},
   "outputs": [
    {
     "data": {
      "text/plain": [
       "pyarrow.Table\n",
       "day: int8\n",
       "month: int8\n",
       "year: int16\n",
       "----\n",
       "day: [[1,12,17,23,28]]\n",
       "month: [[1,3,4,7,1]]\n",
       "year: [[1990,2000,1995,2000,1995]]"
      ]
     },
     "execution_count": 32,
     "metadata": {},
     "output_type": "execute_result"
    }
   ],
   "source": [
    "bdays2"
   ]
  },
  {
   "cell_type": "code",
   "execution_count": 37,
   "metadata": {},
   "outputs": [
    {
     "data": {
      "text/plain": [
       "<pyarrow.lib.StructArray object at 0x138d75420>\n",
       "-- is_valid: all not null\n",
       "-- child 0 type: int16\n",
       "  [\n",
       "    1990,\n",
       "    2000,\n",
       "    1995\n",
       "  ]\n",
       "-- child 1 type: int64\n",
       "  [\n",
       "    1,\n",
       "    2,\n",
       "    2\n",
       "  ]"
      ]
     },
     "execution_count": 37,
     "metadata": {},
     "output_type": "execute_result"
    }
   ],
   "source": [
    "year_vals = pc.value_counts(bdays[\"year\"])\n",
    "year_vals"
   ]
  },
  {
   "cell_type": "code",
   "execution_count": 38,
   "metadata": {},
   "outputs": [
    {
     "data": {
      "text/plain": [
       "['__array__',\n",
       " '__class__',\n",
       " '__delattr__',\n",
       " '__dir__',\n",
       " '__doc__',\n",
       " '__eq__',\n",
       " '__format__',\n",
       " '__ge__',\n",
       " '__getattribute__',\n",
       " '__getitem__',\n",
       " '__gt__',\n",
       " '__hash__',\n",
       " '__init__',\n",
       " '__init_subclass__',\n",
       " '__iter__',\n",
       " '__le__',\n",
       " '__len__',\n",
       " '__lt__',\n",
       " '__ne__',\n",
       " '__new__',\n",
       " '__pyx_vtable__',\n",
       " '__reduce__',\n",
       " '__reduce_ex__',\n",
       " '__repr__',\n",
       " '__setattr__',\n",
       " '__setstate__',\n",
       " '__sizeof__',\n",
       " '__str__',\n",
       " '__subclasshook__',\n",
       " '_debug_print',\n",
       " '_export_to_c',\n",
       " '_import_from_c',\n",
       " '_name',\n",
       " '_to_pandas',\n",
       " 'buffers',\n",
       " 'cast',\n",
       " 'dictionary_encode',\n",
       " 'diff',\n",
       " 'drop_null',\n",
       " 'equals',\n",
       " 'field',\n",
       " 'fill_null',\n",
       " 'filter',\n",
       " 'flatten',\n",
       " 'format',\n",
       " 'from_arrays',\n",
       " 'from_buffers',\n",
       " 'from_pandas',\n",
       " 'get_total_buffer_size',\n",
       " 'index',\n",
       " 'is_null',\n",
       " 'is_valid',\n",
       " 'nbytes',\n",
       " 'null_count',\n",
       " 'offset',\n",
       " 'slice',\n",
       " 'sum',\n",
       " 'take',\n",
       " 'to_numpy',\n",
       " 'to_pandas',\n",
       " 'to_pylist',\n",
       " 'to_string',\n",
       " 'tolist',\n",
       " 'type',\n",
       " 'unique',\n",
       " 'validate',\n",
       " 'value_counts',\n",
       " 'view']"
      ]
     },
     "execution_count": 38,
     "metadata": {},
     "output_type": "execute_result"
    }
   ],
   "source": [
    "dir(year_vals)"
   ]
  },
  {
   "cell_type": "code",
   "execution_count": 40,
   "metadata": {},
   "outputs": [
    {
     "data": {
      "text/plain": [
       "0    {'values': 1990, 'counts': 1}\n",
       "1    {'values': 2000, 'counts': 2}\n",
       "2    {'values': 1995, 'counts': 2}\n",
       "dtype: object"
      ]
     },
     "execution_count": 40,
     "metadata": {},
     "output_type": "execute_result"
    }
   ],
   "source": [
    "year_vals.to_pandas()"
   ]
  },
  {
   "cell_type": "code",
   "execution_count": 41,
   "metadata": {},
   "outputs": [
    {
     "data": {
      "text/plain": [
       "['__class__',\n",
       " '__delattr__',\n",
       " '__dir__',\n",
       " '__doc__',\n",
       " '__eq__',\n",
       " '__format__',\n",
       " '__ge__',\n",
       " '__getattribute__',\n",
       " '__getitem__',\n",
       " '__gt__',\n",
       " '__hash__',\n",
       " '__init__',\n",
       " '__init_subclass__',\n",
       " '__le__',\n",
       " '__len__',\n",
       " '__lt__',\n",
       " '__ne__',\n",
       " '__new__',\n",
       " '__pyx_vtable__',\n",
       " '__reduce__',\n",
       " '__reduce_ex__',\n",
       " '__repr__',\n",
       " '__setattr__',\n",
       " '__setstate__',\n",
       " '__sizeof__',\n",
       " '__str__',\n",
       " '__subclasshook__',\n",
       " '_column',\n",
       " '_ensure_integer_index',\n",
       " '_to_pandas',\n",
       " 'add_column',\n",
       " 'append_column',\n",
       " 'cast',\n",
       " 'column',\n",
       " 'column_names',\n",
       " 'columns',\n",
       " 'combine_chunks',\n",
       " 'drop',\n",
       " 'drop_null',\n",
       " 'equals',\n",
       " 'field',\n",
       " 'filter',\n",
       " 'flatten',\n",
       " 'from_arrays',\n",
       " 'from_batches',\n",
       " 'from_pandas',\n",
       " 'from_pydict',\n",
       " 'from_pylist',\n",
       " 'get_total_buffer_size',\n",
       " 'group_by',\n",
       " 'itercolumns',\n",
       " 'join',\n",
       " 'nbytes',\n",
       " 'num_columns',\n",
       " 'num_rows',\n",
       " 'remove_column',\n",
       " 'rename_columns',\n",
       " 'replace_schema_metadata',\n",
       " 'schema',\n",
       " 'select',\n",
       " 'set_column',\n",
       " 'shape',\n",
       " 'slice',\n",
       " 'sort_by',\n",
       " 'take',\n",
       " 'to_batches',\n",
       " 'to_pandas',\n",
       " 'to_pydict',\n",
       " 'to_pylist',\n",
       " 'to_reader',\n",
       " 'to_string',\n",
       " 'unify_dictionaries',\n",
       " 'validate']"
      ]
     },
     "execution_count": 41,
     "metadata": {},
     "output_type": "execute_result"
    }
   ],
   "source": [
    "dir(bdays)"
   ]
  },
  {
   "cell_type": "code",
   "execution_count": 42,
   "metadata": {},
   "outputs": [
    {
     "data": {
      "text/plain": [
       "pyarrow.Table\n",
       "day: int8\n",
       "month: int8\n",
       "year: int16\n",
       "----\n",
       "day: [[1,12,17,23,28]]\n",
       "month: [[1,3,4,7,1]]\n",
       "year: [[1990,2000,1995,2000,1995]]"
      ]
     },
     "execution_count": 42,
     "metadata": {},
     "output_type": "execute_result"
    }
   ],
   "source": [
    "bdays.flatten()"
   ]
  },
  {
   "cell_type": "code",
   "execution_count": 3,
   "metadata": {},
   "outputs": [],
   "source": [
    "filepath = \"/Users/avilay/temp/kaggle-criteo-small/train_small_00.tsv\"\n",
    "criteo = csv.read_csv(\n",
    "    filepath, \n",
    "    read_options=csv.ReadOptions(autogenerate_column_names=True),\n",
    "    parse_options=csv.ParseOptions(delimiter=\"\\t\")\n",
    ")"
   ]
  },
  {
   "cell_type": "code",
   "execution_count": 8,
   "metadata": {},
   "outputs": [
    {
     "data": {
      "text/plain": [
       "1000000"
      ]
     },
     "execution_count": 8,
     "metadata": {},
     "output_type": "execute_result"
    }
   ],
   "source": [
    "len(criteo)"
   ]
  },
  {
   "cell_type": "code",
   "execution_count": 11,
   "metadata": {},
   "outputs": [
    {
     "data": {
      "text/plain": [
       "<pyarrow.StringScalar: 'ce8e716d'>"
      ]
     },
     "execution_count": 11,
     "metadata": {},
     "output_type": "execute_result"
    }
   ],
   "source": [
    "criteo[23][0]"
   ]
  },
  {
   "cell_type": "code",
   "execution_count": 14,
   "metadata": {},
   "outputs": [],
   "source": [
    "filepath = \"/Users/avilay/temp/kaggle-criteo-small/train_small_00.parquet.gz\"\n",
    "pq.write_table(criteo, filepath, compression=\"gzip\")"
   ]
  },
  {
   "cell_type": "code",
   "execution_count": 15,
   "metadata": {},
   "outputs": [
    {
     "data": {
      "text/plain": [
       "pyarrow.Table\n",
       "f0: int64\n",
       "f1: int64\n",
       "f2: int64\n",
       "f3: int64\n",
       "f4: int64\n",
       "f5: int64\n",
       "f6: int64\n",
       "f7: int64\n",
       "f8: int64\n",
       "f9: int64\n",
       "f10: int64\n",
       "f11: int64\n",
       "f12: int64\n",
       "f13: int64\n",
       "f14: string\n",
       "f15: string\n",
       "f16: string\n",
       "f17: string\n",
       "f18: string\n",
       "f19: string\n",
       "f20: string\n",
       "f21: string\n",
       "f22: string\n",
       "f23: string\n",
       "f24: string\n",
       "f25: string\n",
       "f26: string\n",
       "f27: string\n",
       "f28: string\n",
       "f29: string\n",
       "f30: string\n",
       "f31: string\n",
       "f32: string\n",
       "f33: string\n",
       "f34: string\n",
       "f35: string\n",
       "f36: string\n",
       "f37: string\n",
       "f38: string\n",
       "f39: string\n",
       "----\n",
       "f0: [[0,1,0,0,0,...,0,1,0,0,0],[0,0,1,0,1,...,0,0,1,0,0],...,[0,0,0,1,0,...,0,0,0,0,1],[0,0,1,0,0,...,0,0,0,0,0]]\n",
       "f1: [[null,1,null,null,2,...,14,0,1,0,null],[null,4,0,null,9,...,null,null,1,0,null],...,[3,null,null,null,2,...,2,null,7,null,null],[null,null,0,15,24,...,0,null,null,0,null]]\n",
       "f2: [[253,35,3,0,0,...,1,574,0,45,36],[1,11,5,1,1,...,366,3,6,-1,1],...,[-1,1,40,2,0,...,12,1,1393,-1,12],[0,1818,99,306,303,...,0,290,0,27,0]]\n",
       "f3: [[34,6,25,2,2,...,1,18,6,1,215],[1,9,null,2,82,...,1,3,17,14,null],...,[null,2,null,null,5,...,2,71,11,6,6],[5,null,6,4,1,...,1,66,16,null,92]]\n",
       "f4: [[3,8,25,25,null,...,6,3,2,null,4],[null,41,2,null,28,...,0,null,2,5,null],...,[null,7,null,null,4,...,4,25,2,1,2],[2,null,5,9,1,...,1,2,6,null,17]]\n",
       "f5: [[5490,1219,8491,4226,571,...,14,3159,1121,2659,6007],[32562,5,3699,30612,90,...,10,80723,8,17232,418747],...,[953,21568,null,11468,737,...,2,3585,14,null,150984],[27624,15792,2966,1150,0,...,2828,5595,66669,3906,40]]\n",
       "f6: [[427,37,97,84,2,...,2,449,33,114,213],[2248,41,103,58,41,...,null,null,4,544,null],...,[0,483,null,211,46,...,4,null,2,null,null],[1152,120,6,9,0,...,146,178,null,427,null]]\n",
       "f7: [[11,1,3,33,4,...,45,2,2,5,5],[0,18,36,5,9,...,0,0,4,15,0],...,[3,6,null,4,2,...,33,0,29,0,0],[0,4,1,52,125,...,3,2,0,8,0]]\n",
       "f8: [[3,29,26,33,5,...,16,36,35,9,6],[0,35,22,0,31,...,0,0,3,5,1],...,[3,8,0,2,21,...,4,47,32,1,5],[2,0,6,39,17,...,47,10,8,9,47]]\n",
       "f9: [[173,25,44,194,76,...,85,234,130,34,6],[203,191,501,56,32,...,0,1,272,758,1761],...,[3,42,null,285,20,...,7,69,117,1,84],[72,17,6,256,275,...,158,9,18,41,43]]\n",
       "..."
      ]
     },
     "execution_count": 15,
     "metadata": {},
     "output_type": "execute_result"
    }
   ],
   "source": [
    "criteo"
   ]
  },
  {
   "cell_type": "code",
   "execution_count": 20,
   "metadata": {},
   "outputs": [
    {
     "data": {
      "text/plain": [
       "['label',\n",
       " 'i1',\n",
       " 'i2',\n",
       " 'i3',\n",
       " 'i4',\n",
       " 'i5',\n",
       " 'i6',\n",
       " 'i7',\n",
       " 'i8',\n",
       " 'i9',\n",
       " 'i10',\n",
       " 'i11',\n",
       " 'i12',\n",
       " 'i13',\n",
       " 's1',\n",
       " 's2',\n",
       " 's3',\n",
       " 's4',\n",
       " 's5',\n",
       " 's6',\n",
       " 's7',\n",
       " 's8',\n",
       " 's9',\n",
       " 's10',\n",
       " 's11',\n",
       " 's12',\n",
       " 's13',\n",
       " 's14',\n",
       " 's15',\n",
       " 's16',\n",
       " 's17',\n",
       " 's18',\n",
       " 's19',\n",
       " 's20',\n",
       " 's21',\n",
       " 's22',\n",
       " 's23',\n",
       " 's24',\n",
       " 's25',\n",
       " 's26']"
      ]
     },
     "execution_count": 20,
     "metadata": {},
     "output_type": "execute_result"
    }
   ],
   "source": [
    "intcols = [f\"i{i}\" for i in range(1, 14)]\n",
    "strcols = [f\"s{i}\" for i in range(1, 27)]\n",
    "colnames = [\"label\"] + intcols + strcols\n",
    "colnames"
   ]
  },
  {
   "cell_type": "code",
   "execution_count": 24,
   "metadata": {},
   "outputs": [
    {
     "data": {
      "text/plain": [
       "label: int8\n",
       "i1: int32\n",
       "i2: int32\n",
       "i3: int32\n",
       "i4: int32\n",
       "i5: int32\n",
       "i6: int32\n",
       "i7: int32\n",
       "i8: int32\n",
       "i9: int32\n",
       "i10: int32\n",
       "i11: int32\n",
       "i12: int32\n",
       "i13: int32\n",
       "s1: string\n",
       "s2: string\n",
       "s3: string\n",
       "s4: string\n",
       "s5: string\n",
       "s6: string\n",
       "s7: string\n",
       "s8: string\n",
       "s9: string\n",
       "s10: string\n",
       "s11: string\n",
       "s12: string\n",
       "s13: string\n",
       "s14: string\n",
       "s15: string\n",
       "s16: string\n",
       "s17: string\n",
       "s18: string\n",
       "s19: string\n",
       "s20: string\n",
       "s21: string\n",
       "s22: string\n",
       "s23: string\n",
       "s24: string\n",
       "s25: string\n",
       "s26: string"
      ]
     },
     "execution_count": 24,
     "metadata": {},
     "output_type": "execute_result"
    }
   ],
   "source": [
    "labelschema = [(\"label\", pa.int8())]\n",
    "intschema = [(colname, pa.int32()) for colname in intcols]\n",
    "strschema = [(colname, pa.string()) for colname in strcols]\n",
    "\n",
    "schema = pa.schema(labelschema + intschema + strschema)\n",
    "schema"
   ]
  },
  {
   "cell_type": "code",
   "execution_count": 26,
   "metadata": {},
   "outputs": [
    {
     "data": {
      "text/plain": [
       "<CsvFileFormat parse_options=<pyarrow._csv.ParseOptions object at 0x16a9e0980>>"
      ]
     },
     "execution_count": 26,
     "metadata": {},
     "output_type": "execute_result"
    }
   ],
   "source": [
    "fileformat = ds.CsvFileFormat(\n",
    "    parse_options=csv.ParseOptions(delimiter=\"\\t\"),\n",
    "    read_options=csv.ReadOptions(column_names=colnames)\n",
    ")\n",
    "fileformat"
   ]
  },
  {
   "cell_type": "code",
   "execution_count": 49,
   "metadata": {},
   "outputs": [
    {
     "data": {
      "text/plain": [
       "PosixPath('/Users/avilay/temp/criteo-kaggle-small/data/tsv')"
      ]
     },
     "execution_count": 49,
     "metadata": {},
     "output_type": "execute_result"
    }
   ],
   "source": [
    "src = Path.home() / Path(\"temp/criteo-kaggle-small/data/tsv\")\n",
    "src"
   ]
  },
  {
   "cell_type": "code",
   "execution_count": 50,
   "metadata": {},
   "outputs": [],
   "source": [
    "criteo = ds.dataset(source=src, schema=schema, format=fileformat)"
   ]
  },
  {
   "cell_type": "code",
   "execution_count": 51,
   "metadata": {},
   "outputs": [
    {
     "data": {
      "text/plain": [
       "['/Users/avilay/temp/criteo-kaggle-small/data/tsv/train_small_00.tsv',\n",
       " '/Users/avilay/temp/criteo-kaggle-small/data/tsv/train_small_01.tsv',\n",
       " '/Users/avilay/temp/criteo-kaggle-small/data/tsv/train_small_02.tsv',\n",
       " '/Users/avilay/temp/criteo-kaggle-small/data/tsv/train_small_03.tsv']"
      ]
     },
     "execution_count": 51,
     "metadata": {},
     "output_type": "execute_result"
    }
   ],
   "source": [
    "criteo.files"
   ]
  },
  {
   "cell_type": "code",
   "execution_count": 37,
   "metadata": {},
   "outputs": [],
   "source": [
    "# Reads all the files in memory\n",
    "criteo_tbl = criteo.to_table()"
   ]
  },
  {
   "cell_type": "code",
   "execution_count": 34,
   "metadata": {},
   "outputs": [
    {
     "data": {
      "text/plain": [
       "4000000"
      ]
     },
     "execution_count": 34,
     "metadata": {},
     "output_type": "execute_result"
    }
   ],
   "source": [
    "len(criteo_tbl)"
   ]
  },
  {
   "cell_type": "code",
   "execution_count": 35,
   "metadata": {},
   "outputs": [
    {
     "ename": "TypeError",
     "evalue": "object of type 'pyarrow._dataset.FileSystemDataset' has no len()",
     "output_type": "error",
     "traceback": [
      "\u001b[0;31m---------------------------------------------------------------------------\u001b[0m",
      "\u001b[0;31mTypeError\u001b[0m                                 Traceback (most recent call last)",
      "\u001b[1;32m/Users/avilay/projects/bitbucket/learn/learn-pyarrow/tutorial.ipynb Cell 33\u001b[0m in \u001b[0;36m<cell line: 1>\u001b[0;34m()\u001b[0m\n\u001b[0;32m----> <a href='vscode-notebook-cell:/Users/avilay/projects/bitbucket/learn/learn-pyarrow/tutorial.ipynb#X52sZmlsZQ%3D%3D?line=0'>1</a>\u001b[0m \u001b[39mlen\u001b[39;49m(criteo)\n",
      "\u001b[0;31mTypeError\u001b[0m: object of type 'pyarrow._dataset.FileSystemDataset' has no len()"
     ]
    }
   ],
   "source": [
    "len(criteo)"
   ]
  },
  {
   "cell_type": "code",
   "execution_count": 36,
   "metadata": {},
   "outputs": [
    {
     "data": {
      "text/plain": [
       "pyarrow.Table\n",
       "label: int8\n",
       "i1: int32\n",
       "i2: int32\n",
       "i3: int32\n",
       "i4: int32\n",
       "i5: int32\n",
       "i6: int32\n",
       "i7: int32\n",
       "i8: int32\n",
       "i9: int32\n",
       "i10: int32\n",
       "i11: int32\n",
       "i12: int32\n",
       "i13: int32\n",
       "s1: string\n",
       "s2: string\n",
       "s3: string\n",
       "s4: string\n",
       "s5: string\n",
       "s6: string\n",
       "s7: string\n",
       "s8: string\n",
       "s9: string\n",
       "s10: string\n",
       "s11: string\n",
       "s12: string\n",
       "s13: string\n",
       "s14: string\n",
       "s15: string\n",
       "s16: string\n",
       "s17: string\n",
       "s18: string\n",
       "s19: string\n",
       "s20: string\n",
       "s21: string\n",
       "s22: string\n",
       "s23: string\n",
       "s24: string\n",
       "s25: string\n",
       "s26: string\n",
       "----\n",
       "label: [[0,1,0,0,0,...,0,1,0,0,0],[0,0,1,0,1,...,0,0,1,0,0],...,[0,1,0,0,0,...,0,0,0,1,0],[1,1,1,0,0,...,0,0,0,0,0]]\n",
       "i1: [[null,1,null,null,2,...,14,0,1,0,null],[null,4,0,null,9,...,null,null,1,0,null],...,[0,0,null,null,null,...,null,null,null,null,null],[null,null,1,2,1,...,0,null,null,0,10]]\n",
       "i2: [[253,35,3,0,0,...,1,574,0,45,36],[1,11,5,1,1,...,366,3,6,-1,1],...,[0,1,0,0,1,...,7,3,2,1,0],[2590,0,-1,24,13,...,107,1,39,46,507]]\n",
       "i3: [[34,6,25,2,2,...,1,18,6,1,215],[1,9,null,2,82,...,1,3,17,14,null],...,[66,16,2,23,1,...,2,1,10,null,85],[null,2,null,10,6,...,4,2,5,3,12]]\n",
       "i4: [[3,8,25,25,null,...,6,3,2,null,4],[null,41,2,null,28,...,0,null,2,5,null],...,[18,10,null,14,6,...,null,15,9,null,37],[6,null,null,10,6,...,1,2,6,null,2]]\n",
       "i5: [[5490,1219,8491,4226,571,...,14,3159,1121,2659,6007],[32562,5,3699,30612,90,...,10,80723,8,17232,418747],...,[1471,4574,1427,410,14286,...,26619,1136,0,5640,234],[319752,2862,144,11,175,...,2185,7629,4076,35294,1]]\n",
       "i6: [[427,37,97,84,2,...,2,449,33,114,213],[2248,41,103,58,41,...,null,null,4,544,null],...,[50,345,null,null,193,...,null,198,null,56,null],[null,0,12,10,20,...,284,375,10,1810,0]]\n",
       "i7: [[11,1,3,33,4,...,45,2,2,5,5],[0,18,36,5,9,...,0,0,4,15,0],...,[28,9,0,0,1,...,null,8,0,1,0],[0,171,8,2,15,...,1,5,2,8,10]]\n",
       "i8: [[3,29,26,33,5,...,16,36,35,9,6],[0,35,22,0,31,...,0,0,3,5,1],...,[19,21,37,37,6,...,0,32,38,0,49],[6,0,22,10,33,...,40,31,6,0,2]]\n",
       "i9: [[173,25,44,194,76,...,85,234,130,34,6],[203,191,501,56,32,...,0,1,272,758,1761],...,[293,251,36,127,6,...,null,213,95,9,52],[6,18,104,10,157,...,413,206,15,400,7]]\n",
       "..."
      ]
     },
     "execution_count": 36,
     "metadata": {},
     "output_type": "execute_result"
    }
   ],
   "source": [
    "criteo_tbl"
   ]
  },
  {
   "cell_type": "code",
   "execution_count": 39,
   "metadata": {},
   "outputs": [],
   "source": [
    "# Can also read in batches. Default batch_size is suppoed to be 1_000_000\n",
    "# but clearly this is not the case.\n",
    "batch_sizes = []\n",
    "for batch in criteo.to_batches():\n",
    "    batch_sizes.append(batch.num_rows)"
   ]
  },
  {
   "cell_type": "code",
   "execution_count": 42,
   "metadata": {},
   "outputs": [
    {
     "data": {
      "text/plain": [
       "928"
      ]
     },
     "execution_count": 42,
     "metadata": {},
     "output_type": "execute_result"
    }
   ],
   "source": [
    "len(batch_sizes)"
   ]
  },
  {
   "cell_type": "code",
   "execution_count": 43,
   "metadata": {},
   "outputs": [
    {
     "data": {
      "text/plain": [
       "4000000"
      ]
     },
     "execution_count": 43,
     "metadata": {},
     "output_type": "execute_result"
    }
   ],
   "source": [
    "sum(batch_sizes)"
   ]
  },
  {
   "cell_type": "code",
   "execution_count": 44,
   "metadata": {},
   "outputs": [],
   "source": [
    "batch_sizes = [batch.num_rows for batch in criteo.to_batches(batch_size=1000)]\n"
   ]
  },
  {
   "cell_type": "code",
   "execution_count": 45,
   "metadata": {},
   "outputs": [
    {
     "data": {
      "text/plain": [
       "4636"
      ]
     },
     "execution_count": 45,
     "metadata": {},
     "output_type": "execute_result"
    }
   ],
   "source": [
    "len(batch_sizes)"
   ]
  },
  {
   "cell_type": "code",
   "execution_count": 46,
   "metadata": {},
   "outputs": [
    {
     "data": {
      "text/plain": [
       "4000000"
      ]
     },
     "execution_count": 46,
     "metadata": {},
     "output_type": "execute_result"
    }
   ],
   "source": [
    "sum(batch_sizes)"
   ]
  },
  {
   "cell_type": "code",
   "execution_count": 47,
   "metadata": {},
   "outputs": [
    {
     "data": {
      "text/plain": [
       "[1000,\n",
       " 1000,\n",
       " 1000,\n",
       " 1000,\n",
       " 321,\n",
       " 1000,\n",
       " 1000,\n",
       " 1000,\n",
       " 1000,\n",
       " 308,\n",
       " 1000,\n",
       " 1000,\n",
       " 1000,\n",
       " 1000,\n",
       " 316,\n",
       " 1000,\n",
       " 1000,\n",
       " 1000,\n",
       " 1000,\n",
       " 311,\n",
       " 1000,\n",
       " 1000,\n",
       " 1000,\n",
       " 1000,\n",
       " 316,\n",
       " 1000,\n",
       " 1000,\n",
       " 1000,\n",
       " 1000,\n",
       " 314,\n",
       " 1000,\n",
       " 1000,\n",
       " 1000,\n",
       " 1000,\n",
       " 313,\n",
       " 1000,\n",
       " 1000,\n",
       " 1000,\n",
       " 1000,\n",
       " 313,\n",
       " 1000,\n",
       " 1000,\n",
       " 1000,\n",
       " 1000,\n",
       " 313,\n",
       " 1000,\n",
       " 1000,\n",
       " 1000,\n",
       " 1000,\n",
       " 314,\n",
       " 1000,\n",
       " 1000,\n",
       " 1000,\n",
       " 1000,\n",
       " 303,\n",
       " 1000,\n",
       " 1000,\n",
       " 1000,\n",
       " 1000,\n",
       " 306,\n",
       " 1000,\n",
       " 1000,\n",
       " 1000,\n",
       " 1000,\n",
       " 316,\n",
       " 1000,\n",
       " 1000,\n",
       " 1000,\n",
       " 1000,\n",
       " 308,\n",
       " 1000,\n",
       " 1000,\n",
       " 1000,\n",
       " 1000,\n",
       " 311,\n",
       " 1000,\n",
       " 1000,\n",
       " 1000,\n",
       " 1000,\n",
       " 306,\n",
       " 1000,\n",
       " 1000,\n",
       " 1000,\n",
       " 1000,\n",
       " 303,\n",
       " 1000,\n",
       " 1000,\n",
       " 1000,\n",
       " 1000,\n",
       " 305,\n",
       " 1000,\n",
       " 1000,\n",
       " 1000,\n",
       " 1000,\n",
       " 304,\n",
       " 1000,\n",
       " 1000,\n",
       " 1000,\n",
       " 1000,\n",
       " 317,\n",
       " 1000,\n",
       " 1000,\n",
       " 1000,\n",
       " 1000,\n",
       " 315,\n",
       " 1000,\n",
       " 1000,\n",
       " 1000,\n",
       " 1000,\n",
       " 308,\n",
       " 1000,\n",
       " 1000,\n",
       " 1000,\n",
       " 1000,\n",
       " 312,\n",
       " 1000,\n",
       " 1000,\n",
       " 1000,\n",
       " 1000,\n",
       " 310,\n",
       " 1000,\n",
       " 1000,\n",
       " 1000,\n",
       " 1000,\n",
       " 315,\n",
       " 1000,\n",
       " 1000,\n",
       " 1000,\n",
       " 1000,\n",
       " 312,\n",
       " 1000,\n",
       " 1000,\n",
       " 1000,\n",
       " 1000,\n",
       " 312,\n",
       " 1000,\n",
       " 1000,\n",
       " 1000,\n",
       " 1000,\n",
       " 316,\n",
       " 1000,\n",
       " 1000,\n",
       " 1000,\n",
       " 1000,\n",
       " 315,\n",
       " 1000,\n",
       " 1000,\n",
       " 1000,\n",
       " 1000,\n",
       " 321,\n",
       " 1000,\n",
       " 1000,\n",
       " 1000,\n",
       " 1000,\n",
       " 313,\n",
       " 1000,\n",
       " 1000,\n",
       " 1000,\n",
       " 1000,\n",
       " 305,\n",
       " 1000,\n",
       " 1000,\n",
       " 1000,\n",
       " 1000,\n",
       " 306,\n",
       " 1000,\n",
       " 1000,\n",
       " 1000,\n",
       " 1000,\n",
       " 310,\n",
       " 1000,\n",
       " 1000,\n",
       " 1000,\n",
       " 1000,\n",
       " 308,\n",
       " 1000,\n",
       " 1000,\n",
       " 1000,\n",
       " 1000,\n",
       " 305,\n",
       " 1000,\n",
       " 1000,\n",
       " 1000,\n",
       " 1000,\n",
       " 311,\n",
       " 1000,\n",
       " 1000,\n",
       " 1000,\n",
       " 1000,\n",
       " 319,\n",
       " 1000,\n",
       " 1000,\n",
       " 1000,\n",
       " 1000,\n",
       " 310,\n",
       " 1000,\n",
       " 1000,\n",
       " 1000,\n",
       " 1000,\n",
       " 319,\n",
       " 1000,\n",
       " 1000,\n",
       " 1000,\n",
       " 1000,\n",
       " 309,\n",
       " 1000,\n",
       " 1000,\n",
       " 1000,\n",
       " 1000,\n",
       " 305,\n",
       " 1000,\n",
       " 1000,\n",
       " 1000,\n",
       " 1000,\n",
       " 317,\n",
       " 1000,\n",
       " 1000,\n",
       " 1000,\n",
       " 1000,\n",
       " 311,\n",
       " 1000,\n",
       " 1000,\n",
       " 1000,\n",
       " 1000,\n",
       " 311,\n",
       " 1000,\n",
       " 1000,\n",
       " 1000,\n",
       " 1000,\n",
       " 323,\n",
       " 1000,\n",
       " 1000,\n",
       " 1000,\n",
       " 1000,\n",
       " 311,\n",
       " 1000,\n",
       " 1000,\n",
       " 1000,\n",
       " 1000,\n",
       " 298,\n",
       " 1000,\n",
       " 1000,\n",
       " 1000,\n",
       " 1000,\n",
       " 304,\n",
       " 1000,\n",
       " 1000,\n",
       " 1000,\n",
       " 1000,\n",
       " 316,\n",
       " 1000,\n",
       " 1000,\n",
       " 1000,\n",
       " 1000,\n",
       " 313,\n",
       " 1000,\n",
       " 1000,\n",
       " 1000,\n",
       " 1000,\n",
       " 311,\n",
       " 1000,\n",
       " 1000,\n",
       " 1000,\n",
       " 1000,\n",
       " 299,\n",
       " 1000,\n",
       " 1000,\n",
       " 1000,\n",
       " 1000,\n",
       " 308,\n",
       " 1000,\n",
       " 1000,\n",
       " 1000,\n",
       " 1000,\n",
       " 315,\n",
       " 1000,\n",
       " 1000,\n",
       " 1000,\n",
       " 1000,\n",
       " 301,\n",
       " 1000,\n",
       " 1000,\n",
       " 1000,\n",
       " 1000,\n",
       " 310,\n",
       " 1000,\n",
       " 1000,\n",
       " 1000,\n",
       " 1000,\n",
       " 319,\n",
       " 1000,\n",
       " 1000,\n",
       " 1000,\n",
       " 1000,\n",
       " 318,\n",
       " 1000,\n",
       " 1000,\n",
       " 1000,\n",
       " 1000,\n",
       " 305,\n",
       " 1000,\n",
       " 1000,\n",
       " 1000,\n",
       " 1000,\n",
       " 308,\n",
       " 1000,\n",
       " 1000,\n",
       " 1000,\n",
       " 1000,\n",
       " 314,\n",
       " 1000,\n",
       " 1000,\n",
       " 1000,\n",
       " 1000,\n",
       " 318,\n",
       " 1000,\n",
       " 1000,\n",
       " 1000,\n",
       " 1000,\n",
       " 313,\n",
       " 1000,\n",
       " 1000,\n",
       " 1000,\n",
       " 1000,\n",
       " 310,\n",
       " 1000,\n",
       " 1000,\n",
       " 1000,\n",
       " 1000,\n",
       " 312,\n",
       " 1000,\n",
       " 1000,\n",
       " 1000,\n",
       " 1000,\n",
       " 317,\n",
       " 1000,\n",
       " 1000,\n",
       " 1000,\n",
       " 1000,\n",
       " 305,\n",
       " 1000,\n",
       " 1000,\n",
       " 1000,\n",
       " 1000,\n",
       " 311,\n",
       " 1000,\n",
       " 1000,\n",
       " 1000,\n",
       " 1000,\n",
       " 311,\n",
       " 1000,\n",
       " 1000,\n",
       " 1000,\n",
       " 1000,\n",
       " 296,\n",
       " 1000,\n",
       " 1000,\n",
       " 1000,\n",
       " 1000,\n",
       " 315,\n",
       " 1000,\n",
       " 1000,\n",
       " 1000,\n",
       " 1000,\n",
       " 317,\n",
       " 1000,\n",
       " 1000,\n",
       " 1000,\n",
       " 1000,\n",
       " 312,\n",
       " 1000,\n",
       " 1000,\n",
       " 1000,\n",
       " 1000,\n",
       " 312,\n",
       " 1000,\n",
       " 1000,\n",
       " 1000,\n",
       " 1000,\n",
       " 311,\n",
       " 1000,\n",
       " 1000,\n",
       " 1000,\n",
       " 1000,\n",
       " 315,\n",
       " 1000,\n",
       " 1000,\n",
       " 1000,\n",
       " 1000,\n",
       " 315,\n",
       " 1000,\n",
       " 1000,\n",
       " 1000,\n",
       " 1000,\n",
       " 310,\n",
       " 1000,\n",
       " 1000,\n",
       " 1000,\n",
       " 1000,\n",
       " 310,\n",
       " 1000,\n",
       " 1000,\n",
       " 1000,\n",
       " 1000,\n",
       " 320,\n",
       " 1000,\n",
       " 1000,\n",
       " 1000,\n",
       " 1000,\n",
       " 306,\n",
       " 1000,\n",
       " 1000,\n",
       " 1000,\n",
       " 1000,\n",
       " 317,\n",
       " 1000,\n",
       " 1000,\n",
       " 1000,\n",
       " 1000,\n",
       " 320,\n",
       " 1000,\n",
       " 1000,\n",
       " 1000,\n",
       " 1000,\n",
       " 321,\n",
       " 1000,\n",
       " 1000,\n",
       " 1000,\n",
       " 1000,\n",
       " 307,\n",
       " 1000,\n",
       " 1000,\n",
       " 1000,\n",
       " 1000,\n",
       " 325,\n",
       " 1000,\n",
       " 1000,\n",
       " 1000,\n",
       " 1000,\n",
       " 314,\n",
       " 1000,\n",
       " 1000,\n",
       " 1000,\n",
       " 1000,\n",
       " 310,\n",
       " 1000,\n",
       " 1000,\n",
       " 1000,\n",
       " 1000,\n",
       " 307,\n",
       " 1000,\n",
       " 1000,\n",
       " 1000,\n",
       " 1000,\n",
       " 320,\n",
       " 1000,\n",
       " 1000,\n",
       " 1000,\n",
       " 1000,\n",
       " 311,\n",
       " 1000,\n",
       " 1000,\n",
       " 1000,\n",
       " 1000,\n",
       " 313,\n",
       " 1000,\n",
       " 1000,\n",
       " 1000,\n",
       " 1000,\n",
       " 309,\n",
       " 1000,\n",
       " 1000,\n",
       " 1000,\n",
       " 1000,\n",
       " 311,\n",
       " 1000,\n",
       " 1000,\n",
       " 1000,\n",
       " 1000,\n",
       " 315,\n",
       " 1000,\n",
       " 1000,\n",
       " 1000,\n",
       " 1000,\n",
       " 305,\n",
       " 1000,\n",
       " 1000,\n",
       " 1000,\n",
       " 1000,\n",
       " 316,\n",
       " 1000,\n",
       " 1000,\n",
       " 1000,\n",
       " 1000,\n",
       " 307,\n",
       " 1000,\n",
       " 1000,\n",
       " 1000,\n",
       " 1000,\n",
       " 314,\n",
       " 1000,\n",
       " 1000,\n",
       " 1000,\n",
       " 1000,\n",
       " 309,\n",
       " 1000,\n",
       " 1000,\n",
       " 1000,\n",
       " 1000,\n",
       " 319,\n",
       " 1000,\n",
       " 1000,\n",
       " 1000,\n",
       " 1000,\n",
       " 313,\n",
       " 1000,\n",
       " 1000,\n",
       " 1000,\n",
       " 1000,\n",
       " 314,\n",
       " 1000,\n",
       " 1000,\n",
       " 1000,\n",
       " 1000,\n",
       " 312,\n",
       " 1000,\n",
       " 1000,\n",
       " 1000,\n",
       " 1000,\n",
       " 326,\n",
       " 1000,\n",
       " 1000,\n",
       " 1000,\n",
       " 1000,\n",
       " 314,\n",
       " 1000,\n",
       " 1000,\n",
       " 1000,\n",
       " 1000,\n",
       " 312,\n",
       " 1000,\n",
       " 1000,\n",
       " 1000,\n",
       " 1000,\n",
       " 304,\n",
       " 1000,\n",
       " 1000,\n",
       " 1000,\n",
       " 1000,\n",
       " 315,\n",
       " 1000,\n",
       " 1000,\n",
       " 1000,\n",
       " 1000,\n",
       " 310,\n",
       " 1000,\n",
       " 1000,\n",
       " 1000,\n",
       " 1000,\n",
       " 309,\n",
       " 1000,\n",
       " 1000,\n",
       " 1000,\n",
       " 1000,\n",
       " 322,\n",
       " 1000,\n",
       " 1000,\n",
       " 1000,\n",
       " 1000,\n",
       " 307,\n",
       " 1000,\n",
       " 1000,\n",
       " 1000,\n",
       " 1000,\n",
       " 319,\n",
       " 1000,\n",
       " 1000,\n",
       " 1000,\n",
       " 1000,\n",
       " 313,\n",
       " 1000,\n",
       " 1000,\n",
       " 1000,\n",
       " 1000,\n",
       " 314,\n",
       " 1000,\n",
       " 1000,\n",
       " 1000,\n",
       " 1000,\n",
       " 315,\n",
       " 1000,\n",
       " 1000,\n",
       " 1000,\n",
       " 1000,\n",
       " 322,\n",
       " 1000,\n",
       " 1000,\n",
       " 1000,\n",
       " 1000,\n",
       " 307,\n",
       " 1000,\n",
       " 1000,\n",
       " 1000,\n",
       " 1000,\n",
       " 310,\n",
       " 1000,\n",
       " 1000,\n",
       " 1000,\n",
       " 1000,\n",
       " 311,\n",
       " 1000,\n",
       " 1000,\n",
       " 1000,\n",
       " 1000,\n",
       " 307,\n",
       " 1000,\n",
       " 1000,\n",
       " 1000,\n",
       " 1000,\n",
       " 309,\n",
       " 1000,\n",
       " 1000,\n",
       " 1000,\n",
       " 1000,\n",
       " 308,\n",
       " 1000,\n",
       " 1000,\n",
       " 1000,\n",
       " 1000,\n",
       " 306,\n",
       " 1000,\n",
       " 1000,\n",
       " 1000,\n",
       " 1000,\n",
       " 318,\n",
       " 1000,\n",
       " 1000,\n",
       " 1000,\n",
       " 1000,\n",
       " 315,\n",
       " 1000,\n",
       " 1000,\n",
       " 1000,\n",
       " 1000,\n",
       " 311,\n",
       " 1000,\n",
       " 1000,\n",
       " 1000,\n",
       " 1000,\n",
       " 304,\n",
       " 1000,\n",
       " 1000,\n",
       " 1000,\n",
       " 1000,\n",
       " 314,\n",
       " 1000,\n",
       " 1000,\n",
       " 1000,\n",
       " 1000,\n",
       " 313,\n",
       " 1000,\n",
       " 1000,\n",
       " 1000,\n",
       " 1000,\n",
       " 311,\n",
       " 1000,\n",
       " 1000,\n",
       " 1000,\n",
       " 1000,\n",
       " 311,\n",
       " 1000,\n",
       " 1000,\n",
       " 1000,\n",
       " 1000,\n",
       " 315,\n",
       " 1000,\n",
       " 1000,\n",
       " 1000,\n",
       " 1000,\n",
       " 305,\n",
       " 1000,\n",
       " 1000,\n",
       " 1000,\n",
       " 1000,\n",
       " 311,\n",
       " 1000,\n",
       " 1000,\n",
       " 1000,\n",
       " 1000,\n",
       " 319,\n",
       " 1000,\n",
       " 1000,\n",
       " 1000,\n",
       " 1000,\n",
       " 318,\n",
       " 1000,\n",
       " 1000,\n",
       " 1000,\n",
       " 1000,\n",
       " 317,\n",
       " 1000,\n",
       " 1000,\n",
       " 1000,\n",
       " 1000,\n",
       " 316,\n",
       " 1000,\n",
       " 1000,\n",
       " 1000,\n",
       " 1000,\n",
       " 313,\n",
       " 1000,\n",
       " 1000,\n",
       " 1000,\n",
       " 1000,\n",
       " 304,\n",
       " 1000,\n",
       " 1000,\n",
       " 1000,\n",
       " 1000,\n",
       " 305,\n",
       " 1000,\n",
       " 1000,\n",
       " 1000,\n",
       " 1000,\n",
       " 307,\n",
       " 1000,\n",
       " 1000,\n",
       " 1000,\n",
       " 1000,\n",
       " 317,\n",
       " 1000,\n",
       " 1000,\n",
       " 1000,\n",
       " 1000,\n",
       " 309,\n",
       " 1000,\n",
       " 1000,\n",
       " 1000,\n",
       " 1000,\n",
       " 310,\n",
       " 1000,\n",
       " 1000,\n",
       " 1000,\n",
       " 1000,\n",
       " 319,\n",
       " 1000,\n",
       " 1000,\n",
       " 1000,\n",
       " 1000,\n",
       " 317,\n",
       " 1000,\n",
       " 1000,\n",
       " 1000,\n",
       " 1000,\n",
       " 322,\n",
       " 1000,\n",
       " 1000,\n",
       " 1000,\n",
       " 1000,\n",
       " 314,\n",
       " 1000,\n",
       " 1000,\n",
       " 1000,\n",
       " 1000,\n",
       " 316,\n",
       " 1000,\n",
       " 1000,\n",
       " 1000,\n",
       " 1000,\n",
       " 311,\n",
       " 1000,\n",
       " 1000,\n",
       " 1000,\n",
       " 1000,\n",
       " 310,\n",
       " 1000,\n",
       " 1000,\n",
       " 1000,\n",
       " 1000,\n",
       " 313,\n",
       " 1000,\n",
       " 1000,\n",
       " 1000,\n",
       " 1000,\n",
       " 309,\n",
       " 1000,\n",
       " 1000,\n",
       " 1000,\n",
       " 1000,\n",
       " 311,\n",
       " 1000,\n",
       " 1000,\n",
       " 1000,\n",
       " 1000,\n",
       " 302,\n",
       " 1000,\n",
       " 1000,\n",
       " 1000,\n",
       " 1000,\n",
       " 315,\n",
       " 1000,\n",
       " 1000,\n",
       " 1000,\n",
       " 1000,\n",
       " 310,\n",
       " 1000,\n",
       " 1000,\n",
       " 1000,\n",
       " 1000,\n",
       " 314,\n",
       " 1000,\n",
       " 1000,\n",
       " 1000,\n",
       " 1000,\n",
       " 309,\n",
       " 1000,\n",
       " 1000,\n",
       " 1000,\n",
       " 1000,\n",
       " 306,\n",
       " 1000,\n",
       " 1000,\n",
       " 1000,\n",
       " 1000,\n",
       " 310,\n",
       " 1000,\n",
       " 1000,\n",
       " 1000,\n",
       " 1000,\n",
       " 308,\n",
       " 1000,\n",
       " 1000,\n",
       " 1000,\n",
       " 1000,\n",
       " 313,\n",
       " 1000,\n",
       " 1000,\n",
       " 1000,\n",
       " 1000,\n",
       " 314,\n",
       " 1000,\n",
       " 1000,\n",
       " 1000,\n",
       " 1000,\n",
       " 308,\n",
       " 1000,\n",
       " 1000,\n",
       " 1000,\n",
       " 1000,\n",
       " 321,\n",
       " 1000,\n",
       " 1000,\n",
       " 1000,\n",
       " 1000,\n",
       " 306,\n",
       " 1000,\n",
       " 1000,\n",
       " 1000,\n",
       " 1000,\n",
       " 315,\n",
       " 1000,\n",
       " 1000,\n",
       " 1000,\n",
       " 1000,\n",
       " 321,\n",
       " 1000,\n",
       " 1000,\n",
       " 1000,\n",
       " 1000,\n",
       " 314,\n",
       " 1000,\n",
       " 1000,\n",
       " 1000,\n",
       " 1000,\n",
       " 317,\n",
       " 1000,\n",
       " 1000,\n",
       " 1000,\n",
       " 1000,\n",
       " 312,\n",
       " 1000,\n",
       " 1000,\n",
       " 1000,\n",
       " 1000,\n",
       " 307,\n",
       " 1000,\n",
       " 1000,\n",
       " 1000,\n",
       " 1000,\n",
       " 312,\n",
       " 1000,\n",
       " 1000,\n",
       " 1000,\n",
       " 1000,\n",
       " 316,\n",
       " 1000,\n",
       " 1000,\n",
       " 1000,\n",
       " 1000,\n",
       " 318,\n",
       " 1000,\n",
       " 1000,\n",
       " 1000,\n",
       " 1000,\n",
       " 322,\n",
       " 1000,\n",
       " 1000,\n",
       " 1000,\n",
       " 1000,\n",
       " 299,\n",
       " 1000,\n",
       " 1000,\n",
       " 1000,\n",
       " 1000,\n",
       " 310,\n",
       " 1000,\n",
       " 1000,\n",
       " 1000,\n",
       " 1000,\n",
       " 307,\n",
       " 1000,\n",
       " 1000,\n",
       " 1000,\n",
       " 1000,\n",
       " 309,\n",
       " 1000,\n",
       " 1000,\n",
       " 1000,\n",
       " 1000,\n",
       " 309,\n",
       " 1000,\n",
       " 1000,\n",
       " 1000,\n",
       " 1000,\n",
       " 317,\n",
       " 1000,\n",
       " 1000,\n",
       " 1000,\n",
       " 1000,\n",
       " 313,\n",
       " 1000,\n",
       " 1000,\n",
       " 1000,\n",
       " 1000,\n",
       " 319,\n",
       " 1000,\n",
       " 1000,\n",
       " 1000,\n",
       " 1000,\n",
       " 314,\n",
       " 1000,\n",
       " 1000,\n",
       " 1000,\n",
       " 1000,\n",
       " 309,\n",
       " 1000,\n",
       " 1000,\n",
       " 1000,\n",
       " 1000,\n",
       " 314,\n",
       " 1000,\n",
       " 1000,\n",
       " 1000,\n",
       " 1000,\n",
       " 310,\n",
       " 1000,\n",
       " 1000,\n",
       " 1000,\n",
       " 1000,\n",
       " 305,\n",
       " 1000,\n",
       " 1000,\n",
       " 1000,\n",
       " 1000,\n",
       " 305,\n",
       " 1000,\n",
       " 1000,\n",
       " 1000,\n",
       " 1000,\n",
       " 305,\n",
       " 1000,\n",
       " 1000,\n",
       " 1000,\n",
       " 1000,\n",
       " 315,\n",
       " 1000,\n",
       " 1000,\n",
       " 1000,\n",
       " 1000,\n",
       " 297,\n",
       " 1000,\n",
       " 1000,\n",
       " 1000,\n",
       " 1000,\n",
       " 312,\n",
       " 1000,\n",
       " 1000,\n",
       " 1000,\n",
       " 1000,\n",
       " 307,\n",
       " ...]"
      ]
     },
     "execution_count": 47,
     "metadata": {},
     "output_type": "execute_result"
    }
   ],
   "source": [
    "batch_sizes"
   ]
  },
  {
   "cell_type": "code",
   "execution_count": 52,
   "metadata": {},
   "outputs": [
    {
     "data": {
      "text/plain": [
       "pyarrow._dataset.FileSystemDataset"
      ]
     },
     "execution_count": 52,
     "metadata": {},
     "output_type": "execute_result"
    }
   ],
   "source": [
    "type(criteo)"
   ]
  },
  {
   "cell_type": "code",
   "execution_count": 53,
   "metadata": {},
   "outputs": [
    {
     "data": {
      "text/plain": [
       "PosixPath('/Users/avilay/temp/criteo-kaggle-small/data/parquet')"
      ]
     },
     "execution_count": 53,
     "metadata": {},
     "output_type": "execute_result"
    }
   ],
   "source": [
    "dst = Path.home() / Path(\"temp/criteo-kaggle-small/data/parquet\")\n",
    "dst"
   ]
  },
  {
   "cell_type": "code",
   "execution_count": 54,
   "metadata": {},
   "outputs": [
    {
     "ename": "TypeError",
     "evalue": "write_dataset() got an unexpected keyword argument 'compression'",
     "output_type": "error",
     "traceback": [
      "\u001b[0;31m---------------------------------------------------------------------------\u001b[0m",
      "\u001b[0;31mTypeError\u001b[0m                                 Traceback (most recent call last)",
      "\u001b[1;32m/Users/avilay/projects/bitbucket/learn/learn-pyarrow/tutorial.ipynb Cell 44\u001b[0m in \u001b[0;36m<cell line: 1>\u001b[0;34m()\u001b[0m\n\u001b[0;32m----> <a href='vscode-notebook-cell:/Users/avilay/projects/bitbucket/learn/learn-pyarrow/tutorial.ipynb#X66sZmlsZQ%3D%3D?line=0'>1</a>\u001b[0m ds\u001b[39m.\u001b[39;49mwrite_dataset(criteo, dst, \u001b[39mformat\u001b[39;49m\u001b[39m=\u001b[39;49m\u001b[39m\"\u001b[39;49m\u001b[39mparquet\u001b[39;49m\u001b[39m\"\u001b[39;49m, compression\u001b[39m=\u001b[39;49m\u001b[39m\"\u001b[39;49m\u001b[39mgzip\u001b[39;49m\u001b[39m\"\u001b[39;49m)\n",
      "\u001b[0;31mTypeError\u001b[0m: write_dataset() got an unexpected keyword argument 'compression'"
     ]
    }
   ],
   "source": [
    "ds.write_dataset(criteo, dst, format=\"parquet\", compression=\"gzip\")"
   ]
  },
  {
   "cell_type": "code",
   "execution_count": 55,
   "metadata": {},
   "outputs": [
    {
     "data": {
      "text/plain": [
       "['__class__',\n",
       " '__delattr__',\n",
       " '__dir__',\n",
       " '__doc__',\n",
       " '__eq__',\n",
       " '__format__',\n",
       " '__ge__',\n",
       " '__getattribute__',\n",
       " '__gt__',\n",
       " '__hash__',\n",
       " '__init__',\n",
       " '__init_subclass__',\n",
       " '__le__',\n",
       " '__lt__',\n",
       " '__ne__',\n",
       " '__new__',\n",
       " '__pyx_vtable__',\n",
       " '__reduce__',\n",
       " '__reduce_ex__',\n",
       " '__repr__',\n",
       " '__setattr__',\n",
       " '__setstate__',\n",
       " '__sizeof__',\n",
       " '__str__',\n",
       " '__subclasshook__',\n",
       " 'format']"
      ]
     },
     "execution_count": 55,
     "metadata": {},
     "output_type": "execute_result"
    }
   ],
   "source": [
    "dir(ds.FileWriteOptions)"
   ]
  },
  {
   "cell_type": "code",
   "execution_count": 65,
   "metadata": {},
   "outputs": [
    {
     "data": {
      "text/plain": [
       "<pyarrow._dataset_parquet.ParquetFileWriteOptions at 0x173bf60e0>"
      ]
     },
     "execution_count": 65,
     "metadata": {},
     "output_type": "execute_result"
    }
   ],
   "source": [
    "# This does not seem to work\n",
    "ff = ds.ParquetFileFormat()\n",
    "wo = ff.make_write_options(compression=\"gzip\")\n",
    "wo"
   ]
  },
  {
   "cell_type": "code",
   "execution_count": 67,
   "metadata": {},
   "outputs": [],
   "source": [
    "ds.write_dataset(criteo, dst, format=\"parquet\", file_options=wo)"
   ]
  },
  {
   "cell_type": "code",
   "execution_count": 60,
   "metadata": {},
   "outputs": [],
   "source": [
    "train_small_size = 928\n",
    "train_small_00_size = 232\n",
    "train_small_00_pq_size = 65\n",
    "train_small_00_gz_size = 47\n",
    "train_small_pq_size = 376"
   ]
  },
  {
   "cell_type": "code",
   "execution_count": 61,
   "metadata": {},
   "outputs": [
    {
     "data": {
      "text/plain": [
       "0.2801724137931034"
      ]
     },
     "execution_count": 61,
     "metadata": {},
     "output_type": "execute_result"
    }
   ],
   "source": [
    "train_small_00_pq_size / train_small_00_size"
   ]
  },
  {
   "cell_type": "code",
   "execution_count": 63,
   "metadata": {},
   "outputs": [
    {
     "data": {
      "text/plain": [
       "0.2025862068965517"
      ]
     },
     "execution_count": 63,
     "metadata": {},
     "output_type": "execute_result"
    }
   ],
   "source": [
    "train_small_00_gz_size / train_small_00_size"
   ]
  },
  {
   "cell_type": "code",
   "execution_count": 64,
   "metadata": {},
   "outputs": [
    {
     "data": {
      "text/plain": [
       "0.4051724137931034"
      ]
     },
     "execution_count": 64,
     "metadata": {},
     "output_type": "execute_result"
    }
   ],
   "source": [
    "train_small_pq_size / train_small_size"
   ]
  },
  {
   "cell_type": "code",
   "execution_count": null,
   "metadata": {},
   "outputs": [],
   "source": []
  }
 ],
 "metadata": {
  "kernelspec": {
   "display_name": "Python 3.10.4 ('dev')",
   "language": "python",
   "name": "python3"
  },
  "language_info": {
   "codemirror_mode": {
    "name": "ipython",
    "version": 3
   },
   "file_extension": ".py",
   "mimetype": "text/x-python",
   "name": "python",
   "nbconvert_exporter": "python",
   "pygments_lexer": "ipython3",
   "version": "3.10.4"
  },
  "orig_nbformat": 4,
  "vscode": {
   "interpreter": {
    "hash": "248aaaef2ce54d580c63d0621ea4262f68d22105863a800468921850ea527b06"
   }
  }
 },
 "nbformat": 4,
 "nbformat_minor": 2
}
