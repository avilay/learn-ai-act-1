{
 "cells": [
  {
   "cell_type": "code",
   "execution_count": 1,
   "metadata": {},
   "outputs": [],
   "source": [
    "from dataclasses import dataclass\n",
    "import numpy as np\n",
    "import torch as t\n",
    "import torch.nn.functional as F\n",
    "import sklearn.datasets"
   ]
  },
  {
   "cell_type": "code",
   "execution_count": null,
   "metadata": {},
   "outputs": [],
   "source": [
    "NUM_SAMPLES = 100_000\n",
    "NUM_FEATURES = 5\n",
    "NOISE = 0.5\n",
    "DEVICE = t.device(\"cuda\" if t.cuda.is_available() else \"cpu\")\n",
    "DEVICE"
   ]
  },
  {
   "cell_type": "code",
   "execution_count": null,
   "metadata": {},
   "outputs": [],
   "source": [
    "all_X, all_y = sklearn.datasets.make_regression(n_samples=NUM_SAMPLES, n_features=NUM_FEATURES, noise=NOISE)\n",
    "print(all_X.shape, all_y.shape)"
   ]
  },
  {
   "cell_type": "code",
   "execution_count": null,
   "metadata": {},
   "outputs": [],
   "source": [
    "train_size = int(NUM_SAMPLES * 0.7)\n",
    "val_size = int(NUM_SAMPLES * 0.2)\n",
    "test_size = NUM_SAMPLES - train_size - val_size\n",
    "print(train_size, val_size, test_size)"
   ]
  },
  {
   "cell_type": "code",
   "execution_count": null,
   "metadata": {},
   "outputs": [],
   "source": [
    "train_X = all_X[:train_size]\n",
    "train_y = all_y[:train_size]\n",
    "trainset = t.utils.data.TensorDataset(t.from_numpy(train_X).to(t.float32), t.from_numpy(train_y).to(t.float32))"
   ]
  },
  {
   "cell_type": "code",
   "execution_count": null,
   "metadata": {},
   "outputs": [],
   "source": [
    "val_X = all_X[train_size:train_size+val_size]\n",
    "val_y = all_y[train_size:train_size+val_size]\n",
    "valset = t.utils.data.TensorDataset(t.from_numpy(val_X).to(t.float32), t.from_numpy(val_y).to(t.float32))"
   ]
  },
  {
   "cell_type": "code",
   "execution_count": null,
   "metadata": {},
   "outputs": [],
   "source": [
    "test_X = all_X[train_size+val_size:]\n",
    "test_y = all_y[train_size+val_size:]\n",
    "testset = t.utils.data.TensorDataset(t.from_numpy(test_X).to(t.float32), t.from_numpy(test_y).to(t.float32))"
   ]
  },
  {
   "cell_type": "code",
   "execution_count": null,
   "metadata": {},
   "outputs": [],
   "source": [
    "class SimpleLR(t.nn.Module):\n",
    "    def __init__(self):\n",
    "        super().__init__()\n",
    "        self.fc1 = t.nn.Linear(NUM_FEATURES, 3)\n",
    "        self.fc2 = t.nn.Linear(3, 1)\n",
    "        \n",
    "    def forward(self, batch_x):\n",
    "        x = F.relu(self.fc1(batch_x))\n",
    "        batch_y_hat = self.fc2(x)\n",
    "        return t.squeeze(batch_y_hat)"
   ]
  },
  {
   "cell_type": "code",
   "execution_count": null,
   "metadata": {},
   "outputs": [],
   "source": [
    "@dataclass\n",
    "class Hyperparams:\n",
    "    batch_size: int = 10\n",
    "    epochs: int = 10\n",
    "    learning_rate: float = 0.0001\n",
    "\n",
    "    def to_dict(self):\n",
    "        return {\n",
    "            \"batch_size\": self.batch_size,\n",
    "            \"epochs\": self.epochs,\n",
    "            \"learning_rate\": self.learning_rate\n",
    "        }"
   ]
  },
  {
   "cell_type": "code",
   "execution_count": null,
   "metadata": {},
   "outputs": [],
   "source": [
    "x, y = next(iter(trainset))\n",
    "batch_of_one = t.unsqueeze(x, 0)\n",
    "print(x.shape, batch_of_one.shape, x.dtype, y.shape)"
   ]
  },
  {
   "cell_type": "code",
   "execution_count": null,
   "metadata": {},
   "outputs": [],
   "source": [
    "SimpleLR().forward(batch_of_one)"
   ]
  },
  {
   "cell_type": "code",
   "execution_count": null,
   "metadata": {},
   "outputs": [],
   "source": [
    "dl = t.utils.data.DataLoader(valset, batch_size=5000)\n",
    "X, y = next(iter(dl))\n",
    "y_hat = SimpleLR().forward(X)\n",
    "print(X.shape, y.shape, y_hat.shape)\n",
    "rmse = t.sqrt(F.mse_loss(y, y_hat))\n",
    "rmse"
   ]
  },
  {
   "cell_type": "code",
   "execution_count": null,
   "metadata": {},
   "outputs": [],
   "source": [
    "def train(model, optim, loss_fn, epochs, trainloader, valloader):\n",
    "    model = model.to(DEVICE)\n",
    "    for epoch in range(epochs):\n",
    "        # Process the training set\n",
    "        train_losses = []\n",
    "        train_outputs = t.tensor([], dtype=t.float32)\n",
    "        train_targets = t.tensor([], dtype=t.float32)\n",
    "        model.train()\n",
    "        with t.enable_grad():\n",
    "            for batch_X, batch_y in trainloader:\n",
    "                batch_X = batch_X.to(DEVICE)\n",
    "                batch_y = batch_y.to(DEVICE)\n",
    "\n",
    "                optim.zero_grad()\n",
    "                batch_y_hat = model.forward(batch_X)\n",
    "                loss = loss_fn(batch_y_hat, batch_y)\n",
    "                loss.backward()\n",
    "                optim.step()\n",
    "\n",
    "                train_losses.append(loss.detach())\n",
    "                train_outputs = t.cat((train_outputs, batch_y_hat.detach()))\n",
    "                train_targets = t.cat((train_targets, batch_y.detach()))\n",
    "        train_loss = np.mean(train_losses)\n",
    "        train_rmse = t.sqrt(F.mse_loss(train_outputs, train_targets))\n",
    "\n",
    "        # Calculate the validation metrics\n",
    "        val_losses = []\n",
    "        val_outputs = t.tensor([], dtype=t.float32)\n",
    "        val_targets = t.tensor([], dtype=t.float32)\n",
    "        model.eval()\n",
    "        with t.no_grad():\n",
    "            for batch_X, batch_y in valloader:\n",
    "                batch_X = batch_X.to(DEVICE)\n",
    "                batch_y = batch_y.to(DEVICE)\n",
    "                batch_y_hat = model(batch_X)\n",
    "                loss = loss_fn(batch_y_hat, batch_y)\n",
    "                val_losses.append(loss.detach())\n",
    "                val_outputs = t.cat((val_outputs, batch_y_hat.detach()))\n",
    "                val_targets = t.cat((val_targets, batch_y.detach()))\n",
    "        val_loss = np.mean(val_losses)\n",
    "        val_rmse = t.sqrt(F.mse_loss(val_outputs, val_targets))\n",
    "\n",
    "        print(f\"\\nEpoch {epoch}:\")\n",
    "        print(f\"Loss: train={train_loss:.3f}, validation={val_loss:.3f}\")\n",
    "        print(f\"RMSE: train={train_rmse:.3f}, validaiton={val_rmse:.3f}\")"
   ]
  },
  {
   "cell_type": "code",
   "execution_count": null,
   "metadata": {},
   "outputs": [],
   "source": [
    "hparams = Hyperparams(batch_size=32, epochs=5, learning_rate=0.005)\n",
    "model = SimpleLR()\n",
    "optim = t.optim.Adam(model.parameters(), lr=hparams.learning_rate)\n",
    "loss_fn = t.nn.MSELoss(reduction=\"mean\")\n",
    "trainloader = t.utils.data.DataLoader(trainset, batch_size=hparams.batch_size, shuffle=True)\n",
    "valloader = t.utils.data.DataLoader(valset, batch_size=5000)"
   ]
  },
  {
   "cell_type": "code",
   "execution_count": null,
   "metadata": {},
   "outputs": [],
   "source": [
    "train(model, optim, loss_fn, hparams.epochs, trainloader, valloader)"
   ]
  },
  {
   "cell_type": "code",
   "execution_count": null,
   "metadata": {},
   "outputs": [],
   "source": [
    "testloader = t.utils.data.DataLoader(testset, batch_size=len(testset))\n",
    "X, y = next(iter(testloader))\n",
    "model.eval()\n",
    "with t.no_grad():\n",
    "    y_hat = model(X)\n",
    "    test_rmse = t.sqrt(F.mse_loss(y_hat, y))\n",
    "print(f\"Test RMSE={test_rmse:.3f}\")\n",
    "print(list(zip(y[:5].numpy(), y_hat[:5].numpy())))"
   ]
  },
  {
   "cell_type": "code",
   "execution_count": null,
   "metadata": {},
   "outputs": [],
   "source": []
  }
 ],
 "metadata": {
  "file_extension": ".py",
  "kernelspec": {
   "display_name": "Python 3",
   "language": "python",
   "name": "python3"
  },
  "language_info": {
   "codemirror_mode": {
    "name": "ipython",
    "version": 3
   },
   "file_extension": ".py",
   "mimetype": "text/x-python",
   "name": "python",
   "nbconvert_exporter": "python",
   "pygments_lexer": "ipython3",
   "version": "3.8.8"
  },
  "mimetype": "text/x-python",
  "name": "python",
  "npconvert_exporter": "python",
  "pygments_lexer": "ipython3",
  "version": 3
 },
 "nbformat": 4,
 "nbformat_minor": 4
}
