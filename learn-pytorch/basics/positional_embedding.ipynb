{
 "cells": [
  {
   "cell_type": "code",
   "execution_count": 1,
   "id": "3d0d761c",
   "metadata": {},
   "outputs": [],
   "source": [
    "import numpy as np"
   ]
  },
  {
   "cell_type": "code",
   "execution_count": 2,
   "id": "d123e29e",
   "metadata": {},
   "outputs": [],
   "source": [
    "np.set_printoptions(\n",
    "    edgeitems=30, \n",
    "    linewidth=100000, \n",
    "    precision=3,\n",
    "    suppress=True)"
   ]
  },
  {
   "cell_type": "markdown",
   "id": "9fd19187",
   "metadata": {},
   "source": [
    "## Code Copy/Pasted from TF Tuts\n",
    "https://www.tensorflow.org/text/tutorials/transformer#positional_encoding\n",
    "\n",
    "The `positional_encoding` takes in the largets position index and the embedding dimension as input and outputs all the position embeddings as rows in the output matrix. So the first row of the output matrix is the position embedding of position 0, the second row is for position 1 and so on.\n",
    "\n",
    "The weird `np.newaxis` is just converting a unidimensional array (of dimension $d$ say) to either a column vector ($d \\times 1$) or a row vector ($1 \\times d$)."
   ]
  },
  {
   "cell_type": "code",
   "execution_count": 3,
   "id": "a15fa3f0",
   "metadata": {},
   "outputs": [],
   "source": [
    "def get_angles(pos, i, d_model):\n",
    "    angle_rates = 1 / np.power(10000, (2 * (i//2)) / np.float32(d_model))\n",
    "    return pos * angle_rates"
   ]
  },
  {
   "cell_type": "code",
   "execution_count": 4,
   "id": "7a29fccf",
   "metadata": {},
   "outputs": [],
   "source": [
    "def positional_encoding(position, d_model):\n",
    "    angle_rads = get_angles(np.arange(position)[:, np.newaxis],\n",
    "                          np.arange(d_model)[np.newaxis, :],\n",
    "                          d_model)\n",
    "\n",
    "    # apply sin to even indices in the array; 2i\n",
    "    angle_rads[:, 0::2] = np.sin(angle_rads[:, 0::2])\n",
    "\n",
    "    # apply cos to odd indices in the array; 2i+1\n",
    "    angle_rads[:, 1::2] = np.cos(angle_rads[:, 1::2])\n",
    "\n",
    "    pos_encoding = angle_rads[np.newaxis, ...]\n",
    "    return pos_encoding"
   ]
  },
  {
   "cell_type": "code",
   "execution_count": 5,
   "id": "de028c9e",
   "metadata": {},
   "outputs": [],
   "source": [
    "n, d = 7, 6\n",
    "p = positional_encoding(n, d)"
   ]
  },
  {
   "cell_type": "code",
   "execution_count": 6,
   "id": "592fbd4a",
   "metadata": {},
   "outputs": [
    {
     "data": {
      "text/plain": [
       "array([[ 0.   ,  1.   ,  0.   ,  1.   ,  0.   ,  1.   ],\n",
       "       [ 0.841,  0.54 ,  0.046,  0.999,  0.002,  1.   ],\n",
       "       [ 0.909, -0.416,  0.093,  0.996,  0.004,  1.   ],\n",
       "       [ 0.141, -0.99 ,  0.139,  0.99 ,  0.006,  1.   ],\n",
       "       [-0.757, -0.654,  0.185,  0.983,  0.009,  1.   ],\n",
       "       [-0.959,  0.284,  0.23 ,  0.973,  0.011,  1.   ],\n",
       "       [-0.279,  0.96 ,  0.275,  0.961,  0.013,  1.   ]])"
      ]
     },
     "execution_count": 6,
     "metadata": {},
     "output_type": "execute_result"
    }
   ],
   "source": [
    "p.squeeze()"
   ]
  },
  {
   "cell_type": "code",
   "execution_count": null,
   "id": "e366313a",
   "metadata": {},
   "outputs": [],
   "source": []
  },
  {
   "cell_type": "markdown",
   "id": "3d456555",
   "metadata": {},
   "source": [
    "For any word at the 4th position (index of position is 3) with a 6-D embedding, the position vector will be -\n",
    "\n",
    "$$\n",
    "\\begin{bmatrix}\n",
    "sin\\left( \\frac{3}{10000^{\\frac{0}{6}}} \\right) \\\\\n",
    "cos\\left( \\frac{3}{10000^{\\frac{0}{6}}} \\right) \\\\\n",
    "sin\\left( \\frac{3}{10000^{\\frac{2}{6}}} \\right) \\\\\n",
    "cos\\left( \\frac{3}{10000^{\\frac{2}{6}}} \\right) \\\\\n",
    "sin\\left( \\frac{3}{10000^{\\frac{4}{6}}} \\right) \\\\\n",
    "cos\\left( \\frac{3}{10000^{\\frac{4}{6}}} \\right) \\\\\n",
    "\\end{bmatrix}\n",
    "$$"
   ]
  },
  {
   "cell_type": "code",
   "execution_count": 7,
   "id": "dd99eb5d",
   "metadata": {},
   "outputs": [
    {
     "data": {
      "text/plain": [
       "array([ 0.141, -0.99 ,  0.139,  0.99 ,  0.006,  1.   ])"
      ]
     },
     "execution_count": 7,
     "metadata": {},
     "output_type": "execute_result"
    }
   ],
   "source": [
    "np.array([\n",
    "    np.sin(3/np.power(10_000, 0/6)),\n",
    "    np.cos(3/np.power(10_000, 0/6)),\n",
    "    np.sin(3/np.power(10_000, 2/6)),\n",
    "    np.cos(3/np.power(10_000, 2/6)),\n",
    "    np.sin(3/np.power(10_000, 4/6)),\n",
    "    np.cos(3/np.power(10_000, 4/6)),\n",
    "])"
   ]
  },
  {
   "cell_type": "code",
   "execution_count": null,
   "id": "bcf25182",
   "metadata": {},
   "outputs": [],
   "source": []
  }
 ],
 "metadata": {
  "interpreter": {
   "hash": "8ba8235a1606ca23cc2d8c876f2a91114e8c400077e8aca55c6a737b9911791a"
  },
  "kernelspec": {
   "display_name": "Python 3",
   "language": "python",
   "name": "python3"
  },
  "language_info": {
   "codemirror_mode": {
    "name": "ipython",
    "version": 3
   },
   "file_extension": ".py",
   "mimetype": "text/x-python",
   "name": "python",
   "nbconvert_exporter": "python",
   "pygments_lexer": "ipython3",
   "version": "3.8.8"
  }
 },
 "nbformat": 4,
 "nbformat_minor": 5
}
