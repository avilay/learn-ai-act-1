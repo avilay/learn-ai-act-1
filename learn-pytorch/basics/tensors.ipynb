{
 "cells": [
  {
   "cell_type": "code",
   "execution_count": 2,
   "metadata": {},
   "outputs": [],
   "source": [
    "import torch"
   ]
  },
  {
   "cell_type": "markdown",
   "metadata": {},
   "source": [
    "## Simple creational functions"
   ]
  },
  {
   "cell_type": "code",
   "execution_count": 2,
   "metadata": {},
   "outputs": [
    {
     "data": {
      "text/plain": [
       "tensor([[1.1000, 1.2000, 1.3000],\n",
       "        [2.1000, 2.2000, 2.3000],\n",
       "        [3.1000, 3.2000, 3.3000]])"
      ]
     },
     "execution_count": 2,
     "metadata": {},
     "output_type": "execute_result"
    }
   ],
   "source": [
    "x = torch.tensor([\n",
    "    [1.1, 1.2, 1.3],\n",
    "    [2.1, 2.2, 2.3],\n",
    "    [3.1, 3.2, 3.3]\n",
    "])\n",
    "x"
   ]
  },
  {
   "cell_type": "code",
   "execution_count": 3,
   "metadata": {},
   "outputs": [
    {
     "name": "stdout",
     "output_type": "stream",
     "text": [
      "tensor([[0, 0],\n",
      "        [0, 0],\n",
      "        [0, 0]])\n",
      "tensor([[[0., 0.],\n",
      "         [0., 0.]],\n",
      "\n",
      "        [[0., 0.],\n",
      "         [0., 0.]],\n",
      "\n",
      "        [[0., 0.],\n",
      "         [0., 0.]]])\n"
     ]
    }
   ],
   "source": [
    "x = torch.zeros(3, 2, dtype=torch.long)\n",
    "print(x)\n",
    "\n",
    "x = torch.zeros(3, 2, 2)\n",
    "print(x)"
   ]
  },
  {
   "cell_type": "code",
   "execution_count": 4,
   "metadata": {},
   "outputs": [
    {
     "data": {
      "text/plain": [
       "tensor([[1., 1.],\n",
       "        [1., 1.],\n",
       "        [1., 1.]])"
      ]
     },
     "execution_count": 4,
     "metadata": {},
     "output_type": "execute_result"
    }
   ],
   "source": [
    "x = torch.ones(3, 2)\n",
    "x"
   ]
  },
  {
   "cell_type": "code",
   "execution_count": 5,
   "metadata": {},
   "outputs": [
    {
     "data": {
      "text/plain": [
       "tensor([3, 5, 7, 9])"
      ]
     },
     "execution_count": 5,
     "metadata": {},
     "output_type": "execute_result"
    }
   ],
   "source": [
    "# Can only return 1D tensors\n",
    "x = torch.arange(3, 10, step=2)\n",
    "x"
   ]
  },
  {
   "cell_type": "code",
   "execution_count": 6,
   "metadata": {},
   "outputs": [
    {
     "data": {
      "text/plain": [
       "tensor([  1.0000,  25.7500,  50.5000,  75.2500, 100.0000])"
      ]
     },
     "execution_count": 6,
     "metadata": {},
     "output_type": "execute_result"
    }
   ],
   "source": [
    "# Can only return 1D tensors\n",
    "x = torch.linspace(1, 100, 5)\n",
    "x"
   ]
  },
  {
   "cell_type": "code",
   "execution_count": 7,
   "metadata": {},
   "outputs": [
    {
     "data": {
      "text/plain": [
       "tensor([   1.0000,    5.6234,   31.6228,  177.8279, 1000.0000])"
      ]
     },
     "execution_count": 7,
     "metadata": {},
     "output_type": "execute_result"
    }
   ],
   "source": [
    "# Can only return 1D tensors\n",
    "x = torch.logspace(0, 3, 5)\n",
    "x"
   ]
  },
  {
   "cell_type": "code",
   "execution_count": 8,
   "metadata": {},
   "outputs": [
    {
     "data": {
      "text/plain": [
       "tensor([[1., 0., 0.],\n",
       "        [0., 1., 0.],\n",
       "        [0., 0., 1.]])"
      ]
     },
     "execution_count": 8,
     "metadata": {},
     "output_type": "execute_result"
    }
   ],
   "source": [
    "x = torch.eye(3)\n",
    "x"
   ]
  },
  {
   "cell_type": "code",
   "execution_count": 9,
   "metadata": {},
   "outputs": [
    {
     "data": {
      "text/plain": [
       "tensor([[                              0.0000,\n",
       "                                      -0.0000],\n",
       "        [                              0.0000,\n",
       "         -158494878428494822970612514816.0000],\n",
       "        [                              0.0000,\n",
       "                                      -0.0000]])"
      ]
     },
     "execution_count": 9,
     "metadata": {},
     "output_type": "execute_result"
    }
   ],
   "source": [
    "x = torch.empty(3, 2)\n",
    "x"
   ]
  },
  {
   "cell_type": "code",
   "execution_count": 10,
   "metadata": {},
   "outputs": [
    {
     "data": {
      "text/plain": [
       "tensor([[3.1410, 3.1410],\n",
       "        [3.1410, 3.1410],\n",
       "        [3.1410, 3.1410]])"
      ]
     },
     "execution_count": 10,
     "metadata": {},
     "output_type": "execute_result"
    }
   ],
   "source": [
    "# Notice that the size is not a vararg but rather a tuple\n",
    "x = torch.full((3, 2), 3.141)\n",
    "x"
   ]
  },
  {
   "cell_type": "markdown",
   "metadata": {},
   "source": [
    "## Copy Shape\n",
    "Most of the creational functions also have a \\_like variant that will take in another tensor as input and the output tensor will have the same size."
   ]
  },
  {
   "cell_type": "code",
   "execution_count": 11,
   "metadata": {},
   "outputs": [
    {
     "data": {
      "text/plain": [
       "tensor([[ 0.0000e+00, -0.0000e+00],\n",
       "        [ 7.0012e-34, -2.0005e+00],\n",
       "        [ 1.2096e+04,  7.1846e+22]])"
      ]
     },
     "execution_count": 11,
     "metadata": {},
     "output_type": "execute_result"
    }
   ],
   "source": [
    "x = torch.ones(3, 2)\n",
    "y = torch.empty_like(x)\n",
    "y"
   ]
  },
  {
   "cell_type": "markdown",
   "metadata": {},
   "source": [
    "## Random sampling"
   ]
  },
  {
   "cell_type": "markdown",
   "metadata": {},
   "source": [
    "### Bernoulli Distribution"
   ]
  },
  {
   "cell_type": "code",
   "execution_count": 12,
   "metadata": {},
   "outputs": [
    {
     "name": "stdout",
     "output_type": "stream",
     "text": [
      "tensor([0.])\n",
      "tensor([1., 0., 1.])\n"
     ]
    }
   ],
   "source": [
    "# x is a Bernoulli random var with p = 0.6\n",
    "x = torch.bernoulli(torch.tensor([0.6]))\n",
    "print(x)\n",
    "\n",
    "# x is a vector whose each element is a Bernoulli random var\n",
    "# with p = 0.6, p = 0.1, and p = 0.5\n",
    "x = torch.bernoulli(torch.tensor([0.6, 0.1, 0.5]))\n",
    "print(x)"
   ]
  },
  {
   "cell_type": "markdown",
   "metadata": {},
   "source": [
    "### Multinomial Distribution\n",
    "TODO"
   ]
  },
  {
   "cell_type": "markdown",
   "metadata": {},
   "source": [
    "### Normal Distribution"
   ]
  },
  {
   "cell_type": "code",
   "execution_count": 13,
   "metadata": {},
   "outputs": [
    {
     "name": "stdout",
     "output_type": "stream",
     "text": [
      "tensor([-0.1415])\n",
      "tensor([-20.3099,  12.7078])\n"
     ]
    }
   ],
   "source": [
    "# x is a Normal random var with mu = 0 and sigma = 1\n",
    "x = torch.normal(torch.tensor([0.0]), torch.tensor([1.0]))\n",
    "print(x)\n",
    "\n",
    "# x is a 2 element vector whose each element is a Nomral random var\n",
    "# each with mu = 1.0 and 10.0 and sigma = 20.0 and 3.0\n",
    "x = torch.normal(torch.tensor([1.0, 10.0]), torch.tensor([20.0, 3.0]))\n",
    "print(x)"
   ]
  },
  {
   "cell_type": "code",
   "execution_count": 14,
   "metadata": {},
   "outputs": [
    {
     "name": "stdout",
     "output_type": "stream",
     "text": [
      "tensor([ 0.4165,  0.4517, -0.5298])\n",
      "tensor([[-0.7730,  0.6455],\n",
      "        [-0.1937,  0.8972],\n",
      "        [ 0.5274, -0.5598]])\n"
     ]
    }
   ],
   "source": [
    "# x is a Standard Normal var\n",
    "# Notice that size is again a vararg\n",
    "x = torch.randn(3)\n",
    "print(x)\n",
    "\n",
    "x = torch.randn(3, 2)\n",
    "print(x)"
   ]
  },
  {
   "cell_type": "markdown",
   "metadata": {},
   "source": [
    "### Uniform Random Distribution"
   ]
  },
  {
   "cell_type": "code",
   "execution_count": 15,
   "metadata": {},
   "outputs": [
    {
     "name": "stdout",
     "output_type": "stream",
     "text": [
      "tensor([0.7030, 0.9506, 0.6843])\n",
      "tensor([[0.3634, 0.4702],\n",
      "        [0.4871, 0.9168],\n",
      "        [0.6610, 0.2250]])\n"
     ]
    }
   ],
   "source": [
    "# x is a uniform random var from [0, 1)\n",
    "x = torch.rand(3)\n",
    "print(x)\n",
    "\n",
    "x = torch.rand(3, 2)\n",
    "print(x)"
   ]
  },
  {
   "cell_type": "markdown",
   "metadata": {},
   "source": [
    "#### Random Integers"
   ]
  },
  {
   "cell_type": "code",
   "execution_count": 16,
   "metadata": {},
   "outputs": [
    {
     "name": "stdout",
     "output_type": "stream",
     "text": [
      "tensor([[19., 18.],\n",
      "        [18., 11.],\n",
      "        [17., 11.]])\n",
      "tensor([12., 19., 15.])\n"
     ]
    }
   ],
   "source": [
    "# x is a uniform random int from [low, high)\n",
    "# Notice that here again, size is a tuple instead of a vararg\n",
    "x = torch.randint(10, 20, (3, 2))\n",
    "print(x)\n",
    "\n",
    "x = torch.randint(10, 20, (3,))\n",
    "print(x)"
   ]
  },
  {
   "cell_type": "markdown",
   "metadata": {},
   "source": [
    "#### Random Permutation"
   ]
  },
  {
   "cell_type": "code",
   "execution_count": 17,
   "metadata": {},
   "outputs": [
    {
     "data": {
      "text/plain": [
       "tensor([3, 6, 0, 9, 2, 1, 7, 5, 8, 4])"
      ]
     },
     "execution_count": 17,
     "metadata": {},
     "output_type": "execute_result"
    }
   ],
   "source": [
    "# A random permutation of 0 to 9\n",
    "x = torch.randperm(10)\n",
    "x"
   ]
  },
  {
   "cell_type": "markdown",
   "metadata": {},
   "source": [
    "## Getting Values\n",
    "It is possible to do index slicing similar to numpy to get parts of a tensor as another tensor. But there is no way to get the tensor values as a Python `list`. For that it is best to first convert to numpy and then to `list`. Tensors are fully compatible with Numpy.\n",
    "\n",
    "!! IMPORTANT !!\n",
    "APIs for accessing tensors feel like they are returning a copy of the appropriate slice of the tensor, but in reality both the returned tensor/numpy and the original tensor/numpy share the same underlying numeric object."
   ]
  },
  {
   "cell_type": "code",
   "execution_count": 18,
   "metadata": {},
   "outputs": [
    {
     "name": "stdout",
     "output_type": "stream",
     "text": [
      "<class 'torch.Tensor'> torch.Size([3])\n",
      "tensor([4., 5., 6.])\n",
      "<class 'torch.Tensor'> torch.Size([3])\n",
      "tensor([2., 5., 8.])\n"
     ]
    }
   ],
   "source": [
    "# Using numpy style indexing will output a new tensor of the appropriate shape and values\n",
    "x = torch.tensor([[1., 2., 3.],\n",
    "                  [4., 5., 6.],\n",
    "                  [7., 8., 9.]])\n",
    "# Get the second row\n",
    "r = x[1, :]\n",
    "print(type(r), r.size())\n",
    "print(r)\n",
    "\n",
    "# Get the second column\n",
    "c = x[:, 1]\n",
    "print(type(c), c.size())\n",
    "print(c)"
   ]
  },
  {
   "cell_type": "code",
   "execution_count": 19,
   "metadata": {},
   "outputs": [
    {
     "name": "stdout",
     "output_type": "stream",
     "text": [
      "tensor([[   1.,    2.,    3.],\n",
      "        [9999.,    5.,    6.],\n",
      "        [   7.,    8.,    9.]])\n",
      "tensor([9999.,    5.,    6.])\n",
      "tensor([[   1.,    2.,    3.],\n",
      "        [7777.,    5.,    6.],\n",
      "        [   7.,    8.,    9.]])\n",
      "tensor([7777.,    5.,    6.])\n"
     ]
    }
   ],
   "source": [
    "# Both the resulting and original tensor share the same underlying numerical object\n",
    "r[0] = 9999\n",
    "print(x)\n",
    "print(r)\n",
    "\n",
    "x[1,0] = 7777\n",
    "print(x)\n",
    "print(r)"
   ]
  },
  {
   "cell_type": "markdown",
   "metadata": {},
   "source": [
    "### Numpy Compat"
   ]
  },
  {
   "cell_type": "code",
   "execution_count": 20,
   "metadata": {},
   "outputs": [],
   "source": [
    "import numpy as np"
   ]
  },
  {
   "cell_type": "code",
   "execution_count": 21,
   "metadata": {},
   "outputs": [
    {
     "name": "stdout",
     "output_type": "stream",
     "text": [
      "torch.Size([2, 3])\n",
      "tensor([[1, 2, 3],\n",
      "        [4, 5, 6]])\n"
     ]
    }
   ],
   "source": [
    "x = np.array([[1, 2, 3],\n",
    "              [4, 5, 6]])\n",
    "xt = torch.from_numpy(x)\n",
    "print(xt.size())\n",
    "print(xt)"
   ]
  },
  {
   "cell_type": "code",
   "execution_count": 22,
   "metadata": {},
   "outputs": [
    {
     "name": "stdout",
     "output_type": "stream",
     "text": [
      "[[999   2   3]\n",
      " [  4   5   6]]\n",
      "tensor([[999,   2,   3],\n",
      "        [  4,   5,   6]])\n",
      "tensor([[777,   2,   3],\n",
      "        [  4,   5,   6]])\n",
      "[[777   2   3]\n",
      " [  4   5   6]]\n"
     ]
    }
   ],
   "source": [
    "# Both the ndrarray and Tensor objects share the same underlying data\n",
    "x[0,0] = 999\n",
    "print(x)\n",
    "print(xt)\n",
    "\n",
    "xt[0,0] = 777\n",
    "print(xt)\n",
    "print(x)"
   ]
  },
  {
   "cell_type": "code",
   "execution_count": 23,
   "metadata": {},
   "outputs": [
    {
     "name": "stdout",
     "output_type": "stream",
     "text": [
      "(3, 3)\n",
      "[[1 2 3]\n",
      " [4 5 6]\n",
      " [7 8 9]]\n"
     ]
    }
   ],
   "source": [
    "xt = torch.tensor([[1, 2, 3],\n",
    "                   [4, 5, 6],\n",
    "                   [7, 8, 9]])\n",
    "x = xt.numpy()\n",
    "print(x.shape)\n",
    "print(x)"
   ]
  },
  {
   "cell_type": "code",
   "execution_count": 24,
   "metadata": {},
   "outputs": [
    {
     "name": "stdout",
     "output_type": "stream",
     "text": [
      "tensor([[999,   2,   3],\n",
      "        [  4,   5,   6],\n",
      "        [  7,   8,   9]])\n",
      "[[999   2   3]\n",
      " [  4   5   6]\n",
      " [  7   8   9]]\n",
      "[[777   2   3]\n",
      " [  4   5   6]\n",
      " [  7   8   9]]\n",
      "tensor([[777,   2,   3],\n",
      "        [  4,   5,   6],\n",
      "        [  7,   8,   9]])\n"
     ]
    }
   ],
   "source": [
    "# Here too both the ndarray and Tensor object share the same underlying data\n",
    "xt[0,0] = 999\n",
    "print(xt)\n",
    "print(x)\n",
    "\n",
    "x[0,0] = 777\n",
    "print(x)\n",
    "print(xt)"
   ]
  },
  {
   "cell_type": "code",
   "execution_count": 25,
   "metadata": {},
   "outputs": [
    {
     "name": "stdout",
     "output_type": "stream",
     "text": [
      "<class 'torch.Tensor'> torch.Size([])\n",
      "tensor(1.)\n",
      "<class 'float'>\n",
      "1.0\n",
      "tensor([1., 2., 3.])\n",
      "999\n"
     ]
    }
   ],
   "source": [
    "# If I have a single value tensor, no need to convert it to a numpy ndarray. I can simply use item()\n",
    "x = torch.tensor([1., 2., 3.])\n",
    "v = x[0]\n",
    "w = v.item()\n",
    "print(type(v), v.size())\n",
    "print(v)\n",
    "print(type(w))\n",
    "print(w)\n",
    "\n",
    "# Unlike the other accessors we have seen so far, w is truly detached from the original tensor\n",
    "# Changing its value does not cause the original tensor's value to change\n",
    "w = 999\n",
    "print(x)\n",
    "print(w)"
   ]
  },
  {
   "cell_type": "markdown",
   "metadata": {},
   "source": [
    "## Reshaping Tensors\n",
    "Most commonly use the `view()` method to reshape a tensor. But there are two additional methods `resize_` and `reshape`. It is not clear which method to use when.\n",
    "\n",
    "!! IMPORTANT !! Again, the same caveat applies - both the original tensor and the resized tensor share teh same underlying data."
   ]
  },
  {
   "cell_type": "code",
   "execution_count": 26,
   "metadata": {},
   "outputs": [
    {
     "name": "stdout",
     "output_type": "stream",
     "text": [
      "tensor([[1., 2.],\n",
      "        [3., 4.],\n",
      "        [5., 6.]])\n"
     ]
    }
   ],
   "source": [
    "x = torch.tensor([[1., 2., 3.],\n",
    "                  [4., 5., 6.]])\n",
    "v = x.view(3, 2)\n",
    "print(v)"
   ]
  },
  {
   "cell_type": "code",
   "execution_count": 27,
   "metadata": {},
   "outputs": [
    {
     "name": "stdout",
     "output_type": "stream",
     "text": [
      "tensor([[9999.,    2.,    3.],\n",
      "        [   4.,    5.,    6.]])\n",
      "tensor([[9999.,    2.],\n",
      "        [   3.,    4.],\n",
      "        [   5.,    6.]])\n"
     ]
    }
   ],
   "source": [
    "v[0, 0] = 9999\n",
    "print(x)\n",
    "print(v)"
   ]
  },
  {
   "cell_type": "code",
   "execution_count": 28,
   "metadata": {},
   "outputs": [
    {
     "name": "stdout",
     "output_type": "stream",
     "text": [
      "tensor([[1., 2.],\n",
      "        [3., 4.],\n",
      "        [5., 6.]])\n"
     ]
    }
   ],
   "source": [
    "x = torch.tensor([[1., 2., 3.],\n",
    "                  [4., 5., 6.]])\n",
    "r = x.reshape(3, 2)\n",
    "print(r)"
   ]
  },
  {
   "cell_type": "code",
   "execution_count": 29,
   "metadata": {},
   "outputs": [
    {
     "name": "stdout",
     "output_type": "stream",
     "text": [
      "tensor([[9999.,    2.,    3.],\n",
      "        [   4.,    5.,    6.]])\n",
      "tensor([[9999.,    2.],\n",
      "        [   3.,    4.],\n",
      "        [   5.,    6.]])\n"
     ]
    }
   ],
   "source": [
    "# Same caveat with reshape as well - the underlying object between the reshaped and original tensor is the same\n",
    "r[0, 0] = 9999\n",
    "print(x)\n",
    "print(r)"
   ]
  },
  {
   "cell_type": "code",
   "execution_count": 30,
   "metadata": {},
   "outputs": [
    {
     "name": "stdout",
     "output_type": "stream",
     "text": [
      "tensor([[1., 2.],\n",
      "        [3., 4.],\n",
      "        [5., 6.]])\n"
     ]
    }
   ],
   "source": [
    "x = torch.tensor([[1., 2., 3.],\n",
    "                  [4., 5., 6.]])\n",
    "\n",
    "x.resize_(3, 2)\n",
    "print(x)"
   ]
  },
  {
   "cell_type": "markdown",
   "metadata": {},
   "source": [
    "## Mutating Tensors\n",
    "A lot of mutating functions are instance methods on the tensor object that end with an underscore."
   ]
  },
  {
   "cell_type": "code",
   "execution_count": 31,
   "metadata": {},
   "outputs": [
    {
     "data": {
      "text/plain": [
       "tensor([2., 2., 2.])"
      ]
     },
     "execution_count": 31,
     "metadata": {},
     "output_type": "execute_result"
    }
   ],
   "source": [
    "x = torch.ones(3)\n",
    "x.add_(1)\n",
    "x"
   ]
  },
  {
   "cell_type": "code",
   "execution_count": 32,
   "metadata": {},
   "outputs": [
    {
     "name": "stdout",
     "output_type": "stream",
     "text": [
      "Before fill tensor([1., 1., 1.])\n",
      "After fill tensor([2., 2., 2.])\n",
      "Before fill tensor([1., 1., 1.], requires_grad=True)\n",
      "a leaf Variable that requires grad has been used in an in-place operation.\n",
      "After fill tensor([2., 2., 2.], requires_grad=True)\n"
     ]
    }
   ],
   "source": [
    "# When x does not require grad, I can directly mutate its value using fill_\n",
    "x = torch.ones(3)\n",
    "print('Before fill', x)\n",
    "x.fill_(2)\n",
    "print('After fill', x)\n",
    "\n",
    "# But if does require grad, then I cannot directly mutate its value\n",
    "# I have to use the .data attribute to do that\n",
    "x = torch.ones(3, requires_grad=True)\n",
    "print('Before fill', x)\n",
    "try:\n",
    "    x.fill_(2)\n",
    "except RuntimeError as re:\n",
    "    print(re)\n",
    "    \n",
    "x.data.fill_(2)\n",
    "print('After fill', x)"
   ]
  },
  {
   "cell_type": "code",
   "execution_count": 33,
   "metadata": {},
   "outputs": [
    {
     "name": "stdout",
     "output_type": "stream",
     "text": [
      "torch.Size([1, 3]) (1, 3) (3,)\n",
      "tensor([[1., 2., 3.]])\n",
      "[[999.   2.   3.]]\n",
      "[999.   2.   3.]\n"
     ]
    }
   ],
   "source": [
    "from copy import copy\n",
    "\n",
    "xt = torch.tensor([[1., 2., 3.]])\n",
    "x = copy(xt.numpy())\n",
    "y = x.squeeze()\n",
    "print(xt.size(), x.shape, y.shape)\n",
    "y[0] = 999\n",
    "print(xt)\n",
    "print(x)\n",
    "print(y)"
   ]
  },
  {
   "cell_type": "code",
   "execution_count": null,
   "metadata": {},
   "outputs": [],
   "source": []
  },
  {
   "cell_type": "markdown",
   "metadata": {},
   "source": [
    "## Concatenating Tensors"
   ]
  },
  {
   "cell_type": "code",
   "execution_count": 17,
   "metadata": {},
   "outputs": [
    {
     "data": {
      "text/plain": [
       "tensor([ 1,  2, 10, 20, 30])"
      ]
     },
     "execution_count": 17,
     "metadata": {},
     "output_type": "execute_result"
    }
   ],
   "source": [
    "x = torch.tensor([1, 2])\n",
    "y = torch.tensor([10, 20, 30])\n",
    "torch.cat((x, y))"
   ]
  },
  {
   "cell_type": "code",
   "execution_count": 14,
   "metadata": {},
   "outputs": [
    {
     "data": {
      "text/plain": [
       "torch.Size([2])"
      ]
     },
     "execution_count": 14,
     "metadata": {},
     "output_type": "execute_result"
    }
   ],
   "source": [
    "x.size()"
   ]
  },
  {
   "cell_type": "code",
   "execution_count": 15,
   "metadata": {},
   "outputs": [
    {
     "data": {
      "text/plain": [
       "torch.Tensor"
      ]
     },
     "execution_count": 15,
     "metadata": {},
     "output_type": "execute_result"
    }
   ],
   "source": [
    "type(x)"
   ]
  },
  {
   "cell_type": "code",
   "execution_count": 18,
   "metadata": {},
   "outputs": [
    {
     "data": {
      "text/plain": [
       "[tensor([1, 2]), tensor([10, 20, 30])]"
      ]
     },
     "execution_count": 18,
     "metadata": {},
     "output_type": "execute_result"
    }
   ],
   "source": [
    "arr = []\n",
    "arr.append(x)\n",
    "arr.append(y)\n",
    "arr"
   ]
  },
  {
   "cell_type": "code",
   "execution_count": 19,
   "metadata": {},
   "outputs": [
    {
     "data": {
      "text/plain": [
       "tensor([ 1,  2, 10, 20, 30])"
      ]
     },
     "execution_count": 19,
     "metadata": {},
     "output_type": "execute_result"
    }
   ],
   "source": [
    "torch.cat(arr)"
   ]
  },
  {
   "cell_type": "markdown",
   "metadata": {},
   "source": [
    "## Stacking Tensors\n",
    "Default dimension of stacking tensors is 0, i.e., it will stack rows of tensors on top of each other."
   ]
  },
  {
   "cell_type": "code",
   "execution_count": 3,
   "metadata": {},
   "outputs": [
    {
     "data": {
      "text/plain": [
       "tensor([[ 1.1000,  2.2000,  3.3000],\n",
       "        [10.1000, 20.2000, 30.3000]])"
      ]
     },
     "execution_count": 3,
     "metadata": {},
     "output_type": "execute_result"
    }
   ],
   "source": [
    "a = torch.Tensor([1.1, 2.2, 3.3])\n",
    "b = torch.Tensor([10.1, 20.2, 30.3])\n",
    "torch.stack((a, b))"
   ]
  },
  {
   "cell_type": "code",
   "execution_count": 8,
   "metadata": {},
   "outputs": [
    {
     "ename": "RuntimeError",
     "evalue": "invalid argument 0: Sizes of tensors must match except in dimension 0. Got 3 and 2 in dimension 2 at ../aten/src/TH/generic/THTensor.cpp:612",
     "output_type": "error",
     "traceback": [
      "\u001b[0;31m---------------------------------------------------------------------------\u001b[0m",
      "\u001b[0;31mRuntimeError\u001b[0m                              Traceback (most recent call last)",
      "\u001b[0;32m<ipython-input-8-486828f31db9>\u001b[0m in \u001b[0;36m<module>\u001b[0;34m\u001b[0m\n\u001b[1;32m      7\u001b[0m     \u001b[0;34m[\u001b[0m\u001b[0;36m10.4\u001b[0m\u001b[0;34m,\u001b[0m \u001b[0;36m20.5\u001b[0m\u001b[0;34m]\u001b[0m\u001b[0;34m,\u001b[0m\u001b[0;34m\u001b[0m\u001b[0;34m\u001b[0m\u001b[0m\n\u001b[1;32m      8\u001b[0m ])\n\u001b[0;32m----> 9\u001b[0;31m \u001b[0mtorch\u001b[0m\u001b[0;34m.\u001b[0m\u001b[0mstack\u001b[0m\u001b[0;34m(\u001b[0m\u001b[0;34m(\u001b[0m\u001b[0ma\u001b[0m\u001b[0;34m,\u001b[0m \u001b[0mb\u001b[0m\u001b[0;34m)\u001b[0m\u001b[0;34m)\u001b[0m\u001b[0;34m\u001b[0m\u001b[0;34m\u001b[0m\u001b[0m\n\u001b[0m",
      "\u001b[0;31mRuntimeError\u001b[0m: invalid argument 0: Sizes of tensors must match except in dimension 0. Got 3 and 2 in dimension 2 at ../aten/src/TH/generic/THTensor.cpp:612"
     ]
    }
   ],
   "source": [
    "a = torch.Tensor([\n",
    "    [1.1, 2.2, 3.3],\n",
    "    [1.4, 2.5, 3.6]\n",
    "])\n",
    "b = torch.Tensor([\n",
    "    [10.1, 20.2],\n",
    "    [10.4, 20.5],\n",
    "])\n",
    "torch.stack((a, b))"
   ]
  }
 ],
 "metadata": {
  "kernelspec": {
   "display_name": "Python 3 (ipykernel)",
   "language": "python",
   "name": "python3"
  },
  "language_info": {
   "codemirror_mode": {
    "name": "ipython",
    "version": 3
   },
   "file_extension": ".py",
   "mimetype": "text/x-python",
   "name": "python",
   "nbconvert_exporter": "python",
   "pygments_lexer": "ipython3",
   "version": "3.9.9"
  }
 },
 "nbformat": 4,
 "nbformat_minor": 4
}
