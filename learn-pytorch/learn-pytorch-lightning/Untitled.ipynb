{
 "cells": [
  {
   "cell_type": "code",
   "execution_count": 1,
   "id": "64dc136c-a789-41c9-8fe1-9bc7e6f777ff",
   "metadata": {},
   "outputs": [],
   "source": [
    "from mnist_class import MNISTDataModule, FeedForwardNet, LogPredictionsCallback\n",
    "import torchmetrics as tm\n",
    "import pytorch_lightning as pl\n",
    "from omegaconf import OmegaConf\n",
    "import common\n",
    "from haikunator import Haikunator\n",
    "from pytorch_lightning.loggers import WandbLogger\n",
    "from pytorch_lightning.callbacks import ModelCheckpoint\n",
    "import wandb\n",
    "import torch as t"
   ]
  },
  {
   "cell_type": "code",
   "execution_count": 2,
   "id": "74853509-753d-46b4-93e0-dfbc7b67b499",
   "metadata": {},
   "outputs": [],
   "source": [
    "hparams = OmegaConf.create({\n",
    "    \"n_layer_1\": 128,\n",
    "    \"n_layer_2\": 256,\n",
    "    \"batch_size\": 256,\n",
    "    \"lr\": 0.05,\n",
    "    \"n_epochs\": 3\n",
    "})"
   ]
  },
  {
   "cell_type": "code",
   "execution_count": 3,
   "id": "93b5d326-1129-4b3c-8c58-8fea32e6b659",
   "metadata": {},
   "outputs": [
    {
     "name": "stdout",
     "output_type": "stream",
     "text": [
      "MnistNotebookDgb square-dream-6374\n"
     ]
    }
   ],
   "source": [
    "project = \"MnistNotebookDgb\"\n",
    "run_name = Haikunator().haikunate()\n",
    "print(project, run_name)"
   ]
  },
  {
   "cell_type": "code",
   "execution_count": 4,
   "id": "85cdaa8b-5660-4b70-804d-67e0b6ad6671",
   "metadata": {},
   "outputs": [],
   "source": [
    "model = FeedForwardNet(hparams, n_classes=10)"
   ]
  },
  {
   "cell_type": "code",
   "execution_count": 5,
   "id": "53a8f634-94ff-40d3-a9df-08609d7c3402",
   "metadata": {},
   "outputs": [],
   "source": [
    "mnist = MNISTDataModule(hparams)"
   ]
  },
  {
   "cell_type": "code",
   "execution_count": 6,
   "id": "48aaa907-ea75-4455-9d54-e0e77aa9b3cc",
   "metadata": {},
   "outputs": [
    {
     "name": "stderr",
     "output_type": "stream",
     "text": [
      "\u001b[34m\u001b[1mwandb\u001b[0m: Currently logged in as: \u001b[33mavilay\u001b[0m (use `wandb login --relogin` to force relogin)\n"
     ]
    },
    {
     "data": {
      "text/html": [
       "\n",
       "                Tracking run with wandb version 0.10.33<br/>\n",
       "                Syncing run <strong style=\"color:#cdcd00\">square-dream-6374</strong> to <a href=\"https://wandb.ai\" target=\"_blank\">Weights & Biases</a> <a href=\"https://docs.wandb.com/integrations/jupyter.html\" target=\"_blank\">(Documentation)</a>.<br/>\n",
       "                Project page: <a href=\"https://wandb.ai/avilay/MnistNotebookDgb\" target=\"_blank\">https://wandb.ai/avilay/MnistNotebookDgb</a><br/>\n",
       "                Run page: <a href=\"https://wandb.ai/avilay/MnistNotebookDgb/runs/square-dream-6374\" target=\"_blank\">https://wandb.ai/avilay/MnistNotebookDgb/runs/square-dream-6374</a><br/>\n",
       "                Run data is saved locally in <code>/Users/avilay/projects/bitbucket/learn/learn-pytorch-lightning/wandb/run-20210703_184907-square-dream-6374</code><br/><br/>\n",
       "            "
      ],
      "text/plain": [
       "<IPython.core.display.HTML object>"
      ]
     },
     "metadata": {},
     "output_type": "display_data"
    }
   ],
   "source": [
    "logger = WandbLogger(\n",
    "    project=project,\n",
    "    name=run_name,\n",
    "    log_model=\"all\",\n",
    "    id=run_name\n",
    ")\n",
    "logger.watch(model, log=\"all\")"
   ]
  },
  {
   "cell_type": "code",
   "execution_count": 7,
   "id": "69ce3d22-08ff-4294-a6ca-311fb142c9e6",
   "metadata": {},
   "outputs": [
    {
     "name": "stderr",
     "output_type": "stream",
     "text": [
      "GPU available: False, used: False\n",
      "TPU available: False, using: 0 TPU cores\n",
      "IPU available: False, using: 0 IPUs\n"
     ]
    }
   ],
   "source": [
    "checkpoint = ModelCheckpoint(monitor=\"val_loss\", mode=\"min\")\n",
    "callbacks = [checkpoint, LogPredictionsCallback()]\n",
    "trainer = pl.Trainer(\n",
    "    max_epochs=hparams.n_epochs,\n",
    "    logger=logger,\n",
    "    callbacks=callbacks,\n",
    "    progress_bar_refresh_rate=0\n",
    ")"
   ]
  },
  {
   "cell_type": "code",
   "execution_count": 8,
   "id": "679bfa51-f72d-436c-8f60-edf490bcd552",
   "metadata": {},
   "outputs": [
    {
     "name": "stderr",
     "output_type": "stream",
     "text": [
      "\n",
      "  | Name    | Type             | Params\n",
      "---------------------------------------------\n",
      "0 | fc1     | Linear           | 100 K \n",
      "1 | fc2     | Linear           | 33.0 K\n",
      "2 | fc3     | Linear           | 2.6 K \n",
      "3 | loss_fn | CrossEntropyLoss | 0     \n",
      "---------------------------------------------\n",
      "136 K     Trainable params\n",
      "0         Non-trainable params\n",
      "136 K     Total params\n",
      "0.544     Total estimated model params size (MB)\n"
     ]
    },
    {
     "name": "stdout",
     "output_type": "stream",
     "text": [
      "APTG DEBUG: Inside callback\n",
      "APTG DEBUG: Inside callback\n",
      "APTG DEBUG: Inside callback\n",
      "APTG DEBUG: Inside callback\n"
     ]
    }
   ],
   "source": [
    "trainer.fit(model, mnist)"
   ]
  },
  {
   "cell_type": "code",
   "execution_count": 9,
   "id": "d1b037e9-b62f-4461-b243-86368368835f",
   "metadata": {},
   "outputs": [
    {
     "data": {
      "text/html": [
       "<br/>Waiting for W&B process to finish, PID 56385<br/>Program ended successfully."
      ],
      "text/plain": [
       "<IPython.core.display.HTML object>"
      ]
     },
     "metadata": {},
     "output_type": "display_data"
    },
    {
     "data": {
      "application/vnd.jupyter.widget-view+json": {
       "model_id": "",
       "version_major": 2,
       "version_minor": 0
      },
      "text/plain": [
       "VBox(children=(Label(value=' 4.73MB of 4.73MB uploaded (0.00MB deduped)\\r'), FloatProgress(value=1.0, max=1.0)…"
      ]
     },
     "metadata": {},
     "output_type": "display_data"
    },
    {
     "data": {
      "text/html": [
       "Find user logs for this run at: <code>/Users/avilay/projects/bitbucket/learn/learn-pytorch-lightning/wandb/run-20210703_184907-square-dream-6374/logs/debug.log</code>"
      ],
      "text/plain": [
       "<IPython.core.display.HTML object>"
      ]
     },
     "metadata": {},
     "output_type": "display_data"
    },
    {
     "data": {
      "text/html": [
       "Find internal logs for this run at: <code>/Users/avilay/projects/bitbucket/learn/learn-pytorch-lightning/wandb/run-20210703_184907-square-dream-6374/logs/debug-internal.log</code>"
      ],
      "text/plain": [
       "<IPython.core.display.HTML object>"
      ]
     },
     "metadata": {},
     "output_type": "display_data"
    },
    {
     "data": {
      "text/html": [
       "<h3>Run summary:</h3><br/><style>\n",
       "    table.wandb td:nth-child(1) { padding: 0 10px; text-align: right }\n",
       "    </style><table class=\"wandb\">\n",
       "<tr><td>_runtime</td><td>31</td></tr><tr><td>_timestamp</td><td>1625363378</td></tr><tr><td>_step</td><td>21</td></tr><tr><td>train_loss_step</td><td>0.68477</td></tr><tr><td>epoch</td><td>2</td></tr><tr><td>trainer/global_step</td><td>644</td></tr><tr><td>val_loss</td><td>0.70176</td></tr><tr><td>val_acc</td><td>0.7346</td></tr><tr><td>train_loss</td><td>0.68143</td></tr><tr><td>train_acc</td><td>0.72873</td></tr></table>"
      ],
      "text/plain": [
       "<IPython.core.display.HTML object>"
      ]
     },
     "metadata": {},
     "output_type": "display_data"
    },
    {
     "data": {
      "text/html": [
       "<h3>Run history:</h3><br/><style>\n",
       "    table.wandb td:nth-child(1) { padding: 0 10px; text-align: right }\n",
       "    </style><table class=\"wandb\">\n",
       "<tr><td>_runtime</td><td>▁▂▂▃▃▃▃▃▄▄▅▅▅▅▆▆▆▇▇███</td></tr><tr><td>_timestamp</td><td>▁▂▂▃▃▃▃▃▄▄▅▅▅▅▆▆▆▇▇███</td></tr><tr><td>_step</td><td>▁▁▂▂▂▃▃▃▄▄▄▅▅▅▆▆▆▇▇▇██</td></tr><tr><td>train_loss_step</td><td>▇▄▃█▄▄▁▂▁▂▂▂</td></tr><tr><td>epoch</td><td>▁▁▁▁▁▁▅▅▅▅▅▅██████</td></tr><tr><td>trainer/global_step</td><td>▁▂▂▃▃▃▃▃▄▅▅▅▅▅▆▆▇▇▇██</td></tr><tr><td>val_loss</td><td>█▂▁</td></tr><tr><td>val_acc</td><td>▁▆█</td></tr><tr><td>train_loss</td><td>█▂▁</td></tr><tr><td>train_acc</td><td>▁▆█</td></tr></table><br/>"
      ],
      "text/plain": [
       "<IPython.core.display.HTML object>"
      ]
     },
     "metadata": {},
     "output_type": "display_data"
    },
    {
     "data": {
      "text/html": [
       "Synced 6 W&B file(s), 81 media file(s), 3 artifact file(s) and 0 other file(s)"
      ],
      "text/plain": [
       "<IPython.core.display.HTML object>"
      ]
     },
     "metadata": {},
     "output_type": "display_data"
    },
    {
     "data": {
      "text/html": [
       "\n",
       "                    <br/>Synced <strong style=\"color:#cdcd00\">square-dream-6374</strong>: <a href=\"https://wandb.ai/avilay/MnistNotebookDgb/runs/square-dream-6374\" target=\"_blank\">https://wandb.ai/avilay/MnistNotebookDgb/runs/square-dream-6374</a><br/>\n",
       "                "
      ],
      "text/plain": [
       "<IPython.core.display.HTML object>"
      ]
     },
     "metadata": {},
     "output_type": "display_data"
    }
   ],
   "source": [
    "wandb.finish()"
   ]
  },
  {
   "cell_type": "code",
   "execution_count": null,
   "id": "49ee7347-1884-4605-9639-a7bac150268b",
   "metadata": {},
   "outputs": [],
   "source": []
  }
 ],
 "metadata": {
  "kernelspec": {
   "display_name": "Python 3",
   "language": "python",
   "name": "python3"
  },
  "language_info": {
   "codemirror_mode": {
    "name": "ipython",
    "version": 3
   },
   "file_extension": ".py",
   "mimetype": "text/x-python",
   "name": "python",
   "nbconvert_exporter": "python",
   "pygments_lexer": "ipython3",
   "version": "3.8.8"
  }
 },
 "nbformat": 4,
 "nbformat_minor": 5
}
