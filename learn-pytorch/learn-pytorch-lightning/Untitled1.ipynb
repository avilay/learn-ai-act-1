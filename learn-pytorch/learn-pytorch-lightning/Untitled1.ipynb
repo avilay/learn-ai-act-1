{
 "cells": [
  {
   "cell_type": "markdown",
   "id": "533da8c5",
   "metadata": {},
   "source": [
    "## Data Module"
   ]
  },
  {
   "cell_type": "code",
   "execution_count": 1,
   "id": "183fcb48",
   "metadata": {},
   "outputs": [],
   "source": [
    "import warnings"
   ]
  },
  {
   "cell_type": "code",
   "execution_count": 2,
   "id": "18ceb0d7",
   "metadata": {},
   "outputs": [],
   "source": [
    "warnings.simplefilter(\"ignore\")"
   ]
  },
  {
   "cell_type": "code",
   "execution_count": 3,
   "id": "9317c5c5",
   "metadata": {},
   "outputs": [],
   "source": [
    "from pytorch_lightning import LightningDataModule\n",
    "from torch.utils.data import DataLoader, random_split\n",
    "from torchvision.datasets import MNIST\n",
    "from torchvision import transforms\n",
    "from pathlib import Path"
   ]
  },
  {
   "cell_type": "code",
   "execution_count": 19,
   "id": "13cf8646",
   "metadata": {},
   "outputs": [],
   "source": [
    "class MNIST_DataModule(LightningDataModule):\n",
    "    def __init__(self):\n",
    "        super().__init__()\n",
    "        self.datadir = Path.home() / \"mldata\" / \"mnist\"\n",
    "        self.batch_size = 256\n",
    "        self.transform = transforms.Compose([\n",
    "            transforms.ToTensor(),\n",
    "            transforms.Normalize((0.1307,), (0.3081,))\n",
    "        ])\n",
    "        \n",
    "    def prepare_data(self):\n",
    "        \"\"\"Called only once and on 1 GPU\"\"\"\n",
    "        MNIST(self.datadir, train=True, download=True)\n",
    "        MNIST(self.datadir, train=False, download=True)\n",
    "        \n",
    "    def setup(self, stage=None):\n",
    "        \"\"\"Called on each GPU separately\"\"\"\n",
    "        if stage in [None, \"fit\", \"validate\"]:\n",
    "            trainvalset = MNIST(self.datadir, train=True, transform=self.transform)\n",
    "            self.trainset, self.valset = random_split(trainvalset, [55000, 5000])\n",
    "        if stage == \"test\" or stage is None:\n",
    "            self.testset = MNIST(self.datadir, train=False, transform=self.transform)\n",
    "    \n",
    "    def train_dataloader(self):\n",
    "        train_dl = DataLoader(self.trainset, batch_size=self.batch_size)\n",
    "        return train_dl\n",
    "    \n",
    "    def val_dataloader(self):\n",
    "        val_dl = DataLoader(self.valset, batch_size=self.batch_size)\n",
    "        return val_dl\n",
    "    \n",
    "    def test_dataloader(self):\n",
    "        test_dl = DataLoader(self.testset, batch_size=self.batch_size)\n",
    "        return test_dl\n",
    "    "
   ]
  },
  {
   "cell_type": "code",
   "execution_count": 20,
   "id": "91ce38ca",
   "metadata": {},
   "outputs": [],
   "source": [
    "mnist = MNIST_DataModule()"
   ]
  },
  {
   "cell_type": "code",
   "execution_count": null,
   "id": "1931fe21",
   "metadata": {},
   "outputs": [],
   "source": []
  },
  {
   "cell_type": "markdown",
   "id": "8751c0d2",
   "metadata": {},
   "source": [
    "## Model"
   ]
  },
  {
   "cell_type": "code",
   "execution_count": 21,
   "id": "265a5559",
   "metadata": {},
   "outputs": [],
   "source": [
    "import torch as t\n",
    "import torch.nn.functional as F\n",
    "import torchmetrics as tm\n",
    "from pytorch_lightning import LightningModule\n",
    "from pytorch_lightning.callbacks import Callback"
   ]
  },
  {
   "cell_type": "code",
   "execution_count": 22,
   "id": "6d7f5c29",
   "metadata": {},
   "outputs": [],
   "source": [
    "class MNIST_Classifier(LightningModule):\n",
    "    def __init__(self, n_layer_1=128, n_layer_2=256, lr=1e-3):\n",
    "        super().__init__()\n",
    "        \n",
    "        self.layer_1 = t.nn.Linear(28*28, n_layer_1)\n",
    "        self.layer_2 = t.nn.Linear(n_layer_1, n_layer_2)\n",
    "        self.layer_3 = t.nn.Linear(n_layer_2, 10)\n",
    "        \n",
    "        self.loss = t.nn.CrossEntropyLoss()\n",
    "        self.lr = lr\n",
    "        self.accuracy = tm.Accuracy()\n",
    "        \n",
    "        self.save_hyperparameters()\n",
    "        \n",
    "    def forward(self, x):\n",
    "        batch_size, channels, width, height = x.size()\n",
    "        \n",
    "        # (b, 1, 28, 28) --> (b, 1*28*28)\n",
    "        x = x.view(batch_size, -1)\n",
    "        \n",
    "        x = self.layer_1(x)\n",
    "        x = F.relu(x)\n",
    "        x = self.layer_2(x)\n",
    "        x = F.relu(x)\n",
    "        logits = self.layer_3(x)\n",
    "        \n",
    "        return logits\n",
    "    \n",
    "    def training_step(self, batch, batch_idx):\n",
    "        _, loss, acc = self._get_preds_loss_accuracy(batch)\n",
    "        \n",
    "        self.log(\"train_loss\", loss)\n",
    "        self.log(\"train_acc\", acc)\n",
    "        \n",
    "        return loss\n",
    "    \n",
    "    def validation_step(self, batch, batch_idx):\n",
    "        preds, loss, acc = self._get_preds_loss_accuracy(batch)\n",
    "        \n",
    "        self.log(\"val_loss\", loss)\n",
    "        self.log(\"val_acc\", acc)\n",
    "        \n",
    "        # Not needed by default, but I'll use this in a custom callback\n",
    "        return preds\n",
    "    \n",
    "    def test_step(self, batch, batch_idx):\n",
    "        _, loss, acc = self._get_preds_loss_accuracy(batch)\n",
    "        \n",
    "        self.log(\"test_loss\", loss)\n",
    "        self.log(\"test_acc\", acc)\n",
    "        \n",
    "    def configure_optimizers(self):\n",
    "        return t.optim.Adam(self.parameters(), lr=self.lr)\n",
    "    \n",
    "    def _get_preds_loss_accuracy(self, batch):\n",
    "        x, y = batch\n",
    "        logits = self(x)\n",
    "        preds = t.argmax(logits, dim=1)\n",
    "        loss = self.loss(logits, y)\n",
    "        acc = self.accuracy(preds, y)\n",
    "        return preds, loss, acc        "
   ]
  },
  {
   "cell_type": "code",
   "execution_count": 23,
   "id": "60cfbb8f",
   "metadata": {},
   "outputs": [],
   "source": [
    "model = MNIST_Classifier(n_layer_1=128, n_layer_2=256)"
   ]
  },
  {
   "cell_type": "code",
   "execution_count": 24,
   "id": "1969d4b9",
   "metadata": {},
   "outputs": [],
   "source": [
    "class LogPredictionsCallback(Callback):\n",
    "    def on_validation_batch_end(self, trainer, pl_module, outputs, batch, batch_idx, dataloader_idx):\n",
    "        # `outputs` comes from `LightningModule.validation_step`\n",
    "        if batch_idx == 0:\n",
    "            n = 20\n",
    "            x, y = batch\n",
    "            examples = []\n",
    "            for i, (x_i, y_i, y_pred) in enumerate(zip(x[:n], y[:n], outputs[:n])):\n",
    "                example = wandb.Image(x_i, caption=f\"Ground Truth: {y_i}\\nPrediction: {y_pred}\")\n",
    "                # pl_module.logger.experiment.log({f\"example_{i}\": example})\n",
    "                examples.append(example)\n",
    "            pl_module.logger.experiment.log({\"examples\": examples})"
   ]
  },
  {
   "cell_type": "code",
   "execution_count": null,
   "id": "06231c1c",
   "metadata": {},
   "outputs": [],
   "source": []
  },
  {
   "cell_type": "markdown",
   "id": "4539ee10",
   "metadata": {},
   "source": [
    "## Training Module"
   ]
  },
  {
   "cell_type": "code",
   "execution_count": 25,
   "id": "32375d6b",
   "metadata": {},
   "outputs": [],
   "source": [
    "from pytorch_lightning import Trainer"
   ]
  },
  {
   "cell_type": "code",
   "execution_count": 26,
   "id": "ab502c4c",
   "metadata": {},
   "outputs": [],
   "source": [
    "from pytorch_lightning.callbacks import ModelCheckpoint\n",
    "from pytorch_lightning.loggers import WandbLogger\n",
    "import wandb"
   ]
  },
  {
   "cell_type": "code",
   "execution_count": 27,
   "id": "bbf7b420",
   "metadata": {},
   "outputs": [],
   "source": [
    "checkpoint_callback = ModelCheckpoint(monitor=\"val_acc\", mode=\"max\")"
   ]
  },
  {
   "cell_type": "code",
   "execution_count": 28,
   "id": "5e6c75b4",
   "metadata": {},
   "outputs": [],
   "source": [
    "logger = WandbLogger(project=\"MNIST\", log_model=\"all\")"
   ]
  },
  {
   "cell_type": "code",
   "execution_count": 29,
   "id": "69ed37e5",
   "metadata": {},
   "outputs": [],
   "source": [
    "logger.watch(model)"
   ]
  },
  {
   "cell_type": "code",
   "execution_count": 30,
   "id": "1b09a7c7",
   "metadata": {},
   "outputs": [
    {
     "name": "stderr",
     "output_type": "stream",
     "text": [
      "GPU available: False, used: False\n",
      "TPU available: False, using: 0 TPU cores\n",
      "IPU available: False, using: 0 IPUs\n"
     ]
    }
   ],
   "source": [
    "trainer = Trainer(\n",
    "    logger=logger,\n",
    "    callbacks=[checkpoint_callback, LogPredictionsCallback()],\n",
    "    max_epochs=5\n",
    ")"
   ]
  },
  {
   "cell_type": "code",
   "execution_count": 31,
   "id": "cde6631d",
   "metadata": {},
   "outputs": [
    {
     "name": "stderr",
     "output_type": "stream",
     "text": [
      "\n",
      "  | Name     | Type             | Params\n",
      "----------------------------------------------\n",
      "0 | layer_1  | Linear           | 100 K \n",
      "1 | layer_2  | Linear           | 33.0 K\n",
      "2 | layer_3  | Linear           | 2.6 K \n",
      "3 | loss     | CrossEntropyLoss | 0     \n",
      "4 | accuracy | Accuracy         | 0     \n",
      "----------------------------------------------\n",
      "136 K     Trainable params\n",
      "0         Non-trainable params\n",
      "136 K     Total params\n",
      "0.544     Total estimated model params size (MB)\n"
     ]
    },
    {
     "data": {
      "application/vnd.jupyter.widget-view+json": {
       "model_id": "",
       "version_major": 2,
       "version_minor": 0
      },
      "text/plain": [
       "Validation sanity check: 0it [00:00, ?it/s]"
      ]
     },
     "metadata": {},
     "output_type": "display_data"
    },
    {
     "data": {
      "application/vnd.jupyter.widget-view+json": {
       "model_id": "963f433be19945a699554806ad42f1cb",
       "version_major": 2,
       "version_minor": 0
      },
      "text/plain": [
       "Training: 0it [00:00, ?it/s]"
      ]
     },
     "metadata": {},
     "output_type": "display_data"
    },
    {
     "data": {
      "application/vnd.jupyter.widget-view+json": {
       "model_id": "",
       "version_major": 2,
       "version_minor": 0
      },
      "text/plain": [
       "Validating: 0it [00:00, ?it/s]"
      ]
     },
     "metadata": {},
     "output_type": "display_data"
    },
    {
     "data": {
      "application/vnd.jupyter.widget-view+json": {
       "model_id": "",
       "version_major": 2,
       "version_minor": 0
      },
      "text/plain": [
       "Validating: 0it [00:00, ?it/s]"
      ]
     },
     "metadata": {},
     "output_type": "display_data"
    },
    {
     "data": {
      "application/vnd.jupyter.widget-view+json": {
       "model_id": "",
       "version_major": 2,
       "version_minor": 0
      },
      "text/plain": [
       "Validating: 0it [00:00, ?it/s]"
      ]
     },
     "metadata": {},
     "output_type": "display_data"
    },
    {
     "data": {
      "application/vnd.jupyter.widget-view+json": {
       "model_id": "",
       "version_major": 2,
       "version_minor": 0
      },
      "text/plain": [
       "Validating: 0it [00:00, ?it/s]"
      ]
     },
     "metadata": {},
     "output_type": "display_data"
    },
    {
     "data": {
      "application/vnd.jupyter.widget-view+json": {
       "model_id": "",
       "version_major": 2,
       "version_minor": 0
      },
      "text/plain": [
       "Validating: 0it [00:00, ?it/s]"
      ]
     },
     "metadata": {},
     "output_type": "display_data"
    }
   ],
   "source": [
    "trainer.fit(model, datamodule=mnist)"
   ]
  },
  {
   "cell_type": "code",
   "execution_count": null,
   "id": "e8532863",
   "metadata": {},
   "outputs": [],
   "source": [
    "trainer.test(model, datamodule=mnist)"
   ]
  },
  {
   "cell_type": "code",
   "execution_count": 32,
   "id": "eebdaa78",
   "metadata": {},
   "outputs": [
    {
     "name": "stdout",
     "output_type": "stream",
     "text": [
      "avilay MNIST 3jsbobir resilient-jazz-4\n"
     ]
    }
   ],
   "source": [
    "run_id = trainer.logger.experiment.id\n",
    "project = trainer.logger.experiment.project\n",
    "entity = trainer.logger.experiment.entity\n",
    "name = trainer.logger.experiment.name\n",
    "print(entity, project, run_id, name)"
   ]
  },
  {
   "cell_type": "code",
   "execution_count": 33,
   "id": "95faaf63",
   "metadata": {},
   "outputs": [
    {
     "data": {
      "text/html": [
       "<br/>Waiting for W&B process to finish, PID 55512<br/>Program ended successfully."
      ],
      "text/plain": [
       "<IPython.core.display.HTML object>"
      ]
     },
     "metadata": {},
     "output_type": "display_data"
    },
    {
     "data": {
      "application/vnd.jupyter.widget-view+json": {
       "model_id": "",
       "version_major": 2,
       "version_minor": 0
      },
      "text/plain": [
       "VBox(children=(Label(value=' 7.87MB of 7.87MB uploaded (0.00MB deduped)\\r'), FloatProgress(value=1.0, max=1.0)…"
      ]
     },
     "metadata": {},
     "output_type": "display_data"
    },
    {
     "data": {
      "text/html": [
       "Find user logs for this run at: <code>/Users/avilay/projects/bitbucket/learn/learn-pytorch-lightning/wandb/run-20210703_184347-3jsbobir/logs/debug.log</code>"
      ],
      "text/plain": [
       "<IPython.core.display.HTML object>"
      ]
     },
     "metadata": {},
     "output_type": "display_data"
    },
    {
     "data": {
      "text/html": [
       "Find internal logs for this run at: <code>/Users/avilay/projects/bitbucket/learn/learn-pytorch-lightning/wandb/run-20210703_184347-3jsbobir/logs/debug-internal.log</code>"
      ],
      "text/plain": [
       "<IPython.core.display.HTML object>"
      ]
     },
     "metadata": {},
     "output_type": "display_data"
    },
    {
     "data": {
      "text/html": [
       "<h3>Run summary:</h3><br/><style>\n",
       "    table.wandb td:nth-child(1) { padding: 0 10px; text-align: right }\n",
       "    </style><table class=\"wandb\">\n",
       "<tr><td>_runtime</td><td>101</td></tr><tr><td>_timestamp</td><td>1625363129</td></tr><tr><td>_step</td><td>31</td></tr><tr><td>train_loss</td><td>0.01566</td></tr><tr><td>train_acc</td><td>0.99609</td></tr><tr><td>epoch</td><td>4</td></tr><tr><td>trainer/global_step</td><td>1074</td></tr><tr><td>val_loss</td><td>0.10381</td></tr><tr><td>val_acc</td><td>0.971</td></tr></table>"
      ],
      "text/plain": [
       "<IPython.core.display.HTML object>"
      ]
     },
     "metadata": {},
     "output_type": "display_data"
    },
    {
     "data": {
      "text/html": [
       "<h3>Run history:</h3><br/><style>\n",
       "    table.wandb td:nth-child(1) { padding: 0 10px; text-align: right }\n",
       "    </style><table class=\"wandb\">\n",
       "<tr><td>_runtime</td><td>▁▁▂▂▂▂▂▃▃▃▄▄▄▄▄▅▅▅▅▅▆▆▆▇▇▇▇▇████</td></tr><tr><td>_timestamp</td><td>▁▁▂▂▂▂▂▃▃▃▄▄▄▄▄▅▅▅▅▅▆▆▆▇▇▇▇▇████</td></tr><tr><td>_step</td><td>▁▁▁▂▂▂▂▃▃▃▃▃▄▄▄▄▅▅▅▅▆▆▆▆▆▇▇▇▇███</td></tr><tr><td>train_loss</td><td>▇█▄▄▃▄▃▅▂▃▃▃▂▂▃▂▃▂▂▂▁</td></tr><tr><td>train_acc</td><td>▂▁▅▅▅▅▆▅█▅▆▅▆▆▆▆▆▆▇██</td></tr><tr><td>epoch</td><td>▁▁▁▁▁▃▃▃▃▃▅▅▅▅▅▆▆▆▆▆▆█████</td></tr><tr><td>trainer/global_step</td><td>▁▁▂▂▂▂▂▃▃▃▃▄▄▄▄▅▅▅▅▅▆▆▆▆▇▇▇▇███</td></tr><tr><td>val_loss</td><td>█▃▁▁▁</td></tr><tr><td>val_acc</td><td>▁▆▇██</td></tr></table><br/>"
      ],
      "text/plain": [
       "<IPython.core.display.HTML object>"
      ]
     },
     "metadata": {},
     "output_type": "display_data"
    },
    {
     "data": {
      "text/html": [
       "Synced 6 W&B file(s), 122 media file(s), 5 artifact file(s) and 0 other file(s)"
      ],
      "text/plain": [
       "<IPython.core.display.HTML object>"
      ]
     },
     "metadata": {},
     "output_type": "display_data"
    },
    {
     "data": {
      "text/html": [
       "\n",
       "                    <br/>Synced <strong style=\"color:#cdcd00\">resilient-jazz-4</strong>: <a href=\"https://wandb.ai/avilay/MNIST/runs/3jsbobir\" target=\"_blank\">https://wandb.ai/avilay/MNIST/runs/3jsbobir</a><br/>\n",
       "                "
      ],
      "text/plain": [
       "<IPython.core.display.HTML object>"
      ]
     },
     "metadata": {},
     "output_type": "display_data"
    }
   ],
   "source": [
    "wandb.finish()"
   ]
  },
  {
   "cell_type": "code",
   "execution_count": null,
   "id": "f0984a3b",
   "metadata": {},
   "outputs": [],
   "source": [
    "trainer"
   ]
  },
  {
   "cell_type": "code",
   "execution_count": null,
   "id": "4b0d238b",
   "metadata": {},
   "outputs": [],
   "source": []
  },
  {
   "cell_type": "code",
   "execution_count": null,
   "id": "921552e9",
   "metadata": {},
   "outputs": [],
   "source": []
  }
 ],
 "metadata": {
  "kernelspec": {
   "display_name": "Python 3 (ipykernel)",
   "language": "python",
   "name": "python3"
  },
  "language_info": {
   "codemirror_mode": {
    "name": "ipython",
    "version": 3
   },
   "file_extension": ".py",
   "mimetype": "text/x-python",
   "name": "python",
   "nbconvert_exporter": "python",
   "pygments_lexer": "ipython3",
   "version": "3.9.6"
  }
 },
 "nbformat": 4,
 "nbformat_minor": 5
}
