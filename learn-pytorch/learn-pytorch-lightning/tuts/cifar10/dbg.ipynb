{
 "cells": [
  {
   "cell_type": "code",
   "execution_count": 1,
   "metadata": {},
   "outputs": [],
   "source": [
    "from cifar10 import LitResnet, build_data, DATAROOT, N_WORKERS, build_model\n",
    "from torchmetrics import Accuracy\n",
    "import torch as t\n",
    "import torch.nn.functional as F\n",
    "from cifar10_orig import LitResnet as LitResnetOrig"
   ]
  },
  {
   "cell_type": "code",
   "execution_count": 3,
   "metadata": {},
   "outputs": [],
   "source": [
    "resnet = build_model()\n",
    "model = LitResnet(learning_rate=0.05, batch_size=5, model=resnet)\n",
    "orig_model = LitResnetOrig(0.05, resnet)"
   ]
  },
  {
   "cell_type": "code",
   "execution_count": 4,
   "metadata": {},
   "outputs": [
    {
     "name": "stderr",
     "output_type": "stream",
     "text": [
      "/Users/avilay/miniforge3/envs/ai/lib/python3.9/site-packages/pytorch_lightning/core/datamodule.py:73: LightningDeprecationWarning: DataModule property `train_transforms` was deprecated in v1.5 and will be removed in v1.7.\n",
      "  rank_zero_deprecation(\n",
      "/Users/avilay/miniforge3/envs/ai/lib/python3.9/site-packages/pytorch_lightning/core/datamodule.py:77: LightningDeprecationWarning: DataModule property `val_transforms` was deprecated in v1.5 and will be removed in v1.7.\n",
      "  rank_zero_deprecation(\n",
      "/Users/avilay/miniforge3/envs/ai/lib/python3.9/site-packages/pytorch_lightning/core/datamodule.py:81: LightningDeprecationWarning: DataModule property `test_transforms` was deprecated in v1.5 and will be removed in v1.7.\n",
      "  rank_zero_deprecation(\n"
     ]
    },
    {
     "name": "stdout",
     "output_type": "stream",
     "text": [
      "Files already downloaded and verified\n",
      "Files already downloaded and verified\n"
     ]
    },
    {
     "name": "stderr",
     "output_type": "stream",
     "text": [
      "/Users/avilay/miniforge3/envs/ai/lib/python3.9/site-packages/pytorch_lightning/core/datamodule.py:114: LightningDeprecationWarning: DataModule property `train_transforms` was deprecated in v1.5 and will be removed in v1.7.\n",
      "  rank_zero_deprecation(\n",
      "/Users/avilay/miniforge3/envs/ai/lib/python3.9/site-packages/pytorch_lightning/core/datamodule.py:133: LightningDeprecationWarning: DataModule property `val_transforms` was deprecated in v1.5 and will be removed in v1.7.\n",
      "  rank_zero_deprecation(\n"
     ]
    },
    {
     "name": "stdout",
     "output_type": "stream",
     "text": [
      "torch.Size([5, 3, 32, 32]) torch.Size([5])\n"
     ]
    }
   ],
   "source": [
    "dm = build_data(\n",
    "    dataroot=DATAROOT,\n",
    "    n_workers=N_WORKERS,\n",
    "    batch_size=5\n",
    ")\n",
    "dm.prepare_data()\n",
    "dm.setup(\"fit\")\n",
    "traindl = dm.train_dataloader()\n",
    "it = iter(traindl)\n",
    "batch = next(it)\n",
    "inputs, targets = batch\n",
    "print(inputs.shape, targets.shape)"
   ]
  },
  {
   "cell_type": "code",
   "execution_count": 6,
   "metadata": {},
   "outputs": [
    {
     "name": "stdout",
     "output_type": "stream",
     "text": [
      "torch.Size([5, 10]) torch.Size([5, 10])\n"
     ]
    }
   ],
   "source": [
    "outputs = model(inputs)\n",
    "orig_outputs = orig_model(inputs)\n",
    "print(outputs.shape, orig_outputs.shape)"
   ]
  },
  {
   "cell_type": "code",
   "execution_count": 9,
   "metadata": {},
   "outputs": [
    {
     "name": "stderr",
     "output_type": "stream",
     "text": [
      "/var/folders/47/p5k7mlgn5_j4p7nn862d6qdw0000gn/T/ipykernel_65082/391904091.py:1: UserWarning: Implicit dimension choice for log_softmax has been deprecated. Change the call to include dim=X as an argument.\n",
      "  F.log_softmax(outputs)\n"
     ]
    },
    {
     "data": {
      "text/plain": [
       "tensor([[-2.7134, -1.9890, -2.1898, -3.0593, -2.4901, -1.7049, -2.2637, -2.6460,\n",
       "         -2.0978, -2.5812],\n",
       "        [-2.8016, -2.0182, -2.3013, -3.1272, -2.7497, -1.4516, -1.9575, -2.5890,\n",
       "         -2.5533, -2.6572],\n",
       "        [-2.6213, -2.0993, -2.3552, -3.0345, -2.4218, -1.6087, -1.9824, -2.6968,\n",
       "         -2.1470, -2.9785],\n",
       "        [-2.5407, -2.2102, -2.4633, -3.0135, -2.5525, -1.4150, -2.1339, -2.6464,\n",
       "         -2.3189, -2.6772],\n",
       "        [-2.8179, -1.9656, -2.1694, -3.7723, -2.6209, -1.4765, -2.0226, -2.6909,\n",
       "         -2.5380, -2.4935]], grad_fn=<LogSoftmaxBackward0>)"
      ]
     },
     "execution_count": 9,
     "metadata": {},
     "output_type": "execute_result"
    }
   ],
   "source": [
    "F.log_softmax(outputs)"
   ]
  },
  {
   "cell_type": "code",
   "execution_count": 8,
   "metadata": {},
   "outputs": [
    {
     "data": {
      "text/plain": [
       "tensor([[-2.7134, -1.9890, -2.1898, -3.0593, -2.4901, -1.7049, -2.2637, -2.6460,\n",
       "         -2.0978, -2.5812],\n",
       "        [-2.8016, -2.0182, -2.3013, -3.1272, -2.7497, -1.4516, -1.9575, -2.5890,\n",
       "         -2.5533, -2.6572],\n",
       "        [-2.6213, -2.0993, -2.3552, -3.0345, -2.4218, -1.6087, -1.9824, -2.6968,\n",
       "         -2.1470, -2.9785],\n",
       "        [-2.5407, -2.2102, -2.4633, -3.0135, -2.5525, -1.4150, -2.1339, -2.6464,\n",
       "         -2.3189, -2.6772],\n",
       "        [-2.8179, -1.9656, -2.1694, -3.7723, -2.6209, -1.4765, -2.0226, -2.6909,\n",
       "         -2.5380, -2.4935]], grad_fn=<LogSoftmaxBackward0>)"
      ]
     },
     "execution_count": 8,
     "metadata": {},
     "output_type": "execute_result"
    }
   ],
   "source": [
    "orig_outputs"
   ]
  },
  {
   "cell_type": "code",
   "execution_count": 10,
   "metadata": {},
   "outputs": [
    {
     "data": {
      "text/plain": [
       "tensor(2.6328, grad_fn=<NllLossBackward0>)"
      ]
     },
     "execution_count": 10,
     "metadata": {},
     "output_type": "execute_result"
    }
   ],
   "source": [
    "model.loss_fn(outputs, targets)"
   ]
  },
  {
   "cell_type": "code",
   "execution_count": 11,
   "metadata": {},
   "outputs": [
    {
     "data": {
      "text/plain": [
       "tensor(2.6328, grad_fn=<NllLossBackward0>)"
      ]
     },
     "execution_count": 11,
     "metadata": {},
     "output_type": "execute_result"
    }
   ],
   "source": [
    "F.nll_loss(orig_outputs, targets)"
   ]
  },
  {
   "cell_type": "code",
   "execution_count": null,
   "metadata": {},
   "outputs": [],
   "source": []
  }
 ],
 "metadata": {
  "interpreter": {
   "hash": "1176387a9810f7f1a841218acca49828a5e717989aeccab36077f8d8f46dc67f"
  },
  "kernelspec": {
   "display_name": "Python 3.9.9 ('ai')",
   "language": "python",
   "name": "python3"
  },
  "language_info": {
   "codemirror_mode": {
    "name": "ipython",
    "version": 3
   },
   "file_extension": ".py",
   "mimetype": "text/x-python",
   "name": "python",
   "nbconvert_exporter": "python",
   "pygments_lexer": "ipython3",
   "version": "3.9.9"
  },
  "orig_nbformat": 4
 },
 "nbformat": 4,
 "nbformat_minor": 2
}
