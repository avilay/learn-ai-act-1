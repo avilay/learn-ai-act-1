{
 "cells": [
  {
   "cell_type": "code",
   "execution_count": 1,
   "id": "51a6a692-5169-43c5-baf0-cc6847500a6d",
   "metadata": {},
   "outputs": [],
   "source": [
    "import torch as t\n",
    "from torch.optim.lr_scheduler import *\n",
    "import numpy as np\n",
    "import plotly.express as px\n",
    "import pandas as pd\n",
    "from functools import partial"
   ]
  },
  {
   "cell_type": "markdown",
   "id": "2e5094e2-635a-4f68-b947-c1f7c0860be2",
   "metadata": {},
   "source": [
    "# Learning Rate Schedulers\n",
    "Every time the `step()` method is called on the learning scheduler, it can potentially change the learning rate. Some learning rate schedulers actually change the learning rate only after `step()` has been called some number of times and not on every call. Typically, `step()` is called every epoch. So in most cases the learning rate will change every so many epochs.\n",
    "\n",
    "**In my notes below, I'll use the terms \"epoch\" and \"scheduler step\" interchangeably.**"
   ]
  },
  {
   "cell_type": "code",
   "execution_count": 2,
   "id": "fc69235d-a51e-42d9-9ff0-36de06d0f1ae",
   "metadata": {},
   "outputs": [],
   "source": [
    "def explore(lrsched, *, n_epochs=50, steps_per_epoch=7, optim_lr=1., change_every_step=False):\n",
    "    \"\"\"\n",
    "    Typically learning rate is changed with each epoch, but sometimes I have seen it change with every step.\n",
    "    change_every_step controls this behaviour. If set to False, it changes the lr only every epoch.\n",
    "    \"\"\"\n",
    "    model = t.nn.Linear(5, 1)\n",
    "    optim = t.optim.SGD(model.parameters(), lr=optim_lr)\n",
    "    # lr = t.optim.lr_scheduler.StepLR(optim, step_size=3, gamma=0.5)\n",
    "    lr = lrsched(optim)\n",
    "    lrs = []\n",
    "    epochs = []\n",
    "\n",
    "    for epoch in range(n_epochs):\n",
    "        for step in range(steps_per_epoch):\n",
    "            optim.zero_grad()\n",
    "            curr_lr = lr.get_last_lr()[0]\n",
    "            # curr_lr_ = optim.state_dict()[\"param_groups\"][0][\"lr\"]\n",
    "            lrs.append(curr_lr)\n",
    "            epochs.append(str(epoch))\n",
    "            optim.step()\n",
    "            if change_every_step:\n",
    "                lr.step()\n",
    "        if not change_every_step:\n",
    "            lr.step()\n",
    "\n",
    "    df = pd.DataFrame({\n",
    "        \"epoch\": pd.Series(epochs),\n",
    "        \"lr\": pd.Series(lrs)\n",
    "    })  \n",
    "    px.scatter(df, x=df.index, y=\"lr\", color=\"epoch\").show()\n",
    "    return df"
   ]
  },
  {
   "cell_type": "code",
   "execution_count": null,
   "id": "a87acfed-4d4d-4335-a97c-12416e1ee32f",
   "metadata": {},
   "outputs": [],
   "source": []
  },
  {
   "cell_type": "markdown",
   "id": "97b83867-2f56-4ba7-94cc-ffa27b1b97ed",
   "metadata": {},
   "source": [
    "## ExponentialLR\n",
    "Exponentially decays the optimizer's configured learning rate by multiplying it with $\\gamma$ at every scheduler step (i.e., every epoch)."
   ]
  },
  {
   "cell_type": "code",
   "execution_count": 3,
   "id": "61441147-707b-4bec-8df2-f56a4717afbd",
   "metadata": {},
   "outputs": [
    {
     "data": {
      "application/vnd.plotly.v1+json": {
       "config": {
        "plotlyServerURL": "https://plot.ly"
       },
       "data": [
        {
         "hovertemplate": "epoch=0<br>index=%{x}<br>lr=%{y}<extra></extra>",
         "legendgroup": "0",
         "marker": {
          "color": "#636efa",
          "symbol": "circle"
         },
         "mode": "markers",
         "name": "0",
         "orientation": "v",
         "showlegend": true,
         "type": "scatter",
         "x": [
          0,
          1,
          2,
          3,
          4,
          5,
          6
         ],
         "xaxis": "x",
         "y": [
          1,
          1,
          1,
          1,
          1,
          1,
          1
         ],
         "yaxis": "y"
        },
        {
         "hovertemplate": "epoch=1<br>index=%{x}<br>lr=%{y}<extra></extra>",
         "legendgroup": "1",
         "marker": {
          "color": "#EF553B",
          "symbol": "circle"
         },
         "mode": "markers",
         "name": "1",
         "orientation": "v",
         "showlegend": true,
         "type": "scatter",
         "x": [
          7,
          8,
          9,
          10,
          11,
          12,
          13
         ],
         "xaxis": "x",
         "y": [
          0.8,
          0.8,
          0.8,
          0.8,
          0.8,
          0.8,
          0.8
         ],
         "yaxis": "y"
        },
        {
         "hovertemplate": "epoch=2<br>index=%{x}<br>lr=%{y}<extra></extra>",
         "legendgroup": "2",
         "marker": {
          "color": "#00cc96",
          "symbol": "circle"
         },
         "mode": "markers",
         "name": "2",
         "orientation": "v",
         "showlegend": true,
         "type": "scatter",
         "x": [
          14,
          15,
          16,
          17,
          18,
          19,
          20
         ],
         "xaxis": "x",
         "y": [
          0.6400000000000001,
          0.6400000000000001,
          0.6400000000000001,
          0.6400000000000001,
          0.6400000000000001,
          0.6400000000000001,
          0.6400000000000001
         ],
         "yaxis": "y"
        },
        {
         "hovertemplate": "epoch=3<br>index=%{x}<br>lr=%{y}<extra></extra>",
         "legendgroup": "3",
         "marker": {
          "color": "#ab63fa",
          "symbol": "circle"
         },
         "mode": "markers",
         "name": "3",
         "orientation": "v",
         "showlegend": true,
         "type": "scatter",
         "x": [
          21,
          22,
          23,
          24,
          25,
          26,
          27
         ],
         "xaxis": "x",
         "y": [
          0.5120000000000001,
          0.5120000000000001,
          0.5120000000000001,
          0.5120000000000001,
          0.5120000000000001,
          0.5120000000000001,
          0.5120000000000001
         ],
         "yaxis": "y"
        },
        {
         "hovertemplate": "epoch=4<br>index=%{x}<br>lr=%{y}<extra></extra>",
         "legendgroup": "4",
         "marker": {
          "color": "#FFA15A",
          "symbol": "circle"
         },
         "mode": "markers",
         "name": "4",
         "orientation": "v",
         "showlegend": true,
         "type": "scatter",
         "x": [
          28,
          29,
          30,
          31,
          32,
          33,
          34
         ],
         "xaxis": "x",
         "y": [
          0.40960000000000013,
          0.40960000000000013,
          0.40960000000000013,
          0.40960000000000013,
          0.40960000000000013,
          0.40960000000000013,
          0.40960000000000013
         ],
         "yaxis": "y"
        },
        {
         "hovertemplate": "epoch=5<br>index=%{x}<br>lr=%{y}<extra></extra>",
         "legendgroup": "5",
         "marker": {
          "color": "#19d3f3",
          "symbol": "circle"
         },
         "mode": "markers",
         "name": "5",
         "orientation": "v",
         "showlegend": true,
         "type": "scatter",
         "x": [
          35,
          36,
          37,
          38,
          39,
          40,
          41
         ],
         "xaxis": "x",
         "y": [
          0.32768000000000014,
          0.32768000000000014,
          0.32768000000000014,
          0.32768000000000014,
          0.32768000000000014,
          0.32768000000000014,
          0.32768000000000014
         ],
         "yaxis": "y"
        },
        {
         "hovertemplate": "epoch=6<br>index=%{x}<br>lr=%{y}<extra></extra>",
         "legendgroup": "6",
         "marker": {
          "color": "#FF6692",
          "symbol": "circle"
         },
         "mode": "markers",
         "name": "6",
         "orientation": "v",
         "showlegend": true,
         "type": "scatter",
         "x": [
          42,
          43,
          44,
          45,
          46,
          47,
          48
         ],
         "xaxis": "x",
         "y": [
          0.2621440000000001,
          0.2621440000000001,
          0.2621440000000001,
          0.2621440000000001,
          0.2621440000000001,
          0.2621440000000001,
          0.2621440000000001
         ],
         "yaxis": "y"
        },
        {
         "hovertemplate": "epoch=7<br>index=%{x}<br>lr=%{y}<extra></extra>",
         "legendgroup": "7",
         "marker": {
          "color": "#B6E880",
          "symbol": "circle"
         },
         "mode": "markers",
         "name": "7",
         "orientation": "v",
         "showlegend": true,
         "type": "scatter",
         "x": [
          49,
          50,
          51,
          52,
          53,
          54,
          55
         ],
         "xaxis": "x",
         "y": [
          0.2097152000000001,
          0.2097152000000001,
          0.2097152000000001,
          0.2097152000000001,
          0.2097152000000001,
          0.2097152000000001,
          0.2097152000000001
         ],
         "yaxis": "y"
        },
        {
         "hovertemplate": "epoch=8<br>index=%{x}<br>lr=%{y}<extra></extra>",
         "legendgroup": "8",
         "marker": {
          "color": "#FF97FF",
          "symbol": "circle"
         },
         "mode": "markers",
         "name": "8",
         "orientation": "v",
         "showlegend": true,
         "type": "scatter",
         "x": [
          56,
          57,
          58,
          59,
          60,
          61,
          62
         ],
         "xaxis": "x",
         "y": [
          0.1677721600000001,
          0.1677721600000001,
          0.1677721600000001,
          0.1677721600000001,
          0.1677721600000001,
          0.1677721600000001,
          0.1677721600000001
         ],
         "yaxis": "y"
        },
        {
         "hovertemplate": "epoch=9<br>index=%{x}<br>lr=%{y}<extra></extra>",
         "legendgroup": "9",
         "marker": {
          "color": "#FECB52",
          "symbol": "circle"
         },
         "mode": "markers",
         "name": "9",
         "orientation": "v",
         "showlegend": true,
         "type": "scatter",
         "x": [
          63,
          64,
          65,
          66,
          67,
          68,
          69
         ],
         "xaxis": "x",
         "y": [
          0.13421772800000006,
          0.13421772800000006,
          0.13421772800000006,
          0.13421772800000006,
          0.13421772800000006,
          0.13421772800000006,
          0.13421772800000006
         ],
         "yaxis": "y"
        },
        {
         "hovertemplate": "epoch=10<br>index=%{x}<br>lr=%{y}<extra></extra>",
         "legendgroup": "10",
         "marker": {
          "color": "#636efa",
          "symbol": "circle"
         },
         "mode": "markers",
         "name": "10",
         "orientation": "v",
         "showlegend": true,
         "type": "scatter",
         "x": [
          70,
          71,
          72,
          73,
          74,
          75,
          76
         ],
         "xaxis": "x",
         "y": [
          0.10737418240000006,
          0.10737418240000006,
          0.10737418240000006,
          0.10737418240000006,
          0.10737418240000006,
          0.10737418240000006,
          0.10737418240000006
         ],
         "yaxis": "y"
        },
        {
         "hovertemplate": "epoch=11<br>index=%{x}<br>lr=%{y}<extra></extra>",
         "legendgroup": "11",
         "marker": {
          "color": "#EF553B",
          "symbol": "circle"
         },
         "mode": "markers",
         "name": "11",
         "orientation": "v",
         "showlegend": true,
         "type": "scatter",
         "x": [
          77,
          78,
          79,
          80,
          81,
          82,
          83
         ],
         "xaxis": "x",
         "y": [
          0.08589934592000005,
          0.08589934592000005,
          0.08589934592000005,
          0.08589934592000005,
          0.08589934592000005,
          0.08589934592000005,
          0.08589934592000005
         ],
         "yaxis": "y"
        },
        {
         "hovertemplate": "epoch=12<br>index=%{x}<br>lr=%{y}<extra></extra>",
         "legendgroup": "12",
         "marker": {
          "color": "#00cc96",
          "symbol": "circle"
         },
         "mode": "markers",
         "name": "12",
         "orientation": "v",
         "showlegend": true,
         "type": "scatter",
         "x": [
          84,
          85,
          86,
          87,
          88,
          89,
          90
         ],
         "xaxis": "x",
         "y": [
          0.06871947673600004,
          0.06871947673600004,
          0.06871947673600004,
          0.06871947673600004,
          0.06871947673600004,
          0.06871947673600004,
          0.06871947673600004
         ],
         "yaxis": "y"
        },
        {
         "hovertemplate": "epoch=13<br>index=%{x}<br>lr=%{y}<extra></extra>",
         "legendgroup": "13",
         "marker": {
          "color": "#ab63fa",
          "symbol": "circle"
         },
         "mode": "markers",
         "name": "13",
         "orientation": "v",
         "showlegend": true,
         "type": "scatter",
         "x": [
          91,
          92,
          93,
          94,
          95,
          96,
          97
         ],
         "xaxis": "x",
         "y": [
          0.054975581388800036,
          0.054975581388800036,
          0.054975581388800036,
          0.054975581388800036,
          0.054975581388800036,
          0.054975581388800036,
          0.054975581388800036
         ],
         "yaxis": "y"
        },
        {
         "hovertemplate": "epoch=14<br>index=%{x}<br>lr=%{y}<extra></extra>",
         "legendgroup": "14",
         "marker": {
          "color": "#FFA15A",
          "symbol": "circle"
         },
         "mode": "markers",
         "name": "14",
         "orientation": "v",
         "showlegend": true,
         "type": "scatter",
         "x": [
          98,
          99,
          100,
          101,
          102,
          103,
          104
         ],
         "xaxis": "x",
         "y": [
          0.043980465111040035,
          0.043980465111040035,
          0.043980465111040035,
          0.043980465111040035,
          0.043980465111040035,
          0.043980465111040035,
          0.043980465111040035
         ],
         "yaxis": "y"
        },
        {
         "hovertemplate": "epoch=15<br>index=%{x}<br>lr=%{y}<extra></extra>",
         "legendgroup": "15",
         "marker": {
          "color": "#19d3f3",
          "symbol": "circle"
         },
         "mode": "markers",
         "name": "15",
         "orientation": "v",
         "showlegend": true,
         "type": "scatter",
         "x": [
          105,
          106,
          107,
          108,
          109,
          110,
          111
         ],
         "xaxis": "x",
         "y": [
          0.03518437208883203,
          0.03518437208883203,
          0.03518437208883203,
          0.03518437208883203,
          0.03518437208883203,
          0.03518437208883203,
          0.03518437208883203
         ],
         "yaxis": "y"
        },
        {
         "hovertemplate": "epoch=16<br>index=%{x}<br>lr=%{y}<extra></extra>",
         "legendgroup": "16",
         "marker": {
          "color": "#FF6692",
          "symbol": "circle"
         },
         "mode": "markers",
         "name": "16",
         "orientation": "v",
         "showlegend": true,
         "type": "scatter",
         "x": [
          112,
          113,
          114,
          115,
          116,
          117,
          118
         ],
         "xaxis": "x",
         "y": [
          0.028147497671065627,
          0.028147497671065627,
          0.028147497671065627,
          0.028147497671065627,
          0.028147497671065627,
          0.028147497671065627,
          0.028147497671065627
         ],
         "yaxis": "y"
        },
        {
         "hovertemplate": "epoch=17<br>index=%{x}<br>lr=%{y}<extra></extra>",
         "legendgroup": "17",
         "marker": {
          "color": "#B6E880",
          "symbol": "circle"
         },
         "mode": "markers",
         "name": "17",
         "orientation": "v",
         "showlegend": true,
         "type": "scatter",
         "x": [
          119,
          120,
          121,
          122,
          123,
          124,
          125
         ],
         "xaxis": "x",
         "y": [
          0.022517998136852502,
          0.022517998136852502,
          0.022517998136852502,
          0.022517998136852502,
          0.022517998136852502,
          0.022517998136852502,
          0.022517998136852502
         ],
         "yaxis": "y"
        },
        {
         "hovertemplate": "epoch=18<br>index=%{x}<br>lr=%{y}<extra></extra>",
         "legendgroup": "18",
         "marker": {
          "color": "#FF97FF",
          "symbol": "circle"
         },
         "mode": "markers",
         "name": "18",
         "orientation": "v",
         "showlegend": true,
         "type": "scatter",
         "x": [
          126,
          127,
          128,
          129,
          130,
          131,
          132
         ],
         "xaxis": "x",
         "y": [
          0.018014398509482003,
          0.018014398509482003,
          0.018014398509482003,
          0.018014398509482003,
          0.018014398509482003,
          0.018014398509482003,
          0.018014398509482003
         ],
         "yaxis": "y"
        },
        {
         "hovertemplate": "epoch=19<br>index=%{x}<br>lr=%{y}<extra></extra>",
         "legendgroup": "19",
         "marker": {
          "color": "#FECB52",
          "symbol": "circle"
         },
         "mode": "markers",
         "name": "19",
         "orientation": "v",
         "showlegend": true,
         "type": "scatter",
         "x": [
          133,
          134,
          135,
          136,
          137,
          138,
          139
         ],
         "xaxis": "x",
         "y": [
          0.014411518807585602,
          0.014411518807585602,
          0.014411518807585602,
          0.014411518807585602,
          0.014411518807585602,
          0.014411518807585602,
          0.014411518807585602
         ],
         "yaxis": "y"
        },
        {
         "hovertemplate": "epoch=20<br>index=%{x}<br>lr=%{y}<extra></extra>",
         "legendgroup": "20",
         "marker": {
          "color": "#636efa",
          "symbol": "circle"
         },
         "mode": "markers",
         "name": "20",
         "orientation": "v",
         "showlegend": true,
         "type": "scatter",
         "x": [
          140,
          141,
          142,
          143,
          144,
          145,
          146
         ],
         "xaxis": "x",
         "y": [
          0.011529215046068483,
          0.011529215046068483,
          0.011529215046068483,
          0.011529215046068483,
          0.011529215046068483,
          0.011529215046068483,
          0.011529215046068483
         ],
         "yaxis": "y"
        },
        {
         "hovertemplate": "epoch=21<br>index=%{x}<br>lr=%{y}<extra></extra>",
         "legendgroup": "21",
         "marker": {
          "color": "#EF553B",
          "symbol": "circle"
         },
         "mode": "markers",
         "name": "21",
         "orientation": "v",
         "showlegend": true,
         "type": "scatter",
         "x": [
          147,
          148,
          149,
          150,
          151,
          152,
          153
         ],
         "xaxis": "x",
         "y": [
          0.009223372036854787,
          0.009223372036854787,
          0.009223372036854787,
          0.009223372036854787,
          0.009223372036854787,
          0.009223372036854787,
          0.009223372036854787
         ],
         "yaxis": "y"
        },
        {
         "hovertemplate": "epoch=22<br>index=%{x}<br>lr=%{y}<extra></extra>",
         "legendgroup": "22",
         "marker": {
          "color": "#00cc96",
          "symbol": "circle"
         },
         "mode": "markers",
         "name": "22",
         "orientation": "v",
         "showlegend": true,
         "type": "scatter",
         "x": [
          154,
          155,
          156,
          157,
          158,
          159,
          160
         ],
         "xaxis": "x",
         "y": [
          0.00737869762948383,
          0.00737869762948383,
          0.00737869762948383,
          0.00737869762948383,
          0.00737869762948383,
          0.00737869762948383,
          0.00737869762948383
         ],
         "yaxis": "y"
        },
        {
         "hovertemplate": "epoch=23<br>index=%{x}<br>lr=%{y}<extra></extra>",
         "legendgroup": "23",
         "marker": {
          "color": "#ab63fa",
          "symbol": "circle"
         },
         "mode": "markers",
         "name": "23",
         "orientation": "v",
         "showlegend": true,
         "type": "scatter",
         "x": [
          161,
          162,
          163,
          164,
          165,
          166,
          167
         ],
         "xaxis": "x",
         "y": [
          0.005902958103587064,
          0.005902958103587064,
          0.005902958103587064,
          0.005902958103587064,
          0.005902958103587064,
          0.005902958103587064,
          0.005902958103587064
         ],
         "yaxis": "y"
        },
        {
         "hovertemplate": "epoch=24<br>index=%{x}<br>lr=%{y}<extra></extra>",
         "legendgroup": "24",
         "marker": {
          "color": "#FFA15A",
          "symbol": "circle"
         },
         "mode": "markers",
         "name": "24",
         "orientation": "v",
         "showlegend": true,
         "type": "scatter",
         "x": [
          168,
          169,
          170,
          171,
          172,
          173,
          174
         ],
         "xaxis": "x",
         "y": [
          0.004722366482869652,
          0.004722366482869652,
          0.004722366482869652,
          0.004722366482869652,
          0.004722366482869652,
          0.004722366482869652,
          0.004722366482869652
         ],
         "yaxis": "y"
        },
        {
         "hovertemplate": "epoch=25<br>index=%{x}<br>lr=%{y}<extra></extra>",
         "legendgroup": "25",
         "marker": {
          "color": "#19d3f3",
          "symbol": "circle"
         },
         "mode": "markers",
         "name": "25",
         "orientation": "v",
         "showlegend": true,
         "type": "scatter",
         "x": [
          175,
          176,
          177,
          178,
          179,
          180,
          181
         ],
         "xaxis": "x",
         "y": [
          0.0037778931862957215,
          0.0037778931862957215,
          0.0037778931862957215,
          0.0037778931862957215,
          0.0037778931862957215,
          0.0037778931862957215,
          0.0037778931862957215
         ],
         "yaxis": "y"
        },
        {
         "hovertemplate": "epoch=26<br>index=%{x}<br>lr=%{y}<extra></extra>",
         "legendgroup": "26",
         "marker": {
          "color": "#FF6692",
          "symbol": "circle"
         },
         "mode": "markers",
         "name": "26",
         "orientation": "v",
         "showlegend": true,
         "type": "scatter",
         "x": [
          182,
          183,
          184,
          185,
          186,
          187,
          188
         ],
         "xaxis": "x",
         "y": [
          0.0030223145490365774,
          0.0030223145490365774,
          0.0030223145490365774,
          0.0030223145490365774,
          0.0030223145490365774,
          0.0030223145490365774,
          0.0030223145490365774
         ],
         "yaxis": "y"
        },
        {
         "hovertemplate": "epoch=27<br>index=%{x}<br>lr=%{y}<extra></extra>",
         "legendgroup": "27",
         "marker": {
          "color": "#B6E880",
          "symbol": "circle"
         },
         "mode": "markers",
         "name": "27",
         "orientation": "v",
         "showlegend": true,
         "type": "scatter",
         "x": [
          189,
          190,
          191,
          192,
          193,
          194,
          195
         ],
         "xaxis": "x",
         "y": [
          0.002417851639229262,
          0.002417851639229262,
          0.002417851639229262,
          0.002417851639229262,
          0.002417851639229262,
          0.002417851639229262,
          0.002417851639229262
         ],
         "yaxis": "y"
        },
        {
         "hovertemplate": "epoch=28<br>index=%{x}<br>lr=%{y}<extra></extra>",
         "legendgroup": "28",
         "marker": {
          "color": "#FF97FF",
          "symbol": "circle"
         },
         "mode": "markers",
         "name": "28",
         "orientation": "v",
         "showlegend": true,
         "type": "scatter",
         "x": [
          196,
          197,
          198,
          199,
          200,
          201,
          202
         ],
         "xaxis": "x",
         "y": [
          0.0019342813113834097,
          0.0019342813113834097,
          0.0019342813113834097,
          0.0019342813113834097,
          0.0019342813113834097,
          0.0019342813113834097,
          0.0019342813113834097
         ],
         "yaxis": "y"
        },
        {
         "hovertemplate": "epoch=29<br>index=%{x}<br>lr=%{y}<extra></extra>",
         "legendgroup": "29",
         "marker": {
          "color": "#FECB52",
          "symbol": "circle"
         },
         "mode": "markers",
         "name": "29",
         "orientation": "v",
         "showlegend": true,
         "type": "scatter",
         "x": [
          203,
          204,
          205,
          206,
          207,
          208,
          209
         ],
         "xaxis": "x",
         "y": [
          0.0015474250491067279,
          0.0015474250491067279,
          0.0015474250491067279,
          0.0015474250491067279,
          0.0015474250491067279,
          0.0015474250491067279,
          0.0015474250491067279
         ],
         "yaxis": "y"
        },
        {
         "hovertemplate": "epoch=30<br>index=%{x}<br>lr=%{y}<extra></extra>",
         "legendgroup": "30",
         "marker": {
          "color": "#636efa",
          "symbol": "circle"
         },
         "mode": "markers",
         "name": "30",
         "orientation": "v",
         "showlegend": true,
         "type": "scatter",
         "x": [
          210,
          211,
          212,
          213,
          214,
          215,
          216
         ],
         "xaxis": "x",
         "y": [
          0.0012379400392853823,
          0.0012379400392853823,
          0.0012379400392853823,
          0.0012379400392853823,
          0.0012379400392853823,
          0.0012379400392853823,
          0.0012379400392853823
         ],
         "yaxis": "y"
        },
        {
         "hovertemplate": "epoch=31<br>index=%{x}<br>lr=%{y}<extra></extra>",
         "legendgroup": "31",
         "marker": {
          "color": "#EF553B",
          "symbol": "circle"
         },
         "mode": "markers",
         "name": "31",
         "orientation": "v",
         "showlegend": true,
         "type": "scatter",
         "x": [
          217,
          218,
          219,
          220,
          221,
          222,
          223
         ],
         "xaxis": "x",
         "y": [
          0.0009903520314283058,
          0.0009903520314283058,
          0.0009903520314283058,
          0.0009903520314283058,
          0.0009903520314283058,
          0.0009903520314283058,
          0.0009903520314283058
         ],
         "yaxis": "y"
        },
        {
         "hovertemplate": "epoch=32<br>index=%{x}<br>lr=%{y}<extra></extra>",
         "legendgroup": "32",
         "marker": {
          "color": "#00cc96",
          "symbol": "circle"
         },
         "mode": "markers",
         "name": "32",
         "orientation": "v",
         "showlegend": true,
         "type": "scatter",
         "x": [
          224,
          225,
          226,
          227,
          228,
          229,
          230
         ],
         "xaxis": "x",
         "y": [
          0.0007922816251426447,
          0.0007922816251426447,
          0.0007922816251426447,
          0.0007922816251426447,
          0.0007922816251426447,
          0.0007922816251426447,
          0.0007922816251426447
         ],
         "yaxis": "y"
        },
        {
         "hovertemplate": "epoch=33<br>index=%{x}<br>lr=%{y}<extra></extra>",
         "legendgroup": "33",
         "marker": {
          "color": "#ab63fa",
          "symbol": "circle"
         },
         "mode": "markers",
         "name": "33",
         "orientation": "v",
         "showlegend": true,
         "type": "scatter",
         "x": [
          231,
          232,
          233,
          234,
          235,
          236,
          237
         ],
         "xaxis": "x",
         "y": [
          0.0006338253001141158,
          0.0006338253001141158,
          0.0006338253001141158,
          0.0006338253001141158,
          0.0006338253001141158,
          0.0006338253001141158,
          0.0006338253001141158
         ],
         "yaxis": "y"
        },
        {
         "hovertemplate": "epoch=34<br>index=%{x}<br>lr=%{y}<extra></extra>",
         "legendgroup": "34",
         "marker": {
          "color": "#FFA15A",
          "symbol": "circle"
         },
         "mode": "markers",
         "name": "34",
         "orientation": "v",
         "showlegend": true,
         "type": "scatter",
         "x": [
          238,
          239,
          240,
          241,
          242,
          243,
          244
         ],
         "xaxis": "x",
         "y": [
          0.0005070602400912927,
          0.0005070602400912927,
          0.0005070602400912927,
          0.0005070602400912927,
          0.0005070602400912927,
          0.0005070602400912927,
          0.0005070602400912927
         ],
         "yaxis": "y"
        },
        {
         "hovertemplate": "epoch=35<br>index=%{x}<br>lr=%{y}<extra></extra>",
         "legendgroup": "35",
         "marker": {
          "color": "#19d3f3",
          "symbol": "circle"
         },
         "mode": "markers",
         "name": "35",
         "orientation": "v",
         "showlegend": true,
         "type": "scatter",
         "x": [
          245,
          246,
          247,
          248,
          249,
          250,
          251
         ],
         "xaxis": "x",
         "y": [
          0.00040564819207303417,
          0.00040564819207303417,
          0.00040564819207303417,
          0.00040564819207303417,
          0.00040564819207303417,
          0.00040564819207303417,
          0.00040564819207303417
         ],
         "yaxis": "y"
        },
        {
         "hovertemplate": "epoch=36<br>index=%{x}<br>lr=%{y}<extra></extra>",
         "legendgroup": "36",
         "marker": {
          "color": "#FF6692",
          "symbol": "circle"
         },
         "mode": "markers",
         "name": "36",
         "orientation": "v",
         "showlegend": true,
         "type": "scatter",
         "x": [
          252,
          253,
          254,
          255,
          256,
          257,
          258
         ],
         "xaxis": "x",
         "y": [
          0.00032451855365842736,
          0.00032451855365842736,
          0.00032451855365842736,
          0.00032451855365842736,
          0.00032451855365842736,
          0.00032451855365842736,
          0.00032451855365842736
         ],
         "yaxis": "y"
        },
        {
         "hovertemplate": "epoch=37<br>index=%{x}<br>lr=%{y}<extra></extra>",
         "legendgroup": "37",
         "marker": {
          "color": "#B6E880",
          "symbol": "circle"
         },
         "mode": "markers",
         "name": "37",
         "orientation": "v",
         "showlegend": true,
         "type": "scatter",
         "x": [
          259,
          260,
          261,
          262,
          263,
          264,
          265
         ],
         "xaxis": "x",
         "y": [
          0.0002596148429267419,
          0.0002596148429267419,
          0.0002596148429267419,
          0.0002596148429267419,
          0.0002596148429267419,
          0.0002596148429267419,
          0.0002596148429267419
         ],
         "yaxis": "y"
        },
        {
         "hovertemplate": "epoch=38<br>index=%{x}<br>lr=%{y}<extra></extra>",
         "legendgroup": "38",
         "marker": {
          "color": "#FF97FF",
          "symbol": "circle"
         },
         "mode": "markers",
         "name": "38",
         "orientation": "v",
         "showlegend": true,
         "type": "scatter",
         "x": [
          266,
          267,
          268,
          269,
          270,
          271,
          272
         ],
         "xaxis": "x",
         "y": [
          0.00020769187434139353,
          0.00020769187434139353,
          0.00020769187434139353,
          0.00020769187434139353,
          0.00020769187434139353,
          0.00020769187434139353,
          0.00020769187434139353
         ],
         "yaxis": "y"
        },
        {
         "hovertemplate": "epoch=39<br>index=%{x}<br>lr=%{y}<extra></extra>",
         "legendgroup": "39",
         "marker": {
          "color": "#FECB52",
          "symbol": "circle"
         },
         "mode": "markers",
         "name": "39",
         "orientation": "v",
         "showlegend": true,
         "type": "scatter",
         "x": [
          273,
          274,
          275,
          276,
          277,
          278,
          279
         ],
         "xaxis": "x",
         "y": [
          0.00016615349947311482,
          0.00016615349947311482,
          0.00016615349947311482,
          0.00016615349947311482,
          0.00016615349947311482,
          0.00016615349947311482,
          0.00016615349947311482
         ],
         "yaxis": "y"
        },
        {
         "hovertemplate": "epoch=40<br>index=%{x}<br>lr=%{y}<extra></extra>",
         "legendgroup": "40",
         "marker": {
          "color": "#636efa",
          "symbol": "circle"
         },
         "mode": "markers",
         "name": "40",
         "orientation": "v",
         "showlegend": true,
         "type": "scatter",
         "x": [
          280,
          281,
          282,
          283,
          284,
          285,
          286
         ],
         "xaxis": "x",
         "y": [
          0.00013292279957849188,
          0.00013292279957849188,
          0.00013292279957849188,
          0.00013292279957849188,
          0.00013292279957849188,
          0.00013292279957849188,
          0.00013292279957849188
         ],
         "yaxis": "y"
        },
        {
         "hovertemplate": "epoch=41<br>index=%{x}<br>lr=%{y}<extra></extra>",
         "legendgroup": "41",
         "marker": {
          "color": "#EF553B",
          "symbol": "circle"
         },
         "mode": "markers",
         "name": "41",
         "orientation": "v",
         "showlegend": true,
         "type": "scatter",
         "x": [
          287,
          288,
          289,
          290,
          291,
          292,
          293
         ],
         "xaxis": "x",
         "y": [
          0.0001063382396627935,
          0.0001063382396627935,
          0.0001063382396627935,
          0.0001063382396627935,
          0.0001063382396627935,
          0.0001063382396627935,
          0.0001063382396627935
         ],
         "yaxis": "y"
        },
        {
         "hovertemplate": "epoch=42<br>index=%{x}<br>lr=%{y}<extra></extra>",
         "legendgroup": "42",
         "marker": {
          "color": "#00cc96",
          "symbol": "circle"
         },
         "mode": "markers",
         "name": "42",
         "orientation": "v",
         "showlegend": true,
         "type": "scatter",
         "x": [
          294,
          295,
          296,
          297,
          298,
          299,
          300
         ],
         "xaxis": "x",
         "y": [
          0.00008507059173023481,
          0.00008507059173023481,
          0.00008507059173023481,
          0.00008507059173023481,
          0.00008507059173023481,
          0.00008507059173023481,
          0.00008507059173023481
         ],
         "yaxis": "y"
        },
        {
         "hovertemplate": "epoch=43<br>index=%{x}<br>lr=%{y}<extra></extra>",
         "legendgroup": "43",
         "marker": {
          "color": "#ab63fa",
          "symbol": "circle"
         },
         "mode": "markers",
         "name": "43",
         "orientation": "v",
         "showlegend": true,
         "type": "scatter",
         "x": [
          301,
          302,
          303,
          304,
          305,
          306,
          307
         ],
         "xaxis": "x",
         "y": [
          0.00006805647338418785,
          0.00006805647338418785,
          0.00006805647338418785,
          0.00006805647338418785,
          0.00006805647338418785,
          0.00006805647338418785,
          0.00006805647338418785
         ],
         "yaxis": "y"
        },
        {
         "hovertemplate": "epoch=44<br>index=%{x}<br>lr=%{y}<extra></extra>",
         "legendgroup": "44",
         "marker": {
          "color": "#FFA15A",
          "symbol": "circle"
         },
         "mode": "markers",
         "name": "44",
         "orientation": "v",
         "showlegend": true,
         "type": "scatter",
         "x": [
          308,
          309,
          310,
          311,
          312,
          313,
          314
         ],
         "xaxis": "x",
         "y": [
          0.00005444517870735028,
          0.00005444517870735028,
          0.00005444517870735028,
          0.00005444517870735028,
          0.00005444517870735028,
          0.00005444517870735028,
          0.00005444517870735028
         ],
         "yaxis": "y"
        },
        {
         "hovertemplate": "epoch=45<br>index=%{x}<br>lr=%{y}<extra></extra>",
         "legendgroup": "45",
         "marker": {
          "color": "#19d3f3",
          "symbol": "circle"
         },
         "mode": "markers",
         "name": "45",
         "orientation": "v",
         "showlegend": true,
         "type": "scatter",
         "x": [
          315,
          316,
          317,
          318,
          319,
          320,
          321
         ],
         "xaxis": "x",
         "y": [
          0.000043556142965880224,
          0.000043556142965880224,
          0.000043556142965880224,
          0.000043556142965880224,
          0.000043556142965880224,
          0.000043556142965880224,
          0.000043556142965880224
         ],
         "yaxis": "y"
        },
        {
         "hovertemplate": "epoch=46<br>index=%{x}<br>lr=%{y}<extra></extra>",
         "legendgroup": "46",
         "marker": {
          "color": "#FF6692",
          "symbol": "circle"
         },
         "mode": "markers",
         "name": "46",
         "orientation": "v",
         "showlegend": true,
         "type": "scatter",
         "x": [
          322,
          323,
          324,
          325,
          326,
          327,
          328
         ],
         "xaxis": "x",
         "y": [
          0.00003484491437270418,
          0.00003484491437270418,
          0.00003484491437270418,
          0.00003484491437270418,
          0.00003484491437270418,
          0.00003484491437270418,
          0.00003484491437270418
         ],
         "yaxis": "y"
        },
        {
         "hovertemplate": "epoch=47<br>index=%{x}<br>lr=%{y}<extra></extra>",
         "legendgroup": "47",
         "marker": {
          "color": "#B6E880",
          "symbol": "circle"
         },
         "mode": "markers",
         "name": "47",
         "orientation": "v",
         "showlegend": true,
         "type": "scatter",
         "x": [
          329,
          330,
          331,
          332,
          333,
          334,
          335
         ],
         "xaxis": "x",
         "y": [
          0.000027875931498163346,
          0.000027875931498163346,
          0.000027875931498163346,
          0.000027875931498163346,
          0.000027875931498163346,
          0.000027875931498163346,
          0.000027875931498163346
         ],
         "yaxis": "y"
        },
        {
         "hovertemplate": "epoch=48<br>index=%{x}<br>lr=%{y}<extra></extra>",
         "legendgroup": "48",
         "marker": {
          "color": "#FF97FF",
          "symbol": "circle"
         },
         "mode": "markers",
         "name": "48",
         "orientation": "v",
         "showlegend": true,
         "type": "scatter",
         "x": [
          336,
          337,
          338,
          339,
          340,
          341,
          342
         ],
         "xaxis": "x",
         "y": [
          0.000022300745198530677,
          0.000022300745198530677,
          0.000022300745198530677,
          0.000022300745198530677,
          0.000022300745198530677,
          0.000022300745198530677,
          0.000022300745198530677
         ],
         "yaxis": "y"
        },
        {
         "hovertemplate": "epoch=49<br>index=%{x}<br>lr=%{y}<extra></extra>",
         "legendgroup": "49",
         "marker": {
          "color": "#FECB52",
          "symbol": "circle"
         },
         "mode": "markers",
         "name": "49",
         "orientation": "v",
         "showlegend": true,
         "type": "scatter",
         "x": [
          343,
          344,
          345,
          346,
          347,
          348,
          349
         ],
         "xaxis": "x",
         "y": [
          0.00001784059615882454,
          0.00001784059615882454,
          0.00001784059615882454,
          0.00001784059615882454,
          0.00001784059615882454,
          0.00001784059615882454,
          0.00001784059615882454
         ],
         "yaxis": "y"
        }
       ],
       "layout": {
        "legend": {
         "title": {
          "text": "epoch"
         },
         "tracegroupgap": 0
        },
        "margin": {
         "t": 60
        },
        "template": {
         "data": {
          "bar": [
           {
            "error_x": {
             "color": "#2a3f5f"
            },
            "error_y": {
             "color": "#2a3f5f"
            },
            "marker": {
             "line": {
              "color": "#E5ECF6",
              "width": 0.5
             },
             "pattern": {
              "fillmode": "overlay",
              "size": 10,
              "solidity": 0.2
             }
            },
            "type": "bar"
           }
          ],
          "barpolar": [
           {
            "marker": {
             "line": {
              "color": "#E5ECF6",
              "width": 0.5
             },
             "pattern": {
              "fillmode": "overlay",
              "size": 10,
              "solidity": 0.2
             }
            },
            "type": "barpolar"
           }
          ],
          "carpet": [
           {
            "aaxis": {
             "endlinecolor": "#2a3f5f",
             "gridcolor": "white",
             "linecolor": "white",
             "minorgridcolor": "white",
             "startlinecolor": "#2a3f5f"
            },
            "baxis": {
             "endlinecolor": "#2a3f5f",
             "gridcolor": "white",
             "linecolor": "white",
             "minorgridcolor": "white",
             "startlinecolor": "#2a3f5f"
            },
            "type": "carpet"
           }
          ],
          "choropleth": [
           {
            "colorbar": {
             "outlinewidth": 0,
             "ticks": ""
            },
            "type": "choropleth"
           }
          ],
          "contour": [
           {
            "colorbar": {
             "outlinewidth": 0,
             "ticks": ""
            },
            "colorscale": [
             [
              0,
              "#0d0887"
             ],
             [
              0.1111111111111111,
              "#46039f"
             ],
             [
              0.2222222222222222,
              "#7201a8"
             ],
             [
              0.3333333333333333,
              "#9c179e"
             ],
             [
              0.4444444444444444,
              "#bd3786"
             ],
             [
              0.5555555555555556,
              "#d8576b"
             ],
             [
              0.6666666666666666,
              "#ed7953"
             ],
             [
              0.7777777777777778,
              "#fb9f3a"
             ],
             [
              0.8888888888888888,
              "#fdca26"
             ],
             [
              1,
              "#f0f921"
             ]
            ],
            "type": "contour"
           }
          ],
          "contourcarpet": [
           {
            "colorbar": {
             "outlinewidth": 0,
             "ticks": ""
            },
            "type": "contourcarpet"
           }
          ],
          "heatmap": [
           {
            "colorbar": {
             "outlinewidth": 0,
             "ticks": ""
            },
            "colorscale": [
             [
              0,
              "#0d0887"
             ],
             [
              0.1111111111111111,
              "#46039f"
             ],
             [
              0.2222222222222222,
              "#7201a8"
             ],
             [
              0.3333333333333333,
              "#9c179e"
             ],
             [
              0.4444444444444444,
              "#bd3786"
             ],
             [
              0.5555555555555556,
              "#d8576b"
             ],
             [
              0.6666666666666666,
              "#ed7953"
             ],
             [
              0.7777777777777778,
              "#fb9f3a"
             ],
             [
              0.8888888888888888,
              "#fdca26"
             ],
             [
              1,
              "#f0f921"
             ]
            ],
            "type": "heatmap"
           }
          ],
          "heatmapgl": [
           {
            "colorbar": {
             "outlinewidth": 0,
             "ticks": ""
            },
            "colorscale": [
             [
              0,
              "#0d0887"
             ],
             [
              0.1111111111111111,
              "#46039f"
             ],
             [
              0.2222222222222222,
              "#7201a8"
             ],
             [
              0.3333333333333333,
              "#9c179e"
             ],
             [
              0.4444444444444444,
              "#bd3786"
             ],
             [
              0.5555555555555556,
              "#d8576b"
             ],
             [
              0.6666666666666666,
              "#ed7953"
             ],
             [
              0.7777777777777778,
              "#fb9f3a"
             ],
             [
              0.8888888888888888,
              "#fdca26"
             ],
             [
              1,
              "#f0f921"
             ]
            ],
            "type": "heatmapgl"
           }
          ],
          "histogram": [
           {
            "marker": {
             "pattern": {
              "fillmode": "overlay",
              "size": 10,
              "solidity": 0.2
             }
            },
            "type": "histogram"
           }
          ],
          "histogram2d": [
           {
            "colorbar": {
             "outlinewidth": 0,
             "ticks": ""
            },
            "colorscale": [
             [
              0,
              "#0d0887"
             ],
             [
              0.1111111111111111,
              "#46039f"
             ],
             [
              0.2222222222222222,
              "#7201a8"
             ],
             [
              0.3333333333333333,
              "#9c179e"
             ],
             [
              0.4444444444444444,
              "#bd3786"
             ],
             [
              0.5555555555555556,
              "#d8576b"
             ],
             [
              0.6666666666666666,
              "#ed7953"
             ],
             [
              0.7777777777777778,
              "#fb9f3a"
             ],
             [
              0.8888888888888888,
              "#fdca26"
             ],
             [
              1,
              "#f0f921"
             ]
            ],
            "type": "histogram2d"
           }
          ],
          "histogram2dcontour": [
           {
            "colorbar": {
             "outlinewidth": 0,
             "ticks": ""
            },
            "colorscale": [
             [
              0,
              "#0d0887"
             ],
             [
              0.1111111111111111,
              "#46039f"
             ],
             [
              0.2222222222222222,
              "#7201a8"
             ],
             [
              0.3333333333333333,
              "#9c179e"
             ],
             [
              0.4444444444444444,
              "#bd3786"
             ],
             [
              0.5555555555555556,
              "#d8576b"
             ],
             [
              0.6666666666666666,
              "#ed7953"
             ],
             [
              0.7777777777777778,
              "#fb9f3a"
             ],
             [
              0.8888888888888888,
              "#fdca26"
             ],
             [
              1,
              "#f0f921"
             ]
            ],
            "type": "histogram2dcontour"
           }
          ],
          "mesh3d": [
           {
            "colorbar": {
             "outlinewidth": 0,
             "ticks": ""
            },
            "type": "mesh3d"
           }
          ],
          "parcoords": [
           {
            "line": {
             "colorbar": {
              "outlinewidth": 0,
              "ticks": ""
             }
            },
            "type": "parcoords"
           }
          ],
          "pie": [
           {
            "automargin": true,
            "type": "pie"
           }
          ],
          "scatter": [
           {
            "fillpattern": {
             "fillmode": "overlay",
             "size": 10,
             "solidity": 0.2
            },
            "type": "scatter"
           }
          ],
          "scatter3d": [
           {
            "line": {
             "colorbar": {
              "outlinewidth": 0,
              "ticks": ""
             }
            },
            "marker": {
             "colorbar": {
              "outlinewidth": 0,
              "ticks": ""
             }
            },
            "type": "scatter3d"
           }
          ],
          "scattercarpet": [
           {
            "marker": {
             "colorbar": {
              "outlinewidth": 0,
              "ticks": ""
             }
            },
            "type": "scattercarpet"
           }
          ],
          "scattergeo": [
           {
            "marker": {
             "colorbar": {
              "outlinewidth": 0,
              "ticks": ""
             }
            },
            "type": "scattergeo"
           }
          ],
          "scattergl": [
           {
            "marker": {
             "colorbar": {
              "outlinewidth": 0,
              "ticks": ""
             }
            },
            "type": "scattergl"
           }
          ],
          "scattermapbox": [
           {
            "marker": {
             "colorbar": {
              "outlinewidth": 0,
              "ticks": ""
             }
            },
            "type": "scattermapbox"
           }
          ],
          "scatterpolar": [
           {
            "marker": {
             "colorbar": {
              "outlinewidth": 0,
              "ticks": ""
             }
            },
            "type": "scatterpolar"
           }
          ],
          "scatterpolargl": [
           {
            "marker": {
             "colorbar": {
              "outlinewidth": 0,
              "ticks": ""
             }
            },
            "type": "scatterpolargl"
           }
          ],
          "scatterternary": [
           {
            "marker": {
             "colorbar": {
              "outlinewidth": 0,
              "ticks": ""
             }
            },
            "type": "scatterternary"
           }
          ],
          "surface": [
           {
            "colorbar": {
             "outlinewidth": 0,
             "ticks": ""
            },
            "colorscale": [
             [
              0,
              "#0d0887"
             ],
             [
              0.1111111111111111,
              "#46039f"
             ],
             [
              0.2222222222222222,
              "#7201a8"
             ],
             [
              0.3333333333333333,
              "#9c179e"
             ],
             [
              0.4444444444444444,
              "#bd3786"
             ],
             [
              0.5555555555555556,
              "#d8576b"
             ],
             [
              0.6666666666666666,
              "#ed7953"
             ],
             [
              0.7777777777777778,
              "#fb9f3a"
             ],
             [
              0.8888888888888888,
              "#fdca26"
             ],
             [
              1,
              "#f0f921"
             ]
            ],
            "type": "surface"
           }
          ],
          "table": [
           {
            "cells": {
             "fill": {
              "color": "#EBF0F8"
             },
             "line": {
              "color": "white"
             }
            },
            "header": {
             "fill": {
              "color": "#C8D4E3"
             },
             "line": {
              "color": "white"
             }
            },
            "type": "table"
           }
          ]
         },
         "layout": {
          "annotationdefaults": {
           "arrowcolor": "#2a3f5f",
           "arrowhead": 0,
           "arrowwidth": 1
          },
          "autotypenumbers": "strict",
          "coloraxis": {
           "colorbar": {
            "outlinewidth": 0,
            "ticks": ""
           }
          },
          "colorscale": {
           "diverging": [
            [
             0,
             "#8e0152"
            ],
            [
             0.1,
             "#c51b7d"
            ],
            [
             0.2,
             "#de77ae"
            ],
            [
             0.3,
             "#f1b6da"
            ],
            [
             0.4,
             "#fde0ef"
            ],
            [
             0.5,
             "#f7f7f7"
            ],
            [
             0.6,
             "#e6f5d0"
            ],
            [
             0.7,
             "#b8e186"
            ],
            [
             0.8,
             "#7fbc41"
            ],
            [
             0.9,
             "#4d9221"
            ],
            [
             1,
             "#276419"
            ]
           ],
           "sequential": [
            [
             0,
             "#0d0887"
            ],
            [
             0.1111111111111111,
             "#46039f"
            ],
            [
             0.2222222222222222,
             "#7201a8"
            ],
            [
             0.3333333333333333,
             "#9c179e"
            ],
            [
             0.4444444444444444,
             "#bd3786"
            ],
            [
             0.5555555555555556,
             "#d8576b"
            ],
            [
             0.6666666666666666,
             "#ed7953"
            ],
            [
             0.7777777777777778,
             "#fb9f3a"
            ],
            [
             0.8888888888888888,
             "#fdca26"
            ],
            [
             1,
             "#f0f921"
            ]
           ],
           "sequentialminus": [
            [
             0,
             "#0d0887"
            ],
            [
             0.1111111111111111,
             "#46039f"
            ],
            [
             0.2222222222222222,
             "#7201a8"
            ],
            [
             0.3333333333333333,
             "#9c179e"
            ],
            [
             0.4444444444444444,
             "#bd3786"
            ],
            [
             0.5555555555555556,
             "#d8576b"
            ],
            [
             0.6666666666666666,
             "#ed7953"
            ],
            [
             0.7777777777777778,
             "#fb9f3a"
            ],
            [
             0.8888888888888888,
             "#fdca26"
            ],
            [
             1,
             "#f0f921"
            ]
           ]
          },
          "colorway": [
           "#636efa",
           "#EF553B",
           "#00cc96",
           "#ab63fa",
           "#FFA15A",
           "#19d3f3",
           "#FF6692",
           "#B6E880",
           "#FF97FF",
           "#FECB52"
          ],
          "font": {
           "color": "#2a3f5f"
          },
          "geo": {
           "bgcolor": "white",
           "lakecolor": "white",
           "landcolor": "#E5ECF6",
           "showlakes": true,
           "showland": true,
           "subunitcolor": "white"
          },
          "hoverlabel": {
           "align": "left"
          },
          "hovermode": "closest",
          "mapbox": {
           "style": "light"
          },
          "paper_bgcolor": "white",
          "plot_bgcolor": "#E5ECF6",
          "polar": {
           "angularaxis": {
            "gridcolor": "white",
            "linecolor": "white",
            "ticks": ""
           },
           "bgcolor": "#E5ECF6",
           "radialaxis": {
            "gridcolor": "white",
            "linecolor": "white",
            "ticks": ""
           }
          },
          "scene": {
           "xaxis": {
            "backgroundcolor": "#E5ECF6",
            "gridcolor": "white",
            "gridwidth": 2,
            "linecolor": "white",
            "showbackground": true,
            "ticks": "",
            "zerolinecolor": "white"
           },
           "yaxis": {
            "backgroundcolor": "#E5ECF6",
            "gridcolor": "white",
            "gridwidth": 2,
            "linecolor": "white",
            "showbackground": true,
            "ticks": "",
            "zerolinecolor": "white"
           },
           "zaxis": {
            "backgroundcolor": "#E5ECF6",
            "gridcolor": "white",
            "gridwidth": 2,
            "linecolor": "white",
            "showbackground": true,
            "ticks": "",
            "zerolinecolor": "white"
           }
          },
          "shapedefaults": {
           "line": {
            "color": "#2a3f5f"
           }
          },
          "ternary": {
           "aaxis": {
            "gridcolor": "white",
            "linecolor": "white",
            "ticks": ""
           },
           "baxis": {
            "gridcolor": "white",
            "linecolor": "white",
            "ticks": ""
           },
           "bgcolor": "#E5ECF6",
           "caxis": {
            "gridcolor": "white",
            "linecolor": "white",
            "ticks": ""
           }
          },
          "title": {
           "x": 0.05
          },
          "xaxis": {
           "automargin": true,
           "gridcolor": "white",
           "linecolor": "white",
           "ticks": "",
           "title": {
            "standoff": 15
           },
           "zerolinecolor": "white",
           "zerolinewidth": 2
          },
          "yaxis": {
           "automargin": true,
           "gridcolor": "white",
           "linecolor": "white",
           "ticks": "",
           "title": {
            "standoff": 15
           },
           "zerolinecolor": "white",
           "zerolinewidth": 2
          }
         }
        },
        "xaxis": {
         "anchor": "y",
         "domain": [
          0,
          1
         ],
         "title": {
          "text": "index"
         }
        },
        "yaxis": {
         "anchor": "x",
         "domain": [
          0,
          1
         ],
         "title": {
          "text": "lr"
         }
        }
       }
      }
     },
     "metadata": {},
     "output_type": "display_data"
    }
   ],
   "source": [
    "lrsched = partial(ExponentialLR, gamma=0.8)\n",
    "df = explore(lrsched, optim_lr=1.0)"
   ]
  },
  {
   "cell_type": "code",
   "execution_count": null,
   "id": "2aca452e-ba34-45b6-9091-43d85c392363",
   "metadata": {},
   "outputs": [],
   "source": []
  },
  {
   "cell_type": "markdown",
   "id": "97116e67-9e66-49d4-b4dd-87613a3ae115",
   "metadata": {},
   "source": [
    "## StepLR\n",
    "This is a more general form of `ExponentialLR` where instead of decaying the learning rate with every epoch, I can decay it every so many epochs given by the `step_size`."
   ]
  },
  {
   "cell_type": "code",
   "execution_count": 4,
   "id": "12633673-b0ee-4cfe-942f-de0159b00330",
   "metadata": {},
   "outputs": [
    {
     "data": {
      "application/vnd.plotly.v1+json": {
       "config": {
        "plotlyServerURL": "https://plot.ly"
       },
       "data": [
        {
         "hovertemplate": "epoch=0<br>index=%{x}<br>lr=%{y}<extra></extra>",
         "legendgroup": "0",
         "marker": {
          "color": "#636efa",
          "symbol": "circle"
         },
         "mode": "markers",
         "name": "0",
         "orientation": "v",
         "showlegend": true,
         "type": "scatter",
         "x": [
          0,
          1,
          2,
          3,
          4,
          5,
          6
         ],
         "xaxis": "x",
         "y": [
          1,
          1,
          1,
          1,
          1,
          1,
          1
         ],
         "yaxis": "y"
        },
        {
         "hovertemplate": "epoch=1<br>index=%{x}<br>lr=%{y}<extra></extra>",
         "legendgroup": "1",
         "marker": {
          "color": "#EF553B",
          "symbol": "circle"
         },
         "mode": "markers",
         "name": "1",
         "orientation": "v",
         "showlegend": true,
         "type": "scatter",
         "x": [
          7,
          8,
          9,
          10,
          11,
          12,
          13
         ],
         "xaxis": "x",
         "y": [
          1,
          1,
          1,
          1,
          1,
          1,
          1
         ],
         "yaxis": "y"
        },
        {
         "hovertemplate": "epoch=2<br>index=%{x}<br>lr=%{y}<extra></extra>",
         "legendgroup": "2",
         "marker": {
          "color": "#00cc96",
          "symbol": "circle"
         },
         "mode": "markers",
         "name": "2",
         "orientation": "v",
         "showlegend": true,
         "type": "scatter",
         "x": [
          14,
          15,
          16,
          17,
          18,
          19,
          20
         ],
         "xaxis": "x",
         "y": [
          0.8,
          0.8,
          0.8,
          0.8,
          0.8,
          0.8,
          0.8
         ],
         "yaxis": "y"
        },
        {
         "hovertemplate": "epoch=3<br>index=%{x}<br>lr=%{y}<extra></extra>",
         "legendgroup": "3",
         "marker": {
          "color": "#ab63fa",
          "symbol": "circle"
         },
         "mode": "markers",
         "name": "3",
         "orientation": "v",
         "showlegend": true,
         "type": "scatter",
         "x": [
          21,
          22,
          23,
          24,
          25,
          26,
          27
         ],
         "xaxis": "x",
         "y": [
          0.8,
          0.8,
          0.8,
          0.8,
          0.8,
          0.8,
          0.8
         ],
         "yaxis": "y"
        },
        {
         "hovertemplate": "epoch=4<br>index=%{x}<br>lr=%{y}<extra></extra>",
         "legendgroup": "4",
         "marker": {
          "color": "#FFA15A",
          "symbol": "circle"
         },
         "mode": "markers",
         "name": "4",
         "orientation": "v",
         "showlegend": true,
         "type": "scatter",
         "x": [
          28,
          29,
          30,
          31,
          32,
          33,
          34
         ],
         "xaxis": "x",
         "y": [
          0.6400000000000001,
          0.6400000000000001,
          0.6400000000000001,
          0.6400000000000001,
          0.6400000000000001,
          0.6400000000000001,
          0.6400000000000001
         ],
         "yaxis": "y"
        },
        {
         "hovertemplate": "epoch=5<br>index=%{x}<br>lr=%{y}<extra></extra>",
         "legendgroup": "5",
         "marker": {
          "color": "#19d3f3",
          "symbol": "circle"
         },
         "mode": "markers",
         "name": "5",
         "orientation": "v",
         "showlegend": true,
         "type": "scatter",
         "x": [
          35,
          36,
          37,
          38,
          39,
          40,
          41
         ],
         "xaxis": "x",
         "y": [
          0.6400000000000001,
          0.6400000000000001,
          0.6400000000000001,
          0.6400000000000001,
          0.6400000000000001,
          0.6400000000000001,
          0.6400000000000001
         ],
         "yaxis": "y"
        },
        {
         "hovertemplate": "epoch=6<br>index=%{x}<br>lr=%{y}<extra></extra>",
         "legendgroup": "6",
         "marker": {
          "color": "#FF6692",
          "symbol": "circle"
         },
         "mode": "markers",
         "name": "6",
         "orientation": "v",
         "showlegend": true,
         "type": "scatter",
         "x": [
          42,
          43,
          44,
          45,
          46,
          47,
          48
         ],
         "xaxis": "x",
         "y": [
          0.5120000000000001,
          0.5120000000000001,
          0.5120000000000001,
          0.5120000000000001,
          0.5120000000000001,
          0.5120000000000001,
          0.5120000000000001
         ],
         "yaxis": "y"
        },
        {
         "hovertemplate": "epoch=7<br>index=%{x}<br>lr=%{y}<extra></extra>",
         "legendgroup": "7",
         "marker": {
          "color": "#B6E880",
          "symbol": "circle"
         },
         "mode": "markers",
         "name": "7",
         "orientation": "v",
         "showlegend": true,
         "type": "scatter",
         "x": [
          49,
          50,
          51,
          52,
          53,
          54,
          55
         ],
         "xaxis": "x",
         "y": [
          0.5120000000000001,
          0.5120000000000001,
          0.5120000000000001,
          0.5120000000000001,
          0.5120000000000001,
          0.5120000000000001,
          0.5120000000000001
         ],
         "yaxis": "y"
        },
        {
         "hovertemplate": "epoch=8<br>index=%{x}<br>lr=%{y}<extra></extra>",
         "legendgroup": "8",
         "marker": {
          "color": "#FF97FF",
          "symbol": "circle"
         },
         "mode": "markers",
         "name": "8",
         "orientation": "v",
         "showlegend": true,
         "type": "scatter",
         "x": [
          56,
          57,
          58,
          59,
          60,
          61,
          62
         ],
         "xaxis": "x",
         "y": [
          0.40960000000000013,
          0.40960000000000013,
          0.40960000000000013,
          0.40960000000000013,
          0.40960000000000013,
          0.40960000000000013,
          0.40960000000000013
         ],
         "yaxis": "y"
        },
        {
         "hovertemplate": "epoch=9<br>index=%{x}<br>lr=%{y}<extra></extra>",
         "legendgroup": "9",
         "marker": {
          "color": "#FECB52",
          "symbol": "circle"
         },
         "mode": "markers",
         "name": "9",
         "orientation": "v",
         "showlegend": true,
         "type": "scatter",
         "x": [
          63,
          64,
          65,
          66,
          67,
          68,
          69
         ],
         "xaxis": "x",
         "y": [
          0.40960000000000013,
          0.40960000000000013,
          0.40960000000000013,
          0.40960000000000013,
          0.40960000000000013,
          0.40960000000000013,
          0.40960000000000013
         ],
         "yaxis": "y"
        },
        {
         "hovertemplate": "epoch=10<br>index=%{x}<br>lr=%{y}<extra></extra>",
         "legendgroup": "10",
         "marker": {
          "color": "#636efa",
          "symbol": "circle"
         },
         "mode": "markers",
         "name": "10",
         "orientation": "v",
         "showlegend": true,
         "type": "scatter",
         "x": [
          70,
          71,
          72,
          73,
          74,
          75,
          76
         ],
         "xaxis": "x",
         "y": [
          0.32768000000000014,
          0.32768000000000014,
          0.32768000000000014,
          0.32768000000000014,
          0.32768000000000014,
          0.32768000000000014,
          0.32768000000000014
         ],
         "yaxis": "y"
        },
        {
         "hovertemplate": "epoch=11<br>index=%{x}<br>lr=%{y}<extra></extra>",
         "legendgroup": "11",
         "marker": {
          "color": "#EF553B",
          "symbol": "circle"
         },
         "mode": "markers",
         "name": "11",
         "orientation": "v",
         "showlegend": true,
         "type": "scatter",
         "x": [
          77,
          78,
          79,
          80,
          81,
          82,
          83
         ],
         "xaxis": "x",
         "y": [
          0.32768000000000014,
          0.32768000000000014,
          0.32768000000000014,
          0.32768000000000014,
          0.32768000000000014,
          0.32768000000000014,
          0.32768000000000014
         ],
         "yaxis": "y"
        },
        {
         "hovertemplate": "epoch=12<br>index=%{x}<br>lr=%{y}<extra></extra>",
         "legendgroup": "12",
         "marker": {
          "color": "#00cc96",
          "symbol": "circle"
         },
         "mode": "markers",
         "name": "12",
         "orientation": "v",
         "showlegend": true,
         "type": "scatter",
         "x": [
          84,
          85,
          86,
          87,
          88,
          89,
          90
         ],
         "xaxis": "x",
         "y": [
          0.2621440000000001,
          0.2621440000000001,
          0.2621440000000001,
          0.2621440000000001,
          0.2621440000000001,
          0.2621440000000001,
          0.2621440000000001
         ],
         "yaxis": "y"
        },
        {
         "hovertemplate": "epoch=13<br>index=%{x}<br>lr=%{y}<extra></extra>",
         "legendgroup": "13",
         "marker": {
          "color": "#ab63fa",
          "symbol": "circle"
         },
         "mode": "markers",
         "name": "13",
         "orientation": "v",
         "showlegend": true,
         "type": "scatter",
         "x": [
          91,
          92,
          93,
          94,
          95,
          96,
          97
         ],
         "xaxis": "x",
         "y": [
          0.2621440000000001,
          0.2621440000000001,
          0.2621440000000001,
          0.2621440000000001,
          0.2621440000000001,
          0.2621440000000001,
          0.2621440000000001
         ],
         "yaxis": "y"
        },
        {
         "hovertemplate": "epoch=14<br>index=%{x}<br>lr=%{y}<extra></extra>",
         "legendgroup": "14",
         "marker": {
          "color": "#FFA15A",
          "symbol": "circle"
         },
         "mode": "markers",
         "name": "14",
         "orientation": "v",
         "showlegend": true,
         "type": "scatter",
         "x": [
          98,
          99,
          100,
          101,
          102,
          103,
          104
         ],
         "xaxis": "x",
         "y": [
          0.2097152000000001,
          0.2097152000000001,
          0.2097152000000001,
          0.2097152000000001,
          0.2097152000000001,
          0.2097152000000001,
          0.2097152000000001
         ],
         "yaxis": "y"
        },
        {
         "hovertemplate": "epoch=15<br>index=%{x}<br>lr=%{y}<extra></extra>",
         "legendgroup": "15",
         "marker": {
          "color": "#19d3f3",
          "symbol": "circle"
         },
         "mode": "markers",
         "name": "15",
         "orientation": "v",
         "showlegend": true,
         "type": "scatter",
         "x": [
          105,
          106,
          107,
          108,
          109,
          110,
          111
         ],
         "xaxis": "x",
         "y": [
          0.2097152000000001,
          0.2097152000000001,
          0.2097152000000001,
          0.2097152000000001,
          0.2097152000000001,
          0.2097152000000001,
          0.2097152000000001
         ],
         "yaxis": "y"
        },
        {
         "hovertemplate": "epoch=16<br>index=%{x}<br>lr=%{y}<extra></extra>",
         "legendgroup": "16",
         "marker": {
          "color": "#FF6692",
          "symbol": "circle"
         },
         "mode": "markers",
         "name": "16",
         "orientation": "v",
         "showlegend": true,
         "type": "scatter",
         "x": [
          112,
          113,
          114,
          115,
          116,
          117,
          118
         ],
         "xaxis": "x",
         "y": [
          0.1677721600000001,
          0.1677721600000001,
          0.1677721600000001,
          0.1677721600000001,
          0.1677721600000001,
          0.1677721600000001,
          0.1677721600000001
         ],
         "yaxis": "y"
        },
        {
         "hovertemplate": "epoch=17<br>index=%{x}<br>lr=%{y}<extra></extra>",
         "legendgroup": "17",
         "marker": {
          "color": "#B6E880",
          "symbol": "circle"
         },
         "mode": "markers",
         "name": "17",
         "orientation": "v",
         "showlegend": true,
         "type": "scatter",
         "x": [
          119,
          120,
          121,
          122,
          123,
          124,
          125
         ],
         "xaxis": "x",
         "y": [
          0.1677721600000001,
          0.1677721600000001,
          0.1677721600000001,
          0.1677721600000001,
          0.1677721600000001,
          0.1677721600000001,
          0.1677721600000001
         ],
         "yaxis": "y"
        },
        {
         "hovertemplate": "epoch=18<br>index=%{x}<br>lr=%{y}<extra></extra>",
         "legendgroup": "18",
         "marker": {
          "color": "#FF97FF",
          "symbol": "circle"
         },
         "mode": "markers",
         "name": "18",
         "orientation": "v",
         "showlegend": true,
         "type": "scatter",
         "x": [
          126,
          127,
          128,
          129,
          130,
          131,
          132
         ],
         "xaxis": "x",
         "y": [
          0.13421772800000006,
          0.13421772800000006,
          0.13421772800000006,
          0.13421772800000006,
          0.13421772800000006,
          0.13421772800000006,
          0.13421772800000006
         ],
         "yaxis": "y"
        },
        {
         "hovertemplate": "epoch=19<br>index=%{x}<br>lr=%{y}<extra></extra>",
         "legendgroup": "19",
         "marker": {
          "color": "#FECB52",
          "symbol": "circle"
         },
         "mode": "markers",
         "name": "19",
         "orientation": "v",
         "showlegend": true,
         "type": "scatter",
         "x": [
          133,
          134,
          135,
          136,
          137,
          138,
          139
         ],
         "xaxis": "x",
         "y": [
          0.13421772800000006,
          0.13421772800000006,
          0.13421772800000006,
          0.13421772800000006,
          0.13421772800000006,
          0.13421772800000006,
          0.13421772800000006
         ],
         "yaxis": "y"
        },
        {
         "hovertemplate": "epoch=20<br>index=%{x}<br>lr=%{y}<extra></extra>",
         "legendgroup": "20",
         "marker": {
          "color": "#636efa",
          "symbol": "circle"
         },
         "mode": "markers",
         "name": "20",
         "orientation": "v",
         "showlegend": true,
         "type": "scatter",
         "x": [
          140,
          141,
          142,
          143,
          144,
          145,
          146
         ],
         "xaxis": "x",
         "y": [
          0.10737418240000006,
          0.10737418240000006,
          0.10737418240000006,
          0.10737418240000006,
          0.10737418240000006,
          0.10737418240000006,
          0.10737418240000006
         ],
         "yaxis": "y"
        },
        {
         "hovertemplate": "epoch=21<br>index=%{x}<br>lr=%{y}<extra></extra>",
         "legendgroup": "21",
         "marker": {
          "color": "#EF553B",
          "symbol": "circle"
         },
         "mode": "markers",
         "name": "21",
         "orientation": "v",
         "showlegend": true,
         "type": "scatter",
         "x": [
          147,
          148,
          149,
          150,
          151,
          152,
          153
         ],
         "xaxis": "x",
         "y": [
          0.10737418240000006,
          0.10737418240000006,
          0.10737418240000006,
          0.10737418240000006,
          0.10737418240000006,
          0.10737418240000006,
          0.10737418240000006
         ],
         "yaxis": "y"
        },
        {
         "hovertemplate": "epoch=22<br>index=%{x}<br>lr=%{y}<extra></extra>",
         "legendgroup": "22",
         "marker": {
          "color": "#00cc96",
          "symbol": "circle"
         },
         "mode": "markers",
         "name": "22",
         "orientation": "v",
         "showlegend": true,
         "type": "scatter",
         "x": [
          154,
          155,
          156,
          157,
          158,
          159,
          160
         ],
         "xaxis": "x",
         "y": [
          0.08589934592000005,
          0.08589934592000005,
          0.08589934592000005,
          0.08589934592000005,
          0.08589934592000005,
          0.08589934592000005,
          0.08589934592000005
         ],
         "yaxis": "y"
        },
        {
         "hovertemplate": "epoch=23<br>index=%{x}<br>lr=%{y}<extra></extra>",
         "legendgroup": "23",
         "marker": {
          "color": "#ab63fa",
          "symbol": "circle"
         },
         "mode": "markers",
         "name": "23",
         "orientation": "v",
         "showlegend": true,
         "type": "scatter",
         "x": [
          161,
          162,
          163,
          164,
          165,
          166,
          167
         ],
         "xaxis": "x",
         "y": [
          0.08589934592000005,
          0.08589934592000005,
          0.08589934592000005,
          0.08589934592000005,
          0.08589934592000005,
          0.08589934592000005,
          0.08589934592000005
         ],
         "yaxis": "y"
        },
        {
         "hovertemplate": "epoch=24<br>index=%{x}<br>lr=%{y}<extra></extra>",
         "legendgroup": "24",
         "marker": {
          "color": "#FFA15A",
          "symbol": "circle"
         },
         "mode": "markers",
         "name": "24",
         "orientation": "v",
         "showlegend": true,
         "type": "scatter",
         "x": [
          168,
          169,
          170,
          171,
          172,
          173,
          174
         ],
         "xaxis": "x",
         "y": [
          0.06871947673600004,
          0.06871947673600004,
          0.06871947673600004,
          0.06871947673600004,
          0.06871947673600004,
          0.06871947673600004,
          0.06871947673600004
         ],
         "yaxis": "y"
        },
        {
         "hovertemplate": "epoch=25<br>index=%{x}<br>lr=%{y}<extra></extra>",
         "legendgroup": "25",
         "marker": {
          "color": "#19d3f3",
          "symbol": "circle"
         },
         "mode": "markers",
         "name": "25",
         "orientation": "v",
         "showlegend": true,
         "type": "scatter",
         "x": [
          175,
          176,
          177,
          178,
          179,
          180,
          181
         ],
         "xaxis": "x",
         "y": [
          0.06871947673600004,
          0.06871947673600004,
          0.06871947673600004,
          0.06871947673600004,
          0.06871947673600004,
          0.06871947673600004,
          0.06871947673600004
         ],
         "yaxis": "y"
        },
        {
         "hovertemplate": "epoch=26<br>index=%{x}<br>lr=%{y}<extra></extra>",
         "legendgroup": "26",
         "marker": {
          "color": "#FF6692",
          "symbol": "circle"
         },
         "mode": "markers",
         "name": "26",
         "orientation": "v",
         "showlegend": true,
         "type": "scatter",
         "x": [
          182,
          183,
          184,
          185,
          186,
          187,
          188
         ],
         "xaxis": "x",
         "y": [
          0.054975581388800036,
          0.054975581388800036,
          0.054975581388800036,
          0.054975581388800036,
          0.054975581388800036,
          0.054975581388800036,
          0.054975581388800036
         ],
         "yaxis": "y"
        },
        {
         "hovertemplate": "epoch=27<br>index=%{x}<br>lr=%{y}<extra></extra>",
         "legendgroup": "27",
         "marker": {
          "color": "#B6E880",
          "symbol": "circle"
         },
         "mode": "markers",
         "name": "27",
         "orientation": "v",
         "showlegend": true,
         "type": "scatter",
         "x": [
          189,
          190,
          191,
          192,
          193,
          194,
          195
         ],
         "xaxis": "x",
         "y": [
          0.054975581388800036,
          0.054975581388800036,
          0.054975581388800036,
          0.054975581388800036,
          0.054975581388800036,
          0.054975581388800036,
          0.054975581388800036
         ],
         "yaxis": "y"
        },
        {
         "hovertemplate": "epoch=28<br>index=%{x}<br>lr=%{y}<extra></extra>",
         "legendgroup": "28",
         "marker": {
          "color": "#FF97FF",
          "symbol": "circle"
         },
         "mode": "markers",
         "name": "28",
         "orientation": "v",
         "showlegend": true,
         "type": "scatter",
         "x": [
          196,
          197,
          198,
          199,
          200,
          201,
          202
         ],
         "xaxis": "x",
         "y": [
          0.043980465111040035,
          0.043980465111040035,
          0.043980465111040035,
          0.043980465111040035,
          0.043980465111040035,
          0.043980465111040035,
          0.043980465111040035
         ],
         "yaxis": "y"
        },
        {
         "hovertemplate": "epoch=29<br>index=%{x}<br>lr=%{y}<extra></extra>",
         "legendgroup": "29",
         "marker": {
          "color": "#FECB52",
          "symbol": "circle"
         },
         "mode": "markers",
         "name": "29",
         "orientation": "v",
         "showlegend": true,
         "type": "scatter",
         "x": [
          203,
          204,
          205,
          206,
          207,
          208,
          209
         ],
         "xaxis": "x",
         "y": [
          0.043980465111040035,
          0.043980465111040035,
          0.043980465111040035,
          0.043980465111040035,
          0.043980465111040035,
          0.043980465111040035,
          0.043980465111040035
         ],
         "yaxis": "y"
        },
        {
         "hovertemplate": "epoch=30<br>index=%{x}<br>lr=%{y}<extra></extra>",
         "legendgroup": "30",
         "marker": {
          "color": "#636efa",
          "symbol": "circle"
         },
         "mode": "markers",
         "name": "30",
         "orientation": "v",
         "showlegend": true,
         "type": "scatter",
         "x": [
          210,
          211,
          212,
          213,
          214,
          215,
          216
         ],
         "xaxis": "x",
         "y": [
          0.03518437208883203,
          0.03518437208883203,
          0.03518437208883203,
          0.03518437208883203,
          0.03518437208883203,
          0.03518437208883203,
          0.03518437208883203
         ],
         "yaxis": "y"
        },
        {
         "hovertemplate": "epoch=31<br>index=%{x}<br>lr=%{y}<extra></extra>",
         "legendgroup": "31",
         "marker": {
          "color": "#EF553B",
          "symbol": "circle"
         },
         "mode": "markers",
         "name": "31",
         "orientation": "v",
         "showlegend": true,
         "type": "scatter",
         "x": [
          217,
          218,
          219,
          220,
          221,
          222,
          223
         ],
         "xaxis": "x",
         "y": [
          0.03518437208883203,
          0.03518437208883203,
          0.03518437208883203,
          0.03518437208883203,
          0.03518437208883203,
          0.03518437208883203,
          0.03518437208883203
         ],
         "yaxis": "y"
        },
        {
         "hovertemplate": "epoch=32<br>index=%{x}<br>lr=%{y}<extra></extra>",
         "legendgroup": "32",
         "marker": {
          "color": "#00cc96",
          "symbol": "circle"
         },
         "mode": "markers",
         "name": "32",
         "orientation": "v",
         "showlegend": true,
         "type": "scatter",
         "x": [
          224,
          225,
          226,
          227,
          228,
          229,
          230
         ],
         "xaxis": "x",
         "y": [
          0.028147497671065627,
          0.028147497671065627,
          0.028147497671065627,
          0.028147497671065627,
          0.028147497671065627,
          0.028147497671065627,
          0.028147497671065627
         ],
         "yaxis": "y"
        },
        {
         "hovertemplate": "epoch=33<br>index=%{x}<br>lr=%{y}<extra></extra>",
         "legendgroup": "33",
         "marker": {
          "color": "#ab63fa",
          "symbol": "circle"
         },
         "mode": "markers",
         "name": "33",
         "orientation": "v",
         "showlegend": true,
         "type": "scatter",
         "x": [
          231,
          232,
          233,
          234,
          235,
          236,
          237
         ],
         "xaxis": "x",
         "y": [
          0.028147497671065627,
          0.028147497671065627,
          0.028147497671065627,
          0.028147497671065627,
          0.028147497671065627,
          0.028147497671065627,
          0.028147497671065627
         ],
         "yaxis": "y"
        },
        {
         "hovertemplate": "epoch=34<br>index=%{x}<br>lr=%{y}<extra></extra>",
         "legendgroup": "34",
         "marker": {
          "color": "#FFA15A",
          "symbol": "circle"
         },
         "mode": "markers",
         "name": "34",
         "orientation": "v",
         "showlegend": true,
         "type": "scatter",
         "x": [
          238,
          239,
          240,
          241,
          242,
          243,
          244
         ],
         "xaxis": "x",
         "y": [
          0.022517998136852502,
          0.022517998136852502,
          0.022517998136852502,
          0.022517998136852502,
          0.022517998136852502,
          0.022517998136852502,
          0.022517998136852502
         ],
         "yaxis": "y"
        },
        {
         "hovertemplate": "epoch=35<br>index=%{x}<br>lr=%{y}<extra></extra>",
         "legendgroup": "35",
         "marker": {
          "color": "#19d3f3",
          "symbol": "circle"
         },
         "mode": "markers",
         "name": "35",
         "orientation": "v",
         "showlegend": true,
         "type": "scatter",
         "x": [
          245,
          246,
          247,
          248,
          249,
          250,
          251
         ],
         "xaxis": "x",
         "y": [
          0.022517998136852502,
          0.022517998136852502,
          0.022517998136852502,
          0.022517998136852502,
          0.022517998136852502,
          0.022517998136852502,
          0.022517998136852502
         ],
         "yaxis": "y"
        },
        {
         "hovertemplate": "epoch=36<br>index=%{x}<br>lr=%{y}<extra></extra>",
         "legendgroup": "36",
         "marker": {
          "color": "#FF6692",
          "symbol": "circle"
         },
         "mode": "markers",
         "name": "36",
         "orientation": "v",
         "showlegend": true,
         "type": "scatter",
         "x": [
          252,
          253,
          254,
          255,
          256,
          257,
          258
         ],
         "xaxis": "x",
         "y": [
          0.018014398509482003,
          0.018014398509482003,
          0.018014398509482003,
          0.018014398509482003,
          0.018014398509482003,
          0.018014398509482003,
          0.018014398509482003
         ],
         "yaxis": "y"
        },
        {
         "hovertemplate": "epoch=37<br>index=%{x}<br>lr=%{y}<extra></extra>",
         "legendgroup": "37",
         "marker": {
          "color": "#B6E880",
          "symbol": "circle"
         },
         "mode": "markers",
         "name": "37",
         "orientation": "v",
         "showlegend": true,
         "type": "scatter",
         "x": [
          259,
          260,
          261,
          262,
          263,
          264,
          265
         ],
         "xaxis": "x",
         "y": [
          0.018014398509482003,
          0.018014398509482003,
          0.018014398509482003,
          0.018014398509482003,
          0.018014398509482003,
          0.018014398509482003,
          0.018014398509482003
         ],
         "yaxis": "y"
        },
        {
         "hovertemplate": "epoch=38<br>index=%{x}<br>lr=%{y}<extra></extra>",
         "legendgroup": "38",
         "marker": {
          "color": "#FF97FF",
          "symbol": "circle"
         },
         "mode": "markers",
         "name": "38",
         "orientation": "v",
         "showlegend": true,
         "type": "scatter",
         "x": [
          266,
          267,
          268,
          269,
          270,
          271,
          272
         ],
         "xaxis": "x",
         "y": [
          0.014411518807585602,
          0.014411518807585602,
          0.014411518807585602,
          0.014411518807585602,
          0.014411518807585602,
          0.014411518807585602,
          0.014411518807585602
         ],
         "yaxis": "y"
        },
        {
         "hovertemplate": "epoch=39<br>index=%{x}<br>lr=%{y}<extra></extra>",
         "legendgroup": "39",
         "marker": {
          "color": "#FECB52",
          "symbol": "circle"
         },
         "mode": "markers",
         "name": "39",
         "orientation": "v",
         "showlegend": true,
         "type": "scatter",
         "x": [
          273,
          274,
          275,
          276,
          277,
          278,
          279
         ],
         "xaxis": "x",
         "y": [
          0.014411518807585602,
          0.014411518807585602,
          0.014411518807585602,
          0.014411518807585602,
          0.014411518807585602,
          0.014411518807585602,
          0.014411518807585602
         ],
         "yaxis": "y"
        },
        {
         "hovertemplate": "epoch=40<br>index=%{x}<br>lr=%{y}<extra></extra>",
         "legendgroup": "40",
         "marker": {
          "color": "#636efa",
          "symbol": "circle"
         },
         "mode": "markers",
         "name": "40",
         "orientation": "v",
         "showlegend": true,
         "type": "scatter",
         "x": [
          280,
          281,
          282,
          283,
          284,
          285,
          286
         ],
         "xaxis": "x",
         "y": [
          0.011529215046068483,
          0.011529215046068483,
          0.011529215046068483,
          0.011529215046068483,
          0.011529215046068483,
          0.011529215046068483,
          0.011529215046068483
         ],
         "yaxis": "y"
        },
        {
         "hovertemplate": "epoch=41<br>index=%{x}<br>lr=%{y}<extra></extra>",
         "legendgroup": "41",
         "marker": {
          "color": "#EF553B",
          "symbol": "circle"
         },
         "mode": "markers",
         "name": "41",
         "orientation": "v",
         "showlegend": true,
         "type": "scatter",
         "x": [
          287,
          288,
          289,
          290,
          291,
          292,
          293
         ],
         "xaxis": "x",
         "y": [
          0.011529215046068483,
          0.011529215046068483,
          0.011529215046068483,
          0.011529215046068483,
          0.011529215046068483,
          0.011529215046068483,
          0.011529215046068483
         ],
         "yaxis": "y"
        },
        {
         "hovertemplate": "epoch=42<br>index=%{x}<br>lr=%{y}<extra></extra>",
         "legendgroup": "42",
         "marker": {
          "color": "#00cc96",
          "symbol": "circle"
         },
         "mode": "markers",
         "name": "42",
         "orientation": "v",
         "showlegend": true,
         "type": "scatter",
         "x": [
          294,
          295,
          296,
          297,
          298,
          299,
          300
         ],
         "xaxis": "x",
         "y": [
          0.009223372036854787,
          0.009223372036854787,
          0.009223372036854787,
          0.009223372036854787,
          0.009223372036854787,
          0.009223372036854787,
          0.009223372036854787
         ],
         "yaxis": "y"
        },
        {
         "hovertemplate": "epoch=43<br>index=%{x}<br>lr=%{y}<extra></extra>",
         "legendgroup": "43",
         "marker": {
          "color": "#ab63fa",
          "symbol": "circle"
         },
         "mode": "markers",
         "name": "43",
         "orientation": "v",
         "showlegend": true,
         "type": "scatter",
         "x": [
          301,
          302,
          303,
          304,
          305,
          306,
          307
         ],
         "xaxis": "x",
         "y": [
          0.009223372036854787,
          0.009223372036854787,
          0.009223372036854787,
          0.009223372036854787,
          0.009223372036854787,
          0.009223372036854787,
          0.009223372036854787
         ],
         "yaxis": "y"
        },
        {
         "hovertemplate": "epoch=44<br>index=%{x}<br>lr=%{y}<extra></extra>",
         "legendgroup": "44",
         "marker": {
          "color": "#FFA15A",
          "symbol": "circle"
         },
         "mode": "markers",
         "name": "44",
         "orientation": "v",
         "showlegend": true,
         "type": "scatter",
         "x": [
          308,
          309,
          310,
          311,
          312,
          313,
          314
         ],
         "xaxis": "x",
         "y": [
          0.00737869762948383,
          0.00737869762948383,
          0.00737869762948383,
          0.00737869762948383,
          0.00737869762948383,
          0.00737869762948383,
          0.00737869762948383
         ],
         "yaxis": "y"
        },
        {
         "hovertemplate": "epoch=45<br>index=%{x}<br>lr=%{y}<extra></extra>",
         "legendgroup": "45",
         "marker": {
          "color": "#19d3f3",
          "symbol": "circle"
         },
         "mode": "markers",
         "name": "45",
         "orientation": "v",
         "showlegend": true,
         "type": "scatter",
         "x": [
          315,
          316,
          317,
          318,
          319,
          320,
          321
         ],
         "xaxis": "x",
         "y": [
          0.00737869762948383,
          0.00737869762948383,
          0.00737869762948383,
          0.00737869762948383,
          0.00737869762948383,
          0.00737869762948383,
          0.00737869762948383
         ],
         "yaxis": "y"
        },
        {
         "hovertemplate": "epoch=46<br>index=%{x}<br>lr=%{y}<extra></extra>",
         "legendgroup": "46",
         "marker": {
          "color": "#FF6692",
          "symbol": "circle"
         },
         "mode": "markers",
         "name": "46",
         "orientation": "v",
         "showlegend": true,
         "type": "scatter",
         "x": [
          322,
          323,
          324,
          325,
          326,
          327,
          328
         ],
         "xaxis": "x",
         "y": [
          0.005902958103587064,
          0.005902958103587064,
          0.005902958103587064,
          0.005902958103587064,
          0.005902958103587064,
          0.005902958103587064,
          0.005902958103587064
         ],
         "yaxis": "y"
        },
        {
         "hovertemplate": "epoch=47<br>index=%{x}<br>lr=%{y}<extra></extra>",
         "legendgroup": "47",
         "marker": {
          "color": "#B6E880",
          "symbol": "circle"
         },
         "mode": "markers",
         "name": "47",
         "orientation": "v",
         "showlegend": true,
         "type": "scatter",
         "x": [
          329,
          330,
          331,
          332,
          333,
          334,
          335
         ],
         "xaxis": "x",
         "y": [
          0.005902958103587064,
          0.005902958103587064,
          0.005902958103587064,
          0.005902958103587064,
          0.005902958103587064,
          0.005902958103587064,
          0.005902958103587064
         ],
         "yaxis": "y"
        },
        {
         "hovertemplate": "epoch=48<br>index=%{x}<br>lr=%{y}<extra></extra>",
         "legendgroup": "48",
         "marker": {
          "color": "#FF97FF",
          "symbol": "circle"
         },
         "mode": "markers",
         "name": "48",
         "orientation": "v",
         "showlegend": true,
         "type": "scatter",
         "x": [
          336,
          337,
          338,
          339,
          340,
          341,
          342
         ],
         "xaxis": "x",
         "y": [
          0.004722366482869652,
          0.004722366482869652,
          0.004722366482869652,
          0.004722366482869652,
          0.004722366482869652,
          0.004722366482869652,
          0.004722366482869652
         ],
         "yaxis": "y"
        },
        {
         "hovertemplate": "epoch=49<br>index=%{x}<br>lr=%{y}<extra></extra>",
         "legendgroup": "49",
         "marker": {
          "color": "#FECB52",
          "symbol": "circle"
         },
         "mode": "markers",
         "name": "49",
         "orientation": "v",
         "showlegend": true,
         "type": "scatter",
         "x": [
          343,
          344,
          345,
          346,
          347,
          348,
          349
         ],
         "xaxis": "x",
         "y": [
          0.004722366482869652,
          0.004722366482869652,
          0.004722366482869652,
          0.004722366482869652,
          0.004722366482869652,
          0.004722366482869652,
          0.004722366482869652
         ],
         "yaxis": "y"
        }
       ],
       "layout": {
        "legend": {
         "title": {
          "text": "epoch"
         },
         "tracegroupgap": 0
        },
        "margin": {
         "t": 60
        },
        "template": {
         "data": {
          "bar": [
           {
            "error_x": {
             "color": "#2a3f5f"
            },
            "error_y": {
             "color": "#2a3f5f"
            },
            "marker": {
             "line": {
              "color": "#E5ECF6",
              "width": 0.5
             },
             "pattern": {
              "fillmode": "overlay",
              "size": 10,
              "solidity": 0.2
             }
            },
            "type": "bar"
           }
          ],
          "barpolar": [
           {
            "marker": {
             "line": {
              "color": "#E5ECF6",
              "width": 0.5
             },
             "pattern": {
              "fillmode": "overlay",
              "size": 10,
              "solidity": 0.2
             }
            },
            "type": "barpolar"
           }
          ],
          "carpet": [
           {
            "aaxis": {
             "endlinecolor": "#2a3f5f",
             "gridcolor": "white",
             "linecolor": "white",
             "minorgridcolor": "white",
             "startlinecolor": "#2a3f5f"
            },
            "baxis": {
             "endlinecolor": "#2a3f5f",
             "gridcolor": "white",
             "linecolor": "white",
             "minorgridcolor": "white",
             "startlinecolor": "#2a3f5f"
            },
            "type": "carpet"
           }
          ],
          "choropleth": [
           {
            "colorbar": {
             "outlinewidth": 0,
             "ticks": ""
            },
            "type": "choropleth"
           }
          ],
          "contour": [
           {
            "colorbar": {
             "outlinewidth": 0,
             "ticks": ""
            },
            "colorscale": [
             [
              0,
              "#0d0887"
             ],
             [
              0.1111111111111111,
              "#46039f"
             ],
             [
              0.2222222222222222,
              "#7201a8"
             ],
             [
              0.3333333333333333,
              "#9c179e"
             ],
             [
              0.4444444444444444,
              "#bd3786"
             ],
             [
              0.5555555555555556,
              "#d8576b"
             ],
             [
              0.6666666666666666,
              "#ed7953"
             ],
             [
              0.7777777777777778,
              "#fb9f3a"
             ],
             [
              0.8888888888888888,
              "#fdca26"
             ],
             [
              1,
              "#f0f921"
             ]
            ],
            "type": "contour"
           }
          ],
          "contourcarpet": [
           {
            "colorbar": {
             "outlinewidth": 0,
             "ticks": ""
            },
            "type": "contourcarpet"
           }
          ],
          "heatmap": [
           {
            "colorbar": {
             "outlinewidth": 0,
             "ticks": ""
            },
            "colorscale": [
             [
              0,
              "#0d0887"
             ],
             [
              0.1111111111111111,
              "#46039f"
             ],
             [
              0.2222222222222222,
              "#7201a8"
             ],
             [
              0.3333333333333333,
              "#9c179e"
             ],
             [
              0.4444444444444444,
              "#bd3786"
             ],
             [
              0.5555555555555556,
              "#d8576b"
             ],
             [
              0.6666666666666666,
              "#ed7953"
             ],
             [
              0.7777777777777778,
              "#fb9f3a"
             ],
             [
              0.8888888888888888,
              "#fdca26"
             ],
             [
              1,
              "#f0f921"
             ]
            ],
            "type": "heatmap"
           }
          ],
          "heatmapgl": [
           {
            "colorbar": {
             "outlinewidth": 0,
             "ticks": ""
            },
            "colorscale": [
             [
              0,
              "#0d0887"
             ],
             [
              0.1111111111111111,
              "#46039f"
             ],
             [
              0.2222222222222222,
              "#7201a8"
             ],
             [
              0.3333333333333333,
              "#9c179e"
             ],
             [
              0.4444444444444444,
              "#bd3786"
             ],
             [
              0.5555555555555556,
              "#d8576b"
             ],
             [
              0.6666666666666666,
              "#ed7953"
             ],
             [
              0.7777777777777778,
              "#fb9f3a"
             ],
             [
              0.8888888888888888,
              "#fdca26"
             ],
             [
              1,
              "#f0f921"
             ]
            ],
            "type": "heatmapgl"
           }
          ],
          "histogram": [
           {
            "marker": {
             "pattern": {
              "fillmode": "overlay",
              "size": 10,
              "solidity": 0.2
             }
            },
            "type": "histogram"
           }
          ],
          "histogram2d": [
           {
            "colorbar": {
             "outlinewidth": 0,
             "ticks": ""
            },
            "colorscale": [
             [
              0,
              "#0d0887"
             ],
             [
              0.1111111111111111,
              "#46039f"
             ],
             [
              0.2222222222222222,
              "#7201a8"
             ],
             [
              0.3333333333333333,
              "#9c179e"
             ],
             [
              0.4444444444444444,
              "#bd3786"
             ],
             [
              0.5555555555555556,
              "#d8576b"
             ],
             [
              0.6666666666666666,
              "#ed7953"
             ],
             [
              0.7777777777777778,
              "#fb9f3a"
             ],
             [
              0.8888888888888888,
              "#fdca26"
             ],
             [
              1,
              "#f0f921"
             ]
            ],
            "type": "histogram2d"
           }
          ],
          "histogram2dcontour": [
           {
            "colorbar": {
             "outlinewidth": 0,
             "ticks": ""
            },
            "colorscale": [
             [
              0,
              "#0d0887"
             ],
             [
              0.1111111111111111,
              "#46039f"
             ],
             [
              0.2222222222222222,
              "#7201a8"
             ],
             [
              0.3333333333333333,
              "#9c179e"
             ],
             [
              0.4444444444444444,
              "#bd3786"
             ],
             [
              0.5555555555555556,
              "#d8576b"
             ],
             [
              0.6666666666666666,
              "#ed7953"
             ],
             [
              0.7777777777777778,
              "#fb9f3a"
             ],
             [
              0.8888888888888888,
              "#fdca26"
             ],
             [
              1,
              "#f0f921"
             ]
            ],
            "type": "histogram2dcontour"
           }
          ],
          "mesh3d": [
           {
            "colorbar": {
             "outlinewidth": 0,
             "ticks": ""
            },
            "type": "mesh3d"
           }
          ],
          "parcoords": [
           {
            "line": {
             "colorbar": {
              "outlinewidth": 0,
              "ticks": ""
             }
            },
            "type": "parcoords"
           }
          ],
          "pie": [
           {
            "automargin": true,
            "type": "pie"
           }
          ],
          "scatter": [
           {
            "fillpattern": {
             "fillmode": "overlay",
             "size": 10,
             "solidity": 0.2
            },
            "type": "scatter"
           }
          ],
          "scatter3d": [
           {
            "line": {
             "colorbar": {
              "outlinewidth": 0,
              "ticks": ""
             }
            },
            "marker": {
             "colorbar": {
              "outlinewidth": 0,
              "ticks": ""
             }
            },
            "type": "scatter3d"
           }
          ],
          "scattercarpet": [
           {
            "marker": {
             "colorbar": {
              "outlinewidth": 0,
              "ticks": ""
             }
            },
            "type": "scattercarpet"
           }
          ],
          "scattergeo": [
           {
            "marker": {
             "colorbar": {
              "outlinewidth": 0,
              "ticks": ""
             }
            },
            "type": "scattergeo"
           }
          ],
          "scattergl": [
           {
            "marker": {
             "colorbar": {
              "outlinewidth": 0,
              "ticks": ""
             }
            },
            "type": "scattergl"
           }
          ],
          "scattermapbox": [
           {
            "marker": {
             "colorbar": {
              "outlinewidth": 0,
              "ticks": ""
             }
            },
            "type": "scattermapbox"
           }
          ],
          "scatterpolar": [
           {
            "marker": {
             "colorbar": {
              "outlinewidth": 0,
              "ticks": ""
             }
            },
            "type": "scatterpolar"
           }
          ],
          "scatterpolargl": [
           {
            "marker": {
             "colorbar": {
              "outlinewidth": 0,
              "ticks": ""
             }
            },
            "type": "scatterpolargl"
           }
          ],
          "scatterternary": [
           {
            "marker": {
             "colorbar": {
              "outlinewidth": 0,
              "ticks": ""
             }
            },
            "type": "scatterternary"
           }
          ],
          "surface": [
           {
            "colorbar": {
             "outlinewidth": 0,
             "ticks": ""
            },
            "colorscale": [
             [
              0,
              "#0d0887"
             ],
             [
              0.1111111111111111,
              "#46039f"
             ],
             [
              0.2222222222222222,
              "#7201a8"
             ],
             [
              0.3333333333333333,
              "#9c179e"
             ],
             [
              0.4444444444444444,
              "#bd3786"
             ],
             [
              0.5555555555555556,
              "#d8576b"
             ],
             [
              0.6666666666666666,
              "#ed7953"
             ],
             [
              0.7777777777777778,
              "#fb9f3a"
             ],
             [
              0.8888888888888888,
              "#fdca26"
             ],
             [
              1,
              "#f0f921"
             ]
            ],
            "type": "surface"
           }
          ],
          "table": [
           {
            "cells": {
             "fill": {
              "color": "#EBF0F8"
             },
             "line": {
              "color": "white"
             }
            },
            "header": {
             "fill": {
              "color": "#C8D4E3"
             },
             "line": {
              "color": "white"
             }
            },
            "type": "table"
           }
          ]
         },
         "layout": {
          "annotationdefaults": {
           "arrowcolor": "#2a3f5f",
           "arrowhead": 0,
           "arrowwidth": 1
          },
          "autotypenumbers": "strict",
          "coloraxis": {
           "colorbar": {
            "outlinewidth": 0,
            "ticks": ""
           }
          },
          "colorscale": {
           "diverging": [
            [
             0,
             "#8e0152"
            ],
            [
             0.1,
             "#c51b7d"
            ],
            [
             0.2,
             "#de77ae"
            ],
            [
             0.3,
             "#f1b6da"
            ],
            [
             0.4,
             "#fde0ef"
            ],
            [
             0.5,
             "#f7f7f7"
            ],
            [
             0.6,
             "#e6f5d0"
            ],
            [
             0.7,
             "#b8e186"
            ],
            [
             0.8,
             "#7fbc41"
            ],
            [
             0.9,
             "#4d9221"
            ],
            [
             1,
             "#276419"
            ]
           ],
           "sequential": [
            [
             0,
             "#0d0887"
            ],
            [
             0.1111111111111111,
             "#46039f"
            ],
            [
             0.2222222222222222,
             "#7201a8"
            ],
            [
             0.3333333333333333,
             "#9c179e"
            ],
            [
             0.4444444444444444,
             "#bd3786"
            ],
            [
             0.5555555555555556,
             "#d8576b"
            ],
            [
             0.6666666666666666,
             "#ed7953"
            ],
            [
             0.7777777777777778,
             "#fb9f3a"
            ],
            [
             0.8888888888888888,
             "#fdca26"
            ],
            [
             1,
             "#f0f921"
            ]
           ],
           "sequentialminus": [
            [
             0,
             "#0d0887"
            ],
            [
             0.1111111111111111,
             "#46039f"
            ],
            [
             0.2222222222222222,
             "#7201a8"
            ],
            [
             0.3333333333333333,
             "#9c179e"
            ],
            [
             0.4444444444444444,
             "#bd3786"
            ],
            [
             0.5555555555555556,
             "#d8576b"
            ],
            [
             0.6666666666666666,
             "#ed7953"
            ],
            [
             0.7777777777777778,
             "#fb9f3a"
            ],
            [
             0.8888888888888888,
             "#fdca26"
            ],
            [
             1,
             "#f0f921"
            ]
           ]
          },
          "colorway": [
           "#636efa",
           "#EF553B",
           "#00cc96",
           "#ab63fa",
           "#FFA15A",
           "#19d3f3",
           "#FF6692",
           "#B6E880",
           "#FF97FF",
           "#FECB52"
          ],
          "font": {
           "color": "#2a3f5f"
          },
          "geo": {
           "bgcolor": "white",
           "lakecolor": "white",
           "landcolor": "#E5ECF6",
           "showlakes": true,
           "showland": true,
           "subunitcolor": "white"
          },
          "hoverlabel": {
           "align": "left"
          },
          "hovermode": "closest",
          "mapbox": {
           "style": "light"
          },
          "paper_bgcolor": "white",
          "plot_bgcolor": "#E5ECF6",
          "polar": {
           "angularaxis": {
            "gridcolor": "white",
            "linecolor": "white",
            "ticks": ""
           },
           "bgcolor": "#E5ECF6",
           "radialaxis": {
            "gridcolor": "white",
            "linecolor": "white",
            "ticks": ""
           }
          },
          "scene": {
           "xaxis": {
            "backgroundcolor": "#E5ECF6",
            "gridcolor": "white",
            "gridwidth": 2,
            "linecolor": "white",
            "showbackground": true,
            "ticks": "",
            "zerolinecolor": "white"
           },
           "yaxis": {
            "backgroundcolor": "#E5ECF6",
            "gridcolor": "white",
            "gridwidth": 2,
            "linecolor": "white",
            "showbackground": true,
            "ticks": "",
            "zerolinecolor": "white"
           },
           "zaxis": {
            "backgroundcolor": "#E5ECF6",
            "gridcolor": "white",
            "gridwidth": 2,
            "linecolor": "white",
            "showbackground": true,
            "ticks": "",
            "zerolinecolor": "white"
           }
          },
          "shapedefaults": {
           "line": {
            "color": "#2a3f5f"
           }
          },
          "ternary": {
           "aaxis": {
            "gridcolor": "white",
            "linecolor": "white",
            "ticks": ""
           },
           "baxis": {
            "gridcolor": "white",
            "linecolor": "white",
            "ticks": ""
           },
           "bgcolor": "#E5ECF6",
           "caxis": {
            "gridcolor": "white",
            "linecolor": "white",
            "ticks": ""
           }
          },
          "title": {
           "x": 0.05
          },
          "xaxis": {
           "automargin": true,
           "gridcolor": "white",
           "linecolor": "white",
           "ticks": "",
           "title": {
            "standoff": 15
           },
           "zerolinecolor": "white",
           "zerolinewidth": 2
          },
          "yaxis": {
           "automargin": true,
           "gridcolor": "white",
           "linecolor": "white",
           "ticks": "",
           "title": {
            "standoff": 15
           },
           "zerolinecolor": "white",
           "zerolinewidth": 2
          }
         }
        },
        "xaxis": {
         "anchor": "y",
         "domain": [
          0,
          1
         ],
         "title": {
          "text": "index"
         }
        },
        "yaxis": {
         "anchor": "x",
         "domain": [
          0,
          1
         ],
         "title": {
          "text": "lr"
         }
        }
       }
      }
     },
     "metadata": {},
     "output_type": "display_data"
    }
   ],
   "source": [
    "lrsched = partial(StepLR, step_size=2, gamma=0.8)\n",
    "df = explore(lrsched, optim_lr=1.0)"
   ]
  },
  {
   "cell_type": "code",
   "execution_count": null,
   "id": "3e585282-0fa3-4a1b-adbf-8128ae584921",
   "metadata": {},
   "outputs": [],
   "source": []
  },
  {
   "cell_type": "markdown",
   "id": "38034e33-a28e-4a16-a1bf-2f60cac7bd42",
   "metadata": {},
   "source": [
    "## MultiStepLR\n",
    "This is a more flexible version of `StepLR` where instead of decaying the learning rate at a regular interval of every so many epochs, I can explicitly set the scheduler step number at which the learning rate should be changed."
   ]
  },
  {
   "cell_type": "code",
   "execution_count": 5,
   "id": "308ffe05-9726-4d14-9c56-815759041816",
   "metadata": {},
   "outputs": [
    {
     "data": {
      "application/vnd.plotly.v1+json": {
       "config": {
        "plotlyServerURL": "https://plot.ly"
       },
       "data": [
        {
         "hovertemplate": "epoch=0<br>index=%{x}<br>lr=%{y}<extra></extra>",
         "legendgroup": "0",
         "marker": {
          "color": "#636efa",
          "symbol": "circle"
         },
         "mode": "markers",
         "name": "0",
         "orientation": "v",
         "showlegend": true,
         "type": "scatter",
         "x": [
          0,
          1,
          2,
          3,
          4,
          5,
          6
         ],
         "xaxis": "x",
         "y": [
          1,
          1,
          1,
          1,
          1,
          1,
          1
         ],
         "yaxis": "y"
        },
        {
         "hovertemplate": "epoch=1<br>index=%{x}<br>lr=%{y}<extra></extra>",
         "legendgroup": "1",
         "marker": {
          "color": "#EF553B",
          "symbol": "circle"
         },
         "mode": "markers",
         "name": "1",
         "orientation": "v",
         "showlegend": true,
         "type": "scatter",
         "x": [
          7,
          8,
          9,
          10,
          11,
          12,
          13
         ],
         "xaxis": "x",
         "y": [
          1,
          1,
          1,
          1,
          1,
          1,
          1
         ],
         "yaxis": "y"
        },
        {
         "hovertemplate": "epoch=2<br>index=%{x}<br>lr=%{y}<extra></extra>",
         "legendgroup": "2",
         "marker": {
          "color": "#00cc96",
          "symbol": "circle"
         },
         "mode": "markers",
         "name": "2",
         "orientation": "v",
         "showlegend": true,
         "type": "scatter",
         "x": [
          14,
          15,
          16,
          17,
          18,
          19,
          20
         ],
         "xaxis": "x",
         "y": [
          1,
          1,
          1,
          1,
          1,
          1,
          1
         ],
         "yaxis": "y"
        },
        {
         "hovertemplate": "epoch=3<br>index=%{x}<br>lr=%{y}<extra></extra>",
         "legendgroup": "3",
         "marker": {
          "color": "#ab63fa",
          "symbol": "circle"
         },
         "mode": "markers",
         "name": "3",
         "orientation": "v",
         "showlegend": true,
         "type": "scatter",
         "x": [
          21,
          22,
          23,
          24,
          25,
          26,
          27
         ],
         "xaxis": "x",
         "y": [
          1,
          1,
          1,
          1,
          1,
          1,
          1
         ],
         "yaxis": "y"
        },
        {
         "hovertemplate": "epoch=4<br>index=%{x}<br>lr=%{y}<extra></extra>",
         "legendgroup": "4",
         "marker": {
          "color": "#FFA15A",
          "symbol": "circle"
         },
         "mode": "markers",
         "name": "4",
         "orientation": "v",
         "showlegend": true,
         "type": "scatter",
         "x": [
          28,
          29,
          30,
          31,
          32,
          33,
          34
         ],
         "xaxis": "x",
         "y": [
          1,
          1,
          1,
          1,
          1,
          1,
          1
         ],
         "yaxis": "y"
        },
        {
         "hovertemplate": "epoch=5<br>index=%{x}<br>lr=%{y}<extra></extra>",
         "legendgroup": "5",
         "marker": {
          "color": "#19d3f3",
          "symbol": "circle"
         },
         "mode": "markers",
         "name": "5",
         "orientation": "v",
         "showlegend": true,
         "type": "scatter",
         "x": [
          35,
          36,
          37,
          38,
          39,
          40,
          41
         ],
         "xaxis": "x",
         "y": [
          0.8,
          0.8,
          0.8,
          0.8,
          0.8,
          0.8,
          0.8
         ],
         "yaxis": "y"
        },
        {
         "hovertemplate": "epoch=6<br>index=%{x}<br>lr=%{y}<extra></extra>",
         "legendgroup": "6",
         "marker": {
          "color": "#FF6692",
          "symbol": "circle"
         },
         "mode": "markers",
         "name": "6",
         "orientation": "v",
         "showlegend": true,
         "type": "scatter",
         "x": [
          42,
          43,
          44,
          45,
          46,
          47,
          48
         ],
         "xaxis": "x",
         "y": [
          0.8,
          0.8,
          0.8,
          0.8,
          0.8,
          0.8,
          0.8
         ],
         "yaxis": "y"
        },
        {
         "hovertemplate": "epoch=7<br>index=%{x}<br>lr=%{y}<extra></extra>",
         "legendgroup": "7",
         "marker": {
          "color": "#B6E880",
          "symbol": "circle"
         },
         "mode": "markers",
         "name": "7",
         "orientation": "v",
         "showlegend": true,
         "type": "scatter",
         "x": [
          49,
          50,
          51,
          52,
          53,
          54,
          55
         ],
         "xaxis": "x",
         "y": [
          0.8,
          0.8,
          0.8,
          0.8,
          0.8,
          0.8,
          0.8
         ],
         "yaxis": "y"
        },
        {
         "hovertemplate": "epoch=8<br>index=%{x}<br>lr=%{y}<extra></extra>",
         "legendgroup": "8",
         "marker": {
          "color": "#FF97FF",
          "symbol": "circle"
         },
         "mode": "markers",
         "name": "8",
         "orientation": "v",
         "showlegend": true,
         "type": "scatter",
         "x": [
          56,
          57,
          58,
          59,
          60,
          61,
          62
         ],
         "xaxis": "x",
         "y": [
          0.8,
          0.8,
          0.8,
          0.8,
          0.8,
          0.8,
          0.8
         ],
         "yaxis": "y"
        },
        {
         "hovertemplate": "epoch=9<br>index=%{x}<br>lr=%{y}<extra></extra>",
         "legendgroup": "9",
         "marker": {
          "color": "#FECB52",
          "symbol": "circle"
         },
         "mode": "markers",
         "name": "9",
         "orientation": "v",
         "showlegend": true,
         "type": "scatter",
         "x": [
          63,
          64,
          65,
          66,
          67,
          68,
          69
         ],
         "xaxis": "x",
         "y": [
          0.8,
          0.8,
          0.8,
          0.8,
          0.8,
          0.8,
          0.8
         ],
         "yaxis": "y"
        },
        {
         "hovertemplate": "epoch=10<br>index=%{x}<br>lr=%{y}<extra></extra>",
         "legendgroup": "10",
         "marker": {
          "color": "#636efa",
          "symbol": "circle"
         },
         "mode": "markers",
         "name": "10",
         "orientation": "v",
         "showlegend": true,
         "type": "scatter",
         "x": [
          70,
          71,
          72,
          73,
          74,
          75,
          76
         ],
         "xaxis": "x",
         "y": [
          0.8,
          0.8,
          0.8,
          0.8,
          0.8,
          0.8,
          0.8
         ],
         "yaxis": "y"
        },
        {
         "hovertemplate": "epoch=11<br>index=%{x}<br>lr=%{y}<extra></extra>",
         "legendgroup": "11",
         "marker": {
          "color": "#EF553B",
          "symbol": "circle"
         },
         "mode": "markers",
         "name": "11",
         "orientation": "v",
         "showlegend": true,
         "type": "scatter",
         "x": [
          77,
          78,
          79,
          80,
          81,
          82,
          83
         ],
         "xaxis": "x",
         "y": [
          0.8,
          0.8,
          0.8,
          0.8,
          0.8,
          0.8,
          0.8
         ],
         "yaxis": "y"
        },
        {
         "hovertemplate": "epoch=12<br>index=%{x}<br>lr=%{y}<extra></extra>",
         "legendgroup": "12",
         "marker": {
          "color": "#00cc96",
          "symbol": "circle"
         },
         "mode": "markers",
         "name": "12",
         "orientation": "v",
         "showlegend": true,
         "type": "scatter",
         "x": [
          84,
          85,
          86,
          87,
          88,
          89,
          90
         ],
         "xaxis": "x",
         "y": [
          0.8,
          0.8,
          0.8,
          0.8,
          0.8,
          0.8,
          0.8
         ],
         "yaxis": "y"
        },
        {
         "hovertemplate": "epoch=13<br>index=%{x}<br>lr=%{y}<extra></extra>",
         "legendgroup": "13",
         "marker": {
          "color": "#ab63fa",
          "symbol": "circle"
         },
         "mode": "markers",
         "name": "13",
         "orientation": "v",
         "showlegend": true,
         "type": "scatter",
         "x": [
          91,
          92,
          93,
          94,
          95,
          96,
          97
         ],
         "xaxis": "x",
         "y": [
          0.8,
          0.8,
          0.8,
          0.8,
          0.8,
          0.8,
          0.8
         ],
         "yaxis": "y"
        },
        {
         "hovertemplate": "epoch=14<br>index=%{x}<br>lr=%{y}<extra></extra>",
         "legendgroup": "14",
         "marker": {
          "color": "#FFA15A",
          "symbol": "circle"
         },
         "mode": "markers",
         "name": "14",
         "orientation": "v",
         "showlegend": true,
         "type": "scatter",
         "x": [
          98,
          99,
          100,
          101,
          102,
          103,
          104
         ],
         "xaxis": "x",
         "y": [
          0.8,
          0.8,
          0.8,
          0.8,
          0.8,
          0.8,
          0.8
         ],
         "yaxis": "y"
        },
        {
         "hovertemplate": "epoch=15<br>index=%{x}<br>lr=%{y}<extra></extra>",
         "legendgroup": "15",
         "marker": {
          "color": "#19d3f3",
          "symbol": "circle"
         },
         "mode": "markers",
         "name": "15",
         "orientation": "v",
         "showlegend": true,
         "type": "scatter",
         "x": [
          105,
          106,
          107,
          108,
          109,
          110,
          111
         ],
         "xaxis": "x",
         "y": [
          0.8,
          0.8,
          0.8,
          0.8,
          0.8,
          0.8,
          0.8
         ],
         "yaxis": "y"
        },
        {
         "hovertemplate": "epoch=16<br>index=%{x}<br>lr=%{y}<extra></extra>",
         "legendgroup": "16",
         "marker": {
          "color": "#FF6692",
          "symbol": "circle"
         },
         "mode": "markers",
         "name": "16",
         "orientation": "v",
         "showlegend": true,
         "type": "scatter",
         "x": [
          112,
          113,
          114,
          115,
          116,
          117,
          118
         ],
         "xaxis": "x",
         "y": [
          0.8,
          0.8,
          0.8,
          0.8,
          0.8,
          0.8,
          0.8
         ],
         "yaxis": "y"
        },
        {
         "hovertemplate": "epoch=17<br>index=%{x}<br>lr=%{y}<extra></extra>",
         "legendgroup": "17",
         "marker": {
          "color": "#B6E880",
          "symbol": "circle"
         },
         "mode": "markers",
         "name": "17",
         "orientation": "v",
         "showlegend": true,
         "type": "scatter",
         "x": [
          119,
          120,
          121,
          122,
          123,
          124,
          125
         ],
         "xaxis": "x",
         "y": [
          0.8,
          0.8,
          0.8,
          0.8,
          0.8,
          0.8,
          0.8
         ],
         "yaxis": "y"
        },
        {
         "hovertemplate": "epoch=18<br>index=%{x}<br>lr=%{y}<extra></extra>",
         "legendgroup": "18",
         "marker": {
          "color": "#FF97FF",
          "symbol": "circle"
         },
         "mode": "markers",
         "name": "18",
         "orientation": "v",
         "showlegend": true,
         "type": "scatter",
         "x": [
          126,
          127,
          128,
          129,
          130,
          131,
          132
         ],
         "xaxis": "x",
         "y": [
          0.8,
          0.8,
          0.8,
          0.8,
          0.8,
          0.8,
          0.8
         ],
         "yaxis": "y"
        },
        {
         "hovertemplate": "epoch=19<br>index=%{x}<br>lr=%{y}<extra></extra>",
         "legendgroup": "19",
         "marker": {
          "color": "#FECB52",
          "symbol": "circle"
         },
         "mode": "markers",
         "name": "19",
         "orientation": "v",
         "showlegend": true,
         "type": "scatter",
         "x": [
          133,
          134,
          135,
          136,
          137,
          138,
          139
         ],
         "xaxis": "x",
         "y": [
          0.8,
          0.8,
          0.8,
          0.8,
          0.8,
          0.8,
          0.8
         ],
         "yaxis": "y"
        },
        {
         "hovertemplate": "epoch=20<br>index=%{x}<br>lr=%{y}<extra></extra>",
         "legendgroup": "20",
         "marker": {
          "color": "#636efa",
          "symbol": "circle"
         },
         "mode": "markers",
         "name": "20",
         "orientation": "v",
         "showlegend": true,
         "type": "scatter",
         "x": [
          140,
          141,
          142,
          143,
          144,
          145,
          146
         ],
         "xaxis": "x",
         "y": [
          0.6400000000000001,
          0.6400000000000001,
          0.6400000000000001,
          0.6400000000000001,
          0.6400000000000001,
          0.6400000000000001,
          0.6400000000000001
         ],
         "yaxis": "y"
        },
        {
         "hovertemplate": "epoch=21<br>index=%{x}<br>lr=%{y}<extra></extra>",
         "legendgroup": "21",
         "marker": {
          "color": "#EF553B",
          "symbol": "circle"
         },
         "mode": "markers",
         "name": "21",
         "orientation": "v",
         "showlegend": true,
         "type": "scatter",
         "x": [
          147,
          148,
          149,
          150,
          151,
          152,
          153
         ],
         "xaxis": "x",
         "y": [
          0.6400000000000001,
          0.6400000000000001,
          0.6400000000000001,
          0.6400000000000001,
          0.6400000000000001,
          0.6400000000000001,
          0.6400000000000001
         ],
         "yaxis": "y"
        },
        {
         "hovertemplate": "epoch=22<br>index=%{x}<br>lr=%{y}<extra></extra>",
         "legendgroup": "22",
         "marker": {
          "color": "#00cc96",
          "symbol": "circle"
         },
         "mode": "markers",
         "name": "22",
         "orientation": "v",
         "showlegend": true,
         "type": "scatter",
         "x": [
          154,
          155,
          156,
          157,
          158,
          159,
          160
         ],
         "xaxis": "x",
         "y": [
          0.6400000000000001,
          0.6400000000000001,
          0.6400000000000001,
          0.6400000000000001,
          0.6400000000000001,
          0.6400000000000001,
          0.6400000000000001
         ],
         "yaxis": "y"
        },
        {
         "hovertemplate": "epoch=23<br>index=%{x}<br>lr=%{y}<extra></extra>",
         "legendgroup": "23",
         "marker": {
          "color": "#ab63fa",
          "symbol": "circle"
         },
         "mode": "markers",
         "name": "23",
         "orientation": "v",
         "showlegend": true,
         "type": "scatter",
         "x": [
          161,
          162,
          163,
          164,
          165,
          166,
          167
         ],
         "xaxis": "x",
         "y": [
          0.6400000000000001,
          0.6400000000000001,
          0.6400000000000001,
          0.6400000000000001,
          0.6400000000000001,
          0.6400000000000001,
          0.6400000000000001
         ],
         "yaxis": "y"
        },
        {
         "hovertemplate": "epoch=24<br>index=%{x}<br>lr=%{y}<extra></extra>",
         "legendgroup": "24",
         "marker": {
          "color": "#FFA15A",
          "symbol": "circle"
         },
         "mode": "markers",
         "name": "24",
         "orientation": "v",
         "showlegend": true,
         "type": "scatter",
         "x": [
          168,
          169,
          170,
          171,
          172,
          173,
          174
         ],
         "xaxis": "x",
         "y": [
          0.6400000000000001,
          0.6400000000000001,
          0.6400000000000001,
          0.6400000000000001,
          0.6400000000000001,
          0.6400000000000001,
          0.6400000000000001
         ],
         "yaxis": "y"
        },
        {
         "hovertemplate": "epoch=25<br>index=%{x}<br>lr=%{y}<extra></extra>",
         "legendgroup": "25",
         "marker": {
          "color": "#19d3f3",
          "symbol": "circle"
         },
         "mode": "markers",
         "name": "25",
         "orientation": "v",
         "showlegend": true,
         "type": "scatter",
         "x": [
          175,
          176,
          177,
          178,
          179,
          180,
          181
         ],
         "xaxis": "x",
         "y": [
          0.6400000000000001,
          0.6400000000000001,
          0.6400000000000001,
          0.6400000000000001,
          0.6400000000000001,
          0.6400000000000001,
          0.6400000000000001
         ],
         "yaxis": "y"
        },
        {
         "hovertemplate": "epoch=26<br>index=%{x}<br>lr=%{y}<extra></extra>",
         "legendgroup": "26",
         "marker": {
          "color": "#FF6692",
          "symbol": "circle"
         },
         "mode": "markers",
         "name": "26",
         "orientation": "v",
         "showlegend": true,
         "type": "scatter",
         "x": [
          182,
          183,
          184,
          185,
          186,
          187,
          188
         ],
         "xaxis": "x",
         "y": [
          0.6400000000000001,
          0.6400000000000001,
          0.6400000000000001,
          0.6400000000000001,
          0.6400000000000001,
          0.6400000000000001,
          0.6400000000000001
         ],
         "yaxis": "y"
        },
        {
         "hovertemplate": "epoch=27<br>index=%{x}<br>lr=%{y}<extra></extra>",
         "legendgroup": "27",
         "marker": {
          "color": "#B6E880",
          "symbol": "circle"
         },
         "mode": "markers",
         "name": "27",
         "orientation": "v",
         "showlegend": true,
         "type": "scatter",
         "x": [
          189,
          190,
          191,
          192,
          193,
          194,
          195
         ],
         "xaxis": "x",
         "y": [
          0.6400000000000001,
          0.6400000000000001,
          0.6400000000000001,
          0.6400000000000001,
          0.6400000000000001,
          0.6400000000000001,
          0.6400000000000001
         ],
         "yaxis": "y"
        },
        {
         "hovertemplate": "epoch=28<br>index=%{x}<br>lr=%{y}<extra></extra>",
         "legendgroup": "28",
         "marker": {
          "color": "#FF97FF",
          "symbol": "circle"
         },
         "mode": "markers",
         "name": "28",
         "orientation": "v",
         "showlegend": true,
         "type": "scatter",
         "x": [
          196,
          197,
          198,
          199,
          200,
          201,
          202
         ],
         "xaxis": "x",
         "y": [
          0.6400000000000001,
          0.6400000000000001,
          0.6400000000000001,
          0.6400000000000001,
          0.6400000000000001,
          0.6400000000000001,
          0.6400000000000001
         ],
         "yaxis": "y"
        },
        {
         "hovertemplate": "epoch=29<br>index=%{x}<br>lr=%{y}<extra></extra>",
         "legendgroup": "29",
         "marker": {
          "color": "#FECB52",
          "symbol": "circle"
         },
         "mode": "markers",
         "name": "29",
         "orientation": "v",
         "showlegend": true,
         "type": "scatter",
         "x": [
          203,
          204,
          205,
          206,
          207,
          208,
          209
         ],
         "xaxis": "x",
         "y": [
          0.6400000000000001,
          0.6400000000000001,
          0.6400000000000001,
          0.6400000000000001,
          0.6400000000000001,
          0.6400000000000001,
          0.6400000000000001
         ],
         "yaxis": "y"
        },
        {
         "hovertemplate": "epoch=30<br>index=%{x}<br>lr=%{y}<extra></extra>",
         "legendgroup": "30",
         "marker": {
          "color": "#636efa",
          "symbol": "circle"
         },
         "mode": "markers",
         "name": "30",
         "orientation": "v",
         "showlegend": true,
         "type": "scatter",
         "x": [
          210,
          211,
          212,
          213,
          214,
          215,
          216
         ],
         "xaxis": "x",
         "y": [
          0.6400000000000001,
          0.6400000000000001,
          0.6400000000000001,
          0.6400000000000001,
          0.6400000000000001,
          0.6400000000000001,
          0.6400000000000001
         ],
         "yaxis": "y"
        },
        {
         "hovertemplate": "epoch=31<br>index=%{x}<br>lr=%{y}<extra></extra>",
         "legendgroup": "31",
         "marker": {
          "color": "#EF553B",
          "symbol": "circle"
         },
         "mode": "markers",
         "name": "31",
         "orientation": "v",
         "showlegend": true,
         "type": "scatter",
         "x": [
          217,
          218,
          219,
          220,
          221,
          222,
          223
         ],
         "xaxis": "x",
         "y": [
          0.6400000000000001,
          0.6400000000000001,
          0.6400000000000001,
          0.6400000000000001,
          0.6400000000000001,
          0.6400000000000001,
          0.6400000000000001
         ],
         "yaxis": "y"
        },
        {
         "hovertemplate": "epoch=32<br>index=%{x}<br>lr=%{y}<extra></extra>",
         "legendgroup": "32",
         "marker": {
          "color": "#00cc96",
          "symbol": "circle"
         },
         "mode": "markers",
         "name": "32",
         "orientation": "v",
         "showlegend": true,
         "type": "scatter",
         "x": [
          224,
          225,
          226,
          227,
          228,
          229,
          230
         ],
         "xaxis": "x",
         "y": [
          0.6400000000000001,
          0.6400000000000001,
          0.6400000000000001,
          0.6400000000000001,
          0.6400000000000001,
          0.6400000000000001,
          0.6400000000000001
         ],
         "yaxis": "y"
        },
        {
         "hovertemplate": "epoch=33<br>index=%{x}<br>lr=%{y}<extra></extra>",
         "legendgroup": "33",
         "marker": {
          "color": "#ab63fa",
          "symbol": "circle"
         },
         "mode": "markers",
         "name": "33",
         "orientation": "v",
         "showlegend": true,
         "type": "scatter",
         "x": [
          231,
          232,
          233,
          234,
          235,
          236,
          237
         ],
         "xaxis": "x",
         "y": [
          0.6400000000000001,
          0.6400000000000001,
          0.6400000000000001,
          0.6400000000000001,
          0.6400000000000001,
          0.6400000000000001,
          0.6400000000000001
         ],
         "yaxis": "y"
        },
        {
         "hovertemplate": "epoch=34<br>index=%{x}<br>lr=%{y}<extra></extra>",
         "legendgroup": "34",
         "marker": {
          "color": "#FFA15A",
          "symbol": "circle"
         },
         "mode": "markers",
         "name": "34",
         "orientation": "v",
         "showlegend": true,
         "type": "scatter",
         "x": [
          238,
          239,
          240,
          241,
          242,
          243,
          244
         ],
         "xaxis": "x",
         "y": [
          0.6400000000000001,
          0.6400000000000001,
          0.6400000000000001,
          0.6400000000000001,
          0.6400000000000001,
          0.6400000000000001,
          0.6400000000000001
         ],
         "yaxis": "y"
        },
        {
         "hovertemplate": "epoch=35<br>index=%{x}<br>lr=%{y}<extra></extra>",
         "legendgroup": "35",
         "marker": {
          "color": "#19d3f3",
          "symbol": "circle"
         },
         "mode": "markers",
         "name": "35",
         "orientation": "v",
         "showlegend": true,
         "type": "scatter",
         "x": [
          245,
          246,
          247,
          248,
          249,
          250,
          251
         ],
         "xaxis": "x",
         "y": [
          0.6400000000000001,
          0.6400000000000001,
          0.6400000000000001,
          0.6400000000000001,
          0.6400000000000001,
          0.6400000000000001,
          0.6400000000000001
         ],
         "yaxis": "y"
        },
        {
         "hovertemplate": "epoch=36<br>index=%{x}<br>lr=%{y}<extra></extra>",
         "legendgroup": "36",
         "marker": {
          "color": "#FF6692",
          "symbol": "circle"
         },
         "mode": "markers",
         "name": "36",
         "orientation": "v",
         "showlegend": true,
         "type": "scatter",
         "x": [
          252,
          253,
          254,
          255,
          256,
          257,
          258
         ],
         "xaxis": "x",
         "y": [
          0.6400000000000001,
          0.6400000000000001,
          0.6400000000000001,
          0.6400000000000001,
          0.6400000000000001,
          0.6400000000000001,
          0.6400000000000001
         ],
         "yaxis": "y"
        },
        {
         "hovertemplate": "epoch=37<br>index=%{x}<br>lr=%{y}<extra></extra>",
         "legendgroup": "37",
         "marker": {
          "color": "#B6E880",
          "symbol": "circle"
         },
         "mode": "markers",
         "name": "37",
         "orientation": "v",
         "showlegend": true,
         "type": "scatter",
         "x": [
          259,
          260,
          261,
          262,
          263,
          264,
          265
         ],
         "xaxis": "x",
         "y": [
          0.6400000000000001,
          0.6400000000000001,
          0.6400000000000001,
          0.6400000000000001,
          0.6400000000000001,
          0.6400000000000001,
          0.6400000000000001
         ],
         "yaxis": "y"
        },
        {
         "hovertemplate": "epoch=38<br>index=%{x}<br>lr=%{y}<extra></extra>",
         "legendgroup": "38",
         "marker": {
          "color": "#FF97FF",
          "symbol": "circle"
         },
         "mode": "markers",
         "name": "38",
         "orientation": "v",
         "showlegend": true,
         "type": "scatter",
         "x": [
          266,
          267,
          268,
          269,
          270,
          271,
          272
         ],
         "xaxis": "x",
         "y": [
          0.6400000000000001,
          0.6400000000000001,
          0.6400000000000001,
          0.6400000000000001,
          0.6400000000000001,
          0.6400000000000001,
          0.6400000000000001
         ],
         "yaxis": "y"
        },
        {
         "hovertemplate": "epoch=39<br>index=%{x}<br>lr=%{y}<extra></extra>",
         "legendgroup": "39",
         "marker": {
          "color": "#FECB52",
          "symbol": "circle"
         },
         "mode": "markers",
         "name": "39",
         "orientation": "v",
         "showlegend": true,
         "type": "scatter",
         "x": [
          273,
          274,
          275,
          276,
          277,
          278,
          279
         ],
         "xaxis": "x",
         "y": [
          0.6400000000000001,
          0.6400000000000001,
          0.6400000000000001,
          0.6400000000000001,
          0.6400000000000001,
          0.6400000000000001,
          0.6400000000000001
         ],
         "yaxis": "y"
        },
        {
         "hovertemplate": "epoch=40<br>index=%{x}<br>lr=%{y}<extra></extra>",
         "legendgroup": "40",
         "marker": {
          "color": "#636efa",
          "symbol": "circle"
         },
         "mode": "markers",
         "name": "40",
         "orientation": "v",
         "showlegend": true,
         "type": "scatter",
         "x": [
          280,
          281,
          282,
          283,
          284,
          285,
          286
         ],
         "xaxis": "x",
         "y": [
          0.5120000000000001,
          0.5120000000000001,
          0.5120000000000001,
          0.5120000000000001,
          0.5120000000000001,
          0.5120000000000001,
          0.5120000000000001
         ],
         "yaxis": "y"
        },
        {
         "hovertemplate": "epoch=41<br>index=%{x}<br>lr=%{y}<extra></extra>",
         "legendgroup": "41",
         "marker": {
          "color": "#EF553B",
          "symbol": "circle"
         },
         "mode": "markers",
         "name": "41",
         "orientation": "v",
         "showlegend": true,
         "type": "scatter",
         "x": [
          287,
          288,
          289,
          290,
          291,
          292,
          293
         ],
         "xaxis": "x",
         "y": [
          0.5120000000000001,
          0.5120000000000001,
          0.5120000000000001,
          0.5120000000000001,
          0.5120000000000001,
          0.5120000000000001,
          0.5120000000000001
         ],
         "yaxis": "y"
        },
        {
         "hovertemplate": "epoch=42<br>index=%{x}<br>lr=%{y}<extra></extra>",
         "legendgroup": "42",
         "marker": {
          "color": "#00cc96",
          "symbol": "circle"
         },
         "mode": "markers",
         "name": "42",
         "orientation": "v",
         "showlegend": true,
         "type": "scatter",
         "x": [
          294,
          295,
          296,
          297,
          298,
          299,
          300
         ],
         "xaxis": "x",
         "y": [
          0.5120000000000001,
          0.5120000000000001,
          0.5120000000000001,
          0.5120000000000001,
          0.5120000000000001,
          0.5120000000000001,
          0.5120000000000001
         ],
         "yaxis": "y"
        },
        {
         "hovertemplate": "epoch=43<br>index=%{x}<br>lr=%{y}<extra></extra>",
         "legendgroup": "43",
         "marker": {
          "color": "#ab63fa",
          "symbol": "circle"
         },
         "mode": "markers",
         "name": "43",
         "orientation": "v",
         "showlegend": true,
         "type": "scatter",
         "x": [
          301,
          302,
          303,
          304,
          305,
          306,
          307
         ],
         "xaxis": "x",
         "y": [
          0.5120000000000001,
          0.5120000000000001,
          0.5120000000000001,
          0.5120000000000001,
          0.5120000000000001,
          0.5120000000000001,
          0.5120000000000001
         ],
         "yaxis": "y"
        },
        {
         "hovertemplate": "epoch=44<br>index=%{x}<br>lr=%{y}<extra></extra>",
         "legendgroup": "44",
         "marker": {
          "color": "#FFA15A",
          "symbol": "circle"
         },
         "mode": "markers",
         "name": "44",
         "orientation": "v",
         "showlegend": true,
         "type": "scatter",
         "x": [
          308,
          309,
          310,
          311,
          312,
          313,
          314
         ],
         "xaxis": "x",
         "y": [
          0.5120000000000001,
          0.5120000000000001,
          0.5120000000000001,
          0.5120000000000001,
          0.5120000000000001,
          0.5120000000000001,
          0.5120000000000001
         ],
         "yaxis": "y"
        },
        {
         "hovertemplate": "epoch=45<br>index=%{x}<br>lr=%{y}<extra></extra>",
         "legendgroup": "45",
         "marker": {
          "color": "#19d3f3",
          "symbol": "circle"
         },
         "mode": "markers",
         "name": "45",
         "orientation": "v",
         "showlegend": true,
         "type": "scatter",
         "x": [
          315,
          316,
          317,
          318,
          319,
          320,
          321
         ],
         "xaxis": "x",
         "y": [
          0.5120000000000001,
          0.5120000000000001,
          0.5120000000000001,
          0.5120000000000001,
          0.5120000000000001,
          0.5120000000000001,
          0.5120000000000001
         ],
         "yaxis": "y"
        },
        {
         "hovertemplate": "epoch=46<br>index=%{x}<br>lr=%{y}<extra></extra>",
         "legendgroup": "46",
         "marker": {
          "color": "#FF6692",
          "symbol": "circle"
         },
         "mode": "markers",
         "name": "46",
         "orientation": "v",
         "showlegend": true,
         "type": "scatter",
         "x": [
          322,
          323,
          324,
          325,
          326,
          327,
          328
         ],
         "xaxis": "x",
         "y": [
          0.5120000000000001,
          0.5120000000000001,
          0.5120000000000001,
          0.5120000000000001,
          0.5120000000000001,
          0.5120000000000001,
          0.5120000000000001
         ],
         "yaxis": "y"
        },
        {
         "hovertemplate": "epoch=47<br>index=%{x}<br>lr=%{y}<extra></extra>",
         "legendgroup": "47",
         "marker": {
          "color": "#B6E880",
          "symbol": "circle"
         },
         "mode": "markers",
         "name": "47",
         "orientation": "v",
         "showlegend": true,
         "type": "scatter",
         "x": [
          329,
          330,
          331,
          332,
          333,
          334,
          335
         ],
         "xaxis": "x",
         "y": [
          0.5120000000000001,
          0.5120000000000001,
          0.5120000000000001,
          0.5120000000000001,
          0.5120000000000001,
          0.5120000000000001,
          0.5120000000000001
         ],
         "yaxis": "y"
        },
        {
         "hovertemplate": "epoch=48<br>index=%{x}<br>lr=%{y}<extra></extra>",
         "legendgroup": "48",
         "marker": {
          "color": "#FF97FF",
          "symbol": "circle"
         },
         "mode": "markers",
         "name": "48",
         "orientation": "v",
         "showlegend": true,
         "type": "scatter",
         "x": [
          336,
          337,
          338,
          339,
          340,
          341,
          342
         ],
         "xaxis": "x",
         "y": [
          0.5120000000000001,
          0.5120000000000001,
          0.5120000000000001,
          0.5120000000000001,
          0.5120000000000001,
          0.5120000000000001,
          0.5120000000000001
         ],
         "yaxis": "y"
        },
        {
         "hovertemplate": "epoch=49<br>index=%{x}<br>lr=%{y}<extra></extra>",
         "legendgroup": "49",
         "marker": {
          "color": "#FECB52",
          "symbol": "circle"
         },
         "mode": "markers",
         "name": "49",
         "orientation": "v",
         "showlegend": true,
         "type": "scatter",
         "x": [
          343,
          344,
          345,
          346,
          347,
          348,
          349
         ],
         "xaxis": "x",
         "y": [
          0.5120000000000001,
          0.5120000000000001,
          0.5120000000000001,
          0.5120000000000001,
          0.5120000000000001,
          0.5120000000000001,
          0.5120000000000001
         ],
         "yaxis": "y"
        }
       ],
       "layout": {
        "legend": {
         "title": {
          "text": "epoch"
         },
         "tracegroupgap": 0
        },
        "margin": {
         "t": 60
        },
        "template": {
         "data": {
          "bar": [
           {
            "error_x": {
             "color": "#2a3f5f"
            },
            "error_y": {
             "color": "#2a3f5f"
            },
            "marker": {
             "line": {
              "color": "#E5ECF6",
              "width": 0.5
             },
             "pattern": {
              "fillmode": "overlay",
              "size": 10,
              "solidity": 0.2
             }
            },
            "type": "bar"
           }
          ],
          "barpolar": [
           {
            "marker": {
             "line": {
              "color": "#E5ECF6",
              "width": 0.5
             },
             "pattern": {
              "fillmode": "overlay",
              "size": 10,
              "solidity": 0.2
             }
            },
            "type": "barpolar"
           }
          ],
          "carpet": [
           {
            "aaxis": {
             "endlinecolor": "#2a3f5f",
             "gridcolor": "white",
             "linecolor": "white",
             "minorgridcolor": "white",
             "startlinecolor": "#2a3f5f"
            },
            "baxis": {
             "endlinecolor": "#2a3f5f",
             "gridcolor": "white",
             "linecolor": "white",
             "minorgridcolor": "white",
             "startlinecolor": "#2a3f5f"
            },
            "type": "carpet"
           }
          ],
          "choropleth": [
           {
            "colorbar": {
             "outlinewidth": 0,
             "ticks": ""
            },
            "type": "choropleth"
           }
          ],
          "contour": [
           {
            "colorbar": {
             "outlinewidth": 0,
             "ticks": ""
            },
            "colorscale": [
             [
              0,
              "#0d0887"
             ],
             [
              0.1111111111111111,
              "#46039f"
             ],
             [
              0.2222222222222222,
              "#7201a8"
             ],
             [
              0.3333333333333333,
              "#9c179e"
             ],
             [
              0.4444444444444444,
              "#bd3786"
             ],
             [
              0.5555555555555556,
              "#d8576b"
             ],
             [
              0.6666666666666666,
              "#ed7953"
             ],
             [
              0.7777777777777778,
              "#fb9f3a"
             ],
             [
              0.8888888888888888,
              "#fdca26"
             ],
             [
              1,
              "#f0f921"
             ]
            ],
            "type": "contour"
           }
          ],
          "contourcarpet": [
           {
            "colorbar": {
             "outlinewidth": 0,
             "ticks": ""
            },
            "type": "contourcarpet"
           }
          ],
          "heatmap": [
           {
            "colorbar": {
             "outlinewidth": 0,
             "ticks": ""
            },
            "colorscale": [
             [
              0,
              "#0d0887"
             ],
             [
              0.1111111111111111,
              "#46039f"
             ],
             [
              0.2222222222222222,
              "#7201a8"
             ],
             [
              0.3333333333333333,
              "#9c179e"
             ],
             [
              0.4444444444444444,
              "#bd3786"
             ],
             [
              0.5555555555555556,
              "#d8576b"
             ],
             [
              0.6666666666666666,
              "#ed7953"
             ],
             [
              0.7777777777777778,
              "#fb9f3a"
             ],
             [
              0.8888888888888888,
              "#fdca26"
             ],
             [
              1,
              "#f0f921"
             ]
            ],
            "type": "heatmap"
           }
          ],
          "heatmapgl": [
           {
            "colorbar": {
             "outlinewidth": 0,
             "ticks": ""
            },
            "colorscale": [
             [
              0,
              "#0d0887"
             ],
             [
              0.1111111111111111,
              "#46039f"
             ],
             [
              0.2222222222222222,
              "#7201a8"
             ],
             [
              0.3333333333333333,
              "#9c179e"
             ],
             [
              0.4444444444444444,
              "#bd3786"
             ],
             [
              0.5555555555555556,
              "#d8576b"
             ],
             [
              0.6666666666666666,
              "#ed7953"
             ],
             [
              0.7777777777777778,
              "#fb9f3a"
             ],
             [
              0.8888888888888888,
              "#fdca26"
             ],
             [
              1,
              "#f0f921"
             ]
            ],
            "type": "heatmapgl"
           }
          ],
          "histogram": [
           {
            "marker": {
             "pattern": {
              "fillmode": "overlay",
              "size": 10,
              "solidity": 0.2
             }
            },
            "type": "histogram"
           }
          ],
          "histogram2d": [
           {
            "colorbar": {
             "outlinewidth": 0,
             "ticks": ""
            },
            "colorscale": [
             [
              0,
              "#0d0887"
             ],
             [
              0.1111111111111111,
              "#46039f"
             ],
             [
              0.2222222222222222,
              "#7201a8"
             ],
             [
              0.3333333333333333,
              "#9c179e"
             ],
             [
              0.4444444444444444,
              "#bd3786"
             ],
             [
              0.5555555555555556,
              "#d8576b"
             ],
             [
              0.6666666666666666,
              "#ed7953"
             ],
             [
              0.7777777777777778,
              "#fb9f3a"
             ],
             [
              0.8888888888888888,
              "#fdca26"
             ],
             [
              1,
              "#f0f921"
             ]
            ],
            "type": "histogram2d"
           }
          ],
          "histogram2dcontour": [
           {
            "colorbar": {
             "outlinewidth": 0,
             "ticks": ""
            },
            "colorscale": [
             [
              0,
              "#0d0887"
             ],
             [
              0.1111111111111111,
              "#46039f"
             ],
             [
              0.2222222222222222,
              "#7201a8"
             ],
             [
              0.3333333333333333,
              "#9c179e"
             ],
             [
              0.4444444444444444,
              "#bd3786"
             ],
             [
              0.5555555555555556,
              "#d8576b"
             ],
             [
              0.6666666666666666,
              "#ed7953"
             ],
             [
              0.7777777777777778,
              "#fb9f3a"
             ],
             [
              0.8888888888888888,
              "#fdca26"
             ],
             [
              1,
              "#f0f921"
             ]
            ],
            "type": "histogram2dcontour"
           }
          ],
          "mesh3d": [
           {
            "colorbar": {
             "outlinewidth": 0,
             "ticks": ""
            },
            "type": "mesh3d"
           }
          ],
          "parcoords": [
           {
            "line": {
             "colorbar": {
              "outlinewidth": 0,
              "ticks": ""
             }
            },
            "type": "parcoords"
           }
          ],
          "pie": [
           {
            "automargin": true,
            "type": "pie"
           }
          ],
          "scatter": [
           {
            "fillpattern": {
             "fillmode": "overlay",
             "size": 10,
             "solidity": 0.2
            },
            "type": "scatter"
           }
          ],
          "scatter3d": [
           {
            "line": {
             "colorbar": {
              "outlinewidth": 0,
              "ticks": ""
             }
            },
            "marker": {
             "colorbar": {
              "outlinewidth": 0,
              "ticks": ""
             }
            },
            "type": "scatter3d"
           }
          ],
          "scattercarpet": [
           {
            "marker": {
             "colorbar": {
              "outlinewidth": 0,
              "ticks": ""
             }
            },
            "type": "scattercarpet"
           }
          ],
          "scattergeo": [
           {
            "marker": {
             "colorbar": {
              "outlinewidth": 0,
              "ticks": ""
             }
            },
            "type": "scattergeo"
           }
          ],
          "scattergl": [
           {
            "marker": {
             "colorbar": {
              "outlinewidth": 0,
              "ticks": ""
             }
            },
            "type": "scattergl"
           }
          ],
          "scattermapbox": [
           {
            "marker": {
             "colorbar": {
              "outlinewidth": 0,
              "ticks": ""
             }
            },
            "type": "scattermapbox"
           }
          ],
          "scatterpolar": [
           {
            "marker": {
             "colorbar": {
              "outlinewidth": 0,
              "ticks": ""
             }
            },
            "type": "scatterpolar"
           }
          ],
          "scatterpolargl": [
           {
            "marker": {
             "colorbar": {
              "outlinewidth": 0,
              "ticks": ""
             }
            },
            "type": "scatterpolargl"
           }
          ],
          "scatterternary": [
           {
            "marker": {
             "colorbar": {
              "outlinewidth": 0,
              "ticks": ""
             }
            },
            "type": "scatterternary"
           }
          ],
          "surface": [
           {
            "colorbar": {
             "outlinewidth": 0,
             "ticks": ""
            },
            "colorscale": [
             [
              0,
              "#0d0887"
             ],
             [
              0.1111111111111111,
              "#46039f"
             ],
             [
              0.2222222222222222,
              "#7201a8"
             ],
             [
              0.3333333333333333,
              "#9c179e"
             ],
             [
              0.4444444444444444,
              "#bd3786"
             ],
             [
              0.5555555555555556,
              "#d8576b"
             ],
             [
              0.6666666666666666,
              "#ed7953"
             ],
             [
              0.7777777777777778,
              "#fb9f3a"
             ],
             [
              0.8888888888888888,
              "#fdca26"
             ],
             [
              1,
              "#f0f921"
             ]
            ],
            "type": "surface"
           }
          ],
          "table": [
           {
            "cells": {
             "fill": {
              "color": "#EBF0F8"
             },
             "line": {
              "color": "white"
             }
            },
            "header": {
             "fill": {
              "color": "#C8D4E3"
             },
             "line": {
              "color": "white"
             }
            },
            "type": "table"
           }
          ]
         },
         "layout": {
          "annotationdefaults": {
           "arrowcolor": "#2a3f5f",
           "arrowhead": 0,
           "arrowwidth": 1
          },
          "autotypenumbers": "strict",
          "coloraxis": {
           "colorbar": {
            "outlinewidth": 0,
            "ticks": ""
           }
          },
          "colorscale": {
           "diverging": [
            [
             0,
             "#8e0152"
            ],
            [
             0.1,
             "#c51b7d"
            ],
            [
             0.2,
             "#de77ae"
            ],
            [
             0.3,
             "#f1b6da"
            ],
            [
             0.4,
             "#fde0ef"
            ],
            [
             0.5,
             "#f7f7f7"
            ],
            [
             0.6,
             "#e6f5d0"
            ],
            [
             0.7,
             "#b8e186"
            ],
            [
             0.8,
             "#7fbc41"
            ],
            [
             0.9,
             "#4d9221"
            ],
            [
             1,
             "#276419"
            ]
           ],
           "sequential": [
            [
             0,
             "#0d0887"
            ],
            [
             0.1111111111111111,
             "#46039f"
            ],
            [
             0.2222222222222222,
             "#7201a8"
            ],
            [
             0.3333333333333333,
             "#9c179e"
            ],
            [
             0.4444444444444444,
             "#bd3786"
            ],
            [
             0.5555555555555556,
             "#d8576b"
            ],
            [
             0.6666666666666666,
             "#ed7953"
            ],
            [
             0.7777777777777778,
             "#fb9f3a"
            ],
            [
             0.8888888888888888,
             "#fdca26"
            ],
            [
             1,
             "#f0f921"
            ]
           ],
           "sequentialminus": [
            [
             0,
             "#0d0887"
            ],
            [
             0.1111111111111111,
             "#46039f"
            ],
            [
             0.2222222222222222,
             "#7201a8"
            ],
            [
             0.3333333333333333,
             "#9c179e"
            ],
            [
             0.4444444444444444,
             "#bd3786"
            ],
            [
             0.5555555555555556,
             "#d8576b"
            ],
            [
             0.6666666666666666,
             "#ed7953"
            ],
            [
             0.7777777777777778,
             "#fb9f3a"
            ],
            [
             0.8888888888888888,
             "#fdca26"
            ],
            [
             1,
             "#f0f921"
            ]
           ]
          },
          "colorway": [
           "#636efa",
           "#EF553B",
           "#00cc96",
           "#ab63fa",
           "#FFA15A",
           "#19d3f3",
           "#FF6692",
           "#B6E880",
           "#FF97FF",
           "#FECB52"
          ],
          "font": {
           "color": "#2a3f5f"
          },
          "geo": {
           "bgcolor": "white",
           "lakecolor": "white",
           "landcolor": "#E5ECF6",
           "showlakes": true,
           "showland": true,
           "subunitcolor": "white"
          },
          "hoverlabel": {
           "align": "left"
          },
          "hovermode": "closest",
          "mapbox": {
           "style": "light"
          },
          "paper_bgcolor": "white",
          "plot_bgcolor": "#E5ECF6",
          "polar": {
           "angularaxis": {
            "gridcolor": "white",
            "linecolor": "white",
            "ticks": ""
           },
           "bgcolor": "#E5ECF6",
           "radialaxis": {
            "gridcolor": "white",
            "linecolor": "white",
            "ticks": ""
           }
          },
          "scene": {
           "xaxis": {
            "backgroundcolor": "#E5ECF6",
            "gridcolor": "white",
            "gridwidth": 2,
            "linecolor": "white",
            "showbackground": true,
            "ticks": "",
            "zerolinecolor": "white"
           },
           "yaxis": {
            "backgroundcolor": "#E5ECF6",
            "gridcolor": "white",
            "gridwidth": 2,
            "linecolor": "white",
            "showbackground": true,
            "ticks": "",
            "zerolinecolor": "white"
           },
           "zaxis": {
            "backgroundcolor": "#E5ECF6",
            "gridcolor": "white",
            "gridwidth": 2,
            "linecolor": "white",
            "showbackground": true,
            "ticks": "",
            "zerolinecolor": "white"
           }
          },
          "shapedefaults": {
           "line": {
            "color": "#2a3f5f"
           }
          },
          "ternary": {
           "aaxis": {
            "gridcolor": "white",
            "linecolor": "white",
            "ticks": ""
           },
           "baxis": {
            "gridcolor": "white",
            "linecolor": "white",
            "ticks": ""
           },
           "bgcolor": "#E5ECF6",
           "caxis": {
            "gridcolor": "white",
            "linecolor": "white",
            "ticks": ""
           }
          },
          "title": {
           "x": 0.05
          },
          "xaxis": {
           "automargin": true,
           "gridcolor": "white",
           "linecolor": "white",
           "ticks": "",
           "title": {
            "standoff": 15
           },
           "zerolinecolor": "white",
           "zerolinewidth": 2
          },
          "yaxis": {
           "automargin": true,
           "gridcolor": "white",
           "linecolor": "white",
           "ticks": "",
           "title": {
            "standoff": 15
           },
           "zerolinecolor": "white",
           "zerolinewidth": 2
          }
         }
        },
        "xaxis": {
         "anchor": "y",
         "domain": [
          0,
          1
         ],
         "title": {
          "text": "index"
         }
        },
        "yaxis": {
         "anchor": "x",
         "domain": [
          0,
          1
         ],
         "title": {
          "text": "lr"
         }
        }
       }
      }
     },
     "metadata": {},
     "output_type": "display_data"
    }
   ],
   "source": [
    "lrsched = partial(MultiStepLR, milestones=[5, 20, 40], gamma=0.8)\n",
    "df = explore(lrsched, optim_lr=1.0)"
   ]
  },
  {
   "cell_type": "code",
   "execution_count": null,
   "id": "0c0bc579-2540-4814-b699-9cfb4b65dd9b",
   "metadata": {},
   "outputs": [],
   "source": []
  },
  {
   "cell_type": "markdown",
   "id": "e3b5c7e2-5f37-4655-a44a-c2040dd6c0e0",
   "metadata": {},
   "source": [
    "## ConstantLR\n",
    "Makes one shift in the learning rate. Ends with what the optimizers is configured with. But starts with some other learning rate which is `factor` * `optim_lr` and stays at that reduced rate until `total_iters`, after which is shifts to the original learning rate that the optimizer was configured with, i.e., `optim_lr`."
   ]
  },
  {
   "cell_type": "code",
   "execution_count": 6,
   "id": "6fd0ed09-01de-435c-9790-9b8e907d48c7",
   "metadata": {},
   "outputs": [
    {
     "data": {
      "application/vnd.plotly.v1+json": {
       "config": {
        "plotlyServerURL": "https://plot.ly"
       },
       "data": [
        {
         "hovertemplate": "epoch=0<br>index=%{x}<br>lr=%{y}<extra></extra>",
         "legendgroup": "0",
         "marker": {
          "color": "#636efa",
          "symbol": "circle"
         },
         "mode": "markers",
         "name": "0",
         "orientation": "v",
         "showlegend": true,
         "type": "scatter",
         "x": [
          0,
          1,
          2,
          3,
          4,
          5,
          6
         ],
         "xaxis": "x",
         "y": [
          0.4,
          0.4,
          0.4,
          0.4,
          0.4,
          0.4,
          0.4
         ],
         "yaxis": "y"
        },
        {
         "hovertemplate": "epoch=1<br>index=%{x}<br>lr=%{y}<extra></extra>",
         "legendgroup": "1",
         "marker": {
          "color": "#EF553B",
          "symbol": "circle"
         },
         "mode": "markers",
         "name": "1",
         "orientation": "v",
         "showlegend": true,
         "type": "scatter",
         "x": [
          7,
          8,
          9,
          10,
          11,
          12,
          13
         ],
         "xaxis": "x",
         "y": [
          0.4,
          0.4,
          0.4,
          0.4,
          0.4,
          0.4,
          0.4
         ],
         "yaxis": "y"
        },
        {
         "hovertemplate": "epoch=2<br>index=%{x}<br>lr=%{y}<extra></extra>",
         "legendgroup": "2",
         "marker": {
          "color": "#00cc96",
          "symbol": "circle"
         },
         "mode": "markers",
         "name": "2",
         "orientation": "v",
         "showlegend": true,
         "type": "scatter",
         "x": [
          14,
          15,
          16,
          17,
          18,
          19,
          20
         ],
         "xaxis": "x",
         "y": [
          0.4,
          0.4,
          0.4,
          0.4,
          0.4,
          0.4,
          0.4
         ],
         "yaxis": "y"
        },
        {
         "hovertemplate": "epoch=3<br>index=%{x}<br>lr=%{y}<extra></extra>",
         "legendgroup": "3",
         "marker": {
          "color": "#ab63fa",
          "symbol": "circle"
         },
         "mode": "markers",
         "name": "3",
         "orientation": "v",
         "showlegend": true,
         "type": "scatter",
         "x": [
          21,
          22,
          23,
          24,
          25,
          26,
          27
         ],
         "xaxis": "x",
         "y": [
          0.4,
          0.4,
          0.4,
          0.4,
          0.4,
          0.4,
          0.4
         ],
         "yaxis": "y"
        },
        {
         "hovertemplate": "epoch=4<br>index=%{x}<br>lr=%{y}<extra></extra>",
         "legendgroup": "4",
         "marker": {
          "color": "#FFA15A",
          "symbol": "circle"
         },
         "mode": "markers",
         "name": "4",
         "orientation": "v",
         "showlegend": true,
         "type": "scatter",
         "x": [
          28,
          29,
          30,
          31,
          32,
          33,
          34
         ],
         "xaxis": "x",
         "y": [
          0.4,
          0.4,
          0.4,
          0.4,
          0.4,
          0.4,
          0.4
         ],
         "yaxis": "y"
        },
        {
         "hovertemplate": "epoch=5<br>index=%{x}<br>lr=%{y}<extra></extra>",
         "legendgroup": "5",
         "marker": {
          "color": "#19d3f3",
          "symbol": "circle"
         },
         "mode": "markers",
         "name": "5",
         "orientation": "v",
         "showlegend": true,
         "type": "scatter",
         "x": [
          35,
          36,
          37,
          38,
          39,
          40,
          41
         ],
         "xaxis": "x",
         "y": [
          0.4,
          0.4,
          0.4,
          0.4,
          0.4,
          0.4,
          0.4
         ],
         "yaxis": "y"
        },
        {
         "hovertemplate": "epoch=6<br>index=%{x}<br>lr=%{y}<extra></extra>",
         "legendgroup": "6",
         "marker": {
          "color": "#FF6692",
          "symbol": "circle"
         },
         "mode": "markers",
         "name": "6",
         "orientation": "v",
         "showlegend": true,
         "type": "scatter",
         "x": [
          42,
          43,
          44,
          45,
          46,
          47,
          48
         ],
         "xaxis": "x",
         "y": [
          0.4,
          0.4,
          0.4,
          0.4,
          0.4,
          0.4,
          0.4
         ],
         "yaxis": "y"
        },
        {
         "hovertemplate": "epoch=7<br>index=%{x}<br>lr=%{y}<extra></extra>",
         "legendgroup": "7",
         "marker": {
          "color": "#B6E880",
          "symbol": "circle"
         },
         "mode": "markers",
         "name": "7",
         "orientation": "v",
         "showlegend": true,
         "type": "scatter",
         "x": [
          49,
          50,
          51,
          52,
          53,
          54,
          55
         ],
         "xaxis": "x",
         "y": [
          0.4,
          0.4,
          0.4,
          0.4,
          0.4,
          0.4,
          0.4
         ],
         "yaxis": "y"
        },
        {
         "hovertemplate": "epoch=8<br>index=%{x}<br>lr=%{y}<extra></extra>",
         "legendgroup": "8",
         "marker": {
          "color": "#FF97FF",
          "symbol": "circle"
         },
         "mode": "markers",
         "name": "8",
         "orientation": "v",
         "showlegend": true,
         "type": "scatter",
         "x": [
          56,
          57,
          58,
          59,
          60,
          61,
          62
         ],
         "xaxis": "x",
         "y": [
          0.4,
          0.4,
          0.4,
          0.4,
          0.4,
          0.4,
          0.4
         ],
         "yaxis": "y"
        },
        {
         "hovertemplate": "epoch=9<br>index=%{x}<br>lr=%{y}<extra></extra>",
         "legendgroup": "9",
         "marker": {
          "color": "#FECB52",
          "symbol": "circle"
         },
         "mode": "markers",
         "name": "9",
         "orientation": "v",
         "showlegend": true,
         "type": "scatter",
         "x": [
          63,
          64,
          65,
          66,
          67,
          68,
          69
         ],
         "xaxis": "x",
         "y": [
          0.4,
          0.4,
          0.4,
          0.4,
          0.4,
          0.4,
          0.4
         ],
         "yaxis": "y"
        },
        {
         "hovertemplate": "epoch=10<br>index=%{x}<br>lr=%{y}<extra></extra>",
         "legendgroup": "10",
         "marker": {
          "color": "#636efa",
          "symbol": "circle"
         },
         "mode": "markers",
         "name": "10",
         "orientation": "v",
         "showlegend": true,
         "type": "scatter",
         "x": [
          70,
          71,
          72,
          73,
          74,
          75,
          76
         ],
         "xaxis": "x",
         "y": [
          0.8,
          0.8,
          0.8,
          0.8,
          0.8,
          0.8,
          0.8
         ],
         "yaxis": "y"
        },
        {
         "hovertemplate": "epoch=11<br>index=%{x}<br>lr=%{y}<extra></extra>",
         "legendgroup": "11",
         "marker": {
          "color": "#EF553B",
          "symbol": "circle"
         },
         "mode": "markers",
         "name": "11",
         "orientation": "v",
         "showlegend": true,
         "type": "scatter",
         "x": [
          77,
          78,
          79,
          80,
          81,
          82,
          83
         ],
         "xaxis": "x",
         "y": [
          0.8,
          0.8,
          0.8,
          0.8,
          0.8,
          0.8,
          0.8
         ],
         "yaxis": "y"
        },
        {
         "hovertemplate": "epoch=12<br>index=%{x}<br>lr=%{y}<extra></extra>",
         "legendgroup": "12",
         "marker": {
          "color": "#00cc96",
          "symbol": "circle"
         },
         "mode": "markers",
         "name": "12",
         "orientation": "v",
         "showlegend": true,
         "type": "scatter",
         "x": [
          84,
          85,
          86,
          87,
          88,
          89,
          90
         ],
         "xaxis": "x",
         "y": [
          0.8,
          0.8,
          0.8,
          0.8,
          0.8,
          0.8,
          0.8
         ],
         "yaxis": "y"
        },
        {
         "hovertemplate": "epoch=13<br>index=%{x}<br>lr=%{y}<extra></extra>",
         "legendgroup": "13",
         "marker": {
          "color": "#ab63fa",
          "symbol": "circle"
         },
         "mode": "markers",
         "name": "13",
         "orientation": "v",
         "showlegend": true,
         "type": "scatter",
         "x": [
          91,
          92,
          93,
          94,
          95,
          96,
          97
         ],
         "xaxis": "x",
         "y": [
          0.8,
          0.8,
          0.8,
          0.8,
          0.8,
          0.8,
          0.8
         ],
         "yaxis": "y"
        },
        {
         "hovertemplate": "epoch=14<br>index=%{x}<br>lr=%{y}<extra></extra>",
         "legendgroup": "14",
         "marker": {
          "color": "#FFA15A",
          "symbol": "circle"
         },
         "mode": "markers",
         "name": "14",
         "orientation": "v",
         "showlegend": true,
         "type": "scatter",
         "x": [
          98,
          99,
          100,
          101,
          102,
          103,
          104
         ],
         "xaxis": "x",
         "y": [
          0.8,
          0.8,
          0.8,
          0.8,
          0.8,
          0.8,
          0.8
         ],
         "yaxis": "y"
        },
        {
         "hovertemplate": "epoch=15<br>index=%{x}<br>lr=%{y}<extra></extra>",
         "legendgroup": "15",
         "marker": {
          "color": "#19d3f3",
          "symbol": "circle"
         },
         "mode": "markers",
         "name": "15",
         "orientation": "v",
         "showlegend": true,
         "type": "scatter",
         "x": [
          105,
          106,
          107,
          108,
          109,
          110,
          111
         ],
         "xaxis": "x",
         "y": [
          0.8,
          0.8,
          0.8,
          0.8,
          0.8,
          0.8,
          0.8
         ],
         "yaxis": "y"
        },
        {
         "hovertemplate": "epoch=16<br>index=%{x}<br>lr=%{y}<extra></extra>",
         "legendgroup": "16",
         "marker": {
          "color": "#FF6692",
          "symbol": "circle"
         },
         "mode": "markers",
         "name": "16",
         "orientation": "v",
         "showlegend": true,
         "type": "scatter",
         "x": [
          112,
          113,
          114,
          115,
          116,
          117,
          118
         ],
         "xaxis": "x",
         "y": [
          0.8,
          0.8,
          0.8,
          0.8,
          0.8,
          0.8,
          0.8
         ],
         "yaxis": "y"
        },
        {
         "hovertemplate": "epoch=17<br>index=%{x}<br>lr=%{y}<extra></extra>",
         "legendgroup": "17",
         "marker": {
          "color": "#B6E880",
          "symbol": "circle"
         },
         "mode": "markers",
         "name": "17",
         "orientation": "v",
         "showlegend": true,
         "type": "scatter",
         "x": [
          119,
          120,
          121,
          122,
          123,
          124,
          125
         ],
         "xaxis": "x",
         "y": [
          0.8,
          0.8,
          0.8,
          0.8,
          0.8,
          0.8,
          0.8
         ],
         "yaxis": "y"
        },
        {
         "hovertemplate": "epoch=18<br>index=%{x}<br>lr=%{y}<extra></extra>",
         "legendgroup": "18",
         "marker": {
          "color": "#FF97FF",
          "symbol": "circle"
         },
         "mode": "markers",
         "name": "18",
         "orientation": "v",
         "showlegend": true,
         "type": "scatter",
         "x": [
          126,
          127,
          128,
          129,
          130,
          131,
          132
         ],
         "xaxis": "x",
         "y": [
          0.8,
          0.8,
          0.8,
          0.8,
          0.8,
          0.8,
          0.8
         ],
         "yaxis": "y"
        },
        {
         "hovertemplate": "epoch=19<br>index=%{x}<br>lr=%{y}<extra></extra>",
         "legendgroup": "19",
         "marker": {
          "color": "#FECB52",
          "symbol": "circle"
         },
         "mode": "markers",
         "name": "19",
         "orientation": "v",
         "showlegend": true,
         "type": "scatter",
         "x": [
          133,
          134,
          135,
          136,
          137,
          138,
          139
         ],
         "xaxis": "x",
         "y": [
          0.8,
          0.8,
          0.8,
          0.8,
          0.8,
          0.8,
          0.8
         ],
         "yaxis": "y"
        },
        {
         "hovertemplate": "epoch=20<br>index=%{x}<br>lr=%{y}<extra></extra>",
         "legendgroup": "20",
         "marker": {
          "color": "#636efa",
          "symbol": "circle"
         },
         "mode": "markers",
         "name": "20",
         "orientation": "v",
         "showlegend": true,
         "type": "scatter",
         "x": [
          140,
          141,
          142,
          143,
          144,
          145,
          146
         ],
         "xaxis": "x",
         "y": [
          0.8,
          0.8,
          0.8,
          0.8,
          0.8,
          0.8,
          0.8
         ],
         "yaxis": "y"
        },
        {
         "hovertemplate": "epoch=21<br>index=%{x}<br>lr=%{y}<extra></extra>",
         "legendgroup": "21",
         "marker": {
          "color": "#EF553B",
          "symbol": "circle"
         },
         "mode": "markers",
         "name": "21",
         "orientation": "v",
         "showlegend": true,
         "type": "scatter",
         "x": [
          147,
          148,
          149,
          150,
          151,
          152,
          153
         ],
         "xaxis": "x",
         "y": [
          0.8,
          0.8,
          0.8,
          0.8,
          0.8,
          0.8,
          0.8
         ],
         "yaxis": "y"
        },
        {
         "hovertemplate": "epoch=22<br>index=%{x}<br>lr=%{y}<extra></extra>",
         "legendgroup": "22",
         "marker": {
          "color": "#00cc96",
          "symbol": "circle"
         },
         "mode": "markers",
         "name": "22",
         "orientation": "v",
         "showlegend": true,
         "type": "scatter",
         "x": [
          154,
          155,
          156,
          157,
          158,
          159,
          160
         ],
         "xaxis": "x",
         "y": [
          0.8,
          0.8,
          0.8,
          0.8,
          0.8,
          0.8,
          0.8
         ],
         "yaxis": "y"
        },
        {
         "hovertemplate": "epoch=23<br>index=%{x}<br>lr=%{y}<extra></extra>",
         "legendgroup": "23",
         "marker": {
          "color": "#ab63fa",
          "symbol": "circle"
         },
         "mode": "markers",
         "name": "23",
         "orientation": "v",
         "showlegend": true,
         "type": "scatter",
         "x": [
          161,
          162,
          163,
          164,
          165,
          166,
          167
         ],
         "xaxis": "x",
         "y": [
          0.8,
          0.8,
          0.8,
          0.8,
          0.8,
          0.8,
          0.8
         ],
         "yaxis": "y"
        },
        {
         "hovertemplate": "epoch=24<br>index=%{x}<br>lr=%{y}<extra></extra>",
         "legendgroup": "24",
         "marker": {
          "color": "#FFA15A",
          "symbol": "circle"
         },
         "mode": "markers",
         "name": "24",
         "orientation": "v",
         "showlegend": true,
         "type": "scatter",
         "x": [
          168,
          169,
          170,
          171,
          172,
          173,
          174
         ],
         "xaxis": "x",
         "y": [
          0.8,
          0.8,
          0.8,
          0.8,
          0.8,
          0.8,
          0.8
         ],
         "yaxis": "y"
        },
        {
         "hovertemplate": "epoch=25<br>index=%{x}<br>lr=%{y}<extra></extra>",
         "legendgroup": "25",
         "marker": {
          "color": "#19d3f3",
          "symbol": "circle"
         },
         "mode": "markers",
         "name": "25",
         "orientation": "v",
         "showlegend": true,
         "type": "scatter",
         "x": [
          175,
          176,
          177,
          178,
          179,
          180,
          181
         ],
         "xaxis": "x",
         "y": [
          0.8,
          0.8,
          0.8,
          0.8,
          0.8,
          0.8,
          0.8
         ],
         "yaxis": "y"
        },
        {
         "hovertemplate": "epoch=26<br>index=%{x}<br>lr=%{y}<extra></extra>",
         "legendgroup": "26",
         "marker": {
          "color": "#FF6692",
          "symbol": "circle"
         },
         "mode": "markers",
         "name": "26",
         "orientation": "v",
         "showlegend": true,
         "type": "scatter",
         "x": [
          182,
          183,
          184,
          185,
          186,
          187,
          188
         ],
         "xaxis": "x",
         "y": [
          0.8,
          0.8,
          0.8,
          0.8,
          0.8,
          0.8,
          0.8
         ],
         "yaxis": "y"
        },
        {
         "hovertemplate": "epoch=27<br>index=%{x}<br>lr=%{y}<extra></extra>",
         "legendgroup": "27",
         "marker": {
          "color": "#B6E880",
          "symbol": "circle"
         },
         "mode": "markers",
         "name": "27",
         "orientation": "v",
         "showlegend": true,
         "type": "scatter",
         "x": [
          189,
          190,
          191,
          192,
          193,
          194,
          195
         ],
         "xaxis": "x",
         "y": [
          0.8,
          0.8,
          0.8,
          0.8,
          0.8,
          0.8,
          0.8
         ],
         "yaxis": "y"
        },
        {
         "hovertemplate": "epoch=28<br>index=%{x}<br>lr=%{y}<extra></extra>",
         "legendgroup": "28",
         "marker": {
          "color": "#FF97FF",
          "symbol": "circle"
         },
         "mode": "markers",
         "name": "28",
         "orientation": "v",
         "showlegend": true,
         "type": "scatter",
         "x": [
          196,
          197,
          198,
          199,
          200,
          201,
          202
         ],
         "xaxis": "x",
         "y": [
          0.8,
          0.8,
          0.8,
          0.8,
          0.8,
          0.8,
          0.8
         ],
         "yaxis": "y"
        },
        {
         "hovertemplate": "epoch=29<br>index=%{x}<br>lr=%{y}<extra></extra>",
         "legendgroup": "29",
         "marker": {
          "color": "#FECB52",
          "symbol": "circle"
         },
         "mode": "markers",
         "name": "29",
         "orientation": "v",
         "showlegend": true,
         "type": "scatter",
         "x": [
          203,
          204,
          205,
          206,
          207,
          208,
          209
         ],
         "xaxis": "x",
         "y": [
          0.8,
          0.8,
          0.8,
          0.8,
          0.8,
          0.8,
          0.8
         ],
         "yaxis": "y"
        },
        {
         "hovertemplate": "epoch=30<br>index=%{x}<br>lr=%{y}<extra></extra>",
         "legendgroup": "30",
         "marker": {
          "color": "#636efa",
          "symbol": "circle"
         },
         "mode": "markers",
         "name": "30",
         "orientation": "v",
         "showlegend": true,
         "type": "scatter",
         "x": [
          210,
          211,
          212,
          213,
          214,
          215,
          216
         ],
         "xaxis": "x",
         "y": [
          0.8,
          0.8,
          0.8,
          0.8,
          0.8,
          0.8,
          0.8
         ],
         "yaxis": "y"
        },
        {
         "hovertemplate": "epoch=31<br>index=%{x}<br>lr=%{y}<extra></extra>",
         "legendgroup": "31",
         "marker": {
          "color": "#EF553B",
          "symbol": "circle"
         },
         "mode": "markers",
         "name": "31",
         "orientation": "v",
         "showlegend": true,
         "type": "scatter",
         "x": [
          217,
          218,
          219,
          220,
          221,
          222,
          223
         ],
         "xaxis": "x",
         "y": [
          0.8,
          0.8,
          0.8,
          0.8,
          0.8,
          0.8,
          0.8
         ],
         "yaxis": "y"
        },
        {
         "hovertemplate": "epoch=32<br>index=%{x}<br>lr=%{y}<extra></extra>",
         "legendgroup": "32",
         "marker": {
          "color": "#00cc96",
          "symbol": "circle"
         },
         "mode": "markers",
         "name": "32",
         "orientation": "v",
         "showlegend": true,
         "type": "scatter",
         "x": [
          224,
          225,
          226,
          227,
          228,
          229,
          230
         ],
         "xaxis": "x",
         "y": [
          0.8,
          0.8,
          0.8,
          0.8,
          0.8,
          0.8,
          0.8
         ],
         "yaxis": "y"
        },
        {
         "hovertemplate": "epoch=33<br>index=%{x}<br>lr=%{y}<extra></extra>",
         "legendgroup": "33",
         "marker": {
          "color": "#ab63fa",
          "symbol": "circle"
         },
         "mode": "markers",
         "name": "33",
         "orientation": "v",
         "showlegend": true,
         "type": "scatter",
         "x": [
          231,
          232,
          233,
          234,
          235,
          236,
          237
         ],
         "xaxis": "x",
         "y": [
          0.8,
          0.8,
          0.8,
          0.8,
          0.8,
          0.8,
          0.8
         ],
         "yaxis": "y"
        },
        {
         "hovertemplate": "epoch=34<br>index=%{x}<br>lr=%{y}<extra></extra>",
         "legendgroup": "34",
         "marker": {
          "color": "#FFA15A",
          "symbol": "circle"
         },
         "mode": "markers",
         "name": "34",
         "orientation": "v",
         "showlegend": true,
         "type": "scatter",
         "x": [
          238,
          239,
          240,
          241,
          242,
          243,
          244
         ],
         "xaxis": "x",
         "y": [
          0.8,
          0.8,
          0.8,
          0.8,
          0.8,
          0.8,
          0.8
         ],
         "yaxis": "y"
        },
        {
         "hovertemplate": "epoch=35<br>index=%{x}<br>lr=%{y}<extra></extra>",
         "legendgroup": "35",
         "marker": {
          "color": "#19d3f3",
          "symbol": "circle"
         },
         "mode": "markers",
         "name": "35",
         "orientation": "v",
         "showlegend": true,
         "type": "scatter",
         "x": [
          245,
          246,
          247,
          248,
          249,
          250,
          251
         ],
         "xaxis": "x",
         "y": [
          0.8,
          0.8,
          0.8,
          0.8,
          0.8,
          0.8,
          0.8
         ],
         "yaxis": "y"
        },
        {
         "hovertemplate": "epoch=36<br>index=%{x}<br>lr=%{y}<extra></extra>",
         "legendgroup": "36",
         "marker": {
          "color": "#FF6692",
          "symbol": "circle"
         },
         "mode": "markers",
         "name": "36",
         "orientation": "v",
         "showlegend": true,
         "type": "scatter",
         "x": [
          252,
          253,
          254,
          255,
          256,
          257,
          258
         ],
         "xaxis": "x",
         "y": [
          0.8,
          0.8,
          0.8,
          0.8,
          0.8,
          0.8,
          0.8
         ],
         "yaxis": "y"
        },
        {
         "hovertemplate": "epoch=37<br>index=%{x}<br>lr=%{y}<extra></extra>",
         "legendgroup": "37",
         "marker": {
          "color": "#B6E880",
          "symbol": "circle"
         },
         "mode": "markers",
         "name": "37",
         "orientation": "v",
         "showlegend": true,
         "type": "scatter",
         "x": [
          259,
          260,
          261,
          262,
          263,
          264,
          265
         ],
         "xaxis": "x",
         "y": [
          0.8,
          0.8,
          0.8,
          0.8,
          0.8,
          0.8,
          0.8
         ],
         "yaxis": "y"
        },
        {
         "hovertemplate": "epoch=38<br>index=%{x}<br>lr=%{y}<extra></extra>",
         "legendgroup": "38",
         "marker": {
          "color": "#FF97FF",
          "symbol": "circle"
         },
         "mode": "markers",
         "name": "38",
         "orientation": "v",
         "showlegend": true,
         "type": "scatter",
         "x": [
          266,
          267,
          268,
          269,
          270,
          271,
          272
         ],
         "xaxis": "x",
         "y": [
          0.8,
          0.8,
          0.8,
          0.8,
          0.8,
          0.8,
          0.8
         ],
         "yaxis": "y"
        },
        {
         "hovertemplate": "epoch=39<br>index=%{x}<br>lr=%{y}<extra></extra>",
         "legendgroup": "39",
         "marker": {
          "color": "#FECB52",
          "symbol": "circle"
         },
         "mode": "markers",
         "name": "39",
         "orientation": "v",
         "showlegend": true,
         "type": "scatter",
         "x": [
          273,
          274,
          275,
          276,
          277,
          278,
          279
         ],
         "xaxis": "x",
         "y": [
          0.8,
          0.8,
          0.8,
          0.8,
          0.8,
          0.8,
          0.8
         ],
         "yaxis": "y"
        },
        {
         "hovertemplate": "epoch=40<br>index=%{x}<br>lr=%{y}<extra></extra>",
         "legendgroup": "40",
         "marker": {
          "color": "#636efa",
          "symbol": "circle"
         },
         "mode": "markers",
         "name": "40",
         "orientation": "v",
         "showlegend": true,
         "type": "scatter",
         "x": [
          280,
          281,
          282,
          283,
          284,
          285,
          286
         ],
         "xaxis": "x",
         "y": [
          0.8,
          0.8,
          0.8,
          0.8,
          0.8,
          0.8,
          0.8
         ],
         "yaxis": "y"
        },
        {
         "hovertemplate": "epoch=41<br>index=%{x}<br>lr=%{y}<extra></extra>",
         "legendgroup": "41",
         "marker": {
          "color": "#EF553B",
          "symbol": "circle"
         },
         "mode": "markers",
         "name": "41",
         "orientation": "v",
         "showlegend": true,
         "type": "scatter",
         "x": [
          287,
          288,
          289,
          290,
          291,
          292,
          293
         ],
         "xaxis": "x",
         "y": [
          0.8,
          0.8,
          0.8,
          0.8,
          0.8,
          0.8,
          0.8
         ],
         "yaxis": "y"
        },
        {
         "hovertemplate": "epoch=42<br>index=%{x}<br>lr=%{y}<extra></extra>",
         "legendgroup": "42",
         "marker": {
          "color": "#00cc96",
          "symbol": "circle"
         },
         "mode": "markers",
         "name": "42",
         "orientation": "v",
         "showlegend": true,
         "type": "scatter",
         "x": [
          294,
          295,
          296,
          297,
          298,
          299,
          300
         ],
         "xaxis": "x",
         "y": [
          0.8,
          0.8,
          0.8,
          0.8,
          0.8,
          0.8,
          0.8
         ],
         "yaxis": "y"
        },
        {
         "hovertemplate": "epoch=43<br>index=%{x}<br>lr=%{y}<extra></extra>",
         "legendgroup": "43",
         "marker": {
          "color": "#ab63fa",
          "symbol": "circle"
         },
         "mode": "markers",
         "name": "43",
         "orientation": "v",
         "showlegend": true,
         "type": "scatter",
         "x": [
          301,
          302,
          303,
          304,
          305,
          306,
          307
         ],
         "xaxis": "x",
         "y": [
          0.8,
          0.8,
          0.8,
          0.8,
          0.8,
          0.8,
          0.8
         ],
         "yaxis": "y"
        },
        {
         "hovertemplate": "epoch=44<br>index=%{x}<br>lr=%{y}<extra></extra>",
         "legendgroup": "44",
         "marker": {
          "color": "#FFA15A",
          "symbol": "circle"
         },
         "mode": "markers",
         "name": "44",
         "orientation": "v",
         "showlegend": true,
         "type": "scatter",
         "x": [
          308,
          309,
          310,
          311,
          312,
          313,
          314
         ],
         "xaxis": "x",
         "y": [
          0.8,
          0.8,
          0.8,
          0.8,
          0.8,
          0.8,
          0.8
         ],
         "yaxis": "y"
        },
        {
         "hovertemplate": "epoch=45<br>index=%{x}<br>lr=%{y}<extra></extra>",
         "legendgroup": "45",
         "marker": {
          "color": "#19d3f3",
          "symbol": "circle"
         },
         "mode": "markers",
         "name": "45",
         "orientation": "v",
         "showlegend": true,
         "type": "scatter",
         "x": [
          315,
          316,
          317,
          318,
          319,
          320,
          321
         ],
         "xaxis": "x",
         "y": [
          0.8,
          0.8,
          0.8,
          0.8,
          0.8,
          0.8,
          0.8
         ],
         "yaxis": "y"
        },
        {
         "hovertemplate": "epoch=46<br>index=%{x}<br>lr=%{y}<extra></extra>",
         "legendgroup": "46",
         "marker": {
          "color": "#FF6692",
          "symbol": "circle"
         },
         "mode": "markers",
         "name": "46",
         "orientation": "v",
         "showlegend": true,
         "type": "scatter",
         "x": [
          322,
          323,
          324,
          325,
          326,
          327,
          328
         ],
         "xaxis": "x",
         "y": [
          0.8,
          0.8,
          0.8,
          0.8,
          0.8,
          0.8,
          0.8
         ],
         "yaxis": "y"
        },
        {
         "hovertemplate": "epoch=47<br>index=%{x}<br>lr=%{y}<extra></extra>",
         "legendgroup": "47",
         "marker": {
          "color": "#B6E880",
          "symbol": "circle"
         },
         "mode": "markers",
         "name": "47",
         "orientation": "v",
         "showlegend": true,
         "type": "scatter",
         "x": [
          329,
          330,
          331,
          332,
          333,
          334,
          335
         ],
         "xaxis": "x",
         "y": [
          0.8,
          0.8,
          0.8,
          0.8,
          0.8,
          0.8,
          0.8
         ],
         "yaxis": "y"
        },
        {
         "hovertemplate": "epoch=48<br>index=%{x}<br>lr=%{y}<extra></extra>",
         "legendgroup": "48",
         "marker": {
          "color": "#FF97FF",
          "symbol": "circle"
         },
         "mode": "markers",
         "name": "48",
         "orientation": "v",
         "showlegend": true,
         "type": "scatter",
         "x": [
          336,
          337,
          338,
          339,
          340,
          341,
          342
         ],
         "xaxis": "x",
         "y": [
          0.8,
          0.8,
          0.8,
          0.8,
          0.8,
          0.8,
          0.8
         ],
         "yaxis": "y"
        },
        {
         "hovertemplate": "epoch=49<br>index=%{x}<br>lr=%{y}<extra></extra>",
         "legendgroup": "49",
         "marker": {
          "color": "#FECB52",
          "symbol": "circle"
         },
         "mode": "markers",
         "name": "49",
         "orientation": "v",
         "showlegend": true,
         "type": "scatter",
         "x": [
          343,
          344,
          345,
          346,
          347,
          348,
          349
         ],
         "xaxis": "x",
         "y": [
          0.8,
          0.8,
          0.8,
          0.8,
          0.8,
          0.8,
          0.8
         ],
         "yaxis": "y"
        }
       ],
       "layout": {
        "legend": {
         "title": {
          "text": "epoch"
         },
         "tracegroupgap": 0
        },
        "margin": {
         "t": 60
        },
        "template": {
         "data": {
          "bar": [
           {
            "error_x": {
             "color": "#2a3f5f"
            },
            "error_y": {
             "color": "#2a3f5f"
            },
            "marker": {
             "line": {
              "color": "#E5ECF6",
              "width": 0.5
             },
             "pattern": {
              "fillmode": "overlay",
              "size": 10,
              "solidity": 0.2
             }
            },
            "type": "bar"
           }
          ],
          "barpolar": [
           {
            "marker": {
             "line": {
              "color": "#E5ECF6",
              "width": 0.5
             },
             "pattern": {
              "fillmode": "overlay",
              "size": 10,
              "solidity": 0.2
             }
            },
            "type": "barpolar"
           }
          ],
          "carpet": [
           {
            "aaxis": {
             "endlinecolor": "#2a3f5f",
             "gridcolor": "white",
             "linecolor": "white",
             "minorgridcolor": "white",
             "startlinecolor": "#2a3f5f"
            },
            "baxis": {
             "endlinecolor": "#2a3f5f",
             "gridcolor": "white",
             "linecolor": "white",
             "minorgridcolor": "white",
             "startlinecolor": "#2a3f5f"
            },
            "type": "carpet"
           }
          ],
          "choropleth": [
           {
            "colorbar": {
             "outlinewidth": 0,
             "ticks": ""
            },
            "type": "choropleth"
           }
          ],
          "contour": [
           {
            "colorbar": {
             "outlinewidth": 0,
             "ticks": ""
            },
            "colorscale": [
             [
              0,
              "#0d0887"
             ],
             [
              0.1111111111111111,
              "#46039f"
             ],
             [
              0.2222222222222222,
              "#7201a8"
             ],
             [
              0.3333333333333333,
              "#9c179e"
             ],
             [
              0.4444444444444444,
              "#bd3786"
             ],
             [
              0.5555555555555556,
              "#d8576b"
             ],
             [
              0.6666666666666666,
              "#ed7953"
             ],
             [
              0.7777777777777778,
              "#fb9f3a"
             ],
             [
              0.8888888888888888,
              "#fdca26"
             ],
             [
              1,
              "#f0f921"
             ]
            ],
            "type": "contour"
           }
          ],
          "contourcarpet": [
           {
            "colorbar": {
             "outlinewidth": 0,
             "ticks": ""
            },
            "type": "contourcarpet"
           }
          ],
          "heatmap": [
           {
            "colorbar": {
             "outlinewidth": 0,
             "ticks": ""
            },
            "colorscale": [
             [
              0,
              "#0d0887"
             ],
             [
              0.1111111111111111,
              "#46039f"
             ],
             [
              0.2222222222222222,
              "#7201a8"
             ],
             [
              0.3333333333333333,
              "#9c179e"
             ],
             [
              0.4444444444444444,
              "#bd3786"
             ],
             [
              0.5555555555555556,
              "#d8576b"
             ],
             [
              0.6666666666666666,
              "#ed7953"
             ],
             [
              0.7777777777777778,
              "#fb9f3a"
             ],
             [
              0.8888888888888888,
              "#fdca26"
             ],
             [
              1,
              "#f0f921"
             ]
            ],
            "type": "heatmap"
           }
          ],
          "heatmapgl": [
           {
            "colorbar": {
             "outlinewidth": 0,
             "ticks": ""
            },
            "colorscale": [
             [
              0,
              "#0d0887"
             ],
             [
              0.1111111111111111,
              "#46039f"
             ],
             [
              0.2222222222222222,
              "#7201a8"
             ],
             [
              0.3333333333333333,
              "#9c179e"
             ],
             [
              0.4444444444444444,
              "#bd3786"
             ],
             [
              0.5555555555555556,
              "#d8576b"
             ],
             [
              0.6666666666666666,
              "#ed7953"
             ],
             [
              0.7777777777777778,
              "#fb9f3a"
             ],
             [
              0.8888888888888888,
              "#fdca26"
             ],
             [
              1,
              "#f0f921"
             ]
            ],
            "type": "heatmapgl"
           }
          ],
          "histogram": [
           {
            "marker": {
             "pattern": {
              "fillmode": "overlay",
              "size": 10,
              "solidity": 0.2
             }
            },
            "type": "histogram"
           }
          ],
          "histogram2d": [
           {
            "colorbar": {
             "outlinewidth": 0,
             "ticks": ""
            },
            "colorscale": [
             [
              0,
              "#0d0887"
             ],
             [
              0.1111111111111111,
              "#46039f"
             ],
             [
              0.2222222222222222,
              "#7201a8"
             ],
             [
              0.3333333333333333,
              "#9c179e"
             ],
             [
              0.4444444444444444,
              "#bd3786"
             ],
             [
              0.5555555555555556,
              "#d8576b"
             ],
             [
              0.6666666666666666,
              "#ed7953"
             ],
             [
              0.7777777777777778,
              "#fb9f3a"
             ],
             [
              0.8888888888888888,
              "#fdca26"
             ],
             [
              1,
              "#f0f921"
             ]
            ],
            "type": "histogram2d"
           }
          ],
          "histogram2dcontour": [
           {
            "colorbar": {
             "outlinewidth": 0,
             "ticks": ""
            },
            "colorscale": [
             [
              0,
              "#0d0887"
             ],
             [
              0.1111111111111111,
              "#46039f"
             ],
             [
              0.2222222222222222,
              "#7201a8"
             ],
             [
              0.3333333333333333,
              "#9c179e"
             ],
             [
              0.4444444444444444,
              "#bd3786"
             ],
             [
              0.5555555555555556,
              "#d8576b"
             ],
             [
              0.6666666666666666,
              "#ed7953"
             ],
             [
              0.7777777777777778,
              "#fb9f3a"
             ],
             [
              0.8888888888888888,
              "#fdca26"
             ],
             [
              1,
              "#f0f921"
             ]
            ],
            "type": "histogram2dcontour"
           }
          ],
          "mesh3d": [
           {
            "colorbar": {
             "outlinewidth": 0,
             "ticks": ""
            },
            "type": "mesh3d"
           }
          ],
          "parcoords": [
           {
            "line": {
             "colorbar": {
              "outlinewidth": 0,
              "ticks": ""
             }
            },
            "type": "parcoords"
           }
          ],
          "pie": [
           {
            "automargin": true,
            "type": "pie"
           }
          ],
          "scatter": [
           {
            "fillpattern": {
             "fillmode": "overlay",
             "size": 10,
             "solidity": 0.2
            },
            "type": "scatter"
           }
          ],
          "scatter3d": [
           {
            "line": {
             "colorbar": {
              "outlinewidth": 0,
              "ticks": ""
             }
            },
            "marker": {
             "colorbar": {
              "outlinewidth": 0,
              "ticks": ""
             }
            },
            "type": "scatter3d"
           }
          ],
          "scattercarpet": [
           {
            "marker": {
             "colorbar": {
              "outlinewidth": 0,
              "ticks": ""
             }
            },
            "type": "scattercarpet"
           }
          ],
          "scattergeo": [
           {
            "marker": {
             "colorbar": {
              "outlinewidth": 0,
              "ticks": ""
             }
            },
            "type": "scattergeo"
           }
          ],
          "scattergl": [
           {
            "marker": {
             "colorbar": {
              "outlinewidth": 0,
              "ticks": ""
             }
            },
            "type": "scattergl"
           }
          ],
          "scattermapbox": [
           {
            "marker": {
             "colorbar": {
              "outlinewidth": 0,
              "ticks": ""
             }
            },
            "type": "scattermapbox"
           }
          ],
          "scatterpolar": [
           {
            "marker": {
             "colorbar": {
              "outlinewidth": 0,
              "ticks": ""
             }
            },
            "type": "scatterpolar"
           }
          ],
          "scatterpolargl": [
           {
            "marker": {
             "colorbar": {
              "outlinewidth": 0,
              "ticks": ""
             }
            },
            "type": "scatterpolargl"
           }
          ],
          "scatterternary": [
           {
            "marker": {
             "colorbar": {
              "outlinewidth": 0,
              "ticks": ""
             }
            },
            "type": "scatterternary"
           }
          ],
          "surface": [
           {
            "colorbar": {
             "outlinewidth": 0,
             "ticks": ""
            },
            "colorscale": [
             [
              0,
              "#0d0887"
             ],
             [
              0.1111111111111111,
              "#46039f"
             ],
             [
              0.2222222222222222,
              "#7201a8"
             ],
             [
              0.3333333333333333,
              "#9c179e"
             ],
             [
              0.4444444444444444,
              "#bd3786"
             ],
             [
              0.5555555555555556,
              "#d8576b"
             ],
             [
              0.6666666666666666,
              "#ed7953"
             ],
             [
              0.7777777777777778,
              "#fb9f3a"
             ],
             [
              0.8888888888888888,
              "#fdca26"
             ],
             [
              1,
              "#f0f921"
             ]
            ],
            "type": "surface"
           }
          ],
          "table": [
           {
            "cells": {
             "fill": {
              "color": "#EBF0F8"
             },
             "line": {
              "color": "white"
             }
            },
            "header": {
             "fill": {
              "color": "#C8D4E3"
             },
             "line": {
              "color": "white"
             }
            },
            "type": "table"
           }
          ]
         },
         "layout": {
          "annotationdefaults": {
           "arrowcolor": "#2a3f5f",
           "arrowhead": 0,
           "arrowwidth": 1
          },
          "autotypenumbers": "strict",
          "coloraxis": {
           "colorbar": {
            "outlinewidth": 0,
            "ticks": ""
           }
          },
          "colorscale": {
           "diverging": [
            [
             0,
             "#8e0152"
            ],
            [
             0.1,
             "#c51b7d"
            ],
            [
             0.2,
             "#de77ae"
            ],
            [
             0.3,
             "#f1b6da"
            ],
            [
             0.4,
             "#fde0ef"
            ],
            [
             0.5,
             "#f7f7f7"
            ],
            [
             0.6,
             "#e6f5d0"
            ],
            [
             0.7,
             "#b8e186"
            ],
            [
             0.8,
             "#7fbc41"
            ],
            [
             0.9,
             "#4d9221"
            ],
            [
             1,
             "#276419"
            ]
           ],
           "sequential": [
            [
             0,
             "#0d0887"
            ],
            [
             0.1111111111111111,
             "#46039f"
            ],
            [
             0.2222222222222222,
             "#7201a8"
            ],
            [
             0.3333333333333333,
             "#9c179e"
            ],
            [
             0.4444444444444444,
             "#bd3786"
            ],
            [
             0.5555555555555556,
             "#d8576b"
            ],
            [
             0.6666666666666666,
             "#ed7953"
            ],
            [
             0.7777777777777778,
             "#fb9f3a"
            ],
            [
             0.8888888888888888,
             "#fdca26"
            ],
            [
             1,
             "#f0f921"
            ]
           ],
           "sequentialminus": [
            [
             0,
             "#0d0887"
            ],
            [
             0.1111111111111111,
             "#46039f"
            ],
            [
             0.2222222222222222,
             "#7201a8"
            ],
            [
             0.3333333333333333,
             "#9c179e"
            ],
            [
             0.4444444444444444,
             "#bd3786"
            ],
            [
             0.5555555555555556,
             "#d8576b"
            ],
            [
             0.6666666666666666,
             "#ed7953"
            ],
            [
             0.7777777777777778,
             "#fb9f3a"
            ],
            [
             0.8888888888888888,
             "#fdca26"
            ],
            [
             1,
             "#f0f921"
            ]
           ]
          },
          "colorway": [
           "#636efa",
           "#EF553B",
           "#00cc96",
           "#ab63fa",
           "#FFA15A",
           "#19d3f3",
           "#FF6692",
           "#B6E880",
           "#FF97FF",
           "#FECB52"
          ],
          "font": {
           "color": "#2a3f5f"
          },
          "geo": {
           "bgcolor": "white",
           "lakecolor": "white",
           "landcolor": "#E5ECF6",
           "showlakes": true,
           "showland": true,
           "subunitcolor": "white"
          },
          "hoverlabel": {
           "align": "left"
          },
          "hovermode": "closest",
          "mapbox": {
           "style": "light"
          },
          "paper_bgcolor": "white",
          "plot_bgcolor": "#E5ECF6",
          "polar": {
           "angularaxis": {
            "gridcolor": "white",
            "linecolor": "white",
            "ticks": ""
           },
           "bgcolor": "#E5ECF6",
           "radialaxis": {
            "gridcolor": "white",
            "linecolor": "white",
            "ticks": ""
           }
          },
          "scene": {
           "xaxis": {
            "backgroundcolor": "#E5ECF6",
            "gridcolor": "white",
            "gridwidth": 2,
            "linecolor": "white",
            "showbackground": true,
            "ticks": "",
            "zerolinecolor": "white"
           },
           "yaxis": {
            "backgroundcolor": "#E5ECF6",
            "gridcolor": "white",
            "gridwidth": 2,
            "linecolor": "white",
            "showbackground": true,
            "ticks": "",
            "zerolinecolor": "white"
           },
           "zaxis": {
            "backgroundcolor": "#E5ECF6",
            "gridcolor": "white",
            "gridwidth": 2,
            "linecolor": "white",
            "showbackground": true,
            "ticks": "",
            "zerolinecolor": "white"
           }
          },
          "shapedefaults": {
           "line": {
            "color": "#2a3f5f"
           }
          },
          "ternary": {
           "aaxis": {
            "gridcolor": "white",
            "linecolor": "white",
            "ticks": ""
           },
           "baxis": {
            "gridcolor": "white",
            "linecolor": "white",
            "ticks": ""
           },
           "bgcolor": "#E5ECF6",
           "caxis": {
            "gridcolor": "white",
            "linecolor": "white",
            "ticks": ""
           }
          },
          "title": {
           "x": 0.05
          },
          "xaxis": {
           "automargin": true,
           "gridcolor": "white",
           "linecolor": "white",
           "ticks": "",
           "title": {
            "standoff": 15
           },
           "zerolinecolor": "white",
           "zerolinewidth": 2
          },
          "yaxis": {
           "automargin": true,
           "gridcolor": "white",
           "linecolor": "white",
           "ticks": "",
           "title": {
            "standoff": 15
           },
           "zerolinecolor": "white",
           "zerolinewidth": 2
          }
         }
        },
        "xaxis": {
         "anchor": "y",
         "domain": [
          0,
          1
         ],
         "title": {
          "text": "index"
         }
        },
        "yaxis": {
         "anchor": "x",
         "domain": [
          0,
          1
         ],
         "title": {
          "text": "lr"
         }
        }
       }
      }
     },
     "metadata": {},
     "output_type": "display_data"
    }
   ],
   "source": [
    "lrsched = partial(ConstantLR, factor=1/2, total_iters=10)\n",
    "df = explore(lrsched, optim_lr=0.8)"
   ]
  },
  {
   "cell_type": "code",
   "execution_count": null,
   "id": "b0d89215-c496-4e73-989e-9965bd3c0c52",
   "metadata": {},
   "outputs": [],
   "source": []
  },
  {
   "cell_type": "markdown",
   "id": "2e105af1-6633-4244-a9c8-41e580c03d90",
   "metadata": {},
   "source": [
    "## LinearLR\n",
    "This increases the learning rate linearly by multiplying it with the `start_factor`, until the learning rate reaches the value that the optimizer is configured with. I can end with any other multiple of the learning rate. This is configured via the `end_factor` which defaults to 1.0.\n",
    "\n",
    "I am guessing it back-calculates the starting learning rate based on the ending learning rate (which is the learning rate the optimizer is configured with), the number of iters it has to reach this ending learning rate, and the multiplicative factor (deafults to 1/3)."
   ]
  },
  {
   "cell_type": "code",
   "execution_count": 7,
   "id": "63611b1b-c30b-4446-b96d-5cb16832059b",
   "metadata": {},
   "outputs": [
    {
     "data": {
      "application/vnd.plotly.v1+json": {
       "config": {
        "plotlyServerURL": "https://plot.ly"
       },
       "data": [
        {
         "hovertemplate": "epoch=0<br>index=%{x}<br>lr=%{y}<extra></extra>",
         "legendgroup": "0",
         "marker": {
          "color": "#636efa",
          "symbol": "circle"
         },
         "mode": "markers",
         "name": "0",
         "orientation": "v",
         "showlegend": true,
         "type": "scatter",
         "x": [
          0,
          1,
          2,
          3,
          4,
          5,
          6
         ],
         "xaxis": "x",
         "y": [
          0.4,
          0.4,
          0.4,
          0.4,
          0.4,
          0.4,
          0.4
         ],
         "yaxis": "y"
        },
        {
         "hovertemplate": "epoch=1<br>index=%{x}<br>lr=%{y}<extra></extra>",
         "legendgroup": "1",
         "marker": {
          "color": "#EF553B",
          "symbol": "circle"
         },
         "mode": "markers",
         "name": "1",
         "orientation": "v",
         "showlegend": true,
         "type": "scatter",
         "x": [
          7,
          8,
          9,
          10,
          11,
          12,
          13
         ],
         "xaxis": "x",
         "y": [
          0.4266666666666667,
          0.4266666666666667,
          0.4266666666666667,
          0.4266666666666667,
          0.4266666666666667,
          0.4266666666666667,
          0.4266666666666667
         ],
         "yaxis": "y"
        },
        {
         "hovertemplate": "epoch=2<br>index=%{x}<br>lr=%{y}<extra></extra>",
         "legendgroup": "2",
         "marker": {
          "color": "#00cc96",
          "symbol": "circle"
         },
         "mode": "markers",
         "name": "2",
         "orientation": "v",
         "showlegend": true,
         "type": "scatter",
         "x": [
          14,
          15,
          16,
          17,
          18,
          19,
          20
         ],
         "xaxis": "x",
         "y": [
          0.45333333333333337,
          0.45333333333333337,
          0.45333333333333337,
          0.45333333333333337,
          0.45333333333333337,
          0.45333333333333337,
          0.45333333333333337
         ],
         "yaxis": "y"
        },
        {
         "hovertemplate": "epoch=3<br>index=%{x}<br>lr=%{y}<extra></extra>",
         "legendgroup": "3",
         "marker": {
          "color": "#ab63fa",
          "symbol": "circle"
         },
         "mode": "markers",
         "name": "3",
         "orientation": "v",
         "showlegend": true,
         "type": "scatter",
         "x": [
          21,
          22,
          23,
          24,
          25,
          26,
          27
         ],
         "xaxis": "x",
         "y": [
          0.48000000000000004,
          0.48000000000000004,
          0.48000000000000004,
          0.48000000000000004,
          0.48000000000000004,
          0.48000000000000004,
          0.48000000000000004
         ],
         "yaxis": "y"
        },
        {
         "hovertemplate": "epoch=4<br>index=%{x}<br>lr=%{y}<extra></extra>",
         "legendgroup": "4",
         "marker": {
          "color": "#FFA15A",
          "symbol": "circle"
         },
         "mode": "markers",
         "name": "4",
         "orientation": "v",
         "showlegend": true,
         "type": "scatter",
         "x": [
          28,
          29,
          30,
          31,
          32,
          33,
          34
         ],
         "xaxis": "x",
         "y": [
          0.5066666666666667,
          0.5066666666666667,
          0.5066666666666667,
          0.5066666666666667,
          0.5066666666666667,
          0.5066666666666667,
          0.5066666666666667
         ],
         "yaxis": "y"
        },
        {
         "hovertemplate": "epoch=5<br>index=%{x}<br>lr=%{y}<extra></extra>",
         "legendgroup": "5",
         "marker": {
          "color": "#19d3f3",
          "symbol": "circle"
         },
         "mode": "markers",
         "name": "5",
         "orientation": "v",
         "showlegend": true,
         "type": "scatter",
         "x": [
          35,
          36,
          37,
          38,
          39,
          40,
          41
         ],
         "xaxis": "x",
         "y": [
          0.5333333333333333,
          0.5333333333333333,
          0.5333333333333333,
          0.5333333333333333,
          0.5333333333333333,
          0.5333333333333333,
          0.5333333333333333
         ],
         "yaxis": "y"
        },
        {
         "hovertemplate": "epoch=6<br>index=%{x}<br>lr=%{y}<extra></extra>",
         "legendgroup": "6",
         "marker": {
          "color": "#FF6692",
          "symbol": "circle"
         },
         "mode": "markers",
         "name": "6",
         "orientation": "v",
         "showlegend": true,
         "type": "scatter",
         "x": [
          42,
          43,
          44,
          45,
          46,
          47,
          48
         ],
         "xaxis": "x",
         "y": [
          0.56,
          0.56,
          0.56,
          0.56,
          0.56,
          0.56,
          0.56
         ],
         "yaxis": "y"
        },
        {
         "hovertemplate": "epoch=7<br>index=%{x}<br>lr=%{y}<extra></extra>",
         "legendgroup": "7",
         "marker": {
          "color": "#B6E880",
          "symbol": "circle"
         },
         "mode": "markers",
         "name": "7",
         "orientation": "v",
         "showlegend": true,
         "type": "scatter",
         "x": [
          49,
          50,
          51,
          52,
          53,
          54,
          55
         ],
         "xaxis": "x",
         "y": [
          0.5866666666666668,
          0.5866666666666668,
          0.5866666666666668,
          0.5866666666666668,
          0.5866666666666668,
          0.5866666666666668,
          0.5866666666666668
         ],
         "yaxis": "y"
        },
        {
         "hovertemplate": "epoch=8<br>index=%{x}<br>lr=%{y}<extra></extra>",
         "legendgroup": "8",
         "marker": {
          "color": "#FF97FF",
          "symbol": "circle"
         },
         "mode": "markers",
         "name": "8",
         "orientation": "v",
         "showlegend": true,
         "type": "scatter",
         "x": [
          56,
          57,
          58,
          59,
          60,
          61,
          62
         ],
         "xaxis": "x",
         "y": [
          0.6133333333333334,
          0.6133333333333334,
          0.6133333333333334,
          0.6133333333333334,
          0.6133333333333334,
          0.6133333333333334,
          0.6133333333333334
         ],
         "yaxis": "y"
        },
        {
         "hovertemplate": "epoch=9<br>index=%{x}<br>lr=%{y}<extra></extra>",
         "legendgroup": "9",
         "marker": {
          "color": "#FECB52",
          "symbol": "circle"
         },
         "mode": "markers",
         "name": "9",
         "orientation": "v",
         "showlegend": true,
         "type": "scatter",
         "x": [
          63,
          64,
          65,
          66,
          67,
          68,
          69
         ],
         "xaxis": "x",
         "y": [
          0.64,
          0.64,
          0.64,
          0.64,
          0.64,
          0.64,
          0.64
         ],
         "yaxis": "y"
        },
        {
         "hovertemplate": "epoch=10<br>index=%{x}<br>lr=%{y}<extra></extra>",
         "legendgroup": "10",
         "marker": {
          "color": "#636efa",
          "symbol": "circle"
         },
         "mode": "markers",
         "name": "10",
         "orientation": "v",
         "showlegend": true,
         "type": "scatter",
         "x": [
          70,
          71,
          72,
          73,
          74,
          75,
          76
         ],
         "xaxis": "x",
         "y": [
          0.6666666666666667,
          0.6666666666666667,
          0.6666666666666667,
          0.6666666666666667,
          0.6666666666666667,
          0.6666666666666667,
          0.6666666666666667
         ],
         "yaxis": "y"
        },
        {
         "hovertemplate": "epoch=11<br>index=%{x}<br>lr=%{y}<extra></extra>",
         "legendgroup": "11",
         "marker": {
          "color": "#EF553B",
          "symbol": "circle"
         },
         "mode": "markers",
         "name": "11",
         "orientation": "v",
         "showlegend": true,
         "type": "scatter",
         "x": [
          77,
          78,
          79,
          80,
          81,
          82,
          83
         ],
         "xaxis": "x",
         "y": [
          0.6933333333333335,
          0.6933333333333335,
          0.6933333333333335,
          0.6933333333333335,
          0.6933333333333335,
          0.6933333333333335,
          0.6933333333333335
         ],
         "yaxis": "y"
        },
        {
         "hovertemplate": "epoch=12<br>index=%{x}<br>lr=%{y}<extra></extra>",
         "legendgroup": "12",
         "marker": {
          "color": "#00cc96",
          "symbol": "circle"
         },
         "mode": "markers",
         "name": "12",
         "orientation": "v",
         "showlegend": true,
         "type": "scatter",
         "x": [
          84,
          85,
          86,
          87,
          88,
          89,
          90
         ],
         "xaxis": "x",
         "y": [
          0.7200000000000002,
          0.7200000000000002,
          0.7200000000000002,
          0.7200000000000002,
          0.7200000000000002,
          0.7200000000000002,
          0.7200000000000002
         ],
         "yaxis": "y"
        },
        {
         "hovertemplate": "epoch=13<br>index=%{x}<br>lr=%{y}<extra></extra>",
         "legendgroup": "13",
         "marker": {
          "color": "#ab63fa",
          "symbol": "circle"
         },
         "mode": "markers",
         "name": "13",
         "orientation": "v",
         "showlegend": true,
         "type": "scatter",
         "x": [
          91,
          92,
          93,
          94,
          95,
          96,
          97
         ],
         "xaxis": "x",
         "y": [
          0.7466666666666668,
          0.7466666666666668,
          0.7466666666666668,
          0.7466666666666668,
          0.7466666666666668,
          0.7466666666666668,
          0.7466666666666668
         ],
         "yaxis": "y"
        },
        {
         "hovertemplate": "epoch=14<br>index=%{x}<br>lr=%{y}<extra></extra>",
         "legendgroup": "14",
         "marker": {
          "color": "#FFA15A",
          "symbol": "circle"
         },
         "mode": "markers",
         "name": "14",
         "orientation": "v",
         "showlegend": true,
         "type": "scatter",
         "x": [
          98,
          99,
          100,
          101,
          102,
          103,
          104
         ],
         "xaxis": "x",
         "y": [
          0.7733333333333335,
          0.7733333333333335,
          0.7733333333333335,
          0.7733333333333335,
          0.7733333333333335,
          0.7733333333333335,
          0.7733333333333335
         ],
         "yaxis": "y"
        },
        {
         "hovertemplate": "epoch=15<br>index=%{x}<br>lr=%{y}<extra></extra>",
         "legendgroup": "15",
         "marker": {
          "color": "#19d3f3",
          "symbol": "circle"
         },
         "mode": "markers",
         "name": "15",
         "orientation": "v",
         "showlegend": true,
         "type": "scatter",
         "x": [
          105,
          106,
          107,
          108,
          109,
          110,
          111
         ],
         "xaxis": "x",
         "y": [
          0.8000000000000003,
          0.8000000000000003,
          0.8000000000000003,
          0.8000000000000003,
          0.8000000000000003,
          0.8000000000000003,
          0.8000000000000003
         ],
         "yaxis": "y"
        },
        {
         "hovertemplate": "epoch=16<br>index=%{x}<br>lr=%{y}<extra></extra>",
         "legendgroup": "16",
         "marker": {
          "color": "#FF6692",
          "symbol": "circle"
         },
         "mode": "markers",
         "name": "16",
         "orientation": "v",
         "showlegend": true,
         "type": "scatter",
         "x": [
          112,
          113,
          114,
          115,
          116,
          117,
          118
         ],
         "xaxis": "x",
         "y": [
          0.8000000000000003,
          0.8000000000000003,
          0.8000000000000003,
          0.8000000000000003,
          0.8000000000000003,
          0.8000000000000003,
          0.8000000000000003
         ],
         "yaxis": "y"
        },
        {
         "hovertemplate": "epoch=17<br>index=%{x}<br>lr=%{y}<extra></extra>",
         "legendgroup": "17",
         "marker": {
          "color": "#B6E880",
          "symbol": "circle"
         },
         "mode": "markers",
         "name": "17",
         "orientation": "v",
         "showlegend": true,
         "type": "scatter",
         "x": [
          119,
          120,
          121,
          122,
          123,
          124,
          125
         ],
         "xaxis": "x",
         "y": [
          0.8000000000000003,
          0.8000000000000003,
          0.8000000000000003,
          0.8000000000000003,
          0.8000000000000003,
          0.8000000000000003,
          0.8000000000000003
         ],
         "yaxis": "y"
        },
        {
         "hovertemplate": "epoch=18<br>index=%{x}<br>lr=%{y}<extra></extra>",
         "legendgroup": "18",
         "marker": {
          "color": "#FF97FF",
          "symbol": "circle"
         },
         "mode": "markers",
         "name": "18",
         "orientation": "v",
         "showlegend": true,
         "type": "scatter",
         "x": [
          126,
          127,
          128,
          129,
          130,
          131,
          132
         ],
         "xaxis": "x",
         "y": [
          0.8000000000000003,
          0.8000000000000003,
          0.8000000000000003,
          0.8000000000000003,
          0.8000000000000003,
          0.8000000000000003,
          0.8000000000000003
         ],
         "yaxis": "y"
        },
        {
         "hovertemplate": "epoch=19<br>index=%{x}<br>lr=%{y}<extra></extra>",
         "legendgroup": "19",
         "marker": {
          "color": "#FECB52",
          "symbol": "circle"
         },
         "mode": "markers",
         "name": "19",
         "orientation": "v",
         "showlegend": true,
         "type": "scatter",
         "x": [
          133,
          134,
          135,
          136,
          137,
          138,
          139
         ],
         "xaxis": "x",
         "y": [
          0.8000000000000003,
          0.8000000000000003,
          0.8000000000000003,
          0.8000000000000003,
          0.8000000000000003,
          0.8000000000000003,
          0.8000000000000003
         ],
         "yaxis": "y"
        },
        {
         "hovertemplate": "epoch=20<br>index=%{x}<br>lr=%{y}<extra></extra>",
         "legendgroup": "20",
         "marker": {
          "color": "#636efa",
          "symbol": "circle"
         },
         "mode": "markers",
         "name": "20",
         "orientation": "v",
         "showlegend": true,
         "type": "scatter",
         "x": [
          140,
          141,
          142,
          143,
          144,
          145,
          146
         ],
         "xaxis": "x",
         "y": [
          0.8000000000000003,
          0.8000000000000003,
          0.8000000000000003,
          0.8000000000000003,
          0.8000000000000003,
          0.8000000000000003,
          0.8000000000000003
         ],
         "yaxis": "y"
        },
        {
         "hovertemplate": "epoch=21<br>index=%{x}<br>lr=%{y}<extra></extra>",
         "legendgroup": "21",
         "marker": {
          "color": "#EF553B",
          "symbol": "circle"
         },
         "mode": "markers",
         "name": "21",
         "orientation": "v",
         "showlegend": true,
         "type": "scatter",
         "x": [
          147,
          148,
          149,
          150,
          151,
          152,
          153
         ],
         "xaxis": "x",
         "y": [
          0.8000000000000003,
          0.8000000000000003,
          0.8000000000000003,
          0.8000000000000003,
          0.8000000000000003,
          0.8000000000000003,
          0.8000000000000003
         ],
         "yaxis": "y"
        },
        {
         "hovertemplate": "epoch=22<br>index=%{x}<br>lr=%{y}<extra></extra>",
         "legendgroup": "22",
         "marker": {
          "color": "#00cc96",
          "symbol": "circle"
         },
         "mode": "markers",
         "name": "22",
         "orientation": "v",
         "showlegend": true,
         "type": "scatter",
         "x": [
          154,
          155,
          156,
          157,
          158,
          159,
          160
         ],
         "xaxis": "x",
         "y": [
          0.8000000000000003,
          0.8000000000000003,
          0.8000000000000003,
          0.8000000000000003,
          0.8000000000000003,
          0.8000000000000003,
          0.8000000000000003
         ],
         "yaxis": "y"
        },
        {
         "hovertemplate": "epoch=23<br>index=%{x}<br>lr=%{y}<extra></extra>",
         "legendgroup": "23",
         "marker": {
          "color": "#ab63fa",
          "symbol": "circle"
         },
         "mode": "markers",
         "name": "23",
         "orientation": "v",
         "showlegend": true,
         "type": "scatter",
         "x": [
          161,
          162,
          163,
          164,
          165,
          166,
          167
         ],
         "xaxis": "x",
         "y": [
          0.8000000000000003,
          0.8000000000000003,
          0.8000000000000003,
          0.8000000000000003,
          0.8000000000000003,
          0.8000000000000003,
          0.8000000000000003
         ],
         "yaxis": "y"
        },
        {
         "hovertemplate": "epoch=24<br>index=%{x}<br>lr=%{y}<extra></extra>",
         "legendgroup": "24",
         "marker": {
          "color": "#FFA15A",
          "symbol": "circle"
         },
         "mode": "markers",
         "name": "24",
         "orientation": "v",
         "showlegend": true,
         "type": "scatter",
         "x": [
          168,
          169,
          170,
          171,
          172,
          173,
          174
         ],
         "xaxis": "x",
         "y": [
          0.8000000000000003,
          0.8000000000000003,
          0.8000000000000003,
          0.8000000000000003,
          0.8000000000000003,
          0.8000000000000003,
          0.8000000000000003
         ],
         "yaxis": "y"
        },
        {
         "hovertemplate": "epoch=25<br>index=%{x}<br>lr=%{y}<extra></extra>",
         "legendgroup": "25",
         "marker": {
          "color": "#19d3f3",
          "symbol": "circle"
         },
         "mode": "markers",
         "name": "25",
         "orientation": "v",
         "showlegend": true,
         "type": "scatter",
         "x": [
          175,
          176,
          177,
          178,
          179,
          180,
          181
         ],
         "xaxis": "x",
         "y": [
          0.8000000000000003,
          0.8000000000000003,
          0.8000000000000003,
          0.8000000000000003,
          0.8000000000000003,
          0.8000000000000003,
          0.8000000000000003
         ],
         "yaxis": "y"
        },
        {
         "hovertemplate": "epoch=26<br>index=%{x}<br>lr=%{y}<extra></extra>",
         "legendgroup": "26",
         "marker": {
          "color": "#FF6692",
          "symbol": "circle"
         },
         "mode": "markers",
         "name": "26",
         "orientation": "v",
         "showlegend": true,
         "type": "scatter",
         "x": [
          182,
          183,
          184,
          185,
          186,
          187,
          188
         ],
         "xaxis": "x",
         "y": [
          0.8000000000000003,
          0.8000000000000003,
          0.8000000000000003,
          0.8000000000000003,
          0.8000000000000003,
          0.8000000000000003,
          0.8000000000000003
         ],
         "yaxis": "y"
        },
        {
         "hovertemplate": "epoch=27<br>index=%{x}<br>lr=%{y}<extra></extra>",
         "legendgroup": "27",
         "marker": {
          "color": "#B6E880",
          "symbol": "circle"
         },
         "mode": "markers",
         "name": "27",
         "orientation": "v",
         "showlegend": true,
         "type": "scatter",
         "x": [
          189,
          190,
          191,
          192,
          193,
          194,
          195
         ],
         "xaxis": "x",
         "y": [
          0.8000000000000003,
          0.8000000000000003,
          0.8000000000000003,
          0.8000000000000003,
          0.8000000000000003,
          0.8000000000000003,
          0.8000000000000003
         ],
         "yaxis": "y"
        },
        {
         "hovertemplate": "epoch=28<br>index=%{x}<br>lr=%{y}<extra></extra>",
         "legendgroup": "28",
         "marker": {
          "color": "#FF97FF",
          "symbol": "circle"
         },
         "mode": "markers",
         "name": "28",
         "orientation": "v",
         "showlegend": true,
         "type": "scatter",
         "x": [
          196,
          197,
          198,
          199,
          200,
          201,
          202
         ],
         "xaxis": "x",
         "y": [
          0.8000000000000003,
          0.8000000000000003,
          0.8000000000000003,
          0.8000000000000003,
          0.8000000000000003,
          0.8000000000000003,
          0.8000000000000003
         ],
         "yaxis": "y"
        },
        {
         "hovertemplate": "epoch=29<br>index=%{x}<br>lr=%{y}<extra></extra>",
         "legendgroup": "29",
         "marker": {
          "color": "#FECB52",
          "symbol": "circle"
         },
         "mode": "markers",
         "name": "29",
         "orientation": "v",
         "showlegend": true,
         "type": "scatter",
         "x": [
          203,
          204,
          205,
          206,
          207,
          208,
          209
         ],
         "xaxis": "x",
         "y": [
          0.8000000000000003,
          0.8000000000000003,
          0.8000000000000003,
          0.8000000000000003,
          0.8000000000000003,
          0.8000000000000003,
          0.8000000000000003
         ],
         "yaxis": "y"
        },
        {
         "hovertemplate": "epoch=30<br>index=%{x}<br>lr=%{y}<extra></extra>",
         "legendgroup": "30",
         "marker": {
          "color": "#636efa",
          "symbol": "circle"
         },
         "mode": "markers",
         "name": "30",
         "orientation": "v",
         "showlegend": true,
         "type": "scatter",
         "x": [
          210,
          211,
          212,
          213,
          214,
          215,
          216
         ],
         "xaxis": "x",
         "y": [
          0.8000000000000003,
          0.8000000000000003,
          0.8000000000000003,
          0.8000000000000003,
          0.8000000000000003,
          0.8000000000000003,
          0.8000000000000003
         ],
         "yaxis": "y"
        },
        {
         "hovertemplate": "epoch=31<br>index=%{x}<br>lr=%{y}<extra></extra>",
         "legendgroup": "31",
         "marker": {
          "color": "#EF553B",
          "symbol": "circle"
         },
         "mode": "markers",
         "name": "31",
         "orientation": "v",
         "showlegend": true,
         "type": "scatter",
         "x": [
          217,
          218,
          219,
          220,
          221,
          222,
          223
         ],
         "xaxis": "x",
         "y": [
          0.8000000000000003,
          0.8000000000000003,
          0.8000000000000003,
          0.8000000000000003,
          0.8000000000000003,
          0.8000000000000003,
          0.8000000000000003
         ],
         "yaxis": "y"
        },
        {
         "hovertemplate": "epoch=32<br>index=%{x}<br>lr=%{y}<extra></extra>",
         "legendgroup": "32",
         "marker": {
          "color": "#00cc96",
          "symbol": "circle"
         },
         "mode": "markers",
         "name": "32",
         "orientation": "v",
         "showlegend": true,
         "type": "scatter",
         "x": [
          224,
          225,
          226,
          227,
          228,
          229,
          230
         ],
         "xaxis": "x",
         "y": [
          0.8000000000000003,
          0.8000000000000003,
          0.8000000000000003,
          0.8000000000000003,
          0.8000000000000003,
          0.8000000000000003,
          0.8000000000000003
         ],
         "yaxis": "y"
        },
        {
         "hovertemplate": "epoch=33<br>index=%{x}<br>lr=%{y}<extra></extra>",
         "legendgroup": "33",
         "marker": {
          "color": "#ab63fa",
          "symbol": "circle"
         },
         "mode": "markers",
         "name": "33",
         "orientation": "v",
         "showlegend": true,
         "type": "scatter",
         "x": [
          231,
          232,
          233,
          234,
          235,
          236,
          237
         ],
         "xaxis": "x",
         "y": [
          0.8000000000000003,
          0.8000000000000003,
          0.8000000000000003,
          0.8000000000000003,
          0.8000000000000003,
          0.8000000000000003,
          0.8000000000000003
         ],
         "yaxis": "y"
        },
        {
         "hovertemplate": "epoch=34<br>index=%{x}<br>lr=%{y}<extra></extra>",
         "legendgroup": "34",
         "marker": {
          "color": "#FFA15A",
          "symbol": "circle"
         },
         "mode": "markers",
         "name": "34",
         "orientation": "v",
         "showlegend": true,
         "type": "scatter",
         "x": [
          238,
          239,
          240,
          241,
          242,
          243,
          244
         ],
         "xaxis": "x",
         "y": [
          0.8000000000000003,
          0.8000000000000003,
          0.8000000000000003,
          0.8000000000000003,
          0.8000000000000003,
          0.8000000000000003,
          0.8000000000000003
         ],
         "yaxis": "y"
        },
        {
         "hovertemplate": "epoch=35<br>index=%{x}<br>lr=%{y}<extra></extra>",
         "legendgroup": "35",
         "marker": {
          "color": "#19d3f3",
          "symbol": "circle"
         },
         "mode": "markers",
         "name": "35",
         "orientation": "v",
         "showlegend": true,
         "type": "scatter",
         "x": [
          245,
          246,
          247,
          248,
          249,
          250,
          251
         ],
         "xaxis": "x",
         "y": [
          0.8000000000000003,
          0.8000000000000003,
          0.8000000000000003,
          0.8000000000000003,
          0.8000000000000003,
          0.8000000000000003,
          0.8000000000000003
         ],
         "yaxis": "y"
        },
        {
         "hovertemplate": "epoch=36<br>index=%{x}<br>lr=%{y}<extra></extra>",
         "legendgroup": "36",
         "marker": {
          "color": "#FF6692",
          "symbol": "circle"
         },
         "mode": "markers",
         "name": "36",
         "orientation": "v",
         "showlegend": true,
         "type": "scatter",
         "x": [
          252,
          253,
          254,
          255,
          256,
          257,
          258
         ],
         "xaxis": "x",
         "y": [
          0.8000000000000003,
          0.8000000000000003,
          0.8000000000000003,
          0.8000000000000003,
          0.8000000000000003,
          0.8000000000000003,
          0.8000000000000003
         ],
         "yaxis": "y"
        },
        {
         "hovertemplate": "epoch=37<br>index=%{x}<br>lr=%{y}<extra></extra>",
         "legendgroup": "37",
         "marker": {
          "color": "#B6E880",
          "symbol": "circle"
         },
         "mode": "markers",
         "name": "37",
         "orientation": "v",
         "showlegend": true,
         "type": "scatter",
         "x": [
          259,
          260,
          261,
          262,
          263,
          264,
          265
         ],
         "xaxis": "x",
         "y": [
          0.8000000000000003,
          0.8000000000000003,
          0.8000000000000003,
          0.8000000000000003,
          0.8000000000000003,
          0.8000000000000003,
          0.8000000000000003
         ],
         "yaxis": "y"
        },
        {
         "hovertemplate": "epoch=38<br>index=%{x}<br>lr=%{y}<extra></extra>",
         "legendgroup": "38",
         "marker": {
          "color": "#FF97FF",
          "symbol": "circle"
         },
         "mode": "markers",
         "name": "38",
         "orientation": "v",
         "showlegend": true,
         "type": "scatter",
         "x": [
          266,
          267,
          268,
          269,
          270,
          271,
          272
         ],
         "xaxis": "x",
         "y": [
          0.8000000000000003,
          0.8000000000000003,
          0.8000000000000003,
          0.8000000000000003,
          0.8000000000000003,
          0.8000000000000003,
          0.8000000000000003
         ],
         "yaxis": "y"
        },
        {
         "hovertemplate": "epoch=39<br>index=%{x}<br>lr=%{y}<extra></extra>",
         "legendgroup": "39",
         "marker": {
          "color": "#FECB52",
          "symbol": "circle"
         },
         "mode": "markers",
         "name": "39",
         "orientation": "v",
         "showlegend": true,
         "type": "scatter",
         "x": [
          273,
          274,
          275,
          276,
          277,
          278,
          279
         ],
         "xaxis": "x",
         "y": [
          0.8000000000000003,
          0.8000000000000003,
          0.8000000000000003,
          0.8000000000000003,
          0.8000000000000003,
          0.8000000000000003,
          0.8000000000000003
         ],
         "yaxis": "y"
        },
        {
         "hovertemplate": "epoch=40<br>index=%{x}<br>lr=%{y}<extra></extra>",
         "legendgroup": "40",
         "marker": {
          "color": "#636efa",
          "symbol": "circle"
         },
         "mode": "markers",
         "name": "40",
         "orientation": "v",
         "showlegend": true,
         "type": "scatter",
         "x": [
          280,
          281,
          282,
          283,
          284,
          285,
          286
         ],
         "xaxis": "x",
         "y": [
          0.8000000000000003,
          0.8000000000000003,
          0.8000000000000003,
          0.8000000000000003,
          0.8000000000000003,
          0.8000000000000003,
          0.8000000000000003
         ],
         "yaxis": "y"
        },
        {
         "hovertemplate": "epoch=41<br>index=%{x}<br>lr=%{y}<extra></extra>",
         "legendgroup": "41",
         "marker": {
          "color": "#EF553B",
          "symbol": "circle"
         },
         "mode": "markers",
         "name": "41",
         "orientation": "v",
         "showlegend": true,
         "type": "scatter",
         "x": [
          287,
          288,
          289,
          290,
          291,
          292,
          293
         ],
         "xaxis": "x",
         "y": [
          0.8000000000000003,
          0.8000000000000003,
          0.8000000000000003,
          0.8000000000000003,
          0.8000000000000003,
          0.8000000000000003,
          0.8000000000000003
         ],
         "yaxis": "y"
        },
        {
         "hovertemplate": "epoch=42<br>index=%{x}<br>lr=%{y}<extra></extra>",
         "legendgroup": "42",
         "marker": {
          "color": "#00cc96",
          "symbol": "circle"
         },
         "mode": "markers",
         "name": "42",
         "orientation": "v",
         "showlegend": true,
         "type": "scatter",
         "x": [
          294,
          295,
          296,
          297,
          298,
          299,
          300
         ],
         "xaxis": "x",
         "y": [
          0.8000000000000003,
          0.8000000000000003,
          0.8000000000000003,
          0.8000000000000003,
          0.8000000000000003,
          0.8000000000000003,
          0.8000000000000003
         ],
         "yaxis": "y"
        },
        {
         "hovertemplate": "epoch=43<br>index=%{x}<br>lr=%{y}<extra></extra>",
         "legendgroup": "43",
         "marker": {
          "color": "#ab63fa",
          "symbol": "circle"
         },
         "mode": "markers",
         "name": "43",
         "orientation": "v",
         "showlegend": true,
         "type": "scatter",
         "x": [
          301,
          302,
          303,
          304,
          305,
          306,
          307
         ],
         "xaxis": "x",
         "y": [
          0.8000000000000003,
          0.8000000000000003,
          0.8000000000000003,
          0.8000000000000003,
          0.8000000000000003,
          0.8000000000000003,
          0.8000000000000003
         ],
         "yaxis": "y"
        },
        {
         "hovertemplate": "epoch=44<br>index=%{x}<br>lr=%{y}<extra></extra>",
         "legendgroup": "44",
         "marker": {
          "color": "#FFA15A",
          "symbol": "circle"
         },
         "mode": "markers",
         "name": "44",
         "orientation": "v",
         "showlegend": true,
         "type": "scatter",
         "x": [
          308,
          309,
          310,
          311,
          312,
          313,
          314
         ],
         "xaxis": "x",
         "y": [
          0.8000000000000003,
          0.8000000000000003,
          0.8000000000000003,
          0.8000000000000003,
          0.8000000000000003,
          0.8000000000000003,
          0.8000000000000003
         ],
         "yaxis": "y"
        },
        {
         "hovertemplate": "epoch=45<br>index=%{x}<br>lr=%{y}<extra></extra>",
         "legendgroup": "45",
         "marker": {
          "color": "#19d3f3",
          "symbol": "circle"
         },
         "mode": "markers",
         "name": "45",
         "orientation": "v",
         "showlegend": true,
         "type": "scatter",
         "x": [
          315,
          316,
          317,
          318,
          319,
          320,
          321
         ],
         "xaxis": "x",
         "y": [
          0.8000000000000003,
          0.8000000000000003,
          0.8000000000000003,
          0.8000000000000003,
          0.8000000000000003,
          0.8000000000000003,
          0.8000000000000003
         ],
         "yaxis": "y"
        },
        {
         "hovertemplate": "epoch=46<br>index=%{x}<br>lr=%{y}<extra></extra>",
         "legendgroup": "46",
         "marker": {
          "color": "#FF6692",
          "symbol": "circle"
         },
         "mode": "markers",
         "name": "46",
         "orientation": "v",
         "showlegend": true,
         "type": "scatter",
         "x": [
          322,
          323,
          324,
          325,
          326,
          327,
          328
         ],
         "xaxis": "x",
         "y": [
          0.8000000000000003,
          0.8000000000000003,
          0.8000000000000003,
          0.8000000000000003,
          0.8000000000000003,
          0.8000000000000003,
          0.8000000000000003
         ],
         "yaxis": "y"
        },
        {
         "hovertemplate": "epoch=47<br>index=%{x}<br>lr=%{y}<extra></extra>",
         "legendgroup": "47",
         "marker": {
          "color": "#B6E880",
          "symbol": "circle"
         },
         "mode": "markers",
         "name": "47",
         "orientation": "v",
         "showlegend": true,
         "type": "scatter",
         "x": [
          329,
          330,
          331,
          332,
          333,
          334,
          335
         ],
         "xaxis": "x",
         "y": [
          0.8000000000000003,
          0.8000000000000003,
          0.8000000000000003,
          0.8000000000000003,
          0.8000000000000003,
          0.8000000000000003,
          0.8000000000000003
         ],
         "yaxis": "y"
        },
        {
         "hovertemplate": "epoch=48<br>index=%{x}<br>lr=%{y}<extra></extra>",
         "legendgroup": "48",
         "marker": {
          "color": "#FF97FF",
          "symbol": "circle"
         },
         "mode": "markers",
         "name": "48",
         "orientation": "v",
         "showlegend": true,
         "type": "scatter",
         "x": [
          336,
          337,
          338,
          339,
          340,
          341,
          342
         ],
         "xaxis": "x",
         "y": [
          0.8000000000000003,
          0.8000000000000003,
          0.8000000000000003,
          0.8000000000000003,
          0.8000000000000003,
          0.8000000000000003,
          0.8000000000000003
         ],
         "yaxis": "y"
        },
        {
         "hovertemplate": "epoch=49<br>index=%{x}<br>lr=%{y}<extra></extra>",
         "legendgroup": "49",
         "marker": {
          "color": "#FECB52",
          "symbol": "circle"
         },
         "mode": "markers",
         "name": "49",
         "orientation": "v",
         "showlegend": true,
         "type": "scatter",
         "x": [
          343,
          344,
          345,
          346,
          347,
          348,
          349
         ],
         "xaxis": "x",
         "y": [
          0.8000000000000003,
          0.8000000000000003,
          0.8000000000000003,
          0.8000000000000003,
          0.8000000000000003,
          0.8000000000000003,
          0.8000000000000003
         ],
         "yaxis": "y"
        }
       ],
       "layout": {
        "legend": {
         "title": {
          "text": "epoch"
         },
         "tracegroupgap": 0
        },
        "margin": {
         "t": 60
        },
        "template": {
         "data": {
          "bar": [
           {
            "error_x": {
             "color": "#2a3f5f"
            },
            "error_y": {
             "color": "#2a3f5f"
            },
            "marker": {
             "line": {
              "color": "#E5ECF6",
              "width": 0.5
             },
             "pattern": {
              "fillmode": "overlay",
              "size": 10,
              "solidity": 0.2
             }
            },
            "type": "bar"
           }
          ],
          "barpolar": [
           {
            "marker": {
             "line": {
              "color": "#E5ECF6",
              "width": 0.5
             },
             "pattern": {
              "fillmode": "overlay",
              "size": 10,
              "solidity": 0.2
             }
            },
            "type": "barpolar"
           }
          ],
          "carpet": [
           {
            "aaxis": {
             "endlinecolor": "#2a3f5f",
             "gridcolor": "white",
             "linecolor": "white",
             "minorgridcolor": "white",
             "startlinecolor": "#2a3f5f"
            },
            "baxis": {
             "endlinecolor": "#2a3f5f",
             "gridcolor": "white",
             "linecolor": "white",
             "minorgridcolor": "white",
             "startlinecolor": "#2a3f5f"
            },
            "type": "carpet"
           }
          ],
          "choropleth": [
           {
            "colorbar": {
             "outlinewidth": 0,
             "ticks": ""
            },
            "type": "choropleth"
           }
          ],
          "contour": [
           {
            "colorbar": {
             "outlinewidth": 0,
             "ticks": ""
            },
            "colorscale": [
             [
              0,
              "#0d0887"
             ],
             [
              0.1111111111111111,
              "#46039f"
             ],
             [
              0.2222222222222222,
              "#7201a8"
             ],
             [
              0.3333333333333333,
              "#9c179e"
             ],
             [
              0.4444444444444444,
              "#bd3786"
             ],
             [
              0.5555555555555556,
              "#d8576b"
             ],
             [
              0.6666666666666666,
              "#ed7953"
             ],
             [
              0.7777777777777778,
              "#fb9f3a"
             ],
             [
              0.8888888888888888,
              "#fdca26"
             ],
             [
              1,
              "#f0f921"
             ]
            ],
            "type": "contour"
           }
          ],
          "contourcarpet": [
           {
            "colorbar": {
             "outlinewidth": 0,
             "ticks": ""
            },
            "type": "contourcarpet"
           }
          ],
          "heatmap": [
           {
            "colorbar": {
             "outlinewidth": 0,
             "ticks": ""
            },
            "colorscale": [
             [
              0,
              "#0d0887"
             ],
             [
              0.1111111111111111,
              "#46039f"
             ],
             [
              0.2222222222222222,
              "#7201a8"
             ],
             [
              0.3333333333333333,
              "#9c179e"
             ],
             [
              0.4444444444444444,
              "#bd3786"
             ],
             [
              0.5555555555555556,
              "#d8576b"
             ],
             [
              0.6666666666666666,
              "#ed7953"
             ],
             [
              0.7777777777777778,
              "#fb9f3a"
             ],
             [
              0.8888888888888888,
              "#fdca26"
             ],
             [
              1,
              "#f0f921"
             ]
            ],
            "type": "heatmap"
           }
          ],
          "heatmapgl": [
           {
            "colorbar": {
             "outlinewidth": 0,
             "ticks": ""
            },
            "colorscale": [
             [
              0,
              "#0d0887"
             ],
             [
              0.1111111111111111,
              "#46039f"
             ],
             [
              0.2222222222222222,
              "#7201a8"
             ],
             [
              0.3333333333333333,
              "#9c179e"
             ],
             [
              0.4444444444444444,
              "#bd3786"
             ],
             [
              0.5555555555555556,
              "#d8576b"
             ],
             [
              0.6666666666666666,
              "#ed7953"
             ],
             [
              0.7777777777777778,
              "#fb9f3a"
             ],
             [
              0.8888888888888888,
              "#fdca26"
             ],
             [
              1,
              "#f0f921"
             ]
            ],
            "type": "heatmapgl"
           }
          ],
          "histogram": [
           {
            "marker": {
             "pattern": {
              "fillmode": "overlay",
              "size": 10,
              "solidity": 0.2
             }
            },
            "type": "histogram"
           }
          ],
          "histogram2d": [
           {
            "colorbar": {
             "outlinewidth": 0,
             "ticks": ""
            },
            "colorscale": [
             [
              0,
              "#0d0887"
             ],
             [
              0.1111111111111111,
              "#46039f"
             ],
             [
              0.2222222222222222,
              "#7201a8"
             ],
             [
              0.3333333333333333,
              "#9c179e"
             ],
             [
              0.4444444444444444,
              "#bd3786"
             ],
             [
              0.5555555555555556,
              "#d8576b"
             ],
             [
              0.6666666666666666,
              "#ed7953"
             ],
             [
              0.7777777777777778,
              "#fb9f3a"
             ],
             [
              0.8888888888888888,
              "#fdca26"
             ],
             [
              1,
              "#f0f921"
             ]
            ],
            "type": "histogram2d"
           }
          ],
          "histogram2dcontour": [
           {
            "colorbar": {
             "outlinewidth": 0,
             "ticks": ""
            },
            "colorscale": [
             [
              0,
              "#0d0887"
             ],
             [
              0.1111111111111111,
              "#46039f"
             ],
             [
              0.2222222222222222,
              "#7201a8"
             ],
             [
              0.3333333333333333,
              "#9c179e"
             ],
             [
              0.4444444444444444,
              "#bd3786"
             ],
             [
              0.5555555555555556,
              "#d8576b"
             ],
             [
              0.6666666666666666,
              "#ed7953"
             ],
             [
              0.7777777777777778,
              "#fb9f3a"
             ],
             [
              0.8888888888888888,
              "#fdca26"
             ],
             [
              1,
              "#f0f921"
             ]
            ],
            "type": "histogram2dcontour"
           }
          ],
          "mesh3d": [
           {
            "colorbar": {
             "outlinewidth": 0,
             "ticks": ""
            },
            "type": "mesh3d"
           }
          ],
          "parcoords": [
           {
            "line": {
             "colorbar": {
              "outlinewidth": 0,
              "ticks": ""
             }
            },
            "type": "parcoords"
           }
          ],
          "pie": [
           {
            "automargin": true,
            "type": "pie"
           }
          ],
          "scatter": [
           {
            "fillpattern": {
             "fillmode": "overlay",
             "size": 10,
             "solidity": 0.2
            },
            "type": "scatter"
           }
          ],
          "scatter3d": [
           {
            "line": {
             "colorbar": {
              "outlinewidth": 0,
              "ticks": ""
             }
            },
            "marker": {
             "colorbar": {
              "outlinewidth": 0,
              "ticks": ""
             }
            },
            "type": "scatter3d"
           }
          ],
          "scattercarpet": [
           {
            "marker": {
             "colorbar": {
              "outlinewidth": 0,
              "ticks": ""
             }
            },
            "type": "scattercarpet"
           }
          ],
          "scattergeo": [
           {
            "marker": {
             "colorbar": {
              "outlinewidth": 0,
              "ticks": ""
             }
            },
            "type": "scattergeo"
           }
          ],
          "scattergl": [
           {
            "marker": {
             "colorbar": {
              "outlinewidth": 0,
              "ticks": ""
             }
            },
            "type": "scattergl"
           }
          ],
          "scattermapbox": [
           {
            "marker": {
             "colorbar": {
              "outlinewidth": 0,
              "ticks": ""
             }
            },
            "type": "scattermapbox"
           }
          ],
          "scatterpolar": [
           {
            "marker": {
             "colorbar": {
              "outlinewidth": 0,
              "ticks": ""
             }
            },
            "type": "scatterpolar"
           }
          ],
          "scatterpolargl": [
           {
            "marker": {
             "colorbar": {
              "outlinewidth": 0,
              "ticks": ""
             }
            },
            "type": "scatterpolargl"
           }
          ],
          "scatterternary": [
           {
            "marker": {
             "colorbar": {
              "outlinewidth": 0,
              "ticks": ""
             }
            },
            "type": "scatterternary"
           }
          ],
          "surface": [
           {
            "colorbar": {
             "outlinewidth": 0,
             "ticks": ""
            },
            "colorscale": [
             [
              0,
              "#0d0887"
             ],
             [
              0.1111111111111111,
              "#46039f"
             ],
             [
              0.2222222222222222,
              "#7201a8"
             ],
             [
              0.3333333333333333,
              "#9c179e"
             ],
             [
              0.4444444444444444,
              "#bd3786"
             ],
             [
              0.5555555555555556,
              "#d8576b"
             ],
             [
              0.6666666666666666,
              "#ed7953"
             ],
             [
              0.7777777777777778,
              "#fb9f3a"
             ],
             [
              0.8888888888888888,
              "#fdca26"
             ],
             [
              1,
              "#f0f921"
             ]
            ],
            "type": "surface"
           }
          ],
          "table": [
           {
            "cells": {
             "fill": {
              "color": "#EBF0F8"
             },
             "line": {
              "color": "white"
             }
            },
            "header": {
             "fill": {
              "color": "#C8D4E3"
             },
             "line": {
              "color": "white"
             }
            },
            "type": "table"
           }
          ]
         },
         "layout": {
          "annotationdefaults": {
           "arrowcolor": "#2a3f5f",
           "arrowhead": 0,
           "arrowwidth": 1
          },
          "autotypenumbers": "strict",
          "coloraxis": {
           "colorbar": {
            "outlinewidth": 0,
            "ticks": ""
           }
          },
          "colorscale": {
           "diverging": [
            [
             0,
             "#8e0152"
            ],
            [
             0.1,
             "#c51b7d"
            ],
            [
             0.2,
             "#de77ae"
            ],
            [
             0.3,
             "#f1b6da"
            ],
            [
             0.4,
             "#fde0ef"
            ],
            [
             0.5,
             "#f7f7f7"
            ],
            [
             0.6,
             "#e6f5d0"
            ],
            [
             0.7,
             "#b8e186"
            ],
            [
             0.8,
             "#7fbc41"
            ],
            [
             0.9,
             "#4d9221"
            ],
            [
             1,
             "#276419"
            ]
           ],
           "sequential": [
            [
             0,
             "#0d0887"
            ],
            [
             0.1111111111111111,
             "#46039f"
            ],
            [
             0.2222222222222222,
             "#7201a8"
            ],
            [
             0.3333333333333333,
             "#9c179e"
            ],
            [
             0.4444444444444444,
             "#bd3786"
            ],
            [
             0.5555555555555556,
             "#d8576b"
            ],
            [
             0.6666666666666666,
             "#ed7953"
            ],
            [
             0.7777777777777778,
             "#fb9f3a"
            ],
            [
             0.8888888888888888,
             "#fdca26"
            ],
            [
             1,
             "#f0f921"
            ]
           ],
           "sequentialminus": [
            [
             0,
             "#0d0887"
            ],
            [
             0.1111111111111111,
             "#46039f"
            ],
            [
             0.2222222222222222,
             "#7201a8"
            ],
            [
             0.3333333333333333,
             "#9c179e"
            ],
            [
             0.4444444444444444,
             "#bd3786"
            ],
            [
             0.5555555555555556,
             "#d8576b"
            ],
            [
             0.6666666666666666,
             "#ed7953"
            ],
            [
             0.7777777777777778,
             "#fb9f3a"
            ],
            [
             0.8888888888888888,
             "#fdca26"
            ],
            [
             1,
             "#f0f921"
            ]
           ]
          },
          "colorway": [
           "#636efa",
           "#EF553B",
           "#00cc96",
           "#ab63fa",
           "#FFA15A",
           "#19d3f3",
           "#FF6692",
           "#B6E880",
           "#FF97FF",
           "#FECB52"
          ],
          "font": {
           "color": "#2a3f5f"
          },
          "geo": {
           "bgcolor": "white",
           "lakecolor": "white",
           "landcolor": "#E5ECF6",
           "showlakes": true,
           "showland": true,
           "subunitcolor": "white"
          },
          "hoverlabel": {
           "align": "left"
          },
          "hovermode": "closest",
          "mapbox": {
           "style": "light"
          },
          "paper_bgcolor": "white",
          "plot_bgcolor": "#E5ECF6",
          "polar": {
           "angularaxis": {
            "gridcolor": "white",
            "linecolor": "white",
            "ticks": ""
           },
           "bgcolor": "#E5ECF6",
           "radialaxis": {
            "gridcolor": "white",
            "linecolor": "white",
            "ticks": ""
           }
          },
          "scene": {
           "xaxis": {
            "backgroundcolor": "#E5ECF6",
            "gridcolor": "white",
            "gridwidth": 2,
            "linecolor": "white",
            "showbackground": true,
            "ticks": "",
            "zerolinecolor": "white"
           },
           "yaxis": {
            "backgroundcolor": "#E5ECF6",
            "gridcolor": "white",
            "gridwidth": 2,
            "linecolor": "white",
            "showbackground": true,
            "ticks": "",
            "zerolinecolor": "white"
           },
           "zaxis": {
            "backgroundcolor": "#E5ECF6",
            "gridcolor": "white",
            "gridwidth": 2,
            "linecolor": "white",
            "showbackground": true,
            "ticks": "",
            "zerolinecolor": "white"
           }
          },
          "shapedefaults": {
           "line": {
            "color": "#2a3f5f"
           }
          },
          "ternary": {
           "aaxis": {
            "gridcolor": "white",
            "linecolor": "white",
            "ticks": ""
           },
           "baxis": {
            "gridcolor": "white",
            "linecolor": "white",
            "ticks": ""
           },
           "bgcolor": "#E5ECF6",
           "caxis": {
            "gridcolor": "white",
            "linecolor": "white",
            "ticks": ""
           }
          },
          "title": {
           "x": 0.05
          },
          "xaxis": {
           "automargin": true,
           "gridcolor": "white",
           "linecolor": "white",
           "ticks": "",
           "title": {
            "standoff": 15
           },
           "zerolinecolor": "white",
           "zerolinewidth": 2
          },
          "yaxis": {
           "automargin": true,
           "gridcolor": "white",
           "linecolor": "white",
           "ticks": "",
           "title": {
            "standoff": 15
           },
           "zerolinecolor": "white",
           "zerolinewidth": 2
          }
         }
        },
        "xaxis": {
         "anchor": "y",
         "domain": [
          0,
          1
         ],
         "title": {
          "text": "index"
         }
        },
        "yaxis": {
         "anchor": "x",
         "domain": [
          0,
          1
         ],
         "title": {
          "text": "lr"
         }
        }
       }
      }
     },
     "metadata": {},
     "output_type": "display_data"
    }
   ],
   "source": [
    "lrsched = partial(LinearLR, start_factor=0.5, total_iters=15, end_factor=1.0, )\n",
    "df = explore(lrsched, optim_lr=0.8)"
   ]
  },
  {
   "cell_type": "code",
   "execution_count": 8,
   "id": "589ff1c2",
   "metadata": {},
   "outputs": [
    {
     "data": {
      "application/vnd.plotly.v1+json": {
       "config": {
        "plotlyServerURL": "https://plot.ly"
       },
       "data": [
        {
         "hovertemplate": "epoch=0<br>index=%{x}<br>lr=%{y}<extra></extra>",
         "legendgroup": "0",
         "marker": {
          "color": "#636efa",
          "symbol": "circle"
         },
         "mode": "markers",
         "name": "0",
         "orientation": "v",
         "showlegend": true,
         "type": "scatter",
         "x": [
          0,
          1,
          2,
          3,
          4,
          5,
          6
         ],
         "xaxis": "x",
         "y": [
          1,
          1,
          1,
          1,
          1,
          1,
          1
         ],
         "yaxis": "y"
        },
        {
         "hovertemplate": "epoch=1<br>index=%{x}<br>lr=%{y}<extra></extra>",
         "legendgroup": "1",
         "marker": {
          "color": "#EF553B",
          "symbol": "circle"
         },
         "mode": "markers",
         "name": "1",
         "orientation": "v",
         "showlegend": true,
         "type": "scatter",
         "x": [
          7,
          8,
          9,
          10,
          11,
          12,
          13
         ],
         "xaxis": "x",
         "y": [
          0.986,
          0.986,
          0.986,
          0.986,
          0.986,
          0.986,
          0.986
         ],
         "yaxis": "y"
        },
        {
         "hovertemplate": "epoch=2<br>index=%{x}<br>lr=%{y}<extra></extra>",
         "legendgroup": "2",
         "marker": {
          "color": "#00cc96",
          "symbol": "circle"
         },
         "mode": "markers",
         "name": "2",
         "orientation": "v",
         "showlegend": true,
         "type": "scatter",
         "x": [
          14,
          15,
          16,
          17,
          18,
          19,
          20
         ],
         "xaxis": "x",
         "y": [
          0.972,
          0.972,
          0.972,
          0.972,
          0.972,
          0.972,
          0.972
         ],
         "yaxis": "y"
        },
        {
         "hovertemplate": "epoch=3<br>index=%{x}<br>lr=%{y}<extra></extra>",
         "legendgroup": "3",
         "marker": {
          "color": "#ab63fa",
          "symbol": "circle"
         },
         "mode": "markers",
         "name": "3",
         "orientation": "v",
         "showlegend": true,
         "type": "scatter",
         "x": [
          21,
          22,
          23,
          24,
          25,
          26,
          27
         ],
         "xaxis": "x",
         "y": [
          0.958,
          0.958,
          0.958,
          0.958,
          0.958,
          0.958,
          0.958
         ],
         "yaxis": "y"
        },
        {
         "hovertemplate": "epoch=4<br>index=%{x}<br>lr=%{y}<extra></extra>",
         "legendgroup": "4",
         "marker": {
          "color": "#FFA15A",
          "symbol": "circle"
         },
         "mode": "markers",
         "name": "4",
         "orientation": "v",
         "showlegend": true,
         "type": "scatter",
         "x": [
          28,
          29,
          30,
          31,
          32,
          33,
          34
         ],
         "xaxis": "x",
         "y": [
          0.944,
          0.944,
          0.944,
          0.944,
          0.944,
          0.944,
          0.944
         ],
         "yaxis": "y"
        },
        {
         "hovertemplate": "epoch=5<br>index=%{x}<br>lr=%{y}<extra></extra>",
         "legendgroup": "5",
         "marker": {
          "color": "#19d3f3",
          "symbol": "circle"
         },
         "mode": "markers",
         "name": "5",
         "orientation": "v",
         "showlegend": true,
         "type": "scatter",
         "x": [
          35,
          36,
          37,
          38,
          39,
          40,
          41
         ],
         "xaxis": "x",
         "y": [
          0.9299999999999999,
          0.9299999999999999,
          0.9299999999999999,
          0.9299999999999999,
          0.9299999999999999,
          0.9299999999999999,
          0.9299999999999999
         ],
         "yaxis": "y"
        },
        {
         "hovertemplate": "epoch=6<br>index=%{x}<br>lr=%{y}<extra></extra>",
         "legendgroup": "6",
         "marker": {
          "color": "#FF6692",
          "symbol": "circle"
         },
         "mode": "markers",
         "name": "6",
         "orientation": "v",
         "showlegend": true,
         "type": "scatter",
         "x": [
          42,
          43,
          44,
          45,
          46,
          47,
          48
         ],
         "xaxis": "x",
         "y": [
          0.9159999999999999,
          0.9159999999999999,
          0.9159999999999999,
          0.9159999999999999,
          0.9159999999999999,
          0.9159999999999999,
          0.9159999999999999
         ],
         "yaxis": "y"
        },
        {
         "hovertemplate": "epoch=7<br>index=%{x}<br>lr=%{y}<extra></extra>",
         "legendgroup": "7",
         "marker": {
          "color": "#B6E880",
          "symbol": "circle"
         },
         "mode": "markers",
         "name": "7",
         "orientation": "v",
         "showlegend": true,
         "type": "scatter",
         "x": [
          49,
          50,
          51,
          52,
          53,
          54,
          55
         ],
         "xaxis": "x",
         "y": [
          0.9019999999999999,
          0.9019999999999999,
          0.9019999999999999,
          0.9019999999999999,
          0.9019999999999999,
          0.9019999999999999,
          0.9019999999999999
         ],
         "yaxis": "y"
        },
        {
         "hovertemplate": "epoch=8<br>index=%{x}<br>lr=%{y}<extra></extra>",
         "legendgroup": "8",
         "marker": {
          "color": "#FF97FF",
          "symbol": "circle"
         },
         "mode": "markers",
         "name": "8",
         "orientation": "v",
         "showlegend": true,
         "type": "scatter",
         "x": [
          56,
          57,
          58,
          59,
          60,
          61,
          62
         ],
         "xaxis": "x",
         "y": [
          0.8879999999999999,
          0.8879999999999999,
          0.8879999999999999,
          0.8879999999999999,
          0.8879999999999999,
          0.8879999999999999,
          0.8879999999999999
         ],
         "yaxis": "y"
        },
        {
         "hovertemplate": "epoch=9<br>index=%{x}<br>lr=%{y}<extra></extra>",
         "legendgroup": "9",
         "marker": {
          "color": "#FECB52",
          "symbol": "circle"
         },
         "mode": "markers",
         "name": "9",
         "orientation": "v",
         "showlegend": true,
         "type": "scatter",
         "x": [
          63,
          64,
          65,
          66,
          67,
          68,
          69
         ],
         "xaxis": "x",
         "y": [
          0.874,
          0.874,
          0.874,
          0.874,
          0.874,
          0.874,
          0.874
         ],
         "yaxis": "y"
        },
        {
         "hovertemplate": "epoch=10<br>index=%{x}<br>lr=%{y}<extra></extra>",
         "legendgroup": "10",
         "marker": {
          "color": "#636efa",
          "symbol": "circle"
         },
         "mode": "markers",
         "name": "10",
         "orientation": "v",
         "showlegend": true,
         "type": "scatter",
         "x": [
          70,
          71,
          72,
          73,
          74,
          75,
          76
         ],
         "xaxis": "x",
         "y": [
          0.8600000000000001,
          0.8600000000000001,
          0.8600000000000001,
          0.8600000000000001,
          0.8600000000000001,
          0.8600000000000001,
          0.8600000000000001
         ],
         "yaxis": "y"
        },
        {
         "hovertemplate": "epoch=11<br>index=%{x}<br>lr=%{y}<extra></extra>",
         "legendgroup": "11",
         "marker": {
          "color": "#EF553B",
          "symbol": "circle"
         },
         "mode": "markers",
         "name": "11",
         "orientation": "v",
         "showlegend": true,
         "type": "scatter",
         "x": [
          77,
          78,
          79,
          80,
          81,
          82,
          83
         ],
         "xaxis": "x",
         "y": [
          0.8460000000000001,
          0.8460000000000001,
          0.8460000000000001,
          0.8460000000000001,
          0.8460000000000001,
          0.8460000000000001,
          0.8460000000000001
         ],
         "yaxis": "y"
        },
        {
         "hovertemplate": "epoch=12<br>index=%{x}<br>lr=%{y}<extra></extra>",
         "legendgroup": "12",
         "marker": {
          "color": "#00cc96",
          "symbol": "circle"
         },
         "mode": "markers",
         "name": "12",
         "orientation": "v",
         "showlegend": true,
         "type": "scatter",
         "x": [
          84,
          85,
          86,
          87,
          88,
          89,
          90
         ],
         "xaxis": "x",
         "y": [
          0.8320000000000001,
          0.8320000000000001,
          0.8320000000000001,
          0.8320000000000001,
          0.8320000000000001,
          0.8320000000000001,
          0.8320000000000001
         ],
         "yaxis": "y"
        },
        {
         "hovertemplate": "epoch=13<br>index=%{x}<br>lr=%{y}<extra></extra>",
         "legendgroup": "13",
         "marker": {
          "color": "#ab63fa",
          "symbol": "circle"
         },
         "mode": "markers",
         "name": "13",
         "orientation": "v",
         "showlegend": true,
         "type": "scatter",
         "x": [
          91,
          92,
          93,
          94,
          95,
          96,
          97
         ],
         "xaxis": "x",
         "y": [
          0.8180000000000001,
          0.8180000000000001,
          0.8180000000000001,
          0.8180000000000001,
          0.8180000000000001,
          0.8180000000000001,
          0.8180000000000001
         ],
         "yaxis": "y"
        },
        {
         "hovertemplate": "epoch=14<br>index=%{x}<br>lr=%{y}<extra></extra>",
         "legendgroup": "14",
         "marker": {
          "color": "#FFA15A",
          "symbol": "circle"
         },
         "mode": "markers",
         "name": "14",
         "orientation": "v",
         "showlegend": true,
         "type": "scatter",
         "x": [
          98,
          99,
          100,
          101,
          102,
          103,
          104
         ],
         "xaxis": "x",
         "y": [
          0.804,
          0.804,
          0.804,
          0.804,
          0.804,
          0.804,
          0.804
         ],
         "yaxis": "y"
        },
        {
         "hovertemplate": "epoch=15<br>index=%{x}<br>lr=%{y}<extra></extra>",
         "legendgroup": "15",
         "marker": {
          "color": "#19d3f3",
          "symbol": "circle"
         },
         "mode": "markers",
         "name": "15",
         "orientation": "v",
         "showlegend": true,
         "type": "scatter",
         "x": [
          105,
          106,
          107,
          108,
          109,
          110,
          111
         ],
         "xaxis": "x",
         "y": [
          0.79,
          0.79,
          0.79,
          0.79,
          0.79,
          0.79,
          0.79
         ],
         "yaxis": "y"
        },
        {
         "hovertemplate": "epoch=16<br>index=%{x}<br>lr=%{y}<extra></extra>",
         "legendgroup": "16",
         "marker": {
          "color": "#FF6692",
          "symbol": "circle"
         },
         "mode": "markers",
         "name": "16",
         "orientation": "v",
         "showlegend": true,
         "type": "scatter",
         "x": [
          112,
          113,
          114,
          115,
          116,
          117,
          118
         ],
         "xaxis": "x",
         "y": [
          0.776,
          0.776,
          0.776,
          0.776,
          0.776,
          0.776,
          0.776
         ],
         "yaxis": "y"
        },
        {
         "hovertemplate": "epoch=17<br>index=%{x}<br>lr=%{y}<extra></extra>",
         "legendgroup": "17",
         "marker": {
          "color": "#B6E880",
          "symbol": "circle"
         },
         "mode": "markers",
         "name": "17",
         "orientation": "v",
         "showlegend": true,
         "type": "scatter",
         "x": [
          119,
          120,
          121,
          122,
          123,
          124,
          125
         ],
         "xaxis": "x",
         "y": [
          0.762,
          0.762,
          0.762,
          0.762,
          0.762,
          0.762,
          0.762
         ],
         "yaxis": "y"
        },
        {
         "hovertemplate": "epoch=18<br>index=%{x}<br>lr=%{y}<extra></extra>",
         "legendgroup": "18",
         "marker": {
          "color": "#FF97FF",
          "symbol": "circle"
         },
         "mode": "markers",
         "name": "18",
         "orientation": "v",
         "showlegend": true,
         "type": "scatter",
         "x": [
          126,
          127,
          128,
          129,
          130,
          131,
          132
         ],
         "xaxis": "x",
         "y": [
          0.748,
          0.748,
          0.748,
          0.748,
          0.748,
          0.748,
          0.748
         ],
         "yaxis": "y"
        },
        {
         "hovertemplate": "epoch=19<br>index=%{x}<br>lr=%{y}<extra></extra>",
         "legendgroup": "19",
         "marker": {
          "color": "#FECB52",
          "symbol": "circle"
         },
         "mode": "markers",
         "name": "19",
         "orientation": "v",
         "showlegend": true,
         "type": "scatter",
         "x": [
          133,
          134,
          135,
          136,
          137,
          138,
          139
         ],
         "xaxis": "x",
         "y": [
          0.734,
          0.734,
          0.734,
          0.734,
          0.734,
          0.734,
          0.734
         ],
         "yaxis": "y"
        },
        {
         "hovertemplate": "epoch=20<br>index=%{x}<br>lr=%{y}<extra></extra>",
         "legendgroup": "20",
         "marker": {
          "color": "#636efa",
          "symbol": "circle"
         },
         "mode": "markers",
         "name": "20",
         "orientation": "v",
         "showlegend": true,
         "type": "scatter",
         "x": [
          140,
          141,
          142,
          143,
          144,
          145,
          146
         ],
         "xaxis": "x",
         "y": [
          0.72,
          0.72,
          0.72,
          0.72,
          0.72,
          0.72,
          0.72
         ],
         "yaxis": "y"
        },
        {
         "hovertemplate": "epoch=21<br>index=%{x}<br>lr=%{y}<extra></extra>",
         "legendgroup": "21",
         "marker": {
          "color": "#EF553B",
          "symbol": "circle"
         },
         "mode": "markers",
         "name": "21",
         "orientation": "v",
         "showlegend": true,
         "type": "scatter",
         "x": [
          147,
          148,
          149,
          150,
          151,
          152,
          153
         ],
         "xaxis": "x",
         "y": [
          0.706,
          0.706,
          0.706,
          0.706,
          0.706,
          0.706,
          0.706
         ],
         "yaxis": "y"
        },
        {
         "hovertemplate": "epoch=22<br>index=%{x}<br>lr=%{y}<extra></extra>",
         "legendgroup": "22",
         "marker": {
          "color": "#00cc96",
          "symbol": "circle"
         },
         "mode": "markers",
         "name": "22",
         "orientation": "v",
         "showlegend": true,
         "type": "scatter",
         "x": [
          154,
          155,
          156,
          157,
          158,
          159,
          160
         ],
         "xaxis": "x",
         "y": [
          0.692,
          0.692,
          0.692,
          0.692,
          0.692,
          0.692,
          0.692
         ],
         "yaxis": "y"
        },
        {
         "hovertemplate": "epoch=23<br>index=%{x}<br>lr=%{y}<extra></extra>",
         "legendgroup": "23",
         "marker": {
          "color": "#ab63fa",
          "symbol": "circle"
         },
         "mode": "markers",
         "name": "23",
         "orientation": "v",
         "showlegend": true,
         "type": "scatter",
         "x": [
          161,
          162,
          163,
          164,
          165,
          166,
          167
         ],
         "xaxis": "x",
         "y": [
          0.6779999999999999,
          0.6779999999999999,
          0.6779999999999999,
          0.6779999999999999,
          0.6779999999999999,
          0.6779999999999999,
          0.6779999999999999
         ],
         "yaxis": "y"
        },
        {
         "hovertemplate": "epoch=24<br>index=%{x}<br>lr=%{y}<extra></extra>",
         "legendgroup": "24",
         "marker": {
          "color": "#FFA15A",
          "symbol": "circle"
         },
         "mode": "markers",
         "name": "24",
         "orientation": "v",
         "showlegend": true,
         "type": "scatter",
         "x": [
          168,
          169,
          170,
          171,
          172,
          173,
          174
         ],
         "xaxis": "x",
         "y": [
          0.6639999999999999,
          0.6639999999999999,
          0.6639999999999999,
          0.6639999999999999,
          0.6639999999999999,
          0.6639999999999999,
          0.6639999999999999
         ],
         "yaxis": "y"
        },
        {
         "hovertemplate": "epoch=25<br>index=%{x}<br>lr=%{y}<extra></extra>",
         "legendgroup": "25",
         "marker": {
          "color": "#19d3f3",
          "symbol": "circle"
         },
         "mode": "markers",
         "name": "25",
         "orientation": "v",
         "showlegend": true,
         "type": "scatter",
         "x": [
          175,
          176,
          177,
          178,
          179,
          180,
          181
         ],
         "xaxis": "x",
         "y": [
          0.6499999999999999,
          0.6499999999999999,
          0.6499999999999999,
          0.6499999999999999,
          0.6499999999999999,
          0.6499999999999999,
          0.6499999999999999
         ],
         "yaxis": "y"
        },
        {
         "hovertemplate": "epoch=26<br>index=%{x}<br>lr=%{y}<extra></extra>",
         "legendgroup": "26",
         "marker": {
          "color": "#FF6692",
          "symbol": "circle"
         },
         "mode": "markers",
         "name": "26",
         "orientation": "v",
         "showlegend": true,
         "type": "scatter",
         "x": [
          182,
          183,
          184,
          185,
          186,
          187,
          188
         ],
         "xaxis": "x",
         "y": [
          0.6359999999999999,
          0.6359999999999999,
          0.6359999999999999,
          0.6359999999999999,
          0.6359999999999999,
          0.6359999999999999,
          0.6359999999999999
         ],
         "yaxis": "y"
        },
        {
         "hovertemplate": "epoch=27<br>index=%{x}<br>lr=%{y}<extra></extra>",
         "legendgroup": "27",
         "marker": {
          "color": "#B6E880",
          "symbol": "circle"
         },
         "mode": "markers",
         "name": "27",
         "orientation": "v",
         "showlegend": true,
         "type": "scatter",
         "x": [
          189,
          190,
          191,
          192,
          193,
          194,
          195
         ],
         "xaxis": "x",
         "y": [
          0.6219999999999999,
          0.6219999999999999,
          0.6219999999999999,
          0.6219999999999999,
          0.6219999999999999,
          0.6219999999999999,
          0.6219999999999999
         ],
         "yaxis": "y"
        },
        {
         "hovertemplate": "epoch=28<br>index=%{x}<br>lr=%{y}<extra></extra>",
         "legendgroup": "28",
         "marker": {
          "color": "#FF97FF",
          "symbol": "circle"
         },
         "mode": "markers",
         "name": "28",
         "orientation": "v",
         "showlegend": true,
         "type": "scatter",
         "x": [
          196,
          197,
          198,
          199,
          200,
          201,
          202
         ],
         "xaxis": "x",
         "y": [
          0.6079999999999999,
          0.6079999999999999,
          0.6079999999999999,
          0.6079999999999999,
          0.6079999999999999,
          0.6079999999999999,
          0.6079999999999999
         ],
         "yaxis": "y"
        },
        {
         "hovertemplate": "epoch=29<br>index=%{x}<br>lr=%{y}<extra></extra>",
         "legendgroup": "29",
         "marker": {
          "color": "#FECB52",
          "symbol": "circle"
         },
         "mode": "markers",
         "name": "29",
         "orientation": "v",
         "showlegend": true,
         "type": "scatter",
         "x": [
          203,
          204,
          205,
          206,
          207,
          208,
          209
         ],
         "xaxis": "x",
         "y": [
          0.5939999999999999,
          0.5939999999999999,
          0.5939999999999999,
          0.5939999999999999,
          0.5939999999999999,
          0.5939999999999999,
          0.5939999999999999
         ],
         "yaxis": "y"
        },
        {
         "hovertemplate": "epoch=30<br>index=%{x}<br>lr=%{y}<extra></extra>",
         "legendgroup": "30",
         "marker": {
          "color": "#636efa",
          "symbol": "circle"
         },
         "mode": "markers",
         "name": "30",
         "orientation": "v",
         "showlegend": true,
         "type": "scatter",
         "x": [
          210,
          211,
          212,
          213,
          214,
          215,
          216
         ],
         "xaxis": "x",
         "y": [
          0.5799999999999998,
          0.5799999999999998,
          0.5799999999999998,
          0.5799999999999998,
          0.5799999999999998,
          0.5799999999999998,
          0.5799999999999998
         ],
         "yaxis": "y"
        },
        {
         "hovertemplate": "epoch=31<br>index=%{x}<br>lr=%{y}<extra></extra>",
         "legendgroup": "31",
         "marker": {
          "color": "#EF553B",
          "symbol": "circle"
         },
         "mode": "markers",
         "name": "31",
         "orientation": "v",
         "showlegend": true,
         "type": "scatter",
         "x": [
          217,
          218,
          219,
          220,
          221,
          222,
          223
         ],
         "xaxis": "x",
         "y": [
          0.5659999999999998,
          0.5659999999999998,
          0.5659999999999998,
          0.5659999999999998,
          0.5659999999999998,
          0.5659999999999998,
          0.5659999999999998
         ],
         "yaxis": "y"
        },
        {
         "hovertemplate": "epoch=32<br>index=%{x}<br>lr=%{y}<extra></extra>",
         "legendgroup": "32",
         "marker": {
          "color": "#00cc96",
          "symbol": "circle"
         },
         "mode": "markers",
         "name": "32",
         "orientation": "v",
         "showlegend": true,
         "type": "scatter",
         "x": [
          224,
          225,
          226,
          227,
          228,
          229,
          230
         ],
         "xaxis": "x",
         "y": [
          0.5519999999999998,
          0.5519999999999998,
          0.5519999999999998,
          0.5519999999999998,
          0.5519999999999998,
          0.5519999999999998,
          0.5519999999999998
         ],
         "yaxis": "y"
        },
        {
         "hovertemplate": "epoch=33<br>index=%{x}<br>lr=%{y}<extra></extra>",
         "legendgroup": "33",
         "marker": {
          "color": "#ab63fa",
          "symbol": "circle"
         },
         "mode": "markers",
         "name": "33",
         "orientation": "v",
         "showlegend": true,
         "type": "scatter",
         "x": [
          231,
          232,
          233,
          234,
          235,
          236,
          237
         ],
         "xaxis": "x",
         "y": [
          0.5379999999999998,
          0.5379999999999998,
          0.5379999999999998,
          0.5379999999999998,
          0.5379999999999998,
          0.5379999999999998,
          0.5379999999999998
         ],
         "yaxis": "y"
        },
        {
         "hovertemplate": "epoch=34<br>index=%{x}<br>lr=%{y}<extra></extra>",
         "legendgroup": "34",
         "marker": {
          "color": "#FFA15A",
          "symbol": "circle"
         },
         "mode": "markers",
         "name": "34",
         "orientation": "v",
         "showlegend": true,
         "type": "scatter",
         "x": [
          238,
          239,
          240,
          241,
          242,
          243,
          244
         ],
         "xaxis": "x",
         "y": [
          0.5239999999999998,
          0.5239999999999998,
          0.5239999999999998,
          0.5239999999999998,
          0.5239999999999998,
          0.5239999999999998,
          0.5239999999999998
         ],
         "yaxis": "y"
        },
        {
         "hovertemplate": "epoch=35<br>index=%{x}<br>lr=%{y}<extra></extra>",
         "legendgroup": "35",
         "marker": {
          "color": "#19d3f3",
          "symbol": "circle"
         },
         "mode": "markers",
         "name": "35",
         "orientation": "v",
         "showlegend": true,
         "type": "scatter",
         "x": [
          245,
          246,
          247,
          248,
          249,
          250,
          251
         ],
         "xaxis": "x",
         "y": [
          0.5099999999999998,
          0.5099999999999998,
          0.5099999999999998,
          0.5099999999999998,
          0.5099999999999998,
          0.5099999999999998,
          0.5099999999999998
         ],
         "yaxis": "y"
        },
        {
         "hovertemplate": "epoch=36<br>index=%{x}<br>lr=%{y}<extra></extra>",
         "legendgroup": "36",
         "marker": {
          "color": "#FF6692",
          "symbol": "circle"
         },
         "mode": "markers",
         "name": "36",
         "orientation": "v",
         "showlegend": true,
         "type": "scatter",
         "x": [
          252,
          253,
          254,
          255,
          256,
          257,
          258
         ],
         "xaxis": "x",
         "y": [
          0.4959999999999998,
          0.4959999999999998,
          0.4959999999999998,
          0.4959999999999998,
          0.4959999999999998,
          0.4959999999999998,
          0.4959999999999998
         ],
         "yaxis": "y"
        },
        {
         "hovertemplate": "epoch=37<br>index=%{x}<br>lr=%{y}<extra></extra>",
         "legendgroup": "37",
         "marker": {
          "color": "#B6E880",
          "symbol": "circle"
         },
         "mode": "markers",
         "name": "37",
         "orientation": "v",
         "showlegend": true,
         "type": "scatter",
         "x": [
          259,
          260,
          261,
          262,
          263,
          264,
          265
         ],
         "xaxis": "x",
         "y": [
          0.4819999999999998,
          0.4819999999999998,
          0.4819999999999998,
          0.4819999999999998,
          0.4819999999999998,
          0.4819999999999998,
          0.4819999999999998
         ],
         "yaxis": "y"
        },
        {
         "hovertemplate": "epoch=38<br>index=%{x}<br>lr=%{y}<extra></extra>",
         "legendgroup": "38",
         "marker": {
          "color": "#FF97FF",
          "symbol": "circle"
         },
         "mode": "markers",
         "name": "38",
         "orientation": "v",
         "showlegend": true,
         "type": "scatter",
         "x": [
          266,
          267,
          268,
          269,
          270,
          271,
          272
         ],
         "xaxis": "x",
         "y": [
          0.4679999999999998,
          0.4679999999999998,
          0.4679999999999998,
          0.4679999999999998,
          0.4679999999999998,
          0.4679999999999998,
          0.4679999999999998
         ],
         "yaxis": "y"
        },
        {
         "hovertemplate": "epoch=39<br>index=%{x}<br>lr=%{y}<extra></extra>",
         "legendgroup": "39",
         "marker": {
          "color": "#FECB52",
          "symbol": "circle"
         },
         "mode": "markers",
         "name": "39",
         "orientation": "v",
         "showlegend": true,
         "type": "scatter",
         "x": [
          273,
          274,
          275,
          276,
          277,
          278,
          279
         ],
         "xaxis": "x",
         "y": [
          0.4539999999999998,
          0.4539999999999998,
          0.4539999999999998,
          0.4539999999999998,
          0.4539999999999998,
          0.4539999999999998,
          0.4539999999999998
         ],
         "yaxis": "y"
        },
        {
         "hovertemplate": "epoch=40<br>index=%{x}<br>lr=%{y}<extra></extra>",
         "legendgroup": "40",
         "marker": {
          "color": "#636efa",
          "symbol": "circle"
         },
         "mode": "markers",
         "name": "40",
         "orientation": "v",
         "showlegend": true,
         "type": "scatter",
         "x": [
          280,
          281,
          282,
          283,
          284,
          285,
          286
         ],
         "xaxis": "x",
         "y": [
          0.4399999999999998,
          0.4399999999999998,
          0.4399999999999998,
          0.4399999999999998,
          0.4399999999999998,
          0.4399999999999998,
          0.4399999999999998
         ],
         "yaxis": "y"
        },
        {
         "hovertemplate": "epoch=41<br>index=%{x}<br>lr=%{y}<extra></extra>",
         "legendgroup": "41",
         "marker": {
          "color": "#EF553B",
          "symbol": "circle"
         },
         "mode": "markers",
         "name": "41",
         "orientation": "v",
         "showlegend": true,
         "type": "scatter",
         "x": [
          287,
          288,
          289,
          290,
          291,
          292,
          293
         ],
         "xaxis": "x",
         "y": [
          0.42599999999999977,
          0.42599999999999977,
          0.42599999999999977,
          0.42599999999999977,
          0.42599999999999977,
          0.42599999999999977,
          0.42599999999999977
         ],
         "yaxis": "y"
        },
        {
         "hovertemplate": "epoch=42<br>index=%{x}<br>lr=%{y}<extra></extra>",
         "legendgroup": "42",
         "marker": {
          "color": "#00cc96",
          "symbol": "circle"
         },
         "mode": "markers",
         "name": "42",
         "orientation": "v",
         "showlegend": true,
         "type": "scatter",
         "x": [
          294,
          295,
          296,
          297,
          298,
          299,
          300
         ],
         "xaxis": "x",
         "y": [
          0.41199999999999976,
          0.41199999999999976,
          0.41199999999999976,
          0.41199999999999976,
          0.41199999999999976,
          0.41199999999999976,
          0.41199999999999976
         ],
         "yaxis": "y"
        },
        {
         "hovertemplate": "epoch=43<br>index=%{x}<br>lr=%{y}<extra></extra>",
         "legendgroup": "43",
         "marker": {
          "color": "#ab63fa",
          "symbol": "circle"
         },
         "mode": "markers",
         "name": "43",
         "orientation": "v",
         "showlegend": true,
         "type": "scatter",
         "x": [
          301,
          302,
          303,
          304,
          305,
          306,
          307
         ],
         "xaxis": "x",
         "y": [
          0.39799999999999974,
          0.39799999999999974,
          0.39799999999999974,
          0.39799999999999974,
          0.39799999999999974,
          0.39799999999999974,
          0.39799999999999974
         ],
         "yaxis": "y"
        },
        {
         "hovertemplate": "epoch=44<br>index=%{x}<br>lr=%{y}<extra></extra>",
         "legendgroup": "44",
         "marker": {
          "color": "#FFA15A",
          "symbol": "circle"
         },
         "mode": "markers",
         "name": "44",
         "orientation": "v",
         "showlegend": true,
         "type": "scatter",
         "x": [
          308,
          309,
          310,
          311,
          312,
          313,
          314
         ],
         "xaxis": "x",
         "y": [
          0.38399999999999973,
          0.38399999999999973,
          0.38399999999999973,
          0.38399999999999973,
          0.38399999999999973,
          0.38399999999999973,
          0.38399999999999973
         ],
         "yaxis": "y"
        },
        {
         "hovertemplate": "epoch=45<br>index=%{x}<br>lr=%{y}<extra></extra>",
         "legendgroup": "45",
         "marker": {
          "color": "#19d3f3",
          "symbol": "circle"
         },
         "mode": "markers",
         "name": "45",
         "orientation": "v",
         "showlegend": true,
         "type": "scatter",
         "x": [
          315,
          316,
          317,
          318,
          319,
          320,
          321
         ],
         "xaxis": "x",
         "y": [
          0.3699999999999997,
          0.3699999999999997,
          0.3699999999999997,
          0.3699999999999997,
          0.3699999999999997,
          0.3699999999999997,
          0.3699999999999997
         ],
         "yaxis": "y"
        },
        {
         "hovertemplate": "epoch=46<br>index=%{x}<br>lr=%{y}<extra></extra>",
         "legendgroup": "46",
         "marker": {
          "color": "#FF6692",
          "symbol": "circle"
         },
         "mode": "markers",
         "name": "46",
         "orientation": "v",
         "showlegend": true,
         "type": "scatter",
         "x": [
          322,
          323,
          324,
          325,
          326,
          327,
          328
         ],
         "xaxis": "x",
         "y": [
          0.35599999999999976,
          0.35599999999999976,
          0.35599999999999976,
          0.35599999999999976,
          0.35599999999999976,
          0.35599999999999976,
          0.35599999999999976
         ],
         "yaxis": "y"
        },
        {
         "hovertemplate": "epoch=47<br>index=%{x}<br>lr=%{y}<extra></extra>",
         "legendgroup": "47",
         "marker": {
          "color": "#B6E880",
          "symbol": "circle"
         },
         "mode": "markers",
         "name": "47",
         "orientation": "v",
         "showlegend": true,
         "type": "scatter",
         "x": [
          329,
          330,
          331,
          332,
          333,
          334,
          335
         ],
         "xaxis": "x",
         "y": [
          0.34199999999999975,
          0.34199999999999975,
          0.34199999999999975,
          0.34199999999999975,
          0.34199999999999975,
          0.34199999999999975,
          0.34199999999999975
         ],
         "yaxis": "y"
        },
        {
         "hovertemplate": "epoch=48<br>index=%{x}<br>lr=%{y}<extra></extra>",
         "legendgroup": "48",
         "marker": {
          "color": "#FF97FF",
          "symbol": "circle"
         },
         "mode": "markers",
         "name": "48",
         "orientation": "v",
         "showlegend": true,
         "type": "scatter",
         "x": [
          336,
          337,
          338,
          339,
          340,
          341,
          342
         ],
         "xaxis": "x",
         "y": [
          0.3279999999999998,
          0.3279999999999998,
          0.3279999999999998,
          0.3279999999999998,
          0.3279999999999998,
          0.3279999999999998,
          0.3279999999999998
         ],
         "yaxis": "y"
        },
        {
         "hovertemplate": "epoch=49<br>index=%{x}<br>lr=%{y}<extra></extra>",
         "legendgroup": "49",
         "marker": {
          "color": "#FECB52",
          "symbol": "circle"
         },
         "mode": "markers",
         "name": "49",
         "orientation": "v",
         "showlegend": true,
         "type": "scatter",
         "x": [
          343,
          344,
          345,
          346,
          347,
          348,
          349
         ],
         "xaxis": "x",
         "y": [
          0.3139999999999998,
          0.3139999999999998,
          0.3139999999999998,
          0.3139999999999998,
          0.3139999999999998,
          0.3139999999999998,
          0.3139999999999998
         ],
         "yaxis": "y"
        }
       ],
       "layout": {
        "legend": {
         "title": {
          "text": "epoch"
         },
         "tracegroupgap": 0
        },
        "margin": {
         "t": 60
        },
        "template": {
         "data": {
          "bar": [
           {
            "error_x": {
             "color": "#2a3f5f"
            },
            "error_y": {
             "color": "#2a3f5f"
            },
            "marker": {
             "line": {
              "color": "#E5ECF6",
              "width": 0.5
             },
             "pattern": {
              "fillmode": "overlay",
              "size": 10,
              "solidity": 0.2
             }
            },
            "type": "bar"
           }
          ],
          "barpolar": [
           {
            "marker": {
             "line": {
              "color": "#E5ECF6",
              "width": 0.5
             },
             "pattern": {
              "fillmode": "overlay",
              "size": 10,
              "solidity": 0.2
             }
            },
            "type": "barpolar"
           }
          ],
          "carpet": [
           {
            "aaxis": {
             "endlinecolor": "#2a3f5f",
             "gridcolor": "white",
             "linecolor": "white",
             "minorgridcolor": "white",
             "startlinecolor": "#2a3f5f"
            },
            "baxis": {
             "endlinecolor": "#2a3f5f",
             "gridcolor": "white",
             "linecolor": "white",
             "minorgridcolor": "white",
             "startlinecolor": "#2a3f5f"
            },
            "type": "carpet"
           }
          ],
          "choropleth": [
           {
            "colorbar": {
             "outlinewidth": 0,
             "ticks": ""
            },
            "type": "choropleth"
           }
          ],
          "contour": [
           {
            "colorbar": {
             "outlinewidth": 0,
             "ticks": ""
            },
            "colorscale": [
             [
              0,
              "#0d0887"
             ],
             [
              0.1111111111111111,
              "#46039f"
             ],
             [
              0.2222222222222222,
              "#7201a8"
             ],
             [
              0.3333333333333333,
              "#9c179e"
             ],
             [
              0.4444444444444444,
              "#bd3786"
             ],
             [
              0.5555555555555556,
              "#d8576b"
             ],
             [
              0.6666666666666666,
              "#ed7953"
             ],
             [
              0.7777777777777778,
              "#fb9f3a"
             ],
             [
              0.8888888888888888,
              "#fdca26"
             ],
             [
              1,
              "#f0f921"
             ]
            ],
            "type": "contour"
           }
          ],
          "contourcarpet": [
           {
            "colorbar": {
             "outlinewidth": 0,
             "ticks": ""
            },
            "type": "contourcarpet"
           }
          ],
          "heatmap": [
           {
            "colorbar": {
             "outlinewidth": 0,
             "ticks": ""
            },
            "colorscale": [
             [
              0,
              "#0d0887"
             ],
             [
              0.1111111111111111,
              "#46039f"
             ],
             [
              0.2222222222222222,
              "#7201a8"
             ],
             [
              0.3333333333333333,
              "#9c179e"
             ],
             [
              0.4444444444444444,
              "#bd3786"
             ],
             [
              0.5555555555555556,
              "#d8576b"
             ],
             [
              0.6666666666666666,
              "#ed7953"
             ],
             [
              0.7777777777777778,
              "#fb9f3a"
             ],
             [
              0.8888888888888888,
              "#fdca26"
             ],
             [
              1,
              "#f0f921"
             ]
            ],
            "type": "heatmap"
           }
          ],
          "heatmapgl": [
           {
            "colorbar": {
             "outlinewidth": 0,
             "ticks": ""
            },
            "colorscale": [
             [
              0,
              "#0d0887"
             ],
             [
              0.1111111111111111,
              "#46039f"
             ],
             [
              0.2222222222222222,
              "#7201a8"
             ],
             [
              0.3333333333333333,
              "#9c179e"
             ],
             [
              0.4444444444444444,
              "#bd3786"
             ],
             [
              0.5555555555555556,
              "#d8576b"
             ],
             [
              0.6666666666666666,
              "#ed7953"
             ],
             [
              0.7777777777777778,
              "#fb9f3a"
             ],
             [
              0.8888888888888888,
              "#fdca26"
             ],
             [
              1,
              "#f0f921"
             ]
            ],
            "type": "heatmapgl"
           }
          ],
          "histogram": [
           {
            "marker": {
             "pattern": {
              "fillmode": "overlay",
              "size": 10,
              "solidity": 0.2
             }
            },
            "type": "histogram"
           }
          ],
          "histogram2d": [
           {
            "colorbar": {
             "outlinewidth": 0,
             "ticks": ""
            },
            "colorscale": [
             [
              0,
              "#0d0887"
             ],
             [
              0.1111111111111111,
              "#46039f"
             ],
             [
              0.2222222222222222,
              "#7201a8"
             ],
             [
              0.3333333333333333,
              "#9c179e"
             ],
             [
              0.4444444444444444,
              "#bd3786"
             ],
             [
              0.5555555555555556,
              "#d8576b"
             ],
             [
              0.6666666666666666,
              "#ed7953"
             ],
             [
              0.7777777777777778,
              "#fb9f3a"
             ],
             [
              0.8888888888888888,
              "#fdca26"
             ],
             [
              1,
              "#f0f921"
             ]
            ],
            "type": "histogram2d"
           }
          ],
          "histogram2dcontour": [
           {
            "colorbar": {
             "outlinewidth": 0,
             "ticks": ""
            },
            "colorscale": [
             [
              0,
              "#0d0887"
             ],
             [
              0.1111111111111111,
              "#46039f"
             ],
             [
              0.2222222222222222,
              "#7201a8"
             ],
             [
              0.3333333333333333,
              "#9c179e"
             ],
             [
              0.4444444444444444,
              "#bd3786"
             ],
             [
              0.5555555555555556,
              "#d8576b"
             ],
             [
              0.6666666666666666,
              "#ed7953"
             ],
             [
              0.7777777777777778,
              "#fb9f3a"
             ],
             [
              0.8888888888888888,
              "#fdca26"
             ],
             [
              1,
              "#f0f921"
             ]
            ],
            "type": "histogram2dcontour"
           }
          ],
          "mesh3d": [
           {
            "colorbar": {
             "outlinewidth": 0,
             "ticks": ""
            },
            "type": "mesh3d"
           }
          ],
          "parcoords": [
           {
            "line": {
             "colorbar": {
              "outlinewidth": 0,
              "ticks": ""
             }
            },
            "type": "parcoords"
           }
          ],
          "pie": [
           {
            "automargin": true,
            "type": "pie"
           }
          ],
          "scatter": [
           {
            "fillpattern": {
             "fillmode": "overlay",
             "size": 10,
             "solidity": 0.2
            },
            "type": "scatter"
           }
          ],
          "scatter3d": [
           {
            "line": {
             "colorbar": {
              "outlinewidth": 0,
              "ticks": ""
             }
            },
            "marker": {
             "colorbar": {
              "outlinewidth": 0,
              "ticks": ""
             }
            },
            "type": "scatter3d"
           }
          ],
          "scattercarpet": [
           {
            "marker": {
             "colorbar": {
              "outlinewidth": 0,
              "ticks": ""
             }
            },
            "type": "scattercarpet"
           }
          ],
          "scattergeo": [
           {
            "marker": {
             "colorbar": {
              "outlinewidth": 0,
              "ticks": ""
             }
            },
            "type": "scattergeo"
           }
          ],
          "scattergl": [
           {
            "marker": {
             "colorbar": {
              "outlinewidth": 0,
              "ticks": ""
             }
            },
            "type": "scattergl"
           }
          ],
          "scattermapbox": [
           {
            "marker": {
             "colorbar": {
              "outlinewidth": 0,
              "ticks": ""
             }
            },
            "type": "scattermapbox"
           }
          ],
          "scatterpolar": [
           {
            "marker": {
             "colorbar": {
              "outlinewidth": 0,
              "ticks": ""
             }
            },
            "type": "scatterpolar"
           }
          ],
          "scatterpolargl": [
           {
            "marker": {
             "colorbar": {
              "outlinewidth": 0,
              "ticks": ""
             }
            },
            "type": "scatterpolargl"
           }
          ],
          "scatterternary": [
           {
            "marker": {
             "colorbar": {
              "outlinewidth": 0,
              "ticks": ""
             }
            },
            "type": "scatterternary"
           }
          ],
          "surface": [
           {
            "colorbar": {
             "outlinewidth": 0,
             "ticks": ""
            },
            "colorscale": [
             [
              0,
              "#0d0887"
             ],
             [
              0.1111111111111111,
              "#46039f"
             ],
             [
              0.2222222222222222,
              "#7201a8"
             ],
             [
              0.3333333333333333,
              "#9c179e"
             ],
             [
              0.4444444444444444,
              "#bd3786"
             ],
             [
              0.5555555555555556,
              "#d8576b"
             ],
             [
              0.6666666666666666,
              "#ed7953"
             ],
             [
              0.7777777777777778,
              "#fb9f3a"
             ],
             [
              0.8888888888888888,
              "#fdca26"
             ],
             [
              1,
              "#f0f921"
             ]
            ],
            "type": "surface"
           }
          ],
          "table": [
           {
            "cells": {
             "fill": {
              "color": "#EBF0F8"
             },
             "line": {
              "color": "white"
             }
            },
            "header": {
             "fill": {
              "color": "#C8D4E3"
             },
             "line": {
              "color": "white"
             }
            },
            "type": "table"
           }
          ]
         },
         "layout": {
          "annotationdefaults": {
           "arrowcolor": "#2a3f5f",
           "arrowhead": 0,
           "arrowwidth": 1
          },
          "autotypenumbers": "strict",
          "coloraxis": {
           "colorbar": {
            "outlinewidth": 0,
            "ticks": ""
           }
          },
          "colorscale": {
           "diverging": [
            [
             0,
             "#8e0152"
            ],
            [
             0.1,
             "#c51b7d"
            ],
            [
             0.2,
             "#de77ae"
            ],
            [
             0.3,
             "#f1b6da"
            ],
            [
             0.4,
             "#fde0ef"
            ],
            [
             0.5,
             "#f7f7f7"
            ],
            [
             0.6,
             "#e6f5d0"
            ],
            [
             0.7,
             "#b8e186"
            ],
            [
             0.8,
             "#7fbc41"
            ],
            [
             0.9,
             "#4d9221"
            ],
            [
             1,
             "#276419"
            ]
           ],
           "sequential": [
            [
             0,
             "#0d0887"
            ],
            [
             0.1111111111111111,
             "#46039f"
            ],
            [
             0.2222222222222222,
             "#7201a8"
            ],
            [
             0.3333333333333333,
             "#9c179e"
            ],
            [
             0.4444444444444444,
             "#bd3786"
            ],
            [
             0.5555555555555556,
             "#d8576b"
            ],
            [
             0.6666666666666666,
             "#ed7953"
            ],
            [
             0.7777777777777778,
             "#fb9f3a"
            ],
            [
             0.8888888888888888,
             "#fdca26"
            ],
            [
             1,
             "#f0f921"
            ]
           ],
           "sequentialminus": [
            [
             0,
             "#0d0887"
            ],
            [
             0.1111111111111111,
             "#46039f"
            ],
            [
             0.2222222222222222,
             "#7201a8"
            ],
            [
             0.3333333333333333,
             "#9c179e"
            ],
            [
             0.4444444444444444,
             "#bd3786"
            ],
            [
             0.5555555555555556,
             "#d8576b"
            ],
            [
             0.6666666666666666,
             "#ed7953"
            ],
            [
             0.7777777777777778,
             "#fb9f3a"
            ],
            [
             0.8888888888888888,
             "#fdca26"
            ],
            [
             1,
             "#f0f921"
            ]
           ]
          },
          "colorway": [
           "#636efa",
           "#EF553B",
           "#00cc96",
           "#ab63fa",
           "#FFA15A",
           "#19d3f3",
           "#FF6692",
           "#B6E880",
           "#FF97FF",
           "#FECB52"
          ],
          "font": {
           "color": "#2a3f5f"
          },
          "geo": {
           "bgcolor": "white",
           "lakecolor": "white",
           "landcolor": "#E5ECF6",
           "showlakes": true,
           "showland": true,
           "subunitcolor": "white"
          },
          "hoverlabel": {
           "align": "left"
          },
          "hovermode": "closest",
          "mapbox": {
           "style": "light"
          },
          "paper_bgcolor": "white",
          "plot_bgcolor": "#E5ECF6",
          "polar": {
           "angularaxis": {
            "gridcolor": "white",
            "linecolor": "white",
            "ticks": ""
           },
           "bgcolor": "#E5ECF6",
           "radialaxis": {
            "gridcolor": "white",
            "linecolor": "white",
            "ticks": ""
           }
          },
          "scene": {
           "xaxis": {
            "backgroundcolor": "#E5ECF6",
            "gridcolor": "white",
            "gridwidth": 2,
            "linecolor": "white",
            "showbackground": true,
            "ticks": "",
            "zerolinecolor": "white"
           },
           "yaxis": {
            "backgroundcolor": "#E5ECF6",
            "gridcolor": "white",
            "gridwidth": 2,
            "linecolor": "white",
            "showbackground": true,
            "ticks": "",
            "zerolinecolor": "white"
           },
           "zaxis": {
            "backgroundcolor": "#E5ECF6",
            "gridcolor": "white",
            "gridwidth": 2,
            "linecolor": "white",
            "showbackground": true,
            "ticks": "",
            "zerolinecolor": "white"
           }
          },
          "shapedefaults": {
           "line": {
            "color": "#2a3f5f"
           }
          },
          "ternary": {
           "aaxis": {
            "gridcolor": "white",
            "linecolor": "white",
            "ticks": ""
           },
           "baxis": {
            "gridcolor": "white",
            "linecolor": "white",
            "ticks": ""
           },
           "bgcolor": "#E5ECF6",
           "caxis": {
            "gridcolor": "white",
            "linecolor": "white",
            "ticks": ""
           }
          },
          "title": {
           "x": 0.05
          },
          "xaxis": {
           "automargin": true,
           "gridcolor": "white",
           "linecolor": "white",
           "ticks": "",
           "title": {
            "standoff": 15
           },
           "zerolinecolor": "white",
           "zerolinewidth": 2
          },
          "yaxis": {
           "automargin": true,
           "gridcolor": "white",
           "linecolor": "white",
           "ticks": "",
           "title": {
            "standoff": 15
           },
           "zerolinecolor": "white",
           "zerolinewidth": 2
          }
         }
        },
        "xaxis": {
         "anchor": "y",
         "domain": [
          0,
          1
         ],
         "title": {
          "text": "index"
         }
        },
        "yaxis": {
         "anchor": "x",
         "domain": [
          0,
          1
         ],
         "title": {
          "text": "lr"
         }
        }
       }
      }
     },
     "metadata": {},
     "output_type": "display_data"
    },
    {
     "data": {
      "text/html": [
       "<div>\n",
       "<style scoped>\n",
       "    .dataframe tbody tr th:only-of-type {\n",
       "        vertical-align: middle;\n",
       "    }\n",
       "\n",
       "    .dataframe tbody tr th {\n",
       "        vertical-align: top;\n",
       "    }\n",
       "\n",
       "    .dataframe thead th {\n",
       "        text-align: right;\n",
       "    }\n",
       "</style>\n",
       "<table border=\"1\" class=\"dataframe\">\n",
       "  <thead>\n",
       "    <tr style=\"text-align: right;\">\n",
       "      <th></th>\n",
       "      <th>epoch</th>\n",
       "      <th>lr</th>\n",
       "    </tr>\n",
       "  </thead>\n",
       "  <tbody>\n",
       "    <tr>\n",
       "      <th>0</th>\n",
       "      <td>0</td>\n",
       "      <td>1.000</td>\n",
       "    </tr>\n",
       "    <tr>\n",
       "      <th>1</th>\n",
       "      <td>0</td>\n",
       "      <td>1.000</td>\n",
       "    </tr>\n",
       "    <tr>\n",
       "      <th>2</th>\n",
       "      <td>0</td>\n",
       "      <td>1.000</td>\n",
       "    </tr>\n",
       "    <tr>\n",
       "      <th>3</th>\n",
       "      <td>0</td>\n",
       "      <td>1.000</td>\n",
       "    </tr>\n",
       "    <tr>\n",
       "      <th>4</th>\n",
       "      <td>0</td>\n",
       "      <td>1.000</td>\n",
       "    </tr>\n",
       "    <tr>\n",
       "      <th>...</th>\n",
       "      <td>...</td>\n",
       "      <td>...</td>\n",
       "    </tr>\n",
       "    <tr>\n",
       "      <th>345</th>\n",
       "      <td>49</td>\n",
       "      <td>0.314</td>\n",
       "    </tr>\n",
       "    <tr>\n",
       "      <th>346</th>\n",
       "      <td>49</td>\n",
       "      <td>0.314</td>\n",
       "    </tr>\n",
       "    <tr>\n",
       "      <th>347</th>\n",
       "      <td>49</td>\n",
       "      <td>0.314</td>\n",
       "    </tr>\n",
       "    <tr>\n",
       "      <th>348</th>\n",
       "      <td>49</td>\n",
       "      <td>0.314</td>\n",
       "    </tr>\n",
       "    <tr>\n",
       "      <th>349</th>\n",
       "      <td>49</td>\n",
       "      <td>0.314</td>\n",
       "    </tr>\n",
       "  </tbody>\n",
       "</table>\n",
       "<p>350 rows × 2 columns</p>\n",
       "</div>"
      ],
      "text/plain": [
       "    epoch     lr\n",
       "0       0  1.000\n",
       "1       0  1.000\n",
       "2       0  1.000\n",
       "3       0  1.000\n",
       "4       0  1.000\n",
       "..    ...    ...\n",
       "345    49  0.314\n",
       "346    49  0.314\n",
       "347    49  0.314\n",
       "348    49  0.314\n",
       "349    49  0.314\n",
       "\n",
       "[350 rows x 2 columns]"
      ]
     },
     "execution_count": 8,
     "metadata": {},
     "output_type": "execute_result"
    }
   ],
   "source": [
    "n_epochs = 50\n",
    "change_ever_step = False\n",
    "total_iters = n_epochs\n",
    "lrsched = partial(LinearLR, total_iters=total_iters, start_factor=1., end_factor=0.3)\n",
    "df = explore(lrsched, optim_lr=1.)\n",
    "df"
   ]
  },
  {
   "cell_type": "markdown",
   "id": "a407258c-c24d-435d-a18e-e8f73d1610a6",
   "metadata": {},
   "source": [
    "## CosineAnnealingLR\n",
    "This varies the learning rate in a consine wave starting from the learning rate that the optimizer is configured with and going down to some minimum set by $\\eta_{min}$ which defaults to $0$. The period of the cosine wave is $2T_{max}$."
   ]
  },
  {
   "cell_type": "code",
   "execution_count": 9,
   "id": "4653d432-f586-428d-9a01-8fd7acecf6de",
   "metadata": {},
   "outputs": [
    {
     "data": {
      "application/vnd.plotly.v1+json": {
       "config": {
        "plotlyServerURL": "https://plot.ly"
       },
       "data": [
        {
         "hovertemplate": "epoch=0<br>index=%{x}<br>lr=%{y}<extra></extra>",
         "legendgroup": "0",
         "marker": {
          "color": "#636efa",
          "symbol": "circle"
         },
         "mode": "markers",
         "name": "0",
         "orientation": "v",
         "showlegend": true,
         "type": "scatter",
         "x": [
          0,
          1,
          2,
          3,
          4,
          5,
          6
         ],
         "xaxis": "x",
         "y": [
          0.8,
          0.8,
          0.8,
          0.8,
          0.8,
          0.8,
          0.8
         ],
         "yaxis": "y"
        },
        {
         "hovertemplate": "epoch=1<br>index=%{x}<br>lr=%{y}<extra></extra>",
         "legendgroup": "1",
         "marker": {
          "color": "#EF553B",
          "symbol": "circle"
         },
         "mode": "markers",
         "name": "1",
         "orientation": "v",
         "showlegend": true,
         "type": "scatter",
         "x": [
          7,
          8,
          9,
          10,
          11,
          12,
          13
         ],
         "xaxis": "x",
         "y": [
          0.7804226065180615,
          0.7804226065180615,
          0.7804226065180615,
          0.7804226065180615,
          0.7804226065180615,
          0.7804226065180615,
          0.7804226065180615
         ],
         "yaxis": "y"
        },
        {
         "hovertemplate": "epoch=2<br>index=%{x}<br>lr=%{y}<extra></extra>",
         "legendgroup": "2",
         "marker": {
          "color": "#00cc96",
          "symbol": "circle"
         },
         "mode": "markers",
         "name": "2",
         "orientation": "v",
         "showlegend": true,
         "type": "scatter",
         "x": [
          14,
          15,
          16,
          17,
          18,
          19,
          20
         ],
         "xaxis": "x",
         "y": [
          0.723606797749979,
          0.723606797749979,
          0.723606797749979,
          0.723606797749979,
          0.723606797749979,
          0.723606797749979,
          0.723606797749979
         ],
         "yaxis": "y"
        },
        {
         "hovertemplate": "epoch=3<br>index=%{x}<br>lr=%{y}<extra></extra>",
         "legendgroup": "3",
         "marker": {
          "color": "#ab63fa",
          "symbol": "circle"
         },
         "mode": "markers",
         "name": "3",
         "orientation": "v",
         "showlegend": true,
         "type": "scatter",
         "x": [
          21,
          22,
          23,
          24,
          25,
          26,
          27
         ],
         "xaxis": "x",
         "y": [
          0.6351141009169894,
          0.6351141009169894,
          0.6351141009169894,
          0.6351141009169894,
          0.6351141009169894,
          0.6351141009169894,
          0.6351141009169894
         ],
         "yaxis": "y"
        },
        {
         "hovertemplate": "epoch=4<br>index=%{x}<br>lr=%{y}<extra></extra>",
         "legendgroup": "4",
         "marker": {
          "color": "#FFA15A",
          "symbol": "circle"
         },
         "mode": "markers",
         "name": "4",
         "orientation": "v",
         "showlegend": true,
         "type": "scatter",
         "x": [
          28,
          29,
          30,
          31,
          32,
          33,
          34
         ],
         "xaxis": "x",
         "y": [
          0.5236067977499791,
          0.5236067977499791,
          0.5236067977499791,
          0.5236067977499791,
          0.5236067977499791,
          0.5236067977499791,
          0.5236067977499791
         ],
         "yaxis": "y"
        },
        {
         "hovertemplate": "epoch=5<br>index=%{x}<br>lr=%{y}<extra></extra>",
         "legendgroup": "5",
         "marker": {
          "color": "#19d3f3",
          "symbol": "circle"
         },
         "mode": "markers",
         "name": "5",
         "orientation": "v",
         "showlegend": true,
         "type": "scatter",
         "x": [
          35,
          36,
          37,
          38,
          39,
          40,
          41
         ],
         "xaxis": "x",
         "y": [
          0.4000000000000001,
          0.4000000000000001,
          0.4000000000000001,
          0.4000000000000001,
          0.4000000000000001,
          0.4000000000000001,
          0.4000000000000001
         ],
         "yaxis": "y"
        },
        {
         "hovertemplate": "epoch=6<br>index=%{x}<br>lr=%{y}<extra></extra>",
         "legendgroup": "6",
         "marker": {
          "color": "#FF6692",
          "symbol": "circle"
         },
         "mode": "markers",
         "name": "6",
         "orientation": "v",
         "showlegend": true,
         "type": "scatter",
         "x": [
          42,
          43,
          44,
          45,
          46,
          47,
          48
         ],
         "xaxis": "x",
         "y": [
          0.2763932022500211,
          0.2763932022500211,
          0.2763932022500211,
          0.2763932022500211,
          0.2763932022500211,
          0.2763932022500211,
          0.2763932022500211
         ],
         "yaxis": "y"
        },
        {
         "hovertemplate": "epoch=7<br>index=%{x}<br>lr=%{y}<extra></extra>",
         "legendgroup": "7",
         "marker": {
          "color": "#B6E880",
          "symbol": "circle"
         },
         "mode": "markers",
         "name": "7",
         "orientation": "v",
         "showlegend": true,
         "type": "scatter",
         "x": [
          49,
          50,
          51,
          52,
          53,
          54,
          55
         ],
         "xaxis": "x",
         "y": [
          0.16488589908301082,
          0.16488589908301082,
          0.16488589908301082,
          0.16488589908301082,
          0.16488589908301082,
          0.16488589908301082,
          0.16488589908301082
         ],
         "yaxis": "y"
        },
        {
         "hovertemplate": "epoch=8<br>index=%{x}<br>lr=%{y}<extra></extra>",
         "legendgroup": "8",
         "marker": {
          "color": "#FF97FF",
          "symbol": "circle"
         },
         "mode": "markers",
         "name": "8",
         "orientation": "v",
         "showlegend": true,
         "type": "scatter",
         "x": [
          56,
          57,
          58,
          59,
          60,
          61,
          62
         ],
         "xaxis": "x",
         "y": [
          0.07639320225002108,
          0.07639320225002108,
          0.07639320225002108,
          0.07639320225002108,
          0.07639320225002108,
          0.07639320225002108,
          0.07639320225002108
         ],
         "yaxis": "y"
        },
        {
         "hovertemplate": "epoch=9<br>index=%{x}<br>lr=%{y}<extra></extra>",
         "legendgroup": "9",
         "marker": {
          "color": "#FECB52",
          "symbol": "circle"
         },
         "mode": "markers",
         "name": "9",
         "orientation": "v",
         "showlegend": true,
         "type": "scatter",
         "x": [
          63,
          64,
          65,
          66,
          67,
          68,
          69
         ],
         "xaxis": "x",
         "y": [
          0.01957739348193859,
          0.01957739348193859,
          0.01957739348193859,
          0.01957739348193859,
          0.01957739348193859,
          0.01957739348193859,
          0.01957739348193859
         ],
         "yaxis": "y"
        },
        {
         "hovertemplate": "epoch=10<br>index=%{x}<br>lr=%{y}<extra></extra>",
         "legendgroup": "10",
         "marker": {
          "color": "#636efa",
          "symbol": "circle"
         },
         "mode": "markers",
         "name": "10",
         "orientation": "v",
         "showlegend": true,
         "type": "scatter",
         "x": [
          70,
          71,
          72,
          73,
          74,
          75,
          76
         ],
         "xaxis": "x",
         "y": [
          0,
          0,
          0,
          0,
          0,
          0,
          0
         ],
         "yaxis": "y"
        },
        {
         "hovertemplate": "epoch=11<br>index=%{x}<br>lr=%{y}<extra></extra>",
         "legendgroup": "11",
         "marker": {
          "color": "#EF553B",
          "symbol": "circle"
         },
         "mode": "markers",
         "name": "11",
         "orientation": "v",
         "showlegend": true,
         "type": "scatter",
         "x": [
          77,
          78,
          79,
          80,
          81,
          82,
          83
         ],
         "xaxis": "x",
         "y": [
          0.019577393481938588,
          0.019577393481938588,
          0.019577393481938588,
          0.019577393481938588,
          0.019577393481938588,
          0.019577393481938588,
          0.019577393481938588
         ],
         "yaxis": "y"
        },
        {
         "hovertemplate": "epoch=12<br>index=%{x}<br>lr=%{y}<extra></extra>",
         "legendgroup": "12",
         "marker": {
          "color": "#00cc96",
          "symbol": "circle"
         },
         "mode": "markers",
         "name": "12",
         "orientation": "v",
         "showlegend": true,
         "type": "scatter",
         "x": [
          84,
          85,
          86,
          87,
          88,
          89,
          90
         ],
         "xaxis": "x",
         "y": [
          0.07639320225002137,
          0.07639320225002137,
          0.07639320225002137,
          0.07639320225002137,
          0.07639320225002137,
          0.07639320225002137,
          0.07639320225002137
         ],
         "yaxis": "y"
        },
        {
         "hovertemplate": "epoch=13<br>index=%{x}<br>lr=%{y}<extra></extra>",
         "legendgroup": "13",
         "marker": {
          "color": "#ab63fa",
          "symbol": "circle"
         },
         "mode": "markers",
         "name": "13",
         "orientation": "v",
         "showlegend": true,
         "type": "scatter",
         "x": [
          91,
          92,
          93,
          94,
          95,
          96,
          97
         ],
         "xaxis": "x",
         "y": [
          0.16488589908301146,
          0.16488589908301146,
          0.16488589908301146,
          0.16488589908301146,
          0.16488589908301146,
          0.16488589908301146,
          0.16488589908301146
         ],
         "yaxis": "y"
        },
        {
         "hovertemplate": "epoch=14<br>index=%{x}<br>lr=%{y}<extra></extra>",
         "legendgroup": "14",
         "marker": {
          "color": "#FFA15A",
          "symbol": "circle"
         },
         "mode": "markers",
         "name": "14",
         "orientation": "v",
         "showlegend": true,
         "type": "scatter",
         "x": [
          98,
          99,
          100,
          101,
          102,
          103,
          104
         ],
         "xaxis": "x",
         "y": [
          0.2763932022500223,
          0.2763932022500223,
          0.2763932022500223,
          0.2763932022500223,
          0.2763932022500223,
          0.2763932022500223,
          0.2763932022500223
         ],
         "yaxis": "y"
        },
        {
         "hovertemplate": "epoch=15<br>index=%{x}<br>lr=%{y}<extra></extra>",
         "legendgroup": "15",
         "marker": {
          "color": "#19d3f3",
          "symbol": "circle"
         },
         "mode": "markers",
         "name": "15",
         "orientation": "v",
         "showlegend": true,
         "type": "scatter",
         "x": [
          105,
          106,
          107,
          108,
          109,
          110,
          111
         ],
         "xaxis": "x",
         "y": [
          0.4000000000000018,
          0.4000000000000018,
          0.4000000000000018,
          0.4000000000000018,
          0.4000000000000018,
          0.4000000000000018,
          0.4000000000000018
         ],
         "yaxis": "y"
        },
        {
         "hovertemplate": "epoch=16<br>index=%{x}<br>lr=%{y}<extra></extra>",
         "legendgroup": "16",
         "marker": {
          "color": "#FF6692",
          "symbol": "circle"
         },
         "mode": "markers",
         "name": "16",
         "orientation": "v",
         "showlegend": true,
         "type": "scatter",
         "x": [
          112,
          113,
          114,
          115,
          116,
          117,
          118
         ],
         "xaxis": "x",
         "y": [
          0.5236067977499813,
          0.5236067977499813,
          0.5236067977499813,
          0.5236067977499813,
          0.5236067977499813,
          0.5236067977499813,
          0.5236067977499813
         ],
         "yaxis": "y"
        },
        {
         "hovertemplate": "epoch=17<br>index=%{x}<br>lr=%{y}<extra></extra>",
         "legendgroup": "17",
         "marker": {
          "color": "#B6E880",
          "symbol": "circle"
         },
         "mode": "markers",
         "name": "17",
         "orientation": "v",
         "showlegend": true,
         "type": "scatter",
         "x": [
          119,
          120,
          121,
          122,
          123,
          124,
          125
         ],
         "xaxis": "x",
         "y": [
          0.635114100916992,
          0.635114100916992,
          0.635114100916992,
          0.635114100916992,
          0.635114100916992,
          0.635114100916992,
          0.635114100916992
         ],
         "yaxis": "y"
        },
        {
         "hovertemplate": "epoch=18<br>index=%{x}<br>lr=%{y}<extra></extra>",
         "legendgroup": "18",
         "marker": {
          "color": "#FF97FF",
          "symbol": "circle"
         },
         "mode": "markers",
         "name": "18",
         "orientation": "v",
         "showlegend": true,
         "type": "scatter",
         "x": [
          126,
          127,
          128,
          129,
          130,
          131,
          132
         ],
         "xaxis": "x",
         "y": [
          0.7236067977499823,
          0.7236067977499823,
          0.7236067977499823,
          0.7236067977499823,
          0.7236067977499823,
          0.7236067977499823,
          0.7236067977499823
         ],
         "yaxis": "y"
        },
        {
         "hovertemplate": "epoch=19<br>index=%{x}<br>lr=%{y}<extra></extra>",
         "legendgroup": "19",
         "marker": {
          "color": "#FECB52",
          "symbol": "circle"
         },
         "mode": "markers",
         "name": "19",
         "orientation": "v",
         "showlegend": true,
         "type": "scatter",
         "x": [
          133,
          134,
          135,
          136,
          137,
          138,
          139
         ],
         "xaxis": "x",
         "y": [
          0.7804226065180649,
          0.7804226065180649,
          0.7804226065180649,
          0.7804226065180649,
          0.7804226065180649,
          0.7804226065180649,
          0.7804226065180649
         ],
         "yaxis": "y"
        },
        {
         "hovertemplate": "epoch=20<br>index=%{x}<br>lr=%{y}<extra></extra>",
         "legendgroup": "20",
         "marker": {
          "color": "#636efa",
          "symbol": "circle"
         },
         "mode": "markers",
         "name": "20",
         "orientation": "v",
         "showlegend": true,
         "type": "scatter",
         "x": [
          140,
          141,
          142,
          143,
          144,
          145,
          146
         ],
         "xaxis": "x",
         "y": [
          0.8000000000000035,
          0.8000000000000035,
          0.8000000000000035,
          0.8000000000000035,
          0.8000000000000035,
          0.8000000000000035,
          0.8000000000000035
         ],
         "yaxis": "y"
        },
        {
         "hovertemplate": "epoch=21<br>index=%{x}<br>lr=%{y}<extra></extra>",
         "legendgroup": "21",
         "marker": {
          "color": "#EF553B",
          "symbol": "circle"
         },
         "mode": "markers",
         "name": "21",
         "orientation": "v",
         "showlegend": true,
         "type": "scatter",
         "x": [
          147,
          148,
          149,
          150,
          151,
          152,
          153
         ],
         "xaxis": "x",
         "y": [
          0.7804226065180648,
          0.7804226065180648,
          0.7804226065180648,
          0.7804226065180648,
          0.7804226065180648,
          0.7804226065180648,
          0.7804226065180648
         ],
         "yaxis": "y"
        },
        {
         "hovertemplate": "epoch=22<br>index=%{x}<br>lr=%{y}<extra></extra>",
         "legendgroup": "22",
         "marker": {
          "color": "#00cc96",
          "symbol": "circle"
         },
         "mode": "markers",
         "name": "22",
         "orientation": "v",
         "showlegend": true,
         "type": "scatter",
         "x": [
          154,
          155,
          156,
          157,
          158,
          159,
          160
         ],
         "xaxis": "x",
         "y": [
          0.7236067977499824,
          0.7236067977499824,
          0.7236067977499824,
          0.7236067977499824,
          0.7236067977499824,
          0.7236067977499824,
          0.7236067977499824
         ],
         "yaxis": "y"
        },
        {
         "hovertemplate": "epoch=23<br>index=%{x}<br>lr=%{y}<extra></extra>",
         "legendgroup": "23",
         "marker": {
          "color": "#ab63fa",
          "symbol": "circle"
         },
         "mode": "markers",
         "name": "23",
         "orientation": "v",
         "showlegend": true,
         "type": "scatter",
         "x": [
          161,
          162,
          163,
          164,
          165,
          166,
          167
         ],
         "xaxis": "x",
         "y": [
          0.635114100916992,
          0.635114100916992,
          0.635114100916992,
          0.635114100916992,
          0.635114100916992,
          0.635114100916992,
          0.635114100916992
         ],
         "yaxis": "y"
        },
        {
         "hovertemplate": "epoch=24<br>index=%{x}<br>lr=%{y}<extra></extra>",
         "legendgroup": "24",
         "marker": {
          "color": "#FFA15A",
          "symbol": "circle"
         },
         "mode": "markers",
         "name": "24",
         "orientation": "v",
         "showlegend": true,
         "type": "scatter",
         "x": [
          168,
          169,
          170,
          171,
          172,
          173,
          174
         ],
         "xaxis": "x",
         "y": [
          0.5236067977499813,
          0.5236067977499813,
          0.5236067977499813,
          0.5236067977499813,
          0.5236067977499813,
          0.5236067977499813,
          0.5236067977499813
         ],
         "yaxis": "y"
        },
        {
         "hovertemplate": "epoch=25<br>index=%{x}<br>lr=%{y}<extra></extra>",
         "legendgroup": "25",
         "marker": {
          "color": "#19d3f3",
          "symbol": "circle"
         },
         "mode": "markers",
         "name": "25",
         "orientation": "v",
         "showlegend": true,
         "type": "scatter",
         "x": [
          175,
          176,
          177,
          178,
          179,
          180,
          181
         ],
         "xaxis": "x",
         "y": [
          0.4000000000000018,
          0.4000000000000018,
          0.4000000000000018,
          0.4000000000000018,
          0.4000000000000018,
          0.4000000000000018,
          0.4000000000000018
         ],
         "yaxis": "y"
        },
        {
         "hovertemplate": "epoch=26<br>index=%{x}<br>lr=%{y}<extra></extra>",
         "legendgroup": "26",
         "marker": {
          "color": "#FF6692",
          "symbol": "circle"
         },
         "mode": "markers",
         "name": "26",
         "orientation": "v",
         "showlegend": true,
         "type": "scatter",
         "x": [
          182,
          183,
          184,
          185,
          186,
          187,
          188
         ],
         "xaxis": "x",
         "y": [
          0.27639320225002234,
          0.27639320225002234,
          0.27639320225002234,
          0.27639320225002234,
          0.27639320225002234,
          0.27639320225002234,
          0.27639320225002234
         ],
         "yaxis": "y"
        },
        {
         "hovertemplate": "epoch=27<br>index=%{x}<br>lr=%{y}<extra></extra>",
         "legendgroup": "27",
         "marker": {
          "color": "#B6E880",
          "symbol": "circle"
         },
         "mode": "markers",
         "name": "27",
         "orientation": "v",
         "showlegend": true,
         "type": "scatter",
         "x": [
          189,
          190,
          191,
          192,
          193,
          194,
          195
         ],
         "xaxis": "x",
         "y": [
          0.16488589908301154,
          0.16488589908301154,
          0.16488589908301154,
          0.16488589908301154,
          0.16488589908301154,
          0.16488589908301154,
          0.16488589908301154
         ],
         "yaxis": "y"
        },
        {
         "hovertemplate": "epoch=28<br>index=%{x}<br>lr=%{y}<extra></extra>",
         "legendgroup": "28",
         "marker": {
          "color": "#FF97FF",
          "symbol": "circle"
         },
         "mode": "markers",
         "name": "28",
         "orientation": "v",
         "showlegend": true,
         "type": "scatter",
         "x": [
          196,
          197,
          198,
          199,
          200,
          201,
          202
         ],
         "xaxis": "x",
         "y": [
          0.07639320225002144,
          0.07639320225002144,
          0.07639320225002144,
          0.07639320225002144,
          0.07639320225002144,
          0.07639320225002144,
          0.07639320225002144
         ],
         "yaxis": "y"
        },
        {
         "hovertemplate": "epoch=29<br>index=%{x}<br>lr=%{y}<extra></extra>",
         "legendgroup": "29",
         "marker": {
          "color": "#FECB52",
          "symbol": "circle"
         },
         "mode": "markers",
         "name": "29",
         "orientation": "v",
         "showlegend": true,
         "type": "scatter",
         "x": [
          203,
          204,
          205,
          206,
          207,
          208,
          209
         ],
         "xaxis": "x",
         "y": [
          0.019577393481938717,
          0.019577393481938717,
          0.019577393481938717,
          0.019577393481938717,
          0.019577393481938717,
          0.019577393481938717,
          0.019577393481938717
         ],
         "yaxis": "y"
        },
        {
         "hovertemplate": "epoch=30<br>index=%{x}<br>lr=%{y}<extra></extra>",
         "legendgroup": "30",
         "marker": {
          "color": "#636efa",
          "symbol": "circle"
         },
         "mode": "markers",
         "name": "30",
         "orientation": "v",
         "showlegend": true,
         "type": "scatter",
         "x": [
          210,
          211,
          212,
          213,
          214,
          215,
          216
         ],
         "xaxis": "x",
         "y": [
          0,
          0,
          0,
          0,
          0,
          0,
          0
         ],
         "yaxis": "y"
        },
        {
         "hovertemplate": "epoch=31<br>index=%{x}<br>lr=%{y}<extra></extra>",
         "legendgroup": "31",
         "marker": {
          "color": "#EF553B",
          "symbol": "circle"
         },
         "mode": "markers",
         "name": "31",
         "orientation": "v",
         "showlegend": true,
         "type": "scatter",
         "x": [
          217,
          218,
          219,
          220,
          221,
          222,
          223
         ],
         "xaxis": "x",
         "y": [
          0.019577393481938588,
          0.019577393481938588,
          0.019577393481938588,
          0.019577393481938588,
          0.019577393481938588,
          0.019577393481938588,
          0.019577393481938588
         ],
         "yaxis": "y"
        },
        {
         "hovertemplate": "epoch=32<br>index=%{x}<br>lr=%{y}<extra></extra>",
         "legendgroup": "32",
         "marker": {
          "color": "#00cc96",
          "symbol": "circle"
         },
         "mode": "markers",
         "name": "32",
         "orientation": "v",
         "showlegend": true,
         "type": "scatter",
         "x": [
          224,
          225,
          226,
          227,
          228,
          229,
          230
         ],
         "xaxis": "x",
         "y": [
          0.07639320225002111,
          0.07639320225002111,
          0.07639320225002111,
          0.07639320225002111,
          0.07639320225002111,
          0.07639320225002111,
          0.07639320225002111
         ],
         "yaxis": "y"
        },
        {
         "hovertemplate": "epoch=33<br>index=%{x}<br>lr=%{y}<extra></extra>",
         "legendgroup": "33",
         "marker": {
          "color": "#ab63fa",
          "symbol": "circle"
         },
         "mode": "markers",
         "name": "33",
         "orientation": "v",
         "showlegend": true,
         "type": "scatter",
         "x": [
          231,
          232,
          233,
          234,
          235,
          236,
          237
         ],
         "xaxis": "x",
         "y": [
          0.164885899083011,
          0.164885899083011,
          0.164885899083011,
          0.164885899083011,
          0.164885899083011,
          0.164885899083011,
          0.164885899083011
         ],
         "yaxis": "y"
        },
        {
         "hovertemplate": "epoch=34<br>index=%{x}<br>lr=%{y}<extra></extra>",
         "legendgroup": "34",
         "marker": {
          "color": "#FFA15A",
          "symbol": "circle"
         },
         "mode": "markers",
         "name": "34",
         "orientation": "v",
         "showlegend": true,
         "type": "scatter",
         "x": [
          238,
          239,
          240,
          241,
          242,
          243,
          244
         ],
         "xaxis": "x",
         "y": [
          0.27639320225002145,
          0.27639320225002145,
          0.27639320225002145,
          0.27639320225002145,
          0.27639320225002145,
          0.27639320225002145,
          0.27639320225002145
         ],
         "yaxis": "y"
        },
        {
         "hovertemplate": "epoch=35<br>index=%{x}<br>lr=%{y}<extra></extra>",
         "legendgroup": "35",
         "marker": {
          "color": "#19d3f3",
          "symbol": "circle"
         },
         "mode": "markers",
         "name": "35",
         "orientation": "v",
         "showlegend": true,
         "type": "scatter",
         "x": [
          245,
          246,
          247,
          248,
          249,
          250,
          251
         ],
         "xaxis": "x",
         "y": [
          0.4000000000000007,
          0.4000000000000007,
          0.4000000000000007,
          0.4000000000000007,
          0.4000000000000007,
          0.4000000000000007,
          0.4000000000000007
         ],
         "yaxis": "y"
        },
        {
         "hovertemplate": "epoch=36<br>index=%{x}<br>lr=%{y}<extra></extra>",
         "legendgroup": "36",
         "marker": {
          "color": "#FF6692",
          "symbol": "circle"
         },
         "mode": "markers",
         "name": "36",
         "orientation": "v",
         "showlegend": true,
         "type": "scatter",
         "x": [
          252,
          253,
          254,
          255,
          256,
          257,
          258
         ],
         "xaxis": "x",
         "y": [
          0.52360679774998,
          0.52360679774998,
          0.52360679774998,
          0.52360679774998,
          0.52360679774998,
          0.52360679774998,
          0.52360679774998
         ],
         "yaxis": "y"
        },
        {
         "hovertemplate": "epoch=37<br>index=%{x}<br>lr=%{y}<extra></extra>",
         "legendgroup": "37",
         "marker": {
          "color": "#B6E880",
          "symbol": "circle"
         },
         "mode": "markers",
         "name": "37",
         "orientation": "v",
         "showlegend": true,
         "type": "scatter",
         "x": [
          259,
          260,
          261,
          262,
          263,
          264,
          265
         ],
         "xaxis": "x",
         "y": [
          0.6351141009169906,
          0.6351141009169906,
          0.6351141009169906,
          0.6351141009169906,
          0.6351141009169906,
          0.6351141009169906,
          0.6351141009169906
         ],
         "yaxis": "y"
        },
        {
         "hovertemplate": "epoch=38<br>index=%{x}<br>lr=%{y}<extra></extra>",
         "legendgroup": "38",
         "marker": {
          "color": "#FF97FF",
          "symbol": "circle"
         },
         "mode": "markers",
         "name": "38",
         "orientation": "v",
         "showlegend": true,
         "type": "scatter",
         "x": [
          266,
          267,
          268,
          269,
          270,
          271,
          272
         ],
         "xaxis": "x",
         "y": [
          0.7236067977499805,
          0.7236067977499805,
          0.7236067977499805,
          0.7236067977499805,
          0.7236067977499805,
          0.7236067977499805,
          0.7236067977499805
         ],
         "yaxis": "y"
        },
        {
         "hovertemplate": "epoch=39<br>index=%{x}<br>lr=%{y}<extra></extra>",
         "legendgroup": "39",
         "marker": {
          "color": "#FECB52",
          "symbol": "circle"
         },
         "mode": "markers",
         "name": "39",
         "orientation": "v",
         "showlegend": true,
         "type": "scatter",
         "x": [
          273,
          274,
          275,
          276,
          277,
          278,
          279
         ],
         "xaxis": "x",
         "y": [
          0.7804226065180632,
          0.7804226065180632,
          0.7804226065180632,
          0.7804226065180632,
          0.7804226065180632,
          0.7804226065180632,
          0.7804226065180632
         ],
         "yaxis": "y"
        },
        {
         "hovertemplate": "epoch=40<br>index=%{x}<br>lr=%{y}<extra></extra>",
         "legendgroup": "40",
         "marker": {
          "color": "#636efa",
          "symbol": "circle"
         },
         "mode": "markers",
         "name": "40",
         "orientation": "v",
         "showlegend": true,
         "type": "scatter",
         "x": [
          280,
          281,
          282,
          283,
          284,
          285,
          286
         ],
         "xaxis": "x",
         "y": [
          0.8000000000000019,
          0.8000000000000019,
          0.8000000000000019,
          0.8000000000000019,
          0.8000000000000019,
          0.8000000000000019,
          0.8000000000000019
         ],
         "yaxis": "y"
        },
        {
         "hovertemplate": "epoch=41<br>index=%{x}<br>lr=%{y}<extra></extra>",
         "legendgroup": "41",
         "marker": {
          "color": "#EF553B",
          "symbol": "circle"
         },
         "mode": "markers",
         "name": "41",
         "orientation": "v",
         "showlegend": true,
         "type": "scatter",
         "x": [
          287,
          288,
          289,
          290,
          291,
          292,
          293
         ],
         "xaxis": "x",
         "y": [
          0.7804226065180636,
          0.7804226065180636,
          0.7804226065180636,
          0.7804226065180636,
          0.7804226065180636,
          0.7804226065180636,
          0.7804226065180636
         ],
         "yaxis": "y"
        },
        {
         "hovertemplate": "epoch=42<br>index=%{x}<br>lr=%{y}<extra></extra>",
         "legendgroup": "42",
         "marker": {
          "color": "#00cc96",
          "symbol": "circle"
         },
         "mode": "markers",
         "name": "42",
         "orientation": "v",
         "showlegend": true,
         "type": "scatter",
         "x": [
          294,
          295,
          296,
          297,
          298,
          299,
          300
         ],
         "xaxis": "x",
         "y": [
          0.7236067977499808,
          0.7236067977499808,
          0.7236067977499808,
          0.7236067977499808,
          0.7236067977499808,
          0.7236067977499808,
          0.7236067977499808
         ],
         "yaxis": "y"
        },
        {
         "hovertemplate": "epoch=43<br>index=%{x}<br>lr=%{y}<extra></extra>",
         "legendgroup": "43",
         "marker": {
          "color": "#ab63fa",
          "symbol": "circle"
         },
         "mode": "markers",
         "name": "43",
         "orientation": "v",
         "showlegend": true,
         "type": "scatter",
         "x": [
          301,
          302,
          303,
          304,
          305,
          306,
          307
         ],
         "xaxis": "x",
         "y": [
          0.6351141009169909,
          0.6351141009169909,
          0.6351141009169909,
          0.6351141009169909,
          0.6351141009169909,
          0.6351141009169909,
          0.6351141009169909
         ],
         "yaxis": "y"
        },
        {
         "hovertemplate": "epoch=44<br>index=%{x}<br>lr=%{y}<extra></extra>",
         "legendgroup": "44",
         "marker": {
          "color": "#FFA15A",
          "symbol": "circle"
         },
         "mode": "markers",
         "name": "44",
         "orientation": "v",
         "showlegend": true,
         "type": "scatter",
         "x": [
          308,
          309,
          310,
          311,
          312,
          313,
          314
         ],
         "xaxis": "x",
         "y": [
          0.5236067977499811,
          0.5236067977499811,
          0.5236067977499811,
          0.5236067977499811,
          0.5236067977499811,
          0.5236067977499811,
          0.5236067977499811
         ],
         "yaxis": "y"
        },
        {
         "hovertemplate": "epoch=45<br>index=%{x}<br>lr=%{y}<extra></extra>",
         "legendgroup": "45",
         "marker": {
          "color": "#19d3f3",
          "symbol": "circle"
         },
         "mode": "markers",
         "name": "45",
         "orientation": "v",
         "showlegend": true,
         "type": "scatter",
         "x": [
          315,
          316,
          317,
          318,
          319,
          320,
          321
         ],
         "xaxis": "x",
         "y": [
          0.4000000000000011,
          0.4000000000000011,
          0.4000000000000011,
          0.4000000000000011,
          0.4000000000000011,
          0.4000000000000011,
          0.4000000000000011
         ],
         "yaxis": "y"
        },
        {
         "hovertemplate": "epoch=46<br>index=%{x}<br>lr=%{y}<extra></extra>",
         "legendgroup": "46",
         "marker": {
          "color": "#FF6692",
          "symbol": "circle"
         },
         "mode": "markers",
         "name": "46",
         "orientation": "v",
         "showlegend": true,
         "type": "scatter",
         "x": [
          322,
          323,
          324,
          325,
          326,
          327,
          328
         ],
         "xaxis": "x",
         "y": [
          0.27639320225002184,
          0.27639320225002184,
          0.27639320225002184,
          0.27639320225002184,
          0.27639320225002184,
          0.27639320225002184,
          0.27639320225002184
         ],
         "yaxis": "y"
        },
        {
         "hovertemplate": "epoch=47<br>index=%{x}<br>lr=%{y}<extra></extra>",
         "legendgroup": "47",
         "marker": {
          "color": "#B6E880",
          "symbol": "circle"
         },
         "mode": "markers",
         "name": "47",
         "orientation": "v",
         "showlegend": true,
         "type": "scatter",
         "x": [
          329,
          330,
          331,
          332,
          333,
          334,
          335
         ],
         "xaxis": "x",
         "y": [
          0.1648858990830107,
          0.1648858990830107,
          0.1648858990830107,
          0.1648858990830107,
          0.1648858990830107,
          0.1648858990830107,
          0.1648858990830107
         ],
         "yaxis": "y"
        },
        {
         "hovertemplate": "epoch=48<br>index=%{x}<br>lr=%{y}<extra></extra>",
         "legendgroup": "48",
         "marker": {
          "color": "#FF97FF",
          "symbol": "circle"
         },
         "mode": "markers",
         "name": "48",
         "orientation": "v",
         "showlegend": true,
         "type": "scatter",
         "x": [
          336,
          337,
          338,
          339,
          340,
          341,
          342
         ],
         "xaxis": "x",
         "y": [
          0.07639320225002133,
          0.07639320225002133,
          0.07639320225002133,
          0.07639320225002133,
          0.07639320225002133,
          0.07639320225002133,
          0.07639320225002133
         ],
         "yaxis": "y"
        },
        {
         "hovertemplate": "epoch=49<br>index=%{x}<br>lr=%{y}<extra></extra>",
         "legendgroup": "49",
         "marker": {
          "color": "#FECB52",
          "symbol": "circle"
         },
         "mode": "markers",
         "name": "49",
         "orientation": "v",
         "showlegend": true,
         "type": "scatter",
         "x": [
          343,
          344,
          345,
          346,
          347,
          348,
          349
         ],
         "xaxis": "x",
         "y": [
          0.0195773934819389,
          0.0195773934819389,
          0.0195773934819389,
          0.0195773934819389,
          0.0195773934819389,
          0.0195773934819389,
          0.0195773934819389
         ],
         "yaxis": "y"
        }
       ],
       "layout": {
        "legend": {
         "title": {
          "text": "epoch"
         },
         "tracegroupgap": 0
        },
        "margin": {
         "t": 60
        },
        "template": {
         "data": {
          "bar": [
           {
            "error_x": {
             "color": "#2a3f5f"
            },
            "error_y": {
             "color": "#2a3f5f"
            },
            "marker": {
             "line": {
              "color": "#E5ECF6",
              "width": 0.5
             },
             "pattern": {
              "fillmode": "overlay",
              "size": 10,
              "solidity": 0.2
             }
            },
            "type": "bar"
           }
          ],
          "barpolar": [
           {
            "marker": {
             "line": {
              "color": "#E5ECF6",
              "width": 0.5
             },
             "pattern": {
              "fillmode": "overlay",
              "size": 10,
              "solidity": 0.2
             }
            },
            "type": "barpolar"
           }
          ],
          "carpet": [
           {
            "aaxis": {
             "endlinecolor": "#2a3f5f",
             "gridcolor": "white",
             "linecolor": "white",
             "minorgridcolor": "white",
             "startlinecolor": "#2a3f5f"
            },
            "baxis": {
             "endlinecolor": "#2a3f5f",
             "gridcolor": "white",
             "linecolor": "white",
             "minorgridcolor": "white",
             "startlinecolor": "#2a3f5f"
            },
            "type": "carpet"
           }
          ],
          "choropleth": [
           {
            "colorbar": {
             "outlinewidth": 0,
             "ticks": ""
            },
            "type": "choropleth"
           }
          ],
          "contour": [
           {
            "colorbar": {
             "outlinewidth": 0,
             "ticks": ""
            },
            "colorscale": [
             [
              0,
              "#0d0887"
             ],
             [
              0.1111111111111111,
              "#46039f"
             ],
             [
              0.2222222222222222,
              "#7201a8"
             ],
             [
              0.3333333333333333,
              "#9c179e"
             ],
             [
              0.4444444444444444,
              "#bd3786"
             ],
             [
              0.5555555555555556,
              "#d8576b"
             ],
             [
              0.6666666666666666,
              "#ed7953"
             ],
             [
              0.7777777777777778,
              "#fb9f3a"
             ],
             [
              0.8888888888888888,
              "#fdca26"
             ],
             [
              1,
              "#f0f921"
             ]
            ],
            "type": "contour"
           }
          ],
          "contourcarpet": [
           {
            "colorbar": {
             "outlinewidth": 0,
             "ticks": ""
            },
            "type": "contourcarpet"
           }
          ],
          "heatmap": [
           {
            "colorbar": {
             "outlinewidth": 0,
             "ticks": ""
            },
            "colorscale": [
             [
              0,
              "#0d0887"
             ],
             [
              0.1111111111111111,
              "#46039f"
             ],
             [
              0.2222222222222222,
              "#7201a8"
             ],
             [
              0.3333333333333333,
              "#9c179e"
             ],
             [
              0.4444444444444444,
              "#bd3786"
             ],
             [
              0.5555555555555556,
              "#d8576b"
             ],
             [
              0.6666666666666666,
              "#ed7953"
             ],
             [
              0.7777777777777778,
              "#fb9f3a"
             ],
             [
              0.8888888888888888,
              "#fdca26"
             ],
             [
              1,
              "#f0f921"
             ]
            ],
            "type": "heatmap"
           }
          ],
          "heatmapgl": [
           {
            "colorbar": {
             "outlinewidth": 0,
             "ticks": ""
            },
            "colorscale": [
             [
              0,
              "#0d0887"
             ],
             [
              0.1111111111111111,
              "#46039f"
             ],
             [
              0.2222222222222222,
              "#7201a8"
             ],
             [
              0.3333333333333333,
              "#9c179e"
             ],
             [
              0.4444444444444444,
              "#bd3786"
             ],
             [
              0.5555555555555556,
              "#d8576b"
             ],
             [
              0.6666666666666666,
              "#ed7953"
             ],
             [
              0.7777777777777778,
              "#fb9f3a"
             ],
             [
              0.8888888888888888,
              "#fdca26"
             ],
             [
              1,
              "#f0f921"
             ]
            ],
            "type": "heatmapgl"
           }
          ],
          "histogram": [
           {
            "marker": {
             "pattern": {
              "fillmode": "overlay",
              "size": 10,
              "solidity": 0.2
             }
            },
            "type": "histogram"
           }
          ],
          "histogram2d": [
           {
            "colorbar": {
             "outlinewidth": 0,
             "ticks": ""
            },
            "colorscale": [
             [
              0,
              "#0d0887"
             ],
             [
              0.1111111111111111,
              "#46039f"
             ],
             [
              0.2222222222222222,
              "#7201a8"
             ],
             [
              0.3333333333333333,
              "#9c179e"
             ],
             [
              0.4444444444444444,
              "#bd3786"
             ],
             [
              0.5555555555555556,
              "#d8576b"
             ],
             [
              0.6666666666666666,
              "#ed7953"
             ],
             [
              0.7777777777777778,
              "#fb9f3a"
             ],
             [
              0.8888888888888888,
              "#fdca26"
             ],
             [
              1,
              "#f0f921"
             ]
            ],
            "type": "histogram2d"
           }
          ],
          "histogram2dcontour": [
           {
            "colorbar": {
             "outlinewidth": 0,
             "ticks": ""
            },
            "colorscale": [
             [
              0,
              "#0d0887"
             ],
             [
              0.1111111111111111,
              "#46039f"
             ],
             [
              0.2222222222222222,
              "#7201a8"
             ],
             [
              0.3333333333333333,
              "#9c179e"
             ],
             [
              0.4444444444444444,
              "#bd3786"
             ],
             [
              0.5555555555555556,
              "#d8576b"
             ],
             [
              0.6666666666666666,
              "#ed7953"
             ],
             [
              0.7777777777777778,
              "#fb9f3a"
             ],
             [
              0.8888888888888888,
              "#fdca26"
             ],
             [
              1,
              "#f0f921"
             ]
            ],
            "type": "histogram2dcontour"
           }
          ],
          "mesh3d": [
           {
            "colorbar": {
             "outlinewidth": 0,
             "ticks": ""
            },
            "type": "mesh3d"
           }
          ],
          "parcoords": [
           {
            "line": {
             "colorbar": {
              "outlinewidth": 0,
              "ticks": ""
             }
            },
            "type": "parcoords"
           }
          ],
          "pie": [
           {
            "automargin": true,
            "type": "pie"
           }
          ],
          "scatter": [
           {
            "fillpattern": {
             "fillmode": "overlay",
             "size": 10,
             "solidity": 0.2
            },
            "type": "scatter"
           }
          ],
          "scatter3d": [
           {
            "line": {
             "colorbar": {
              "outlinewidth": 0,
              "ticks": ""
             }
            },
            "marker": {
             "colorbar": {
              "outlinewidth": 0,
              "ticks": ""
             }
            },
            "type": "scatter3d"
           }
          ],
          "scattercarpet": [
           {
            "marker": {
             "colorbar": {
              "outlinewidth": 0,
              "ticks": ""
             }
            },
            "type": "scattercarpet"
           }
          ],
          "scattergeo": [
           {
            "marker": {
             "colorbar": {
              "outlinewidth": 0,
              "ticks": ""
             }
            },
            "type": "scattergeo"
           }
          ],
          "scattergl": [
           {
            "marker": {
             "colorbar": {
              "outlinewidth": 0,
              "ticks": ""
             }
            },
            "type": "scattergl"
           }
          ],
          "scattermapbox": [
           {
            "marker": {
             "colorbar": {
              "outlinewidth": 0,
              "ticks": ""
             }
            },
            "type": "scattermapbox"
           }
          ],
          "scatterpolar": [
           {
            "marker": {
             "colorbar": {
              "outlinewidth": 0,
              "ticks": ""
             }
            },
            "type": "scatterpolar"
           }
          ],
          "scatterpolargl": [
           {
            "marker": {
             "colorbar": {
              "outlinewidth": 0,
              "ticks": ""
             }
            },
            "type": "scatterpolargl"
           }
          ],
          "scatterternary": [
           {
            "marker": {
             "colorbar": {
              "outlinewidth": 0,
              "ticks": ""
             }
            },
            "type": "scatterternary"
           }
          ],
          "surface": [
           {
            "colorbar": {
             "outlinewidth": 0,
             "ticks": ""
            },
            "colorscale": [
             [
              0,
              "#0d0887"
             ],
             [
              0.1111111111111111,
              "#46039f"
             ],
             [
              0.2222222222222222,
              "#7201a8"
             ],
             [
              0.3333333333333333,
              "#9c179e"
             ],
             [
              0.4444444444444444,
              "#bd3786"
             ],
             [
              0.5555555555555556,
              "#d8576b"
             ],
             [
              0.6666666666666666,
              "#ed7953"
             ],
             [
              0.7777777777777778,
              "#fb9f3a"
             ],
             [
              0.8888888888888888,
              "#fdca26"
             ],
             [
              1,
              "#f0f921"
             ]
            ],
            "type": "surface"
           }
          ],
          "table": [
           {
            "cells": {
             "fill": {
              "color": "#EBF0F8"
             },
             "line": {
              "color": "white"
             }
            },
            "header": {
             "fill": {
              "color": "#C8D4E3"
             },
             "line": {
              "color": "white"
             }
            },
            "type": "table"
           }
          ]
         },
         "layout": {
          "annotationdefaults": {
           "arrowcolor": "#2a3f5f",
           "arrowhead": 0,
           "arrowwidth": 1
          },
          "autotypenumbers": "strict",
          "coloraxis": {
           "colorbar": {
            "outlinewidth": 0,
            "ticks": ""
           }
          },
          "colorscale": {
           "diverging": [
            [
             0,
             "#8e0152"
            ],
            [
             0.1,
             "#c51b7d"
            ],
            [
             0.2,
             "#de77ae"
            ],
            [
             0.3,
             "#f1b6da"
            ],
            [
             0.4,
             "#fde0ef"
            ],
            [
             0.5,
             "#f7f7f7"
            ],
            [
             0.6,
             "#e6f5d0"
            ],
            [
             0.7,
             "#b8e186"
            ],
            [
             0.8,
             "#7fbc41"
            ],
            [
             0.9,
             "#4d9221"
            ],
            [
             1,
             "#276419"
            ]
           ],
           "sequential": [
            [
             0,
             "#0d0887"
            ],
            [
             0.1111111111111111,
             "#46039f"
            ],
            [
             0.2222222222222222,
             "#7201a8"
            ],
            [
             0.3333333333333333,
             "#9c179e"
            ],
            [
             0.4444444444444444,
             "#bd3786"
            ],
            [
             0.5555555555555556,
             "#d8576b"
            ],
            [
             0.6666666666666666,
             "#ed7953"
            ],
            [
             0.7777777777777778,
             "#fb9f3a"
            ],
            [
             0.8888888888888888,
             "#fdca26"
            ],
            [
             1,
             "#f0f921"
            ]
           ],
           "sequentialminus": [
            [
             0,
             "#0d0887"
            ],
            [
             0.1111111111111111,
             "#46039f"
            ],
            [
             0.2222222222222222,
             "#7201a8"
            ],
            [
             0.3333333333333333,
             "#9c179e"
            ],
            [
             0.4444444444444444,
             "#bd3786"
            ],
            [
             0.5555555555555556,
             "#d8576b"
            ],
            [
             0.6666666666666666,
             "#ed7953"
            ],
            [
             0.7777777777777778,
             "#fb9f3a"
            ],
            [
             0.8888888888888888,
             "#fdca26"
            ],
            [
             1,
             "#f0f921"
            ]
           ]
          },
          "colorway": [
           "#636efa",
           "#EF553B",
           "#00cc96",
           "#ab63fa",
           "#FFA15A",
           "#19d3f3",
           "#FF6692",
           "#B6E880",
           "#FF97FF",
           "#FECB52"
          ],
          "font": {
           "color": "#2a3f5f"
          },
          "geo": {
           "bgcolor": "white",
           "lakecolor": "white",
           "landcolor": "#E5ECF6",
           "showlakes": true,
           "showland": true,
           "subunitcolor": "white"
          },
          "hoverlabel": {
           "align": "left"
          },
          "hovermode": "closest",
          "mapbox": {
           "style": "light"
          },
          "paper_bgcolor": "white",
          "plot_bgcolor": "#E5ECF6",
          "polar": {
           "angularaxis": {
            "gridcolor": "white",
            "linecolor": "white",
            "ticks": ""
           },
           "bgcolor": "#E5ECF6",
           "radialaxis": {
            "gridcolor": "white",
            "linecolor": "white",
            "ticks": ""
           }
          },
          "scene": {
           "xaxis": {
            "backgroundcolor": "#E5ECF6",
            "gridcolor": "white",
            "gridwidth": 2,
            "linecolor": "white",
            "showbackground": true,
            "ticks": "",
            "zerolinecolor": "white"
           },
           "yaxis": {
            "backgroundcolor": "#E5ECF6",
            "gridcolor": "white",
            "gridwidth": 2,
            "linecolor": "white",
            "showbackground": true,
            "ticks": "",
            "zerolinecolor": "white"
           },
           "zaxis": {
            "backgroundcolor": "#E5ECF6",
            "gridcolor": "white",
            "gridwidth": 2,
            "linecolor": "white",
            "showbackground": true,
            "ticks": "",
            "zerolinecolor": "white"
           }
          },
          "shapedefaults": {
           "line": {
            "color": "#2a3f5f"
           }
          },
          "ternary": {
           "aaxis": {
            "gridcolor": "white",
            "linecolor": "white",
            "ticks": ""
           },
           "baxis": {
            "gridcolor": "white",
            "linecolor": "white",
            "ticks": ""
           },
           "bgcolor": "#E5ECF6",
           "caxis": {
            "gridcolor": "white",
            "linecolor": "white",
            "ticks": ""
           }
          },
          "title": {
           "x": 0.05
          },
          "xaxis": {
           "automargin": true,
           "gridcolor": "white",
           "linecolor": "white",
           "ticks": "",
           "title": {
            "standoff": 15
           },
           "zerolinecolor": "white",
           "zerolinewidth": 2
          },
          "yaxis": {
           "automargin": true,
           "gridcolor": "white",
           "linecolor": "white",
           "ticks": "",
           "title": {
            "standoff": 15
           },
           "zerolinecolor": "white",
           "zerolinewidth": 2
          }
         }
        },
        "xaxis": {
         "anchor": "y",
         "domain": [
          0,
          1
         ],
         "title": {
          "text": "index"
         }
        },
        "yaxis": {
         "anchor": "x",
         "domain": [
          0,
          1
         ],
         "title": {
          "text": "lr"
         }
        }
       }
      }
     },
     "metadata": {},
     "output_type": "display_data"
    }
   ],
   "source": [
    "lrsched = partial(CosineAnnealingLR, eta_min=0, T_max=10)\n",
    "df = explore(lrsched, optim_lr=0.8)"
   ]
  },
  {
   "cell_type": "code",
   "execution_count": null,
   "id": "d3cc088b-d3e6-4f55-b733-da18a6824ef4",
   "metadata": {},
   "outputs": [],
   "source": []
  },
  {
   "cell_type": "markdown",
   "id": "7a2d2d11-cb9c-45b5-82da-0994ad276e90",
   "metadata": {},
   "source": [
    "## CosineAnnealingWarmRestart\n",
    "This is based on the [SGDR: Stochastic Gradient Descent with Warm Restarts](https://arxiv.org/abs/1608.03983) paper. \n",
    "\n",
    "### Warm Restarts\n",
    "First lets understand what are \"warm restarts\". Normally, we take a learning rate and slowly decrease it over the entire duration of the training run spanning multiple epochs. With warm restart, we \"restart\" the learning by suddenly increasing the learning rate to its initial high value, but without resetting the weights. E.g., we take the learning rate from 0.1 to 0.001 over 25 epochs, but then in the 21st epoch we bump it upto to 0.1 but don't mess with the weights. We end up training with this large learning rate on the trained weights.\n",
    "\n",
    "### Cosine Annealing\n",
    "Learning rate can be descreased using any function, but in the above paper, they used the cosine annealing function to bring the learning rate down but then it is bumped as before, in a single epoch."
   ]
  },
  {
   "cell_type": "code",
   "execution_count": 10,
   "id": "6542539a-e620-407d-b486-6a1eac38bd50",
   "metadata": {},
   "outputs": [
    {
     "data": {
      "application/vnd.plotly.v1+json": {
       "config": {
        "plotlyServerURL": "https://plot.ly"
       },
       "data": [
        {
         "hovertemplate": "epoch=0<br>index=%{x}<br>lr=%{y}<extra></extra>",
         "legendgroup": "0",
         "marker": {
          "color": "#636efa",
          "symbol": "circle"
         },
         "mode": "markers",
         "name": "0",
         "orientation": "v",
         "showlegend": true,
         "type": "scatter",
         "x": [
          0,
          1,
          2,
          3,
          4,
          5,
          6
         ],
         "xaxis": "x",
         "y": [
          0.8,
          0.8,
          0.8,
          0.8,
          0.8,
          0.8,
          0.8
         ],
         "yaxis": "y"
        },
        {
         "hovertemplate": "epoch=1<br>index=%{x}<br>lr=%{y}<extra></extra>",
         "legendgroup": "1",
         "marker": {
          "color": "#EF553B",
          "symbol": "circle"
         },
         "mode": "markers",
         "name": "1",
         "orientation": "v",
         "showlegend": true,
         "type": "scatter",
         "x": [
          7,
          8,
          9,
          10,
          11,
          12,
          13
         ],
         "xaxis": "x",
         "y": [
          0.7950753362380552,
          0.7950753362380552,
          0.7950753362380552,
          0.7950753362380552,
          0.7950753362380552,
          0.7950753362380552,
          0.7950753362380552
         ],
         "yaxis": "y"
        },
        {
         "hovertemplate": "epoch=2<br>index=%{x}<br>lr=%{y}<extra></extra>",
         "legendgroup": "2",
         "marker": {
          "color": "#00cc96",
          "symbol": "circle"
         },
         "mode": "markers",
         "name": "2",
         "orientation": "v",
         "showlegend": true,
         "type": "scatter",
         "x": [
          14,
          15,
          16,
          17,
          18,
          19,
          20
         ],
         "xaxis": "x",
         "y": [
          0.7804226065180615,
          0.7804226065180615,
          0.7804226065180615,
          0.7804226065180615,
          0.7804226065180615,
          0.7804226065180615,
          0.7804226065180615
         ],
         "yaxis": "y"
        },
        {
         "hovertemplate": "epoch=3<br>index=%{x}<br>lr=%{y}<extra></extra>",
         "legendgroup": "3",
         "marker": {
          "color": "#ab63fa",
          "symbol": "circle"
         },
         "mode": "markers",
         "name": "3",
         "orientation": "v",
         "showlegend": true,
         "type": "scatter",
         "x": [
          21,
          22,
          23,
          24,
          25,
          26,
          27
         ],
         "xaxis": "x",
         "y": [
          0.7564026096753471,
          0.7564026096753471,
          0.7564026096753471,
          0.7564026096753471,
          0.7564026096753471,
          0.7564026096753471,
          0.7564026096753471
         ],
         "yaxis": "y"
        },
        {
         "hovertemplate": "epoch=4<br>index=%{x}<br>lr=%{y}<extra></extra>",
         "legendgroup": "4",
         "marker": {
          "color": "#FFA15A",
          "symbol": "circle"
         },
         "mode": "markers",
         "name": "4",
         "orientation": "v",
         "showlegend": true,
         "type": "scatter",
         "x": [
          28,
          29,
          30,
          31,
          32,
          33,
          34
         ],
         "xaxis": "x",
         "y": [
          0.723606797749979,
          0.723606797749979,
          0.723606797749979,
          0.723606797749979,
          0.723606797749979,
          0.723606797749979,
          0.723606797749979
         ],
         "yaxis": "y"
        },
        {
         "hovertemplate": "epoch=5<br>index=%{x}<br>lr=%{y}<extra></extra>",
         "legendgroup": "5",
         "marker": {
          "color": "#19d3f3",
          "symbol": "circle"
         },
         "mode": "markers",
         "name": "5",
         "orientation": "v",
         "showlegend": true,
         "type": "scatter",
         "x": [
          35,
          36,
          37,
          38,
          39,
          40,
          41
         ],
         "xaxis": "x",
         "y": [
          0.682842712474619,
          0.682842712474619,
          0.682842712474619,
          0.682842712474619,
          0.682842712474619,
          0.682842712474619,
          0.682842712474619
         ],
         "yaxis": "y"
        },
        {
         "hovertemplate": "epoch=6<br>index=%{x}<br>lr=%{y}<extra></extra>",
         "legendgroup": "6",
         "marker": {
          "color": "#FF6692",
          "symbol": "circle"
         },
         "mode": "markers",
         "name": "6",
         "orientation": "v",
         "showlegend": true,
         "type": "scatter",
         "x": [
          42,
          43,
          44,
          45,
          46,
          47,
          48
         ],
         "xaxis": "x",
         "y": [
          0.6351141009169893,
          0.6351141009169893,
          0.6351141009169893,
          0.6351141009169893,
          0.6351141009169893,
          0.6351141009169893,
          0.6351141009169893
         ],
         "yaxis": "y"
        },
        {
         "hovertemplate": "epoch=7<br>index=%{x}<br>lr=%{y}<extra></extra>",
         "legendgroup": "7",
         "marker": {
          "color": "#B6E880",
          "symbol": "circle"
         },
         "mode": "markers",
         "name": "7",
         "orientation": "v",
         "showlegend": true,
         "type": "scatter",
         "x": [
          49,
          50,
          51,
          52,
          53,
          54,
          55
         ],
         "xaxis": "x",
         "y": [
          0.5815961998958187,
          0.5815961998958187,
          0.5815961998958187,
          0.5815961998958187,
          0.5815961998958187,
          0.5815961998958187,
          0.5815961998958187
         ],
         "yaxis": "y"
        },
        {
         "hovertemplate": "epoch=8<br>index=%{x}<br>lr=%{y}<extra></extra>",
         "legendgroup": "8",
         "marker": {
          "color": "#FF97FF",
          "symbol": "circle"
         },
         "mode": "markers",
         "name": "8",
         "orientation": "v",
         "showlegend": true,
         "type": "scatter",
         "x": [
          56,
          57,
          58,
          59,
          60,
          61,
          62
         ],
         "xaxis": "x",
         "y": [
          0.523606797749979,
          0.523606797749979,
          0.523606797749979,
          0.523606797749979,
          0.523606797749979,
          0.523606797749979,
          0.523606797749979
         ],
         "yaxis": "y"
        },
        {
         "hovertemplate": "epoch=9<br>index=%{x}<br>lr=%{y}<extra></extra>",
         "legendgroup": "9",
         "marker": {
          "color": "#FECB52",
          "symbol": "circle"
         },
         "mode": "markers",
         "name": "9",
         "orientation": "v",
         "showlegend": true,
         "type": "scatter",
         "x": [
          63,
          64,
          65,
          66,
          67,
          68,
          69
         ],
         "xaxis": "x",
         "y": [
          0.4625737860160924,
          0.4625737860160924,
          0.4625737860160924,
          0.4625737860160924,
          0.4625737860160924,
          0.4625737860160924,
          0.4625737860160924
         ],
         "yaxis": "y"
        },
        {
         "hovertemplate": "epoch=10<br>index=%{x}<br>lr=%{y}<extra></extra>",
         "legendgroup": "10",
         "marker": {
          "color": "#636efa",
          "symbol": "circle"
         },
         "mode": "markers",
         "name": "10",
         "orientation": "v",
         "showlegend": true,
         "type": "scatter",
         "x": [
          70,
          71,
          72,
          73,
          74,
          75,
          76
         ],
         "xaxis": "x",
         "y": [
          0.4,
          0.4,
          0.4,
          0.4,
          0.4,
          0.4,
          0.4
         ],
         "yaxis": "y"
        },
        {
         "hovertemplate": "epoch=11<br>index=%{x}<br>lr=%{y}<extra></extra>",
         "legendgroup": "11",
         "marker": {
          "color": "#EF553B",
          "symbol": "circle"
         },
         "mode": "markers",
         "name": "11",
         "orientation": "v",
         "showlegend": true,
         "type": "scatter",
         "x": [
          77,
          78,
          79,
          80,
          81,
          82,
          83
         ],
         "xaxis": "x",
         "y": [
          0.33742621398390776,
          0.33742621398390776,
          0.33742621398390776,
          0.33742621398390776,
          0.33742621398390776,
          0.33742621398390776,
          0.33742621398390776
         ],
         "yaxis": "y"
        },
        {
         "hovertemplate": "epoch=12<br>index=%{x}<br>lr=%{y}<extra></extra>",
         "legendgroup": "12",
         "marker": {
          "color": "#00cc96",
          "symbol": "circle"
         },
         "mode": "markers",
         "name": "12",
         "orientation": "v",
         "showlegend": true,
         "type": "scatter",
         "x": [
          84,
          85,
          86,
          87,
          88,
          89,
          90
         ],
         "xaxis": "x",
         "y": [
          0.27639320225002106,
          0.27639320225002106,
          0.27639320225002106,
          0.27639320225002106,
          0.27639320225002106,
          0.27639320225002106,
          0.27639320225002106
         ],
         "yaxis": "y"
        },
        {
         "hovertemplate": "epoch=13<br>index=%{x}<br>lr=%{y}<extra></extra>",
         "legendgroup": "13",
         "marker": {
          "color": "#ab63fa",
          "symbol": "circle"
         },
         "mode": "markers",
         "name": "13",
         "orientation": "v",
         "showlegend": true,
         "type": "scatter",
         "x": [
          91,
          92,
          93,
          94,
          95,
          96,
          97
         ],
         "xaxis": "x",
         "y": [
          0.2184038001041813,
          0.2184038001041813,
          0.2184038001041813,
          0.2184038001041813,
          0.2184038001041813,
          0.2184038001041813,
          0.2184038001041813
         ],
         "yaxis": "y"
        },
        {
         "hovertemplate": "epoch=14<br>index=%{x}<br>lr=%{y}<extra></extra>",
         "legendgroup": "14",
         "marker": {
          "color": "#FFA15A",
          "symbol": "circle"
         },
         "mode": "markers",
         "name": "14",
         "orientation": "v",
         "showlegend": true,
         "type": "scatter",
         "x": [
          98,
          99,
          100,
          101,
          102,
          103,
          104
         ],
         "xaxis": "x",
         "y": [
          0.1648858990830108,
          0.1648858990830108,
          0.1648858990830108,
          0.1648858990830108,
          0.1648858990830108,
          0.1648858990830108,
          0.1648858990830108
         ],
         "yaxis": "y"
        },
        {
         "hovertemplate": "epoch=15<br>index=%{x}<br>lr=%{y}<extra></extra>",
         "legendgroup": "15",
         "marker": {
          "color": "#19d3f3",
          "symbol": "circle"
         },
         "mode": "markers",
         "name": "15",
         "orientation": "v",
         "showlegend": true,
         "type": "scatter",
         "x": [
          105,
          106,
          107,
          108,
          109,
          110,
          111
         ],
         "xaxis": "x",
         "y": [
          0.11715728752538102,
          0.11715728752538102,
          0.11715728752538102,
          0.11715728752538102,
          0.11715728752538102,
          0.11715728752538102,
          0.11715728752538102
         ],
         "yaxis": "y"
        },
        {
         "hovertemplate": "epoch=16<br>index=%{x}<br>lr=%{y}<extra></extra>",
         "legendgroup": "16",
         "marker": {
          "color": "#FF6692",
          "symbol": "circle"
         },
         "mode": "markers",
         "name": "16",
         "orientation": "v",
         "showlegend": true,
         "type": "scatter",
         "x": [
          112,
          113,
          114,
          115,
          116,
          117,
          118
         ],
         "xaxis": "x",
         "y": [
          0.07639320225002107,
          0.07639320225002107,
          0.07639320225002107,
          0.07639320225002107,
          0.07639320225002107,
          0.07639320225002107,
          0.07639320225002107
         ],
         "yaxis": "y"
        },
        {
         "hovertemplate": "epoch=17<br>index=%{x}<br>lr=%{y}<extra></extra>",
         "legendgroup": "17",
         "marker": {
          "color": "#B6E880",
          "symbol": "circle"
         },
         "mode": "markers",
         "name": "17",
         "orientation": "v",
         "showlegend": true,
         "type": "scatter",
         "x": [
          119,
          120,
          121,
          122,
          123,
          124,
          125
         ],
         "xaxis": "x",
         "y": [
          0.04359739032465289,
          0.04359739032465289,
          0.04359739032465289,
          0.04359739032465289,
          0.04359739032465289,
          0.04359739032465289,
          0.04359739032465289
         ],
         "yaxis": "y"
        },
        {
         "hovertemplate": "epoch=18<br>index=%{x}<br>lr=%{y}<extra></extra>",
         "legendgroup": "18",
         "marker": {
          "color": "#FF97FF",
          "symbol": "circle"
         },
         "mode": "markers",
         "name": "18",
         "orientation": "v",
         "showlegend": true,
         "type": "scatter",
         "x": [
          126,
          127,
          128,
          129,
          130,
          131,
          132
         ],
         "xaxis": "x",
         "y": [
          0.019577393481938588,
          0.019577393481938588,
          0.019577393481938588,
          0.019577393481938588,
          0.019577393481938588,
          0.019577393481938588,
          0.019577393481938588
         ],
         "yaxis": "y"
        },
        {
         "hovertemplate": "epoch=19<br>index=%{x}<br>lr=%{y}<extra></extra>",
         "legendgroup": "19",
         "marker": {
          "color": "#FECB52",
          "symbol": "circle"
         },
         "mode": "markers",
         "name": "19",
         "orientation": "v",
         "showlegend": true,
         "type": "scatter",
         "x": [
          133,
          134,
          135,
          136,
          137,
          138,
          139
         ],
         "xaxis": "x",
         "y": [
          0.004924663761944937,
          0.004924663761944937,
          0.004924663761944937,
          0.004924663761944937,
          0.004924663761944937,
          0.004924663761944937,
          0.004924663761944937
         ],
         "yaxis": "y"
        },
        {
         "hovertemplate": "epoch=20<br>index=%{x}<br>lr=%{y}<extra></extra>",
         "legendgroup": "20",
         "marker": {
          "color": "#636efa",
          "symbol": "circle"
         },
         "mode": "markers",
         "name": "20",
         "orientation": "v",
         "showlegend": true,
         "type": "scatter",
         "x": [
          140,
          141,
          142,
          143,
          144,
          145,
          146
         ],
         "xaxis": "x",
         "y": [
          0.8,
          0.8,
          0.8,
          0.8,
          0.8,
          0.8,
          0.8
         ],
         "yaxis": "y"
        },
        {
         "hovertemplate": "epoch=21<br>index=%{x}<br>lr=%{y}<extra></extra>",
         "legendgroup": "21",
         "marker": {
          "color": "#EF553B",
          "symbol": "circle"
         },
         "mode": "markers",
         "name": "21",
         "orientation": "v",
         "showlegend": true,
         "type": "scatter",
         "x": [
          147,
          148,
          149,
          150,
          151,
          152,
          153
         ],
         "xaxis": "x",
         "y": [
          0.7950753362380552,
          0.7950753362380552,
          0.7950753362380552,
          0.7950753362380552,
          0.7950753362380552,
          0.7950753362380552,
          0.7950753362380552
         ],
         "yaxis": "y"
        },
        {
         "hovertemplate": "epoch=22<br>index=%{x}<br>lr=%{y}<extra></extra>",
         "legendgroup": "22",
         "marker": {
          "color": "#00cc96",
          "symbol": "circle"
         },
         "mode": "markers",
         "name": "22",
         "orientation": "v",
         "showlegend": true,
         "type": "scatter",
         "x": [
          154,
          155,
          156,
          157,
          158,
          159,
          160
         ],
         "xaxis": "x",
         "y": [
          0.7804226065180615,
          0.7804226065180615,
          0.7804226065180615,
          0.7804226065180615,
          0.7804226065180615,
          0.7804226065180615,
          0.7804226065180615
         ],
         "yaxis": "y"
        },
        {
         "hovertemplate": "epoch=23<br>index=%{x}<br>lr=%{y}<extra></extra>",
         "legendgroup": "23",
         "marker": {
          "color": "#ab63fa",
          "symbol": "circle"
         },
         "mode": "markers",
         "name": "23",
         "orientation": "v",
         "showlegend": true,
         "type": "scatter",
         "x": [
          161,
          162,
          163,
          164,
          165,
          166,
          167
         ],
         "xaxis": "x",
         "y": [
          0.7564026096753471,
          0.7564026096753471,
          0.7564026096753471,
          0.7564026096753471,
          0.7564026096753471,
          0.7564026096753471,
          0.7564026096753471
         ],
         "yaxis": "y"
        },
        {
         "hovertemplate": "epoch=24<br>index=%{x}<br>lr=%{y}<extra></extra>",
         "legendgroup": "24",
         "marker": {
          "color": "#FFA15A",
          "symbol": "circle"
         },
         "mode": "markers",
         "name": "24",
         "orientation": "v",
         "showlegend": true,
         "type": "scatter",
         "x": [
          168,
          169,
          170,
          171,
          172,
          173,
          174
         ],
         "xaxis": "x",
         "y": [
          0.723606797749979,
          0.723606797749979,
          0.723606797749979,
          0.723606797749979,
          0.723606797749979,
          0.723606797749979,
          0.723606797749979
         ],
         "yaxis": "y"
        },
        {
         "hovertemplate": "epoch=25<br>index=%{x}<br>lr=%{y}<extra></extra>",
         "legendgroup": "25",
         "marker": {
          "color": "#19d3f3",
          "symbol": "circle"
         },
         "mode": "markers",
         "name": "25",
         "orientation": "v",
         "showlegend": true,
         "type": "scatter",
         "x": [
          175,
          176,
          177,
          178,
          179,
          180,
          181
         ],
         "xaxis": "x",
         "y": [
          0.682842712474619,
          0.682842712474619,
          0.682842712474619,
          0.682842712474619,
          0.682842712474619,
          0.682842712474619,
          0.682842712474619
         ],
         "yaxis": "y"
        },
        {
         "hovertemplate": "epoch=26<br>index=%{x}<br>lr=%{y}<extra></extra>",
         "legendgroup": "26",
         "marker": {
          "color": "#FF6692",
          "symbol": "circle"
         },
         "mode": "markers",
         "name": "26",
         "orientation": "v",
         "showlegend": true,
         "type": "scatter",
         "x": [
          182,
          183,
          184,
          185,
          186,
          187,
          188
         ],
         "xaxis": "x",
         "y": [
          0.6351141009169893,
          0.6351141009169893,
          0.6351141009169893,
          0.6351141009169893,
          0.6351141009169893,
          0.6351141009169893,
          0.6351141009169893
         ],
         "yaxis": "y"
        },
        {
         "hovertemplate": "epoch=27<br>index=%{x}<br>lr=%{y}<extra></extra>",
         "legendgroup": "27",
         "marker": {
          "color": "#B6E880",
          "symbol": "circle"
         },
         "mode": "markers",
         "name": "27",
         "orientation": "v",
         "showlegend": true,
         "type": "scatter",
         "x": [
          189,
          190,
          191,
          192,
          193,
          194,
          195
         ],
         "xaxis": "x",
         "y": [
          0.5815961998958187,
          0.5815961998958187,
          0.5815961998958187,
          0.5815961998958187,
          0.5815961998958187,
          0.5815961998958187,
          0.5815961998958187
         ],
         "yaxis": "y"
        },
        {
         "hovertemplate": "epoch=28<br>index=%{x}<br>lr=%{y}<extra></extra>",
         "legendgroup": "28",
         "marker": {
          "color": "#FF97FF",
          "symbol": "circle"
         },
         "mode": "markers",
         "name": "28",
         "orientation": "v",
         "showlegend": true,
         "type": "scatter",
         "x": [
          196,
          197,
          198,
          199,
          200,
          201,
          202
         ],
         "xaxis": "x",
         "y": [
          0.523606797749979,
          0.523606797749979,
          0.523606797749979,
          0.523606797749979,
          0.523606797749979,
          0.523606797749979,
          0.523606797749979
         ],
         "yaxis": "y"
        },
        {
         "hovertemplate": "epoch=29<br>index=%{x}<br>lr=%{y}<extra></extra>",
         "legendgroup": "29",
         "marker": {
          "color": "#FECB52",
          "symbol": "circle"
         },
         "mode": "markers",
         "name": "29",
         "orientation": "v",
         "showlegend": true,
         "type": "scatter",
         "x": [
          203,
          204,
          205,
          206,
          207,
          208,
          209
         ],
         "xaxis": "x",
         "y": [
          0.4625737860160924,
          0.4625737860160924,
          0.4625737860160924,
          0.4625737860160924,
          0.4625737860160924,
          0.4625737860160924,
          0.4625737860160924
         ],
         "yaxis": "y"
        },
        {
         "hovertemplate": "epoch=30<br>index=%{x}<br>lr=%{y}<extra></extra>",
         "legendgroup": "30",
         "marker": {
          "color": "#636efa",
          "symbol": "circle"
         },
         "mode": "markers",
         "name": "30",
         "orientation": "v",
         "showlegend": true,
         "type": "scatter",
         "x": [
          210,
          211,
          212,
          213,
          214,
          215,
          216
         ],
         "xaxis": "x",
         "y": [
          0.4,
          0.4,
          0.4,
          0.4,
          0.4,
          0.4,
          0.4
         ],
         "yaxis": "y"
        },
        {
         "hovertemplate": "epoch=31<br>index=%{x}<br>lr=%{y}<extra></extra>",
         "legendgroup": "31",
         "marker": {
          "color": "#EF553B",
          "symbol": "circle"
         },
         "mode": "markers",
         "name": "31",
         "orientation": "v",
         "showlegend": true,
         "type": "scatter",
         "x": [
          217,
          218,
          219,
          220,
          221,
          222,
          223
         ],
         "xaxis": "x",
         "y": [
          0.33742621398390776,
          0.33742621398390776,
          0.33742621398390776,
          0.33742621398390776,
          0.33742621398390776,
          0.33742621398390776,
          0.33742621398390776
         ],
         "yaxis": "y"
        },
        {
         "hovertemplate": "epoch=32<br>index=%{x}<br>lr=%{y}<extra></extra>",
         "legendgroup": "32",
         "marker": {
          "color": "#00cc96",
          "symbol": "circle"
         },
         "mode": "markers",
         "name": "32",
         "orientation": "v",
         "showlegend": true,
         "type": "scatter",
         "x": [
          224,
          225,
          226,
          227,
          228,
          229,
          230
         ],
         "xaxis": "x",
         "y": [
          0.27639320225002106,
          0.27639320225002106,
          0.27639320225002106,
          0.27639320225002106,
          0.27639320225002106,
          0.27639320225002106,
          0.27639320225002106
         ],
         "yaxis": "y"
        },
        {
         "hovertemplate": "epoch=33<br>index=%{x}<br>lr=%{y}<extra></extra>",
         "legendgroup": "33",
         "marker": {
          "color": "#ab63fa",
          "symbol": "circle"
         },
         "mode": "markers",
         "name": "33",
         "orientation": "v",
         "showlegend": true,
         "type": "scatter",
         "x": [
          231,
          232,
          233,
          234,
          235,
          236,
          237
         ],
         "xaxis": "x",
         "y": [
          0.2184038001041813,
          0.2184038001041813,
          0.2184038001041813,
          0.2184038001041813,
          0.2184038001041813,
          0.2184038001041813,
          0.2184038001041813
         ],
         "yaxis": "y"
        },
        {
         "hovertemplate": "epoch=34<br>index=%{x}<br>lr=%{y}<extra></extra>",
         "legendgroup": "34",
         "marker": {
          "color": "#FFA15A",
          "symbol": "circle"
         },
         "mode": "markers",
         "name": "34",
         "orientation": "v",
         "showlegend": true,
         "type": "scatter",
         "x": [
          238,
          239,
          240,
          241,
          242,
          243,
          244
         ],
         "xaxis": "x",
         "y": [
          0.1648858990830108,
          0.1648858990830108,
          0.1648858990830108,
          0.1648858990830108,
          0.1648858990830108,
          0.1648858990830108,
          0.1648858990830108
         ],
         "yaxis": "y"
        },
        {
         "hovertemplate": "epoch=35<br>index=%{x}<br>lr=%{y}<extra></extra>",
         "legendgroup": "35",
         "marker": {
          "color": "#19d3f3",
          "symbol": "circle"
         },
         "mode": "markers",
         "name": "35",
         "orientation": "v",
         "showlegend": true,
         "type": "scatter",
         "x": [
          245,
          246,
          247,
          248,
          249,
          250,
          251
         ],
         "xaxis": "x",
         "y": [
          0.11715728752538102,
          0.11715728752538102,
          0.11715728752538102,
          0.11715728752538102,
          0.11715728752538102,
          0.11715728752538102,
          0.11715728752538102
         ],
         "yaxis": "y"
        },
        {
         "hovertemplate": "epoch=36<br>index=%{x}<br>lr=%{y}<extra></extra>",
         "legendgroup": "36",
         "marker": {
          "color": "#FF6692",
          "symbol": "circle"
         },
         "mode": "markers",
         "name": "36",
         "orientation": "v",
         "showlegend": true,
         "type": "scatter",
         "x": [
          252,
          253,
          254,
          255,
          256,
          257,
          258
         ],
         "xaxis": "x",
         "y": [
          0.07639320225002107,
          0.07639320225002107,
          0.07639320225002107,
          0.07639320225002107,
          0.07639320225002107,
          0.07639320225002107,
          0.07639320225002107
         ],
         "yaxis": "y"
        },
        {
         "hovertemplate": "epoch=37<br>index=%{x}<br>lr=%{y}<extra></extra>",
         "legendgroup": "37",
         "marker": {
          "color": "#B6E880",
          "symbol": "circle"
         },
         "mode": "markers",
         "name": "37",
         "orientation": "v",
         "showlegend": true,
         "type": "scatter",
         "x": [
          259,
          260,
          261,
          262,
          263,
          264,
          265
         ],
         "xaxis": "x",
         "y": [
          0.04359739032465289,
          0.04359739032465289,
          0.04359739032465289,
          0.04359739032465289,
          0.04359739032465289,
          0.04359739032465289,
          0.04359739032465289
         ],
         "yaxis": "y"
        },
        {
         "hovertemplate": "epoch=38<br>index=%{x}<br>lr=%{y}<extra></extra>",
         "legendgroup": "38",
         "marker": {
          "color": "#FF97FF",
          "symbol": "circle"
         },
         "mode": "markers",
         "name": "38",
         "orientation": "v",
         "showlegend": true,
         "type": "scatter",
         "x": [
          266,
          267,
          268,
          269,
          270,
          271,
          272
         ],
         "xaxis": "x",
         "y": [
          0.019577393481938588,
          0.019577393481938588,
          0.019577393481938588,
          0.019577393481938588,
          0.019577393481938588,
          0.019577393481938588,
          0.019577393481938588
         ],
         "yaxis": "y"
        },
        {
         "hovertemplate": "epoch=39<br>index=%{x}<br>lr=%{y}<extra></extra>",
         "legendgroup": "39",
         "marker": {
          "color": "#FECB52",
          "symbol": "circle"
         },
         "mode": "markers",
         "name": "39",
         "orientation": "v",
         "showlegend": true,
         "type": "scatter",
         "x": [
          273,
          274,
          275,
          276,
          277,
          278,
          279
         ],
         "xaxis": "x",
         "y": [
          0.004924663761944937,
          0.004924663761944937,
          0.004924663761944937,
          0.004924663761944937,
          0.004924663761944937,
          0.004924663761944937,
          0.004924663761944937
         ],
         "yaxis": "y"
        },
        {
         "hovertemplate": "epoch=40<br>index=%{x}<br>lr=%{y}<extra></extra>",
         "legendgroup": "40",
         "marker": {
          "color": "#636efa",
          "symbol": "circle"
         },
         "mode": "markers",
         "name": "40",
         "orientation": "v",
         "showlegend": true,
         "type": "scatter",
         "x": [
          280,
          281,
          282,
          283,
          284,
          285,
          286
         ],
         "xaxis": "x",
         "y": [
          0.8,
          0.8,
          0.8,
          0.8,
          0.8,
          0.8,
          0.8
         ],
         "yaxis": "y"
        },
        {
         "hovertemplate": "epoch=41<br>index=%{x}<br>lr=%{y}<extra></extra>",
         "legendgroup": "41",
         "marker": {
          "color": "#EF553B",
          "symbol": "circle"
         },
         "mode": "markers",
         "name": "41",
         "orientation": "v",
         "showlegend": true,
         "type": "scatter",
         "x": [
          287,
          288,
          289,
          290,
          291,
          292,
          293
         ],
         "xaxis": "x",
         "y": [
          0.7950753362380552,
          0.7950753362380552,
          0.7950753362380552,
          0.7950753362380552,
          0.7950753362380552,
          0.7950753362380552,
          0.7950753362380552
         ],
         "yaxis": "y"
        },
        {
         "hovertemplate": "epoch=42<br>index=%{x}<br>lr=%{y}<extra></extra>",
         "legendgroup": "42",
         "marker": {
          "color": "#00cc96",
          "symbol": "circle"
         },
         "mode": "markers",
         "name": "42",
         "orientation": "v",
         "showlegend": true,
         "type": "scatter",
         "x": [
          294,
          295,
          296,
          297,
          298,
          299,
          300
         ],
         "xaxis": "x",
         "y": [
          0.7804226065180615,
          0.7804226065180615,
          0.7804226065180615,
          0.7804226065180615,
          0.7804226065180615,
          0.7804226065180615,
          0.7804226065180615
         ],
         "yaxis": "y"
        },
        {
         "hovertemplate": "epoch=43<br>index=%{x}<br>lr=%{y}<extra></extra>",
         "legendgroup": "43",
         "marker": {
          "color": "#ab63fa",
          "symbol": "circle"
         },
         "mode": "markers",
         "name": "43",
         "orientation": "v",
         "showlegend": true,
         "type": "scatter",
         "x": [
          301,
          302,
          303,
          304,
          305,
          306,
          307
         ],
         "xaxis": "x",
         "y": [
          0.7564026096753471,
          0.7564026096753471,
          0.7564026096753471,
          0.7564026096753471,
          0.7564026096753471,
          0.7564026096753471,
          0.7564026096753471
         ],
         "yaxis": "y"
        },
        {
         "hovertemplate": "epoch=44<br>index=%{x}<br>lr=%{y}<extra></extra>",
         "legendgroup": "44",
         "marker": {
          "color": "#FFA15A",
          "symbol": "circle"
         },
         "mode": "markers",
         "name": "44",
         "orientation": "v",
         "showlegend": true,
         "type": "scatter",
         "x": [
          308,
          309,
          310,
          311,
          312,
          313,
          314
         ],
         "xaxis": "x",
         "y": [
          0.723606797749979,
          0.723606797749979,
          0.723606797749979,
          0.723606797749979,
          0.723606797749979,
          0.723606797749979,
          0.723606797749979
         ],
         "yaxis": "y"
        },
        {
         "hovertemplate": "epoch=45<br>index=%{x}<br>lr=%{y}<extra></extra>",
         "legendgroup": "45",
         "marker": {
          "color": "#19d3f3",
          "symbol": "circle"
         },
         "mode": "markers",
         "name": "45",
         "orientation": "v",
         "showlegend": true,
         "type": "scatter",
         "x": [
          315,
          316,
          317,
          318,
          319,
          320,
          321
         ],
         "xaxis": "x",
         "y": [
          0.682842712474619,
          0.682842712474619,
          0.682842712474619,
          0.682842712474619,
          0.682842712474619,
          0.682842712474619,
          0.682842712474619
         ],
         "yaxis": "y"
        },
        {
         "hovertemplate": "epoch=46<br>index=%{x}<br>lr=%{y}<extra></extra>",
         "legendgroup": "46",
         "marker": {
          "color": "#FF6692",
          "symbol": "circle"
         },
         "mode": "markers",
         "name": "46",
         "orientation": "v",
         "showlegend": true,
         "type": "scatter",
         "x": [
          322,
          323,
          324,
          325,
          326,
          327,
          328
         ],
         "xaxis": "x",
         "y": [
          0.6351141009169893,
          0.6351141009169893,
          0.6351141009169893,
          0.6351141009169893,
          0.6351141009169893,
          0.6351141009169893,
          0.6351141009169893
         ],
         "yaxis": "y"
        },
        {
         "hovertemplate": "epoch=47<br>index=%{x}<br>lr=%{y}<extra></extra>",
         "legendgroup": "47",
         "marker": {
          "color": "#B6E880",
          "symbol": "circle"
         },
         "mode": "markers",
         "name": "47",
         "orientation": "v",
         "showlegend": true,
         "type": "scatter",
         "x": [
          329,
          330,
          331,
          332,
          333,
          334,
          335
         ],
         "xaxis": "x",
         "y": [
          0.5815961998958187,
          0.5815961998958187,
          0.5815961998958187,
          0.5815961998958187,
          0.5815961998958187,
          0.5815961998958187,
          0.5815961998958187
         ],
         "yaxis": "y"
        },
        {
         "hovertemplate": "epoch=48<br>index=%{x}<br>lr=%{y}<extra></extra>",
         "legendgroup": "48",
         "marker": {
          "color": "#FF97FF",
          "symbol": "circle"
         },
         "mode": "markers",
         "name": "48",
         "orientation": "v",
         "showlegend": true,
         "type": "scatter",
         "x": [
          336,
          337,
          338,
          339,
          340,
          341,
          342
         ],
         "xaxis": "x",
         "y": [
          0.523606797749979,
          0.523606797749979,
          0.523606797749979,
          0.523606797749979,
          0.523606797749979,
          0.523606797749979,
          0.523606797749979
         ],
         "yaxis": "y"
        },
        {
         "hovertemplate": "epoch=49<br>index=%{x}<br>lr=%{y}<extra></extra>",
         "legendgroup": "49",
         "marker": {
          "color": "#FECB52",
          "symbol": "circle"
         },
         "mode": "markers",
         "name": "49",
         "orientation": "v",
         "showlegend": true,
         "type": "scatter",
         "x": [
          343,
          344,
          345,
          346,
          347,
          348,
          349
         ],
         "xaxis": "x",
         "y": [
          0.4625737860160924,
          0.4625737860160924,
          0.4625737860160924,
          0.4625737860160924,
          0.4625737860160924,
          0.4625737860160924,
          0.4625737860160924
         ],
         "yaxis": "y"
        }
       ],
       "layout": {
        "legend": {
         "title": {
          "text": "epoch"
         },
         "tracegroupgap": 0
        },
        "margin": {
         "t": 60
        },
        "template": {
         "data": {
          "bar": [
           {
            "error_x": {
             "color": "#2a3f5f"
            },
            "error_y": {
             "color": "#2a3f5f"
            },
            "marker": {
             "line": {
              "color": "#E5ECF6",
              "width": 0.5
             },
             "pattern": {
              "fillmode": "overlay",
              "size": 10,
              "solidity": 0.2
             }
            },
            "type": "bar"
           }
          ],
          "barpolar": [
           {
            "marker": {
             "line": {
              "color": "#E5ECF6",
              "width": 0.5
             },
             "pattern": {
              "fillmode": "overlay",
              "size": 10,
              "solidity": 0.2
             }
            },
            "type": "barpolar"
           }
          ],
          "carpet": [
           {
            "aaxis": {
             "endlinecolor": "#2a3f5f",
             "gridcolor": "white",
             "linecolor": "white",
             "minorgridcolor": "white",
             "startlinecolor": "#2a3f5f"
            },
            "baxis": {
             "endlinecolor": "#2a3f5f",
             "gridcolor": "white",
             "linecolor": "white",
             "minorgridcolor": "white",
             "startlinecolor": "#2a3f5f"
            },
            "type": "carpet"
           }
          ],
          "choropleth": [
           {
            "colorbar": {
             "outlinewidth": 0,
             "ticks": ""
            },
            "type": "choropleth"
           }
          ],
          "contour": [
           {
            "colorbar": {
             "outlinewidth": 0,
             "ticks": ""
            },
            "colorscale": [
             [
              0,
              "#0d0887"
             ],
             [
              0.1111111111111111,
              "#46039f"
             ],
             [
              0.2222222222222222,
              "#7201a8"
             ],
             [
              0.3333333333333333,
              "#9c179e"
             ],
             [
              0.4444444444444444,
              "#bd3786"
             ],
             [
              0.5555555555555556,
              "#d8576b"
             ],
             [
              0.6666666666666666,
              "#ed7953"
             ],
             [
              0.7777777777777778,
              "#fb9f3a"
             ],
             [
              0.8888888888888888,
              "#fdca26"
             ],
             [
              1,
              "#f0f921"
             ]
            ],
            "type": "contour"
           }
          ],
          "contourcarpet": [
           {
            "colorbar": {
             "outlinewidth": 0,
             "ticks": ""
            },
            "type": "contourcarpet"
           }
          ],
          "heatmap": [
           {
            "colorbar": {
             "outlinewidth": 0,
             "ticks": ""
            },
            "colorscale": [
             [
              0,
              "#0d0887"
             ],
             [
              0.1111111111111111,
              "#46039f"
             ],
             [
              0.2222222222222222,
              "#7201a8"
             ],
             [
              0.3333333333333333,
              "#9c179e"
             ],
             [
              0.4444444444444444,
              "#bd3786"
             ],
             [
              0.5555555555555556,
              "#d8576b"
             ],
             [
              0.6666666666666666,
              "#ed7953"
             ],
             [
              0.7777777777777778,
              "#fb9f3a"
             ],
             [
              0.8888888888888888,
              "#fdca26"
             ],
             [
              1,
              "#f0f921"
             ]
            ],
            "type": "heatmap"
           }
          ],
          "heatmapgl": [
           {
            "colorbar": {
             "outlinewidth": 0,
             "ticks": ""
            },
            "colorscale": [
             [
              0,
              "#0d0887"
             ],
             [
              0.1111111111111111,
              "#46039f"
             ],
             [
              0.2222222222222222,
              "#7201a8"
             ],
             [
              0.3333333333333333,
              "#9c179e"
             ],
             [
              0.4444444444444444,
              "#bd3786"
             ],
             [
              0.5555555555555556,
              "#d8576b"
             ],
             [
              0.6666666666666666,
              "#ed7953"
             ],
             [
              0.7777777777777778,
              "#fb9f3a"
             ],
             [
              0.8888888888888888,
              "#fdca26"
             ],
             [
              1,
              "#f0f921"
             ]
            ],
            "type": "heatmapgl"
           }
          ],
          "histogram": [
           {
            "marker": {
             "pattern": {
              "fillmode": "overlay",
              "size": 10,
              "solidity": 0.2
             }
            },
            "type": "histogram"
           }
          ],
          "histogram2d": [
           {
            "colorbar": {
             "outlinewidth": 0,
             "ticks": ""
            },
            "colorscale": [
             [
              0,
              "#0d0887"
             ],
             [
              0.1111111111111111,
              "#46039f"
             ],
             [
              0.2222222222222222,
              "#7201a8"
             ],
             [
              0.3333333333333333,
              "#9c179e"
             ],
             [
              0.4444444444444444,
              "#bd3786"
             ],
             [
              0.5555555555555556,
              "#d8576b"
             ],
             [
              0.6666666666666666,
              "#ed7953"
             ],
             [
              0.7777777777777778,
              "#fb9f3a"
             ],
             [
              0.8888888888888888,
              "#fdca26"
             ],
             [
              1,
              "#f0f921"
             ]
            ],
            "type": "histogram2d"
           }
          ],
          "histogram2dcontour": [
           {
            "colorbar": {
             "outlinewidth": 0,
             "ticks": ""
            },
            "colorscale": [
             [
              0,
              "#0d0887"
             ],
             [
              0.1111111111111111,
              "#46039f"
             ],
             [
              0.2222222222222222,
              "#7201a8"
             ],
             [
              0.3333333333333333,
              "#9c179e"
             ],
             [
              0.4444444444444444,
              "#bd3786"
             ],
             [
              0.5555555555555556,
              "#d8576b"
             ],
             [
              0.6666666666666666,
              "#ed7953"
             ],
             [
              0.7777777777777778,
              "#fb9f3a"
             ],
             [
              0.8888888888888888,
              "#fdca26"
             ],
             [
              1,
              "#f0f921"
             ]
            ],
            "type": "histogram2dcontour"
           }
          ],
          "mesh3d": [
           {
            "colorbar": {
             "outlinewidth": 0,
             "ticks": ""
            },
            "type": "mesh3d"
           }
          ],
          "parcoords": [
           {
            "line": {
             "colorbar": {
              "outlinewidth": 0,
              "ticks": ""
             }
            },
            "type": "parcoords"
           }
          ],
          "pie": [
           {
            "automargin": true,
            "type": "pie"
           }
          ],
          "scatter": [
           {
            "fillpattern": {
             "fillmode": "overlay",
             "size": 10,
             "solidity": 0.2
            },
            "type": "scatter"
           }
          ],
          "scatter3d": [
           {
            "line": {
             "colorbar": {
              "outlinewidth": 0,
              "ticks": ""
             }
            },
            "marker": {
             "colorbar": {
              "outlinewidth": 0,
              "ticks": ""
             }
            },
            "type": "scatter3d"
           }
          ],
          "scattercarpet": [
           {
            "marker": {
             "colorbar": {
              "outlinewidth": 0,
              "ticks": ""
             }
            },
            "type": "scattercarpet"
           }
          ],
          "scattergeo": [
           {
            "marker": {
             "colorbar": {
              "outlinewidth": 0,
              "ticks": ""
             }
            },
            "type": "scattergeo"
           }
          ],
          "scattergl": [
           {
            "marker": {
             "colorbar": {
              "outlinewidth": 0,
              "ticks": ""
             }
            },
            "type": "scattergl"
           }
          ],
          "scattermapbox": [
           {
            "marker": {
             "colorbar": {
              "outlinewidth": 0,
              "ticks": ""
             }
            },
            "type": "scattermapbox"
           }
          ],
          "scatterpolar": [
           {
            "marker": {
             "colorbar": {
              "outlinewidth": 0,
              "ticks": ""
             }
            },
            "type": "scatterpolar"
           }
          ],
          "scatterpolargl": [
           {
            "marker": {
             "colorbar": {
              "outlinewidth": 0,
              "ticks": ""
             }
            },
            "type": "scatterpolargl"
           }
          ],
          "scatterternary": [
           {
            "marker": {
             "colorbar": {
              "outlinewidth": 0,
              "ticks": ""
             }
            },
            "type": "scatterternary"
           }
          ],
          "surface": [
           {
            "colorbar": {
             "outlinewidth": 0,
             "ticks": ""
            },
            "colorscale": [
             [
              0,
              "#0d0887"
             ],
             [
              0.1111111111111111,
              "#46039f"
             ],
             [
              0.2222222222222222,
              "#7201a8"
             ],
             [
              0.3333333333333333,
              "#9c179e"
             ],
             [
              0.4444444444444444,
              "#bd3786"
             ],
             [
              0.5555555555555556,
              "#d8576b"
             ],
             [
              0.6666666666666666,
              "#ed7953"
             ],
             [
              0.7777777777777778,
              "#fb9f3a"
             ],
             [
              0.8888888888888888,
              "#fdca26"
             ],
             [
              1,
              "#f0f921"
             ]
            ],
            "type": "surface"
           }
          ],
          "table": [
           {
            "cells": {
             "fill": {
              "color": "#EBF0F8"
             },
             "line": {
              "color": "white"
             }
            },
            "header": {
             "fill": {
              "color": "#C8D4E3"
             },
             "line": {
              "color": "white"
             }
            },
            "type": "table"
           }
          ]
         },
         "layout": {
          "annotationdefaults": {
           "arrowcolor": "#2a3f5f",
           "arrowhead": 0,
           "arrowwidth": 1
          },
          "autotypenumbers": "strict",
          "coloraxis": {
           "colorbar": {
            "outlinewidth": 0,
            "ticks": ""
           }
          },
          "colorscale": {
           "diverging": [
            [
             0,
             "#8e0152"
            ],
            [
             0.1,
             "#c51b7d"
            ],
            [
             0.2,
             "#de77ae"
            ],
            [
             0.3,
             "#f1b6da"
            ],
            [
             0.4,
             "#fde0ef"
            ],
            [
             0.5,
             "#f7f7f7"
            ],
            [
             0.6,
             "#e6f5d0"
            ],
            [
             0.7,
             "#b8e186"
            ],
            [
             0.8,
             "#7fbc41"
            ],
            [
             0.9,
             "#4d9221"
            ],
            [
             1,
             "#276419"
            ]
           ],
           "sequential": [
            [
             0,
             "#0d0887"
            ],
            [
             0.1111111111111111,
             "#46039f"
            ],
            [
             0.2222222222222222,
             "#7201a8"
            ],
            [
             0.3333333333333333,
             "#9c179e"
            ],
            [
             0.4444444444444444,
             "#bd3786"
            ],
            [
             0.5555555555555556,
             "#d8576b"
            ],
            [
             0.6666666666666666,
             "#ed7953"
            ],
            [
             0.7777777777777778,
             "#fb9f3a"
            ],
            [
             0.8888888888888888,
             "#fdca26"
            ],
            [
             1,
             "#f0f921"
            ]
           ],
           "sequentialminus": [
            [
             0,
             "#0d0887"
            ],
            [
             0.1111111111111111,
             "#46039f"
            ],
            [
             0.2222222222222222,
             "#7201a8"
            ],
            [
             0.3333333333333333,
             "#9c179e"
            ],
            [
             0.4444444444444444,
             "#bd3786"
            ],
            [
             0.5555555555555556,
             "#d8576b"
            ],
            [
             0.6666666666666666,
             "#ed7953"
            ],
            [
             0.7777777777777778,
             "#fb9f3a"
            ],
            [
             0.8888888888888888,
             "#fdca26"
            ],
            [
             1,
             "#f0f921"
            ]
           ]
          },
          "colorway": [
           "#636efa",
           "#EF553B",
           "#00cc96",
           "#ab63fa",
           "#FFA15A",
           "#19d3f3",
           "#FF6692",
           "#B6E880",
           "#FF97FF",
           "#FECB52"
          ],
          "font": {
           "color": "#2a3f5f"
          },
          "geo": {
           "bgcolor": "white",
           "lakecolor": "white",
           "landcolor": "#E5ECF6",
           "showlakes": true,
           "showland": true,
           "subunitcolor": "white"
          },
          "hoverlabel": {
           "align": "left"
          },
          "hovermode": "closest",
          "mapbox": {
           "style": "light"
          },
          "paper_bgcolor": "white",
          "plot_bgcolor": "#E5ECF6",
          "polar": {
           "angularaxis": {
            "gridcolor": "white",
            "linecolor": "white",
            "ticks": ""
           },
           "bgcolor": "#E5ECF6",
           "radialaxis": {
            "gridcolor": "white",
            "linecolor": "white",
            "ticks": ""
           }
          },
          "scene": {
           "xaxis": {
            "backgroundcolor": "#E5ECF6",
            "gridcolor": "white",
            "gridwidth": 2,
            "linecolor": "white",
            "showbackground": true,
            "ticks": "",
            "zerolinecolor": "white"
           },
           "yaxis": {
            "backgroundcolor": "#E5ECF6",
            "gridcolor": "white",
            "gridwidth": 2,
            "linecolor": "white",
            "showbackground": true,
            "ticks": "",
            "zerolinecolor": "white"
           },
           "zaxis": {
            "backgroundcolor": "#E5ECF6",
            "gridcolor": "white",
            "gridwidth": 2,
            "linecolor": "white",
            "showbackground": true,
            "ticks": "",
            "zerolinecolor": "white"
           }
          },
          "shapedefaults": {
           "line": {
            "color": "#2a3f5f"
           }
          },
          "ternary": {
           "aaxis": {
            "gridcolor": "white",
            "linecolor": "white",
            "ticks": ""
           },
           "baxis": {
            "gridcolor": "white",
            "linecolor": "white",
            "ticks": ""
           },
           "bgcolor": "#E5ECF6",
           "caxis": {
            "gridcolor": "white",
            "linecolor": "white",
            "ticks": ""
           }
          },
          "title": {
           "x": 0.05
          },
          "xaxis": {
           "automargin": true,
           "gridcolor": "white",
           "linecolor": "white",
           "ticks": "",
           "title": {
            "standoff": 15
           },
           "zerolinecolor": "white",
           "zerolinewidth": 2
          },
          "yaxis": {
           "automargin": true,
           "gridcolor": "white",
           "linecolor": "white",
           "ticks": "",
           "title": {
            "standoff": 15
           },
           "zerolinecolor": "white",
           "zerolinewidth": 2
          }
         }
        },
        "xaxis": {
         "anchor": "y",
         "domain": [
          0,
          1
         ],
         "title": {
          "text": "index"
         }
        },
        "yaxis": {
         "anchor": "x",
         "domain": [
          0,
          1
         ],
         "title": {
          "text": "lr"
         }
        }
       }
      }
     },
     "metadata": {},
     "output_type": "display_data"
    }
   ],
   "source": [
    "lrsched = partial(CosineAnnealingWarmRestarts, T_0=20, T_mult=1, eta_min=0)\n",
    "df = explore(lrsched, optim_lr=0.8)"
   ]
  },
  {
   "cell_type": "code",
   "execution_count": null,
   "id": "4b1bd109-fce1-46f9-b854-198d32065571",
   "metadata": {},
   "outputs": [],
   "source": []
  },
  {
   "cell_type": "markdown",
   "id": "07e5ef3a-e208-427d-9d79-5e4bc6c0ccfe",
   "metadata": {},
   "source": [
    "## CyclicLR\n",
    "Based on [Cyclical Learning Rates for Training Neural Networks](https://arxiv.org/abs/1506.01186)\n",
    "\n",
    "This scheduler is supposed to change on a step (i.e., training loop step **not** scheduler step a.k.a epoch) basis. The actual idea is quite simple - it varies the learning rate from `base_lr` to `max_lr` while completely disregarding the learning rate that the optimzer was configured with. There are three scaling modes - `traingular`, `triangular2`, and `exp_range`."
   ]
  },
  {
   "cell_type": "code",
   "execution_count": 11,
   "id": "c5c59ce0-daba-48c0-9ae1-0b4735a14ba2",
   "metadata": {},
   "outputs": [
    {
     "data": {
      "application/vnd.plotly.v1+json": {
       "config": {
        "plotlyServerURL": "https://plot.ly"
       },
       "data": [
        {
         "hovertemplate": "epoch=0<br>index=%{x}<br>lr=%{y}<extra></extra>",
         "legendgroup": "0",
         "marker": {
          "color": "#636efa",
          "symbol": "circle"
         },
         "mode": "markers",
         "name": "0",
         "orientation": "v",
         "showlegend": true,
         "type": "scatter",
         "x": [
          0,
          1,
          2,
          3,
          4,
          5,
          6
         ],
         "xaxis": "x",
         "y": [
          0.01,
          0.017899999999999833,
          0.025800000000000017,
          0.03369999999999985,
          0.04160000000000003,
          0.049499999999999864,
          0.05740000000000005
         ],
         "yaxis": "y"
        },
        {
         "hovertemplate": "epoch=1<br>index=%{x}<br>lr=%{y}<extra></extra>",
         "legendgroup": "1",
         "marker": {
          "color": "#EF553B",
          "symbol": "circle"
         },
         "mode": "markers",
         "name": "1",
         "orientation": "v",
         "showlegend": true,
         "type": "scatter",
         "x": [
          7,
          8,
          9,
          10,
          11,
          12,
          13
         ],
         "xaxis": "x",
         "y": [
          0.06529999999999987,
          0.07320000000000006,
          0.08109999999999988,
          0.08900000000000007,
          0.0968999999999999,
          0.10480000000000009,
          0.11269999999999991
         ],
         "yaxis": "y"
        },
        {
         "hovertemplate": "epoch=2<br>index=%{x}<br>lr=%{y}<extra></extra>",
         "legendgroup": "2",
         "marker": {
          "color": "#00cc96",
          "symbol": "circle"
         },
         "mode": "markers",
         "name": "2",
         "orientation": "v",
         "showlegend": true,
         "type": "scatter",
         "x": [
          14,
          15,
          16,
          17,
          18,
          19,
          20
         ],
         "xaxis": "x",
         "y": [
          0.1206000000000001,
          0.12849999999999995,
          0.13640000000000013,
          0.14429999999999996,
          0.15220000000000014,
          0.16009999999999996,
          0.16800000000000015
         ],
         "yaxis": "y"
        },
        {
         "hovertemplate": "epoch=3<br>index=%{x}<br>lr=%{y}<extra></extra>",
         "legendgroup": "3",
         "marker": {
          "color": "#ab63fa",
          "symbol": "circle"
         },
         "mode": "markers",
         "name": "3",
         "orientation": "v",
         "showlegend": true,
         "type": "scatter",
         "x": [
          21,
          22,
          23,
          24,
          25,
          26,
          27
         ],
         "xaxis": "x",
         "y": [
          0.1759,
          0.18380000000000016,
          0.1917,
          0.1996000000000002,
          0.20750000000000002,
          0.21539999999999984,
          0.22330000000000003
         ],
         "yaxis": "y"
        },
        {
         "hovertemplate": "epoch=4<br>index=%{x}<br>lr=%{y}<extra></extra>",
         "legendgroup": "4",
         "marker": {
          "color": "#FFA15A",
          "symbol": "circle"
         },
         "mode": "markers",
         "name": "4",
         "orientation": "v",
         "showlegend": true,
         "type": "scatter",
         "x": [
          28,
          29,
          30,
          31,
          32,
          33,
          34
         ],
         "xaxis": "x",
         "y": [
          0.2312000000000002,
          0.23910000000000003,
          0.2469999999999999,
          0.25490000000000007,
          0.26279999999999987,
          0.27070000000000005,
          0.2785999999999999
         ],
         "yaxis": "y"
        },
        {
         "hovertemplate": "epoch=5<br>index=%{x}<br>lr=%{y}<extra></extra>",
         "legendgroup": "5",
         "marker": {
          "color": "#19d3f3",
          "symbol": "circle"
         },
         "mode": "markers",
         "name": "5",
         "orientation": "v",
         "showlegend": true,
         "type": "scatter",
         "x": [
          35,
          36,
          37,
          38,
          39,
          40,
          41
         ],
         "xaxis": "x",
         "y": [
          0.2865000000000001,
          0.29439999999999994,
          0.3023000000000001,
          0.3101999999999999,
          0.3181000000000001,
          0.32599999999999996,
          0.33390000000000014
         ],
         "yaxis": "y"
        },
        {
         "hovertemplate": "epoch=6<br>index=%{x}<br>lr=%{y}<extra></extra>",
         "legendgroup": "6",
         "marker": {
          "color": "#FF6692",
          "symbol": "circle"
         },
         "mode": "markers",
         "name": "6",
         "orientation": "v",
         "showlegend": true,
         "type": "scatter",
         "x": [
          42,
          43,
          44,
          45,
          46,
          47,
          48
         ],
         "xaxis": "x",
         "y": [
          0.3418,
          0.3497000000000002,
          0.3576,
          0.36550000000000016,
          0.3734,
          0.3812999999999998,
          0.3892
         ],
         "yaxis": "y"
        },
        {
         "hovertemplate": "epoch=7<br>index=%{x}<br>lr=%{y}<extra></extra>",
         "legendgroup": "7",
         "marker": {
          "color": "#B6E880",
          "symbol": "circle"
         },
         "mode": "markers",
         "name": "7",
         "orientation": "v",
         "showlegend": true,
         "type": "scatter",
         "x": [
          49,
          50,
          51,
          52,
          53,
          54,
          55
         ],
         "xaxis": "x",
         "y": [
          0.3971000000000002,
          0.405,
          0.4128999999999999,
          0.42080000000000006,
          0.42870000000000025,
          0.43660000000000004,
          0.4444999999999999
         ],
         "yaxis": "y"
        },
        {
         "hovertemplate": "epoch=8<br>index=%{x}<br>lr=%{y}<extra></extra>",
         "legendgroup": "8",
         "marker": {
          "color": "#FF97FF",
          "symbol": "circle"
         },
         "mode": "markers",
         "name": "8",
         "orientation": "v",
         "showlegend": true,
         "type": "scatter",
         "x": [
          56,
          57,
          58,
          59,
          60,
          61,
          62
         ],
         "xaxis": "x",
         "y": [
          0.4524000000000001,
          0.4602999999999999,
          0.46820000000000006,
          0.4760999999999999,
          0.4840000000000001,
          0.49189999999999995,
          0.49980000000000013
         ],
         "yaxis": "y"
        },
        {
         "hovertemplate": "epoch=9<br>index=%{x}<br>lr=%{y}<extra></extra>",
         "legendgroup": "9",
         "marker": {
          "color": "#FECB52",
          "symbol": "circle"
         },
         "mode": "markers",
         "name": "9",
         "orientation": "v",
         "showlegend": true,
         "type": "scatter",
         "x": [
          63,
          64,
          65,
          66,
          67,
          68,
          69
         ],
         "xaxis": "x",
         "y": [
          0.5076999999999999,
          0.5156000000000002,
          0.5235,
          0.5314000000000001,
          0.5393,
          0.5472000000000001,
          0.5551
         ],
         "yaxis": "y"
        },
        {
         "hovertemplate": "epoch=10<br>index=%{x}<br>lr=%{y}<extra></extra>",
         "legendgroup": "10",
         "marker": {
          "color": "#636efa",
          "symbol": "circle"
         },
         "mode": "markers",
         "name": "10",
         "orientation": "v",
         "showlegend": true,
         "type": "scatter",
         "x": [
          70,
          71,
          72,
          73,
          74,
          75,
          76
         ],
         "xaxis": "x",
         "y": [
          0.5630000000000002,
          0.5709,
          0.5787999999999999,
          0.5867,
          0.5946000000000002,
          0.6025,
          0.6103999999999998
         ],
         "yaxis": "y"
        },
        {
         "hovertemplate": "epoch=11<br>index=%{x}<br>lr=%{y}<extra></extra>",
         "legendgroup": "11",
         "marker": {
          "color": "#EF553B",
          "symbol": "circle"
         },
         "mode": "markers",
         "name": "11",
         "orientation": "v",
         "showlegend": true,
         "type": "scatter",
         "x": [
          77,
          78,
          79,
          80,
          81,
          82,
          83
         ],
         "xaxis": "x",
         "y": [
          0.6183000000000001,
          0.6262000000000002,
          0.6341000000000001,
          0.6419999999999999,
          0.6499,
          0.6577999999999999,
          0.6657000000000001
         ],
         "yaxis": "y"
        },
        {
         "hovertemplate": "epoch=12<br>index=%{x}<br>lr=%{y}<extra></extra>",
         "legendgroup": "12",
         "marker": {
          "color": "#00cc96",
          "symbol": "circle"
         },
         "mode": "markers",
         "name": "12",
         "orientation": "v",
         "showlegend": true,
         "type": "scatter",
         "x": [
          84,
          85,
          86,
          87,
          88,
          89,
          90
         ],
         "xaxis": "x",
         "y": [
          0.6736,
          0.6815000000000001,
          0.6893999999999999,
          0.6973000000000001,
          0.7051999999999999,
          0.7131000000000002,
          0.721
         ],
         "yaxis": "y"
        },
        {
         "hovertemplate": "epoch=13<br>index=%{x}<br>lr=%{y}<extra></extra>",
         "legendgroup": "13",
         "marker": {
          "color": "#ab63fa",
          "symbol": "circle"
         },
         "mode": "markers",
         "name": "13",
         "orientation": "v",
         "showlegend": true,
         "type": "scatter",
         "x": [
          91,
          92,
          93,
          94,
          95,
          96,
          97
         ],
         "xaxis": "x",
         "y": [
          0.7289000000000001,
          0.7368,
          0.7447000000000001,
          0.7526,
          0.7605000000000002,
          0.7684,
          0.7762999999999999
         ],
         "yaxis": "y"
        },
        {
         "hovertemplate": "epoch=14<br>index=%{x}<br>lr=%{y}<extra></extra>",
         "legendgroup": "14",
         "marker": {
          "color": "#FFA15A",
          "symbol": "circle"
         },
         "mode": "markers",
         "name": "14",
         "orientation": "v",
         "showlegend": true,
         "type": "scatter",
         "x": [
          98,
          99,
          100,
          101,
          102,
          103,
          104
         ],
         "xaxis": "x",
         "y": [
          0.7842,
          0.7921000000000002,
          0.8,
          0.7921000000000002,
          0.7842,
          0.7762999999999999,
          0.7684
         ],
         "yaxis": "y"
        },
        {
         "hovertemplate": "epoch=15<br>index=%{x}<br>lr=%{y}<extra></extra>",
         "legendgroup": "15",
         "marker": {
          "color": "#19d3f3",
          "symbol": "circle"
         },
         "mode": "markers",
         "name": "15",
         "orientation": "v",
         "showlegend": true,
         "type": "scatter",
         "x": [
          105,
          106,
          107,
          108,
          109,
          110,
          111
         ],
         "xaxis": "x",
         "y": [
          0.7605000000000002,
          0.7526,
          0.7446999999999998,
          0.7368,
          0.7289000000000001,
          0.721,
          0.7130999999999997
         ],
         "yaxis": "y"
        },
        {
         "hovertemplate": "epoch=16<br>index=%{x}<br>lr=%{y}<extra></extra>",
         "legendgroup": "16",
         "marker": {
          "color": "#FF6692",
          "symbol": "circle"
         },
         "mode": "markers",
         "name": "16",
         "orientation": "v",
         "showlegend": true,
         "type": "scatter",
         "x": [
          112,
          113,
          114,
          115,
          116,
          117,
          118
         ],
         "xaxis": "x",
         "y": [
          0.7051999999999999,
          0.6973000000000001,
          0.6894000000000003,
          0.6815000000000001,
          0.6736,
          0.6657000000000001,
          0.6578000000000003
         ],
         "yaxis": "y"
        },
        {
         "hovertemplate": "epoch=17<br>index=%{x}<br>lr=%{y}<extra></extra>",
         "legendgroup": "17",
         "marker": {
          "color": "#B6E880",
          "symbol": "circle"
         },
         "mode": "markers",
         "name": "17",
         "orientation": "v",
         "showlegend": true,
         "type": "scatter",
         "x": [
          119,
          120,
          121,
          122,
          123,
          124,
          125
         ],
         "xaxis": "x",
         "y": [
          0.6499,
          0.6419999999999999,
          0.6341000000000001,
          0.6262000000000002,
          0.6183000000000001,
          0.6103999999999998,
          0.6025
         ],
         "yaxis": "y"
        },
        {
         "hovertemplate": "epoch=18<br>index=%{x}<br>lr=%{y}<extra></extra>",
         "legendgroup": "18",
         "marker": {
          "color": "#FF97FF",
          "symbol": "circle"
         },
         "mode": "markers",
         "name": "18",
         "orientation": "v",
         "showlegend": true,
         "type": "scatter",
         "x": [
          126,
          127,
          128,
          129,
          130,
          131,
          132
         ],
         "xaxis": "x",
         "y": [
          0.5946000000000002,
          0.5867,
          0.5787999999999999,
          0.5709,
          0.5630000000000002,
          0.5551,
          0.5471999999999998
         ],
         "yaxis": "y"
        },
        {
         "hovertemplate": "epoch=19<br>index=%{x}<br>lr=%{y}<extra></extra>",
         "legendgroup": "19",
         "marker": {
          "color": "#FECB52",
          "symbol": "circle"
         },
         "mode": "markers",
         "name": "19",
         "orientation": "v",
         "showlegend": true,
         "type": "scatter",
         "x": [
          133,
          134,
          135,
          136,
          137,
          138,
          139
         ],
         "xaxis": "x",
         "y": [
          0.5393,
          0.5314000000000001,
          0.5235,
          0.5155999999999997,
          0.5076999999999999,
          0.49980000000000013,
          0.4919000000000003
         ],
         "yaxis": "y"
        },
        {
         "hovertemplate": "epoch=20<br>index=%{x}<br>lr=%{y}<extra></extra>",
         "legendgroup": "20",
         "marker": {
          "color": "#636efa",
          "symbol": "circle"
         },
         "mode": "markers",
         "name": "20",
         "orientation": "v",
         "showlegend": true,
         "type": "scatter",
         "x": [
          140,
          141,
          142,
          143,
          144,
          145,
          146
         ],
         "xaxis": "x",
         "y": [
          0.4840000000000001,
          0.4760999999999999,
          0.46820000000000006,
          0.46030000000000026,
          0.4524000000000001,
          0.4444999999999999,
          0.43660000000000004
         ],
         "yaxis": "y"
        },
        {
         "hovertemplate": "epoch=21<br>index=%{x}<br>lr=%{y}<extra></extra>",
         "legendgroup": "21",
         "marker": {
          "color": "#EF553B",
          "symbol": "circle"
         },
         "mode": "markers",
         "name": "21",
         "orientation": "v",
         "showlegend": true,
         "type": "scatter",
         "x": [
          147,
          148,
          149,
          150,
          151,
          152,
          153
         ],
         "xaxis": "x",
         "y": [
          0.42870000000000025,
          0.42080000000000006,
          0.4128999999999999,
          0.405,
          0.3971000000000002,
          0.3892,
          0.3812999999999998
         ],
         "yaxis": "y"
        },
        {
         "hovertemplate": "epoch=22<br>index=%{x}<br>lr=%{y}<extra></extra>",
         "legendgroup": "22",
         "marker": {
          "color": "#00cc96",
          "symbol": "circle"
         },
         "mode": "markers",
         "name": "22",
         "orientation": "v",
         "showlegend": true,
         "type": "scatter",
         "x": [
          154,
          155,
          156,
          157,
          158,
          159,
          160
         ],
         "xaxis": "x",
         "y": [
          0.3734,
          0.36550000000000016,
          0.3576,
          0.3496999999999998,
          0.3418,
          0.33390000000000014,
          0.32599999999999996
         ],
         "yaxis": "y"
        },
        {
         "hovertemplate": "epoch=23<br>index=%{x}<br>lr=%{y}<extra></extra>",
         "legendgroup": "23",
         "marker": {
          "color": "#ab63fa",
          "symbol": "circle"
         },
         "mode": "markers",
         "name": "23",
         "orientation": "v",
         "showlegend": true,
         "type": "scatter",
         "x": [
          161,
          162,
          163,
          164,
          165,
          166,
          167
         ],
         "xaxis": "x",
         "y": [
          0.31809999999999977,
          0.3101999999999999,
          0.3023000000000001,
          0.2944000000000003,
          0.2865000000000001,
          0.2785999999999999,
          0.27070000000000005
         ],
         "yaxis": "y"
        },
        {
         "hovertemplate": "epoch=24<br>index=%{x}<br>lr=%{y}<extra></extra>",
         "legendgroup": "24",
         "marker": {
          "color": "#FFA15A",
          "symbol": "circle"
         },
         "mode": "markers",
         "name": "24",
         "orientation": "v",
         "showlegend": true,
         "type": "scatter",
         "x": [
          168,
          169,
          170,
          171,
          172,
          173,
          174
         ],
         "xaxis": "x",
         "y": [
          0.26280000000000026,
          0.25490000000000007,
          0.2469999999999999,
          0.23910000000000003,
          0.2312000000000002,
          0.22330000000000003,
          0.21539999999999984
         ],
         "yaxis": "y"
        },
        {
         "hovertemplate": "epoch=25<br>index=%{x}<br>lr=%{y}<extra></extra>",
         "legendgroup": "25",
         "marker": {
          "color": "#19d3f3",
          "symbol": "circle"
         },
         "mode": "markers",
         "name": "25",
         "orientation": "v",
         "showlegend": true,
         "type": "scatter",
         "x": [
          175,
          176,
          177,
          178,
          179,
          180,
          181
         ],
         "xaxis": "x",
         "y": [
          0.20750000000000002,
          0.1996000000000002,
          0.1917,
          0.18379999999999982,
          0.1759,
          0.16800000000000015,
          0.16009999999999996
         ],
         "yaxis": "y"
        },
        {
         "hovertemplate": "epoch=26<br>index=%{x}<br>lr=%{y}<extra></extra>",
         "legendgroup": "26",
         "marker": {
          "color": "#FF6692",
          "symbol": "circle"
         },
         "mode": "markers",
         "name": "26",
         "orientation": "v",
         "showlegend": true,
         "type": "scatter",
         "x": [
          182,
          183,
          184,
          185,
          186,
          187,
          188
         ],
         "xaxis": "x",
         "y": [
          0.15219999999999978,
          0.14429999999999996,
          0.13640000000000013,
          0.12849999999999995,
          0.12059999999999975,
          0.11269999999999991,
          0.10480000000000009
         ],
         "yaxis": "y"
        },
        {
         "hovertemplate": "epoch=27<br>index=%{x}<br>lr=%{y}<extra></extra>",
         "legendgroup": "27",
         "marker": {
          "color": "#B6E880",
          "symbol": "circle"
         },
         "mode": "markers",
         "name": "27",
         "orientation": "v",
         "showlegend": true,
         "type": "scatter",
         "x": [
          189,
          190,
          191,
          192,
          193,
          194,
          195
         ],
         "xaxis": "x",
         "y": [
          0.09690000000000025,
          0.08900000000000007,
          0.08109999999999988,
          0.07320000000000006,
          0.06530000000000022,
          0.05740000000000005,
          0.049499999999999864
         ],
         "yaxis": "y"
        },
        {
         "hovertemplate": "epoch=28<br>index=%{x}<br>lr=%{y}<extra></extra>",
         "legendgroup": "28",
         "marker": {
          "color": "#FF97FF",
          "symbol": "circle"
         },
         "mode": "markers",
         "name": "28",
         "orientation": "v",
         "showlegend": true,
         "type": "scatter",
         "x": [
          196,
          197,
          198,
          199,
          200,
          201,
          202
         ],
         "xaxis": "x",
         "y": [
          0.04160000000000003,
          0.033700000000000195,
          0.025800000000000017,
          0.017899999999999833,
          0.01,
          0.013949999999999917,
          0.017899999999999833
         ],
         "yaxis": "y"
        },
        {
         "hovertemplate": "epoch=29<br>index=%{x}<br>lr=%{y}<extra></extra>",
         "legendgroup": "29",
         "marker": {
          "color": "#FECB52",
          "symbol": "circle"
         },
         "mode": "markers",
         "name": "29",
         "orientation": "v",
         "showlegend": true,
         "type": "scatter",
         "x": [
          203,
          204,
          205,
          206,
          207,
          208,
          209
         ],
         "xaxis": "x",
         "y": [
          0.021849999999999748,
          0.025800000000000017,
          0.02974999999999993,
          0.033700000000000195,
          0.037650000000000114,
          0.04160000000000003,
          0.045549999999999945
         ],
         "yaxis": "y"
        },
        {
         "hovertemplate": "epoch=30<br>index=%{x}<br>lr=%{y}<extra></extra>",
         "legendgroup": "30",
         "marker": {
          "color": "#636efa",
          "symbol": "circle"
         },
         "mode": "markers",
         "name": "30",
         "orientation": "v",
         "showlegend": true,
         "type": "scatter",
         "x": [
          210,
          211,
          212,
          213,
          214,
          215,
          216
         ],
         "xaxis": "x",
         "y": [
          0.049499999999999864,
          0.05344999999999978,
          0.05740000000000005,
          0.06134999999999996,
          0.06530000000000022,
          0.06925000000000014,
          0.07320000000000006
         ],
         "yaxis": "y"
        },
        {
         "hovertemplate": "epoch=31<br>index=%{x}<br>lr=%{y}<extra></extra>",
         "legendgroup": "31",
         "marker": {
          "color": "#EF553B",
          "symbol": "circle"
         },
         "mode": "markers",
         "name": "31",
         "orientation": "v",
         "showlegend": true,
         "type": "scatter",
         "x": [
          217,
          218,
          219,
          220,
          221,
          222,
          223
         ],
         "xaxis": "x",
         "y": [
          0.07714999999999997,
          0.08109999999999988,
          0.0850499999999998,
          0.08900000000000007,
          0.09294999999999999,
          0.09690000000000025,
          0.10085000000000016
         ],
         "yaxis": "y"
        },
        {
         "hovertemplate": "epoch=32<br>index=%{x}<br>lr=%{y}<extra></extra>",
         "legendgroup": "32",
         "marker": {
          "color": "#00cc96",
          "symbol": "circle"
         },
         "mode": "markers",
         "name": "32",
         "orientation": "v",
         "showlegend": true,
         "type": "scatter",
         "x": [
          224,
          225,
          226,
          227,
          228,
          229,
          230
         ],
         "xaxis": "x",
         "y": [
          0.10480000000000009,
          0.10875,
          0.11269999999999991,
          0.11664999999999984,
          0.12059999999999975,
          0.12455000000000001,
          0.12849999999999995
         ],
         "yaxis": "y"
        },
        {
         "hovertemplate": "epoch=33<br>index=%{x}<br>lr=%{y}<extra></extra>",
         "legendgroup": "33",
         "marker": {
          "color": "#ab63fa",
          "symbol": "circle"
         },
         "mode": "markers",
         "name": "33",
         "orientation": "v",
         "showlegend": true,
         "type": "scatter",
         "x": [
          231,
          232,
          233,
          234,
          235,
          236,
          237
         ],
         "xaxis": "x",
         "y": [
          0.1324500000000002,
          0.13640000000000013,
          0.14035000000000003,
          0.14429999999999996,
          0.14824999999999988,
          0.15219999999999978,
          0.15615000000000007
         ],
         "yaxis": "y"
        },
        {
         "hovertemplate": "epoch=34<br>index=%{x}<br>lr=%{y}<extra></extra>",
         "legendgroup": "34",
         "marker": {
          "color": "#FFA15A",
          "symbol": "circle"
         },
         "mode": "markers",
         "name": "34",
         "orientation": "v",
         "showlegend": true,
         "type": "scatter",
         "x": [
          238,
          239,
          240,
          241,
          242,
          243,
          244
         ],
         "xaxis": "x",
         "y": [
          0.16009999999999996,
          0.16405000000000025,
          0.16800000000000015,
          0.17195000000000008,
          0.1759,
          0.1798499999999999,
          0.18379999999999982
         ],
         "yaxis": "y"
        },
        {
         "hovertemplate": "epoch=35<br>index=%{x}<br>lr=%{y}<extra></extra>",
         "legendgroup": "35",
         "marker": {
          "color": "#19d3f3",
          "symbol": "circle"
         },
         "mode": "markers",
         "name": "35",
         "orientation": "v",
         "showlegend": true,
         "type": "scatter",
         "x": [
          245,
          246,
          247,
          248,
          249,
          250,
          251
         ],
         "xaxis": "x",
         "y": [
          0.18775000000000008,
          0.1917,
          0.19565000000000027,
          0.1996000000000002,
          0.2035500000000001,
          0.20750000000000002,
          0.21144999999999994
         ],
         "yaxis": "y"
        },
        {
         "hovertemplate": "epoch=36<br>index=%{x}<br>lr=%{y}<extra></extra>",
         "legendgroup": "36",
         "marker": {
          "color": "#FF6692",
          "symbol": "circle"
         },
         "mode": "markers",
         "name": "36",
         "orientation": "v",
         "showlegend": true,
         "type": "scatter",
         "x": [
          252,
          253,
          254,
          255,
          256,
          257,
          258
         ],
         "xaxis": "x",
         "y": [
          0.21539999999999984,
          0.21934999999999977,
          0.22330000000000003,
          0.22724999999999995,
          0.2312000000000002,
          0.23515000000000014,
          0.23910000000000003
         ],
         "yaxis": "y"
        },
        {
         "hovertemplate": "epoch=37<br>index=%{x}<br>lr=%{y}<extra></extra>",
         "legendgroup": "37",
         "marker": {
          "color": "#B6E880",
          "symbol": "circle"
         },
         "mode": "markers",
         "name": "37",
         "orientation": "v",
         "showlegend": true,
         "type": "scatter",
         "x": [
          259,
          260,
          261,
          262,
          263,
          264,
          265
         ],
         "xaxis": "x",
         "y": [
          0.24304999999999996,
          0.2469999999999999,
          0.2509499999999998,
          0.25490000000000007,
          0.25884999999999997,
          0.26280000000000026,
          0.26675000000000015
         ],
         "yaxis": "y"
        },
        {
         "hovertemplate": "epoch=38<br>index=%{x}<br>lr=%{y}<extra></extra>",
         "legendgroup": "38",
         "marker": {
          "color": "#FF97FF",
          "symbol": "circle"
         },
         "mode": "markers",
         "name": "38",
         "orientation": "v",
         "showlegend": true,
         "type": "scatter",
         "x": [
          266,
          267,
          268,
          269,
          270,
          271,
          272
         ],
         "xaxis": "x",
         "y": [
          0.27070000000000005,
          0.27465,
          0.2785999999999999,
          0.2825499999999998,
          0.2865000000000001,
          0.29045,
          0.2944000000000003
         ],
         "yaxis": "y"
        },
        {
         "hovertemplate": "epoch=39<br>index=%{x}<br>lr=%{y}<extra></extra>",
         "legendgroup": "39",
         "marker": {
          "color": "#FECB52",
          "symbol": "circle"
         },
         "mode": "markers",
         "name": "39",
         "orientation": "v",
         "showlegend": true,
         "type": "scatter",
         "x": [
          273,
          274,
          275,
          276,
          277,
          278,
          279
         ],
         "xaxis": "x",
         "y": [
          0.29835000000000017,
          0.3023000000000001,
          0.30625,
          0.3101999999999999,
          0.3141499999999999,
          0.31809999999999977,
          0.32205000000000006
         ],
         "yaxis": "y"
        },
        {
         "hovertemplate": "epoch=40<br>index=%{x}<br>lr=%{y}<extra></extra>",
         "legendgroup": "40",
         "marker": {
          "color": "#636efa",
          "symbol": "circle"
         },
         "mode": "markers",
         "name": "40",
         "orientation": "v",
         "showlegend": true,
         "type": "scatter",
         "x": [
          280,
          281,
          282,
          283,
          284,
          285,
          286
         ],
         "xaxis": "x",
         "y": [
          0.32599999999999996,
          0.32995000000000024,
          0.33390000000000014,
          0.33785000000000004,
          0.3418,
          0.3457499999999999,
          0.3496999999999998
         ],
         "yaxis": "y"
        },
        {
         "hovertemplate": "epoch=41<br>index=%{x}<br>lr=%{y}<extra></extra>",
         "legendgroup": "41",
         "marker": {
          "color": "#EF553B",
          "symbol": "circle"
         },
         "mode": "markers",
         "name": "41",
         "orientation": "v",
         "showlegend": true,
         "type": "scatter",
         "x": [
          287,
          288,
          289,
          290,
          291,
          292,
          293
         ],
         "xaxis": "x",
         "y": [
          0.3536500000000001,
          0.3576,
          0.36155000000000026,
          0.36550000000000016,
          0.36945000000000006,
          0.3734,
          0.3773499999999999
         ],
         "yaxis": "y"
        },
        {
         "hovertemplate": "epoch=42<br>index=%{x}<br>lr=%{y}<extra></extra>",
         "legendgroup": "42",
         "marker": {
          "color": "#00cc96",
          "symbol": "circle"
         },
         "mode": "markers",
         "name": "42",
         "orientation": "v",
         "showlegend": true,
         "type": "scatter",
         "x": [
          294,
          295,
          296,
          297,
          298,
          299,
          300
         ],
         "xaxis": "x",
         "y": [
          0.3812999999999998,
          0.3852500000000001,
          0.3892,
          0.3931500000000003,
          0.3971000000000002,
          0.40105000000000013,
          0.405
         ],
         "yaxis": "y"
        },
        {
         "hovertemplate": "epoch=43<br>index=%{x}<br>lr=%{y}<extra></extra>",
         "legendgroup": "43",
         "marker": {
          "color": "#ab63fa",
          "symbol": "circle"
         },
         "mode": "markers",
         "name": "43",
         "orientation": "v",
         "showlegend": true,
         "type": "scatter",
         "x": [
          301,
          302,
          303,
          304,
          305,
          306,
          307
         ],
         "xaxis": "x",
         "y": [
          0.40105000000000013,
          0.3971000000000002,
          0.3931500000000003,
          0.3892,
          0.3852500000000001,
          0.3812999999999998,
          0.3773499999999999
         ],
         "yaxis": "y"
        },
        {
         "hovertemplate": "epoch=44<br>index=%{x}<br>lr=%{y}<extra></extra>",
         "legendgroup": "44",
         "marker": {
          "color": "#FFA15A",
          "symbol": "circle"
         },
         "mode": "markers",
         "name": "44",
         "orientation": "v",
         "showlegend": true,
         "type": "scatter",
         "x": [
          308,
          309,
          310,
          311,
          312,
          313,
          314
         ],
         "xaxis": "x",
         "y": [
          0.3734,
          0.36945000000000006,
          0.36550000000000016,
          0.36155000000000026,
          0.3576,
          0.3536500000000001,
          0.3496999999999998
         ],
         "yaxis": "y"
        },
        {
         "hovertemplate": "epoch=45<br>index=%{x}<br>lr=%{y}<extra></extra>",
         "legendgroup": "45",
         "marker": {
          "color": "#19d3f3",
          "symbol": "circle"
         },
         "mode": "markers",
         "name": "45",
         "orientation": "v",
         "showlegend": true,
         "type": "scatter",
         "x": [
          315,
          316,
          317,
          318,
          319,
          320,
          321
         ],
         "xaxis": "x",
         "y": [
          0.3457499999999999,
          0.3418,
          0.33785000000000004,
          0.33390000000000014,
          0.32995000000000024,
          0.32599999999999996,
          0.32205000000000006
         ],
         "yaxis": "y"
        },
        {
         "hovertemplate": "epoch=46<br>index=%{x}<br>lr=%{y}<extra></extra>",
         "legendgroup": "46",
         "marker": {
          "color": "#FF6692",
          "symbol": "circle"
         },
         "mode": "markers",
         "name": "46",
         "orientation": "v",
         "showlegend": true,
         "type": "scatter",
         "x": [
          322,
          323,
          324,
          325,
          326,
          327,
          328
         ],
         "xaxis": "x",
         "y": [
          0.31809999999999977,
          0.3141499999999999,
          0.3101999999999999,
          0.30625,
          0.3023000000000001,
          0.29835000000000017,
          0.2944000000000003
         ],
         "yaxis": "y"
        },
        {
         "hovertemplate": "epoch=47<br>index=%{x}<br>lr=%{y}<extra></extra>",
         "legendgroup": "47",
         "marker": {
          "color": "#B6E880",
          "symbol": "circle"
         },
         "mode": "markers",
         "name": "47",
         "orientation": "v",
         "showlegend": true,
         "type": "scatter",
         "x": [
          329,
          330,
          331,
          332,
          333,
          334,
          335
         ],
         "xaxis": "x",
         "y": [
          0.29045,
          0.2865000000000001,
          0.2825499999999998,
          0.2785999999999999,
          0.27465,
          0.27070000000000005,
          0.26675000000000015
         ],
         "yaxis": "y"
        },
        {
         "hovertemplate": "epoch=48<br>index=%{x}<br>lr=%{y}<extra></extra>",
         "legendgroup": "48",
         "marker": {
          "color": "#FF97FF",
          "symbol": "circle"
         },
         "mode": "markers",
         "name": "48",
         "orientation": "v",
         "showlegend": true,
         "type": "scatter",
         "x": [
          336,
          337,
          338,
          339,
          340,
          341,
          342
         ],
         "xaxis": "x",
         "y": [
          0.26280000000000026,
          0.25884999999999997,
          0.25490000000000007,
          0.2509499999999998,
          0.2469999999999999,
          0.24304999999999996,
          0.23910000000000003
         ],
         "yaxis": "y"
        },
        {
         "hovertemplate": "epoch=49<br>index=%{x}<br>lr=%{y}<extra></extra>",
         "legendgroup": "49",
         "marker": {
          "color": "#FECB52",
          "symbol": "circle"
         },
         "mode": "markers",
         "name": "49",
         "orientation": "v",
         "showlegend": true,
         "type": "scatter",
         "x": [
          343,
          344,
          345,
          346,
          347,
          348,
          349
         ],
         "xaxis": "x",
         "y": [
          0.23515000000000014,
          0.2312000000000002,
          0.22724999999999995,
          0.22330000000000003,
          0.21934999999999977,
          0.21539999999999984,
          0.21144999999999994
         ],
         "yaxis": "y"
        }
       ],
       "layout": {
        "legend": {
         "title": {
          "text": "epoch"
         },
         "tracegroupgap": 0
        },
        "margin": {
         "t": 60
        },
        "template": {
         "data": {
          "bar": [
           {
            "error_x": {
             "color": "#2a3f5f"
            },
            "error_y": {
             "color": "#2a3f5f"
            },
            "marker": {
             "line": {
              "color": "#E5ECF6",
              "width": 0.5
             },
             "pattern": {
              "fillmode": "overlay",
              "size": 10,
              "solidity": 0.2
             }
            },
            "type": "bar"
           }
          ],
          "barpolar": [
           {
            "marker": {
             "line": {
              "color": "#E5ECF6",
              "width": 0.5
             },
             "pattern": {
              "fillmode": "overlay",
              "size": 10,
              "solidity": 0.2
             }
            },
            "type": "barpolar"
           }
          ],
          "carpet": [
           {
            "aaxis": {
             "endlinecolor": "#2a3f5f",
             "gridcolor": "white",
             "linecolor": "white",
             "minorgridcolor": "white",
             "startlinecolor": "#2a3f5f"
            },
            "baxis": {
             "endlinecolor": "#2a3f5f",
             "gridcolor": "white",
             "linecolor": "white",
             "minorgridcolor": "white",
             "startlinecolor": "#2a3f5f"
            },
            "type": "carpet"
           }
          ],
          "choropleth": [
           {
            "colorbar": {
             "outlinewidth": 0,
             "ticks": ""
            },
            "type": "choropleth"
           }
          ],
          "contour": [
           {
            "colorbar": {
             "outlinewidth": 0,
             "ticks": ""
            },
            "colorscale": [
             [
              0,
              "#0d0887"
             ],
             [
              0.1111111111111111,
              "#46039f"
             ],
             [
              0.2222222222222222,
              "#7201a8"
             ],
             [
              0.3333333333333333,
              "#9c179e"
             ],
             [
              0.4444444444444444,
              "#bd3786"
             ],
             [
              0.5555555555555556,
              "#d8576b"
             ],
             [
              0.6666666666666666,
              "#ed7953"
             ],
             [
              0.7777777777777778,
              "#fb9f3a"
             ],
             [
              0.8888888888888888,
              "#fdca26"
             ],
             [
              1,
              "#f0f921"
             ]
            ],
            "type": "contour"
           }
          ],
          "contourcarpet": [
           {
            "colorbar": {
             "outlinewidth": 0,
             "ticks": ""
            },
            "type": "contourcarpet"
           }
          ],
          "heatmap": [
           {
            "colorbar": {
             "outlinewidth": 0,
             "ticks": ""
            },
            "colorscale": [
             [
              0,
              "#0d0887"
             ],
             [
              0.1111111111111111,
              "#46039f"
             ],
             [
              0.2222222222222222,
              "#7201a8"
             ],
             [
              0.3333333333333333,
              "#9c179e"
             ],
             [
              0.4444444444444444,
              "#bd3786"
             ],
             [
              0.5555555555555556,
              "#d8576b"
             ],
             [
              0.6666666666666666,
              "#ed7953"
             ],
             [
              0.7777777777777778,
              "#fb9f3a"
             ],
             [
              0.8888888888888888,
              "#fdca26"
             ],
             [
              1,
              "#f0f921"
             ]
            ],
            "type": "heatmap"
           }
          ],
          "heatmapgl": [
           {
            "colorbar": {
             "outlinewidth": 0,
             "ticks": ""
            },
            "colorscale": [
             [
              0,
              "#0d0887"
             ],
             [
              0.1111111111111111,
              "#46039f"
             ],
             [
              0.2222222222222222,
              "#7201a8"
             ],
             [
              0.3333333333333333,
              "#9c179e"
             ],
             [
              0.4444444444444444,
              "#bd3786"
             ],
             [
              0.5555555555555556,
              "#d8576b"
             ],
             [
              0.6666666666666666,
              "#ed7953"
             ],
             [
              0.7777777777777778,
              "#fb9f3a"
             ],
             [
              0.8888888888888888,
              "#fdca26"
             ],
             [
              1,
              "#f0f921"
             ]
            ],
            "type": "heatmapgl"
           }
          ],
          "histogram": [
           {
            "marker": {
             "pattern": {
              "fillmode": "overlay",
              "size": 10,
              "solidity": 0.2
             }
            },
            "type": "histogram"
           }
          ],
          "histogram2d": [
           {
            "colorbar": {
             "outlinewidth": 0,
             "ticks": ""
            },
            "colorscale": [
             [
              0,
              "#0d0887"
             ],
             [
              0.1111111111111111,
              "#46039f"
             ],
             [
              0.2222222222222222,
              "#7201a8"
             ],
             [
              0.3333333333333333,
              "#9c179e"
             ],
             [
              0.4444444444444444,
              "#bd3786"
             ],
             [
              0.5555555555555556,
              "#d8576b"
             ],
             [
              0.6666666666666666,
              "#ed7953"
             ],
             [
              0.7777777777777778,
              "#fb9f3a"
             ],
             [
              0.8888888888888888,
              "#fdca26"
             ],
             [
              1,
              "#f0f921"
             ]
            ],
            "type": "histogram2d"
           }
          ],
          "histogram2dcontour": [
           {
            "colorbar": {
             "outlinewidth": 0,
             "ticks": ""
            },
            "colorscale": [
             [
              0,
              "#0d0887"
             ],
             [
              0.1111111111111111,
              "#46039f"
             ],
             [
              0.2222222222222222,
              "#7201a8"
             ],
             [
              0.3333333333333333,
              "#9c179e"
             ],
             [
              0.4444444444444444,
              "#bd3786"
             ],
             [
              0.5555555555555556,
              "#d8576b"
             ],
             [
              0.6666666666666666,
              "#ed7953"
             ],
             [
              0.7777777777777778,
              "#fb9f3a"
             ],
             [
              0.8888888888888888,
              "#fdca26"
             ],
             [
              1,
              "#f0f921"
             ]
            ],
            "type": "histogram2dcontour"
           }
          ],
          "mesh3d": [
           {
            "colorbar": {
             "outlinewidth": 0,
             "ticks": ""
            },
            "type": "mesh3d"
           }
          ],
          "parcoords": [
           {
            "line": {
             "colorbar": {
              "outlinewidth": 0,
              "ticks": ""
             }
            },
            "type": "parcoords"
           }
          ],
          "pie": [
           {
            "automargin": true,
            "type": "pie"
           }
          ],
          "scatter": [
           {
            "fillpattern": {
             "fillmode": "overlay",
             "size": 10,
             "solidity": 0.2
            },
            "type": "scatter"
           }
          ],
          "scatter3d": [
           {
            "line": {
             "colorbar": {
              "outlinewidth": 0,
              "ticks": ""
             }
            },
            "marker": {
             "colorbar": {
              "outlinewidth": 0,
              "ticks": ""
             }
            },
            "type": "scatter3d"
           }
          ],
          "scattercarpet": [
           {
            "marker": {
             "colorbar": {
              "outlinewidth": 0,
              "ticks": ""
             }
            },
            "type": "scattercarpet"
           }
          ],
          "scattergeo": [
           {
            "marker": {
             "colorbar": {
              "outlinewidth": 0,
              "ticks": ""
             }
            },
            "type": "scattergeo"
           }
          ],
          "scattergl": [
           {
            "marker": {
             "colorbar": {
              "outlinewidth": 0,
              "ticks": ""
             }
            },
            "type": "scattergl"
           }
          ],
          "scattermapbox": [
           {
            "marker": {
             "colorbar": {
              "outlinewidth": 0,
              "ticks": ""
             }
            },
            "type": "scattermapbox"
           }
          ],
          "scatterpolar": [
           {
            "marker": {
             "colorbar": {
              "outlinewidth": 0,
              "ticks": ""
             }
            },
            "type": "scatterpolar"
           }
          ],
          "scatterpolargl": [
           {
            "marker": {
             "colorbar": {
              "outlinewidth": 0,
              "ticks": ""
             }
            },
            "type": "scatterpolargl"
           }
          ],
          "scatterternary": [
           {
            "marker": {
             "colorbar": {
              "outlinewidth": 0,
              "ticks": ""
             }
            },
            "type": "scatterternary"
           }
          ],
          "surface": [
           {
            "colorbar": {
             "outlinewidth": 0,
             "ticks": ""
            },
            "colorscale": [
             [
              0,
              "#0d0887"
             ],
             [
              0.1111111111111111,
              "#46039f"
             ],
             [
              0.2222222222222222,
              "#7201a8"
             ],
             [
              0.3333333333333333,
              "#9c179e"
             ],
             [
              0.4444444444444444,
              "#bd3786"
             ],
             [
              0.5555555555555556,
              "#d8576b"
             ],
             [
              0.6666666666666666,
              "#ed7953"
             ],
             [
              0.7777777777777778,
              "#fb9f3a"
             ],
             [
              0.8888888888888888,
              "#fdca26"
             ],
             [
              1,
              "#f0f921"
             ]
            ],
            "type": "surface"
           }
          ],
          "table": [
           {
            "cells": {
             "fill": {
              "color": "#EBF0F8"
             },
             "line": {
              "color": "white"
             }
            },
            "header": {
             "fill": {
              "color": "#C8D4E3"
             },
             "line": {
              "color": "white"
             }
            },
            "type": "table"
           }
          ]
         },
         "layout": {
          "annotationdefaults": {
           "arrowcolor": "#2a3f5f",
           "arrowhead": 0,
           "arrowwidth": 1
          },
          "autotypenumbers": "strict",
          "coloraxis": {
           "colorbar": {
            "outlinewidth": 0,
            "ticks": ""
           }
          },
          "colorscale": {
           "diverging": [
            [
             0,
             "#8e0152"
            ],
            [
             0.1,
             "#c51b7d"
            ],
            [
             0.2,
             "#de77ae"
            ],
            [
             0.3,
             "#f1b6da"
            ],
            [
             0.4,
             "#fde0ef"
            ],
            [
             0.5,
             "#f7f7f7"
            ],
            [
             0.6,
             "#e6f5d0"
            ],
            [
             0.7,
             "#b8e186"
            ],
            [
             0.8,
             "#7fbc41"
            ],
            [
             0.9,
             "#4d9221"
            ],
            [
             1,
             "#276419"
            ]
           ],
           "sequential": [
            [
             0,
             "#0d0887"
            ],
            [
             0.1111111111111111,
             "#46039f"
            ],
            [
             0.2222222222222222,
             "#7201a8"
            ],
            [
             0.3333333333333333,
             "#9c179e"
            ],
            [
             0.4444444444444444,
             "#bd3786"
            ],
            [
             0.5555555555555556,
             "#d8576b"
            ],
            [
             0.6666666666666666,
             "#ed7953"
            ],
            [
             0.7777777777777778,
             "#fb9f3a"
            ],
            [
             0.8888888888888888,
             "#fdca26"
            ],
            [
             1,
             "#f0f921"
            ]
           ],
           "sequentialminus": [
            [
             0,
             "#0d0887"
            ],
            [
             0.1111111111111111,
             "#46039f"
            ],
            [
             0.2222222222222222,
             "#7201a8"
            ],
            [
             0.3333333333333333,
             "#9c179e"
            ],
            [
             0.4444444444444444,
             "#bd3786"
            ],
            [
             0.5555555555555556,
             "#d8576b"
            ],
            [
             0.6666666666666666,
             "#ed7953"
            ],
            [
             0.7777777777777778,
             "#fb9f3a"
            ],
            [
             0.8888888888888888,
             "#fdca26"
            ],
            [
             1,
             "#f0f921"
            ]
           ]
          },
          "colorway": [
           "#636efa",
           "#EF553B",
           "#00cc96",
           "#ab63fa",
           "#FFA15A",
           "#19d3f3",
           "#FF6692",
           "#B6E880",
           "#FF97FF",
           "#FECB52"
          ],
          "font": {
           "color": "#2a3f5f"
          },
          "geo": {
           "bgcolor": "white",
           "lakecolor": "white",
           "landcolor": "#E5ECF6",
           "showlakes": true,
           "showland": true,
           "subunitcolor": "white"
          },
          "hoverlabel": {
           "align": "left"
          },
          "hovermode": "closest",
          "mapbox": {
           "style": "light"
          },
          "paper_bgcolor": "white",
          "plot_bgcolor": "#E5ECF6",
          "polar": {
           "angularaxis": {
            "gridcolor": "white",
            "linecolor": "white",
            "ticks": ""
           },
           "bgcolor": "#E5ECF6",
           "radialaxis": {
            "gridcolor": "white",
            "linecolor": "white",
            "ticks": ""
           }
          },
          "scene": {
           "xaxis": {
            "backgroundcolor": "#E5ECF6",
            "gridcolor": "white",
            "gridwidth": 2,
            "linecolor": "white",
            "showbackground": true,
            "ticks": "",
            "zerolinecolor": "white"
           },
           "yaxis": {
            "backgroundcolor": "#E5ECF6",
            "gridcolor": "white",
            "gridwidth": 2,
            "linecolor": "white",
            "showbackground": true,
            "ticks": "",
            "zerolinecolor": "white"
           },
           "zaxis": {
            "backgroundcolor": "#E5ECF6",
            "gridcolor": "white",
            "gridwidth": 2,
            "linecolor": "white",
            "showbackground": true,
            "ticks": "",
            "zerolinecolor": "white"
           }
          },
          "shapedefaults": {
           "line": {
            "color": "#2a3f5f"
           }
          },
          "ternary": {
           "aaxis": {
            "gridcolor": "white",
            "linecolor": "white",
            "ticks": ""
           },
           "baxis": {
            "gridcolor": "white",
            "linecolor": "white",
            "ticks": ""
           },
           "bgcolor": "#E5ECF6",
           "caxis": {
            "gridcolor": "white",
            "linecolor": "white",
            "ticks": ""
           }
          },
          "title": {
           "x": 0.05
          },
          "xaxis": {
           "automargin": true,
           "gridcolor": "white",
           "linecolor": "white",
           "ticks": "",
           "title": {
            "standoff": 15
           },
           "zerolinecolor": "white",
           "zerolinewidth": 2
          },
          "yaxis": {
           "automargin": true,
           "gridcolor": "white",
           "linecolor": "white",
           "ticks": "",
           "title": {
            "standoff": 15
           },
           "zerolinecolor": "white",
           "zerolinewidth": 2
          }
         }
        },
        "xaxis": {
         "anchor": "y",
         "domain": [
          0,
          1
         ],
         "title": {
          "text": "index"
         }
        },
        "yaxis": {
         "anchor": "x",
         "domain": [
          0,
          1
         ],
         "title": {
          "text": "lr"
         }
        }
       }
      }
     },
     "metadata": {},
     "output_type": "display_data"
    }
   ],
   "source": [
    "lrsched = partial(\n",
    "    CyclicLR, \n",
    "    base_lr=0.01,\n",
    "    max_lr=0.8,\n",
    "    step_size_up=100,\n",
    "    mode='triangular2',\n",
    ")\n",
    "df = explore(lrsched, n_epochs=50, steps_per_epoch=7, optim_lr=1., change_every_step=True)"
   ]
  },
  {
   "cell_type": "markdown",
   "id": "2cd33012-4285-4827-aa9d-d66a4592a5ae",
   "metadata": {},
   "source": [
    "## OneCycleLR\n",
    "Based on the [Super-Convergence: Very Fast Training of Neural Networks Using Large Learning Rates](https://arxiv.org/abs/1708.07120).\n",
    "\n",
    "The basic idea is that throughout the entire training run (across all the epochs) the learning rate goes through one cycle. At the very least I need to specify three things - \n",
    "  * The maximum learning rate the cycle should go through. This is usually the learning rate the optimizer is configured with.\n",
    "  * The total number of steps over which the cycle should last. This is given directly or the number of epochs and the number of steps per epoch are givne.\n",
    "  * The number of steps that the learning rate should be increasing. This is given as a percentage of the total cycle. After these many steps, the scheduler will start to ramp down the learning rate.\n"
   ]
  },
  {
   "cell_type": "code",
   "execution_count": 12,
   "id": "e5519f90-6a98-4c6d-97fe-db584bd66692",
   "metadata": {},
   "outputs": [
    {
     "data": {
      "application/vnd.plotly.v1+json": {
       "config": {
        "plotlyServerURL": "https://plot.ly"
       },
       "data": [
        {
         "hovertemplate": "epoch=0<br>index=%{x}<br>lr=%{y}<extra></extra>",
         "legendgroup": "0",
         "marker": {
          "color": "#636efa",
          "symbol": "circle"
         },
         "mode": "markers",
         "name": "0",
         "orientation": "v",
         "showlegend": true,
         "type": "scatter",
         "x": [
          0,
          1,
          2,
          3,
          4,
          5,
          6
         ],
         "xaxis": "x",
         "y": [
          0.03200000000000003,
          0.03217518675601916,
          0.03270058717824609,
          0.0335757218750371,
          0.034799792346347336,
          0.03637168171230687,
          0.038289955732296876
         ],
         "yaxis": "y"
        },
        {
         "hovertemplate": "epoch=1<br>index=%{x}<br>lr=%{y}<extra></extra>",
         "legendgroup": "1",
         "marker": {
          "color": "#EF553B",
          "symbol": "circle"
         },
         "mode": "markers",
         "name": "1",
         "orientation": "v",
         "showlegend": true,
         "type": "scatter",
         "x": [
          7,
          8,
          9,
          10,
          11,
          12,
          13
         ],
         "xaxis": "x",
         "y": [
          0.04055286411359482,
          0.043158342108396086,
          0.046104012397753746,
          0.04938718726071856,
          0.053004871026698264,
          0.05695376280880071,
          0.061230259515665963
         ],
         "yaxis": "y"
        },
        {
         "hovertemplate": "epoch=2<br>index=%{x}<br>lr=%{y}<extra></extra>",
         "legendgroup": "2",
         "marker": {
          "color": "#00cc96",
          "symbol": "circle"
         },
         "mode": "markers",
         "name": "2",
         "orientation": "v",
         "showlegend": true,
         "type": "scatter",
         "x": [
          14,
          15,
          16,
          17,
          18,
          19,
          20
         ],
         "xaxis": "x",
         "y": [
          0.0658304591390374,
          0.07075016431407655,
          0.07598488614916743,
          0.08152984832172205,
          0.0873799914362442,
          0.09352997764067916,
          0.09997419549683595
         ],
         "yaxis": "y"
        },
        {
         "hovertemplate": "epoch=3<br>index=%{x}<br>lr=%{y}<extra></extra>",
         "legendgroup": "3",
         "marker": {
          "color": "#ab63fa",
          "symbol": "circle"
         },
         "mode": "markers",
         "name": "3",
         "orientation": "v",
         "showlegend": true,
         "type": "scatter",
         "x": [
          21,
          22,
          23,
          24,
          25,
          26,
          27
         ],
         "xaxis": "x",
         "y": [
          0.10670676510043675,
          0.11372154344612484,
          0.1210121300325323,
          0.1285718727022972,
          0.1363938737116973,
          0.14447099602436586,
          0.1527958698233448
         ],
         "yaxis": "y"
        },
        {
         "hovertemplate": "epoch=4<br>index=%{x}<br>lr=%{y}<extra></extra>",
         "legendgroup": "4",
         "marker": {
          "color": "#FFA15A",
          "symbol": "circle"
         },
         "mode": "markers",
         "name": "4",
         "orientation": "v",
         "showlegend": true,
         "type": "scatter",
         "x": [
          28,
          29,
          30,
          31,
          32,
          33,
          34
         ],
         "xaxis": "x",
         "y": [
          0.16136089923553465,
          0.17015826926240463,
          0.17917995291063937,
          0.18841771851621758,
          0.1978631372552362,
          0.20750759083463222,
          0.21734227935577988
         ],
         "yaxis": "y"
        },
        {
         "hovertemplate": "epoch=5<br>index=%{x}<br>lr=%{y}<extra></extra>",
         "legendgroup": "5",
         "marker": {
          "color": "#19d3f3",
          "symbol": "circle"
         },
         "mode": "markers",
         "name": "5",
         "orientation": "v",
         "showlegend": true,
         "type": "scatter",
         "x": [
          35,
          36,
          37,
          38,
          39,
          40,
          41
         ],
         "xaxis": "x",
         "y": [
          0.22735822934379113,
          0.23754630193519288,
          0.24789720121650938,
          0.2584014827061414,
          0.2690495619718055,
          0.2798317233756664,
          0.29073812893918616
         ],
         "yaxis": "y"
        },
        {
         "hovertemplate": "epoch=6<br>index=%{x}<br>lr=%{y}<extra></extra>",
         "legendgroup": "6",
         "marker": {
          "color": "#FF6692",
          "symbol": "circle"
         },
         "mode": "markers",
         "name": "6",
         "orientation": "v",
         "showlegend": true,
         "type": "scatter",
         "x": [
          42,
          43,
          44,
          45,
          46,
          47,
          48
         ],
         "xaxis": "x",
         "y": [
          0.3017588273196021,
          0.3128837628898393,
          0.32410278491357786,
          0.3354056568070986,
          0.34678206547946017,
          0.3582216307424833,
          0.36971391478195603
         ],
         "yaxis": "y"
        },
        {
         "hovertemplate": "epoch=7<br>index=%{x}<br>lr=%{y}<extra></extra>",
         "legendgroup": "7",
         "marker": {
          "color": "#B6E880",
          "symbol": "circle"
         },
         "mode": "markers",
         "name": "7",
         "orientation": "v",
         "showlegend": true,
         "type": "scatter",
         "x": [
          49,
          50,
          51,
          52,
          53,
          54,
          55
         ],
         "xaxis": "x",
         "y": [
          0.3812484316814191,
          0.3928146569898422,
          0.4044020373244587,
          0.41600000000000004,
          0.4275979626755413,
          0.43918534301015794,
          0.45075156831858093
         ],
         "yaxis": "y"
        },
        {
         "hovertemplate": "epoch=8<br>index=%{x}<br>lr=%{y}<extra></extra>",
         "legendgroup": "8",
         "marker": {
          "color": "#FF97FF",
          "symbol": "circle"
         },
         "mode": "markers",
         "name": "8",
         "orientation": "v",
         "showlegend": true,
         "type": "scatter",
         "x": [
          56,
          57,
          58,
          59,
          60,
          61,
          62
         ],
         "xaxis": "x",
         "y": [
          0.46228608521804404,
          0.47377836925751676,
          0.48521793452053985,
          0.49659434319290147,
          0.507897215086422,
          0.5191162371101607,
          0.5302411726803979
         ],
         "yaxis": "y"
        },
        {
         "hovertemplate": "epoch=9<br>index=%{x}<br>lr=%{y}<extra></extra>",
         "legendgroup": "9",
         "marker": {
          "color": "#FECB52",
          "symbol": "circle"
         },
         "mode": "markers",
         "name": "9",
         "orientation": "v",
         "showlegend": true,
         "type": "scatter",
         "x": [
          63,
          64,
          65,
          66,
          67,
          68,
          69
         ],
         "xaxis": "x",
         "y": [
          0.5412618710608137,
          0.5521682766243338,
          0.5629504380281944,
          0.5735985172938586,
          0.5841027987834908,
          0.5944536980648072,
          0.6046417706562089
         ],
         "yaxis": "y"
        },
        {
         "hovertemplate": "epoch=10<br>index=%{x}<br>lr=%{y}<extra></extra>",
         "legendgroup": "10",
         "marker": {
          "color": "#636efa",
          "symbol": "circle"
         },
         "mode": "markers",
         "name": "10",
         "orientation": "v",
         "showlegend": true,
         "type": "scatter",
         "x": [
          70,
          71,
          72,
          73,
          74,
          75,
          76
         ],
         "xaxis": "x",
         "y": [
          0.6146577206442203,
          0.6244924091653679,
          0.6341368627447639,
          0.6435822814837824,
          0.6528200470893606,
          0.6618417307375954,
          0.6706391007644653
         ],
         "yaxis": "y"
        },
        {
         "hovertemplate": "epoch=11<br>index=%{x}<br>lr=%{y}<extra></extra>",
         "legendgroup": "11",
         "marker": {
          "color": "#EF553B",
          "symbol": "circle"
         },
         "mode": "markers",
         "name": "11",
         "orientation": "v",
         "showlegend": true,
         "type": "scatter",
         "x": [
          77,
          78,
          79,
          80,
          81,
          82,
          83
         ],
         "xaxis": "x",
         "y": [
          0.6792041301766554,
          0.6875290039756343,
          0.6956061262883028,
          0.7034281272977029,
          0.7109878699674678,
          0.7182784565538752,
          0.7252932348995633
         ],
         "yaxis": "y"
        },
        {
         "hovertemplate": "epoch=12<br>index=%{x}<br>lr=%{y}<extra></extra>",
         "legendgroup": "12",
         "marker": {
          "color": "#00cc96",
          "symbol": "circle"
         },
         "mode": "markers",
         "name": "12",
         "orientation": "v",
         "showlegend": true,
         "type": "scatter",
         "x": [
          84,
          85,
          86,
          87,
          88,
          89,
          90
         ],
         "xaxis": "x",
         "y": [
          0.7320258045031641,
          0.7384700223593208,
          0.7446200085637559,
          0.750470151678278,
          0.7560151138508326,
          0.7612498356859235,
          0.7661695408609627
         ],
         "yaxis": "y"
        },
        {
         "hovertemplate": "epoch=13<br>index=%{x}<br>lr=%{y}<extra></extra>",
         "legendgroup": "13",
         "marker": {
          "color": "#ab63fa",
          "symbol": "circle"
         },
         "mode": "markers",
         "name": "13",
         "orientation": "v",
         "showlegend": true,
         "type": "scatter",
         "x": [
          91,
          92,
          93,
          94,
          95,
          96,
          97
         ],
         "xaxis": "x",
         "y": [
          0.7707697404843341,
          0.7750462371911992,
          0.7789951289733019,
          0.7826128127392815,
          0.7858959876022463,
          0.788841657891604,
          0.7914471358864053
         ],
         "yaxis": "y"
        },
        {
         "hovertemplate": "epoch=14<br>index=%{x}<br>lr=%{y}<extra></extra>",
         "legendgroup": "14",
         "marker": {
          "color": "#FFA15A",
          "symbol": "circle"
         },
         "mode": "markers",
         "name": "14",
         "orientation": "v",
         "showlegend": true,
         "type": "scatter",
         "x": [
          98,
          99,
          100,
          101,
          102,
          103,
          104
         ],
         "xaxis": "x",
         "y": [
          0.7937100442677032,
          0.7956283182876932,
          0.7972002076536527,
          0.798424278124963,
          0.799299412821754,
          0.7998248132439809,
          0.8
         ],
         "yaxis": "y"
        },
        {
         "hovertemplate": "epoch=15<br>index=%{x}<br>lr=%{y}<extra></extra>",
         "legendgroup": "15",
         "marker": {
          "color": "#19d3f3",
          "symbol": "circle"
         },
         "mode": "markers",
         "name": "15",
         "orientation": "v",
         "showlegend": true,
         "type": "scatter",
         "x": [
          105,
          106,
          107,
          108,
          109,
          110,
          111
         ],
         "xaxis": "x",
         "y": [
          0.7999671156028658,
          0.7998684678184028,
          0.7997040728665403,
          0.799473957777531,
          0.7991781603875062,
          0.7988167293322543,
          0.7983897240392254
         ],
         "yaxis": "y"
        },
        {
         "hovertemplate": "epoch=16<br>index=%{x}<br>lr=%{y}<extra></extra>",
         "legendgroup": "16",
         "marker": {
          "color": "#FF6692",
          "symbol": "circle"
         },
         "mode": "markers",
         "name": "16",
         "orientation": "v",
         "showlegend": true,
         "type": "scatter",
         "x": [
          112,
          113,
          114,
          115,
          116,
          117,
          118
         ],
         "xaxis": "x",
         "y": [
          0.7978972147177578,
          0.7973392823475365,
          0.7967160186652763,
          0.7960275261496398,
          0.795273918004386,
          0.7944553181397581,
          0.7935718611521102
         ],
         "yaxis": "y"
        },
        {
         "hovertemplate": "epoch=17<br>index=%{x}<br>lr=%{y}<extra></extra>",
         "legendgroup": "17",
         "marker": {
          "color": "#B6E880",
          "symbol": "circle"
         },
         "mode": "markers",
         "name": "17",
         "orientation": "v",
         "showlegend": true,
         "type": "scatter",
         "x": [
          119,
          120,
          121,
          122,
          123,
          124,
          125
         ],
         "xaxis": "x",
         "y": [
          0.792623692301775,
          0.7916109674891815,
          0.7905338532292202,
          0.7893925266238652,
          0.7881871753330536,
          0.786917997543831,
          0.7855852019377643
         ],
         "yaxis": "y"
        },
        {
         "hovertemplate": "epoch=18<br>index=%{x}<br>lr=%{y}<extra></extra>",
         "legendgroup": "18",
         "marker": {
          "color": "#FF97FF",
          "symbol": "circle"
         },
         "mode": "markers",
         "name": "18",
         "orientation": "v",
         "showlegend": true,
         "type": "scatter",
         "x": [
          126,
          127,
          128,
          129,
          130,
          131,
          132
         ],
         "xaxis": "x",
         "y": [
          0.7841890076566301,
          0.7827296442663828,
          0.7812073517194087,
          0.7796223803150722,
          0.7779749906585615,
          0.7762654536180383,
          0.7744940502801019
         ],
         "yaxis": "y"
        },
        {
         "hovertemplate": "epoch=19<br>index=%{x}<br>lr=%{y}<extra></extra>",
         "legendgroup": "19",
         "marker": {
          "color": "#FECB52",
          "symbol": "circle"
         },
         "mode": "markers",
         "name": "19",
         "orientation": "v",
         "showlegend": true,
         "type": "scatter",
         "x": [
          133,
          134,
          135,
          136,
          137,
          138,
          139
         ],
         "xaxis": "x",
         "y": [
          0.7726610719035715,
          0.770766819871597,
          0.7688116056421047,
          0.7667957506965866,
          0.7647195864872414,
          0.7625834543824764,
          0.7603877056107791
         ],
         "yaxis": "y"
        },
        {
         "hovertemplate": "epoch=20<br>index=%{x}<br>lr=%{y}<extra></extra>",
         "legendgroup": "20",
         "marker": {
          "color": "#636efa",
          "symbol": "circle"
         },
         "mode": "markers",
         "name": "20",
         "orientation": "v",
         "showlegend": true,
         "type": "scatter",
         "x": [
          140,
          141,
          142,
          143,
          144,
          145,
          146
         ],
         "xaxis": "x",
         "y": [
          0.7581327012029664,
          0.755818811932824,
          0.753446418256142,
          0.7510159102481601,
          0.7485276875394292,
          0.7459821592501047,
          0.7433797439226767
         ],
         "yaxis": "y"
        },
        {
         "hovertemplate": "epoch=21<br>index=%{x}<br>lr=%{y}<extra></extra>",
         "legendgroup": "21",
         "marker": {
          "color": "#EF553B",
          "symbol": "circle"
         },
         "mode": "markers",
         "name": "21",
         "orientation": "v",
         "showlegend": true,
         "type": "scatter",
         "x": [
          147,
          148,
          149,
          150,
          151,
          152,
          153
         ],
         "xaxis": "x",
         "y": [
          0.7407208694531524,
          0.7380059730207004,
          0.7352355010157684,
          0.7324099089666872,
          0.7295296614647704,
          0.7265952320879256,
          0.723607103322788
         ],
         "yaxis": "y"
        },
        {
         "hovertemplate": "epoch=22<br>index=%{x}<br>lr=%{y}<extra></extra>",
         "legendgroup": "22",
         "marker": {
          "color": "#00cc96",
          "symbol": "circle"
         },
         "mode": "markers",
         "name": "22",
         "orientation": "v",
         "showlegend": true,
         "type": "scatter",
         "x": [
          154,
          155,
          156,
          157,
          158,
          159,
          160
         ],
         "xaxis": "x",
         "y": [
          0.7205657664853877,
          0.717471721640367,
          0.7143254775187577,
          0.7111275514343351,
          0.7078784691985596,
          0.7045787650341204,
          0.7012289814870989
         ],
         "yaxis": "y"
        },
        {
         "hovertemplate": "epoch=23<br>index=%{x}<br>lr=%{y}<extra></extra>",
         "legendgroup": "23",
         "marker": {
          "color": "#ab63fa",
          "symbol": "circle"
         },
         "mode": "markers",
         "name": "23",
         "orientation": "v",
         "showlegend": true,
         "type": "scatter",
         "x": [
          161,
          162,
          163,
          164,
          165,
          166,
          167
         ],
         "xaxis": "x",
         "y": [
          0.6978296693377602,
          0.6943813875099939,
          0.6908847029794128,
          0.687340190680131,
          0.6837484334102295,
          0.6801100217359334,
          0.6764255538945075
         ],
         "yaxis": "y"
        },
        {
         "hovertemplate": "epoch=24<br>index=%{x}<br>lr=%{y}<extra></extra>",
         "legendgroup": "24",
         "marker": {
          "color": "#FFA15A",
          "symbol": "circle"
         },
         "mode": "markers",
         "name": "24",
         "orientation": "v",
         "showlegend": true,
         "type": "scatter",
         "x": [
          168,
          169,
          170,
          171,
          172,
          173,
          174
         ],
         "xaxis": "x",
         "y": [
          0.672695635695894,
          0.6689208804231024,
          0.6651019087313726,
          0.6612393485461254,
          0.6573338349597165,
          0.6533860101270134,
          0.6493965231598104
         ],
         "yaxis": "y"
        },
        {
         "hovertemplate": "epoch=25<br>index=%{x}<br>lr=%{y}<extra></extra>",
         "legendgroup": "25",
         "marker": {
          "color": "#19d3f3",
          "symbol": "circle"
         },
         "mode": "markers",
         "name": "25",
         "orientation": "v",
         "showlegend": true,
         "type": "scatter",
         "x": [
          175,
          176,
          177,
          178,
          179,
          180,
          181
         ],
         "xaxis": "x",
         "y": [
          0.6453660300201008,
          0.6412951934122202,
          0.6371846826738847,
          0.6330351736661353,
          0.6288473486622117,
          0.6246218962353711,
          0.6203595111456707
         ],
         "yaxis": "y"
        },
        {
         "hovertemplate": "epoch=26<br>index=%{x}<br>lr=%{y}<extra></extra>",
         "legendgroup": "26",
         "marker": {
          "color": "#FF6692",
          "symbol": "circle"
         },
         "mode": "markers",
         "name": "26",
         "orientation": "v",
         "showlegend": true,
         "type": "scatter",
         "x": [
          182,
          183,
          184,
          185,
          186,
          187,
          188
         ],
         "xaxis": "x",
         "y": [
          0.6160608942257343,
          0.6117267522655183,
          0.6073577978961009,
          0.6029547494725077,
          0.5985183309556,
          0.5940492717930369,
          0.5895483067993396
         ],
         "yaxis": "y"
        },
        {
         "hovertemplate": "epoch=27<br>index=%{x}<br>lr=%{y}<extra></extra>",
         "legendgroup": "27",
         "marker": {
          "color": "#B6E880",
          "symbol": "circle"
         },
         "mode": "markers",
         "name": "27",
         "orientation": "v",
         "showlegend": true,
         "type": "scatter",
         "x": [
          189,
          190,
          191,
          192,
          193,
          194,
          195
         ],
         "xaxis": "x",
         "y": [
          0.5850161760350698,
          0.5804536246851478,
          0.5758614029363274,
          0.571240265853847,
          0.5665909732572811,
          0.5619142895956085,
          0.5572109838215188
         ],
         "yaxis": "y"
        },
        {
         "hovertemplate": "epoch=28<br>index=%{x}<br>lr=%{y}<extra></extra>",
         "legendgroup": "28",
         "marker": {
          "color": "#FF97FF",
          "symbol": "circle"
         },
         "mode": "markers",
         "name": "28",
         "orientation": "v",
         "showlegend": true,
         "type": "scatter",
         "x": [
          196,
          197,
          198,
          199,
          200,
          201,
          202
         ],
         "xaxis": "x",
         "y": [
          0.5524818292649799,
          0.547727603506085,
          0.5429490882472003,
          0.538147069184436,
          0.5333223358784601,
          0.5284756816246762,
          0.523607903322788
         ],
         "yaxis": "y"
        },
        {
         "hovertemplate": "epoch=29<br>index=%{x}<br>lr=%{y}<extra></extra>",
         "legendgroup": "29",
         "marker": {
          "color": "#FECB52",
          "symbol": "circle"
         },
         "mode": "markers",
         "name": "29",
         "orientation": "v",
         "showlegend": true,
         "type": "scatter",
         "x": [
          203,
          204,
          205,
          206,
          207,
          208,
          209
         ],
         "xaxis": "x",
         "y": [
          0.5187198013457713,
          0.5138121794082744,
          0.5088858444344686,
          0.5039416064253724,
          0.4989802783256688,
          0.4940026758900385,
          0.48900961754903144
         ],
         "yaxis": "y"
        },
        {
         "hovertemplate": "epoch=30<br>index=%{x}<br>lr=%{y}<extra></extra>",
         "legendgroup": "30",
         "marker": {
          "color": "#636efa",
          "symbol": "circle"
         },
         "mode": "markers",
         "name": "30",
         "orientation": "v",
         "showlegend": true,
         "type": "scatter",
         "x": [
          210,
          211,
          212,
          213,
          214,
          215,
          216
         ],
         "xaxis": "x",
         "y": [
          0.4840019242744986,
          0.4789804194446054,
          0.4739459287084496,
          0.46889927985030583,
          0.46384130265351964,
          0.4587728287640718,
          0.4536946915538369
         ],
         "yaxis": "y"
        },
        {
         "hovertemplate": "epoch=31<br>index=%{x}<br>lr=%{y}<extra></extra>",
         "legendgroup": "31",
         "marker": {
          "color": "#EF553B",
          "symbol": "circle"
         },
         "mode": "markers",
         "name": "31",
         "orientation": "v",
         "showlegend": true,
         "type": "scatter",
         "x": [
          217,
          218,
          219,
          220,
          221,
          222,
          223
         ],
         "xaxis": "x",
         "y": [
          0.4486077259835586,
          0.44351276846556237,
          0.43841065672623125,
          0.43330222966826426,
          0.42818832723274164,
          0.4230697902610197,
          0.41794746035647745
         ],
         "yaxis": "y"
        },
        {
         "hovertemplate": "epoch=32<br>index=%{x}<br>lr=%{y}<extra></extra>",
         "legendgroup": "32",
         "marker": {
          "color": "#00cc96",
          "symbol": "circle"
         },
         "mode": "markers",
         "name": "32",
         "orientation": "v",
         "showlegend": true,
         "type": "scatter",
         "x": [
          224,
          225,
          226,
          227,
          228,
          229,
          230
         ],
         "xaxis": "x",
         "y": [
          0.41282217974613805,
          0.4076947911421872,
          0.40256613760341303,
          0.397437062396587,
          0.3923084088578128,
          0.38718102025386203,
          0.38205573964352274
         ],
         "yaxis": "y"
        },
        {
         "hovertemplate": "epoch=33<br>index=%{x}<br>lr=%{y}<extra></extra>",
         "legendgroup": "33",
         "marker": {
          "color": "#ab63fa",
          "symbol": "circle"
         },
         "mode": "markers",
         "name": "33",
         "orientation": "v",
         "showlegend": true,
         "type": "scatter",
         "x": [
          231,
          232,
          233,
          234,
          235,
          236,
          237
         ],
         "xaxis": "x",
         "y": [
          0.37693340973898043,
          0.37181487276725833,
          0.3667009703317358,
          0.3615925432737688,
          0.3564904315344377,
          0.3513954740164415,
          0.34630850844616323
         ],
         "yaxis": "y"
        },
        {
         "hovertemplate": "epoch=34<br>index=%{x}<br>lr=%{y}<extra></extra>",
         "legendgroup": "34",
         "marker": {
          "color": "#FFA15A",
          "symbol": "circle"
         },
         "mode": "markers",
         "name": "34",
         "orientation": "v",
         "showlegend": true,
         "type": "scatter",
         "x": [
          238,
          239,
          240,
          241,
          242,
          243,
          244
         ],
         "xaxis": "x",
         "y": [
          0.34123037123592825,
          0.33616189734648044,
          0.33110392014969425,
          0.32605727129155043,
          0.3210227805553946,
          0.31600127572550135,
          0.3109935824509686
         ],
         "yaxis": "y"
        },
        {
         "hovertemplate": "epoch=35<br>index=%{x}<br>lr=%{y}<extra></extra>",
         "legendgroup": "35",
         "marker": {
          "color": "#19d3f3",
          "symbol": "circle"
         },
         "mode": "markers",
         "name": "35",
         "orientation": "v",
         "showlegend": true,
         "type": "scatter",
         "x": [
          245,
          246,
          247,
          248,
          249,
          250,
          251
         ],
         "xaxis": "x",
         "y": [
          0.30600052410996154,
          0.3010229216743313,
          0.29606159357462764,
          0.2911173555655315,
          0.28619102059172563,
          0.28128339865422863,
          0.2763952966772121
         ],
         "yaxis": "y"
        },
        {
         "hovertemplate": "epoch=36<br>index=%{x}<br>lr=%{y}<extra></extra>",
         "legendgroup": "36",
         "marker": {
          "color": "#FF6692",
          "symbol": "circle"
         },
         "mode": "markers",
         "name": "36",
         "orientation": "v",
         "showlegend": true,
         "type": "scatter",
         "x": [
          252,
          253,
          254,
          255,
          256,
          257,
          258
         ],
         "xaxis": "x",
         "y": [
          0.2715275183753239,
          0.26668086412154,
          0.2618561308155641,
          0.2570541117527999,
          0.2522755964939152,
          0.2475213707350201,
          0.24279221617848126
         ],
         "yaxis": "y"
        },
        {
         "hovertemplate": "epoch=37<br>index=%{x}<br>lr=%{y}<extra></extra>",
         "legendgroup": "37",
         "marker": {
          "color": "#B6E880",
          "symbol": "circle"
         },
         "mode": "markers",
         "name": "37",
         "orientation": "v",
         "showlegend": true,
         "type": "scatter",
         "x": [
          259,
          260,
          261,
          262,
          263,
          264,
          265
         ],
         "xaxis": "x",
         "y": [
          0.23808891040439148,
          0.23341222674271897,
          0.22876293414615317,
          0.22414179706367274,
          0.2195495753148521,
          0.21498702396493038,
          0.21045489320066052
         ],
         "yaxis": "y"
        },
        {
         "hovertemplate": "epoch=38<br>index=%{x}<br>lr=%{y}<extra></extra>",
         "legendgroup": "38",
         "marker": {
          "color": "#FF97FF",
          "symbol": "circle"
         },
         "mode": "markers",
         "name": "38",
         "orientation": "v",
         "showlegend": true,
         "type": "scatter",
         "x": [
          266,
          267,
          268,
          269,
          270,
          271,
          272
         ],
         "xaxis": "x",
         "y": [
          0.2059539282069631,
          0.20148486904440022,
          0.19704845052749237,
          0.1926454021038993,
          0.1882764477344817,
          0.1839423057742659,
          0.17964368885432938
         ],
         "yaxis": "y"
        },
        {
         "hovertemplate": "epoch=39<br>index=%{x}<br>lr=%{y}<extra></extra>",
         "legendgroup": "39",
         "marker": {
          "color": "#FECB52",
          "symbol": "circle"
         },
         "mode": "markers",
         "name": "39",
         "orientation": "v",
         "showlegend": true,
         "type": "scatter",
         "x": [
          273,
          274,
          275,
          276,
          277,
          278,
          279
         ],
         "xaxis": "x",
         "y": [
          0.175381303764629,
          0.17115585133778843,
          0.16696802633386482,
          0.16281851732611535,
          0.15870800658777978,
          0.15463716997989935,
          0.1506066768401896
         ],
         "yaxis": "y"
        },
        {
         "hovertemplate": "epoch=40<br>index=%{x}<br>lr=%{y}<extra></extra>",
         "legendgroup": "40",
         "marker": {
          "color": "#636efa",
          "symbol": "circle"
         },
         "mode": "markers",
         "name": "40",
         "orientation": "v",
         "showlegend": true,
         "type": "scatter",
         "x": [
          280,
          281,
          282,
          283,
          284,
          285,
          286
         ],
         "xaxis": "x",
         "y": [
          0.14661718987298683,
          0.14266936504028363,
          0.1387638514538745,
          0.13490129126862735,
          0.13108231957689767,
          0.12730756430410617,
          0.12357764610549253
         ],
         "yaxis": "y"
        },
        {
         "hovertemplate": "epoch=41<br>index=%{x}<br>lr=%{y}<extra></extra>",
         "legendgroup": "41",
         "marker": {
          "color": "#EF553B",
          "symbol": "circle"
         },
         "mode": "markers",
         "name": "41",
         "orientation": "v",
         "showlegend": true,
         "type": "scatter",
         "x": [
          287,
          288,
          289,
          290,
          291,
          292,
          293
         ],
         "xaxis": "x",
         "y": [
          0.11989317826406679,
          0.1162547665897705,
          0.11266300931986917,
          0.10911849702058712,
          0.10562181249000616,
          0.10217353066223987,
          0.09877421851290126
         ],
         "yaxis": "y"
        },
        {
         "hovertemplate": "epoch=42<br>index=%{x}<br>lr=%{y}<extra></extra>",
         "legendgroup": "42",
         "marker": {
          "color": "#00cc96",
          "symbol": "circle"
         },
         "mode": "markers",
         "name": "42",
         "orientation": "v",
         "showlegend": true,
         "type": "scatter",
         "x": [
          294,
          295,
          296,
          297,
          298,
          299,
          300
         ],
         "xaxis": "x",
         "y": [
          0.09542443496587963,
          0.09212473080144043,
          0.08887564856566482,
          0.08567772248124235,
          0.08253147835963322,
          0.07943743351461238,
          0.07639609667721206
         ],
         "yaxis": "y"
        },
        {
         "hovertemplate": "epoch=43<br>index=%{x}<br>lr=%{y}<extra></extra>",
         "legendgroup": "43",
         "marker": {
          "color": "#ab63fa",
          "symbol": "circle"
         },
         "mode": "markers",
         "name": "43",
         "orientation": "v",
         "showlegend": true,
         "type": "scatter",
         "x": [
          301,
          302,
          303,
          304,
          305,
          306,
          307
         ],
         "xaxis": "x",
         "y": [
          0.07340796791207439,
          0.07047353853522965,
          0.06759329103331285,
          0.06476769898423158,
          0.061997226979299803,
          0.05928233054684771,
          0.05662345607732333
         ],
         "yaxis": "y"
        },
        {
         "hovertemplate": "epoch=44<br>index=%{x}<br>lr=%{y}<extra></extra>",
         "legendgroup": "44",
         "marker": {
          "color": "#FFA15A",
          "symbol": "circle"
         },
         "mode": "markers",
         "name": "44",
         "orientation": "v",
         "showlegend": true,
         "type": "scatter",
         "x": [
          308,
          309,
          310,
          311,
          312,
          313,
          314
         ],
         "xaxis": "x",
         "y": [
          0.05402104074989531,
          0.05147551246057084,
          0.04898728975184013,
          0.046556781743858064,
          0.04418438806717616,
          0.04187049879703373,
          0.03961549438922103
         ],
         "yaxis": "y"
        },
        {
         "hovertemplate": "epoch=45<br>index=%{x}<br>lr=%{y}<extra></extra>",
         "legendgroup": "45",
         "marker": {
          "color": "#19d3f3",
          "symbol": "circle"
         },
         "mode": "markers",
         "name": "45",
         "orientation": "v",
         "showlegend": true,
         "type": "scatter",
         "x": [
          315,
          316,
          317,
          318,
          319,
          320,
          321
         ],
         "xaxis": "x",
         "y": [
          0.037419745617523606,
          0.035283613512758674,
          0.03320744930341349,
          0.031191594357895355,
          0.0292363801284031,
          0.02734212809642861,
          0.025509149719898143
         ],
         "yaxis": "y"
        },
        {
         "hovertemplate": "epoch=46<br>index=%{x}<br>lr=%{y}<extra></extra>",
         "legendgroup": "46",
         "marker": {
          "color": "#FF6692",
          "symbol": "circle"
         },
         "mode": "markers",
         "name": "46",
         "orientation": "v",
         "showlegend": true,
         "type": "scatter",
         "x": [
          322,
          323,
          324,
          325,
          326,
          327,
          328
         ],
         "xaxis": "x",
         "y": [
          0.023737746381961723,
          0.02202820934143858,
          0.020380819684927762,
          0.01879584828059132,
          0.01727355573361725,
          0.01581419234336993,
          0.014417998062235819
         ],
         "yaxis": "y"
        },
        {
         "hovertemplate": "epoch=47<br>index=%{x}<br>lr=%{y}<extra></extra>",
         "legendgroup": "47",
         "marker": {
          "color": "#B6E880",
          "symbol": "circle"
         },
         "mode": "markers",
         "name": "47",
         "orientation": "v",
         "showlegend": true,
         "type": "scatter",
         "x": [
          329,
          330,
          331,
          332,
          333,
          334,
          335
         ],
         "xaxis": "x",
         "y": [
          0.013085202456169082,
          0.01181602466694647,
          0.010610673376134918,
          0.009469346770779818,
          0.008392232510818583,
          0.00737950769822501,
          0.006431338847889891
         ],
         "yaxis": "y"
        },
        {
         "hovertemplate": "epoch=48<br>index=%{x}<br>lr=%{y}<extra></extra>",
         "legendgroup": "48",
         "marker": {
          "color": "#FF97FF",
          "symbol": "circle"
         },
         "mode": "markers",
         "name": "48",
         "orientation": "v",
         "showlegend": true,
         "type": "scatter",
         "x": [
          336,
          337,
          338,
          339,
          340,
          341,
          342
         ],
         "xaxis": "x",
         "y": [
          0.005547881860241868,
          0.004729281995614127,
          0.003975673850360313,
          0.0032871813347236964,
          0.0026639176524635984,
          0.002105985282242264,
          0.0016134759607747652
         ],
         "yaxis": "y"
        },
        {
         "hovertemplate": "epoch=49<br>index=%{x}<br>lr=%{y}<extra></extra>",
         "legendgroup": "49",
         "marker": {
          "color": "#FECB52",
          "symbol": "circle"
         },
         "mode": "markers",
         "name": "49",
         "orientation": "v",
         "showlegend": true,
         "type": "scatter",
         "x": [
          343,
          344,
          345,
          346,
          347,
          348,
          349
         ],
         "xaxis": "x",
         "y": [
          0.001186470667745658,
          0.0008250396124938665,
          0.00052924222246894,
          0.0002991271334596646,
          0.00013473218159724612,
          0.00003608439713417983,
          0.0000032
         ],
         "yaxis": "y"
        }
       ],
       "layout": {
        "legend": {
         "title": {
          "text": "epoch"
         },
         "tracegroupgap": 0
        },
        "margin": {
         "t": 60
        },
        "template": {
         "data": {
          "bar": [
           {
            "error_x": {
             "color": "#2a3f5f"
            },
            "error_y": {
             "color": "#2a3f5f"
            },
            "marker": {
             "line": {
              "color": "#E5ECF6",
              "width": 0.5
             },
             "pattern": {
              "fillmode": "overlay",
              "size": 10,
              "solidity": 0.2
             }
            },
            "type": "bar"
           }
          ],
          "barpolar": [
           {
            "marker": {
             "line": {
              "color": "#E5ECF6",
              "width": 0.5
             },
             "pattern": {
              "fillmode": "overlay",
              "size": 10,
              "solidity": 0.2
             }
            },
            "type": "barpolar"
           }
          ],
          "carpet": [
           {
            "aaxis": {
             "endlinecolor": "#2a3f5f",
             "gridcolor": "white",
             "linecolor": "white",
             "minorgridcolor": "white",
             "startlinecolor": "#2a3f5f"
            },
            "baxis": {
             "endlinecolor": "#2a3f5f",
             "gridcolor": "white",
             "linecolor": "white",
             "minorgridcolor": "white",
             "startlinecolor": "#2a3f5f"
            },
            "type": "carpet"
           }
          ],
          "choropleth": [
           {
            "colorbar": {
             "outlinewidth": 0,
             "ticks": ""
            },
            "type": "choropleth"
           }
          ],
          "contour": [
           {
            "colorbar": {
             "outlinewidth": 0,
             "ticks": ""
            },
            "colorscale": [
             [
              0,
              "#0d0887"
             ],
             [
              0.1111111111111111,
              "#46039f"
             ],
             [
              0.2222222222222222,
              "#7201a8"
             ],
             [
              0.3333333333333333,
              "#9c179e"
             ],
             [
              0.4444444444444444,
              "#bd3786"
             ],
             [
              0.5555555555555556,
              "#d8576b"
             ],
             [
              0.6666666666666666,
              "#ed7953"
             ],
             [
              0.7777777777777778,
              "#fb9f3a"
             ],
             [
              0.8888888888888888,
              "#fdca26"
             ],
             [
              1,
              "#f0f921"
             ]
            ],
            "type": "contour"
           }
          ],
          "contourcarpet": [
           {
            "colorbar": {
             "outlinewidth": 0,
             "ticks": ""
            },
            "type": "contourcarpet"
           }
          ],
          "heatmap": [
           {
            "colorbar": {
             "outlinewidth": 0,
             "ticks": ""
            },
            "colorscale": [
             [
              0,
              "#0d0887"
             ],
             [
              0.1111111111111111,
              "#46039f"
             ],
             [
              0.2222222222222222,
              "#7201a8"
             ],
             [
              0.3333333333333333,
              "#9c179e"
             ],
             [
              0.4444444444444444,
              "#bd3786"
             ],
             [
              0.5555555555555556,
              "#d8576b"
             ],
             [
              0.6666666666666666,
              "#ed7953"
             ],
             [
              0.7777777777777778,
              "#fb9f3a"
             ],
             [
              0.8888888888888888,
              "#fdca26"
             ],
             [
              1,
              "#f0f921"
             ]
            ],
            "type": "heatmap"
           }
          ],
          "heatmapgl": [
           {
            "colorbar": {
             "outlinewidth": 0,
             "ticks": ""
            },
            "colorscale": [
             [
              0,
              "#0d0887"
             ],
             [
              0.1111111111111111,
              "#46039f"
             ],
             [
              0.2222222222222222,
              "#7201a8"
             ],
             [
              0.3333333333333333,
              "#9c179e"
             ],
             [
              0.4444444444444444,
              "#bd3786"
             ],
             [
              0.5555555555555556,
              "#d8576b"
             ],
             [
              0.6666666666666666,
              "#ed7953"
             ],
             [
              0.7777777777777778,
              "#fb9f3a"
             ],
             [
              0.8888888888888888,
              "#fdca26"
             ],
             [
              1,
              "#f0f921"
             ]
            ],
            "type": "heatmapgl"
           }
          ],
          "histogram": [
           {
            "marker": {
             "pattern": {
              "fillmode": "overlay",
              "size": 10,
              "solidity": 0.2
             }
            },
            "type": "histogram"
           }
          ],
          "histogram2d": [
           {
            "colorbar": {
             "outlinewidth": 0,
             "ticks": ""
            },
            "colorscale": [
             [
              0,
              "#0d0887"
             ],
             [
              0.1111111111111111,
              "#46039f"
             ],
             [
              0.2222222222222222,
              "#7201a8"
             ],
             [
              0.3333333333333333,
              "#9c179e"
             ],
             [
              0.4444444444444444,
              "#bd3786"
             ],
             [
              0.5555555555555556,
              "#d8576b"
             ],
             [
              0.6666666666666666,
              "#ed7953"
             ],
             [
              0.7777777777777778,
              "#fb9f3a"
             ],
             [
              0.8888888888888888,
              "#fdca26"
             ],
             [
              1,
              "#f0f921"
             ]
            ],
            "type": "histogram2d"
           }
          ],
          "histogram2dcontour": [
           {
            "colorbar": {
             "outlinewidth": 0,
             "ticks": ""
            },
            "colorscale": [
             [
              0,
              "#0d0887"
             ],
             [
              0.1111111111111111,
              "#46039f"
             ],
             [
              0.2222222222222222,
              "#7201a8"
             ],
             [
              0.3333333333333333,
              "#9c179e"
             ],
             [
              0.4444444444444444,
              "#bd3786"
             ],
             [
              0.5555555555555556,
              "#d8576b"
             ],
             [
              0.6666666666666666,
              "#ed7953"
             ],
             [
              0.7777777777777778,
              "#fb9f3a"
             ],
             [
              0.8888888888888888,
              "#fdca26"
             ],
             [
              1,
              "#f0f921"
             ]
            ],
            "type": "histogram2dcontour"
           }
          ],
          "mesh3d": [
           {
            "colorbar": {
             "outlinewidth": 0,
             "ticks": ""
            },
            "type": "mesh3d"
           }
          ],
          "parcoords": [
           {
            "line": {
             "colorbar": {
              "outlinewidth": 0,
              "ticks": ""
             }
            },
            "type": "parcoords"
           }
          ],
          "pie": [
           {
            "automargin": true,
            "type": "pie"
           }
          ],
          "scatter": [
           {
            "fillpattern": {
             "fillmode": "overlay",
             "size": 10,
             "solidity": 0.2
            },
            "type": "scatter"
           }
          ],
          "scatter3d": [
           {
            "line": {
             "colorbar": {
              "outlinewidth": 0,
              "ticks": ""
             }
            },
            "marker": {
             "colorbar": {
              "outlinewidth": 0,
              "ticks": ""
             }
            },
            "type": "scatter3d"
           }
          ],
          "scattercarpet": [
           {
            "marker": {
             "colorbar": {
              "outlinewidth": 0,
              "ticks": ""
             }
            },
            "type": "scattercarpet"
           }
          ],
          "scattergeo": [
           {
            "marker": {
             "colorbar": {
              "outlinewidth": 0,
              "ticks": ""
             }
            },
            "type": "scattergeo"
           }
          ],
          "scattergl": [
           {
            "marker": {
             "colorbar": {
              "outlinewidth": 0,
              "ticks": ""
             }
            },
            "type": "scattergl"
           }
          ],
          "scattermapbox": [
           {
            "marker": {
             "colorbar": {
              "outlinewidth": 0,
              "ticks": ""
             }
            },
            "type": "scattermapbox"
           }
          ],
          "scatterpolar": [
           {
            "marker": {
             "colorbar": {
              "outlinewidth": 0,
              "ticks": ""
             }
            },
            "type": "scatterpolar"
           }
          ],
          "scatterpolargl": [
           {
            "marker": {
             "colorbar": {
              "outlinewidth": 0,
              "ticks": ""
             }
            },
            "type": "scatterpolargl"
           }
          ],
          "scatterternary": [
           {
            "marker": {
             "colorbar": {
              "outlinewidth": 0,
              "ticks": ""
             }
            },
            "type": "scatterternary"
           }
          ],
          "surface": [
           {
            "colorbar": {
             "outlinewidth": 0,
             "ticks": ""
            },
            "colorscale": [
             [
              0,
              "#0d0887"
             ],
             [
              0.1111111111111111,
              "#46039f"
             ],
             [
              0.2222222222222222,
              "#7201a8"
             ],
             [
              0.3333333333333333,
              "#9c179e"
             ],
             [
              0.4444444444444444,
              "#bd3786"
             ],
             [
              0.5555555555555556,
              "#d8576b"
             ],
             [
              0.6666666666666666,
              "#ed7953"
             ],
             [
              0.7777777777777778,
              "#fb9f3a"
             ],
             [
              0.8888888888888888,
              "#fdca26"
             ],
             [
              1,
              "#f0f921"
             ]
            ],
            "type": "surface"
           }
          ],
          "table": [
           {
            "cells": {
             "fill": {
              "color": "#EBF0F8"
             },
             "line": {
              "color": "white"
             }
            },
            "header": {
             "fill": {
              "color": "#C8D4E3"
             },
             "line": {
              "color": "white"
             }
            },
            "type": "table"
           }
          ]
         },
         "layout": {
          "annotationdefaults": {
           "arrowcolor": "#2a3f5f",
           "arrowhead": 0,
           "arrowwidth": 1
          },
          "autotypenumbers": "strict",
          "coloraxis": {
           "colorbar": {
            "outlinewidth": 0,
            "ticks": ""
           }
          },
          "colorscale": {
           "diverging": [
            [
             0,
             "#8e0152"
            ],
            [
             0.1,
             "#c51b7d"
            ],
            [
             0.2,
             "#de77ae"
            ],
            [
             0.3,
             "#f1b6da"
            ],
            [
             0.4,
             "#fde0ef"
            ],
            [
             0.5,
             "#f7f7f7"
            ],
            [
             0.6,
             "#e6f5d0"
            ],
            [
             0.7,
             "#b8e186"
            ],
            [
             0.8,
             "#7fbc41"
            ],
            [
             0.9,
             "#4d9221"
            ],
            [
             1,
             "#276419"
            ]
           ],
           "sequential": [
            [
             0,
             "#0d0887"
            ],
            [
             0.1111111111111111,
             "#46039f"
            ],
            [
             0.2222222222222222,
             "#7201a8"
            ],
            [
             0.3333333333333333,
             "#9c179e"
            ],
            [
             0.4444444444444444,
             "#bd3786"
            ],
            [
             0.5555555555555556,
             "#d8576b"
            ],
            [
             0.6666666666666666,
             "#ed7953"
            ],
            [
             0.7777777777777778,
             "#fb9f3a"
            ],
            [
             0.8888888888888888,
             "#fdca26"
            ],
            [
             1,
             "#f0f921"
            ]
           ],
           "sequentialminus": [
            [
             0,
             "#0d0887"
            ],
            [
             0.1111111111111111,
             "#46039f"
            ],
            [
             0.2222222222222222,
             "#7201a8"
            ],
            [
             0.3333333333333333,
             "#9c179e"
            ],
            [
             0.4444444444444444,
             "#bd3786"
            ],
            [
             0.5555555555555556,
             "#d8576b"
            ],
            [
             0.6666666666666666,
             "#ed7953"
            ],
            [
             0.7777777777777778,
             "#fb9f3a"
            ],
            [
             0.8888888888888888,
             "#fdca26"
            ],
            [
             1,
             "#f0f921"
            ]
           ]
          },
          "colorway": [
           "#636efa",
           "#EF553B",
           "#00cc96",
           "#ab63fa",
           "#FFA15A",
           "#19d3f3",
           "#FF6692",
           "#B6E880",
           "#FF97FF",
           "#FECB52"
          ],
          "font": {
           "color": "#2a3f5f"
          },
          "geo": {
           "bgcolor": "white",
           "lakecolor": "white",
           "landcolor": "#E5ECF6",
           "showlakes": true,
           "showland": true,
           "subunitcolor": "white"
          },
          "hoverlabel": {
           "align": "left"
          },
          "hovermode": "closest",
          "mapbox": {
           "style": "light"
          },
          "paper_bgcolor": "white",
          "plot_bgcolor": "#E5ECF6",
          "polar": {
           "angularaxis": {
            "gridcolor": "white",
            "linecolor": "white",
            "ticks": ""
           },
           "bgcolor": "#E5ECF6",
           "radialaxis": {
            "gridcolor": "white",
            "linecolor": "white",
            "ticks": ""
           }
          },
          "scene": {
           "xaxis": {
            "backgroundcolor": "#E5ECF6",
            "gridcolor": "white",
            "gridwidth": 2,
            "linecolor": "white",
            "showbackground": true,
            "ticks": "",
            "zerolinecolor": "white"
           },
           "yaxis": {
            "backgroundcolor": "#E5ECF6",
            "gridcolor": "white",
            "gridwidth": 2,
            "linecolor": "white",
            "showbackground": true,
            "ticks": "",
            "zerolinecolor": "white"
           },
           "zaxis": {
            "backgroundcolor": "#E5ECF6",
            "gridcolor": "white",
            "gridwidth": 2,
            "linecolor": "white",
            "showbackground": true,
            "ticks": "",
            "zerolinecolor": "white"
           }
          },
          "shapedefaults": {
           "line": {
            "color": "#2a3f5f"
           }
          },
          "ternary": {
           "aaxis": {
            "gridcolor": "white",
            "linecolor": "white",
            "ticks": ""
           },
           "baxis": {
            "gridcolor": "white",
            "linecolor": "white",
            "ticks": ""
           },
           "bgcolor": "#E5ECF6",
           "caxis": {
            "gridcolor": "white",
            "linecolor": "white",
            "ticks": ""
           }
          },
          "title": {
           "x": 0.05
          },
          "xaxis": {
           "automargin": true,
           "gridcolor": "white",
           "linecolor": "white",
           "ticks": "",
           "title": {
            "standoff": 15
           },
           "zerolinecolor": "white",
           "zerolinewidth": 2
          },
          "yaxis": {
           "automargin": true,
           "gridcolor": "white",
           "linecolor": "white",
           "ticks": "",
           "title": {
            "standoff": 15
           },
           "zerolinecolor": "white",
           "zerolinewidth": 2
          }
         }
        },
        "xaxis": {
         "anchor": "y",
         "domain": [
          0,
          1
         ],
         "title": {
          "text": "index"
         }
        },
        "yaxis": {
         "anchor": "x",
         "domain": [
          0,
          1
         ],
         "title": {
          "text": "lr"
         }
        }
       }
      }
     },
     "metadata": {},
     "output_type": "display_data"
    }
   ],
   "source": [
    "lrsched = partial(\n",
    "    OneCycleLR, \n",
    "    max_lr = 0.8,\n",
    "    epochs=50,\n",
    "    steps_per_epoch=7,\n",
    "    pct_start=0.3\n",
    ")\n",
    "\n",
    "df = explore(lrsched, n_epochs=50, steps_per_epoch=7, optim_lr=1., change_every_step=True)"
   ]
  },
  {
   "cell_type": "code",
   "execution_count": null,
   "id": "25e9d846-70ab-421b-bee3-4303d78baee8",
   "metadata": {},
   "outputs": [],
   "source": []
  },
  {
   "cell_type": "markdown",
   "id": "9a0a5592-866b-4307-b789-5ddc385070d4",
   "metadata": {},
   "source": [
    "There are three other learing rate schedulers that I have not discussed - \n",
    "  * ReduceLROnPlateauLR\n",
    "  * LambdaLR\n",
    "  * MultiplicativeLR\n",
    "  \n",
    "`ReduceLROnPlateau` is a pretty straightforward one where it takes in the metric value with every call to step. If the matrix value has not improved in a few calls to step, then it will change the learning rate. Both `LambdaLR` and `MultiplicativeLR` are flexible exponential decay schedulers but the decay factor is provided by a lambda that is a function of the current epoch."
   ]
  },
  {
   "cell_type": "markdown",
   "id": "7e3f9984-2257-4437-a5db-c4a25cabcbb0",
   "metadata": {},
   "source": [
    "## Scratch Pad"
   ]
  },
  {
   "cell_type": "code",
   "execution_count": 13,
   "id": "85d2e229-3d45-4acc-9bd7-54167e27364b",
   "metadata": {},
   "outputs": [
    {
     "data": {
      "application/vnd.plotly.v1+json": {
       "config": {
        "plotlyServerURL": "https://plot.ly"
       },
       "data": [
        {
         "hovertemplate": "epoch=0<br>index=%{x}<br>lr=%{y}<extra></extra>",
         "legendgroup": "0",
         "marker": {
          "color": "#636efa",
          "symbol": "circle"
         },
         "mode": "markers",
         "name": "0",
         "orientation": "v",
         "showlegend": true,
         "type": "scatter",
         "x": [
          0,
          1,
          2,
          3,
          4,
          5,
          6,
          7,
          8,
          9,
          10,
          11,
          12,
          13,
          14,
          15,
          16,
          17,
          18,
          19,
          20,
          21,
          22,
          23,
          24,
          25,
          26,
          27,
          28,
          29,
          30,
          31,
          32,
          33,
          34,
          35,
          36,
          37,
          38,
          39,
          40,
          41,
          42,
          43,
          44,
          45,
          46,
          47,
          48,
          49,
          50,
          51,
          52,
          53,
          54,
          55,
          56,
          57,
          58,
          59,
          60,
          61,
          62,
          63,
          64,
          65,
          66,
          67,
          68,
          69,
          70,
          71,
          72,
          73,
          74,
          75,
          76,
          77,
          78,
          79,
          80,
          81,
          82,
          83,
          84,
          85,
          86
         ],
         "xaxis": "x",
         "y": [
          0.0040000000000000036,
          0.00403963621907058,
          0.004158479416704677,
          0.00435633332227664,
          0.004632871178255407,
          0.004987636279847607,
          0.0054200427292496745,
          0.005929376403263478,
          0.006514796132677178,
          0.007175335091463994,
          0.007909902393504115,
          0.008717284894193142,
          0.009596149193961442,
          0.010545043840395743,
          0.01156240172532598,
          0.012646542672918828,
          0.013795676214503366,
          0.01500790454554643,
          0.016281225659894163,
          0.01761353665610342,
          0.019002637210402712,
          0.020446233210546977,
          0.021941940544564914,
          0.023487289038141693,
          0.025079726534134275,
          0.026716623107482407,
          0.02839527540855366,
          0.03011291112775022,
          0.031866693574003346,
          0.03365372635959463,
          0.03547105818356672,
          0.03731568770582383,
          0.039184568503872315,
          0.04107461410401515,
          0.04298270307869146,
          0.04490568420154269,
          0.04684038165169153,
          0.0487836002586393,
          0.05073213077911903,
          0.05268275519719009,
          0.05463225203882083,
          0.05657740169218243,
          0.05851499172486712,
          0.06044182218924975,
          0.062354710907230396,
          0.06425049872563054,
          0.0661260547335635,
          0.0679782814331622,
          0.06980411985512525,
          0.0716005546106326,
          0.07336461887128778,
          0.0750933992688621,
          0.0767840407067487,
          0.07843375107518087,
          0.08003980586242666,
          0.08159955265434501,
          0.08311041551487175,
          0.08456989924020167,
          0.08597559347964029,
          0.08732517671632009,
          0.0886164201012068,
          0.08984719113406386,
          0.09101545718529612,
          0.0921192888528561,
          0.09315686314866911,
          0.09412646650931471,
          0.0950264976259923,
          0.09585547008909727,
          0.09661201484303998,
          0.09729488244725362,
          0.09790294513965662,
          0.09843519869916215,
          0.09889076410415829,
          0.0992688889842203,
          0.09956894886265728,
          0.09979044818784108,
          0.09993302115161429,
          0.09999643229342585,
          0.099996377972372,
          0.09997863869216014,
          0.0999461221274564,
          0.09989883789253728,
          0.09983679996808341,
          0.09976002669704595,
          0.09966854077922298,
          0.09956236926454785,
          0.09944154354509119
         ],
         "yaxis": "y"
        },
        {
         "hovertemplate": "epoch=1<br>index=%{x}<br>lr=%{y}<extra></extra>",
         "legendgroup": "1",
         "marker": {
          "color": "#EF553B",
          "symbol": "circle"
         },
         "mode": "markers",
         "name": "1",
         "orientation": "v",
         "showlegend": true,
         "type": "scatter",
         "x": [
          87,
          88,
          89,
          90,
          91,
          92,
          93,
          94,
          95,
          96,
          97,
          98,
          99,
          100,
          101,
          102,
          103,
          104,
          105,
          106,
          107,
          108,
          109,
          110,
          111,
          112,
          113,
          114,
          115,
          116,
          117,
          118,
          119,
          120,
          121,
          122,
          123,
          124,
          125,
          126,
          127,
          128,
          129,
          130,
          131,
          132,
          133,
          134,
          135,
          136,
          137,
          138,
          139,
          140,
          141,
          142,
          143,
          144,
          145,
          146,
          147,
          148,
          149,
          150,
          151,
          152,
          153,
          154,
          155,
          156,
          157,
          158,
          159,
          160,
          161,
          162,
          163,
          164,
          165,
          166,
          167,
          168,
          169,
          170,
          171,
          172,
          173
         ],
         "xaxis": "x",
         "y": [
          0.09930609934577911,
          0.09915607671383035,
          0.09899152000691534,
          0.09881247788004086,
          0.09861900327116405,
          0.09841115338554005,
          0.09818898967880796,
          0.09795257783882007,
          0.0977019877662197,
          0.09743729355377347,
          0.09715857346446402,
          0.09686590990834981,
          0.09655938941819861,
          0.0962391026239021,
          0.09590514422567906,
          0.09555761296607505,
          0.09519661160076685,
          0.09482224686818042,
          0.09443462945793114,
          0.09403387397809594,
          0.09362009892132668,
          0.0931934266298151,
          0.09275398325911952,
          0.09230189874086397,
          0.09183730674432097,
          0.09136034463688904,
          0.09087115344347688,
          0.09036987780480607,
          0.08985666593464468,
          0.08933166957598447,
          0.08879504395617452,
          0.08824694774102466,
          0.08768754298789228,
          0.08711699509776624,
          0.08653547276636235,
          0.08594314793424446,
          0.0853401957359863,
          0.08472679444838885,
          0.08410312543776871,
          0.0834693731063329,
          0.08282572483765611,
          0.08217237094127636,
          0.08150950459642561,
          0.08083732179491182,
          0.08015602128316943,
          0.0794658045034953,
          0.07876687553448779,
          0.07805944103070604,
          0.07734371016156782,
          0.07661989454950369,
          0.075888208207386,
          0.07514886747525094,
          0.07440209095633267,
          0.07364809945242812,
          0.07288711589861188,
          0.07211936529732026,
          0.07134507465182409,
          0.07056447289910996,
          0.0697777908421896,
          0.06898526108185783,
          0.06818711794791849,
          0.06738359742989952,
          0.06657493710727724,
          0.06576137607923035,
          0.06494315489394478,
          0.06412051547749002,
          0.06329370106228809,
          0.06246295611519616,
          0.0616285262652244,
          0.060790658230909914,
          0.05994959974736875,
          0.05910559949304727,
          0.0582589070161946,
          0.057409772661077885,
          0.0565584474939622,
          0.05570518322887705,
          0.054850232153191125,
          0.05399384705301791,
          0.053136281138473386,
          0.05227778796880874,
          0.05141862137743964,
          0.05055903539689448,
          0.04969928418370381,
          0.04883962194325301,
          0.04798030285462065,
          0.04712158099542449,
          0.046263710266697504
         ],
         "yaxis": "y"
        },
        {
         "hovertemplate": "epoch=2<br>index=%{x}<br>lr=%{y}<extra></extra>",
         "legendgroup": "2",
         "marker": {
          "color": "#00cc96",
          "symbol": "circle"
         },
         "mode": "markers",
         "name": "2",
         "orientation": "v",
         "showlegend": true,
         "type": "scatter",
         "x": [
          174,
          175,
          176,
          177,
          178,
          179,
          180,
          181,
          182,
          183,
          184,
          185,
          186,
          187,
          188,
          189,
          190,
          191,
          192,
          193,
          194,
          195,
          196,
          197,
          198,
          199,
          200,
          201,
          202,
          203,
          204,
          205,
          206,
          207,
          208,
          209,
          210,
          211,
          212,
          213,
          214,
          215,
          216,
          217,
          218,
          219,
          220,
          221,
          222,
          223,
          224,
          225,
          226,
          227,
          228,
          229,
          230,
          231,
          232,
          233,
          234,
          235,
          236,
          237,
          238,
          239,
          240,
          241,
          242,
          243,
          244,
          245,
          246,
          247,
          248,
          249,
          250,
          251,
          252,
          253,
          254,
          255,
          256,
          257,
          258,
          259,
          260
         ],
         "xaxis": "x",
         "y": [
          0.04540694431781629,
          0.04455153647150363,
          0.04369773964892778,
          0.04284580629492043,
          0.041995988303335625,
          0.04114853694257142,
          0.04030370278127663,
          0.03946173561426427,
          0.03862288438865403,
          0.037787397130265334,
          0.03695552087028257,
          0.03612750157221477,
          0.035303584059170695,
          0.03448401194147129,
          0.03366902754462051,
          0.03285887183765628,
          0.0320537843619024,
          0.03125400316014254,
          0.03045976470623738,
          0.029671303835205696,
          0.028888853673789888,
          0.028112645571526648,
          0.027342909032343075,
          0.026579871646698623,
          0.025823759024292618,
          0.02507479472735752,
          0.02433320020455756,
          0.023599194725512373,
          0.022872995315964803,
          0.02215481669361216,
          0.021444871204620044,
          0.020743368760837252,
          0.02005051677773041,
          0.019366520113056836,
          0.01869158100629358,
          0.018025899018840656,
          0.01736967097501606,
          0.016723090903860108,
          0.016086349981766182,
          0.015459636475955144,
          0.014843135688809616,
          0.014237029903085093,
          0.013641498328013866,
          0.013056717046317569,
          0.012482858962144315,
          0.011920093749945513,
          0.011368587804307705,
          0.010828504190754163,
          0.0103000025975308,
          0.009783239288390548,
          0.009278367056390477,
          0.008785535178714896,
          0.00830488937253812,
          0.007836571751939806,
          0.007380720785885636,
          0.006937471257285769,
          0.006506954223143092,
          0.006089296975803242,
          0.005684623005317657,
          0.0052930519629308375,
          0.004914699625702708,
          0.00454967786227648,
          0.00419809459980204,
          0.003860053792024795,
          0.0035356553885493697,
          0.003224995305287138,
          0.002928165396096514,
          0.002645253425624163,
          0.0023763430433554277,
          0.0021215137588813477,
          0.001880840918389847,
          0.0016543956823878569,
          0.0014422450046610912,
          0.0012444516124775799,
          0.0010610739880409302,
          0.0008921663511986615,
          0.0007377786434108868,
          0.0005979565129839621,
          0.0004727413015734702,
          0.0003621700319606415,
          0.0002662753971056936,
          0.0001850857504813912,
          0.00011862509768969644,
          0.00006691308936395302,
          0.00002996501535871814,
          0.00000779180022896909,
          4e-7
         ],
         "yaxis": "y"
        }
       ],
       "layout": {
        "legend": {
         "title": {
          "text": "epoch"
         },
         "tracegroupgap": 0
        },
        "margin": {
         "t": 60
        },
        "template": {
         "data": {
          "bar": [
           {
            "error_x": {
             "color": "#2a3f5f"
            },
            "error_y": {
             "color": "#2a3f5f"
            },
            "marker": {
             "line": {
              "color": "#E5ECF6",
              "width": 0.5
             },
             "pattern": {
              "fillmode": "overlay",
              "size": 10,
              "solidity": 0.2
             }
            },
            "type": "bar"
           }
          ],
          "barpolar": [
           {
            "marker": {
             "line": {
              "color": "#E5ECF6",
              "width": 0.5
             },
             "pattern": {
              "fillmode": "overlay",
              "size": 10,
              "solidity": 0.2
             }
            },
            "type": "barpolar"
           }
          ],
          "carpet": [
           {
            "aaxis": {
             "endlinecolor": "#2a3f5f",
             "gridcolor": "white",
             "linecolor": "white",
             "minorgridcolor": "white",
             "startlinecolor": "#2a3f5f"
            },
            "baxis": {
             "endlinecolor": "#2a3f5f",
             "gridcolor": "white",
             "linecolor": "white",
             "minorgridcolor": "white",
             "startlinecolor": "#2a3f5f"
            },
            "type": "carpet"
           }
          ],
          "choropleth": [
           {
            "colorbar": {
             "outlinewidth": 0,
             "ticks": ""
            },
            "type": "choropleth"
           }
          ],
          "contour": [
           {
            "colorbar": {
             "outlinewidth": 0,
             "ticks": ""
            },
            "colorscale": [
             [
              0,
              "#0d0887"
             ],
             [
              0.1111111111111111,
              "#46039f"
             ],
             [
              0.2222222222222222,
              "#7201a8"
             ],
             [
              0.3333333333333333,
              "#9c179e"
             ],
             [
              0.4444444444444444,
              "#bd3786"
             ],
             [
              0.5555555555555556,
              "#d8576b"
             ],
             [
              0.6666666666666666,
              "#ed7953"
             ],
             [
              0.7777777777777778,
              "#fb9f3a"
             ],
             [
              0.8888888888888888,
              "#fdca26"
             ],
             [
              1,
              "#f0f921"
             ]
            ],
            "type": "contour"
           }
          ],
          "contourcarpet": [
           {
            "colorbar": {
             "outlinewidth": 0,
             "ticks": ""
            },
            "type": "contourcarpet"
           }
          ],
          "heatmap": [
           {
            "colorbar": {
             "outlinewidth": 0,
             "ticks": ""
            },
            "colorscale": [
             [
              0,
              "#0d0887"
             ],
             [
              0.1111111111111111,
              "#46039f"
             ],
             [
              0.2222222222222222,
              "#7201a8"
             ],
             [
              0.3333333333333333,
              "#9c179e"
             ],
             [
              0.4444444444444444,
              "#bd3786"
             ],
             [
              0.5555555555555556,
              "#d8576b"
             ],
             [
              0.6666666666666666,
              "#ed7953"
             ],
             [
              0.7777777777777778,
              "#fb9f3a"
             ],
             [
              0.8888888888888888,
              "#fdca26"
             ],
             [
              1,
              "#f0f921"
             ]
            ],
            "type": "heatmap"
           }
          ],
          "heatmapgl": [
           {
            "colorbar": {
             "outlinewidth": 0,
             "ticks": ""
            },
            "colorscale": [
             [
              0,
              "#0d0887"
             ],
             [
              0.1111111111111111,
              "#46039f"
             ],
             [
              0.2222222222222222,
              "#7201a8"
             ],
             [
              0.3333333333333333,
              "#9c179e"
             ],
             [
              0.4444444444444444,
              "#bd3786"
             ],
             [
              0.5555555555555556,
              "#d8576b"
             ],
             [
              0.6666666666666666,
              "#ed7953"
             ],
             [
              0.7777777777777778,
              "#fb9f3a"
             ],
             [
              0.8888888888888888,
              "#fdca26"
             ],
             [
              1,
              "#f0f921"
             ]
            ],
            "type": "heatmapgl"
           }
          ],
          "histogram": [
           {
            "marker": {
             "pattern": {
              "fillmode": "overlay",
              "size": 10,
              "solidity": 0.2
             }
            },
            "type": "histogram"
           }
          ],
          "histogram2d": [
           {
            "colorbar": {
             "outlinewidth": 0,
             "ticks": ""
            },
            "colorscale": [
             [
              0,
              "#0d0887"
             ],
             [
              0.1111111111111111,
              "#46039f"
             ],
             [
              0.2222222222222222,
              "#7201a8"
             ],
             [
              0.3333333333333333,
              "#9c179e"
             ],
             [
              0.4444444444444444,
              "#bd3786"
             ],
             [
              0.5555555555555556,
              "#d8576b"
             ],
             [
              0.6666666666666666,
              "#ed7953"
             ],
             [
              0.7777777777777778,
              "#fb9f3a"
             ],
             [
              0.8888888888888888,
              "#fdca26"
             ],
             [
              1,
              "#f0f921"
             ]
            ],
            "type": "histogram2d"
           }
          ],
          "histogram2dcontour": [
           {
            "colorbar": {
             "outlinewidth": 0,
             "ticks": ""
            },
            "colorscale": [
             [
              0,
              "#0d0887"
             ],
             [
              0.1111111111111111,
              "#46039f"
             ],
             [
              0.2222222222222222,
              "#7201a8"
             ],
             [
              0.3333333333333333,
              "#9c179e"
             ],
             [
              0.4444444444444444,
              "#bd3786"
             ],
             [
              0.5555555555555556,
              "#d8576b"
             ],
             [
              0.6666666666666666,
              "#ed7953"
             ],
             [
              0.7777777777777778,
              "#fb9f3a"
             ],
             [
              0.8888888888888888,
              "#fdca26"
             ],
             [
              1,
              "#f0f921"
             ]
            ],
            "type": "histogram2dcontour"
           }
          ],
          "mesh3d": [
           {
            "colorbar": {
             "outlinewidth": 0,
             "ticks": ""
            },
            "type": "mesh3d"
           }
          ],
          "parcoords": [
           {
            "line": {
             "colorbar": {
              "outlinewidth": 0,
              "ticks": ""
             }
            },
            "type": "parcoords"
           }
          ],
          "pie": [
           {
            "automargin": true,
            "type": "pie"
           }
          ],
          "scatter": [
           {
            "fillpattern": {
             "fillmode": "overlay",
             "size": 10,
             "solidity": 0.2
            },
            "type": "scatter"
           }
          ],
          "scatter3d": [
           {
            "line": {
             "colorbar": {
              "outlinewidth": 0,
              "ticks": ""
             }
            },
            "marker": {
             "colorbar": {
              "outlinewidth": 0,
              "ticks": ""
             }
            },
            "type": "scatter3d"
           }
          ],
          "scattercarpet": [
           {
            "marker": {
             "colorbar": {
              "outlinewidth": 0,
              "ticks": ""
             }
            },
            "type": "scattercarpet"
           }
          ],
          "scattergeo": [
           {
            "marker": {
             "colorbar": {
              "outlinewidth": 0,
              "ticks": ""
             }
            },
            "type": "scattergeo"
           }
          ],
          "scattergl": [
           {
            "marker": {
             "colorbar": {
              "outlinewidth": 0,
              "ticks": ""
             }
            },
            "type": "scattergl"
           }
          ],
          "scattermapbox": [
           {
            "marker": {
             "colorbar": {
              "outlinewidth": 0,
              "ticks": ""
             }
            },
            "type": "scattermapbox"
           }
          ],
          "scatterpolar": [
           {
            "marker": {
             "colorbar": {
              "outlinewidth": 0,
              "ticks": ""
             }
            },
            "type": "scatterpolar"
           }
          ],
          "scatterpolargl": [
           {
            "marker": {
             "colorbar": {
              "outlinewidth": 0,
              "ticks": ""
             }
            },
            "type": "scatterpolargl"
           }
          ],
          "scatterternary": [
           {
            "marker": {
             "colorbar": {
              "outlinewidth": 0,
              "ticks": ""
             }
            },
            "type": "scatterternary"
           }
          ],
          "surface": [
           {
            "colorbar": {
             "outlinewidth": 0,
             "ticks": ""
            },
            "colorscale": [
             [
              0,
              "#0d0887"
             ],
             [
              0.1111111111111111,
              "#46039f"
             ],
             [
              0.2222222222222222,
              "#7201a8"
             ],
             [
              0.3333333333333333,
              "#9c179e"
             ],
             [
              0.4444444444444444,
              "#bd3786"
             ],
             [
              0.5555555555555556,
              "#d8576b"
             ],
             [
              0.6666666666666666,
              "#ed7953"
             ],
             [
              0.7777777777777778,
              "#fb9f3a"
             ],
             [
              0.8888888888888888,
              "#fdca26"
             ],
             [
              1,
              "#f0f921"
             ]
            ],
            "type": "surface"
           }
          ],
          "table": [
           {
            "cells": {
             "fill": {
              "color": "#EBF0F8"
             },
             "line": {
              "color": "white"
             }
            },
            "header": {
             "fill": {
              "color": "#C8D4E3"
             },
             "line": {
              "color": "white"
             }
            },
            "type": "table"
           }
          ]
         },
         "layout": {
          "annotationdefaults": {
           "arrowcolor": "#2a3f5f",
           "arrowhead": 0,
           "arrowwidth": 1
          },
          "autotypenumbers": "strict",
          "coloraxis": {
           "colorbar": {
            "outlinewidth": 0,
            "ticks": ""
           }
          },
          "colorscale": {
           "diverging": [
            [
             0,
             "#8e0152"
            ],
            [
             0.1,
             "#c51b7d"
            ],
            [
             0.2,
             "#de77ae"
            ],
            [
             0.3,
             "#f1b6da"
            ],
            [
             0.4,
             "#fde0ef"
            ],
            [
             0.5,
             "#f7f7f7"
            ],
            [
             0.6,
             "#e6f5d0"
            ],
            [
             0.7,
             "#b8e186"
            ],
            [
             0.8,
             "#7fbc41"
            ],
            [
             0.9,
             "#4d9221"
            ],
            [
             1,
             "#276419"
            ]
           ],
           "sequential": [
            [
             0,
             "#0d0887"
            ],
            [
             0.1111111111111111,
             "#46039f"
            ],
            [
             0.2222222222222222,
             "#7201a8"
            ],
            [
             0.3333333333333333,
             "#9c179e"
            ],
            [
             0.4444444444444444,
             "#bd3786"
            ],
            [
             0.5555555555555556,
             "#d8576b"
            ],
            [
             0.6666666666666666,
             "#ed7953"
            ],
            [
             0.7777777777777778,
             "#fb9f3a"
            ],
            [
             0.8888888888888888,
             "#fdca26"
            ],
            [
             1,
             "#f0f921"
            ]
           ],
           "sequentialminus": [
            [
             0,
             "#0d0887"
            ],
            [
             0.1111111111111111,
             "#46039f"
            ],
            [
             0.2222222222222222,
             "#7201a8"
            ],
            [
             0.3333333333333333,
             "#9c179e"
            ],
            [
             0.4444444444444444,
             "#bd3786"
            ],
            [
             0.5555555555555556,
             "#d8576b"
            ],
            [
             0.6666666666666666,
             "#ed7953"
            ],
            [
             0.7777777777777778,
             "#fb9f3a"
            ],
            [
             0.8888888888888888,
             "#fdca26"
            ],
            [
             1,
             "#f0f921"
            ]
           ]
          },
          "colorway": [
           "#636efa",
           "#EF553B",
           "#00cc96",
           "#ab63fa",
           "#FFA15A",
           "#19d3f3",
           "#FF6692",
           "#B6E880",
           "#FF97FF",
           "#FECB52"
          ],
          "font": {
           "color": "#2a3f5f"
          },
          "geo": {
           "bgcolor": "white",
           "lakecolor": "white",
           "landcolor": "#E5ECF6",
           "showlakes": true,
           "showland": true,
           "subunitcolor": "white"
          },
          "hoverlabel": {
           "align": "left"
          },
          "hovermode": "closest",
          "mapbox": {
           "style": "light"
          },
          "paper_bgcolor": "white",
          "plot_bgcolor": "#E5ECF6",
          "polar": {
           "angularaxis": {
            "gridcolor": "white",
            "linecolor": "white",
            "ticks": ""
           },
           "bgcolor": "#E5ECF6",
           "radialaxis": {
            "gridcolor": "white",
            "linecolor": "white",
            "ticks": ""
           }
          },
          "scene": {
           "xaxis": {
            "backgroundcolor": "#E5ECF6",
            "gridcolor": "white",
            "gridwidth": 2,
            "linecolor": "white",
            "showbackground": true,
            "ticks": "",
            "zerolinecolor": "white"
           },
           "yaxis": {
            "backgroundcolor": "#E5ECF6",
            "gridcolor": "white",
            "gridwidth": 2,
            "linecolor": "white",
            "showbackground": true,
            "ticks": "",
            "zerolinecolor": "white"
           },
           "zaxis": {
            "backgroundcolor": "#E5ECF6",
            "gridcolor": "white",
            "gridwidth": 2,
            "linecolor": "white",
            "showbackground": true,
            "ticks": "",
            "zerolinecolor": "white"
           }
          },
          "shapedefaults": {
           "line": {
            "color": "#2a3f5f"
           }
          },
          "ternary": {
           "aaxis": {
            "gridcolor": "white",
            "linecolor": "white",
            "ticks": ""
           },
           "baxis": {
            "gridcolor": "white",
            "linecolor": "white",
            "ticks": ""
           },
           "bgcolor": "#E5ECF6",
           "caxis": {
            "gridcolor": "white",
            "linecolor": "white",
            "ticks": ""
           }
          },
          "title": {
           "x": 0.05
          },
          "xaxis": {
           "automargin": true,
           "gridcolor": "white",
           "linecolor": "white",
           "ticks": "",
           "title": {
            "standoff": 15
           },
           "zerolinecolor": "white",
           "zerolinewidth": 2
          },
          "yaxis": {
           "automargin": true,
           "gridcolor": "white",
           "linecolor": "white",
           "ticks": "",
           "title": {
            "standoff": 15
           },
           "zerolinecolor": "white",
           "zerolinewidth": 2
          }
         }
        },
        "xaxis": {
         "anchor": "y",
         "domain": [
          0,
          1
         ],
         "title": {
          "text": "index"
         }
        },
        "yaxis": {
         "anchor": "x",
         "domain": [
          0,
          1
         ],
         "title": {
          "text": "lr"
         }
        }
       }
      }
     },
     "metadata": {},
     "output_type": "display_data"
    }
   ],
   "source": [
    "N_EPOCHS = 3\n",
    "BATCH_SIZE = 256\n",
    "\n",
    "n_steps = 45_000//(2*BATCH_SIZE)\n",
    "lrsched = partial(\n",
    "    OneCycleLR, \n",
    "    max_lr = 0.1,\n",
    "    epochs=N_EPOCHS,\n",
    "    steps_per_epoch=n_steps,\n",
    "    pct_start=0.3\n",
    ")\n",
    "\n",
    "df = explore(lrsched, n_epochs=N_EPOCHS, steps_per_epoch=n_steps, optim_lr=1., change_every_step=True)"
   ]
  },
  {
   "cell_type": "code",
   "execution_count": 14,
   "id": "95ba1fac-c305-46b9-a2e6-96229c066623",
   "metadata": {},
   "outputs": [
    {
     "data": {
      "text/plain": [
       "87"
      ]
     },
     "execution_count": 14,
     "metadata": {},
     "output_type": "execute_result"
    }
   ],
   "source": [
    "n_steps"
   ]
  },
  {
   "cell_type": "code",
   "execution_count": 15,
   "id": "93abaa30-d4fb-406b-8df2-fb56a7eaee53",
   "metadata": {},
   "outputs": [
    {
     "data": {
      "text/plain": [
       "261"
      ]
     },
     "execution_count": 15,
     "metadata": {},
     "output_type": "execute_result"
    }
   ],
   "source": [
    "n_steps * N_EPOCHS"
   ]
  },
  {
   "cell_type": "code",
   "execution_count": null,
   "id": "7d491490-1e1d-4769-ba76-d5522de9842c",
   "metadata": {},
   "outputs": [],
   "source": []
  }
 ],
 "metadata": {
  "kernelspec": {
   "display_name": "Python 3 (ipykernel)",
   "language": "python",
   "name": "python3"
  },
  "language_info": {
   "codemirror_mode": {
    "name": "ipython",
    "version": 3
   },
   "file_extension": ".py",
   "mimetype": "text/x-python",
   "name": "python",
   "nbconvert_exporter": "python",
   "pygments_lexer": "ipython3",
   "version": "3.12.0"
  }
 },
 "nbformat": 4,
 "nbformat_minor": 5
}
