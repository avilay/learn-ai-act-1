{
 "cells": [
  {
   "cell_type": "code",
   "execution_count": 1,
   "metadata": {},
   "outputs": [],
   "source": [
    "from dataclasses import dataclass\n",
    "import numpy as np\n",
    "import torch as t\n",
    "import torch.nn.functional as F\n",
    "import sklearn.datasets\n",
    "from haikunator import Haikunator\n",
    "import mlflow\n",
    "import mlflow.pytorch\n",
    "import os.path as path"
   ]
  },
  {
   "cell_type": "code",
   "execution_count": 2,
   "metadata": {},
   "outputs": [
    {
     "data": {
      "text/plain": [
       "device(type='cuda')"
      ]
     },
     "execution_count": 2,
     "metadata": {},
     "output_type": "execute_result"
    }
   ],
   "source": [
    "NUM_SAMPLES = 100_000\n",
    "NUM_FEATURES = 5\n",
    "NOISE = 0.5\n",
    "DEVICE = t.device(\"cuda\" if t.cuda.is_available() else \"cpu\")\n",
    "DEVICE"
   ]
  },
  {
   "cell_type": "code",
   "execution_count": 3,
   "metadata": {},
   "outputs": [],
   "source": [
    "mlruns_dir = path.expanduser(\"~/mlruns\")\n",
    "mlflow.set_tracking_uri(mlruns_dir)"
   ]
  },
  {
   "cell_type": "code",
   "execution_count": 4,
   "metadata": {},
   "outputs": [],
   "source": [
    "all_X, all_y = sklearn.datasets.make_regression(\n",
    "    n_samples=NUM_SAMPLES, \n",
    "    n_features=NUM_FEATURES, \n",
    "    noise=NOISE\n",
    ")\n",
    "\n",
    "train_size = int(NUM_SAMPLES * 0.7)\n",
    "val_size = int(NUM_SAMPLES * 0.2)\n",
    "test_size = NUM_SAMPLES - train_size - val_size\n",
    "\n",
    "train_X = all_X[:train_size]\n",
    "train_y = all_y[:train_size]\n",
    "trainset = t.utils.data.TensorDataset(t.from_numpy(train_X).to(t.float32), t.from_numpy(train_y).to(t.float32))\n",
    "\n",
    "val_X = all_X[train_size:train_size+val_size]\n",
    "val_y = all_y[train_size:train_size+val_size]\n",
    "valset = t.utils.data.TensorDataset(t.from_numpy(val_X).to(t.float32), t.from_numpy(val_y).to(t.float32))\n",
    "\n",
    "test_X = all_X[train_size+val_size:]\n",
    "test_y = all_y[train_size+val_size:]\n",
    "testset = t.utils.data.TensorDataset(t.from_numpy(test_X).to(t.float32), t.from_numpy(test_y).to(t.float32))"
   ]
  },
  {
   "cell_type": "code",
   "execution_count": 5,
   "metadata": {},
   "outputs": [],
   "source": [
    "class SimpleLR(t.nn.Module):\n",
    "    def __init__(self):\n",
    "        super().__init__()\n",
    "        self.fc1 = t.nn.Linear(NUM_FEATURES, 3)\n",
    "        self.fc2 = t.nn.Linear(3, 1)\n",
    "        \n",
    "    def forward(self, batch_x):\n",
    "        x = F.relu(self.fc1(batch_x))\n",
    "        batch_y_hat = self.fc2(x)\n",
    "        return t.squeeze(batch_y_hat)"
   ]
  },
  {
   "cell_type": "code",
   "execution_count": 6,
   "metadata": {},
   "outputs": [],
   "source": [
    "@dataclass\n",
    "class Hyperparams:\n",
    "    batch_size: int = 10\n",
    "    epochs: int = 10\n",
    "    learning_rate: float = 0.0001\n",
    "\n",
    "    def to_dict(self):\n",
    "        return {\n",
    "            \"batch_size\": self.batch_size,\n",
    "            \"epochs\": self.epochs,\n",
    "            \"learning_rate\": self.learning_rate\n",
    "        }"
   ]
  },
  {
   "cell_type": "code",
   "execution_count": 7,
   "metadata": {},
   "outputs": [],
   "source": [
    "experiment_name = \"LearnMLFlow\"\n",
    "run_name = Haikunator().haikunate()\n",
    "\n",
    "def train(model, optim, loss_fn, epochs, trainloader, valloader, hparams):\n",
    "    mlflow.set_experiment(experiment_name)\n",
    "    model = model.to(DEVICE)\n",
    "\n",
    "    with mlflow.start_run(run_name=run_name):\n",
    "        mlflow.log_params(hparams.to_dict())\n",
    "        for epoch in range(epochs):\n",
    "            # Process the training set\n",
    "            train_losses = []\n",
    "            train_outputs = t.tensor([], dtype=t.float32).to(DEVICE)\n",
    "            train_targets = t.tensor([], dtype=t.float32).to(DEVICE)\n",
    "            model.train()\n",
    "            with t.enable_grad():\n",
    "                for batch_X, batch_y in trainloader:\n",
    "                    batch_X = batch_X.to(DEVICE)\n",
    "                    batch_y = batch_y.to(DEVICE)\n",
    "\n",
    "                    optim.zero_grad()\n",
    "                    batch_y_hat = model.forward(batch_X)\n",
    "                    loss = loss_fn(batch_y_hat, batch_y)\n",
    "                    loss.backward()\n",
    "                    optim.step()\n",
    "\n",
    "                    train_losses.append(loss.detach().item())\n",
    "                    train_outputs = t.cat((train_outputs, batch_y_hat.detach()))\n",
    "                    train_targets = t.cat((train_targets, batch_y.detach()))\n",
    "            train_loss = np.mean(train_losses)\n",
    "            train_rmse = t.sqrt(F.mse_loss(train_outputs, train_targets)).cpu().numpy()\n",
    "\n",
    "            # Calculate the validation metrics\n",
    "            val_losses = []\n",
    "            val_outputs = t.tensor([], dtype=t.float32).to(DEVICE)\n",
    "            val_targets = t.tensor([], dtype=t.float32).to(DEVICE)\n",
    "            model.eval()\n",
    "            with t.no_grad():\n",
    "                for batch_X, batch_y in valloader:\n",
    "                    batch_X = batch_X.to(DEVICE)\n",
    "                    batch_y = batch_y.to(DEVICE)\n",
    "                    batch_y_hat = model(batch_X)\n",
    "                    loss = loss_fn(batch_y_hat, batch_y)\n",
    "                    val_losses.append(loss.detach().item())\n",
    "                    val_outputs = t.cat((val_outputs, batch_y_hat.detach()))\n",
    "                    val_targets = t.cat((val_targets, batch_y.detach()))\n",
    "            val_loss = np.mean(val_losses)\n",
    "            val_rmse = t.sqrt(F.mse_loss(val_outputs, val_targets)).cpu().numpy()\n",
    "\n",
    "            mlflow.log_metric(\"train_loss\", np.around(train_loss, 3), step=epoch)\n",
    "            mlflow.log_metric(\"val_loss\", np.around(val_loss, 3), step=epoch)\n",
    "            mlflow.log_metric(\"train_rmse\", np.around(train_rmse, 3), step=epoch)\n",
    "            mlflow.log_metric(\"val_rmse\", np.around(val_rmse, 3), step=epoch)\n",
    "            print(f\"\\nEpoch {epoch}:\")\n",
    "            print(f\"Loss: train={train_loss:.3f}, validation={val_loss:.3f}\")\n",
    "            print(f\"RMSE: train={train_rmse:.3f}, validaiton={val_rmse:.3f}\")\n",
    "\n",
    "        mlflow.pytorch.log_model(model, \"model\")"
   ]
  },
  {
   "cell_type": "code",
   "execution_count": 8,
   "metadata": {},
   "outputs": [],
   "source": [
    "hparams = Hyperparams(batch_size=32, epochs=5, learning_rate=0.005)\n",
    "model = SimpleLR()\n",
    "optim = t.optim.Adam(model.parameters(), lr=hparams.learning_rate)\n",
    "loss_fn = t.nn.MSELoss(reduction=\"mean\")\n",
    "trainloader = t.utils.data.DataLoader(trainset, batch_size=hparams.batch_size, shuffle=True)\n",
    "valloader = t.utils.data.DataLoader(valset, batch_size=5000)"
   ]
  },
  {
   "cell_type": "code",
   "execution_count": 9,
   "metadata": {},
   "outputs": [
    {
     "name": "stdout",
     "output_type": "stream",
     "text": [
      "\n",
      "Epoch 0:\n",
      "Loss: train=15221.317, validation=12371.591\n",
      "RMSE: train=123.382, validaiton=111.228\n",
      "\n",
      "Epoch 1:\n",
      "Loss: train=11429.276, validation=11162.140\n",
      "RMSE: train=106.909, validaiton=105.651\n",
      "\n",
      "Epoch 2:\n",
      "Loss: train=10300.358, validation=10062.487\n",
      "RMSE: train=101.496, validaiton=100.312\n",
      "\n",
      "Epoch 3:\n",
      "Loss: train=9270.617, validation=9056.615\n",
      "RMSE: train=96.280, validaiton=95.166\n",
      "\n",
      "Epoch 4:\n",
      "Loss: train=8326.144, validation=8137.731\n",
      "RMSE: train=91.255, validaiton=90.209\n"
     ]
    },
    {
     "name": "stderr",
     "output_type": "stream",
     "text": [
      "/anaconda/envs/py37_pytorch/lib/python3.7/site-packages/torch/serialization.py:360: UserWarning: Couldn't retrieve source code for container of type SimpleLR. It won't be checked for correctness upon loading.\n",
      "  \"type \" + obj.__name__ + \". It won't be checked \"\n"
     ]
    }
   ],
   "source": [
    "train(model, optim, loss_fn, hparams.epochs, trainloader, valloader, hparams)"
   ]
  },
  {
   "cell_type": "code",
   "execution_count": 10,
   "metadata": {},
   "outputs": [
    {
     "data": {
      "text/plain": [
       "[Parameter containing:\n",
       " tensor([[-2.6699, -4.8544, -4.8110, -3.6846, -5.7742],\n",
       "         [-2.6518, -4.8366, -4.7337, -3.6286, -5.7307],\n",
       "         [-2.5713, -4.6761, -4.6174, -3.5305, -5.5658]], device='cuda:0',\n",
       "        requires_grad=True), Parameter containing:\n",
       " tensor([3.1071, 3.0833, 3.0081], device='cuda:0', requires_grad=True), Parameter containing:\n",
       " tensor([[-5.4482, -5.6179, -5.5708]], device='cuda:0', requires_grad=True), Parameter containing:\n",
       " tensor([51.0001], device='cuda:0', requires_grad=True)]"
      ]
     },
     "execution_count": 10,
     "metadata": {},
     "output_type": "execute_result"
    }
   ],
   "source": [
    "list(model.parameters())"
   ]
  },
  {
   "cell_type": "code",
   "execution_count": 11,
   "metadata": {},
   "outputs": [],
   "source": [
    "saved_model = mlflow.pytorch.load_model(\"/home/avilay/mlruns/0/198ddcd3e2fb4840aa1d9a4503cd1d4f/artifacts/model\")"
   ]
  },
  {
   "cell_type": "code",
   "execution_count": 12,
   "metadata": {},
   "outputs": [
    {
     "data": {
      "text/plain": [
       "[Parameter containing:\n",
       " tensor([[-2.6699, -4.8544, -4.8110, -3.6846, -5.7742],\n",
       "         [-2.6518, -4.8366, -4.7337, -3.6286, -5.7307],\n",
       "         [-2.5713, -4.6761, -4.6174, -3.5305, -5.5658]], device='cuda:0',\n",
       "        requires_grad=True), Parameter containing:\n",
       " tensor([3.1071, 3.0833, 3.0081], device='cuda:0', requires_grad=True), Parameter containing:\n",
       " tensor([[-5.4482, -5.6179, -5.5708]], device='cuda:0', requires_grad=True), Parameter containing:\n",
       " tensor([51.0001], device='cuda:0', requires_grad=True)]"
      ]
     },
     "execution_count": 12,
     "metadata": {},
     "output_type": "execute_result"
    }
   ],
   "source": [
    "list(saved_model.parameters())"
   ]
  },
  {
   "cell_type": "code",
   "execution_count": 13,
   "metadata": {},
   "outputs": [
    {
     "name": "stdout",
     "output_type": "stream",
     "text": [
      "Test RMSE=90.546\n",
      "[(62.163883, 51.000103), (-32.936485, -32.043056), (128.3833, 51.000103), (29.020142, 29.346474), (218.82535, 51.000103)]\n"
     ]
    }
   ],
   "source": [
    "testloader = t.utils.data.DataLoader(testset, batch_size=len(testset))\n",
    "X, y = next(iter(testloader))\n",
    "X = X.to(DEVICE)\n",
    "y = y.to(DEVICE)\n",
    "saved_model.eval()\n",
    "with t.no_grad():\n",
    "    y_hat = saved_model(X)\n",
    "    test_rmse = t.sqrt(F.mse_loss(y_hat, y)).cpu()\n",
    "print(f\"Test RMSE={test_rmse:.3f}\")\n",
    "print(list(zip(y[:5].cpu().numpy(), y_hat[:5].cpu().numpy())))"
   ]
  },
  {
   "cell_type": "code",
   "execution_count": null,
   "metadata": {},
   "outputs": [],
   "source": []
  }
 ],
 "metadata": {
  "file_extension": ".py",
  "kernelspec": {
   "display_name": "Python 3",
   "language": "python",
   "name": "python3"
  },
  "language_info": {
   "codemirror_mode": {
    "name": "ipython",
    "version": 3
   },
   "file_extension": ".py",
   "mimetype": "text/x-python",
   "name": "python",
   "nbconvert_exporter": "python",
   "pygments_lexer": "ipython3",
   "version": "3.8.8"
  },
  "mimetype": "text/x-python",
  "name": "python",
  "npconvert_exporter": "python",
  "pygments_lexer": "ipython3",
  "version": 3
 },
 "nbformat": 4,
 "nbformat_minor": 4
}
