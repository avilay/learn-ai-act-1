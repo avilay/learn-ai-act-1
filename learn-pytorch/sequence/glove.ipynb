{
 "cells": [
  {
   "cell_type": "code",
   "execution_count": 1,
   "id": "bb031802-26d7-4ed7-a63e-adacaed9aceb",
   "metadata": {},
   "outputs": [],
   "source": [
    "%load_ext autoreload\n",
    "%autoreload 2"
   ]
  },
  {
   "cell_type": "code",
   "execution_count": 7,
   "id": "41700716-a6f5-49b9-9c50-74b5d0ae73e8",
   "metadata": {},
   "outputs": [],
   "source": [
    "from imdb.data import get_vocab\n",
    "from imdb.glove.model import SimpleGlove\n",
    "from imdb.glove.train import train, LoggerType\n",
    "from pathlib import Path\n",
    "import torch as t\n",
    "import torchtext as tt"
   ]
  },
  {
   "cell_type": "code",
   "execution_count": 8,
   "id": "029bf5d0-a751-444f-9c7c-0828f672b16d",
   "metadata": {},
   "outputs": [],
   "source": [
    "DATAROOT = Path.home() / \"mldata\"\n",
    "RUNROOT = Path.home() / \"mlruns\" / \"imdb\"\n",
    "t.set_printoptions(precision=8)"
   ]
  },
  {
   "cell_type": "code",
   "execution_count": 9,
   "id": "0521251c-041d-4619-bb8d-3d1a36ce1e20",
   "metadata": {},
   "outputs": [],
   "source": [
    "vocab, _ = get_vocab(DATAROOT)"
   ]
  },
  {
   "cell_type": "markdown",
   "id": "393de96f-b4d7-4536-8a7e-2ca0a476c931",
   "metadata": {},
   "source": [
    "# Glove\n",
    "\n",
    "In this experiment we'll build on the Simple model. We'll replace the self-learnt embedding layer with a frozen embedding layer pre-trained with GloVe word vectors. The rest of the arch remains the same.\n",
    "\n",
    "![glove](./imgs/glove_cg.png)"
   ]
  },
  {
   "cell_type": "markdown",
   "id": "11af3704-641f-413a-85f3-4b116bfff9b3",
   "metadata": {},
   "source": [
    "Best Params: {'max_epochs': 4, 'max_seq_len': 500, 'batch_size': 16, 'embedding_dim': 3│  adding: lightning_logs/version_2/loss_val_loss/events.out.tfevents.1678940478.ip-172-\n",
    "00, 'learning_rate': 0.000919442961068307}                                             │31-36-29.3464.6 (deflated 12%)\n",
    "Values: ({'accuracy': 0.7604166865348816}, {'accuracy': {'accuracy': 0.0}})"
   ]
  },
  {
   "cell_type": "code",
   "execution_count": 14,
   "id": "beb3344c-8e44-4274-a878-4ecc7f5748ff",
   "metadata": {},
   "outputs": [],
   "source": [
    "# hyperparams\n",
    "max_epochs = 5\n",
    "max_seq_len = 200\n",
    "batch_size = 16\n",
    "embedding_dim = 100\n",
    "learning_rate = 0.0001"
   ]
  },
  {
   "cell_type": "code",
   "execution_count": 11,
   "id": "6ab27d02-028b-4e13-a78c-b8c4ece62a4c",
   "metadata": {},
   "outputs": [
    {
     "name": "stdout",
     "output_type": "stream",
     "text": [
      "SimpleGlove(\n",
      "  (embedding): Embedding(147156, 50)\n",
      "  (fc1): Linear(in_features=5000, out_features=1024, bias=True)\n",
      "  (fc2): Linear(in_features=1024, out_features=64, bias=True)\n",
      "  (logits): Linear(in_features=64, out_features=1, bias=True)\n",
      ")\n"
     ]
    }
   ],
   "source": [
    "glove_vecs = tt.vocab.GloVe(name=\"6B\", dim=embedding_dim, cache=DATAROOT / \"glove\")\n",
    "imdb_vecs = glove_vecs.get_vecs_by_tokens(vocab.get_itos())\n",
    "simple_glove = SimpleGlove(imdb_vecs, max_seq_len)\n",
    "print(simple_glove)"
   ]
  },
  {
   "cell_type": "code",
   "execution_count": 15,
   "id": "b5eb1567-86c3-4ba1-8e33-592c9c893948",
   "metadata": {},
   "outputs": [
    {
     "name": "stdout",
     "output_type": "stream",
     "text": [
      "Instantiating model\n"
     ]
    },
    {
     "name": "stderr",
     "output_type": "stream",
     "text": [
      "GPU available: True (mps), used: False\n",
      "TPU available: False, using: 0 TPU cores\n",
      "IPU available: False, using: 0 IPUs\n",
      "HPU available: False, using: 0 HPUs\n"
     ]
    },
    {
     "name": "stdout",
     "output_type": "stream",
     "text": [
      "Instantiating data module\n",
      "Instantiating trainer\n",
      "Start training\n"
     ]
    },
    {
     "name": "stderr",
     "output_type": "stream",
     "text": [
      "\n",
      "  | Name      | Type              | Params\n",
      "------------------------------------------------\n",
      "0 | model     | SimpleGlove       | 35.3 M\n",
      "1 | loss_fn   | BCEWithLogitsLoss | 0     \n",
      "2 | train_acc | BinaryAccuracy    | 0     \n",
      "3 | val_acc   | BinaryAccuracy    | 0     \n",
      "------------------------------------------------\n",
      "20.5 M    Trainable params\n",
      "14.7 M    Non-trainable params\n",
      "35.3 M    Total params\n",
      "141.049   Total estimated model params size (MB)\n"
     ]
    },
    {
     "data": {
      "application/vnd.jupyter.widget-view+json": {
       "model_id": "ef8e414a23c6454cb0e0fbb7abbd68b1",
       "version_major": 2,
       "version_minor": 0
      },
      "text/plain": [
       "Training: 0it [00:00, ?it/s]"
      ]
     },
     "metadata": {},
     "output_type": "display_data"
    },
    {
     "data": {
      "application/vnd.jupyter.widget-view+json": {
       "model_id": "",
       "version_major": 2,
       "version_minor": 0
      },
      "text/plain": [
       "Validation: 0it [00:00, ?it/s]"
      ]
     },
     "metadata": {},
     "output_type": "display_data"
    },
    {
     "data": {
      "application/vnd.jupyter.widget-view+json": {
       "model_id": "",
       "version_major": 2,
       "version_minor": 0
      },
      "text/plain": [
       "Validation: 0it [00:00, ?it/s]"
      ]
     },
     "metadata": {},
     "output_type": "display_data"
    },
    {
     "data": {
      "application/vnd.jupyter.widget-view+json": {
       "model_id": "",
       "version_major": 2,
       "version_minor": 0
      },
      "text/plain": [
       "Validation: 0it [00:00, ?it/s]"
      ]
     },
     "metadata": {},
     "output_type": "display_data"
    },
    {
     "data": {
      "application/vnd.jupyter.widget-view+json": {
       "model_id": "",
       "version_major": 2,
       "version_minor": 0
      },
      "text/plain": [
       "Validation: 0it [00:00, ?it/s]"
      ]
     },
     "metadata": {},
     "output_type": "display_data"
    },
    {
     "data": {
      "application/vnd.jupyter.widget-view+json": {
       "model_id": "",
       "version_major": 2,
       "version_minor": 0
      },
      "text/plain": [
       "Validation: 0it [00:00, ?it/s]"
      ]
     },
     "metadata": {},
     "output_type": "display_data"
    },
    {
     "name": "stderr",
     "output_type": "stream",
     "text": [
      "`Trainer.fit` stopped: `max_epochs=5` reached.\n",
      "Restoring states from the checkpoint path at /Users/avilayparekh/mlruns/imdb/lightning_logs/version_1/checkpoints/epoch=4-step=7815.ckpt\n",
      "Loaded model weights from checkpoint at /Users/avilayparekh/mlruns/imdb/lightning_logs/version_1/checkpoints/epoch=4-step=7815.ckpt\n"
     ]
    },
    {
     "data": {
      "application/vnd.jupyter.widget-view+json": {
       "model_id": "28f5a3bb6b0f44a6920c0d24108c2b36",
       "version_major": 2,
       "version_minor": 0
      },
      "text/plain": [
       "Validation: 0it [00:00, ?it/s]"
      ]
     },
     "metadata": {},
     "output_type": "display_data"
    },
    {
     "name": "stdout",
     "output_type": "stream",
     "text": [
      "────────────────────────────────────────────────────────────────────────────────────────────────────────────────────────\n",
      "     Validate metric           DataLoader 0\n",
      "────────────────────────────────────────────────────────────────────────────────────────────────────────────────────────\n",
      "       acc:val_acc           0.73416668176651\n",
      "      loss:val_loss         0.6476219892501831\n",
      "         val_acc             0.73416668176651\n",
      "────────────────────────────────────────────────────────────────────────────────────────────────────────────────────────\n"
     ]
    }
   ],
   "source": [
    "train(LoggerType.TB, max_epochs, max_seq_len, batch_size, embedding_dim, learning_rate)"
   ]
  },
  {
   "cell_type": "code",
   "execution_count": null,
   "id": "3ac25dcd-aec3-4a4b-9697-f347f1c0cc47",
   "metadata": {},
   "outputs": [],
   "source": []
  }
 ],
 "metadata": {
  "kernelspec": {
   "display_name": "Python 3 (ipykernel)",
   "language": "python",
   "name": "python3"
  },
  "language_info": {
   "codemirror_mode": {
    "name": "ipython",
    "version": 3
   },
   "file_extension": ".py",
   "mimetype": "text/x-python",
   "name": "python",
   "nbconvert_exporter": "python",
   "pygments_lexer": "ipython3",
   "version": "3.10.9"
  }
 },
 "nbformat": 4,
 "nbformat_minor": 5
}
