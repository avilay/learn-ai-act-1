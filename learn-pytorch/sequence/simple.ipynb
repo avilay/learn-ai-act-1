{
 "cells": [
  {
   "cell_type": "code",
   "execution_count": 1,
   "id": "0e62a95e-b67a-4334-bbee-ab35b403d943",
   "metadata": {},
   "outputs": [],
   "source": [
    "%load_ext autoreload\n",
    "%autoreload 2"
   ]
  },
  {
   "cell_type": "code",
   "execution_count": 7,
   "id": "1ffd1aa0-194e-463b-9272-5570764b237e",
   "metadata": {},
   "outputs": [],
   "source": [
    "from pathlib import Path\n",
    "\n",
    "from imdb.simple.train import train, LoggerType\n",
    "from imdb.simple.model import Simple\n",
    "from imdb.data import get_vocab"
   ]
  },
  {
   "cell_type": "code",
   "execution_count": 8,
   "id": "7974e5cb-7ad5-4ebb-b86f-1c068ec98773",
   "metadata": {},
   "outputs": [],
   "source": [
    "DATAROOT = Path.home() / \"mldata\"\n",
    "RUNROOT = Path.home() / \"mlruns\" / \"imdb\"\n",
    "t.set_printoptions(precision=8)"
   ]
  },
  {
   "cell_type": "code",
   "execution_count": 9,
   "id": "d880f9f8-97ff-4451-8954-69ac1e2d0ddd",
   "metadata": {},
   "outputs": [],
   "source": [
    "vocab, _ = get_vocab(DATAROOT)"
   ]
  },
  {
   "cell_type": "markdown",
   "id": "705e0714-4baa-4a6c-a3a3-5c01a00e774a",
   "metadata": {},
   "source": [
    "# Simple"
   ]
  },
  {
   "cell_type": "markdown",
   "id": "ace10ca0-83be-4427-9cfa-73173642aae0",
   "metadata": {},
   "source": [
    "In this experiment lets create an end-to-end simple MLP that will learn the embedding table along with the rest of the weights. The actual input is a phrase which is converted into a vector of ints, with each element being the index of the corresponding token. Here is the compute graph of the NN:\n",
    "\n",
    "![simple_cg](./imgs/simple_cg.png)\n",
    "\n",
    "After tuning the best hyperparams are as shown in the next cell. This give a validation accuracy of 73%."
   ]
  },
  {
   "cell_type": "code",
   "execution_count": 4,
   "id": "2e1d998a",
   "metadata": {},
   "outputs": [],
   "source": [
    "# hyperparams\n",
    "max_epochs = 9\n",
    "max_seq_len = 100\n",
    "batch_size = 8\n",
    "embedding_dim = 25\n",
    "learning_rate = 0.00158223651599205"
   ]
  },
  {
   "cell_type": "code",
   "execution_count": 10,
   "id": "f4cc37b3",
   "metadata": {},
   "outputs": [
    {
     "name": "stdout",
     "output_type": "stream",
     "text": [
      "Simple(\n",
      "  (embedding): Embedding(147156, 25)\n",
      "  (fc1): Linear(in_features=2500, out_features=1024, bias=True)\n",
      "  (fc2): Linear(in_features=1024, out_features=64, bias=True)\n",
      "  (logits): Linear(in_features=64, out_features=1, bias=True)\n",
      ")\n"
     ]
    }
   ],
   "source": [
    "print(Simple(len(vocab), max_seq_len, embedding_dim))"
   ]
  },
  {
   "cell_type": "code",
   "execution_count": 11,
   "id": "e51263b2",
   "metadata": {},
   "outputs": [
    {
     "name": "stderr",
     "output_type": "stream",
     "text": [
      "GPU available: True (mps), used: False\n",
      "TPU available: False, using: 0 TPU cores\n",
      "IPU available: False, using: 0 IPUs\n",
      "HPU available: False, using: 0 HPUs\n"
     ]
    },
    {
     "name": "stdout",
     "output_type": "stream",
     "text": [
      "Instantiating model\n",
      "Instantiating data module\n",
      "Instantiating trainer\n",
      "Start training\n"
     ]
    },
    {
     "name": "stderr",
     "output_type": "stream",
     "text": [
      "\n",
      "  | Name      | Type              | Params\n",
      "------------------------------------------------\n",
      "0 | model     | Simple            | 6.3 M \n",
      "1 | loss_fn   | BCEWithLogitsLoss | 0     \n",
      "2 | train_acc | BinaryAccuracy    | 0     \n",
      "3 | val_acc   | BinaryAccuracy    | 0     \n",
      "------------------------------------------------\n",
      "6.3 M     Trainable params\n",
      "0         Non-trainable params\n",
      "6.3 M     Total params\n",
      "25.222    Total estimated model params size (MB)\n"
     ]
    },
    {
     "data": {
      "application/vnd.jupyter.widget-view+json": {
       "model_id": "4d089b4ebb604783944382739b8da6e6",
       "version_major": 2,
       "version_minor": 0
      },
      "text/plain": [
       "Training: 0it [00:00, ?it/s]"
      ]
     },
     "metadata": {},
     "output_type": "display_data"
    },
    {
     "data": {
      "application/vnd.jupyter.widget-view+json": {
       "model_id": "",
       "version_major": 2,
       "version_minor": 0
      },
      "text/plain": [
       "Validation: 0it [00:00, ?it/s]"
      ]
     },
     "metadata": {},
     "output_type": "display_data"
    },
    {
     "data": {
      "application/vnd.jupyter.widget-view+json": {
       "model_id": "",
       "version_major": 2,
       "version_minor": 0
      },
      "text/plain": [
       "Validation: 0it [00:00, ?it/s]"
      ]
     },
     "metadata": {},
     "output_type": "display_data"
    },
    {
     "data": {
      "application/vnd.jupyter.widget-view+json": {
       "model_id": "",
       "version_major": 2,
       "version_minor": 0
      },
      "text/plain": [
       "Validation: 0it [00:00, ?it/s]"
      ]
     },
     "metadata": {},
     "output_type": "display_data"
    },
    {
     "data": {
      "application/vnd.jupyter.widget-view+json": {
       "model_id": "",
       "version_major": 2,
       "version_minor": 0
      },
      "text/plain": [
       "Validation: 0it [00:00, ?it/s]"
      ]
     },
     "metadata": {},
     "output_type": "display_data"
    },
    {
     "data": {
      "application/vnd.jupyter.widget-view+json": {
       "model_id": "",
       "version_major": 2,
       "version_minor": 0
      },
      "text/plain": [
       "Validation: 0it [00:00, ?it/s]"
      ]
     },
     "metadata": {},
     "output_type": "display_data"
    },
    {
     "data": {
      "application/vnd.jupyter.widget-view+json": {
       "model_id": "",
       "version_major": 2,
       "version_minor": 0
      },
      "text/plain": [
       "Validation: 0it [00:00, ?it/s]"
      ]
     },
     "metadata": {},
     "output_type": "display_data"
    },
    {
     "data": {
      "application/vnd.jupyter.widget-view+json": {
       "model_id": "",
       "version_major": 2,
       "version_minor": 0
      },
      "text/plain": [
       "Validation: 0it [00:00, ?it/s]"
      ]
     },
     "metadata": {},
     "output_type": "display_data"
    },
    {
     "data": {
      "application/vnd.jupyter.widget-view+json": {
       "model_id": "",
       "version_major": 2,
       "version_minor": 0
      },
      "text/plain": [
       "Validation: 0it [00:00, ?it/s]"
      ]
     },
     "metadata": {},
     "output_type": "display_data"
    },
    {
     "data": {
      "application/vnd.jupyter.widget-view+json": {
       "model_id": "",
       "version_major": 2,
       "version_minor": 0
      },
      "text/plain": [
       "Validation: 0it [00:00, ?it/s]"
      ]
     },
     "metadata": {},
     "output_type": "display_data"
    },
    {
     "name": "stderr",
     "output_type": "stream",
     "text": [
      "`Trainer.fit` stopped: `max_epochs=9` reached.\n",
      "Restoring states from the checkpoint path at /Users/avilayparekh/mlruns/imdb/lightning_logs/version_1/checkpoints/epoch=8-step=28125.ckpt\n",
      "Loaded model weights from checkpoint at /Users/avilayparekh/mlruns/imdb/lightning_logs/version_1/checkpoints/epoch=8-step=28125.ckpt\n"
     ]
    },
    {
     "data": {
      "application/vnd.jupyter.widget-view+json": {
       "model_id": "2b8fb61548e344f8aa9bdb55c24c3cf9",
       "version_major": 2,
       "version_minor": 0
      },
      "text/plain": [
       "Validation: 0it [00:00, ?it/s]"
      ]
     },
     "metadata": {},
     "output_type": "display_data"
    },
    {
     "name": "stdout",
     "output_type": "stream",
     "text": [
      "────────────────────────────────────────────────────────────────────────────────────────────────────────────────────────\n",
      "     Validate metric           DataLoader 0\n",
      "────────────────────────────────────────────────────────────────────────────────────────────────────────────────────────\n",
      "       acc:val_acc          0.7595833539962769\n",
      "      loss:val_loss          1.887384057044983\n",
      "         val_acc            0.7595833539962769\n",
      "────────────────────────────────────────────────────────────────────────────────────────────────────────────────────────\n"
     ]
    }
   ],
   "source": [
    "train(LoggerType.TB, max_epochs, max_seq_len, batch_size, embedding_dim, learning_rate)"
   ]
  },
  {
   "cell_type": "markdown",
   "id": "94111578-1c4c-41d6-9cc7-57bd5112d5ea",
   "metadata": {},
   "source": [
    "As can be seen in the learning curves below, even though the validation accuracy is 74%, the model is terribly overfit. Orange is validation and blue is train.\n",
    "\n",
    "![lc](./imgs/simple_lc.png)"
   ]
  },
  {
   "cell_type": "code",
   "execution_count": null,
   "id": "b57d9b54-e7c9-4dc2-a368-4f113acf1ac0",
   "metadata": {},
   "outputs": [],
   "source": []
  }
 ],
 "metadata": {
  "kernelspec": {
   "display_name": "Python 3 (ipykernel)",
   "language": "python",
   "name": "python3"
  },
  "language_info": {
   "codemirror_mode": {
    "name": "ipython",
    "version": 3
   },
   "file_extension": ".py",
   "mimetype": "text/x-python",
   "name": "python",
   "nbconvert_exporter": "python",
   "pygments_lexer": "ipython3",
   "version": "3.10.9"
  }
 },
 "nbformat": 4,
 "nbformat_minor": 5
}
