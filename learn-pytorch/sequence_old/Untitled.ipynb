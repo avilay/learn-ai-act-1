{
 "cells": [
  {
   "cell_type": "code",
   "execution_count": 1,
   "id": "914f8d12-8041-4c50-877f-bb3360eaca42",
   "metadata": {},
   "outputs": [],
   "source": [
    "import torch as t\n",
    "import torch.nn.functional as F\n",
    "import torchtext as tt"
   ]
  },
  {
   "cell_type": "code",
   "execution_count": 2,
   "id": "55e54f30-480a-4bce-8c88-5792b0a547dd",
   "metadata": {},
   "outputs": [],
   "source": [
    "class SimpleGlove(t.nn.Module):\n",
    "    def __init__(self, imdb_vecs, max_seq_len):\n",
    "        super().__init__()\n",
    "        self.embedding = t.nn.Embedding.from_pretrained(imdb_vecs)\n",
    "        embedding_dim = imdb_vecs[0].shape[0]\n",
    "        self.fc1 = t.nn.Linear(max_seq_len * embedding_dim, 1024)\n",
    "        self.fc2 = t.nn.Linear(1024, 64)\n",
    "        self.logits = t.nn.Linear(64, 1)\n",
    "        \n",
    "    def forward(self, contents):\n",
    "        batch_size = contents.shape[0]\n",
    "        x = self.embedding(contents)\n",
    "        x = x.view(batch_size, -1)\n",
    "        x = F.relu(self.fc1(x))\n",
    "        x = F.relu(self.fc2(x))\n",
    "        return self.logits(x).squeeze(dim=1)"
   ]
  },
  {
   "cell_type": "code",
   "execution_count": null,
   "id": "825c1751-597c-4f02-a426-6169060f631f",
   "metadata": {},
   "outputs": [],
   "source": []
  }
 ],
 "metadata": {
  "kernelspec": {
   "display_name": "Python 3 (ipykernel)",
   "language": "python",
   "name": "python3"
  },
  "language_info": {
   "codemirror_mode": {
    "name": "ipython",
    "version": 3
   },
   "file_extension": ".py",
   "mimetype": "text/x-python",
   "name": "python",
   "nbconvert_exporter": "python",
   "pygments_lexer": "ipython3",
   "version": "3.10.9"
  }
 },
 "nbformat": 4,
 "nbformat_minor": 5
}
