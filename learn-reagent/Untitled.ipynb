{
 "cells": [
  {
   "cell_type": "code",
   "execution_count": 1,
   "id": "6ce06a45-2819-4d24-ab69-8fb9619b9f4c",
   "metadata": {},
   "outputs": [
    {
     "name": "stderr",
     "output_type": "stream",
     "text": [
      "INFO:reagent.core.dataclasses:USE_VANILLA_DATACLASS: False\n",
      "INFO:reagent.core.dataclasses:ARBITRARY_TYPES_ALLOWED: True\n",
      "INFO:reagent.core.registry_meta:Adding REGISTRY to type TrainingReport\n",
      "INFO:reagent.core.registry_meta:Not Registering TrainingReport to TrainingReport. Abstract method [] are not implemented.\n",
      "INFO:reagent.core.registry_meta:Adding REGISTRY to type PublishingResult\n",
      "INFO:reagent.core.registry_meta:Not Registering PublishingResult to PublishingResult. Abstract method [] are not implemented.\n",
      "INFO:reagent.core.registry_meta:Adding REGISTRY to type ValidationResult\n",
      "INFO:reagent.core.registry_meta:Not Registering ValidationResult to ValidationResult. Abstract method [] are not implemented.\n",
      "INFO:reagent.core.registry_meta:Registering NoPublishingResults to PublishingResult\n",
      "INFO:reagent.core.registry_meta:Using no_publishing_results instead of NoPublishingResults\n",
      "INFO:reagent.core.registry_meta:Registering NoValidationResults to ValidationResult\n",
      "INFO:reagent.core.registry_meta:Using no_validation_results instead of NoValidationResults\n",
      "INFO:reagent.core.registry_meta:Adding REGISTRY to type LearningRateSchedulerConfig\n",
      "INFO:reagent.core.registry_meta:Not Registering LearningRateSchedulerConfig to LearningRateSchedulerConfig. Abstract method [] are not implemented.\n",
      "INFO:reagent.core.registry_meta:Adding REGISTRY to type OptimizerConfig\n",
      "INFO:reagent.core.registry_meta:Not Registering OptimizerConfig to OptimizerConfig. Abstract method [] are not implemented.\n",
      "INFO:reagent.core.registry_meta:Registering Adam to OptimizerConfig\n",
      "INFO:reagent.core.registry_meta:Registering NAdam to OptimizerConfig\n",
      "INFO:reagent.core.registry_meta:Registering RAdam to OptimizerConfig\n",
      "INFO:reagent.core.registry_meta:Registering SGD to OptimizerConfig\n",
      "INFO:reagent.core.registry_meta:Registering AdamW to OptimizerConfig\n",
      "INFO:reagent.core.registry_meta:Registering SparseAdam to OptimizerConfig\n",
      "INFO:reagent.core.registry_meta:Registering Adamax to OptimizerConfig\n",
      "INFO:reagent.core.registry_meta:Registering LBFGS to OptimizerConfig\n",
      "INFO:reagent.core.registry_meta:Registering Rprop to OptimizerConfig\n",
      "INFO:reagent.core.registry_meta:Registering ASGD to OptimizerConfig\n",
      "INFO:reagent.core.registry_meta:Registering Adadelta to OptimizerConfig\n",
      "INFO:reagent.core.registry_meta:Registering Adagrad to OptimizerConfig\n",
      "INFO:reagent.core.registry_meta:Registering RMSprop to OptimizerConfig\n",
      "INFO:reagent.core.registry_meta:Adding REGISTRY to type EnvWrapper\n",
      "INFO:reagent.core.registry_meta:Not Registering EnvWrapper to EnvWrapper. Abstract method ['obs_preprocessor', 'make', 'serving_obs_preprocessor'] are not implemented.\n",
      "INFO:reagent.core.registry_meta:Registering ChangingArms to EnvWrapper\n",
      "INFO:reagent.core.registry_meta:Registering Gym to EnvWrapper\n",
      "INFO:root:Registering id=Pocman-v0, entry_point=reagent.gym.envs.pomdp.pocman:PocManEnv.\n",
      "INFO:root:Registering id=StringGame-v0, entry_point=reagent.gym.envs.pomdp.string_game:StringGameEnv.\n",
      "INFO:root:Registering id=LinearDynamics-v0, entry_point=reagent.gym.envs.dynamics.linear_dynamics:LinDynaEnv.\n",
      "INFO:root:Registering id=PossibleActionsMaskTester-v0, entry_point=reagent.gym.envs.functionality.possible_actions_mask_tester:PossibleActionsMaskTester.\n",
      "INFO:root:Registering id=StringGame-v1, entry_point=reagent.gym.envs.pomdp.string_game_v1:StringGameEnvV1.\n",
      "WARNING:reagent.gym.preprocessors.replay_buffer_inserters:ReplayBuffer.create_from_env() will not recognize RecSim env\n"
     ]
    }
   ],
   "source": [
    "from reagent.gym.envs import Env__Union, Gym"
   ]
  },
  {
   "cell_type": "code",
   "execution_count": 2,
   "id": "11a132f7-65b8-4753-afe0-4339b3fea728",
   "metadata": {},
   "outputs": [
    {
     "name": "stderr",
     "output_type": "stream",
     "text": [
      "INFO:reagent.gym.envs.env_wrapper:Env: <TimeLimit<CartPoleEnv<CartPole-v0>>>;\n",
      "observation_space: Box(-3.4028234663852886e+38, 3.4028234663852886e+38, (4,), float32);\n",
      "action_space: Discrete(2);\n"
     ]
    }
   ],
   "source": [
    "env = Env__Union(\n",
    "    ChangingArms=None, \n",
    "    Gym=Gym(env_name='CartPole-v0', set_max_steps=None)\n",
    ")"
   ]
  },
  {
   "cell_type": "code",
   "execution_count": 5,
   "id": "5a34cbb2-3eed-4d50-8710-05a9c1d94fed",
   "metadata": {},
   "outputs": [
    {
     "ename": "ImportError",
     "evalue": "cannot import name 'ModeFeatureConfigProvider__Union' from 'reagent.models.model_feature_config_provider' (/Users/avilay/projects/cloned/ReAgent/reagent/models/model_feature_config_provider.py)",
     "output_type": "error",
     "traceback": [
      "\u001b[0;31m---------------------------------------------------------------------------\u001b[0m",
      "\u001b[0;31mImportError\u001b[0m                               Traceback (most recent call last)",
      "\u001b[0;32m<ipython-input-5-ea18c9920633>\u001b[0m in \u001b[0;36m<module>\u001b[0;34m\u001b[0m\n\u001b[1;32m      2\u001b[0m \u001b[0;32mfrom\u001b[0m \u001b[0mreagent\u001b[0m\u001b[0;34m.\u001b[0m\u001b[0mtraining\u001b[0m \u001b[0;32mimport\u001b[0m \u001b[0mDQNTrainer\u001b[0m\u001b[0;34m,\u001b[0m \u001b[0mDQNTrainerParameters\u001b[0m\u001b[0;34m\u001b[0m\u001b[0;34m\u001b[0m\u001b[0m\n\u001b[1;32m      3\u001b[0m \u001b[0;32mfrom\u001b[0m \u001b[0mreagent\u001b[0m\u001b[0;34m.\u001b[0m\u001b[0mmodel_managers\u001b[0m\u001b[0;34m.\u001b[0m\u001b[0mdiscrete\u001b[0m\u001b[0;34m.\u001b[0m\u001b[0mdiscrete_dqn\u001b[0m \u001b[0;32mimport\u001b[0m \u001b[0mDiscreteDQN\u001b[0m\u001b[0;34m\u001b[0m\u001b[0;34m\u001b[0m\u001b[0m\n\u001b[0;32m----> 4\u001b[0;31m \u001b[0;32mfrom\u001b[0m \u001b[0mreagent\u001b[0m\u001b[0;34m.\u001b[0m\u001b[0mmodels\u001b[0m\u001b[0;34m.\u001b[0m\u001b[0mmodel_feature_config_provider\u001b[0m \u001b[0;32mimport\u001b[0m \u001b[0mRawModelFeatureConfigProvider\u001b[0m\u001b[0;34m,\u001b[0m \u001b[0mModeFeatureConfigProvider__Union\u001b[0m\u001b[0;34m\u001b[0m\u001b[0;34m\u001b[0m\u001b[0m\n\u001b[0m",
      "\u001b[0;31mImportError\u001b[0m: cannot import name 'ModeFeatureConfigProvider__Union' from 'reagent.models.model_feature_config_provider' (/Users/avilay/projects/cloned/ReAgent/reagent/models/model_feature_config_provider.py)"
     ]
    }
   ],
   "source": [
    "from reagent.net_builder.unions import DiscreteDQNNetBuilder__Union\n",
    "from reagent.training import DQNTrainer, DQNTrainerParameters\n",
    "from reagent.model_managers.discrete.discrete_dqn import DiscreteDQN"
   ]
  },
  {
   "cell_type": "code",
   "execution_count": 6,
   "id": "bedc1014-9188-4d51-b1bc-b64391a32683",
   "metadata": {},
   "outputs": [],
   "source": [
    "from reagent.models.model_feature_config_provider import RawModelFeatureConfigProvider"
   ]
  },
  {
   "cell_type": "code",
   "execution_count": 7,
   "id": "d54eb43d-66bf-472d-a567-afd22f9dea24",
   "metadata": {},
   "outputs": [],
   "source": [
    "from reagent.workflow.types import ModelFeatureConfigProvider__Union"
   ]
  },
  {
   "cell_type": "code",
   "execution_count": 8,
   "id": "ca3b617d-60f8-4aa4-9c5e-d8995c842064",
   "metadata": {},
   "outputs": [],
   "source": [
    "raw_state_config = RawModelFeatureConfigProvider(\n",
    "    float_feature_infos=[],\n",
    "    id_mapping_config={},\n",
    "    id_list_feature_configs=[],\n",
    "    id_score_list_feature_configs=[]\n",
    ")\n",
    "state_config = ModelFeatureConfigProvider__Union(raw=raw_state_config)"
   ]
  },
  {
   "cell_type": "code",
   "execution_count": 9,
   "id": "87c39cc7-38ff-4390-87f2-d7ad5c22790c",
   "metadata": {},
   "outputs": [],
   "source": [
    "from reagent.core.parameters import RLParameters"
   ]
  },
  {
   "cell_type": "code",
   "execution_count": 10,
   "id": "65d4662e-2b06-4ff9-b432-8d9c7eedc05d",
   "metadata": {},
   "outputs": [],
   "source": [
    "rl_params = RLParameters(\n",
    "    gamma=0.99, \n",
    "    epsilon=0.1, \n",
    "    target_update_rate=0.2, \n",
    "    maxq_learning=True, \n",
    "    reward_boost=None, \n",
    "    temperature=1.0, \n",
    "    softmax_policy=False, \n",
    "    use_seq_num_diff_as_time_diff=False, \n",
    "    q_network_loss='mse', \n",
    "    set_missing_value_to_zero=False, \n",
    "    tensorboard_logging_freq=0, \n",
    "    predictor_atol_check=0.0, \n",
    "    predictor_rtol_check=5e-05, \n",
    "    time_diff_unit_length=1.0, \n",
    "    multi_steps=None, \n",
    "    ratio_different_predictions_tolerance=0.0\n",
    ")"
   ]
  },
  {
   "cell_type": "code",
   "execution_count": 14,
   "id": "274a5762-1773-4ee7-bc2f-423cd85f37cd",
   "metadata": {},
   "outputs": [],
   "source": [
    "from reagent.optimizer.uninferrable_optimizers import Adam\n",
    "from reagent.optimizer.union import Optimizer__Union"
   ]
  },
  {
   "cell_type": "code",
   "execution_count": 15,
   "id": "d3b4556e-717a-4c6f-ba13-76a1d21f2112",
   "metadata": {},
   "outputs": [],
   "source": [
    "adam = Adam(\n",
    "    lr_schedulers=[], \n",
    "    lr=0.05, \n",
    "    betas=(0.9, 0.999), \n",
    "    eps=1e-08, \n",
    "    weight_decay=0.0, \n",
    "    amsgrad=False\n",
    ")\n",
    "optim = Optimizer__Union(Adam=adam)"
   ]
  },
  {
   "cell_type": "code",
   "execution_count": 16,
   "id": "76024d28-d96a-43e2-84eb-79aaa8eab33d",
   "metadata": {},
   "outputs": [
    {
     "data": {
      "text/plain": [
       "Optimizer__Union(Adam=Adam(lr_schedulers=[], lr=0.05, betas=(0.9, 0.999), eps=1e-08, weight_decay=0.0, amsgrad=False), NAdam=None, RAdam=None, SGD=None, AdamW=None, SparseAdam=None, Adamax=None, LBFGS=None, Rprop=None, ASGD=None, Adadelta=None, Adagrad=None, RMSprop=None)"
      ]
     },
     "execution_count": 16,
     "metadata": {},
     "output_type": "execute_result"
    }
   ],
   "source": [
    "optim"
   ]
  },
  {
   "cell_type": "code",
   "execution_count": 17,
   "id": "d16b37bc-8bbc-428d-8628-afee0b61c67c",
   "metadata": {},
   "outputs": [],
   "source": [
    "from reagent.training import DQNTrainerParameters"
   ]
  },
  {
   "cell_type": "code",
   "execution_count": 18,
   "id": "013d8bc5-96d2-45cd-96be-9e98f6da9240",
   "metadata": {},
   "outputs": [],
   "source": [
    "trainer_params = DQNTrainerParameters(\n",
    "    actions=[\"0\", \"1\"],\n",
    "    rl=rl_params,\n",
    "    double_q_learning=True,\n",
    "    bcq=None,\n",
    "    minibatch_size=1024,\n",
    "    minibatches_per_step=1,\n",
    "    optimizer=optim\n",
    ")"
   ]
  },
  {
   "cell_type": "code",
   "execution_count": 20,
   "id": "fb21de66-f100-488b-80f5-1d77f40fb007",
   "metadata": {},
   "outputs": [],
   "source": [
    "from reagent.net_builder.unions import DiscreteDQNNetBuilder__Union\n",
    "from reagent.net_builder.discrete_dqn.fully_connected import FullyConnected"
   ]
  },
  {
   "cell_type": "code",
   "execution_count": 21,
   "id": "1fba8e32-4bdd-49a8-a24d-9f2c594bad96",
   "metadata": {},
   "outputs": [],
   "source": [
    "fc = FullyConnected(\n",
    "    sizes=[128, 64],\n",
    "    activations=[\"leaky_relu\", \"leaky_relu\"],\n",
    "    dropout_ratio=0.0,\n",
    "    use_batch_norm=False\n",
    ")"
   ]
  },
  {
   "cell_type": "code",
   "execution_count": 25,
   "id": "b1ba1c59-dadd-49a5-abe2-8794ea336184",
   "metadata": {},
   "outputs": [],
   "source": [
    "net_builder = DiscreteDQNNetBuilder__Union(\n",
    "    Dueling=None, \n",
    "    FullyConnected=fc,\n",
    "    FullyConnectedWithEmbedding=None\n",
    ")"
   ]
  },
  {
   "cell_type": "code",
   "execution_count": 28,
   "id": "86f6ce82-b00d-4bef-abbc-c74ad482d7b7",
   "metadata": {},
   "outputs": [],
   "source": [
    "fc2 = FullyConnected(\n",
    "    sizes=[256, 128],\n",
    "    activations=[\"relu\", \"relu\"],\n",
    "    dropout_ratio=0.0,\n",
    "    use_batch_norm=False\n",
    ")\n",
    "cpe_net_builder = DiscreteDQNNetBuilder__Union(\n",
    "    Dueling=None,\n",
    "    FullyConnected=fc2,\n",
    "    FullyConnectedWithEmbedding=None\n",
    ")"
   ]
  },
  {
   "cell_type": "code",
   "execution_count": 30,
   "id": "1f906506-e1b8-4fb9-b781-944e2064c6b1",
   "metadata": {},
   "outputs": [],
   "source": [
    "from reagent.model_managers.discrete.discrete_dqn import DiscreteDQN\n",
    "from reagent.core.parameters import EvaluationParameters"
   ]
  },
  {
   "cell_type": "code",
   "execution_count": 31,
   "id": "d9294ab1-ccd8-4fd8-a6af-a09a7353d696",
   "metadata": {},
   "outputs": [],
   "source": [
    "dqn = DiscreteDQN(\n",
    "    target_action_distribution=None,\n",
    "    state_feature_config_provider=state_config,\n",
    "    preprocessing_options=None,\n",
    "    reader_options=None,\n",
    "    eval_parameters=EvaluationParameters(calc_cpe_in_training=False),\n",
    "    trainer_param=trainer_params,\n",
    "    net_builder=net_builder,\n",
    "    cpe_net_builder=cpe_net_builder\n",
    ")"
   ]
  },
  {
   "cell_type": "code",
   "execution_count": 32,
   "id": "6254879a-239d-4f79-b9f9-4ad58b461a84",
   "metadata": {},
   "outputs": [],
   "source": [
    "from reagent.model_managers.union import ModelManager__Union"
   ]
  },
  {
   "cell_type": "code",
   "execution_count": 33,
   "id": "658dcec7-f08d-4a82-8fc6-577b0e3cb58b",
   "metadata": {},
   "outputs": [],
   "source": [
    "model = ModelManager__Union(DiscreteDQN=dqn)"
   ]
  },
  {
   "cell_type": "code",
   "execution_count": 34,
   "id": "cd6daa98-dc70-40cc-bdce-d4776db50fdf",
   "metadata": {},
   "outputs": [],
   "source": [
    "replay_memory_size = 100000\n",
    "train_every_ts = 1\n",
    "train_after_ts = 20000\n",
    "num_train_episodes = 30\n",
    "passing_score_bar = 100.0\n",
    "num_eval_episodes = 20\n",
    "use_gpu = False\n",
    "minibatch_size = 512"
   ]
  },
  {
   "cell_type": "code",
   "execution_count": 35,
   "id": "09b8f8e5-7897-47cc-a883-1511b8845d2d",
   "metadata": {},
   "outputs": [],
   "source": [
    "env = env.value"
   ]
  },
  {
   "cell_type": "code",
   "execution_count": 36,
   "id": "fb6a0db7-e7d7-48e2-bf9b-206abfe31f21",
   "metadata": {},
   "outputs": [],
   "source": [
    "import pytorch_lightning as pl"
   ]
  },
  {
   "cell_type": "code",
   "execution_count": 37,
   "id": "c5b855db-cea3-49f7-9c69-ac570de4c4f2",
   "metadata": {},
   "outputs": [],
   "source": [
    "SEED = 0"
   ]
  },
  {
   "cell_type": "code",
   "execution_count": 38,
   "id": "3a571cae-804a-4d57-9d9d-7dd2ed01ba2c",
   "metadata": {},
   "outputs": [
    {
     "name": "stderr",
     "output_type": "stream",
     "text": [
      "INFO:pytorch_lightning.utilities.seed:Global seed set to 0\n"
     ]
    },
    {
     "data": {
      "text/plain": [
       "[0]"
      ]
     },
     "execution_count": 38,
     "metadata": {},
     "output_type": "execute_result"
    }
   ],
   "source": [
    "pl.seed_everything(SEED)\n",
    "env.seed(SEED)\n",
    "env.action_space.seed(SEED)"
   ]
  },
  {
   "cell_type": "code",
   "execution_count": 39,
   "id": "69975261-d481-4f39-b3d3-2b853eaca63a",
   "metadata": {},
   "outputs": [
    {
     "data": {
      "text/plain": [
       "reagent.gym.envs.gym.Gym"
      ]
     },
     "execution_count": 39,
     "metadata": {},
     "output_type": "execute_result"
    }
   ],
   "source": [
    "type(env)"
   ]
  },
  {
   "cell_type": "code",
   "execution_count": 40,
   "id": "93f99d8f-bd63-49c0-bc01-b839476011b3",
   "metadata": {},
   "outputs": [],
   "source": [
    "from reagent.gym.utils import build_normalizer, fill_replay_buffer"
   ]
  },
  {
   "cell_type": "code",
   "execution_count": 41,
   "id": "35dda4eb-154a-48c0-bee4-188df5417b53",
   "metadata": {},
   "outputs": [],
   "source": [
    "normalization = build_normalizer(env)"
   ]
  },
  {
   "cell_type": "code",
   "execution_count": 42,
   "id": "05c185bd-4c37-4be9-afe5-465551b0be6d",
   "metadata": {},
   "outputs": [
    {
     "data": {
      "text/plain": [
       "{'state': NormalizationData(dense_normalization_parameters={0: NormalizationParameters(feature_type='CONTINUOUS', boxcox_lambda=None, boxcox_shift=None, mean=0.0, stddev=1.0, possible_values=None, quantiles=None, min_value=-4.800000190734863, max_value=4.800000190734863), 1: NormalizationParameters(feature_type='CONTINUOUS', boxcox_lambda=None, boxcox_shift=None, mean=0.0, stddev=1.0, possible_values=None, quantiles=None, min_value=-3.4028234663852886e+38, max_value=3.4028234663852886e+38), 2: NormalizationParameters(feature_type='CONTINUOUS', boxcox_lambda=None, boxcox_shift=None, mean=0.0, stddev=1.0, possible_values=None, quantiles=None, min_value=-0.41887903213500977, max_value=0.41887903213500977), 3: NormalizationParameters(feature_type='CONTINUOUS', boxcox_lambda=None, boxcox_shift=None, mean=0.0, stddev=1.0, possible_values=None, quantiles=None, min_value=-3.4028234663852886e+38, max_value=3.4028234663852886e+38)}),\n",
       " 'action': NormalizationData(dense_normalization_parameters={0: NormalizationParameters(feature_type='DISCRETE_ACTION', boxcox_lambda=None, boxcox_shift=None, mean=0.0, stddev=1.0, possible_values=None, quantiles=None, min_value=None, max_value=None), 1: NormalizationParameters(feature_type='DISCRETE_ACTION', boxcox_lambda=None, boxcox_shift=None, mean=0.0, stddev=1.0, possible_values=None, quantiles=None, min_value=None, max_value=None)})}"
      ]
     },
     "execution_count": 42,
     "metadata": {},
     "output_type": "execute_result"
    }
   ],
   "source": [
    "normalization"
   ]
  },
  {
   "cell_type": "code",
   "execution_count": 43,
   "id": "f85bac34-0821-43ba-96f1-460da25d087d",
   "metadata": {},
   "outputs": [],
   "source": [
    "manager = model.value"
   ]
  },
  {
   "cell_type": "code",
   "execution_count": 44,
   "id": "fa2d87a6-68ef-4276-95a1-d815306adcae",
   "metadata": {},
   "outputs": [
    {
     "data": {
      "text/plain": [
       "reagent.model_managers.discrete.discrete_dqn.DiscreteDQN"
      ]
     },
     "execution_count": 44,
     "metadata": {},
     "output_type": "execute_result"
    }
   ],
   "source": [
    "type(manager)"
   ]
  },
  {
   "cell_type": "code",
   "execution_count": 45,
   "id": "fdb074c3-54db-4c81-a432-d8afe2f98aaa",
   "metadata": {},
   "outputs": [],
   "source": [
    "trainer = manager.build_trainer(use_gpu=False, normalization_data_map=normalization)"
   ]
  },
  {
   "cell_type": "code",
   "execution_count": 46,
   "id": "131a2b8a-caee-4e12-a2fe-e5d000d45c9e",
   "metadata": {},
   "outputs": [],
   "source": [
    "training_policy = manager.create_policy(trainer, serving=False)"
   ]
  },
  {
   "cell_type": "code",
   "execution_count": 47,
   "id": "92d70b43-7aa7-4925-ad4e-f2b7f73aa53d",
   "metadata": {},
   "outputs": [
    {
     "data": {
      "text/plain": [
       "reagent.training.dqn_trainer.DQNTrainer"
      ]
     },
     "execution_count": 47,
     "metadata": {},
     "output_type": "execute_result"
    }
   ],
   "source": [
    "type(trainer)"
   ]
  },
  {
   "cell_type": "code",
   "execution_count": 48,
   "id": "419aa734-3bcc-4cc4-b7c1-41710549b6da",
   "metadata": {},
   "outputs": [
    {
     "data": {
      "text/plain": [
       "True"
      ]
     },
     "execution_count": 48,
     "metadata": {},
     "output_type": "execute_result"
    }
   ],
   "source": [
    "isinstance(trainer, pl.LightningModule)"
   ]
  },
  {
   "cell_type": "code",
   "execution_count": 49,
   "id": "77fa5482-ff0f-4f13-bb0b-26bac2019c40",
   "metadata": {},
   "outputs": [],
   "source": [
    "from reagent.replay_memory.circular_replay_buffer import ReplayBuffer"
   ]
  },
  {
   "cell_type": "code",
   "execution_count": 50,
   "id": "8018b673-279c-4fa6-b91c-bbde40781601",
   "metadata": {},
   "outputs": [],
   "source": [
    "replay_buffer = ReplayBuffer(\n",
    "    replay_capacity=replay_memory_size, batch_size=minibatch_size\n",
    ")"
   ]
  },
  {
   "cell_type": "code",
   "execution_count": 51,
   "id": "ac9e20c1-a789-491d-b106-508d05dc9143",
   "metadata": {},
   "outputs": [],
   "source": [
    "import torch"
   ]
  },
  {
   "cell_type": "code",
   "execution_count": 52,
   "id": "a3d73a54-31e4-4578-8fb2-706966ca1147",
   "metadata": {},
   "outputs": [],
   "source": [
    "device = torch.device(\"cpu\")"
   ]
  },
  {
   "cell_type": "code",
   "execution_count": 53,
   "id": "8a4f9ecc-1d83-4339-8697-70c886b6a03a",
   "metadata": {},
   "outputs": [
    {
     "data": {
      "text/plain": [
       "20000"
      ]
     },
     "execution_count": 53,
     "metadata": {},
     "output_type": "execute_result"
    }
   ],
   "source": [
    "train_after_ts = max(train_after_ts, minibatch_size)\n",
    "train_after_ts"
   ]
  },
  {
   "cell_type": "code",
   "execution_count": 54,
   "id": "4a8f9e05-29ab-492e-8741-8ac6f273bcdb",
   "metadata": {},
   "outputs": [],
   "source": [
    "from reagent.gym.policies.random_policies import make_random_policy_for_env"
   ]
  },
  {
   "cell_type": "code",
   "execution_count": 55,
   "id": "c8dd3843-bc2c-4dc9-b031-b73f3d8fe3d4",
   "metadata": {},
   "outputs": [],
   "source": [
    "random_policy = make_random_policy_for_env(env)"
   ]
  },
  {
   "cell_type": "code",
   "execution_count": 56,
   "id": "eeab5db3-ff54-4105-b0ce-b97f3e2e09f6",
   "metadata": {},
   "outputs": [],
   "source": [
    "from reagent.gym.agents.agent import Agent"
   ]
  },
  {
   "cell_type": "code",
   "execution_count": 57,
   "id": "e59890e4-3ea6-4939-8441-f37eea053651",
   "metadata": {},
   "outputs": [],
   "source": [
    "agent = Agent.create_for_env(env, policy=random_policy)"
   ]
  },
  {
   "cell_type": "code",
   "execution_count": 58,
   "id": "a20b0e58-742f-4755-85ad-2dc4c30f1503",
   "metadata": {},
   "outputs": [
    {
     "name": "stderr",
     "output_type": "stream",
     "text": [
      "INFO:reagent.gym.utils: Starting to fill replay buffer using policy to size: 20000.\n",
      "Filling replay buffer from 0 to size 20000:   0%|          | 0/20000 [00:00<?, ?it/s]INFO:reagent.replay_memory.circular_replay_buffer:Initializing ReplayBuffer...\n",
      "INFO:reagent.replay_memory.circular_replay_buffer:\t stack_size: 1\n",
      "INFO:reagent.replay_memory.circular_replay_buffer:\t replay_capacity: 100000\n",
      "INFO:reagent.replay_memory.circular_replay_buffer:\t update_horizon: 1\n",
      "INFO:reagent.replay_memory.circular_replay_buffer:\t gamma: 0.99\n",
      "INFO:reagent.replay_memory.circular_replay_buffer:\t storage_types: \n",
      "INFO:reagent.replay_memory.circular_replay_buffer:\t\t ReplayElement(name='observation', metadata=DenseMetadata(shape=(4,), dtype=dtype('float32')))\n",
      "INFO:reagent.replay_memory.circular_replay_buffer:\t\t ReplayElement(name='action', metadata=DenseMetadata(shape=(), dtype=dtype('int64')))\n",
      "INFO:reagent.replay_memory.circular_replay_buffer:\t\t ReplayElement(name='reward', metadata=DenseMetadata(shape=(), dtype=dtype('float32')))\n",
      "INFO:reagent.replay_memory.circular_replay_buffer:\t\t ReplayElement(name='terminal', metadata=DenseMetadata(shape=(), dtype=dtype('bool')))\n",
      "INFO:reagent.replay_memory.circular_replay_buffer:\t\t ReplayElement(name='mdp_id', metadata=DenseMetadata(shape=(), dtype=dtype('int64')))\n",
      "INFO:reagent.replay_memory.circular_replay_buffer:\t\t ReplayElement(name='log_prob', metadata=DenseMetadata(shape=(), dtype=dtype('float32')))\n",
      "INFO:reagent.replay_memory.circular_replay_buffer:\t\t ReplayElement(name='sequence_number', metadata=DenseMetadata(shape=(), dtype=dtype('int64')))\n",
      "Filling replay buffer from 0 to size 20000: 100%|██████████| 20000/20000 [00:08<00:00, 2285.19it/s]\n",
      "INFO:reagent.gym.utils:Successfully filled replay buffer to size: 20000!\n"
     ]
    }
   ],
   "source": [
    "fill_replay_buffer(\n",
    "    env=env, \n",
    "    replay_buffer=replay_buffer, \n",
    "    desired_size=train_after_ts, \n",
    "    agent=agent\n",
    ")"
   ]
  },
  {
   "cell_type": "code",
   "execution_count": 59,
   "id": "2b176889-8517-4657-b1b7-d3ca4707f2d6",
   "metadata": {},
   "outputs": [],
   "source": [
    "agent = Agent.create_for_env(env, policy=training_policy, device=device)"
   ]
  },
  {
   "cell_type": "code",
   "execution_count": 60,
   "id": "6257031f-c16f-4956-ba54-e790123b3a25",
   "metadata": {},
   "outputs": [],
   "source": [
    "from reagent.gym.datasets.replay_buffer_dataset import ReplayBufferDataset"
   ]
  },
  {
   "cell_type": "code",
   "execution_count": 61,
   "id": "2f6344dd-5920-41f5-8d36-e28fbca70bc6",
   "metadata": {},
   "outputs": [
    {
     "name": "stderr",
     "output_type": "stream",
     "text": [
      "INFO:reagent.gym.preprocessors.trainer_preprocessor:Deriving trainer_preprocessor from OrderedDict([('training_batch', <Parameter \"training_batch: reagent.core.types.DiscreteDqnInput\">), ('batch_idx', <Parameter \"batch_idx: int\">)])\n"
     ]
    }
   ],
   "source": [
    "dataset = ReplayBufferDataset.create_for_trainer(\n",
    "    trainer,\n",
    "    env,\n",
    "    agent,\n",
    "    replay_buffer,\n",
    "    batch_size=minibatch_size,\n",
    "    training_frequency=train_every_ts,\n",
    "    num_episodes=num_train_episodes,\n",
    "    max_steps=200,\n",
    "    device=device,\n",
    ")"
   ]
  },
  {
   "cell_type": "code",
   "execution_count": 63,
   "id": "f60e728c-95f8-420b-880b-576a0b71ed7b",
   "metadata": {},
   "outputs": [],
   "source": [
    "data_loader = torch.utils.data.DataLoader(\n",
    "    dataset, \n",
    "    collate_fn=lambda batch: batch[0]\n",
    ")"
   ]
  },
  {
   "cell_type": "code",
   "execution_count": 68,
   "id": "a4a71a49-88c0-4174-b810-f10f63ce5cc4",
   "metadata": {},
   "outputs": [
    {
     "name": "stderr",
     "output_type": "stream",
     "text": [
      "INFO:pytorch_lightning.utilities.distributed:GPU available: False, used: False\n",
      "INFO:pytorch_lightning.utilities.distributed:TPU available: False, using: 0 TPU cores\n",
      "INFO:pytorch_lightning.utilities.distributed:IPU available: False, using: 0 IPUs\n"
     ]
    }
   ],
   "source": [
    "pl_trainer = pl.Trainer(\n",
    "    max_epochs=1,\n",
    "    gpus=int(use_gpu),\n",
    "    deterministic=True,\n",
    "    default_root_dir=f\"lightning_log_{str(uuid.uuid4())}\",\n",
    ")"
   ]
  },
  {
   "cell_type": "code",
   "execution_count": 67,
   "id": "d19a5aef-ea4e-47a5-bfb7-1553556a4cfb",
   "metadata": {},
   "outputs": [],
   "source": [
    "import uuid"
   ]
  },
  {
   "cell_type": "code",
   "execution_count": 69,
   "id": "fe3942aa-1d7b-41cf-a111-2009c1b895fc",
   "metadata": {},
   "outputs": [
    {
     "name": "stderr",
     "output_type": "stream",
     "text": [
      "/Users/avilay/projects/cloned/pytorch-lightning/pytorch_lightning/trainer/configuration_validator.py:102: UserWarning: you defined a validation_step but have no val_dataloader. Skipping val loop\n",
      "  rank_zero_warn(f'you defined a {step_name} but have no {loader_name}. Skipping {stage} loop')\n",
      "INFO:pytorch_lightning.core.lightning:\n",
      "  | Name             | Type              | Params\n",
      "-------------------------------------------------------\n",
      "0 | q_network        | FullyConnectedDQN | 9.0 K \n",
      "1 | q_network_target | FullyConnectedDQN | 9.0 K \n",
      "-------------------------------------------------------\n",
      "18.1 K    Trainable params\n",
      "0         Non-trainable params\n",
      "18.1 K    Total params\n",
      "0.072     Total estimated model params size (MB)\n"
     ]
    },
    {
     "data": {
      "application/vnd.jupyter.widget-view+json": {
       "model_id": "",
       "version_major": 2,
       "version_minor": 0
      },
      "text/plain": [
       "Validation sanity check: 0it [00:00, ?it/s]"
      ]
     },
     "metadata": {},
     "output_type": "display_data"
    },
    {
     "name": "stderr",
     "output_type": "stream",
     "text": [
      "INFO:pytorch_lightning.utilities.seed:Global seed set to 0\n",
      "/Users/avilay/projects/cloned/pytorch-lightning/pytorch_lightning/trainer/data_loading.py:103: UserWarning: The dataloader, train dataloader, does not have many workers which may be a bottleneck. Consider increasing the value of the `num_workers` argument` (try 16 which is the number of cpus on this machine) in the `DataLoader` init to improve performance.\n",
      "  rank_zero_warn(\n"
     ]
    },
    {
     "data": {
      "application/vnd.jupyter.widget-view+json": {
       "model_id": "b03b14e8e35643efbf06b5891c8cdbe0",
       "version_major": 2,
       "version_minor": 0
      },
      "text/plain": [
       "Training: 0it [00:00, ?it/s]"
      ]
     },
     "metadata": {},
     "output_type": "display_data"
    },
    {
     "name": "stdout",
     "output_type": "stream",
     "text": [
      "\n",
      "Training episode: 1, total episode reward = 15.0\n",
      "\n",
      "Training episode: 2, total episode reward = 9.0\n",
      "\n",
      "Training episode: 3, total episode reward = 114.0\n",
      "\n",
      "Training episode: 4, total episode reward = 115.0\n",
      "\n",
      "Training episode: 5, total episode reward = 77.0\n",
      "\n",
      "Training episode: 6, total episode reward = 61.0\n",
      "\n",
      "Training episode: 7, total episode reward = 200.0\n",
      "\n",
      "Training episode: 8, total episode reward = 200.0\n",
      "\n",
      "Training episode: 9, total episode reward = 107.0\n",
      "\n",
      "Training episode: 10, total episode reward = 97.0\n",
      "\n",
      "Training episode: 11, total episode reward = 107.0\n",
      "\n",
      "Training episode: 12, total episode reward = 85.0\n",
      "\n",
      "Training episode: 13, total episode reward = 122.0\n",
      "\n",
      "Training episode: 14, total episode reward = 116.0\n",
      "\n",
      "Training episode: 15, total episode reward = 110.0\n",
      "\n",
      "Training episode: 16, total episode reward = 114.0\n",
      "\n",
      "Training episode: 17, total episode reward = 123.0\n",
      "\n",
      "Training episode: 18, total episode reward = 200.0\n",
      "\n",
      "Training episode: 19, total episode reward = 144.0\n",
      "\n",
      "Training episode: 20, total episode reward = 153.0\n",
      "\n",
      "Training episode: 21, total episode reward = 200.0\n",
      "\n",
      "Training episode: 22, total episode reward = 200.0\n",
      "\n",
      "Training episode: 23, total episode reward = 187.0\n",
      "\n",
      "Training episode: 24, total episode reward = 167.0\n",
      "\n",
      "Training episode: 25, total episode reward = 200.0\n",
      "\n",
      "Training episode: 26, total episode reward = 200.0\n",
      "\n",
      "Training episode: 27, total episode reward = 200.0\n",
      "\n",
      "Training episode: 28, total episode reward = 200.0\n",
      "\n",
      "Training episode: 29, total episode reward = 147.0\n"
     ]
    },
    {
     "name": "stderr",
     "output_type": "stream",
     "text": [
      "INFO:reagent.training.reagent_lightning_module:Finished epoch with 4170 batches processed\n"
     ]
    },
    {
     "name": "stdout",
     "output_type": "stream",
     "text": [
      "\n",
      "Training episode: 30, total episode reward = 200.0\n",
      "Episode rewards during training:\n",
      "[15.0, 9.0, 114.0, 115.0, 77.0, 61.0, 200.0, 200.0, 107.0, 97.0, 107.0, 85.0, 122.0, 116.0, 110.0, 114.0, 123.0, 200.0, 144.0, 153.0, 200.0, 200.0, 187.0, 167.0, 200.0, 200.0, 200.0, 200.0, 147.0, 200.0]\n"
     ]
    }
   ],
   "source": [
    "pl_trainer.fit(trainer, data_loader)"
   ]
  },
  {
   "cell_type": "code",
   "execution_count": 70,
   "id": "ebb51767-007d-44da-b1e0-a3dee14bb8a5",
   "metadata": {},
   "outputs": [
    {
     "name": "stderr",
     "output_type": "stream",
     "text": [
      "INFO:reagent.preprocessing.preprocessor:CUDA availability: False\n",
      "INFO:reagent.preprocessing.preprocessor:NOT Using GPU: GPU not requested or not available.\n",
      "/Users/avilay/projects/cloned/ReAgent/reagent/preprocessing/preprocessor.py:120: TracerWarning: Converting a tensor to a Python boolean might cause the trace to be incorrect. We can't record the data flow of Python values, so this value will be treated as a constant in the future. This means that the trace might not generalize to other inputs!\n",
      "  input.shape == input_presence_byte.shape\n"
     ]
    }
   ],
   "source": [
    "serving_policy = manager.create_policy(\n",
    "    trainer, \n",
    "    serving=True, \n",
    "    normalization_data_map=normalization\n",
    ")"
   ]
  },
  {
   "cell_type": "code",
   "execution_count": null,
   "id": "59214356-42d8-4f73-ac9a-45278a4902c7",
   "metadata": {},
   "outputs": [],
   "source": [
    "eval_policy(env, serving_policy, num_eval_episodes, serving=True)"
   ]
  },
  {
   "cell_type": "code",
   "execution_count": 71,
   "id": "2da29e15-3973-4f6a-affc-bcad89583c4e",
   "metadata": {},
   "outputs": [],
   "source": [
    "agent = Agent.create_for_env_with_serving_policy(env, serving_policy)"
   ]
  },
  {
   "cell_type": "code",
   "execution_count": 72,
   "id": "3118b046-2d30-4547-8f9c-1e1ca8e0090b",
   "metadata": {},
   "outputs": [],
   "source": [
    "from reagent.gym.runners.gymrunner import evaluate_for_n_episodes"
   ]
  },
  {
   "cell_type": "code",
   "execution_count": 73,
   "id": "8abba746-2575-4a72-befc-540a2d0d0412",
   "metadata": {},
   "outputs": [
    {
     "name": "stderr",
     "output_type": "stream",
     "text": [
      "INFO:reagent.gym.runners.gymrunner:For gamma=1.0, average reward is 200.0\n",
      "Rewards list: [200. 200. 200. 200. 200. 200. 200. 200. 200. 200. 200. 200. 200. 200.\n",
      " 200. 200. 200. 200. 200. 200.]\n"
     ]
    }
   ],
   "source": [
    "eval_rewards = evaluate_for_n_episodes(\n",
    "    n=num_eval_episodes,\n",
    "    env=env,\n",
    "    agent=agent,\n",
    "    max_steps=env.max_steps,\n",
    "    num_processes=1,\n",
    ").squeeze(1)"
   ]
  },
  {
   "cell_type": "code",
   "execution_count": 76,
   "id": "cadda5e6-a842-4f3c-8cd0-9b318019d52b",
   "metadata": {},
   "outputs": [
    {
     "data": {
      "text/plain": [
       "200.0"
      ]
     },
     "execution_count": 76,
     "metadata": {},
     "output_type": "execute_result"
    }
   ],
   "source": [
    "np.mean(eval_rewards)"
   ]
  },
  {
   "cell_type": "code",
   "execution_count": 75,
   "id": "af1f84a3-f53e-4f3b-8fb9-e5ea8acbd517",
   "metadata": {},
   "outputs": [],
   "source": [
    "import numpy as np"
   ]
  },
  {
   "cell_type": "code",
   "execution_count": 77,
   "id": "c2b55f73-129b-42b0-9a68-061568ad0628",
   "metadata": {},
   "outputs": [
    {
     "data": {
      "text/plain": [
       "numpy.ndarray"
      ]
     },
     "execution_count": 77,
     "metadata": {},
     "output_type": "execute_result"
    }
   ],
   "source": [
    "type(eval_rewards)"
   ]
  },
  {
   "cell_type": "code",
   "execution_count": null,
   "id": "db8bf64d-0b2c-43ea-89cf-d8a8b5f50f51",
   "metadata": {},
   "outputs": [],
   "source": []
  }
 ],
 "metadata": {
  "kernelspec": {
   "display_name": "Python 3",
   "language": "python",
   "name": "python3"
  },
  "language_info": {
   "codemirror_mode": {
    "name": "ipython",
    "version": 3
   },
   "file_extension": ".py",
   "mimetype": "text/x-python",
   "name": "python",
   "nbconvert_exporter": "python",
   "pygments_lexer": "ipython3",
   "version": "3.8.8"
  }
 },
 "nbformat": 4,
 "nbformat_minor": 5
}
