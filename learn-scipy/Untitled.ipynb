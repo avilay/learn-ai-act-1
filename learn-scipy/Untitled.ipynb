{
 "cells": [
  {
   "cell_type": "code",
   "execution_count": 1,
   "metadata": {},
   "outputs": [],
   "source": [
    "import numpy as np\n",
    "import pandas as pd\n",
    "import pandas_bokeh"
   ]
  },
  {
   "cell_type": "code",
   "execution_count": 2,
   "metadata": {},
   "outputs": [
    {
     "data": {
      "text/html": [
       "\n",
       "    <div class=\"bk-root\">\n",
       "        <a href=\"https://bokeh.pydata.org\" target=\"_blank\" class=\"bk-logo bk-logo-small bk-logo-notebook\"></a>\n",
       "        <span id=\"1001\">Loading BokehJS ...</span>\n",
       "    </div>"
      ]
     },
     "metadata": {},
     "output_type": "display_data"
    },
    {
     "data": {
      "application/javascript": [
       "\n",
       "(function(root) {\n",
       "  function now() {\n",
       "    return new Date();\n",
       "  }\n",
       "\n",
       "  var force = true;\n",
       "\n",
       "  if (typeof root._bokeh_onload_callbacks === \"undefined\" || force === true) {\n",
       "    root._bokeh_onload_callbacks = [];\n",
       "    root._bokeh_is_loading = undefined;\n",
       "  }\n",
       "\n",
       "  var JS_MIME_TYPE = 'application/javascript';\n",
       "  var HTML_MIME_TYPE = 'text/html';\n",
       "  var EXEC_MIME_TYPE = 'application/vnd.bokehjs_exec.v0+json';\n",
       "  var CLASS_NAME = 'output_bokeh rendered_html';\n",
       "\n",
       "  /**\n",
       "   * Render data to the DOM node\n",
       "   */\n",
       "  function render(props, node) {\n",
       "    var script = document.createElement(\"script\");\n",
       "    node.appendChild(script);\n",
       "  }\n",
       "\n",
       "  /**\n",
       "   * Handle when an output is cleared or removed\n",
       "   */\n",
       "  function handleClearOutput(event, handle) {\n",
       "    var cell = handle.cell;\n",
       "\n",
       "    var id = cell.output_area._bokeh_element_id;\n",
       "    var server_id = cell.output_area._bokeh_server_id;\n",
       "    // Clean up Bokeh references\n",
       "    if (id != null && id in Bokeh.index) {\n",
       "      Bokeh.index[id].model.document.clear();\n",
       "      delete Bokeh.index[id];\n",
       "    }\n",
       "\n",
       "    if (server_id !== undefined) {\n",
       "      // Clean up Bokeh references\n",
       "      var cmd = \"from bokeh.io.state import curstate; print(curstate().uuid_to_server['\" + server_id + \"'].get_sessions()[0].document.roots[0]._id)\";\n",
       "      cell.notebook.kernel.execute(cmd, {\n",
       "        iopub: {\n",
       "          output: function(msg) {\n",
       "            var id = msg.content.text.trim();\n",
       "            if (id in Bokeh.index) {\n",
       "              Bokeh.index[id].model.document.clear();\n",
       "              delete Bokeh.index[id];\n",
       "            }\n",
       "          }\n",
       "        }\n",
       "      });\n",
       "      // Destroy server and session\n",
       "      var cmd = \"import bokeh.io.notebook as ion; ion.destroy_server('\" + server_id + \"')\";\n",
       "      cell.notebook.kernel.execute(cmd);\n",
       "    }\n",
       "  }\n",
       "\n",
       "  /**\n",
       "   * Handle when a new output is added\n",
       "   */\n",
       "  function handleAddOutput(event, handle) {\n",
       "    var output_area = handle.output_area;\n",
       "    var output = handle.output;\n",
       "\n",
       "    // limit handleAddOutput to display_data with EXEC_MIME_TYPE content only\n",
       "    if ((output.output_type != \"display_data\") || (!output.data.hasOwnProperty(EXEC_MIME_TYPE))) {\n",
       "      return\n",
       "    }\n",
       "\n",
       "    var toinsert = output_area.element.find(\".\" + CLASS_NAME.split(' ')[0]);\n",
       "\n",
       "    if (output.metadata[EXEC_MIME_TYPE][\"id\"] !== undefined) {\n",
       "      toinsert[toinsert.length - 1].firstChild.textContent = output.data[JS_MIME_TYPE];\n",
       "      // store reference to embed id on output_area\n",
       "      output_area._bokeh_element_id = output.metadata[EXEC_MIME_TYPE][\"id\"];\n",
       "    }\n",
       "    if (output.metadata[EXEC_MIME_TYPE][\"server_id\"] !== undefined) {\n",
       "      var bk_div = document.createElement(\"div\");\n",
       "      bk_div.innerHTML = output.data[HTML_MIME_TYPE];\n",
       "      var script_attrs = bk_div.children[0].attributes;\n",
       "      for (var i = 0; i < script_attrs.length; i++) {\n",
       "        toinsert[toinsert.length - 1].firstChild.setAttribute(script_attrs[i].name, script_attrs[i].value);\n",
       "      }\n",
       "      // store reference to server id on output_area\n",
       "      output_area._bokeh_server_id = output.metadata[EXEC_MIME_TYPE][\"server_id\"];\n",
       "    }\n",
       "  }\n",
       "\n",
       "  function register_renderer(events, OutputArea) {\n",
       "\n",
       "    function append_mime(data, metadata, element) {\n",
       "      // create a DOM node to render to\n",
       "      var toinsert = this.create_output_subarea(\n",
       "        metadata,\n",
       "        CLASS_NAME,\n",
       "        EXEC_MIME_TYPE\n",
       "      );\n",
       "      this.keyboard_manager.register_events(toinsert);\n",
       "      // Render to node\n",
       "      var props = {data: data, metadata: metadata[EXEC_MIME_TYPE]};\n",
       "      render(props, toinsert[toinsert.length - 1]);\n",
       "      element.append(toinsert);\n",
       "      return toinsert\n",
       "    }\n",
       "\n",
       "    /* Handle when an output is cleared or removed */\n",
       "    events.on('clear_output.CodeCell', handleClearOutput);\n",
       "    events.on('delete.Cell', handleClearOutput);\n",
       "\n",
       "    /* Handle when a new output is added */\n",
       "    events.on('output_added.OutputArea', handleAddOutput);\n",
       "\n",
       "    /**\n",
       "     * Register the mime type and append_mime function with output_area\n",
       "     */\n",
       "    OutputArea.prototype.register_mime_type(EXEC_MIME_TYPE, append_mime, {\n",
       "      /* Is output safe? */\n",
       "      safe: true,\n",
       "      /* Index of renderer in `output_area.display_order` */\n",
       "      index: 0\n",
       "    });\n",
       "  }\n",
       "\n",
       "  // register the mime type if in Jupyter Notebook environment and previously unregistered\n",
       "  if (root.Jupyter !== undefined) {\n",
       "    var events = require('base/js/events');\n",
       "    var OutputArea = require('notebook/js/outputarea').OutputArea;\n",
       "\n",
       "    if (OutputArea.prototype.mime_types().indexOf(EXEC_MIME_TYPE) == -1) {\n",
       "      register_renderer(events, OutputArea);\n",
       "    }\n",
       "  }\n",
       "\n",
       "  \n",
       "  if (typeof (root._bokeh_timeout) === \"undefined\" || force === true) {\n",
       "    root._bokeh_timeout = Date.now() + 5000;\n",
       "    root._bokeh_failed_load = false;\n",
       "  }\n",
       "\n",
       "  var NB_LOAD_WARNING = {'data': {'text/html':\n",
       "     \"<div style='background-color: #fdd'>\\n\"+\n",
       "     \"<p>\\n\"+\n",
       "     \"BokehJS does not appear to have successfully loaded. If loading BokehJS from CDN, this \\n\"+\n",
       "     \"may be due to a slow or bad network connection. Possible fixes:\\n\"+\n",
       "     \"</p>\\n\"+\n",
       "     \"<ul>\\n\"+\n",
       "     \"<li>re-rerun `output_notebook()` to attempt to load from CDN again, or</li>\\n\"+\n",
       "     \"<li>use INLINE resources instead, as so:</li>\\n\"+\n",
       "     \"</ul>\\n\"+\n",
       "     \"<code>\\n\"+\n",
       "     \"from bokeh.resources import INLINE\\n\"+\n",
       "     \"output_notebook(resources=INLINE)\\n\"+\n",
       "     \"</code>\\n\"+\n",
       "     \"</div>\"}};\n",
       "\n",
       "  function display_loaded() {\n",
       "    var el = document.getElementById(\"1001\");\n",
       "    if (el != null) {\n",
       "      el.textContent = \"BokehJS is loading...\";\n",
       "    }\n",
       "    if (root.Bokeh !== undefined) {\n",
       "      if (el != null) {\n",
       "        el.textContent = \"BokehJS \" + root.Bokeh.version + \" successfully loaded.\";\n",
       "      }\n",
       "    } else if (Date.now() < root._bokeh_timeout) {\n",
       "      setTimeout(display_loaded, 100)\n",
       "    }\n",
       "  }\n",
       "\n",
       "\n",
       "  function run_callbacks() {\n",
       "    try {\n",
       "      root._bokeh_onload_callbacks.forEach(function(callback) {\n",
       "        if (callback != null)\n",
       "          callback();\n",
       "      });\n",
       "    } finally {\n",
       "      delete root._bokeh_onload_callbacks\n",
       "    }\n",
       "    console.debug(\"Bokeh: all callbacks have finished\");\n",
       "  }\n",
       "\n",
       "  function load_libs(css_urls, js_urls, callback) {\n",
       "    if (css_urls == null) css_urls = [];\n",
       "    if (js_urls == null) js_urls = [];\n",
       "\n",
       "    root._bokeh_onload_callbacks.push(callback);\n",
       "    if (root._bokeh_is_loading > 0) {\n",
       "      console.debug(\"Bokeh: BokehJS is being loaded, scheduling callback at\", now());\n",
       "      return null;\n",
       "    }\n",
       "    if (js_urls == null || js_urls.length === 0) {\n",
       "      run_callbacks();\n",
       "      return null;\n",
       "    }\n",
       "    console.debug(\"Bokeh: BokehJS not loaded, scheduling load and callback at\", now());\n",
       "    root._bokeh_is_loading = css_urls.length + js_urls.length;\n",
       "\n",
       "    function on_load() {\n",
       "      root._bokeh_is_loading--;\n",
       "      if (root._bokeh_is_loading === 0) {\n",
       "        console.debug(\"Bokeh: all BokehJS libraries/stylesheets loaded\");\n",
       "        run_callbacks()\n",
       "      }\n",
       "    }\n",
       "\n",
       "    function on_error() {\n",
       "      console.error(\"failed to load \" + url);\n",
       "    }\n",
       "\n",
       "    for (var i = 0; i < css_urls.length; i++) {\n",
       "      var url = css_urls[i];\n",
       "      const element = document.createElement(\"link\");\n",
       "      element.onload = on_load;\n",
       "      element.onerror = on_error;\n",
       "      element.rel = \"stylesheet\";\n",
       "      element.type = \"text/css\";\n",
       "      element.href = url;\n",
       "      console.debug(\"Bokeh: injecting link tag for BokehJS stylesheet: \", url);\n",
       "      document.body.appendChild(element);\n",
       "    }\n",
       "\n",
       "    for (var i = 0; i < js_urls.length; i++) {\n",
       "      var url = js_urls[i];\n",
       "      var element = document.createElement('script');\n",
       "      element.onload = on_load;\n",
       "      element.onerror = on_error;\n",
       "      element.async = false;\n",
       "      element.src = url;\n",
       "      console.debug(\"Bokeh: injecting script tag for BokehJS library: \", url);\n",
       "      document.head.appendChild(element);\n",
       "    }\n",
       "  };var element = document.getElementById(\"1001\");\n",
       "  if (element == null) {\n",
       "    console.error(\"Bokeh: ERROR: autoload.js configured with elementid '1001' but no matching script tag was found. \")\n",
       "    return false;\n",
       "  }\n",
       "\n",
       "  function inject_raw_css(css) {\n",
       "    const element = document.createElement(\"style\");\n",
       "    element.appendChild(document.createTextNode(css));\n",
       "    document.body.appendChild(element);\n",
       "  }\n",
       "\n",
       "  var js_urls = [\"https://cdn.pydata.org/bokeh/release/bokeh-1.3.4.min.js\", \"https://cdn.pydata.org/bokeh/release/bokeh-widgets-1.3.4.min.js\", \"https://cdn.pydata.org/bokeh/release/bokeh-tables-1.3.4.min.js\", \"https://cdn.pydata.org/bokeh/release/bokeh-gl-1.3.4.min.js\"];\n",
       "  var css_urls = [];\n",
       "\n",
       "  var inline_js = [\n",
       "    function(Bokeh) {\n",
       "      Bokeh.set_log_level(\"info\");\n",
       "    },\n",
       "    \n",
       "    function(Bokeh) {\n",
       "      \n",
       "    },\n",
       "    function(Bokeh) {} // ensure no trailing comma for IE\n",
       "  ];\n",
       "\n",
       "  function run_inline_js() {\n",
       "    \n",
       "    if ((root.Bokeh !== undefined) || (force === true)) {\n",
       "      for (var i = 0; i < inline_js.length; i++) {\n",
       "        inline_js[i].call(root, root.Bokeh);\n",
       "      }if (force === true) {\n",
       "        display_loaded();\n",
       "      }} else if (Date.now() < root._bokeh_timeout) {\n",
       "      setTimeout(run_inline_js, 100);\n",
       "    } else if (!root._bokeh_failed_load) {\n",
       "      console.log(\"Bokeh: BokehJS failed to load within specified timeout.\");\n",
       "      root._bokeh_failed_load = true;\n",
       "    } else if (force !== true) {\n",
       "      var cell = $(document.getElementById(\"1001\")).parents('.cell').data().cell;\n",
       "      cell.output_area.append_execute_result(NB_LOAD_WARNING)\n",
       "    }\n",
       "\n",
       "  }\n",
       "\n",
       "  if (root._bokeh_is_loading === 0) {\n",
       "    console.debug(\"Bokeh: BokehJS loaded, going straight to plotting\");\n",
       "    run_inline_js();\n",
       "  } else {\n",
       "    load_libs(css_urls, js_urls, function() {\n",
       "      console.debug(\"Bokeh: BokehJS plotting callback run at\", now());\n",
       "      run_inline_js();\n",
       "    });\n",
       "  }\n",
       "}(window));"
      ],
      "application/vnd.bokehjs_load.v0+json": "\n(function(root) {\n  function now() {\n    return new Date();\n  }\n\n  var force = true;\n\n  if (typeof root._bokeh_onload_callbacks === \"undefined\" || force === true) {\n    root._bokeh_onload_callbacks = [];\n    root._bokeh_is_loading = undefined;\n  }\n\n  \n\n  \n  if (typeof (root._bokeh_timeout) === \"undefined\" || force === true) {\n    root._bokeh_timeout = Date.now() + 5000;\n    root._bokeh_failed_load = false;\n  }\n\n  var NB_LOAD_WARNING = {'data': {'text/html':\n     \"<div style='background-color: #fdd'>\\n\"+\n     \"<p>\\n\"+\n     \"BokehJS does not appear to have successfully loaded. If loading BokehJS from CDN, this \\n\"+\n     \"may be due to a slow or bad network connection. Possible fixes:\\n\"+\n     \"</p>\\n\"+\n     \"<ul>\\n\"+\n     \"<li>re-rerun `output_notebook()` to attempt to load from CDN again, or</li>\\n\"+\n     \"<li>use INLINE resources instead, as so:</li>\\n\"+\n     \"</ul>\\n\"+\n     \"<code>\\n\"+\n     \"from bokeh.resources import INLINE\\n\"+\n     \"output_notebook(resources=INLINE)\\n\"+\n     \"</code>\\n\"+\n     \"</div>\"}};\n\n  function display_loaded() {\n    var el = document.getElementById(\"1001\");\n    if (el != null) {\n      el.textContent = \"BokehJS is loading...\";\n    }\n    if (root.Bokeh !== undefined) {\n      if (el != null) {\n        el.textContent = \"BokehJS \" + root.Bokeh.version + \" successfully loaded.\";\n      }\n    } else if (Date.now() < root._bokeh_timeout) {\n      setTimeout(display_loaded, 100)\n    }\n  }\n\n\n  function run_callbacks() {\n    try {\n      root._bokeh_onload_callbacks.forEach(function(callback) {\n        if (callback != null)\n          callback();\n      });\n    } finally {\n      delete root._bokeh_onload_callbacks\n    }\n    console.debug(\"Bokeh: all callbacks have finished\");\n  }\n\n  function load_libs(css_urls, js_urls, callback) {\n    if (css_urls == null) css_urls = [];\n    if (js_urls == null) js_urls = [];\n\n    root._bokeh_onload_callbacks.push(callback);\n    if (root._bokeh_is_loading > 0) {\n      console.debug(\"Bokeh: BokehJS is being loaded, scheduling callback at\", now());\n      return null;\n    }\n    if (js_urls == null || js_urls.length === 0) {\n      run_callbacks();\n      return null;\n    }\n    console.debug(\"Bokeh: BokehJS not loaded, scheduling load and callback at\", now());\n    root._bokeh_is_loading = css_urls.length + js_urls.length;\n\n    function on_load() {\n      root._bokeh_is_loading--;\n      if (root._bokeh_is_loading === 0) {\n        console.debug(\"Bokeh: all BokehJS libraries/stylesheets loaded\");\n        run_callbacks()\n      }\n    }\n\n    function on_error() {\n      console.error(\"failed to load \" + url);\n    }\n\n    for (var i = 0; i < css_urls.length; i++) {\n      var url = css_urls[i];\n      const element = document.createElement(\"link\");\n      element.onload = on_load;\n      element.onerror = on_error;\n      element.rel = \"stylesheet\";\n      element.type = \"text/css\";\n      element.href = url;\n      console.debug(\"Bokeh: injecting link tag for BokehJS stylesheet: \", url);\n      document.body.appendChild(element);\n    }\n\n    for (var i = 0; i < js_urls.length; i++) {\n      var url = js_urls[i];\n      var element = document.createElement('script');\n      element.onload = on_load;\n      element.onerror = on_error;\n      element.async = false;\n      element.src = url;\n      console.debug(\"Bokeh: injecting script tag for BokehJS library: \", url);\n      document.head.appendChild(element);\n    }\n  };var element = document.getElementById(\"1001\");\n  if (element == null) {\n    console.error(\"Bokeh: ERROR: autoload.js configured with elementid '1001' but no matching script tag was found. \")\n    return false;\n  }\n\n  function inject_raw_css(css) {\n    const element = document.createElement(\"style\");\n    element.appendChild(document.createTextNode(css));\n    document.body.appendChild(element);\n  }\n\n  var js_urls = [\"https://cdn.pydata.org/bokeh/release/bokeh-1.3.4.min.js\", \"https://cdn.pydata.org/bokeh/release/bokeh-widgets-1.3.4.min.js\", \"https://cdn.pydata.org/bokeh/release/bokeh-tables-1.3.4.min.js\", \"https://cdn.pydata.org/bokeh/release/bokeh-gl-1.3.4.min.js\"];\n  var css_urls = [];\n\n  var inline_js = [\n    function(Bokeh) {\n      Bokeh.set_log_level(\"info\");\n    },\n    \n    function(Bokeh) {\n      \n    },\n    function(Bokeh) {} // ensure no trailing comma for IE\n  ];\n\n  function run_inline_js() {\n    \n    if ((root.Bokeh !== undefined) || (force === true)) {\n      for (var i = 0; i < inline_js.length; i++) {\n        inline_js[i].call(root, root.Bokeh);\n      }if (force === true) {\n        display_loaded();\n      }} else if (Date.now() < root._bokeh_timeout) {\n      setTimeout(run_inline_js, 100);\n    } else if (!root._bokeh_failed_load) {\n      console.log(\"Bokeh: BokehJS failed to load within specified timeout.\");\n      root._bokeh_failed_load = true;\n    } else if (force !== true) {\n      var cell = $(document.getElementById(\"1001\")).parents('.cell').data().cell;\n      cell.output_area.append_execute_result(NB_LOAD_WARNING)\n    }\n\n  }\n\n  if (root._bokeh_is_loading === 0) {\n    console.debug(\"Bokeh: BokehJS loaded, going straight to plotting\");\n    run_inline_js();\n  } else {\n    load_libs(css_urls, js_urls, function() {\n      console.debug(\"Bokeh: BokehJS plotting callback run at\", now());\n      run_inline_js();\n    });\n  }\n}(window));"
     },
     "metadata": {},
     "output_type": "display_data"
    }
   ],
   "source": [
    "pandas_bokeh.output_notebook()\n",
    "pd.set_option('plotting.backend', 'pandas_bokeh')"
   ]
  },
  {
   "cell_type": "markdown",
   "metadata": {},
   "source": [
    "# Plot columns against the index\n",
    "The entire dataframe can be plotted in one shot, with each column being plotted against the index. By default it will be line plot"
   ]
  },
  {
   "cell_type": "code",
   "execution_count": 48,
   "metadata": {},
   "outputs": [
    {
     "data": {
      "text/html": [
       "<div>\n",
       "<style scoped>\n",
       "    .dataframe tbody tr th:only-of-type {\n",
       "        vertical-align: middle;\n",
       "    }\n",
       "\n",
       "    .dataframe tbody tr th {\n",
       "        vertical-align: top;\n",
       "    }\n",
       "\n",
       "    .dataframe thead th {\n",
       "        text-align: right;\n",
       "    }\n",
       "</style>\n",
       "<table border=\"1\" class=\"dataframe\">\n",
       "  <thead>\n",
       "    <tr style=\"text-align: right;\">\n",
       "      <th></th>\n",
       "      <th>A</th>\n",
       "      <th>B</th>\n",
       "    </tr>\n",
       "  </thead>\n",
       "  <tbody>\n",
       "    <tr>\n",
       "      <th>0</th>\n",
       "      <td>10</td>\n",
       "      <td>18.5</td>\n",
       "    </tr>\n",
       "    <tr>\n",
       "      <th>1</th>\n",
       "      <td>21</td>\n",
       "      <td>17.8</td>\n",
       "    </tr>\n",
       "    <tr>\n",
       "      <th>2</th>\n",
       "      <td>34</td>\n",
       "      <td>33.5</td>\n",
       "    </tr>\n",
       "    <tr>\n",
       "      <th>3</th>\n",
       "      <td>46</td>\n",
       "      <td>45.1</td>\n",
       "    </tr>\n",
       "  </tbody>\n",
       "</table>\n",
       "</div>"
      ],
      "text/plain": [
       "    A     B\n",
       "0  10  18.5\n",
       "1  21  17.8\n",
       "2  34  33.5\n",
       "3  46  45.1"
      ]
     },
     "execution_count": 48,
     "metadata": {},
     "output_type": "execute_result"
    }
   ],
   "source": [
    "toy = pd.DataFrame({\n",
    "    \"A\": [10, 21, 34, 46],\n",
    "    \"B\": [18.5, 17.8, 33.5, 45.1]\n",
    "})\n",
    "toy"
   ]
  },
  {
   "cell_type": "code",
   "execution_count": 49,
   "metadata": {},
   "outputs": [
    {
     "data": {
      "text/html": [
       "\n",
       "\n",
       "\n",
       "\n",
       "\n",
       "\n",
       "  <div class=\"bk-root\" id=\"cabc79e3-49af-4748-b9f2-449d2a71acd4\" data-root-id=\"5923\"></div>\n"
      ]
     },
     "metadata": {},
     "output_type": "display_data"
    },
    {
     "data": {
      "application/javascript": [
       "(function(root) {\n",
       "  function embed_document(root) {\n",
       "    \n",
       "  var docs_json = {\"33f861aa-1547-4a05-b267-868d2d37717e\":{\"roots\":{\"references\":[{\"attributes\":{\"below\":[{\"id\":\"5934\",\"type\":\"LinearAxis\"}],\"center\":[{\"id\":\"5938\",\"type\":\"Grid\"},{\"id\":\"5943\",\"type\":\"Grid\"},{\"id\":\"5969\",\"type\":\"Legend\"}],\"left\":[{\"id\":\"5939\",\"type\":\"LinearAxis\"}],\"output_backend\":\"webgl\",\"plot_height\":400,\"renderers\":[{\"id\":\"5961\",\"type\":\"GlyphRenderer\"},{\"id\":\"5977\",\"type\":\"GlyphRenderer\"}],\"title\":{\"id\":\"5924\",\"type\":\"Title\"},\"toolbar\":{\"id\":\"5950\",\"type\":\"Toolbar\"},\"x_range\":{\"id\":\"5926\",\"type\":\"DataRange1d\"},\"x_scale\":{\"id\":\"5930\",\"type\":\"LinearScale\"},\"y_range\":{\"id\":\"5928\",\"type\":\"DataRange1d\"},\"y_scale\":{\"id\":\"5932\",\"type\":\"LinearScale\"}},\"id\":\"5923\",\"subtype\":\"Figure\",\"type\":\"Plot\"},{\"attributes\":{\"line_color\":\"#1f77b4\",\"line_width\":2,\"x\":{\"field\":\"__x__values\"},\"y\":{\"field\":\"A\"}},\"id\":\"5959\",\"type\":\"Line\"},{\"attributes\":{},\"id\":\"5932\",\"type\":\"LinearScale\"},{\"attributes\":{\"line_alpha\":0.1,\"line_color\":\"#1f77b4\",\"line_width\":2,\"x\":{\"field\":\"__x__values\"},\"y\":{\"field\":\"A\"}},\"id\":\"5960\",\"type\":\"Line\"},{\"attributes\":{\"formatter\":{\"id\":\"5967\",\"type\":\"BasicTickFormatter\"},\"ticker\":{\"id\":\"5990\",\"type\":\"FixedTicker\"}},\"id\":\"5934\",\"type\":\"LinearAxis\"},{\"attributes\":{\"callback\":null,\"data\":{\"A\":[10,21,34,46],\"B\":{\"__ndarray__\":\"AAAAAACAMkDNzMzMzMwxQAAAAAAAwEBAzczMzMyMRkA=\",\"dtype\":\"float64\",\"shape\":[4]},\"__x__values\":[0,1,2,3],\"__x__values_original\":[0,1,2,3]},\"selected\":{\"id\":\"6197\",\"type\":\"Selection\"},\"selection_policy\":{\"id\":\"6198\",\"type\":\"UnionRenderers\"}},\"id\":\"5973\",\"type\":\"ColumnDataSource\"},{\"attributes\":{\"label\":{\"value\":\" A\"},\"renderers\":[{\"id\":\"5961\",\"type\":\"GlyphRenderer\"}]},\"id\":\"5970\",\"type\":\"LegendItem\"},{\"attributes\":{\"data_source\":{\"id\":\"5957\",\"type\":\"ColumnDataSource\"},\"glyph\":{\"id\":\"5959\",\"type\":\"Line\"},\"hover_glyph\":null,\"muted_glyph\":null,\"nonselection_glyph\":{\"id\":\"5960\",\"type\":\"Line\"},\"selection_glyph\":null,\"view\":{\"id\":\"5962\",\"type\":\"CDSView\"}},\"id\":\"5961\",\"type\":\"GlyphRenderer\"},{\"attributes\":{},\"id\":\"5935\",\"type\":\"BasicTicker\"},{\"attributes\":{\"source\":{\"id\":\"5957\",\"type\":\"ColumnDataSource\"}},\"id\":\"5962\",\"type\":\"CDSView\"},{\"attributes\":{\"ticker\":{\"id\":\"5935\",\"type\":\"BasicTicker\"}},\"id\":\"5938\",\"type\":\"Grid\"},{\"attributes\":{},\"id\":\"5965\",\"type\":\"BasicTickFormatter\"},{\"attributes\":{\"formatter\":{\"id\":\"5965\",\"type\":\"BasicTickFormatter\"},\"ticker\":{\"id\":\"5940\",\"type\":\"BasicTicker\"}},\"id\":\"5939\",\"type\":\"LinearAxis\"},{\"attributes\":{\"callback\":null},\"id\":\"5926\",\"type\":\"DataRange1d\"},{\"attributes\":{\"line_color\":\"#ff7f0e\",\"line_width\":2,\"x\":{\"field\":\"__x__values\"},\"y\":{\"field\":\"B\"}},\"id\":\"5975\",\"type\":\"Line\"},{\"attributes\":{},\"id\":\"5940\",\"type\":\"BasicTicker\"},{\"attributes\":{\"line_alpha\":0.1,\"line_color\":\"#1f77b4\",\"line_width\":2,\"x\":{\"field\":\"__x__values\"},\"y\":{\"field\":\"B\"}},\"id\":\"5976\",\"type\":\"Line\"},{\"attributes\":{\"dimension\":1,\"ticker\":{\"id\":\"5940\",\"type\":\"BasicTicker\"}},\"id\":\"5943\",\"type\":\"Grid\"},{\"attributes\":{\"data_source\":{\"id\":\"5973\",\"type\":\"ColumnDataSource\"},\"glyph\":{\"id\":\"5975\",\"type\":\"Line\"},\"hover_glyph\":null,\"muted_glyph\":null,\"nonselection_glyph\":{\"id\":\"5976\",\"type\":\"Line\"},\"selection_glyph\":null,\"view\":{\"id\":\"5978\",\"type\":\"CDSView\"}},\"id\":\"5977\",\"type\":\"GlyphRenderer\"},{\"attributes\":{},\"id\":\"6198\",\"type\":\"UnionRenderers\"},{\"attributes\":{\"source\":{\"id\":\"5973\",\"type\":\"ColumnDataSource\"}},\"id\":\"5978\",\"type\":\"CDSView\"},{\"attributes\":{},\"id\":\"5985\",\"type\":\"UnionRenderers\"},{\"attributes\":{},\"id\":\"5944\",\"type\":\"PanTool\"},{\"attributes\":{\"label\":{\"value\":\" B\"},\"renderers\":[{\"id\":\"5977\",\"type\":\"GlyphRenderer\"}]},\"id\":\"5987\",\"type\":\"LegendItem\"},{\"attributes\":{},\"id\":\"5967\",\"type\":\"BasicTickFormatter\"},{\"attributes\":{},\"id\":\"5945\",\"type\":\"WheelZoomTool\"},{\"attributes\":{\"callback\":null,\"mode\":\"vline\",\"renderers\":[{\"id\":\"5977\",\"type\":\"GlyphRenderer\"}],\"tooltips\":[[\"x\",\"@__x__values_original\"],[\"B\",\"@{B}\"]]},\"id\":\"5988\",\"type\":\"HoverTool\"},{\"attributes\":{\"overlay\":{\"id\":\"5968\",\"type\":\"BoxAnnotation\"}},\"id\":\"5946\",\"type\":\"BoxZoomTool\"},{\"attributes\":{},\"id\":\"6197\",\"type\":\"Selection\"},{\"attributes\":{},\"id\":\"5947\",\"type\":\"SaveTool\"},{\"attributes\":{\"ticks\":[0,1,2,3]},\"id\":\"5990\",\"type\":\"FixedTicker\"},{\"attributes\":{\"bottom_units\":\"screen\",\"fill_alpha\":{\"value\":0.5},\"fill_color\":{\"value\":\"lightgrey\"},\"left_units\":\"screen\",\"level\":\"overlay\",\"line_alpha\":{\"value\":1.0},\"line_color\":{\"value\":\"black\"},\"line_dash\":[4,4],\"line_width\":{\"value\":2},\"render_mode\":\"css\",\"right_units\":\"screen\",\"top_units\":\"screen\"},\"id\":\"5968\",\"type\":\"BoxAnnotation\"},{\"attributes\":{},\"id\":\"5948\",\"type\":\"ResetTool\"},{\"attributes\":{\"click_policy\":\"hide\",\"items\":[{\"id\":\"5970\",\"type\":\"LegendItem\"},{\"id\":\"5987\",\"type\":\"LegendItem\"}]},\"id\":\"5969\",\"type\":\"Legend\"},{\"attributes\":{\"text\":\"\"},\"id\":\"5924\",\"type\":\"Title\"},{\"attributes\":{\"callback\":null},\"id\":\"5928\",\"type\":\"DataRange1d\"},{\"attributes\":{},\"id\":\"5949\",\"type\":\"HelpTool\"},{\"attributes\":{\"active_drag\":\"auto\",\"active_inspect\":\"auto\",\"active_multi\":null,\"active_scroll\":{\"id\":\"5945\",\"type\":\"WheelZoomTool\"},\"active_tap\":\"auto\",\"tools\":[{\"id\":\"5944\",\"type\":\"PanTool\"},{\"id\":\"5945\",\"type\":\"WheelZoomTool\"},{\"id\":\"5946\",\"type\":\"BoxZoomTool\"},{\"id\":\"5947\",\"type\":\"SaveTool\"},{\"id\":\"5948\",\"type\":\"ResetTool\"},{\"id\":\"5949\",\"type\":\"HelpTool\"},{\"id\":\"5971\",\"type\":\"HoverTool\"},{\"id\":\"5988\",\"type\":\"HoverTool\"}]},\"id\":\"5950\",\"type\":\"Toolbar\"},{\"attributes\":{\"callback\":null,\"data\":{\"A\":[10,21,34,46],\"B\":{\"__ndarray__\":\"AAAAAACAMkDNzMzMzMwxQAAAAAAAwEBAzczMzMyMRkA=\",\"dtype\":\"float64\",\"shape\":[4]},\"__x__values\":[0,1,2,3],\"__x__values_original\":[0,1,2,3]},\"selected\":{\"id\":\"5984\",\"type\":\"Selection\"},\"selection_policy\":{\"id\":\"5985\",\"type\":\"UnionRenderers\"}},\"id\":\"5957\",\"type\":\"ColumnDataSource\"},{\"attributes\":{},\"id\":\"5984\",\"type\":\"Selection\"},{\"attributes\":{\"callback\":null,\"mode\":\"vline\",\"renderers\":[{\"id\":\"5961\",\"type\":\"GlyphRenderer\"}],\"tooltips\":[[\"x\",\"@__x__values_original\"],[\"A\",\"@{A}\"]]},\"id\":\"5971\",\"type\":\"HoverTool\"},{\"attributes\":{},\"id\":\"5930\",\"type\":\"LinearScale\"}],\"root_ids\":[\"5923\"]},\"title\":\"Bokeh Application\",\"version\":\"1.3.4\"}};\n",
       "  var render_items = [{\"docid\":\"33f861aa-1547-4a05-b267-868d2d37717e\",\"roots\":{\"5923\":\"cabc79e3-49af-4748-b9f2-449d2a71acd4\"}}];\n",
       "  root.Bokeh.embed.embed_items_notebook(docs_json, render_items);\n",
       "\n",
       "  }\n",
       "  if (root.Bokeh !== undefined) {\n",
       "    embed_document(root);\n",
       "  } else {\n",
       "    var attempts = 0;\n",
       "    var timer = setInterval(function(root) {\n",
       "      if (root.Bokeh !== undefined) {\n",
       "        embed_document(root);\n",
       "        clearInterval(timer);\n",
       "      }\n",
       "      attempts++;\n",
       "      if (attempts > 100) {\n",
       "        console.log(\"Bokeh: ERROR: Unable to run BokehJS code because BokehJS library is missing\");\n",
       "        clearInterval(timer);\n",
       "      }\n",
       "    }, 10, root)\n",
       "  }\n",
       "})(window);"
      ],
      "application/vnd.bokehjs_exec.v0+json": ""
     },
     "metadata": {
      "application/vnd.bokehjs_exec.v0+json": {
       "id": "5923"
      }
     },
     "output_type": "display_data"
    },
    {
     "data": {
      "text/html": [
       "<div style=\"display: table;\"><div style=\"display: table-row;\"><div style=\"display: table-cell;\"><b title=\"bokeh.plotting.figure.Figure\">Figure</b>(</div><div style=\"display: table-cell;\">id&nbsp;=&nbsp;'5923', <span id=\"6255\" style=\"cursor: pointer;\">&hellip;)</span></div></div><div class=\"6254\" style=\"display: none;\"><div style=\"display: table-cell;\"></div><div style=\"display: table-cell;\">above&nbsp;=&nbsp;[],</div></div><div class=\"6254\" style=\"display: none;\"><div style=\"display: table-cell;\"></div><div style=\"display: table-cell;\">align&nbsp;=&nbsp;'start',</div></div><div class=\"6254\" style=\"display: none;\"><div style=\"display: table-cell;\"></div><div style=\"display: table-cell;\">aspect_ratio&nbsp;=&nbsp;None,</div></div><div class=\"6254\" style=\"display: none;\"><div style=\"display: table-cell;\"></div><div style=\"display: table-cell;\">aspect_scale&nbsp;=&nbsp;1,</div></div><div class=\"6254\" style=\"display: none;\"><div style=\"display: table-cell;\"></div><div style=\"display: table-cell;\">background&nbsp;=&nbsp;None,</div></div><div class=\"6254\" style=\"display: none;\"><div style=\"display: table-cell;\"></div><div style=\"display: table-cell;\">background_fill_alpha&nbsp;=&nbsp;{'value': 1.0},</div></div><div class=\"6254\" style=\"display: none;\"><div style=\"display: table-cell;\"></div><div style=\"display: table-cell;\">background_fill_color&nbsp;=&nbsp;{'value': '#ffffff'},</div></div><div class=\"6254\" style=\"display: none;\"><div style=\"display: table-cell;\"></div><div style=\"display: table-cell;\">below&nbsp;=&nbsp;[LinearAxis(id='5934', ...)],</div></div><div class=\"6254\" style=\"display: none;\"><div style=\"display: table-cell;\"></div><div style=\"display: table-cell;\">border_fill_alpha&nbsp;=&nbsp;{'value': 1.0},</div></div><div class=\"6254\" style=\"display: none;\"><div style=\"display: table-cell;\"></div><div style=\"display: table-cell;\">border_fill_color&nbsp;=&nbsp;{'value': '#ffffff'},</div></div><div class=\"6254\" style=\"display: none;\"><div style=\"display: table-cell;\"></div><div style=\"display: table-cell;\">center&nbsp;=&nbsp;[Grid(id='5938', ...), Grid(id='5943', ...), Legend(id='5969', ...)],</div></div><div class=\"6254\" style=\"display: none;\"><div style=\"display: table-cell;\"></div><div style=\"display: table-cell;\">css_classes&nbsp;=&nbsp;[],</div></div><div class=\"6254\" style=\"display: none;\"><div style=\"display: table-cell;\"></div><div style=\"display: table-cell;\">disabled&nbsp;=&nbsp;False,</div></div><div class=\"6254\" style=\"display: none;\"><div style=\"display: table-cell;\"></div><div style=\"display: table-cell;\">extra_x_ranges&nbsp;=&nbsp;{},</div></div><div class=\"6254\" style=\"display: none;\"><div style=\"display: table-cell;\"></div><div style=\"display: table-cell;\">extra_y_ranges&nbsp;=&nbsp;{},</div></div><div class=\"6254\" style=\"display: none;\"><div style=\"display: table-cell;\"></div><div style=\"display: table-cell;\">frame_height&nbsp;=&nbsp;None,</div></div><div class=\"6254\" style=\"display: none;\"><div style=\"display: table-cell;\"></div><div style=\"display: table-cell;\">frame_width&nbsp;=&nbsp;None,</div></div><div class=\"6254\" style=\"display: none;\"><div style=\"display: table-cell;\"></div><div style=\"display: table-cell;\">height&nbsp;=&nbsp;None,</div></div><div class=\"6254\" style=\"display: none;\"><div style=\"display: table-cell;\"></div><div style=\"display: table-cell;\">height_policy&nbsp;=&nbsp;'auto',</div></div><div class=\"6254\" style=\"display: none;\"><div style=\"display: table-cell;\"></div><div style=\"display: table-cell;\">hidpi&nbsp;=&nbsp;True,</div></div><div class=\"6254\" style=\"display: none;\"><div style=\"display: table-cell;\"></div><div style=\"display: table-cell;\">js_event_callbacks&nbsp;=&nbsp;{},</div></div><div class=\"6254\" style=\"display: none;\"><div style=\"display: table-cell;\"></div><div style=\"display: table-cell;\">js_property_callbacks&nbsp;=&nbsp;{},</div></div><div class=\"6254\" style=\"display: none;\"><div style=\"display: table-cell;\"></div><div style=\"display: table-cell;\">left&nbsp;=&nbsp;[LinearAxis(id='5939', ...)],</div></div><div class=\"6254\" style=\"display: none;\"><div style=\"display: table-cell;\"></div><div style=\"display: table-cell;\">lod_factor&nbsp;=&nbsp;10,</div></div><div class=\"6254\" style=\"display: none;\"><div style=\"display: table-cell;\"></div><div style=\"display: table-cell;\">lod_interval&nbsp;=&nbsp;300,</div></div><div class=\"6254\" style=\"display: none;\"><div style=\"display: table-cell;\"></div><div style=\"display: table-cell;\">lod_threshold&nbsp;=&nbsp;2000,</div></div><div class=\"6254\" style=\"display: none;\"><div style=\"display: table-cell;\"></div><div style=\"display: table-cell;\">lod_timeout&nbsp;=&nbsp;500,</div></div><div class=\"6254\" style=\"display: none;\"><div style=\"display: table-cell;\"></div><div style=\"display: table-cell;\">margin&nbsp;=&nbsp;(0, 0, 0, 0),</div></div><div class=\"6254\" style=\"display: none;\"><div style=\"display: table-cell;\"></div><div style=\"display: table-cell;\">match_aspect&nbsp;=&nbsp;False,</div></div><div class=\"6254\" style=\"display: none;\"><div style=\"display: table-cell;\"></div><div style=\"display: table-cell;\">max_height&nbsp;=&nbsp;None,</div></div><div class=\"6254\" style=\"display: none;\"><div style=\"display: table-cell;\"></div><div style=\"display: table-cell;\">max_width&nbsp;=&nbsp;None,</div></div><div class=\"6254\" style=\"display: none;\"><div style=\"display: table-cell;\"></div><div style=\"display: table-cell;\">min_border&nbsp;=&nbsp;5,</div></div><div class=\"6254\" style=\"display: none;\"><div style=\"display: table-cell;\"></div><div style=\"display: table-cell;\">min_border_bottom&nbsp;=&nbsp;None,</div></div><div class=\"6254\" style=\"display: none;\"><div style=\"display: table-cell;\"></div><div style=\"display: table-cell;\">min_border_left&nbsp;=&nbsp;None,</div></div><div class=\"6254\" style=\"display: none;\"><div style=\"display: table-cell;\"></div><div style=\"display: table-cell;\">min_border_right&nbsp;=&nbsp;None,</div></div><div class=\"6254\" style=\"display: none;\"><div style=\"display: table-cell;\"></div><div style=\"display: table-cell;\">min_border_top&nbsp;=&nbsp;None,</div></div><div class=\"6254\" style=\"display: none;\"><div style=\"display: table-cell;\"></div><div style=\"display: table-cell;\">min_height&nbsp;=&nbsp;None,</div></div><div class=\"6254\" style=\"display: none;\"><div style=\"display: table-cell;\"></div><div style=\"display: table-cell;\">min_width&nbsp;=&nbsp;None,</div></div><div class=\"6254\" style=\"display: none;\"><div style=\"display: table-cell;\"></div><div style=\"display: table-cell;\">name&nbsp;=&nbsp;None,</div></div><div class=\"6254\" style=\"display: none;\"><div style=\"display: table-cell;\"></div><div style=\"display: table-cell;\">outline_line_alpha&nbsp;=&nbsp;{'value': 1.0},</div></div><div class=\"6254\" style=\"display: none;\"><div style=\"display: table-cell;\"></div><div style=\"display: table-cell;\">outline_line_cap&nbsp;=&nbsp;'butt',</div></div><div class=\"6254\" style=\"display: none;\"><div style=\"display: table-cell;\"></div><div style=\"display: table-cell;\">outline_line_color&nbsp;=&nbsp;{'value': '#e5e5e5'},</div></div><div class=\"6254\" style=\"display: none;\"><div style=\"display: table-cell;\"></div><div style=\"display: table-cell;\">outline_line_dash&nbsp;=&nbsp;[],</div></div><div class=\"6254\" style=\"display: none;\"><div style=\"display: table-cell;\"></div><div style=\"display: table-cell;\">outline_line_dash_offset&nbsp;=&nbsp;0,</div></div><div class=\"6254\" style=\"display: none;\"><div style=\"display: table-cell;\"></div><div style=\"display: table-cell;\">outline_line_join&nbsp;=&nbsp;'bevel',</div></div><div class=\"6254\" style=\"display: none;\"><div style=\"display: table-cell;\"></div><div style=\"display: table-cell;\">outline_line_width&nbsp;=&nbsp;{'value': 1},</div></div><div class=\"6254\" style=\"display: none;\"><div style=\"display: table-cell;\"></div><div style=\"display: table-cell;\">output_backend&nbsp;=&nbsp;'webgl',</div></div><div class=\"6254\" style=\"display: none;\"><div style=\"display: table-cell;\"></div><div style=\"display: table-cell;\">plot_height&nbsp;=&nbsp;400,</div></div><div class=\"6254\" style=\"display: none;\"><div style=\"display: table-cell;\"></div><div style=\"display: table-cell;\">plot_width&nbsp;=&nbsp;600,</div></div><div class=\"6254\" style=\"display: none;\"><div style=\"display: table-cell;\"></div><div style=\"display: table-cell;\">renderers&nbsp;=&nbsp;[GlyphRenderer(id='5961', ...), GlyphRenderer(id='5977', ...)],</div></div><div class=\"6254\" style=\"display: none;\"><div style=\"display: table-cell;\"></div><div style=\"display: table-cell;\">reset_policy&nbsp;=&nbsp;'standard',</div></div><div class=\"6254\" style=\"display: none;\"><div style=\"display: table-cell;\"></div><div style=\"display: table-cell;\">right&nbsp;=&nbsp;[],</div></div><div class=\"6254\" style=\"display: none;\"><div style=\"display: table-cell;\"></div><div style=\"display: table-cell;\">sizing_mode&nbsp;=&nbsp;None,</div></div><div class=\"6254\" style=\"display: none;\"><div style=\"display: table-cell;\"></div><div style=\"display: table-cell;\">subscribed_events&nbsp;=&nbsp;[],</div></div><div class=\"6254\" style=\"display: none;\"><div style=\"display: table-cell;\"></div><div style=\"display: table-cell;\">tags&nbsp;=&nbsp;[],</div></div><div class=\"6254\" style=\"display: none;\"><div style=\"display: table-cell;\"></div><div style=\"display: table-cell;\">title&nbsp;=&nbsp;Title(id='5924', ...),</div></div><div class=\"6254\" style=\"display: none;\"><div style=\"display: table-cell;\"></div><div style=\"display: table-cell;\">title_location&nbsp;=&nbsp;'above',</div></div><div class=\"6254\" style=\"display: none;\"><div style=\"display: table-cell;\"></div><div style=\"display: table-cell;\">toolbar&nbsp;=&nbsp;Toolbar(id='5950', ...),</div></div><div class=\"6254\" style=\"display: none;\"><div style=\"display: table-cell;\"></div><div style=\"display: table-cell;\">toolbar_location&nbsp;=&nbsp;'right',</div></div><div class=\"6254\" style=\"display: none;\"><div style=\"display: table-cell;\"></div><div style=\"display: table-cell;\">toolbar_sticky&nbsp;=&nbsp;True,</div></div><div class=\"6254\" style=\"display: none;\"><div style=\"display: table-cell;\"></div><div style=\"display: table-cell;\">visible&nbsp;=&nbsp;True,</div></div><div class=\"6254\" style=\"display: none;\"><div style=\"display: table-cell;\"></div><div style=\"display: table-cell;\">width&nbsp;=&nbsp;None,</div></div><div class=\"6254\" style=\"display: none;\"><div style=\"display: table-cell;\"></div><div style=\"display: table-cell;\">width_policy&nbsp;=&nbsp;'auto',</div></div><div class=\"6254\" style=\"display: none;\"><div style=\"display: table-cell;\"></div><div style=\"display: table-cell;\">x_range&nbsp;=&nbsp;DataRange1d(id='5926', ...),</div></div><div class=\"6254\" style=\"display: none;\"><div style=\"display: table-cell;\"></div><div style=\"display: table-cell;\">x_scale&nbsp;=&nbsp;LinearScale(id='5930', ...),</div></div><div class=\"6254\" style=\"display: none;\"><div style=\"display: table-cell;\"></div><div style=\"display: table-cell;\">y_range&nbsp;=&nbsp;DataRange1d(id='5928', ...),</div></div><div class=\"6254\" style=\"display: none;\"><div style=\"display: table-cell;\"></div><div style=\"display: table-cell;\">y_scale&nbsp;=&nbsp;LinearScale(id='5932', ...))</div></div></div>\n",
       "<script>\n",
       "(function() {\n",
       "  var expanded = false;\n",
       "  var ellipsis = document.getElementById(\"6255\");\n",
       "  ellipsis.addEventListener(\"click\", function() {\n",
       "    var rows = document.getElementsByClassName(\"6254\");\n",
       "    for (var i = 0; i < rows.length; i++) {\n",
       "      var el = rows[i];\n",
       "      el.style.display = expanded ? \"none\" : \"table-row\";\n",
       "    }\n",
       "    ellipsis.innerHTML = expanded ? \"&hellip;)\" : \"&lsaquo;&lsaquo;&lsaquo;\";\n",
       "    expanded = !expanded;\n",
       "  });\n",
       "})();\n",
       "</script>\n"
      ],
      "text/plain": [
       "Figure(id='5923', ...)"
      ]
     },
     "execution_count": 49,
     "metadata": {},
     "output_type": "execute_result"
    }
   ],
   "source": [
    "toy.plot()"
   ]
  },
  {
   "cell_type": "markdown",
   "metadata": {},
   "source": [
    "To plot just a single column, Pandas support plotting `Series`, but `pandas_bokeh` does not. It is best to create a single column dataframe using the double `df[[col]]` syntax and then plot that new dataframe."
   ]
  },
  {
   "cell_type": "code",
   "execution_count": 50,
   "metadata": {},
   "outputs": [
    {
     "data": {
      "text/html": [
       "<div>\n",
       "<style scoped>\n",
       "    .dataframe tbody tr th:only-of-type {\n",
       "        vertical-align: middle;\n",
       "    }\n",
       "\n",
       "    .dataframe tbody tr th {\n",
       "        vertical-align: top;\n",
       "    }\n",
       "\n",
       "    .dataframe thead th {\n",
       "        text-align: right;\n",
       "    }\n",
       "</style>\n",
       "<table border=\"1\" class=\"dataframe\">\n",
       "  <thead>\n",
       "    <tr style=\"text-align: right;\">\n",
       "      <th></th>\n",
       "      <th>A</th>\n",
       "    </tr>\n",
       "  </thead>\n",
       "  <tbody>\n",
       "    <tr>\n",
       "      <th>0</th>\n",
       "      <td>10</td>\n",
       "    </tr>\n",
       "    <tr>\n",
       "      <th>1</th>\n",
       "      <td>21</td>\n",
       "    </tr>\n",
       "    <tr>\n",
       "      <th>2</th>\n",
       "      <td>34</td>\n",
       "    </tr>\n",
       "    <tr>\n",
       "      <th>3</th>\n",
       "      <td>46</td>\n",
       "    </tr>\n",
       "  </tbody>\n",
       "</table>\n",
       "</div>"
      ],
      "text/plain": [
       "    A\n",
       "0  10\n",
       "1  21\n",
       "2  34\n",
       "3  46"
      ]
     },
     "execution_count": 50,
     "metadata": {},
     "output_type": "execute_result"
    }
   ],
   "source": [
    "a = toy[[\"A\"]]\n",
    "a"
   ]
  },
  {
   "cell_type": "code",
   "execution_count": 52,
   "metadata": {},
   "outputs": [
    {
     "data": {
      "text/html": [
       "\n",
       "\n",
       "\n",
       "\n",
       "\n",
       "\n",
       "  <div class=\"bk-root\" id=\"5c7eeb77-5b20-4c13-9154-96a3b588f7c0\" data-root-id=\"6569\"></div>\n"
      ]
     },
     "metadata": {},
     "output_type": "display_data"
    },
    {
     "data": {
      "application/javascript": [
       "(function(root) {\n",
       "  function embed_document(root) {\n",
       "    \n",
       "  var docs_json = {\"ec8989a0-5aaa-4876-9ae6-992b9f7c4b58\":{\"roots\":{\"references\":[{\"attributes\":{\"below\":[{\"id\":\"6580\",\"type\":\"LinearAxis\"}],\"center\":[{\"id\":\"6584\",\"type\":\"Grid\"},{\"id\":\"6589\",\"type\":\"Grid\"},{\"id\":\"6615\",\"type\":\"Legend\"}],\"left\":[{\"id\":\"6585\",\"type\":\"LinearAxis\"}],\"output_backend\":\"webgl\",\"plot_height\":400,\"renderers\":[{\"id\":\"6607\",\"type\":\"GlyphRenderer\"}],\"title\":{\"id\":\"6570\",\"type\":\"Title\"},\"toolbar\":{\"id\":\"6596\",\"type\":\"Toolbar\"},\"x_range\":{\"id\":\"6572\",\"type\":\"DataRange1d\"},\"x_scale\":{\"id\":\"6576\",\"type\":\"LinearScale\"},\"y_range\":{\"id\":\"6574\",\"type\":\"DataRange1d\"},\"y_scale\":{\"id\":\"6578\",\"type\":\"LinearScale\"}},\"id\":\"6569\",\"subtype\":\"Figure\",\"type\":\"Plot\"},{\"attributes\":{\"callback\":null,\"mode\":\"vline\",\"renderers\":[{\"id\":\"6607\",\"type\":\"GlyphRenderer\"}],\"tooltips\":[[\"x\",\"@__x__values_original\"],[\"A\",\"@{A}\"]]},\"id\":\"6617\",\"type\":\"HoverTool\"},{\"attributes\":{},\"id\":\"6590\",\"type\":\"PanTool\"},{\"attributes\":{},\"id\":\"6595\",\"type\":\"HelpTool\"},{\"attributes\":{},\"id\":\"6840\",\"type\":\"Selection\"},{\"attributes\":{\"ticks\":[0,1,2,3]},\"id\":\"6619\",\"type\":\"FixedTicker\"},{\"attributes\":{},\"id\":\"6594\",\"type\":\"ResetTool\"},{\"attributes\":{\"formatter\":{\"id\":\"6613\",\"type\":\"BasicTickFormatter\"},\"ticker\":{\"id\":\"6619\",\"type\":\"FixedTicker\"}},\"id\":\"6580\",\"type\":\"LinearAxis\"},{\"attributes\":{},\"id\":\"6593\",\"type\":\"SaveTool\"},{\"attributes\":{\"label\":{\"value\":\" A\"},\"renderers\":[{\"id\":\"6607\",\"type\":\"GlyphRenderer\"}]},\"id\":\"6616\",\"type\":\"LegendItem\"},{\"attributes\":{},\"id\":\"6578\",\"type\":\"LinearScale\"},{\"attributes\":{\"overlay\":{\"id\":\"6614\",\"type\":\"BoxAnnotation\"}},\"id\":\"6592\",\"type\":\"BoxZoomTool\"},{\"attributes\":{},\"id\":\"6576\",\"type\":\"LinearScale\"},{\"attributes\":{},\"id\":\"6591\",\"type\":\"WheelZoomTool\"},{\"attributes\":{\"callback\":null,\"data\":{\"A\":[10,21,34,46],\"__x__values\":[0,1,2,3],\"__x__values_original\":[0,1,2,3]},\"selected\":{\"id\":\"6840\",\"type\":\"Selection\"},\"selection_policy\":{\"id\":\"6841\",\"type\":\"UnionRenderers\"}},\"id\":\"6603\",\"type\":\"ColumnDataSource\"},{\"attributes\":{\"line_color\":\"#1f77b4\",\"line_width\":2,\"x\":{\"field\":\"__x__values\"},\"y\":{\"field\":\"A\"}},\"id\":\"6605\",\"type\":\"Line\"},{\"attributes\":{\"callback\":null},\"id\":\"6572\",\"type\":\"DataRange1d\"},{\"attributes\":{\"click_policy\":\"hide\",\"items\":[{\"id\":\"6616\",\"type\":\"LegendItem\"}]},\"id\":\"6615\",\"type\":\"Legend\"},{\"attributes\":{\"callback\":null},\"id\":\"6574\",\"type\":\"DataRange1d\"},{\"attributes\":{\"source\":{\"id\":\"6603\",\"type\":\"ColumnDataSource\"}},\"id\":\"6608\",\"type\":\"CDSView\"},{\"attributes\":{\"data_source\":{\"id\":\"6603\",\"type\":\"ColumnDataSource\"},\"glyph\":{\"id\":\"6605\",\"type\":\"Line\"},\"hover_glyph\":null,\"muted_glyph\":null,\"nonselection_glyph\":{\"id\":\"6606\",\"type\":\"Line\"},\"selection_glyph\":null,\"view\":{\"id\":\"6608\",\"type\":\"CDSView\"}},\"id\":\"6607\",\"type\":\"GlyphRenderer\"},{\"attributes\":{},\"id\":\"6581\",\"type\":\"BasicTicker\"},{\"attributes\":{\"bottom_units\":\"screen\",\"fill_alpha\":{\"value\":0.5},\"fill_color\":{\"value\":\"lightgrey\"},\"left_units\":\"screen\",\"level\":\"overlay\",\"line_alpha\":{\"value\":1.0},\"line_color\":{\"value\":\"black\"},\"line_dash\":[4,4],\"line_width\":{\"value\":2},\"render_mode\":\"css\",\"right_units\":\"screen\",\"top_units\":\"screen\"},\"id\":\"6614\",\"type\":\"BoxAnnotation\"},{\"attributes\":{\"line_alpha\":0.1,\"line_color\":\"#1f77b4\",\"line_width\":2,\"x\":{\"field\":\"__x__values\"},\"y\":{\"field\":\"A\"}},\"id\":\"6606\",\"type\":\"Line\"},{\"attributes\":{\"ticker\":{\"id\":\"6581\",\"type\":\"BasicTicker\"}},\"id\":\"6584\",\"type\":\"Grid\"},{\"attributes\":{},\"id\":\"6586\",\"type\":\"BasicTicker\"},{\"attributes\":{},\"id\":\"6613\",\"type\":\"BasicTickFormatter\"},{\"attributes\":{\"dimension\":1,\"ticker\":{\"id\":\"6586\",\"type\":\"BasicTicker\"}},\"id\":\"6589\",\"type\":\"Grid\"},{\"attributes\":{},\"id\":\"6611\",\"type\":\"BasicTickFormatter\"},{\"attributes\":{\"active_drag\":\"auto\",\"active_inspect\":\"auto\",\"active_multi\":null,\"active_scroll\":{\"id\":\"6591\",\"type\":\"WheelZoomTool\"},\"active_tap\":\"auto\",\"tools\":[{\"id\":\"6590\",\"type\":\"PanTool\"},{\"id\":\"6591\",\"type\":\"WheelZoomTool\"},{\"id\":\"6592\",\"type\":\"BoxZoomTool\"},{\"id\":\"6593\",\"type\":\"SaveTool\"},{\"id\":\"6594\",\"type\":\"ResetTool\"},{\"id\":\"6595\",\"type\":\"HelpTool\"},{\"id\":\"6617\",\"type\":\"HoverTool\"}]},\"id\":\"6596\",\"type\":\"Toolbar\"},{\"attributes\":{},\"id\":\"6841\",\"type\":\"UnionRenderers\"},{\"attributes\":{\"text\":\"\"},\"id\":\"6570\",\"type\":\"Title\"},{\"attributes\":{\"axis_label\":\"A\",\"formatter\":{\"id\":\"6611\",\"type\":\"BasicTickFormatter\"},\"ticker\":{\"id\":\"6586\",\"type\":\"BasicTicker\"}},\"id\":\"6585\",\"type\":\"LinearAxis\"}],\"root_ids\":[\"6569\"]},\"title\":\"Bokeh Application\",\"version\":\"1.3.4\"}};\n",
       "  var render_items = [{\"docid\":\"ec8989a0-5aaa-4876-9ae6-992b9f7c4b58\",\"roots\":{\"6569\":\"5c7eeb77-5b20-4c13-9154-96a3b588f7c0\"}}];\n",
       "  root.Bokeh.embed.embed_items_notebook(docs_json, render_items);\n",
       "\n",
       "  }\n",
       "  if (root.Bokeh !== undefined) {\n",
       "    embed_document(root);\n",
       "  } else {\n",
       "    var attempts = 0;\n",
       "    var timer = setInterval(function(root) {\n",
       "      if (root.Bokeh !== undefined) {\n",
       "        embed_document(root);\n",
       "        clearInterval(timer);\n",
       "      }\n",
       "      attempts++;\n",
       "      if (attempts > 100) {\n",
       "        console.log(\"Bokeh: ERROR: Unable to run BokehJS code because BokehJS library is missing\");\n",
       "        clearInterval(timer);\n",
       "      }\n",
       "    }, 10, root)\n",
       "  }\n",
       "})(window);"
      ],
      "application/vnd.bokehjs_exec.v0+json": ""
     },
     "metadata": {
      "application/vnd.bokehjs_exec.v0+json": {
       "id": "6569"
      }
     },
     "output_type": "display_data"
    },
    {
     "data": {
      "text/html": [
       "<div style=\"display: table;\"><div style=\"display: table-row;\"><div style=\"display: table-cell;\"><b title=\"bokeh.plotting.figure.Figure\">Figure</b>(</div><div style=\"display: table-cell;\">id&nbsp;=&nbsp;'6569', <span id=\"6886\" style=\"cursor: pointer;\">&hellip;)</span></div></div><div class=\"6885\" style=\"display: none;\"><div style=\"display: table-cell;\"></div><div style=\"display: table-cell;\">above&nbsp;=&nbsp;[],</div></div><div class=\"6885\" style=\"display: none;\"><div style=\"display: table-cell;\"></div><div style=\"display: table-cell;\">align&nbsp;=&nbsp;'start',</div></div><div class=\"6885\" style=\"display: none;\"><div style=\"display: table-cell;\"></div><div style=\"display: table-cell;\">aspect_ratio&nbsp;=&nbsp;None,</div></div><div class=\"6885\" style=\"display: none;\"><div style=\"display: table-cell;\"></div><div style=\"display: table-cell;\">aspect_scale&nbsp;=&nbsp;1,</div></div><div class=\"6885\" style=\"display: none;\"><div style=\"display: table-cell;\"></div><div style=\"display: table-cell;\">background&nbsp;=&nbsp;None,</div></div><div class=\"6885\" style=\"display: none;\"><div style=\"display: table-cell;\"></div><div style=\"display: table-cell;\">background_fill_alpha&nbsp;=&nbsp;{'value': 1.0},</div></div><div class=\"6885\" style=\"display: none;\"><div style=\"display: table-cell;\"></div><div style=\"display: table-cell;\">background_fill_color&nbsp;=&nbsp;{'value': '#ffffff'},</div></div><div class=\"6885\" style=\"display: none;\"><div style=\"display: table-cell;\"></div><div style=\"display: table-cell;\">below&nbsp;=&nbsp;[LinearAxis(id='6580', ...)],</div></div><div class=\"6885\" style=\"display: none;\"><div style=\"display: table-cell;\"></div><div style=\"display: table-cell;\">border_fill_alpha&nbsp;=&nbsp;{'value': 1.0},</div></div><div class=\"6885\" style=\"display: none;\"><div style=\"display: table-cell;\"></div><div style=\"display: table-cell;\">border_fill_color&nbsp;=&nbsp;{'value': '#ffffff'},</div></div><div class=\"6885\" style=\"display: none;\"><div style=\"display: table-cell;\"></div><div style=\"display: table-cell;\">center&nbsp;=&nbsp;[Grid(id='6584', ...), Grid(id='6589', ...), Legend(id='6615', ...)],</div></div><div class=\"6885\" style=\"display: none;\"><div style=\"display: table-cell;\"></div><div style=\"display: table-cell;\">css_classes&nbsp;=&nbsp;[],</div></div><div class=\"6885\" style=\"display: none;\"><div style=\"display: table-cell;\"></div><div style=\"display: table-cell;\">disabled&nbsp;=&nbsp;False,</div></div><div class=\"6885\" style=\"display: none;\"><div style=\"display: table-cell;\"></div><div style=\"display: table-cell;\">extra_x_ranges&nbsp;=&nbsp;{},</div></div><div class=\"6885\" style=\"display: none;\"><div style=\"display: table-cell;\"></div><div style=\"display: table-cell;\">extra_y_ranges&nbsp;=&nbsp;{},</div></div><div class=\"6885\" style=\"display: none;\"><div style=\"display: table-cell;\"></div><div style=\"display: table-cell;\">frame_height&nbsp;=&nbsp;None,</div></div><div class=\"6885\" style=\"display: none;\"><div style=\"display: table-cell;\"></div><div style=\"display: table-cell;\">frame_width&nbsp;=&nbsp;None,</div></div><div class=\"6885\" style=\"display: none;\"><div style=\"display: table-cell;\"></div><div style=\"display: table-cell;\">height&nbsp;=&nbsp;None,</div></div><div class=\"6885\" style=\"display: none;\"><div style=\"display: table-cell;\"></div><div style=\"display: table-cell;\">height_policy&nbsp;=&nbsp;'auto',</div></div><div class=\"6885\" style=\"display: none;\"><div style=\"display: table-cell;\"></div><div style=\"display: table-cell;\">hidpi&nbsp;=&nbsp;True,</div></div><div class=\"6885\" style=\"display: none;\"><div style=\"display: table-cell;\"></div><div style=\"display: table-cell;\">js_event_callbacks&nbsp;=&nbsp;{},</div></div><div class=\"6885\" style=\"display: none;\"><div style=\"display: table-cell;\"></div><div style=\"display: table-cell;\">js_property_callbacks&nbsp;=&nbsp;{},</div></div><div class=\"6885\" style=\"display: none;\"><div style=\"display: table-cell;\"></div><div style=\"display: table-cell;\">left&nbsp;=&nbsp;[LinearAxis(id='6585', ...)],</div></div><div class=\"6885\" style=\"display: none;\"><div style=\"display: table-cell;\"></div><div style=\"display: table-cell;\">lod_factor&nbsp;=&nbsp;10,</div></div><div class=\"6885\" style=\"display: none;\"><div style=\"display: table-cell;\"></div><div style=\"display: table-cell;\">lod_interval&nbsp;=&nbsp;300,</div></div><div class=\"6885\" style=\"display: none;\"><div style=\"display: table-cell;\"></div><div style=\"display: table-cell;\">lod_threshold&nbsp;=&nbsp;2000,</div></div><div class=\"6885\" style=\"display: none;\"><div style=\"display: table-cell;\"></div><div style=\"display: table-cell;\">lod_timeout&nbsp;=&nbsp;500,</div></div><div class=\"6885\" style=\"display: none;\"><div style=\"display: table-cell;\"></div><div style=\"display: table-cell;\">margin&nbsp;=&nbsp;(0, 0, 0, 0),</div></div><div class=\"6885\" style=\"display: none;\"><div style=\"display: table-cell;\"></div><div style=\"display: table-cell;\">match_aspect&nbsp;=&nbsp;False,</div></div><div class=\"6885\" style=\"display: none;\"><div style=\"display: table-cell;\"></div><div style=\"display: table-cell;\">max_height&nbsp;=&nbsp;None,</div></div><div class=\"6885\" style=\"display: none;\"><div style=\"display: table-cell;\"></div><div style=\"display: table-cell;\">max_width&nbsp;=&nbsp;None,</div></div><div class=\"6885\" style=\"display: none;\"><div style=\"display: table-cell;\"></div><div style=\"display: table-cell;\">min_border&nbsp;=&nbsp;5,</div></div><div class=\"6885\" style=\"display: none;\"><div style=\"display: table-cell;\"></div><div style=\"display: table-cell;\">min_border_bottom&nbsp;=&nbsp;None,</div></div><div class=\"6885\" style=\"display: none;\"><div style=\"display: table-cell;\"></div><div style=\"display: table-cell;\">min_border_left&nbsp;=&nbsp;None,</div></div><div class=\"6885\" style=\"display: none;\"><div style=\"display: table-cell;\"></div><div style=\"display: table-cell;\">min_border_right&nbsp;=&nbsp;None,</div></div><div class=\"6885\" style=\"display: none;\"><div style=\"display: table-cell;\"></div><div style=\"display: table-cell;\">min_border_top&nbsp;=&nbsp;None,</div></div><div class=\"6885\" style=\"display: none;\"><div style=\"display: table-cell;\"></div><div style=\"display: table-cell;\">min_height&nbsp;=&nbsp;None,</div></div><div class=\"6885\" style=\"display: none;\"><div style=\"display: table-cell;\"></div><div style=\"display: table-cell;\">min_width&nbsp;=&nbsp;None,</div></div><div class=\"6885\" style=\"display: none;\"><div style=\"display: table-cell;\"></div><div style=\"display: table-cell;\">name&nbsp;=&nbsp;None,</div></div><div class=\"6885\" style=\"display: none;\"><div style=\"display: table-cell;\"></div><div style=\"display: table-cell;\">outline_line_alpha&nbsp;=&nbsp;{'value': 1.0},</div></div><div class=\"6885\" style=\"display: none;\"><div style=\"display: table-cell;\"></div><div style=\"display: table-cell;\">outline_line_cap&nbsp;=&nbsp;'butt',</div></div><div class=\"6885\" style=\"display: none;\"><div style=\"display: table-cell;\"></div><div style=\"display: table-cell;\">outline_line_color&nbsp;=&nbsp;{'value': '#e5e5e5'},</div></div><div class=\"6885\" style=\"display: none;\"><div style=\"display: table-cell;\"></div><div style=\"display: table-cell;\">outline_line_dash&nbsp;=&nbsp;[],</div></div><div class=\"6885\" style=\"display: none;\"><div style=\"display: table-cell;\"></div><div style=\"display: table-cell;\">outline_line_dash_offset&nbsp;=&nbsp;0,</div></div><div class=\"6885\" style=\"display: none;\"><div style=\"display: table-cell;\"></div><div style=\"display: table-cell;\">outline_line_join&nbsp;=&nbsp;'bevel',</div></div><div class=\"6885\" style=\"display: none;\"><div style=\"display: table-cell;\"></div><div style=\"display: table-cell;\">outline_line_width&nbsp;=&nbsp;{'value': 1},</div></div><div class=\"6885\" style=\"display: none;\"><div style=\"display: table-cell;\"></div><div style=\"display: table-cell;\">output_backend&nbsp;=&nbsp;'webgl',</div></div><div class=\"6885\" style=\"display: none;\"><div style=\"display: table-cell;\"></div><div style=\"display: table-cell;\">plot_height&nbsp;=&nbsp;400,</div></div><div class=\"6885\" style=\"display: none;\"><div style=\"display: table-cell;\"></div><div style=\"display: table-cell;\">plot_width&nbsp;=&nbsp;600,</div></div><div class=\"6885\" style=\"display: none;\"><div style=\"display: table-cell;\"></div><div style=\"display: table-cell;\">renderers&nbsp;=&nbsp;[GlyphRenderer(id='6607', ...)],</div></div><div class=\"6885\" style=\"display: none;\"><div style=\"display: table-cell;\"></div><div style=\"display: table-cell;\">reset_policy&nbsp;=&nbsp;'standard',</div></div><div class=\"6885\" style=\"display: none;\"><div style=\"display: table-cell;\"></div><div style=\"display: table-cell;\">right&nbsp;=&nbsp;[],</div></div><div class=\"6885\" style=\"display: none;\"><div style=\"display: table-cell;\"></div><div style=\"display: table-cell;\">sizing_mode&nbsp;=&nbsp;None,</div></div><div class=\"6885\" style=\"display: none;\"><div style=\"display: table-cell;\"></div><div style=\"display: table-cell;\">subscribed_events&nbsp;=&nbsp;[],</div></div><div class=\"6885\" style=\"display: none;\"><div style=\"display: table-cell;\"></div><div style=\"display: table-cell;\">tags&nbsp;=&nbsp;[],</div></div><div class=\"6885\" style=\"display: none;\"><div style=\"display: table-cell;\"></div><div style=\"display: table-cell;\">title&nbsp;=&nbsp;Title(id='6570', ...),</div></div><div class=\"6885\" style=\"display: none;\"><div style=\"display: table-cell;\"></div><div style=\"display: table-cell;\">title_location&nbsp;=&nbsp;'above',</div></div><div class=\"6885\" style=\"display: none;\"><div style=\"display: table-cell;\"></div><div style=\"display: table-cell;\">toolbar&nbsp;=&nbsp;Toolbar(id='6596', ...),</div></div><div class=\"6885\" style=\"display: none;\"><div style=\"display: table-cell;\"></div><div style=\"display: table-cell;\">toolbar_location&nbsp;=&nbsp;'right',</div></div><div class=\"6885\" style=\"display: none;\"><div style=\"display: table-cell;\"></div><div style=\"display: table-cell;\">toolbar_sticky&nbsp;=&nbsp;True,</div></div><div class=\"6885\" style=\"display: none;\"><div style=\"display: table-cell;\"></div><div style=\"display: table-cell;\">visible&nbsp;=&nbsp;True,</div></div><div class=\"6885\" style=\"display: none;\"><div style=\"display: table-cell;\"></div><div style=\"display: table-cell;\">width&nbsp;=&nbsp;None,</div></div><div class=\"6885\" style=\"display: none;\"><div style=\"display: table-cell;\"></div><div style=\"display: table-cell;\">width_policy&nbsp;=&nbsp;'auto',</div></div><div class=\"6885\" style=\"display: none;\"><div style=\"display: table-cell;\"></div><div style=\"display: table-cell;\">x_range&nbsp;=&nbsp;DataRange1d(id='6572', ...),</div></div><div class=\"6885\" style=\"display: none;\"><div style=\"display: table-cell;\"></div><div style=\"display: table-cell;\">x_scale&nbsp;=&nbsp;LinearScale(id='6576', ...),</div></div><div class=\"6885\" style=\"display: none;\"><div style=\"display: table-cell;\"></div><div style=\"display: table-cell;\">y_range&nbsp;=&nbsp;DataRange1d(id='6574', ...),</div></div><div class=\"6885\" style=\"display: none;\"><div style=\"display: table-cell;\"></div><div style=\"display: table-cell;\">y_scale&nbsp;=&nbsp;LinearScale(id='6578', ...))</div></div></div>\n",
       "<script>\n",
       "(function() {\n",
       "  var expanded = false;\n",
       "  var ellipsis = document.getElementById(\"6886\");\n",
       "  ellipsis.addEventListener(\"click\", function() {\n",
       "    var rows = document.getElementsByClassName(\"6885\");\n",
       "    for (var i = 0; i < rows.length; i++) {\n",
       "      var el = rows[i];\n",
       "      el.style.display = expanded ? \"none\" : \"table-row\";\n",
       "    }\n",
       "    ellipsis.innerHTML = expanded ? \"&hellip;)\" : \"&lsaquo;&lsaquo;&lsaquo;\";\n",
       "    expanded = !expanded;\n",
       "  });\n",
       "})();\n",
       "</script>\n"
      ],
      "text/plain": [
       "Figure(id='6569', ...)"
      ]
     },
     "execution_count": 52,
     "metadata": {},
     "output_type": "execute_result"
    }
   ],
   "source": [
    "a.plot()"
   ]
  },
  {
   "cell_type": "markdown",
   "metadata": {},
   "source": [
    "To plot a bar instead of a line, just provide the `kind` parameter, or call the specific type on `plot`."
   ]
  },
  {
   "cell_type": "code",
   "execution_count": 54,
   "metadata": {},
   "outputs": [
    {
     "data": {
      "text/html": [
       "\n",
       "\n",
       "\n",
       "\n",
       "\n",
       "\n",
       "  <div class=\"bk-root\" id=\"c19dfddc-5882-45a6-8c32-cf62b2c16619\" data-root-id=\"7298\"></div>\n"
      ]
     },
     "metadata": {},
     "output_type": "display_data"
    },
    {
     "data": {
      "application/javascript": [
       "(function(root) {\n",
       "  function embed_document(root) {\n",
       "    \n",
       "  var docs_json = {\"461a1d94-0b2e-48fd-8c32-c7ac8bcc47a5\":{\"roots\":{\"references\":[{\"attributes\":{\"below\":[{\"id\":\"7309\",\"type\":\"LinearAxis\"}],\"center\":[{\"id\":\"7313\",\"type\":\"Grid\"},{\"id\":\"7318\",\"type\":\"Grid\"},{\"id\":\"7345\",\"type\":\"Legend\"}],\"left\":[{\"id\":\"7314\",\"type\":\"LinearAxis\"}],\"output_backend\":\"webgl\",\"plot_height\":400,\"renderers\":[{\"id\":\"7338\",\"type\":\"GlyphRenderer\"},{\"id\":\"7353\",\"type\":\"GlyphRenderer\"}],\"title\":{\"id\":\"7299\",\"type\":\"Title\"},\"toolbar\":{\"id\":\"7325\",\"type\":\"Toolbar\"},\"x_range\":{\"id\":\"7301\",\"type\":\"DataRange1d\"},\"x_scale\":{\"id\":\"7305\",\"type\":\"LinearScale\"},\"y_range\":{\"id\":\"7303\",\"type\":\"DataRange1d\"},\"y_scale\":{\"id\":\"7307\",\"type\":\"LinearScale\"}},\"id\":\"7298\",\"subtype\":\"Figure\",\"type\":\"Plot\"},{\"attributes\":{\"callback\":null},\"id\":\"7303\",\"type\":\"DataRange1d\"},{\"attributes\":{\"source\":{\"id\":\"7297\",\"type\":\"ColumnDataSource\"}},\"id\":\"7354\",\"type\":\"CDSView\"},{\"attributes\":{},\"id\":\"7323\",\"type\":\"ResetTool\"},{\"attributes\":{},\"id\":\"7305\",\"type\":\"LinearScale\"},{\"attributes\":{},\"id\":\"7324\",\"type\":\"HelpTool\"},{\"attributes\":{},\"id\":\"7360\",\"type\":\"UnionRenderers\"},{\"attributes\":{},\"id\":\"7307\",\"type\":\"LinearScale\"},{\"attributes\":{\"active_drag\":\"auto\",\"active_inspect\":\"auto\",\"active_multi\":null,\"active_scroll\":{\"id\":\"7320\",\"type\":\"WheelZoomTool\"},\"active_tap\":\"auto\",\"tools\":[{\"id\":\"7319\",\"type\":\"PanTool\"},{\"id\":\"7320\",\"type\":\"WheelZoomTool\"},{\"id\":\"7321\",\"type\":\"BoxZoomTool\"},{\"id\":\"7322\",\"type\":\"SaveTool\"},{\"id\":\"7323\",\"type\":\"ResetTool\"},{\"id\":\"7324\",\"type\":\"HelpTool\"},{\"id\":\"7347\",\"type\":\"HoverTool\"},{\"id\":\"7363\",\"type\":\"HoverTool\"}]},\"id\":\"7325\",\"type\":\"Toolbar\"},{\"attributes\":{\"fill_alpha\":{\"value\":0.1},\"fill_color\":{\"value\":\"#1f77b4\"},\"line_alpha\":{\"value\":0.1},\"line_color\":{\"value\":\"#1f77b4\"},\"line_width\":{\"value\":2},\"top\":{\"field\":\"B\"},\"width\":{\"value\":0.2333333333333333},\"x\":{\"field\":\"__x__values\",\"transform\":{\"id\":\"7349\",\"type\":\"Dodge\"}}},\"id\":\"7352\",\"type\":\"VBar\"},{\"attributes\":{\"formatter\":{\"id\":\"7332\",\"type\":\"FuncTickFormatter\"},\"ticker\":{\"id\":\"7365\",\"type\":\"FixedTicker\"}},\"id\":\"7309\",\"type\":\"LinearAxis\"},{\"attributes\":{\"data_source\":{\"id\":\"7297\",\"type\":\"ColumnDataSource\"},\"glyph\":{\"id\":\"7351\",\"type\":\"VBar\"},\"hover_glyph\":null,\"muted_glyph\":null,\"nonselection_glyph\":{\"id\":\"7352\",\"type\":\"VBar\"},\"selection_glyph\":null,\"view\":{\"id\":\"7354\",\"type\":\"CDSView\"}},\"id\":\"7353\",\"type\":\"GlyphRenderer\"},{\"attributes\":{},\"id\":\"7310\",\"type\":\"BasicTicker\"},{\"attributes\":{\"label\":{\"value\":\" B\"},\"renderers\":[{\"id\":\"7353\",\"type\":\"GlyphRenderer\"}]},\"id\":\"7362\",\"type\":\"LegendItem\"},{\"attributes\":{\"ticker\":{\"id\":\"7310\",\"type\":\"BasicTicker\"}},\"id\":\"7313\",\"type\":\"Grid\"},{\"attributes\":{\"fill_alpha\":{\"value\":0.1},\"fill_color\":{\"value\":\"#1f77b4\"},\"line_alpha\":{\"value\":0.1},\"line_color\":{\"value\":\"#1f77b4\"},\"line_width\":{\"value\":2},\"top\":{\"field\":\"A\"},\"width\":{\"value\":0.2333333333333333},\"x\":{\"field\":\"__x__values\",\"transform\":{\"id\":\"7334\",\"type\":\"Dodge\"}}},\"id\":\"7337\",\"type\":\"VBar\"},{\"attributes\":{\"formatter\":{\"id\":\"7342\",\"type\":\"BasicTickFormatter\"},\"ticker\":{\"id\":\"7315\",\"type\":\"BasicTicker\"}},\"id\":\"7314\",\"type\":\"LinearAxis\"},{\"attributes\":{\"callback\":null,\"data\":{\"A\":[10,21,34,46],\"B\":{\"__ndarray__\":\"AAAAAACAMkDNzMzMzMwxQAAAAAAAwEBAzczMzMyMRkA=\",\"dtype\":\"float64\",\"shape\":[4]},\"__x__values\":[0,1,2,3],\"__x__values_original\":[0,1,2,3]},\"selected\":{\"id\":\"7359\",\"type\":\"Selection\"},\"selection_policy\":{\"id\":\"7360\",\"type\":\"UnionRenderers\"}},\"id\":\"7297\",\"type\":\"ColumnDataSource\"},{\"attributes\":{\"data_source\":{\"id\":\"7297\",\"type\":\"ColumnDataSource\"},\"glyph\":{\"id\":\"7336\",\"type\":\"VBar\"},\"hover_glyph\":null,\"muted_glyph\":null,\"nonselection_glyph\":{\"id\":\"7337\",\"type\":\"VBar\"},\"selection_glyph\":null,\"view\":{\"id\":\"7339\",\"type\":\"CDSView\"}},\"id\":\"7338\",\"type\":\"GlyphRenderer\"},{\"attributes\":{},\"id\":\"7315\",\"type\":\"BasicTicker\"},{\"attributes\":{},\"id\":\"7359\",\"type\":\"Selection\"},{\"attributes\":{\"fill_color\":{\"value\":\"#1f77b4\"},\"line_color\":{\"value\":\"#1f77b4\"},\"line_width\":{\"value\":2},\"top\":{\"field\":\"A\"},\"width\":{\"value\":0.2333333333333333},\"x\":{\"field\":\"__x__values\",\"transform\":{\"id\":\"7334\",\"type\":\"Dodge\"}}},\"id\":\"7336\",\"type\":\"VBar\"},{\"attributes\":{\"source\":{\"id\":\"7297\",\"type\":\"ColumnDataSource\"}},\"id\":\"7339\",\"type\":\"CDSView\"},{\"attributes\":{\"label\":{\"value\":\" A\"},\"renderers\":[{\"id\":\"7338\",\"type\":\"GlyphRenderer\"}]},\"id\":\"7346\",\"type\":\"LegendItem\"},{\"attributes\":{},\"id\":\"7342\",\"type\":\"BasicTickFormatter\"},{\"attributes\":{\"fill_color\":{\"value\":\"#ff7f0e\"},\"line_color\":{\"value\":\"#ff7f0e\"},\"line_width\":{\"value\":2},\"top\":{\"field\":\"B\"},\"width\":{\"value\":0.2333333333333333},\"x\":{\"field\":\"__x__values\",\"transform\":{\"id\":\"7349\",\"type\":\"Dodge\"}}},\"id\":\"7351\",\"type\":\"VBar\"},{\"attributes\":{\"bottom_units\":\"screen\",\"fill_alpha\":{\"value\":0.5},\"fill_color\":{\"value\":\"lightgrey\"},\"left_units\":\"screen\",\"level\":\"overlay\",\"line_alpha\":{\"value\":1.0},\"line_color\":{\"value\":\"black\"},\"line_dash\":[4,4],\"line_width\":{\"value\":2},\"render_mode\":\"css\",\"right_units\":\"screen\",\"top_units\":\"screen\"},\"id\":\"7344\",\"type\":\"BoxAnnotation\"},{\"attributes\":{\"callback\":null,\"mode\":\"vline\",\"renderers\":[{\"id\":\"7353\",\"type\":\"GlyphRenderer\"}],\"tooltips\":[[\"x\",\"@__x__values_original\"],[\"B\",\"@{B}\"]]},\"id\":\"7363\",\"type\":\"HoverTool\"},{\"attributes\":{\"dimension\":1,\"ticker\":{\"id\":\"7315\",\"type\":\"BasicTicker\"}},\"id\":\"7318\",\"type\":\"Grid\"},{\"attributes\":{\"callback\":null,\"mode\":\"vline\",\"renderers\":[{\"id\":\"7338\",\"type\":\"GlyphRenderer\"}],\"tooltips\":[[\"x\",\"@__x__values_original\"],[\"A\",\"@{A}\"]]},\"id\":\"7347\",\"type\":\"HoverTool\"},{\"attributes\":{\"ticks\":[0,1,2,3]},\"id\":\"7365\",\"type\":\"FixedTicker\"},{\"attributes\":{\"code\":\"\\n                                    var labels = {0: '0', 1: '1', 2: '2', 3: '3'};\\n                                    return labels[tick];\\n                                    \"},\"id\":\"7332\",\"type\":\"FuncTickFormatter\"},{\"attributes\":{\"range\":{\"id\":\"7301\",\"type\":\"DataRange1d\"},\"value\":-0.175},\"id\":\"7334\",\"type\":\"Dodge\"},{\"attributes\":{\"click_policy\":\"hide\",\"items\":[{\"id\":\"7346\",\"type\":\"LegendItem\"},{\"id\":\"7362\",\"type\":\"LegendItem\"}]},\"id\":\"7345\",\"type\":\"Legend\"},{\"attributes\":{},\"id\":\"7319\",\"type\":\"PanTool\"},{\"attributes\":{\"range\":{\"id\":\"7301\",\"type\":\"DataRange1d\"},\"value\":0.175},\"id\":\"7349\",\"type\":\"Dodge\"},{\"attributes\":{},\"id\":\"7320\",\"type\":\"WheelZoomTool\"},{\"attributes\":{\"overlay\":{\"id\":\"7344\",\"type\":\"BoxAnnotation\"}},\"id\":\"7321\",\"type\":\"BoxZoomTool\"},{\"attributes\":{\"text\":\"\"},\"id\":\"7299\",\"type\":\"Title\"},{\"attributes\":{},\"id\":\"7322\",\"type\":\"SaveTool\"},{\"attributes\":{\"callback\":null},\"id\":\"7301\",\"type\":\"DataRange1d\"}],\"root_ids\":[\"7298\"]},\"title\":\"Bokeh Application\",\"version\":\"1.3.4\"}};\n",
       "  var render_items = [{\"docid\":\"461a1d94-0b2e-48fd-8c32-c7ac8bcc47a5\",\"roots\":{\"7298\":\"c19dfddc-5882-45a6-8c32-cf62b2c16619\"}}];\n",
       "  root.Bokeh.embed.embed_items_notebook(docs_json, render_items);\n",
       "\n",
       "  }\n",
       "  if (root.Bokeh !== undefined) {\n",
       "    embed_document(root);\n",
       "  } else {\n",
       "    var attempts = 0;\n",
       "    var timer = setInterval(function(root) {\n",
       "      if (root.Bokeh !== undefined) {\n",
       "        embed_document(root);\n",
       "        clearInterval(timer);\n",
       "      }\n",
       "      attempts++;\n",
       "      if (attempts > 100) {\n",
       "        console.log(\"Bokeh: ERROR: Unable to run BokehJS code because BokehJS library is missing\");\n",
       "        clearInterval(timer);\n",
       "      }\n",
       "    }, 10, root)\n",
       "  }\n",
       "})(window);"
      ],
      "application/vnd.bokehjs_exec.v0+json": ""
     },
     "metadata": {
      "application/vnd.bokehjs_exec.v0+json": {
       "id": "7298"
      }
     },
     "output_type": "display_data"
    },
    {
     "data": {
      "text/html": [
       "<div style=\"display: table;\"><div style=\"display: table-row;\"><div style=\"display: table-cell;\"><b title=\"bokeh.plotting.figure.Figure\">Figure</b>(</div><div style=\"display: table-cell;\">id&nbsp;=&nbsp;'7298', <span id=\"7638\" style=\"cursor: pointer;\">&hellip;)</span></div></div><div class=\"7637\" style=\"display: none;\"><div style=\"display: table-cell;\"></div><div style=\"display: table-cell;\">above&nbsp;=&nbsp;[],</div></div><div class=\"7637\" style=\"display: none;\"><div style=\"display: table-cell;\"></div><div style=\"display: table-cell;\">align&nbsp;=&nbsp;'start',</div></div><div class=\"7637\" style=\"display: none;\"><div style=\"display: table-cell;\"></div><div style=\"display: table-cell;\">aspect_ratio&nbsp;=&nbsp;None,</div></div><div class=\"7637\" style=\"display: none;\"><div style=\"display: table-cell;\"></div><div style=\"display: table-cell;\">aspect_scale&nbsp;=&nbsp;1,</div></div><div class=\"7637\" style=\"display: none;\"><div style=\"display: table-cell;\"></div><div style=\"display: table-cell;\">background&nbsp;=&nbsp;None,</div></div><div class=\"7637\" style=\"display: none;\"><div style=\"display: table-cell;\"></div><div style=\"display: table-cell;\">background_fill_alpha&nbsp;=&nbsp;{'value': 1.0},</div></div><div class=\"7637\" style=\"display: none;\"><div style=\"display: table-cell;\"></div><div style=\"display: table-cell;\">background_fill_color&nbsp;=&nbsp;{'value': '#ffffff'},</div></div><div class=\"7637\" style=\"display: none;\"><div style=\"display: table-cell;\"></div><div style=\"display: table-cell;\">below&nbsp;=&nbsp;[LinearAxis(id='7309', ...)],</div></div><div class=\"7637\" style=\"display: none;\"><div style=\"display: table-cell;\"></div><div style=\"display: table-cell;\">border_fill_alpha&nbsp;=&nbsp;{'value': 1.0},</div></div><div class=\"7637\" style=\"display: none;\"><div style=\"display: table-cell;\"></div><div style=\"display: table-cell;\">border_fill_color&nbsp;=&nbsp;{'value': '#ffffff'},</div></div><div class=\"7637\" style=\"display: none;\"><div style=\"display: table-cell;\"></div><div style=\"display: table-cell;\">center&nbsp;=&nbsp;[Grid(id='7313', ...), Grid(id='7318', ...), Legend(id='7345', ...)],</div></div><div class=\"7637\" style=\"display: none;\"><div style=\"display: table-cell;\"></div><div style=\"display: table-cell;\">css_classes&nbsp;=&nbsp;[],</div></div><div class=\"7637\" style=\"display: none;\"><div style=\"display: table-cell;\"></div><div style=\"display: table-cell;\">disabled&nbsp;=&nbsp;False,</div></div><div class=\"7637\" style=\"display: none;\"><div style=\"display: table-cell;\"></div><div style=\"display: table-cell;\">extra_x_ranges&nbsp;=&nbsp;{},</div></div><div class=\"7637\" style=\"display: none;\"><div style=\"display: table-cell;\"></div><div style=\"display: table-cell;\">extra_y_ranges&nbsp;=&nbsp;{},</div></div><div class=\"7637\" style=\"display: none;\"><div style=\"display: table-cell;\"></div><div style=\"display: table-cell;\">frame_height&nbsp;=&nbsp;None,</div></div><div class=\"7637\" style=\"display: none;\"><div style=\"display: table-cell;\"></div><div style=\"display: table-cell;\">frame_width&nbsp;=&nbsp;None,</div></div><div class=\"7637\" style=\"display: none;\"><div style=\"display: table-cell;\"></div><div style=\"display: table-cell;\">height&nbsp;=&nbsp;None,</div></div><div class=\"7637\" style=\"display: none;\"><div style=\"display: table-cell;\"></div><div style=\"display: table-cell;\">height_policy&nbsp;=&nbsp;'auto',</div></div><div class=\"7637\" style=\"display: none;\"><div style=\"display: table-cell;\"></div><div style=\"display: table-cell;\">hidpi&nbsp;=&nbsp;True,</div></div><div class=\"7637\" style=\"display: none;\"><div style=\"display: table-cell;\"></div><div style=\"display: table-cell;\">js_event_callbacks&nbsp;=&nbsp;{},</div></div><div class=\"7637\" style=\"display: none;\"><div style=\"display: table-cell;\"></div><div style=\"display: table-cell;\">js_property_callbacks&nbsp;=&nbsp;{},</div></div><div class=\"7637\" style=\"display: none;\"><div style=\"display: table-cell;\"></div><div style=\"display: table-cell;\">left&nbsp;=&nbsp;[LinearAxis(id='7314', ...)],</div></div><div class=\"7637\" style=\"display: none;\"><div style=\"display: table-cell;\"></div><div style=\"display: table-cell;\">lod_factor&nbsp;=&nbsp;10,</div></div><div class=\"7637\" style=\"display: none;\"><div style=\"display: table-cell;\"></div><div style=\"display: table-cell;\">lod_interval&nbsp;=&nbsp;300,</div></div><div class=\"7637\" style=\"display: none;\"><div style=\"display: table-cell;\"></div><div style=\"display: table-cell;\">lod_threshold&nbsp;=&nbsp;2000,</div></div><div class=\"7637\" style=\"display: none;\"><div style=\"display: table-cell;\"></div><div style=\"display: table-cell;\">lod_timeout&nbsp;=&nbsp;500,</div></div><div class=\"7637\" style=\"display: none;\"><div style=\"display: table-cell;\"></div><div style=\"display: table-cell;\">margin&nbsp;=&nbsp;(0, 0, 0, 0),</div></div><div class=\"7637\" style=\"display: none;\"><div style=\"display: table-cell;\"></div><div style=\"display: table-cell;\">match_aspect&nbsp;=&nbsp;False,</div></div><div class=\"7637\" style=\"display: none;\"><div style=\"display: table-cell;\"></div><div style=\"display: table-cell;\">max_height&nbsp;=&nbsp;None,</div></div><div class=\"7637\" style=\"display: none;\"><div style=\"display: table-cell;\"></div><div style=\"display: table-cell;\">max_width&nbsp;=&nbsp;None,</div></div><div class=\"7637\" style=\"display: none;\"><div style=\"display: table-cell;\"></div><div style=\"display: table-cell;\">min_border&nbsp;=&nbsp;5,</div></div><div class=\"7637\" style=\"display: none;\"><div style=\"display: table-cell;\"></div><div style=\"display: table-cell;\">min_border_bottom&nbsp;=&nbsp;None,</div></div><div class=\"7637\" style=\"display: none;\"><div style=\"display: table-cell;\"></div><div style=\"display: table-cell;\">min_border_left&nbsp;=&nbsp;None,</div></div><div class=\"7637\" style=\"display: none;\"><div style=\"display: table-cell;\"></div><div style=\"display: table-cell;\">min_border_right&nbsp;=&nbsp;None,</div></div><div class=\"7637\" style=\"display: none;\"><div style=\"display: table-cell;\"></div><div style=\"display: table-cell;\">min_border_top&nbsp;=&nbsp;None,</div></div><div class=\"7637\" style=\"display: none;\"><div style=\"display: table-cell;\"></div><div style=\"display: table-cell;\">min_height&nbsp;=&nbsp;None,</div></div><div class=\"7637\" style=\"display: none;\"><div style=\"display: table-cell;\"></div><div style=\"display: table-cell;\">min_width&nbsp;=&nbsp;None,</div></div><div class=\"7637\" style=\"display: none;\"><div style=\"display: table-cell;\"></div><div style=\"display: table-cell;\">name&nbsp;=&nbsp;None,</div></div><div class=\"7637\" style=\"display: none;\"><div style=\"display: table-cell;\"></div><div style=\"display: table-cell;\">outline_line_alpha&nbsp;=&nbsp;{'value': 1.0},</div></div><div class=\"7637\" style=\"display: none;\"><div style=\"display: table-cell;\"></div><div style=\"display: table-cell;\">outline_line_cap&nbsp;=&nbsp;'butt',</div></div><div class=\"7637\" style=\"display: none;\"><div style=\"display: table-cell;\"></div><div style=\"display: table-cell;\">outline_line_color&nbsp;=&nbsp;{'value': '#e5e5e5'},</div></div><div class=\"7637\" style=\"display: none;\"><div style=\"display: table-cell;\"></div><div style=\"display: table-cell;\">outline_line_dash&nbsp;=&nbsp;[],</div></div><div class=\"7637\" style=\"display: none;\"><div style=\"display: table-cell;\"></div><div style=\"display: table-cell;\">outline_line_dash_offset&nbsp;=&nbsp;0,</div></div><div class=\"7637\" style=\"display: none;\"><div style=\"display: table-cell;\"></div><div style=\"display: table-cell;\">outline_line_join&nbsp;=&nbsp;'bevel',</div></div><div class=\"7637\" style=\"display: none;\"><div style=\"display: table-cell;\"></div><div style=\"display: table-cell;\">outline_line_width&nbsp;=&nbsp;{'value': 1},</div></div><div class=\"7637\" style=\"display: none;\"><div style=\"display: table-cell;\"></div><div style=\"display: table-cell;\">output_backend&nbsp;=&nbsp;'webgl',</div></div><div class=\"7637\" style=\"display: none;\"><div style=\"display: table-cell;\"></div><div style=\"display: table-cell;\">plot_height&nbsp;=&nbsp;400,</div></div><div class=\"7637\" style=\"display: none;\"><div style=\"display: table-cell;\"></div><div style=\"display: table-cell;\">plot_width&nbsp;=&nbsp;600,</div></div><div class=\"7637\" style=\"display: none;\"><div style=\"display: table-cell;\"></div><div style=\"display: table-cell;\">renderers&nbsp;=&nbsp;[GlyphRenderer(id='7338', ...), GlyphRenderer(id='7353', ...)],</div></div><div class=\"7637\" style=\"display: none;\"><div style=\"display: table-cell;\"></div><div style=\"display: table-cell;\">reset_policy&nbsp;=&nbsp;'standard',</div></div><div class=\"7637\" style=\"display: none;\"><div style=\"display: table-cell;\"></div><div style=\"display: table-cell;\">right&nbsp;=&nbsp;[],</div></div><div class=\"7637\" style=\"display: none;\"><div style=\"display: table-cell;\"></div><div style=\"display: table-cell;\">sizing_mode&nbsp;=&nbsp;None,</div></div><div class=\"7637\" style=\"display: none;\"><div style=\"display: table-cell;\"></div><div style=\"display: table-cell;\">subscribed_events&nbsp;=&nbsp;[],</div></div><div class=\"7637\" style=\"display: none;\"><div style=\"display: table-cell;\"></div><div style=\"display: table-cell;\">tags&nbsp;=&nbsp;[],</div></div><div class=\"7637\" style=\"display: none;\"><div style=\"display: table-cell;\"></div><div style=\"display: table-cell;\">title&nbsp;=&nbsp;Title(id='7299', ...),</div></div><div class=\"7637\" style=\"display: none;\"><div style=\"display: table-cell;\"></div><div style=\"display: table-cell;\">title_location&nbsp;=&nbsp;'above',</div></div><div class=\"7637\" style=\"display: none;\"><div style=\"display: table-cell;\"></div><div style=\"display: table-cell;\">toolbar&nbsp;=&nbsp;Toolbar(id='7325', ...),</div></div><div class=\"7637\" style=\"display: none;\"><div style=\"display: table-cell;\"></div><div style=\"display: table-cell;\">toolbar_location&nbsp;=&nbsp;'right',</div></div><div class=\"7637\" style=\"display: none;\"><div style=\"display: table-cell;\"></div><div style=\"display: table-cell;\">toolbar_sticky&nbsp;=&nbsp;True,</div></div><div class=\"7637\" style=\"display: none;\"><div style=\"display: table-cell;\"></div><div style=\"display: table-cell;\">visible&nbsp;=&nbsp;True,</div></div><div class=\"7637\" style=\"display: none;\"><div style=\"display: table-cell;\"></div><div style=\"display: table-cell;\">width&nbsp;=&nbsp;None,</div></div><div class=\"7637\" style=\"display: none;\"><div style=\"display: table-cell;\"></div><div style=\"display: table-cell;\">width_policy&nbsp;=&nbsp;'auto',</div></div><div class=\"7637\" style=\"display: none;\"><div style=\"display: table-cell;\"></div><div style=\"display: table-cell;\">x_range&nbsp;=&nbsp;DataRange1d(id='7301', ...),</div></div><div class=\"7637\" style=\"display: none;\"><div style=\"display: table-cell;\"></div><div style=\"display: table-cell;\">x_scale&nbsp;=&nbsp;LinearScale(id='7305', ...),</div></div><div class=\"7637\" style=\"display: none;\"><div style=\"display: table-cell;\"></div><div style=\"display: table-cell;\">y_range&nbsp;=&nbsp;DataRange1d(id='7303', ...),</div></div><div class=\"7637\" style=\"display: none;\"><div style=\"display: table-cell;\"></div><div style=\"display: table-cell;\">y_scale&nbsp;=&nbsp;LinearScale(id='7307', ...))</div></div></div>\n",
       "<script>\n",
       "(function() {\n",
       "  var expanded = false;\n",
       "  var ellipsis = document.getElementById(\"7638\");\n",
       "  ellipsis.addEventListener(\"click\", function() {\n",
       "    var rows = document.getElementsByClassName(\"7637\");\n",
       "    for (var i = 0; i < rows.length; i++) {\n",
       "      var el = rows[i];\n",
       "      el.style.display = expanded ? \"none\" : \"table-row\";\n",
       "    }\n",
       "    ellipsis.innerHTML = expanded ? \"&hellip;)\" : \"&lsaquo;&lsaquo;&lsaquo;\";\n",
       "    expanded = !expanded;\n",
       "  });\n",
       "})();\n",
       "</script>\n"
      ],
      "text/plain": [
       "Figure(id='7298', ...)"
      ]
     },
     "execution_count": 54,
     "metadata": {},
     "output_type": "execute_result"
    }
   ],
   "source": [
    "toy.plot.bar()"
   ]
  },
  {
   "cell_type": "markdown",
   "metadata": {},
   "source": [
    "# Plot columns against each other"
   ]
  },
  {
   "cell_type": "code",
   "execution_count": 55,
   "metadata": {},
   "outputs": [
    {
     "data": {
      "text/html": [
       "\n",
       "\n",
       "\n",
       "\n",
       "\n",
       "\n",
       "  <div class=\"bk-root\" id=\"8b80df9f-3e52-4699-a944-903983cb6e02\" data-root-id=\"7640\"></div>\n"
      ]
     },
     "metadata": {},
     "output_type": "display_data"
    },
    {
     "data": {
      "application/javascript": [
       "(function(root) {\n",
       "  function embed_document(root) {\n",
       "    \n",
       "  var docs_json = {\"c966645e-7072-4c76-9b30-a831e8a25ce4\":{\"roots\":{\"references\":[{\"attributes\":{\"below\":[{\"id\":\"7651\",\"type\":\"LinearAxis\"}],\"center\":[{\"id\":\"7655\",\"type\":\"Grid\"},{\"id\":\"7660\",\"type\":\"Grid\"},{\"id\":\"7686\",\"type\":\"Legend\"}],\"left\":[{\"id\":\"7656\",\"type\":\"LinearAxis\"}],\"output_backend\":\"webgl\",\"plot_height\":400,\"renderers\":[{\"id\":\"7678\",\"type\":\"GlyphRenderer\"}],\"title\":{\"id\":\"7641\",\"type\":\"Title\"},\"toolbar\":{\"id\":\"7667\",\"type\":\"Toolbar\"},\"x_range\":{\"id\":\"7643\",\"type\":\"DataRange1d\"},\"x_scale\":{\"id\":\"7647\",\"type\":\"LinearScale\"},\"y_range\":{\"id\":\"7645\",\"type\":\"DataRange1d\"},\"y_scale\":{\"id\":\"7649\",\"type\":\"LinearScale\"}},\"id\":\"7640\",\"subtype\":\"Figure\",\"type\":\"Plot\"},{\"attributes\":{\"data_source\":{\"id\":\"7674\",\"type\":\"ColumnDataSource\"},\"glyph\":{\"id\":\"7676\",\"type\":\"Scatter\"},\"hover_glyph\":null,\"muted_glyph\":null,\"nonselection_glyph\":{\"id\":\"7677\",\"type\":\"Scatter\"},\"selection_glyph\":null,\"view\":{\"id\":\"7679\",\"type\":\"CDSView\"}},\"id\":\"7678\",\"type\":\"GlyphRenderer\"},{\"attributes\":{\"bottom_units\":\"screen\",\"fill_alpha\":{\"value\":0.5},\"fill_color\":{\"value\":\"lightgrey\"},\"left_units\":\"screen\",\"level\":\"overlay\",\"line_alpha\":{\"value\":1.0},\"line_color\":{\"value\":\"black\"},\"line_dash\":[4,4],\"line_width\":{\"value\":2},\"render_mode\":\"css\",\"right_units\":\"screen\",\"top_units\":\"screen\"},\"id\":\"7685\",\"type\":\"BoxAnnotation\"},{\"attributes\":{\"click_policy\":\"hide\",\"items\":[{\"id\":\"7687\",\"type\":\"LegendItem\"}]},\"id\":\"7686\",\"type\":\"Legend\"},{\"attributes\":{},\"id\":\"7652\",\"type\":\"BasicTicker\"},{\"attributes\":{\"axis_label\":\"B\",\"formatter\":{\"id\":\"7682\",\"type\":\"BasicTickFormatter\"},\"ticker\":{\"id\":\"7657\",\"type\":\"BasicTicker\"}},\"id\":\"7656\",\"type\":\"LinearAxis\"},{\"attributes\":{\"ticker\":{\"id\":\"7652\",\"type\":\"BasicTicker\"}},\"id\":\"7655\",\"type\":\"Grid\"},{\"attributes\":{},\"id\":\"7657\",\"type\":\"BasicTicker\"},{\"attributes\":{\"dimension\":1,\"ticker\":{\"id\":\"7657\",\"type\":\"BasicTicker\"}},\"id\":\"7660\",\"type\":\"Grid\"},{\"attributes\":{},\"id\":\"7684\",\"type\":\"BasicTickFormatter\"},{\"attributes\":{\"label\":{\"value\":\"Hide/Show\"},\"renderers\":[{\"id\":\"7678\",\"type\":\"GlyphRenderer\"}]},\"id\":\"7687\",\"type\":\"LegendItem\"},{\"attributes\":{},\"id\":\"7666\",\"type\":\"HelpTool\"},{\"attributes\":{\"axis_label\":\"A\",\"formatter\":{\"id\":\"7684\",\"type\":\"BasicTickFormatter\"},\"ticker\":{\"id\":\"7652\",\"type\":\"BasicTicker\"}},\"id\":\"7651\",\"type\":\"LinearAxis\"},{\"attributes\":{},\"id\":\"7665\",\"type\":\"ResetTool\"},{\"attributes\":{},\"id\":\"7649\",\"type\":\"LinearScale\"},{\"attributes\":{\"fill_color\":{\"value\":\"#1f77b4\"},\"line_width\":{\"value\":2},\"size\":{\"units\":\"screen\",\"value\":10},\"x\":{\"field\":\"__x__values\"},\"y\":{\"field\":\"y\"}},\"id\":\"7676\",\"type\":\"Scatter\"},{\"attributes\":{},\"id\":\"7662\",\"type\":\"WheelZoomTool\"},{\"attributes\":{\"callback\":null,\"renderers\":[{\"id\":\"7678\",\"type\":\"GlyphRenderer\"}],\"tooltips\":[[\"A\",\"@__x__values_original\"],[\"B\",\"@y\"]]},\"id\":\"7688\",\"type\":\"HoverTool\"},{\"attributes\":{\"fill_alpha\":{\"value\":0.1},\"fill_color\":{\"value\":\"#1f77b4\"},\"line_alpha\":{\"value\":0.1},\"line_color\":{\"value\":\"#1f77b4\"},\"line_width\":{\"value\":2},\"size\":{\"units\":\"screen\",\"value\":10},\"x\":{\"field\":\"__x__values\"},\"y\":{\"field\":\"y\"}},\"id\":\"7677\",\"type\":\"Scatter\"},{\"attributes\":{\"callback\":null,\"data\":{\"__x__values\":[10,21,34,46],\"__x__values_original\":[10,21,34,46],\"y\":{\"__ndarray__\":\"AAAAAACAMkDNzMzMzMwxQAAAAAAAwEBAzczMzMyMRkA=\",\"dtype\":\"float64\",\"shape\":[4]}},\"selected\":{\"id\":\"7929\",\"type\":\"Selection\"},\"selection_policy\":{\"id\":\"7930\",\"type\":\"UnionRenderers\"}},\"id\":\"7674\",\"type\":\"ColumnDataSource\"},{\"attributes\":{},\"id\":\"7647\",\"type\":\"LinearScale\"},{\"attributes\":{},\"id\":\"7661\",\"type\":\"PanTool\"},{\"attributes\":{\"callback\":null},\"id\":\"7645\",\"type\":\"DataRange1d\"},{\"attributes\":{\"overlay\":{\"id\":\"7685\",\"type\":\"BoxAnnotation\"}},\"id\":\"7663\",\"type\":\"BoxZoomTool\"},{\"attributes\":{},\"id\":\"7930\",\"type\":\"UnionRenderers\"},{\"attributes\":{\"callback\":null},\"id\":\"7643\",\"type\":\"DataRange1d\"},{\"attributes\":{},\"id\":\"7682\",\"type\":\"BasicTickFormatter\"},{\"attributes\":{},\"id\":\"7664\",\"type\":\"SaveTool\"},{\"attributes\":{\"source\":{\"id\":\"7674\",\"type\":\"ColumnDataSource\"}},\"id\":\"7679\",\"type\":\"CDSView\"},{\"attributes\":{\"active_drag\":\"auto\",\"active_inspect\":\"auto\",\"active_multi\":null,\"active_scroll\":{\"id\":\"7662\",\"type\":\"WheelZoomTool\"},\"active_tap\":\"auto\",\"tools\":[{\"id\":\"7661\",\"type\":\"PanTool\"},{\"id\":\"7662\",\"type\":\"WheelZoomTool\"},{\"id\":\"7663\",\"type\":\"BoxZoomTool\"},{\"id\":\"7664\",\"type\":\"SaveTool\"},{\"id\":\"7665\",\"type\":\"ResetTool\"},{\"id\":\"7666\",\"type\":\"HelpTool\"},{\"id\":\"7688\",\"type\":\"HoverTool\"}]},\"id\":\"7667\",\"type\":\"Toolbar\"},{\"attributes\":{\"text\":\"\"},\"id\":\"7641\",\"type\":\"Title\"},{\"attributes\":{},\"id\":\"7929\",\"type\":\"Selection\"}],\"root_ids\":[\"7640\"]},\"title\":\"Bokeh Application\",\"version\":\"1.3.4\"}};\n",
       "  var render_items = [{\"docid\":\"c966645e-7072-4c76-9b30-a831e8a25ce4\",\"roots\":{\"7640\":\"8b80df9f-3e52-4699-a944-903983cb6e02\"}}];\n",
       "  root.Bokeh.embed.embed_items_notebook(docs_json, render_items);\n",
       "\n",
       "  }\n",
       "  if (root.Bokeh !== undefined) {\n",
       "    embed_document(root);\n",
       "  } else {\n",
       "    var attempts = 0;\n",
       "    var timer = setInterval(function(root) {\n",
       "      if (root.Bokeh !== undefined) {\n",
       "        embed_document(root);\n",
       "        clearInterval(timer);\n",
       "      }\n",
       "      attempts++;\n",
       "      if (attempts > 100) {\n",
       "        console.log(\"Bokeh: ERROR: Unable to run BokehJS code because BokehJS library is missing\");\n",
       "        clearInterval(timer);\n",
       "      }\n",
       "    }, 10, root)\n",
       "  }\n",
       "})(window);"
      ],
      "application/vnd.bokehjs_exec.v0+json": ""
     },
     "metadata": {
      "application/vnd.bokehjs_exec.v0+json": {
       "id": "7640"
      }
     },
     "output_type": "display_data"
    },
    {
     "data": {
      "text/html": [
       "<div style=\"display: table;\"><div style=\"display: table-row;\"><div style=\"display: table-cell;\"><b title=\"bokeh.plotting.figure.Figure\">Figure</b>(</div><div style=\"display: table-cell;\">id&nbsp;=&nbsp;'7640', <span id=\"7981\" style=\"cursor: pointer;\">&hellip;)</span></div></div><div class=\"7980\" style=\"display: none;\"><div style=\"display: table-cell;\"></div><div style=\"display: table-cell;\">above&nbsp;=&nbsp;[],</div></div><div class=\"7980\" style=\"display: none;\"><div style=\"display: table-cell;\"></div><div style=\"display: table-cell;\">align&nbsp;=&nbsp;'start',</div></div><div class=\"7980\" style=\"display: none;\"><div style=\"display: table-cell;\"></div><div style=\"display: table-cell;\">aspect_ratio&nbsp;=&nbsp;None,</div></div><div class=\"7980\" style=\"display: none;\"><div style=\"display: table-cell;\"></div><div style=\"display: table-cell;\">aspect_scale&nbsp;=&nbsp;1,</div></div><div class=\"7980\" style=\"display: none;\"><div style=\"display: table-cell;\"></div><div style=\"display: table-cell;\">background&nbsp;=&nbsp;None,</div></div><div class=\"7980\" style=\"display: none;\"><div style=\"display: table-cell;\"></div><div style=\"display: table-cell;\">background_fill_alpha&nbsp;=&nbsp;{'value': 1.0},</div></div><div class=\"7980\" style=\"display: none;\"><div style=\"display: table-cell;\"></div><div style=\"display: table-cell;\">background_fill_color&nbsp;=&nbsp;{'value': '#ffffff'},</div></div><div class=\"7980\" style=\"display: none;\"><div style=\"display: table-cell;\"></div><div style=\"display: table-cell;\">below&nbsp;=&nbsp;[LinearAxis(id='7651', ...)],</div></div><div class=\"7980\" style=\"display: none;\"><div style=\"display: table-cell;\"></div><div style=\"display: table-cell;\">border_fill_alpha&nbsp;=&nbsp;{'value': 1.0},</div></div><div class=\"7980\" style=\"display: none;\"><div style=\"display: table-cell;\"></div><div style=\"display: table-cell;\">border_fill_color&nbsp;=&nbsp;{'value': '#ffffff'},</div></div><div class=\"7980\" style=\"display: none;\"><div style=\"display: table-cell;\"></div><div style=\"display: table-cell;\">center&nbsp;=&nbsp;[Grid(id='7655', ...), Grid(id='7660', ...), Legend(id='7686', ...)],</div></div><div class=\"7980\" style=\"display: none;\"><div style=\"display: table-cell;\"></div><div style=\"display: table-cell;\">css_classes&nbsp;=&nbsp;[],</div></div><div class=\"7980\" style=\"display: none;\"><div style=\"display: table-cell;\"></div><div style=\"display: table-cell;\">disabled&nbsp;=&nbsp;False,</div></div><div class=\"7980\" style=\"display: none;\"><div style=\"display: table-cell;\"></div><div style=\"display: table-cell;\">extra_x_ranges&nbsp;=&nbsp;{},</div></div><div class=\"7980\" style=\"display: none;\"><div style=\"display: table-cell;\"></div><div style=\"display: table-cell;\">extra_y_ranges&nbsp;=&nbsp;{},</div></div><div class=\"7980\" style=\"display: none;\"><div style=\"display: table-cell;\"></div><div style=\"display: table-cell;\">frame_height&nbsp;=&nbsp;None,</div></div><div class=\"7980\" style=\"display: none;\"><div style=\"display: table-cell;\"></div><div style=\"display: table-cell;\">frame_width&nbsp;=&nbsp;None,</div></div><div class=\"7980\" style=\"display: none;\"><div style=\"display: table-cell;\"></div><div style=\"display: table-cell;\">height&nbsp;=&nbsp;None,</div></div><div class=\"7980\" style=\"display: none;\"><div style=\"display: table-cell;\"></div><div style=\"display: table-cell;\">height_policy&nbsp;=&nbsp;'auto',</div></div><div class=\"7980\" style=\"display: none;\"><div style=\"display: table-cell;\"></div><div style=\"display: table-cell;\">hidpi&nbsp;=&nbsp;True,</div></div><div class=\"7980\" style=\"display: none;\"><div style=\"display: table-cell;\"></div><div style=\"display: table-cell;\">js_event_callbacks&nbsp;=&nbsp;{},</div></div><div class=\"7980\" style=\"display: none;\"><div style=\"display: table-cell;\"></div><div style=\"display: table-cell;\">js_property_callbacks&nbsp;=&nbsp;{},</div></div><div class=\"7980\" style=\"display: none;\"><div style=\"display: table-cell;\"></div><div style=\"display: table-cell;\">left&nbsp;=&nbsp;[LinearAxis(id='7656', ...)],</div></div><div class=\"7980\" style=\"display: none;\"><div style=\"display: table-cell;\"></div><div style=\"display: table-cell;\">lod_factor&nbsp;=&nbsp;10,</div></div><div class=\"7980\" style=\"display: none;\"><div style=\"display: table-cell;\"></div><div style=\"display: table-cell;\">lod_interval&nbsp;=&nbsp;300,</div></div><div class=\"7980\" style=\"display: none;\"><div style=\"display: table-cell;\"></div><div style=\"display: table-cell;\">lod_threshold&nbsp;=&nbsp;2000,</div></div><div class=\"7980\" style=\"display: none;\"><div style=\"display: table-cell;\"></div><div style=\"display: table-cell;\">lod_timeout&nbsp;=&nbsp;500,</div></div><div class=\"7980\" style=\"display: none;\"><div style=\"display: table-cell;\"></div><div style=\"display: table-cell;\">margin&nbsp;=&nbsp;(0, 0, 0, 0),</div></div><div class=\"7980\" style=\"display: none;\"><div style=\"display: table-cell;\"></div><div style=\"display: table-cell;\">match_aspect&nbsp;=&nbsp;False,</div></div><div class=\"7980\" style=\"display: none;\"><div style=\"display: table-cell;\"></div><div style=\"display: table-cell;\">max_height&nbsp;=&nbsp;None,</div></div><div class=\"7980\" style=\"display: none;\"><div style=\"display: table-cell;\"></div><div style=\"display: table-cell;\">max_width&nbsp;=&nbsp;None,</div></div><div class=\"7980\" style=\"display: none;\"><div style=\"display: table-cell;\"></div><div style=\"display: table-cell;\">min_border&nbsp;=&nbsp;5,</div></div><div class=\"7980\" style=\"display: none;\"><div style=\"display: table-cell;\"></div><div style=\"display: table-cell;\">min_border_bottom&nbsp;=&nbsp;None,</div></div><div class=\"7980\" style=\"display: none;\"><div style=\"display: table-cell;\"></div><div style=\"display: table-cell;\">min_border_left&nbsp;=&nbsp;None,</div></div><div class=\"7980\" style=\"display: none;\"><div style=\"display: table-cell;\"></div><div style=\"display: table-cell;\">min_border_right&nbsp;=&nbsp;None,</div></div><div class=\"7980\" style=\"display: none;\"><div style=\"display: table-cell;\"></div><div style=\"display: table-cell;\">min_border_top&nbsp;=&nbsp;None,</div></div><div class=\"7980\" style=\"display: none;\"><div style=\"display: table-cell;\"></div><div style=\"display: table-cell;\">min_height&nbsp;=&nbsp;None,</div></div><div class=\"7980\" style=\"display: none;\"><div style=\"display: table-cell;\"></div><div style=\"display: table-cell;\">min_width&nbsp;=&nbsp;None,</div></div><div class=\"7980\" style=\"display: none;\"><div style=\"display: table-cell;\"></div><div style=\"display: table-cell;\">name&nbsp;=&nbsp;None,</div></div><div class=\"7980\" style=\"display: none;\"><div style=\"display: table-cell;\"></div><div style=\"display: table-cell;\">outline_line_alpha&nbsp;=&nbsp;{'value': 1.0},</div></div><div class=\"7980\" style=\"display: none;\"><div style=\"display: table-cell;\"></div><div style=\"display: table-cell;\">outline_line_cap&nbsp;=&nbsp;'butt',</div></div><div class=\"7980\" style=\"display: none;\"><div style=\"display: table-cell;\"></div><div style=\"display: table-cell;\">outline_line_color&nbsp;=&nbsp;{'value': '#e5e5e5'},</div></div><div class=\"7980\" style=\"display: none;\"><div style=\"display: table-cell;\"></div><div style=\"display: table-cell;\">outline_line_dash&nbsp;=&nbsp;[],</div></div><div class=\"7980\" style=\"display: none;\"><div style=\"display: table-cell;\"></div><div style=\"display: table-cell;\">outline_line_dash_offset&nbsp;=&nbsp;0,</div></div><div class=\"7980\" style=\"display: none;\"><div style=\"display: table-cell;\"></div><div style=\"display: table-cell;\">outline_line_join&nbsp;=&nbsp;'bevel',</div></div><div class=\"7980\" style=\"display: none;\"><div style=\"display: table-cell;\"></div><div style=\"display: table-cell;\">outline_line_width&nbsp;=&nbsp;{'value': 1},</div></div><div class=\"7980\" style=\"display: none;\"><div style=\"display: table-cell;\"></div><div style=\"display: table-cell;\">output_backend&nbsp;=&nbsp;'webgl',</div></div><div class=\"7980\" style=\"display: none;\"><div style=\"display: table-cell;\"></div><div style=\"display: table-cell;\">plot_height&nbsp;=&nbsp;400,</div></div><div class=\"7980\" style=\"display: none;\"><div style=\"display: table-cell;\"></div><div style=\"display: table-cell;\">plot_width&nbsp;=&nbsp;600,</div></div><div class=\"7980\" style=\"display: none;\"><div style=\"display: table-cell;\"></div><div style=\"display: table-cell;\">renderers&nbsp;=&nbsp;[GlyphRenderer(id='7678', ...)],</div></div><div class=\"7980\" style=\"display: none;\"><div style=\"display: table-cell;\"></div><div style=\"display: table-cell;\">reset_policy&nbsp;=&nbsp;'standard',</div></div><div class=\"7980\" style=\"display: none;\"><div style=\"display: table-cell;\"></div><div style=\"display: table-cell;\">right&nbsp;=&nbsp;[],</div></div><div class=\"7980\" style=\"display: none;\"><div style=\"display: table-cell;\"></div><div style=\"display: table-cell;\">sizing_mode&nbsp;=&nbsp;None,</div></div><div class=\"7980\" style=\"display: none;\"><div style=\"display: table-cell;\"></div><div style=\"display: table-cell;\">subscribed_events&nbsp;=&nbsp;[],</div></div><div class=\"7980\" style=\"display: none;\"><div style=\"display: table-cell;\"></div><div style=\"display: table-cell;\">tags&nbsp;=&nbsp;[],</div></div><div class=\"7980\" style=\"display: none;\"><div style=\"display: table-cell;\"></div><div style=\"display: table-cell;\">title&nbsp;=&nbsp;Title(id='7641', ...),</div></div><div class=\"7980\" style=\"display: none;\"><div style=\"display: table-cell;\"></div><div style=\"display: table-cell;\">title_location&nbsp;=&nbsp;'above',</div></div><div class=\"7980\" style=\"display: none;\"><div style=\"display: table-cell;\"></div><div style=\"display: table-cell;\">toolbar&nbsp;=&nbsp;Toolbar(id='7667', ...),</div></div><div class=\"7980\" style=\"display: none;\"><div style=\"display: table-cell;\"></div><div style=\"display: table-cell;\">toolbar_location&nbsp;=&nbsp;'right',</div></div><div class=\"7980\" style=\"display: none;\"><div style=\"display: table-cell;\"></div><div style=\"display: table-cell;\">toolbar_sticky&nbsp;=&nbsp;True,</div></div><div class=\"7980\" style=\"display: none;\"><div style=\"display: table-cell;\"></div><div style=\"display: table-cell;\">visible&nbsp;=&nbsp;True,</div></div><div class=\"7980\" style=\"display: none;\"><div style=\"display: table-cell;\"></div><div style=\"display: table-cell;\">width&nbsp;=&nbsp;None,</div></div><div class=\"7980\" style=\"display: none;\"><div style=\"display: table-cell;\"></div><div style=\"display: table-cell;\">width_policy&nbsp;=&nbsp;'auto',</div></div><div class=\"7980\" style=\"display: none;\"><div style=\"display: table-cell;\"></div><div style=\"display: table-cell;\">x_range&nbsp;=&nbsp;DataRange1d(id='7643', ...),</div></div><div class=\"7980\" style=\"display: none;\"><div style=\"display: table-cell;\"></div><div style=\"display: table-cell;\">x_scale&nbsp;=&nbsp;LinearScale(id='7647', ...),</div></div><div class=\"7980\" style=\"display: none;\"><div style=\"display: table-cell;\"></div><div style=\"display: table-cell;\">y_range&nbsp;=&nbsp;DataRange1d(id='7645', ...),</div></div><div class=\"7980\" style=\"display: none;\"><div style=\"display: table-cell;\"></div><div style=\"display: table-cell;\">y_scale&nbsp;=&nbsp;LinearScale(id='7649', ...))</div></div></div>\n",
       "<script>\n",
       "(function() {\n",
       "  var expanded = false;\n",
       "  var ellipsis = document.getElementById(\"7981\");\n",
       "  ellipsis.addEventListener(\"click\", function() {\n",
       "    var rows = document.getElementsByClassName(\"7980\");\n",
       "    for (var i = 0; i < rows.length; i++) {\n",
       "      var el = rows[i];\n",
       "      el.style.display = expanded ? \"none\" : \"table-row\";\n",
       "    }\n",
       "    ellipsis.innerHTML = expanded ? \"&hellip;)\" : \"&lsaquo;&lsaquo;&lsaquo;\";\n",
       "    expanded = !expanded;\n",
       "  });\n",
       "})();\n",
       "</script>\n"
      ],
      "text/plain": [
       "Figure(id='7640', ...)"
      ]
     },
     "execution_count": 55,
     "metadata": {},
     "output_type": "execute_result"
    }
   ],
   "source": [
    "toy.plot.scatter(x=\"A\", y=\"B\")"
   ]
  },
  {
   "cell_type": "markdown",
   "metadata": {},
   "source": [
    "# Histogram"
   ]
  },
  {
   "cell_type": "code",
   "execution_count": 57,
   "metadata": {},
   "outputs": [
    {
     "data": {
      "text/html": [
       "<div>\n",
       "<style scoped>\n",
       "    .dataframe tbody tr th:only-of-type {\n",
       "        vertical-align: middle;\n",
       "    }\n",
       "\n",
       "    .dataframe tbody tr th {\n",
       "        vertical-align: top;\n",
       "    }\n",
       "\n",
       "    .dataframe thead th {\n",
       "        text-align: right;\n",
       "    }\n",
       "</style>\n",
       "<table border=\"1\" class=\"dataframe\">\n",
       "  <thead>\n",
       "    <tr style=\"text-align: right;\">\n",
       "      <th></th>\n",
       "      <th>a</th>\n",
       "      <th>b</th>\n",
       "      <th>c</th>\n",
       "    </tr>\n",
       "  </thead>\n",
       "  <tbody>\n",
       "    <tr>\n",
       "      <th>0</th>\n",
       "      <td>0.512607</td>\n",
       "      <td>0.701847</td>\n",
       "      <td>0.151879</td>\n",
       "    </tr>\n",
       "    <tr>\n",
       "      <th>1</th>\n",
       "      <td>0.954959</td>\n",
       "      <td>0.250208</td>\n",
       "      <td>-1.166779</td>\n",
       "    </tr>\n",
       "    <tr>\n",
       "      <th>2</th>\n",
       "      <td>2.812819</td>\n",
       "      <td>0.945021</td>\n",
       "      <td>-0.891191</td>\n",
       "    </tr>\n",
       "    <tr>\n",
       "      <th>3</th>\n",
       "      <td>1.491923</td>\n",
       "      <td>-0.806642</td>\n",
       "      <td>-1.682943</td>\n",
       "    </tr>\n",
       "    <tr>\n",
       "      <th>4</th>\n",
       "      <td>-0.497889</td>\n",
       "      <td>-1.056491</td>\n",
       "      <td>-2.132866</td>\n",
       "    </tr>\n",
       "  </tbody>\n",
       "</table>\n",
       "</div>"
      ],
      "text/plain": [
       "          a         b         c\n",
       "0  0.512607  0.701847  0.151879\n",
       "1  0.954959  0.250208 -1.166779\n",
       "2  2.812819  0.945021 -0.891191\n",
       "3  1.491923 -0.806642 -1.682943\n",
       "4 -0.497889 -1.056491 -2.132866"
      ]
     },
     "execution_count": 57,
     "metadata": {},
     "output_type": "execute_result"
    }
   ],
   "source": [
    "df = pd.DataFrame({\n",
    "    \"a\": np.random.randn(1000) + 1,\n",
    "    \"b\": np.random.randn(1000),\n",
    "    \"c\": np.random.randn(1000) - 1\n",
    "})\n",
    "df.head(5)"
   ]
  },
  {
   "cell_type": "code",
   "execution_count": 65,
   "metadata": {},
   "outputs": [
    {
     "data": {
      "text/html": [
       "\n",
       "\n",
       "\n",
       "\n",
       "\n",
       "\n",
       "  <div class=\"bk-root\" id=\"c68a4979-b387-4e2f-86fa-06052a1d0bd2\" data-root-id=\"8851\"></div>\n"
      ]
     },
     "metadata": {},
     "output_type": "display_data"
    },
    {
     "data": {
      "application/javascript": [
       "(function(root) {\n",
       "  function embed_document(root) {\n",
       "    \n",
       "  var docs_json = {\"c939a57e-8b02-4283-a1ad-3a4912a41e01\":{\"roots\":{\"references\":[{\"attributes\":{\"below\":[{\"id\":\"8862\",\"type\":\"LinearAxis\"}],\"center\":[{\"id\":\"8866\",\"type\":\"Grid\"},{\"id\":\"8871\",\"type\":\"Grid\"},{\"id\":\"8897\",\"type\":\"Legend\"}],\"left\":[{\"id\":\"8867\",\"type\":\"LinearAxis\"}],\"output_backend\":\"webgl\",\"plot_height\":400,\"renderers\":[{\"id\":\"8889\",\"type\":\"GlyphRenderer\"},{\"id\":\"8905\",\"type\":\"GlyphRenderer\"},{\"id\":\"8922\",\"type\":\"GlyphRenderer\"}],\"title\":{\"id\":\"8852\",\"type\":\"Title\"},\"toolbar\":{\"id\":\"8878\",\"type\":\"Toolbar\"},\"x_range\":{\"id\":\"8854\",\"type\":\"DataRange1d\"},\"x_scale\":{\"id\":\"8858\",\"type\":\"LinearScale\"},\"y_range\":{\"id\":\"8856\",\"type\":\"DataRange1d\"},\"y_scale\":{\"id\":\"8860\",\"type\":\"LinearScale\"}},\"id\":\"8851\",\"subtype\":\"Figure\",\"type\":\"Plot\"},{\"attributes\":{\"data_source\":{\"id\":\"8901\",\"type\":\"ColumnDataSource\"},\"glyph\":{\"id\":\"8903\",\"type\":\"Quad\"},\"hover_glyph\":null,\"muted_glyph\":null,\"nonselection_glyph\":{\"id\":\"8904\",\"type\":\"Quad\"},\"selection_glyph\":null,\"view\":{\"id\":\"8906\",\"type\":\"CDSView\"}},\"id\":\"8905\",\"type\":\"GlyphRenderer\"},{\"attributes\":{},\"id\":\"8877\",\"type\":\"HelpTool\"},{\"attributes\":{\"callback\":null},\"id\":\"8854\",\"type\":\"DataRange1d\"},{\"attributes\":{\"source\":{\"id\":\"8901\",\"type\":\"ColumnDataSource\"}},\"id\":\"8906\",\"type\":\"CDSView\"},{\"attributes\":{\"active_drag\":\"auto\",\"active_inspect\":\"auto\",\"active_multi\":null,\"active_scroll\":{\"id\":\"8873\",\"type\":\"WheelZoomTool\"},\"active_tap\":\"auto\",\"tools\":[{\"id\":\"8872\",\"type\":\"PanTool\"},{\"id\":\"8873\",\"type\":\"WheelZoomTool\"},{\"id\":\"8874\",\"type\":\"BoxZoomTool\"},{\"id\":\"8875\",\"type\":\"SaveTool\"},{\"id\":\"8876\",\"type\":\"ResetTool\"},{\"id\":\"8877\",\"type\":\"HelpTool\"},{\"id\":\"8899\",\"type\":\"HoverTool\"},{\"id\":\"8916\",\"type\":\"HoverTool\"},{\"id\":\"8935\",\"type\":\"HoverTool\"}]},\"id\":\"8878\",\"type\":\"Toolbar\"},{\"attributes\":{\"ticks\":[-3.998147074951033,-3.2055691638313153,-2.412991252711598,-1.6204133415918807,-0.8278354304721636,-0.035257519352446476,0.7573203917672715,1.5498983028869886,2.3424762140067057,3.135054125126423,3.9276320362461394]},\"id\":\"8937\",\"type\":\"FixedTicker\"},{\"attributes\":{\"callback\":null},\"id\":\"8856\",\"type\":\"DataRange1d\"},{\"attributes\":{},\"id\":\"8912\",\"type\":\"Selection\"},{\"attributes\":{\"callback\":null,\"mode\":\"vline\",\"renderers\":[{\"id\":\"8905\",\"type\":\"GlyphRenderer\"}],\"tooltips\":\"<h3> b: </h3> <h4>bin=@bins</h4> <h4>value=@top </h4>\"},\"id\":\"8916\",\"type\":\"HoverTool\"},{\"attributes\":{},\"id\":\"8858\",\"type\":\"LinearScale\"},{\"attributes\":{},\"id\":\"8913\",\"type\":\"UnionRenderers\"},{\"attributes\":{},\"id\":\"8860\",\"type\":\"LinearScale\"},{\"attributes\":{\"source\":{\"id\":\"8918\",\"type\":\"ColumnDataSource\"}},\"id\":\"8923\",\"type\":\"CDSView\"},{\"attributes\":{\"text\":\"\"},\"id\":\"8852\",\"type\":\"Title\"},{\"attributes\":{\"bottom\":{\"field\":\"bottom\"},\"fill_alpha\":{\"value\":0.5},\"fill_color\":{\"value\":\"#1f77b4\"},\"left\":{\"field\":\"left\"},\"line_alpha\":{\"value\":0.5},\"line_color\":{\"value\":null},\"line_width\":{\"value\":2},\"right\":{\"field\":\"right\"},\"top\":{\"field\":\"top\"}},\"id\":\"8887\",\"type\":\"Quad\"},{\"attributes\":{\"formatter\":{\"id\":\"8895\",\"type\":\"BasicTickFormatter\"},\"ticker\":{\"id\":\"8937\",\"type\":\"FixedTicker\"}},\"id\":\"8862\",\"type\":\"LinearAxis\"},{\"attributes\":{},\"id\":\"8931\",\"type\":\"Selection\"},{\"attributes\":{\"bottom\":{\"field\":\"bottom\"},\"fill_alpha\":{\"value\":0.1},\"fill_color\":{\"value\":\"#1f77b4\"},\"left\":{\"field\":\"left\"},\"line_alpha\":{\"value\":0.1},\"line_color\":{\"value\":\"#1f77b4\"},\"line_width\":{\"value\":2},\"right\":{\"field\":\"right\"},\"top\":{\"field\":\"top\"}},\"id\":\"8888\",\"type\":\"Quad\"},{\"attributes\":{},\"id\":\"8863\",\"type\":\"BasicTicker\"},{\"attributes\":{},\"id\":\"8932\",\"type\":\"UnionRenderers\"},{\"attributes\":{\"data_source\":{\"id\":\"8885\",\"type\":\"ColumnDataSource\"},\"glyph\":{\"id\":\"8887\",\"type\":\"Quad\"},\"hover_glyph\":null,\"muted_glyph\":null,\"nonselection_glyph\":{\"id\":\"8888\",\"type\":\"Quad\"},\"selection_glyph\":null,\"view\":{\"id\":\"8890\",\"type\":\"CDSView\"}},\"id\":\"8889\",\"type\":\"GlyphRenderer\"},{\"attributes\":{\"ticker\":{\"id\":\"8863\",\"type\":\"BasicTicker\"}},\"id\":\"8866\",\"type\":\"Grid\"},{\"attributes\":{\"label\":{\"value\":\"c\"},\"renderers\":[{\"id\":\"8922\",\"type\":\"GlyphRenderer\"}]},\"id\":\"8934\",\"type\":\"LegendItem\"},{\"attributes\":{},\"id\":\"8893\",\"type\":\"BasicTickFormatter\"},{\"attributes\":{\"formatter\":{\"id\":\"8893\",\"type\":\"BasicTickFormatter\"},\"ticker\":{\"id\":\"8868\",\"type\":\"BasicTicker\"}},\"id\":\"8867\",\"type\":\"LinearAxis\"},{\"attributes\":{\"callback\":null,\"mode\":\"vline\",\"renderers\":[{\"id\":\"8922\",\"type\":\"GlyphRenderer\"}],\"tooltips\":\"<h3> c: </h3> <h4>bin=@bins</h4> <h4>value=@top </h4>\"},\"id\":\"8935\",\"type\":\"HoverTool\"},{\"attributes\":{},\"id\":\"8895\",\"type\":\"BasicTickFormatter\"},{\"attributes\":{},\"id\":\"8868\",\"type\":\"BasicTicker\"},{\"attributes\":{\"callback\":null,\"data\":{\"bins\":[\"-3.998147074951033\\uff0d-3.2055691638313153\",\"-3.2055691638313153\\uff0d-2.412991252711598\",\"-2.412991252711598\\uff0d-1.6204133415918807\",\"-1.6204133415918807\\uff0d-0.8278354304721636\",\"-0.8278354304721636\\uff0d-0.035257519352446476\",\"-0.035257519352446476\\uff0d0.7573203917672715\",\"0.7573203917672715\\uff0d1.5498983028869886\",\"1.5498983028869886\\uff0d2.3424762140067057\",\"2.3424762140067057\\uff0d3.135054125126423\",\"3.135054125126423\\uff0d3.9276320362461394\"],\"bottom\":[0,0,0,0,0,0,0,0,0,0],\"left\":{\"__ndarray__\":\"GxqciDT8D8DExR1yAaUJwG5xn1vOTQPALjpCijbt+b8EI4u6oH3qv8AaHQlGDaK/tH9n+fc76D+GaLApYsz4P5mIVitkvQJA79zUQZcUCUA=\",\"dtype\":\"float64\",\"shape\":[10]},\"right\":{\"__ndarray__\":\"xMUdcgGlCcBucZ9bzk0DwC46Qoo27fm/BCOLuqB96r/AGh0JRg2iv7R/Z/n3O+g/hmiwKWLM+D+ZiFYrZL0CQO/c1EGXFAlARDFTWMprD0A=\",\"dtype\":\"float64\",\"shape\":[10]},\"top\":[12,59,205,324,237,121,37,5,0,0]},\"selected\":{\"id\":\"9211\",\"type\":\"Selection\"},\"selection_policy\":{\"id\":\"9212\",\"type\":\"UnionRenderers\"}},\"id\":\"8918\",\"type\":\"ColumnDataSource\"},{\"attributes\":{\"bottom\":{\"field\":\"bottom\"},\"fill_alpha\":{\"value\":0.5},\"fill_color\":{\"value\":\"#2ca02c\"},\"left\":{\"field\":\"left\"},\"line_alpha\":{\"value\":0.5},\"line_color\":{\"value\":null},\"line_width\":{\"value\":2},\"right\":{\"field\":\"right\"},\"top\":{\"field\":\"top\"}},\"id\":\"8920\",\"type\":\"Quad\"},{\"attributes\":{\"bottom_units\":\"screen\",\"fill_alpha\":{\"value\":0.5},\"fill_color\":{\"value\":\"lightgrey\"},\"left_units\":\"screen\",\"level\":\"overlay\",\"line_alpha\":{\"value\":1.0},\"line_color\":{\"value\":\"black\"},\"line_dash\":[4,4],\"line_width\":{\"value\":2},\"render_mode\":\"css\",\"right_units\":\"screen\",\"top_units\":\"screen\"},\"id\":\"8896\",\"type\":\"BoxAnnotation\"},{\"attributes\":{\"dimension\":1,\"ticker\":{\"id\":\"8868\",\"type\":\"BasicTicker\"}},\"id\":\"8871\",\"type\":\"Grid\"},{\"attributes\":{\"click_policy\":\"hide\",\"items\":[{\"id\":\"8898\",\"type\":\"LegendItem\"},{\"id\":\"8915\",\"type\":\"LegendItem\"},{\"id\":\"8934\",\"type\":\"LegendItem\"}]},\"id\":\"8897\",\"type\":\"Legend\"},{\"attributes\":{\"bottom\":{\"field\":\"bottom\"},\"fill_alpha\":{\"value\":0.1},\"fill_color\":{\"value\":\"#1f77b4\"},\"left\":{\"field\":\"left\"},\"line_alpha\":{\"value\":0.1},\"line_color\":{\"value\":\"#1f77b4\"},\"line_width\":{\"value\":2},\"right\":{\"field\":\"right\"},\"top\":{\"field\":\"top\"}},\"id\":\"8921\",\"type\":\"Quad\"},{\"attributes\":{},\"id\":\"9212\",\"type\":\"UnionRenderers\"},{\"attributes\":{\"label\":{\"value\":\"a\"},\"renderers\":[{\"id\":\"8889\",\"type\":\"GlyphRenderer\"}]},\"id\":\"8898\",\"type\":\"LegendItem\"},{\"attributes\":{\"callback\":null,\"mode\":\"vline\",\"renderers\":[{\"id\":\"8889\",\"type\":\"GlyphRenderer\"}],\"tooltips\":\"<h3> a: </h3> <h4>bin=@bins</h4> <h4>value=@top </h4>\"},\"id\":\"8899\",\"type\":\"HoverTool\"},{\"attributes\":{\"callback\":null,\"data\":{\"bins\":[\"-3.998147074951033\\uff0d-3.2055691638313153\",\"-3.2055691638313153\\uff0d-2.412991252711598\",\"-2.412991252711598\\uff0d-1.6204133415918807\",\"-1.6204133415918807\\uff0d-0.8278354304721636\",\"-0.8278354304721636\\uff0d-0.035257519352446476\",\"-0.035257519352446476\\uff0d0.7573203917672715\",\"0.7573203917672715\\uff0d1.5498983028869886\",\"1.5498983028869886\\uff0d2.3424762140067057\",\"2.3424762140067057\\uff0d3.135054125126423\",\"3.135054125126423\\uff0d3.9276320362461394\"],\"bottom\":[0,0,0,0,0,0,0,0,0,0],\"left\":{\"__ndarray__\":\"GxqciDT8D8DExR1yAaUJwG5xn1vOTQPALjpCijbt+b8EI4u6oH3qv8AaHQlGDaK/tH9n+fc76D+GaLApYsz4P5mIVitkvQJA79zUQZcUCUA=\",\"dtype\":\"float64\",\"shape\":[10]},\"right\":{\"__ndarray__\":\"xMUdcgGlCcBucZ9bzk0DwC46Qoo27fm/BCOLuqB96r/AGh0JRg2iv7R/Z/n3O+g/hmiwKWLM+D+ZiFYrZL0CQO/c1EGXFAlARDFTWMprD0A=\",\"dtype\":\"float64\",\"shape\":[10]},\"top\":[0,0,6,31,122,228,300,215,82,16]},\"selected\":{\"id\":\"8912\",\"type\":\"Selection\"},\"selection_policy\":{\"id\":\"8913\",\"type\":\"UnionRenderers\"}},\"id\":\"8885\",\"type\":\"ColumnDataSource\"},{\"attributes\":{},\"id\":\"8872\",\"type\":\"PanTool\"},{\"attributes\":{\"callback\":null,\"data\":{\"bins\":[\"-3.998147074951033\\uff0d-3.2055691638313153\",\"-3.2055691638313153\\uff0d-2.412991252711598\",\"-2.412991252711598\\uff0d-1.6204133415918807\",\"-1.6204133415918807\\uff0d-0.8278354304721636\",\"-0.8278354304721636\\uff0d-0.035257519352446476\",\"-0.035257519352446476\\uff0d0.7573203917672715\",\"0.7573203917672715\\uff0d1.5498983028869886\",\"1.5498983028869886\\uff0d2.3424762140067057\",\"2.3424762140067057\\uff0d3.135054125126423\",\"3.135054125126423\\uff0d3.9276320362461394\"],\"bottom\":[0,0,0,0,0,0,0,0,0,0],\"left\":{\"__ndarray__\":\"GxqciDT8D8DExR1yAaUJwG5xn1vOTQPALjpCijbt+b8EI4u6oH3qv8AaHQlGDaK/tH9n+fc76D+GaLApYsz4P5mIVitkvQJA79zUQZcUCUA=\",\"dtype\":\"float64\",\"shape\":[10]},\"right\":{\"__ndarray__\":\"xMUdcgGlCcBucZ9bzk0DwC46Qoo27fm/BCOLuqB96r/AGh0JRg2iv7R/Z/n3O+g/hmiwKWLM+D+ZiFYrZL0CQO/c1EGXFAlARDFTWMprD0A=\",\"dtype\":\"float64\",\"shape\":[10]},\"top\":[1,9,55,164,285,260,155,56,15,0]},\"selected\":{\"id\":\"8931\",\"type\":\"Selection\"},\"selection_policy\":{\"id\":\"8932\",\"type\":\"UnionRenderers\"}},\"id\":\"8901\",\"type\":\"ColumnDataSource\"},{\"attributes\":{\"source\":{\"id\":\"8885\",\"type\":\"ColumnDataSource\"}},\"id\":\"8890\",\"type\":\"CDSView\"},{\"attributes\":{},\"id\":\"8873\",\"type\":\"WheelZoomTool\"},{\"attributes\":{\"label\":{\"value\":\"b\"},\"renderers\":[{\"id\":\"8905\",\"type\":\"GlyphRenderer\"}]},\"id\":\"8915\",\"type\":\"LegendItem\"},{\"attributes\":{},\"id\":\"9211\",\"type\":\"Selection\"},{\"attributes\":{\"data_source\":{\"id\":\"8918\",\"type\":\"ColumnDataSource\"},\"glyph\":{\"id\":\"8920\",\"type\":\"Quad\"},\"hover_glyph\":null,\"muted_glyph\":null,\"nonselection_glyph\":{\"id\":\"8921\",\"type\":\"Quad\"},\"selection_glyph\":null,\"view\":{\"id\":\"8923\",\"type\":\"CDSView\"}},\"id\":\"8922\",\"type\":\"GlyphRenderer\"},{\"attributes\":{\"overlay\":{\"id\":\"8896\",\"type\":\"BoxAnnotation\"}},\"id\":\"8874\",\"type\":\"BoxZoomTool\"},{\"attributes\":{\"bottom\":{\"field\":\"bottom\"},\"fill_alpha\":{\"value\":0.5},\"fill_color\":{\"value\":\"#ff7f0e\"},\"left\":{\"field\":\"left\"},\"line_alpha\":{\"value\":0.5},\"line_color\":{\"value\":null},\"line_width\":{\"value\":2},\"right\":{\"field\":\"right\"},\"top\":{\"field\":\"top\"}},\"id\":\"8903\",\"type\":\"Quad\"},{\"attributes\":{},\"id\":\"8875\",\"type\":\"SaveTool\"},{\"attributes\":{\"bottom\":{\"field\":\"bottom\"},\"fill_alpha\":{\"value\":0.1},\"fill_color\":{\"value\":\"#1f77b4\"},\"left\":{\"field\":\"left\"},\"line_alpha\":{\"value\":0.1},\"line_color\":{\"value\":\"#1f77b4\"},\"line_width\":{\"value\":2},\"right\":{\"field\":\"right\"},\"top\":{\"field\":\"top\"}},\"id\":\"8904\",\"type\":\"Quad\"},{\"attributes\":{},\"id\":\"8876\",\"type\":\"ResetTool\"}],\"root_ids\":[\"8851\"]},\"title\":\"Bokeh Application\",\"version\":\"1.3.4\"}};\n",
       "  var render_items = [{\"docid\":\"c939a57e-8b02-4283-a1ad-3a4912a41e01\",\"roots\":{\"8851\":\"c68a4979-b387-4e2f-86fa-06052a1d0bd2\"}}];\n",
       "  root.Bokeh.embed.embed_items_notebook(docs_json, render_items);\n",
       "\n",
       "  }\n",
       "  if (root.Bokeh !== undefined) {\n",
       "    embed_document(root);\n",
       "  } else {\n",
       "    var attempts = 0;\n",
       "    var timer = setInterval(function(root) {\n",
       "      if (root.Bokeh !== undefined) {\n",
       "        embed_document(root);\n",
       "        clearInterval(timer);\n",
       "      }\n",
       "      attempts++;\n",
       "      if (attempts > 100) {\n",
       "        console.log(\"Bokeh: ERROR: Unable to run BokehJS code because BokehJS library is missing\");\n",
       "        clearInterval(timer);\n",
       "      }\n",
       "    }, 10, root)\n",
       "  }\n",
       "})(window);"
      ],
      "application/vnd.bokehjs_exec.v0+json": ""
     },
     "metadata": {
      "application/vnd.bokehjs_exec.v0+json": {
       "id": "8851"
      }
     },
     "output_type": "display_data"
    },
    {
     "data": {
      "text/html": [
       "<div style=\"display: table;\"><div style=\"display: table-row;\"><div style=\"display: table-cell;\"><b title=\"bokeh.plotting.figure.Figure\">Figure</b>(</div><div style=\"display: table-cell;\">id&nbsp;=&nbsp;'8851', <span id=\"9281\" style=\"cursor: pointer;\">&hellip;)</span></div></div><div class=\"9280\" style=\"display: none;\"><div style=\"display: table-cell;\"></div><div style=\"display: table-cell;\">above&nbsp;=&nbsp;[],</div></div><div class=\"9280\" style=\"display: none;\"><div style=\"display: table-cell;\"></div><div style=\"display: table-cell;\">align&nbsp;=&nbsp;'start',</div></div><div class=\"9280\" style=\"display: none;\"><div style=\"display: table-cell;\"></div><div style=\"display: table-cell;\">aspect_ratio&nbsp;=&nbsp;None,</div></div><div class=\"9280\" style=\"display: none;\"><div style=\"display: table-cell;\"></div><div style=\"display: table-cell;\">aspect_scale&nbsp;=&nbsp;1,</div></div><div class=\"9280\" style=\"display: none;\"><div style=\"display: table-cell;\"></div><div style=\"display: table-cell;\">background&nbsp;=&nbsp;None,</div></div><div class=\"9280\" style=\"display: none;\"><div style=\"display: table-cell;\"></div><div style=\"display: table-cell;\">background_fill_alpha&nbsp;=&nbsp;{'value': 1.0},</div></div><div class=\"9280\" style=\"display: none;\"><div style=\"display: table-cell;\"></div><div style=\"display: table-cell;\">background_fill_color&nbsp;=&nbsp;{'value': '#ffffff'},</div></div><div class=\"9280\" style=\"display: none;\"><div style=\"display: table-cell;\"></div><div style=\"display: table-cell;\">below&nbsp;=&nbsp;[LinearAxis(id='8862', ...)],</div></div><div class=\"9280\" style=\"display: none;\"><div style=\"display: table-cell;\"></div><div style=\"display: table-cell;\">border_fill_alpha&nbsp;=&nbsp;{'value': 1.0},</div></div><div class=\"9280\" style=\"display: none;\"><div style=\"display: table-cell;\"></div><div style=\"display: table-cell;\">border_fill_color&nbsp;=&nbsp;{'value': '#ffffff'},</div></div><div class=\"9280\" style=\"display: none;\"><div style=\"display: table-cell;\"></div><div style=\"display: table-cell;\">center&nbsp;=&nbsp;[Grid(id='8866', ...), Grid(id='8871', ...), Legend(id='8897', ...)],</div></div><div class=\"9280\" style=\"display: none;\"><div style=\"display: table-cell;\"></div><div style=\"display: table-cell;\">css_classes&nbsp;=&nbsp;[],</div></div><div class=\"9280\" style=\"display: none;\"><div style=\"display: table-cell;\"></div><div style=\"display: table-cell;\">disabled&nbsp;=&nbsp;False,</div></div><div class=\"9280\" style=\"display: none;\"><div style=\"display: table-cell;\"></div><div style=\"display: table-cell;\">extra_x_ranges&nbsp;=&nbsp;{},</div></div><div class=\"9280\" style=\"display: none;\"><div style=\"display: table-cell;\"></div><div style=\"display: table-cell;\">extra_y_ranges&nbsp;=&nbsp;{},</div></div><div class=\"9280\" style=\"display: none;\"><div style=\"display: table-cell;\"></div><div style=\"display: table-cell;\">frame_height&nbsp;=&nbsp;None,</div></div><div class=\"9280\" style=\"display: none;\"><div style=\"display: table-cell;\"></div><div style=\"display: table-cell;\">frame_width&nbsp;=&nbsp;None,</div></div><div class=\"9280\" style=\"display: none;\"><div style=\"display: table-cell;\"></div><div style=\"display: table-cell;\">height&nbsp;=&nbsp;None,</div></div><div class=\"9280\" style=\"display: none;\"><div style=\"display: table-cell;\"></div><div style=\"display: table-cell;\">height_policy&nbsp;=&nbsp;'auto',</div></div><div class=\"9280\" style=\"display: none;\"><div style=\"display: table-cell;\"></div><div style=\"display: table-cell;\">hidpi&nbsp;=&nbsp;True,</div></div><div class=\"9280\" style=\"display: none;\"><div style=\"display: table-cell;\"></div><div style=\"display: table-cell;\">js_event_callbacks&nbsp;=&nbsp;{},</div></div><div class=\"9280\" style=\"display: none;\"><div style=\"display: table-cell;\"></div><div style=\"display: table-cell;\">js_property_callbacks&nbsp;=&nbsp;{},</div></div><div class=\"9280\" style=\"display: none;\"><div style=\"display: table-cell;\"></div><div style=\"display: table-cell;\">left&nbsp;=&nbsp;[LinearAxis(id='8867', ...)],</div></div><div class=\"9280\" style=\"display: none;\"><div style=\"display: table-cell;\"></div><div style=\"display: table-cell;\">lod_factor&nbsp;=&nbsp;10,</div></div><div class=\"9280\" style=\"display: none;\"><div style=\"display: table-cell;\"></div><div style=\"display: table-cell;\">lod_interval&nbsp;=&nbsp;300,</div></div><div class=\"9280\" style=\"display: none;\"><div style=\"display: table-cell;\"></div><div style=\"display: table-cell;\">lod_threshold&nbsp;=&nbsp;2000,</div></div><div class=\"9280\" style=\"display: none;\"><div style=\"display: table-cell;\"></div><div style=\"display: table-cell;\">lod_timeout&nbsp;=&nbsp;500,</div></div><div class=\"9280\" style=\"display: none;\"><div style=\"display: table-cell;\"></div><div style=\"display: table-cell;\">margin&nbsp;=&nbsp;(0, 0, 0, 0),</div></div><div class=\"9280\" style=\"display: none;\"><div style=\"display: table-cell;\"></div><div style=\"display: table-cell;\">match_aspect&nbsp;=&nbsp;False,</div></div><div class=\"9280\" style=\"display: none;\"><div style=\"display: table-cell;\"></div><div style=\"display: table-cell;\">max_height&nbsp;=&nbsp;None,</div></div><div class=\"9280\" style=\"display: none;\"><div style=\"display: table-cell;\"></div><div style=\"display: table-cell;\">max_width&nbsp;=&nbsp;None,</div></div><div class=\"9280\" style=\"display: none;\"><div style=\"display: table-cell;\"></div><div style=\"display: table-cell;\">min_border&nbsp;=&nbsp;5,</div></div><div class=\"9280\" style=\"display: none;\"><div style=\"display: table-cell;\"></div><div style=\"display: table-cell;\">min_border_bottom&nbsp;=&nbsp;None,</div></div><div class=\"9280\" style=\"display: none;\"><div style=\"display: table-cell;\"></div><div style=\"display: table-cell;\">min_border_left&nbsp;=&nbsp;None,</div></div><div class=\"9280\" style=\"display: none;\"><div style=\"display: table-cell;\"></div><div style=\"display: table-cell;\">min_border_right&nbsp;=&nbsp;None,</div></div><div class=\"9280\" style=\"display: none;\"><div style=\"display: table-cell;\"></div><div style=\"display: table-cell;\">min_border_top&nbsp;=&nbsp;None,</div></div><div class=\"9280\" style=\"display: none;\"><div style=\"display: table-cell;\"></div><div style=\"display: table-cell;\">min_height&nbsp;=&nbsp;None,</div></div><div class=\"9280\" style=\"display: none;\"><div style=\"display: table-cell;\"></div><div style=\"display: table-cell;\">min_width&nbsp;=&nbsp;None,</div></div><div class=\"9280\" style=\"display: none;\"><div style=\"display: table-cell;\"></div><div style=\"display: table-cell;\">name&nbsp;=&nbsp;None,</div></div><div class=\"9280\" style=\"display: none;\"><div style=\"display: table-cell;\"></div><div style=\"display: table-cell;\">outline_line_alpha&nbsp;=&nbsp;{'value': 1.0},</div></div><div class=\"9280\" style=\"display: none;\"><div style=\"display: table-cell;\"></div><div style=\"display: table-cell;\">outline_line_cap&nbsp;=&nbsp;'butt',</div></div><div class=\"9280\" style=\"display: none;\"><div style=\"display: table-cell;\"></div><div style=\"display: table-cell;\">outline_line_color&nbsp;=&nbsp;{'value': '#e5e5e5'},</div></div><div class=\"9280\" style=\"display: none;\"><div style=\"display: table-cell;\"></div><div style=\"display: table-cell;\">outline_line_dash&nbsp;=&nbsp;[],</div></div><div class=\"9280\" style=\"display: none;\"><div style=\"display: table-cell;\"></div><div style=\"display: table-cell;\">outline_line_dash_offset&nbsp;=&nbsp;0,</div></div><div class=\"9280\" style=\"display: none;\"><div style=\"display: table-cell;\"></div><div style=\"display: table-cell;\">outline_line_join&nbsp;=&nbsp;'bevel',</div></div><div class=\"9280\" style=\"display: none;\"><div style=\"display: table-cell;\"></div><div style=\"display: table-cell;\">outline_line_width&nbsp;=&nbsp;{'value': 1},</div></div><div class=\"9280\" style=\"display: none;\"><div style=\"display: table-cell;\"></div><div style=\"display: table-cell;\">output_backend&nbsp;=&nbsp;'webgl',</div></div><div class=\"9280\" style=\"display: none;\"><div style=\"display: table-cell;\"></div><div style=\"display: table-cell;\">plot_height&nbsp;=&nbsp;400,</div></div><div class=\"9280\" style=\"display: none;\"><div style=\"display: table-cell;\"></div><div style=\"display: table-cell;\">plot_width&nbsp;=&nbsp;600,</div></div><div class=\"9280\" style=\"display: none;\"><div style=\"display: table-cell;\"></div><div style=\"display: table-cell;\">renderers&nbsp;=&nbsp;[GlyphRenderer(id='8889', ...), GlyphRenderer(id='8905', ...), GlyphRenderer(id='8922', ...)],</div></div><div class=\"9280\" style=\"display: none;\"><div style=\"display: table-cell;\"></div><div style=\"display: table-cell;\">reset_policy&nbsp;=&nbsp;'standard',</div></div><div class=\"9280\" style=\"display: none;\"><div style=\"display: table-cell;\"></div><div style=\"display: table-cell;\">right&nbsp;=&nbsp;[],</div></div><div class=\"9280\" style=\"display: none;\"><div style=\"display: table-cell;\"></div><div style=\"display: table-cell;\">sizing_mode&nbsp;=&nbsp;None,</div></div><div class=\"9280\" style=\"display: none;\"><div style=\"display: table-cell;\"></div><div style=\"display: table-cell;\">subscribed_events&nbsp;=&nbsp;[],</div></div><div class=\"9280\" style=\"display: none;\"><div style=\"display: table-cell;\"></div><div style=\"display: table-cell;\">tags&nbsp;=&nbsp;[],</div></div><div class=\"9280\" style=\"display: none;\"><div style=\"display: table-cell;\"></div><div style=\"display: table-cell;\">title&nbsp;=&nbsp;Title(id='8852', ...),</div></div><div class=\"9280\" style=\"display: none;\"><div style=\"display: table-cell;\"></div><div style=\"display: table-cell;\">title_location&nbsp;=&nbsp;'above',</div></div><div class=\"9280\" style=\"display: none;\"><div style=\"display: table-cell;\"></div><div style=\"display: table-cell;\">toolbar&nbsp;=&nbsp;Toolbar(id='8878', ...),</div></div><div class=\"9280\" style=\"display: none;\"><div style=\"display: table-cell;\"></div><div style=\"display: table-cell;\">toolbar_location&nbsp;=&nbsp;'right',</div></div><div class=\"9280\" style=\"display: none;\"><div style=\"display: table-cell;\"></div><div style=\"display: table-cell;\">toolbar_sticky&nbsp;=&nbsp;True,</div></div><div class=\"9280\" style=\"display: none;\"><div style=\"display: table-cell;\"></div><div style=\"display: table-cell;\">visible&nbsp;=&nbsp;True,</div></div><div class=\"9280\" style=\"display: none;\"><div style=\"display: table-cell;\"></div><div style=\"display: table-cell;\">width&nbsp;=&nbsp;None,</div></div><div class=\"9280\" style=\"display: none;\"><div style=\"display: table-cell;\"></div><div style=\"display: table-cell;\">width_policy&nbsp;=&nbsp;'auto',</div></div><div class=\"9280\" style=\"display: none;\"><div style=\"display: table-cell;\"></div><div style=\"display: table-cell;\">x_range&nbsp;=&nbsp;DataRange1d(id='8854', ...),</div></div><div class=\"9280\" style=\"display: none;\"><div style=\"display: table-cell;\"></div><div style=\"display: table-cell;\">x_scale&nbsp;=&nbsp;LinearScale(id='8858', ...),</div></div><div class=\"9280\" style=\"display: none;\"><div style=\"display: table-cell;\"></div><div style=\"display: table-cell;\">y_range&nbsp;=&nbsp;DataRange1d(id='8856', ...),</div></div><div class=\"9280\" style=\"display: none;\"><div style=\"display: table-cell;\"></div><div style=\"display: table-cell;\">y_scale&nbsp;=&nbsp;LinearScale(id='8860', ...))</div></div></div>\n",
       "<script>\n",
       "(function() {\n",
       "  var expanded = false;\n",
       "  var ellipsis = document.getElementById(\"9281\");\n",
       "  ellipsis.addEventListener(\"click\", function() {\n",
       "    var rows = document.getElementsByClassName(\"9280\");\n",
       "    for (var i = 0; i < rows.length; i++) {\n",
       "      var el = rows[i];\n",
       "      el.style.display = expanded ? \"none\" : \"table-row\";\n",
       "    }\n",
       "    ellipsis.innerHTML = expanded ? \"&hellip;)\" : \"&lsaquo;&lsaquo;&lsaquo;\";\n",
       "    expanded = !expanded;\n",
       "  });\n",
       "})();\n",
       "</script>\n"
      ],
      "text/plain": [
       "Figure(id='8851', ...)"
      ]
     },
     "execution_count": 65,
     "metadata": {},
     "output_type": "execute_result"
    }
   ],
   "source": [
    "df.plot.hist()"
   ]
  },
  {
   "cell_type": "markdown",
   "metadata": {},
   "source": [
    "# Scatter Matrix"
   ]
  },
  {
   "cell_type": "code",
   "execution_count": 69,
   "metadata": {},
   "outputs": [],
   "source": [
    "df = pd.DataFrame(np.random.randn(1000, 4), columns=[\"A\", \"B\", \"C\", \"D\"])"
   ]
  },
  {
   "cell_type": "code",
   "execution_count": 82,
   "metadata": {},
   "outputs": [
    {
     "data": {
      "text/html": [
       "\n",
       "\n",
       "\n",
       "\n",
       "\n",
       "\n",
       "  <div class=\"bk-root\" id=\"3d279004-e666-497a-8d95-7ed081e0e4e5\" data-root-id=\"11045\"></div>\n"
      ]
     },
     "metadata": {},
     "output_type": "display_data"
    },
    {
     "data": {
      "application/javascript": [
       "(function(root) {\n",
       "  function embed_document(root) {\n",
       "    \n",
       "  var docs_json = {\"d74f7e5e-6180-4707-9ddd-18ce5634ca41\":{\"roots\":{\"references\":[{\"attributes\":{\"below\":[{\"id\":\"11056\",\"type\":\"LinearAxis\"}],\"center\":[{\"id\":\"11060\",\"type\":\"Grid\"},{\"id\":\"11065\",\"type\":\"Grid\"},{\"id\":\"11091\",\"type\":\"Legend\"}],\"left\":[{\"id\":\"11061\",\"type\":\"LinearAxis\"}],\"output_backend\":\"webgl\",\"plot_height\":200,\"plot_width\":200,\"renderers\":[{\"id\":\"11083\",\"type\":\"GlyphRenderer\"}],\"title\":{\"id\":\"11046\",\"type\":\"Title\"},\"toolbar\":{\"id\":\"11072\",\"type\":\"Toolbar\"},\"toolbar_location\":null,\"x_range\":{\"id\":\"11048\",\"type\":\"DataRange1d\"},\"x_scale\":{\"id\":\"11052\",\"type\":\"LinearScale\"},\"y_range\":{\"id\":\"11050\",\"type\":\"DataRange1d\"},\"y_scale\":{\"id\":\"11054\",\"type\":\"LinearScale\"}},\"id\":\"11045\",\"subtype\":\"Figure\",\"type\":\"Plot\"},{\"attributes\":{},\"id\":\"11069\",\"type\":\"SaveTool\"},{\"attributes\":{},\"id\":\"11070\",\"type\":\"ResetTool\"},{\"attributes\":{\"axis_label\":\"B\",\"formatter\":{\"id\":\"11087\",\"type\":\"BasicTickFormatter\"},\"ticker\":{\"id\":\"11062\",\"type\":\"BasicTicker\"}},\"id\":\"11061\",\"type\":\"LinearAxis\"},{\"attributes\":{},\"id\":\"11071\",\"type\":\"HelpTool\"},{\"attributes\":{\"active_drag\":\"auto\",\"active_inspect\":\"auto\",\"active_multi\":null,\"active_scroll\":{\"id\":\"11067\",\"type\":\"WheelZoomTool\"},\"active_tap\":\"auto\",\"tools\":[{\"id\":\"11066\",\"type\":\"PanTool\"},{\"id\":\"11067\",\"type\":\"WheelZoomTool\"},{\"id\":\"11068\",\"type\":\"BoxZoomTool\"},{\"id\":\"11069\",\"type\":\"SaveTool\"},{\"id\":\"11070\",\"type\":\"ResetTool\"},{\"id\":\"11071\",\"type\":\"HelpTool\"},{\"id\":\"11093\",\"type\":\"HoverTool\"}]},\"id\":\"11072\",\"type\":\"Toolbar\"},{\"attributes\":{},\"id\":\"11415\",\"type\":\"Selection\"},{\"attributes\":{\"callback\":null,\"data\":{\"__x__values\":{\"__ndarray__\":\"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\",\"dtype\":\"float64\",\"shape\":[1000]},\"__x__values_original\":{\"__ndarray__\":\"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\",\"dtype\":\"float64\",\"shape\":[1000]},\"y\":{\"__ndarray__\":\"fKmS0YAq6b+dVqnFo/flP1geXr1O1qa/E5M7kKxa4j+ONbVhJYbHP2QmAQPtG9E/oNFoBgl8pr+jpVVlWCH6v/R29PzmA/G/Od1B1YhQ8L9BjGwypZ/mPxRDxlHl5+m/dYTNsewG+b99f7NObWKWv1YEZTBLIvc/mZTZf+1E0D83kBBIIprYv4yJ5WRHseO/IZ6Y704G5j9dVYqAIwLYPyUo0itxlPa/i+R2QkDO+z/bBjeXdo/5P6zi+pmh1u8/XeQvmA8h67/IZT8YQtHzP9jadqLqWfY/iKhYQKUf579QK5jQlQbAv2JlrRYIet6/iUYjDNOs2787bFOibdrdP9mabIML5LC/OEsiMEQ09T/0VV+OPQ/7v6K1NTX5Bv2/WLRUaj9R67+4ZP+75OPzP4gjq6TytOg/9zBqbsSCtz+mpEFR29vZPywMvY4YQee/cyN/wt1Y6z8xF9SmGkLLPwi9MagxiwLAum8YWhe/7D+EuVnXHLXhP7CvNeJoCdY/U6phdVKM97/0+5s3vEPsPx4WS1HDYvk/vmjDdxDZ+b9Q8evvP1HpP3wNBNjSqfK/sOcgbwkgyD+wFV/NlfDKv9cra3EfCPU/c3c1GiV92r/y07IJYJXGv1mgF+LtV9u/wO0z2ZIr6T9N83OtHf/sP9y1leU5zM0/sN1+7G8V/j+hCNAQiK7Ev0HzAe4C8PU/LWHx5NxG+b+J7W4t2f7Tvy/WcfqhaOS/LjrccX43078mtx8G/S7VPzr9Dbgt1eW/NO+R9VVR/j/BqJ4NPir5P8w/J5+Fgeg/9y917GNn8D8+Nv59KIbovzijCdUIn+m/he0hQQdQAcBIRP83SkXsP/9MqltyovU/vyWre5zlyj/qpvoAWzH0v5qLoGDPQu8/69ZzIWJX8b+0VckI6KXwP7vezScI4sM/FUBDXaYO8b+sGTX24FMBQEw1TFMzg+o/AFaeavnM6j+1cCn6/KjVvyjAz05yV+m/Efi9l0uR5r+j4n2MGcPevwmo0BY9SPE/2lNdFqferT8Y+bz3geT1P5lnlqVpE+y/OpPJZAuJ7b8CDUZL2qnnv7sE/cnkXOW/4Ux+2VTC0T9G2sBZoUuxP37aFu+zFsS/GfeyZHXG5z9wdLMhJ7kBwLZJxdHLTMi/V48g2Ziv6z/bbipAJqP4P4Cndlctpe4/mKcA3/sx1D+MDxdmWgx1PwIgSUwbzeQ/I1UAikj17D/sVDJJmJD2vyiDRF4PS7u/XSpDZcNh9D/G8Vp68O2/P5XR0K5Z09i/cl4Ba/cP8D/8NKE7QTAAwOEDZkN0CfM/c05ldLSf278/d7XDq6nUPw5IAlFKO8c/J4WvSrAC3j9n+XU/SejQvzTAVlNYQKs/lQwBvPzi4D9AXaeuEVLwv2zadjIO8N4/R81VKLgd9790darEDJfbvxCIfAp9QtO/JrG6udh21j+5JTRIT2S1P9nTHMthquk/E37eSTK5+T9oc9NFKBGqP4PYDLRHWfq/Sq9Ax7nw0D+DrfbScqunvxdzMNiHm5U/og8/zPvk/z+t7YSK21zYvy/KZ57Z3eq/KSRBuHd7AkAWGk+OHMTGP5PcW2RD/9u/bvjm4f7V1L95IlLndkv0P3Wgtc8Cjfe/fL/pr6dg9j/NyfTMiqyxPwoEHuXVIqg/2GW+XJluzL/0gD9lpyzzvwAj34OzeMC/69GpC3oc5D/bvSrwjm8DQEKfpoTwLeC/jjghsigI279r4Humhm/hv6yq3yYShMa/1lJvT0hy7j/Qsf8+P7Lpv696aL4/DPC/H0MY2Ay/07/m6zEi5FDvP4rNXME2bv6/ljl3ASm75L88Hmn++FPHvx/nPnEyq/+/GZBvpOj36D+sImnEmFjTPxsNaVZMI+Q/HSHfVIgjy7+rO/wYGLDJPyzyjodXtADAuchiST4W9D/CU2hFNOH7v9UxhiBYfti/xoCe5TFC8z+Q5kJ8kZf0P24OLX15HNM/qDSFBOQU978/d0zEkhXiv8ca3rVJI+g/2zbHeHfgtT+xWxeox+bwv8xwl2NU8OI/waV1PnlQ0r/xoe3K/9rLv7mLkm2t7eM/MRLAw0Iryb+HphVagmfAv4VbO035oty/DQk6ugdxlz83siV6jsr5v4rgkTUD7dG/Ou8Tk6nY9b+UGbOpdme2v748Gsa6ieC/TyVOi7pv178cXFaEfn6avwmBYfJEFfA/YilnVwLKyr9A9hdzkC/vP25fiwhyT/2/h+cUpoCFo7/jCZEnsSnrv8p8WKk2ee0/o2WL/yqN7z/JLLRuq77Xv+bRIPE4R+4/uKXKklw8778wOKyzjvjiv6Pn01027+Y/kCzMfViM8j+UATzKE8riP1BFDO688Ou/IHmES8hx4D+TOPgxD3/5v6av5/WNveS/ys1Qsyku5b+IwWbM9TvCPxaE3+06A+k/8oVVtGck8r/zK9D+g+v1v6SVyVow+MC/xtBSSouH9D8c2AO8MqD2v2ONpiYo8OG/W0ljRiwABEBJ+HpwpGv3vxtNaFQNY/K/znBhFwW1779BI4hh3kT7v27EZQORjOk/bIviKLmi0z9fku+ZbhL3PytThMPyOPI/kcmBJBkO3D/sbmznNQm8v+4uQadn8+O/ms0/YBk+wb84qCvZWL3Nv1Yj1C1BVvQ/2IA5giDF4T+zP7K/1or6v/Of64LL/8q/NRXdnxxHzT+xq6yOo8zjv+weISdt3NS/86SCQnmN/b/enGehE4rYP9ewrW+aAK+/sJaKQoNa6D9H0SaDHW/VP4wvXQN8z+A/LGZmpuJH8r9soU6wA2Pwv42iEO3yLOw/YBc9m6Ybzz91kKtnWpTiP78cKSlcrgNAs4AaA9842r+FhViY28ziP8RXWUyxEbA/aAWVp2+c8r9UQ1g9BmTOv/3pgeKY3+c/Gn7v+QXtzz/UrBFGZz7xP29ACxJFLvO/h/P+Ptoh6z9YevgBNBHlP2UGjaEgi+A/7t1HGq2l/r/LxFxzPsvgv8ULjhQW7gHAmWm8pk+v9z9TrO5a7vHuvxU402yXBvg/IhmvoLm20L8J479D0wL4P3kDOADXctA/metGQ6R077+81RPH6Q3Av9GoxImnGfe/eBwm5qyT7D9FlC/Qv3zLPzBPNJB5TN+/PKZJbkFG7j+9cUY9Xujxv0ZJknHT2OA/yt7SilJS0D9U8i3Et2X0vxYuZOxQ7ek/+ZUz8vfC+r+iNiZwmpa0v08jSTnk9ue/PDI50Vj/3j9SU4PLD1zjP/luudjif+m/VXosjBP94T9O5j46njTRPxnlRTAxiaA/9SxE4bhxvL/w6JvXL/LlP16Y4Xa6hMQ/9jlzCJRh778Cn68VPw34v4L2uc00M+C/Ez71H0Dt+T8XiK2DXSP6v3kg7vDlcaQ/BzJTzd+J7T/kGrJytSLzv72sxipTyu0/J+ej3BXl3j96idccmBEBwIjsKtZ+v4U/RRJCfYM10T8z5rXTXCDWv3vO+13+39o/d152jLSG4T9Tl6/m0oAAwLS+L0vlPcS/jHYT/4fY6r/dGpVLqvD9P5bKvjcimuI/+8UW1IRs1T+PE7286Bn0v0KZAuTcnNA/xVEYrCUw4z+AI16H2gTqP0aGN+BIU+I/7BgogdWYvj/LJRCWeR/Vv7aBPOax6/q/eh3PZ4ZX9r+YidTnr7ftP+xZQ0qnmvW/4ZcB04t+0T+ch10f7uDvv2lhi+fR3MG/gJd8xBXr3D91vnfuWR3pP0kg2Dgqq/w/7XYLUxXsuj9HJaeKDB/0v3TNThucAfi/xl9WslgO4r/A9vnF7E3VP7OnF1FUKrW/FuAOlPyp0j/fQRxAcmnzv/P8S465/+K/aRBNgs/R2T8JNEVE1c/nvw1nOLWGJuO/9t8dHEJ+2D/HSzjjTG/3v8NnLnF1xbQ/IcdqeYap7T+kktYwjZv/P2oWPg6mPPo/eHmWQZK94j9d6Quzgxj2vwos5gtrJtc/npn+vI5M9r9M0NgHkz7dv7sJDXMzM8G/nWxprOpJsT/l1ksJohDnP6/kYh0+pPI/EgfgoCq5rj+MMfHmuIn2P+gciQCKLci/5lOx4m1l4z+ZrVElconwv3tadHNc5gFA+8rDno2UiD//TzSzVtXzv9+LLk1sbvc/uCSW1aXxxz+I1R3pgnXhP/O0QaJOcrW/MF0Fx4g97b9MnNfdfWywv9cs4ufF1cM/Wnwz2ifUvr9kSkyDNE0FwFJwWKcnFva/9lwpO6ESqL9znXT4Dn3nP/EipZ23h/I/hXD+vfq+8T9acreV+efbP+AEHoISMfM/7fy8QMaFer+mprpUJlK+v1uPt1vlEfO/F3BMWAXQ07+alGW1NHzRP1S/2rfT8sK/TC9o0jCw5z8eMaFtIG3bP31s9Ei2OOG/v1j3omKd67+o0SQcGUrSv1sjhVVTS66/xH8bYirk2j99PEIIACr6v/uCkkBGces/sFGDYjuPwj/a/05/CmHrP6GQxykh6uW/pPSPdhGK9T9yFyWyuY7iv8QABHJNg9g/eX9cYxSDyT+k8OUnHsnoP18r9c/9CAJA8CDoXs9q6r+x+JKXfnL0P5UYmCxAa/g/KwE6K0qH9D/YeYB1TtTaP/+xq93/lMW/RaD0P+N2/r8ODBe1eOP0vxE2/L+Qfqe/b8WqIPqx7D8jqGYnpan1PzRIbliU1t+/5159Pd266L8IE6nMOvrnP3QBqBdsrPW/DBmYVLZp+b+mSyHCuM/DPx73hlNYn+O/BO6aJBvE8j8Izn76shL1v+yE9A9yuNI/zndeXXNBwT+WtHHh7Njqv3pruxmH+eK/QOdfYn5z/T9rL4F1E4Povz1RbKgqN+y/f5c5GIBg579nMkAc3W8AQNex9qp/dsg/W6mqM25q4T+RUPQL/F7mP2I6HXYwKOu/jl7GqOAy5D96Xl35QrvsP8ELgVwFq/0/8meuplh8vr/Vyb8YGhIBQJKgAAiirum/q1VP11TNzD9t6n40/uSCP5B04H4Le94/N1D8+XUGvb+vvRlRi/zZP+14Lzn8Gva/rFaoisFp9L/Dd6Zm8x39P3PnqR+1HPu/Yu5qSSS38z8PEPVTf3XeP8Wfu/xlAeC/1TTcfGMTm781KexysVHxv0Gm91hd6su/U0Z2EXOJtj/646QVAprEv/UMFbLWKf6/LMIK+icOBUCCRnrbVDr9P6e3tN/MIto/hFvrkoJX37/VOiyWeEvYP+NvZI8M6uO/OH+wkZe+AcCDq5Y4knTwvx4Ma84Cb/Q/olxdn4i97j9U4IR9SIryv5KVldB/0qk/OZ01m4O+qr9qI8eywGnsv4GQFPxZhNk/rgij39sM8D/YJ3kr82wCQACgG8VJYvm/gszy077u3D+McXNsVzHXP0MRwY0pdNW/fZbtjAfS5b8aIHU/5PXWP5ZEk3WAQgPASqU1l5xf4j+JQ0QpJXbwvy1P8tmkkuq/udXPE5oLA0AilCDahdbbPyTyxsheFd0/GNLCzDqX4r/oWQzdzurPv+56N8v00d8/vvxePAS+0r+wKG9my4D9v5BZAZ6FlPI/p9V2UaBT379U8aUDsSCmP/IG7/zHD9k/2QU1HCI9sL82MQ798Y7pP/Kf/FM+jfG/wq7fEDxL5L8B7mN8FtHBP8923sNPFs+/V+v/Cm+M978GkfxHf4HSv6/Zgu4U8sm/xqaNIC7Gv7+zpilsm4bzP5+PSTqTw/A/M8gOs+wSwj+o8ZZzb/Lyv61ewHqM1N+/MUsXftGD5z9R9d512SnivxXviTTCt8i/6zhcgsyn9z+u4MfOmtHrP8EUuNmX8eU/+MONfvWT9b+mMvJ/5gj7PyE3e53VTKa/2PMo4Yor6T8s8VMtszPxv0QWShtChdy/x+jnon1g3j8WAEMHlT/xP/Wm2pgRSdM/wsVNGMlg3r8vl10lTgjjv5/WvHkoZMu/9ZRcPF9p9T+vkTC4UivCv9klnUqREfK/5zBVlHmrxD+sCzIk+SHRv017w3rMbeU/B+Sdd7PW5j/GydEzc3/SP5kGXYJqiuC/hG1SDpO18j/+u6LHCzrjvxzyMoXGg/O/8M+Qbg8/7z8VNFZl+8zyvxJ3pBol5/u/kKyaWTJn+j/ErOt/ag72P1MIGk30Htu/m1dNUz9J7z+cFl6m5V3hP2UCFdPvwuO/SNyiJt4P+j99R9DVuc/8P6NdcfxJq+G/6pg2bEnx9b+DjthBljnoP1SAyyJpsfS/djJBFxy94z+jBJG+ri32v9Qzj5Ff5/u/YjUaiJ9Unr8O2gMpeh/3P+LSrDNKs+m/ydzI4fG96D84hMpPUQXXP/E1m7geFPs/JDrk/vFG9b818T5735T2P21x8GRudaq/WDY4bUc45T+DvQmXN2Xfv/j/Rbxhy++/mgSy9xpR8L9nYxbZOGzkv7W0HC+OTfW/tRWD30OQ4j9PvoK+Q9nqv3onpEcej8g/SWznIwsA8b82KmwVJRgCwDpxRs4pweW/qvFV7HcB5r8akGeSKtDgv+oRd26i3ra/yXrx1Q078r+4mjnBGqjvv86ZC6f4CPG/CLNc8xEL+D8JQOvWdJzBP6uXzeehBP2/P6AKIgAt4r9E7c0eu4KpP1SowRyqReW/7UryTFX66D+IQGmCx2QAQIylVzTcR/K/gtQGufu+5b/aOiScTgbwP40ESkb8Qf0/7G8fwC7H0j+u/7KPrh/RP8voiaq49um/NVRtn8ry5r9PKGDUQ0KjP2RBwwb+++i/GTf74y6j4T/DfzBYg2fkP3PBcLxZSuy/aS5gPvjv4L9UwmYdNTXWvz6WS63ksNW/TnyS2f/99r8BobFg3b3jvymCTp5jDOG/wbxE90xU3z9Zg98MjcTzP3EFo0txCMM/pceW26JOyb+TAFZdxOjzvyHjEs8fe/a/h4GHHqIf3b89flqRewzvP5k8HOsYPdq/gsg582+y5z/8r1ZBq9fhP0A59p4/NfA/dMIj671u4r/oJ245ZvrZP8ZnlsA4gOO/vvP01JWO5D+2Zx7Le43Qvy5xrtwc4vI/pMOSLHzz9b9RmQpsZAfFP/6IapgMWvM/dPV5VeRN8D8VRD2lBCzGP1ebre8R3eq/MyrHc6h9/7//PE+hiPrtP6dEYCbWk8M/5KMLPVoc6L8uATlX3l/ovwqG60AR4Pi/+PvhzQUTA8BSia4d74DrP40ekm3QSc6/fSctTelc0L/s4j3faUT5v4WZI+5PlwBAeXVX1eYDy7/+mdSOBPrjP6yyfm+Ly++/y8ciPC2L378zRivvRYsBwFi/N54nPew/o8Mx68kmu7/90I5IrsDWP2p/aiWm3/C/MQ0gvgh55T+d8iQUZ0b2Pz9SGIjZ2+w/hoJTwdpjyz/F4+f+pFnzv4z51oDG5fw/bROt6fng5b+TAkKmJTPav4lPZIhn98Q/ZmEZzaba+b+cdjZcfXv2P2o/DaCDXuK/1g7weSi97j/P1mWNrrfLv402f5eUQ/i/GWk+1pdg7j+LoUpcmp7xP+G/TkViutq/arN23XVGz7+wX3UVQ8PzPz8x6OrEwve/7JR9JX638b8ACZyF85f0P5cDgsk69PG/FsIe5L3e5r8p2eXt5NDsPwBTxUFBMvE/5dnTVCLi4792DaeFdYbqv6A+0EXXCPs/16t5626Utj/7JJaA4AzWvyWaFy8WRua/P9YxUPOJ4j+J+sXv7a34v1oW7mtGEQTAulnDeo6L7L9QHSE2kr/7v66pnRi7b+a/5QMpAQia27/VOsiBJzPzP8q7MyqRI+W/dhR42Vdk+r+jkW9HIEOrvzz8xVJ3w+Q/MelUHoiQ+T975hocN2Hxv1tQBb92cdy/rjGPCFzL7r9LmQFUPWPWv3pboXcY4OQ/ImAj91AM1z+PwKyHWMzvPybi+gTxqv0/eUVKeinL8b99uOjoCpfqP6YR4WZq4MS/UEtp/9/tAECiHjRHhDvxP32yN2Dnn/e/p2FbXkQV4D94sIVW/OC2v3kdDh7LEMO/konPauSJx79L2Qk8RG7yP3FxqgdZp+K/3TCJsbnE9D+DkfBvij7fPxkxmR6eqeu/+CLw1u55yL8Dc/BBr+b5P8YHUgpzuN0/n/4hcbb/sT/T3gErj4u/P775gJOlGQTAP/Sii1423T+9sxbE6if0v+Cir08dv9+/6H0V2kJT9j+Wfd5BYhTyPyijLIXUS+6/IHudZbo63L+MqKW19kH3P4LwGb9y4rQ/HBaTga850L9qH62FsN/QP5OcNin5Q/w/pMKEtDsU8z91LHyooDbgvw6fMxU6aOI/55y6JKJR6b+W3r7JrpulPyNaONeOquQ/J99ApErIwj9z4QQ3Hxzvv1d//66GMuU/O1YCIlzSwz+Twm6XGwLKv8FfMnaucNc/+h9YA+g4tT+KXpm1K070P88cxKg9g9M///P0gLattj/7+HwvueDqP+K6oT71YOi/kHMEpIvD6j+ih3s3QmPmP0sXAP9ft/W/ROIyLqJa3T9OxC8UPBDxP72hHa5e7PI/Bo63KmSN4j+w1kFWCGvavxqY0s6phfQ/k1SlznGH8T+HI1PpEYrxP2tP4gC2evA/BWFiRki99L9+ztgk7uX2v2uQLGTwmPI/SBlJ29ei3z8NyBTJSIjbP9P/BMnSpai/NibGimyVqr9kMsXsGsfiv/428cybvto/gi0l0jmDvj+rN+XlobsBQKML5rotAeA/XR3QJ0XEtT8SOQXCR4jWvznezVx8t+E/BBI/nn1U8T9gz7V+kIXwPwD5saJfN/U/PeK9TqDh8j82FhAcbmTLP7BHd+FrHPa/OSgYP3wXtT8fb70db/Hsv54YPos7MvE/Vkmsan9guj94VDMqgnTfP8sC2t2aNfU/47rB0Fyeub+YWodUFZHVv6sVdCNoTQDAGMcLluVn8z+Efb18UJ3xv6hzSPV9UvI/fWqiM0pi6z83S8zSQmnqP/7J8EbopNo/K4Nfh1wC1D+IopgSs9jzP+ds0uDM7dK/seK0Yi71uz8oIs4aRDrFv7OHpUATr7O/nX0zJIu33b+gvdY1qoH4P2+bS02s3u2/T3PAXy/zB0Cvd7b3LszEP5Ix2da1H7C/lqyyC3R+uT+hz4LrVHP5P62ShKVE4OC/gQCeSQKtg79JxvTDVBnsv3G4iwKaxeG/MuuFvZU66r98a2kPRK3fv/pwFeGCStC/M2TwHhnDoj9D7fnJ3DbkP9+RKvZJIPI/Yvgn+VGavD+6QvcPEC/vP/g/d8kNY/s/F/7HdFgBAsDz/E5t3EeaP4F7fnHom/K/0J6cItcy0b8tMSksuTfVv/KB8zTSQuk/x4FEZo4E0r8uzCNln3roPw6SDQDpaPO/a8Wv2TL7/7/W0Lb3HwfyPyCzbJko2PG//f+LlvHn6T8tkKFs+N7Ov+jaFzuNXf0/qoWbXZz88L++nKdpwXGRP9sZUqnIi8C/1EAycfmb6j/qK5LUkMPmv32iwBmAxfS/PErCyREo4T+VKgrK5T/bvxfiznzlP+4/sIlaAq121r8tf8aOuJ75P+fHqayiF+k/6X95kAGdp78i3CNAck35P2Jac6yN9rS/y+zuEmKm8T/Xj6Z3ZkXWP2J3Nr9VLOA/KFI6WJAT9r+kUYxe817xP2jpFSn6Lto/2/U8Bdkm8j8c6boAc5bfP5LhwfOFp+W/fg1ktZY/MD+/2QhlC4TjP0eQ1LqrpPE/trLKd2oY9b9TA2m6aLTVvzEHR78vQuU/Sxr7Y3Ld5D8pNE09GZ/3P703G9Ttleq/k1fGgzmo8T+h+9QL9/TjPxNaC3fB9Za/tk12EV9F57+k65raxsHwPz3vJ8mknfe/m+OdzwRd5T9WSnOQKgz5v4F+i2NNaN4/bUNtzHNr2r/RlIfgVhD4P3fFd3+L8O6/ZWnywp524T8RMP3iRq7rPyfyioqCtfs/RxX8Hi7/6T+XX46pNTK7v89P36DaF/O/5ei1yK1Tvz+5VhtvjmjRP0z2qtcoJtU/y6E68AwF1D8S/5vC//zRPwjmXJg2qfk/Ol3KcWX63b8TWY895ffWvw9uopWyS/K/pR7kaxsVz7/vnqXoDbi2v5EqqH1TM/Q/9v/lKzAU8D9HzQmiKmnXv90OmRrKR72/QljVFxXH8b8CiGbEhKD1P7lBkxwKdru/X9bayBkg+b+C40BWKR0FQFqEoZuccfE/CegRTddc6D9ao0zU0RL5vyMjCAn/gcm/yTO4yQ/E6T+c7Y+Rti33Px8cUhY+wfe/Z+miU8cY1T+ciRyV6dPcvyWwA47lOQTAupnVo9pP9T8yE8RP46LzP6ljWSi30eS/De4yY4Bxur856bShLxnyv6ugVcJVVPc//rf+h7d16L8c63OxiwDsvz19pRvvKe8/4RfRE0eV7r+r+359WTkDQHU7zfgEFv0/aAFNVWYx5z/fTKpY2JfiP2F3CHjxw78/DFMc9xp3AMC7sFJvRNrzP5u+NG1Oefe/zakRWm8c9j8/zXoN+YrWP+gTkbNUiNY/UdDjC9H34b8m5W5HY6vlPzD+bzPYlNW/qS2BLZAU8j8VEXgxn0jQv0tflMB3SLu/pSkobdveir+zmoi3dAUBwPd60yRahOO/9u/5mGwd6j8OW9GFZVjjP8B/OSCJzbq/6H18wvQLxD/NW0NWc7mbP6suZ90k4vC/ePROk4XG378w4V3v8I/fP0mrSwz0tuS/f472aNIv6T8=\",\"dtype\":\"float64\",\"shape\":[1000]}},\"selected\":{\"id\":\"11415\",\"type\":\"Selection\"},\"selection_policy\":{\"id\":\"11416\",\"type\":\"UnionRenderers\"}},\"id\":\"11079\",\"type\":\"ColumnDataSource\"},{\"attributes\":{\"fill_alpha\":{\"value\":0.1},\"fill_color\":{\"value\":\"#1f77b4\"},\"line_alpha\":{\"value\":0.1},\"line_color\":{\"value\":\"#1f77b4\"},\"line_width\":{\"value\":2},\"size\":{\"units\":\"screen\",\"value\":10},\"x\":{\"field\":\"__x__values\"},\"y\":{\"field\":\"y\"}},\"id\":\"11082\",\"type\":\"Scatter\"},{\"attributes\":{\"data_source\":{\"id\":\"11079\",\"type\":\"ColumnDataSource\"},\"glyph\":{\"id\":\"11081\",\"type\":\"Scatter\"},\"hover_glyph\":null,\"muted_glyph\":null,\"nonselection_glyph\":{\"id\":\"11082\",\"type\":\"Scatter\"},\"selection_glyph\":null,\"view\":{\"id\":\"11084\",\"type\":\"CDSView\"}},\"id\":\"11083\",\"type\":\"GlyphRenderer\"},{\"attributes\":{\"source\":{\"id\":\"11079\",\"type\":\"ColumnDataSource\"}},\"id\":\"11084\",\"type\":\"CDSView\"},{\"attributes\":{\"fill_color\":{\"value\":\"#1f77b4\"},\"line_width\":{\"value\":2},\"size\":{\"units\":\"screen\",\"value\":10},\"x\":{\"field\":\"__x__values\"},\"y\":{\"field\":\"y\"}},\"id\":\"11081\",\"type\":\"Scatter\"},{\"attributes\":{},\"id\":\"11087\",\"type\":\"BasicTickFormatter\"},{\"attributes\":{},\"id\":\"11089\",\"type\":\"BasicTickFormatter\"},{\"attributes\":{\"bottom_units\":\"screen\",\"fill_alpha\":{\"value\":0.5},\"fill_color\":{\"value\":\"lightgrey\"},\"left_units\":\"screen\",\"level\":\"overlay\",\"line_alpha\":{\"value\":1.0},\"line_color\":{\"value\":\"black\"},\"line_dash\":[4,4],\"line_width\":{\"value\":2},\"render_mode\":\"css\",\"right_units\":\"screen\",\"top_units\":\"screen\"},\"id\":\"11090\",\"type\":\"BoxAnnotation\"},{\"attributes\":{\"click_policy\":\"hide\",\"items\":[{\"id\":\"11092\",\"type\":\"LegendItem\"}]},\"id\":\"11091\",\"type\":\"Legend\"},{\"attributes\":{\"label\":{\"value\":\"Hide/Show\"},\"renderers\":[{\"id\":\"11083\",\"type\":\"GlyphRenderer\"}]},\"id\":\"11092\",\"type\":\"LegendItem\"},{\"attributes\":{\"dimension\":1,\"ticker\":{\"id\":\"11062\",\"type\":\"BasicTicker\"}},\"id\":\"11065\",\"type\":\"Grid\"},{\"attributes\":{\"text\":\"\"},\"id\":\"11046\",\"type\":\"Title\"},{\"attributes\":{},\"id\":\"11062\",\"type\":\"BasicTicker\"},{\"attributes\":{\"callback\":null,\"renderers\":[{\"id\":\"11083\",\"type\":\"GlyphRenderer\"}],\"tooltips\":[[\"A\",\"@__x__values_original\"],[\"B\",\"@y\"]]},\"id\":\"11093\",\"type\":\"HoverTool\"},{\"attributes\":{},\"id\":\"11057\",\"type\":\"BasicTicker\"},{\"attributes\":{\"callback\":null},\"id\":\"11048\",\"type\":\"DataRange1d\"},{\"attributes\":{},\"id\":\"11416\",\"type\":\"UnionRenderers\"},{\"attributes\":{\"callback\":null},\"id\":\"11050\",\"type\":\"DataRange1d\"},{\"attributes\":{},\"id\":\"11054\",\"type\":\"LinearScale\"},{\"attributes\":{},\"id\":\"11052\",\"type\":\"LinearScale\"},{\"attributes\":{},\"id\":\"11066\",\"type\":\"PanTool\"},{\"attributes\":{\"axis_label\":\"A\",\"formatter\":{\"id\":\"11089\",\"type\":\"BasicTickFormatter\"},\"ticker\":{\"id\":\"11057\",\"type\":\"BasicTicker\"}},\"id\":\"11056\",\"type\":\"LinearAxis\"},{\"attributes\":{},\"id\":\"11067\",\"type\":\"WheelZoomTool\"},{\"attributes\":{\"overlay\":{\"id\":\"11090\",\"type\":\"BoxAnnotation\"}},\"id\":\"11068\",\"type\":\"BoxZoomTool\"},{\"attributes\":{\"ticker\":{\"id\":\"11057\",\"type\":\"BasicTicker\"}},\"id\":\"11060\",\"type\":\"Grid\"}],\"root_ids\":[\"11045\"]},\"title\":\"Bokeh Application\",\"version\":\"1.3.4\"}};\n",
       "  var render_items = [{\"docid\":\"d74f7e5e-6180-4707-9ddd-18ce5634ca41\",\"roots\":{\"11045\":\"3d279004-e666-497a-8d95-7ed081e0e4e5\"}}];\n",
       "  root.Bokeh.embed.embed_items_notebook(docs_json, render_items);\n",
       "\n",
       "  }\n",
       "  if (root.Bokeh !== undefined) {\n",
       "    embed_document(root);\n",
       "  } else {\n",
       "    var attempts = 0;\n",
       "    var timer = setInterval(function(root) {\n",
       "      if (root.Bokeh !== undefined) {\n",
       "        embed_document(root);\n",
       "        clearInterval(timer);\n",
       "      }\n",
       "      attempts++;\n",
       "      if (attempts > 100) {\n",
       "        console.log(\"Bokeh: ERROR: Unable to run BokehJS code because BokehJS library is missing\");\n",
       "        clearInterval(timer);\n",
       "      }\n",
       "    }, 10, root)\n",
       "  }\n",
       "})(window);"
      ],
      "application/vnd.bokehjs_exec.v0+json": ""
     },
     "metadata": {
      "application/vnd.bokehjs_exec.v0+json": {
       "id": "11045"
      }
     },
     "output_type": "display_data"
    }
   ],
   "source": [
    "f1 = df.plot.scatter(x=\"A\", y=\"B\", figsize=(200, 200), toolbar_location=None)"
   ]
  },
  {
   "cell_type": "code",
   "execution_count": null,
   "metadata": {},
   "outputs": [],
   "source": []
  },
  {
   "cell_type": "code",
   "execution_count": 77,
   "metadata": {},
   "outputs": [],
   "source": [
    "f2 = df.plot.scatter(x=\"B\", y=\"C\", show_figure=False)"
   ]
  },
  {
   "cell_type": "code",
   "execution_count": 72,
   "metadata": {},
   "outputs": [
    {
     "data": {
      "text/plain": [
       "bokeh.plotting.figure.Figure"
      ]
     },
     "execution_count": 72,
     "metadata": {},
     "output_type": "execute_result"
    }
   ],
   "source": [
    "type(f2)"
   ]
  },
  {
   "cell_type": "code",
   "execution_count": 73,
   "metadata": {},
   "outputs": [],
   "source": [
    "from bokeh.io import show\n",
    "from bokeh.layouts import row, grid"
   ]
  },
  {
   "cell_type": "code",
   "execution_count": 76,
   "metadata": {},
   "outputs": [
    {
     "data": {
      "text/html": [
       "\n",
       "\n",
       "\n",
       "\n",
       "\n",
       "\n",
       "  <div class=\"bk-root\" id=\"63d1ed78-d9b6-4a7e-b53f-3186084155dd\" data-root-id=\"10104\"></div>\n"
      ]
     },
     "metadata": {},
     "output_type": "display_data"
    },
    {
     "data": {
      "application/javascript": [
       "(function(root) {\n",
       "  function embed_document(root) {\n",
       "    \n",
       "  var docs_json = {\"33a05c9d-e36f-4555-b046-6f97941c9a6a\":{\"roots\":{\"references\":[{\"attributes\":{\"children\":[{\"id\":\"9283\",\"subtype\":\"Figure\",\"type\":\"Plot\"},{\"id\":\"9664\",\"subtype\":\"Figure\",\"type\":\"Plot\"}]},\"id\":\"10104\",\"type\":\"Row\"},{\"attributes\":{\"click_policy\":\"hide\",\"items\":[{\"id\":\"9330\",\"type\":\"LegendItem\"}]},\"id\":\"9329\",\"type\":\"Legend\"},{\"attributes\":{},\"id\":\"9307\",\"type\":\"SaveTool\"},{\"attributes\":{},\"id\":\"9689\",\"type\":\"ResetTool\"},{\"attributes\":{\"dimension\":1,\"ticker\":{\"id\":\"9681\",\"type\":\"BasicTicker\"}},\"id\":\"9684\",\"type\":\"Grid\"},{\"attributes\":{\"fill_color\":{\"value\":\"#1f77b4\"},\"line_width\":{\"value\":2},\"size\":{\"units\":\"screen\",\"value\":10},\"x\":{\"field\":\"__x__values\"},\"y\":{\"field\":\"y\"}},\"id\":\"9700\",\"type\":\"Scatter\"},{\"attributes\":{},\"id\":\"9290\",\"type\":\"LinearScale\"},{\"attributes\":{},\"id\":\"9614\",\"type\":\"UnionRenderers\"},{\"attributes\":{\"axis_label\":\"A\",\"formatter\":{\"id\":\"9327\",\"type\":\"BasicTickFormatter\"},\"ticker\":{\"id\":\"9295\",\"type\":\"BasicTicker\"}},\"id\":\"9294\",\"type\":\"LinearAxis\"},{\"attributes\":{\"text\":\"\"},\"id\":\"9665\",\"type\":\"Title\"},{\"attributes\":{},\"id\":\"9686\",\"type\":\"WheelZoomTool\"},{\"attributes\":{},\"id\":\"9295\",\"type\":\"BasicTicker\"},{\"attributes\":{\"ticker\":{\"id\":\"9676\",\"type\":\"BasicTicker\"}},\"id\":\"9679\",\"type\":\"Grid\"},{\"attributes\":{},\"id\":\"9292\",\"type\":\"LinearScale\"},{\"attributes\":{},\"id\":\"9671\",\"type\":\"LinearScale\"},{\"attributes\":{},\"id\":\"9690\",\"type\":\"HelpTool\"},{\"attributes\":{},\"id\":\"9325\",\"type\":\"BasicTickFormatter\"},{\"attributes\":{},\"id\":\"9706\",\"type\":\"BasicTickFormatter\"},{\"attributes\":{\"below\":[{\"id\":\"9675\",\"type\":\"LinearAxis\"}],\"center\":[{\"id\":\"9679\",\"type\":\"Grid\"},{\"id\":\"9684\",\"type\":\"Grid\"},{\"id\":\"9710\",\"type\":\"Legend\"}],\"left\":[{\"id\":\"9680\",\"type\":\"LinearAxis\"}],\"output_backend\":\"webgl\",\"plot_height\":400,\"renderers\":[{\"id\":\"9702\",\"type\":\"GlyphRenderer\"}],\"title\":{\"id\":\"9665\",\"type\":\"Title\"},\"toolbar\":{\"id\":\"9691\",\"type\":\"Toolbar\"},\"x_range\":{\"id\":\"9667\",\"type\":\"DataRange1d\"},\"x_scale\":{\"id\":\"9671\",\"type\":\"LinearScale\"},\"y_range\":{\"id\":\"9669\",\"type\":\"DataRange1d\"},\"y_scale\":{\"id\":\"9673\",\"type\":\"LinearScale\"}},\"id\":\"9664\",\"subtype\":\"Figure\",\"type\":\"Plot\"},{\"attributes\":{\"dimension\":1,\"ticker\":{\"id\":\"9300\",\"type\":\"BasicTicker\"}},\"id\":\"9303\",\"type\":\"Grid\"},{\"attributes\":{\"axis_label\":\"B\",\"formatter\":{\"id\":\"9708\",\"type\":\"BasicTickFormatter\"},\"ticker\":{\"id\":\"9676\",\"type\":\"BasicTicker\"}},\"id\":\"9675\",\"type\":\"LinearAxis\"},{\"attributes\":{\"ticker\":{\"id\":\"9295\",\"type\":\"BasicTicker\"}},\"id\":\"9298\",\"type\":\"Grid\"},{\"attributes\":{\"callback\":null},\"id\":\"9288\",\"type\":\"DataRange1d\"},{\"attributes\":{},\"id\":\"9685\",\"type\":\"PanTool\"},{\"attributes\":{\"callback\":null},\"id\":\"9667\",\"type\":\"DataRange1d\"},{\"attributes\":{},\"id\":\"9681\",\"type\":\"BasicTicker\"},{\"attributes\":{},\"id\":\"9673\",\"type\":\"LinearScale\"},{\"attributes\":{},\"id\":\"9309\",\"type\":\"HelpTool\"},{\"attributes\":{},\"id\":\"9327\",\"type\":\"BasicTickFormatter\"},{\"attributes\":{},\"id\":\"9688\",\"type\":\"SaveTool\"},{\"attributes\":{\"click_policy\":\"hide\",\"items\":[{\"id\":\"9711\",\"type\":\"LegendItem\"}]},\"id\":\"9710\",\"type\":\"Legend\"},{\"attributes\":{\"callback\":null},\"id\":\"9286\",\"type\":\"DataRange1d\"},{\"attributes\":{\"overlay\":{\"id\":\"9709\",\"type\":\"BoxAnnotation\"}},\"id\":\"9687\",\"type\":\"BoxZoomTool\"},{\"attributes\":{},\"id\":\"9676\",\"type\":\"BasicTicker\"},{\"attributes\":{},\"id\":\"9305\",\"type\":\"WheelZoomTool\"},{\"attributes\":{\"source\":{\"id\":\"9698\",\"type\":\"ColumnDataSource\"}},\"id\":\"9703\",\"type\":\"CDSView\"},{\"attributes\":{\"callback\":null,\"data\":{\"__x__values\":{\"__ndarray__\":\"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\",\"dtype\":\"float64\",\"shape\":[1000]},\"__x__values_original\":{\"__ndarray__\":\"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\",\"dtype\":\"float64\",\"shape\":[1000]},\"y\":{\"__ndarray__\":\"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\",\"dtype\":\"float64\",\"shape\":[1000]}},\"selected\":{\"id\":\"10002\",\"type\":\"Selection\"},\"selection_policy\":{\"id\":\"10003\",\"type\":\"UnionRenderers\"}},\"id\":\"9698\",\"type\":\"ColumnDataSource\"},{\"attributes\":{\"callback\":null},\"id\":\"9669\",\"type\":\"DataRange1d\"},{\"attributes\":{\"label\":{\"value\":\"Hide/Show\"},\"renderers\":[{\"id\":\"9702\",\"type\":\"GlyphRenderer\"}]},\"id\":\"9711\",\"type\":\"LegendItem\"},{\"attributes\":{\"callback\":null,\"renderers\":[{\"id\":\"9702\",\"type\":\"GlyphRenderer\"}],\"tooltips\":[[\"B\",\"@__x__values_original\"],[\"C\",\"@y\"]]},\"id\":\"9712\",\"type\":\"HoverTool\"},{\"attributes\":{},\"id\":\"9613\",\"type\":\"Selection\"},{\"attributes\":{\"below\":[{\"id\":\"9294\",\"type\":\"LinearAxis\"}],\"center\":[{\"id\":\"9298\",\"type\":\"Grid\"},{\"id\":\"9303\",\"type\":\"Grid\"},{\"id\":\"9329\",\"type\":\"Legend\"}],\"left\":[{\"id\":\"9299\",\"type\":\"LinearAxis\"}],\"output_backend\":\"webgl\",\"plot_height\":400,\"renderers\":[{\"id\":\"9321\",\"type\":\"GlyphRenderer\"}],\"title\":{\"id\":\"9284\",\"type\":\"Title\"},\"toolbar\":{\"id\":\"9310\",\"type\":\"Toolbar\"},\"x_range\":{\"id\":\"9286\",\"type\":\"DataRange1d\"},\"x_scale\":{\"id\":\"9290\",\"type\":\"LinearScale\"},\"y_range\":{\"id\":\"9288\",\"type\":\"DataRange1d\"},\"y_scale\":{\"id\":\"9292\",\"type\":\"LinearScale\"}},\"id\":\"9283\",\"subtype\":\"Figure\",\"type\":\"Plot\"},{\"attributes\":{},\"id\":\"9300\",\"type\":\"BasicTicker\"},{\"attributes\":{\"bottom_units\":\"screen\",\"fill_alpha\":{\"value\":0.5},\"fill_color\":{\"value\":\"lightgrey\"},\"left_units\":\"screen\",\"level\":\"overlay\",\"line_alpha\":{\"value\":1.0},\"line_color\":{\"value\":\"black\"},\"line_dash\":[4,4],\"line_width\":{\"value\":2},\"render_mode\":\"css\",\"right_units\":\"screen\",\"top_units\":\"screen\"},\"id\":\"9328\",\"type\":\"BoxAnnotation\"},{\"attributes\":{\"source\":{\"id\":\"9317\",\"type\":\"ColumnDataSource\"}},\"id\":\"9322\",\"type\":\"CDSView\"},{\"attributes\":{\"fill_color\":{\"value\":\"#1f77b4\"},\"line_width\":{\"value\":2},\"size\":{\"units\":\"screen\",\"value\":10},\"x\":{\"field\":\"__x__values\"},\"y\":{\"field\":\"y\"}},\"id\":\"9319\",\"type\":\"Scatter\"},{\"attributes\":{\"bottom_units\":\"screen\",\"fill_alpha\":{\"value\":0.5},\"fill_color\":{\"value\":\"lightgrey\"},\"left_units\":\"screen\",\"level\":\"overlay\",\"line_alpha\":{\"value\":1.0},\"line_color\":{\"value\":\"black\"},\"line_dash\":[4,4],\"line_width\":{\"value\":2},\"render_mode\":\"css\",\"right_units\":\"screen\",\"top_units\":\"screen\"},\"id\":\"9709\",\"type\":\"BoxAnnotation\"},{\"attributes\":{},\"id\":\"10003\",\"type\":\"UnionRenderers\"},{\"attributes\":{\"text\":\"\"},\"id\":\"9284\",\"type\":\"Title\"},{\"attributes\":{\"active_drag\":\"auto\",\"active_inspect\":\"auto\",\"active_multi\":null,\"active_scroll\":{\"id\":\"9305\",\"type\":\"WheelZoomTool\"},\"active_tap\":\"auto\",\"tools\":[{\"id\":\"9304\",\"type\":\"PanTool\"},{\"id\":\"9305\",\"type\":\"WheelZoomTool\"},{\"id\":\"9306\",\"type\":\"BoxZoomTool\"},{\"id\":\"9307\",\"type\":\"SaveTool\"},{\"id\":\"9308\",\"type\":\"ResetTool\"},{\"id\":\"9309\",\"type\":\"HelpTool\"},{\"id\":\"9331\",\"type\":\"HoverTool\"}]},\"id\":\"9310\",\"type\":\"Toolbar\"},{\"attributes\":{},\"id\":\"9304\",\"type\":\"PanTool\"},{\"attributes\":{\"callback\":null,\"renderers\":[{\"id\":\"9321\",\"type\":\"GlyphRenderer\"}],\"tooltips\":[[\"A\",\"@__x__values_original\"],[\"B\",\"@y\"]]},\"id\":\"9331\",\"type\":\"HoverTool\"},{\"attributes\":{\"axis_label\":\"B\",\"formatter\":{\"id\":\"9325\",\"type\":\"BasicTickFormatter\"},\"ticker\":{\"id\":\"9300\",\"type\":\"BasicTicker\"}},\"id\":\"9299\",\"type\":\"LinearAxis\"},{\"attributes\":{\"data_source\":{\"id\":\"9698\",\"type\":\"ColumnDataSource\"},\"glyph\":{\"id\":\"9700\",\"type\":\"Scatter\"},\"hover_glyph\":null,\"muted_glyph\":null,\"nonselection_glyph\":{\"id\":\"9701\",\"type\":\"Scatter\"},\"selection_glyph\":null,\"view\":{\"id\":\"9703\",\"type\":\"CDSView\"}},\"id\":\"9702\",\"type\":\"GlyphRenderer\"},{\"attributes\":{\"fill_alpha\":{\"value\":0.1},\"fill_color\":{\"value\":\"#1f77b4\"},\"line_alpha\":{\"value\":0.1},\"line_color\":{\"value\":\"#1f77b4\"},\"line_width\":{\"value\":2},\"size\":{\"units\":\"screen\",\"value\":10},\"x\":{\"field\":\"__x__values\"},\"y\":{\"field\":\"y\"}},\"id\":\"9701\",\"type\":\"Scatter\"},{\"attributes\":{\"axis_label\":\"C\",\"formatter\":{\"id\":\"9706\",\"type\":\"BasicTickFormatter\"},\"ticker\":{\"id\":\"9681\",\"type\":\"BasicTicker\"}},\"id\":\"9680\",\"type\":\"LinearAxis\"},{\"attributes\":{},\"id\":\"10002\",\"type\":\"Selection\"},{\"attributes\":{\"callback\":null,\"data\":{\"__x__values\":{\"__ndarray__\":\"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\",\"dtype\":\"float64\",\"shape\":[1000]},\"__x__values_original\":{\"__ndarray__\":\"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\",\"dtype\":\"float64\",\"shape\":[1000]},\"y\":{\"__ndarray__\":\"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\",\"dtype\":\"float64\",\"shape\":[1000]}},\"selected\":{\"id\":\"9613\",\"type\":\"Selection\"},\"selection_policy\":{\"id\":\"9614\",\"type\":\"UnionRenderers\"}},\"id\":\"9317\",\"type\":\"ColumnDataSource\"},{\"attributes\":{},\"id\":\"9708\",\"type\":\"BasicTickFormatter\"},{\"attributes\":{\"data_source\":{\"id\":\"9317\",\"type\":\"ColumnDataSource\"},\"glyph\":{\"id\":\"9319\",\"type\":\"Scatter\"},\"hover_glyph\":null,\"muted_glyph\":null,\"nonselection_glyph\":{\"id\":\"9320\",\"type\":\"Scatter\"},\"selection_glyph\":null,\"view\":{\"id\":\"9322\",\"type\":\"CDSView\"}},\"id\":\"9321\",\"type\":\"GlyphRenderer\"},{\"attributes\":{\"fill_alpha\":{\"value\":0.1},\"fill_color\":{\"value\":\"#1f77b4\"},\"line_alpha\":{\"value\":0.1},\"line_color\":{\"value\":\"#1f77b4\"},\"line_width\":{\"value\":2},\"size\":{\"units\":\"screen\",\"value\":10},\"x\":{\"field\":\"__x__values\"},\"y\":{\"field\":\"y\"}},\"id\":\"9320\",\"type\":\"Scatter\"},{\"attributes\":{},\"id\":\"9308\",\"type\":\"ResetTool\"},{\"attributes\":{\"label\":{\"value\":\"Hide/Show\"},\"renderers\":[{\"id\":\"9321\",\"type\":\"GlyphRenderer\"}]},\"id\":\"9330\",\"type\":\"LegendItem\"},{\"attributes\":{\"active_drag\":\"auto\",\"active_inspect\":\"auto\",\"active_multi\":null,\"active_scroll\":{\"id\":\"9686\",\"type\":\"WheelZoomTool\"},\"active_tap\":\"auto\",\"tools\":[{\"id\":\"9685\",\"type\":\"PanTool\"},{\"id\":\"9686\",\"type\":\"WheelZoomTool\"},{\"id\":\"9687\",\"type\":\"BoxZoomTool\"},{\"id\":\"9688\",\"type\":\"SaveTool\"},{\"id\":\"9689\",\"type\":\"ResetTool\"},{\"id\":\"9690\",\"type\":\"HelpTool\"},{\"id\":\"9712\",\"type\":\"HoverTool\"}]},\"id\":\"9691\",\"type\":\"Toolbar\"},{\"attributes\":{\"overlay\":{\"id\":\"9328\",\"type\":\"BoxAnnotation\"}},\"id\":\"9306\",\"type\":\"BoxZoomTool\"}],\"root_ids\":[\"10104\"]},\"title\":\"Bokeh Application\",\"version\":\"1.3.4\"}};\n",
       "  var render_items = [{\"docid\":\"33a05c9d-e36f-4555-b046-6f97941c9a6a\",\"roots\":{\"10104\":\"63d1ed78-d9b6-4a7e-b53f-3186084155dd\"}}];\n",
       "  root.Bokeh.embed.embed_items_notebook(docs_json, render_items);\n",
       "\n",
       "  }\n",
       "  if (root.Bokeh !== undefined) {\n",
       "    embed_document(root);\n",
       "  } else {\n",
       "    var attempts = 0;\n",
       "    var timer = setInterval(function(root) {\n",
       "      if (root.Bokeh !== undefined) {\n",
       "        embed_document(root);\n",
       "        clearInterval(timer);\n",
       "      }\n",
       "      attempts++;\n",
       "      if (attempts > 100) {\n",
       "        console.log(\"Bokeh: ERROR: Unable to run BokehJS code because BokehJS library is missing\");\n",
       "        clearInterval(timer);\n",
       "      }\n",
       "    }, 10, root)\n",
       "  }\n",
       "})(window);"
      ],
      "application/vnd.bokehjs_exec.v0+json": ""
     },
     "metadata": {
      "application/vnd.bokehjs_exec.v0+json": {
       "id": "10104"
      }
     },
     "output_type": "display_data"
    }
   ],
   "source": [
    "show(row(f1, f2))"
   ]
  },
  {
   "cell_type": "code",
   "execution_count": null,
   "metadata": {},
   "outputs": [],
   "source": []
  },
  {
   "cell_type": "code",
   "execution_count": null,
   "metadata": {},
   "outputs": [],
   "source": []
  },
  {
   "cell_type": "code",
   "execution_count": null,
   "metadata": {},
   "outputs": [],
   "source": []
  },
  {
   "cell_type": "code",
   "execution_count": null,
   "metadata": {},
   "outputs": [],
   "source": []
  },
  {
   "cell_type": "code",
   "execution_count": null,
   "metadata": {},
   "outputs": [],
   "source": []
  },
  {
   "cell_type": "code",
   "execution_count": null,
   "metadata": {},
   "outputs": [],
   "source": []
  },
  {
   "cell_type": "code",
   "execution_count": null,
   "metadata": {},
   "outputs": [],
   "source": []
  },
  {
   "cell_type": "code",
   "execution_count": null,
   "metadata": {},
   "outputs": [],
   "source": []
  },
  {
   "cell_type": "code",
   "execution_count": null,
   "metadata": {},
   "outputs": [],
   "source": []
  },
  {
   "cell_type": "code",
   "execution_count": null,
   "metadata": {},
   "outputs": [],
   "source": []
  },
  {
   "cell_type": "code",
   "execution_count": null,
   "metadata": {},
   "outputs": [],
   "source": []
  },
  {
   "cell_type": "code",
   "execution_count": null,
   "metadata": {},
   "outputs": [],
   "source": []
  },
  {
   "cell_type": "code",
   "execution_count": null,
   "metadata": {},
   "outputs": [],
   "source": []
  },
  {
   "cell_type": "code",
   "execution_count": null,
   "metadata": {},
   "outputs": [],
   "source": []
  },
  {
   "cell_type": "code",
   "execution_count": null,
   "metadata": {},
   "outputs": [],
   "source": []
  },
  {
   "cell_type": "code",
   "execution_count": null,
   "metadata": {},
   "outputs": [],
   "source": []
  },
  {
   "cell_type": "code",
   "execution_count": null,
   "metadata": {},
   "outputs": [],
   "source": []
  }
 ],
 "metadata": {
  "kernelspec": {
   "display_name": "Python 3",
   "language": "python",
   "name": "python3"
  },
  "language_info": {
   "codemirror_mode": {
    "name": "ipython",
    "version": 3
   },
   "file_extension": ".py",
   "mimetype": "text/x-python",
   "name": "python",
   "nbconvert_exporter": "python",
   "pygments_lexer": "ipython3",
   "version": "3.7.3"
  }
 },
 "nbformat": 4,
 "nbformat_minor": 4
}
