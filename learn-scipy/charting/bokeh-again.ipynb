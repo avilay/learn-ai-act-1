{
 "cells": [
  {
   "cell_type": "code",
   "execution_count": 1,
   "metadata": {},
   "outputs": [],
   "source": [
    "import numpy as np\n",
    "from bokeh.io import output_notebook, show\n",
    "from bokeh.plotting import figure\n",
    "import bokeh"
   ]
  },
  {
   "cell_type": "code",
   "execution_count": 2,
   "metadata": {},
   "outputs": [
    {
     "data": {
      "text/html": [
       "\n",
       "    <div class=\"bk-root\">\n",
       "        <a href=\"https://bokeh.org\" target=\"_blank\" class=\"bk-logo bk-logo-small bk-logo-notebook\"></a>\n",
       "        <span id=\"1001\">Loading BokehJS ...</span>\n",
       "    </div>"
      ]
     },
     "metadata": {},
     "output_type": "display_data"
    },
    {
     "data": {
      "application/javascript": [
       "\n",
       "(function(root) {\n",
       "  function now() {\n",
       "    return new Date();\n",
       "  }\n",
       "\n",
       "  var force = true;\n",
       "\n",
       "  if (typeof root._bokeh_onload_callbacks === \"undefined\" || force === true) {\n",
       "    root._bokeh_onload_callbacks = [];\n",
       "    root._bokeh_is_loading = undefined;\n",
       "  }\n",
       "\n",
       "  var JS_MIME_TYPE = 'application/javascript';\n",
       "  var HTML_MIME_TYPE = 'text/html';\n",
       "  var EXEC_MIME_TYPE = 'application/vnd.bokehjs_exec.v0+json';\n",
       "  var CLASS_NAME = 'output_bokeh rendered_html';\n",
       "\n",
       "  /**\n",
       "   * Render data to the DOM node\n",
       "   */\n",
       "  function render(props, node) {\n",
       "    var script = document.createElement(\"script\");\n",
       "    node.appendChild(script);\n",
       "  }\n",
       "\n",
       "  /**\n",
       "   * Handle when an output is cleared or removed\n",
       "   */\n",
       "  function handleClearOutput(event, handle) {\n",
       "    var cell = handle.cell;\n",
       "\n",
       "    var id = cell.output_area._bokeh_element_id;\n",
       "    var server_id = cell.output_area._bokeh_server_id;\n",
       "    // Clean up Bokeh references\n",
       "    if (id != null && id in Bokeh.index) {\n",
       "      Bokeh.index[id].model.document.clear();\n",
       "      delete Bokeh.index[id];\n",
       "    }\n",
       "\n",
       "    if (server_id !== undefined) {\n",
       "      // Clean up Bokeh references\n",
       "      var cmd = \"from bokeh.io.state import curstate; print(curstate().uuid_to_server['\" + server_id + \"'].get_sessions()[0].document.roots[0]._id)\";\n",
       "      cell.notebook.kernel.execute(cmd, {\n",
       "        iopub: {\n",
       "          output: function(msg) {\n",
       "            var id = msg.content.text.trim();\n",
       "            if (id in Bokeh.index) {\n",
       "              Bokeh.index[id].model.document.clear();\n",
       "              delete Bokeh.index[id];\n",
       "            }\n",
       "          }\n",
       "        }\n",
       "      });\n",
       "      // Destroy server and session\n",
       "      var cmd = \"import bokeh.io.notebook as ion; ion.destroy_server('\" + server_id + \"')\";\n",
       "      cell.notebook.kernel.execute(cmd);\n",
       "    }\n",
       "  }\n",
       "\n",
       "  /**\n",
       "   * Handle when a new output is added\n",
       "   */\n",
       "  function handleAddOutput(event, handle) {\n",
       "    var output_area = handle.output_area;\n",
       "    var output = handle.output;\n",
       "\n",
       "    // limit handleAddOutput to display_data with EXEC_MIME_TYPE content only\n",
       "    if ((output.output_type != \"display_data\") || (!output.data.hasOwnProperty(EXEC_MIME_TYPE))) {\n",
       "      return\n",
       "    }\n",
       "\n",
       "    var toinsert = output_area.element.find(\".\" + CLASS_NAME.split(' ')[0]);\n",
       "\n",
       "    if (output.metadata[EXEC_MIME_TYPE][\"id\"] !== undefined) {\n",
       "      toinsert[toinsert.length - 1].firstChild.textContent = output.data[JS_MIME_TYPE];\n",
       "      // store reference to embed id on output_area\n",
       "      output_area._bokeh_element_id = output.metadata[EXEC_MIME_TYPE][\"id\"];\n",
       "    }\n",
       "    if (output.metadata[EXEC_MIME_TYPE][\"server_id\"] !== undefined) {\n",
       "      var bk_div = document.createElement(\"div\");\n",
       "      bk_div.innerHTML = output.data[HTML_MIME_TYPE];\n",
       "      var script_attrs = bk_div.children[0].attributes;\n",
       "      for (var i = 0; i < script_attrs.length; i++) {\n",
       "        toinsert[toinsert.length - 1].firstChild.setAttribute(script_attrs[i].name, script_attrs[i].value);\n",
       "        toinsert[toinsert.length - 1].firstChild.textContent = bk_div.children[0].textContent\n",
       "      }\n",
       "      // store reference to server id on output_area\n",
       "      output_area._bokeh_server_id = output.metadata[EXEC_MIME_TYPE][\"server_id\"];\n",
       "    }\n",
       "  }\n",
       "\n",
       "  function register_renderer(events, OutputArea) {\n",
       "\n",
       "    function append_mime(data, metadata, element) {\n",
       "      // create a DOM node to render to\n",
       "      var toinsert = this.create_output_subarea(\n",
       "        metadata,\n",
       "        CLASS_NAME,\n",
       "        EXEC_MIME_TYPE\n",
       "      );\n",
       "      this.keyboard_manager.register_events(toinsert);\n",
       "      // Render to node\n",
       "      var props = {data: data, metadata: metadata[EXEC_MIME_TYPE]};\n",
       "      render(props, toinsert[toinsert.length - 1]);\n",
       "      element.append(toinsert);\n",
       "      return toinsert\n",
       "    }\n",
       "\n",
       "    /* Handle when an output is cleared or removed */\n",
       "    events.on('clear_output.CodeCell', handleClearOutput);\n",
       "    events.on('delete.Cell', handleClearOutput);\n",
       "\n",
       "    /* Handle when a new output is added */\n",
       "    events.on('output_added.OutputArea', handleAddOutput);\n",
       "\n",
       "    /**\n",
       "     * Register the mime type and append_mime function with output_area\n",
       "     */\n",
       "    OutputArea.prototype.register_mime_type(EXEC_MIME_TYPE, append_mime, {\n",
       "      /* Is output safe? */\n",
       "      safe: true,\n",
       "      /* Index of renderer in `output_area.display_order` */\n",
       "      index: 0\n",
       "    });\n",
       "  }\n",
       "\n",
       "  // register the mime type if in Jupyter Notebook environment and previously unregistered\n",
       "  if (root.Jupyter !== undefined) {\n",
       "    var events = require('base/js/events');\n",
       "    var OutputArea = require('notebook/js/outputarea').OutputArea;\n",
       "\n",
       "    if (OutputArea.prototype.mime_types().indexOf(EXEC_MIME_TYPE) == -1) {\n",
       "      register_renderer(events, OutputArea);\n",
       "    }\n",
       "  }\n",
       "\n",
       "  \n",
       "  if (typeof (root._bokeh_timeout) === \"undefined\" || force === true) {\n",
       "    root._bokeh_timeout = Date.now() + 5000;\n",
       "    root._bokeh_failed_load = false;\n",
       "  }\n",
       "\n",
       "  var NB_LOAD_WARNING = {'data': {'text/html':\n",
       "     \"<div style='background-color: #fdd'>\\n\"+\n",
       "     \"<p>\\n\"+\n",
       "     \"BokehJS does not appear to have successfully loaded. If loading BokehJS from CDN, this \\n\"+\n",
       "     \"may be due to a slow or bad network connection. Possible fixes:\\n\"+\n",
       "     \"</p>\\n\"+\n",
       "     \"<ul>\\n\"+\n",
       "     \"<li>re-rerun `output_notebook()` to attempt to load from CDN again, or</li>\\n\"+\n",
       "     \"<li>use INLINE resources instead, as so:</li>\\n\"+\n",
       "     \"</ul>\\n\"+\n",
       "     \"<code>\\n\"+\n",
       "     \"from bokeh.resources import INLINE\\n\"+\n",
       "     \"output_notebook(resources=INLINE)\\n\"+\n",
       "     \"</code>\\n\"+\n",
       "     \"</div>\"}};\n",
       "\n",
       "  function display_loaded() {\n",
       "    var el = document.getElementById(\"1001\");\n",
       "    if (el != null) {\n",
       "      el.textContent = \"BokehJS is loading...\";\n",
       "    }\n",
       "    if (root.Bokeh !== undefined) {\n",
       "      if (el != null) {\n",
       "        el.textContent = \"BokehJS \" + root.Bokeh.version + \" successfully loaded.\";\n",
       "      }\n",
       "    } else if (Date.now() < root._bokeh_timeout) {\n",
       "      setTimeout(display_loaded, 100)\n",
       "    }\n",
       "  }\n",
       "\n",
       "\n",
       "  function run_callbacks() {\n",
       "    try {\n",
       "      root._bokeh_onload_callbacks.forEach(function(callback) {\n",
       "        if (callback != null)\n",
       "          callback();\n",
       "      });\n",
       "    } finally {\n",
       "      delete root._bokeh_onload_callbacks\n",
       "    }\n",
       "    console.debug(\"Bokeh: all callbacks have finished\");\n",
       "  }\n",
       "\n",
       "  function load_libs(css_urls, js_urls, callback) {\n",
       "    if (css_urls == null) css_urls = [];\n",
       "    if (js_urls == null) js_urls = [];\n",
       "\n",
       "    root._bokeh_onload_callbacks.push(callback);\n",
       "    if (root._bokeh_is_loading > 0) {\n",
       "      console.debug(\"Bokeh: BokehJS is being loaded, scheduling callback at\", now());\n",
       "      return null;\n",
       "    }\n",
       "    if (js_urls == null || js_urls.length === 0) {\n",
       "      run_callbacks();\n",
       "      return null;\n",
       "    }\n",
       "    console.debug(\"Bokeh: BokehJS not loaded, scheduling load and callback at\", now());\n",
       "    root._bokeh_is_loading = css_urls.length + js_urls.length;\n",
       "\n",
       "    function on_load() {\n",
       "      root._bokeh_is_loading--;\n",
       "      if (root._bokeh_is_loading === 0) {\n",
       "        console.debug(\"Bokeh: all BokehJS libraries/stylesheets loaded\");\n",
       "        run_callbacks()\n",
       "      }\n",
       "    }\n",
       "\n",
       "    function on_error() {\n",
       "      console.error(\"failed to load \" + url);\n",
       "    }\n",
       "\n",
       "    for (var i = 0; i < css_urls.length; i++) {\n",
       "      var url = css_urls[i];\n",
       "      const element = document.createElement(\"link\");\n",
       "      element.onload = on_load;\n",
       "      element.onerror = on_error;\n",
       "      element.rel = \"stylesheet\";\n",
       "      element.type = \"text/css\";\n",
       "      element.href = url;\n",
       "      console.debug(\"Bokeh: injecting link tag for BokehJS stylesheet: \", url);\n",
       "      document.body.appendChild(element);\n",
       "    }\n",
       "\n",
       "    const hashes = {\"https://cdn.bokeh.org/bokeh/release/bokeh-2.0.2.min.js\": \"ufR9RFnRs6lniiaFvtJziE0YeidtAgBRH6ux2oUItHw5WTvE1zuk9uzhUU/FJXDp\", \"https://cdn.bokeh.org/bokeh/release/bokeh-widgets-2.0.2.min.js\": \"8QM/PGWBT+IssZuRcDcjzwIh1mkOmJSoNMmyYDZbCfXJg3Ap1lEvdVgFuSAwhb/J\", \"https://cdn.bokeh.org/bokeh/release/bokeh-tables-2.0.2.min.js\": \"Jm8cH3Rg0P6UeZhVY5cLy1WzKajUT9KImCY+76hEqrcJt59/d8GPvFHjCkYgnSIn\", \"https://cdn.bokeh.org/bokeh/release/bokeh-gl-2.0.2.min.js\": \"Ozhzj+SI7ywm74aOI/UajcWz+C0NjsPunEVyVIrxzYkB+jA+2tUw8x5xJCbVtK5I\"};\n",
       "\n",
       "    for (var i = 0; i < js_urls.length; i++) {\n",
       "      var url = js_urls[i];\n",
       "      var element = document.createElement('script');\n",
       "      element.onload = on_load;\n",
       "      element.onerror = on_error;\n",
       "      element.async = false;\n",
       "      element.src = url;\n",
       "      if (url in hashes) {\n",
       "        element.crossOrigin = \"anonymous\";\n",
       "        element.integrity = \"sha384-\" + hashes[url];\n",
       "      }\n",
       "      console.debug(\"Bokeh: injecting script tag for BokehJS library: \", url);\n",
       "      document.head.appendChild(element);\n",
       "    }\n",
       "  };\n",
       "\n",
       "  function inject_raw_css(css) {\n",
       "    const element = document.createElement(\"style\");\n",
       "    element.appendChild(document.createTextNode(css));\n",
       "    document.body.appendChild(element);\n",
       "  }\n",
       "\n",
       "  \n",
       "  var js_urls = [\"https://cdn.bokeh.org/bokeh/release/bokeh-2.0.2.min.js\", \"https://cdn.bokeh.org/bokeh/release/bokeh-widgets-2.0.2.min.js\", \"https://cdn.bokeh.org/bokeh/release/bokeh-tables-2.0.2.min.js\", \"https://cdn.bokeh.org/bokeh/release/bokeh-gl-2.0.2.min.js\"];\n",
       "  var css_urls = [];\n",
       "  \n",
       "\n",
       "  var inline_js = [\n",
       "    function(Bokeh) {\n",
       "      Bokeh.set_log_level(\"info\");\n",
       "    },\n",
       "    function(Bokeh) {\n",
       "    \n",
       "    \n",
       "    }\n",
       "  ];\n",
       "\n",
       "  function run_inline_js() {\n",
       "    \n",
       "    if (root.Bokeh !== undefined || force === true) {\n",
       "      \n",
       "    for (var i = 0; i < inline_js.length; i++) {\n",
       "      inline_js[i].call(root, root.Bokeh);\n",
       "    }\n",
       "    if (force === true) {\n",
       "        display_loaded();\n",
       "      }} else if (Date.now() < root._bokeh_timeout) {\n",
       "      setTimeout(run_inline_js, 100);\n",
       "    } else if (!root._bokeh_failed_load) {\n",
       "      console.log(\"Bokeh: BokehJS failed to load within specified timeout.\");\n",
       "      root._bokeh_failed_load = true;\n",
       "    } else if (force !== true) {\n",
       "      var cell = $(document.getElementById(\"1001\")).parents('.cell').data().cell;\n",
       "      cell.output_area.append_execute_result(NB_LOAD_WARNING)\n",
       "    }\n",
       "\n",
       "  }\n",
       "\n",
       "  if (root._bokeh_is_loading === 0) {\n",
       "    console.debug(\"Bokeh: BokehJS loaded, going straight to plotting\");\n",
       "    run_inline_js();\n",
       "  } else {\n",
       "    load_libs(css_urls, js_urls, function() {\n",
       "      console.debug(\"Bokeh: BokehJS plotting callback run at\", now());\n",
       "      run_inline_js();\n",
       "    });\n",
       "  }\n",
       "}(window));"
      ],
      "application/vnd.bokehjs_load.v0+json": "\n(function(root) {\n  function now() {\n    return new Date();\n  }\n\n  var force = true;\n\n  if (typeof root._bokeh_onload_callbacks === \"undefined\" || force === true) {\n    root._bokeh_onload_callbacks = [];\n    root._bokeh_is_loading = undefined;\n  }\n\n  \n\n  \n  if (typeof (root._bokeh_timeout) === \"undefined\" || force === true) {\n    root._bokeh_timeout = Date.now() + 5000;\n    root._bokeh_failed_load = false;\n  }\n\n  var NB_LOAD_WARNING = {'data': {'text/html':\n     \"<div style='background-color: #fdd'>\\n\"+\n     \"<p>\\n\"+\n     \"BokehJS does not appear to have successfully loaded. If loading BokehJS from CDN, this \\n\"+\n     \"may be due to a slow or bad network connection. Possible fixes:\\n\"+\n     \"</p>\\n\"+\n     \"<ul>\\n\"+\n     \"<li>re-rerun `output_notebook()` to attempt to load from CDN again, or</li>\\n\"+\n     \"<li>use INLINE resources instead, as so:</li>\\n\"+\n     \"</ul>\\n\"+\n     \"<code>\\n\"+\n     \"from bokeh.resources import INLINE\\n\"+\n     \"output_notebook(resources=INLINE)\\n\"+\n     \"</code>\\n\"+\n     \"</div>\"}};\n\n  function display_loaded() {\n    var el = document.getElementById(\"1001\");\n    if (el != null) {\n      el.textContent = \"BokehJS is loading...\";\n    }\n    if (root.Bokeh !== undefined) {\n      if (el != null) {\n        el.textContent = \"BokehJS \" + root.Bokeh.version + \" successfully loaded.\";\n      }\n    } else if (Date.now() < root._bokeh_timeout) {\n      setTimeout(display_loaded, 100)\n    }\n  }\n\n\n  function run_callbacks() {\n    try {\n      root._bokeh_onload_callbacks.forEach(function(callback) {\n        if (callback != null)\n          callback();\n      });\n    } finally {\n      delete root._bokeh_onload_callbacks\n    }\n    console.debug(\"Bokeh: all callbacks have finished\");\n  }\n\n  function load_libs(css_urls, js_urls, callback) {\n    if (css_urls == null) css_urls = [];\n    if (js_urls == null) js_urls = [];\n\n    root._bokeh_onload_callbacks.push(callback);\n    if (root._bokeh_is_loading > 0) {\n      console.debug(\"Bokeh: BokehJS is being loaded, scheduling callback at\", now());\n      return null;\n    }\n    if (js_urls == null || js_urls.length === 0) {\n      run_callbacks();\n      return null;\n    }\n    console.debug(\"Bokeh: BokehJS not loaded, scheduling load and callback at\", now());\n    root._bokeh_is_loading = css_urls.length + js_urls.length;\n\n    function on_load() {\n      root._bokeh_is_loading--;\n      if (root._bokeh_is_loading === 0) {\n        console.debug(\"Bokeh: all BokehJS libraries/stylesheets loaded\");\n        run_callbacks()\n      }\n    }\n\n    function on_error() {\n      console.error(\"failed to load \" + url);\n    }\n\n    for (var i = 0; i < css_urls.length; i++) {\n      var url = css_urls[i];\n      const element = document.createElement(\"link\");\n      element.onload = on_load;\n      element.onerror = on_error;\n      element.rel = \"stylesheet\";\n      element.type = \"text/css\";\n      element.href = url;\n      console.debug(\"Bokeh: injecting link tag for BokehJS stylesheet: \", url);\n      document.body.appendChild(element);\n    }\n\n    const hashes = {\"https://cdn.bokeh.org/bokeh/release/bokeh-2.0.2.min.js\": \"ufR9RFnRs6lniiaFvtJziE0YeidtAgBRH6ux2oUItHw5WTvE1zuk9uzhUU/FJXDp\", \"https://cdn.bokeh.org/bokeh/release/bokeh-widgets-2.0.2.min.js\": \"8QM/PGWBT+IssZuRcDcjzwIh1mkOmJSoNMmyYDZbCfXJg3Ap1lEvdVgFuSAwhb/J\", \"https://cdn.bokeh.org/bokeh/release/bokeh-tables-2.0.2.min.js\": \"Jm8cH3Rg0P6UeZhVY5cLy1WzKajUT9KImCY+76hEqrcJt59/d8GPvFHjCkYgnSIn\", \"https://cdn.bokeh.org/bokeh/release/bokeh-gl-2.0.2.min.js\": \"Ozhzj+SI7ywm74aOI/UajcWz+C0NjsPunEVyVIrxzYkB+jA+2tUw8x5xJCbVtK5I\"};\n\n    for (var i = 0; i < js_urls.length; i++) {\n      var url = js_urls[i];\n      var element = document.createElement('script');\n      element.onload = on_load;\n      element.onerror = on_error;\n      element.async = false;\n      element.src = url;\n      if (url in hashes) {\n        element.crossOrigin = \"anonymous\";\n        element.integrity = \"sha384-\" + hashes[url];\n      }\n      console.debug(\"Bokeh: injecting script tag for BokehJS library: \", url);\n      document.head.appendChild(element);\n    }\n  };\n\n  function inject_raw_css(css) {\n    const element = document.createElement(\"style\");\n    element.appendChild(document.createTextNode(css));\n    document.body.appendChild(element);\n  }\n\n  \n  var js_urls = [\"https://cdn.bokeh.org/bokeh/release/bokeh-2.0.2.min.js\", \"https://cdn.bokeh.org/bokeh/release/bokeh-widgets-2.0.2.min.js\", \"https://cdn.bokeh.org/bokeh/release/bokeh-tables-2.0.2.min.js\", \"https://cdn.bokeh.org/bokeh/release/bokeh-gl-2.0.2.min.js\"];\n  var css_urls = [];\n  \n\n  var inline_js = [\n    function(Bokeh) {\n      Bokeh.set_log_level(\"info\");\n    },\n    function(Bokeh) {\n    \n    \n    }\n  ];\n\n  function run_inline_js() {\n    \n    if (root.Bokeh !== undefined || force === true) {\n      \n    for (var i = 0; i < inline_js.length; i++) {\n      inline_js[i].call(root, root.Bokeh);\n    }\n    if (force === true) {\n        display_loaded();\n      }} else if (Date.now() < root._bokeh_timeout) {\n      setTimeout(run_inline_js, 100);\n    } else if (!root._bokeh_failed_load) {\n      console.log(\"Bokeh: BokehJS failed to load within specified timeout.\");\n      root._bokeh_failed_load = true;\n    } else if (force !== true) {\n      var cell = $(document.getElementById(\"1001\")).parents('.cell').data().cell;\n      cell.output_area.append_execute_result(NB_LOAD_WARNING)\n    }\n\n  }\n\n  if (root._bokeh_is_loading === 0) {\n    console.debug(\"Bokeh: BokehJS loaded, going straight to plotting\");\n    run_inline_js();\n  } else {\n    load_libs(css_urls, js_urls, function() {\n      console.debug(\"Bokeh: BokehJS plotting callback run at\", now());\n      run_inline_js();\n    });\n  }\n}(window));"
     },
     "metadata": {},
     "output_type": "display_data"
    }
   ],
   "source": [
    "output_notebook()"
   ]
  },
  {
   "cell_type": "markdown",
   "metadata": {},
   "source": [
    "# Bokeh Notes\n",
    "\n",
    "For a good tutorial see /projects/cloned/bokeh-notebooks"
   ]
  },
  {
   "cell_type": "markdown",
   "metadata": {},
   "source": [
    "## Styles\n",
    "\n",
    "### Colors\n",
    "Color reference: https://bokeh.pydata.org/en/latest/docs/reference/colors.html\n",
    "\n",
    "I can use any of the named colors as an argument to functions that accepts colors.\n",
    "\n",
    "### Labels\n",
    "Title for the figure is an argument to the `figure` function.\n",
    "For setting the x- and y-axis labels use `Figure.xaxis.axis_label` and `Figure.yaxis.axis_label`.\n",
    "\n",
    "### Grids\n",
    "By default bokeh charts will always show a grid. To not show the grid use `Figure.xgrid.grid_line_color=None`. I can also change the alpha of the line as `Figure.ygrid.grid_line_alpha=0.8`."
   ]
  },
  {
   "cell_type": "markdown",
   "metadata": {},
   "source": [
    "## Scatter Plots"
   ]
  },
  {
   "cell_type": "code",
   "execution_count": 3,
   "metadata": {},
   "outputs": [],
   "source": [
    "x = np.arange(1, 11)\n",
    "y = np.random.randint(5, 50, x.shape[0]) + np.random.random(x.shape[0])"
   ]
  },
  {
   "cell_type": "code",
   "execution_count": 4,
   "metadata": {},
   "outputs": [
    {
     "name": "stdout",
     "output_type": "stream",
     "text": [
      "[(1, 28.794710363143633), (2, 19.035379920812854), (3, 28.961559277462296), (4, 22.51917672383398), (5, 49.896263877638816), (6, 24.711822940233333), (7, 8.289340374679252), (8, 40.95105518417206), (9, 27.818875019751108), (10, 20.79433792342964)]\n"
     ]
    }
   ],
   "source": [
    "print(list(zip(x, y)))"
   ]
  },
  {
   "cell_type": "code",
   "execution_count": 5,
   "metadata": {},
   "outputs": [
    {
     "data": {
      "text/html": [
       "\n",
       "\n",
       "\n",
       "\n",
       "\n",
       "\n",
       "  <div class=\"bk-root\" id=\"668db89d-4a30-4eee-b89a-af2588a00170\" data-root-id=\"1002\"></div>\n"
      ]
     },
     "metadata": {},
     "output_type": "display_data"
    },
    {
     "data": {
      "application/javascript": [
       "(function(root) {\n",
       "  function embed_document(root) {\n",
       "    \n",
       "  var docs_json = {\"3fca0823-5a45-4c2d-96e2-4fcafd27bf76\":{\"roots\":{\"references\":[{\"attributes\":{\"below\":[{\"id\":\"1011\"}],\"center\":[{\"id\":\"1014\"},{\"id\":\"1018\"}],\"left\":[{\"id\":\"1015\"}],\"plot_height\":400,\"plot_width\":400,\"renderers\":[{\"id\":\"1036\"}],\"title\":{\"id\":\"1038\"},\"toolbar\":{\"id\":\"1026\"},\"x_range\":{\"id\":\"1003\"},\"x_scale\":{\"id\":\"1007\"},\"y_range\":{\"id\":\"1005\"},\"y_scale\":{\"id\":\"1009\"}},\"id\":\"1002\",\"subtype\":\"Figure\",\"type\":\"Plot\"},{\"attributes\":{\"active_drag\":\"auto\",\"active_inspect\":\"auto\",\"active_multi\":null,\"active_scroll\":\"auto\",\"active_tap\":\"auto\",\"tools\":[{\"id\":\"1019\"},{\"id\":\"1020\"},{\"id\":\"1021\"},{\"id\":\"1022\"},{\"id\":\"1023\"},{\"id\":\"1024\"}]},\"id\":\"1026\",\"type\":\"Toolbar\"},{\"attributes\":{\"axis\":{\"id\":\"1015\"},\"dimension\":1,\"ticker\":null},\"id\":\"1018\",\"type\":\"Grid\"},{\"attributes\":{},\"id\":\"1022\",\"type\":\"SaveTool\"},{\"attributes\":{},\"id\":\"1040\",\"type\":\"BasicTickFormatter\"},{\"attributes\":{\"data_source\":{\"id\":\"1033\"},\"glyph\":{\"id\":\"1034\"},\"hover_glyph\":null,\"muted_glyph\":null,\"nonselection_glyph\":{\"id\":\"1035\"},\"selection_glyph\":null,\"view\":{\"id\":\"1037\"}},\"id\":\"1036\",\"type\":\"GlyphRenderer\"},{\"attributes\":{},\"id\":\"1045\",\"type\":\"UnionRenderers\"},{\"attributes\":{},\"id\":\"1003\",\"type\":\"DataRange1d\"},{\"attributes\":{},\"id\":\"1007\",\"type\":\"LinearScale\"},{\"attributes\":{},\"id\":\"1044\",\"type\":\"Selection\"},{\"attributes\":{\"formatter\":{\"id\":\"1042\"},\"ticker\":{\"id\":\"1016\"}},\"id\":\"1015\",\"type\":\"LinearAxis\"},{\"attributes\":{},\"id\":\"1016\",\"type\":\"BasicTicker\"},{\"attributes\":{},\"id\":\"1009\",\"type\":\"LinearScale\"},{\"attributes\":{},\"id\":\"1005\",\"type\":\"DataRange1d\"},{\"attributes\":{\"formatter\":{\"id\":\"1040\"},\"ticker\":{\"id\":\"1012\"}},\"id\":\"1011\",\"type\":\"LinearAxis\"},{\"attributes\":{},\"id\":\"1019\",\"type\":\"PanTool\"},{\"attributes\":{},\"id\":\"1020\",\"type\":\"WheelZoomTool\"},{\"attributes\":{},\"id\":\"1012\",\"type\":\"BasicTicker\"},{\"attributes\":{\"data\":{\"x\":[1,2,3,4,5,6,7,8,9,10],\"y\":{\"__ndarray__\":\"g35rI3LLPECH05KoDgkzQK/dsb8o9jxAHLYJxOiENkC+hVXGuPJIQEDYOAc6tjhAzlHtaySUIEDqWiAtvHlEQKVXFcuh0TtAVRrrulnLNEA=\",\"dtype\":\"float64\",\"shape\":[10]}},\"selected\":{\"id\":\"1044\"},\"selection_policy\":{\"id\":\"1045\"}},\"id\":\"1033\",\"type\":\"ColumnDataSource\"},{\"attributes\":{},\"id\":\"1024\",\"type\":\"HelpTool\"},{\"attributes\":{\"bottom_units\":\"screen\",\"fill_alpha\":0.5,\"fill_color\":\"lightgrey\",\"left_units\":\"screen\",\"level\":\"overlay\",\"line_alpha\":1.0,\"line_color\":\"black\",\"line_dash\":[4,4],\"line_width\":2,\"render_mode\":\"css\",\"right_units\":\"screen\",\"top_units\":\"screen\"},\"id\":\"1025\",\"type\":\"BoxAnnotation\"},{\"attributes\":{\"axis\":{\"id\":\"1011\"},\"ticker\":null},\"id\":\"1014\",\"type\":\"Grid\"},{\"attributes\":{},\"id\":\"1023\",\"type\":\"ResetTool\"},{\"attributes\":{\"fill_alpha\":{\"value\":0.5},\"fill_color\":{\"value\":\"orange\"},\"line_color\":{\"value\":\"navy\"},\"size\":{\"units\":\"screen\",\"value\":15},\"x\":{\"field\":\"x\"},\"y\":{\"field\":\"y\"}},\"id\":\"1034\",\"type\":\"Circle\"},{\"attributes\":{},\"id\":\"1042\",\"type\":\"BasicTickFormatter\"},{\"attributes\":{\"overlay\":{\"id\":\"1025\"}},\"id\":\"1021\",\"type\":\"BoxZoomTool\"},{\"attributes\":{\"fill_alpha\":{\"value\":0.1},\"fill_color\":{\"value\":\"orange\"},\"line_alpha\":{\"value\":0.1},\"line_color\":{\"value\":\"navy\"},\"size\":{\"units\":\"screen\",\"value\":15},\"x\":{\"field\":\"x\"},\"y\":{\"field\":\"y\"}},\"id\":\"1035\",\"type\":\"Circle\"},{\"attributes\":{\"text\":\"\"},\"id\":\"1038\",\"type\":\"Title\"},{\"attributes\":{\"source\":{\"id\":\"1033\"}},\"id\":\"1037\",\"type\":\"CDSView\"}],\"root_ids\":[\"1002\"]},\"title\":\"Bokeh Application\",\"version\":\"2.0.2\"}};\n",
       "  var render_items = [{\"docid\":\"3fca0823-5a45-4c2d-96e2-4fcafd27bf76\",\"root_ids\":[\"1002\"],\"roots\":{\"1002\":\"668db89d-4a30-4eee-b89a-af2588a00170\"}}];\n",
       "  root.Bokeh.embed.embed_items_notebook(docs_json, render_items);\n",
       "\n",
       "  }\n",
       "  if (root.Bokeh !== undefined) {\n",
       "    embed_document(root);\n",
       "  } else {\n",
       "    var attempts = 0;\n",
       "    var timer = setInterval(function(root) {\n",
       "      if (root.Bokeh !== undefined) {\n",
       "        clearInterval(timer);\n",
       "        embed_document(root);\n",
       "      } else {\n",
       "        attempts++;\n",
       "        if (attempts > 100) {\n",
       "          clearInterval(timer);\n",
       "          console.log(\"Bokeh: ERROR: Unable to run BokehJS code because BokehJS library is missing\");\n",
       "        }\n",
       "      }\n",
       "    }, 10, root)\n",
       "  }\n",
       "})(window);"
      ],
      "application/vnd.bokehjs_exec.v0+json": ""
     },
     "metadata": {
      "application/vnd.bokehjs_exec.v0+json": {
       "id": "1002"
      }
     },
     "output_type": "display_data"
    }
   ],
   "source": [
    "p = figure(plot_width=400, plot_height=400)\n",
    "p.circle(x, y, size=15, line_color=\"navy\", fill_color=\"orange\", fill_alpha=0.5)\n",
    "show(p)"
   ]
  },
  {
   "cell_type": "markdown",
   "metadata": {},
   "source": [
    "In the above, `size` parameter is in pixels. I can also use the `radius` parameter, but these will be specified in data space units. This is a bit unintuitive in case of x- and y-axis having very different units, which one will it take? So best to use the `size` param.\n",
    "\n",
    "I can also create Bubble Charts by varying the `size` parameter."
   ]
  },
  {
   "cell_type": "code",
   "execution_count": 6,
   "metadata": {},
   "outputs": [
    {
     "data": {
      "text/plain": [
       "array([11., 14., 18., 17., 13., 20., 12., 15., 10., 16.])"
      ]
     },
     "execution_count": 6,
     "metadata": {},
     "output_type": "execute_result"
    }
   ],
   "source": [
    "z = np.linspace(1000, 2000, 10)\n",
    "np.random.shuffle(z)\n",
    "sizes = z//100\n",
    "sizes"
   ]
  },
  {
   "cell_type": "code",
   "execution_count": 7,
   "metadata": {},
   "outputs": [
    {
     "data": {
      "text/html": [
       "\n",
       "\n",
       "\n",
       "\n",
       "\n",
       "\n",
       "  <div class=\"bk-root\" id=\"a58f9029-5d4f-48cc-8a53-7de3ed92f77b\" data-root-id=\"1101\"></div>\n"
      ]
     },
     "metadata": {},
     "output_type": "display_data"
    },
    {
     "data": {
      "application/javascript": [
       "(function(root) {\n",
       "  function embed_document(root) {\n",
       "    \n",
       "  var docs_json = {\"6a55a916-5d99-47f2-88d5-46b5018a58f9\":{\"roots\":{\"references\":[{\"attributes\":{\"below\":[{\"id\":\"1110\"}],\"center\":[{\"id\":\"1113\"},{\"id\":\"1117\"}],\"left\":[{\"id\":\"1114\"}],\"renderers\":[{\"id\":\"1135\"}],\"title\":{\"id\":\"1146\"},\"toolbar\":{\"id\":\"1125\"},\"x_range\":{\"id\":\"1102\"},\"x_scale\":{\"id\":\"1106\"},\"y_range\":{\"id\":\"1104\"},\"y_scale\":{\"id\":\"1108\"}},\"id\":\"1101\",\"subtype\":\"Figure\",\"type\":\"Plot\"},{\"attributes\":{},\"id\":\"1102\",\"type\":\"DataRange1d\"},{\"attributes\":{\"axis\":{\"id\":\"1110\"},\"ticker\":null},\"id\":\"1113\",\"type\":\"Grid\"},{\"attributes\":{\"fill_color\":{\"value\":\"#1f77b4\"},\"line_color\":{\"value\":\"#1f77b4\"},\"size\":{\"field\":\"size\",\"units\":\"screen\"},\"x\":{\"field\":\"x\"},\"y\":{\"field\":\"y\"}},\"id\":\"1133\",\"type\":\"Circle\"},{\"attributes\":{},\"id\":\"1106\",\"type\":\"LinearScale\"},{\"attributes\":{\"text\":\"\"},\"id\":\"1146\",\"type\":\"Title\"},{\"attributes\":{},\"id\":\"1153\",\"type\":\"UnionRenderers\"},{\"attributes\":{},\"id\":\"1104\",\"type\":\"DataRange1d\"},{\"attributes\":{},\"id\":\"1119\",\"type\":\"WheelZoomTool\"},{\"attributes\":{\"formatter\":{\"id\":\"1148\"},\"ticker\":{\"id\":\"1111\"}},\"id\":\"1110\",\"type\":\"LinearAxis\"},{\"attributes\":{},\"id\":\"1148\",\"type\":\"BasicTickFormatter\"},{\"attributes\":{},\"id\":\"1108\",\"type\":\"LinearScale\"},{\"attributes\":{},\"id\":\"1123\",\"type\":\"HelpTool\"},{\"attributes\":{\"formatter\":{\"id\":\"1150\"},\"ticker\":{\"id\":\"1115\"}},\"id\":\"1114\",\"type\":\"LinearAxis\"},{\"attributes\":{},\"id\":\"1111\",\"type\":\"BasicTicker\"},{\"attributes\":{},\"id\":\"1150\",\"type\":\"BasicTickFormatter\"},{\"attributes\":{\"bottom_units\":\"screen\",\"fill_alpha\":0.5,\"fill_color\":\"lightgrey\",\"left_units\":\"screen\",\"level\":\"overlay\",\"line_alpha\":1.0,\"line_color\":\"black\",\"line_dash\":[4,4],\"line_width\":2,\"render_mode\":\"css\",\"right_units\":\"screen\",\"top_units\":\"screen\"},\"id\":\"1124\",\"type\":\"BoxAnnotation\"},{\"attributes\":{},\"id\":\"1115\",\"type\":\"BasicTicker\"},{\"attributes\":{\"active_drag\":\"auto\",\"active_inspect\":\"auto\",\"active_multi\":null,\"active_scroll\":\"auto\",\"active_tap\":\"auto\",\"tools\":[{\"id\":\"1118\"},{\"id\":\"1119\"},{\"id\":\"1120\"},{\"id\":\"1121\"},{\"id\":\"1122\"},{\"id\":\"1123\"}]},\"id\":\"1125\",\"type\":\"Toolbar\"},{\"attributes\":{\"data\":{\"size\":{\"__ndarray__\":\"AAAAAAAAJkAAAAAAAAAsQAAAAAAAADJAAAAAAAAAMUAAAAAAAAAqQAAAAAAAADRAAAAAAAAAKEAAAAAAAAAuQAAAAAAAACRAAAAAAAAAMEA=\",\"dtype\":\"float64\",\"shape\":[10]},\"x\":[1,2,3,4,5,6,7,8,9,10],\"y\":{\"__ndarray__\":\"g35rI3LLPECH05KoDgkzQK/dsb8o9jxAHLYJxOiENkC+hVXGuPJIQEDYOAc6tjhAzlHtaySUIEDqWiAtvHlEQKVXFcuh0TtAVRrrulnLNEA=\",\"dtype\":\"float64\",\"shape\":[10]}},\"selected\":{\"id\":\"1152\"},\"selection_policy\":{\"id\":\"1153\"}},\"id\":\"1132\",\"type\":\"ColumnDataSource\"},{\"attributes\":{\"axis\":{\"id\":\"1114\"},\"dimension\":1,\"ticker\":null},\"id\":\"1117\",\"type\":\"Grid\"},{\"attributes\":{\"data_source\":{\"id\":\"1132\"},\"glyph\":{\"id\":\"1133\"},\"hover_glyph\":null,\"muted_glyph\":null,\"nonselection_glyph\":{\"id\":\"1134\"},\"selection_glyph\":null,\"view\":{\"id\":\"1136\"}},\"id\":\"1135\",\"type\":\"GlyphRenderer\"},{\"attributes\":{\"source\":{\"id\":\"1132\"}},\"id\":\"1136\",\"type\":\"CDSView\"},{\"attributes\":{},\"id\":\"1122\",\"type\":\"ResetTool\"},{\"attributes\":{},\"id\":\"1152\",\"type\":\"Selection\"},{\"attributes\":{\"fill_alpha\":{\"value\":0.1},\"fill_color\":{\"value\":\"#1f77b4\"},\"line_alpha\":{\"value\":0.1},\"line_color\":{\"value\":\"#1f77b4\"},\"size\":{\"field\":\"size\",\"units\":\"screen\"},\"x\":{\"field\":\"x\"},\"y\":{\"field\":\"y\"}},\"id\":\"1134\",\"type\":\"Circle\"},{\"attributes\":{},\"id\":\"1121\",\"type\":\"SaveTool\"},{\"attributes\":{},\"id\":\"1118\",\"type\":\"PanTool\"},{\"attributes\":{\"overlay\":{\"id\":\"1124\"}},\"id\":\"1120\",\"type\":\"BoxZoomTool\"}],\"root_ids\":[\"1101\"]},\"title\":\"Bokeh Application\",\"version\":\"2.0.2\"}};\n",
       "  var render_items = [{\"docid\":\"6a55a916-5d99-47f2-88d5-46b5018a58f9\",\"root_ids\":[\"1101\"],\"roots\":{\"1101\":\"a58f9029-5d4f-48cc-8a53-7de3ed92f77b\"}}];\n",
       "  root.Bokeh.embed.embed_items_notebook(docs_json, render_items);\n",
       "\n",
       "  }\n",
       "  if (root.Bokeh !== undefined) {\n",
       "    embed_document(root);\n",
       "  } else {\n",
       "    var attempts = 0;\n",
       "    var timer = setInterval(function(root) {\n",
       "      if (root.Bokeh !== undefined) {\n",
       "        clearInterval(timer);\n",
       "        embed_document(root);\n",
       "      } else {\n",
       "        attempts++;\n",
       "        if (attempts > 100) {\n",
       "          clearInterval(timer);\n",
       "          console.log(\"Bokeh: ERROR: Unable to run BokehJS code because BokehJS library is missing\");\n",
       "        }\n",
       "      }\n",
       "    }, 10, root)\n",
       "  }\n",
       "})(window);"
      ],
      "application/vnd.bokehjs_exec.v0+json": ""
     },
     "metadata": {
      "application/vnd.bokehjs_exec.v0+json": {
       "id": "1101"
      }
     },
     "output_type": "display_data"
    }
   ],
   "source": [
    "p = figure()\n",
    "p.circle(x, y, size=sizes)\n",
    "show(p)"
   ]
  },
  {
   "cell_type": "markdown",
   "metadata": {},
   "source": [
    "In addition to circles bokeh has the following marker types:\n",
    "\n",
    "  * asterisk\n",
    "  * circle_cross\n",
    "  * circle_x\n",
    "  * cross\n",
    "  * diamond\n",
    "  * diamond_cross\n",
    "  * hex\n",
    "  * interverted_triangle\n",
    "  * square\n",
    "  * square_cross\n",
    "  * square_x\n",
    "  * triangle\n",
    "  * x"
   ]
  },
  {
   "cell_type": "markdown",
   "metadata": {},
   "source": [
    "## Line Plots"
   ]
  },
  {
   "cell_type": "code",
   "execution_count": 8,
   "metadata": {},
   "outputs": [
    {
     "data": {
      "text/html": [
       "\n",
       "\n",
       "\n",
       "\n",
       "\n",
       "\n",
       "  <div class=\"bk-root\" id=\"36b4b219-7bc8-4501-8398-ea5f240f8c89\" data-root-id=\"1209\"></div>\n"
      ]
     },
     "metadata": {},
     "output_type": "display_data"
    },
    {
     "data": {
      "application/javascript": [
       "(function(root) {\n",
       "  function embed_document(root) {\n",
       "    \n",
       "  var docs_json = {\"cf4bd90e-ecd6-4842-9b89-234457045487\":{\"roots\":{\"references\":[{\"attributes\":{\"below\":[{\"id\":\"1218\"}],\"center\":[{\"id\":\"1221\"},{\"id\":\"1225\"}],\"left\":[{\"id\":\"1222\"}],\"plot_height\":400,\"plot_width\":400,\"renderers\":[{\"id\":\"1243\"}],\"title\":{\"id\":\"1263\"},\"toolbar\":{\"id\":\"1233\"},\"x_range\":{\"id\":\"1210\"},\"x_scale\":{\"id\":\"1214\"},\"y_range\":{\"id\":\"1212\"},\"y_scale\":{\"id\":\"1216\"}},\"id\":\"1209\",\"subtype\":\"Figure\",\"type\":\"Plot\"},{\"attributes\":{\"overlay\":{\"id\":\"1232\"}},\"id\":\"1228\",\"type\":\"BoxZoomTool\"},{\"attributes\":{\"data_source\":{\"id\":\"1240\"},\"glyph\":{\"id\":\"1241\"},\"hover_glyph\":null,\"muted_glyph\":null,\"nonselection_glyph\":{\"id\":\"1242\"},\"selection_glyph\":null,\"view\":{\"id\":\"1244\"}},\"id\":\"1243\",\"type\":\"GlyphRenderer\"},{\"attributes\":{},\"id\":\"1214\",\"type\":\"LinearScale\"},{\"attributes\":{},\"id\":\"1227\",\"type\":\"WheelZoomTool\"},{\"attributes\":{\"source\":{\"id\":\"1240\"}},\"id\":\"1244\",\"type\":\"CDSView\"},{\"attributes\":{},\"id\":\"1270\",\"type\":\"UnionRenderers\"},{\"attributes\":{},\"id\":\"1226\",\"type\":\"PanTool\"},{\"attributes\":{\"formatter\":{\"id\":\"1265\"},\"ticker\":{\"id\":\"1219\"}},\"id\":\"1218\",\"type\":\"LinearAxis\"},{\"attributes\":{\"axis\":{\"id\":\"1222\"},\"dimension\":1,\"ticker\":null},\"id\":\"1225\",\"type\":\"Grid\"},{\"attributes\":{\"text\":\"\"},\"id\":\"1263\",\"type\":\"Title\"},{\"attributes\":{},\"id\":\"1219\",\"type\":\"BasicTicker\"},{\"attributes\":{},\"id\":\"1230\",\"type\":\"ResetTool\"},{\"attributes\":{\"line_alpha\":0.1,\"line_color\":\"#1f77b4\",\"x\":{\"field\":\"x\"},\"y\":{\"field\":\"y\"}},\"id\":\"1242\",\"type\":\"Line\"},{\"attributes\":{},\"id\":\"1229\",\"type\":\"SaveTool\"},{\"attributes\":{\"active_drag\":\"auto\",\"active_inspect\":\"auto\",\"active_multi\":null,\"active_scroll\":\"auto\",\"active_tap\":\"auto\",\"tools\":[{\"id\":\"1226\"},{\"id\":\"1227\"},{\"id\":\"1228\"},{\"id\":\"1229\"},{\"id\":\"1230\"},{\"id\":\"1231\"}]},\"id\":\"1233\",\"type\":\"Toolbar\"},{\"attributes\":{},\"id\":\"1267\",\"type\":\"BasicTickFormatter\"},{\"attributes\":{},\"id\":\"1210\",\"type\":\"DataRange1d\"},{\"attributes\":{},\"id\":\"1223\",\"type\":\"BasicTicker\"},{\"attributes\":{\"formatter\":{\"id\":\"1267\"},\"ticker\":{\"id\":\"1223\"}},\"id\":\"1222\",\"type\":\"LinearAxis\"},{\"attributes\":{},\"id\":\"1216\",\"type\":\"LinearScale\"},{\"attributes\":{},\"id\":\"1231\",\"type\":\"HelpTool\"},{\"attributes\":{},\"id\":\"1265\",\"type\":\"BasicTickFormatter\"},{\"attributes\":{},\"id\":\"1269\",\"type\":\"Selection\"},{\"attributes\":{\"data\":{\"x\":[1,2,3,4,5,6,7,8,9,10],\"y\":{\"__ndarray__\":\"g35rI3LLPECH05KoDgkzQK/dsb8o9jxAHLYJxOiENkC+hVXGuPJIQEDYOAc6tjhAzlHtaySUIEDqWiAtvHlEQKVXFcuh0TtAVRrrulnLNEA=\",\"dtype\":\"float64\",\"shape\":[10]}},\"selected\":{\"id\":\"1269\"},\"selection_policy\":{\"id\":\"1270\"}},\"id\":\"1240\",\"type\":\"ColumnDataSource\"},{\"attributes\":{\"line_color\":\"#1f77b4\",\"x\":{\"field\":\"x\"},\"y\":{\"field\":\"y\"}},\"id\":\"1241\",\"type\":\"Line\"},{\"attributes\":{},\"id\":\"1212\",\"type\":\"DataRange1d\"},{\"attributes\":{\"bottom_units\":\"screen\",\"fill_alpha\":0.5,\"fill_color\":\"lightgrey\",\"left_units\":\"screen\",\"level\":\"overlay\",\"line_alpha\":1.0,\"line_color\":\"black\",\"line_dash\":[4,4],\"line_width\":2,\"render_mode\":\"css\",\"right_units\":\"screen\",\"top_units\":\"screen\"},\"id\":\"1232\",\"type\":\"BoxAnnotation\"},{\"attributes\":{\"axis\":{\"id\":\"1218\"},\"ticker\":null},\"id\":\"1221\",\"type\":\"Grid\"}],\"root_ids\":[\"1209\"]},\"title\":\"Bokeh Application\",\"version\":\"2.0.2\"}};\n",
       "  var render_items = [{\"docid\":\"cf4bd90e-ecd6-4842-9b89-234457045487\",\"root_ids\":[\"1209\"],\"roots\":{\"1209\":\"36b4b219-7bc8-4501-8398-ea5f240f8c89\"}}];\n",
       "  root.Bokeh.embed.embed_items_notebook(docs_json, render_items);\n",
       "\n",
       "  }\n",
       "  if (root.Bokeh !== undefined) {\n",
       "    embed_document(root);\n",
       "  } else {\n",
       "    var attempts = 0;\n",
       "    var timer = setInterval(function(root) {\n",
       "      if (root.Bokeh !== undefined) {\n",
       "        clearInterval(timer);\n",
       "        embed_document(root);\n",
       "      } else {\n",
       "        attempts++;\n",
       "        if (attempts > 100) {\n",
       "          clearInterval(timer);\n",
       "          console.log(\"Bokeh: ERROR: Unable to run BokehJS code because BokehJS library is missing\");\n",
       "        }\n",
       "      }\n",
       "    }, 10, root)\n",
       "  }\n",
       "})(window);"
      ],
      "application/vnd.bokehjs_exec.v0+json": ""
     },
     "metadata": {
      "application/vnd.bokehjs_exec.v0+json": {
       "id": "1209"
      }
     },
     "output_type": "display_data"
    }
   ],
   "source": [
    "p = figure(plot_width=400, plot_height=400)\n",
    "p.line(x, y)\n",
    "show(p)"
   ]
  },
  {
   "cell_type": "markdown",
   "metadata": {},
   "source": [
    "## Timeseries"
   ]
  },
  {
   "cell_type": "code",
   "execution_count": 10,
   "metadata": {},
   "outputs": [
    {
     "data": {
      "text/html": [
       "<div>\n",
       "<style scoped>\n",
       "    .dataframe tbody tr th:only-of-type {\n",
       "        vertical-align: middle;\n",
       "    }\n",
       "\n",
       "    .dataframe tbody tr th {\n",
       "        vertical-align: top;\n",
       "    }\n",
       "\n",
       "    .dataframe thead th {\n",
       "        text-align: right;\n",
       "    }\n",
       "</style>\n",
       "<table border=\"1\" class=\"dataframe\">\n",
       "  <thead>\n",
       "    <tr style=\"text-align: right;\">\n",
       "      <th></th>\n",
       "      <th>isig</th>\n",
       "      <th>glucose</th>\n",
       "    </tr>\n",
       "    <tr>\n",
       "      <th>datetime</th>\n",
       "      <th></th>\n",
       "      <th></th>\n",
       "    </tr>\n",
       "  </thead>\n",
       "  <tbody>\n",
       "    <tr>\n",
       "      <th>2010-03-24 09:51:00</th>\n",
       "      <td>22.59</td>\n",
       "      <td>258</td>\n",
       "    </tr>\n",
       "    <tr>\n",
       "      <th>2010-03-24 09:56:00</th>\n",
       "      <td>22.52</td>\n",
       "      <td>260</td>\n",
       "    </tr>\n",
       "    <tr>\n",
       "      <th>2010-03-24 10:01:00</th>\n",
       "      <td>22.23</td>\n",
       "      <td>258</td>\n",
       "    </tr>\n",
       "    <tr>\n",
       "      <th>2010-03-24 10:06:00</th>\n",
       "      <td>21.56</td>\n",
       "      <td>254</td>\n",
       "    </tr>\n",
       "    <tr>\n",
       "      <th>2010-03-24 10:11:00</th>\n",
       "      <td>20.79</td>\n",
       "      <td>246</td>\n",
       "    </tr>\n",
       "  </tbody>\n",
       "</table>\n",
       "</div>"
      ],
      "text/plain": [
       "                      isig  glucose\n",
       "datetime                           \n",
       "2010-03-24 09:51:00  22.59      258\n",
       "2010-03-24 09:56:00  22.52      260\n",
       "2010-03-24 10:01:00  22.23      258\n",
       "2010-03-24 10:06:00  21.56      254\n",
       "2010-03-24 10:11:00  20.79      246"
      ]
     },
     "execution_count": 10,
     "metadata": {},
     "output_type": "execute_result"
    }
   ],
   "source": [
    "from bokeh.sampledata.glucose import data\n",
    "data.head()"
   ]
  },
  {
   "cell_type": "code",
   "execution_count": 11,
   "metadata": {},
   "outputs": [
    {
     "data": {
      "text/html": [
       "<div>\n",
       "<style scoped>\n",
       "    .dataframe tbody tr th:only-of-type {\n",
       "        vertical-align: middle;\n",
       "    }\n",
       "\n",
       "    .dataframe tbody tr th {\n",
       "        vertical-align: top;\n",
       "    }\n",
       "\n",
       "    .dataframe thead th {\n",
       "        text-align: right;\n",
       "    }\n",
       "</style>\n",
       "<table border=\"1\" class=\"dataframe\">\n",
       "  <thead>\n",
       "    <tr style=\"text-align: right;\">\n",
       "      <th></th>\n",
       "      <th>glucose</th>\n",
       "    </tr>\n",
       "  </thead>\n",
       "  <tbody>\n",
       "    <tr>\n",
       "      <th>count</th>\n",
       "      <td>52281.000000</td>\n",
       "    </tr>\n",
       "    <tr>\n",
       "      <th>mean</th>\n",
       "      <td>137.421912</td>\n",
       "    </tr>\n",
       "    <tr>\n",
       "      <th>std</th>\n",
       "      <td>53.880476</td>\n",
       "    </tr>\n",
       "    <tr>\n",
       "      <th>min</th>\n",
       "      <td>40.000000</td>\n",
       "    </tr>\n",
       "    <tr>\n",
       "      <th>25%</th>\n",
       "      <td>99.000000</td>\n",
       "    </tr>\n",
       "    <tr>\n",
       "      <th>50%</th>\n",
       "      <td>126.000000</td>\n",
       "    </tr>\n",
       "    <tr>\n",
       "      <th>75%</th>\n",
       "      <td>163.000000</td>\n",
       "    </tr>\n",
       "    <tr>\n",
       "      <th>max</th>\n",
       "      <td>400.000000</td>\n",
       "    </tr>\n",
       "  </tbody>\n",
       "</table>\n",
       "</div>"
      ],
      "text/plain": [
       "            glucose\n",
       "count  52281.000000\n",
       "mean     137.421912\n",
       "std       53.880476\n",
       "min       40.000000\n",
       "25%       99.000000\n",
       "50%      126.000000\n",
       "75%      163.000000\n",
       "max      400.000000"
      ]
     },
     "execution_count": 11,
     "metadata": {},
     "output_type": "execute_result"
    }
   ],
   "source": [
    "data.describe()"
   ]
  },
  {
   "cell_type": "code",
   "execution_count": 12,
   "metadata": {},
   "outputs": [
    {
     "name": "stdout",
     "output_type": "stream",
     "text": [
      "<class 'pandas.core.frame.DataFrame'>\n",
      "DatetimeIndex: 52281 entries, 2010-03-24 09:51:00 to 2010-10-10 23:57:00\n",
      "Data columns (total 2 columns):\n",
      " #   Column   Non-Null Count  Dtype \n",
      "---  ------   --------------  ----- \n",
      " 0   isig     52281 non-null  object\n",
      " 1   glucose  52281 non-null  int64 \n",
      "dtypes: int64(1), object(1)\n",
      "memory usage: 1.2+ MB\n"
     ]
    }
   ],
   "source": [
    "data.info()"
   ]
  },
  {
   "cell_type": "code",
   "execution_count": 13,
   "metadata": {},
   "outputs": [
    {
     "data": {
      "text/plain": [
       "(2217, 2)"
      ]
     },
     "execution_count": 13,
     "metadata": {},
     "output_type": "execute_result"
    }
   ],
   "source": [
    "week = data[\"2010-10-01\": \"2010-10-08\"]\n",
    "week.shape"
   ]
  },
  {
   "cell_type": "code",
   "execution_count": 14,
   "metadata": {},
   "outputs": [
    {
     "data": {
      "text/html": [
       "\n",
       "\n",
       "\n",
       "\n",
       "\n",
       "\n",
       "  <div class=\"bk-root\" id=\"61d674d0-a12f-4771-8ffd-ba3a034a2cdd\" data-root-id=\"1326\"></div>\n"
      ]
     },
     "metadata": {},
     "output_type": "display_data"
    },
    {
     "data": {
      "application/javascript": [
       "(function(root) {\n",
       "  function embed_document(root) {\n",
       "    \n",
       "  var docs_json = {\"8e61f938-05ef-45cd-9c05-5053c4920ea2\":{\"roots\":{\"references\":[{\"attributes\":{\"below\":[{\"id\":\"1337\"}],\"center\":[{\"id\":\"1340\"},{\"id\":\"1344\"}],\"left\":[{\"id\":\"1341\"}],\"plot_height\":350,\"plot_width\":800,\"renderers\":[{\"id\":\"1362\"}],\"title\":{\"id\":\"1327\"},\"toolbar\":{\"id\":\"1352\"},\"x_range\":{\"id\":\"1329\"},\"x_scale\":{\"id\":\"1333\"},\"y_range\":{\"id\":\"1331\"},\"y_scale\":{\"id\":\"1335\"}},\"id\":\"1326\",\"subtype\":\"Figure\",\"type\":\"Plot\"},{\"attributes\":{},\"id\":\"1346\",\"type\":\"WheelZoomTool\"},{\"attributes\":{\"days\":[1,8,15,22]},\"id\":\"1404\",\"type\":\"DaysTicker\"},{\"attributes\":{\"line_alpha\":0.1,\"line_color\":\"#1f77b4\",\"x\":{\"field\":\"x\"},\"y\":{\"field\":\"y\"}},\"id\":\"1361\",\"type\":\"Line\"},{\"attributes\":{\"base\":60,\"mantissas\":[1,2,5,10,15,20,30],\"max_interval\":1800000.0,\"min_interval\":1000.0,\"num_minor_ticks\":0},\"id\":\"1400\",\"type\":\"AdaptiveTicker\"},{\"attributes\":{\"bottom_units\":\"screen\",\"fill_alpha\":0.5,\"fill_color\":\"lightgrey\",\"left_units\":\"screen\",\"level\":\"overlay\",\"line_alpha\":1.0,\"line_color\":\"black\",\"line_dash\":[4,4],\"line_width\":2,\"render_mode\":\"css\",\"right_units\":\"screen\",\"top_units\":\"screen\"},\"id\":\"1351\",\"type\":\"BoxAnnotation\"},{\"attributes\":{\"base\":24,\"mantissas\":[1,2,4,6,8,12],\"max_interval\":43200000.0,\"min_interval\":3600000.0,\"num_minor_ticks\":0},\"id\":\"1401\",\"type\":\"AdaptiveTicker\"},{\"attributes\":{\"days\":[1,4,7,10,13,16,19,22,25,28]},\"id\":\"1403\",\"type\":\"DaysTicker\"},{\"attributes\":{\"days\":[1,2,3,4,5,6,7,8,9,10,11,12,13,14,15,16,17,18,19,20,21,22,23,24,25,26,27,28,29,30,31]},\"id\":\"1402\",\"type\":\"DaysTicker\"},{\"attributes\":{\"axis\":{\"id\":\"1341\"},\"dimension\":1,\"grid_line_alpha\":0.5,\"ticker\":null},\"id\":\"1344\",\"type\":\"Grid\"},{\"attributes\":{\"mantissas\":[1,2,5],\"max_interval\":500.0,\"num_minor_ticks\":0},\"id\":\"1399\",\"type\":\"AdaptiveTicker\"},{\"attributes\":{},\"id\":\"1342\",\"type\":\"BasicTicker\"},{\"attributes\":{\"days\":[1,15]},\"id\":\"1405\",\"type\":\"DaysTicker\"},{\"attributes\":{\"axis\":{\"id\":\"1337\"},\"grid_line_color\":null,\"ticker\":null},\"id\":\"1340\",\"type\":\"Grid\"},{\"attributes\":{\"data\":{\"x\":{\"__ndarray__\":\"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\",\"dtype\":\"float64\",\"shape\":[2217]},\"y\":[92,100,108,115,120,124,128,133,137,142,147,152,157,162,167,171,175,179,185,192,200,207,212,215,217,219,218,219,217,216,216,216,215,214,212,211,209,207,204,203,203,203,203,204,203,202,201,200,199,199,197,193,189,185,182,182,183,184,184,182,177,174,172,170,168,167,166,164,162,160,158,155,152,150,147,140,131,124,120,116,114,114,116,118,119,120,120,120,119,117,114,112,112,111,111,112,111,111,110,108,106,106,106,106,104,101,101,103,102,100,99,100,100,99,99,99,100,99,98,97,97,96,92,90,89,86,85,85,84,84,81,80,81,86,99,115,125,130,129,128,123,118,113,111,112,111,109,108,105,101,100,102,107,113,119,125,129,131,129,128,127,127,127,125,122,117,113,108,103,98,93,89,86,85,83,82,81,82,84,87,92,99,107,121,133,142,146,149,150,151,151,152,152,150,148,161,160,158,157,157,157,156,153,149,147,145,144,145,149,154,159,163,164,164,164,163,162,158,154,153,154,155,157,159,158,156,152,148,144,139,134,128,123,121,119,117,115,115,112,109,106,105,103,101,97,93,89,86,85,88,93,100,106,113,119,125,131,137,142,149,159,172,186,197,204,207,208,207,205,202,199,197,193,185,176,178,177,177,176,173,171,170,169,167,166,165,163,163,162,160,156,150,150,150,151,150,150,150,149,149,148,149,147,145,143,139,141,145,147,147,146,145,141,138,136,135,134,133,132,129,124,120,118,112,114,119,123,125,126,127,128,135,143,148,151,153,154,155,156,156,157,157,156,155,154,147,137,131,128,129,131,132,133,135,135,133,131,132,135,138,139,138,136,132,128,126,125,120,113,108,106,105,108,111,113,116,120,120,120,119,118,118,118,118,117,116,113,106,98,93,97,107,115,122,120,113,102,94,95,96,90,88,83,83,85,90,97,98,99,94,89,95,105,111,113,106,95,90,91,96,101,104,109,112,120,123,118,115,123,130,128,130,136,131,121,113,110,108,109,111,115,120,115,108,105,105,104,106,110,111,115,115,117,114,111,107,105,109,111,110,111,115,121,126,135,142,145,147,150,153,156,160,162,161,160,160,159,157,154,152,152,150,143,138,132,128,124,119,112,105,98,92,94,98,106,118,126,128,127,123,123,121,118,115,112,112,114,113,105,78,209,204,214,252,282,290,295,292,284,268,263,262,263,263,262,258,249,236,179,165,157,152,150,149,150,154,158,163,166,166,163,159,158,161,170,176,178,174,170,166,160,156,151,148,147,145,142,141,145,144,144,153,155,152,147,143,145,152,156,157,156,155,155,156,158,158,158,156,152,146,139,139,141,143,145,147,148,149,149,149,148,147,144,140,139,139,138,137,136,135,134,133,134,136,137,136,134,135,139,142,143,141,138,141,145,148,151,152,154,156,155,155,159,163,166,166,166,164,162,160,158,157,155,153,150,150,149,149,149,149,150,152,154,155,155,156,156,157,160,163,165,165,164,163,121,119,117,114,113,112,113,113,113,113,112,113,113,113,114,112,110,109,109,109,108,108,90,90,94,99,107,116,125,130,132,130,124,117,110,103,95,88,81,77,75,63,65,70,73,78,80,80,79,80,83,86,89,94,96,98,104,105,106,106,107,107,109,114,118,121,123,124,123,122,122,123,123,123,124,123,123,124,127,132,137,139,140,140,142,147,152,156,160,165,168,169,169,165,162,160,158,156,154,150,146,144,141,138,136,133,129,124,118,112,107,106,107,108,109,110,111,112,112,113,114,115,116,117,118,119,122,125,128,130,130,131,130,128,126,123,120,116,93,89,86,84,82,79,76,74,72,71,69,70,68,67,66,67,68,69,69,69,68,68,67,66,65,64,63,61,61,60,60,61,63,64,64,64,63,64,65,66,67,67,66,66,67,68,69,71,73,72,71,70,71,72,74,75,76,78,79,80,81,82,84,86,88,88,87,86,85,86,86,86,86,87,87,88,88,88,89,87,83,79,78,82,85,87,88,89,89,89,87,86,88,89,90,89,90,92,91,90,89,88,87,87,89,90,91,92,94,108,110,110,111,111,111,112,113,114,116,116,116,117,119,121,124,127,131,138,145,150,155,161,165,169,173,177,182,185,185,184,189,193,195,198,198,197,196,196,199,202,202,201,202,204,205,205,203,202,201,197,197,198,199,200,199,195,190,184,180,178,179,180,179,176,175,174,172,169,168,167,170,180,191,203,214,219,219,222,227,228,226,223,221,219,219,218,218,219,218,216,214,214,211,208,207,206,206,205,202,199,193,190,187,182,179,176,173,170,167,163,158,152,146,141,135,129,122,114,108,102,97,90,85,81,77,73,68,65,62,61,61,61,61,61,60,59,59,60,61,64,69,75,82,92,104,117,128,137,144,149,153,156,160,164,169,175,180,184,188,191,193,195,196,200,203,207,212,218,223,228,231,234,235,236,327,327,330,333,328,321,316,308,298,287,274,263,255,249,243,239,234,230,225,220,215,210,206,204,204,199,195,190,185,181,177,175,173,171,170,169,169,168,167,166,166,166,163,161,159,158,157,156,154,152,150,149,149,150,150,151,151,152,153,153,153,154,154,154,154,153,152,152,150,149,148,146,145,144,144,143,142,142,141,140,139,137,137,138,136,137,137,136,137,136,134,133,132,132,132,132,132,134,136,138,141,142,142,143,145,150,154,156,158,160,162,164,167,169,172,175,176,175,174,172,170,171,173,178,185,191,198,210,223,235,244,254,265,273,283,290,296,302,307,309,313,316,318,320,322,320,319,317,313,311,306,300,297,294,293,290,287,286,285,282,279,274,271,270,270,269,274,271,267,264,262,259,255,250,244,237,232,227,223,220,215,210,205,199,195,193,197,206,221,239,258,276,291,302,311,318,323,324,322,320,319,320,319,317,314,311,307,302,294,286,280,276,272,267,259,251,245,241,241,241,242,244,245,245,242,237,232,228,225,216,215,216,217,217,215,211,206,202,200,201,203,201,196,188,176,163,149,138,129,119,108,98,89,79,71,66,66,67,67,68,69,71,74,77,79,81,85,91,99,109,119,132,145,157,168,175,179,183,185,188,188,187,184,179,172,163,159,157,155,153,151,149,148,148,148,147,146,145,145,144,143,143,143,144,145,146,145,144,143,142,140,140,140,140,140,143,147,150,152,152,152,154,155,142,140,138,134,131,130,128,127,126,126,126,126,127,129,131,132,134,136,136,136,136,135,134,132,130,130,130,129,128,127,125,124,123,123,122,121,120,118,115,112,111,111,110,110,109,108,107,107,107,108,107,105,105,105,105,104,103,102,99,97,96,94,94,93,93,92,91,92,94,95,96,97,99,102,104,112,112,112,111,110,107,104,105,105,103,99,96,94,95,102,114,128,144,160,173,185,196,205,209,214,219,226,234,241,248,255,260,265,268,270,272,271,271,268,265,261,256,253,250,246,244,241,237,233,229,225,222,204,200,197,193,190,186,182,179,175,171,168,164,158,154,151,148,145,141,133,139,152,173,196,217,233,244,249,250,253,256,260,263,265,265,264,260,254,246,234,217,200,188,181,175,169,164,159,154,147,138,132,129,127,123,117,111,106,104,103,100,94,88,83,78,75,73,71,69,68,67,67,68,70,71,71,70,69,68,67,67,67,66,67,69,71,74,76,78,80,80,80,80,80,80,82,84,87,90,92,87,87,86,86,86,86,87,87,87,85,83,82,83,87,95,107,118,130,141,149,172,179,187,201,214,221,225,230,232,230,223,216,208,199,191,185,181,177,176,177,176,173,171,169,163,154,152,153,154,154,153,151,150,150,150,152,149,147,148,150,152,152,152,151,151,150,149,147,146,143,140,138,136,137,138,140,138,135,132,130,129,129,129,130,130,129,128,128,128,129,129,128,127,126,125,125,125,125,124,124,121,120,120,123,124,123,122,120,115,113,114,114,115,116,115,112,111,111,109,108,107,107,110,113,114,115,115,115,114,113,113,116,119,120,121,121,122,123,124,125,126,126,126,126,126,127,127,125,122,118,115,111,112,115,117,120,124,127,131,137,143,148,153,159,166,172,178,184,191,199,206,212,217,223,229,232,233,235,237,240,241,243,246,247,246,243,240,234,229,225,221,217,216,215,215,215,212,208,203,199,196,194,190,185,180,177,163,158,152,149,153,163,174,182,188,192,195,197,201,204,205,203,199,195,189,184,176,169,162,150,138,128,119,110,100,90,80,73,68,64,63,63,66,68,70,71,72,74,80,94,116,141,164,183,198,210,220,228,233,237,241,247,252,256,260,259,258,256,251,245,238,234,227,221,215,208,207,207,203,201,201,199,179,176,171,163,152,137,119,98,77,61,50,45,47,59,71,86,99,109,116,117,115,111,107,102,96,91,90,94,97,97,95,92,87,84,84,83,84,86,86,86,84,82,82,81,81,82,84,87,89,91,92,94,93,93,94,96,100,101,99,97,96,96,97,97,98,99,101,102,106,114,121,127,130,124,105,109,119,127,129,132,129,126,126,126,126,126,125,124,125,130,130,128,126,126,126,126,126,126,126,127,128,129,129,127,128,136,141,143,141,138,131,129,133,134,130,129,134,137,139,138,130,122,118,115,114,113,113,112,112,117,118,117,118,118,117,117,114,112,115,118,124,126,119,121,122,274,285,293,297,298,298,296,293,289,282,275,267,256,249,242,233,225,217,217,215,203,190,185,193,202,202,194,182,170,143,130,120,110,102,93,80,67,57,52,50,49,49,54,72,93,104,114,125,134,140,145,145,141,136,130,124,118,116,114,112,108,105,102,99,95,91,88,85,83,82,80,79,79,83,86,87,88,89,89,88,88,90,92,88,86,86,86,84,82,84,88,90,94,99,104,107,107,105,104,103,95,94,93,93,93,93,93,94,99,109,122,172,169,164,156,147,137,126,115,104,99,99,103,106,111,115,117,118,120,120,120,120,119,119,118,118,117,116,115,115,116,116,115,115,114,112,109,110,111,111,110,109,109,109,108,107,106,105,101,100,99,99,98,97,97]},\"selected\":{\"id\":\"1396\"},\"selection_policy\":{\"id\":\"1397\"}},\"id\":\"1359\",\"type\":\"ColumnDataSource\"},{\"attributes\":{},\"id\":\"1397\",\"type\":\"UnionRenderers\"},{\"attributes\":{\"text\":\"Glucose Range\"},\"id\":\"1327\",\"type\":\"Title\"},{\"attributes\":{},\"id\":\"1335\",\"type\":\"LinearScale\"},{\"attributes\":{\"months\":[0,1,2,3,4,5,6,7,8,9,10,11]},\"id\":\"1406\",\"type\":\"MonthsTicker\"},{\"attributes\":{},\"id\":\"1350\",\"type\":\"HelpTool\"},{\"attributes\":{},\"id\":\"1396\",\"type\":\"Selection\"},{\"attributes\":{\"months\":[0,2,4,6,8,10]},\"id\":\"1407\",\"type\":\"MonthsTicker\"},{\"attributes\":{},\"id\":\"1392\",\"type\":\"DatetimeTickFormatter\"},{\"attributes\":{\"months\":[0,4,8]},\"id\":\"1408\",\"type\":\"MonthsTicker\"},{\"attributes\":{},\"id\":\"1329\",\"type\":\"DataRange1d\"},{\"attributes\":{},\"id\":\"1333\",\"type\":\"LinearScale\"},{\"attributes\":{},\"id\":\"1349\",\"type\":\"ResetTool\"},{\"attributes\":{},\"id\":\"1394\",\"type\":\"BasicTickFormatter\"},{\"attributes\":{\"months\":[0,6]},\"id\":\"1409\",\"type\":\"MonthsTicker\"},{\"attributes\":{\"overlay\":{\"id\":\"1351\"}},\"id\":\"1347\",\"type\":\"BoxZoomTool\"},{\"attributes\":{\"active_drag\":\"auto\",\"active_inspect\":\"auto\",\"active_multi\":null,\"active_scroll\":\"auto\",\"active_tap\":\"auto\",\"tools\":[{\"id\":\"1345\"},{\"id\":\"1346\"},{\"id\":\"1347\"},{\"id\":\"1348\"},{\"id\":\"1349\"},{\"id\":\"1350\"}]},\"id\":\"1352\",\"type\":\"Toolbar\"},{\"attributes\":{},\"id\":\"1345\",\"type\":\"PanTool\"},{\"attributes\":{},\"id\":\"1331\",\"type\":\"DataRange1d\"},{\"attributes\":{\"num_minor_ticks\":5,\"tickers\":[{\"id\":\"1399\"},{\"id\":\"1400\"},{\"id\":\"1401\"},{\"id\":\"1402\"},{\"id\":\"1403\"},{\"id\":\"1404\"},{\"id\":\"1405\"},{\"id\":\"1406\"},{\"id\":\"1407\"},{\"id\":\"1408\"},{\"id\":\"1409\"},{\"id\":\"1410\"}]},\"id\":\"1338\",\"type\":\"DatetimeTicker\"},{\"attributes\":{},\"id\":\"1410\",\"type\":\"YearsTicker\"},{\"attributes\":{\"axis_label\":\"Time\",\"formatter\":{\"id\":\"1392\"},\"ticker\":{\"id\":\"1338\"}},\"id\":\"1337\",\"type\":\"DatetimeAxis\"},{\"attributes\":{\"line_color\":\"#1f77b4\",\"x\":{\"field\":\"x\"},\"y\":{\"field\":\"y\"}},\"id\":\"1360\",\"type\":\"Line\"},{\"attributes\":{\"data_source\":{\"id\":\"1359\"},\"glyph\":{\"id\":\"1360\"},\"hover_glyph\":null,\"muted_glyph\":null,\"nonselection_glyph\":{\"id\":\"1361\"},\"selection_glyph\":null,\"view\":{\"id\":\"1363\"}},\"id\":\"1362\",\"type\":\"GlyphRenderer\"},{\"attributes\":{},\"id\":\"1348\",\"type\":\"SaveTool\"},{\"attributes\":{\"source\":{\"id\":\"1359\"}},\"id\":\"1363\",\"type\":\"CDSView\"},{\"attributes\":{\"axis_label\":\"Value\",\"formatter\":{\"id\":\"1394\"},\"ticker\":{\"id\":\"1342\"}},\"id\":\"1341\",\"type\":\"LinearAxis\"}],\"root_ids\":[\"1326\"]},\"title\":\"Bokeh Application\",\"version\":\"2.0.2\"}};\n",
       "  var render_items = [{\"docid\":\"8e61f938-05ef-45cd-9c05-5053c4920ea2\",\"root_ids\":[\"1326\"],\"roots\":{\"1326\":\"61d674d0-a12f-4771-8ffd-ba3a034a2cdd\"}}];\n",
       "  root.Bokeh.embed.embed_items_notebook(docs_json, render_items);\n",
       "\n",
       "  }\n",
       "  if (root.Bokeh !== undefined) {\n",
       "    embed_document(root);\n",
       "  } else {\n",
       "    var attempts = 0;\n",
       "    var timer = setInterval(function(root) {\n",
       "      if (root.Bokeh !== undefined) {\n",
       "        clearInterval(timer);\n",
       "        embed_document(root);\n",
       "      } else {\n",
       "        attempts++;\n",
       "        if (attempts > 100) {\n",
       "          clearInterval(timer);\n",
       "          console.log(\"Bokeh: ERROR: Unable to run BokehJS code because BokehJS library is missing\");\n",
       "        }\n",
       "      }\n",
       "    }, 10, root)\n",
       "  }\n",
       "})(window);"
      ],
      "application/vnd.bokehjs_exec.v0+json": ""
     },
     "metadata": {
      "application/vnd.bokehjs_exec.v0+json": {
       "id": "1326"
      }
     },
     "output_type": "display_data"
    }
   ],
   "source": [
    "p = figure(title=\"Glucose Range\", x_axis_type=\"datetime\", plot_height=350, plot_width=800)\n",
    "p.xgrid.grid_line_color=None\n",
    "p.ygrid.grid_line_alpha=0.5\n",
    "p.xaxis.axis_label = \"Time\"\n",
    "p.yaxis.axis_label = \"Value\"\n",
    "p.line(week.index, week.glucose)\n",
    "show(p)"
   ]
  },
  {
   "cell_type": "code",
   "execution_count": 15,
   "metadata": {},
   "outputs": [
    {
     "name": "stdout",
     "output_type": "stream",
     "text": [
      "<class 'dict'>\n",
      "dict_keys(['date', 'open', 'high', 'low', 'close', 'volume', 'adj_close'])\n",
      "3270\n"
     ]
    }
   ],
   "source": [
    "from bokeh.sampledata.stocks import AAPL\n",
    "\n",
    "# This dataset is already in \"columnar\" format.\n",
    "print(type(AAPL))\n",
    "print(AAPL.keys())\n",
    "print(len(AAPL[\"date\"]))"
   ]
  },
  {
   "cell_type": "code",
   "execution_count": 16,
   "metadata": {},
   "outputs": [
    {
     "data": {
      "text/html": [
       "\n",
       "\n",
       "\n",
       "\n",
       "\n",
       "\n",
       "  <div class=\"bk-root\" id=\"b3a282f3-43a5-486c-ba7c-ead821c3fca4\" data-root-id=\"1531\"></div>\n"
      ]
     },
     "metadata": {},
     "output_type": "display_data"
    },
    {
     "data": {
      "application/javascript": [
       "(function(root) {\n",
       "  function embed_document(root) {\n",
       "    \n",
       "  var docs_json = {\"0e152f43-7c4f-4bc0-8920-2997a830d682\":{\"roots\":{\"references\":[{\"attributes\":{\"below\":[{\"id\":\"1542\"}],\"center\":[{\"id\":\"1545\"},{\"id\":\"1549\"}],\"left\":[{\"id\":\"1546\"}],\"renderers\":[{\"id\":\"1567\"}],\"title\":{\"id\":\"1532\"},\"toolbar\":{\"id\":\"1557\"},\"x_range\":{\"id\":\"1534\"},\"x_scale\":{\"id\":\"1538\"},\"y_range\":{\"id\":\"1536\"},\"y_scale\":{\"id\":\"1540\"}},\"id\":\"1531\",\"subtype\":\"Figure\",\"type\":\"Plot\"},{\"attributes\":{\"axis\":{\"id\":\"1546\"},\"dimension\":1,\"ticker\":null},\"id\":\"1549\",\"type\":\"Grid\"},{\"attributes\":{},\"id\":\"1547\",\"type\":\"BasicTicker\"},{\"attributes\":{\"months\":[0,6]},\"id\":\"1634\",\"type\":\"MonthsTicker\"},{\"attributes\":{\"days\":[1,2,3,4,5,6,7,8,9,10,11,12,13,14,15,16,17,18,19,20,21,22,23,24,25,26,27,28,29,30,31]},\"id\":\"1627\",\"type\":\"DaysTicker\"},{\"attributes\":{\"days\":[1,8,15,22]},\"id\":\"1629\",\"type\":\"DaysTicker\"},{\"attributes\":{\"months\":[0,1,2,3,4,5,6,7,8,9,10,11]},\"id\":\"1631\",\"type\":\"MonthsTicker\"},{\"attributes\":{\"months\":[0,2,4,6,8,10]},\"id\":\"1632\",\"type\":\"MonthsTicker\"},{\"attributes\":{\"bottom_units\":\"screen\",\"fill_alpha\":0.5,\"fill_color\":\"lightgrey\",\"left_units\":\"screen\",\"level\":\"overlay\",\"line_alpha\":1.0,\"line_color\":\"black\",\"line_dash\":[4,4],\"line_width\":2,\"render_mode\":\"css\",\"right_units\":\"screen\",\"top_units\":\"screen\"},\"id\":\"1556\",\"type\":\"BoxAnnotation\"},{\"attributes\":{\"active_drag\":\"auto\",\"active_inspect\":\"auto\",\"active_multi\":null,\"active_scroll\":\"auto\",\"active_tap\":\"auto\",\"tools\":[{\"id\":\"1550\"},{\"id\":\"1551\"},{\"id\":\"1552\"},{\"id\":\"1553\"},{\"id\":\"1554\"},{\"id\":\"1555\"}]},\"id\":\"1557\",\"type\":\"Toolbar\"},{\"attributes\":{\"line_color\":\"#1f77b4\",\"x\":{\"field\":\"x\"},\"y\":{\"field\":\"y\"}},\"id\":\"1565\",\"type\":\"Line\"},{\"attributes\":{\"mantissas\":[1,2,5],\"max_interval\":500.0,\"num_minor_ticks\":0},\"id\":\"1624\",\"type\":\"AdaptiveTicker\"},{\"attributes\":{\"text\":\"AAPL\"},\"id\":\"1532\",\"type\":\"Title\"},{\"attributes\":{\"data_source\":{\"id\":\"1564\"},\"glyph\":{\"id\":\"1565\"},\"hover_glyph\":null,\"muted_glyph\":null,\"nonselection_glyph\":{\"id\":\"1566\"},\"selection_glyph\":null,\"view\":{\"id\":\"1568\"}},\"id\":\"1567\",\"type\":\"GlyphRenderer\"},{\"attributes\":{},\"id\":\"1550\",\"type\":\"PanTool\"},{\"attributes\":{\"line_alpha\":0.1,\"line_color\":\"#1f77b4\",\"x\":{\"field\":\"x\"},\"y\":{\"field\":\"y\"}},\"id\":\"1566\",\"type\":\"Line\"},{\"attributes\":{},\"id\":\"1538\",\"type\":\"LinearScale\"},{\"attributes\":{\"days\":[1,4,7,10,13,16,19,22,25,28]},\"id\":\"1628\",\"type\":\"DaysTicker\"},{\"attributes\":{\"days\":[1,15]},\"id\":\"1630\",\"type\":\"DaysTicker\"},{\"attributes\":{},\"id\":\"1551\",\"type\":\"WheelZoomTool\"},{\"attributes\":{\"data\":{\"x\":{\"__ndarray__\":\"AACAp/mza0IAAABznrRrQgAAgD5DtWtCAAAAoTG3a0IAAIBs1rdrQgAAADh7uGtCAACAAyC5a0IAAADPxLlrQgAAgDGzu2tCAAAA/Ve8a0IAAIDI/LxrQgAAAJShvWtCAACAX0a+a0IAAADCNMBrQgAAgI3ZwGtCAAAAWX7Ba0IAAIAkI8JrQgAAAPDHwmtCAACAUrbEa0IAAAAeW8VrQgAAgOn/xWtCAAAAtaTGa0IAAICAScdrQgAAAOM3yWtCAACArtzJa0IAAAB6gcprQgAAgEUmy2tCAAAAEcvLa0IAAIBzuc1rQgAAAD9ezmtCAACACgPPa0IAAADWp89rQgAAgKFM0GtCAAAABDvSa0IAAIDP39JrQgAAAJuE02tCAACAZinUa0IAAICUvNZrQgAAAGBh12tCAACAKwbYa0IAAAD3qthrQgAAgMJP2WtCAAAAJT7ba0IAAIDw4ttrQgAAALyH3GtCAACAhyzda0IAAABT0d1rQgAAgLW/32tCAAAAgWTga0IAAIBMCeFrQgAAABiu4WtCAACA41Lia0IAAABGQeRrQgAAgBHm5GtCAAAA3Yrla0IAAICoL+ZrQgAAAHTU5mtCAACA1sLoa0IAAACiZ+lrQgAAgG0M6mtCAAAAObHqa0IAAIAEVutrQgAAgDLp7WtCAAAA/o3ua0IAAIDJMu9rQgAAAJXX72tCAACA98Xxa0IAAADDavJrQgAAgI4P82tCAAAAWrTza0IAAIAlWfRrQgAAAIhH9mtCAACAU+z2a0IAAAAfkfdrQgAAgOo1+GtCAAAAttr4a0IAAIAYyfprQgAAAORt+2tCAACArxL8a0IAAAB7t/xrQgAAgEZc/WtCAAAAqUr/a0IAAIB07/9rQgAAAECUAGxCAACACzkBbEIAAADX3QFsQgAAgDnMA2xCAACA0BUFbEIAAACcugVsQgAAgGdfBmxCAAAAyk0IbEIAAICV8ghsQgAAAGGXCWxCAACALDwKbEIAAAD44ApsQgAAgFrPDGxCAAAAJnQNbEIAAIDxGA5sQgAAAL29DmxCAACAiGIPbEIAAADrUBFsQgAAgLb1EWxCAAAAgpoSbEIAAIBNPxNsQgAAABnkE2xCAACAe9IVbEIAAABHdxZsQgAAgBIcF2xCAAAA3sAXbEIAAICpZRhsQgAAAAxUGmxCAACA1/gabEIAAACjnRtsQgAAgG5CHGxCAAAAOuccbEIAAICc1R5sQgAAAGh6H2xCAACAMx8gbEIAAAD/wyBsQgAAgMpoIWxCAAAALVcjbEIAAID4+yNsQgAAAMSgJGxCAACAj0UlbEIAAABb6iVsQgAAgL3YJ2xCAAAAiX0obEIAAIBUIilsQgAAACDHKWxCAACA62sqbEIAAIAZ/yxsQgAAAOWjLWxCAACAsEgubEIAAAB87S5sQgAAgN7bMGxCAAAAqoAxbEIAAIB1JTJsQgAAAEHKMmxCAACADG8zbEIAAABvXTVsQgAAgDoCNmxCAAAABqc2bEIAAIDRSzdsQgAAAJ3wN2xCAACA/945bEIAAADLgzpsQgAAgJYoO2xCAAAAYs07bEIAAIAtcjxsQgAAAJBgPmxCAACAWwU/bEIAAAAnqj9sQgAAgPJOQGxCAAAAvvNAbEIAAIAg4kJsQgAAAOyGQ2xCAACAtytEbEIAAACD0ERsQgAAgE51RWxCAAAAsWNHbEIAAIB8CEhsQgAAAEitSGxCAACAE1JJbEIAAADf9klsQgAAgEHlS2xCAAAADYpMbEIAAIDYLk1sQgAAAKTTTWxCAACAb3hObEIAAADSZlBsQgAAgJ0LUWxCAAAAabBRbEIAAIA0VVJsQgAAAAD6UmxCAACAYuhUbEIAAAAujVVsQgAAgPkxVmxCAAAAxdZWbEIAAICQe1dsQgAAAPNpWWxCAACAvg5abEIAAACKs1psQgAAgFVYW2xCAAAAIf1bbEIAAICD611sQgAAAE+QXmxCAACAGjVfbEIAAICxfmBsQgAAABRtYmxCAACA3xFjbEIAAACrtmNsQgAAgHZbZGxCAAAAQgBlbEIAAICk7mZsQgAAAHCTZ2xCAACAOzhobEIAAAAH3WhsQgAAgNKBaWxCAAAANXBrbEIAAIAAFWxsQgAAAMy5bGxCAACAl15tbEIAAABjA25sQgAAgMXxb2xCAAAAkZZwbEIAAIBcO3FsQgAAACjgcWxCAACA84RybEIAAIAhGHVsQgAAAO28dWxCAACAuGF2bEIAAACEBndsQgAAALKZeWxCAACAfT56bEIAAABJ43psQgAAgBSIe2xCAAAAd3Z9bEIAAIBCG35sQgAAAA7AfmxCAACA2WR/bEIAAAClCYBsQgAAANOcgmxCAACAnkGDbEIAAABq5oNsQgAAgDWLhGxCAAAAmHmGbEIAAIBjHodsQgAAAC/Dh2xCAACA+meIbEIAAADGDIlsQgAAgCj7imxCAAAA9J+LbEIAAIC/RIxsQgAAAIvpjGxCAACAVo6NbEIAAAC5fI9sQgAAgIQhkGxCAAAAUMaQbEIAAIAba5FsQgAAAOcPkmxCAACASf6TbEIAAAAVo5RsQgAAgOBHlWxCAAAArOyVbEIAAIB3kZZsQgAAgKUkmWxCAAAAccmZbEIAAIA8bppsQgAAAAgTm2xCAACAagGdbEIAAAA2pp1sQgAAgAFLnmxCAAAAze+ebEIAAICYlJ9sQgAAAPuCoWxCAACAxieibEIAAACSzKJsQgAAgF1xo2xCAAAAKRakbEIAAICLBKZsQgAAAFeppmxCAACAIk6nbEIAAADu8qdsQgAAgLmXqGxCAAAAHIaqbEIAAIDnKqtsQgAAALPPq2xCAACAfnSsbEIAAABKGa1sQgAAgKwHr2xCAAAAeKyvbEIAAIBDUbBsQgAAAA/2sGxCAACA2pqxbEIAAAA9ibNsQgAAgAgutGxCAAAA1NK0bEIAAICfd7VsQgAAAGsctmxCAACAzQq4bEIAAACZr7hsQgAAgGRUuWxCAAAAMPm5bEIAAABejLxsQgAAgCkxvWxCAAAA9dW9bEIAAIDAer5sQgAAAIwfv2xCAACA7g3BbEIAAAC6ssFsQgAAgIVXwmxCAAAAUfzCbEIAAIAcocNsQgAAAH+PxWxCAACASjTGbEIAAAAW2cZsQgAAgOF9x2xCAAAArSLIbEIAAIAPEcpsQgAAANu1ymxCAACAplrLbEIAAABy/8tsQgAAgD2kzGxCAAAAoJLObEIAAIBrN89sQgAAADfcz2xCAACAAoHQbEIAAADOJdFsQgAAgDAU02xCAAAA/LjTbEIAAIDHXdRsQgAAAJMC1WxCAACAXqfVbEIAAICMOthsQgAAAFjf2GxCAACAI4TZbEIAAADvKNpsQgAAgFEX3GxCAAAAHbzcbEIAAIDoYN1sQgAAALQF3mxCAACAf6rebEIAAADimOBsQgAAgK094WxCAAAAeeLhbEIAAIBEh+JsQgAAABAs42xCAACAchrlbEIAAAA+v+VsQgAAgAlk5mxCAAAA1QjnbEIAAICgredsQgAAAAOc6WxCAACAzkDqbEIAAACa5epsQgAAgGWK62xCAAAAMS/sbEIAAICTHe5sQgAAAF/C7mxCAAAA9gvwbEIAAIDBsPBsQgAAACSf8mxCAACA70PzbEIAAAC76PNsQgAAgIaN9GxCAAAAUjL1bEIAAIC0IPdsQgAAAIDF92xCAACAS2r4bEIAAAAXD/lsQgAAgOKz+WxCAAAARaL7bEIAAIAQR/xsQgAAANzr/GxCAACAp5D9bEIAAABzNf5sQgAAgNUjAG1CAAAAocgAbUIAAIBsbQFtQgAAADgSAm1CAACAA7cCbUIAAABmpQRtQgAAgDFKBW1CAAAA/e4FbUIAAIDIkwZtQgAAAJQ4B21CAACA9iYJbUIAAADCywltQgAAgI1wCm1CAAAAWRULbUIAAIAkugttQgAAAIeoDW1CAACAUk0ObUIAAAAe8g5tQgAAgOmWD21CAAAAtTsQbUIAAIAXKhJtQgAAAOPOEm1CAACArnMTbUIAAAB6GBRtQgAAgEW9FG1CAACAc1AXbUIAAAA/9RdtQgAAgAqaGG1CAAAA1j4ZbUIAAIA4LRttQgAAAMmuH21CAACAlFMgbUIAAABg+CBtQgAAgCudIW1CAAAA90EibUIAAIBZMCRtQgAAACXVJG1CAACA8HklbUIAAAC8HiZtQgAAgIfDJm1CAAAA6rEobUIAAIC1ViltQgAAAIH7KW1CAACATKAqbUIAAAAYRSttQgAAgHozLW1CAAAARtgtbUIAAIARfS5tQgAAAN0hL21CAACAqMYvbUIAAAALtTFtQgAAgNZZMm1CAAAAov4ybUIAAIBtozNtQgAAADlING1CAACAmzY2bUIAAABn2zZtQgAAgDKAN21CAAAA/iQ4bUIAAIDJyThtQgAAACy4Om1CAACA91w7bUIAAADDATxtQgAAgI6mPG1CAAAAWks9bUIAAIC8OT9tQgAAAIjeP21CAACAU4NAbUIAAAAfKEFtQgAAgOrMQW1CAAAATbtDbUIAAIAYYERtQgAAAOQERW1CAACAr6lFbUIAAAB7TkZtQgAAgN08SG1CAAAAqeFIbUIAAIB0hkltQgAAgAvQSm1CAAAAbr5MbUIAAIA5Y01tQgAAAAUITm1CAACA0KxObUIAAACcUU9tQgAAgP4/UW1CAAAAyuRRbUIAAICViVJtQgAAAGEuU21CAACALNNTbUIAAACPwVVtQgAAgFpmVm1CAAAAJgtXbUIAAIDxr1dtQgAAAL1UWG1CAACAH0NabUIAAADr51ptQgAAgLaMW21CAAAAgjFcbUIAAIBN1lxtQgAAALDEXm1CAAAARw5gbUIAAIASs2BtQgAAAN5XYW1CAACAQEZjbUIAAIDXj2RtQgAAAKM0ZW1CAACAbtllbUIAAADRx2dtQgAAgJxsaG1CAAAAaBFpbUIAAIAztmltQgAAAP9aam1CAACAYUlsbUIAAAAt7mxtQgAAgPiSbW1CAAAAxDdubUIAAICP3G5tQgAAgL1vcW1CAAAAiRRybUIAAIBUuXJtQgAAACBec21CAACAgkx1bUIAAABO8XVtQgAAgBmWdm1CAAAA5Tp3bUIAAICw33dtQgAAABPOeW1CAACA3nJ6bUIAAACqF3ttQgAAgHW8e21CAAAAQWF8bUIAAICjT35tQgAAAG/0fm1CAACAOpl/bUIAAAAGPoBtQgAAgNHigG1CAACA/3WDbUIAAADLGoRtQgAAgJa/hG1CAAAAYmSFbUIAAIDEUodtQgAAAJD3h21CAACAW5yIbUIAAAAnQYltQgAAgPLliW1CAAAAVdSLbUIAAIAgeYxtQgAAAOwdjW1CAACAt8KNbUIAAACDZ45tQgAAgOVVkG1CAAAAsfqQbUIAAIB8n5FtQgAAAEhEkm1CAACAE+mSbUIAAAB215RtQgAAgEF8lW1CAAAADSGWbUIAAIDYxZZtQgAAAKRql21CAACABlmZbUIAAADS/ZltQgAAgJ2imm1CAAAAaUebbUIAAACX2p1tQgAAgGJ/nm1CAAAALiSfbUIAAID5yJ9tQgAAAMVtoG1CAACAJ1yibUIAAADzAKNtQgAAgL6lo21CAAAAikqkbUIAAIBV76RtQgAAALjdpm1CAACAg4KnbUIAAABPJ6htQgAAgBrMqG1CAAAA5nCpbUIAAIBIX6ttQgAAABQErG1CAACA36isbUIAAACrTa1tQgAAgHbyrW1CAAAA2eCvbUIAAICkhbBtQgAAAHAqsW1CAACAO8+xbUIAAAAHdLJtQgAAgGlitG1CAAAANQe1bUIAAIAArLVtQgAAAMxQtm1CAACAl/W2bUIAAAD647htQgAAgMWIuW1CAAAAkS26bUIAAIBc0rptQgAAACh3u21CAACAimW9bUIAAABWCr5tQgAAgCGvvm1CAAAA7VO/bUIAAIC4+L9tQgAAgOaLwm1CAAAAsjDDbUIAAIB91cNtQgAAAEl6xG1CAACAq2jGbUIAAAB3DcdtQgAAgEKyx21CAAAADlfIbUIAAIDZ+8htQgAAADzqym1CAACAB4/LbUIAAADTM8xtQgAAgJ7YzG1CAAAAan3NbUIAAIDMa89tQgAAAJgQ0G1CAACAY7XQbUIAAAAvWtFtQgAAgPr+0W1CAAAAXe3TbUIAAIAoktRtQgAAAPQ21W1CAACAv9vVbUIAAACLgNZtQgAAgO1u2G1CAAAAuRPZbUIAAICEuNltQgAAgBsC221CAAAAfvDcbUIAAIBJld1tQgAAABU63m1CAACA4N7ebUIAAACsg99tQgAAgA5y4W1CAAAA2hbibUIAAIClu+JtQgAAAHFg421CAACAPAXkbUIAAACf8+VtQgAAgGqY5m1CAAAANj3nbUIAAIAB4udtQgAAAM2G6G1CAACAL3XqbUIAAAD7GettQgAAgMa+621CAAAAkmPsbUIAAIBdCO1tQgAAAMD27m1CAACAi5vvbUIAAABXQPBtQgAAgCLl8G1CAAAA7onxbUIAAIBQePNtQgAAABwd9G1CAACA58H0bUIAAACzZvVtQgAAgH4L9m1CAAAA4fn3bUIAAICsnvhtQgAAAHhD+W1CAACAQ+j5bUIAAAAPjfptQgAAgHF7/G1CAAAAPSD9bUIAAIAIxf1tQgAAANRp/m1CAACAnw7/bUIAAIDNoQFuQgAAAJlGAm5CAACAZOsCbkIAAAAwkANuQgAAgJJ+BW5CAAAAXiMGbkIAAIApyAZuQgAAAPVsB25CAACAwBEIbkIAAAAjAApuQgAAgO6kCm5CAAAAukkLbkIAAICF7gtuQgAAAFGTDG5CAACAs4EObkIAAAB/Jg9uQgAAgErLD25CAAAAFnAQbkIAAIDhFBFuQgAAAEQDE25CAACAD6gTbkIAAADbTBRuQgAAgKbxFG5CAAAAcpYVbkIAAIDUhBduQgAAAKApGG5CAACAa84YbkIAAAA3cxluQgAAgAIYGm5CAAAAZQYcbkIAAIAwqxxuQgAAAPxPHW5CAACAx/QdbkIAAACTmR5uQgAAgPWHIG5CAAAAwSwhbkIAAICM0SFuQgAAAFh2Im5CAACAIxsjbkIAAACGCSVuQgAAgFGuJW5CAAAAHVMmbkIAAIDo9yZuQgAAALScJ25CAACAFospbkIAAADiLypuQgAAgK3UKm5CAAAAeXkrbkIAAIBEHixuQgAAAKcMLm5CAACAcrEubkIAAAA+Vi9uQgAAgAn7L25CAAAA1Z8wbkIAAIA3jjJuQgAAAAMzM25CAACAztczbkIAAACafDRuQgAAgGUhNW5CAAAAyA83bkIAAICTtDduQgAAAF9ZOG5CAAAA9qI5bkIAAIBYkTtuQgAAACQ2PG5CAACA79o8bkIAAAC7fz1uQgAAgIYkPm5CAAAA6RJAbkIAAIC0t0BuQgAAAIBcQW5CAACASwFCbkIAAAAXpkJuQgAAgHmURG5CAAAARTlFbkIAAIAQ3kVuQgAAANyCRm5CAACApydHbkIAAAAKFkluQgAAgNW6SW5CAACAbARLbkIAAAA4qUtuQgAAgJqXTW5CAAAAZjxObkIAAAD9hU9uQgAAgMgqUG5CAAAAKxlSbkIAAID2vVJuQgAAAMJiU25CAACAjQdUbkIAAABZrFRuQgAAgLuaVm5CAAAAhz9XbkIAAIBS5FduQgAAAB6JWG5CAACA6S1ZbkIAAIAXwVtuQgAAAONlXG5CAACArgpdbkIAAAB6r11uQgAAgNydX25CAAAAqEJgbkIAAIBz52BuQgAAAD+MYW5CAACACjFibkIAAABtH2RuQgAAgDjEZG5CAAAABGllbkIAAIDPDWZuQgAAAJuyZm5CAACA/aBobkIAAADJRWluQgAAgJTqaW5CAAAAYI9qbkIAAIArNGtuQgAAgFnHbW5CAAAAJWxubkIAAIDwEG9uQgAAALy1b25CAACAHqRxbkIAAADqSHJuQgAAgLXtcm5CAAAAgZJzbkIAAIBMN3RuQgAAAK8ldm5CAACAesp2bkIAAABGb3duQgAAgBEUeG5CAAAA3bh4bkIAAIA/p3puQgAAAAtMe25CAACA1vB7bkIAAACilXxuQgAAgG06fW5CAAAA0Ch/bkIAAICbzX9uQgAAAGdygG5CAACAMheBbkIAAAD+u4FuQgAAgGCqg25CAAAALE+EbkIAAID384RuQgAAAMOYhW5CAACAjj2GbkIAAADxK4huQgAAgLzQiG5CAAAAiHWJbkIAAIBTGopuQgAAAB+/im5CAACAga2MbkIAAABNUo1uQgAAgBj3jW5CAAAA5JuObkIAAICvQI9uQgAAABIvkW5CAACA3dORbkIAAACpeJJuQgAAgHQdk25CAACAorCVbkIAAABuVZZuQgAAgDn6lm5CAAAABZ+XbkIAAIDQQ5huQgAAADMymm5CAACA/taabkIAAADKe5tuQgAAgJUgnG5CAAAAYcWcbkIAAIDDs55uQgAAAI9Yn25CAACAWv2fbkIAAAAmoqBuQgAAgPFGoW5CAAAAVDWjbkIAAIAf2qNuQgAAAOt+pG5CAACAtiOlbkIAAACCyKVuQgAAgOS2p25CAAAAsFuobkIAAIB7AKluQgAAAEelqW5CAACAEkqqbkIAAIBA3axuQgAAAAyCrW5CAACA1yaubkIAAACjy65uQgAAgAW6sG5CAAAA0V6xbkIAAICcA7JuQgAAAGiosm5CAACAM02zbkIAAACWO7VuQgAAgGHgtW5CAAAALYW2bkIAAID4KbduQgAAAMTOt25CAACAJr25bkIAAADyYbpuQgAAgL0Gu25CAAAAiau7bkIAAIBUULxuQgAAALc+vm5CAACAguO+bkIAAABOiL9uQgAAgBktwG5CAAAA5dHAbkIAAIBHwMJuQgAAABNlw25CAACA3gnEbkIAAACqrsRuQgAAANhBx25CAACAo+bHbkIAAABvi8huQgAAgDowyW5CAAAABtXJbkIAAIBow8tuQgAAADRozG5CAACA/wzNbkIAAADLsc1uQgAAgJZWzm5CAAAA+UTQbkIAAIDE6dBuQgAAAJCO0W5CAACAWzPSbkIAAAAn2NJuQgAAgInG1G5CAAAAVWvVbkIAAIAgENZuQgAAAOy01m5CAACAt1nXbkIAAAAaSNluQgAAgOXs2W5CAAAAsZHabkIAAIB8NttuQgAAAEjb225CAACAqsndbkIAAAB2bt5uQgAAgEET325CAAAADbjfbkIAAIDYXOBuQgAAADtL4m5CAACABvDibkIAAADSlONuQgAAgJ055G5CAAAAad7kbkIAAIDLzOZuQgAAAJdx525CAACAYhbobkIAAAAuu+huQgAAgPlf6W5CAACAJ/PrbkIAAADzl+xuQgAAgL487W5CAAAAiuHtbkIAAIDsz+9uQgAAALh08G5CAACAgxnxbkIAAABPvvFuQgAAgBpj8m5CAAAAfVH0bkIAAIBI9vRuQgAAABSb9W5CAACA3z/2bkIAAACr5PZuQgAAgA3T+G5CAAAA2Xf5bkIAAICkHPpuQgAAAHDB+m5CAACAO2b7bkIAAACeVP1uQgAAgGn5/W5CAAAANZ7+bkIAAIAAQ/9uQgAAAMzn/25CAACALtYBb0IAAAD6egJvQgAAgMUfA29CAAAAkcQDb0IAAIBcaQRvQgAAAL9XBm9CAACAivwGb0IAAABWoQdvQgAAgCFGCG9CAAAA7eoIb0IAAIBP2QpvQgAAABt+C29CAACA5iIMb0IAAACyxwxvQgAAgH1sDW9CAAAA4FoPb0IAAICr/w9vQgAAAHekEG9CAACAQkkRb0IAAAAO7hFvQgAAgHDcE29CAAAAPIEUb0IAAIAHJhVvQgAAANPKFW9CAACAnm8Wb0IAAAABXhhvQgAAgMwCGW9CAAAAmKcZb0IAAIBjTBpvQgAAAC/xGm9CAACAkd8cb0IAAABdhB1vQgAAgCgpHm9CAAAA9M0eb0IAAIC/ch9vQgAAACJhIW9CAACA7QUib0IAAAC5qiJvQgAAAFD0I29CAACAsuIlb0IAAAB+hyZvQgAAgEksJ29CAAAAFdEnb0IAAIDgdShvQgAAAENkKm9CAACADgkrb0IAAADarStvQgAAgKVSLG9CAAAAcfcsb0IAAIDT5S5vQgAAAJ+KL29CAACAai8wb0IAAAA21DBvQgAAgAF5MW9CAAAAZGczb0IAAIAvDDRvQgAAAPuwNG9CAAAAkvo1b0IAAID06DdvQgAAAMCNOG9CAACAizI5b0IAAIAifDpvQgAAAIVqPG9CAACAUA89b0IAAAActD1vQgAAgOdYPm9CAAAAs/0+b0IAAIAV7EBvQgAAAOGQQW9CAACArDVCb0IAAAB42kJvQgAAgEN/Q29CAACAcRJGb0IAAAA9t0ZvQgAAgAhcR29CAAAA1ABIb0IAAIA270lvQgAAAAKUSm9CAACAzThLb0IAAACZ3UtvQgAAgGSCTG9CAAAAx3BOb0IAAICSFU9vQgAAAF66T29CAACAKV9Qb0IAAAD1A1FvQgAAgFfyUm9CAAAAI5dTb0IAAIDuO1RvQgAAALrgVG9CAACAhYVVb0IAAICzGFhvQgAAAH+9WG9CAACASmJZb0IAAAAWB1pvQgAAgHj1W29CAAAARJpcb0IAAIAPP11vQgAAANvjXW9CAACApoheb0IAAAAJd2BvQgAAgNQbYW9CAAAAoMBhb0IAAIBrZWJvQgAAADcKY29CAACAmfhkb0IAAABlnWVvQgAAgDBCZm9CAAAA/OZmb0IAAIDHi2dvQgAAACp6aW9CAACA9R5qb0IAAADBw2pvQgAAgIxoa29CAAAAWA1sb0IAAIC6+21vQgAAAIagbm9CAACAUUVvb0IAAAAd6m9vQgAAgOiOcG9CAAAAS31yb0IAAIAWInNvQgAAAOLGc29CAACArWt0b0IAAAB5EHVvQgAAgNv+dm9CAAAAp6N3b0IAAIBySHhvQgAAAD7teG9CAAAAbIB7b0IAAIA3JXxvQgAAAAPKfG9CAACAzm59b0IAAACaE35vQgAAgPwBgG9CAAAAyKaAb0IAAICTS4FvQgAAAF/wgW9CAACAKpWCb0IAAACNg4RvQgAAgFgohW9CAAAAJM2Fb0IAAIDvcYZvQgAAALsWh29CAACAHQWJb0IAAADpqYlvQgAAgLROim9CAAAAgPOKb0IAAIBLmItvQgAAAK6GjW9CAACAeSuOb0IAAABF0I5vQgAAgBB1j29CAAAA3BmQb0IAAIA+CJJvQgAAAAqtkm9CAACA1VGTb0IAAACh9pNvQgAAgGyblG9CAAAAz4mWb0IAAICaLpdvQgAAAGbTl29CAACAMXiYb0IAAAD9HJlvQgAAACuwm29CAACA9lScb0IAAADC+ZxvQgAAgI2enW9CAAAA8Iyfb0IAAIC7MaBvQgAAAIfWoG9CAACAUnuhb0IAAICADqRvQgAAAEyzpG9CAACAF1ilb0IAAADj/KVvQgAAgK6hpm9CAAAAEZCob0IAAIDcNKlvQgAAAKjZqW9CAACAc36qb0IAAAA/I6tvQgAAgKERrW9CAAAAbbatb0IAAIA4W65vQgAAAAQAr29CAACAz6Svb0IAAID9N7JvQgAAAMncsm9CAACAlIGzb0IAAABgJrRvQgAAgMIUtm9CAAAAjrm2b0IAAIBZXrdvQgAAACUDuG9CAACA8Ke4b0IAAABTlrpvQgAAgB47u29CAAAA6t+7b0IAAIC1hLxvQgAAAIEpvW9CAACA4xe/b0IAAACvvL9vQgAAgHphwG9CAAAARgbBb0IAAIARq8FvQgAAAHSZw29CAACAPz7Eb0IAAAAL48RvQgAAgNaHxW9CAAAAoizGb0IAAIAEG8hvQgAAANC/yG9CAACAm2TJb0IAAABnCcpvQgAAgDKuym9CAAAAlZzMb0IAAIBgQc1vQgAAACzmzW9CAACA94rOb0IAAADDL89vQgAAgCUe0W9CAAAA8cLRb0IAAIC8Z9JvQgAAAIgM029CAACAU7HTb0IAAAC2n9VvQgAAgIFE1m9CAAAATenWb0IAAIAYjtdvQgAAAOQy2G9CAAAAEsbab0IAAIDdattvQgAAAKkP3G9CAACAdLTcb0IAAADXot5vQgAAgKJH329CAAAAbuzfb0IAAIA5keBvQgAAAAU24W9CAACAZyTjb0IAAAAzyeNvQgAAgP5t5G9CAAAAyhLlb0IAAICVt+VvQgAAAPil529CAACAw0rob0IAAACP7+hvQgAAgFqU6W9CAAAAJjnqb0IAAICIJ+xvQgAAAFTM7G9CAACAH3Htb0IAAADrFe5vQgAAgLa67m9CAAAAGanwb0IAAIDkTfFvQgAAALDy8W9CAACAe5fyb0IAAABHPPNvQgAAgKkq9W9CAAAAdc/1b0IAAIBAdPZvQgAAAAwZ929CAACA1733b0IAAAA6rPlvQgAAgAVR+m9CAAAA0fX6b0IAAICcmvtvQgAAAGg//G9CAACAyi3+b0IAAACW0v5vQgAAgGF3/29CAACAFg4AcEIAAEB8YABwQgAAgK1XAXBCAABAE6oBcEIAAAB5/AFwQgAAwN5OAnBCAACARKECcEIAAMB1mANwQgAAgNvqA3BCAABAQT0EcEIAAACnjwRwQgAAwAziBHBCAAAAPtkFcEIAAMCjKwZwQgAAgAl+BnBCAAAA1SIHcEIAAEAGGghwQgAAAGxsCHBCAADA0b4IcEIAAIA3EQlwQgAAQJ1jCXBCAACAzloKcEIAAEA0rQpwQgAAAJr/CnBCAADA/1ELcEIAAIBlpAtwQgAAwJabDHBCAACA/O0McEIAAEBiQA1wQgAAAMiSDXBCAADALeUNcEIAAABf3A5wQgAAwMQuD3BCAACAKoEPcEIAAECQ0w9wQgAAQCcdEXBCAAAAjW8RcEIAAMDywRFwQgAAgFgUEnBCAABAvmYScEIAAIDvXRNwQgAAQFWwE3BCAAAAuwIUcEIAAMAgVRRwQgAAgIanFHBCAADAt54VcEIAAIAd8RVwQgAAQINDFnBCAAAA6ZUWcEIAAMBO6BZwQgAAwOUxGHBCAACAS4QYcEIAAECx1hhwQgAAABcpGXBCAABASCAacEIAAACuchpwQgAAwBPFGnBCAACAeRcbcEIAAEDfaRtwQgAAgBBhHHBCAABAdrMccEIAAADcBR1wQgAAwEFYHXBCAACAp6odcEIAAMDYoR5wQgAAgD70HnBCAABApEYfcEIAAAAKmR9wQgAAwG/rH3BCAAAAoeIgcEIAAMAGNSFwQgAAgGyHIXBCAABA0tkhcEIAAAA4LCJwQgAAAM91I3BCAADANMgjcEIAAICaGiRwQgAAQABtJHBCAACAMWQlcEIAAECXtiVwQgAAAP0IJnBCAADAYlsmcEIAAIDIrSZwQgAAwPmkJ3BCAACAX/cncEIAAEDFSShwQgAAACucKHBCAADAkO4ocEIAAADC5SlwQgAAwCc4KnBCAACAjYoqcEIAAEDz3CpwQgAAAFkvK3BCAABAiiYscEIAAADweCxwQgAAwFXLLHBCAACAux0tcEIAAIBSZy5wQgAAQLi5LnBCAAAAHgwvcEIAAMCDXi9wQgAAgOmwL3BCAADAGqgwcEIAAICA+jBwQgAAQOZMMXBCAAAATJ8xcEIAAMCx8TFwQgAAAOPoMnBCAADASDszcEIAAICujTNwQgAAQBTgM3BCAAAAejI0cEIAAECrKTVwQgAAABF8NXBCAADAds41cEIAAIDcIDZwQgAAQEJzNnBCAACAc2o3cEIAAEDZvDdwQgAAAD8POHBCAADApGE4cEIAAIAKtDhwQgAAwDurOXBCAACAof05cEIAAEAHUDpwQgAAAG2iOnBCAADA0vQ6cEIAAAAE7DtwQgAAwGk+PHBCAACAz5A8cEIAAEA14zxwQgAAAJs1PXBCAABAzCw+cEIAAAAyfz5wQgAAwJfRPnBCAACA/SM/cEIAAEBjdj9wQgAAgJRtQHBCAABA+r9AcEIAAABgEkFwQgAAwMVkQXBCAACAK7dBcEIAAIDCAENwQgAAQChTQ3BCAAAAjqVDcEIAAMDz90NwQgAAACXvRHBCAADAikFFcEIAAIDwk0VwQgAAQFbmRXBCAAAAvDhGcEIAAEDtL0dwQgAAAFOCR3BCAADAuNRHcEIAAIAeJ0hwQgAAQIR5SHBCAACAtXBJcEIAAEAbw0lwQgAAAIEVSnBCAADA5mdKcEIAAIBMukpwQgAAwH2xS3BCAACA4wNMcEIAAEBJVkxwQgAAAK+oTHBCAADAFPtMcEIAAMCrRE5wQgAAgBGXTnBCAABAd+lOcEIAAADdO09wQgAAQA4zUHBCAAAAdIVQcEIAAMDZ11BwQgAAgD8qUXBCAABApXxRcEIAAIDWc1JwQgAAQDzGUnBCAAAAohhTcEIAAMAHa1NwQgAAgG29U3BCAADAnrRUcEIAAIAEB1VwQgAAQGpZVXBCAAAA0KtVcEIAAMA1/lVwQgAAAGf1VnBCAADAzEdXcEIAAIAymldwQgAAQJjsV3BCAAAA/j5YcEIAAEAvNllwQgAAAJWIWXBCAADA+tpZcEIAAIBgLVpwQgAAQMZ/WnBCAACA93ZbcEIAAEBdyVtwQgAAAMMbXHBCAADAKG5ccEIAAICOwFxwQgAAwL+3XXBCAACAJQpecEIAAECLXF5wQgAAAPGuXnBCAADAVgFfcEIAAACI+F9wQgAAwO1KYHBCAACAU51gcEIAAEC572BwQgAAAB9CYXBCAAAAtoticEIAAMAb3mJwQgAAgIEwY3BCAABA54JjcEIAAIAYemRwQgAAQH7MZHBCAAAA5B5lcEIAAMBJcWVwQgAAgK/DZXBCAADA4LpmcEIAAIBGDWdwQgAAQKxfZ3BCAAAAErJncEIAAMB3BGhwQgAAAKn7aHBCAADADk5pcEIAAIB0oGlwQgAAQNryaXBCAAAAQEVqcEIAAEBxPGtwQgAAANeOa3BCAADAPOFrcEIAAICiM2xwQgAAQAiGbHBCAACAOX1tcEIAAECfz21wQgAAAAUibnBCAADAanRucEIAAIDQxm5wQgAAwAG+b3BCAACAZxBwcEIAAEDNYnBwQgAAADO1cHBCAADAmAdxcEIAAADK/nFwQgAAwC9RcnBCAACAlaNycEIAAED79XJwQgAAAGFIc3BCAABAkj90cEIAAAD4kXRwQgAAwF3kdHBCAACAwzZ1cEIAAEApiXVwQgAAgFqAdnBCAABAwNJ2cEIAAAAmJXdwQgAAwIt3d3BCAACA8cl3cEIAAMAiwXhwQgAAgIgTeXBCAABA7mV5cEIAAABUuHlwQgAAwLkKenBCAAAA6wF7cEIAAMBQVHtwQgAAgLame3BCAAAAgkt8cEIAAECzQn1wQgAAABmVfXBCAADAfud9cEIAAIDkOX5wQgAAQEqMfnBCAACAe4N/cEIAAEDh1X9wQgAAAEcogHBCAADArHqAcEIAAIASzYBwQgAAwEPEgXBCAACAqRaCcEIAAEAPaYJwQgAAAHW7gnBCAADA2g2DcEIAAAAMBYRwQgAAwHFXhHBCAACA16mEcEIAAEA9/IRwQgAAAKNOhXBCAAAAOpiGcEIAAMCf6oZwQgAAgAU9h3BCAABAa4+HcEIAAEAC2YhwQgAAAGgriXBCAADAzX2JcEIAAIAz0IlwQgAAwGTHinBCAACAyhmLcEIAAEAwbItwQgAAAJa+i3BCAADA+xCMcEIAAMCSWo1wQgAAgPisjXBCAABAXv+NcEIAAADEUY5wQgAAQPVIj3BCAAAAW5uPcEIAAMDA7Y9wQgAAgCZAkHBCAABAjJKQcEIAAIC9iZFwQgAAQCPckXBCAAAAiS6ScEIAAMDugJJwQgAAgFTTknBCAADAhcqTcEIAAIDrHJRwQgAAQFFvlHBCAAAAt8GUcEIAAMAcFJVwQgAAAE4LlnBCAADAs12WcEIAAIAZsJZwQgAAQH8Cl3BCAAAA5VSXcEIAAAB8nphwQgAAwOHwmHBCAACAR0OZcEIAAECtlZlwQgAAgN6MmnBCAABARN+acEIAAACqMZtwQgAAwA+Em3BCAACAddabcEIAAMCmzZxwQgAAgAwgnXBCAABAcnKdcEIAAADYxJ1wQgAAwD0XnnBCAAAAbw6fcEIAAMDUYJ9wQgAAgDqzn3BCAABAoAWgcEIAAAAGWKBwQgAAQDdPoXBCAAAAnaGhcEIAAMAC9KFwQgAAgGhGonBCAABAzpiicEIAAID/j6NwQgAAQGXio3BCAAAAyzSkcEIAAMAwh6RwQgAAgJbZpHBCAADAx9ClcEIAAIAtI6ZwQgAAQJN1pnBCAAAA+cemcEIAAMBeGqdwQgAAAJARqHBCAADA9WOocEIAAIBbtqhwQgAAQMEIqXBCAABAWFKqcEIAAAC+pKpwQgAAwCP3qnBCAACAiUmrcEIAAEDvm6twQgAAgCCTrHBCAABAhuWscEIAAADsN61wQgAAwFGKrXBCAACAt9ytcEIAAMDo065wQgAAgE4mr3BCAABAtHivcEIAAAAay69wQgAAwH8dsHBCAAAAsRSxcEIAAMAWZ7FwQgAAgHy5sXBCAABA4guycEIAAABIXrJwQgAAQHlVs3BCAAAA36ezcEIAAMBE+rNwQgAAgKpMtHBCAABAEJ+0cEIAAIBBlrVwQgAAQKfotXBCAAAADTu2cEIAAMByjbZwQgAAgNjftnBCAACAbym4cEIAAEDVe7hwQgAAADvOuHBCAADAoCC5cEIAAADSF7pwQgAAwDdqunBCAACAnby6cEIAAEADD7twQgAAAGlhu3BCAABAmli8cEIAAAAAq7xwQgAAwGX9vHBCAACAy0+9cEIAAEAxor1wQgAAgGKZvnBCAABAyOu+cEIAAAAuPr9wQgAAwJOQv3BCAACA+eK/cEIAAMAq2sBwQgAAgJAswXBCAABA9n7BcEIAAABc0cFwQgAAwMEjwnBCAAAA8xrDcEIAAIC+v8NwQgAAQCQSxHBCAAAAimTEcEIAAEC7W8VwQgAAACGuxXBCAADAhgDGcEIAAIDsUsZwQgAAQFKlxnBCAACAg5zHcEIAAEDp7sdwQgAAAE9ByHBCAADAtJPIcEIAAIAa5shwQgAAwEvdyXBCAACAsS/KcEIAAEAXgspwQgAAAH3UynBCAADA4ibLcEIAAAAUHsxwQgAAwHlwzHBCAACA38LMcEIAAEBFFc1wQgAAAKtnzXBCAABA3F7OcEIAAABCsc5wQgAAwKcDz3BCAACADVbPcEIAAEBzqM9wQgAAgKSf0HBCAABACvLQcEIAAABwRNFwQgAAwNWW0XBCAACAO+nRcEIAAMBs4NJwQgAAgNIy03BCAABAOIXTcEIAAACe19NwQgAAwAMq1HBCAAAANSHVcEIAAMCac9VwQgAAgADG1XBCAABAZhjWcEIAAADMatZwQgAAAGO013BCAADAyAbYcEIAAIAuWdhwQgAAQJSr2HBCAACAxaLZcEIAAEAr9dlwQgAAAJFH2nBCAADA9pnacEIAAIBc7NpwQgAAwI3j23BCAACA8zXccEIAAEBZiNxwQgAAAL/a3HBCAADAJC3dcEIAAABWJN5wQgAAwLt23nBCAACAIcnecEIAAECHG99wQgAAAO1t33BCAABAHmXgcEIAAACEt+BwQgAAwOkJ4XBCAACAT1zhcEIAAEC1ruFwQgAAgOal4nBCAABATPjicEIAAACySuNwQgAAwBed43BCAACAfe/jcEIAAMCu5uRwQgAAgBQ55XBCAABAeovlcEIAAADg3eVwQgAAwEUw5nBCAAAAdyfncEIAAMDceedwQgAAgELM53BCAABAqB7ocEIAAAAOcehwQgAAQD9o6XBCAAAApbrpcEIAAMAKDepwQgAAgHBf6nBCAABA1rHqcEIAAIAHqetwQgAAQG3763BCAAAA003scEIAAMA4oOxwQgAAgJ7y7HBCAADAz+ntcEIAAIA1PO5wQgAAQJuO7nBCAAAAAeHucEIAAMBmM+9wQgAAAJgq8HBCAADA/XzwcEIAAIBjz/BwQgAAAC908XBCAABAYGvycEIAAADGvfJwQgAAwCsQ83BCAACAkWLzcEIAAED3tPNwQgAAgCis9HBCAABAjv70cEIAAAD0UPVwQgAAwFmj9XBCAACAv/X1cEIAAMDw7PZwQgAAgFY/93BCAABAvJH3cEIAAAAi5PdwQgAAwIc2+HBCAAAAuS35cEIAAMAegPlwQgAAgITS+XBCAABA6iT6cEIAAABQd/pwQgAAAOfA+3BCAADATBP8cEIAAICyZfxwQgAAQBi4/HBCAAAAFVT+cEIAAMB6pv5wQgAAgOD4/nBCAADAEfD/cEIAAIB3QgBxQgAAQN2UAHFCAAAAQ+cAcUIAAMCoOQFxQgAAwD+DAnFCAACApdUCcUIAAEALKANxQgAAAHF6A3FCAABAonEEcUIAAAAIxARxQgAAwG0WBXFCAACA02gFcUIAAEA5uwVxQgAAgGqyBnFCAABA0AQHcUIAAAA2VwdxQgAAwJupB3FCAACAAfwHcUIAAMAy8whxQgAAgJhFCXFCAABA/pcJcUIAAABk6glxQgAAwMk8CnFCAAAA+zMLcUIAAMBghgtxQgAAgMbYC3FCAABALCsMcUIAAACSfQxxQgAAACnHDXFCAADAjhkOcUIAAID0aw5xQgAAQFq+DnFCAACAi7UPcUIAAEDxBxBxQgAAAFdaEHFCAADAvKwQcUIAAIAi/xBxQgAAwFP2EXFCAACAuUgScUIAAEAfmxJxQgAAAIXtEnFCAADA6j8TcUIAAAAcNxRxQgAAwIGJFHFCAACA59sUcUIAAEBNLhVxQgAAALOAFXFCAABA5HcWcUIAAABKyhZxQgAAwK8cF3FCAACAFW8XcUIAAEB7wRdxQgAAgKy4GHFCAABAEgsZcUIAAAB4XRlxQgAAwN2vGXFCAACAQwIacUIAAMB0+RpxQgAAgNpLG3FCAABAQJ4bcUIAAACm8BtxQgAAAD06HXFCAADAoowdcUIAAIAI3x1xQgAAQG4xHnFCAAAA1IMecUIAAEAFex9xQgAAAGvNH3FCAADA0B8gcUIAAIA2ciBxQgAAQJzEIHFCAACAzbshcUIAAEAzDiJxQgAAAJlgInFCAADA/rIicUIAAIBkBSNxQgAAwJX8I3FCAACA+04kcUIAAEBhoSRxQgAAAMfzJHFCAADALEYlcUIAAABePSZxQgAAwMOPJnFCAACAKeImcUIAAECPNCdxQgAAAPWGJ3FCAABAJn4ocUIAAACM0ChxQgAAwPEiKXFCAACAV3UpcUIAAEC9xylxQgAAgO6+KnFCAABAVBErcUIAAAC6YytxQgAAwB+2K3FCAACAhQgscUIAAIAcUi1xQgAAQIKkLXFCAAAA6PYtcUIAAMBNSS5xQgAAAH9AL3FCAADA5JIvcUIAAIBK5S9xQgAAQLA3MHFCAAAAFoowcUIAAEBHgTFxQgAAAK3TMXFCAADAEiYycUIAAIB4eDJxQgAAQN7KMnFCAACAD8IzcUIAAEB1FDRxQgAAANtmNHFCAADAQLk0cUIAAICmCzVxQgAAwNcCNnFCAACAPVU2cUIAAECjpzZxQgAAAAn6NnFCAADAbkw3cUIAAACgQzhxQgAAwAWWOHFCAABA0To5cUIAAAA3jTlxQgAAQGiEOnFCAAAAztY6cUIAAMAzKTtxQgAAgJl7O3FCAABA/807cUIAAIAwxTxxQgAAQJYXPXFCAAAA/Gk9cUIAAMBhvD1xQgAAgMcOPnFCAADA+AU/cUIAAIBeWD9xQgAAQMSqP3FCAAAAKv0/cUIAAMCPT0BxQgAAAMFGQXFCAADAJplBcUIAAICM60FxQgAAQPI9QnFCAAAAWJBCcUIAAECJh0NxQgAAAO/ZQ3FCAADAVCxEcUIAAIC6fkRxQgAAQCDRRHFCAACAUchFcUIAAEC3GkZxQgAAAB1tRnFCAADAgr9GcUIAAIDoEUdxQgAAwBkJSHFCAACAf1tIcUIAAEDlrUhxQgAAAEsASXFCAADAsFJJcUIAAADiSUpxQgAAwEecSnFCAACAre5KcUIAAEATQUtxQgAAAHmTS3FCAAAAEN1McUIAAMB1L01xQgAAgNuBTXFCAABAQdRNcUIAAIByy05xQgAAQNgdT3FCAAAAPnBPcUIAAMCjwk9xQgAAgAkVUHFCAADAOgxRcUIAAICgXlFxQgAAQAaxUXFCAAAAbANScUIAAMDRVVJxQgAAAANNU3FCAADAaJ9TcUIAAIDO8VNxQgAAQDREVHFCAAAAmpZUcUIAAEDLjVVxQgAAADHgVXFCAADAljJWcUIAAID8hFZxQgAAQGLXVnFCAACAk85XcUIAAED5IFhxQgAAAF9zWHFCAADAxMVYcUIAAIAqGFlxQgAAwFsPWnFCAACAwWFacUIAAEAntFpxQgAAAI0GW3FCAADA8lhbcUIAAAAkUFxxQgAAwImiXHFCAACA7/RccUIAAEBVR11xQgAAALuZXXFCAABA7JBecUIAAABS415xQgAAwLc1X3FCAACAHYhfcUIAAECD2l9xQgAAgLTRYHFCAABAGiRhcUIAAACAdmFxQgAAwOXIYXFCAACASxticUIAAMB8EmNxQgAAgOJkY3FCAABASLdjcUIAAACuCWRxQgAAwBNcZHFCAAAARVNlcUIAAMCqpWVxQgAAgBD4ZXFCAAAA3JxmcUIAAEANlGdxQgAAAHPmZ3FCAADA2DhocUIAAIA+i2hxQgAAQKTdaHFCAACA1dRpcUIAAEA7J2pxQgAAAKF5anFCAADABsxqcUIAAIBsHmtxQgAAwJ0VbHFCAACAA2hscUIAAEBpumxxQgAAAM8MbXFCAADANF9tcUIAAABmVm5xQgAAwMuobnFCAACAMftucUIAAECXTW9xQgAAAP2fb3FCAABALpdwcUIAAMD5O3FxQgAAgF+OcXFCAABAxeBxcUIAAID213JxQgAAAMJ8c3FCAADAJ89zcUIAAICNIXRxQgAAwL4YdXFCAACAJGt1cUIAAECKvXVxQgAAAPAPdnFCAADAVWJ2cUIAAACHWXdxQgAAwOyrd3FCAACAUv53cUIAAEC4UHhxQgAAAB6jeHFCAAAAtex5cUIAAMAaP3pxQgAAgICRenFCAABA5uN6cUIAAIAX23txQgAAQH0tfHFCAAAA4398cUIAAMBI0nxxQgAAgK4kfXFCAADA3xt+cUIAAIBFbn5xQgAAQKvAfnFCAAAAERN/cUIAAMB2ZX9xQgAAAKhcgHFCAADADa+AcUIAAIBzAYFxQgAAQNlTgXFCAAAAP6aBcUIAAADW74JxQgAAwDtCg3FCAACAoZSDcUIAAEAH54NxQgAAgDjehHFCAABAnjCFcUIAAAAEg4VxQgAAwGnVhXFCAACAzyeGcUIAAMAAH4dxQgAAgGZxh3FCAABAzMOHcUIAAAAyFohxQgAAwJdoiHFCAAAAyV+JcUIAAMAusolxQgAAgJQEinFCAABA+laKcUIAAABgqYpxQgAAQJGgi3FCAAAA9/KLcUIAAMBcRYxxQgAAgMKXjHFCAACAWeGNcUIAAEC/M45xQgAAACWGjnFCAADAitiOcUIAAIDwKo9xQgAAwCEikHFCAACAh3SQcUIAAEDtxpBxQgAAAFMZkXFCAADAuGuRcUIAAADqYpJxQgAAwE+1knFCAACAtQeTcUIAAEAbWpNxQgAAAIGsk3FCAABAsqOUcUIAAAAY9pRxQgAAwH1IlXFCAACA45qVcUIAAEBJ7ZVxQgAAgHrklnFCAABA4DaXcUIAAABGiZdxQgAAwKvbl3FCAACAES6YcUIAAMBCJZlxQgAAgKh3mXFCAABADsqZcUIAAAB0HJpxQgAAwNlumnFCAAAAC2abcUIAAMBwuJtxQgAAgNYKnHFCAABAPF2ccUIAAACir5xxQgAAQNOmnXFCAAAAOfmdcUIAAMCeS55xQgAAgASennFCAABAavCecUIAAICb559xQgAAQAE6oHFCAAAAZ4ygcUIAAMDM3qBxQgAAgDIxoXFCAACAyXqicUIAAEAvzaJxQgAAAJUfo3FCAADA+nGjcUIAAAAsaaRxQgAAwJG7pHFCAACA9w2lcUIAAEBdYKVxQgAAAMOypXFCAABA9KmmcUIAAABa/KZxQgAAwL9Op3FCAACAJaGncUIAAECL86dxQgAAgLzqqHFCAABAIj2pcUIAAACIj6lxQgAAwO3hqXFCAACAUzSqcUIAAMCEK6txQgAAgOp9q3FCAABAUNCrcUIAAAC2IqxxQgAAwBt1rHFCAAAATWytcUIAAMCyvq1xQgAAgBgRrnFCAABAfmOucUIAAEAVra9xQgAAAHv/r3FCAADA4FGwcUIAAIBGpLBxQgAAQKz2sHFCAACA3e2xcUIAAEBDQLJxQgAAAKmSsnFCAADADuWycUIAAIB0N7NxQgAAwKUutHFCAACAC4G0cUIAAEBx07RxQgAAANcltXFCAADAPHi1cUIAAABub7ZxQgAAwNPBtnFCAACAORS3cUIAAECfZrdxQgAAAAW5t3FCAABANrC4cUIAAACcArlxQgAAwAFVuXFCAACAZ6e5cUIAAEDN+blxQgAAgP7wunFCAABAZEO7cUIAAADKlbtxQgAAwC/ou3FCAACAlTq8cUIAAMDGMb1xQgAAgCyEvXFCAABAkta9cUIAAAD4KL5xQgAAwF17vnFCAAAAj3K/cUIAAMD0xL9xQgAAgFoXwHFCAABAwGnAcUIAAAAmvMBxQgAAAL0FwnFCAADAIljCcUIAAICIqsJxQgAAQO78wnFCAACAH/TDcUIAAECFRsRxQgAAAOuYxHFCAADAUOvEcUIAAIC2PcVxQgAAwOc0xnFCAACATYfGcUIAAECz2cZxQgAAABksx3FCAADAfn7HcUIAAACwdchxQgAAwBXIyHFCAACAexrJcUIAAEDhbMlxQgAAAEe/yXFCAABAeLbKcUIAAADeCMtxQgAAwENby3FCAACAqa3LcUIAAEAPAMxxQgAAgED3zHFCAABApknNcUIAAAAMnM1xQgAAwHHuzXFCAACA10DOcUIAAMAIOM9xQgAAgG6Kz3FCAABA1NzPcUIAAAA6L9BxQgAAwJ+B0HFCAAAA0XjRcUIAAMA2y9FxQgAAgJwd0nFCAABAAnDScUIAAABowtJxQgAAQJm503FCAAAA/wvUcUIAAMBkXtRxQgAAgMqw1HFCAABAMAPVcUIAAIBh+tVxQgAAQMdM1nFCAAAALZ/WcUIAAMCS8dZxQgAAgPhD13FCAADAKTvYcUIAAICPjdhxQgAAQPXf2HFCAAAAWzLZcUIAAMDAhNlxQgAAAPJ72nFCAADAV87acUIAAIC9INtxQgAAQCNz23FCAAAAicXbcUIAAEC6vNxxQgAAACAP3XFCAADAhWHdcUIAAEBRBt5xQgAAgIL93nFCAABA6E/fcUIAAABOot9xQgAAwLP033FCAACAGUfgcUIAAMBKPuFxQgAAgLCQ4XFCAABAFuPhcUIAAAB8NeJxQgAAwOGH4nFCAAAAE3/jcUIAAMB40eNxQgAAgN4j5HFCAABARHbkcUIAAACqyORxQgAAQNu/5XFCAAAAQRLmcUIAAMCmZOZxQgAAQHIJ53FCAACAowDocUIAAEAJU+hxQgAAAG+l6HFCAACAOkrpcUIAAMBrQepxQgAAgNGT6nFCAABAN+bqcUIAAACdOOtxQgAAwAKL63FCAAAANILscUIAAMCZ1OxxQgAAgP8m7XFCAABAZXntcUIAAADLy+1xQgAAAGIV73FCAADAx2fvcUIAAIAtuu9xQgAAQJMM8HFCAACAxAPxcUIAAEAqVvFxQgAAAJCo8XFCAADA9frxcUIAAIBbTfJxQgAAwIxE83FCAACA8pbzcUIAAEBY6fNxQgAAAL479HFCAADAI470cUIAAABVhfVxQgAAwLrX9XFCAACAICr2cUIAAECGfPZxQgAAAOzO9nFCAAAAgxj4cUIAAMDoavhxQgAAgE69+HFCAABAtA/5cUIAAIDlBvpxQgAAQEtZ+nFCAAAAsav6cUIAAMAW/vpxQgAAgHxQ+3FCAADArUf8cUIAAIATmvxxQgAAQHns/HFCAAAA3z79cUIAAMBEkf1xQgAAAHaI/nFCAADA29r+cUIAAIBBLf9xQgAAQKd//3FCAAAADdL/cUIAAEA+yQByQgAAAKQbAXJCAADACW4BckIAAIBvwAFyQgAAQNUSAnJCAACABgoDckIAAEBsXANyQgAAANKuA3JCAADANwEEckIAAICdUwRyQgAAwM5KBXJCAACANJ0FckIAAECa7wVyQgAAAABCBnJCAADAZZQGckIAAACXiwdyQgAAwPzdB3JCAACAYjAIckIAAEDIgghyQgAAQF/MCXJCAAAAxR4KckIAAMAqcQpyQgAAgJDDCnJCAABA9hULckIAAIAnDQxyQgAAQI1fDHJCAAAA87EMckIAAMBYBA1yQgAAgL5WDXJCAADA700OckIAAIBVoA5yQgAAQLvyDnJCAAAAIUUPckIAAMCGlw9yQgAAALiOEHJCAADAHeEQckIAAICDMxFyQgAAQOmFEXJCAAAAT9gRckIAAECAzxJyQgAAAOYhE3JCAADAS3QTckIAAICxxhNyQgAAQBcZFHJCAACASBAVckIAAECuYhVyQgAAABS1FXJCAADAeQcWckIAAIDfWRZyQgAAgHajF3JCAABA3PUXckIAAABCSBhyQgAAwKeaGHJCAAAA2ZEZckIAAMA+5BlyQgAAgKQ2GnJCAABACokackIAAABw2xpyQgAAQKHSG3JCAAAAByUcckIAAMBsdxxyQgAAgNLJHHJCAABAOBwdckIAAIBpEx5yQgAAQM9lHnJCAAAANbgeckIAAMCaCh9yQgAAgABdH3JCAADAMVQgckIAAICXpiByQgAAQP34IHJCAAAAY0shckIAAMDInSFyQgAAAPqUInJCAADAX+cickIAAIDFOSNyQgAAQCuMI3JCAABAwtUkckIAAAAoKCVyQgAAwI16JXJCAACA88wlckIAAEBZHyZyQgAAgIoWJ3JCAABA8GgnckIAAABWuydyQgAAwLsNKHJCAACAIWAockIAAMBSVylyQgAAgLipKXJCAABAHvwpckIAAACETipyQgAAwOmgKnJCAAAAG5grckIAAMCA6ityQgAAgOY8LHJCAABATI8sckIAAACy4SxyQgAAQOPYLXJCAAAASSsuckIAAMCufS5yQgAAgBTQLnJCAABAeiIvckIAAICrGTByQgAAQBFsMHJCAAAAd74wckIAAMDcEDFyQgAAgEJjMXJCAADAc1oyckIAAIDZrDJyQgAAQD//MnJCAAAApVEzckIAAMAKpDNyQgAAADybNHJCAADAoe00ckIAAIAHQDVyQgAAQG2SNXJCAAAA0+Q1ckIAAEAE3DZyQgAAAGouN3JCAADAz4A3ckIAAIA10zdyQgAAQJslOHJCAABAMm85ckIAAACYwTlyQgAAwP0TOnJCAACAY2Y6ckIAAMCUXTtyQgAAgPqvO3JCAABAYAI8ckIAAADGVDxyQgAAwCunPHJCAAAAXZ49ckIAAMDC8D1yQgAAgChDPnJCAABAjpU+ckIAAAD05z5yQgAAQCXfP3JCAAAAizFAckIAAMDwg0ByQgAAgFbWQHJCAABAvChBckIAAIDtH0JyQgAAQFNyQnJCAAAAucRCckIAAMAeF0NyQgAAgIRpQ3JCAADAtWBEckIAAIAbs0RyQgAAQIEFRXJCAAAA51dFckIAAMBMqkVyQgAAAH6hRnJCAADA4/NGckIAAIBJRkdyQgAAQK+YR3JCAAAAFetHckIAAEBG4khyQgAAAKw0SXJCAADAEYdJckIAAIB32UlyQgAAQN0rSnJCAACADiNLckIAAEB0dUtyQgAAANrHS3JCAADAPxpMckIAAIClbExyQgAAwNZjTXJCAACAPLZNckIAAECiCE5yQgAAAAhbTnJCAADAba1OckIAAACfpE9yQgAAwAT3T3JCAACAaklQckIAAEDQm1ByQgAAADbuUHJCAABAZ+VRckIAAADNN1JyQgAAwDKKUnJCAABA/i5TckIAAIAvJlRyQgAAQJV4VHJCAAAA+8pUckIAAMBgHVVyQgAAgMZvVXJCAADA92ZWckIAAIBduVZyQgAAQMMLV3JCAAAAKV5XckIAAMCOsFdyQgAAAMCnWHJCAADAJfpYckIAAICLTFlyQgAAQPGeWXJCAAAAV/FZckIAAECI6FpyQgAAAO46W3JCAADAU41bckIAAIC531tyQgAAgFApXXJCAABAtntdckIAAAAczl1yQgAAwIEgXnJCAADAGGpfckIAAIB+vF9yQgAAQOQOYHJCAAAASmFgckIAAMCvs2ByQgAAAOGqYXJCAADARv1hckIAAICsT2JyQgAAQBKiYnJCAAAAePRickIAAAAPPmRyQgAAwHSQZHJCAACA2uJkckIAAEBANWVyQgAAgHEsZnJCAABA135mckIAAAA90WZyQgAAwKIjZ3JCAACACHZnckIAAMA5bWhyQgAAgJ+/aHJCAABABRJpckIAAABrZGlyQgAAwNC2aXJCAAAAAq5qckIAAMBnAGtyQgAAgM1Sa3JCAABAM6VrckIAAACZ92tyQgAAADBBbXJCAADAlZNtckIAAID75W1yQgAAQGE4bnJCAACAki9vckIAAED4gW9yQgAAAF7Ub3JCAADAwyZwckIAAIApeXByQgAAwFpwcXJCAACAwMJxckIAAEAmFXJyQgAAAIxncnJCAADA8blyckIAAAAjsXNyQgAAwIgDdHJCAACA7lV0ckIAAEBUqHRyQgAAALr6dHJCAABA6/F1ckIAAABRRHZyQgAAwLaWdnJCAACAHOl2ckIAAECCO3dyQgAAgLMyeHJCAABAGYV4ckIAAAB/13hyQgAAwOQpeXJCAACASnx5ckIAAMB7c3pyQgAAgOHFenJCAABARxh7ckIAAACtantyQgAAAES0fHJCAADAqQZ9ckIAAIAPWX1yQgAAQHWrfXJCAAAA2/19ckIAAEAM9X5yQgAAAHJHf3JCAADA15l/ckIAAIA97H9yQgAAQKM+gHJCAACA1DWBckIAAEA6iIFyQgAAAKDagXJCAADABS2CckIAAIBrf4JyQgAAwJx2g3JCAACAAsmDckIAAEBoG4RyQgAAAM5thHJCAADAM8CEckIAAABlt4VyQgAAwMoJhnJCAACAMFyGckIAAECWroZyQgAAAPwAh3JCAABALfiHckIAAACTSohyQgAAwPiciHJCAACAXu+IckIAAEDEQYlyQgAAgPU4inJCAABAW4uKckIAAADB3YpyQgAAwCYwi3JCAACAjIKLckIAAMC9eYxyQgAAgCPMjHJCAABAiR6NckIAAADvcI1yQgAAwFTDjXJCAADA6wyPckIAAIBRX49yQgAAQLexj3JCAAAAHQSQckIAAEBO+5ByQgAAALRNkXJCAADAGaCRckIAAIB/8pFyQgAAQOVEknJCAACAFjyTckIAAEB8jpNyQgAAAOLgk3JCAADARzOUckIAAICthZRyQgAAwN58lXJCAACARM+VckIAAECqIZZyQgAAABB0lnJCAADAdcaWckIAAACnvZdyQgAAwAwQmHJCAACAcmKYckIAAEDYtJhyQgAAAD4HmXJCAAAA1VCackIAAMA6o5pyQgAAgKD1mnJCAABABkibckIAAIA3P5xyQgAAQJ2RnHJCAAAAA+ScckIAAMBoNp1yQgAAgM6InXJCAADA/3+eckIAAIBl0p5yQgAAQMskn3JCAAAAMXefckIAAMCWyZ9yQgAAAMjAoHJCAADALROhckIAAICTZaFyQgAAQPm3oXJCAAAAXwqickIAAECQAaNyQgAAAPZTo3JCAADAW6ajckIAAIDB+KNyQgAAQCdLpHJCAACAWEKlckIAAEC+lKVyQgAAACTnpXJCAADAiTmmckIAAIDvi6ZyQgAAwCCDp3JCAACAhtWnckIAAEDsJ6hyQgAAAFJ6qHJCAADAt8yockIAAADpw6lyQgAAwE4WqnJCAACAtGiqckIAAEAau6pyQgAAAIANq3JCAABAsQSsckIAAAAXV6xyQgAAwHyprHJCAACA4vusckIAAEBITq1yQgAAQN+XrnJCAAAARequckIAAMCqPK9yQgAAgBCPr3JCAADAQYawckIAAICn2LByQgAAQA0rsXJCAAAAc32xckIAAMDYz7FyQgAAAArHsnJCAADAbxmzckIAAIDVa7NyQgAAQDu+s3JCAAAAoRC0ckIAAEDSB7VyQgAAADhatXJCAADAnay1ckIAAIAD/7VyQgAAQGlRtnJCAACAmki3ckIAAEAAm7dyQgAAAGbtt3JCAADAyz+4ckIAAIAxkrhyQgAAwGKJuXJCAACAyNu5ckIAAEAuLrpyQgAAAJSAunJCAADA+dK6ckIAAAAryrtyQgAAwJAcvHJCAACA9m68ckIAAEBcwbxyQgAAAMITvXJCAABA8wq+ckIAAABZXb5yQgAAwL6vvnJCAACAJAK/ckIAAECKVL9yQgAAgLtLwHJCAABAIZ7AckIAAACH8MByQgAAwOxCwXJCAACAUpXBckIAAMCDjMJyQgAAgOnewnJCAABATzHDckIAAAC1g8NyQgAAwBrWw3JCAAAATM3EckIAAMCxH8VyQgAAgBdyxXJCAABAfcTFckIAAADjFsZyQgAAQBQOx3JCAAAAemDHckIAAMDfssdyQgAAQKtXyHJCAACA3E7JckIAAEBCoclyQgAAAKjzyXJCAADADUbKckIAAIBzmMpyQgAAwKSPy3JCAACACuLLckIAAEBwNMxyQgAAANaGzHJCAADAO9nMckIAAABt0M1yQgAAwNIiznJCAACAOHXOckIAAECex85yQgAAAAQaz3JCAABANRHQckIAAACbY9ByQgAAwAC20HJCAACAZgjRckIAAID9UdJyQgAAQGOk0nJCAAAAyfbSckIAAMAuSdNyQgAAgJSb03JCAADAxZLUckIAAIAr5dRyQgAAQJE31XJCAAAA94nVckIAAMBc3NVyQgAAAI7T1nJCAADA8yXXckIAAIBZeNdyQgAAQL/K13JCAAAAJR3YckIAAAC8ZtlyQgAAwCG52XJCAACAhwvackIAAEDtXdpyQgAAgB5V23JCAABAhKfbckIAAADq+dtyQgAAwE9M3HJCAACAtZ7cckIAAMDmld1yQgAAgEzo3XJCAABAsjreckIAAAAYjd5yQgAAwH3f3nJCAAAAr9bfckIAAMAUKeByQgAAgHp74HJCAABA4M3gckIAAABGIOFyQgAAQHcX4nJCAAAA3WnickIAAMBCvOJyQgAAgKgO43JCAABADmHjckIAAEClquRyQgAAAAv95HJCAADAcE/lckIAAIDWoeVyQgAAwAeZ5nJCAACAbevmckIAAEDTPedyQgAAADmQ53JCAADAnuLnckIAAADQ2ehyQgAAwDUs6XJCAACAm37pckIAAEAB0elyQgAAAGcj6nJCAABAmBrrckIAAAD+bOtyQgAAwGO/63JCAACAyRHsckIAAEAvZOxyQgAAgGBb7XJCAABAxq3tckIAAAAsAO5yQgAAwJFS7nJCAACA96TuckIAAMAonO9yQgAAgI7u73JCAABA9EDwckIAAABak/ByQgAAwL/l8HJCAAAA8dzxckIAAMBWL/JyQgAAgLyB8nJCAABAItTyckIAAACIJvNyQgAAQLkd9HJCAAAAH3D0ckIAAMCEwvRyQgAAgOoU9XJCAABAUGf1ckIAAICBXvZyQgAAQOew9nJCAAAATQP3ckIAAMCyVfdyQgAAwEmf+HJCAACAr/H4ckIAAEAVRPlyQgAAAHuW+XJCAADA4Oj5ckIAAAAS4PpyQgAAwHcy+3JCAACA3YT7ckIAAEBD1/tyQgAAAKkp/HJCAABA2iD9ckIAAABAc/1yQgAAwKXF/XJCAACACxj+ckIAAEBxav5yQgAAgKJh/3JCAABACLT/ckIAAABuBgBzQgAAwNNYAHNCAACAOasAc0IAAMBqogFzQgAAgND0AXNCAABANkcCc0IAAACcmQJzQgAAwAHsAnNCAADAmDUEc0IAAID+hwRzQgAAQGTaBHNCAAAAyiwFc0IAAED7IwZzQgAAAGF2BnNCAADAxsgGc0IAAIAsGwdzQgAAQJJtB3NCAACAw2QIc0IAAEAptwhzQgAAAI8JCXNCAADA9FsJc0IAAIBarglzQgAAwIulCnNCAACA8fcKc0IAAEBXSgtzQgAAAL2cC3NCAADAIu8Lc0IAAABU5gxzQgAAwLk4DXNCAACAH4sNc0IAAECF3Q1zQgAAAOsvDnNCAAAAgnkPc0IAAMDnyw9zQgAAgE0eEHNCAABAs3AQc0IAAIDkZxFzQgAAQEq6EXNCAAAAsAwSc0IAAMAVXxJzQgAAgHuxEnNCAADArKgTc0IAAIAS+xNzQgAAQHhNFHNCAAAA3p8Uc0IAAMBD8hRzQgAAAHXpFXNCAADA2jsWc0IAAIBAjhZzQgAAQKbgFnNCAAAADDMXc0IAAEA9KhhzQgAAAKN8GHNCAADACM8Yc0IAAIBuIRlzQgAAQNRzGXNCAACABWsac0IAAEBrvRpzQgAAANEPG3NCAADANmIbc0IAAICctBtzQgAAwM2rHHNCAACAM/4cc0IAAECZUB1zQgAAAP+iHXNCAADAZPUdc0IAAACW7B5zQgAAwPs+H3NCAACAYZEfc0IAAEDH4x9zQgAAAC02IHNCAABAXi0hc0IAAADEfyFzQgAAwCnSIXNCAACAjyQic0IAAED1diJzQgAAQIzAI3NCAAAA8hIkc0IAAMBXZSRzQgAAgL23JHNCAADA7q4lc0IAAIBUASZzQgAAQLpTJnNCAAAAIKYmc0IAAMCF+CZzQgAAALfvJ3NCAADAHEIoc0IAAICClChzQgAAQOjmKHNCAAAATjkpc0IAAEB/MCpzQgAAAOWCKnNCAADAStUqc0IAAICwJytzQgAAQBZ6K3NCAACAR3Esc0IAAECtwyxzQgAAABMWLXNCAADAeGgtc0IAAIDeui1zQgAAwA+yLnNCAACAdQQvc0IAAEDbVi9zQgAAAEGpL3NCAADApvsvc0IAAADY8jBzQgAAwD1FMXNCAACAo5cxc0IAAEAJ6jFzQgAAAG88MnNCAABAoDMzc0IAAAAGhjNzQgAAwGvYM3NCAACA0So0c0IAAEA3fTRzQgAAgGh0NXNCAABAzsY1c0IAAAA0GTZzQgAAwJlrNnNCAACA/702c0IAAMAwtTdzQgAAgJYHOHNCAABA/Fk4c0IAAABirDhzQgAAwMf+OHNCAAAA+fU5c0IAAMBeSDpzQgAAgMSaOnNCAABAKu06c0IAAACQPztzQgAAQME2PHNCAAAAJ4k8c0IAAMCM2zxzQgAAQFiAPXNCAACAiXc+c0IAAEDvyT5zQgAAAFUcP3NCAADAum4/c0IAAIAgwT9zQgAAwFG4QHNCAACAtwpBc0IAAEAdXUFzQgAAAIOvQXNCAADA6AFCc0IAAAAa+UJzQgAAwH9LQ3NCAACA5Z1Dc0IAAEBL8ENzQgAAALFCRHNCAABA4jlFc0IAAABIjEVzQgAAwK3eRXNCAACAEzFGc0IAAEB5g0ZzQgAAQBDNR3NCAAAAdh9Ic0IAAMDbcUhzQgAAgEHESHNCAACA2A1Kc0IAAEA+YEpzQgAAAKSySnNCAADACQVLc0IAAAA7/EtzQgAAwKBOTHNCAACABqFMc0IAAEBs80xzQgAAANJFTXNCAAAAaY9Oc0IAAMDO4U5zQgAAgDQ0T3NCAABAmoZPc0IAAIDLfVBzQgAAQDHQUHNCAAAAlyJRc0IAAMD8dFFzQgAAgGLHUXNCAADAk75Sc0IAAID5EFNzQgAAQF9jU3NCAAAAxbVTc0IAAMAqCFRzQgAAAFz/VHNCAADAwVFVc0IAAIAnpFVzQgAAQI32VXNCAAAA80hWc0IAAEAkQFdzQgAAAIqSV3NCAADA7+RXc0IAAIBVN1hzQgAAQLuJWHNCAABAUtNZc0IAAAC4JVpzQgAAwB14WnNCAACAg8pac0IAAMC0wVtzQgAAgBoUXHNCAABAgGZcc0IAAADmuFxzQgAAwEsLXXNCAAAAfQJec0IAAMDiVF5zQgAAgEinXnNCAABArvlec0IAAAAUTF9zQgAAQEVDYHNCAAAAq5Vgc0IAAMAQ6GBzQgAAgHY6YXNCAABA3Ixhc0IAAIANhGJzQgAAQHPWYnNCAAAA2Shjc0IAAMA+e2NzQgAAgKTNY3NCAADA1cRkc0IAAIA7F2VzQgAAQKFpZXNCAAAAB7xlc0IAAMBsDmZzQgAAAJ4FZ3NCAADAA1hnc0IAAIBpqmdzQgAAQM/8Z3NCAABAZkZpc0IAAADMmGlzQgAAwDHraXNCAACAlz1qc0IAAED9j2pzQgAAgC6Ha3NCAABAlNlrc0IAAAD6K2xzQgAAwF9+bHNCAACAxdBsc0IAAMD2x21zQgAAgFwabnNCAABAwmxuc0IAAAAov25zQgAAwI0Rb3NCAAAAvwhwc0IAAMAkW3BzQgAAgIqtcHNCAABA8P9wc0IAAABWUnFzQgAAQIdJcnNCAAAA7Ztyc0IAAMBS7nJzQgAAgLhAc3NCAABAHpNzc0IAAIBPinRzQgAAQLXcdHNCAAAAGy91c0IAAMCAgXVzQgAAgObTdXNCAADAF8t2c0IAAIB9HXdzQgAAQONvd3NCAAAAScJ3c0IAAMCuFHhzQgAAwEVeeXNCAACAq7B5c0IAAEARA3pzQgAAAHdVenNCAABAqEx7c0IAAAAOn3tzQgAAwHPxe3NCAACA2UN8c0IAAEA/lnxzQgAAgHCNfXNCAABA1t99c0IAAAA8Mn5zQgAAwKGEfnNCAACAB9d+c0IAAMA4zn9zQgAAgJ4ggHNCAABABHOAc0IAAABqxYBzQgAAwM8XgXNCAAAAAQ+Cc0IAAMBmYYJzQgAAgMyzgnNCAABAMgaDc0IAAACYWINzQgAAQMlPhHNCAAAAL6KEc0IAAID6RoVzQgAAQGCZhXNCAACAkZCGc0IAAED34oZzQgAAAF01h3NCAADAwoeHc0IAAIAo2odzQgAAwFnRiHNCAACAvyOJc0IAAEAldolzQgAAAIvIiXNCAADA8BqKc0IAAAAiEotzQgAAwIdki3NCAACA7baLc0IAAEBTCYxzQgAAALlbjHNCAABA6lKNc0IAAABQpY1zQgAAwLX3jXNCAACAG0qOc0IAAECBnI5zQgAAgLKTj3NCAABAGOaPc0IAAAB+OJBzQgAAwOOKkHNCAACASd2Qc0IAAMB61JFzQgAAgOAmknNCAABARnmSc0IAAACsy5JzQgAAwBEek3NCAAAAQxWUc0IAAMCoZ5RzQgAAgA66lHNCAABAdAyVc0IAAADaXpVzQgAAQAtWlnNCAAAAcaiWc0IAAMDW+pZzQgAAgDxNl3NCAABAop+Xc0IAAEA56ZhzQgAAAJ87mXNCAADABI6Zc0IAAIBq4JlzQgAAwJvXmnNCAACAASqbc0IAAEBnfJtzQgAAAM3Om3NCAADAMiGcc0IAAABkGJ1zQgAAwMlqnXNCAACAL72dc0IAAECVD55zQgAAAPthnnNCAABALFmfc0IAAACSq59zQgAAwPf9n3NCAACAXVCgc0IAAEDDoqBzQgAAgPSZoXNCAABAWuyhc0IAAADAPqJzQgAAwCWRonNCAACAi+Oic0IAAMC82qNzQgAAgCItpHNCAABAiH+kc0IAAADu0aRzQgAAwFMkpXNCAAAAhRumc0IAAMDqbaZzQgAAgFDApnNCAABAthKnc0IAAAAcZadzQgAAQE1cqHNCAAAAs66oc0IAAMAYAalzQgAAgH5TqXNCAABA5KWpc0IAAADhQatzQgAAwEaUq3NCAACArOarc0IAAMDd3axzQgAAgEMwrXNCAABAqYKtc0IAAAAP1a1zQgAAwHQnrnNCAAAAph6vc0IAAMALca9zQgAAgHHDr3NCAABA1xWwc0IAAAA9aLBzQgAAQG5fsXNCAAAA1LGxc0IAAMA5BLJzQgAAQAWpsnNCAACANqCzc0IAAECc8rNzQgAAAAJFtHNCAADAZ5e0c0IAAIDN6bRzQgAAwP7gtXNCAACAZDO2c0IAAEDKhbZzQgAAADDYtnNCAADAlSq3c0IAAADHIbhzQgAAwCx0uHNCAACAksa4c0IAAED4GLlzQgAAAF5ruXNCAABAj2K6c0IAAAD1tLpzQgAAwFoHu3NCAACAwFm7c0IAAEAmrLtzQgAAgFejvHNCAAAAI0i9c0IAAMCImr1zQgAAgO7svXNCAADAH+S+c0IAAEDriL9zQgAAAFHbv3NCAADAti3Ac0IAAADoJMFzQgAAwE13wXNCAACAs8nBc0IAAEAZHMJzQgAAAH9uwnNCAABAsGXDc0IAAAAWuMNzQgAAwHsKxHNCAACA4VzEc0IAAEBHr8RzQgAAQN74xXNCAAAAREvGc0IAAMCpncZzQgAAgA/wxnNCAADAQOfHc0IAAICmOchzQgAAQAyMyHNCAAAAct7Ic0IAAMDXMMlzQgAAAAkoynNCAADAbnrKc0IAAIDUzMpzQgAAQDofy3NCAAAAoHHLc0IAAEDRaMxzQgAAADe7zHNCAADAnA3Nc0IAAIACYM1zQgAAQGiyzXNCAABA//vOc0IAAABlTs9zQgAAwMqgz3NCAACAMPPPc0IAAMBh6tBzQgAAgMc80XNCAABALY/Rc0IAAACT4dFzQgAAwPgz0nNC\",\"dtype\":\"float64\",\"shape\":[3270]},\"y\":[118.56,127.0,124.87,126.0,126.44,122.87,120.87,121.69,122.12,121.22,115.62,117.31,120.12,123.5,122.56,132.78,142.0,142.44,137.63,137.25,139.38,133.56,127.44,135.5,132.63,126.47,130.63,127.25,131.69,123.5,119.0,111.5,109.31,109.5,123.5,126.19,123.69,115.0,122.12,126.62,117.19,127.12,124.87,123.25,118.94,115.12,110.81,112.09,110.31,104.06,101.37,106.0,108.06,104.52,103.62,103.0,99.25,93.75,90.5,86.19,88.5,88.0,87.62,86.87,81.75,93.75,93.31,91.97,93.62,97.62,96.75,96.37,91.19,94.69,91.25,93.5,90.56,98.5,50.5,55.75,53.78,52.5,53.78,53.31,53.06,52.81,52.13,53.25,52.5,52.59,54.09,57.0,58.13,58.5,57.13,58.25,58.5,55.19,55.0,54.36,52.56,50.31,49.84,50.0,52.28,49.16,50.31,49.0,45.56,49.47,47.88,47.94,48.13,48.0,46.84,47.59,47.25,46.88,48.38,51.38,50.25,50.63,51.47,54.67,56.5,57.25,57.88,59.0,58.97,61.31,62.66,61.38,59.13,61.63,58.69,57.34,56.75,58.56,57.75,55.25,59.75,59.41,58.5,50.31,52.75,53.31,51.75,49.31,28.19,26.69,24.94,22.37,23.5,22.69,22.62,21.62,20.12,20.31,20.25,22.31,21.69,19.44,19.16,19.06,20.27,20.69,19.06,18.81,18.87,19.12,19.75,19.44,21.12,23.0,22.44,21.5,21.37,19.87,19.36,18.75,19.94,20.03,19.5,19.19,18.59,19.19,18.81,18.86,19.87,18.69,18.09,16.69,17.0,17.19,16.94,14.63,14.44,14.81,15.19,15.25,15.56,15.03,14.56,14.56,14.38,13.78,14.25,14.13,14.88,14.34,14.38,14.69,14.88,14.5,18.14,16.94,16.94,16.81,16.69,16.25,17.87,17.44,17.56,17.81,19.44,19.06,19.31,20.62,20.56,19.5,19.56,21.56,21.5,20.69,21.12,20.5,20.16,20.66,20.56,20.5,19.06,19.94,19.19,19.69,19.0,19.19,18.25,19.06,18.62,19.06,19.28,19.37,17.81,18.31,19.37,20.72,21.31,20.69,20.62,19.69,18.87,18.5,20.87,19.0,19.75,20.72,19.78,20.37,22.06,23.13,21.94,22.08,21.77,22.55,22.09,21.36,19.76,20.6,20.8,20.69,20.9,22.98,21.42,22.09,21.2,21.57,25.55,24.93,24.34,24.33,24.21,25.17,25.2,26.7,25.41,26.34,25.97,24.24,25.62,25.35,24.14,24.21,23.01,22.89,23.37,23.26,24.23,23.36,23.63,24.0,23.75,23.29,23.2,22.32,20.76,19.8,20.13,21.08,20.8,20.93,20.71,21.65,21.05,19.77,21.42,20.04,20.1,20.41,20.85,20.0,21.55,22.48,22.5,23.34,23.83,23.05,23.66,23.64,23.51,23.6,22.76,22.09,22.95,21.03,23.3,24.13,24.88,23.98,21.78,21.23,19.7,20.09,19.39,19.12,18.48,18.75,19.12,19.27,19.01,19.65,19.89,19.04,19.33,19.26,18.96,19.04,19.1,19.2,18.76,18.27,18.0,18.14,18.14,17.94,18.2,18.0,18.6,18.9,18.44,17.74,17.73,18.5,18.24,18.4,17.5,17.0,16.0,16.9,16.5,16.29,14.8,16.11,16.14,15.81,15.25,15.71,15.49,15.43,14.95,15.35,15.4,15.57,16.05,16.1,16.92,17.31,17.95,18.09,18.34,17.29,17.94,18.21,19.12,18.06,18.44,18.86,18.57,17.38,17.73,17.65,18.52,18.84,18.96,19.46,19.63,18.6,18.66,19.08,19.59,19.45,19.27,19.0,19.82,19.61,19.71,19.94,21.2,20.85,20.6,20.47,21.06,21.05,22.36,23.48,22.46,22.29,22.67,21.87,21.49,20.73,20.4,20.89,20.58,21.4,21.01,20.9,21.35,21.58,21.97,22.51,22.05,23.0,23.34,23.72,22.75,22.8,21.22,21.39,21.01,21.32,21.41,21.96,22.0,22.27,21.8,22.91,22.89,23.4,23.22,23.07,24.16,24.34,24.32,25.09,25.6,24.65,24.4,23.93,24.66,24.73,25.05,24.53,23.76,22.77,22.92,21.66,22.85,23.91,23.94,22.15,21.93,23.26,24.15,23.48,24.06,24.74,24.6,24.51,24.37,24.3,24.46,24.95,24.69,24.66,23.86,24.22,24.07,23.2,23.35,23.7,23.38,24.0,24.05,23.67,24.95,24.16,24.59,24.21,25.03,25.01,25.06,25.15,25.93,25.5,25.49,24.84,24.54,24.3,23.56,24.28,23.16,23.89,24.29,23.81,23.57,23.35,22.94,23.2,24.25,24.29,23.52,24.45,25.37,25.06,25.49,24.57,24.83,23.37,24.45,24.99,23.69,23.92,23.77,24.09,23.39,22.88,22.83,22.96,21.76,21.48,21.64,20.41,20.02,19.24,20.24,20.42,17.37,17.17,16.97,16.77,17.4,16.8,16.79,17.1,17.71,17.03,16.81,17.71,18.52,18.09,17.71,17.26,18.55,17.43,18.15,16.13,15.5,14.7,14.75,14.9,14.33,14.93,14.46,14.48,14.85,15.4,15.11,14.74,14.51,14.21,15.09,14.77,15.25,14.9,14.9,14.67,15.25,15.45,15.78,15.97,16.01,16.2,15.9,15.95,15.71,14.8,14.65,14.73,14.49,14.2,14.22,14.51,14.28,14.41,14.34,14.2,14.13,14.14,14.57,14.69,14.75,14.62,14.76,14.4,14.69,15.1,14.49,14.4,14.59,14.33,14.18,14.36,13.97,13.9,13.54,13.63,14.25,14.55,15.22,14.86,14.21,14.0,14.26,14.47,14.63,15.02,14.69,15.55,15.57,15.49,15.99,15.94,16.5,16.75,17.08,16.94,16.01,15.74,15.32,15.5,15.9,16.23,16.19,15.55,15.3,15.9,16.09,16.03,15.85,15.6,15.79,15.9,15.2,15.18,15.03,14.65,14.94,14.75,15.3,15.51,15.14,14.81,14.85,14.8,14.53,14.29,14.16,14.44,14.42,14.31,14.08,14.0,14.36,14.8,15.03,14.79,14.58,14.62,14.58,14.9,14.69,14.59,14.21,14.56,14.21,13.98,14.05,14.24,13.68,14.24,14.55,14.98,14.19,14.41,14.45,14.71,14.36,14.55,14.26,14.5,14.27,14.41,14.61,14.75,15.07,14.85,14.82,14.86,14.68,14.99,14.57,14.86,15.01,14.74,14.61,14.58,14.47,14.51,14.36,14.17,14.47,14.68,14.89,15.0,15.07,14.93,15.09,14.67,14.41,14.55,14.32,14.4,14.33,14.2,14.36,14.56,14.52,14.85,14.51,14.52,14.2,14.05,13.71,13.59,12.99,13.2,13.13,13.18,13.53,13.52,13.46,13.48,13.98,13.93,14.25,14.46,14.77,16.12,17.33,17.7,18.33,18.15,18.43,18.83,18.6,18.59,18.53,18.1,17.79,17.89,18.21,17.96,18.5,18.29,18.12,18.1,17.44,17.3,17.45,17.74,16.94,16.89,17.15,17.55,17.75,17.6,18.41,18.45,19.36,19.35,19.3,19.47,18.86,18.7,19.3,18.68,18.87,19.03,19.0,19.27,19.52,20.21,19.88,19.66,20.01,20.02,19.97,20.19,20.9,20.69,20.87,20.95,21.04,20.41,21.5,20.99,20.77,20.74,21.0,20.53,21.35,20.06,19.73,20.11,19.82,19.76,19.86,20.21,20.02,19.86,20.37,20.18,21.03,21.81,20.78,20.75,20.91,21.33,22.2,22.66,22.8,23.16,22.73,22.48,22.53,22.25,22.25,22.51,22.81,22.21,22.37,22.1,22.88,22.18,22.02,22.21,21.34,20.3,21.49,21.09,20.71,20.8,20.99,21.67,22.05,23.25,23.3,23.5,23.73,24.32,24.85,23.8,23.38,22.6,23.31,22.94,22.73,22.56,22.75,22.56,23.51,23.99,23.3,22.83,23.07,22.82,22.91,23.19,22.45,21.9,21.48,22.07,22.48,21.35,21.21,20.56,20.1,20.34,20.5,21.23,20.89,20.78,21.04,21.6,21.54,20.94,20.9,20.78,21.17,20.45,20.25,21.32,21.49,20.19,20.08,19.9,20.19,19.65,19.92,19.72,20.35,20.91,21.18,21.35,21.55,21.42,22.25,22.1,22.84,23.23,23.25,24.7,24.4,22.91,22.89,22.67,22.7,22.56,22.42,22.46,23.04,22.84,22.63,22.65,22.46,22.3,22.0,21.82,22.45,22.62,22.62,23.09,23.61,23.85,23.1,23.18,23.33,22.5,22.34,22.14,22.28,22.88,22.96,24.1,24.0,23.6,23.93,24.95,26.62,25.9,27.04,27.27,27.32,27.03,26.55,25.96,25.94,25.56,25.37,25.88,25.27,26.14,27.0,27.37,27.74,27.92,26.89,27.75,27.48,27.71,27.61,27.88,27.5,27.98,26.74,28.82,29.15,28.12,28.21,27.6,27.56,27.7,27.58,27.24,26.82,26.45,26.71,26.0,25.97,26.2,26.4,26.55,26.27,26.4,26.79,27.1,27.25,26.7,26.97,27.4,26.63,26.9,27.29,27.5,28.33,28.46,28.08,27.79,28.03,28.72,28.56,29.04,29.99,30.09,30.2,30.65,30.54,30.66,32.56,32.66,33.12,32.3,33.0,33.51,33.07,34.18,32.07,32.56,32.1,30.48,31.27,30.85,30.13,30.27,30.02,29.25,28.86,32.66,32.8,32.01,31.95,32.42,31.25,31.53,30.85,31.8,32.31,32.47,32.65,31.18,31.45,31.19,31.81,30.9,29.85,30.39,31.1,30.45,30.6,31.0,30.58,30.51,31.51,30.71,30.86,31.26,31.87,33.04,34.68,34.0,34.07,34.3,35.5,35.01,35.4,35.7,36.1,35.66,35.88,35.24,35.36,35.2,36.55,36.88,37.75,38.1,37.04,37.45,36.95,37.46,37.93,39.0,39.12,39.18,38.56,39.5,40.54,39.56,38.8,38.5,38.87,43.19,44.88,44.7,48.1,47.18,47.48,47.54,47.2,47.45,48.51,49.98,51.84,52.5,52.4,54.37,55.03,54.86,54.27,54.23,53.95,54.95,55.01,55.2,55.16,55.19,54.3,55.49,61.8,62.3,61.69,65.35,68.95,68.79,67.79,66.13,64.53,64.25,65.93,63.08,62.81,65.03,65.62,65.4,65.24,66.15,66.84,65.47,63.56,63.66,63.75,64.8,63.3,63.81,64.81,64.89,64.78,63.79,64.46,64.67,65.0,69.83,68.25,65.45,73.71,70.25,69.85,70.49,69.65,71.31,70.98,71.37,72.66,72.16,72.62,74.58,77.05,77.95,79.1,77.87,78.93,79.07,81.04,78.72,79.86,82.73,86.66,88.15,90.65,87.74,86.3,86.72,88.48,89.62,44.68,44.99,44.25,44.37,42.76,42.8,41.9,39.64,39.53,40.21,40.52,40.64,41.21,41.53,43.33,43.29,43.71,42.45,42.91,42.75,42.56,42.07,42.45,42.09,40.99,41.22,42.4,42.33,43.7,44.15,42.49,42.95,38.81,36.62,35.0,36.6,37.66,36.4,36.84,36.49,36.78,35.89,36.29,36.15,36.21,36.4,36.11,37.25,36.89,37.28,36.75,35.2,35.42,34.2,34.56,35.14,35.45,35.78,37.25,37.85,39.45,39.5,39.94,40.64,40.66,39.89,40.05,38.16,38.33,37.6,36.63,37.0,37.4,35.89,35.92,36.87,37.19,38.47,37.85,37.72,38.26,38.83,39.09,36.84,37.49,37.23,36.61,36.83,36.55,37.71,36.81,37.87,38.37,38.23,38.29,40.79,40.97,41.41,41.52,42.86,43.7,43.44,43.99,44.01,43.83,43.85,43.56,42.57,42.89,43.19,42.89,42.49,43.0,42.93,44.0,43.39,43.46,46.48,47.39,46.4,46.91,46.28,46.15,45.85,45.6,46.12,46.12,45.27,45.99,46.86,47.0,46.3,46.7,49.05,49.35,50.07,51.1,51.02,51.06,50.0,50.23,51.05,52.99,52.96,51.88,52.1,54.03,53.92,53.07,51.23,52.33,54.16,54.95,54.33,53.2,51.72,51.76,51.23,48.65,49.44,54.03,53.98,53.25,52.07,54.47,56.84,55.25,56.4,56.28,56.99,56.04,55.2,57.24,57.72,60.26,60.35,60.85,59.95,60.0,60.64,61.54,61.54,61.6,63.15,65.59,65.31,64.82,64.84,66.88,67.66,70.72,69.99,68.43,68.95,72.27,71.95,73.93,74.23,73.2,74.21,74.87,74.85,72.53,72.68,72.14,71.11,71.63,72.6,73.91,74.17,74.0,74.47,73.78,70.91,72.38,75.13,74.83,75.25,76.73,76.25,83.84,84.97,84.99,85.7,83.08,81.25,79.28,76.1,78.76,77.39,74.53,72.95,71.17,75.5,74.95,75.1,72.24,72.02,68.27,68.49,69.1,65.18,66.63,65.1,67.16,69.91,70.3,70.59,69.0,71.79,72.14,71.99,71.58,68.84,68.99,69.4,67.69,65.76,66.29,65.98,64.05,65.05,65.77,67.71,66.85,64.75,65.22,64.29,62.16,61.82,60.25,60.35,59.63,59.13,62.82,63.25,63.67,62.1,64.71,68.3,70.93,70.29,68.99,68.01,66.34,66.51,65.04,66.82,69.51,68.19,66.85,65.96,66.65,67.73,69.38,70.77,70.15,71.83,71.22,71.86,72.99,71.82,71.29,70.79,67.85,67.37,68.1,64.71,65.68,63.26,63.87,64.86,62.99,64.26,64.31,63.29,61.76,59.85,62.99,61.15,60.22,60.1,58.44,61.18,59.4,57.61,58.28,57.3,58.96,57.83,57.61,57.74,58.2,59.72,59.17,59.09,57.29,56.76,57.59,57.52,57.15,57.09,55.48,55.7,55.11,55.17,52.03,52.5,51.73,53.16,52.96,60.96,59.82,61.26,61.78,62.0,64.5,63.94,66.83,67.22,67.65,67.91,67.05,67.72,67.09,65.43,63.25,63.23,64.05,65.34,67.1,68.0,67.71,67.3,66.68,68.0,67.89,67.34,68.5,66.99,67.34,67.28,68.48,68.97,71.08,70.6,73.37,72.43,72.81,72.85,73.72,74.6,73.8,74.1,74.38,75.25,74.3,73.81,76.18,77.17,77.02,77.11,75.1,74.45,74.1,74.53,74.42,73.8,74.54,73.42,73.61,75.63,75.19,75.04,74.75,79.26,78.97,79.99,81.21,81.35,81.9,81.75,79.99,81.45,81.1,78.92,79.36,78.95,80.45,80.02,82.9,83.55,83.22,84.8,85.05,84.87,85.14,85.4,87.42,88.99,89.53,92.51,90.36,93.0,92.21,91.8,91.88,91.65,90.64,90.03,87.23,88.9,88.61,87.95,89.05,89.02,87.63,84.73,86.47,84.7,83.46,82.15,78.15,80.22,83.95,86.29,84.05,85.77,85.96,86.45,94.75,95.94,94.59,95.68,97.56,92.1,88.63,89.14,85.73,86.68,87.11,87.11,86.3,86.43,84.86,86.23,84.12,84.3,84.45,84.48,85.43,85.88,84.43,85.16,84.63,85.44,85.25,84.65,85.98,90.8,89.16,89.84,86.3,83.0,84.03,86.77,85.89,87.8,88.05,88.59,88.8,88.07,89.41,88.6,89.96,89.54,90.24,91.35,91.99,93.73,93.35,93.99,95.71,94.88,94.19,94.28,94.14,94.14,94.94,94.12,95.21,93.67,93.9,92.04,90.9,90.57,92.0,90.16,90.19,90.89,91.59,93.96,94.23,101.58,98.18,100.09,99.59,99.65,100.73,100.8,101.08,103.47,104.91,106.63,107.74,109.62,109.57,108.53,107.15,110.23,110.31,112.49,114.02,112.81,112.0,114.45,114.3,120.07,121.1,118.63,121.41,122.3,124.99,125.82,126.0,119.35,121.15,117.2,120.62,123.28,124.69,123.87,121.7,123.85,124.19,123.98,120.61,122.36,121.97,121.05,122.0,128.8,133.13,132.38,128.88,132.07,133.85,135.03,138.39,138.3,138.19,140.3,141.65,143.31,138.88,137.35,145.91,146.19,144.33,142.97,133.64,136.65,135.26,132.9,134.94,136.76,131.11,123.12,128.32,128.29,122.74,117.01,122.01,123.96,122.21,131.22,133.09,130.53,133.39,130.99,129.88,132.67,139.49,139.94,144.97,135.56,132.01,136.99,137.9,135.99,138.83,136.57,138.99,139.06,143.02,140.15,141.14,146.73,146.84,154.47,153.77,153.44,154.63,156.55,157.78,158.0,158.37,163.49,170.2,167.55,169.49,163.01,167.98,165.54,172.69,171.5,174.24,170.35,188.56,185.81,184.87,185.29,185.45,186.18,187.63,188.6,189.21,185.29,187.05,190.61,186.67,171.15,165.28,160.85,177.16,166.39,165.3,166.1,165.67,165.84,172.0,173.59,175.22,176.82,179.43,187.34,181.86,177.15,182.89,186.19,190.54,193.59,194.75,193.44,190.19,190.37,190.72,186.52,182.98,185.43,190.12,195.03,199.01,198.95,200.59,199.5,199.27,195.41,191.45,181.25,180.14,171.3,177.58,176.0,177.52,177.72,165.23,161.51,161.71,148.06,136.19,139.99,138.99,128.16,131.15,131.37,129.45,136.24,134.21,130.43,130.83,119.97,122.08,128.01,130.7,126.68,129.4,126.27,125.99,122.2,126.05,122.48,118.59,117.64,118.23,127.2,129.29,124.44,121.99,123.58,124.61,120.41,121.98,124.1,127.04,124.1,129.88,122.55,129.18,133.12,131.12,134.01,139.96,140.87,144.95,141.8,143.27,146.3,148.78,147.06,152.19,156.13,153.55,153.31,151.13,152.72,146.77,149.4,151.72,154.17,159.12,162.21,167.4,164.05,165.34,170.7,169.75,171.11,176.19,174.96,180.19,181.92,184.66,186.05,183.77,183.16,185.21,188.61,191.23,186.81,190.11,187.86,181.82,185.67,179.26,180.77,182.75,187.41,186.76,187.45,188.6,186.86,184.02,186.34,188.0,184.79,180.51,184.34,181.49,171.64,171.3,178.1,181.12,178.55,179.35,174.74,172.37,174.61,174.07,166.51,170.19,164.23,175.2,169.59,173.16,175.4,180.2,174.92,175.47,179.24,172.48,170.2,174.1,168.52,166.9,149.0,164.99,164.32,160.4,162.34,155.41,157.78,157.54,159.9,156.6,155.42,159.97,162.71,163.86,170.07,173.52,177.98,178.33,179.04,175.57,174.54,174.77,174.47,175.82,176.15,172.76,173.31,175.28,172.96,172.4,166.84,165.86,158.59,164.57,156.86,152.32,148.18,150.91,142.03,133.86,138.49,130.57,142.6,139.94,131.85,127.27,129.8,124.91,119.62,108.25,111.92,108.01,104.0,91.96,100.48,85.91,93.35,85.7,104.55,116.26,103.84,99.77,99.6,99.78,96.95,97.37,96.51,90.33,95.07,95.43,100.86,108.23,107.4,105.93,109.99,108.91,101.05,99.24,100.17,94.81,92.43,89.87,93.76,88.48,89.64,89.44,85.24,81.93,85.21,94.63,89.92,94.7,91.3,90.03,89.4,94.43,90.35,97.28,98.04,97.87,97.35,92.8,95.99,93.98,91.03,89.31,89.94,90.02,86.87,86.14,86.64,86.52,87.42,85.97,85.88,93.17,95.95,91.81,90.43,93.21,90.46,88.24,86.24,80.57,84.3,81.93,79.39,88.04,86.82,88.86,90.19,92.12,93.09,92.6,89.1,91.92,93.22,92.77,97.02,100.0,101.33,96.37,95.83,98.99,96.87,95.05,93.37,89.4,91.65,87.45,89.86,92.0,87.93,88.12,88.93,90.18,90.46,88.34,84.18,84.87,89.81,92.9,96.3,96.53,95.24,99.91,101.85,102.09,102.71,106.36,107.58,107.83,108.23,104.51,105.45,104.09,110.14,114.19,114.94,116.53,115.43,118.42,120.01,119.57,117.2,119.19,121.18,121.73,118.89,122.63,126.62,124.64,122.9,123.35,124.85,126.22,125.8,128.24,131.75,133.33,132.33,129.04,127.37,129.56,123.21,119.78,122.32,123.73,126.82,127.63,125.15,124.05,124.76,131.78,133.45,135.39,136.47,138.99,140.0,140.13,145.31,143.82,143.81,142.28,139.55,138.81,136.01,136.66,136.67,136.11,138.07,140.67,136.4,135.42,135.75,139.79,143.46,142.58,143.5,141.25,138.7,138.48,135.92,137.76,136.34,139.54,142.03,145.04,145.76,149.08,153.27,153.29,157.79,156.63,156.95,160.17,158.88,158.9,161.7,162.99,165.21,164.93,165.75,165.58,165.49,165.66,163.69,162.55,166.65,167.94,163.55,161.63,162.75,164.98,167.65,170.12,169.46,168.92,168.75,172.27,168.16,167.99,164.62,166.44,167.28,172.98,172.78,172.06,172.91,170.83,174.04,177.99,181.98,185.83,184.29,185.19,185.4,187.2,182.01,183.87,186.73,186.13,185.35,181.41,186.2,187.74,189.76,190.66,188.97,191.02,190.63,192.25,189.63,189.35,187.85,200.6,199.52,204.7,205.7,203.67,201.66,197.71,195.0,196.06,189.8,187.85,190.73,192.4,192.51,196.94,201.02,204.56,203.14,202.87,205.48,206.08,206.54,204.61,199.15,203.0,205.33,205.4,199.22,201.11,202.24,198.96,197.42,199.7,193.32,189.36,191.28,199.5,197.78,195.37,195.83,195.1,194.26,193.17,196.05,199.44,201.2,203.55,211.72,212.63,208.83,213.13,213.43,214.6,214.38,211.75,210.3,212.8,209.19,207.87,210.11,210.93,208.33,214.91,212.08,206.78,202.51,205.95,206.85,204.93,201.08,192.37,195.91,195.17,196.73,192.63,195.69,196.42,195.89,194.88,198.11,201.94,204.19,201.63,201.86,202.34,200.0,198.23,197.38,202.38,205.75,209.93,208.94,209.28,214.94,220.01,218.31,223.83,223.91,227.37,225.38,224.18,224.9,224.1,224.79,220.47,225.64,227.64,230.92,228.95,233.0,236.6,235.49,237.41,234.98,238.2,239.55,240.44,241.43,242.2,241.86,245.28,245.78,248.57,247.03,248.54,258.8,258.24,267.99,271.88,267.27,263.25,263.02,269.31,263.84,262.89,253.03,253.83,243.71,250.25,251.84,259.24,263.22,255.16,254.7,256.98,249.5,241.88,232.82,247.28,239.35,250.08,250.6,259.39,259.69,264.54,265.18,258.21,258.29,253.24,251.47,244.84,248.23,255.96,255.64,261.1,270.6,272.25,277.69,272.16,274.58,271.0,270.06,266.93,264.12,256.71,254.3,250.49,251.0,250.49,262.48,256.89,258.53,256.32,249.38,248.23,253.18,249.88,242.9,265.09,257.68,257.09,260.0,260.87,263.67,260.71,255.89,260.44,261.01,262.84,261.73,259.78,261.48,259.85,255.4,246.69,251.65,247.58,250.08,252.36,252.84,249.39,251.79,242.67,238.04,245.45,241.75,240.76,241.85,247.47,251.26,255.09,256.64,259.78,265.04,263.19,265.82,266.21,268.17,270.24,277.69,276.08,283.86,282.71,286.33,292.1,293.98,291.77,287.23,289.0,286.15,281.6,282.0,289.59,290.34,291.71,294.74,295.41,300.2,301.69,307.44,318.47,303.4,309.0,312.36,309.07,309.09,306.87,307.65,307.95,304.23,302.22,307.0,311.37,315.45,317.99,317.2,321.05,316.64,315.0,316.0,308.46,305.72,301.2,305.2,307.97,306.68,310.45,312.0,313.74,315.5,313.54,315.27,317.53,317.01,318.64,323.8,319.63,322.13,319.65,324.37,321.73,320.0,321.09,321.63,321.6,323.0,324.36,325.0,322.85,325.91,326.22,325.48,322.95,325.64,332.44,329.55,334.72,333.99,338.83,344.88,343.25,345.16,345.89,329.52,348.35,336.43,333.77,326.87,336.33,342.96,343.78,344.17,335.8,341.3,344.45,343.8,343.64,347.89,353.68,355.19,357.39,354.75,356.79,359.19,360.8,357.25,358.71,342.15,338.77,344.02,345.26,351.24,355.47,349.96,357.19,360.07,361.4,354.91,354.69,349.12,345.33,353.18,342.1,342.0,336.83,337.13,335.99,342.56,339.28,341.85,348.07,353.15,347.66,350.64,346.36,351.11,344.31,336.99,341.22,338.1,339.92,334.06,330.49,335.02,334.8,333.3,326.1,333.1,343.51,355.0,350.34,353.62,352.24,346.19,346.78,349.74,347.99,348.26,348.4,349.69,347.86,348.89,349.02,346.12,345.66,339.2,332.0,336.47,342.08,339.56,329.97,335.5,336.78,335.97,334.8,341.1,348.87,346.5,343.18,345.7,338.17,331.78,333.25,330.55,326.6,330.0,329.75,326.9,328.99,317.36,316.68,325.16,318.94,331.37,327.59,333.65,336.04,334.7,335.95,343.0,348.95,354.67,353.34,356.34,353.53,358.33,361.01,361.17,365.43,378.0,396.12,386.95,388.32,390.35,400.0,400.59,391.62,387.64,397.78,397.65,390.98,389.41,380.44,361.69,361.3,371.15,370.52,378.07,379.63,381.52,382.31,370.84,362.17,364.51,360.3,373.47,365.08,371.17,388.18,388.25,390.57,385.82,374.74,367.37,385.56,382.4,383.93,373.0,382.14,387.02,391.43,395.54,397.0,415.25,419.64,401.03,400.28,399.86,408.73,400.19,401.92,387.12,380.37,374.57,367.86,373.33,375.78,379.09,392.57,407.34,404.98,416.83,421.74,421.76,401.35,400.0,398.1,396.18,405.03,401.76,407.56,403.0,402.42,397.41,400.09,399.07,402.03,399.91,402.21,396.97,397.03,386.61,383.52,380.8,389.25,383.98,378.92,370.4,371.02,374.51,368.42,372.35,375.84,381.29,382.54,389.83,393.49,392.51,389.93,391.45,392.85,391.68,393.0,386.7,383.33,380.36,382.47,387.76,396.69,397.0,399.69,403.1,406.89,403.4,403.51,409.4,410.0,414.95,419.77,425.5,425.91,422.68,422.28,419.7,424.2,426.96,430.15,427.49,422.67,425.1,454.44,448.36,444.34,445.71,455.59,458.41,455.9,457.3,458.38,465.25,470.5,480.76,490.96,499.53,504.66,514.26,491.5,503.11,506.88,513.08,515.08,519.67,521.31,527.96,541.56,548.17,544.24,545.42,523.66,536.8,534.69,544.21,548.98,557.54,578.05,599.61,584.72,598.37,599.51,602.74,597.78,600.49,599.79,606.18,618.38,612.78,608.77,601.83,627.3,624.35,626.98,626.13,639.93,636.2,625.0,624.11,610.06,578.94,613.72,600.22,591.38,570.61,562.61,615.64,614.27,605.07,597.8,584.9,580.24,590.5,577.08,561.5,569.58,563.7,574.58,565.0,562.57,561.45,554.05,545.31,533.96,534.5,569.55,557.5,575.87,564.59,570.9,569.2,580.74,569.16,561.5,561.27,567.77,577.29,571.6,587.72,574.46,574.52,571.24,571.0,570.96,583.4,588.21,585.44,579.04,577.3,571.33,575.0,571.67,578.0,584.73,594.88,600.56,607.09,605.3,617.97,606.12,600.24,602.95,605.12,610.79,606.59,611.28,613.03,594.4,607.38,574.46,579.76,575.01,590.92,603.23,615.91,602.84,613.63,617.29,622.77,619.39,617.85,618.71,623.39,631.87,631.3,631.21,640.0,650.01,670.82,654.42,666.11,659.51,679.99,674.98,675.25,670.64,667.25,665.76,675.57,673.17,678.05,680.45,665.11,666.85,677.37,689.96,699.35,699.88,700.26,699.16,702.41,686.86,688.26,668.74,664.29,678.75,671.16,661.81,664.86,671.25,665.2,646.88,638.65,639.74,646.5,629.56,632.35,635.37,648.87,639.59,631.05,612.42,631.0,621.44,620.0,609.43,594.88,598.22,595.89,583.52,590.23,573.84,560.63,540.42,554.15,538.91,545.5,537.53,525.2,540.71,571.91,564.25,567.17,575.9,589.55,577.27,590.22,586.79,593.65,581.8,568.91,528.94,553.4,525.0,539.77,547.77,531.15,514.75,508.93,525.0,531.47,530.0,512.47,520.35,519.0,513.54,510.29,510.53,553.82,547.88,536.97,522.0,529.21,522.5,528.55,521.0,502.68,498.3,494.64,510.31,498.52,504.56,508.81,460.0,451.69,437.83,458.5,457.0,456.98,459.11,453.91,444.05,456.47,463.25,474.0,476.5,479.51,467.21,464.52,468.85,461.1,457.69,446.0,449.25,453.85,443.82,448.43,444.05,438.0]},\"selected\":{\"id\":\"1621\"},\"selection_policy\":{\"id\":\"1622\"}},\"id\":\"1564\",\"type\":\"ColumnDataSource\"},{\"attributes\":{},\"id\":\"1622\",\"type\":\"UnionRenderers\"},{\"attributes\":{},\"id\":\"1534\",\"type\":\"DataRange1d\"},{\"attributes\":{},\"id\":\"1619\",\"type\":\"BasicTickFormatter\"},{\"attributes\":{\"base\":60,\"mantissas\":[1,2,5,10,15,20,30],\"max_interval\":1800000.0,\"min_interval\":1000.0,\"num_minor_ticks\":0},\"id\":\"1625\",\"type\":\"AdaptiveTicker\"},{\"attributes\":{\"overlay\":{\"id\":\"1556\"}},\"id\":\"1552\",\"type\":\"BoxZoomTool\"},{\"attributes\":{\"source\":{\"id\":\"1564\"}},\"id\":\"1568\",\"type\":\"CDSView\"},{\"attributes\":{\"base\":24,\"mantissas\":[1,2,4,6,8,12],\"max_interval\":43200000.0,\"min_interval\":3600000.0,\"num_minor_ticks\":0},\"id\":\"1626\",\"type\":\"AdaptiveTicker\"},{\"attributes\":{},\"id\":\"1553\",\"type\":\"SaveTool\"},{\"attributes\":{},\"id\":\"1536\",\"type\":\"DataRange1d\"},{\"attributes\":{},\"id\":\"1554\",\"type\":\"ResetTool\"},{\"attributes\":{},\"id\":\"1617\",\"type\":\"DatetimeTickFormatter\"},{\"attributes\":{\"months\":[0,4,8]},\"id\":\"1633\",\"type\":\"MonthsTicker\"},{\"attributes\":{},\"id\":\"1555\",\"type\":\"HelpTool\"},{\"attributes\":{},\"id\":\"1540\",\"type\":\"LinearScale\"},{\"attributes\":{},\"id\":\"1635\",\"type\":\"YearsTicker\"},{\"attributes\":{\"formatter\":{\"id\":\"1617\"},\"ticker\":{\"id\":\"1543\"}},\"id\":\"1542\",\"type\":\"DatetimeAxis\"},{\"attributes\":{},\"id\":\"1621\",\"type\":\"Selection\"},{\"attributes\":{\"num_minor_ticks\":5,\"tickers\":[{\"id\":\"1624\"},{\"id\":\"1625\"},{\"id\":\"1626\"},{\"id\":\"1627\"},{\"id\":\"1628\"},{\"id\":\"1629\"},{\"id\":\"1630\"},{\"id\":\"1631\"},{\"id\":\"1632\"},{\"id\":\"1633\"},{\"id\":\"1634\"},{\"id\":\"1635\"}]},\"id\":\"1543\",\"type\":\"DatetimeTicker\"},{\"attributes\":{\"formatter\":{\"id\":\"1619\"},\"ticker\":{\"id\":\"1547\"}},\"id\":\"1546\",\"type\":\"LinearAxis\"},{\"attributes\":{\"axis\":{\"id\":\"1542\"},\"ticker\":null},\"id\":\"1545\",\"type\":\"Grid\"}],\"root_ids\":[\"1531\"]},\"title\":\"Bokeh Application\",\"version\":\"2.0.2\"}};\n",
       "  var render_items = [{\"docid\":\"0e152f43-7c4f-4bc0-8920-2997a830d682\",\"root_ids\":[\"1531\"],\"roots\":{\"1531\":\"b3a282f3-43a5-486c-ba7c-ead821c3fca4\"}}];\n",
       "  root.Bokeh.embed.embed_items_notebook(docs_json, render_items);\n",
       "\n",
       "  }\n",
       "  if (root.Bokeh !== undefined) {\n",
       "    embed_document(root);\n",
       "  } else {\n",
       "    var attempts = 0;\n",
       "    var timer = setInterval(function(root) {\n",
       "      if (root.Bokeh !== undefined) {\n",
       "        clearInterval(timer);\n",
       "        embed_document(root);\n",
       "      } else {\n",
       "        attempts++;\n",
       "        if (attempts > 100) {\n",
       "          clearInterval(timer);\n",
       "          console.log(\"Bokeh: ERROR: Unable to run BokehJS code because BokehJS library is missing\");\n",
       "        }\n",
       "      }\n",
       "    }, 10, root)\n",
       "  }\n",
       "})(window);"
      ],
      "application/vnd.bokehjs_exec.v0+json": ""
     },
     "metadata": {
      "application/vnd.bokehjs_exec.v0+json": {
       "id": "1531"
      }
     },
     "output_type": "display_data"
    }
   ],
   "source": [
    "dates = np.array(AAPL[\"date\"], dtype=np.datetime64)\n",
    "p = figure(x_axis_type=\"datetime\", title=\"AAPL\")\n",
    "p.line(dates, AAPL[\"open\"])\n",
    "show(p)"
   ]
  },
  {
   "cell_type": "markdown",
   "metadata": {},
   "source": [
    "## Segment"
   ]
  },
  {
   "cell_type": "code",
   "execution_count": 17,
   "metadata": {},
   "outputs": [
    {
     "data": {
      "text/html": [
       "\n",
       "\n",
       "\n",
       "\n",
       "\n",
       "\n",
       "  <div class=\"bk-root\" id=\"dd668bab-a345-4184-a062-e3d9b3e68626\" data-root-id=\"1756\"></div>\n"
      ]
     },
     "metadata": {},
     "output_type": "display_data"
    },
    {
     "data": {
      "application/javascript": [
       "(function(root) {\n",
       "  function embed_document(root) {\n",
       "    \n",
       "  var docs_json = {\"319e62fd-dcec-45b3-a260-c76334644e12\":{\"roots\":{\"references\":[{\"attributes\":{\"below\":[{\"id\":\"1765\"}],\"center\":[{\"id\":\"1768\"},{\"id\":\"1772\"}],\"left\":[{\"id\":\"1769\"}],\"plot_height\":400,\"plot_width\":400,\"renderers\":[{\"id\":\"1790\"}],\"title\":{\"id\":\"1859\"},\"toolbar\":{\"id\":\"1780\"},\"x_range\":{\"id\":\"1757\"},\"x_scale\":{\"id\":\"1761\"},\"y_range\":{\"id\":\"1759\"},\"y_scale\":{\"id\":\"1763\"}},\"id\":\"1756\",\"subtype\":\"Figure\",\"type\":\"Plot\"},{\"attributes\":{},\"id\":\"1866\",\"type\":\"UnionRenderers\"},{\"attributes\":{\"overlay\":{\"id\":\"1779\"}},\"id\":\"1775\",\"type\":\"BoxZoomTool\"},{\"attributes\":{},\"id\":\"1863\",\"type\":\"BasicTickFormatter\"},{\"attributes\":{\"data\":{\"x0\":[1,2,3],\"x1\":{\"__ndarray__\":\"MzMzMzMz8z8zMzMzMzMDQM3MzMzMzAhA\",\"dtype\":\"float64\",\"shape\":[3]},\"y0\":[1,2,3],\"y1\":{\"__ndarray__\":\"MzMzMzMz8z8AAAAAAAAEQJqZmZmZmQ1A\",\"dtype\":\"float64\",\"shape\":[3]}},\"selected\":{\"id\":\"1865\"},\"selection_policy\":{\"id\":\"1866\"}},\"id\":\"1787\",\"type\":\"ColumnDataSource\"},{\"attributes\":{},\"id\":\"1773\",\"type\":\"PanTool\"},{\"attributes\":{},\"id\":\"1865\",\"type\":\"Selection\"},{\"attributes\":{},\"id\":\"1757\",\"type\":\"DataRange1d\"},{\"attributes\":{\"data_source\":{\"id\":\"1787\"},\"glyph\":{\"id\":\"1788\"},\"hover_glyph\":null,\"muted_glyph\":null,\"nonselection_glyph\":{\"id\":\"1789\"},\"selection_glyph\":null,\"view\":{\"id\":\"1791\"}},\"id\":\"1790\",\"type\":\"GlyphRenderer\"},{\"attributes\":{},\"id\":\"1759\",\"type\":\"DataRange1d\"},{\"attributes\":{\"source\":{\"id\":\"1787\"}},\"id\":\"1791\",\"type\":\"CDSView\"},{\"attributes\":{},\"id\":\"1761\",\"type\":\"LinearScale\"},{\"attributes\":{},\"id\":\"1774\",\"type\":\"WheelZoomTool\"},{\"attributes\":{},\"id\":\"1763\",\"type\":\"LinearScale\"},{\"attributes\":{\"bottom_units\":\"screen\",\"fill_alpha\":0.5,\"fill_color\":\"lightgrey\",\"left_units\":\"screen\",\"level\":\"overlay\",\"line_alpha\":1.0,\"line_color\":\"black\",\"line_dash\":[4,4],\"line_width\":2,\"render_mode\":\"css\",\"right_units\":\"screen\",\"top_units\":\"screen\"},\"id\":\"1779\",\"type\":\"BoxAnnotation\"},{\"attributes\":{\"formatter\":{\"id\":\"1861\"},\"ticker\":{\"id\":\"1766\"}},\"id\":\"1765\",\"type\":\"LinearAxis\"},{\"attributes\":{},\"id\":\"1770\",\"type\":\"BasicTicker\"},{\"attributes\":{\"line_color\":{\"value\":\"#1f77b4\"},\"x0\":{\"field\":\"x0\"},\"x1\":{\"field\":\"x1\"},\"y0\":{\"field\":\"y0\"},\"y1\":{\"field\":\"y1\"}},\"id\":\"1788\",\"type\":\"Segment\"},{\"attributes\":{},\"id\":\"1766\",\"type\":\"BasicTicker\"},{\"attributes\":{\"axis\":{\"id\":\"1765\"},\"ticker\":null},\"id\":\"1768\",\"type\":\"Grid\"},{\"attributes\":{},\"id\":\"1776\",\"type\":\"SaveTool\"},{\"attributes\":{\"formatter\":{\"id\":\"1863\"},\"ticker\":{\"id\":\"1770\"}},\"id\":\"1769\",\"type\":\"LinearAxis\"},{\"attributes\":{\"text\":\"\"},\"id\":\"1859\",\"type\":\"Title\"},{\"attributes\":{},\"id\":\"1777\",\"type\":\"ResetTool\"},{\"attributes\":{},\"id\":\"1778\",\"type\":\"HelpTool\"},{\"attributes\":{},\"id\":\"1861\",\"type\":\"BasicTickFormatter\"},{\"attributes\":{\"axis\":{\"id\":\"1769\"},\"dimension\":1,\"ticker\":null},\"id\":\"1772\",\"type\":\"Grid\"},{\"attributes\":{\"active_drag\":\"auto\",\"active_inspect\":\"auto\",\"active_multi\":null,\"active_scroll\":\"auto\",\"active_tap\":\"auto\",\"tools\":[{\"id\":\"1773\"},{\"id\":\"1774\"},{\"id\":\"1775\"},{\"id\":\"1776\"},{\"id\":\"1777\"},{\"id\":\"1778\"}]},\"id\":\"1780\",\"type\":\"Toolbar\"},{\"attributes\":{\"line_alpha\":{\"value\":0.1},\"line_color\":{\"value\":\"#1f77b4\"},\"x0\":{\"field\":\"x0\"},\"x1\":{\"field\":\"x1\"},\"y0\":{\"field\":\"y0\"},\"y1\":{\"field\":\"y1\"}},\"id\":\"1789\",\"type\":\"Segment\"}],\"root_ids\":[\"1756\"]},\"title\":\"Bokeh Application\",\"version\":\"2.0.2\"}};\n",
       "  var render_items = [{\"docid\":\"319e62fd-dcec-45b3-a260-c76334644e12\",\"root_ids\":[\"1756\"],\"roots\":{\"1756\":\"dd668bab-a345-4184-a062-e3d9b3e68626\"}}];\n",
       "  root.Bokeh.embed.embed_items_notebook(docs_json, render_items);\n",
       "\n",
       "  }\n",
       "  if (root.Bokeh !== undefined) {\n",
       "    embed_document(root);\n",
       "  } else {\n",
       "    var attempts = 0;\n",
       "    var timer = setInterval(function(root) {\n",
       "      if (root.Bokeh !== undefined) {\n",
       "        clearInterval(timer);\n",
       "        embed_document(root);\n",
       "      } else {\n",
       "        attempts++;\n",
       "        if (attempts > 100) {\n",
       "          clearInterval(timer);\n",
       "          console.log(\"Bokeh: ERROR: Unable to run BokehJS code because BokehJS library is missing\");\n",
       "        }\n",
       "      }\n",
       "    }, 10, root)\n",
       "  }\n",
       "})(window);"
      ],
      "application/vnd.bokehjs_exec.v0+json": ""
     },
     "metadata": {
      "application/vnd.bokehjs_exec.v0+json": {
       "id": "1756"
      }
     },
     "output_type": "display_data"
    }
   ],
   "source": [
    "p = figure(plot_width=400, plot_height=400)\n",
    "start_points = np.array([[1, 1],\n",
    "                         [2, 2],\n",
    "                         [3, 3]])\n",
    "end_points = np.array([[1.2, 1.2],\n",
    "                       [2.4, 2.5],\n",
    "                       [3.1, 3.7]])\n",
    "p.segment(\n",
    "    x0=start_points[:,0], \n",
    "    y0=start_points[:,1], \n",
    "    x1=end_points[:,0], \n",
    "    y1=end_points[:,1])\n",
    "show(p)"
   ]
  },
  {
   "cell_type": "markdown",
   "metadata": {},
   "source": [
    "## Rays"
   ]
  },
  {
   "cell_type": "code",
   "execution_count": 18,
   "metadata": {},
   "outputs": [
    {
     "data": {
      "text/html": [
       "\n",
       "\n",
       "\n",
       "\n",
       "\n",
       "\n",
       "  <div class=\"bk-root\" id=\"c5d7f845-1991-48b5-8929-7b5ce766592a\" data-root-id=\"1922\"></div>\n"
      ]
     },
     "metadata": {},
     "output_type": "display_data"
    },
    {
     "data": {
      "application/javascript": [
       "(function(root) {\n",
       "  function embed_document(root) {\n",
       "    \n",
       "  var docs_json = {\"cb057aaa-88eb-45e2-bc10-49765fb698cc\":{\"roots\":{\"references\":[{\"attributes\":{\"below\":[{\"id\":\"1931\"}],\"center\":[{\"id\":\"1934\"},{\"id\":\"1938\"}],\"left\":[{\"id\":\"1935\"}],\"plot_height\":400,\"plot_width\":400,\"renderers\":[{\"id\":\"1956\"}],\"title\":{\"id\":\"2034\"},\"toolbar\":{\"id\":\"1946\"},\"x_range\":{\"id\":\"1923\"},\"x_scale\":{\"id\":\"1927\"},\"y_range\":{\"id\":\"1925\"},\"y_scale\":{\"id\":\"1929\"}},\"id\":\"1922\",\"subtype\":\"Figure\",\"type\":\"Plot\"},{\"attributes\":{\"active_drag\":\"auto\",\"active_inspect\":\"auto\",\"active_multi\":null,\"active_scroll\":\"auto\",\"active_tap\":\"auto\",\"tools\":[{\"id\":\"1939\"},{\"id\":\"1940\"},{\"id\":\"1941\"},{\"id\":\"1942\"},{\"id\":\"1943\"},{\"id\":\"1944\"}]},\"id\":\"1946\",\"type\":\"Toolbar\"},{\"attributes\":{},\"id\":\"2041\",\"type\":\"UnionRenderers\"},{\"attributes\":{},\"id\":\"1939\",\"type\":\"PanTool\"},{\"attributes\":{},\"id\":\"2036\",\"type\":\"BasicTickFormatter\"},{\"attributes\":{},\"id\":\"2040\",\"type\":\"Selection\"},{\"attributes\":{\"text\":\"\"},\"id\":\"2034\",\"type\":\"Title\"},{\"attributes\":{\"formatter\":{\"id\":\"2038\"},\"ticker\":{\"id\":\"1936\"}},\"id\":\"1935\",\"type\":\"LinearAxis\"},{\"attributes\":{},\"id\":\"1940\",\"type\":\"WheelZoomTool\"},{\"attributes\":{\"overlay\":{\"id\":\"1945\"}},\"id\":\"1941\",\"type\":\"BoxZoomTool\"},{\"attributes\":{\"source\":{\"id\":\"1953\"}},\"id\":\"1957\",\"type\":\"CDSView\"},{\"attributes\":{\"data\":{\"angle\":[0.5235987755982988,0.7853981633974483,1.0471975511965976],\"x\":[1,2,3],\"y\":[1,2,3]},\"selected\":{\"id\":\"2040\"},\"selection_policy\":{\"id\":\"2041\"}},\"id\":\"1953\",\"type\":\"ColumnDataSource\"},{\"attributes\":{},\"id\":\"1942\",\"type\":\"SaveTool\"},{\"attributes\":{\"data_source\":{\"id\":\"1953\"},\"glyph\":{\"id\":\"1954\"},\"hover_glyph\":null,\"muted_glyph\":null,\"nonselection_glyph\":{\"id\":\"1955\"},\"selection_glyph\":null,\"view\":{\"id\":\"1957\"}},\"id\":\"1956\",\"type\":\"GlyphRenderer\"},{\"attributes\":{},\"id\":\"1927\",\"type\":\"LinearScale\"},{\"attributes\":{},\"id\":\"1943\",\"type\":\"ResetTool\"},{\"attributes\":{\"axis\":{\"id\":\"1935\"},\"dimension\":1,\"ticker\":null},\"id\":\"1938\",\"type\":\"Grid\"},{\"attributes\":{},\"id\":\"1929\",\"type\":\"LinearScale\"},{\"attributes\":{},\"id\":\"1944\",\"type\":\"HelpTool\"},{\"attributes\":{},\"id\":\"1932\",\"type\":\"BasicTicker\"},{\"attributes\":{\"formatter\":{\"id\":\"2036\"},\"ticker\":{\"id\":\"1932\"}},\"id\":\"1931\",\"type\":\"LinearAxis\"},{\"attributes\":{\"angle\":{\"field\":\"angle\",\"units\":\"rad\"},\"line_alpha\":{\"value\":0.1},\"line_color\":{\"value\":\"#1f77b4\"},\"x\":{\"field\":\"x\"},\"y\":{\"field\":\"y\"}},\"id\":\"1955\",\"type\":\"Ray\"},{\"attributes\":{},\"id\":\"1936\",\"type\":\"BasicTicker\"},{\"attributes\":{},\"id\":\"1923\",\"type\":\"DataRange1d\"},{\"attributes\":{},\"id\":\"1925\",\"type\":\"DataRange1d\"},{\"attributes\":{\"axis\":{\"id\":\"1931\"},\"ticker\":null},\"id\":\"1934\",\"type\":\"Grid\"},{\"attributes\":{\"angle\":{\"field\":\"angle\",\"units\":\"rad\"},\"line_color\":{\"value\":\"#1f77b4\"},\"x\":{\"field\":\"x\"},\"y\":{\"field\":\"y\"}},\"id\":\"1954\",\"type\":\"Ray\"},{\"attributes\":{\"bottom_units\":\"screen\",\"fill_alpha\":0.5,\"fill_color\":\"lightgrey\",\"left_units\":\"screen\",\"level\":\"overlay\",\"line_alpha\":1.0,\"line_color\":\"black\",\"line_dash\":[4,4],\"line_width\":2,\"render_mode\":\"css\",\"right_units\":\"screen\",\"top_units\":\"screen\"},\"id\":\"1945\",\"type\":\"BoxAnnotation\"},{\"attributes\":{},\"id\":\"2038\",\"type\":\"BasicTickFormatter\"}],\"root_ids\":[\"1922\"]},\"title\":\"Bokeh Application\",\"version\":\"2.0.2\"}};\n",
       "  var render_items = [{\"docid\":\"cb057aaa-88eb-45e2-bc10-49765fb698cc\",\"root_ids\":[\"1922\"],\"roots\":{\"1922\":\"c5d7f845-1991-48b5-8929-7b5ce766592a\"}}];\n",
       "  root.Bokeh.embed.embed_items_notebook(docs_json, render_items);\n",
       "\n",
       "  }\n",
       "  if (root.Bokeh !== undefined) {\n",
       "    embed_document(root);\n",
       "  } else {\n",
       "    var attempts = 0;\n",
       "    var timer = setInterval(function(root) {\n",
       "      if (root.Bokeh !== undefined) {\n",
       "        clearInterval(timer);\n",
       "        embed_document(root);\n",
       "      } else {\n",
       "        attempts++;\n",
       "        if (attempts > 100) {\n",
       "          clearInterval(timer);\n",
       "          console.log(\"Bokeh: ERROR: Unable to run BokehJS code because BokehJS library is missing\");\n",
       "        }\n",
       "      }\n",
       "    }, 10, root)\n",
       "  }\n",
       "})(window);"
      ],
      "application/vnd.bokehjs_exec.v0+json": ""
     },
     "metadata": {
      "application/vnd.bokehjs_exec.v0+json": {
       "id": "1922"
      }
     },
     "output_type": "display_data"
    }
   ],
   "source": [
    "start_points = np.array([[1, 1],\n",
    "                         [2, 2],\n",
    "                         [3, 3]])\n",
    "p = figure(plot_width=400, plot_height=400)\n",
    "p.ray(\n",
    "    x=start_points[:,0], \n",
    "    y=start_points[:,1], \n",
    "    length=None, \n",
    "    angle=[np.pi/6, np.pi/4, np.pi/3]\n",
    ")\n",
    "show(p)"
   ]
  },
  {
   "cell_type": "markdown",
   "metadata": {},
   "source": [
    "## Multiple Plots"
   ]
  },
  {
   "cell_type": "code",
   "execution_count": 19,
   "metadata": {},
   "outputs": [
    {
     "data": {
      "text/html": [
       "\n",
       "\n",
       "\n",
       "\n",
       "\n",
       "\n",
       "  <div class=\"bk-root\" id=\"b55de693-bca4-45b7-b79f-280b38218f82\" data-root-id=\"2097\"></div>\n"
      ]
     },
     "metadata": {},
     "output_type": "display_data"
    },
    {
     "data": {
      "application/javascript": [
       "(function(root) {\n",
       "  function embed_document(root) {\n",
       "    \n",
       "  var docs_json = {\"028c0197-89d5-40a2-9d98-fcfd567ed9d4\":{\"roots\":{\"references\":[{\"attributes\":{\"below\":[{\"id\":\"2106\"}],\"center\":[{\"id\":\"2109\"},{\"id\":\"2113\"}],\"left\":[{\"id\":\"2110\"}],\"plot_height\":400,\"plot_width\":400,\"renderers\":[{\"id\":\"2131\"},{\"id\":\"2136\"}],\"title\":{\"id\":\"2223\"},\"toolbar\":{\"id\":\"2121\"},\"x_range\":{\"id\":\"2098\"},\"x_scale\":{\"id\":\"2102\"},\"y_range\":{\"id\":\"2100\"},\"y_scale\":{\"id\":\"2104\"}},\"id\":\"2097\",\"subtype\":\"Figure\",\"type\":\"Plot\"},{\"attributes\":{\"bottom_units\":\"screen\",\"fill_alpha\":0.5,\"fill_color\":\"lightgrey\",\"left_units\":\"screen\",\"level\":\"overlay\",\"line_alpha\":1.0,\"line_color\":\"black\",\"line_dash\":[4,4],\"line_width\":2,\"render_mode\":\"css\",\"right_units\":\"screen\",\"top_units\":\"screen\"},\"id\":\"2120\",\"type\":\"BoxAnnotation\"},{\"attributes\":{\"fill_color\":{\"value\":\"white\"},\"line_color\":{\"value\":\"#1f77b4\"},\"size\":{\"units\":\"screen\",\"value\":8},\"x\":{\"field\":\"x\"},\"y\":{\"field\":\"y\"}},\"id\":\"2134\",\"type\":\"Circle\"},{\"attributes\":{},\"id\":\"2118\",\"type\":\"ResetTool\"},{\"attributes\":{},\"id\":\"2232\",\"type\":\"UnionRenderers\"},{\"attributes\":{},\"id\":\"2225\",\"type\":\"BasicTickFormatter\"},{\"attributes\":{\"line_alpha\":0.1,\"line_color\":\"#1f77b4\",\"line_width\":2,\"x\":{\"field\":\"x\"},\"y\":{\"field\":\"y\"}},\"id\":\"2130\",\"type\":\"Line\"},{\"attributes\":{},\"id\":\"2227\",\"type\":\"BasicTickFormatter\"},{\"attributes\":{\"active_drag\":\"auto\",\"active_inspect\":\"auto\",\"active_multi\":null,\"active_scroll\":\"auto\",\"active_tap\":\"auto\",\"tools\":[{\"id\":\"2114\"},{\"id\":\"2115\"},{\"id\":\"2116\"},{\"id\":\"2117\"},{\"id\":\"2118\"},{\"id\":\"2119\"}]},\"id\":\"2121\",\"type\":\"Toolbar\"},{\"attributes\":{\"source\":{\"id\":\"2128\"}},\"id\":\"2132\",\"type\":\"CDSView\"},{\"attributes\":{\"data_source\":{\"id\":\"2128\"},\"glyph\":{\"id\":\"2129\"},\"hover_glyph\":null,\"muted_glyph\":null,\"nonselection_glyph\":{\"id\":\"2130\"},\"selection_glyph\":null,\"view\":{\"id\":\"2132\"}},\"id\":\"2131\",\"type\":\"GlyphRenderer\"},{\"attributes\":{},\"id\":\"2229\",\"type\":\"Selection\"},{\"attributes\":{},\"id\":\"2114\",\"type\":\"PanTool\"},{\"attributes\":{\"source\":{\"id\":\"2133\"}},\"id\":\"2137\",\"type\":\"CDSView\"},{\"attributes\":{\"data_source\":{\"id\":\"2133\"},\"glyph\":{\"id\":\"2134\"},\"hover_glyph\":null,\"muted_glyph\":null,\"nonselection_glyph\":{\"id\":\"2135\"},\"selection_glyph\":null,\"view\":{\"id\":\"2137\"}},\"id\":\"2136\",\"type\":\"GlyphRenderer\"},{\"attributes\":{\"data\":{\"x\":[1,2,3,4,5],\"y\":[6,7,8,7,3]},\"selected\":{\"id\":\"2229\"},\"selection_policy\":{\"id\":\"2230\"}},\"id\":\"2128\",\"type\":\"ColumnDataSource\"},{\"attributes\":{},\"id\":\"2119\",\"type\":\"HelpTool\"},{\"attributes\":{\"line_color\":\"#1f77b4\",\"line_width\":2,\"x\":{\"field\":\"x\"},\"y\":{\"field\":\"y\"}},\"id\":\"2129\",\"type\":\"Line\"},{\"attributes\":{\"formatter\":{\"id\":\"2227\"},\"ticker\":{\"id\":\"2111\"}},\"id\":\"2110\",\"type\":\"LinearAxis\"},{\"attributes\":{},\"id\":\"2098\",\"type\":\"DataRange1d\"},{\"attributes\":{\"axis\":{\"id\":\"2110\"},\"dimension\":1,\"ticker\":null},\"id\":\"2113\",\"type\":\"Grid\"},{\"attributes\":{\"fill_alpha\":{\"value\":0.1},\"fill_color\":{\"value\":\"white\"},\"line_alpha\":{\"value\":0.1},\"line_color\":{\"value\":\"#1f77b4\"},\"size\":{\"units\":\"screen\",\"value\":8},\"x\":{\"field\":\"x\"},\"y\":{\"field\":\"y\"}},\"id\":\"2135\",\"type\":\"Circle\"},{\"attributes\":{},\"id\":\"2115\",\"type\":\"WheelZoomTool\"},{\"attributes\":{\"overlay\":{\"id\":\"2120\"}},\"id\":\"2116\",\"type\":\"BoxZoomTool\"},{\"attributes\":{\"data\":{\"x\":[1,2,3,4,5],\"y\":[6,7,8,7,3]},\"selected\":{\"id\":\"2231\"},\"selection_policy\":{\"id\":\"2232\"}},\"id\":\"2133\",\"type\":\"ColumnDataSource\"},{\"attributes\":{\"axis\":{\"id\":\"2106\"},\"ticker\":null},\"id\":\"2109\",\"type\":\"Grid\"},{\"attributes\":{},\"id\":\"2117\",\"type\":\"SaveTool\"},{\"attributes\":{},\"id\":\"2107\",\"type\":\"BasicTicker\"},{\"attributes\":{},\"id\":\"2230\",\"type\":\"UnionRenderers\"},{\"attributes\":{},\"id\":\"2231\",\"type\":\"Selection\"},{\"attributes\":{},\"id\":\"2104\",\"type\":\"LinearScale\"},{\"attributes\":{},\"id\":\"2100\",\"type\":\"DataRange1d\"},{\"attributes\":{\"text\":\"\"},\"id\":\"2223\",\"type\":\"Title\"},{\"attributes\":{},\"id\":\"2102\",\"type\":\"LinearScale\"},{\"attributes\":{\"formatter\":{\"id\":\"2225\"},\"ticker\":{\"id\":\"2107\"}},\"id\":\"2106\",\"type\":\"LinearAxis\"},{\"attributes\":{},\"id\":\"2111\",\"type\":\"BasicTicker\"}],\"root_ids\":[\"2097\"]},\"title\":\"Bokeh Application\",\"version\":\"2.0.2\"}};\n",
       "  var render_items = [{\"docid\":\"028c0197-89d5-40a2-9d98-fcfd567ed9d4\",\"root_ids\":[\"2097\"],\"roots\":{\"2097\":\"b55de693-bca4-45b7-b79f-280b38218f82\"}}];\n",
       "  root.Bokeh.embed.embed_items_notebook(docs_json, render_items);\n",
       "\n",
       "  }\n",
       "  if (root.Bokeh !== undefined) {\n",
       "    embed_document(root);\n",
       "  } else {\n",
       "    var attempts = 0;\n",
       "    var timer = setInterval(function(root) {\n",
       "      if (root.Bokeh !== undefined) {\n",
       "        clearInterval(timer);\n",
       "        embed_document(root);\n",
       "      } else {\n",
       "        attempts++;\n",
       "        if (attempts > 100) {\n",
       "          clearInterval(timer);\n",
       "          console.log(\"Bokeh: ERROR: Unable to run BokehJS code because BokehJS library is missing\");\n",
       "        }\n",
       "      }\n",
       "    }, 10, root)\n",
       "  }\n",
       "})(window);"
      ],
      "application/vnd.bokehjs_exec.v0+json": ""
     },
     "metadata": {
      "application/vnd.bokehjs_exec.v0+json": {
       "id": "2097"
      }
     },
     "output_type": "display_data"
    }
   ],
   "source": [
    "x = [1, 2, 3, 4, 5]\n",
    "y = [6, 7, 8, 7, 3]\n",
    "p = figure(plot_width=400, plot_height=400)\n",
    "p.line(x, y, line_width=2)\n",
    "p.circle(x, y, fill_color=\"white\", size=8)\n",
    "show(p)"
   ]
  },
  {
   "cell_type": "markdown",
   "metadata": {},
   "source": [
    "## Categorical Charts"
   ]
  },
  {
   "cell_type": "code",
   "execution_count": 20,
   "metadata": {},
   "outputs": [
    {
     "data": {
      "text/html": [
       "\n",
       "\n",
       "\n",
       "\n",
       "\n",
       "\n",
       "  <div class=\"bk-root\" id=\"b601ec55-1286-4f35-8e23-3338bc40b85b\" data-root-id=\"2300\"></div>\n"
      ]
     },
     "metadata": {},
     "output_type": "display_data"
    },
    {
     "data": {
      "application/javascript": [
       "(function(root) {\n",
       "  function embed_document(root) {\n",
       "    \n",
       "  var docs_json = {\"8d8733b2-3259-4959-b1db-36499b60fe4f\":{\"roots\":{\"references\":[{\"attributes\":{\"below\":[{\"id\":\"2311\"}],\"center\":[{\"id\":\"2313\"},{\"id\":\"2317\"}],\"left\":[{\"id\":\"2314\"}],\"plot_height\":250,\"renderers\":[{\"id\":\"2335\"}],\"title\":{\"id\":\"2301\"},\"toolbar\":{\"id\":\"2325\"},\"x_range\":{\"id\":\"2303\"},\"x_scale\":{\"id\":\"2307\"},\"y_range\":{\"id\":\"2305\"},\"y_scale\":{\"id\":\"2309\"}},\"id\":\"2300\",\"subtype\":\"Figure\",\"type\":\"Plot\"},{\"attributes\":{},\"id\":\"2319\",\"type\":\"WheelZoomTool\"},{\"attributes\":{},\"id\":\"2323\",\"type\":\"HelpTool\"},{\"attributes\":{},\"id\":\"2438\",\"type\":\"Selection\"},{\"attributes\":{},\"id\":\"2309\",\"type\":\"LinearScale\"},{\"attributes\":{\"factors\":[\"master\",\"worker1\",\"worker2\"]},\"id\":\"2303\",\"type\":\"FactorRange\"},{\"attributes\":{},\"id\":\"2321\",\"type\":\"SaveTool\"},{\"attributes\":{},\"id\":\"2434\",\"type\":\"CategoricalTickFormatter\"},{\"attributes\":{},\"id\":\"2436\",\"type\":\"BasicTickFormatter\"},{\"attributes\":{\"overlay\":{\"id\":\"2324\"}},\"id\":\"2320\",\"type\":\"BoxZoomTool\"},{\"attributes\":{},\"id\":\"2322\",\"type\":\"ResetTool\"},{\"attributes\":{\"source\":{\"id\":\"2332\"}},\"id\":\"2336\",\"type\":\"CDSView\"},{\"attributes\":{\"formatter\":{\"id\":\"2436\"},\"ticker\":{\"id\":\"2315\"}},\"id\":\"2314\",\"type\":\"LinearAxis\"},{\"attributes\":{},\"id\":\"2318\",\"type\":\"PanTool\"},{\"attributes\":{\"data_source\":{\"id\":\"2332\"},\"glyph\":{\"id\":\"2333\"},\"hover_glyph\":null,\"muted_glyph\":null,\"nonselection_glyph\":{\"id\":\"2334\"},\"selection_glyph\":null,\"view\":{\"id\":\"2336\"}},\"id\":\"2335\",\"type\":\"GlyphRenderer\"},{\"attributes\":{\"data\":{\"x\":[\"master\",\"worker1\",\"worker2\"],\"y\":[0.1,0.6,0.4]},\"selected\":{\"id\":\"2438\"},\"selection_policy\":{\"id\":\"2439\"}},\"id\":\"2332\",\"type\":\"ColumnDataSource\"},{\"attributes\":{\"axis\":{\"id\":\"2314\"},\"dimension\":1,\"ticker\":null},\"id\":\"2317\",\"type\":\"Grid\"},{\"attributes\":{\"axis\":{\"id\":\"2311\"},\"grid_line_color\":null,\"ticker\":null},\"id\":\"2313\",\"type\":\"Grid\"},{\"attributes\":{\"text\":\"CPU Utilization\"},\"id\":\"2301\",\"type\":\"Title\"},{\"attributes\":{\"formatter\":{\"id\":\"2434\"},\"ticker\":{\"id\":\"2312\"}},\"id\":\"2311\",\"type\":\"CategoricalAxis\"},{\"attributes\":{\"line_color\":\"#1f77b4\",\"x\":{\"field\":\"x\"},\"y\":{\"field\":\"y\"}},\"id\":\"2333\",\"type\":\"Line\"},{\"attributes\":{\"bottom_units\":\"screen\",\"fill_alpha\":0.5,\"fill_color\":\"lightgrey\",\"left_units\":\"screen\",\"level\":\"overlay\",\"line_alpha\":1.0,\"line_color\":\"black\",\"line_dash\":[4,4],\"line_width\":2,\"render_mode\":\"css\",\"right_units\":\"screen\",\"top_units\":\"screen\"},\"id\":\"2324\",\"type\":\"BoxAnnotation\"},{\"attributes\":{},\"id\":\"2315\",\"type\":\"BasicTicker\"},{\"attributes\":{\"active_drag\":\"auto\",\"active_inspect\":\"auto\",\"active_multi\":null,\"active_scroll\":\"auto\",\"active_tap\":\"auto\",\"tools\":[{\"id\":\"2318\"},{\"id\":\"2319\"},{\"id\":\"2320\"},{\"id\":\"2321\"},{\"id\":\"2322\"},{\"id\":\"2323\"}]},\"id\":\"2325\",\"type\":\"Toolbar\"},{\"attributes\":{},\"id\":\"2307\",\"type\":\"CategoricalScale\"},{\"attributes\":{\"start\":0},\"id\":\"2305\",\"type\":\"DataRange1d\"},{\"attributes\":{},\"id\":\"2439\",\"type\":\"UnionRenderers\"},{\"attributes\":{\"line_alpha\":0.1,\"line_color\":\"#1f77b4\",\"x\":{\"field\":\"x\"},\"y\":{\"field\":\"y\"}},\"id\":\"2334\",\"type\":\"Line\"},{\"attributes\":{},\"id\":\"2312\",\"type\":\"CategoricalTicker\"}],\"root_ids\":[\"2300\"]},\"title\":\"Bokeh Application\",\"version\":\"2.0.2\"}};\n",
       "  var render_items = [{\"docid\":\"8d8733b2-3259-4959-b1db-36499b60fe4f\",\"root_ids\":[\"2300\"],\"roots\":{\"2300\":\"b601ec55-1286-4f35-8e23-3338bc40b85b\"}}];\n",
       "  root.Bokeh.embed.embed_items_notebook(docs_json, render_items);\n",
       "\n",
       "  }\n",
       "  if (root.Bokeh !== undefined) {\n",
       "    embed_document(root);\n",
       "  } else {\n",
       "    var attempts = 0;\n",
       "    var timer = setInterval(function(root) {\n",
       "      if (root.Bokeh !== undefined) {\n",
       "        clearInterval(timer);\n",
       "        embed_document(root);\n",
       "      } else {\n",
       "        attempts++;\n",
       "        if (attempts > 100) {\n",
       "          clearInterval(timer);\n",
       "          console.log(\"Bokeh: ERROR: Unable to run BokehJS code because BokehJS library is missing\");\n",
       "        }\n",
       "      }\n",
       "    }, 10, root)\n",
       "  }\n",
       "})(window);"
      ],
      "application/vnd.bokehjs_exec.v0+json": ""
     },
     "metadata": {
      "application/vnd.bokehjs_exec.v0+json": {
       "id": "2300"
      }
     },
     "output_type": "display_data"
    }
   ],
   "source": [
    "nodes = [\"master\", \"worker1\", \"worker2\"]\n",
    "cpus = [0.1, 0.6, 0.4]\n",
    "p = figure(x_range=nodes, plot_height=250, title=\"CPU Utilization\")\n",
    "# p.vbar(x=nodes, top=cpus, width=0.9)\n",
    "p.line(x=nodes, y=cpus)\n",
    "p.xgrid.grid_line_color = None\n",
    "p.y_range.start = 0\n",
    "show(p)"
   ]
  },
  {
   "cell_type": "code",
   "execution_count": 21,
   "metadata": {},
   "outputs": [
    {
     "name": "stderr",
     "output_type": "stream",
     "text": [
      "BokehDeprecationWarning: 'legend' keyword is deprecated, use explicit 'legend_label', 'legend_field', or 'legend_group' keywords instead\n"
     ]
    },
    {
     "data": {
      "text/html": [
       "\n",
       "\n",
       "\n",
       "\n",
       "\n",
       "\n",
       "  <div class=\"bk-root\" id=\"07a631df-0497-46c3-9fc1-8f2beea67db9\" data-root-id=\"2490\"></div>\n"
      ]
     },
     "metadata": {},
     "output_type": "display_data"
    },
    {
     "data": {
      "application/javascript": [
       "(function(root) {\n",
       "  function embed_document(root) {\n",
       "    \n",
       "  var docs_json = {\"98bb9ddf-a105-44e4-802e-ef11ce38becd\":{\"roots\":{\"references\":[{\"attributes\":{\"below\":[{\"id\":\"2501\"}],\"center\":[{\"id\":\"2503\"},{\"id\":\"2507\"},{\"id\":\"2533\"}],\"left\":[{\"id\":\"2504\"}],\"plot_height\":250,\"renderers\":[{\"id\":\"2525\"}],\"title\":{\"id\":\"2491\"},\"toolbar\":{\"id\":\"2515\"},\"x_range\":{\"id\":\"2493\"},\"x_scale\":{\"id\":\"2497\"},\"y_range\":{\"id\":\"2495\"},\"y_scale\":{\"id\":\"2499\"}},\"id\":\"2490\",\"subtype\":\"Figure\",\"type\":\"Plot\"},{\"attributes\":{\"fill_color\":{\"field\":\"color\"},\"line_color\":{\"field\":\"color\"},\"top\":{\"field\":\"counts\"},\"width\":{\"value\":0.9},\"x\":{\"field\":\"fruits\"}},\"id\":\"2523\",\"type\":\"VBar\"},{\"attributes\":{\"formatter\":{\"id\":\"2528\"},\"ticker\":{\"id\":\"2502\"}},\"id\":\"2501\",\"type\":\"CategoricalAxis\"},{\"attributes\":{},\"id\":\"2509\",\"type\":\"WheelZoomTool\"},{\"attributes\":{\"bottom_units\":\"screen\",\"fill_alpha\":0.5,\"fill_color\":\"lightgrey\",\"left_units\":\"screen\",\"level\":\"overlay\",\"line_alpha\":1.0,\"line_color\":\"black\",\"line_dash\":[4,4],\"line_width\":2,\"render_mode\":\"css\",\"right_units\":\"screen\",\"top_units\":\"screen\"},\"id\":\"2514\",\"type\":\"BoxAnnotation\"},{\"attributes\":{},\"id\":\"2502\",\"type\":\"CategoricalTicker\"},{\"attributes\":{\"formatter\":{\"id\":\"2530\"},\"ticker\":{\"id\":\"2505\"}},\"id\":\"2504\",\"type\":\"LinearAxis\"},{\"attributes\":{\"axis\":{\"id\":\"2501\"},\"grid_line_color\":null,\"ticker\":null},\"id\":\"2503\",\"type\":\"Grid\"},{\"attributes\":{\"overlay\":{\"id\":\"2514\"}},\"id\":\"2510\",\"type\":\"BoxZoomTool\"},{\"attributes\":{},\"id\":\"2508\",\"type\":\"PanTool\"},{\"attributes\":{\"axis\":{\"id\":\"2504\"},\"dimension\":1,\"ticker\":null},\"id\":\"2507\",\"type\":\"Grid\"},{\"attributes\":{\"source\":{\"id\":\"2489\"}},\"id\":\"2526\",\"type\":\"CDSView\"},{\"attributes\":{},\"id\":\"2528\",\"type\":\"CategoricalTickFormatter\"},{\"attributes\":{},\"id\":\"2511\",\"type\":\"SaveTool\"},{\"attributes\":{},\"id\":\"2530\",\"type\":\"BasicTickFormatter\"},{\"attributes\":{\"data\":{\"color\":[\"#3288bd\",\"#99d594\",\"#e6f598\",\"#fee08b\",\"#fc8d59\",\"#d53e4f\"],\"counts\":[5,3,4,2,4,6],\"fruits\":[\"Apples\",\"Pears\",\"Nectarines\",\"Plums\",\"Grapes\",\"Strawberries\"]},\"selected\":{\"id\":\"2644\"},\"selection_policy\":{\"id\":\"2645\"}},\"id\":\"2489\",\"type\":\"ColumnDataSource\"},{\"attributes\":{},\"id\":\"2512\",\"type\":\"ResetTool\"},{\"attributes\":{\"label\":{\"field\":\"fruits\"},\"renderers\":[{\"id\":\"2525\"}]},\"id\":\"2534\",\"type\":\"LegendItem\"},{\"attributes\":{\"items\":[{\"id\":\"2534\"}],\"location\":\"top_center\",\"orientation\":\"horizontal\"},\"id\":\"2533\",\"type\":\"Legend\"},{\"attributes\":{},\"id\":\"2513\",\"type\":\"HelpTool\"},{\"attributes\":{\"text\":\"Fruit Counts\"},\"id\":\"2491\",\"type\":\"Title\"},{\"attributes\":{\"active_drag\":\"auto\",\"active_inspect\":\"auto\",\"active_multi\":null,\"active_scroll\":\"auto\",\"active_tap\":\"auto\",\"tools\":[{\"id\":\"2508\"},{\"id\":\"2509\"},{\"id\":\"2510\"},{\"id\":\"2511\"},{\"id\":\"2512\"},{\"id\":\"2513\"}]},\"id\":\"2515\",\"type\":\"Toolbar\"},{\"attributes\":{\"data_source\":{\"id\":\"2489\"},\"glyph\":{\"id\":\"2523\"},\"hover_glyph\":null,\"muted_glyph\":null,\"nonselection_glyph\":{\"id\":\"2524\"},\"selection_glyph\":null,\"view\":{\"id\":\"2526\"}},\"id\":\"2525\",\"type\":\"GlyphRenderer\"},{\"attributes\":{\"factors\":[\"Apples\",\"Pears\",\"Nectarines\",\"Plums\",\"Grapes\",\"Strawberries\"]},\"id\":\"2493\",\"type\":\"FactorRange\"},{\"attributes\":{},\"id\":\"2644\",\"type\":\"Selection\"},{\"attributes\":{\"end\":9},\"id\":\"2495\",\"type\":\"Range1d\"},{\"attributes\":{},\"id\":\"2645\",\"type\":\"UnionRenderers\"},{\"attributes\":{\"fill_alpha\":{\"value\":0.1},\"fill_color\":{\"field\":\"color\"},\"line_alpha\":{\"value\":0.1},\"line_color\":{\"field\":\"color\"},\"top\":{\"field\":\"counts\"},\"width\":{\"value\":0.9},\"x\":{\"field\":\"fruits\"}},\"id\":\"2524\",\"type\":\"VBar\"},{\"attributes\":{},\"id\":\"2497\",\"type\":\"CategoricalScale\"},{\"attributes\":{},\"id\":\"2505\",\"type\":\"BasicTicker\"},{\"attributes\":{},\"id\":\"2499\",\"type\":\"LinearScale\"}],\"root_ids\":[\"2490\"]},\"title\":\"Bokeh Application\",\"version\":\"2.0.2\"}};\n",
       "  var render_items = [{\"docid\":\"98bb9ddf-a105-44e4-802e-ef11ce38becd\",\"root_ids\":[\"2490\"],\"roots\":{\"2490\":\"07a631df-0497-46c3-9fc1-8f2beea67db9\"}}];\n",
       "  root.Bokeh.embed.embed_items_notebook(docs_json, render_items);\n",
       "\n",
       "  }\n",
       "  if (root.Bokeh !== undefined) {\n",
       "    embed_document(root);\n",
       "  } else {\n",
       "    var attempts = 0;\n",
       "    var timer = setInterval(function(root) {\n",
       "      if (root.Bokeh !== undefined) {\n",
       "        clearInterval(timer);\n",
       "        embed_document(root);\n",
       "      } else {\n",
       "        attempts++;\n",
       "        if (attempts > 100) {\n",
       "          clearInterval(timer);\n",
       "          console.log(\"Bokeh: ERROR: Unable to run BokehJS code because BokehJS library is missing\");\n",
       "        }\n",
       "      }\n",
       "    }, 10, root)\n",
       "  }\n",
       "})(window);"
      ],
      "application/vnd.bokehjs_exec.v0+json": ""
     },
     "metadata": {
      "application/vnd.bokehjs_exec.v0+json": {
       "id": "2490"
      }
     },
     "output_type": "display_data"
    }
   ],
   "source": [
    "from bokeh.models import ColumnDataSource\n",
    "from bokeh.palettes import Spectral6\n",
    "\n",
    "fruits = [\"Apples\", \"Pears\", \"Nectarines\", \"Plums\", \"Grapes\", \"Strawberries\"]\n",
    "counts = [5, 3, 4, 2, 4, 6]\n",
    "data = {\n",
    "    \"fruits\": fruits,\n",
    "    \"counts\": counts,\n",
    "    \"color\": Spectral6\n",
    "}\n",
    "source = ColumnDataSource(data=data)\n",
    "\n",
    "p = figure(x_range=fruits, plot_height=250, y_range=(0, 9), title=\"Fruit Counts\")\n",
    "p.vbar(source=source, x=\"fruits\", top=\"counts\", width=0.9, color=\"color\", legend=\"fruits\")\n",
    "\n",
    "p.xgrid.grid_line_color = None\n",
    "p.legend.orientation = \"horizontal\"\n",
    "p.legend.location = \"top_center\"\n",
    "\n",
    "show(p)"
   ]
  },
  {
   "cell_type": "code",
   "execution_count": null,
   "metadata": {},
   "outputs": [],
   "source": []
  },
  {
   "cell_type": "code",
   "execution_count": null,
   "metadata": {},
   "outputs": [],
   "source": []
  }
 ],
 "metadata": {
  "kernelspec": {
   "display_name": "Python 3",
   "language": "python",
   "name": "python3"
  },
  "language_info": {
   "codemirror_mode": {
    "name": "ipython",
    "version": 3
   },
   "file_extension": ".py",
   "mimetype": "text/x-python",
   "name": "python",
   "nbconvert_exporter": "python",
   "pygments_lexer": "ipython3",
   "version": "3.7.7"
  }
 },
 "nbformat": 4,
 "nbformat_minor": 4
}
