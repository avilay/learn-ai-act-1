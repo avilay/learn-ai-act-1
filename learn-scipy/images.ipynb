{
 "cells": [
  {
   "cell_type": "code",
   "execution_count": 1,
   "metadata": {},
   "outputs": [],
   "source": [
    "import imageio\n",
    "import numpy as np\n",
    "from PIL import Image"
   ]
  },
  {
   "cell_type": "markdown",
   "metadata": {},
   "source": [
    "My image library of choice is PIL. In this notebook I am using imageio to create numpy arrays that can be interpreted as images. But first lets create a numpy array of gray pixels. The datatype has to be `uint8`."
   ]
  },
  {
   "cell_type": "code",
   "execution_count": 2,
   "metadata": {},
   "outputs": [],
   "source": [
    "pixels = np.random.randint(120, 255, (100, 100)).astype(np.uint8)\n",
    "pixels[30:60, :] = np.random.randint(0, 120, (30, 100)).astype(np.uint8)"
   ]
  },
  {
   "cell_type": "code",
   "execution_count": 3,
   "metadata": {},
   "outputs": [
    {
     "name": "stdout",
     "output_type": "stream",
     "text": [
      "L (100, 100)\n"
     ]
    }
   ],
   "source": [
    "pil_pixels = Image.fromarray(pixels)\n",
    "print(pil_pixels.mode, pil_pixels.size)\n",
    "pil_pixels.show()"
   ]
  },
  {
   "cell_type": "code",
   "execution_count": 5,
   "metadata": {},
   "outputs": [],
   "source": [
    "pil_pixels.save(\"/Users/avilay/temp/pixels.png\")"
   ]
  },
  {
   "cell_type": "code",
   "execution_count": 6,
   "metadata": {},
   "outputs": [
    {
     "name": "stdout",
     "output_type": "stream",
     "text": [
      "(1024, 1229, 4) uint8\n",
      "0 255 59.478686265192735\n"
     ]
    }
   ],
   "source": [
    "rgba_logo = np.array(imageio.imread(\"./tf-logo.png\"))\n",
    "print(rgba_logo.shape, rgba_logo.dtype)\n",
    "print(np.min(rgba_logo), np.max(rgba_logo), np.mean(rgba_logo))"
   ]
  },
  {
   "cell_type": "code",
   "execution_count": 6,
   "metadata": {},
   "outputs": [
    {
     "name": "stdout",
     "output_type": "stream",
     "text": [
      "RGBA (1229, 1024)\n"
     ]
    }
   ],
   "source": [
    "pil_rgba_logo = Image.fromarray(rgba_logo)\n",
    "print(pil_rgba_logo.mode, pil_rgba_logo.size)\n",
    "pil_rgba_logo.show()"
   ]
  },
  {
   "cell_type": "code",
   "execution_count": 7,
   "metadata": {},
   "outputs": [
    {
     "name": "stdout",
     "output_type": "stream",
     "text": [
      "(500, 1000, 3) uint8\n",
      "0 255 244.92628733333333\n"
     ]
    }
   ],
   "source": [
    "rgb_logo = imageio.imread(\"./tf-logo.jpg\")\n",
    "print(rgb_logo.shape, rgb_logo.dtype)\n",
    "print(np.min(rgb_logo), np.max(rgb_logo), np.mean(rgb_logo))"
   ]
  },
  {
   "cell_type": "code",
   "execution_count": 8,
   "metadata": {},
   "outputs": [
    {
     "name": "stdout",
     "output_type": "stream",
     "text": [
      "RGB (1000, 500)\n"
     ]
    }
   ],
   "source": [
    "pil_rgb_logo = Image.fromarray(rgb_logo)\n",
    "print(pil_rgb_logo.mode, pil_rgb_logo.size)\n",
    "pil_rgb_logo.show()"
   ]
  },
  {
   "cell_type": "code",
   "execution_count": 9,
   "metadata": {},
   "outputs": [
    {
     "name": "stdout",
     "output_type": "stream",
     "text": [
      "(512, 512) uint8\n",
      "0 255 118.31400299072266\n"
     ]
    }
   ],
   "source": [
    "gray = imageio.imread(\"imageio:camera.png\")\n",
    "print(gray.shape, gray.dtype)\n",
    "print(np.min(gray), np.max(gray), np.mean(gray))"
   ]
  },
  {
   "cell_type": "code",
   "execution_count": 10,
   "metadata": {},
   "outputs": [
    {
     "name": "stdout",
     "output_type": "stream",
     "text": [
      "L (512, 512)\n"
     ]
    }
   ],
   "source": [
    "pil_gray = Image.fromarray(gray)\n",
    "print(pil_gray.mode, pil_gray.size)\n",
    "pil_gray.show()"
   ]
  },
  {
   "cell_type": "code",
   "execution_count": 14,
   "metadata": {},
   "outputs": [
    {
     "name": "stdout",
     "output_type": "stream",
     "text": [
      "(500, 1000, 3) uint8\n",
      "0 255 244.92628733333333\n"
     ]
    }
   ],
   "source": [
    "with Image.open(\"./tf-logo.jpg\") as im:\n",
    "    arr = np.asarray(im)\n",
    "print(arr.shape, arr.dtype)\n",
    "print(np.min(arr), np.max(arr), np.mean(arr))"
   ]
  },
  {
   "cell_type": "code",
   "execution_count": 11,
   "metadata": {},
   "outputs": [],
   "source": [
    "img = np.zeros((100, 100, 3), dtype=np.uint8)"
   ]
  },
  {
   "cell_type": "code",
   "execution_count": 23,
   "metadata": {},
   "outputs": [],
   "source": [
    "Image.fromarray(img).show()"
   ]
  },
  {
   "cell_type": "code",
   "execution_count": 20,
   "metadata": {},
   "outputs": [],
   "source": [
    "img[:, :, 0] = np.full((100, 100), fill_value=254)"
   ]
  },
  {
   "cell_type": "code",
   "execution_count": 21,
   "metadata": {},
   "outputs": [],
   "source": [
    "img[:, :, 1] = np.full((100, 100), fill_value=72)"
   ]
  },
  {
   "cell_type": "code",
   "execution_count": 22,
   "metadata": {},
   "outputs": [],
   "source": [
    "img[:, :, 2] = np.full((100, 100), fill_value=254)"
   ]
  },
  {
   "cell_type": "code",
   "execution_count": 24,
   "metadata": {},
   "outputs": [],
   "source": [
    "import matplotlib.pyplot as plt"
   ]
  },
  {
   "cell_type": "code",
   "execution_count": 25,
   "metadata": {},
   "outputs": [],
   "source": [
    "%matplotlib inline"
   ]
  },
  {
   "cell_type": "code",
   "execution_count": 26,
   "metadata": {},
   "outputs": [
    {
     "data": {
      "text/plain": [
       "<matplotlib.image.AxesImage at 0x7fac5083ffd0>"
      ]
     },
     "execution_count": 26,
     "metadata": {},
     "output_type": "execute_result"
    },
    {
     "data": {
      "image/png": "[encoded data removed]",
      "text/plain": [
       "<Figure size 432x288 with 1 Axes>"
      ]
     },
     "metadata": {
      "needs_background": "light"
     },
     "output_type": "display_data"
    }
   ],
   "source": [
    "plt.imshow(img)"
   ]
  },
  {
   "cell_type": "code",
   "execution_count": null,
   "metadata": {},
   "outputs": [],
   "source": []
  }
 ],
 "metadata": {
  "kernelspec": {
   "display_name": "Python 3",
   "language": "python",
   "name": "python3"
  },
  "language_info": {
   "codemirror_mode": {
    "name": "ipython",
    "version": 3
   },
   "file_extension": ".py",
   "mimetype": "text/x-python",
   "name": "python",
   "nbconvert_exporter": "python",
   "pygments_lexer": "ipython3",
   "version": "3.9.1"
  }
 },
 "nbformat": 4,
 "nbformat_minor": 4
}
