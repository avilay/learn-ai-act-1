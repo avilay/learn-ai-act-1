{
 "cells": [
  {
   "cell_type": "code",
   "execution_count": 4,
   "metadata": {
    "tags": []
   },
   "outputs": [],
   "source": [
    "import numpy as np"
   ]
  },
  {
   "cell_type": "code",
   "execution_count": 5,
   "metadata": {},
   "outputs": [],
   "source": [
    "np.set_printoptions(\n",
    "    edgeitems=30, \n",
    "    linewidth=100000, \n",
    "    precision=3,\n",
    "    suppress=True)"
   ]
  },
  {
   "cell_type": "markdown",
   "metadata": {},
   "source": [
    "## Visualizing Multi-Dimensional Tensors\n",
    "For any multi-dimensional tesnor I need to take the last 2 dims and create a matrix out of it. Lets call these matrics blocks. If the total number of dimensions is odd, then I simply create a column vector of such blocks. If the total number of dimensions is even, I will arrange these blocks in matrices. This is best shown with a bunch of examples."
   ]
  },
  {
   "cell_type": "code",
   "execution_count": 102,
   "metadata": {},
   "outputs": [],
   "source": [
    "def ndarray_to_latex(x):\n",
    "    if len(x.shape) == 2:\n",
    "        ret = r\"\\begin{bmatrix}\" + \"\\n\"\n",
    "        for r in range(x.shape[0]):\n",
    "            ret += \" & \".join(str(i) for i in x[r]) + r\" \\\\\" + \"\\n\"\n",
    "        ret += r\"\\end{bmatrix}\"\n",
    "        return np.array([ret])\n",
    "    else:\n",
    "        raise NotImplementedError()\n",
    "                "
   ]
  },
  {
   "cell_type": "code",
   "execution_count": 104,
   "metadata": {},
   "outputs": [
    {
     "name": "stdout",
     "output_type": "stream",
     "text": [
      "\\begin{bmatrix}\n",
      "1 & 2 & 3 \\\\\n",
      "4 & 5 & 6 \\\\\n",
      "\\end{bmatrix}\n"
     ]
    }
   ],
   "source": [
    "print(ndarray_to_latex(np.array([\n",
    "    [1, 2, 3],\n",
    "    [4, 5, 6]\n",
    "]))[0])"
   ]
  },
  {
   "cell_type": "code",
   "execution_count": null,
   "metadata": {},
   "outputs": [],
   "source": []
  },
  {
   "cell_type": "code",
   "execution_count": null,
   "metadata": {},
   "outputs": [],
   "source": []
  },
  {
   "cell_type": "code",
   "execution_count": null,
   "metadata": {},
   "outputs": [],
   "source": []
  },
  {
   "cell_type": "code",
   "execution_count": null,
   "metadata": {},
   "outputs": [],
   "source": []
  },
  {
   "cell_type": "code",
   "execution_count": null,
   "metadata": {},
   "outputs": [],
   "source": []
  },
  {
   "cell_type": "code",
   "execution_count": 6,
   "metadata": {},
   "outputs": [
    {
     "data": {
      "text/plain": [
       "[array([0, 0, 0, 0, 0, 0]),\n",
       " array([1, 1, 1, 1, 1, 1]),\n",
       " array([2, 2, 2, 2, 2, 2]),\n",
       " array([3, 3, 3, 3, 3, 3]),\n",
       " array([4, 4, 4, 4, 4, 4]),\n",
       " array([5, 5, 5, 5, 5, 5]),\n",
       " array([6, 6, 6, 6, 6, 6]),\n",
       " array([7, 7, 7, 7, 7, 7]),\n",
       " array([8, 8, 8, 8, 8, 8]),\n",
       " array([9, 9, 9, 9, 9, 9]),\n",
       " array([10, 10, 10, 10, 10, 10]),\n",
       " array([11, 11, 11, 11, 11, 11]),\n",
       " array([12, 12, 12, 12, 12, 12]),\n",
       " array([13, 13, 13, 13, 13, 13]),\n",
       " array([14, 14, 14, 14, 14, 14]),\n",
       " array([15, 15, 15, 15, 15, 15]),\n",
       " array([16, 16, 16, 16, 16, 16]),\n",
       " array([17, 17, 17, 17, 17, 17]),\n",
       " array([18, 18, 18, 18, 18, 18]),\n",
       " array([19, 19, 19, 19, 19, 19]),\n",
       " array([20, 20, 20, 20, 20, 20]),\n",
       " array([21, 21, 21, 21, 21, 21]),\n",
       " array([22, 22, 22, 22, 22, 22]),\n",
       " array([23, 23, 23, 23, 23, 23])]"
      ]
     },
     "execution_count": 6,
     "metadata": {},
     "output_type": "execute_result"
    }
   ],
   "source": [
    "blocks = []\n",
    "for i in range(24):\n",
    "    blocks.append(np.full(6, fill_value=i))\n",
    "blocks    "
   ]
  },
  {
   "cell_type": "markdown",
   "metadata": {},
   "source": [
    "### Visualizing 3D Tensors\n",
    "Lets say I have a tensor with $2 \\times 3 \\times 2$ dimensions. I'll first create blocks of $3 \\times 2$. Then I'll simply stack them on top of each other.\n",
    "\n",
    "$$\n",
    "X = \\begin{bmatrix}\n",
    "\\begin{bmatrix}\n",
    "0 & 0 \\\\\n",
    "0 & 0 \\\\\n",
    "0 & 0 \\\\\n",
    "\\end{bmatrix} \\\\\n",
    "\\begin{bmatrix}\n",
    "1 & 1 \\\\\n",
    "1 & 1 \\\\\n",
    "1 & 1 \\\\\n",
    "\\end{bmatrix} \\\\\n",
    "\\end{bmatrix}\n",
    "$$"
   ]
  },
  {
   "cell_type": "code",
   "execution_count": 7,
   "metadata": {},
   "outputs": [
    {
     "name": "stdout",
     "output_type": "stream",
     "text": [
      "[[[0 0]\n",
      "  [0 0]\n",
      "  [0 0]]\n",
      "\n",
      " [[1 1]\n",
      "  [1 1]\n",
      "  [1 1]]]\n",
      "(2, 3, 2)\n"
     ]
    }
   ],
   "source": [
    "X = np.concatenate((blocks[0], blocks[1]), axis=0).reshape(2, 3, 2)\n",
    "print(X)\n",
    "print(X.shape)"
   ]
  },
  {
   "cell_type": "code",
   "execution_count": 8,
   "metadata": {},
   "outputs": [
    {
     "data": {
      "text/plain": [
       "array([[0, 0],\n",
       "       [0, 0],\n",
       "       [0, 0]])"
      ]
     },
     "execution_count": 8,
     "metadata": {},
     "output_type": "execute_result"
    }
   ],
   "source": [
    "X[0]"
   ]
  },
  {
   "cell_type": "code",
   "execution_count": 9,
   "metadata": {},
   "outputs": [
    {
     "data": {
      "text/plain": [
       "array([[1, 1],\n",
       "       [1, 1],\n",
       "       [1, 1]])"
      ]
     },
     "execution_count": 9,
     "metadata": {},
     "output_type": "execute_result"
    }
   ],
   "source": [
    "X[1]"
   ]
  },
  {
   "cell_type": "code",
   "execution_count": 10,
   "metadata": {},
   "outputs": [
    {
     "data": {
      "text/plain": [
       "array([0, 0])"
      ]
     },
     "execution_count": 10,
     "metadata": {},
     "output_type": "execute_result"
    }
   ],
   "source": [
    "X[0,0]"
   ]
  },
  {
   "cell_type": "markdown",
   "metadata": {},
   "source": [
    "### Visualizing 4D Tensors\n",
    "Now lets say our dimensions are $2 \\times 3 \\times 2 \\times 3$. As usual first I'll take the last 2 dims and create matrix blocks out of those, i.e., I'll create 6 blocks, each of shape $2 \\times 3$. Now I'll take these six blocks and arrange them in a $2 \\times 3$ matrix row-wise.\n",
    "\n",
    "![4d](./visualizing_4D.png)"
   ]
  },
  {
   "cell_type": "code",
   "execution_count": 11,
   "metadata": {},
   "outputs": [
    {
     "name": "stdout",
     "output_type": "stream",
     "text": [
      "[[[[0 0 0]\n",
      "   [0 0 0]]\n",
      "\n",
      "  [[1 1 1]\n",
      "   [1 1 1]]\n",
      "\n",
      "  [[2 2 2]\n",
      "   [2 2 2]]]\n",
      "\n",
      "\n",
      " [[[3 3 3]\n",
      "   [3 3 3]]\n",
      "\n",
      "  [[4 4 4]\n",
      "   [4 4 4]]\n",
      "\n",
      "  [[5 5 5]\n",
      "   [5 5 5]]]]\n",
      "(2, 3, 2, 3)\n"
     ]
    }
   ],
   "source": [
    "X = np.concatenate(\n",
    "    (\n",
    "        blocks[0], \n",
    "        blocks[1],\n",
    "        blocks[2],\n",
    "        blocks[3],\n",
    "        blocks[4],\n",
    "        blocks[5]\n",
    "    ), \n",
    "    axis=0\n",
    ").reshape(2, 3, 2, 3)\n",
    "print(X)\n",
    "print(X.shape)"
   ]
  },
  {
   "cell_type": "code",
   "execution_count": 12,
   "metadata": {},
   "outputs": [
    {
     "data": {
      "text/plain": [
       "array([[[0, 0, 0],\n",
       "        [0, 0, 0]],\n",
       "\n",
       "       [[1, 1, 1],\n",
       "        [1, 1, 1]],\n",
       "\n",
       "       [[2, 2, 2],\n",
       "        [2, 2, 2]]])"
      ]
     },
     "execution_count": 12,
     "metadata": {},
     "output_type": "execute_result"
    }
   ],
   "source": [
    "X[0]"
   ]
  },
  {
   "cell_type": "code",
   "execution_count": 13,
   "metadata": {},
   "outputs": [
    {
     "data": {
      "text/plain": [
       "array([[0, 0, 0],\n",
       "       [0, 0, 0]])"
      ]
     },
     "execution_count": 13,
     "metadata": {},
     "output_type": "execute_result"
    }
   ],
   "source": [
    "X[0,0]"
   ]
  },
  {
   "cell_type": "code",
   "execution_count": 14,
   "metadata": {},
   "outputs": [
    {
     "data": {
      "text/plain": [
       "array([[1, 1, 1],\n",
       "       [1, 1, 1]])"
      ]
     },
     "execution_count": 14,
     "metadata": {},
     "output_type": "execute_result"
    }
   ],
   "source": [
    "X[0,1]"
   ]
  },
  {
   "cell_type": "code",
   "execution_count": 15,
   "metadata": {},
   "outputs": [
    {
     "data": {
      "text/plain": [
       "array([[2, 2, 2],\n",
       "       [2, 2, 2]])"
      ]
     },
     "execution_count": 15,
     "metadata": {},
     "output_type": "execute_result"
    }
   ],
   "source": [
    "X[0,2]"
   ]
  },
  {
   "cell_type": "markdown",
   "metadata": {},
   "source": [
    "### Visualizing a 5D Tensor\n",
    "Lets say I have a tensor with dims $3 \\times 2 \\times 2 \\times 3 \\times 2$. As usual first I break it into blocks of shape $3 \\times 2$. Then I take the next two dims, $2 \\times 2$ and arrange my blocks in matrices of this shape. Then I take the next dim $3$ which is a single number, so I just stack these matrics on top of each other.\n",
    "\n",
    "![5d](./visualizing_5D.png)"
   ]
  },
  {
   "cell_type": "markdown",
   "metadata": {},
   "source": [
    "### Visualizing a 6D Tensor\n",
    "In our final example lets take a tensor with dims $2 \\times 3 \\times 2 \\times 2 \\times 3 \\times 2$. As usual we'll take the last two dims and make blocks of matrices out of those. So each block is of shape $3 \\times 2$. Now we take the next 2 dims $2 \\times 2$ and arrange our blocks in a matrix of this shape. And then we take the next 2 dims $2 \\times 3$ and take our super-blocks and arrange them in a matrix of this shape.\n",
    "\n",
    "![6D](./visualizing_6D.png)"
   ]
  },
  {
   "cell_type": "code",
   "execution_count": null,
   "metadata": {},
   "outputs": [],
   "source": []
  },
  {
   "cell_type": "markdown",
   "metadata": {},
   "source": [
    "## Generating Random Numbers"
   ]
  },
  {
   "cell_type": "markdown",
   "metadata": {},
   "source": [
    "A pseudo random number generator is actually deterministic and it generates a sequence of random numbers. The current \"random\" number in the sequence is depedent on the last number that was generated, i.e., $r_{t+1} = f(r_t)$. Of course the first random that the PRNG object/module generates needs a starting point, i.e., $r_1 = f(r_0)$, but the PRNG needs $r_0$. By default most PRNG use some combination of the current datetime and other device-specific properties like the MAC address, etc. to come up with $r_0$. This ensures that if the PRNG is run again at some later date, the $r_0$ is different and thereby results in a different sequece of random numbers. This $r_0$ is called the random seed. For reproducibility, I can set the random seed to some specific value and that will result in the same sequence every time the PRNG runs. To see this in action see `random_gens.py`."
   ]
  },
  {
   "cell_type": "code",
   "execution_count": 16,
   "metadata": {},
   "outputs": [],
   "source": [
    "# If I restart the Python process, the same seed will result in the same random numbers.\n",
    "rng = np.random.default_rng(12345)"
   ]
  },
  {
   "cell_type": "markdown",
   "metadata": {},
   "source": [
    "### Generate random integers\n",
    "\n",
    "[571 602 221 194 236 676]\n",
    "[[617 942]\n",
    " [709 255]\n",
    " [915 949]]"
   ]
  },
  {
   "cell_type": "code",
   "execution_count": 17,
   "metadata": {},
   "outputs": [
    {
     "name": "stdout",
     "output_type": "stream",
     "text": [
      "[702 235 790 323 212 799]\n",
      "[[646 679]\n",
      " [988 397]\n",
      " [841 339]]\n"
     ]
    }
   ],
   "source": [
    "# Generate random integers in range [10, 1000)\n",
    "print(rng.integers(10, 1000, 6))\n",
    "print(rng.integers(10, 1000, (3, 2)))"
   ]
  },
  {
   "cell_type": "code",
   "execution_count": 18,
   "metadata": {},
   "outputs": [
    {
     "name": "stdout",
     "output_type": "stream",
     "text": [
      "[0.598 0.187 0.673]\n",
      "[[0.942 0.248]\n",
      " [0.949 0.667]\n",
      " [0.096 0.442]]\n"
     ]
    }
   ],
   "source": [
    "# Generate random floats\n",
    "print(rng.random(3))\n",
    "print(rng.random((3, 2)))"
   ]
  },
  {
   "cell_type": "code",
   "execution_count": 19,
   "metadata": {},
   "outputs": [
    {
     "data": {
      "text/plain": [
       "5.150255822520539"
      ]
     },
     "execution_count": 19,
     "metadata": {},
     "output_type": "execute_result"
    }
   ],
   "source": [
    "# Generate randm floats in range [a, b)\n",
    "a = 3.2\n",
    "b = 5.4\n",
    "(b - a) * rng.random() + a"
   ]
  },
  {
   "cell_type": "code",
   "execution_count": 20,
   "metadata": {},
   "outputs": [
    {
     "data": {
      "text/plain": [
       "6.944221722596004"
      ]
     },
     "execution_count": 20,
     "metadata": {},
     "output_type": "execute_result"
    }
   ],
   "source": [
    "# Sample from a normal distribution with mean μ and standard deviation σ\n",
    "μ = 3\n",
    "σ = 5\n",
    "rng.normal(loc=μ, scale=σ)"
   ]
  },
  {
   "cell_type": "markdown",
   "metadata": {
    "heading_collapsed": true
   },
   "source": [
    "## Add Columns"
   ]
  },
  {
   "cell_type": "markdown",
   "metadata": {
    "hidden": true
   },
   "source": [
    "I have a matrix A -\n",
    "$$\n",
    "    A = \\begin{bmatrix}\n",
    "    1 & 2 \\\\\n",
    "    30 & 40 \\\\\n",
    "    500 & 600 \\\\\n",
    "    \\end{bmatrix}\n",
    "$$\n",
    "\n",
    "I want to add a column -\n",
    "$$\n",
    "    b = \\begin{bmatrix}\n",
    "    9 \\\\\n",
    "    90 \\\\\n",
    "    900 \\\\\n",
    "    \\end{bmatrix}\n",
    "$$\n",
    "\n",
    "So the resultant matrxi will be -\n",
    "$$\n",
    "    C = \\begin{bmatrix}\n",
    "    1 & 2 & 9 \\\\\n",
    "    30 & 40 & 90 \\\\\n",
    "    500 & 600 & 900 \\\\\n",
    "    \\end{bmatrix}\n",
    "$$"
   ]
  },
  {
   "cell_type": "code",
   "execution_count": 21,
   "metadata": {
    "hidden": true
   },
   "outputs": [
    {
     "name": "stdout",
     "output_type": "stream",
     "text": [
      "[[  1   2]\n",
      " [ 30  40]\n",
      " [500 600]]\n",
      "[[  9]\n",
      " [ 90]\n",
      " [900]]\n"
     ]
    }
   ],
   "source": [
    "A = np.array([ [1, 2], [30, 40], [500, 600] ])\n",
    "b = np.array([9, 90, 900]).reshape(3, 1)\n",
    "print(A)\n",
    "print(b)"
   ]
  },
  {
   "cell_type": "code",
   "execution_count": 22,
   "metadata": {
    "hidden": true
   },
   "outputs": [
    {
     "name": "stdout",
     "output_type": "stream",
     "text": [
      "[[  1   2   9]\n",
      " [ 30  40  90]\n",
      " [500 600 900]]\n"
     ]
    }
   ],
   "source": [
    "C = np.concatenate((A, b), axis=1)\n",
    "print(C)"
   ]
  },
  {
   "cell_type": "markdown",
   "metadata": {
    "heading_collapsed": true
   },
   "source": [
    "## Add Rows"
   ]
  },
  {
   "cell_type": "markdown",
   "metadata": {
    "hidden": true
   },
   "source": [
    "I have a matrix A -\n",
    "\n",
    "$$\n",
    "    A = \\begin{bmatrix}\n",
    "    1 & 2 \\\\\n",
    "    30 & 40 \\\\\n",
    "    500 & 600 \\\\\n",
    "    \\end{bmatrix}\n",
    "$$\n",
    "\n",
    "And another row vector b -\n",
    "$$\n",
    "    b = \\begin{bmatrix}\n",
    "    7000 & 8000 \\\\\n",
    "    \\end{bmatrix}\n",
    "$$\n",
    "\n",
    "So the resultant matrix will be -\n",
    "$$\n",
    "    C = \\begin{bmatrix}\n",
    "    1 & 2 \\\\\n",
    "    30 & 40 \\\\\n",
    "    500 & 600 \\\\\n",
    "    7000 & 8000 \\\\\n",
    "    \\end{bmatrix}\n",
    "$$"
   ]
  },
  {
   "cell_type": "code",
   "execution_count": 23,
   "metadata": {
    "hidden": true
   },
   "outputs": [
    {
     "name": "stdout",
     "output_type": "stream",
     "text": [
      "[[  1   2]\n",
      " [ 30  40]\n",
      " [500 600]] (3, 2)\n",
      "[[7000 8000]] (1, 2)\n"
     ]
    }
   ],
   "source": [
    "# Even though I might think of [7000, 8000] as having 1 row and 2 columns\n",
    "# i.e., having a shape (1, 2), actually it has a shape of (2,).\n",
    "# Trying to concatenate [7000, 8000] with A will not work as-is. We need to reshape it (1, 2)\n",
    "# first.\n",
    "A = np.array([ [1, 2], [30, 40], [500, 600] ])\n",
    "b = np.array([7000, 8000]).reshape(1, 2)\n",
    "print(A, A.shape)\n",
    "print(b, b.shape)"
   ]
  },
  {
   "cell_type": "code",
   "execution_count": 24,
   "metadata": {
    "hidden": true
   },
   "outputs": [
    {
     "name": "stdout",
     "output_type": "stream",
     "text": [
      "[[   1    2]\n",
      " [  30   40]\n",
      " [ 500  600]\n",
      " [7000 8000]]\n"
     ]
    }
   ],
   "source": [
    "C = np.concatenate((A, b), axis=0)\n",
    "print(C)"
   ]
  },
  {
   "cell_type": "code",
   "execution_count": 25,
   "metadata": {
    "hidden": true
   },
   "outputs": [
    {
     "name": "stdout",
     "output_type": "stream",
     "text": [
      "(3, 2)\n",
      "(1, 2)\n"
     ]
    }
   ],
   "source": [
    "print(A.shape)\n",
    "print(b.shape)"
   ]
  },
  {
   "cell_type": "code",
   "execution_count": null,
   "metadata": {
    "collapsed": true,
    "jupyter": {
     "outputs_hidden": true
    }
   },
   "outputs": [],
   "source": []
  },
  {
   "cell_type": "markdown",
   "metadata": {
    "heading_collapsed": true
   },
   "source": [
    "## To Pandas"
   ]
  },
  {
   "cell_type": "code",
   "execution_count": 26,
   "metadata": {
    "hidden": true,
    "tags": []
   },
   "outputs": [],
   "source": [
    "import pandas as pd"
   ]
  },
  {
   "cell_type": "code",
   "execution_count": 27,
   "metadata": {
    "hidden": true
   },
   "outputs": [
    {
     "name": "stdout",
     "output_type": "stream",
     "text": [
      "[['502' '232' 'like']\n",
      " ['469' '324' 'dislike']\n",
      " ['592' '939' 'neutral']]\n"
     ]
    }
   ],
   "source": [
    "A = np.random.randint(10, 1000, (3, 2))\n",
    "b = np.array(['like', 'dislike', 'neutral']).reshape(3, 1)\n",
    "C = np.concatenate((A, b), axis=1)\n",
    "print(C)"
   ]
  },
  {
   "cell_type": "code",
   "execution_count": 28,
   "metadata": {
    "hidden": true
   },
   "outputs": [
    {
     "name": "stdout",
     "output_type": "stream",
     "text": [
      "<class 'pandas.core.frame.DataFrame'>\n",
      "RangeIndex: 3 entries, 0 to 2\n",
      "Data columns (total 3 columns):\n",
      " #   Column   Non-Null Count  Dtype \n",
      "---  ------   --------------  ----- \n",
      " 0   Apples   3 non-null      object\n",
      " 1   Oranges  3 non-null      object\n",
      " 2   Rating   3 non-null      object\n",
      "dtypes: object(3)\n",
      "memory usage: 200.0+ bytes\n",
      "None\n",
      "       Apples Oranges Rating\n",
      "count       3       3      3\n",
      "unique      3       3      3\n",
      "top       502     232   like\n",
      "freq        1       1      1\n"
     ]
    },
    {
     "data": {
      "text/html": [
       "<div>\n",
       "<style scoped>\n",
       "    .dataframe tbody tr th:only-of-type {\n",
       "        vertical-align: middle;\n",
       "    }\n",
       "\n",
       "    .dataframe tbody tr th {\n",
       "        vertical-align: top;\n",
       "    }\n",
       "\n",
       "    .dataframe thead th {\n",
       "        text-align: right;\n",
       "    }\n",
       "</style>\n",
       "<table border=\"1\" class=\"dataframe\">\n",
       "  <thead>\n",
       "    <tr style=\"text-align: right;\">\n",
       "      <th></th>\n",
       "      <th>Apples</th>\n",
       "      <th>Oranges</th>\n",
       "      <th>Rating</th>\n",
       "    </tr>\n",
       "  </thead>\n",
       "  <tbody>\n",
       "    <tr>\n",
       "      <th>0</th>\n",
       "      <td>502</td>\n",
       "      <td>232</td>\n",
       "      <td>like</td>\n",
       "    </tr>\n",
       "    <tr>\n",
       "      <th>1</th>\n",
       "      <td>469</td>\n",
       "      <td>324</td>\n",
       "      <td>dislike</td>\n",
       "    </tr>\n",
       "    <tr>\n",
       "      <th>2</th>\n",
       "      <td>592</td>\n",
       "      <td>939</td>\n",
       "      <td>neutral</td>\n",
       "    </tr>\n",
       "  </tbody>\n",
       "</table>\n",
       "</div>"
      ],
      "text/plain": [
       "  Apples Oranges   Rating\n",
       "0    502     232     like\n",
       "1    469     324  dislike\n",
       "2    592     939  neutral"
      ]
     },
     "execution_count": 28,
     "metadata": {},
     "output_type": "execute_result"
    }
   ],
   "source": [
    "df = pd.DataFrame(C, columns=['Apples', 'Oranges', 'Rating'])\n",
    "print(df.info())\n",
    "print(df.describe())\n",
    "df"
   ]
  },
  {
   "cell_type": "markdown",
   "metadata": {},
   "source": [
    "## Meshgrids\n",
    "Best explained by doing."
   ]
  },
  {
   "cell_type": "markdown",
   "metadata": {},
   "source": [
    "First lets look at a simple 2D example."
   ]
  },
  {
   "cell_type": "code",
   "execution_count": 29,
   "metadata": {},
   "outputs": [],
   "source": [
    "x = np.array([1, 2, 3])\n",
    "y = np.array([11, 12])\n",
    "xx, yy = np.meshgrid(x, y)"
   ]
  },
  {
   "cell_type": "code",
   "execution_count": 30,
   "metadata": {},
   "outputs": [
    {
     "data": {
      "text/plain": [
       "array([[1, 2, 3],\n",
       "       [1, 2, 3]])"
      ]
     },
     "execution_count": 30,
     "metadata": {},
     "output_type": "execute_result"
    }
   ],
   "source": [
    "xx"
   ]
  },
  {
   "cell_type": "code",
   "execution_count": 31,
   "metadata": {},
   "outputs": [
    {
     "data": {
      "text/plain": [
       "array([[11, 11, 11],\n",
       "       [12, 12, 12]])"
      ]
     },
     "execution_count": 31,
     "metadata": {},
     "output_type": "execute_result"
    }
   ],
   "source": [
    "yy"
   ]
  },
  {
   "cell_type": "markdown",
   "metadata": {},
   "source": [
    "Now lets look at a 3D example."
   ]
  },
  {
   "cell_type": "code",
   "execution_count": 32,
   "metadata": {},
   "outputs": [
    {
     "name": "stdout",
     "output_type": "stream",
     "text": [
      "(3, 5, 2) (3, 5, 2) (3, 5, 2)\n"
     ]
    }
   ],
   "source": [
    "x = np.linspace(0, 1, 5)\n",
    "y = np.linspace(0, 1, 3)\n",
    "z = np.linspace(0, 1, 2)\n",
    "xx, yy, zz = np.meshgrid(x, y, z)\n",
    "print(xx.shape, yy.shape, zz.shape)"
   ]
  },
  {
   "cell_type": "markdown",
   "metadata": {},
   "source": [
    "The above code built 3 tensors each of shape (3, 5, 2). The xx tensor will have the x values repeated along the first axis, yy tensor will have the y values repeated along the second axis, and the zz tensor will have the z values repeated along the last axis. Below is how I visualize this.\n",
    "\n",
    "The above code built three \"cubes\" that all have width of 5 units, height of 3 units, and depth of 2 units. Note, that the order of shapes is size_y, size_x, size_z. That is because it is listing the number of \"rows\" first, which corresponds with the \"height\" of the cube. \n",
    "\n",
    "Ordinarily I'd visualize this tensor as a 3x5 matrix having a vector of size 2 as its elements. However, that way of viewing is not going to be very helpful with a meshgrid tensor. It makes sense to view at as values on the x-y plane, y-z plane, and x-z plane. The size of these planes will be as follows:\n",
    "\n",
    "  * x-y plane: 3x5\n",
    "  * y-z plane: 2x3\n",
    "  * x-z plane: 2x5\n",
    "\n",
    "The xx tensor will have the x values repeated in these planes, yy tensor will have the y values, and the zz tensor will have the z values."
   ]
  },
  {
   "cell_type": "code",
   "execution_count": 33,
   "metadata": {
    "tags": []
   },
   "outputs": [],
   "source": [
    "def print_xy(t, z_ndx):\n",
    "    print(t[:,:,z_ndx])\n",
    "\n",
    "def print_yz(t, x_ndx):\n",
    "    print(t[:,x_ndx,:].T)  # Transposing because I want to view y as cols\n",
    "    \n",
    "def print_xz(t, y_ndx):\n",
    "    print(t[y_ndx, :, :].T)  # Transposing because I want to view x as cols"
   ]
  },
  {
   "cell_type": "markdown",
   "metadata": {},
   "source": [
    "Let us examine the xx cube. It should have the following sheet (lying on the x-y plane):\n",
    "\n",
    "```\n",
    "0.0, 0.25, 0.5, 0.75, 1.0\n",
    "0.0, 0.25, 0.5, 0.75, 1.0\n",
    "0.0, 0.25, 0.5, 0.75, 1.0\n",
    "```\n",
    "\n",
    "duplicated as another layer on top (along the z-axis). So viewed from the y-z plane we should just see \n",
    "\n",
    "```\n",
    "0.0, 0.0, 0.0\n",
    "0.0, 0.0, 0.0\n",
    "```\n",
    "\n",
    "And on the x-z plane we should just see\n",
    "\n",
    "```\n",
    "0.0, 0.25, 0.5, 0.75, 1.0\n",
    "0.0, 0.25, 0.5, 0.75, 1.0\n",
    "```\n",
    "\n",
    "Lets verify that is indeed the case."
   ]
  },
  {
   "cell_type": "code",
   "execution_count": 34,
   "metadata": {},
   "outputs": [
    {
     "name": "stdout",
     "output_type": "stream",
     "text": [
      "View of the xx cube from the top (x-y plane) with the cube sliced at z=0\n",
      "[[0.   0.25 0.5  0.75 1.  ]\n",
      " [0.   0.25 0.5  0.75 1.  ]\n",
      " [0.   0.25 0.5  0.75 1.  ]]\n",
      "\n",
      "View of the xx cube from the side (y-z plane) with the cube sliced at x=0\n",
      "[[0. 0. 0.]\n",
      " [0. 0. 0.]]\n",
      "\n",
      "View of the xx cube from the other side (x-z plane) with the cube sliced at y=0\n",
      "[[0.   0.25 0.5  0.75 1.  ]\n",
      " [0.   0.25 0.5  0.75 1.  ]]\n"
     ]
    }
   ],
   "source": [
    "print('View of the xx cube from the top (x-y plane) with the cube sliced at z=0')\n",
    "print_xy(xx, 0)\n",
    "\n",
    "print('\\nView of the xx cube from the side (y-z plane) with the cube sliced at x=0')\n",
    "print_yz(xx, 0)\n",
    "\n",
    "print('\\nView of the xx cube from the other side (x-z plane) with the cube sliced at y=0')\n",
    "print_xz(xx, 0)"
   ]
  },
  {
   "cell_type": "markdown",
   "metadata": {},
   "source": [
    "Let us now examine the yy cube. It should have the following sheet on the x-y plane\n",
    "\n",
    "```\n",
    "0.0, 0.0, 0.0, 0.0, 0.0\n",
    "0.5, 0.5, 0.5, 0.5, 0.5\n",
    "1.0, 1.0, 1.0, 1.0, 1.0\n",
    "```\n",
    "\n",
    "lying on top of each other (along the z-axis). This means that we'll get this same layer whether we slice the cube at z=0 or z=1.\n",
    "\n",
    "Viewing the cube from the y-z plane we should see\n",
    "\n",
    "```\n",
    "0.0, 0.5, 1.0\n",
    "0.0, 0.5, 1.0\n",
    "```\n",
    "\n",
    "Again, we should get the same layer regardless of where we slice the cube, whether at x=0, 1, 2, or 3.\n",
    "\n",
    "And viewing from the x-z plane we should see\n",
    "\n",
    "```\n",
    "0.0, 0.0, 0.0, 0.0, 0.0\n",
    "0.0, 0.0, 0.0, 0.0, 0.0\n",
    "```\n",
    "\n",
    "But if we slice the x-z plane at x=1 we will get a different layer\n",
    "\n",
    "```\n",
    "0.5, 0.5, 0.5, 0.5, 0.5\n",
    "0.5, 0.5, 0.5, 0.5, 0.5\n",
    "```\n",
    "\n",
    "Lets verify that this is indeed the case"
   ]
  },
  {
   "cell_type": "code",
   "execution_count": 35,
   "metadata": {},
   "outputs": [
    {
     "name": "stdout",
     "output_type": "stream",
     "text": [
      "View of the yy cube from the top (x-y plane) with the cube sliced at z=1\n",
      "[[0.  0.  0.  0.  0. ]\n",
      " [0.5 0.5 0.5 0.5 0.5]\n",
      " [1.  1.  1.  1.  1. ]]\n",
      "\n",
      "View of the yy cube from the side (y-z plane) with the cube sliced at x=0\n",
      "[[0.  0.5 1. ]\n",
      " [0.  0.5 1. ]]\n",
      "\n",
      "View of the yy cube from the side (x-z plane) with the cube sliced at y=0\n",
      "[[0.5 0.5 0.5 0.5 0.5]\n",
      " [0.5 0.5 0.5 0.5 0.5]]\n"
     ]
    }
   ],
   "source": [
    "print('View of the yy cube from the top (x-y plane) with the cube sliced at z=1')\n",
    "print_xy(yy, 1)\n",
    "\n",
    "print('\\nView of the yy cube from the side (y-z plane) with the cube sliced at x=0')\n",
    "print_yz(yy, 0)\n",
    "\n",
    "print('\\nView of the yy cube from the side (x-z plane) with the cube sliced at y=0')\n",
    "print_xz(yy, 1)"
   ]
  },
  {
   "cell_type": "markdown",
   "metadata": {},
   "source": [
    "Finally lets examine the zz cube. \n",
    "\n",
    "Looking at it from our usual top-view slicing the cube at z=0 we will see\n",
    "\n",
    "```\n",
    "0.0, 0.0, 0.0, 0.0, 0.0\n",
    "0.0, 0.0, 0.0, 0.0, 0.0\n",
    "0.0, 0.0, 0.0, 0.0, 0.0\n",
    "```\n",
    "\n",
    "But if we slice the cube at z=1 we see\n",
    "```\n",
    "1.0, 1.0, 1.0, 1.0, 1.0\n",
    "1.0, 1.0, 1.0, 1.0, 1.0\n",
    "1.0, 1.0, 1.0, 1.0, 1.0\n",
    "```\n",
    "\n",
    "The best way to visualize this is sheets in the y-z plane stacked one after the other along the x-axis. Here is what the sheet looks like -\n",
    "\n",
    "```\n",
    "0.0, 0.0, 0.0\n",
    "1.0, 1.0, 1.0\n",
    "```\n",
    "\n",
    "Because this sheet is duplicated along the x-axis, we get the same layer for different values of x.\n",
    "\n",
    "Looking at it from the other side (x-z plane) we see -\n",
    "\n",
    "```\n",
    "0.0, 0.0, 0.0, 0.0, 0.0\n",
    "1.0, 1.0, 1.0, 1.0, 1.0\n",
    "```"
   ]
  },
  {
   "cell_type": "code",
   "execution_count": 36,
   "metadata": {},
   "outputs": [
    {
     "name": "stdout",
     "output_type": "stream",
     "text": [
      "View of the zz cube from the top (x-y plane) with the cube sliced at z=0\n",
      "[[0. 0. 0. 0. 0.]\n",
      " [0. 0. 0. 0. 0.]\n",
      " [0. 0. 0. 0. 0.]]\n",
      "\n",
      "Same top view but with the cube sliced at z=1\n",
      "[[1. 1. 1. 1. 1.]\n",
      " [1. 1. 1. 1. 1.]\n",
      " [1. 1. 1. 1. 1.]]\n",
      "\n",
      "View of the zz cube from the side (y-z plane) with the cube sliced at x=0\n",
      "[[0. 0. 0.]\n",
      " [1. 1. 1.]]\n",
      "\n",
      "View of the zz cube from the other side (x-z plane) with the cube sliced at y=0\n",
      "[[0. 0. 0. 0. 0.]\n",
      " [1. 1. 1. 1. 1.]]\n"
     ]
    }
   ],
   "source": [
    "print('View of the zz cube from the top (x-y plane) with the cube sliced at z=0')\n",
    "print_xy(zz, 0)\n",
    "\n",
    "print('\\nSame top view but with the cube sliced at z=1')\n",
    "print_xy(zz, 1)\n",
    "\n",
    "print('\\nView of the zz cube from the side (y-z plane) with the cube sliced at x=0')\n",
    "print_yz(zz, 0)\n",
    "\n",
    "print('\\nView of the zz cube from the other side (x-z plane) with the cube sliced at y=0')\n",
    "print_xz(zz, 0)\n"
   ]
  },
  {
   "cell_type": "markdown",
   "metadata": {},
   "source": [
    "## Get indexes of some elements"
   ]
  },
  {
   "cell_type": "code",
   "execution_count": 37,
   "metadata": {},
   "outputs": [],
   "source": [
    "a = np.array([\n",
    "    [1, 2, 3],\n",
    "    [4, 5, 0],\n",
    "    [3, 0, 1]\n",
    "])"
   ]
  },
  {
   "cell_type": "code",
   "execution_count": 38,
   "metadata": {},
   "outputs": [
    {
     "data": {
      "text/plain": [
       "array([[1, 2],\n",
       "       [2, 1]])"
      ]
     },
     "execution_count": 38,
     "metadata": {},
     "output_type": "execute_result"
    }
   ],
   "source": [
    "np.argwhere(a == 0)"
   ]
  },
  {
   "cell_type": "code",
   "execution_count": 39,
   "metadata": {},
   "outputs": [
    {
     "data": {
      "text/plain": [
       "array([[3],\n",
       "       [5]])"
      ]
     },
     "execution_count": 39,
     "metadata": {},
     "output_type": "execute_result"
    }
   ],
   "source": [
    "a = np.array([1, 2, 3, 0, 4, 0, 5])\n",
    "np.argwhere(a == 0)"
   ]
  },
  {
   "cell_type": "code",
   "execution_count": 40,
   "metadata": {},
   "outputs": [
    {
     "data": {
      "text/plain": [
       "array([0, 1, 2, 4, 6])"
      ]
     },
     "execution_count": 40,
     "metadata": {},
     "output_type": "execute_result"
    }
   ],
   "source": [
    "np.flatnonzero(a)"
   ]
  },
  {
   "cell_type": "markdown",
   "metadata": {},
   "source": [
    "There is a function called `nonzero` but its output is pretty non-intuitive. I could not make sense of it. Better to use `argwhere` and reshape the output as desired."
   ]
  },
  {
   "cell_type": "markdown",
   "metadata": {},
   "source": [
    "## Get some indexes in a tensor\n",
    "Given a matrix \n",
    "\n",
    "$$\n",
    "\\begin{bmatrix}\n",
    "a_{00} \\; a_{01} \\; a_{02} \\\\\n",
    "a_{10} \\; a_{11} \\; a_{12} \\\\\n",
    "a_{20} \\; a_{21} \\; a_{22} \\\\\n",
    "a_{30} \\; a_{31} \\; a_{32} \\\\\n",
    "a_{40} \\; a_{41} \\; a_{42} \\\\\n",
    "\\end{bmatrix}\n",
    "$$\n",
    "\n",
    "To get a subset of the matrix in red\n",
    "$$\n",
    "\\begin{bmatrix}\n",
    "a_{00} \\; a_{01} \\; a_{02} \\\\\n",
    "a_{10} \\; a_{11} \\; a_{12} \\\\\n",
    "\\color{red}{a_{20} \\; a_{21}} \\; a_{22} \\\\\n",
    "\\color{red}{a_{30} \\; a_{31}} \\; a_{32} \\\\\n",
    "a_{40} \\; a_{41} \\; a_{42} \\\\\n",
    "\\end{bmatrix}\n",
    "$$\n",
    "\n"
   ]
  },
  {
   "cell_type": "code",
   "execution_count": 41,
   "metadata": {},
   "outputs": [
    {
     "data": {
      "text/plain": [
       "array([[ 0,  1,  2],\n",
       "       [ 3,  4,  5],\n",
       "       [ 6,  7,  8],\n",
       "       [ 9, 10, 11],\n",
       "       [12, 13, 14]])"
      ]
     },
     "execution_count": 41,
     "metadata": {},
     "output_type": "execute_result"
    }
   ],
   "source": [
    "a = np.arange(15).reshape(5, 3)\n",
    "a"
   ]
  },
  {
   "cell_type": "code",
   "execution_count": 42,
   "metadata": {},
   "outputs": [
    {
     "data": {
      "text/plain": [
       "array([[ 6,  7],\n",
       "       [ 9, 10]])"
      ]
     },
     "execution_count": 42,
     "metadata": {},
     "output_type": "execute_result"
    }
   ],
   "source": [
    "a[[2, 3]][:, [0, 1]]"
   ]
  },
  {
   "cell_type": "markdown",
   "metadata": {},
   "source": [
    "However to get elements in pink\n",
    "$$\n",
    "\\begin{bmatrix}\n",
    "a_{00} \\; a_{01} \\; a_{02} \\\\\n",
    "a_{10} \\; a_{11} \\; a_{12} \\\\\n",
    "\\color{pink}{a_{20}} \\; a_{21} \\; a_{22} \\\\\n",
    "a_{30} \\; \\color{pink}{a_{31}} \\; a_{32} \\\\\n",
    "a_{40} \\; a_{41} \\; a_{42} \\\\\n",
    "\\end{bmatrix}\n",
    "$$"
   ]
  },
  {
   "cell_type": "code",
   "execution_count": 43,
   "metadata": {},
   "outputs": [
    {
     "data": {
      "text/plain": [
       "array([ 6, 10])"
      ]
     },
     "execution_count": 43,
     "metadata": {},
     "output_type": "execute_result"
    }
   ],
   "source": [
    "a[[2, 3], [0, 1]]"
   ]
  },
  {
   "cell_type": "markdown",
   "metadata": {},
   "source": [
    "## Einsum\n",
    "Multiply elements and sum them. `ij, jk -> ik` this means $X_{ik} = \\sum_j A_{ik} \\times B_{jk}$. This is to say that lets fix the values of $i$ and $k$, and then pick elements from $A$ and $B$ by varying $j$ along the specified dimension, multiply these elements, and finally add everything up. This is nothing but the familiar matrix multiplication. Whatever dims do not show up in the output are the ones we need to vary  and sum over. The multiplication is indicated by the number of input elements (2 in this case)."
   ]
  },
  {
   "cell_type": "code",
   "execution_count": 44,
   "metadata": {},
   "outputs": [
    {
     "data": {
      "text/plain": [
       "array([[ 76,  82],\n",
       "       [184, 199]])"
      ]
     },
     "execution_count": 44,
     "metadata": {},
     "output_type": "execute_result"
    }
   ],
   "source": [
    "A = np.array([\n",
    "    [1, 2, 3],\n",
    "    [4, 5, 6]\n",
    "])\n",
    "B = np.array([\n",
    "    [10, 11],\n",
    "    [12, 13],\n",
    "    [14, 15]\n",
    "])\n",
    "X = np.einsum(\"ij, jk -> ik\", A, B)\n",
    "X"
   ]
  },
  {
   "cell_type": "code",
   "execution_count": 45,
   "metadata": {},
   "outputs": [
    {
     "data": {
      "text/plain": [
       "array([[ 76,  82],\n",
       "       [184, 199]])"
      ]
     },
     "execution_count": 45,
     "metadata": {},
     "output_type": "execute_result"
    }
   ],
   "source": [
    "A @ B"
   ]
  },
  {
   "cell_type": "markdown",
   "metadata": {},
   "source": [
    "### Permutation\n",
    "`ij -> ji` simply makes the rows as columns and vice versa $X_{ji} = A_{ij}$. Both the dims show up in the output, so there is nothing to sum over. And because there is only element in the input, there is nothing to multiply either. This looks like a transpose but can be much more general than that. For a multi-dim tensor `...ij -> ...ji`, keep all the other dims as-is, but for the last 2 dims flip the rows and cols. Similarly `ij... -> ji...` flips the first two rows and cols keeping everything inside as-is."
   ]
  },
  {
   "cell_type": "code",
   "execution_count": 46,
   "metadata": {},
   "outputs": [
    {
     "data": {
      "text/plain": [
       "array([[1, 4],\n",
       "       [2, 5],\n",
       "       [3, 6]])"
      ]
     },
     "execution_count": 46,
     "metadata": {},
     "output_type": "execute_result"
    }
   ],
   "source": [
    "A = np.array([\n",
    "    [1, 2, 3],\n",
    "    [4, 5, 6]\n",
    "])\n",
    "np.einsum(\"ij -> ji\", A)"
   ]
  },
  {
   "cell_type": "code",
   "execution_count": 47,
   "metadata": {},
   "outputs": [
    {
     "data": {
      "text/plain": [
       "array([[[ 0,  1,  2],\n",
       "        [ 3,  4,  5]],\n",
       "\n",
       "       [[ 6,  7,  8],\n",
       "        [ 9, 10, 11]]])"
      ]
     },
     "execution_count": 47,
     "metadata": {},
     "output_type": "execute_result"
    }
   ],
   "source": [
    "A = np.arange(12).reshape(2, 2, 3)\n",
    "A"
   ]
  },
  {
   "cell_type": "code",
   "execution_count": 48,
   "metadata": {},
   "outputs": [
    {
     "data": {
      "text/plain": [
       "array([[[ 0,  3],\n",
       "        [ 1,  4],\n",
       "        [ 2,  5]],\n",
       "\n",
       "       [[ 6,  9],\n",
       "        [ 7, 10],\n",
       "        [ 8, 11]]])"
      ]
     },
     "execution_count": 48,
     "metadata": {},
     "output_type": "execute_result"
    }
   ],
   "source": [
    "np.einsum(\"...ij -> ...ji\", A)"
   ]
  },
  {
   "cell_type": "code",
   "execution_count": 49,
   "metadata": {},
   "outputs": [
    {
     "data": {
      "text/plain": [
       "array([[[ 0,  1,  2],\n",
       "        [ 6,  7,  8]],\n",
       "\n",
       "       [[ 3,  4,  5],\n",
       "        [ 9, 10, 11]]])"
      ]
     },
     "execution_count": 49,
     "metadata": {},
     "output_type": "execute_result"
    }
   ],
   "source": [
    "np.einsum(\"ij... -> ji...\", A)"
   ]
  },
  {
   "cell_type": "code",
   "execution_count": 50,
   "metadata": {},
   "outputs": [
    {
     "data": {
      "text/plain": [
       "array([0, 1, 2])"
      ]
     },
     "execution_count": 50,
     "metadata": {},
     "output_type": "execute_result"
    }
   ],
   "source": [
    "A[0,0]"
   ]
  },
  {
   "cell_type": "code",
   "execution_count": 51,
   "metadata": {},
   "outputs": [
    {
     "data": {
      "text/plain": [
       "array([3, 4, 5])"
      ]
     },
     "execution_count": 51,
     "metadata": {},
     "output_type": "execute_result"
    }
   ],
   "source": [
    "A[0,1]"
   ]
  },
  {
   "cell_type": "code",
   "execution_count": 52,
   "metadata": {},
   "outputs": [
    {
     "data": {
      "text/plain": [
       "array([6, 7, 8])"
      ]
     },
     "execution_count": 52,
     "metadata": {},
     "output_type": "execute_result"
    }
   ],
   "source": [
    "A[1,0]"
   ]
  },
  {
   "cell_type": "code",
   "execution_count": 53,
   "metadata": {},
   "outputs": [
    {
     "data": {
      "text/plain": [
       "array([ 9, 10, 11])"
      ]
     },
     "execution_count": 53,
     "metadata": {},
     "output_type": "execute_result"
    }
   ],
   "source": [
    "A[1,1]"
   ]
  },
  {
   "cell_type": "markdown",
   "metadata": {},
   "source": [
    "### Summation\n",
    "Sum all the elements of a tensor. Now the output is not another tensor but a scalar so this is written as `ij ->`. Both the inputs do not show up in the output, so both must be summed over. And there is only element in the input, so nothing to multiply. $X = \\sum_i \\sum_j A_{ij}$."
   ]
  },
  {
   "cell_type": "code",
   "execution_count": 54,
   "metadata": {},
   "outputs": [
    {
     "data": {
      "text/plain": [
       "21"
      ]
     },
     "execution_count": 54,
     "metadata": {},
     "output_type": "execute_result"
    }
   ],
   "source": [
    "A = np.array([\n",
    "    [1, 2, 3],\n",
    "    [4, 5, 6]\n",
    "])\n",
    "np.einsum(\"ij ->\", A)"
   ]
  },
  {
   "cell_type": "markdown",
   "metadata": {},
   "source": [
    "### Column Sum\n",
    "Sum the columns of the input tensor. For a 2D input tensor, the output will be a 1D vector. And there is nothing to multiply. `ij -> j` $X_j = \\sum_j A_{ij}$."
   ]
  },
  {
   "cell_type": "code",
   "execution_count": 55,
   "metadata": {},
   "outputs": [
    {
     "data": {
      "text/plain": [
       "array([5, 7, 9])"
      ]
     },
     "execution_count": 55,
     "metadata": {},
     "output_type": "execute_result"
    }
   ],
   "source": [
    "A = np.array([\n",
    "    [1, 2, 3],\n",
    "    [4, 5, 6]\n",
    "])\n",
    "np.einsum(\"ij -> j\", A)"
   ]
  },
  {
   "cell_type": "markdown",
   "metadata": {},
   "source": [
    "### Row Sum\n",
    "Similar logic as before `ij -> i` is $X_i = \\sum_j A_{ij}$."
   ]
  },
  {
   "cell_type": "code",
   "execution_count": 56,
   "metadata": {},
   "outputs": [
    {
     "data": {
      "text/plain": [
       "array([ 6, 15])"
      ]
     },
     "execution_count": 56,
     "metadata": {},
     "output_type": "execute_result"
    }
   ],
   "source": [
    "A = np.array([\n",
    "    [1, 2, 3],\n",
    "    [4, 5, 6]\n",
    "])\n",
    "np.einsum(\"ij -> i\", A)"
   ]
  },
  {
   "cell_type": "markdown",
   "metadata": {},
   "source": [
    "### Matrix-Vector Multiplication\n",
    "`ij, j -> i` is $X_i = \\sum_j A_{ij} v_{j}$. The output is a single dimension vector and we want to take our cursor and vary it along the columns, i.e., slide it along the row in the first matrix for a fixed $i$. There are two elements in the input, so these must be multiplied prior to summing."
   ]
  },
  {
   "cell_type": "code",
   "execution_count": 57,
   "metadata": {},
   "outputs": [
    {
     "name": "stdout",
     "output_type": "stream",
     "text": [
      "[ 50 122]\n",
      "[ 50 122]\n"
     ]
    }
   ],
   "source": [
    "A = np.array([\n",
    "    [1, 2, 3],\n",
    "    [4, 5, 6]\n",
    "])\n",
    "v = np.array([7, 8, 9])\n",
    "print(A @ v.T)\n",
    "print(np.einsum(\"ij, j -> i\", A, v))"
   ]
  },
  {
   "cell_type": "markdown",
   "metadata": {},
   "source": [
    "### Dot Product\n",
    "`i,i ->`. This is saying that the result is a scalar, hence no dims in the output. There are two elements in the input, so they must be multiplied. And $i$ does not show up in the output, so the summation needs to happen by varying $i$. $x = \\sum_i u_i v_i$."
   ]
  },
  {
   "cell_type": "code",
   "execution_count": 58,
   "metadata": {},
   "outputs": [
    {
     "name": "stdout",
     "output_type": "stream",
     "text": [
      "32\n"
     ]
    },
    {
     "data": {
      "text/plain": [
       "32"
      ]
     },
     "execution_count": 58,
     "metadata": {},
     "output_type": "execute_result"
    }
   ],
   "source": [
    "u = np.array([1, 2, 3])\n",
    "v = np.array([4, 5, 6])\n",
    "print(u.T @ v)\n",
    "np.einsum(\"i,i ->\", u, v)"
   ]
  },
  {
   "cell_type": "code",
   "execution_count": 59,
   "metadata": {},
   "outputs": [
    {
     "data": {
      "text/plain": [
       "91"
      ]
     },
     "execution_count": 59,
     "metadata": {},
     "output_type": "execute_result"
    }
   ],
   "source": [
    "A = np.array([\n",
    "    [1, 2, 3],\n",
    "    [4, 5, 6]\n",
    "])\n",
    "np.einsum(\"ij,ij ->\", A, A)"
   ]
  },
  {
   "cell_type": "code",
   "execution_count": 60,
   "metadata": {},
   "outputs": [
    {
     "data": {
      "text/plain": [
       "91"
      ]
     },
     "execution_count": 60,
     "metadata": {},
     "output_type": "execute_result"
    }
   ],
   "source": [
    "np.sum(A.flatten() ** 2)"
   ]
  },
  {
   "cell_type": "markdown",
   "metadata": {},
   "source": [
    "### Hadamard Product\n",
    "This is elementwise product of two matrices of the same shape. `ij, ij -> ij`. This is saying that the output is a 2D matrix as well. The input has two elements so they must be multiplied. There is nothing that shows up in the input but not in the output, so no summation. $X_{ij} = A_{ij} B_{ij}$."
   ]
  },
  {
   "cell_type": "code",
   "execution_count": 61,
   "metadata": {},
   "outputs": [
    {
     "name": "stdout",
     "output_type": "stream",
     "text": [
      "[[ 7 16 27]\n",
      " [40 55 72]]\n",
      "[[ 7 16 27]\n",
      " [40 55 72]]\n"
     ]
    }
   ],
   "source": [
    "A = np.array([\n",
    "    [1, 2, 3],\n",
    "    [4, 5, 6]\n",
    "])\n",
    "B = np.array([\n",
    "    [7, 8, 9],\n",
    "    [10, 11, 12]\n",
    "])\n",
    "print(A * B)\n",
    "print(np.einsum(\"ij, ij -> ij\", A, B))"
   ]
  },
  {
   "cell_type": "markdown",
   "metadata": {},
   "source": [
    "### Outer Product\n",
    "Outer product of two (column) vectors is $uv^T$. `i, j -> ij`. This tells us that the output is a 2D tensor and inputs are 1D each. There are two elements in the input, so they must be multiplied together. And finally, there are no missing indexes in the output, so nothing to sum over. $X_{ij} = u_i v_j$."
   ]
  },
  {
   "cell_type": "code",
   "execution_count": 62,
   "metadata": {},
   "outputs": [
    {
     "name": "stdout",
     "output_type": "stream",
     "text": [
      "[[ 4  5  6]\n",
      " [ 8 10 12]\n",
      " [12 15 18]]\n",
      "[[ 4  5  6]\n",
      " [ 8 10 12]\n",
      " [12 15 18]]\n",
      "[[ 4  5  6]\n",
      " [ 8 10 12]\n",
      " [12 15 18]]\n"
     ]
    }
   ],
   "source": [
    "u = np.array([1, 2, 3])\n",
    "v = np.array([4, 5, 6])\n",
    "print(u.reshape(-1, 1) @ v.reshape(-1, 1).T)\n",
    "print(np.outer(u, v))\n",
    "print(np.einsum(\"i, j -> ij\", u, v))"
   ]
  },
  {
   "cell_type": "markdown",
   "metadata": {},
   "source": [
    "### Batch Multiply\n",
    "Lets say I have a batch of photos $m \\times h \\times w$ and I want to multiply this with an FC layer that is $w \\times c$. `mhw, wc -> mhc` is $X_{mhc} = \\sum_w A_{mhw} F_{wc}$. A simpler and more intuitive way to say this is `...ij, ...jk -> ik`, i.e., keep the outer dims as-is, I don't care how many there are, but take the two inner most dims and do a matrix multiplication of those."
   ]
  },
  {
   "cell_type": "code",
   "execution_count": 63,
   "metadata": {},
   "outputs": [
    {
     "data": {
      "text/plain": [
       "(2, 2, 3)"
      ]
     },
     "execution_count": 63,
     "metadata": {},
     "output_type": "execute_result"
    }
   ],
   "source": [
    "A = np.array([\n",
    "    [\n",
    "        [1, 2, 3],\n",
    "        [4, 5, 6]\n",
    "    ],\n",
    "    [\n",
    "        [7, 8, 9],\n",
    "        [10, 11, 12]\n",
    "    ],\n",
    "])\n",
    "A.shape"
   ]
  },
  {
   "cell_type": "code",
   "execution_count": 64,
   "metadata": {},
   "outputs": [
    {
     "data": {
      "text/plain": [
       "(3, 2)"
      ]
     },
     "execution_count": 64,
     "metadata": {},
     "output_type": "execute_result"
    }
   ],
   "source": [
    "W = np.array([\n",
    "    [0.1, 0.2],\n",
    "    [0.3, 0.4],\n",
    "    [0.5, 0.6]\n",
    "])\n",
    "W.shape"
   ]
  },
  {
   "cell_type": "code",
   "execution_count": 65,
   "metadata": {},
   "outputs": [
    {
     "data": {
      "text/plain": [
       "array([[2.2, 2.8],\n",
       "       [4.9, 6.4]])"
      ]
     },
     "execution_count": 65,
     "metadata": {},
     "output_type": "execute_result"
    }
   ],
   "source": [
    "A[0] @ W"
   ]
  },
  {
   "cell_type": "code",
   "execution_count": 66,
   "metadata": {},
   "outputs": [
    {
     "data": {
      "text/plain": [
       "array([[ 7.6, 10. ],\n",
       "       [10.3, 13.6]])"
      ]
     },
     "execution_count": 66,
     "metadata": {},
     "output_type": "execute_result"
    }
   ],
   "source": [
    "A[1] @ W"
   ]
  },
  {
   "cell_type": "code",
   "execution_count": 67,
   "metadata": {},
   "outputs": [
    {
     "data": {
      "text/plain": [
       "array([[[ 2.2,  2.8],\n",
       "        [ 4.9,  6.4]],\n",
       "\n",
       "       [[ 7.6, 10. ],\n",
       "        [10.3, 13.6]]])"
      ]
     },
     "execution_count": 67,
     "metadata": {},
     "output_type": "execute_result"
    }
   ],
   "source": [
    "X = np.array([A[0] @ W, A[1] @ W])\n",
    "X"
   ]
  },
  {
   "cell_type": "code",
   "execution_count": 68,
   "metadata": {},
   "outputs": [
    {
     "data": {
      "text/plain": [
       "array([[[ 2.2,  2.8],\n",
       "        [ 4.9,  6.4]],\n",
       "\n",
       "       [[ 7.6, 10. ],\n",
       "        [10.3, 13.6]]])"
      ]
     },
     "execution_count": 68,
     "metadata": {},
     "output_type": "execute_result"
    }
   ],
   "source": [
    "np.einsum(\"...ij, ...jk -> ...ik\", A, W)"
   ]
  },
  {
   "cell_type": "code",
   "execution_count": 69,
   "metadata": {},
   "outputs": [
    {
     "data": {
      "text/plain": [
       "array([[[ 2.2,  2.8],\n",
       "        [ 4.9,  6.4]],\n",
       "\n",
       "       [[ 7.6, 10. ],\n",
       "        [10.3, 13.6]]])"
      ]
     },
     "execution_count": 69,
     "metadata": {},
     "output_type": "execute_result"
    }
   ],
   "source": [
    "np.einsum(\"mhw, wc -> mhc\", A, W)"
   ]
  },
  {
   "cell_type": "code",
   "execution_count": 70,
   "metadata": {},
   "outputs": [
    {
     "data": {
      "text/plain": [
       "(2, 2, 3)"
      ]
     },
     "execution_count": 70,
     "metadata": {},
     "output_type": "execute_result"
    }
   ],
   "source": [
    "A.shape"
   ]
  },
  {
   "cell_type": "code",
   "execution_count": 71,
   "metadata": {},
   "outputs": [
    {
     "ename": "ValueError",
     "evalue": "too many values to unpack (expected 4)",
     "output_type": "error",
     "traceback": [
      "\u001b[0;31m---------------------------------------------------------------------------\u001b[0m",
      "\u001b[0;31mValueError\u001b[0m                                Traceback (most recent call last)",
      "\u001b[1;32m/Users/avilayparekh/projects/bitbucket/learn/learn-scipy/numpy/numpy.ipynb Cell 104'\u001b[0m in \u001b[0;36m<cell line: 1>\u001b[0;34m()\u001b[0m\n\u001b[0;32m----> <a href='vscode-notebook-cell:/Users/avilayparekh/projects/bitbucket/learn/learn-scipy/numpy/numpy.ipynb#ch0000102?line=0'>1</a>\u001b[0m _, a, b, c \u001b[39m=\u001b[39m (\u001b[39m1\u001b[39m, \u001b[39m2\u001b[39m, \u001b[39m3\u001b[39m, \u001b[39m4\u001b[39m, \u001b[39m5\u001b[39m, \u001b[39m6\u001b[39m)\n",
      "\u001b[0;31mValueError\u001b[0m: too many values to unpack (expected 4)"
     ]
    }
   ],
   "source": [
    "_, a, b, c = (1, 2, 3, 4, 5, 6)"
   ]
  },
  {
   "cell_type": "code",
   "execution_count": null,
   "metadata": {},
   "outputs": [
    {
     "data": {
      "text/plain": [
       "4"
      ]
     },
     "execution_count": 66,
     "metadata": {},
     "output_type": "execute_result"
    }
   ],
   "source": [
    "a"
   ]
  },
  {
   "cell_type": "code",
   "execution_count": null,
   "metadata": {},
   "outputs": [
    {
     "data": {
      "text/plain": [
       "5"
      ]
     },
     "execution_count": 67,
     "metadata": {},
     "output_type": "execute_result"
    }
   ],
   "source": [
    "b"
   ]
  },
  {
   "cell_type": "code",
   "execution_count": null,
   "metadata": {},
   "outputs": [
    {
     "data": {
      "text/plain": [
       "6"
      ]
     },
     "execution_count": 68,
     "metadata": {},
     "output_type": "execute_result"
    }
   ],
   "source": [
    "c"
   ]
  },
  {
   "cell_type": "code",
   "execution_count": null,
   "metadata": {},
   "outputs": [],
   "source": []
  }
 ],
 "metadata": {
  "interpreter": {
   "hash": "784114715d987f376fd768172d6fb64b1fb77afe12a7e2b607779dcdec22a151"
  },
  "kernelspec": {
   "display_name": "Python 3 (ipykernel)",
   "language": "python",
   "name": "python3"
  },
  "language_info": {
   "codemirror_mode": {
    "name": "ipython",
    "version": 3
   },
   "file_extension": ".py",
   "mimetype": "text/x-python",
   "name": "python",
   "nbconvert_exporter": "python",
   "pygments_lexer": "ipython3",
   "version": "3.13.1"
  }
 },
 "nbformat": 4,
 "nbformat_minor": 4
}
