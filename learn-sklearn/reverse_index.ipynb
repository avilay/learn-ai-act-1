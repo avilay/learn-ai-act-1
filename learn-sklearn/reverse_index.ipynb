{
 "cells": [
  {
   "cell_type": "code",
   "execution_count": 1,
   "metadata": {},
   "outputs": [],
   "source": [
    "import numpy as np\n",
    "from sklearn.feature_extraction.text import TfidfVectorizer"
   ]
  },
  {
   "cell_type": "code",
   "execution_count": 2,
   "metadata": {},
   "outputs": [],
   "source": [
    "np.set_printoptions(edgeitems=30, linewidth=100000, precision=3)"
   ]
  },
  {
   "cell_type": "code",
   "execution_count": 3,
   "metadata": {},
   "outputs": [],
   "source": [
    "corpus = [\n",
    "    \"lorem ipsum news dolor about set\",\n",
    "    \"sed do news about organic food campaign incididunt  eiusmod tempor \",\n",
    "    \"labore et news of presidential campaign dolore magna about\",\n",
    "    \"Ut enim news of presidential campaign ad minim presidential candidate veniam\",\n",
    "    \"sint news of organic food campaign occaecat campaign non about campaign\"\n",
    "]"
   ]
  },
  {
   "cell_type": "code",
   "execution_count": 4,
   "metadata": {},
   "outputs": [],
   "source": [
    "vectorizer = TfidfVectorizer(smooth_idf=False)"
   ]
  },
  {
   "cell_type": "code",
   "execution_count": 5,
   "metadata": {},
   "outputs": [
    {
     "data": {
      "text/plain": [
       "array([[0.224, 0.   , 0.   , 0.   , 0.   , 0.479, 0.   , 0.   , 0.   , 0.   , 0.   , 0.   , 0.479, 0.   , 0.479, 0.   , 0.   , 0.183, 0.   , 0.   , 0.   , 0.   , 0.   , 0.   , 0.479, 0.   , 0.   , 0.   , 0.   ],\n",
       "       [0.182, 0.   , 0.182, 0.   , 0.387, 0.   , 0.   , 0.387, 0.   , 0.   , 0.284, 0.387, 0.   , 0.   , 0.   , 0.   , 0.   , 0.148, 0.   , 0.   , 0.   , 0.284, 0.   , 0.387, 0.   , 0.   , 0.387, 0.   , 0.   ],\n",
       "       [0.201, 0.   , 0.201, 0.   , 0.   , 0.   , 0.428, 0.   , 0.   , 0.428, 0.   , 0.   , 0.   , 0.428, 0.   , 0.428, 0.   , 0.164, 0.   , 0.   , 0.248, 0.   , 0.314, 0.   , 0.   , 0.   , 0.   , 0.   , 0.   ],\n",
       "       [0.   , 0.336, 0.157, 0.336, 0.   , 0.   , 0.   , 0.   , 0.336, 0.   , 0.   , 0.   , 0.   , 0.   , 0.   , 0.   , 0.336, 0.129, 0.   , 0.   , 0.195, 0.   , 0.493, 0.   , 0.   , 0.   , 0.   , 0.336, 0.336],\n",
       "       [0.18 , 0.   , 0.541, 0.   , 0.   , 0.   , 0.   , 0.   , 0.   , 0.   , 0.282, 0.   , 0.   , 0.   , 0.   , 0.   , 0.   , 0.147, 0.385, 0.385, 0.223, 0.282, 0.   , 0.   , 0.   , 0.385, 0.   , 0.   , 0.   ]])"
      ]
     },
     "execution_count": 5,
     "metadata": {},
     "output_type": "execute_result"
    }
   ],
   "source": [
    "tfidf = vectorizer.fit_transform(corpus).toarray()\n",
    "tfidf"
   ]
  },
  {
   "cell_type": "code",
   "execution_count": 12,
   "metadata": {},
   "outputs": [
    {
     "data": {
      "text/plain": [
       "array([0.442, 0.   , 0.442, 0.   , 0.   , 0.   , 0.   , 0.   , 0.   , 0.   , 0.   , 0.   , 0.   , 0.   , 0.   , 0.   , 0.   , 0.361, 0.   , 0.   , 0.   , 0.   , 0.692, 0.   , 0.   , 0.   , 0.   , 0.   , 0.   ])"
      ]
     },
     "execution_count": 12,
     "metadata": {},
     "output_type": "execute_result"
    }
   ],
   "source": [
    "query = vectorizer.transform([\"news about presidential campaign\"]).toarray()[0]\n",
    "query"
   ]
  },
  {
   "cell_type": "code",
   "execution_count": 13,
   "metadata": {},
   "outputs": [
    {
     "data": {
      "text/plain": [
       "array([[0.165],\n",
       "       [0.214],\n",
       "       [0.454],\n",
       "       [0.458],\n",
       "       [0.372]])"
      ]
     },
     "execution_count": 13,
     "metadata": {},
     "output_type": "execute_result"
    }
   ],
   "source": [
    "tfidf @ query.reshape(-1, 1)"
   ]
  },
  {
   "cell_type": "code",
   "execution_count": 15,
   "metadata": {},
   "outputs": [
    {
     "data": {
      "text/plain": [
       "array([ 0,  2, 17, 22])"
      ]
     },
     "execution_count": 15,
     "metadata": {},
     "output_type": "execute_result"
    }
   ],
   "source": [
    "tokens_in_query = np.flatnonzero(query)\n",
    "tokens_in_query"
   ]
  },
  {
   "cell_type": "code",
   "execution_count": 18,
   "metadata": {},
   "outputs": [
    {
     "data": {
      "text/plain": [
       "array([0, 1, 2, 4])"
      ]
     },
     "execution_count": 18,
     "metadata": {},
     "output_type": "execute_result"
    }
   ],
   "source": [
    "docs_with_tok_0 = np.flatnonzero(tfidf[:,0])\n",
    "docs_with_tok_0"
   ]
  },
  {
   "cell_type": "code",
   "execution_count": 19,
   "metadata": {},
   "outputs": [
    {
     "data": {
      "text/plain": [
       "array([1, 2, 3, 4])"
      ]
     },
     "execution_count": 19,
     "metadata": {},
     "output_type": "execute_result"
    }
   ],
   "source": [
    "docs_with_tok_2 = np.flatnonzero(tfidf[:, 2])\n",
    "docs_with_tok_2"
   ]
  },
  {
   "cell_type": "code",
   "execution_count": 20,
   "metadata": {},
   "outputs": [
    {
     "data": {
      "text/plain": [
       "array([0, 1, 2, 3, 4])"
      ]
     },
     "execution_count": 20,
     "metadata": {},
     "output_type": "execute_result"
    }
   ],
   "source": [
    "docs_with_tok_17 = np.flatnonzero(tfidf[:, 17])\n",
    "docs_with_tok_17"
   ]
  },
  {
   "cell_type": "code",
   "execution_count": 22,
   "metadata": {},
   "outputs": [
    {
     "data": {
      "text/plain": [
       "array([2, 3])"
      ]
     },
     "execution_count": 22,
     "metadata": {},
     "output_type": "execute_result"
    }
   ],
   "source": [
    "docs_with_tok_22 = np.flatnonzero(tfidf[:,22])\n",
    "docs_with_tok_22"
   ]
  },
  {
   "cell_type": "code",
   "execution_count": 28,
   "metadata": {},
   "outputs": [
    {
     "data": {
      "text/plain": [
       "array([0, 1, 2, 4, 1, 2, 3, 4, 0, 1, 2, 3, 4, 2, 3])"
      ]
     },
     "execution_count": 28,
     "metadata": {},
     "output_type": "execute_result"
    }
   ],
   "source": [
    "all_docs = np.concatenate((docs_with_tok_0, docs_with_tok_2, docs_with_tok_17, docs_with_tok_22), axis=0)\n",
    "all_docs"
   ]
  },
  {
   "cell_type": "code",
   "execution_count": 29,
   "metadata": {},
   "outputs": [
    {
     "data": {
      "text/plain": [
       "array([0, 1, 2, 3, 4])"
      ]
     },
     "execution_count": 29,
     "metadata": {},
     "output_type": "execute_result"
    }
   ],
   "source": [
    "relevant_docs = np.unique(all_docs)\n",
    "relevant_docs"
   ]
  },
  {
   "cell_type": "code",
   "execution_count": 32,
   "metadata": {},
   "outputs": [
    {
     "data": {
      "text/plain": [
       "array([[0.165],\n",
       "       [0.214],\n",
       "       [0.454],\n",
       "       [0.458],\n",
       "       [0.372]])"
      ]
     },
     "execution_count": 32,
     "metadata": {},
     "output_type": "execute_result"
    }
   ],
   "source": [
    "tfidf[relevant_docs] @ query.reshape(-1, 1)"
   ]
  },
  {
   "cell_type": "code",
   "execution_count": 47,
   "metadata": {},
   "outputs": [
    {
     "data": {
      "text/plain": [
       "array([0.   , 0.   , 0.   , 0.   , 0.   , 0.   , 0.   , 0.   , 0.   , 0.   , 0.   , 0.   , 0.   , 0.   , 0.806, 0.   , 0.   , 0.   , 0.   , 0.   , 0.   , 0.   , 0.592, 0.   , 0.   , 0.   , 0.   , 0.   , 0.   ])"
      ]
     },
     "execution_count": 47,
     "metadata": {},
     "output_type": "execute_result"
    }
   ],
   "source": [
    "query = vectorizer.transform([\"lorem presidential\"]).toarray()[0]\n",
    "query"
   ]
  },
  {
   "cell_type": "code",
   "execution_count": 52,
   "metadata": {},
   "outputs": [
    {
     "data": {
      "text/plain": [
       "array([14, 22])"
      ]
     },
     "execution_count": 52,
     "metadata": {},
     "output_type": "execute_result"
    }
   ],
   "source": [
    "toks_in_query = np.argwhere(query > 0).flatten()\n",
    "toks_in_query"
   ]
  },
  {
   "cell_type": "code",
   "execution_count": 60,
   "metadata": {},
   "outputs": [
    {
     "data": {
      "text/plain": [
       "array([0, 2, 3])"
      ]
     },
     "execution_count": 60,
     "metadata": {},
     "output_type": "execute_result"
    }
   ],
   "source": [
    "docs = []\n",
    "for tok in toks_in_query:\n",
    "    docs_with_tok = np.argwhere(tfidf[:, tok] > 0).flatten()\n",
    "    docs.append(docs_with_tok)\n",
    "relevant_docs = np.concatenate(docs, axis=0)\n",
    "relevant_docs"
   ]
  },
  {
   "cell_type": "code",
   "execution_count": 61,
   "metadata": {},
   "outputs": [],
   "source": [
    "sub_tfidf = tfidf[relevant_docs]"
   ]
  },
  {
   "cell_type": "code",
   "execution_count": 62,
   "metadata": {},
   "outputs": [
    {
     "data": {
      "text/plain": [
       "array([[0.386],\n",
       "       [0.186],\n",
       "       [0.292]])"
      ]
     },
     "execution_count": 62,
     "metadata": {},
     "output_type": "execute_result"
    }
   ],
   "source": [
    "sub_tfidf @ query.reshape(-1, 1)"
   ]
  },
  {
   "cell_type": "code",
   "execution_count": 64,
   "metadata": {},
   "outputs": [
    {
     "data": {
      "text/plain": [
       "array([[0.386],\n",
       "       [0.   ],\n",
       "       [0.186],\n",
       "       [0.292],\n",
       "       [0.   ]])"
      ]
     },
     "execution_count": 64,
     "metadata": {},
     "output_type": "execute_result"
    }
   ],
   "source": [
    "tfidf @ query.reshape(-1, 1)"
   ]
  },
  {
   "cell_type": "code",
   "execution_count": null,
   "metadata": {},
   "outputs": [],
   "source": []
  }
 ],
 "metadata": {
  "kernelspec": {
   "display_name": "Python 3",
   "language": "python",
   "name": "python3"
  },
  "language_info": {
   "codemirror_mode": {
    "name": "ipython",
    "version": 3
   },
   "file_extension": ".py",
   "mimetype": "text/x-python",
   "name": "python",
   "nbconvert_exporter": "python",
   "pygments_lexer": "ipython3",
   "version": "3.8.8"
  }
 },
 "nbformat": 4,
 "nbformat_minor": 4
}
