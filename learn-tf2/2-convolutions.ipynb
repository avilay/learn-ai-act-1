{
 "cells": [
  {
   "cell_type": "code",
   "execution_count": 1,
   "metadata": {},
   "outputs": [],
   "source": [
    "import os.path as path\n",
    "import numpy as np\n",
    "import tensorflow as tf"
   ]
  },
  {
   "cell_type": "code",
   "execution_count": 2,
   "metadata": {},
   "outputs": [],
   "source": [
    "np.set_printoptions(precision=3)"
   ]
  },
  {
   "cell_type": "markdown",
   "metadata": {},
   "source": [
    "# 2D Convolutions\n",
    "https://towardsdatascience.com/a-comprehensive-introduction-to-different-types-of-convolutions-in-deep-learning-669281e58215"
   ]
  },
  {
   "cell_type": "markdown",
   "metadata": {},
   "source": [
    "### Single Channel"
   ]
  },
  {
   "cell_type": "code",
   "execution_count": 3,
   "metadata": {},
   "outputs": [],
   "source": [
    "red_filter = np.array([\n",
    "    [1., 0., -1.],\n",
    "    [1., 0., -1.],\n",
    "    [1., 0., -1.]\n",
    "])\n",
    "red_filter_full = tf.constant(red_filter.reshape(3, 3, 1, 1))"
   ]
  },
  {
   "cell_type": "code",
   "execution_count": 4,
   "metadata": {},
   "outputs": [],
   "source": [
    "red = np.array([\n",
    "    [10., 10., 10., 0., 0., 0.],\n",
    "    [10., 10., 10., 0., 0., 0.],\n",
    "    [10., 10., 10., 0., 0., 0.],\n",
    "    [10., 10., 10., 0., 0., 0.],\n",
    "    [10., 10., 10., 0., 0., 0.],\n",
    "    [10., 10., 10., 0., 0., 0.]\n",
    "])\n",
    "red_batch_of_one = tf.constant(red.reshape((1, 6, 6, 1)))"
   ]
  },
  {
   "cell_type": "code",
   "execution_count": 5,
   "metadata": {},
   "outputs": [
    {
     "name": "stdout",
     "output_type": "stream",
     "text": [
      "(1, 4, 4, 1)\n"
     ]
    },
    {
     "data": {
      "text/plain": [
       "<tf.Tensor: id=6, shape=(4, 4), dtype=float64, numpy=\n",
       "array([[ 0., 30., 30.,  0.],\n",
       "       [ 0., 30., 30.,  0.],\n",
       "       [ 0., 30., 30.,  0.],\n",
       "       [ 0., 30., 30.,  0.]])>"
      ]
     },
     "execution_count": 5,
     "metadata": {},
     "output_type": "execute_result"
    }
   ],
   "source": [
    "red_out = tf.nn.conv2d(red_batch_of_one, red_filter_full, strides=1, padding=\"VALID\")\n",
    "print(red_out.shape)\n",
    "red_out[0, :, :, 0]"
   ]
  },
  {
   "cell_type": "code",
   "execution_count": 6,
   "metadata": {},
   "outputs": [],
   "source": [
    "green_filter = np.array([\n",
    "    [2., 0., -2.],\n",
    "    [2., 0., -2.],\n",
    "    [2., 0., -2.]\n",
    "])\n",
    "green_filter_full = tf.constant(green_filter.reshape(3, 3, 1, 1))"
   ]
  },
  {
   "cell_type": "code",
   "execution_count": 7,
   "metadata": {},
   "outputs": [],
   "source": [
    "green = np.array([\n",
    "    [30., 30., 30., 0., 0., 0.],\n",
    "    [30., 30., 30., 0., 0., 0.],\n",
    "    [30., 30., 30., 0., 0., 0.],\n",
    "    [30., 30., 30., 0., 0., 0.],\n",
    "    [30., 30., 30., 0., 0., 0.],\n",
    "    [30., 30., 30., 0., 0., 0.]\n",
    "])\n",
    "green_batch_of_one = tf.constant(green.reshape((1, 6, 6, 1)))"
   ]
  },
  {
   "cell_type": "code",
   "execution_count": 8,
   "metadata": {},
   "outputs": [
    {
     "name": "stdout",
     "output_type": "stream",
     "text": [
      "(1, 4, 4, 1)\n"
     ]
    },
    {
     "data": {
      "text/plain": [
       "<tf.Tensor: id=13, shape=(4, 4), dtype=float64, numpy=\n",
       "array([[  0., 180., 180.,   0.],\n",
       "       [  0., 180., 180.,   0.],\n",
       "       [  0., 180., 180.,   0.],\n",
       "       [  0., 180., 180.,   0.]])>"
      ]
     },
     "execution_count": 8,
     "metadata": {},
     "output_type": "execute_result"
    }
   ],
   "source": [
    "green_out = tf.nn.conv2d(green_batch_of_one, green_filter_full, strides=1, padding=\"VALID\")\n",
    "print(green_out.shape)\n",
    "green_out[0, :, :, 0]"
   ]
  },
  {
   "cell_type": "code",
   "execution_count": 9,
   "metadata": {},
   "outputs": [],
   "source": [
    "blue_filter = np.array([\n",
    "    [0.5, 0., -0.5],\n",
    "    [0.5, 0., -0.5],\n",
    "    [0.5, 0., -0.5]\n",
    "])\n",
    "blue_filter_full = tf.constant(blue_filter.reshape(3, 3, 1, 1))"
   ]
  },
  {
   "cell_type": "code",
   "execution_count": 10,
   "metadata": {},
   "outputs": [],
   "source": [
    "blue = np.array([\n",
    "    [20., 20., 20., 0., 0., 0.],\n",
    "    [20., 20., 20., 0., 0., 0.],\n",
    "    [20., 20., 20., 0., 0., 0.],\n",
    "    [20., 20., 20., 0., 0., 0.],\n",
    "    [20., 20., 20., 0., 0., 0.],\n",
    "    [20., 20., 20., 0., 0., 0.]\n",
    "])\n",
    "blue_batch_of_one = tf.constant(blue.reshape((1, 6, 6, 1)))"
   ]
  },
  {
   "cell_type": "code",
   "execution_count": 11,
   "metadata": {},
   "outputs": [
    {
     "name": "stdout",
     "output_type": "stream",
     "text": [
      "(1, 4, 4, 1)\n"
     ]
    },
    {
     "data": {
      "text/plain": [
       "<tf.Tensor: id=20, shape=(4, 4), dtype=float64, numpy=\n",
       "array([[ 0., 30., 30.,  0.],\n",
       "       [ 0., 30., 30.,  0.],\n",
       "       [ 0., 30., 30.,  0.],\n",
       "       [ 0., 30., 30.,  0.]])>"
      ]
     },
     "execution_count": 11,
     "metadata": {},
     "output_type": "execute_result"
    }
   ],
   "source": [
    "blue_out = tf.nn.conv2d(blue_batch_of_one, blue_filter_full, strides=1, padding=\"VALID\")\n",
    "print(blue_out.shape)\n",
    "blue_out[0, :, :, 0]"
   ]
  },
  {
   "cell_type": "markdown",
   "metadata": {},
   "source": [
    "### Multi-Channel"
   ]
  },
  {
   "cell_type": "code",
   "execution_count": 12,
   "metadata": {},
   "outputs": [
    {
     "name": "stdout",
     "output_type": "stream",
     "text": [
      "(3, 3, 3, 1)\n"
     ]
    },
    {
     "data": {
      "text/plain": [
       "<tf.Tensor: id=25, shape=(3, 3), dtype=float64, numpy=\n",
       "array([[ 1.,  0., -1.],\n",
       "       [ 1.,  0., -1.],\n",
       "       [ 1.,  0., -1.]])>"
      ]
     },
     "execution_count": 12,
     "metadata": {},
     "output_type": "execute_result"
    }
   ],
   "source": [
    "img_filter = np.moveaxis(np.stack([red_filter, green_filter, blue_filter]), 0, 2)\n",
    "img_filter_full = tf.constant(np.expand_dims(img_filter, axis=3))\n",
    "print(img_filter_full.shape)\n",
    "img_filter_full[:, :, 0, 0]"
   ]
  },
  {
   "cell_type": "code",
   "execution_count": 13,
   "metadata": {},
   "outputs": [
    {
     "name": "stdout",
     "output_type": "stream",
     "text": [
      "(1, 6, 6, 3)\n"
     ]
    },
    {
     "data": {
      "text/plain": [
       "<tf.Tensor: id=30, shape=(6, 6), dtype=float64, numpy=\n",
       "array([[30., 30., 30.,  0.,  0.,  0.],\n",
       "       [30., 30., 30.,  0.,  0.,  0.],\n",
       "       [30., 30., 30.,  0.,  0.,  0.],\n",
       "       [30., 30., 30.,  0.,  0.,  0.],\n",
       "       [30., 30., 30.,  0.,  0.,  0.],\n",
       "       [30., 30., 30.,  0.,  0.,  0.]])>"
      ]
     },
     "execution_count": 13,
     "metadata": {},
     "output_type": "execute_result"
    }
   ],
   "source": [
    "img = np.moveaxis(np.stack([red, green, blue]), 0, 2)\n",
    "img_batch_of_one = tf.constant(np.expand_dims(img, axis=0))\n",
    "print(img_batch_of_one.shape)\n",
    "img_batch_of_one[0, :, :, 1]"
   ]
  },
  {
   "cell_type": "code",
   "execution_count": 14,
   "metadata": {},
   "outputs": [
    {
     "data": {
      "text/plain": [
       "<tf.Tensor: id=35, shape=(4, 4), dtype=float64, numpy=\n",
       "array([[  0., 240., 240.,   0.],\n",
       "       [  0., 240., 240.,   0.],\n",
       "       [  0., 240., 240.,   0.],\n",
       "       [  0., 240., 240.,   0.]])>"
      ]
     },
     "execution_count": 14,
     "metadata": {},
     "output_type": "execute_result"
    }
   ],
   "source": [
    "img_out = tf.nn.conv2d(img_batch_of_one, img_filter_full, strides=1, padding=\"VALID\")\n",
    "img_out.shape\n",
    "img_out[0, :, :, 0]"
   ]
  },
  {
   "cell_type": "code",
   "execution_count": 15,
   "metadata": {},
   "outputs": [
    {
     "data": {
      "text/plain": [
       "array([[  0., 240., 240.,   0.],\n",
       "       [  0., 240., 240.,   0.],\n",
       "       [  0., 240., 240.,   0.],\n",
       "       [  0., 240., 240.,   0.]])"
      ]
     },
     "execution_count": 15,
     "metadata": {},
     "output_type": "execute_result"
    }
   ],
   "source": [
    "np.squeeze(red_out) + np.squeeze(green_out) + np.squeeze(blue_out)"
   ]
  },
  {
   "cell_type": "markdown",
   "metadata": {},
   "source": [
    "## Separable Convolutions"
   ]
  },
  {
   "cell_type": "markdown",
   "metadata": {},
   "source": [
    "### Spatially Separable"
   ]
  },
  {
   "cell_type": "code",
   "execution_count": 22,
   "metadata": {},
   "outputs": [
    {
     "data": {
      "text/plain": [
       "array([[ 1.,  0., -1.],\n",
       "       [ 1.,  0., -1.],\n",
       "       [ 1.,  0., -1.]])"
      ]
     },
     "execution_count": 22,
     "metadata": {},
     "output_type": "execute_result"
    }
   ],
   "source": [
    "red_filter_v = np.array([1., 1., 1.]).reshape(3, 1)\n",
    "red_filter_h = np.array([1., 0., -1]).reshape(1, 3)\n",
    "red_filter_v @ red_filter_h"
   ]
  },
  {
   "cell_type": "code",
   "execution_count": 24,
   "metadata": {},
   "outputs": [
    {
     "data": {
      "text/plain": [
       "TensorShape([1, 4, 6, 1])"
      ]
     },
     "execution_count": 24,
     "metadata": {},
     "output_type": "execute_result"
    }
   ],
   "source": [
    "red_filter_v_full = tf.constant(red_filter_v.reshape(3, 1, 1, 1))\n",
    "red_out_tmp = tf.nn.conv2d(red_batch_of_one, red_filter_v_full, strides=1, padding=\"VALID\")\n",
    "red_out_tmp.shape"
   ]
  },
  {
   "cell_type": "code",
   "execution_count": 25,
   "metadata": {},
   "outputs": [
    {
     "data": {
      "text/plain": [
       "TensorShape([1, 4, 4, 1])"
      ]
     },
     "execution_count": 25,
     "metadata": {},
     "output_type": "execute_result"
    }
   ],
   "source": [
    "red_filter_h_full = tf.constant(red_filter_h.reshape(1, 3, 1, 1))\n",
    "red_out = tf.nn.conv2d(red_out_tmp, red_filter_h_full, strides=1, padding=\"VALID\")\n",
    "red_out.shape"
   ]
  },
  {
   "cell_type": "code",
   "execution_count": 26,
   "metadata": {},
   "outputs": [
    {
     "data": {
      "text/plain": [
       "<tf.Tensor: id=45, shape=(4, 4), dtype=float64, numpy=\n",
       "array([[ 0., 30., 30.,  0.],\n",
       "       [ 0., 30., 30.,  0.],\n",
       "       [ 0., 30., 30.,  0.],\n",
       "       [ 0., 30., 30.,  0.]])>"
      ]
     },
     "execution_count": 26,
     "metadata": {},
     "output_type": "execute_result"
    }
   ],
   "source": [
    "red_out[0, :, :, 0]"
   ]
  },
  {
   "cell_type": "markdown",
   "metadata": {},
   "source": [
    "### Depthwise Separable"
   ]
  },
  {
   "cell_type": "code",
   "execution_count": 36,
   "metadata": {},
   "outputs": [
    {
     "data": {
      "text/plain": [
       "<tf.Tensor: id=55, shape=(3, 4, 4), dtype=float64, numpy=\n",
       "array([[[  0.,  30.,  30.,   0.],\n",
       "        [  0.,  30.,  30.,   0.],\n",
       "        [  0.,  30.,  30.,   0.],\n",
       "        [  0.,  30.,  30.,   0.]],\n",
       "\n",
       "       [[  0., 180., 180.,   0.],\n",
       "        [  0., 180., 180.,   0.],\n",
       "        [  0., 180., 180.,   0.],\n",
       "        [  0., 180., 180.,   0.]],\n",
       "\n",
       "       [[  0.,  30.,  30.,   0.],\n",
       "        [  0.,  30.,  30.,   0.],\n",
       "        [  0.,  30.,  30.,   0.],\n",
       "        [  0.,  30.,  30.,   0.]]])>"
      ]
     },
     "execution_count": 36,
     "metadata": {},
     "output_type": "execute_result"
    }
   ],
   "source": [
    "tf.stack([tf.squeeze(red_out), tf.squeeze(green_out), tf.squeeze(blue_out)])"
   ]
  },
  {
   "cell_type": "code",
   "execution_count": 47,
   "metadata": {},
   "outputs": [
    {
     "data": {
      "text/plain": [
       "TensorShape([1, 4, 4, 3])"
      ]
     },
     "execution_count": 47,
     "metadata": {},
     "output_type": "execute_result"
    }
   ],
   "source": [
    "tp = np.stack([red_out.numpy().squeeze(), green_out.numpy().squeeze(), blue_out.numpy().squeeze()])\n",
    "sepout = tf.expand_dims(tf.constant(np.moveaxis(tp, 0, 2)), axis=0)\n",
    "sepout.shape"
   ]
  },
  {
   "cell_type": "code",
   "execution_count": 48,
   "metadata": {},
   "outputs": [
    {
     "data": {
      "text/plain": [
       "<tf.Tensor: id=77, shape=(4, 4), dtype=float64, numpy=\n",
       "array([[ 0., 30., 30.,  0.],\n",
       "       [ 0., 30., 30.,  0.],\n",
       "       [ 0., 30., 30.,  0.],\n",
       "       [ 0., 30., 30.,  0.]])>"
      ]
     },
     "execution_count": 48,
     "metadata": {},
     "output_type": "execute_result"
    }
   ],
   "source": [
    "sepout[0, :, :, 2]"
   ]
  },
  {
   "cell_type": "code",
   "execution_count": 55,
   "metadata": {},
   "outputs": [],
   "source": [
    "one = np.array([1., 1., 1.]).reshape(1, 1, 3, 1)"
   ]
  },
  {
   "cell_type": "code",
   "execution_count": 56,
   "metadata": {},
   "outputs": [
    {
     "data": {
      "text/plain": [
       "array([[1.]])"
      ]
     },
     "execution_count": 56,
     "metadata": {},
     "output_type": "execute_result"
    }
   ],
   "source": [
    "one[:, :, 0, 0]"
   ]
  },
  {
   "cell_type": "code",
   "execution_count": 60,
   "metadata": {},
   "outputs": [
    {
     "data": {
      "text/plain": [
       "TensorShape([1, 4, 4, 1])"
      ]
     },
     "execution_count": 60,
     "metadata": {},
     "output_type": "execute_result"
    }
   ],
   "source": [
    "img_out_one = tf.nn.conv2d(sepout, one, strides=1, padding=\"VALID\")\n",
    "img_out_one.shape"
   ]
  },
  {
   "cell_type": "code",
   "execution_count": 61,
   "metadata": {},
   "outputs": [
    {
     "data": {
      "text/plain": [
       "<tf.Tensor: id=87, shape=(4, 4), dtype=float64, numpy=\n",
       "array([[  0., 240., 240.,   0.],\n",
       "       [  0., 240., 240.,   0.],\n",
       "       [  0., 240., 240.,   0.],\n",
       "       [  0., 240., 240.,   0.]])>"
      ]
     },
     "execution_count": 61,
     "metadata": {},
     "output_type": "execute_result"
    }
   ],
   "source": [
    "img_out_one[0, :, :, 0]"
   ]
  }
 ],
 "metadata": {
  "kernelspec": {
   "display_name": "Python 3",
   "language": "python",
   "name": "python3"
  },
  "language_info": {
   "codemirror_mode": {
    "name": "ipython",
    "version": 3
   },
   "file_extension": ".py",
   "mimetype": "text/x-python",
   "name": "python",
   "nbconvert_exporter": "python",
   "pygments_lexer": "ipython3",
   "version": "3.7.3"
  }
 },
 "nbformat": 4,
 "nbformat_minor": 2
}
