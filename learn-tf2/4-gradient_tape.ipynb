{
 "cells": [
  {
   "cell_type": "code",
   "execution_count": 1,
   "metadata": {},
   "outputs": [],
   "source": [
    "import numpy as np\n",
    "import tensorflow as tf\n",
    "from bokeh.io import output_notebook, show\n",
    "from bokeh.plotting import figure"
   ]
  },
  {
   "cell_type": "code",
   "execution_count": 2,
   "metadata": {},
   "outputs": [
    {
     "data": {
      "text/html": [
       "\n",
       "    <div class=\"bk-root\">\n",
       "        <a href=\"https://bokeh.pydata.org\" target=\"_blank\" class=\"bk-logo bk-logo-small bk-logo-notebook\"></a>\n",
       "        <span id=\"1001\">Loading BokehJS ...</span>\n",
       "    </div>"
      ]
     },
     "metadata": {},
     "output_type": "display_data"
    },
    {
     "data": {
      "application/javascript": [
       "\n",
       "(function(root) {\n",
       "  function now() {\n",
       "    return new Date();\n",
       "  }\n",
       "\n",
       "  var force = true;\n",
       "\n",
       "  if (typeof root._bokeh_onload_callbacks === \"undefined\" || force === true) {\n",
       "    root._bokeh_onload_callbacks = [];\n",
       "    root._bokeh_is_loading = undefined;\n",
       "  }\n",
       "\n",
       "  var JS_MIME_TYPE = 'application/javascript';\n",
       "  var HTML_MIME_TYPE = 'text/html';\n",
       "  var EXEC_MIME_TYPE = 'application/vnd.bokehjs_exec.v0+json';\n",
       "  var CLASS_NAME = 'output_bokeh rendered_html';\n",
       "\n",
       "  /**\n",
       "   * Render data to the DOM node\n",
       "   */\n",
       "  function render(props, node) {\n",
       "    var script = document.createElement(\"script\");\n",
       "    node.appendChild(script);\n",
       "  }\n",
       "\n",
       "  /**\n",
       "   * Handle when an output is cleared or removed\n",
       "   */\n",
       "  function handleClearOutput(event, handle) {\n",
       "    var cell = handle.cell;\n",
       "\n",
       "    var id = cell.output_area._bokeh_element_id;\n",
       "    var server_id = cell.output_area._bokeh_server_id;\n",
       "    // Clean up Bokeh references\n",
       "    if (id != null && id in Bokeh.index) {\n",
       "      Bokeh.index[id].model.document.clear();\n",
       "      delete Bokeh.index[id];\n",
       "    }\n",
       "\n",
       "    if (server_id !== undefined) {\n",
       "      // Clean up Bokeh references\n",
       "      var cmd = \"from bokeh.io.state import curstate; print(curstate().uuid_to_server['\" + server_id + \"'].get_sessions()[0].document.roots[0]._id)\";\n",
       "      cell.notebook.kernel.execute(cmd, {\n",
       "        iopub: {\n",
       "          output: function(msg) {\n",
       "            var id = msg.content.text.trim();\n",
       "            if (id in Bokeh.index) {\n",
       "              Bokeh.index[id].model.document.clear();\n",
       "              delete Bokeh.index[id];\n",
       "            }\n",
       "          }\n",
       "        }\n",
       "      });\n",
       "      // Destroy server and session\n",
       "      var cmd = \"import bokeh.io.notebook as ion; ion.destroy_server('\" + server_id + \"')\";\n",
       "      cell.notebook.kernel.execute(cmd);\n",
       "    }\n",
       "  }\n",
       "\n",
       "  /**\n",
       "   * Handle when a new output is added\n",
       "   */\n",
       "  function handleAddOutput(event, handle) {\n",
       "    var output_area = handle.output_area;\n",
       "    var output = handle.output;\n",
       "\n",
       "    // limit handleAddOutput to display_data with EXEC_MIME_TYPE content only\n",
       "    if ((output.output_type != \"display_data\") || (!output.data.hasOwnProperty(EXEC_MIME_TYPE))) {\n",
       "      return\n",
       "    }\n",
       "\n",
       "    var toinsert = output_area.element.find(\".\" + CLASS_NAME.split(' ')[0]);\n",
       "\n",
       "    if (output.metadata[EXEC_MIME_TYPE][\"id\"] !== undefined) {\n",
       "      toinsert[toinsert.length - 1].firstChild.textContent = output.data[JS_MIME_TYPE];\n",
       "      // store reference to embed id on output_area\n",
       "      output_area._bokeh_element_id = output.metadata[EXEC_MIME_TYPE][\"id\"];\n",
       "    }\n",
       "    if (output.metadata[EXEC_MIME_TYPE][\"server_id\"] !== undefined) {\n",
       "      var bk_div = document.createElement(\"div\");\n",
       "      bk_div.innerHTML = output.data[HTML_MIME_TYPE];\n",
       "      var script_attrs = bk_div.children[0].attributes;\n",
       "      for (var i = 0; i < script_attrs.length; i++) {\n",
       "        toinsert[toinsert.length - 1].firstChild.setAttribute(script_attrs[i].name, script_attrs[i].value);\n",
       "      }\n",
       "      // store reference to server id on output_area\n",
       "      output_area._bokeh_server_id = output.metadata[EXEC_MIME_TYPE][\"server_id\"];\n",
       "    }\n",
       "  }\n",
       "\n",
       "  function register_renderer(events, OutputArea) {\n",
       "\n",
       "    function append_mime(data, metadata, element) {\n",
       "      // create a DOM node to render to\n",
       "      var toinsert = this.create_output_subarea(\n",
       "        metadata,\n",
       "        CLASS_NAME,\n",
       "        EXEC_MIME_TYPE\n",
       "      );\n",
       "      this.keyboard_manager.register_events(toinsert);\n",
       "      // Render to node\n",
       "      var props = {data: data, metadata: metadata[EXEC_MIME_TYPE]};\n",
       "      render(props, toinsert[toinsert.length - 1]);\n",
       "      element.append(toinsert);\n",
       "      return toinsert\n",
       "    }\n",
       "\n",
       "    /* Handle when an output is cleared or removed */\n",
       "    events.on('clear_output.CodeCell', handleClearOutput);\n",
       "    events.on('delete.Cell', handleClearOutput);\n",
       "\n",
       "    /* Handle when a new output is added */\n",
       "    events.on('output_added.OutputArea', handleAddOutput);\n",
       "\n",
       "    /**\n",
       "     * Register the mime type and append_mime function with output_area\n",
       "     */\n",
       "    OutputArea.prototype.register_mime_type(EXEC_MIME_TYPE, append_mime, {\n",
       "      /* Is output safe? */\n",
       "      safe: true,\n",
       "      /* Index of renderer in `output_area.display_order` */\n",
       "      index: 0\n",
       "    });\n",
       "  }\n",
       "\n",
       "  // register the mime type if in Jupyter Notebook environment and previously unregistered\n",
       "  if (root.Jupyter !== undefined) {\n",
       "    var events = require('base/js/events');\n",
       "    var OutputArea = require('notebook/js/outputarea').OutputArea;\n",
       "\n",
       "    if (OutputArea.prototype.mime_types().indexOf(EXEC_MIME_TYPE) == -1) {\n",
       "      register_renderer(events, OutputArea);\n",
       "    }\n",
       "  }\n",
       "\n",
       "  \n",
       "  if (typeof (root._bokeh_timeout) === \"undefined\" || force === true) {\n",
       "    root._bokeh_timeout = Date.now() + 5000;\n",
       "    root._bokeh_failed_load = false;\n",
       "  }\n",
       "\n",
       "  var NB_LOAD_WARNING = {'data': {'text/html':\n",
       "     \"<div style='background-color: #fdd'>\\n\"+\n",
       "     \"<p>\\n\"+\n",
       "     \"BokehJS does not appear to have successfully loaded. If loading BokehJS from CDN, this \\n\"+\n",
       "     \"may be due to a slow or bad network connection. Possible fixes:\\n\"+\n",
       "     \"</p>\\n\"+\n",
       "     \"<ul>\\n\"+\n",
       "     \"<li>re-rerun `output_notebook()` to attempt to load from CDN again, or</li>\\n\"+\n",
       "     \"<li>use INLINE resources instead, as so:</li>\\n\"+\n",
       "     \"</ul>\\n\"+\n",
       "     \"<code>\\n\"+\n",
       "     \"from bokeh.resources import INLINE\\n\"+\n",
       "     \"output_notebook(resources=INLINE)\\n\"+\n",
       "     \"</code>\\n\"+\n",
       "     \"</div>\"}};\n",
       "\n",
       "  function display_loaded() {\n",
       "    var el = document.getElementById(\"1001\");\n",
       "    if (el != null) {\n",
       "      el.textContent = \"BokehJS is loading...\";\n",
       "    }\n",
       "    if (root.Bokeh !== undefined) {\n",
       "      if (el != null) {\n",
       "        el.textContent = \"BokehJS \" + root.Bokeh.version + \" successfully loaded.\";\n",
       "      }\n",
       "    } else if (Date.now() < root._bokeh_timeout) {\n",
       "      setTimeout(display_loaded, 100)\n",
       "    }\n",
       "  }\n",
       "\n",
       "\n",
       "  function run_callbacks() {\n",
       "    try {\n",
       "      root._bokeh_onload_callbacks.forEach(function(callback) {\n",
       "        if (callback != null)\n",
       "          callback();\n",
       "      });\n",
       "    } finally {\n",
       "      delete root._bokeh_onload_callbacks\n",
       "    }\n",
       "    console.debug(\"Bokeh: all callbacks have finished\");\n",
       "  }\n",
       "\n",
       "  function load_libs(css_urls, js_urls, callback) {\n",
       "    if (css_urls == null) css_urls = [];\n",
       "    if (js_urls == null) js_urls = [];\n",
       "\n",
       "    root._bokeh_onload_callbacks.push(callback);\n",
       "    if (root._bokeh_is_loading > 0) {\n",
       "      console.debug(\"Bokeh: BokehJS is being loaded, scheduling callback at\", now());\n",
       "      return null;\n",
       "    }\n",
       "    if (js_urls == null || js_urls.length === 0) {\n",
       "      run_callbacks();\n",
       "      return null;\n",
       "    }\n",
       "    console.debug(\"Bokeh: BokehJS not loaded, scheduling load and callback at\", now());\n",
       "    root._bokeh_is_loading = css_urls.length + js_urls.length;\n",
       "\n",
       "    function on_load() {\n",
       "      root._bokeh_is_loading--;\n",
       "      if (root._bokeh_is_loading === 0) {\n",
       "        console.debug(\"Bokeh: all BokehJS libraries/stylesheets loaded\");\n",
       "        run_callbacks()\n",
       "      }\n",
       "    }\n",
       "\n",
       "    function on_error() {\n",
       "      console.error(\"failed to load \" + url);\n",
       "    }\n",
       "\n",
       "    for (var i = 0; i < css_urls.length; i++) {\n",
       "      var url = css_urls[i];\n",
       "      const element = document.createElement(\"link\");\n",
       "      element.onload = on_load;\n",
       "      element.onerror = on_error;\n",
       "      element.rel = \"stylesheet\";\n",
       "      element.type = \"text/css\";\n",
       "      element.href = url;\n",
       "      console.debug(\"Bokeh: injecting link tag for BokehJS stylesheet: \", url);\n",
       "      document.body.appendChild(element);\n",
       "    }\n",
       "\n",
       "    for (var i = 0; i < js_urls.length; i++) {\n",
       "      var url = js_urls[i];\n",
       "      var element = document.createElement('script');\n",
       "      element.onload = on_load;\n",
       "      element.onerror = on_error;\n",
       "      element.async = false;\n",
       "      element.src = url;\n",
       "      console.debug(\"Bokeh: injecting script tag for BokehJS library: \", url);\n",
       "      document.head.appendChild(element);\n",
       "    }\n",
       "  };var element = document.getElementById(\"1001\");\n",
       "  if (element == null) {\n",
       "    console.error(\"Bokeh: ERROR: autoload.js configured with elementid '1001' but no matching script tag was found. \")\n",
       "    return false;\n",
       "  }\n",
       "\n",
       "  function inject_raw_css(css) {\n",
       "    const element = document.createElement(\"style\");\n",
       "    element.appendChild(document.createTextNode(css));\n",
       "    document.body.appendChild(element);\n",
       "  }\n",
       "\n",
       "  var js_urls = [\"https://cdn.pydata.org/bokeh/release/bokeh-1.3.4.min.js\", \"https://cdn.pydata.org/bokeh/release/bokeh-widgets-1.3.4.min.js\", \"https://cdn.pydata.org/bokeh/release/bokeh-tables-1.3.4.min.js\", \"https://cdn.pydata.org/bokeh/release/bokeh-gl-1.3.4.min.js\"];\n",
       "  var css_urls = [];\n",
       "\n",
       "  var inline_js = [\n",
       "    function(Bokeh) {\n",
       "      Bokeh.set_log_level(\"info\");\n",
       "    },\n",
       "    \n",
       "    function(Bokeh) {\n",
       "      \n",
       "    },\n",
       "    function(Bokeh) {} // ensure no trailing comma for IE\n",
       "  ];\n",
       "\n",
       "  function run_inline_js() {\n",
       "    \n",
       "    if ((root.Bokeh !== undefined) || (force === true)) {\n",
       "      for (var i = 0; i < inline_js.length; i++) {\n",
       "        inline_js[i].call(root, root.Bokeh);\n",
       "      }if (force === true) {\n",
       "        display_loaded();\n",
       "      }} else if (Date.now() < root._bokeh_timeout) {\n",
       "      setTimeout(run_inline_js, 100);\n",
       "    } else if (!root._bokeh_failed_load) {\n",
       "      console.log(\"Bokeh: BokehJS failed to load within specified timeout.\");\n",
       "      root._bokeh_failed_load = true;\n",
       "    } else if (force !== true) {\n",
       "      var cell = $(document.getElementById(\"1001\")).parents('.cell').data().cell;\n",
       "      cell.output_area.append_execute_result(NB_LOAD_WARNING)\n",
       "    }\n",
       "\n",
       "  }\n",
       "\n",
       "  if (root._bokeh_is_loading === 0) {\n",
       "    console.debug(\"Bokeh: BokehJS loaded, going straight to plotting\");\n",
       "    run_inline_js();\n",
       "  } else {\n",
       "    load_libs(css_urls, js_urls, function() {\n",
       "      console.debug(\"Bokeh: BokehJS plotting callback run at\", now());\n",
       "      run_inline_js();\n",
       "    });\n",
       "  }\n",
       "}(window));"
      ],
      "application/vnd.bokehjs_load.v0+json": "\n(function(root) {\n  function now() {\n    return new Date();\n  }\n\n  var force = true;\n\n  if (typeof root._bokeh_onload_callbacks === \"undefined\" || force === true) {\n    root._bokeh_onload_callbacks = [];\n    root._bokeh_is_loading = undefined;\n  }\n\n  \n\n  \n  if (typeof (root._bokeh_timeout) === \"undefined\" || force === true) {\n    root._bokeh_timeout = Date.now() + 5000;\n    root._bokeh_failed_load = false;\n  }\n\n  var NB_LOAD_WARNING = {'data': {'text/html':\n     \"<div style='background-color: #fdd'>\\n\"+\n     \"<p>\\n\"+\n     \"BokehJS does not appear to have successfully loaded. If loading BokehJS from CDN, this \\n\"+\n     \"may be due to a slow or bad network connection. Possible fixes:\\n\"+\n     \"</p>\\n\"+\n     \"<ul>\\n\"+\n     \"<li>re-rerun `output_notebook()` to attempt to load from CDN again, or</li>\\n\"+\n     \"<li>use INLINE resources instead, as so:</li>\\n\"+\n     \"</ul>\\n\"+\n     \"<code>\\n\"+\n     \"from bokeh.resources import INLINE\\n\"+\n     \"output_notebook(resources=INLINE)\\n\"+\n     \"</code>\\n\"+\n     \"</div>\"}};\n\n  function display_loaded() {\n    var el = document.getElementById(\"1001\");\n    if (el != null) {\n      el.textContent = \"BokehJS is loading...\";\n    }\n    if (root.Bokeh !== undefined) {\n      if (el != null) {\n        el.textContent = \"BokehJS \" + root.Bokeh.version + \" successfully loaded.\";\n      }\n    } else if (Date.now() < root._bokeh_timeout) {\n      setTimeout(display_loaded, 100)\n    }\n  }\n\n\n  function run_callbacks() {\n    try {\n      root._bokeh_onload_callbacks.forEach(function(callback) {\n        if (callback != null)\n          callback();\n      });\n    } finally {\n      delete root._bokeh_onload_callbacks\n    }\n    console.debug(\"Bokeh: all callbacks have finished\");\n  }\n\n  function load_libs(css_urls, js_urls, callback) {\n    if (css_urls == null) css_urls = [];\n    if (js_urls == null) js_urls = [];\n\n    root._bokeh_onload_callbacks.push(callback);\n    if (root._bokeh_is_loading > 0) {\n      console.debug(\"Bokeh: BokehJS is being loaded, scheduling callback at\", now());\n      return null;\n    }\n    if (js_urls == null || js_urls.length === 0) {\n      run_callbacks();\n      return null;\n    }\n    console.debug(\"Bokeh: BokehJS not loaded, scheduling load and callback at\", now());\n    root._bokeh_is_loading = css_urls.length + js_urls.length;\n\n    function on_load() {\n      root._bokeh_is_loading--;\n      if (root._bokeh_is_loading === 0) {\n        console.debug(\"Bokeh: all BokehJS libraries/stylesheets loaded\");\n        run_callbacks()\n      }\n    }\n\n    function on_error() {\n      console.error(\"failed to load \" + url);\n    }\n\n    for (var i = 0; i < css_urls.length; i++) {\n      var url = css_urls[i];\n      const element = document.createElement(\"link\");\n      element.onload = on_load;\n      element.onerror = on_error;\n      element.rel = \"stylesheet\";\n      element.type = \"text/css\";\n      element.href = url;\n      console.debug(\"Bokeh: injecting link tag for BokehJS stylesheet: \", url);\n      document.body.appendChild(element);\n    }\n\n    for (var i = 0; i < js_urls.length; i++) {\n      var url = js_urls[i];\n      var element = document.createElement('script');\n      element.onload = on_load;\n      element.onerror = on_error;\n      element.async = false;\n      element.src = url;\n      console.debug(\"Bokeh: injecting script tag for BokehJS library: \", url);\n      document.head.appendChild(element);\n    }\n  };var element = document.getElementById(\"1001\");\n  if (element == null) {\n    console.error(\"Bokeh: ERROR: autoload.js configured with elementid '1001' but no matching script tag was found. \")\n    return false;\n  }\n\n  function inject_raw_css(css) {\n    const element = document.createElement(\"style\");\n    element.appendChild(document.createTextNode(css));\n    document.body.appendChild(element);\n  }\n\n  var js_urls = [\"https://cdn.pydata.org/bokeh/release/bokeh-1.3.4.min.js\", \"https://cdn.pydata.org/bokeh/release/bokeh-widgets-1.3.4.min.js\", \"https://cdn.pydata.org/bokeh/release/bokeh-tables-1.3.4.min.js\", \"https://cdn.pydata.org/bokeh/release/bokeh-gl-1.3.4.min.js\"];\n  var css_urls = [];\n\n  var inline_js = [\n    function(Bokeh) {\n      Bokeh.set_log_level(\"info\");\n    },\n    \n    function(Bokeh) {\n      \n    },\n    function(Bokeh) {} // ensure no trailing comma for IE\n  ];\n\n  function run_inline_js() {\n    \n    if ((root.Bokeh !== undefined) || (force === true)) {\n      for (var i = 0; i < inline_js.length; i++) {\n        inline_js[i].call(root, root.Bokeh);\n      }if (force === true) {\n        display_loaded();\n      }} else if (Date.now() < root._bokeh_timeout) {\n      setTimeout(run_inline_js, 100);\n    } else if (!root._bokeh_failed_load) {\n      console.log(\"Bokeh: BokehJS failed to load within specified timeout.\");\n      root._bokeh_failed_load = true;\n    } else if (force !== true) {\n      var cell = $(document.getElementById(\"1001\")).parents('.cell').data().cell;\n      cell.output_area.append_execute_result(NB_LOAD_WARNING)\n    }\n\n  }\n\n  if (root._bokeh_is_loading === 0) {\n    console.debug(\"Bokeh: BokehJS loaded, going straight to plotting\");\n    run_inline_js();\n  } else {\n    load_libs(css_urls, js_urls, function() {\n      console.debug(\"Bokeh: BokehJS plotting callback run at\", now());\n      run_inline_js();\n    });\n  }\n}(window));"
     },
     "metadata": {},
     "output_type": "display_data"
    }
   ],
   "source": [
    "output_notebook()"
   ]
  },
  {
   "cell_type": "code",
   "execution_count": 3,
   "metadata": {},
   "outputs": [],
   "source": [
    "class Model:\n",
    "    def __init__(self):\n",
    "        self.W = tf.Variable(5.)\n",
    "        self.b = tf.Variable(0.)\n",
    "        \n",
    "    def __call__(self, x):\n",
    "        return self.W * x + self.b"
   ]
  },
  {
   "cell_type": "code",
   "execution_count": 4,
   "metadata": {},
   "outputs": [],
   "source": [
    "model = Model()"
   ]
  },
  {
   "cell_type": "code",
   "execution_count": 5,
   "metadata": {},
   "outputs": [
    {
     "ename": "AttributeError",
     "evalue": "'Model' object has no attribute 'summary'",
     "output_type": "error",
     "traceback": [
      "\u001b[0;31m---------------------------------------------------------------------------\u001b[0m",
      "\u001b[0;31mAttributeError\u001b[0m                            Traceback (most recent call last)",
      "\u001b[0;32m<ipython-input-5-5f15418b3570>\u001b[0m in \u001b[0;36m<module>\u001b[0;34m\u001b[0m\n\u001b[0;32m----> 1\u001b[0;31m \u001b[0mmodel\u001b[0m\u001b[0;34m.\u001b[0m\u001b[0msummary\u001b[0m\u001b[0;34m(\u001b[0m\u001b[0;34m)\u001b[0m\u001b[0;34m\u001b[0m\u001b[0;34m\u001b[0m\u001b[0m\n\u001b[0m",
      "\u001b[0;31mAttributeError\u001b[0m: 'Model' object has no attribute 'summary'"
     ]
    }
   ],
   "source": [
    "model.summary()"
   ]
  },
  {
   "cell_type": "code",
   "execution_count": 4,
   "metadata": {},
   "outputs": [
    {
     "data": {
      "text/plain": [
       "<tf.Tensor: id=19, shape=(), dtype=float32, numpy=15.0>"
      ]
     },
     "execution_count": 4,
     "metadata": {},
     "output_type": "execute_result"
    }
   ],
   "source": [
    "model(3.)"
   ]
  },
  {
   "cell_type": "code",
   "execution_count": 5,
   "metadata": {},
   "outputs": [],
   "source": [
    "def loss(y_hat, y):\n",
    "    return tf.reduce_mean(tf.square(y_hat - y))"
   ]
  },
  {
   "cell_type": "code",
   "execution_count": 6,
   "metadata": {},
   "outputs": [],
   "source": [
    "TRUE_W = 3.\n",
    "TRUE_b = 2.\n",
    "NUM_EXAMPLES = 1000"
   ]
  },
  {
   "cell_type": "code",
   "execution_count": 7,
   "metadata": {},
   "outputs": [],
   "source": [
    "inputs = tf.random.normal(shape=[NUM_EXAMPLES])\n",
    "noise = tf.random.normal(shape=[NUM_EXAMPLES])\n",
    "outputs = inputs * TRUE_W + TRUE_b"
   ]
  },
  {
   "cell_type": "code",
   "execution_count": 13,
   "metadata": {},
   "outputs": [
    {
     "data": {
      "text/html": [
       "\n",
       "\n",
       "\n",
       "\n",
       "\n",
       "\n",
       "  <div class=\"bk-root\" id=\"be45e813-751f-4c73-be17-999d2e5952e4\" data-root-id=\"1320\"></div>\n"
      ]
     },
     "metadata": {},
     "output_type": "display_data"
    },
    {
     "data": {
      "application/javascript": [
       "(function(root) {\n",
       "  function embed_document(root) {\n",
       "    \n",
       "  var docs_json = {\"ad8bc7f3-7cb2-408c-a4a9-7fb85284bad6\":{\"roots\":{\"references\":[{\"attributes\":{\"below\":[{\"id\":\"1329\",\"type\":\"LinearAxis\"}],\"center\":[{\"id\":\"1333\",\"type\":\"Grid\"},{\"id\":\"1338\",\"type\":\"Grid\"}],\"left\":[{\"id\":\"1334\",\"type\":\"LinearAxis\"}],\"plot_height\":300,\"plot_width\":300,\"renderers\":[{\"id\":\"1355\",\"type\":\"GlyphRenderer\"}],\"title\":{\"id\":\"1385\",\"type\":\"Title\"},\"toolbar\":{\"id\":\"1345\",\"type\":\"Toolbar\"},\"x_range\":{\"id\":\"1321\",\"type\":\"DataRange1d\"},\"x_scale\":{\"id\":\"1325\",\"type\":\"LinearScale\"},\"y_range\":{\"id\":\"1323\",\"type\":\"DataRange1d\"},\"y_scale\":{\"id\":\"1327\",\"type\":\"LinearScale\"}},\"id\":\"1320\",\"subtype\":\"Figure\",\"type\":\"Plot\"},{\"attributes\":{},\"id\":\"1387\",\"type\":\"BasicTickFormatter\"},{\"attributes\":{},\"id\":\"1389\",\"type\":\"BasicTickFormatter\"},{\"attributes\":{\"fill_alpha\":{\"value\":0.1},\"fill_color\":{\"value\":\"#1f77b4\"},\"line_alpha\":{\"value\":0.1},\"line_color\":{\"value\":\"#1f77b4\"},\"x\":{\"field\":\"x\"},\"y\":{\"field\":\"y\"}},\"id\":\"1354\",\"type\":\"Scatter\"},{\"attributes\":{\"data_source\":{\"id\":\"1352\",\"type\":\"ColumnDataSource\"},\"glyph\":{\"id\":\"1353\",\"type\":\"Scatter\"},\"hover_glyph\":null,\"muted_glyph\":null,\"nonselection_glyph\":{\"id\":\"1354\",\"type\":\"Scatter\"},\"selection_glyph\":null,\"view\":{\"id\":\"1356\",\"type\":\"CDSView\"}},\"id\":\"1355\",\"type\":\"GlyphRenderer\"},{\"attributes\":{\"bottom_units\":\"screen\",\"fill_alpha\":{\"value\":0.5},\"fill_color\":{\"value\":\"lightgrey\"},\"left_units\":\"screen\",\"level\":\"overlay\",\"line_alpha\":{\"value\":1.0},\"line_color\":{\"value\":\"black\"},\"line_dash\":[4,4],\"line_width\":{\"value\":2},\"render_mode\":\"css\",\"right_units\":\"screen\",\"top_units\":\"screen\"},\"id\":\"1390\",\"type\":\"BoxAnnotation\"},{\"attributes\":{},\"id\":\"1335\",\"type\":\"BasicTicker\"},{\"attributes\":{},\"id\":\"1391\",\"type\":\"Selection\"},{\"attributes\":{\"dimension\":1,\"ticker\":{\"id\":\"1335\",\"type\":\"BasicTicker\"}},\"id\":\"1338\",\"type\":\"Grid\"},{\"attributes\":{},\"id\":\"1392\",\"type\":\"UnionRenderers\"},{\"attributes\":{},\"id\":\"1342\",\"type\":\"SaveTool\"},{\"attributes\":{},\"id\":\"1340\",\"type\":\"WheelZoomTool\"},{\"attributes\":{\"source\":{\"id\":\"1352\",\"type\":\"ColumnDataSource\"}},\"id\":\"1356\",\"type\":\"CDSView\"},{\"attributes\":{\"text\":\"\"},\"id\":\"1385\",\"type\":\"Title\"},{\"attributes\":{\"fill_color\":{\"value\":\"#1f77b4\"},\"line_color\":{\"value\":\"#1f77b4\"},\"x\":{\"field\":\"x\"},\"y\":{\"field\":\"y\"}},\"id\":\"1353\",\"type\":\"Scatter\"},{\"attributes\":{},\"id\":\"1325\",\"type\":\"LinearScale\"},{\"attributes\":{\"ticker\":{\"id\":\"1330\",\"type\":\"BasicTicker\"}},\"id\":\"1333\",\"type\":\"Grid\"},{\"attributes\":{},\"id\":\"1327\",\"type\":\"LinearScale\"},{\"attributes\":{},\"id\":\"1339\",\"type\":\"PanTool\"},{\"attributes\":{},\"id\":\"1344\",\"type\":\"HelpTool\"},{\"attributes\":{\"formatter\":{\"id\":\"1387\",\"type\":\"BasicTickFormatter\"},\"ticker\":{\"id\":\"1330\",\"type\":\"BasicTicker\"}},\"id\":\"1329\",\"type\":\"LinearAxis\"},{\"attributes\":{\"formatter\":{\"id\":\"1389\",\"type\":\"BasicTickFormatter\"},\"ticker\":{\"id\":\"1335\",\"type\":\"BasicTicker\"}},\"id\":\"1334\",\"type\":\"LinearAxis\"},{\"attributes\":{\"active_drag\":\"auto\",\"active_inspect\":\"auto\",\"active_multi\":null,\"active_scroll\":\"auto\",\"active_tap\":\"auto\",\"tools\":[{\"id\":\"1339\",\"type\":\"PanTool\"},{\"id\":\"1340\",\"type\":\"WheelZoomTool\"},{\"id\":\"1341\",\"type\":\"BoxZoomTool\"},{\"id\":\"1342\",\"type\":\"SaveTool\"},{\"id\":\"1343\",\"type\":\"ResetTool\"},{\"id\":\"1344\",\"type\":\"HelpTool\"}]},\"id\":\"1345\",\"type\":\"Toolbar\"},{\"attributes\":{\"callback\":null},\"id\":\"1321\",\"type\":\"DataRange1d\"},{\"attributes\":{\"overlay\":{\"id\":\"1390\",\"type\":\"BoxAnnotation\"}},\"id\":\"1341\",\"type\":\"BoxZoomTool\"},{\"attributes\":{},\"id\":\"1330\",\"type\":\"BasicTicker\"},{\"attributes\":{\"callback\":null},\"id\":\"1323\",\"type\":\"DataRange1d\"},{\"attributes\":{},\"id\":\"1343\",\"type\":\"ResetTool\"},{\"attributes\":{\"callback\":null,\"data\":{\"x\":{\"__ndarray__\":\"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\",\"dtype\":\"float32\",\"shape\":[1000]},\"y\":{\"__ndarray__\":\"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\",\"dtype\":\"float32\",\"shape\":[1000]}},\"selected\":{\"id\":\"1391\",\"type\":\"Selection\"},\"selection_policy\":{\"id\":\"1392\",\"type\":\"UnionRenderers\"}},\"id\":\"1352\",\"type\":\"ColumnDataSource\"}],\"root_ids\":[\"1320\"]},\"title\":\"Bokeh Application\",\"version\":\"1.2.0\"}};\n",
       "  var render_items = [{\"docid\":\"ad8bc7f3-7cb2-408c-a4a9-7fb85284bad6\",\"roots\":{\"1320\":\"be45e813-751f-4c73-be17-999d2e5952e4\"}}];\n",
       "  root.Bokeh.embed.embed_items_notebook(docs_json, render_items);\n",
       "\n",
       "  }\n",
       "  if (root.Bokeh !== undefined) {\n",
       "    embed_document(root);\n",
       "  } else {\n",
       "    var attempts = 0;\n",
       "    var timer = setInterval(function(root) {\n",
       "      if (root.Bokeh !== undefined) {\n",
       "        embed_document(root);\n",
       "        clearInterval(timer);\n",
       "      }\n",
       "      attempts++;\n",
       "      if (attempts > 100) {\n",
       "        console.log(\"Bokeh: ERROR: Unable to run BokehJS code because BokehJS library is missing\");\n",
       "        clearInterval(timer);\n",
       "      }\n",
       "    }, 10, root)\n",
       "  }\n",
       "})(window);"
      ],
      "application/vnd.bokehjs_exec.v0+json": ""
     },
     "metadata": {
      "application/vnd.bokehjs_exec.v0+json": {
       "id": "1320"
      }
     },
     "output_type": "display_data"
    }
   ],
   "source": [
    "p = figure(plot_height=300, plot_width=300)\n",
    "p.scatter(inputs.numpy(), outputs.numpy())\n",
    "show(p)"
   ]
  },
  {
   "cell_type": "code",
   "execution_count": 15,
   "metadata": {},
   "outputs": [
    {
     "name": "stdout",
     "output_type": "stream",
     "text": [
      "Current loss: 7.204\n"
     ]
    }
   ],
   "source": [
    "loss_val = loss(model(inputs), outputs).numpy()\n",
    "print(f\"Current loss: {loss_val:.3f}\")"
   ]
  },
  {
   "cell_type": "code",
   "execution_count": 19,
   "metadata": {},
   "outputs": [],
   "source": [
    "def train(model, inputs, outputs, lr):\n",
    "    with tf.GradientTape() as t:\n",
    "        loss_val = loss(model(inputs), outputs)\n",
    "    dW, db = t.gradient(loss_val, [model.W, model.b])\n",
    "    model.W.assign_sub(lr * dW)\n",
    "    model.b.assign_sub(lr * db)"
   ]
  },
  {
   "cell_type": "code",
   "execution_count": 20,
   "metadata": {},
   "outputs": [
    {
     "name": "stdout",
     "output_type": "stream",
     "text": [
      "Epoch 0: W=5.000 b=0.000000, loss=7.204\n",
      "Epoch 1: W=4.649 b=0.368940, loss=4.842\n",
      "Epoch 2: W=4.359 b=0.669549, loss=3.254\n",
      "Epoch 3: W=4.119 b=0.914541, loss=2.188\n",
      "Epoch 4: W=3.922 b=1.114248, loss=1.471\n",
      "Epoch 5: W=3.760 b=1.277077, loss=0.989\n",
      "Epoch 6: W=3.625 b=1.409866, loss=0.665\n",
      "Epoch 7: W=3.515 b=1.518179, loss=0.447\n",
      "Epoch 8: W=3.424 b=1.606545, loss=0.301\n",
      "Epoch 9: W=3.349 b=1.678651, loss=0.202\n"
     ]
    }
   ],
   "source": [
    "model = Model()\n",
    "Ws, bs = [], []\n",
    "epochs = range(10)\n",
    "for epoch in epochs:\n",
    "    Ws.append(model.W.numpy())\n",
    "    bs.append(model.b.numpy())\n",
    "    epoch_loss = loss(model(inputs), outputs)\n",
    "    train(model, inputs, outputs, lr=0.1)\n",
    "    print(f\"Epoch {epoch}: W={Ws[-1]:.3f} b={bs[-1]:3f}, loss={epoch_loss:.3f}\")"
   ]
  },
  {
   "cell_type": "code",
   "execution_count": 30,
   "metadata": {},
   "outputs": [
    {
     "data": {
      "text/html": [
       "\n",
       "\n",
       "\n",
       "\n",
       "\n",
       "\n",
       "  <div class=\"bk-root\" id=\"757fb115-27e2-42fb-9cd2-39b7ae3378a8\" data-root-id=\"3709\"></div>\n"
      ]
     },
     "metadata": {},
     "output_type": "display_data"
    },
    {
     "data": {
      "application/javascript": [
       "(function(root) {\n",
       "  function embed_document(root) {\n",
       "    \n",
       "  var docs_json = {\"6031d69d-3490-4817-a2fe-0b7208e66a11\":{\"roots\":{\"references\":[{\"attributes\":{\"below\":[{\"id\":\"3718\",\"type\":\"LinearAxis\"}],\"center\":[{\"id\":\"3722\",\"type\":\"Grid\"},{\"id\":\"3727\",\"type\":\"Grid\"},{\"id\":\"3753\",\"type\":\"Legend\"}],\"left\":[{\"id\":\"3723\",\"type\":\"LinearAxis\"}],\"plot_height\":400,\"plot_width\":400,\"renderers\":[{\"id\":\"3744\",\"type\":\"GlyphRenderer\"},{\"id\":\"3758\",\"type\":\"GlyphRenderer\"},{\"id\":\"3773\",\"type\":\"GlyphRenderer\"},{\"id\":\"3790\",\"type\":\"GlyphRenderer\"}],\"title\":{\"id\":\"3747\",\"type\":\"Title\"},\"toolbar\":{\"id\":\"3734\",\"type\":\"Toolbar\"},\"x_range\":{\"id\":\"3710\",\"type\":\"DataRange1d\"},\"x_scale\":{\"id\":\"3714\",\"type\":\"LinearScale\"},\"y_range\":{\"id\":\"3712\",\"type\":\"DataRange1d\"},\"y_scale\":{\"id\":\"3716\",\"type\":\"LinearScale\"}},\"id\":\"3709\",\"subtype\":\"Figure\",\"type\":\"Plot\"},{\"attributes\":{\"items\":[{\"id\":\"3754\",\"type\":\"LegendItem\"},{\"id\":\"3769\",\"type\":\"LegendItem\"},{\"id\":\"3786\",\"type\":\"LegendItem\"},{\"id\":\"3805\",\"type\":\"LegendItem\"}]},\"id\":\"3753\",\"type\":\"Legend\"},{\"attributes\":{\"line_alpha\":0.1,\"line_color\":\"#1f77b4\",\"x\":{\"field\":\"x\"},\"y\":{\"field\":\"y\"}},\"id\":\"3757\",\"type\":\"Line\"},{\"attributes\":{\"formatter\":{\"id\":\"3751\",\"type\":\"BasicTickFormatter\"},\"ticker\":{\"id\":\"3724\",\"type\":\"BasicTicker\"}},\"id\":\"3723\",\"type\":\"LinearAxis\"},{\"attributes\":{\"line_alpha\":0.1,\"line_color\":\"#1f77b4\",\"x\":{\"field\":\"x\"},\"y\":{\"field\":\"y\"}},\"id\":\"3743\",\"type\":\"Line\"},{\"attributes\":{\"data_source\":{\"id\":\"3755\",\"type\":\"ColumnDataSource\"},\"glyph\":{\"id\":\"3756\",\"type\":\"Line\"},\"hover_glyph\":null,\"muted_glyph\":null,\"nonselection_glyph\":{\"id\":\"3757\",\"type\":\"Line\"},\"selection_glyph\":null,\"view\":{\"id\":\"3759\",\"type\":\"CDSView\"}},\"id\":\"3758\",\"type\":\"GlyphRenderer\"},{\"attributes\":{\"line_alpha\":0.1,\"line_color\":\"#1f77b4\",\"line_dash\":[6],\"x\":{\"field\":\"x\"},\"y\":{\"value\":3.0}},\"id\":\"3772\",\"type\":\"Line\"},{\"attributes\":{},\"id\":\"3803\",\"type\":\"Selection\"},{\"attributes\":{},\"id\":\"3804\",\"type\":\"UnionRenderers\"},{\"attributes\":{\"source\":{\"id\":\"3755\",\"type\":\"ColumnDataSource\"}},\"id\":\"3759\",\"type\":\"CDSView\"},{\"attributes\":{\"bottom_units\":\"screen\",\"fill_alpha\":{\"value\":0.5},\"fill_color\":{\"value\":\"lightgrey\"},\"left_units\":\"screen\",\"level\":\"overlay\",\"line_alpha\":{\"value\":1.0},\"line_color\":{\"value\":\"black\"},\"line_dash\":[4,4],\"line_width\":{\"value\":2},\"render_mode\":\"css\",\"right_units\":\"screen\",\"top_units\":\"screen\"},\"id\":\"3752\",\"type\":\"BoxAnnotation\"},{\"attributes\":{\"line_color\":\"darkorange\",\"x\":{\"field\":\"x\"},\"y\":{\"field\":\"y\"}},\"id\":\"3742\",\"type\":\"Line\"},{\"attributes\":{\"label\":{\"value\":\"True b\"},\"renderers\":[{\"id\":\"3790\",\"type\":\"GlyphRenderer\"}]},\"id\":\"3805\",\"type\":\"LegendItem\"},{\"attributes\":{},\"id\":\"3767\",\"type\":\"Selection\"},{\"attributes\":{},\"id\":\"3984\",\"type\":\"Selection\"},{\"attributes\":{},\"id\":\"3724\",\"type\":\"BasicTicker\"},{\"attributes\":{},\"id\":\"3728\",\"type\":\"PanTool\"},{\"attributes\":{},\"id\":\"3768\",\"type\":\"UnionRenderers\"},{\"attributes\":{},\"id\":\"3729\",\"type\":\"WheelZoomTool\"},{\"attributes\":{},\"id\":\"3985\",\"type\":\"UnionRenderers\"},{\"attributes\":{\"callback\":null},\"id\":\"3712\",\"type\":\"DataRange1d\"},{\"attributes\":{\"ticker\":{\"id\":\"3719\",\"type\":\"BasicTicker\"}},\"id\":\"3722\",\"type\":\"Grid\"},{\"attributes\":{\"label\":{\"value\":\"b\"},\"renderers\":[{\"id\":\"3758\",\"type\":\"GlyphRenderer\"}]},\"id\":\"3769\",\"type\":\"LegendItem\"},{\"attributes\":{\"overlay\":{\"id\":\"3752\",\"type\":\"BoxAnnotation\"}},\"id\":\"3730\",\"type\":\"BoxZoomTool\"},{\"attributes\":{\"callback\":null,\"data\":{\"x\":[0,1,2,3,4,5,6,7,8,9]},\"selected\":{\"id\":\"3984\",\"type\":\"Selection\"},\"selection_policy\":{\"id\":\"3985\",\"type\":\"UnionRenderers\"}},\"id\":\"3787\",\"type\":\"ColumnDataSource\"},{\"attributes\":{},\"id\":\"3731\",\"type\":\"SaveTool\"},{\"attributes\":{},\"id\":\"3716\",\"type\":\"LinearScale\"},{\"attributes\":{\"line_color\":\"darkorange\",\"line_dash\":[6],\"x\":{\"field\":\"x\"},\"y\":{\"value\":3.0}},\"id\":\"3771\",\"type\":\"Line\"},{\"attributes\":{},\"id\":\"3732\",\"type\":\"ResetTool\"},{\"attributes\":{\"axis_label\":\"Epochs\",\"formatter\":{\"id\":\"3749\",\"type\":\"BasicTickFormatter\"},\"ticker\":{\"id\":\"3719\",\"type\":\"BasicTicker\"}},\"id\":\"3718\",\"type\":\"LinearAxis\"},{\"attributes\":{},\"id\":\"3733\",\"type\":\"HelpTool\"},{\"attributes\":{},\"id\":\"3719\",\"type\":\"BasicTicker\"},{\"attributes\":{\"data_source\":{\"id\":\"3770\",\"type\":\"ColumnDataSource\"},\"glyph\":{\"id\":\"3771\",\"type\":\"Line\"},\"hover_glyph\":null,\"muted_glyph\":null,\"nonselection_glyph\":{\"id\":\"3772\",\"type\":\"Line\"},\"selection_glyph\":null,\"view\":{\"id\":\"3774\",\"type\":\"CDSView\"}},\"id\":\"3773\",\"type\":\"GlyphRenderer\"},{\"attributes\":{\"active_drag\":\"auto\",\"active_inspect\":\"auto\",\"active_multi\":null,\"active_scroll\":\"auto\",\"active_tap\":\"auto\",\"tools\":[{\"id\":\"3728\",\"type\":\"PanTool\"},{\"id\":\"3729\",\"type\":\"WheelZoomTool\"},{\"id\":\"3730\",\"type\":\"BoxZoomTool\"},{\"id\":\"3731\",\"type\":\"SaveTool\"},{\"id\":\"3732\",\"type\":\"ResetTool\"},{\"id\":\"3733\",\"type\":\"HelpTool\"}]},\"id\":\"3734\",\"type\":\"Toolbar\"},{\"attributes\":{},\"id\":\"3714\",\"type\":\"LinearScale\"},{\"attributes\":{\"source\":{\"id\":\"3770\",\"type\":\"ColumnDataSource\"}},\"id\":\"3774\",\"type\":\"CDSView\"},{\"attributes\":{\"callback\":null,\"data\":{\"x\":[0,1,2,3,4,5,6,7,8,9],\"y\":[0.0,0.36893951892852783,0.6695494055747986,0.9145406484603882,1.1142481565475464,1.277077317237854,1.4098660945892334,1.5181788206100464,1.6065446138381958,1.6786508560180664]},\"selected\":{\"id\":\"3784\",\"type\":\"Selection\"},\"selection_policy\":{\"id\":\"3785\",\"type\":\"UnionRenderers\"}},\"id\":\"3755\",\"type\":\"ColumnDataSource\"},{\"attributes\":{\"callback\":null},\"id\":\"3710\",\"type\":\"DataRange1d\"},{\"attributes\":{},\"id\":\"3785\",\"type\":\"UnionRenderers\"},{\"attributes\":{\"dimension\":1,\"ticker\":{\"id\":\"3724\",\"type\":\"BasicTicker\"}},\"id\":\"3727\",\"type\":\"Grid\"},{\"attributes\":{\"data_source\":{\"id\":\"3741\",\"type\":\"ColumnDataSource\"},\"glyph\":{\"id\":\"3742\",\"type\":\"Line\"},\"hover_glyph\":null,\"muted_glyph\":null,\"nonselection_glyph\":{\"id\":\"3743\",\"type\":\"Line\"},\"selection_glyph\":null,\"view\":{\"id\":\"3745\",\"type\":\"CDSView\"}},\"id\":\"3744\",\"type\":\"GlyphRenderer\"},{\"attributes\":{\"label\":{\"value\":\"True W\"},\"renderers\":[{\"id\":\"3773\",\"type\":\"GlyphRenderer\"}]},\"id\":\"3786\",\"type\":\"LegendItem\"},{\"attributes\":{\"source\":{\"id\":\"3741\",\"type\":\"ColumnDataSource\"}},\"id\":\"3745\",\"type\":\"CDSView\"},{\"attributes\":{\"callback\":null,\"data\":{\"x\":[0,1,2,3,4,5,6,7,8,9],\"y\":[5.0,4.648538112640381,4.358567714691162,4.119388580322266,3.9221503734588623,3.7595348358154297,3.625492572784424,3.5150251388549805,3.4240036010742188,3.3490185737609863]},\"selected\":{\"id\":\"3767\",\"type\":\"Selection\"},\"selection_policy\":{\"id\":\"3768\",\"type\":\"UnionRenderers\"}},\"id\":\"3741\",\"type\":\"ColumnDataSource\"},{\"attributes\":{\"text\":\"\"},\"id\":\"3747\",\"type\":\"Title\"},{\"attributes\":{\"label\":{\"value\":\"W\"},\"renderers\":[{\"id\":\"3744\",\"type\":\"GlyphRenderer\"}]},\"id\":\"3754\",\"type\":\"LegendItem\"},{\"attributes\":{\"callback\":null,\"data\":{\"x\":[0,1,2,3,4,5,6,7,8,9]},\"selected\":{\"id\":\"3803\",\"type\":\"Selection\"},\"selection_policy\":{\"id\":\"3804\",\"type\":\"UnionRenderers\"}},\"id\":\"3770\",\"type\":\"ColumnDataSource\"},{\"attributes\":{\"line_color\":\"forestgreen\",\"line_dash\":[6],\"x\":{\"field\":\"x\"},\"y\":{\"value\":2.0}},\"id\":\"3788\",\"type\":\"Line\"},{\"attributes\":{},\"id\":\"3749\",\"type\":\"BasicTickFormatter\"},{\"attributes\":{\"line_alpha\":0.1,\"line_color\":\"#1f77b4\",\"line_dash\":[6],\"x\":{\"field\":\"x\"},\"y\":{\"value\":2.0}},\"id\":\"3789\",\"type\":\"Line\"},{\"attributes\":{},\"id\":\"3784\",\"type\":\"Selection\"},{\"attributes\":{},\"id\":\"3751\",\"type\":\"BasicTickFormatter\"},{\"attributes\":{\"data_source\":{\"id\":\"3787\",\"type\":\"ColumnDataSource\"},\"glyph\":{\"id\":\"3788\",\"type\":\"Line\"},\"hover_glyph\":null,\"muted_glyph\":null,\"nonselection_glyph\":{\"id\":\"3789\",\"type\":\"Line\"},\"selection_glyph\":null,\"view\":{\"id\":\"3791\",\"type\":\"CDSView\"}},\"id\":\"3790\",\"type\":\"GlyphRenderer\"},{\"attributes\":{\"line_color\":\"forestgreen\",\"x\":{\"field\":\"x\"},\"y\":{\"field\":\"y\"}},\"id\":\"3756\",\"type\":\"Line\"},{\"attributes\":{\"source\":{\"id\":\"3787\",\"type\":\"ColumnDataSource\"}},\"id\":\"3791\",\"type\":\"CDSView\"}],\"root_ids\":[\"3709\"]},\"title\":\"Bokeh Application\",\"version\":\"1.2.0\"}};\n",
       "  var render_items = [{\"docid\":\"6031d69d-3490-4817-a2fe-0b7208e66a11\",\"roots\":{\"3709\":\"757fb115-27e2-42fb-9cd2-39b7ae3378a8\"}}];\n",
       "  root.Bokeh.embed.embed_items_notebook(docs_json, render_items);\n",
       "\n",
       "  }\n",
       "  if (root.Bokeh !== undefined) {\n",
       "    embed_document(root);\n",
       "  } else {\n",
       "    var attempts = 0;\n",
       "    var timer = setInterval(function(root) {\n",
       "      if (root.Bokeh !== undefined) {\n",
       "        embed_document(root);\n",
       "        clearInterval(timer);\n",
       "      }\n",
       "      attempts++;\n",
       "      if (attempts > 100) {\n",
       "        console.log(\"Bokeh: ERROR: Unable to run BokehJS code because BokehJS library is missing\");\n",
       "        clearInterval(timer);\n",
       "      }\n",
       "    }, 10, root)\n",
       "  }\n",
       "})(window);"
      ],
      "application/vnd.bokehjs_exec.v0+json": ""
     },
     "metadata": {
      "application/vnd.bokehjs_exec.v0+json": {
       "id": "3709"
      }
     },
     "output_type": "display_data"
    }
   ],
   "source": [
    "p = figure(plot_height=400, plot_width=400, x_axis_label=\"Epochs\")\n",
    "p.line(range(len(Ws)), Ws, color=\"darkorange\", legend=\"W\")\n",
    "p.line(range(len(bs)), bs, color=\"forestgreen\", legend=\"b\")\n",
    "p.line(range(len(Ws)), TRUE_W, color=\"darkorange\", line_dash=\"dashed\", legend=\"True W\")\n",
    "p.line(range(len(bs)), TRUE_b, color=\"forestgreen\", line_dash=\"dashed\", legend=\"True b\")\n",
    "show(p)"
   ]
  },
  {
   "cell_type": "code",
   "execution_count": null,
   "metadata": {},
   "outputs": [],
   "source": []
  }
 ],
 "metadata": {
  "kernelspec": {
   "display_name": "Python 3",
   "language": "python",
   "name": "python3"
  },
  "language_info": {
   "codemirror_mode": {
    "name": "ipython",
    "version": 3
   },
   "file_extension": ".py",
   "mimetype": "text/x-python",
   "name": "python",
   "nbconvert_exporter": "python",
   "pygments_lexer": "ipython3",
   "version": "3.7.3"
  }
 },
 "nbformat": 4,
 "nbformat_minor": 4
}
