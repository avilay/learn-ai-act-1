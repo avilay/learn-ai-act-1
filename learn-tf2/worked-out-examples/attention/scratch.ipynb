{
 "nbformat": 4,
 "nbformat_minor": 2,
 "metadata": {
  "language_info": {
   "name": "python",
   "codemirror_mode": {
    "name": "ipython",
    "version": 3
   },
   "version": "3.7.3-final"
  },
  "orig_nbformat": 2,
  "file_extension": ".py",
  "mimetype": "text/x-python",
  "name": "python",
  "npconvert_exporter": "python",
  "pygments_lexer": "ipython3",
  "version": 3,
  "kernelspec": {
   "name": "python37364bitaivenv9fadff73572344b6852c5ef1bd16183a",
   "display_name": "Python 3.7.3 64-bit ('ai': venv)"
  }
 },
 "cells": [
  {
   "cell_type": "code",
   "execution_count": 2,
   "metadata": {},
   "outputs": [],
   "source": [
    "import os\n",
    "import os.path as path\n",
    "import numpy as np\n",
    "import tensorflow as tf\n",
    "import tensorflow_datasets as tfds\n",
    "from engspa import prep"
   ]
  },
  {
   "cell_type": "code",
   "execution_count": 3,
   "metadata": {},
   "outputs": [],
   "source": [
    "DATAROOT = path.expanduser(\"~/mldata/spa-eng\")"
   ]
  },
  {
   "cell_type": "code",
   "execution_count": 4,
   "metadata": {},
   "outputs": [],
   "source": [
    "trainfile = path.join(DATAROOT, \"train.txt\")"
   ]
  },
  {
   "cell_type": "code",
   "execution_count": 5,
   "metadata": {},
   "outputs": [],
   "source": [
    "eng_text = []\n",
    "spa_text = []\n",
    "with open(trainfile, \"rt\", encoding=\"utf-8\") as f:\n",
    "    for line in f:\n",
    "        eng, spa = line.split(\"\\t\")\n",
    "        eng = prep(eng)\n",
    "        spa = prep(spa)\n",
    "        eng_text.append(eng)\n",
    "        spa_text.append(spa)"
   ]
  },
  {
   "cell_type": "code",
   "execution_count": 6,
   "metadata": {},
   "outputs": [
    {
     "name": "stdout",
     "output_type": "stream",
     "text": "<start> that bicycle is mine . <end>  =>  <start> aquella bicicleta es mia . <end>\n"
    }
   ],
   "source": [
    "print(eng_text[0], \" => \", spa_text[0])"
   ]
  },
  {
   "cell_type": "code",
   "execution_count": 7,
   "metadata": {},
   "outputs": [
    {
     "data": {
      "text/plain": "['<start>', 'that', 'bicycle', 'is', 'mine', '<end>']"
     },
     "execution_count": 7,
     "metadata": {},
     "output_type": "execute_result"
    }
   ],
   "source": [
    "tokenizer = tfds.features.text.Tokenizer(reserved_tokens=[\"<start>\", \"<end>\"])\n",
    "tokenizer.tokenize(eng_text[0])"
   ]
  },
  {
   "cell_type": "code",
   "execution_count": 8,
   "metadata": {},
   "outputs": [
    {
     "data": {
      "text/plain": "['<start>', 'aquella', 'bicicleta', 'es', 'mia', '<end>']"
     },
     "execution_count": 8,
     "metadata": {},
     "output_type": "execute_result"
    }
   ],
   "source": [
    "tokenizer.tokenize(spa_text[0])"
   ]
  },
  {
   "cell_type": "code",
   "execution_count": 10,
   "metadata": {},
   "outputs": [],
   "source": [
    "eng_vocab = set()\n",
    "for eng in eng_text:\n",
    "    tokens = tokenizer.tokenize(eng)\n",
    "    eng_vocab.update(tokens)\n",
    "\n",
    "spa_vocab = set()\n",
    "for spa in spa_text:\n",
    "    tokens = tokenizer.tokenize(spa)\n",
    "    spa_vocab.update(tokens)"
   ]
  },
  {
   "cell_type": "code",
   "execution_count": 11,
   "metadata": {},
   "outputs": [
    {
     "name": "stdout",
     "output_type": "stream",
     "text": "12172 23014\n"
    }
   ],
   "source": [
    "print(len(eng_vocab), len(spa_vocab))"
   ]
  },
  {
   "cell_type": "code",
   "execution_count": 12,
   "metadata": {},
   "outputs": [],
   "source": [
    "eng_encoder = tfds.features.text.TokenTextEncoder(eng_vocab, tokenizer=tokenizer)\n",
    "spa_encoder = tfds.features.text.TokenTextEncoder(spa_vocab, tokenizer=tokenizer)"
   ]
  },
  {
   "cell_type": "code",
   "execution_count": null,
   "metadata": {},
   "outputs": [],
   "source": []
  }
 ]
}