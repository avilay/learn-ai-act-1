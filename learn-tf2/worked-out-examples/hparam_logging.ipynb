{
 "cells": [
  {
   "cell_type": "code",
   "execution_count": 1,
   "metadata": {},
   "outputs": [],
   "source": [
    "import tensorflow as tf\n",
    "from tensorboard.plugins.hparams import api as hp\n",
    "from dataclasses import dataclass\n",
    "import os.path as path\n",
    "from haikunator import Haikunator\n"
   ]
  },
  {
   "cell_type": "code",
   "execution_count": 2,
   "metadata": {},
   "outputs": [],
   "source": [
    "fashion_mnist = tf.keras.datasets.fashion_mnist\n",
    "\n",
    "(x_train, y_train), (x_test, y_test) = fashion_mnist.load_data()\n",
    "x_train, x_test = x_train / 255.0, x_test / 255.0"
   ]
  },
  {
   "cell_type": "code",
   "execution_count": 3,
   "metadata": {},
   "outputs": [],
   "source": [
    "@dataclass\n",
    "class Hyperparams:\n",
    "    num_units = 0\n",
    "    dropout = 0.\n",
    "    optimizer = None"
   ]
  },
  {
   "cell_type": "code",
   "execution_count": 4,
   "metadata": {},
   "outputs": [],
   "source": [
    "HP_NUM_UNITS = hp.HParam(\"num_units\", hp.Discrete([16, 32]))\n",
    "HP_DROPOUT = hp.HParam(\"dropout\", hp.RealInterval(0.1, 0.2))\n",
    "HP_OPTIMIZER = hp.HParam(\"optimizer\", hp.Discrete([\"adam\", \"sgd\"]))\n",
    "\n",
    "METRIC_ACCUARACY = \"accuracy\"\n",
    "\n",
    "tblogs = path.expanduser(\"~/mldata/tblogs/hplogging\")\n",
    "with tf.summary.create_file_writer(tblogs).as_default():\n",
    "    hp.hparams_config(\n",
    "        hparams=[HP_NUM_UNITS, HP_DROPOUT, HP_OPTIMIZER],\n",
    "        metrics=[hp.Metric(METRIC_ACCUARACY, display_name=\"Accuracy\")]\n",
    "    )"
   ]
  },
  {
   "cell_type": "code",
   "execution_count": 5,
   "metadata": {},
   "outputs": [],
   "source": [
    "def train_test_model(hparams, runid):\n",
    "    model = tf.keras.models.Sequential([\n",
    "        tf.keras.layers.Flatten(),\n",
    "        tf.keras.layers.Dense(hparams[HP_NUM_UNITS], activation=tf.nn.relu),\n",
    "        tf.keras.layers.Dropout(hparams[HP_DROPOUT]),\n",
    "        tf.keras.layers.Dense(10, activation=tf.nn.softmax)\n",
    "    ])\n",
    "    model.compile(\n",
    "        optimizer=hparams[HP_OPTIMIZER],\n",
    "        loss=\"sparse_categorical_crossentropy\",\n",
    "        metrics=[\"accuracy\"]\n",
    "    )\n",
    "    tblogs = path.expanduser(f\"~/mldata/tblogs/hplogging/{runid}\")\n",
    "    model.fit(x_train, y_train, epochs=2, callbacks=[tf.keras.callbacks.TensorBoard(tblogs), hp.KerasCallback(tblogs, hparams)])\n",
    "    _, accuracy = model.evaluate(x_test, y_test)\n",
    "    return accuracy"
   ]
  },
  {
   "cell_type": "code",
   "execution_count": 6,
   "metadata": {},
   "outputs": [
    {
     "name": "stdout",
     "output_type": "stream",
     "text": [
      "--- Starting trial: broad-lake-7341\n",
      "{'num_units': 16, 'dropout': 0.1, 'optimizer': 'adam'}\n",
      "Train on 60000 samples\n",
      "Epoch 1/2\n",
      "60000/60000 [==============================] - 4s 62us/sample - loss: 0.7092 - accuracy: 0.7533\n",
      "Epoch 2/2\n",
      "60000/60000 [==============================] - 4s 61us/sample - loss: 0.5155 - accuracy: 0.8178\n",
      "10000/10000 [==============================] - 0s 36us/sample - loss: 0.4599 - accuracy: 0.8426\n",
      "Accuracy=0.843\n",
      "--- Starting trial: icy-bird-9467\n",
      "{'num_units': 16, 'dropout': 0.1, 'optimizer': 'sgd'}\n",
      "Train on 60000 samples\n",
      "Epoch 1/2\n",
      "60000/60000 [==============================] - 3s 53us/sample - loss: 1.0023 - accuracy: 0.6570\n",
      "Epoch 2/2\n",
      "60000/60000 [==============================] - 2s 40us/sample - loss: 0.6801 - accuracy: 0.7653\n",
      "10000/10000 [==============================] - 0s 28us/sample - loss: 0.5677 - accuracy: 0.8043\n",
      "Accuracy=0.804\n",
      "--- Starting trial: damp-block-4170\n",
      "{'num_units': 16, 'dropout': 0.2, 'optimizer': 'adam'}\n",
      "Train on 60000 samples\n",
      "Epoch 1/2\n",
      "60000/60000 [==============================] - 3s 48us/sample - loss: 0.7693 - accuracy: 0.7263\n",
      "Epoch 2/2\n",
      "60000/60000 [==============================] - 3s 49us/sample - loss: 0.5732 - accuracy: 0.7922\n",
      "10000/10000 [==============================] - 0s 32us/sample - loss: 0.4829 - accuracy: 0.8303\n",
      "Accuracy=0.830\n",
      "--- Starting trial: wild-frost-6387\n",
      "{'num_units': 16, 'dropout': 0.2, 'optimizer': 'sgd'}\n",
      "Train on 60000 samples\n",
      "Epoch 1/2\n",
      "60000/60000 [==============================] - 3s 45us/sample - loss: 1.2163 - accuracy: 0.5620\n",
      "Epoch 2/2\n",
      "60000/60000 [==============================] - 4s 63us/sample - loss: 0.8262 - accuracy: 0.7064\n",
      "10000/10000 [==============================] - 0s 31us/sample - loss: 0.6333 - accuracy: 0.7799\n",
      "Accuracy=0.780\n",
      "--- Starting trial: divine-meadow-9645\n",
      "{'num_units': 32, 'dropout': 0.1, 'optimizer': 'adam'}\n",
      "Train on 60000 samples\n",
      "Epoch 1/2\n",
      "60000/60000 [==============================] - 4s 65us/sample - loss: 0.6054 - accuracy: 0.7903\n",
      "Epoch 2/2\n",
      "60000/60000 [==============================] - 3s 50us/sample - loss: 0.4394 - accuracy: 0.8428\n",
      "10000/10000 [==============================] - 0s 30us/sample - loss: 0.4439 - accuracy: 0.8418\n",
      "Accuracy=0.842\n",
      "--- Starting trial: young-silence-0733\n",
      "{'num_units': 32, 'dropout': 0.1, 'optimizer': 'sgd'}\n",
      "Train on 60000 samples\n",
      "Epoch 1/2\n",
      "60000/60000 [==============================] - 3s 48us/sample - loss: 0.8749 - accuracy: 0.7009\n",
      "Epoch 2/2\n",
      "60000/60000 [==============================] - 3s 44us/sample - loss: 0.6025 - accuracy: 0.7951\n",
      "10000/10000 [==============================] - 0s 33us/sample - loss: 0.5470 - accuracy: 0.8121\n",
      "Accuracy=0.812\n",
      "--- Starting trial: bitter-snow-2934\n",
      "{'num_units': 32, 'dropout': 0.2, 'optimizer': 'adam'}\n",
      "Train on 60000 samples\n",
      "Epoch 1/2\n",
      "60000/60000 [==============================] - 3s 53us/sample - loss: 0.6598 - accuracy: 0.7683\n",
      "Epoch 2/2\n",
      "60000/60000 [==============================] - 3s 49us/sample - loss: 0.4823 - accuracy: 0.8295\n",
      "10000/10000 [==============================] - 0s 31us/sample - loss: 0.4243 - accuracy: 0.8495\n",
      "Accuracy=0.850\n",
      "--- Starting trial: round-tooth-7980\n",
      "{'num_units': 32, 'dropout': 0.2, 'optimizer': 'sgd'}\n",
      "Train on 60000 samples\n",
      "Epoch 1/2\n",
      "60000/60000 [==============================] - 4s 59us/sample - loss: 0.9245 - accuracy: 0.6878\n",
      "Epoch 2/2\n",
      "60000/60000 [==============================] - 3s 46us/sample - loss: 0.6362 - accuracy: 0.7859\n",
      "10000/10000 [==============================] - 0s 30us/sample - loss: 0.5464 - accuracy: 0.8138\n",
      "Accuracy=0.814\n"
     ]
    }
   ],
   "source": [
    "for num_units in HP_NUM_UNITS.domain.values:\n",
    "    for dropout_rate in (HP_DROPOUT.domain.min_value, HP_DROPOUT.domain.max_value):\n",
    "        for optim in HP_OPTIMIZER.domain.values:\n",
    "            hparams = {\n",
    "                HP_NUM_UNITS: num_units,\n",
    "                HP_DROPOUT: dropout_rate,\n",
    "                HP_OPTIMIZER: optim\n",
    "            }\n",
    "            runid = Haikunator().haikunate()\n",
    "            print(f\"--- Starting trial: {runid}\")\n",
    "            print({h.name: hparams[h] for h in hparams})\n",
    "            accuracy = train_test_model(hparams, runid)\n",
    "            print(f\"Accuracy={accuracy:.3f}\")"
   ]
  },
  {
   "cell_type": "code",
   "execution_count": null,
   "metadata": {},
   "outputs": [],
   "source": []
  },
  {
   "cell_type": "code",
   "execution_count": null,
   "metadata": {},
   "outputs": [],
   "source": []
  },
  {
   "cell_type": "code",
   "execution_count": null,
   "metadata": {},
   "outputs": [],
   "source": []
  },
  {
   "cell_type": "code",
   "execution_count": null,
   "metadata": {},
   "outputs": [],
   "source": []
  },
  {
   "cell_type": "code",
   "execution_count": null,
   "metadata": {},
   "outputs": [],
   "source": []
  },
  {
   "cell_type": "code",
   "execution_count": null,
   "metadata": {},
   "outputs": [],
   "source": []
  },
  {
   "cell_type": "code",
   "execution_count": null,
   "metadata": {},
   "outputs": [],
   "source": []
  },
  {
   "cell_type": "code",
   "execution_count": null,
   "metadata": {},
   "outputs": [],
   "source": []
  },
  {
   "cell_type": "code",
   "execution_count": null,
   "metadata": {},
   "outputs": [],
   "source": []
  },
  {
   "cell_type": "code",
   "execution_count": null,
   "metadata": {},
   "outputs": [],
   "source": []
  },
  {
   "cell_type": "code",
   "execution_count": null,
   "metadata": {},
   "outputs": [],
   "source": []
  },
  {
   "cell_type": "code",
   "execution_count": null,
   "metadata": {},
   "outputs": [],
   "source": []
  }
 ],
 "metadata": {
  "file_extension": ".py",
  "kernelspec": {
   "display_name": "Python 3",
   "language": "python",
   "name": "python3"
  },
  "language_info": {
   "codemirror_mode": {
    "name": "ipython",
    "version": 3
   },
   "name": "python",
   "version": "3.7.3-final"
  },
  "mimetype": "text/x-python",
  "name": "python",
  "npconvert_exporter": "python",
  "pygments_lexer": "ipython3",
  "version": 3
 },
 "nbformat": 4,
 "nbformat_minor": 2
}
