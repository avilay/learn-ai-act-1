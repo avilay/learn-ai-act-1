{
 "cells": [
  {
   "cell_type": "code",
   "execution_count": 15,
   "metadata": {},
   "outputs": [],
   "source": [
    "import tensorflow as tf\n",
    "tf.compat.v1.logging.set_verbosity(tf.compat.v1.logging.ERROR)\n",
    "\n",
    "from tensorflow.keras.layers import Dense, Flatten, Conv2D\n",
    "from tensorflow.keras import Model\n",
    "import numpy as np\n",
    "from haikunator import Haikunator\n",
    "import os.path as path"
   ]
  },
  {
   "cell_type": "code",
   "execution_count": 5,
   "metadata": {},
   "outputs": [
    {
     "name": "stdout",
     "output_type": "stream",
     "text": [
      "(60000, 28, 28, 1) (10000, 28, 28, 1)\n",
      "0.0 1.0\n",
      "0.0 1.0\n"
     ]
    }
   ],
   "source": [
    "mnist = tf.keras.datasets.mnist\n",
    "\n",
    "(x_train, y_train), (x_test, y_test) = mnist.load_data()\n",
    "x_train, x_test = x_train / 255.0, x_test / 255.0\n",
    "x_train = x_train[..., tf.newaxis]\n",
    "x_test = x_test[..., tf.newaxis]\n",
    "\n",
    "print(x_train.shape, x_test.shape)\n",
    "print(np.min(x_train), np.max(x_train))\n",
    "print(np.min(x_test), np.max(x_test))"
   ]
  },
  {
   "cell_type": "code",
   "execution_count": 7,
   "metadata": {},
   "outputs": [],
   "source": [
    "train_ds = tf.data.Dataset.from_tensor_slices((x_train, y_train)).shuffle(10000).batch(32)\n",
    "test_ds = tf.data.Dataset.from_tensor_slices((x_test, y_test)).batch(32)"
   ]
  },
  {
   "cell_type": "code",
   "execution_count": 8,
   "metadata": {},
   "outputs": [],
   "source": [
    "class MyModel(Model):\n",
    "    def __init__(self):\n",
    "        super().__init__()\n",
    "        self.conv1 = Conv2D(32, 3, activation=\"relu\")\n",
    "        self.flatten = Flatten()\n",
    "        self.d1 = Dense(128, activation=\"relu\")\n",
    "        self.d2 = Dense(10, activation=\"softmax\")\n",
    "\n",
    "    def call(self, x):\n",
    "        x = self.conv1(x)\n",
    "        x = self.flatten(x)\n",
    "        x = self.d1(x)\n",
    "        return self.d2(x)"
   ]
  },
  {
   "cell_type": "code",
   "execution_count": 9,
   "metadata": {},
   "outputs": [],
   "source": [
    "loss_fn = tf.keras.losses.SparseCategoricalCrossentropy()\n",
    "optim = tf.keras.optimizers.Adam()"
   ]
  },
  {
   "cell_type": "code",
   "execution_count": 10,
   "metadata": {},
   "outputs": [],
   "source": [
    "train_loss = tf.keras.metrics.Mean(name=\"train_loss\")\n",
    "train_acc = tf.keras.metrics.SparseCategoricalAccuracy(name=\"train_accuracy\")\n",
    "\n",
    "test_loss = tf.keras.metrics.Mean(name=\"test_loss\")\n",
    "test_acc = tf.keras.metrics.SparseCategoricalAccuracy(name=\"test_accuracy\")"
   ]
  },
  {
   "cell_type": "code",
   "execution_count": 17,
   "metadata": {},
   "outputs": [],
   "source": [
    "@tf.function\n",
    "def train_step(model, images, labels):\n",
    "    with tf.GradientTape() as tape:\n",
    "        preds = model(images, training=True)\n",
    "        loss = loss_fn(labels, preds)\n",
    "    gradients = tape.gradient(loss, model.trainable_variables)\n",
    "    optim.apply_gradients(zip(gradients, model.trainable_variables))\n",
    "\n",
    "    train_loss(loss)\n",
    "    train_acc(labels, preds)"
   ]
  },
  {
   "cell_type": "code",
   "execution_count": 18,
   "metadata": {},
   "outputs": [],
   "source": [
    "@tf.function\n",
    "def test_step(model, images, labels):\n",
    "    preds = model(images, training=False)\n",
    "    loss = loss_fn(labels, preds)\n",
    "    test_loss(loss)\n",
    "    test_acc(labels, preds)\n"
   ]
  },
  {
   "cell_type": "code",
   "execution_count": 19,
   "metadata": {},
   "outputs": [
    {
     "name": "stdout",
     "output_type": "stream",
     "text": [
      "/Users/avilay/mldata/tblogs/mnist/spring-hat-9222/train\n",
      "/Users/avilay/mldata/tblogs/mnist/spring-hat-9222/test\n"
     ]
    }
   ],
   "source": [
    "runid = Haikunator().haikunate()\n",
    "train_logdir = path.expanduser(f\"~/mldata/tblogs/mnist/{runid}/train\")\n",
    "test_logdir = path.expanduser(f\"~/mldata/tblogs/mnist/{runid}/test\")\n",
    "train_sw = tf.summary.create_file_writer(train_logdir)\n",
    "test_sw = tf.summary.create_file_writer(test_logdir)\n",
    "print(train_logdir)\n",
    "print(test_logdir)"
   ]
  },
  {
   "cell_type": "code",
   "execution_count": 20,
   "metadata": {},
   "outputs": [
    {
     "name": "stdout",
     "output_type": "stream",
     "text": [
      "Epoch 1, Loss: 0.108, Accuracy: 96.747, Test Loss: 0.053, Test Accuracy: 98.250\n",
      "Epoch 2, Loss: 0.027, Accuracy: 99.170, Test Loss: 0.055, Test Accuracy: 98.260\n",
      "Epoch 3, Loss: 0.013, Accuracy: 99.597, Test Loss: 0.047, Test Accuracy: 98.540\n",
      "Epoch 4, Loss: 0.008, Accuracy: 99.762, Test Loss: 0.053, Test Accuracy: 98.540\n",
      "Epoch 5, Loss: 0.005, Accuracy: 99.822, Test Loss: 0.064, Test Accuracy: 98.370\n"
     ]
    }
   ],
   "source": [
    "EPOCHS = 5\n",
    "model = MyModel()\n",
    "\n",
    "for epoch in range(EPOCHS):\n",
    "    train_loss.reset_states()\n",
    "    train_acc.reset_states()\n",
    "    test_loss.reset_states()\n",
    "    test_acc.reset_states()\n",
    "\n",
    "    for images, labels in train_ds:\n",
    "        train_step(model, images, labels)\n",
    "\n",
    "    with train_sw.as_default():\n",
    "        tf.summary.scalar(\"loss\", train_loss.result(), step=epoch)\n",
    "        tf.summary.scalar(\"accuracy\", train_acc.result()*100, step=epoch)\n",
    "\n",
    "    for images, labels in test_ds:\n",
    "        test_step(model, images, labels)\n",
    "\n",
    "    with test_sw.as_default():\n",
    "        tf.summary.scalar(\"loss\", test_loss.result(), step=epoch)\n",
    "        tf.summary.scalar(\"accuracy\", train_acc.result()*100, step=epoch)\n",
    "\n",
    "    tmpl = \"Epoch {}, Loss: {:.3f}, Accuracy: {:.3f}, Test Loss: {:.3f}, Test Accuracy: {:.3f}\"\n",
    "    print(tmpl.format(epoch+1, train_loss.result(), train_acc.result()*100, test_loss.result(), test_acc.result() * 100))"
   ]
  },
  {
   "cell_type": "code",
   "execution_count": null,
   "metadata": {},
   "outputs": [],
   "source": []
  }
 ],
 "metadata": {
  "kernelspec": {
   "display_name": "Python 3",
   "language": "python",
   "name": "python3"
  },
  "language_info": {
   "codemirror_mode": {
    "name": "ipython",
    "version": 3
   },
   "file_extension": ".py",
   "mimetype": "text/x-python",
   "name": "python",
   "nbconvert_exporter": "python",
   "pygments_lexer": "ipython3",
   "version": "3.7.3-final"
  }
 },
 "nbformat": 4,
 "nbformat_minor": 2
}
