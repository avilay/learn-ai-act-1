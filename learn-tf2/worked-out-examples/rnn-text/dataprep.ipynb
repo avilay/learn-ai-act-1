{
 "cells": [
  {
   "cell_type": "code",
   "execution_count": 1,
   "metadata": {},
   "outputs": [],
   "source": [
    "import os\n",
    "import os.path as path\n",
    "import numpy as np\n",
    "\n",
    "import tensorflow as tf\n",
    "\n",
    "tf.compat.v1.logging.set_verbosity(tf.compat.v1.logging.ERROR)"
   ]
  },
  {
   "cell_type": "code",
   "execution_count": 2,
   "metadata": {},
   "outputs": [],
   "source": [
    "dataroot = path.expanduser(\"~/mldata/imdb-reviews\")"
   ]
  },
  {
   "cell_type": "code",
   "execution_count": 3,
   "metadata": {},
   "outputs": [],
   "source": [
    "train_pos_dir = path.join(dataroot, \"train\", \"pos\")\n",
    "train_neg_dir = path.join(dataroot, \"train\", \"neg\")\n",
    "test_pos_dir = path.join(dataroot, \"test\", \"pos\")\n",
    "test_neg_dir = path.join(dataroot, \"test\", \"neg\")    "
   ]
  },
  {
   "cell_type": "code",
   "execution_count": 4,
   "metadata": {},
   "outputs": [],
   "source": [
    "allfiles = []"
   ]
  },
  {
   "cell_type": "code",
   "execution_count": 5,
   "metadata": {},
   "outputs": [],
   "source": [
    "for file in os.listdir(train_pos_dir):\n",
    "    allfiles.append((path.join(train_pos_dir, file), \"pos\"))"
   ]
  },
  {
   "cell_type": "code",
   "execution_count": 6,
   "metadata": {},
   "outputs": [],
   "source": [
    "for file in os.listdir(train_neg_dir):\n",
    "    allfiles.append((path.join(train_neg_dir, file), \"neg\"))"
   ]
  },
  {
   "cell_type": "code",
   "execution_count": 7,
   "metadata": {},
   "outputs": [],
   "source": [
    "for file in os.listdir(test_pos_dir):\n",
    "    allfiles.append((path.join(test_pos_dir, file), \"pos\"))"
   ]
  },
  {
   "cell_type": "code",
   "execution_count": 8,
   "metadata": {},
   "outputs": [],
   "source": [
    "for file in os.listdir(test_neg_dir):\n",
    "    allfiles.append((path.join(test_neg_dir, file), \"neg\"))"
   ]
  },
  {
   "cell_type": "code",
   "execution_count": 9,
   "metadata": {},
   "outputs": [],
   "source": [
    "np.random.shuffle(allfiles)"
   ]
  },
  {
   "cell_type": "code",
   "execution_count": 10,
   "metadata": {},
   "outputs": [
    {
     "data": {
      "text/plain": [
       "[('/Users/avilay/mldata/imdb-reviews/test/neg/3319_1.txt', 'neg'),\n",
       " ('/Users/avilay/mldata/imdb-reviews/train/neg/6059_1.txt', 'neg'),\n",
       " ('/Users/avilay/mldata/imdb-reviews/train/pos/2047_10.txt', 'pos'),\n",
       " ('/Users/avilay/mldata/imdb-reviews/train/pos/2201_10.txt', 'pos'),\n",
       " ('/Users/avilay/mldata/imdb-reviews/test/pos/211_10.txt', 'pos'),\n",
       " ('/Users/avilay/mldata/imdb-reviews/train/neg/4232_1.txt', 'neg'),\n",
       " ('/Users/avilay/mldata/imdb-reviews/test/pos/2030_8.txt', 'pos'),\n",
       " ('/Users/avilay/mldata/imdb-reviews/test/neg/8384_1.txt', 'neg'),\n",
       " ('/Users/avilay/mldata/imdb-reviews/test/pos/5646_10.txt', 'pos'),\n",
       " ('/Users/avilay/mldata/imdb-reviews/train/neg/3312_3.txt', 'neg')]"
      ]
     },
     "execution_count": 10,
     "metadata": {},
     "output_type": "execute_result"
    }
   ],
   "source": [
    "allfiles[:10]"
   ]
  },
  {
   "cell_type": "code",
   "execution_count": 11,
   "metadata": {},
   "outputs": [
    {
     "data": {
      "text/plain": [
       "50000"
      ]
     },
     "execution_count": 11,
     "metadata": {},
     "output_type": "execute_result"
    }
   ],
   "source": [
    "len(allfiles)"
   ]
  },
  {
   "cell_type": "code",
   "execution_count": 12,
   "metadata": {},
   "outputs": [],
   "source": [
    "num_trainset = 40_000\n",
    "num_valset = 5000\n",
    "num_testset = 5000"
   ]
  },
  {
   "cell_type": "code",
   "execution_count": 13,
   "metadata": {},
   "outputs": [],
   "source": [
    "trainfiles = allfiles[:40_000]\n",
    "valfiles = allfiles[40_000:45_000]\n",
    "testfiles = allfiles[45_000:]"
   ]
  },
  {
   "cell_type": "code",
   "execution_count": 14,
   "metadata": {},
   "outputs": [
    {
     "name": "stdout",
     "output_type": "stream",
     "text": [
      "40000 5000 5000\n"
     ]
    }
   ],
   "source": [
    "print(len(trainfiles), len(valfiles), len(testfiles))"
   ]
  },
  {
   "cell_type": "code",
   "execution_count": 15,
   "metadata": {},
   "outputs": [],
   "source": [
    "trainset = path.join(dataroot, \"train.csv\")\n",
    "with open(trainset, \"wt\") as f:\n",
    "    for file, label in trainfiles:\n",
    "        print(f\"{file},{label}\", file=f)"
   ]
  },
  {
   "cell_type": "code",
   "execution_count": 16,
   "metadata": {},
   "outputs": [],
   "source": [
    "valset = path.join(dataroot, \"val.csv\")\n",
    "with open(valset, \"wt\") as f:\n",
    "    for file, label in valfiles:\n",
    "        print(f\"{file},{label}\", file=f)"
   ]
  },
  {
   "cell_type": "code",
   "execution_count": 17,
   "metadata": {},
   "outputs": [],
   "source": [
    "testset = path.join(dataroot, \"test.csv\")\n",
    "with open(testset, \"wt\") as f:\n",
    "    for file, label in testfiles:\n",
    "        print(f\"{file},{label}\", file=f)"
   ]
  },
  {
   "cell_type": "code",
   "execution_count": 18,
   "metadata": {},
   "outputs": [],
   "source": [
    "embeddings_ndx = {}\n",
    "glove_path = path.expanduser(\"~/mldata/glove/glove.6B.100d.txt\")\n",
    "with open(glove_path, \"rt\") as f:\n",
    "    for line in f:\n",
    "        flds = line.strip().split()\n",
    "        word = flds[0]\n",
    "        coeffs = np.asarray(flds[1:], dtype=np.float32)\n",
    "        embeddings_ndx[word] = coeffs"
   ]
  },
  {
   "cell_type": "code",
   "execution_count": 20,
   "metadata": {},
   "outputs": [],
   "source": [
    "import pickle"
   ]
  },
  {
   "cell_type": "code",
   "execution_count": 21,
   "metadata": {},
   "outputs": [],
   "source": [
    "glove_pkl = path.expanduser(\"~/mldata/glove/glove_6b_100d.pkl\")\n",
    "with open(glove_pkl, \"wb\") as f:\n",
    "    pickle.dump(embeddings_ndx, f, pickle.HIGHEST_PROTOCOL)"
   ]
  },
  {
   "cell_type": "code",
   "execution_count": null,
   "metadata": {},
   "outputs": [],
   "source": [
    "    "
   ]
  }
 ],
 "metadata": {
  "kernelspec": {
   "display_name": "Python 3",
   "language": "python",
   "name": "python3"
  },
  "language_info": {
   "codemirror_mode": {
    "name": "ipython",
    "version": 3
   },
   "file_extension": ".py",
   "mimetype": "text/x-python",
   "name": "python",
   "nbconvert_exporter": "python",
   "pygments_lexer": "ipython3",
   "version": "3.7.3"
  }
 },
 "nbformat": 4,
 "nbformat_minor": 2
}
