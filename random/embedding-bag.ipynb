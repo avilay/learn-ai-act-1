{
 "cells": [
  {
   "cell_type": "code",
   "execution_count": 1,
   "metadata": {},
   "outputs": [],
   "source": [
    "import torch as t\n",
    "import numpy as np"
   ]
  },
  {
   "cell_type": "code",
   "execution_count": 2,
   "metadata": {},
   "outputs": [],
   "source": [
    "rng = np.random.default_rng()"
   ]
  },
  {
   "cell_type": "code",
   "execution_count": 3,
   "metadata": {},
   "outputs": [
    {
     "data": {
      "text/plain": [
       "OrderedDict([('weight',\n",
       "              tensor([[ 0.4616, -0.0201],\n",
       "                      [-1.1579,  0.0554],\n",
       "                      [-0.2165, -2.9054],\n",
       "                      [ 1.9775,  0.0126],\n",
       "                      [-0.0811,  0.5435],\n",
       "                      [-0.8036,  0.8157],\n",
       "                      [-1.2221,  0.6098],\n",
       "                      [-0.8639, -0.9343],\n",
       "                      [-0.7221, -0.4959],\n",
       "                      [-1.7907, -1.2356]]))])"
      ]
     },
     "execution_count": 3,
     "metadata": {},
     "output_type": "execute_result"
    }
   ],
   "source": [
    "emb = t.nn.EmbeddingBag(10, 2, mode=\"sum\")\n",
    "emb.state_dict()"
   ]
  },
  {
   "cell_type": "code",
   "execution_count": 4,
   "metadata": {},
   "outputs": [],
   "source": [
    "x = t.LongTensor([[0, 1],\n",
    "                  [8, 9]])\n",
    "y = t.from_numpy(rng.standard_normal((2, 2))).to(t.float32)"
   ]
  },
  {
   "cell_type": "code",
   "execution_count": 5,
   "metadata": {},
   "outputs": [],
   "source": [
    "loss_fn = t.nn.MSELoss()\n",
    "optim = t.optim.SGD(emb.parameters(), lr=0.1)"
   ]
  },
  {
   "cell_type": "code",
   "execution_count": 6,
   "metadata": {},
   "outputs": [],
   "source": [
    "optim.zero_grad()\n",
    "y_hat = emb(x)\n",
    "loss = loss_fn(y_hat, y)\n",
    "loss.backward()\n",
    "optim.step()"
   ]
  },
  {
   "cell_type": "code",
   "execution_count": 7,
   "metadata": {},
   "outputs": [
    {
     "data": {
      "text/plain": [
       "OrderedDict([('weight',\n",
       "              tensor([[ 0.4903,  0.0430],\n",
       "                      [-1.1292,  0.1184],\n",
       "                      [-0.2165, -2.9054],\n",
       "                      [ 1.9775,  0.0126],\n",
       "                      [-0.0811,  0.5435],\n",
       "                      [-0.8036,  0.8157],\n",
       "                      [-1.2221,  0.6098],\n",
       "                      [-0.8639, -0.9343],\n",
       "                      [-0.6178, -0.3887],\n",
       "                      [-1.6864, -1.1284]]))])"
      ]
     },
     "execution_count": 7,
     "metadata": {},
     "output_type": "execute_result"
    }
   ],
   "source": [
    "emb.state_dict()"
   ]
  },
  {
   "cell_type": "code",
   "execution_count": 9,
   "metadata": {},
   "outputs": [
    {
     "data": {
      "text/plain": [
       "tensor([[-0.6389,  0.1614],\n",
       "        [-0.8847,  1.3592],\n",
       "        [-2.3042, -1.5171]], grad_fn=<EmbeddingBagBackward>)"
      ]
     },
     "execution_count": 9,
     "metadata": {},
     "output_type": "execute_result"
    }
   ],
   "source": [
    "x = t.LongTensor([[0, 1],\n",
    "                  [4, 5],\n",
    "                  [8, 9]])\n",
    "y_hat = emb(x)\n",
    "y_hat"
   ]
  },
  {
   "cell_type": "code",
   "execution_count": 14,
   "metadata": {},
   "outputs": [],
   "source": [
    "x = t.Tensor([\n",
    "    [1, 1, 0, 0, 0, 0, 0, 0, 0, 0],\n",
    "    [0, 0, 0, 0, 1, 1, 0, 0, 0, 0],\n",
    "    [0, 0, 0, 0, 0, 0, 0, 0, 1, 1]\n",
    "]).to(t.float32)"
   ]
  },
  {
   "cell_type": "code",
   "execution_count": 12,
   "metadata": {},
   "outputs": [
    {
     "data": {
      "text/plain": [
       "tensor([[ 0.4903,  0.0430],\n",
       "        [-1.1292,  0.1184],\n",
       "        [-0.2165, -2.9054],\n",
       "        [ 1.9775,  0.0126],\n",
       "        [-0.0811,  0.5435],\n",
       "        [-0.8036,  0.8157],\n",
       "        [-1.2221,  0.6098],\n",
       "        [-0.8639, -0.9343],\n",
       "        [-0.6178, -0.3887],\n",
       "        [-1.6864, -1.1284]])"
      ]
     },
     "execution_count": 12,
     "metadata": {},
     "output_type": "execute_result"
    }
   ],
   "source": [
    "w = emb.state_dict()[\"weight\"]\n",
    "w"
   ]
  },
  {
   "cell_type": "code",
   "execution_count": 15,
   "metadata": {},
   "outputs": [
    {
     "data": {
      "text/plain": [
       "tensor([[-0.6389,  0.1614],\n",
       "        [-0.8847,  1.3592],\n",
       "        [-2.3042, -1.5171]])"
      ]
     },
     "execution_count": 15,
     "metadata": {},
     "output_type": "execute_result"
    }
   ],
   "source": [
    "x @ w"
   ]
  },
  {
   "cell_type": "code",
   "execution_count": null,
   "metadata": {},
   "outputs": [],
   "source": []
  },
  {
   "cell_type": "code",
   "execution_count": null,
   "metadata": {},
   "outputs": [],
   "source": []
  },
  {
   "cell_type": "code",
   "execution_count": null,
   "metadata": {},
   "outputs": [],
   "source": []
  }
 ],
 "metadata": {
  "kernelspec": {
   "display_name": "Python 3",
   "language": "python",
   "name": "python3"
  },
  "language_info": {
   "codemirror_mode": {
    "name": "ipython",
    "version": 3
   },
   "file_extension": ".py",
   "mimetype": "text/x-python",
   "name": "python",
   "nbconvert_exporter": "python",
   "pygments_lexer": "ipython3",
   "version": "3.7.7"
  }
 },
 "nbformat": 4,
 "nbformat_minor": 4
}
