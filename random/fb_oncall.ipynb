{
 "cells": [
  {
   "cell_type": "code",
   "execution_count": 12,
   "metadata": {},
   "outputs": [],
   "source": [
    "import numpy as np\n",
    "import pandas as pd\n",
    "import os.path as path"
   ]
  },
  {
   "cell_type": "code",
   "execution_count": 13,
   "metadata": {},
   "outputs": [],
   "source": [
    "filename = path.expanduser(\"~/temp/oncall-tasks.csv\")"
   ]
  },
  {
   "cell_type": "code",
   "execution_count": 17,
   "metadata": {},
   "outputs": [],
   "source": [
    "df = pd.read_csv(filename, parse_dates=[\"created_date\", \"last_updated\", \"completed_date\"], index_col=\"task_number\")"
   ]
  },
  {
   "cell_type": "code",
   "execution_count": 18,
   "metadata": {},
   "outputs": [
    {
     "data": {
      "text/html": [
       "<div>\n",
       "<style scoped>\n",
       "    .dataframe tbody tr th:only-of-type {\n",
       "        vertical-align: middle;\n",
       "    }\n",
       "\n",
       "    .dataframe tbody tr th {\n",
       "        vertical-align: top;\n",
       "    }\n",
       "\n",
       "    .dataframe thead th {\n",
       "        text-align: right;\n",
       "    }\n",
       "</style>\n",
       "<table border=\"1\" class=\"dataframe\">\n",
       "  <thead>\n",
       "    <tr style=\"text-align: right;\">\n",
       "      <th></th>\n",
       "      <th>closed</th>\n",
       "      <th>assigned_to</th>\n",
       "      <th>priority</th>\n",
       "      <th>progress</th>\n",
       "      <th>title</th>\n",
       "      <th>tags</th>\n",
       "      <th>created_date</th>\n",
       "      <th>last_updated</th>\n",
       "      <th>completed_date</th>\n",
       "    </tr>\n",
       "    <tr>\n",
       "      <th>task_number</th>\n",
       "      <th></th>\n",
       "      <th></th>\n",
       "      <th></th>\n",
       "      <th></th>\n",
       "      <th></th>\n",
       "      <th></th>\n",
       "      <th></th>\n",
       "      <th></th>\n",
       "      <th></th>\n",
       "    </tr>\n",
       "  </thead>\n",
       "  <tbody>\n",
       "    <tr>\n",
       "      <th>62934068</th>\n",
       "      <td>x</td>\n",
       "      <td>Ilina Mitra</td>\n",
       "      <td>hi-pri</td>\n",
       "      <td>Closed</td>\n",
       "      <td>ZippyDBUserAlert: Throttling tum_ad_click_1 on...</td>\n",
       "      <td>'oncall', 'zdb-alerts', 'f3-oncall', 'mandolin...</td>\n",
       "      <td>2020-02-25 12:51:59</td>\n",
       "      <td>2020-02-26 15:07:07</td>\n",
       "      <td>2020-02-26 15:07:07</td>\n",
       "    </tr>\n",
       "    <tr>\n",
       "      <th>67197117</th>\n",
       "      <td>x</td>\n",
       "      <td>Wenchen Wang</td>\n",
       "      <td>hi-pri</td>\n",
       "      <td>Closed</td>\n",
       "      <td>ZippyDBUserAlert: Throttling saved_events on t...</td>\n",
       "      <td>'oncall', 'zdb-alerts', 'f3-oncall', 'mandolin...</td>\n",
       "      <td>2020-05-18 14:16:29</td>\n",
       "      <td>2020-05-28 09:33:00</td>\n",
       "      <td>2020-05-28 09:33:00</td>\n",
       "    </tr>\n",
       "    <tr>\n",
       "      <th>67263686</th>\n",
       "      <td>x</td>\n",
       "      <td>Rui Yang</td>\n",
       "      <td>mid-pri</td>\n",
       "      <td>Closed</td>\n",
       "      <td>ZippyDBUserAlert: Throttling saved_events on t...</td>\n",
       "      <td>'oncall', 'zdb-alerts', 'f3-oncall', 'mandolin...</td>\n",
       "      <td>2020-05-19 19:58:05</td>\n",
       "      <td>2020-05-20 22:06:08</td>\n",
       "      <td>2020-05-20 22:06:08</td>\n",
       "    </tr>\n",
       "    <tr>\n",
       "      <th>66912676</th>\n",
       "      <td>x</td>\n",
       "      <td>Zhongliang Liang</td>\n",
       "      <td>hi-pri</td>\n",
       "      <td>Closed</td>\n",
       "      <td>ZippyDBUserAlert: Throttling saved_events on t...</td>\n",
       "      <td>'oncall', 'zdb-alerts', 'f3-oncall', 'mandolin...</td>\n",
       "      <td>2020-05-12 16:52:12</td>\n",
       "      <td>2020-05-17 06:06:10</td>\n",
       "      <td>2020-05-17 06:06:09</td>\n",
       "    </tr>\n",
       "    <tr>\n",
       "      <th>66139505</th>\n",
       "      <td>x</td>\n",
       "      <td>Ping Chen</td>\n",
       "      <td>hi-pri</td>\n",
       "      <td>Closed</td>\n",
       "      <td>ZippyDBUserAlert: Throttling saved_events on t...</td>\n",
       "      <td>'oncall', 'zdb-alerts', 'f3-oncall', 'mandolin...</td>\n",
       "      <td>2020-04-26 16:56:35</td>\n",
       "      <td>2020-04-27 17:36:14</td>\n",
       "      <td>2020-04-27 17:36:13</td>\n",
       "    </tr>\n",
       "  </tbody>\n",
       "</table>\n",
       "</div>"
      ],
      "text/plain": [
       "            closed       assigned_to priority progress  \\\n",
       "task_number                                              \n",
       "62934068         x       Ilina Mitra   hi-pri   Closed   \n",
       "67197117         x      Wenchen Wang   hi-pri   Closed   \n",
       "67263686         x          Rui Yang  mid-pri   Closed   \n",
       "66912676         x  Zhongliang Liang   hi-pri   Closed   \n",
       "66139505         x         Ping Chen   hi-pri   Closed   \n",
       "\n",
       "                                                         title  \\\n",
       "task_number                                                      \n",
       "62934068     ZippyDBUserAlert: Throttling tum_ad_click_1 on...   \n",
       "67197117     ZippyDBUserAlert: Throttling saved_events on t...   \n",
       "67263686     ZippyDBUserAlert: Throttling saved_events on t...   \n",
       "66912676     ZippyDBUserAlert: Throttling saved_events on t...   \n",
       "66139505     ZippyDBUserAlert: Throttling saved_events on t...   \n",
       "\n",
       "                                                          tags  \\\n",
       "task_number                                                      \n",
       "62934068     'oncall', 'zdb-alerts', 'f3-oncall', 'mandolin...   \n",
       "67197117     'oncall', 'zdb-alerts', 'f3-oncall', 'mandolin...   \n",
       "67263686     'oncall', 'zdb-alerts', 'f3-oncall', 'mandolin...   \n",
       "66912676     'oncall', 'zdb-alerts', 'f3-oncall', 'mandolin...   \n",
       "66139505     'oncall', 'zdb-alerts', 'f3-oncall', 'mandolin...   \n",
       "\n",
       "                   created_date        last_updated      completed_date  \n",
       "task_number                                                              \n",
       "62934068    2020-02-25 12:51:59 2020-02-26 15:07:07 2020-02-26 15:07:07  \n",
       "67197117    2020-05-18 14:16:29 2020-05-28 09:33:00 2020-05-28 09:33:00  \n",
       "67263686    2020-05-19 19:58:05 2020-05-20 22:06:08 2020-05-20 22:06:08  \n",
       "66912676    2020-05-12 16:52:12 2020-05-17 06:06:10 2020-05-17 06:06:09  \n",
       "66139505    2020-04-26 16:56:35 2020-04-27 17:36:14 2020-04-27 17:36:13  "
      ]
     },
     "execution_count": 18,
     "metadata": {},
     "output_type": "execute_result"
    }
   ],
   "source": [
    "df.head()"
   ]
  },
  {
   "cell_type": "code",
   "execution_count": 19,
   "metadata": {},
   "outputs": [
    {
     "name": "stdout",
     "output_type": "stream",
     "text": [
      "<class 'pandas.core.frame.DataFrame'>\n",
      "Int64Index: 1372 entries, 62934068 to 61763755\n",
      "Data columns (total 9 columns):\n",
      " #   Column          Non-Null Count  Dtype         \n",
      "---  ------          --------------  -----         \n",
      " 0   closed          1273 non-null   object        \n",
      " 1   assigned_to     1372 non-null   object        \n",
      " 2   priority        1372 non-null   object        \n",
      " 3   progress        1372 non-null   object        \n",
      " 4   title           1372 non-null   object        \n",
      " 5   tags            1372 non-null   object        \n",
      " 6   created_date    1372 non-null   datetime64[ns]\n",
      " 7   last_updated    1372 non-null   datetime64[ns]\n",
      " 8   completed_date  1273 non-null   datetime64[ns]\n",
      "dtypes: datetime64[ns](3), object(6)\n",
      "memory usage: 107.2+ KB\n"
     ]
    }
   ],
   "source": [
    "df.info()"
   ]
  },
  {
   "cell_type": "code",
   "execution_count": 58,
   "metadata": {},
   "outputs": [
    {
     "data": {
      "text/html": [
       "<div>\n",
       "<style scoped>\n",
       "    .dataframe tbody tr th:only-of-type {\n",
       "        vertical-align: middle;\n",
       "    }\n",
       "\n",
       "    .dataframe tbody tr th {\n",
       "        vertical-align: top;\n",
       "    }\n",
       "\n",
       "    .dataframe thead th {\n",
       "        text-align: right;\n",
       "    }\n",
       "</style>\n",
       "<table border=\"1\" class=\"dataframe\">\n",
       "  <thead>\n",
       "    <tr style=\"text-align: right;\">\n",
       "      <th></th>\n",
       "      <th>closed</th>\n",
       "      <th>assigned_to</th>\n",
       "      <th>priority</th>\n",
       "      <th>progress</th>\n",
       "      <th>title</th>\n",
       "      <th>tags</th>\n",
       "      <th>created_date</th>\n",
       "      <th>last_updated</th>\n",
       "      <th>completed_date</th>\n",
       "    </tr>\n",
       "  </thead>\n",
       "  <tbody>\n",
       "    <tr>\n",
       "      <th>count</th>\n",
       "      <td>1273</td>\n",
       "      <td>1372</td>\n",
       "      <td>1372</td>\n",
       "      <td>1372</td>\n",
       "      <td>1372</td>\n",
       "      <td>1372</td>\n",
       "      <td>1372</td>\n",
       "      <td>1372</td>\n",
       "      <td>1273</td>\n",
       "    </tr>\n",
       "    <tr>\n",
       "      <th>unique</th>\n",
       "      <td>1</td>\n",
       "      <td>51</td>\n",
       "      <td>5</td>\n",
       "      <td>3</td>\n",
       "      <td>813</td>\n",
       "      <td>147</td>\n",
       "      <td>1297</td>\n",
       "      <td>1234</td>\n",
       "      <td>1088</td>\n",
       "    </tr>\n",
       "    <tr>\n",
       "      <th>top</th>\n",
       "      <td>x</td>\n",
       "      <td>Ravindra Lanka</td>\n",
       "      <td>hi-pri</td>\n",
       "      <td>Closed</td>\n",
       "      <td>[MAJOR][ACTIVE][[F3] Code Coverage Test::STATI...</td>\n",
       "      <td>'oncall', 'f3-oncall', 'mandoline-alert', 'clo...</td>\n",
       "      <td>2019-12-23 13:31:54</td>\n",
       "      <td>2020-02-12 22:06:52</td>\n",
       "      <td>2020-04-24 14:56:26</td>\n",
       "    </tr>\n",
       "    <tr>\n",
       "      <th>freq</th>\n",
       "      <td>1273</td>\n",
       "      <td>198</td>\n",
       "      <td>1234</td>\n",
       "      <td>1273</td>\n",
       "      <td>47</td>\n",
       "      <td>141</td>\n",
       "      <td>3</td>\n",
       "      <td>17</td>\n",
       "      <td>40</td>\n",
       "    </tr>\n",
       "    <tr>\n",
       "      <th>first</th>\n",
       "      <td>NaN</td>\n",
       "      <td>NaN</td>\n",
       "      <td>NaN</td>\n",
       "      <td>NaN</td>\n",
       "      <td>NaN</td>\n",
       "      <td>NaN</td>\n",
       "      <td>2019-12-11 16:04:21</td>\n",
       "      <td>2019-12-12 12:00:58</td>\n",
       "      <td>2019-12-12 12:00:57</td>\n",
       "    </tr>\n",
       "    <tr>\n",
       "      <th>last</th>\n",
       "      <td>NaN</td>\n",
       "      <td>NaN</td>\n",
       "      <td>NaN</td>\n",
       "      <td>NaN</td>\n",
       "      <td>NaN</td>\n",
       "      <td>NaN</td>\n",
       "      <td>2020-06-11 00:17:32</td>\n",
       "      <td>2020-06-11 11:26:15</td>\n",
       "      <td>2020-06-11 03:58:12</td>\n",
       "    </tr>\n",
       "  </tbody>\n",
       "</table>\n",
       "</div>"
      ],
      "text/plain": [
       "       closed     assigned_to priority progress  \\\n",
       "count    1273            1372     1372     1372   \n",
       "unique      1              51        5        3   \n",
       "top         x  Ravindra Lanka   hi-pri   Closed   \n",
       "freq     1273             198     1234     1273   \n",
       "first     NaN             NaN      NaN      NaN   \n",
       "last      NaN             NaN      NaN      NaN   \n",
       "\n",
       "                                                    title  \\\n",
       "count                                                1372   \n",
       "unique                                                813   \n",
       "top     [MAJOR][ACTIVE][[F3] Code Coverage Test::STATI...   \n",
       "freq                                                   47   \n",
       "first                                                 NaN   \n",
       "last                                                  NaN   \n",
       "\n",
       "                                                     tags  \\\n",
       "count                                                1372   \n",
       "unique                                                147   \n",
       "top     'oncall', 'f3-oncall', 'mandoline-alert', 'clo...   \n",
       "freq                                                  141   \n",
       "first                                                 NaN   \n",
       "last                                                  NaN   \n",
       "\n",
       "               created_date         last_updated       completed_date  \n",
       "count                  1372                 1372                 1273  \n",
       "unique                 1297                 1234                 1088  \n",
       "top     2019-12-23 13:31:54  2020-02-12 22:06:52  2020-04-24 14:56:26  \n",
       "freq                      3                   17                   40  \n",
       "first   2019-12-11 16:04:21  2019-12-12 12:00:58  2019-12-12 12:00:57  \n",
       "last    2020-06-11 00:17:32  2020-06-11 11:26:15  2020-06-11 03:58:12  "
      ]
     },
     "execution_count": 58,
     "metadata": {},
     "output_type": "execute_result"
    }
   ],
   "source": [
    "df.describe()"
   ]
  },
  {
   "cell_type": "code",
   "execution_count": 20,
   "metadata": {},
   "outputs": [
    {
     "data": {
      "text/plain": [
       "task_number\n",
       "62934068    False\n",
       "67197117    False\n",
       "67263686    False\n",
       "66912676    False\n",
       "66139505    False\n",
       "Name: progress, dtype: bool"
      ]
     },
     "execution_count": 20,
     "metadata": {},
     "output_type": "execute_result"
    }
   ],
   "source": [
    "not_closed = df[\"progress\"] != \"Closed\"\n",
    "not_closed[:5]"
   ]
  },
  {
   "cell_type": "code",
   "execution_count": 33,
   "metadata": {},
   "outputs": [
    {
     "data": {
      "text/plain": [
       "Timestamp('2019-12-11 16:11:45')"
      ]
     },
     "execution_count": 33,
     "metadata": {},
     "output_type": "execute_result"
    }
   ],
   "source": [
    "df[not_closed].created_date.min()"
   ]
  },
  {
   "cell_type": "code",
   "execution_count": 34,
   "metadata": {},
   "outputs": [
    {
     "data": {
      "text/html": [
       "<div>\n",
       "<style scoped>\n",
       "    .dataframe tbody tr th:only-of-type {\n",
       "        vertical-align: middle;\n",
       "    }\n",
       "\n",
       "    .dataframe tbody tr th {\n",
       "        vertical-align: top;\n",
       "    }\n",
       "\n",
       "    .dataframe thead th {\n",
       "        text-align: right;\n",
       "    }\n",
       "</style>\n",
       "<table border=\"1\" class=\"dataframe\">\n",
       "  <thead>\n",
       "    <tr style=\"text-align: right;\">\n",
       "      <th></th>\n",
       "      <th>closed</th>\n",
       "      <th>assigned_to</th>\n",
       "      <th>priority</th>\n",
       "      <th>progress</th>\n",
       "      <th>title</th>\n",
       "      <th>tags</th>\n",
       "      <th>created_date</th>\n",
       "      <th>last_updated</th>\n",
       "      <th>completed_date</th>\n",
       "    </tr>\n",
       "    <tr>\n",
       "      <th>task_number</th>\n",
       "      <th></th>\n",
       "      <th></th>\n",
       "      <th></th>\n",
       "      <th></th>\n",
       "      <th></th>\n",
       "      <th></th>\n",
       "      <th></th>\n",
       "      <th></th>\n",
       "      <th></th>\n",
       "    </tr>\n",
       "  </thead>\n",
       "  <tbody>\n",
       "    <tr>\n",
       "      <th>59020672</th>\n",
       "      <td>NaN</td>\n",
       "      <td>Kal Aggag</td>\n",
       "      <td>unbreak now!</td>\n",
       "      <td>None</td>\n",
       "      <td>[CRITICAL][ACTIVE][[Dead Detector] [F3][Conten...</td>\n",
       "      <td>'oncall', 'admarket-backend-alerting', 'f3-onc...</td>\n",
       "      <td>2019-12-11 16:11:45</td>\n",
       "      <td>2020-03-15 07:59:00</td>\n",
       "      <td>NaT</td>\n",
       "    </tr>\n",
       "  </tbody>\n",
       "</table>\n",
       "</div>"
      ],
      "text/plain": [
       "            closed assigned_to      priority progress  \\\n",
       "task_number                                             \n",
       "59020672       NaN   Kal Aggag  unbreak now!     None   \n",
       "\n",
       "                                                         title  \\\n",
       "task_number                                                      \n",
       "59020672     [CRITICAL][ACTIVE][[Dead Detector] [F3][Conten...   \n",
       "\n",
       "                                                          tags  \\\n",
       "task_number                                                      \n",
       "59020672     'oncall', 'admarket-backend-alerting', 'f3-onc...   \n",
       "\n",
       "                   created_date        last_updated completed_date  \n",
       "task_number                                                         \n",
       "59020672    2019-12-11 16:11:45 2020-03-15 07:59:00            NaT  "
      ]
     },
     "execution_count": 34,
     "metadata": {},
     "output_type": "execute_result"
    }
   ],
   "source": [
    "df[df.created_date == \"2019-12-11 16:11:45\"]"
   ]
  },
  {
   "cell_type": "code",
   "execution_count": 51,
   "metadata": {},
   "outputs": [],
   "source": [
    "all_tags = []\n",
    "for tagstr in df.tags:\n",
    "    tags = [tag.strip() for tag in tagstr.replace(\"'\", \"\").split(\",\")]\n",
    "    all_tags += tags"
   ]
  },
  {
   "cell_type": "code",
   "execution_count": 52,
   "metadata": {},
   "outputs": [
    {
     "data": {
      "text/plain": [
       "7997"
      ]
     },
     "execution_count": 52,
     "metadata": {},
     "output_type": "execute_result"
    }
   ],
   "source": [
    "len(all_tags)"
   ]
  },
  {
   "cell_type": "code",
   "execution_count": 53,
   "metadata": {},
   "outputs": [],
   "source": [
    "from collections import Counter"
   ]
  },
  {
   "cell_type": "code",
   "execution_count": 55,
   "metadata": {},
   "outputs": [],
   "source": [
    "counts = Counter(all_tags)"
   ]
  },
  {
   "cell_type": "code",
   "execution_count": 57,
   "metadata": {},
   "outputs": [
    {
     "data": {
      "text/plain": [
       "[('f3-oncall', 1372),\n",
       " ('oncall', 1219),\n",
       " ('mandoline-alert', 661),\n",
       " ('close on clear', 651),\n",
       " ('close by mandoline', 613),\n",
       " ('cdm_escalator_v2', 299),\n",
       " ('ads-ranking-features-oncall', 263),\n",
       " ('f3', 205),\n",
       " ('f3-code-quality', 140),\n",
       " ('signal-infra-report', 122),\n",
       " ('series-continuous', 122),\n",
       " ('fbcode', 120),\n",
       " ('NOSAN', 120),\n",
       " ('XStream-F3', 119),\n",
       " ('code-quality', 116),\n",
       " ('clang', 109),\n",
       " ('duplicate', 98),\n",
       " ('stylus', 97),\n",
       " ('alert', 91),\n",
       " ('failbot', 75),\n",
       " ('cdm_escalator_late_merge_v2', 72),\n",
       " ('test failure', 71),\n",
       " ('oncallteam-ads-ranking-features', 65),\n",
       " ('zdb-alerts', 58),\n",
       " ('zdb-user-alert', 58),\n",
       " ('tier_status_prod', 58),\n",
       " ('on-report-multisect', 57),\n",
       " ('area-ads-ranking-features-ddt-late', 52),\n",
       " ('bpd-bad-package', 52),\n",
       " ('anomaly-rca-notification', 47),\n",
       " ('dataswarm bot', 41),\n",
       " ('swarmswatter', 39),\n",
       " ('eng_fixathon', 35),\n",
       " ('scribe-wasted', 33),\n",
       " ('cli', 33),\n",
       " ('admarket-backend-alerting', 32),\n",
       " ('new-test', 29),\n",
       " ('beta_test_fixathon', 29),\n",
       " ('python-version-3', 24),\n",
       " ('sf-node:f3/cli:e2e_test', 22),\n",
       " ('ubn-candidate', 19),\n",
       " ('pp90-blocker-pkg', 19),\n",
       " ('sandcastle', 18),\n",
       " ('backend-push-reminder', 18),\n",
       " ('releng', 18),\n",
       " ('procprint-90-violation', 18),\n",
       " ('p4p-inactive', 17),\n",
       " ('greenwarden', 15),\n",
       " ('feature-store', 14),\n",
       " ('sf-node:f3/cli:build', 10),\n",
       " ('donotreap', 9),\n",
       " ('tupperware', 9),\n",
       " ('ACL access request', 8),\n",
       " ('hipster access request oncall poc', 8),\n",
       " ('prod', 8),\n",
       " ('oncallteam-megataxon', 8),\n",
       " ('detector_template_generated', 7),\n",
       " ('template_detector', 7),\n",
       " ('chengjin_oncall', 6),\n",
       " ('laser', 6),\n",
       " ('ACL access granted', 6),\n",
       " ('bugs', 6),\n",
       " ('sf_ci', 6),\n",
       " ('sf-node:xstream_project/f3_instagram_actions_instagram:release candidate',\n",
       "  6),\n",
       " ('sf_failed_push', 6),\n",
       " ('ads_storage_stale_category_alert', 6),\n",
       " ('scribe-entitlement-above-limit', 5),\n",
       " ('laser-user-alert', 5),\n",
       " ('tier-abandoned', 5),\n",
       " ('DO-Automated', 5),\n",
       " ('DataOps Project Swift', 5),\n",
       " ('Data Operations', 5),\n",
       " ('thrift', 4),\n",
       " ('c++', 4),\n",
       " ('cpp', 4),\n",
       " ('code-quality-manual-task', 4),\n",
       " ('fbcode-cpp-value-unchecked-thrift-code-quality', 4),\n",
       " ('fbcode-ads-serving-platform-code-quality', 4),\n",
       " ('unsafe-optional-fields', 4),\n",
       " ('commitClose', 4),\n",
       " ('better-eng', 4),\n",
       " ('be_fixathon', 4),\n",
       " ('expedited-deletion', 4),\n",
       " ('disabled test', 3),\n",
       " ('f3_build_failure', 3),\n",
       " ('f3_export_failure', 3),\n",
       " ('f3-0.92', 3),\n",
       " ('privacy-review-2020-wave-12', 3),\n",
       " ('intent-infra-oncall', 3),\n",
       " ('diet-auto', 3),\n",
       " ('www', 2),\n",
       " ('f3-frontend-compiler', 2),\n",
       " ('build_upm_task_failed', 2),\n",
       " ('ACL access denied', 2),\n",
       " ('by-mobilizer', 2),\n",
       " ('deletion-plan-xdb', 2),\n",
       " ('privacy_fixathon', 2),\n",
       " ('deletion-backlog', 2),\n",
       " ('data-classification-deletion-node', 2),\n",
       " ('oncallteam-xstream-f3', 2),\n",
       " ('P4P', 2),\n",
       " ('cd-onboarding-automation-request', 2),\n",
       " ('p4p-fbpkg-fest', 2),\n",
       " ('ads', 2),\n",
       " ('alarms', 2),\n",
       " ('IM Review Action Item', 2),\n",
       " ('ads-delivery', 2),\n",
       " ('Process not followed', 2),\n",
       " ('ads-del-adconv-revenue', 2),\n",
       " ('ads-ranking-infra', 2),\n",
       " ('inprogress', 2),\n",
       " ('Wall-E', 2),\n",
       " ('oncallteam-ads-pe-measurement', 1),\n",
       " ('scribe-sampling-entitlement-time-based', 1),\n",
       " ('tw-stale-pkg', 1),\n",
       " ('scuba-reaper', 1),\n",
       " ('scuba-wasted', 1),\n",
       " ('sp-request-to-ext-team', 1),\n",
       " ('notf', 1),\n",
       " ('scuba-tailer', 1),\n",
       " ('f3_optimize_failure', 1),\n",
       " ('conveyor-sfid-cleanup', 1),\n",
       " ('f3-fundamentals', 1),\n",
       " ('sprint-3', 1),\n",
       " ('f3-miscellaneous', 1),\n",
       " ('ep acl access request', 1),\n",
       " ('SRM-onboarding', 1),\n",
       " ('scribe-reaper-ignore', 1),\n",
       " ('ofa-discovery-bii', 1),\n",
       " ('ofa-compliance', 1),\n",
       " ('ABPPrivacyTask-SupportNeeded', 1),\n",
       " ('privacy-review-2020-wave-11', 1),\n",
       " ('privacy-review-2020-wave-8', 1),\n",
       " ('privacy-pic', 1),\n",
       " ('privacy-review-2020-wave-10', 1),\n",
       " ('ip-privacy-whitecastle', 1),\n",
       " ('ip-inferred-address-book-nodes-annotation', 1),\n",
       " ('tw_p4p_oncall', 1),\n",
       " ('tw_p4p_job', 1),\n",
       " ('p4p-catalysis-closed-task', 1),\n",
       " ('cd-onboarding-happy', 1),\n",
       " ('p4p-fbpkg-fest-opt-out', 1),\n",
       " ('optimization_framework_master_task', 1),\n",
       " ('StylusOncallRootCauseOther', 1),\n",
       " ('sp-oper', 1),\n",
       " ('oncallteam-stylus', 1),\n",
       " ('sp-rootcaused', 1),\n",
       " ('ubn', 1),\n",
       " ('StylusOncall', 1),\n",
       " ('laser-workflow-error', 1),\n",
       " ('laser-workflow', 1),\n",
       " ('laser-oncall', 1),\n",
       " ('Skip', 1),\n",
       " ('ai_infra', 1),\n",
       " ('diet-auto-import-reaper', 1),\n",
       " ('import reaper', 1),\n",
       " ('oncallteam-f3-feature-migration', 1),\n",
       " ('ig-ads-delivery-infra-infra', 1),\n",
       " ('f3-0.9', 1),\n",
       " ('ads-ranking-features-oncall-followup', 1),\n",
       " ('ads-feature-infra-oncall-followup', 1),\n",
       " ('f3-0.92-depri', 1),\n",
       " ('sprint-4', 1),\n",
       " ('sf-node:f3/cli:tag_as_rc', 1),\n",
       " ('fileataskbot-chat', 1),\n",
       " ('Search-UBN', 1),\n",
       " ('cold-data', 1),\n",
       " ('Wall-E-cold-data', 1),\n",
       " ('ad_metrics', 1),\n",
       " ('diet-auto-cold-data-automation', 1),\n",
       " ('done', 1),\n",
       " ('table-column-reaper', 1),\n",
       " ('bi_infra_owned', 1)]"
      ]
     },
     "execution_count": 57,
     "metadata": {},
     "output_type": "execute_result"
    }
   ],
   "source": [
    "counts.most_common()"
   ]
  },
  {
   "cell_type": "code",
   "execution_count": null,
   "metadata": {},
   "outputs": [],
   "source": []
  },
  {
   "cell_type": "code",
   "execution_count": null,
   "metadata": {},
   "outputs": [],
   "source": []
  },
  {
   "cell_type": "code",
   "execution_count": 42,
   "metadata": {},
   "outputs": [
    {
     "data": {
      "text/plain": [
       "\"'oncall', 'zdb-alerts', 'f3-oncall', 'mandoline-alert', 'zdb-user-alert', 'close on clear', 'tier_status_prod', 'close by mandoline'\""
      ]
     },
     "execution_count": 42,
     "metadata": {},
     "output_type": "execute_result"
    }
   ],
   "source": [
    "tagstrs[0]"
   ]
  },
  {
   "cell_type": "code",
   "execution_count": 43,
   "metadata": {},
   "outputs": [],
   "source": [
    "tagstr = tagstrs[0]"
   ]
  },
  {
   "cell_type": "code",
   "execution_count": 44,
   "metadata": {},
   "outputs": [
    {
     "data": {
      "text/plain": [
       "\"'oncall', 'zdb-alerts', 'f3-oncall', 'mandoline-alert', 'zdb-user-alert', 'close on clear', 'tier_status_prod', 'close by mandoline'\""
      ]
     },
     "execution_count": 44,
     "metadata": {},
     "output_type": "execute_result"
    }
   ],
   "source": [
    "tagstr"
   ]
  },
  {
   "cell_type": "code",
   "execution_count": 47,
   "metadata": {},
   "outputs": [
    {
     "data": {
      "text/plain": [
       "['oncall',\n",
       " 'zdb-alerts',\n",
       " 'f3-oncall',\n",
       " 'mandoline-alert',\n",
       " 'zdb-user-alert',\n",
       " 'close on clear',\n",
       " 'tier_status_prod',\n",
       " 'close by mandoline']"
      ]
     },
     "execution_count": 47,
     "metadata": {},
     "output_type": "execute_result"
    }
   ],
   "source": [
    "[tag.strip() for tag in tagstr.replace(\"'\", \"\").split(\",\")]"
   ]
  },
  {
   "cell_type": "code",
   "execution_count": 48,
   "metadata": {},
   "outputs": [],
   "source": [
    "all_tags = []\n",
    "for tagstr in tagstrs:\n",
    "    tags = [tag.strip() for tag in tagstr.replace(\"'\", \"\").split(\",\")]\n",
    "    all_tags += tags"
   ]
  },
  {
   "cell_type": "code",
   "execution_count": 49,
   "metadata": {},
   "outputs": [
    {
     "data": {
      "text/plain": [
       "['oncall',\n",
       " 'zdb-alerts',\n",
       " 'f3-oncall',\n",
       " 'mandoline-alert',\n",
       " 'zdb-user-alert',\n",
       " 'close on clear',\n",
       " 'tier_status_prod',\n",
       " 'close by mandoline',\n",
       " 'oncall',\n",
       " 'zdb-alerts',\n",
       " 'f3-oncall',\n",
       " 'mandoline-alert',\n",
       " 'alert',\n",
       " 'zdb-user-alert',\n",
       " 'close on clear',\n",
       " 'tier_status_prod',\n",
       " 'close by mandoline',\n",
       " 'oncall',\n",
       " 'zdb-alerts',\n",
       " 'f3-oncall',\n",
       " 'mandoline-alert',\n",
       " 'alert',\n",
       " 'zdb-user-alert',\n",
       " 'close on clear',\n",
       " 'tier_status_prod',\n",
       " 'close by mandoline',\n",
       " 'oncall',\n",
       " 'zdb-alerts',\n",
       " 'f3-oncall',\n",
       " 'mandoline-alert',\n",
       " 'alert',\n",
       " 'zdb-user-alert',\n",
       " 'close on clear',\n",
       " 'tier_status_prod',\n",
       " 'close by mandoline',\n",
       " 'oncall',\n",
       " 'zdb-alerts',\n",
       " 'f3-oncall',\n",
       " 'mandoline-alert',\n",
       " 'zdb-user-alert',\n",
       " 'close on clear',\n",
       " 'tier_status_prod',\n",
       " 'close by mandoline']"
      ]
     },
     "execution_count": 49,
     "metadata": {},
     "output_type": "execute_result"
    }
   ],
   "source": [
    "all_tags"
   ]
  },
  {
   "cell_type": "code",
   "execution_count": null,
   "metadata": {},
   "outputs": [],
   "source": []
  },
  {
   "cell_type": "code",
   "execution_count": null,
   "metadata": {},
   "outputs": [],
   "source": []
  }
 ],
 "metadata": {
  "kernelspec": {
   "display_name": "Python 3",
   "language": "python",
   "name": "python3"
  },
  "language_info": {
   "codemirror_mode": {
    "name": "ipython",
    "version": 3
   },
   "file_extension": ".py",
   "mimetype": "text/x-python",
   "name": "python",
   "nbconvert_exporter": "python",
   "pygments_lexer": "ipython3",
   "version": "3.7.7"
  }
 },
 "nbformat": 4,
 "nbformat_minor": 4
}
