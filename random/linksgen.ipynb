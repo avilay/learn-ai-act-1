{
 "cells": [
  {
   "cell_type": "code",
   "execution_count": 1,
   "metadata": {},
   "outputs": [],
   "source": [
    "from dataclasses import dataclass\n",
    "from enum import Enum, auto\n",
    "from typing import List\n",
    "from collections import Counter\n",
    "import yaml"
   ]
  },
  {
   "cell_type": "code",
   "execution_count": 2,
   "metadata": {},
   "outputs": [
    {
     "data": {
      "text/plain": [
       "137"
      ]
     },
     "execution_count": 2,
     "metadata": {},
     "output_type": "execute_result"
    }
   ],
   "source": [
    "with open(\"/Users/avilay/temp/links.txt\") as f:\n",
    "    lines = f.readlines()\n",
    "len(lines)"
   ]
  },
  {
   "cell_type": "code",
   "execution_count": 3,
   "metadata": {},
   "outputs": [
    {
     "data": {
      "text/plain": [
       "['https://fb.workplace.com/groups/120345634688033/permalink/2242133122509263/',\n",
       " 'Ads Ranking Infra 2019 H1 Outlook\\n']"
      ]
     },
     "execution_count": 3,
     "metadata": {},
     "output_type": "execute_result"
    }
   ],
   "source": [
    "lines[0].split(\"\\t\")"
   ]
  },
  {
   "cell_type": "code",
   "execution_count": 4,
   "metadata": {},
   "outputs": [],
   "source": [
    "class LinkKind(Enum):\n",
    "    quip = auto()\n",
    "    video = auto()\n",
    "    post = auto()\n",
    "    wiki = auto()\n",
    "    notes = auto()\n",
    "    google_docs = auto()\n",
    "    google_deck = auto()\n",
    "    dropbox = auto()\n",
    "    unknown = auto()"
   ]
  },
  {
   "cell_type": "code",
   "execution_count": 5,
   "metadata": {},
   "outputs": [],
   "source": [
    "@dataclass\n",
    "class Link:\n",
    "    title: str\n",
    "    link: str\n",
    "    tags: List[str]\n",
    "    desc: str"
   ]
  },
  {
   "cell_type": "code",
   "execution_count": 6,
   "metadata": {},
   "outputs": [],
   "source": [
    "def kindof(link):\n",
    "    if link.find(\"quip\") > -1:\n",
    "        link_kind = LinkKind.quip\n",
    "    elif link.find(\"hacktv\") > -1 or link.find(\"vod\") > -1:\n",
    "        link_kind = LinkKind.video\n",
    "    elif link.find(\"group\") > -1:\n",
    "        link_kind = LinkKind.post\n",
    "    elif link.find(\"wiki\") > -1 or link.find(\"dex\") > -1:\n",
    "        link_kind = LinkKind.wiki\n",
    "    elif link.find(\"notes\") > -1:\n",
    "        link_kind = LinkKind.notes\n",
    "    elif link.find(\"docs.google.com/document\") > -1:\n",
    "        link_kind = LinkKind.google_docs\n",
    "    elif link.find(\"docs.google.com/presentation\") > -1:\n",
    "        link_kind = LinkKind.google_deck\n",
    "    elif link.find(\"dropbox\") > -1:\n",
    "        link_kind = LinkKind.dropbox\n",
    "    else:\n",
    "        link_kind = LinkKind.unknown\n",
    "    return link_kind"
   ]
  },
  {
   "cell_type": "code",
   "execution_count": 10,
   "metadata": {},
   "outputs": [
    {
     "data": {
      "text/plain": [
       "130"
      ]
     },
     "execution_count": 10,
     "metadata": {},
     "output_type": "execute_result"
    }
   ],
   "source": [
    "links = {}\n",
    "for line in lines:\n",
    "    line = line.strip()\n",
    "    link, title = line.split(\"\\t\")\n",
    "    kind = kindof(link)\n",
    "    if link in links:\n",
    "        links[link].desc = title\n",
    "    else:\n",
    "        links[link] = Link(title=title, link=link, tags=[kind.name, \"noop\"], desc=\"\") \n",
    "len(links)"
   ]
  },
  {
   "cell_type": "code",
   "execution_count": 11,
   "metadata": {},
   "outputs": [],
   "source": [
    "output = yaml.dump(list(links.values()))"
   ]
  },
  {
   "cell_type": "code",
   "execution_count": 13,
   "metadata": {},
   "outputs": [],
   "source": [
    "with open(\"links.yml\", \"wt\") as f:\n",
    "    print(output, file=f)"
   ]
  },
  {
   "cell_type": "code",
   "execution_count": null,
   "metadata": {},
   "outputs": [],
   "source": []
  },
  {
   "cell_type": "code",
   "execution_count": null,
   "metadata": {},
   "outputs": [],
   "source": []
  },
  {
   "cell_type": "code",
   "execution_count": null,
   "metadata": {},
   "outputs": [],
   "source": []
  },
  {
   "cell_type": "code",
   "execution_count": null,
   "metadata": {},
   "outputs": [],
   "source": []
  },
  {
   "cell_type": "code",
   "execution_count": null,
   "metadata": {},
   "outputs": [],
   "source": []
  },
  {
   "cell_type": "code",
   "execution_count": null,
   "metadata": {},
   "outputs": [],
   "source": []
  },
  {
   "cell_type": "code",
   "execution_count": null,
   "metadata": {},
   "outputs": [],
   "source": []
  },
  {
   "cell_type": "code",
   "execution_count": null,
   "metadata": {},
   "outputs": [],
   "source": []
  },
  {
   "cell_type": "code",
   "execution_count": null,
   "metadata": {},
   "outputs": [],
   "source": []
  },
  {
   "cell_type": "code",
   "execution_count": null,
   "metadata": {},
   "outputs": [],
   "source": []
  },
  {
   "cell_type": "code",
   "execution_count": null,
   "metadata": {},
   "outputs": [],
   "source": []
  },
  {
   "cell_type": "code",
   "execution_count": null,
   "metadata": {},
   "outputs": [],
   "source": []
  },
  {
   "cell_type": "code",
   "execution_count": null,
   "metadata": {},
   "outputs": [],
   "source": [
    "for link in lin:\n",
    "    link_kind = None\n",
    "    \n",
    "    if link.find(\"quip\") > -1:\n",
    "        link_kind = LinkKind.quip\n",
    "    elif link.find(\"hacktv\") > -1 or link.find(\"vod\") > -1:\n",
    "        link_kind = LinkKind.video\n",
    "    elif link.find(\"group\") > -1:\n",
    "        link_kind = LinkKind.post\n",
    "    elif link.find(\"wiki\") > -1 or link.find(\"dex\") > -1:\n",
    "        link_kind = LinkKind.wiki\n",
    "    elif link.find(\"notes\") > -1:\n",
    "        link_kind = LinkKind.notes\n",
    "    elif link.find(\"docs.google.com/document\") > -1:\n",
    "        link_kind = LinkKind.google_docs\n",
    "    elif link.find(\"docs.google.com/presentation\") > -1:\n",
    "        link_kind = LinkKind.google_deck\n",
    "    elif link.find(\"dropbox\") > -1:\n",
    "        link_kind = LinkKind.dropbox\n",
    "    if not link_kind:\n",
    "        print(f\"Unable to determine type of link for {link}\")\n",
    "        \n",
    "    links[link] = Link(kind=link_kind, desc=links[link], tags=[])"
   ]
  },
  {
   "cell_type": "code",
   "execution_count": null,
   "metadata": {},
   "outputs": [],
   "source": []
  },
  {
   "cell_type": "code",
   "execution_count": null,
   "metadata": {},
   "outputs": [],
   "source": [
    "links = {}\n",
    "for line in lines:\n",
    "    line = line.strip()\n",
    "    if not line: continue\n",
    "    flds = line.split(\"\\t\")\n",
    "    if len(flds) != 2:\n",
    "        print(f\"Unable to parse {line}\")\n",
    "        continue\n",
    "    link, desc = flds[0], flds[1]\n",
    "    links[link] = desc"
   ]
  },
  {
   "cell_type": "code",
   "execution_count": null,
   "metadata": {},
   "outputs": [],
   "source": [
    "len(links)"
   ]
  },
  {
   "cell_type": "code",
   "execution_count": null,
   "metadata": {},
   "outputs": [],
   "source": []
  },
  {
   "cell_type": "code",
   "execution_count": null,
   "metadata": {},
   "outputs": [],
   "source": [
    "\n",
    "    "
   ]
  },
  {
   "cell_type": "code",
   "execution_count": null,
   "metadata": {},
   "outputs": [],
   "source": []
  },
  {
   "cell_type": "code",
   "execution_count": null,
   "metadata": {},
   "outputs": [],
   "source": []
  },
  {
   "cell_type": "code",
   "execution_count": null,
   "metadata": {},
   "outputs": [],
   "source": [
    "links[list(links.keys())[0]]"
   ]
  },
  {
   "cell_type": "code",
   "execution_count": null,
   "metadata": {},
   "outputs": [],
   "source": [
    "kinds = [link.kind for link in links.values()]\n",
    "Counter(kinds).most_common()"
   ]
  },
  {
   "cell_type": "code",
   "execution_count": null,
   "metadata": {},
   "outputs": [],
   "source": [
    "with open(\"links.yml\", \"wt\") as f:\n",
    "    for link, meta in links.items():\n",
    "        kind = meta.kind.name if meta.kind else \"\"\n",
    "        print(f\"[{meta.desc}]({link}) {kind}\", file=f)"
   ]
  },
  {
   "cell_type": "code",
   "execution_count": null,
   "metadata": {},
   "outputs": [],
   "source": [
    "@dataclass\n",
    "class Cookie:\n",
    "    flavor: str\n",
    "    calories: int        "
   ]
  },
  {
   "cell_type": "code",
   "execution_count": null,
   "metadata": {},
   "outputs": [],
   "source": [
    "cookies = [\n",
    "    Cookie(flavor=\"Chocolate Chip\", calories=200),\n",
    "    Cookie(flavor=\"Snicker Doodle\", calories=180),\n",
    "    Cookie(flavor=\"Oatmeal Raisin\", calories=120)\n",
    "]"
   ]
  },
  {
   "cell_type": "code",
   "execution_count": null,
   "metadata": {},
   "outputs": [],
   "source": [
    "from yaml import load, dump"
   ]
  },
  {
   "cell_type": "code",
   "execution_count": null,
   "metadata": {},
   "outputs": [],
   "source": [
    "dump(cookies, canonical=False)"
   ]
  },
  {
   "cell_type": "code",
   "execution_count": null,
   "metadata": {},
   "outputs": [],
   "source": []
  },
  {
   "cell_type": "code",
   "execution_count": null,
   "metadata": {},
   "outputs": [],
   "source": [
    "output"
   ]
  },
  {
   "cell_type": "code",
   "execution_count": null,
   "metadata": {},
   "outputs": [],
   "source": [
    "with open(\"tp.yml\", \"wt\") as f:\n",
    "    print(output, file=f)"
   ]
  },
  {
   "cell_type": "code",
   "execution_count": null,
   "metadata": {},
   "outputs": [],
   "source": []
  },
  {
   "cell_type": "code",
   "execution_count": null,
   "metadata": {},
   "outputs": [],
   "source": []
  },
  {
   "cell_type": "code",
   "execution_count": null,
   "metadata": {},
   "outputs": [],
   "source": []
  },
  {
   "cell_type": "code",
   "execution_count": null,
   "metadata": {},
   "outputs": [],
   "source": []
  },
  {
   "cell_type": "code",
   "execution_count": null,
   "metadata": {},
   "outputs": [],
   "source": []
  },
  {
   "cell_type": "code",
   "execution_count": null,
   "metadata": {},
   "outputs": [],
   "source": []
  },
  {
   "cell_type": "code",
   "execution_count": null,
   "metadata": {},
   "outputs": [],
   "source": []
  }
 ],
 "metadata": {
  "kernelspec": {
   "display_name": "Python 3",
   "language": "python",
   "name": "python3"
  },
  "language_info": {
   "codemirror_mode": {
    "name": "ipython",
    "version": 3
   },
   "file_extension": ".py",
   "mimetype": "text/x-python",
   "name": "python",
   "nbconvert_exporter": "python",
   "pygments_lexer": "ipython3",
   "version": "3.7.7"
  }
 },
 "nbformat": 4,
 "nbformat_minor": 4
}
