{
 "cells": [
  {
   "cell_type": "markdown",
   "metadata": {},
   "source": [
    "# Data Prep"
   ]
  },
  {
   "cell_type": "code",
   "execution_count": 1,
   "metadata": {},
   "outputs": [],
   "source": [
    "import pickle\n",
    "import numpy as np\n",
    "import torch as t\n",
    "import torch.nn as nn\n",
    "import torch.nn.functional as F\n",
    "import torchvision as tv\n",
    "import plotter as pltr\n",
    "from torch.utils.data import DataLoader\n",
    "from torch.utils.data import random_split\n",
    "from collections import namedtuple\n",
    "import torch.optim as optim\n",
    "from mlmetrics.sqlitemetrics.sqlite_metric import SqliteMetric\n",
    "from haikunator import Haikunator\n",
    "import logging\n",
    "from IPython.display import clear_output\n",
    "\n",
    "logging.basicConfig(level=logging.ERROR)\n",
    "pltr.set_backend(pltr.MatplotlibBackend)\n",
    "%matplotlib inline"
   ]
  },
  {
   "cell_type": "markdown",
   "metadata": {},
   "source": [
    "### Data Exploration"
   ]
  },
  {
   "cell_type": "code",
   "execution_count": 2,
   "metadata": {},
   "outputs": [
    {
     "name": "stdout",
     "output_type": "stream",
     "text": [
      "Files already downloaded and verified\n"
     ]
    }
   ],
   "source": [
    "exp = tv.datasets.CIFAR10(root='/data/pytorch/cifar', download=True)"
   ]
  },
  {
   "cell_type": "markdown",
   "metadata": {},
   "source": [
    "#### How do I get to the data (x and y)?\n",
    "Lets try listing all the public methods on this Dataset."
   ]
  },
  {
   "cell_type": "code",
   "execution_count": 3,
   "metadata": {},
   "outputs": [
    {
     "data": {
      "text/plain": [
       "['base_folder',\n",
       " 'download',\n",
       " 'filename',\n",
       " 'root',\n",
       " 'target_transform',\n",
       " 'test_list',\n",
       " 'tgz_md5',\n",
       " 'train',\n",
       " 'train_data',\n",
       " 'train_labels',\n",
       " 'train_list',\n",
       " 'transform',\n",
       " 'url']"
      ]
     },
     "execution_count": 3,
     "metadata": {},
     "output_type": "execute_result"
    }
   ],
   "source": [
    "list(filter(lambda x: not x.startswith('_'), dir(exp)))"
   ]
  },
  {
   "cell_type": "markdown",
   "metadata": {},
   "source": [
    "`train_data` and `train_labels` look promising. What are they?"
   ]
  },
  {
   "cell_type": "code",
   "execution_count": 4,
   "metadata": {},
   "outputs": [
    {
     "data": {
      "text/plain": [
       "numpy.ndarray"
      ]
     },
     "execution_count": 4,
     "metadata": {},
     "output_type": "execute_result"
    }
   ],
   "source": [
    "type(exp.train_data)"
   ]
  },
  {
   "cell_type": "code",
   "execution_count": 5,
   "metadata": {},
   "outputs": [
    {
     "data": {
      "text/plain": [
       "(50000, 32, 32, 3)"
      ]
     },
     "execution_count": 5,
     "metadata": {},
     "output_type": "execute_result"
    }
   ],
   "source": [
    "exp.train_data.shape"
   ]
  },
  {
   "cell_type": "code",
   "execution_count": 6,
   "metadata": {},
   "outputs": [
    {
     "name": "stdout",
     "output_type": "stream",
     "text": [
      "255 0\n"
     ]
    }
   ],
   "source": [
    "print(np.max(exp.train_data), np.min(exp.train_data))"
   ]
  },
  {
   "cell_type": "code",
   "execution_count": 7,
   "metadata": {},
   "outputs": [
    {
     "data": {
      "text/plain": [
       "list"
      ]
     },
     "execution_count": 7,
     "metadata": {},
     "output_type": "execute_result"
    }
   ],
   "source": [
    "type(exp.train_labels)"
   ]
  },
  {
   "cell_type": "code",
   "execution_count": 8,
   "metadata": {},
   "outputs": [
    {
     "data": {
      "text/plain": [
       "50000"
      ]
     },
     "execution_count": 8,
     "metadata": {},
     "output_type": "execute_result"
    }
   ],
   "source": [
    "len(exp.train_labels)"
   ]
  },
  {
   "cell_type": "code",
   "execution_count": 9,
   "metadata": {},
   "outputs": [
    {
     "data": {
      "text/plain": [
       "[6, 9, 9, 4, 1]"
      ]
     },
     "execution_count": 9,
     "metadata": {},
     "output_type": "execute_result"
    }
   ],
   "source": [
    "exp.train_labels[:5]"
   ]
  },
  {
   "cell_type": "markdown",
   "metadata": {},
   "source": [
    "Looks like train data has the 50K 32x32 RGB images. The pixel values - as is standard - are between 0 and 255. And the labels are actually the target values $y$.\n",
    "\n",
    "#### How do I get the label names?\n",
    "After some quick web search and examining the data directory where the pytorch data is downloaded, there seems to be a batches.meta file which has the `dict` with meta info. Lets load that up."
   ]
  },
  {
   "cell_type": "code",
   "execution_count": 10,
   "metadata": {},
   "outputs": [
    {
     "data": {
      "text/plain": [
       "{'num_cases_per_batch': 10000,\n",
       " 'label_names': ['airplane',\n",
       "  'automobile',\n",
       "  'bird',\n",
       "  'cat',\n",
       "  'deer',\n",
       "  'dog',\n",
       "  'frog',\n",
       "  'horse',\n",
       "  'ship',\n",
       "  'truck'],\n",
       " 'num_vis': 3072}"
      ]
     },
     "execution_count": 10,
     "metadata": {},
     "output_type": "execute_result"
    }
   ],
   "source": [
    "with open('/data/pytorch/cifar/cifar-10-batches-py/batches.meta', 'rb') as f:\n",
    "    meta = pickle.load(f)\n",
    "meta"
   ]
  },
  {
   "cell_type": "code",
   "execution_count": 11,
   "metadata": {},
   "outputs": [],
   "source": [
    "def plot_images(images, labels):\n",
    "    if len(images) != len(labels):\n",
    "        raise RuntimeError(f'{len(images)} number of images do not match {len(labels)} number of labels!')\n",
    "    frame = pltr.Frame()\n",
    "    frame.layout(nrows=1, ncols=len(images))\n",
    "    \n",
    "    for image, label in zip(images, labels):\n",
    "        chart = frame.create_chart()\n",
    "        chart.title = meta['label_names'][label]\n",
    "        chart.show_axes = False\n",
    "        img = pltr.RgbImage(image)\n",
    "        chart.add(img)\n",
    "        \n",
    "    frame.show()"
   ]
  },
  {
   "cell_type": "code",
   "execution_count": 12,
   "metadata": {},
   "outputs": [
    {
     "data": {
      "image/png": "[encoded data removed]",
      "text/plain": [
       "<Figure size 360x360 with 3 Axes>"
      ]
     },
     "metadata": {
      "needs_background": "light"
     },
     "output_type": "display_data"
    }
   ],
   "source": [
    "ndxs = np.random.randint(0, 50000, 3)\n",
    "images = np.take(exp.train_data, ndxs, axis=0)\n",
    "labels = np.take(exp.train_labels, ndxs, axis=0)\n",
    "plot_images(images, labels)"
   ]
  },
  {
   "cell_type": "markdown",
   "metadata": {},
   "source": [
    "# Hyperparameters\n",
    "It is now time to start thinking about hyperparameters. Lets define a `namedtuple` with as many as we know and then keep adding to it as we go."
   ]
  },
  {
   "cell_type": "code",
   "execution_count": 13,
   "metadata": {},
   "outputs": [],
   "source": [
    "HyperParams = namedtuple('HyperParams', ['batch_size', 'learning_rate', 'epochs'])\n",
    "hparams = HyperParams(batch_size=4, learning_rate=0.01, epochs=5)"
   ]
  },
  {
   "cell_type": "markdown",
   "metadata": {},
   "source": [
    "# Data Prep\n",
    "For the architecture I have in mind, it is best that the pixel values are between 0 and 1 and also normalized assuming a mean of 0.5 and std dev of 0.5 for all three channels. Strictly speaking I'd find the μ and σ of each channel across all 50K images and use those values, but the assumption of 0.5 simplifies my life. Additionally, I'll need to convert these images to channel first as that is what pytorch expects. `tv.transforms.ToTensor` will convert the images to channel first as well as convert the pixel values to be between 0 and 1. `tv.transforms.Normalize` will normalize the pixel values."
   ]
  },
  {
   "cell_type": "code",
   "execution_count": 14,
   "metadata": {},
   "outputs": [],
   "source": [
    "xform = tv.transforms.Compose([\n",
    "    tv.transforms.ToTensor(),\n",
    "    tv.transforms.Normalize(mean=(0.5, 0.5, 0.5), std=(0.5, 0.5, 0.5))\n",
    "])\n",
    "trainset = tv.datasets.CIFAR10(root='/data/pytorch/cifar', train=True, transform=xform)\n",
    "testset = tv.datasets.CIFAR10(root='/data/pytorch/cifar', train=False, transform=xform)"
   ]
  },
  {
   "cell_type": "markdown",
   "metadata": {},
   "source": [
    "It is usually useful to deal with the `DataLoader` object instead of with the `Dataset` directly because the `DataLoader` will shuffle the data and give it in a batch. `DataLoader` is also an iterable, i.e., it can be on the left side of a `for loop`; and when passed to the `iter` builtin function, will return an iterator."
   ]
  },
  {
   "cell_type": "code",
   "execution_count": 15,
   "metadata": {},
   "outputs": [
    {
     "name": "stdout",
     "output_type": "stream",
     "text": [
      "40000 10000\n"
     ]
    }
   ],
   "source": [
    "devlen = int(len(trainset) * 0.8)\n",
    "vallen = len(trainset) - devlen\n",
    "devset, valset = random_split(trainset, (devlen, vallen))\n",
    "print(len(devset), len(valset))"
   ]
  },
  {
   "cell_type": "code",
   "execution_count": 16,
   "metadata": {},
   "outputs": [],
   "source": [
    "devloader = DataLoader(devset, batch_size=hparams.batch_size, shuffle=True, num_workers=2)\n",
    "valloader = DataLoader(valset, batch_size=hparams.batch_size, shuffle=True, num_workers=2)\n",
    "testloader = DataLoader(testset, batch_size=hparams.batch_size, shuffle=True, num_workers=2)"
   ]
  },
  {
   "cell_type": "markdown",
   "metadata": {},
   "source": [
    "Now lets see what a single batch looks like."
   ]
  },
  {
   "cell_type": "code",
   "execution_count": 17,
   "metadata": {},
   "outputs": [
    {
     "name": "stdout",
     "output_type": "stream",
     "text": [
      "<class 'torch.Tensor'> <class 'torch.Tensor'>\n"
     ]
    }
   ],
   "source": [
    "images, labels = iter(devloader).next()\n",
    "print(type(images), type(labels))"
   ]
  },
  {
   "cell_type": "code",
   "execution_count": 18,
   "metadata": {},
   "outputs": [
    {
     "name": "stdout",
     "output_type": "stream",
     "text": [
      "torch.Size([4, 3, 32, 32]) torch.Size([4])\n"
     ]
    }
   ],
   "source": [
    "print(images.size(), labels.size())"
   ]
  },
  {
   "cell_type": "code",
   "execution_count": 19,
   "metadata": {},
   "outputs": [
    {
     "data": {
      "text/plain": [
       "tensor([4, 5, 6, 8])"
      ]
     },
     "execution_count": 19,
     "metadata": {},
     "output_type": "execute_result"
    }
   ],
   "source": [
    "labels"
   ]
  },
  {
   "cell_type": "code",
   "execution_count": 20,
   "metadata": {},
   "outputs": [
    {
     "name": "stdout",
     "output_type": "stream",
     "text": [
      "tensor(0.9922) tensor(-1.)\n"
     ]
    }
   ],
   "source": [
    "print(t.max(images), t.min(images))"
   ]
  },
  {
   "cell_type": "markdown",
   "metadata": {},
   "source": [
    "All as expected, each batch has 4 images and labels. The images are channel first and pixel values have been normalized to be between -1 and 1."
   ]
  },
  {
   "cell_type": "markdown",
   "metadata": {},
   "source": [
    "If we need to visualize these images, we need to first make the image channel last and then de-normalize the pixel values to be in the 0 to 1 range. It is ok if they are not in the 0 to 255 range."
   ]
  },
  {
   "cell_type": "code",
   "execution_count": 21,
   "metadata": {},
   "outputs": [
    {
     "data": {
      "text/plain": [
       "(3, 32, 32)"
      ]
     },
     "execution_count": 21,
     "metadata": {},
     "output_type": "execute_result"
    }
   ],
   "source": [
    "image = images[3].numpy()\n",
    "image.shape"
   ]
  },
  {
   "cell_type": "code",
   "execution_count": 22,
   "metadata": {},
   "outputs": [
    {
     "name": "stdout",
     "output_type": "stream",
     "text": [
      "0.9607843 0.043137252\n"
     ]
    }
   ],
   "source": [
    "dn_image = (image * 0.5) + 0.5\n",
    "print(np.max(dn_image), np.min(dn_image))"
   ]
  },
  {
   "cell_type": "code",
   "execution_count": 23,
   "metadata": {},
   "outputs": [
    {
     "data": {
      "text/plain": [
       "(32, 32, 3)"
      ]
     },
     "execution_count": 23,
     "metadata": {},
     "output_type": "execute_result"
    }
   ],
   "source": [
    "dn_image = np.transpose(dn_image, (1, 2, 0))\n",
    "dn_image.shape"
   ]
  },
  {
   "cell_type": "code",
   "execution_count": 24,
   "metadata": {},
   "outputs": [
    {
     "data": {
      "text/plain": [
       "'ship'"
      ]
     },
     "execution_count": 24,
     "metadata": {},
     "output_type": "execute_result"
    }
   ],
   "source": [
    "label = meta['label_names'][labels[3].item()]\n",
    "label"
   ]
  },
  {
   "cell_type": "code",
   "execution_count": 25,
   "metadata": {},
   "outputs": [
    {
     "data": {
      "image/png": "[encoded data removed]",
      "text/plain": [
       "<Figure size 360x360 with 1 Axes>"
      ]
     },
     "metadata": {
      "needs_background": "light"
     },
     "output_type": "display_data"
    }
   ],
   "source": [
    "pltr.show_plot(label, pltr.RgbImage(dn_image))"
   ]
  },
  {
   "cell_type": "markdown",
   "metadata": {},
   "source": [
    "Everything looks good. Now write a function similar to `plot_images` for this."
   ]
  },
  {
   "cell_type": "code",
   "execution_count": 26,
   "metadata": {},
   "outputs": [],
   "source": [
    "def plot_normalized_images(images, labels):\n",
    "    images = images.numpy()\n",
    "    labels = labels.numpy()\n",
    "    dn_images = (images * 0.5) + 0.5\n",
    "    # dn_images is batch_size x channels x height x width\n",
    "    # it needs to be batch_size x height x width x channels\n",
    "    # 0, 1, 2, 3 --> 0, 2, 3, 1\n",
    "    dn_images = np.transpose(dn_images, (0, 2, 3, 1))\n",
    "    plot_images(dn_images, labels)"
   ]
  },
  {
   "cell_type": "code",
   "execution_count": 27,
   "metadata": {},
   "outputs": [
    {
     "data": {
      "image/png": "[encoded data removed]",
      "text/plain": [
       "<Figure size 360x360 with 4 Axes>"
      ]
     },
     "metadata": {
      "needs_background": "light"
     },
     "output_type": "display_data"
    }
   ],
   "source": [
    "images, labels = iter(devloader).next()\n",
    "plot_normalized_images(images, labels)"
   ]
  },
  {
   "cell_type": "markdown",
   "metadata": {},
   "source": [
    "# Scaffolding\n",
    "Now that the data has been prepared, let us figure out what kind of evaluation metrics we will use and how will we track the loss function values and evaluation metrics. For that let us defined the simplest possible NN, a fully connected single hidden layer that outputs a vector of size 10. The loss function we'll use is `CrossEntropyLoss` because it directly takes in the `h` values, i.e., a vector of size 10, and will convert it into a vector softmax probabilities, take the negative log of these probabilities, and average it across the mini-batch. Very convenient. For evaluation metric we'll again go with the simplest and use accuracy."
   ]
  },
  {
   "cell_type": "code",
   "execution_count": 28,
   "metadata": {},
   "outputs": [],
   "source": [
    "class RandomNet(nn.Module):\n",
    "    def __init__(self):\n",
    "        super().__init__()\n",
    "        self.fc = nn.Linear(3*32*32, 10)\n",
    "        \n",
    "    def forward(self, x):\n",
    "        x = x.view(-1, 3*32*32)\n",
    "        h = self.fc(x)\n",
    "        return h"
   ]
  },
  {
   "cell_type": "code",
   "execution_count": 29,
   "metadata": {},
   "outputs": [],
   "source": [
    "model = RandomNet()\n",
    "loss_fn = nn.CrossEntropyLoss()\n",
    "optimizer = optim.SGD(model.parameters(), lr=hparams.learning_rate, momentum=0.9)"
   ]
  },
  {
   "cell_type": "markdown",
   "metadata": {},
   "source": [
    "Lets play around with this to see explore the object types."
   ]
  },
  {
   "cell_type": "code",
   "execution_count": 30,
   "metadata": {},
   "outputs": [],
   "source": [
    "images, targets = iter(devloader).next()\n",
    "outputs = model.forward(images)"
   ]
  },
  {
   "cell_type": "code",
   "execution_count": 31,
   "metadata": {},
   "outputs": [
    {
     "data": {
      "text/plain": [
       "torch.Tensor"
      ]
     },
     "execution_count": 31,
     "metadata": {},
     "output_type": "execute_result"
    }
   ],
   "source": [
    "type(outputs)"
   ]
  },
  {
   "cell_type": "code",
   "execution_count": 32,
   "metadata": {},
   "outputs": [
    {
     "data": {
      "text/plain": [
       "torch.Size([4, 10])"
      ]
     },
     "execution_count": 32,
     "metadata": {},
     "output_type": "execute_result"
    }
   ],
   "source": [
    "outputs.size()"
   ]
  },
  {
   "cell_type": "markdown",
   "metadata": {},
   "source": [
    "Each row in predicted is the output vector of size 10, i.e., each element (i,k) is the probability that the instance i belongs to class k."
   ]
  },
  {
   "cell_type": "code",
   "execution_count": 33,
   "metadata": {},
   "outputs": [],
   "source": [
    "loss = loss_fn(outputs, targets)"
   ]
  },
  {
   "cell_type": "code",
   "execution_count": 34,
   "metadata": {},
   "outputs": [
    {
     "data": {
      "text/plain": [
       "torch.Tensor"
      ]
     },
     "execution_count": 34,
     "metadata": {},
     "output_type": "execute_result"
    }
   ],
   "source": [
    "type(loss)"
   ]
  },
  {
   "cell_type": "code",
   "execution_count": 35,
   "metadata": {},
   "outputs": [
    {
     "data": {
      "text/plain": [
       "torch.Size([])"
      ]
     },
     "execution_count": 35,
     "metadata": {},
     "output_type": "execute_result"
    }
   ],
   "source": [
    "loss.size()"
   ]
  },
  {
   "cell_type": "markdown",
   "metadata": {},
   "source": [
    "An empty size just means that this is a single element tensor. So I can extract the value as `float` primitive just by calling `.item()` on it."
   ]
  },
  {
   "cell_type": "code",
   "execution_count": 36,
   "metadata": {},
   "outputs": [
    {
     "data": {
      "text/plain": [
       "2.622826099395752"
      ]
     },
     "execution_count": 36,
     "metadata": {},
     "output_type": "execute_result"
    }
   ],
   "source": [
    "loss.item()"
   ]
  },
  {
   "cell_type": "markdown",
   "metadata": {},
   "source": [
    "### How to find accuracy?\n",
    "Unlike other libraries, there is no ready-made function in pytorch to calculate accuracy. It can be easily calculated by hand. First I need to pick the max probability from each row in probs to get the predictions, and then simply compare them with the targets."
   ]
  },
  {
   "cell_type": "code",
   "execution_count": 37,
   "metadata": {},
   "outputs": [
    {
     "name": "stdout",
     "output_type": "stream",
     "text": [
      "torch.Size([4, 10])\n",
      "tensor([[ 4.7339e-01,  1.4312e-01, -5.0224e-02, -1.3486e-01,  4.1595e-01,\n",
      "         -1.3945e-01,  1.8546e-04, -3.9532e-01,  2.0345e-01,  1.8651e-01],\n",
      "        [-4.2511e-01, -2.4672e-01,  1.7751e-01, -1.1969e-01,  6.5483e-01,\n",
      "          4.1399e-01,  1.1112e-01, -2.3030e-02, -4.9652e-01,  3.1737e-01],\n",
      "        [ 4.3225e-02,  9.0391e-02,  1.4122e-01, -8.1461e-01,  6.2621e-01,\n",
      "         -2.0698e-02,  1.4319e-01, -6.5195e-01, -3.2007e-01, -4.5109e-01],\n",
      "        [-4.0823e-02, -2.6010e-01,  5.5709e-02, -1.9547e-01,  4.1601e-01,\n",
      "          2.4184e-01, -1.1305e-01, -3.3903e-01,  3.7481e-01, -1.4462e-02]],\n",
      "       grad_fn=<AddmmBackward>)\n"
     ]
    }
   ],
   "source": [
    "print(outputs.size())\n",
    "print(outputs)"
   ]
  },
  {
   "cell_type": "code",
   "execution_count": 38,
   "metadata": {},
   "outputs": [
    {
     "name": "stdout",
     "output_type": "stream",
     "text": [
      "tensor([0.4734, 0.6548, 0.6262, 0.4160], grad_fn=<MaxBackward0>)\n",
      "tensor([0, 4, 4, 4])\n"
     ]
    }
   ],
   "source": [
    "# dim=1 will take the max of each row, dim=0 would have taken the max of each col\n",
    "predicted_vals, predicted_ndxs = t.max(outputs, dim=1)\n",
    "print(predicted_vals)\n",
    "print(predicted_ndxs)"
   ]
  },
  {
   "cell_type": "markdown",
   "metadata": {},
   "source": [
    "As can be seen from above, the predictions are really the indexes, I don't care about the values."
   ]
  },
  {
   "cell_type": "code",
   "execution_count": 39,
   "metadata": {},
   "outputs": [
    {
     "data": {
      "text/plain": [
       "tensor([0, 4, 4, 4])"
      ]
     },
     "execution_count": 39,
     "metadata": {},
     "output_type": "execute_result"
    }
   ],
   "source": [
    "_, predicted = t.max(outputs, dim=1)\n",
    "predicted"
   ]
  },
  {
   "cell_type": "code",
   "execution_count": 40,
   "metadata": {},
   "outputs": [
    {
     "data": {
      "text/plain": [
       "tensor([5, 8, 3, 8])"
      ]
     },
     "execution_count": 40,
     "metadata": {},
     "output_type": "execute_result"
    }
   ],
   "source": [
    "targets"
   ]
  },
  {
   "cell_type": "code",
   "execution_count": 41,
   "metadata": {},
   "outputs": [
    {
     "data": {
      "text/plain": [
       "tensor([0, 0, 0, 0], dtype=torch.uint8)"
      ]
     },
     "execution_count": 41,
     "metadata": {},
     "output_type": "execute_result"
    }
   ],
   "source": [
    "predicted == targets"
   ]
  },
  {
   "cell_type": "markdown",
   "metadata": {},
   "source": [
    "Lets change the predicted tensor to have some matches to ensure that our accuracy calculations are correct."
   ]
  },
  {
   "cell_type": "code",
   "execution_count": 42,
   "metadata": {},
   "outputs": [
    {
     "data": {
      "text/plain": [
       "tensor([0, 3, 1, 2])"
      ]
     },
     "execution_count": 42,
     "metadata": {},
     "output_type": "execute_result"
    }
   ],
   "source": [
    "predicted = t.tensor([0, 3, 1, 2])\n",
    "predicted"
   ]
  },
  {
   "cell_type": "code",
   "execution_count": 43,
   "metadata": {},
   "outputs": [
    {
     "data": {
      "text/plain": [
       "tensor([0, 0, 0, 0], dtype=torch.uint8)"
      ]
     },
     "execution_count": 43,
     "metadata": {},
     "output_type": "execute_result"
    }
   ],
   "source": [
    "predicted == targets"
   ]
  },
  {
   "cell_type": "markdown",
   "metadata": {},
   "source": [
    "Adding all the matches will give me accuracy."
   ]
  },
  {
   "cell_type": "code",
   "execution_count": 44,
   "metadata": {},
   "outputs": [
    {
     "data": {
      "text/plain": [
       "tensor(0)"
      ]
     },
     "execution_count": 44,
     "metadata": {},
     "output_type": "execute_result"
    }
   ],
   "source": [
    "(predicted == targets).sum()"
   ]
  },
  {
   "cell_type": "code",
   "execution_count": 45,
   "metadata": {},
   "outputs": [
    {
     "data": {
      "text/plain": [
       "0.0"
      ]
     },
     "execution_count": 45,
     "metadata": {},
     "output_type": "execute_result"
    }
   ],
   "source": [
    "(predicted == targets).sum().item() / len(predicted)"
   ]
  },
  {
   "cell_type": "markdown",
   "metadata": {},
   "source": [
    "Now we have enough information to write a function to calculate accuracy."
   ]
  },
  {
   "cell_type": "code",
   "execution_count": 46,
   "metadata": {},
   "outputs": [],
   "source": [
    "def acc_fn(outputs, targets):\n",
    "    _, predicted = t.max(outputs, dim=1)\n",
    "    return (predicted == targets).sum().item() / len(predicted)"
   ]
  },
  {
   "cell_type": "code",
   "execution_count": 47,
   "metadata": {},
   "outputs": [
    {
     "data": {
      "text/plain": [
       "0.0"
      ]
     },
     "execution_count": 47,
     "metadata": {},
     "output_type": "execute_result"
    }
   ],
   "source": [
    "acc_fn(outputs, targets)"
   ]
  },
  {
   "cell_type": "markdown",
   "metadata": {},
   "source": [
    "# Training\n",
    "The basic training flow is -\n",
    "\n",
    "  * Train on the dev mini-batch\n",
    "  * Calculate the loss on the dev mini-batch\n",
    "  * Evaulate the accuracy on the dev mini-batch\n",
    "  * After the training is complete on the entire devset\n",
    "  * Calculate the output of val mini-batch and collect it\n",
    "  * Calculate the loss on the entire valset at once\n",
    "  * Evaluate the metrics on the entire valset at once"
   ]
  },
  {
   "cell_type": "code",
   "execution_count": 50,
   "metadata": {},
   "outputs": [],
   "source": [
    "db = '/data/metrics/classfications.db'\n",
    "\n",
    "batch_loss_metric = SqliteMetric(db, 'batch_losses', {'run_id', 'epoch', 'batch'})\n",
    "loss_metric = SqliteMetric(db, 'losses', {'run_id', 'epoch', 'dataset'})\n",
    "acc_metric = SqliteMetric(db, 'accuracies', {'run_id', 'epoch', 'dataset'})"
   ]
  },
  {
   "cell_type": "code",
   "execution_count": 51,
   "metadata": {},
   "outputs": [
    {
     "data": {
      "text/plain": [
       "'shrill-leaf-1790'"
      ]
     },
     "execution_count": 51,
     "metadata": {},
     "output_type": "execute_result"
    }
   ],
   "source": [
    "run_id = Haikunator().haikunate()\n",
    "run_id"
   ]
  },
  {
   "cell_type": "code",
   "execution_count": 56,
   "metadata": {},
   "outputs": [
    {
     "ename": "KeyboardInterrupt",
     "evalue": "",
     "output_type": "error",
     "traceback": [
      "\u001b[0;31m---------------------------------------------------------------------------\u001b[0m",
      "\u001b[0;31mKeyboardInterrupt\u001b[0m                         Traceback (most recent call last)",
      "\u001b[0;32m<ipython-input-56-897cc9ab46fe>\u001b[0m in \u001b[0;36m<module>\u001b[0;34m\u001b[0m\n\u001b[1;32m     26\u001b[0m             \u001b[0mloss\u001b[0m\u001b[0;34m.\u001b[0m\u001b[0mbackward\u001b[0m\u001b[0;34m(\u001b[0m\u001b[0;34m)\u001b[0m\u001b[0;34m\u001b[0m\u001b[0m\n\u001b[1;32m     27\u001b[0m             \u001b[0moptimizer\u001b[0m\u001b[0;34m.\u001b[0m\u001b[0mstep\u001b[0m\u001b[0;34m(\u001b[0m\u001b[0;34m)\u001b[0m\u001b[0;34m\u001b[0m\u001b[0m\n\u001b[0;32m---> 28\u001b[0;31m             \u001b[0mbatch_loss_metric\u001b[0m\u001b[0;34m.\u001b[0m\u001b[0mlog\u001b[0m\u001b[0;34m(\u001b[0m\u001b[0mrun_id\u001b[0m\u001b[0;34m=\u001b[0m\u001b[0mrun_id\u001b[0m\u001b[0;34m,\u001b[0m \u001b[0mepoch\u001b[0m\u001b[0;34m=\u001b[0m\u001b[0mstr\u001b[0m\u001b[0;34m(\u001b[0m\u001b[0mepoch\u001b[0m\u001b[0;34m)\u001b[0m\u001b[0;34m,\u001b[0m \u001b[0mbatch\u001b[0m\u001b[0;34m=\u001b[0m\u001b[0mstr\u001b[0m\u001b[0;34m(\u001b[0m\u001b[0mbatch\u001b[0m\u001b[0;34m)\u001b[0m\u001b[0;34m,\u001b[0m \u001b[0mvalue\u001b[0m\u001b[0;34m=\u001b[0m\u001b[0mloss\u001b[0m\u001b[0;34m.\u001b[0m\u001b[0mitem\u001b[0m\u001b[0;34m(\u001b[0m\u001b[0;34m)\u001b[0m\u001b[0;34m)\u001b[0m\u001b[0;34m\u001b[0m\u001b[0m\n\u001b[0m\u001b[1;32m     29\u001b[0m \u001b[0;34m\u001b[0m\u001b[0m\n\u001b[1;32m     30\u001b[0m     \u001b[0;31m# Calculate the loss and accuracy on the entire devset\u001b[0m\u001b[0;34m\u001b[0m\u001b[0;34m\u001b[0m\u001b[0m\n",
      "\u001b[0;32m~/projects/gitlab-personal/ml-metrics/mlmetrics/sqlitemetrics/sqlite_metric.py\u001b[0m in \u001b[0;36mlog\u001b[0;34m(self, **kwargs)\u001b[0m\n\u001b[1;32m    140\u001b[0m         \u001b[0mlogger\u001b[0m\u001b[0;34m.\u001b[0m\u001b[0mdebug\u001b[0m\u001b[0;34m(\u001b[0m\u001b[0mins_sql\u001b[0m\u001b[0;34m)\u001b[0m\u001b[0;34m\u001b[0m\u001b[0m\n\u001b[1;32m    141\u001b[0m         \u001b[0mlogger\u001b[0m\u001b[0;34m.\u001b[0m\u001b[0mdebug\u001b[0m\u001b[0;34m(\u001b[0m\u001b[0mvals\u001b[0m\u001b[0;34m)\u001b[0m\u001b[0;34m\u001b[0m\u001b[0m\n\u001b[0;32m--> 142\u001b[0;31m         \u001b[0mself\u001b[0m\u001b[0;34m.\u001b[0m\u001b[0m_q\u001b[0m\u001b[0;34m.\u001b[0m\u001b[0mput\u001b[0m\u001b[0;34m(\u001b[0m\u001b[0;34m(\u001b[0m\u001b[0mins_sql\u001b[0m\u001b[0;34m,\u001b[0m \u001b[0mvals\u001b[0m\u001b[0;34m)\u001b[0m\u001b[0;34m)\u001b[0m\u001b[0;34m\u001b[0m\u001b[0m\n\u001b[0m\u001b[1;32m    143\u001b[0m \u001b[0;34m\u001b[0m\u001b[0m\n\u001b[1;32m    144\u001b[0m     \u001b[0;32mdef\u001b[0m \u001b[0mlogs\u001b[0m\u001b[0;34m(\u001b[0m\u001b[0mself\u001b[0m\u001b[0;34m,\u001b[0m \u001b[0mstart\u001b[0m\u001b[0;34m=\u001b[0m\u001b[0;32mNone\u001b[0m\u001b[0;34m,\u001b[0m \u001b[0mend\u001b[0m\u001b[0;34m=\u001b[0m\u001b[0;32mNone\u001b[0m\u001b[0;34m,\u001b[0m \u001b[0;34m**\u001b[0m\u001b[0mfilters\u001b[0m\u001b[0;34m)\u001b[0m \u001b[0;34m->\u001b[0m \u001b[0mIterator\u001b[0m\u001b[0;34m[\u001b[0m\u001b[0mTuple\u001b[0m\u001b[0;34m]\u001b[0m\u001b[0;34m:\u001b[0m\u001b[0;34m\u001b[0m\u001b[0m\n",
      "\u001b[0;32m/Library/Frameworks/Python.framework/Versions/3.7/lib/python3.7/multiprocessing/queues.py\u001b[0m in \u001b[0;36mput\u001b[0;34m(self, obj, block, timeout)\u001b[0m\n\u001b[1;32m     80\u001b[0m     \u001b[0;32mdef\u001b[0m \u001b[0mput\u001b[0m\u001b[0;34m(\u001b[0m\u001b[0mself\u001b[0m\u001b[0;34m,\u001b[0m \u001b[0mobj\u001b[0m\u001b[0;34m,\u001b[0m \u001b[0mblock\u001b[0m\u001b[0;34m=\u001b[0m\u001b[0;32mTrue\u001b[0m\u001b[0;34m,\u001b[0m \u001b[0mtimeout\u001b[0m\u001b[0;34m=\u001b[0m\u001b[0;32mNone\u001b[0m\u001b[0;34m)\u001b[0m\u001b[0;34m:\u001b[0m\u001b[0;34m\u001b[0m\u001b[0m\n\u001b[1;32m     81\u001b[0m         \u001b[0;32massert\u001b[0m \u001b[0;32mnot\u001b[0m \u001b[0mself\u001b[0m\u001b[0;34m.\u001b[0m\u001b[0m_closed\u001b[0m\u001b[0;34m,\u001b[0m \u001b[0;34m\"Queue {0!r} has been closed\"\u001b[0m\u001b[0;34m.\u001b[0m\u001b[0mformat\u001b[0m\u001b[0;34m(\u001b[0m\u001b[0mself\u001b[0m\u001b[0;34m)\u001b[0m\u001b[0;34m\u001b[0m\u001b[0m\n\u001b[0;32m---> 82\u001b[0;31m         \u001b[0;32mif\u001b[0m \u001b[0;32mnot\u001b[0m \u001b[0mself\u001b[0m\u001b[0;34m.\u001b[0m\u001b[0m_sem\u001b[0m\u001b[0;34m.\u001b[0m\u001b[0macquire\u001b[0m\u001b[0;34m(\u001b[0m\u001b[0mblock\u001b[0m\u001b[0;34m,\u001b[0m \u001b[0mtimeout\u001b[0m\u001b[0;34m)\u001b[0m\u001b[0;34m:\u001b[0m\u001b[0;34m\u001b[0m\u001b[0m\n\u001b[0m\u001b[1;32m     83\u001b[0m             \u001b[0;32mraise\u001b[0m \u001b[0mFull\u001b[0m\u001b[0;34m\u001b[0m\u001b[0m\n\u001b[1;32m     84\u001b[0m \u001b[0;34m\u001b[0m\u001b[0m\n",
      "\u001b[0;31mKeyboardInterrupt\u001b[0m: "
     ]
    }
   ],
   "source": [
    "def process_set(loader):\n",
    "    # Data in the entire dataset might be too much to process all at once\n",
    "    # So we process it in batches\n",
    "    model.eval()\n",
    "    batch_outputs = []\n",
    "    batch_targets = []\n",
    "    for images, targets in loader:\n",
    "        batch_targets.append(targets)\n",
    "        with t.no_grad():\n",
    "            batch_outputs.append(model.forward(images))\n",
    "    set_outputs = t.cat(batch_outputs)\n",
    "    set_targets = t.cat(batch_targets)\n",
    "    setloss = loss_fn(set_outputs, set_targets).item()\n",
    "    setacc = acc_fn(set_outputs, set_targets)\n",
    "    return setloss, setacc\n",
    "\n",
    "\n",
    "for epoch in range(hparams.epochs):\n",
    "    # Train on the devset\n",
    "    model.train()\n",
    "    for batch, (images, targets) in enumerate(devloader):\n",
    "        with t.enable_grad():\n",
    "            optimizer.zero_grad()\n",
    "            outputs = model.forward(images)\n",
    "            loss = loss_fn(outputs, targets)\n",
    "            loss.backward()\n",
    "            optimizer.step()\n",
    "            batch_loss_metric.log(run_id=run_id, epoch=str(epoch), batch=str(batch), value=loss.item())\n",
    "    \n",
    "    # Calculate the loss and accuracy on the entire devset\n",
    "    devset_loss, devset_acc = process_set(devloader)\n",
    "    loss_metric.log(run_id=run_id, epoch=str(epoch), dataset='dev', value=devset_loss)\n",
    "    acc_metric.log(run_id=run_id, epoch=str(epoch), dataset='dev', value=devset_acc)\n",
    "    \n",
    "    # Calculate the loss and accuracy on the entire valset\n",
    "    valset_loss, valset_acc = process_set(valloader)\n",
    "    loss_metric.log(run_id=run_id, epoch=str(epoch), dataset='val', value=valset_loss)\n",
    "    acc_metric.log(run_id=run_id, epoch=str(epoch), dataset='val', value=valset_acc)\n",
    "\n",
    "batch_loss_metric.close()\n",
    "loss_metric.close()\n",
    "acc_metric.close()\n",
    "print('Finished training')"
   ]
  },
  {
   "cell_type": "markdown",
   "metadata": {},
   "source": [
    "### Visualizing Training\n",
    "We need to see the following live graphs:\n",
    "\n",
    "  * A chart with a line plot for batch loss\n",
    "  * A chart with two line plots - one for dev loss and another for val loss\n",
    "  * A chart with two line plots - one for dev acc and another for val acc"
   ]
  },
  {
   "cell_type": "code",
   "execution_count": 53,
   "metadata": {},
   "outputs": [],
   "source": [
    "logging.getLogger().setLevel(logging.WARN)"
   ]
  },
  {
   "cell_type": "code",
   "execution_count": 54,
   "metadata": {},
   "outputs": [
    {
     "data": {
      "image/png": "[encoded data removed]",
      "text/plain": [
       "<Figure size 1080x360 with 3 Axes>"
      ]
     },
     "metadata": {
      "needs_background": "light"
     },
     "output_type": "display_data"
    }
   ],
   "source": [
    "frame = pltr.Frame(height_px=500, width_px=1500)\n",
    "frame.layout(nrows=1, ncols=3)\n",
    "\n",
    "batch_loss_chart = frame.create_chart()\n",
    "batch_loss_chart.title = 'Batch Loss'\n",
    "\n",
    "batch_loss_logs = batch_loss_metric.logs(run_id=run_id)\n",
    "losses = []\n",
    "for log in batch_loss_logs:\n",
    "    losses.append(log['value'])\n",
    "xvals = [''] * len(losses)\n",
    "batch_loss_plot = pltr.Line(categories=xvals[::100], values=losses[::100], marker=pltr.Marker.PIXEL, color=pltr.Color.random())\n",
    "batch_loss_chart.add(batch_loss_plot)\n",
    "\n",
    "dev_color = pltr.Color.random()\n",
    "val_color = pltr.Color.random()\n",
    "\n",
    "loss_chart = frame.create_chart()\n",
    "loss_chart.legend_location = pltr.LegendLocation.UPPER_RIGHT\n",
    "loss_chart.title = 'Loss Learning Curve'\n",
    "loss_chart.x_axis.label = 'Epoch'\n",
    "loss_chart.y_axis.label = 'Loss'\n",
    "\n",
    "dev_loss_logs = loss_metric.logs(run_id=run_id, dataset='dev')\n",
    "losses = []\n",
    "epochs = []\n",
    "for log in dev_loss_logs:\n",
    "    losses.append(log['value'])\n",
    "    epochs.append(log['epoch'])\n",
    "dev_loss_plot = pltr.Line(categories=epochs, values=losses, legend='dev', color=dev_color)\n",
    "loss_chart.add(dev_loss_plot)\n",
    "\n",
    "val_loss_logs = loss_metric.logs(run_id=run_id, dataset='val')\n",
    "losses = []\n",
    "epochs = []\n",
    "for log in val_loss_logs:\n",
    "    losses.append(log['value'])\n",
    "    epochs.append(log['epoch'])\n",
    "val_loss_plot = pltr.Line(categories=epochs, values=losses, legend='val', color=val_color)\n",
    "loss_chart.add(val_loss_plot)\n",
    "\n",
    "\n",
    "acc_chart = frame.create_chart()\n",
    "acc_chart.legend_location = pltr.LegendLocation.UPPER_RIGHT\n",
    "acc_chart.title = 'Accuracy Learning Curve'\n",
    "acc_chart.x_axis.label = 'Epoch'\n",
    "acc_chart.y_axis.label = 'Accuracy'\n",
    "\n",
    "dev_acc_logs = acc_metric.logs(run_id=run_id, dataset='dev')\n",
    "acc = []\n",
    "epochs = []\n",
    "for log in dev_acc_logs:\n",
    "    acc.append(log['value'])\n",
    "    epochs.append(log['epoch'])\n",
    "dev_acc_plot = pltr.Line(categories=epochs, values=acc, legend='dev', color=dev_color)\n",
    "acc_chart.add(dev_acc_plot)\n",
    "\n",
    "val_acc_logs = acc_metric.logs(run_id=run_id, dataset='val')\n",
    "acc = []\n",
    "epochs = []\n",
    "for log in val_acc_logs:\n",
    "    acc.append(log['value'])\n",
    "    epochs.append(log['epoch'])\n",
    "val_acc_plot = pltr.Line(categories=epochs, values=acc, legend='val', color=val_color)\n",
    "acc_chart.add(val_acc_plot)\n",
    "\n",
    "frame.show()"
   ]
  },
  {
   "cell_type": "code",
   "execution_count": null,
   "metadata": {},
   "outputs": [],
   "source": []
  },
  {
   "cell_type": "markdown",
   "metadata": {},
   "source": [
    "# Architecture\n",
    "Now that the scaffolding is ready, its time to define the architecture.\n",
    "\n",
    "![pytorch_cifar_arch.png](./pytorch_cifar_arch.png)"
   ]
  },
  {
   "cell_type": "code",
   "execution_count": 48,
   "metadata": {},
   "outputs": [],
   "source": [
    "class SimpleCNN(nn.Module):\n",
    "    def __init__(self):\n",
    "        super().__init__()\n",
    "        self.conv1 = nn.Conv2d(in_channels=3, out_channels=6, kernel_size=5)\n",
    "        self.pool = nn.MaxPool2d(kernel_size=2, stride=2)\n",
    "        self.conv2 = nn.Conv2d(in_channels=6, out_channels=16, kernel_size=5)\n",
    "        self.fc1 = nn.Linear(16*5*5, 120)\n",
    "        self.fc2 = nn.Linear(120, 84)\n",
    "        self.fc3 = nn.Linear(84, 10)\n",
    "        \n",
    "    def forward(self, x):\n",
    "        a1 = self.pool(F.relu(self.conv1(x)))\n",
    "        a2 = self.pool(F.relu(self.conv2(a1)))\n",
    "        a2 = x.view(-1, 16*5*5)\n",
    "        a3 = F.relu(self.fc1(a2))\n",
    "        a4 = F.relu(self.fc2(a3))\n",
    "        h = self.fc3(a4)\n",
    "        return h"
   ]
  },
  {
   "cell_type": "code",
   "execution_count": 55,
   "metadata": {},
   "outputs": [],
   "source": [
    "hparams = HyperParams(batch_size=16, learning_rate=0.001, epochs=5)\n",
    "\n",
    "model = RandomNet()\n",
    "loss_fn = nn.CrossEntropyLoss()\n",
    "optimizer = optim.SGD(model.parameters(), lr=hparams.learning_rate, momentum=0.9)"
   ]
  },
  {
   "cell_type": "markdown",
   "metadata": {},
   "source": [
    "At this point I'll implement the training module outside of Jupyter."
   ]
  },
  {
   "cell_type": "code",
   "execution_count": null,
   "metadata": {},
   "outputs": [],
   "source": [
    "batch_loss_metric.close()\n",
    "loss_metric.close()\n",
    "acc_metric.close()"
   ]
  },
  {
   "cell_type": "code",
   "execution_count": null,
   "metadata": {},
   "outputs": [],
   "source": []
  }
 ],
 "metadata": {
  "kernelspec": {
   "display_name": "Python 3",
   "language": "python",
   "name": "python3"
  },
  "language_info": {
   "codemirror_mode": {
    "name": "ipython",
    "version": 3
   },
   "file_extension": ".py",
   "mimetype": "text/x-python",
   "name": "python",
   "nbconvert_exporter": "python",
   "pygments_lexer": "ipython3",
   "version": "3.7.3"
  }
 },
 "nbformat": 4,
 "nbformat_minor": 2
}
