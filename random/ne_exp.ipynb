{
 "cells": [
  {
   "cell_type": "code",
   "execution_count": 1,
   "metadata": {},
   "outputs": [],
   "source": [
    "import numpy as np\n",
    "import plotly\n",
    "import plotly.express as px\n",
    "import plotly.graph_objects as go\n",
    "from plotly.subplots import make_subplots\n",
    "import plotly.express as px\n",
    "import plotly.figure_factory as ff\n",
    "import pandas as pd"
   ]
  },
  {
   "cell_type": "code",
   "execution_count": 2,
   "metadata": {},
   "outputs": [],
   "source": [
    "np.set_printoptions(precision=3, floatmode=\"maxprec\")"
   ]
  },
  {
   "cell_type": "code",
   "execution_count": 3,
   "metadata": {},
   "outputs": [],
   "source": [
    "def calc_ne(y, y_hat):\n",
    "    ctr = np.average(y)\n",
    "    norm = -(ctr * np.log2(ctr) + (1-ctr) * np.log2(1-ctr))\n",
    "    xent = -np.average(y * np.log2(y_hat) + (1-y) * np.log2(1-y_hat))\n",
    "    ne = xent / norm\n",
    "    return ctr, xent, norm, ne"
   ]
  },
  {
   "cell_type": "code",
   "execution_count": null,
   "metadata": {},
   "outputs": [],
   "source": []
  },
  {
   "cell_type": "code",
   "execution_count": 4,
   "metadata": {},
   "outputs": [],
   "source": [
    "def geny(ctr, n):\n",
    "    p = int(ctr * n)\n",
    "    y = np.zeros(n)\n",
    "    y[:p] = 1\n",
    "    return y"
   ]
  },
  {
   "cell_type": "code",
   "execution_count": null,
   "metadata": {},
   "outputs": [],
   "source": [
    "n = 10_000\n",
    "y_hat = np.full(n, fill_value=0.0001)\n",
    "ctrs = []\n",
    "xents = []\n",
    "nes = []\n",
    "for ctr in [0.09, 0.07, 0.05, 0.03, 0.01]:\n",
    "    y = geny(ctr, n)\n",
    "    ctr, xent, norm, ne = calc_ne(y, y_hat)\n",
    "    ctrs.append(ctr)\n",
    "    xents.append(xent)\n",
    "    nes.append(ne)\n",
    "    print(f\"CTR: {ctr:.3f}\\tXent: {xent:.3f}\\tNorm: {norm:.3f}\\tNE: {ne:.3f}\")\n",
    "ctrs = np.array(ctrs)\n",
    "xents = np.array(xents)\n",
    "nes = np.array(nes)"
   ]
  },
  {
   "cell_type": "code",
   "execution_count": 5,
   "metadata": {},
   "outputs": [],
   "source": [
    "from numpy.random import default_rng"
   ]
  },
  {
   "cell_type": "code",
   "execution_count": 6,
   "metadata": {},
   "outputs": [],
   "source": [
    "rng = default_rng()"
   ]
  },
  {
   "cell_type": "code",
   "execution_count": null,
   "metadata": {},
   "outputs": [],
   "source": [
    "(0.9 - 0.5) * rng.random(5) + 0.5"
   ]
  },
  {
   "cell_type": "code",
   "execution_count": 7,
   "metadata": {},
   "outputs": [
    {
     "data": {
      "text/plain": [
       "array([1., 1., 0., 0., 0., 0., 0., 0., 0., 0.])"
      ]
     },
     "execution_count": 7,
     "metadata": {},
     "output_type": "execute_result"
    }
   ],
   "source": [
    "y = geny(0.2, 10)\n",
    "y"
   ]
  },
  {
   "cell_type": "markdown",
   "metadata": {},
   "source": [
    "Medium Discriminative Power"
   ]
  },
  {
   "cell_type": "code",
   "execution_count": 35,
   "metadata": {},
   "outputs": [
    {
     "data": {
      "text/plain": [
       "array([0.747, 0.58 , 0.367, 0.19 , 0.391, 0.185, 0.354, 0.149, 0.544,\n",
       "       0.297])"
      ]
     },
     "execution_count": 35,
     "metadata": {},
     "output_type": "execute_result"
    }
   ],
   "source": [
    "y_hat = np.zeros(10)\n",
    "y_hat[:2] = (0.9 - 0.3) * rng.random(2) + 0.3\n",
    "y_hat[2:] = (0.6 - 0.1) * rng.random(8) + 0.1\n",
    "y_hat\n",
    "\n",
    "# array([0.747, 0.58 , 0.367, 0.19 , 0.391, 0.185, 0.354, 0.149, 0.544, 0.297])"
   ]
  },
  {
   "cell_type": "code",
   "execution_count": 38,
   "metadata": {},
   "outputs": [
    {
     "name": "stdout",
     "output_type": "stream",
     "text": [
      "CTR: 0.200\tXent: 0.569\tNorm: 0.722\tNE: 0.788\n"
     ]
    }
   ],
   "source": [
    "ctr, xent, norm, ne = calc_ne(y, y_hat)\n",
    "print(f\"CTR: {ctr:.3f}\\tXent: {xent:.3f}\\tNorm: {norm:.3f}\\tNE: {ne:.3f}\")"
   ]
  },
  {
   "cell_type": "markdown",
   "metadata": {},
   "source": [
    "Good Discriminative Power"
   ]
  },
  {
   "cell_type": "code",
   "execution_count": 16,
   "metadata": {},
   "outputs": [
    {
     "data": {
      "text/plain": [
       "array([0.708, 0.818, 0.246, 0.163, 0.341, 0.245, 0.226, 0.131, 0.164,\n",
       "       0.108])"
      ]
     },
     "execution_count": 16,
     "metadata": {},
     "output_type": "execute_result"
    }
   ],
   "source": [
    "y_hat = np.zeros(10)\n",
    "y_hat[:2] = (0.9 - 0.7) * rng.random(2) + 0.7\n",
    "y_hat[2:] = (0.4 - 0.1) * rng.random(8) + 0.1\n",
    "y_hat\n",
    "# array([0.708, 0.818, 0.246, 0.163, 0.341, 0.245, 0.226, 0.131, 0.164, 0.108])"
   ]
  },
  {
   "cell_type": "code",
   "execution_count": 17,
   "metadata": {},
   "outputs": [
    {
     "name": "stdout",
     "output_type": "stream",
     "text": [
      "CTR: 0.200\tXent: 0.345\tNorm: 0.722\tNE: 0.478\n"
     ]
    }
   ],
   "source": [
    "ctr, xent, norm, ne = calc_ne(y, y_hat)\n",
    "print(f\"CTR: {ctr:.3f}\\tXent: {xent:.3f}\\tNorm: {norm:.3f}\\tNE: {ne:.3f}\")"
   ]
  },
  {
   "cell_type": "markdown",
   "metadata": {},
   "source": [
    "Bad Discriminative Power"
   ]
  },
  {
   "cell_type": "code",
   "execution_count": 18,
   "metadata": {},
   "outputs": [
    {
     "data": {
      "text/plain": [
       "array([0.32 , 0.17 , 0.597, 0.751, 0.404, 0.526, 0.672, 0.455, 0.353,\n",
       "       0.219])"
      ]
     },
     "execution_count": 18,
     "metadata": {},
     "output_type": "execute_result"
    }
   ],
   "source": [
    "y_hat = np.zeros(10)\n",
    "y_hat[:2] = (0.4 - 0.1) * rng.random(2) + 0.1\n",
    "y_hat[2:] = (0.9 - 0.2) * rng.random(8) + 0.2\n",
    "y_hat"
   ]
  },
  {
   "cell_type": "code",
   "execution_count": 19,
   "metadata": {},
   "outputs": [
    {
     "name": "stdout",
     "output_type": "stream",
     "text": [
      "CTR: 0.200\tXent: 1.282\tNorm: 0.722\tNE: 1.776\n"
     ]
    }
   ],
   "source": [
    "ctr, xent, norm, ne = calc_ne(y, y_hat)\n",
    "print(f\"CTR: {ctr:.3f}\\tXent: {xent:.3f}\\tNorm: {norm:.3f}\\tNE: {ne:.3f}\")"
   ]
  },
  {
   "cell_type": "code",
   "execution_count": null,
   "metadata": {},
   "outputs": [],
   "source": []
  },
  {
   "cell_type": "code",
   "execution_count": null,
   "metadata": {},
   "outputs": [],
   "source": []
  },
  {
   "cell_type": "code",
   "execution_count": null,
   "metadata": {},
   "outputs": [],
   "source": []
  },
  {
   "cell_type": "code",
   "execution_count": null,
   "metadata": {},
   "outputs": [],
   "source": []
  },
  {
   "cell_type": "code",
   "execution_count": null,
   "metadata": {},
   "outputs": [],
   "source": []
  },
  {
   "cell_type": "code",
   "execution_count": null,
   "metadata": {},
   "outputs": [],
   "source": []
  },
  {
   "cell_type": "code",
   "execution_count": null,
   "metadata": {},
   "outputs": [],
   "source": []
  },
  {
   "cell_type": "code",
   "execution_count": null,
   "metadata": {},
   "outputs": [],
   "source": []
  },
  {
   "cell_type": "code",
   "execution_count": null,
   "metadata": {},
   "outputs": [],
   "source": [
    "y_hat = np.full(10, fill_value=0.4)\n",
    "ctr, xent, norm, ne = calc_ne(y, y_hat)\n",
    "print(f\"CTR: {ctr:.3f}\\tXent: {xent:.3f}\\tNorm: {norm:.3f}\\tNE: {ne:.3f}\")"
   ]
  },
  {
   "cell_type": "code",
   "execution_count": null,
   "metadata": {},
   "outputs": [],
   "source": [
    "\n",
    "y_hat"
   ]
  },
  {
   "cell_type": "code",
   "execution_count": null,
   "metadata": {},
   "outputs": [],
   "source": [
    "for _ in range(10):\n",
    "    y_hat = rng.random(10)\n",
    "    ctr, xent, norm, ne = calc_ne(y, y_hat)\n",
    "    print(f\"CTR: {ctr:.3f}\\tXent: {xent:.3f}\\tNorm: {norm:.3f}\\tNE: {ne:.3f}\")"
   ]
  },
  {
   "cell_type": "code",
   "execution_count": null,
   "metadata": {},
   "outputs": [],
   "source": [
    "y"
   ]
  },
  {
   "cell_type": "code",
   "execution_count": null,
   "metadata": {},
   "outputs": [],
   "source": [
    "y_hat[:2] = (0.49 - 0.01) * rng.random(2) + 0.01\n",
    "y_hat[2:] = (0.9 - 0.5) * rng.random(8) + 0.5\n",
    "y_hat"
   ]
  },
  {
   "cell_type": "code",
   "execution_count": null,
   "metadata": {},
   "outputs": [],
   "source": [
    "ctr, xent, norm, ne = calc_ne(y, y_hat)\n",
    "print(f\"CTR: {ctr:.3f}\\tXent: {xent:.3f}\\tNorm: {norm:.3f}\\tNE: {ne:.3f}\")"
   ]
  },
  {
   "cell_type": "code",
   "execution_count": null,
   "metadata": {},
   "outputs": [],
   "source": []
  },
  {
   "cell_type": "code",
   "execution_count": null,
   "metadata": {},
   "outputs": [],
   "source": [
    "y = geny(0.2, 100_000)"
   ]
  },
  {
   "cell_type": "code",
   "execution_count": null,
   "metadata": {},
   "outputs": [],
   "source": []
  },
  {
   "cell_type": "code",
   "execution_count": null,
   "metadata": {},
   "outputs": [],
   "source": [
    "y_hat = np.full(100_000, fill_value=0.2)\n",
    "ctr, xent, norm, ne = calc_ne(y, y_hat)\n",
    "print(f\"CTR: {ctr:.3f}\\tXent: {xent:.3f}\\tNorm: {norm:.3f}\\tNE: {ne:.3f}\")"
   ]
  },
  {
   "cell_type": "code",
   "execution_count": null,
   "metadata": {},
   "outputs": [],
   "source": [
    "y_hat[:20_000] = (0.9 - 0.5) * rng.random(20_000) + 0.5\n",
    "y_hat[20_000:] = (0.45 - 0.1) * rng.random(80_000) + 0.1\n",
    "ctr, xent, norm, ne = calc_ne(y, y_hat)\n",
    "print(f\"CTR: {ctr:.3f}\\tXent: {xent:.3f}\\tNorm: {norm:.3f}\\tNE: {ne:.3f}\")"
   ]
  },
  {
   "cell_type": "code",
   "execution_count": null,
   "metadata": {},
   "outputs": [],
   "source": [
    "y_hat[:20_000] = (0.9 - 0.75) * rng.random(20_000) + 0.75\n",
    "y_hat[20_000:] = (0.35 - 0.01) * rng.random(80_000) + 0.01\n",
    "ctr, xent, norm, ne = calc_ne(y, y_hat)\n",
    "print(f\"CTR: {ctr:.3f}\\tXent: {xent:.3f}\\tNorm: {norm:.3f}\\tNE: {ne:.3f}\")"
   ]
  },
  {
   "cell_type": "code",
   "execution_count": null,
   "metadata": {},
   "outputs": [],
   "source": [
    "y_hat[:20_000] = (0.9 - 0.3) * rng.random(20_000) + 0.3\n",
    "y_hat[20_000:] = (0.4 - 0.1) * rng.random(80_000) + 0.1\n",
    "ctr, xent, norm, ne = calc_ne(y, y_hat)\n",
    "print(f\"CTR: {ctr:.3f}\\tXent: {xent:.3f}\\tNorm: {norm:.3f}\\tNE: {ne:.3f}\")"
   ]
  },
  {
   "cell_type": "code",
   "execution_count": null,
   "metadata": {},
   "outputs": [],
   "source": []
  },
  {
   "cell_type": "code",
   "execution_count": null,
   "metadata": {},
   "outputs": [],
   "source": [
    "xent_slopes = np.abs((xents[1:] - xents[:-1])/xents[:-1])\n",
    "ne_slopes = np.abs((nes[1:] - nes[:-1])/nes[:-1])"
   ]
  },
  {
   "cell_type": "code",
   "execution_count": null,
   "metadata": {},
   "outputs": [],
   "source": [
    "fig = make_subplots(rows=2, cols=1)\n",
    "fig.add_scatter(x=ctrs, y=xents, row=1, col=1, name=\"Cross Entropy\", line_color=\"red\")\n",
    "fig.add_scatter(x=ctrs, y=nes, row=1, col=1, name=\"Normalized Entropy\", line_color=\"blue\")\n",
    "\n",
    "fig.add_scatter(x=ctrs, y=xent_slopes, row=2, col=1, name=\"Cross Entropy Slope\", line_color=\"red\")\n",
    "fig.add_scatter(x=ctrs, y=ne_slopes, row=2, col=1, name=\"Normalized Entropy Slope\", line_color=\"blue\")"
   ]
  },
  {
   "cell_type": "code",
   "execution_count": null,
   "metadata": {},
   "outputs": [],
   "source": [
    "n = 10_000\n",
    "y_hat = np.full(n, fill_value=0.9999)\n",
    "ctrs = []\n",
    "xents = []\n",
    "nes = []\n",
    "for ctr in [0.9, 0.93, 0.95, 0.98, 0.99]:\n",
    "    y = geny(ctr, n)\n",
    "    ctr, xent, norm, ne = calc_ne(y, y_hat)\n",
    "    ctrs.append(ctr)\n",
    "    xents.append(xent)\n",
    "    nes.append(ne)\n",
    "    print(f\"CTR: {ctr:.3f}\\tXent: {xent:.3f}\\tNorm: {norm:.3f}\\tNE: {ne:.3f}\")"
   ]
  },
  {
   "cell_type": "code",
   "execution_count": null,
   "metadata": {},
   "outputs": [],
   "source": [
    "fig = go.Figure(layout_title_text=\"NE\", layout_width=500, layout_height=500)\n",
    "fig.add_scatter(x=ctrs, y=nes, name=\"NE\")\n",
    "fig.add_scatter(x=ctrs, y=xents, name=\"XEnt\")"
   ]
  },
  {
   "cell_type": "code",
   "execution_count": null,
   "metadata": {},
   "outputs": [],
   "source": [
    "xents = np.array(xents)"
   ]
  },
  {
   "cell_type": "code",
   "execution_count": null,
   "metadata": {},
   "outputs": [],
   "source": [
    "xent_slopes = (xents[1:] - xents[:-1])/xents[:-1]\n",
    "xent_slopes = np.abs(xent_slopes)"
   ]
  },
  {
   "cell_type": "code",
   "execution_count": null,
   "metadata": {},
   "outputs": [],
   "source": [
    "nes = np.array(nes)"
   ]
  },
  {
   "cell_type": "code",
   "execution_count": null,
   "metadata": {},
   "outputs": [],
   "source": [
    "ne_slopes = (nes[1:] - nes[:-1])/nes[:-1]\n",
    "ne_slopes = np.abs(ne_slopes)"
   ]
  },
  {
   "cell_type": "code",
   "execution_count": null,
   "metadata": {},
   "outputs": [],
   "source": [
    "fig = go.Figure(layout_title_text=\"Slopes\", layout_width=500, layout_height=500)\n",
    "fig.add_scatter(x=ctrs, y=ne_slopes, name=\"NE Slope\")\n",
    "fig.add_scatter(x=ctrs, y=xent_slopes, name=\"XEnt Slope\")"
   ]
  },
  {
   "cell_type": "code",
   "execution_count": null,
   "metadata": {},
   "outputs": [],
   "source": [
    "y = geny(0.1, 10_000)"
   ]
  },
  {
   "cell_type": "code",
   "execution_count": null,
   "metadata": {},
   "outputs": [],
   "source": [
    "np.sum(y)"
   ]
  },
  {
   "cell_type": "code",
   "execution_count": null,
   "metadata": {},
   "outputs": [],
   "source": [
    "y_hat = np.empty(10_000)"
   ]
  },
  {
   "cell_type": "code",
   "execution_count": null,
   "metadata": {},
   "outputs": [],
   "source": [
    "y_hat[:1000] = np.random.rand(1000) * (0.95 - 0.8) + 0.8"
   ]
  },
  {
   "cell_type": "code",
   "execution_count": null,
   "metadata": {},
   "outputs": [],
   "source": [
    "y_hat[1000:] = np.random.rand(9000) * (0.25 - 0.01) + 0.01"
   ]
  },
  {
   "cell_type": "code",
   "execution_count": null,
   "metadata": {},
   "outputs": [],
   "source": [
    "ff.create_distplot([y_hat[:1000], y_hat[1000:]], [\"Positive\", \"Negative\"])"
   ]
  },
  {
   "cell_type": "code",
   "execution_count": null,
   "metadata": {},
   "outputs": [],
   "source": [
    "dataset = np.concatenate((y, y_hat), axis=1)\n",
    "dataset.shape"
   ]
  },
  {
   "cell_type": "code",
   "execution_count": null,
   "metadata": {},
   "outputs": [],
   "source": [
    "dataset = np.zeros((100, 2))\n",
    "dataset[:10, 0] = 1\n",
    "dataset[:10, 1] = np.random.rand(10) * (0.9 - 0.7) + 0.7\n",
    "dataset[10:, 1] = np.random.rand(90) * (0.3 - 0.1) + 0.1"
   ]
  },
  {
   "cell_type": "code",
   "execution_count": null,
   "metadata": {},
   "outputs": [],
   "source": [
    "df = pd.DataFrame(dataset, columns=[\"target\", \"label\"])"
   ]
  },
  {
   "cell_type": "code",
   "execution_count": null,
   "metadata": {},
   "outputs": [],
   "source": [
    "px.histogram(df, x=\"label\", color=\"target\", hover_data=df.columns)"
   ]
  },
  {
   "cell_type": "code",
   "execution_count": null,
   "metadata": {},
   "outputs": [],
   "source": [
    "df[\"label\"] = np.full(100, fill_value=0.9)"
   ]
  },
  {
   "cell_type": "code",
   "execution_count": null,
   "metadata": {},
   "outputs": [],
   "source": [
    "import torch as t"
   ]
  },
  {
   "cell_type": "code",
   "execution_count": null,
   "metadata": {},
   "outputs": [],
   "source": [
    "loss_fn = t.nn.BCELoss(reduction='mean')"
   ]
  },
  {
   "cell_type": "code",
   "execution_count": null,
   "metadata": {},
   "outputs": [],
   "source": [
    "y_hat = t.tensor(y_hat)\n",
    "y = t.tensor(y)"
   ]
  },
  {
   "cell_type": "code",
   "execution_count": null,
   "metadata": {},
   "outputs": [],
   "source": [
    "loss_fn(y_hat, y)"
   ]
  },
  {
   "cell_type": "code",
   "execution_count": null,
   "metadata": {},
   "outputs": [],
   "source": [
    "y_hat = np.empty(10_000)"
   ]
  },
  {
   "cell_type": "code",
   "execution_count": null,
   "metadata": {},
   "outputs": [],
   "source": [
    "y_hat[:1000] = np.random.rand(1000) * (0.7 - 0.45) + 0.45"
   ]
  },
  {
   "cell_type": "code",
   "execution_count": null,
   "metadata": {},
   "outputs": [],
   "source": [
    "y_hat[1000:] = np.random.rand(9000) * (0.45 - 0.2) + 0.2"
   ]
  },
  {
   "cell_type": "code",
   "execution_count": null,
   "metadata": {},
   "outputs": [],
   "source": [
    "y_hat = t.tensor(y_hat)"
   ]
  },
  {
   "cell_type": "code",
   "execution_count": null,
   "metadata": {},
   "outputs": [],
   "source": [
    "loss_fn(y_hat, y)"
   ]
  },
  {
   "cell_type": "code",
   "execution_count": null,
   "metadata": {},
   "outputs": [],
   "source": [
    "fig = px.histogram(x=y_hat.numpy())\n",
    "fig"
   ]
  },
  {
   "cell_type": "code",
   "execution_count": null,
   "metadata": {},
   "outputs": [],
   "source": []
  },
  {
   "cell_type": "code",
   "execution_count": null,
   "metadata": {},
   "outputs": [],
   "source": []
  },
  {
   "cell_type": "code",
   "execution_count": null,
   "metadata": {},
   "outputs": [],
   "source": []
  },
  {
   "cell_type": "code",
   "execution_count": null,
   "metadata": {},
   "outputs": [],
   "source": []
  }
 ],
 "metadata": {
  "kernelspec": {
   "display_name": "Python 3",
   "language": "python",
   "name": "python3"
  },
  "language_info": {
   "codemirror_mode": {
    "name": "ipython",
    "version": 3
   },
   "file_extension": ".py",
   "mimetype": "text/x-python",
   "name": "python",
   "nbconvert_exporter": "python",
   "pygments_lexer": "ipython3",
   "version": "3.7.7"
  }
 },
 "nbformat": 4,
 "nbformat_minor": 4
}
