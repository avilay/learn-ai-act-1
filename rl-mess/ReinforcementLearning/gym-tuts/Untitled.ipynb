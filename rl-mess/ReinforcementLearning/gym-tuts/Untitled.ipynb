{
 "cells": [
  {
   "cell_type": "code",
   "execution_count": 2,
   "metadata": {},
   "outputs": [],
   "source": [
    "import gym"
   ]
  },
  {
   "cell_type": "code",
   "execution_count": 3,
   "metadata": {},
   "outputs": [],
   "source": [
    "env = gym.make(\"LunarLander-v2\")"
   ]
  },
  {
   "cell_type": "code",
   "execution_count": 4,
   "metadata": {},
   "outputs": [],
   "source": [
    "s = env.observation_space.sample()"
   ]
  },
  {
   "cell_type": "code",
   "execution_count": 5,
   "metadata": {},
   "outputs": [
    {
     "data": {
      "text/plain": [
       "numpy.ndarray"
      ]
     },
     "execution_count": 5,
     "metadata": {},
     "output_type": "execute_result"
    }
   ],
   "source": [
    "type(s)"
   ]
  },
  {
   "cell_type": "code",
   "execution_count": 7,
   "metadata": {},
   "outputs": [
    {
     "data": {
      "text/plain": [
       "(8,)"
      ]
     },
     "execution_count": 7,
     "metadata": {},
     "output_type": "execute_result"
    }
   ],
   "source": [
    "s.shape"
   ]
  },
  {
   "cell_type": "code",
   "execution_count": 8,
   "metadata": {},
   "outputs": [
    {
     "data": {
      "text/plain": [
       "array([ 1.0970805 ,  0.95585334, -0.25651908, -0.14090632,  1.2149624 ,\n",
       "        2.0130796 ,  2.278673  , -0.8793368 ], dtype=float32)"
      ]
     },
     "execution_count": 8,
     "metadata": {},
     "output_type": "execute_result"
    }
   ],
   "source": [
    "s"
   ]
  },
  {
   "cell_type": "code",
   "execution_count": 9,
   "metadata": {},
   "outputs": [],
   "source": [
    "a = env.action_space.sample()"
   ]
  },
  {
   "cell_type": "code",
   "execution_count": 10,
   "metadata": {},
   "outputs": [
    {
     "data": {
      "text/plain": [
       "int"
      ]
     },
     "execution_count": 10,
     "metadata": {},
     "output_type": "execute_result"
    }
   ],
   "source": [
    "type(a)"
   ]
  },
  {
   "cell_type": "code",
   "execution_count": 11,
   "metadata": {},
   "outputs": [
    {
     "data": {
      "text/plain": [
       "Discrete(4)"
      ]
     },
     "execution_count": 11,
     "metadata": {},
     "output_type": "execute_result"
    }
   ],
   "source": [
    "env.action_space"
   ]
  },
  {
   "cell_type": "code",
   "execution_count": 12,
   "metadata": {},
   "outputs": [
    {
     "data": {
      "text/plain": [
       "2"
      ]
     },
     "execution_count": 12,
     "metadata": {},
     "output_type": "execute_result"
    }
   ],
   "source": [
    "a"
   ]
  },
  {
   "cell_type": "code",
   "execution_count": 13,
   "metadata": {},
   "outputs": [
    {
     "data": {
      "text/plain": [
       "Discrete(4)"
      ]
     },
     "execution_count": 13,
     "metadata": {},
     "output_type": "execute_result"
    }
   ],
   "source": [
    "env.action_space"
   ]
  },
  {
   "cell_type": "code",
   "execution_count": 14,
   "metadata": {},
   "outputs": [],
   "source": [
    "def examine(env):\n",
    "    print(\"State space: \", env.observation_space, type(env.observation_space))\n",
    "    print(\"Action space: \", env.action_space, type(env.action_space))\n",
    "    s = env.observation_space.sample()\n",
    "    a = env.action_space.sample()\n",
    "    print(f\"state: {s}\\taction: {a}\")\n",
    "    try:\n",
    "        print(\"State space dims: \", env.observation_space.n)\n",
    "        print(\"Action space dims: \", env.action_space.n)\n",
    "    except:\n",
    "        print(\"Unable to get state/action space dims\")\n",
    "\n",
    "    "
   ]
  },
  {
   "cell_type": "code",
   "execution_count": 15,
   "metadata": {},
   "outputs": [
    {
     "name": "stdout",
     "output_type": "stream",
     "text": [
      "State space:  Box(96, 96, 3) <class 'gym.spaces.box.Box'>\n",
      "Action space:  Box(3,) <class 'gym.spaces.box.Box'>\n",
      "state: [[[237 255 212]\n",
      "  [162 215 251]\n",
      "  [198 188 110]\n",
      "  ...\n",
      "  [228 161 155]\n",
      "  [ 54 155  29]\n",
      "  [138  72  80]]\n",
      "\n",
      " [[219 193 168]\n",
      "  [139  51 165]\n",
      "  [166  25 209]\n",
      "  ...\n",
      "  [100 212 213]\n",
      "  [  2 246 213]\n",
      "  [ 37 154 113]]\n",
      "\n",
      " [[ 52 121  23]\n",
      "  [234  63  44]\n",
      "  [ 95 117 193]\n",
      "  ...\n",
      "  [ 57 165 133]\n",
      "  [217  78 253]\n",
      "  [ 59 122 252]]\n",
      "\n",
      " ...\n",
      "\n",
      " [[105  95  90]\n",
      "  [132  98  53]\n",
      "  [128  41  85]\n",
      "  ...\n",
      "  [ 42 115  67]\n",
      "  [ 87 179 239]\n",
      "  [100 210  23]]\n",
      "\n",
      " [[ 89  24 224]\n",
      "  [105 251 121]\n",
      "  [ 85 228 120]\n",
      "  ...\n",
      "  [103 191 100]\n",
      "  [ 12  19 138]\n",
      "  [ 98 102 144]]\n",
      "\n",
      " [[ 88 196 213]\n",
      "  [102   7  18]\n",
      "  [119 237 212]\n",
      "  ...\n",
      "  [ 12 208 129]\n",
      "  [182 124 194]\n",
      "  [ 64  44  67]]]\taction: [0.18002348 0.31887165 0.48050064]\n",
      "Unable to get state/action space dims\n"
     ]
    }
   ],
   "source": [
    "env = gym.make(\"CarRacing-v0\")\n",
    "examine(env)"
   ]
  },
  {
   "cell_type": "code",
   "execution_count": 16,
   "metadata": {},
   "outputs": [
    {
     "name": "stdout",
     "output_type": "stream",
     "text": [
      "State space:  Box(24,) <class 'gym.spaces.box.Box'>\n",
      "Action space:  Box(4,) <class 'gym.spaces.box.Box'>\n",
      "state: [-0.21117371 -0.9824768  -0.59503144  0.40635312 -0.612923   -0.00929004\n",
      "  0.96289283 -1.5220265   1.4388348   1.0079964   2.1168385   2.0617945\n",
      " -0.6870492  -0.54920924  0.04122622 -0.36319357  1.0613993  -0.59297514\n",
      "  1.6016482  -0.211201   -0.38527086 -0.5777732   0.544194    0.5871252 ]\taction: [-0.4605148  -0.36742088  0.05870705  0.3278889 ]\n",
      "Unable to get state/action space dims\n"
     ]
    }
   ],
   "source": [
    "examine(gym.make(\"BipedalWalker-v2\"))"
   ]
  },
  {
   "cell_type": "code",
   "execution_count": 17,
   "metadata": {},
   "outputs": [
    {
     "name": "stdout",
     "output_type": "stream",
     "text": [
      "State space:  Discrete(1) <class 'gym.spaces.discrete.Discrete'>\n",
      "Action space:  Discrete(38) <class 'gym.spaces.discrete.Discrete'>\n",
      "state: 0\taction: 9\n",
      "State space dims:  1\n",
      "Action space dims:  38\n"
     ]
    }
   ],
   "source": [
    "examine(gym.make(\"Roulette-v0\"))"
   ]
  },
  {
   "cell_type": "code",
   "execution_count": 18,
   "metadata": {},
   "outputs": [],
   "source": [
    "env = gym.make(\"CarRacing-v0\")"
   ]
  },
  {
   "cell_type": "code",
   "execution_count": 19,
   "metadata": {},
   "outputs": [],
   "source": [
    "state_space = env.observation_space"
   ]
  },
  {
   "cell_type": "code",
   "execution_count": 20,
   "metadata": {},
   "outputs": [
    {
     "data": {
      "text/plain": [
       "(96, 96, 3)"
      ]
     },
     "execution_count": 20,
     "metadata": {},
     "output_type": "execute_result"
    }
   ],
   "source": [
    "state_space.shape"
   ]
  },
  {
   "cell_type": "code",
   "execution_count": 21,
   "metadata": {},
   "outputs": [],
   "source": [
    "env = gym.make(\"Roulette-v0\")"
   ]
  },
  {
   "cell_type": "code",
   "execution_count": 22,
   "metadata": {},
   "outputs": [],
   "source": [
    "state_space = env.observation_space"
   ]
  },
  {
   "cell_type": "code",
   "execution_count": 23,
   "metadata": {},
   "outputs": [
    {
     "data": {
      "text/plain": [
       "()"
      ]
     },
     "execution_count": 23,
     "metadata": {},
     "output_type": "execute_result"
    }
   ],
   "source": [
    "state_space.shape"
   ]
  },
  {
   "cell_type": "code",
   "execution_count": 24,
   "metadata": {},
   "outputs": [
    {
     "data": {
      "text/plain": [
       "1"
      ]
     },
     "execution_count": 24,
     "metadata": {},
     "output_type": "execute_result"
    }
   ],
   "source": [
    "state_space.n"
   ]
  },
  {
   "cell_type": "code",
   "execution_count": 25,
   "metadata": {},
   "outputs": [],
   "source": [
    "tp = [(0, 0.7), (1, 0.1), (2, 0.2)]"
   ]
  },
  {
   "cell_type": "code",
   "execution_count": 30,
   "metadata": {},
   "outputs": [],
   "source": [
    "a, b = list(zip(*tp))"
   ]
  },
  {
   "cell_type": "code",
   "execution_count": 31,
   "metadata": {},
   "outputs": [
    {
     "data": {
      "text/plain": [
       "(0, 1, 2)"
      ]
     },
     "execution_count": 31,
     "metadata": {},
     "output_type": "execute_result"
    }
   ],
   "source": [
    "a"
   ]
  },
  {
   "cell_type": "code",
   "execution_count": 32,
   "metadata": {},
   "outputs": [
    {
     "data": {
      "text/plain": [
       "(0.7, 0.1, 0.2)"
      ]
     },
     "execution_count": 32,
     "metadata": {},
     "output_type": "execute_result"
    }
   ],
   "source": [
    "b"
   ]
  },
  {
   "cell_type": "code",
   "execution_count": 34,
   "metadata": {},
   "outputs": [],
   "source": [
    "import numpy as np"
   ]
  },
  {
   "cell_type": "code",
   "execution_count": 35,
   "metadata": {},
   "outputs": [
    {
     "data": {
      "text/plain": [
       "2"
      ]
     },
     "execution_count": 35,
     "metadata": {},
     "output_type": "execute_result"
    }
   ],
   "source": [
    "np.random.choice(a, p=b)"
   ]
  },
  {
   "cell_type": "code",
   "execution_count": 36,
   "metadata": {},
   "outputs": [],
   "source": [
    "choices = []\n",
    "for _ in range(1000):\n",
    "    choices.append(np.random.choice(a, p=b))"
   ]
  },
  {
   "cell_type": "code",
   "execution_count": 37,
   "metadata": {},
   "outputs": [],
   "source": [
    "from collections import Counter"
   ]
  },
  {
   "cell_type": "code",
   "execution_count": 40,
   "metadata": {},
   "outputs": [
    {
     "data": {
      "text/plain": [
       "[(0, 688), (2, 215), (1, 97)]"
      ]
     },
     "execution_count": 40,
     "metadata": {},
     "output_type": "execute_result"
    }
   ],
   "source": [
    "Counter(choices).most_common()"
   ]
  },
  {
   "cell_type": "code",
   "execution_count": null,
   "metadata": {},
   "outputs": [],
   "source": []
  },
  {
   "cell_type": "code",
   "execution_count": null,
   "metadata": {},
   "outputs": [],
   "source": []
  },
  {
   "cell_type": "code",
   "execution_count": null,
   "metadata": {},
   "outputs": [],
   "source": []
  },
  {
   "cell_type": "code",
   "execution_count": null,
   "metadata": {},
   "outputs": [],
   "source": []
  },
  {
   "cell_type": "code",
   "execution_count": null,
   "metadata": {},
   "outputs": [],
   "source": []
  },
  {
   "cell_type": "code",
   "execution_count": null,
   "metadata": {},
   "outputs": [],
   "source": []
  },
  {
   "cell_type": "code",
   "execution_count": null,
   "metadata": {},
   "outputs": [],
   "source": []
  },
  {
   "cell_type": "code",
   "execution_count": null,
   "metadata": {},
   "outputs": [],
   "source": []
  },
  {
   "cell_type": "code",
   "execution_count": null,
   "metadata": {},
   "outputs": [],
   "source": []
  }
 ],
 "metadata": {
  "kernelspec": {
   "display_name": "Python 3.7.3 64-bit ('ai': venv)",
   "language": "python",
   "name": "python37364bitaivenv9fadff73572344b6852c5ef1bd16183a"
  },
  "language_info": {
   "codemirror_mode": {
    "name": "ipython",
    "version": 3
   },
   "file_extension": ".py",
   "mimetype": "text/x-python",
   "name": "python",
   "nbconvert_exporter": "python",
   "pygments_lexer": "ipython3",
   "version": "3.7.3"
  }
 },
 "nbformat": 4,
 "nbformat_minor": 2
}
