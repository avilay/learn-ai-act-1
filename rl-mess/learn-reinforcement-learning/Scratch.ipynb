{
 "cells": [
  {
   "cell_type": "code",
   "execution_count": 15,
   "metadata": {},
   "outputs": [],
   "source": [
    "import gym\n",
    "import numpy as np"
   ]
  },
  {
   "cell_type": "code",
   "execution_count": 16,
   "metadata": {},
   "outputs": [],
   "source": [
    "np.set_printoptions(precision=3)"
   ]
  },
  {
   "cell_type": "code",
   "execution_count": 9,
   "metadata": {},
   "outputs": [],
   "source": [
    "env = gym.make(\"CartPole-v1\")"
   ]
  },
  {
   "cell_type": "code",
   "execution_count": 11,
   "metadata": {},
   "outputs": [
    {
     "data": {
      "text/plain": [
       "Box(4,)"
      ]
     },
     "execution_count": 11,
     "metadata": {},
     "output_type": "execute_result"
    }
   ],
   "source": [
    "env.observation_space"
   ]
  },
  {
   "cell_type": "code",
   "execution_count": 12,
   "metadata": {},
   "outputs": [
    {
     "data": {
      "text/plain": [
       "Discrete(2)"
      ]
     },
     "execution_count": 12,
     "metadata": {},
     "output_type": "execute_result"
    }
   ],
   "source": [
    "env.action_space"
   ]
  },
  {
   "cell_type": "code",
   "execution_count": 13,
   "metadata": {},
   "outputs": [],
   "source": [
    "s = env.reset()"
   ]
  },
  {
   "cell_type": "code",
   "execution_count": 38,
   "metadata": {},
   "outputs": [],
   "source": [
    "s = env.reset()\n",
    "buffer = []\n",
    "done = False\n",
    "while not done:\n",
    "    a = env.action_space.sample()\n",
    "    s_, r, done, _ = env.step(a)\n",
    "    buffer.append((s, a, r, s_, done))"
   ]
  },
  {
   "cell_type": "code",
   "execution_count": 39,
   "metadata": {},
   "outputs": [
    {
     "data": {
      "text/plain": [
       "[(array([ 0.002, -0.034,  0.008, -0.   ]),\n",
       "  1,\n",
       "  1.0,\n",
       "  array([ 0.001,  0.161,  0.008, -0.29 ]),\n",
       "  False),\n",
       " (array([ 0.002, -0.034,  0.008, -0.   ]),\n",
       "  0,\n",
       "  1.0,\n",
       "  array([ 0.004, -0.035,  0.002,  0.005]),\n",
       "  False),\n",
       " (array([ 0.002, -0.034,  0.008, -0.   ]),\n",
       "  1,\n",
       "  1.0,\n",
       "  array([ 0.003,  0.16 ,  0.003, -0.287]),\n",
       "  False),\n",
       " (array([ 0.002, -0.034,  0.008, -0.   ]),\n",
       "  0,\n",
       "  1.0,\n",
       "  array([ 0.007, -0.035, -0.003,  0.006]),\n",
       "  False),\n",
       " (array([ 0.002, -0.034,  0.008, -0.   ]),\n",
       "  1,\n",
       "  1.0,\n",
       "  array([ 0.006,  0.161, -0.003, -0.287]),\n",
       "  False),\n",
       " (array([ 0.002, -0.034,  0.008, -0.   ]),\n",
       "  0,\n",
       "  1.0,\n",
       "  array([ 0.009, -0.035, -0.009,  0.004]),\n",
       "  False),\n",
       " (array([ 0.002, -0.034,  0.008, -0.   ]),\n",
       "  1,\n",
       "  1.0,\n",
       "  array([ 0.008,  0.161, -0.009, -0.291]),\n",
       "  False),\n",
       " (array([ 0.002, -0.034,  0.008, -0.   ]),\n",
       "  1,\n",
       "  1.0,\n",
       "  array([ 0.012,  0.356, -0.015, -0.587]),\n",
       "  False),\n",
       " (array([ 0.002, -0.034,  0.008, -0.   ]),\n",
       "  1,\n",
       "  1.0,\n",
       "  array([ 0.019,  0.551, -0.026, -0.884]),\n",
       "  False),\n",
       " (array([ 0.002, -0.034,  0.008, -0.   ]),\n",
       "  0,\n",
       "  1.0,\n",
       "  array([ 0.03 ,  0.356, -0.044, -0.6  ]),\n",
       "  False),\n",
       " (array([ 0.002, -0.034,  0.008, -0.   ]),\n",
       "  0,\n",
       "  1.0,\n",
       "  array([ 0.037,  0.162, -0.056, -0.321]),\n",
       "  False),\n",
       " (array([ 0.002, -0.034,  0.008, -0.   ]),\n",
       "  0,\n",
       "  1.0,\n",
       "  array([ 0.04 , -0.032, -0.062, -0.046]),\n",
       "  False),\n",
       " (array([ 0.002, -0.034,  0.008, -0.   ]),\n",
       "  1,\n",
       "  1.0,\n",
       "  array([ 0.039,  0.164, -0.063, -0.358]),\n",
       "  False),\n",
       " (array([ 0.002, -0.034,  0.008, -0.   ]),\n",
       "  0,\n",
       "  1.0,\n",
       "  array([ 0.043, -0.03 , -0.071, -0.086]),\n",
       "  False),\n",
       " (array([ 0.002, -0.034,  0.008, -0.   ]),\n",
       "  1,\n",
       "  1.0,\n",
       "  array([ 0.042,  0.166, -0.072, -0.4  ]),\n",
       "  False),\n",
       " (array([ 0.002, -0.034,  0.008, -0.   ]),\n",
       "  1,\n",
       "  1.0,\n",
       "  array([ 0.045,  0.362, -0.08 , -0.715]),\n",
       "  False),\n",
       " (array([ 0.002, -0.034,  0.008, -0.   ]),\n",
       "  0,\n",
       "  1.0,\n",
       "  array([ 0.053,  0.168, -0.095, -0.448]),\n",
       "  False),\n",
       " (array([ 0.002, -0.034,  0.008, -0.   ]),\n",
       "  0,\n",
       "  1.0,\n",
       "  array([ 0.056, -0.026, -0.103, -0.187]),\n",
       "  False),\n",
       " (array([ 0.002, -0.034,  0.008, -0.   ]),\n",
       "  0,\n",
       "  1.0,\n",
       "  array([ 0.056, -0.219, -0.107,  0.071]),\n",
       "  False),\n",
       " (array([ 0.002, -0.034,  0.008, -0.   ]),\n",
       "  0,\n",
       "  1.0,\n",
       "  array([ 0.051, -0.413, -0.106,  0.328]),\n",
       "  False),\n",
       " (array([ 0.002, -0.034,  0.008, -0.   ]),\n",
       "  1,\n",
       "  1.0,\n",
       "  array([ 0.043, -0.216, -0.099,  0.004]),\n",
       "  False),\n",
       " (array([ 0.002, -0.034,  0.008, -0.   ]),\n",
       "  0,\n",
       "  1.0,\n",
       "  array([ 0.039, -0.41 , -0.099,  0.264]),\n",
       "  False),\n",
       " (array([ 0.002, -0.034,  0.008, -0.   ]),\n",
       "  1,\n",
       "  1.0,\n",
       "  array([ 0.03 , -0.214, -0.094, -0.058]),\n",
       "  False),\n",
       " (array([ 0.002, -0.034,  0.008, -0.   ]),\n",
       "  1,\n",
       "  1.0,\n",
       "  array([ 0.026, -0.017, -0.095, -0.379]),\n",
       "  False),\n",
       " (array([ 0.002, -0.034,  0.008, -0.   ]),\n",
       "  0,\n",
       "  1.0,\n",
       "  array([ 0.026, -0.211, -0.103, -0.118]),\n",
       "  False),\n",
       " (array([ 0.002, -0.034,  0.008, -0.   ]),\n",
       "  0,\n",
       "  1.0,\n",
       "  array([ 0.022, -0.404, -0.105,  0.141]),\n",
       "  False),\n",
       " (array([ 0.002, -0.034,  0.008, -0.   ]),\n",
       "  0,\n",
       "  1.0,\n",
       "  array([ 0.013, -0.598, -0.102,  0.399]),\n",
       "  False),\n",
       " (array([ 0.002, -0.034,  0.008, -0.   ]),\n",
       "  1,\n",
       "  1.0,\n",
       "  array([ 0.001, -0.402, -0.094,  0.076]),\n",
       "  False),\n",
       " (array([ 0.002, -0.034,  0.008, -0.   ]),\n",
       "  1,\n",
       "  1.0,\n",
       "  array([-0.007, -0.205, -0.093, -0.245]),\n",
       "  False),\n",
       " (array([ 0.002, -0.034,  0.008, -0.   ]),\n",
       "  1,\n",
       "  1.0,\n",
       "  array([-0.011, -0.009, -0.098, -0.565]),\n",
       "  False),\n",
       " (array([ 0.002, -0.034,  0.008, -0.   ]),\n",
       "  1,\n",
       "  1.0,\n",
       "  array([-0.011,  0.187, -0.109, -0.887]),\n",
       "  False),\n",
       " (array([ 0.002, -0.034,  0.008, -0.   ]),\n",
       "  1,\n",
       "  1.0,\n",
       "  array([-0.007,  0.384, -0.127, -1.212]),\n",
       "  False),\n",
       " (array([ 0.002, -0.034,  0.008, -0.   ]),\n",
       "  0,\n",
       "  1.0,\n",
       "  array([ 5.793e-04,  1.906e-01, -1.508e-01, -9.615e-01]),\n",
       "  False),\n",
       " (array([ 0.002, -0.034,  0.008, -0.   ]),\n",
       "  1,\n",
       "  1.0,\n",
       "  array([ 0.004,  0.387, -0.17 , -1.298]),\n",
       "  False),\n",
       " (array([ 0.002, -0.034,  0.008, -0.   ]),\n",
       "  0,\n",
       "  1.0,\n",
       "  array([ 0.012,  0.195, -0.196, -1.063]),\n",
       "  False),\n",
       " (array([ 0.002, -0.034,  0.008, -0.   ]),\n",
       "  0,\n",
       "  1.0,\n",
       "  array([ 0.016,  0.003, -0.217, -0.837]),\n",
       "  True)]"
      ]
     },
     "execution_count": 39,
     "metadata": {},
     "output_type": "execute_result"
    }
   ],
   "source": [
    "buffer"
   ]
  },
  {
   "cell_type": "code",
   "execution_count": 8,
   "metadata": {},
   "outputs": [
    {
     "data": {
      "text/plain": [
       "(0, 0.0, False)"
      ]
     },
     "execution_count": 8,
     "metadata": {},
     "output_type": "execute_result"
    }
   ],
   "source": [
    "\n",
    "s_, r, done"
   ]
  },
  {
   "cell_type": "code",
   "execution_count": null,
   "metadata": {},
   "outputs": [],
   "source": []
  }
 ],
 "metadata": {
  "kernelspec": {
   "display_name": "Python 3.7.3 64-bit ('ai': venv)",
   "language": "python",
   "name": "python37364bitaivenv9fadff73572344b6852c5ef1bd16183a"
  },
  "language_info": {
   "codemirror_mode": {
    "name": "ipython",
    "version": 3
   },
   "file_extension": ".py",
   "mimetype": "text/x-python",
   "name": "python",
   "nbconvert_exporter": "python",
   "pygments_lexer": "ipython3",
   "version": "3.7.3"
  }
 },
 "nbformat": 4,
 "nbformat_minor": 4
}
