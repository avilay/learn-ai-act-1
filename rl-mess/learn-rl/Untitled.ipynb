{
 "cells": [
  {
   "cell_type": "code",
   "execution_count": 1,
   "metadata": {},
   "outputs": [],
   "source": [
    "from rl.tests.frozen_lake_policy import build_best_policy\n",
    "from rl.valfuncs.model_free import build_replay_buffer\n",
    "import gym\n",
    "import tensorflow as tf\n",
    "import os.path as path\n",
    "from rl.valfuncs.hyperparams import Hyperparams\n",
    "from tensorflow.keras.layers import Input, Dense\n",
    "import numpy as np\n",
    "from collections import defaultdict\n",
    "from scratch_tf import *"
   ]
  },
  {
   "cell_type": "code",
   "execution_count": null,
   "metadata": {},
   "outputs": [],
   "source": [
    "fl = gym.make(\"FrozenLake-v0\")\n",
    "policy = build_best_policy(fl)\n",
    "ds = gen_dataset(fl, policy, 1000, 1.0)"
   ]
  },
  {
   "cell_type": "code",
   "execution_count": null,
   "metadata": {},
   "outputs": [],
   "source": [
    "for x, y in ds:\n",
    "    s = tf.where(tf.equal(x, 1))[0,0].numpy()\n",
    "    y = y[0].numpy()\n",
    "    print(s, y)"
   ]
  },
  {
   "cell_type": "code",
   "execution_count": null,
   "metadata": {},
   "outputs": [],
   "source": [
    "print_state_stats(ds)"
   ]
  },
  {
   "cell_type": "code",
   "execution_count": null,
   "metadata": {},
   "outputs": [],
   "source": [
    "run_id = \"little-firefly-2047\"\n",
    "model_file = path.expanduser(f\"~/mldata/tblogs/frozen-lake/{run_id}/model.h5\")\n",
    "model = tf.keras.models.load_model(model_file)"
   ]
  },
  {
   "cell_type": "code",
   "execution_count": null,
   "metadata": {},
   "outputs": [],
   "source": [
    "for layer in model.layers:\n",
    "    print(layer.get_weights())"
   ]
  },
  {
   "cell_type": "code",
   "execution_count": 2,
   "metadata": {},
   "outputs": [
    {
     "name": "stdout",
     "output_type": "stream",
     "text": [
      "\n",
      "\n",
      "Test Metrics -\n",
      "1/1 [==============================] - 0s 53ms/step - loss: 0.0084 - rmse: 0.0916\n",
      "[0] exp_sval=0.017 pred_sval=0.049\n",
      "[1] exp_sval=0.012 pred_sval=0.030\n",
      "[2] exp_sval=0.028 pred_sval=0.068\n",
      "[3] exp_sval=0.012 pred_sval=0.021\n",
      "[4] exp_sval=0.027 pred_sval=0.068\n",
      "[6] exp_sval=0.068 pred_sval=0.127\n",
      "[8] exp_sval=0.064 pred_sval=0.146\n",
      "[9] exp_sval=0.185 pred_sval=0.346\n",
      "[10] exp_sval=0.228 pred_sval=0.353\n",
      "[13] exp_sval=0.325 pred_sval=0.493\n",
      "[14] exp_sval=0.574 pred_sval=0.660\n"
     ]
    }
   ],
   "source": [
    "tp = test(\"little-firefly-2047\")"
   ]
  },
  {
   "cell_type": "code",
   "execution_count": 4,
   "metadata": {},
   "outputs": [
    {
     "data": {
      "text/plain": [
       "0.008394668810069561"
      ]
     },
     "execution_count": 4,
     "metadata": {},
     "output_type": "execute_result"
    }
   ],
   "source": [
    "tp[0]"
   ]
  },
  {
   "cell_type": "code",
   "execution_count": 5,
   "metadata": {},
   "outputs": [
    {
     "data": {
      "text/plain": [
       "0.09162243"
      ]
     },
     "execution_count": 5,
     "metadata": {},
     "output_type": "execute_result"
    }
   ],
   "source": [
    "tp[1]"
   ]
  },
  {
   "cell_type": "code",
   "execution_count": 7,
   "metadata": {},
   "outputs": [
    {
     "name": "stdout",
     "output_type": "stream",
     "text": [
      "Epoch 1/2\n",
      "3/3 - 1s - loss: 0.3491 - rmse: 0.5812 - val_loss: 0.0000e+00 - val_rmse: 0.0000e+00\n",
      "Epoch 2/2\n",
      "3/3 - 0s - loss: 0.3241 - rmse: 0.5774 - val_loss: 0.1417 - val_rmse: 0.3764\n"
     ]
    }
   ],
   "source": [
    "hparams = Hyperparams(\n",
    "    batch_size=32,\n",
    "    epochs=2,\n",
    "    lr=0.001,\n",
    "    num_train_steps=100,\n",
    "    num_val_steps=10,\n",
    "    activation=\"tanh\",\n",
    "    regularizer=0,\n",
    "    discount=1.0,\n",
    ")\n",
    "\n",
    "fl = gym.make(\"FrozenLake-v0\")\n",
    "policy = build_best_policy(fl)\n",
    "train_ds = gen_dataset(fl, policy, hparams.num_train_steps, hparams.discount)\n",
    "val_ds = gen_dataset(fl, policy, hparams.num_val_steps, hparams.discount)\n",
    "model = build_model(fl.observation_space.n, hparams.regularizer)\n",
    "optim = tf.keras.optimizers.Adam(learning_rate=hparams.lr)\n",
    "rmse = tf.metrics.RootMeanSquaredError(\"rmse\")\n",
    "model.compile(optimizer=optim, loss=\"mse\", metrics=[rmse])\n",
    "train_ds = train_ds.shuffle(hparams.num_train_steps).batch(hparams.batch_size)\n",
    "val_ds = val_ds.batch(hparams.num_val_steps)\n",
    "history = model.fit(train_ds, validation_data=val_ds, epochs=hparams.epochs, verbose=2)"
   ]
  },
  {
   "cell_type": "code",
   "execution_count": 11,
   "metadata": {},
   "outputs": [
    {
     "data": {
      "text/plain": [
       "{'loss': [0.3377824658932893, 0.3334127716396166],\n",
       " 'rmse': [0.5811906, 0.5774191],\n",
       " 'val_loss': [0.14558681845664978, 0.14167802035808563],\n",
       " 'val_rmse': [0.38155842, 0.3764014]}"
      ]
     },
     "execution_count": 11,
     "metadata": {},
     "output_type": "execute_result"
    }
   ],
   "source": [
    "history.history"
   ]
  },
  {
   "cell_type": "code",
   "execution_count": 12,
   "metadata": {},
   "outputs": [
    {
     "data": {
      "text/plain": [
       "0.14167802035808563"
      ]
     },
     "execution_count": 12,
     "metadata": {},
     "output_type": "execute_result"
    }
   ],
   "source": [
    "np.min(history.history[\"val_loss\"])"
   ]
  },
  {
   "cell_type": "code",
   "execution_count": 13,
   "metadata": {},
   "outputs": [
    {
     "data": {
      "text/plain": [
       "1"
      ]
     },
     "execution_count": 13,
     "metadata": {},
     "output_type": "execute_result"
    }
   ],
   "source": [
    "np.argmin(history.history[\"val_loss\"])"
   ]
  },
  {
   "cell_type": "code",
   "execution_count": null,
   "metadata": {},
   "outputs": [],
   "source": []
  },
  {
   "cell_type": "code",
   "execution_count": null,
   "metadata": {},
   "outputs": [],
   "source": []
  },
  {
   "cell_type": "code",
   "execution_count": null,
   "metadata": {},
   "outputs": [],
   "source": []
  },
  {
   "cell_type": "code",
   "execution_count": null,
   "metadata": {},
   "outputs": [],
   "source": []
  },
  {
   "cell_type": "code",
   "execution_count": null,
   "metadata": {},
   "outputs": [],
   "source": []
  },
  {
   "cell_type": "code",
   "execution_count": null,
   "metadata": {},
   "outputs": [],
   "source": []
  }
 ],
 "metadata": {
  "kernelspec": {
   "display_name": "Python 3",
   "language": "python",
   "name": "python3"
  },
  "language_info": {
   "codemirror_mode": {
    "name": "ipython",
    "version": 3
   },
   "file_extension": ".py",
   "mimetype": "text/x-python",
   "name": "python",
   "nbconvert_exporter": "python",
   "pygments_lexer": "ipython3",
   "version": "3.7.3"
  }
 },
 "nbformat": 4,
 "nbformat_minor": 2
}
