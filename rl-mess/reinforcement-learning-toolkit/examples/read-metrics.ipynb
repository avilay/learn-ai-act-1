{
 "cells": [
  {
   "cell_type": "code",
   "execution_count": 6,
   "metadata": {},
   "outputs": [],
   "source": [
    "from collections import namedtuple\n",
    "import sqlite3\n",
    "import pickle"
   ]
  },
  {
   "cell_type": "code",
   "execution_count": 21,
   "metadata": {},
   "outputs": [],
   "source": [
    "Metric = namedtuple('Metric', ['run_id', 'context_id', 'timestamp', 'iter_num', 'svals', 'qvals', 'pidist'])\n",
    "\n",
    "db = '/Users/avilay/temp/rltk.db'\n",
    "conn = sqlite3.connect(db)\n",
    "sql = '''\n",
    "SELECT run_id, context_id, timestamp, iter_num, svals, qvals, pidist\n",
    "FROM planning_metrics\n",
    "WHERE run_id = ?\n",
    "AND timestamp >= ?\n",
    "AND timestamp <= ?\n",
    "'''\n",
    "params = ['little-feather-7738', '2018-12-25T23:23:46.534310', '2018-12-25T23:23:46.569909']\n",
    "cur = conn.execute(sql, params)\n",
    "\n",
    "metrics = []\n",
    "for row in cur:\n",
    "    run_id = row[0]\n",
    "    context_id = row[1]\n",
    "    timestamp = row[2]\n",
    "    iter_num = row[3]\n",
    "    svals = pickle.loads(row[4])\n",
    "    qvals = pickle.loads(row[5])\n",
    "    pidist = pickle.loads(row[6])\n",
    "    metric = Metric(run_id, context_id, timestamp, iter_num, svals, qvals, pidist)\n",
    "    metrics.append(metric)"
   ]
  },
  {
   "cell_type": "code",
   "execution_count": null,
   "metadata": {},
   "outputs": [],
   "source": []
  }
 ],
 "metadata": {
  "kernelspec": {
   "display_name": "Python 3",
   "language": "python",
   "name": "python3"
  },
  "language_info": {
   "codemirror_mode": {
    "name": "ipython",
    "version": 3
   },
   "file_extension": ".py",
   "mimetype": "text/x-python",
   "name": "python",
   "nbconvert_exporter": "python",
   "pygments_lexer": "ipython3",
   "version": "3.7.0"
  }
 },
 "nbformat": 4,
 "nbformat_minor": 2
}
