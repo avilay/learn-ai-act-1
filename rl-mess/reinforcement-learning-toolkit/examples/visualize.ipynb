{
 "cells": [
  {
   "cell_type": "code",
   "execution_count": 1,
   "metadata": {},
   "outputs": [],
   "source": [
    "from typing import Sequence, Tuple\n",
    "from pprint import pprint\n",
    "from rltk.core import State, Action, Reward\n",
    "from rltk.gridworld import GridVisualizer, GridMDP\n",
    "from rltk.planning import Planning, SqlitePlanningMetricWriter, PlanningMetric\n",
    "import rltk.metrics as metrics\n",
    "import sqlite3\n",
    "import pickle"
   ]
  },
  {
   "cell_type": "code",
   "execution_count": 2,
   "metadata": {},
   "outputs": [],
   "source": [
    "class FrozenLake(GridMDP):\n",
    "    def __init__(self, nrows, ncols):\n",
    "        super().__init__(nrows, ncols)\n",
    "\n",
    "    def reward(self, state: State, action: Action, next_state: State) -> Reward:\n",
    "        # reward does not depend on state or action, but only on next_state\n",
    "        return 1. if self.is_goal(next_state) else 0.\n",
    "\n",
    "    def dist(self, state: State, action: Action) -> Sequence[Tuple[State, float]]:\n",
    "        if action == 'up' or action == 'down':\n",
    "            stochastic_actions = ['left', 'right']\n",
    "        else:\n",
    "            stochastic_actions = ['up', 'down']\n",
    "\n",
    "        s: Cell = self.state2cell(state)\n",
    "        probs: List[Tuple[State, float]] = []\n",
    "        s_: Cell = self.next_cell(s, action)\n",
    "        probs.append((self.cell2state(s_), 0.8))\n",
    "        for a in stochastic_actions:\n",
    "            s_ = self.next_cell(s, a)\n",
    "            probs.append((self.cell2state(s_), 0.1))\n",
    "        return probs\n",
    "    \n",
    "fl = FrozenLake(4, 4)\n",
    "fl.goals = {(3,3)}\n",
    "fl.terminals = {(1,1), (1,3), (2,3), (3,0), (3,3)}"
   ]
  },
  {
   "cell_type": "code",
   "execution_count": 3,
   "metadata": {},
   "outputs": [
    {
     "name": "stdout",
     "output_type": "stream",
     "text": [
      "{'(0,0)': 0.3804495149479562,\n",
      " '(0,1)': 0.35888774235577464,\n",
      " '(0,2)': 0.4535942300409378,\n",
      " '(0,3)': 0.35888774235577464,\n",
      " '(1,0)': 0.4359849472017947,\n",
      " '(1,1)': 0.0,\n",
      " '(1,2)': 0.5402700506427809,\n",
      " '(1,3)': 0.0,\n",
      " '(2,0)': 0.551036530625346,\n",
      " '(2,1)': 0.7108303964290363,\n",
      " '(2,2)': 0.7503750703508848,\n",
      " '(2,3)': 0.0,\n",
      " '(3,0)': 0.0,\n",
      " '(3,1)': 0.8245879893949177,\n",
      " '(3,2)': 0.9533337981649121,\n",
      " '(3,3)': 0.0}\n",
      "Metrics saved under run id: cool-mountain-9603\n"
     ]
    }
   ],
   "source": [
    "writer = SqlitePlanningMetricWriter('/Users/avilay/temp/rltk.db')\n",
    "metrics.set_writer(writer)\n",
    "\n",
    "planning = Planning(fl)\n",
    "svals = planning.policy_iteration()\n",
    "pprint(svals)\n",
    "\n",
    "print(f'Metrics saved under run id: {writer.run_id}')\n",
    "writer.close()"
   ]
  },
  {
   "cell_type": "code",
   "execution_count": 4,
   "metadata": {},
   "outputs": [],
   "source": [
    "db = '/Users/avilay/temp/rltk.db'\n",
    "conn = sqlite3.connect(db)\n",
    "sql = '''\n",
    "SELECT run_id, context_id, timestamp, iter_num, svals, qvals, pidist\n",
    "FROM planning_metrics\n",
    "WHERE run_id = ?\n",
    "AND context_id = ?\n",
    "'''\n",
    "params = [writer.run_id, 'policy_iteration']\n",
    "cur = conn.execute(sql, params)\n",
    "\n",
    "metrics = []\n",
    "for row in cur:\n",
    "    run_id = row[0]\n",
    "    context_id = row[1]\n",
    "    timestamp = row[2]\n",
    "    iter_num = row[3]\n",
    "    svals = pickle.loads(row[4])\n",
    "    qvals = pickle.loads(row[5])\n",
    "    pidist = pickle.loads(row[6])\n",
    "    metric = PlanningMetric(context_id=context_id, iter_num=iter_num, svals=svals, qvals=qvals, pidist=pidist)\n",
    "    metrics.append(metric)"
   ]
  },
  {
   "cell_type": "code",
   "execution_count": 7,
   "metadata": {},
   "outputs": [
    {
     "data": {
      "image/png": "[encoded data removed]",
      "text/plain": [
       "<Figure size 432x288 with 1 Axes>"
      ]
     },
     "metadata": {
      "needs_background": "light"
     },
     "output_type": "display_data"
    }
   ],
   "source": [
    "visualizer = GridVisualizer(fl)\n",
    "visualizer.visualize(metrics, sleep_secs=3)"
   ]
  }
 ],
 "metadata": {
  "kernelspec": {
   "display_name": "Python 3",
   "language": "python",
   "name": "python3"
  },
  "language_info": {
   "codemirror_mode": {
    "name": "ipython",
    "version": 3
   },
   "file_extension": ".py",
   "mimetype": "text/x-python",
   "name": "python",
   "nbconvert_exporter": "python",
   "pygments_lexer": "ipython3",
   "version": "3.7.0"
  }
 },
 "nbformat": 4,
 "nbformat_minor": 2
}
